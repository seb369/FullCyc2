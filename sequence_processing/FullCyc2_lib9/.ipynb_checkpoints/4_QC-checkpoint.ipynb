{
 "cells": [
  {
   "cell_type": "markdown",
   "metadata": {},
   "source": [
    "# Description\n",
    "\n",
    "* Quality control on MiSeq run data\n",
    "  * post-merging\n",
    "  * post-demultiplexing"
   ]
  },
  {
   "cell_type": "markdown",
   "metadata": {},
   "source": [
    "# Setting variables"
   ]
  },
  {
   "cell_type": "code",
   "execution_count": 1,
   "metadata": {
    "collapsed": true
   },
   "outputs": [],
   "source": [
    "import os\n",
    "\n",
    "baseDir = '/home/seq_data/fullCyc2/amplicon/515F-806R/final_dataset/library_QC/fullCyc2_lib9'\n",
    "workDir = os.path.join(baseDir, 'QC')\n",
    "seqFile = os.path.join(baseDir, 'pear_merged-fullCyc2_lib9.assembled.dmult.fastq')\n",
    "\n",
    "# number of processors\n",
    "nprocs = 20\n",
    "\n",
    "# max expected error\n",
    "maxee = 1"
   ]
  },
  {
   "cell_type": "markdown",
   "metadata": {},
   "source": [
    "# Init"
   ]
  },
  {
   "cell_type": "code",
   "execution_count": 2,
   "metadata": {
    "collapsed": true
   },
   "outputs": [],
   "source": [
    "import re\n",
    "import pandas as pd"
   ]
  },
  {
   "cell_type": "code",
   "execution_count": 3,
   "metadata": {
    "collapsed": false
   },
   "outputs": [],
   "source": [
    "%load_ext rpy2.ipython\n",
    "#%load_ext pushnote"
   ]
  },
  {
   "cell_type": "code",
   "execution_count": 4,
   "metadata": {
    "collapsed": false
   },
   "outputs": [
    {
     "name": "stderr",
     "output_type": "stream",
     "text": [
      "/home/sam/anaconda3/lib/python3.6/site-packages/rpy2/rinterface/__init__.py:145: RRuntimeWarning: \n",
      "Attaching package: ‘dplyr’\n",
      "\n",
      "\n",
      "  warnings.warn(x, RRuntimeWarning)\n",
      "/home/sam/anaconda3/lib/python3.6/site-packages/rpy2/rinterface/__init__.py:145: RRuntimeWarning: The following objects are masked from ‘package:stats’:\n",
      "\n",
      "    filter, lag\n",
      "\n",
      "\n",
      "  warnings.warn(x, RRuntimeWarning)\n",
      "/home/sam/anaconda3/lib/python3.6/site-packages/rpy2/rinterface/__init__.py:145: RRuntimeWarning: The following objects are masked from ‘package:base’:\n",
      "\n",
      "    intersect, setdiff, setequal, union\n",
      "\n",
      "\n",
      "  warnings.warn(x, RRuntimeWarning)\n",
      "/home/sam/anaconda3/lib/python3.6/site-packages/rpy2/rinterface/__init__.py:145: RRuntimeWarning: \n",
      "Attaching package: ‘gridExtra’\n",
      "\n",
      "\n",
      "  warnings.warn(x, RRuntimeWarning)\n",
      "/home/sam/anaconda3/lib/python3.6/site-packages/rpy2/rinterface/__init__.py:145: RRuntimeWarning: The following object is masked from ‘package:dplyr’:\n",
      "\n",
      "    combine\n",
      "\n",
      "\n",
      "  warnings.warn(x, RRuntimeWarning)\n"
     ]
    }
   ],
   "source": [
    "%%R\n",
    "library(ggplot2)\n",
    "library(dplyr)\n",
    "library(tidyr)\n",
    "library(gridExtra)"
   ]
  },
  {
   "cell_type": "code",
   "execution_count": 5,
   "metadata": {
    "collapsed": false
   },
   "outputs": [
    {
     "name": "stdout",
     "output_type": "stream",
     "text": [
      "/home/seq_data/fullCyc2/amplicon/515F-806R/final_dataset/library_QC/fullCyc2_lib9/QC\n"
     ]
    }
   ],
   "source": [
    "if not os.path.isdir(workDir):\n",
    "    os.makedirs(workDir)\n",
    "%cd $workDir"
   ]
  },
  {
   "cell_type": "code",
   "execution_count": 6,
   "metadata": {
    "collapsed": false
   },
   "outputs": [
    {
     "name": "stdout",
     "output_type": "stream",
     "text": [
      "File exists: /home/seq_data/fullCyc2/amplicon/515F-806R/final_dataset/library_QC/fullCyc2_lib9/pear_merged-fullCyc2_lib9.assembled.dmult.fastq\n"
     ]
    }
   ],
   "source": [
    "# symlinking demult seq file into CQ\n",
    "tmp = os.path.join(baseDir, seqFile)\n",
    "if not os.path.isfile(seqFile):\n",
    "    tmp2 = os.path.split(tmp)[1]\n",
    "    os.symlink(tmp, tmp2)\n",
    "else:\n",
    "    print ('File exists: {}'.format(os.path.join(workDir, seqFile)))"
   ]
  },
  {
   "cell_type": "markdown",
   "metadata": {},
   "source": [
    "# Merged read quality filtering"
   ]
  },
  {
   "cell_type": "markdown",
   "metadata": {},
   "source": [
    "## Discard sequences that exceed max expected error theshold"
   ]
  },
  {
   "cell_type": "code",
   "execution_count": 7,
   "metadata": {
    "collapsed": false
   },
   "outputs": [
    {
     "data": {
      "text/plain": [
       "'pear_merged-fullCyc2_lib9.assembled.dmult_maxee1.fasta'"
      ]
     },
     "execution_count": 7,
     "metadata": {},
     "output_type": "execute_result"
    }
   ],
   "source": [
    "qcFile = os.path.split(seqFile)[1]\n",
    "qcFile = os.path.splitext(qcFile)[0] + '_maxee{}.fasta'.format(maxee)\n",
    "qcFile"
   ]
  },
  {
   "cell_type": "code",
   "execution_count": 8,
   "metadata": {
    "collapsed": true
   },
   "outputs": [],
   "source": [
    "%%bash -s \"$seqFile\" \"$nprocs\" \"$maxee\" \"$qcFile\"\n",
    "\n",
    "mkdir /home/sam/tmp/tmpdir1\n",
    "trap \"rm -r /home/sam/tmp/tmpdir1\" 1 2 3 15\n",
    "split -d -l 2000000 $1 /home/sam/tmp/tmpdir1/Block\n",
    "\n",
    "mkdir /home/sam/tmp/tmpdir2\n",
    "trap \"rm -r /home/sam/tmp/tmpdir2\" 1 2 3 15\n",
    "ls /home/sam/tmp/tmpdir1/Block?? | parallel --gnu -j $2 -k \"usearch -fastq_filter {} -fastq_maxee $3 \\\n",
    "-fastaout /home/sam/tmp/tmpdir2/{#}.fasta >/dev/null 2>&1 && cat /home/sam/tmp/tmpdir2/{#}.fasta\" > $4\n",
    "rm -r /home/sam/tmp/tmpdir2 /home/sam/tmp/tmpdir1"
   ]
  },
  {
   "cell_type": "code",
   "execution_count": 9,
   "metadata": {
    "collapsed": false
   },
   "outputs": [
    {
     "name": "stdout",
     "output_type": "stream",
     "text": [
      "Max expected error cutoff: 1\n",
      "Number of sequence pre-filter: 2270355\n",
      "Number of sequences post-filter: 2234109\n",
      "\n",
      ">MR.A.12C-Con.D1.R1_Frac12_0 orig_name=M01032:468:000000000-AWYDU:1:1101:15853:1919\n",
      "TACGGAGGATGCAAGCGTTATCCGGAATGATTGGGCGTAAAGGGTCCGCAGGTGGCAGTGTAAGTCTGCTGTCAAAGAAT\n",
      "GAGGCTTAACCTCATCAAGGCAGTGGAAACTACACAGCTAGAGTACGGTCGGGGTAGAAGGAATTCCTGGTGTAGCGGTG\n",
      "AAATGCGTAGAGATCAGGAAGAACACCGGTGGCGAAAGCGTTCTGCTAGACCTGTACTGACACTGAGGGACGAAAGCTAG\n",
      "GGGAGCGAATGGG\n",
      ">MR.A.12C-Con.D14.R1_Frac8_2 orig_name=M01032:468:000000000-AWYDU:1:1101:17209:1929\n",
      "TCCGTAGGGTGCGAGCGTTAATCGGAATTACTGGGCGTAAAGCGTGCGCAGGCGGTTTGCTAAGTCCGATGTGAAATCCC\n",
      "CGGGCTCAACCTGGGAACTGCATTGGTGACTGGCAGGCTAGAGTATGGCAGAGGGGGGTAGAATTCCACGTGTAGCAGTG\n"
     ]
    }
   ],
   "source": [
    "%%bash -s \"$seqFile\" \"$nprocs\" \"$maxee\" \"$qcFile\"\n",
    "\n",
    "printf \"Max expected error cutoff: \"\n",
    "echo $3\n",
    "\n",
    "printf \"Number of sequence pre-filter: \"\n",
    "grep -c \"orig_name=\" $1\n",
    "\n",
    "printf \"Number of sequences post-filter: \"\n",
    "grep -c \">\" $4\n",
    "\n",
    "echo '' \n",
    "head -n 8 $4"
   ]
  },
  {
   "cell_type": "markdown",
   "metadata": {},
   "source": [
    "## Remove seqs with 'N' characters"
   ]
  },
  {
   "cell_type": "code",
   "execution_count": 10,
   "metadata": {
    "collapsed": false
   },
   "outputs": [
    {
     "data": {
      "text/plain": [
       "'pear_merged-fullCyc2_lib9.assembled.dmult_maxee1_noN.fasta'"
      ]
     },
     "execution_count": 10,
     "metadata": {},
     "output_type": "execute_result"
    }
   ],
   "source": [
    "qcFile2 = os.path.splitext(qcFile)[0] + '_noN.fasta'\n",
    "qcFile2"
   ]
  },
  {
   "cell_type": "code",
   "execution_count": 11,
   "metadata": {
    "collapsed": false
   },
   "outputs": [
    {
     "name": "stdout",
     "output_type": "stream",
     "text": [
      "Number of sequence pre-filter: 2234109\n",
      "Number of sequences post-filter: 2234109\n"
     ]
    }
   ],
   "source": [
    "%%bash -s \"$qcFile\" \"$qcFile2\"\n",
    "\n",
    "bioawk -c fastx '{if ($seq !~ /N/){print \">\" $name \" \" $4 \"\\n\" $seq}}' $1 > $2\n",
    "\n",
    "printf \"Number of sequence pre-filter: \"\n",
    "grep -c \">\" $1\n",
    "\n",
    "printf \"Number of sequences post-filter: \"\n",
    "grep -c \">\" $2"
   ]
  },
  {
   "cell_type": "markdown",
   "metadata": {},
   "source": [
    "## Alignment-based QC with Mothur"
   ]
  },
  {
   "cell_type": "code",
   "execution_count": 12,
   "metadata": {
    "collapsed": false
   },
   "outputs": [
    {
     "name": "stdout",
     "output_type": "stream",
     "text": [
      "MR.A.12C-Con.D1.R1_Frac12_0\tMR.A.12C-Con.D1.R1_Frac12\n",
      "MR.A.12C-Con.D14.R1_Frac8_2\tMR.A.12C-Con.D14.R1_Frac8\n",
      "MR.F.13C-Ami.D6.R2_Frac14_1\tMR.F.13C-Ami.D6.R2_Frac14\n",
      "MR.F.12C-Con.D3.R1_Frac7_3\tMR.F.12C-Con.D3.R1_Frac7\n",
      "MR.A.12C-Con.D14.R1_Frac20_4\tMR.A.12C-Con.D14.R1_Frac20\n",
      "MR.A.13C-Xyl.D6.R1_Frac9_5\tMR.A.13C-Xyl.D6.R1_Frac9\n",
      "MR.F.13C-Ami.D6.R2_Frac5_7\tMR.F.13C-Ami.D6.R2_Frac5\n",
      "MR.F.13C-Ami.D6.R2_Frac10_9\tMR.F.13C-Ami.D6.R2_Frac10\n",
      "MR.A.12C-Con.D14.R1_Frac27_8\tMR.A.12C-Con.D14.R1_Frac27\n",
      "MR.F.12C-Con.D3.R1_Frac26_11\tMR.F.12C-Con.D3.R1_Frac26\n"
     ]
    }
   ],
   "source": [
    "%%bash -s \"$qcFile2\"\n",
    "# making mothur group file\n",
    "\n",
    "perl -ne 'if(/^>/){ s/>(.+)(_\\d+) .+/$1$2\\t$1/; print;}' $1 > group_file.txt\n",
    "head group_file.txt"
   ]
  },
  {
   "cell_type": "code",
   "execution_count": 13,
   "metadata": {
    "collapsed": false
   },
   "outputs": [
    {
     "name": "stdout",
     "output_type": "stream",
     "text": [
      "MR.A.12C-Con.D1.R1_Frac12_0\tMR.A.12C-Con.D1.R1_Frac12\r\n",
      "MR.A.12C-Con.D14.R1_Frac8_2\tMR.A.12C-Con.D14.R1_Frac8\r\n",
      "MR.F.13C-Ami.D6.R2_Frac14_1\tMR.F.13C-Ami.D6.R2_Frac14\r\n",
      "MR.F.12C-Con.D3.R1_Frac7_3\tMR.F.12C-Con.D3.R1_Frac7\r\n",
      "MR.A.12C-Con.D14.R1_Frac20_4\tMR.A.12C-Con.D14.R1_Frac20\r\n",
      "MR.A.13C-Xyl.D6.R1_Frac9_5\tMR.A.13C-Xyl.D6.R1_Frac9\r\n",
      "MR.F.13C-Ami.D6.R2_Frac5_7\tMR.F.13C-Ami.D6.R2_Frac5\r\n",
      "MR.F.13C-Ami.D6.R2_Frac10_9\tMR.F.13C-Ami.D6.R2_Frac10\r\n",
      "MR.A.12C-Con.D14.R1_Frac27_8\tMR.A.12C-Con.D14.R1_Frac27\r\n",
      "MR.F.12C-Con.D3.R1_Frac26_11\tMR.F.12C-Con.D3.R1_Frac26\r\n",
      "MR.F.13C-Ami.D6.R2_Frac5_10\tMR.F.13C-Ami.D6.R2_Frac5\r\n",
      "MR.F.12C-Con.D6.R2_Frac25_14\tMR.F.12C-Con.D6.R2_Frac25\r\n",
      "MR.F.12C-Con.D3.R1_Frac20_12\tMR.F.12C-Con.D3.R1_Frac20\r\n",
      "MR.A.12C-Con.D14.R1_Frac25_15\tMR.A.12C-Con.D14.R1_Frac25\r\n",
      "MR.A.13C-Cel.D30.R3_Frac25_17\tMR.A.13C-Cel.D30.R3_Frac25\r\n",
      "MR.M.13C-Xyl.D1.R1_Frac22_13\tMR.M.13C-Xyl.D1.R1_Frac22\r\n",
      "MR.F.12C-Con.D3.R1_Frac26_19\tMR.F.12C-Con.D3.R1_Frac26\r\n",
      "MR.F.12C-Con.D6.R2_Frac26_16\tMR.F.12C-Con.D6.R2_Frac26\r\n",
      "MR.F.12C-Con.D6.R2_Frac25_18\tMR.F.12C-Con.D6.R2_Frac25\r\n",
      "MR.F.13C-Ami.D6.R2_Frac13_21\tMR.F.13C-Ami.D6.R2_Frac13\r\n",
      "MR.A.13C-Cel.D30.R3_Frac11_23\tMR.A.13C-Cel.D30.R3_Frac11\r\n",
      "MR.F.12C-Con.D6.R2_Frac26_22\tMR.F.12C-Con.D6.R2_Frac26\r\n",
      "MR.F.12C-Con.D3.R1_Frac13_28\tMR.F.12C-Con.D3.R1_Frac13\r\n",
      "MR.F.12C-Con.D3.R1_Frac27_30\tMR.F.12C-Con.D3.R1_Frac27\r\n",
      "MR.A.13C-Xyl.D6.R1_Frac9_26\tMR.A.13C-Xyl.D6.R1_Frac9\r\n",
      "MR.A.13C-Cel.D30.R3_Frac15_29\tMR.A.13C-Cel.D30.R3_Frac15\r\n",
      "MR.A.12C-Con.D14.R1_Frac20_20\tMR.A.12C-Con.D14.R1_Frac20\r\n",
      "MR.A.13C-Xyl.D6.R1_Frac9_36\tMR.A.13C-Xyl.D6.R1_Frac9\r\n",
      "MR.A.13C-Xyl.D6.R1_Frac5_25\tMR.A.13C-Xyl.D6.R1_Frac5\r\n",
      "MR.A.12C-Con.D14.R1_Frac22_38\tMR.A.12C-Con.D14.R1_Frac22\r\n",
      "MR.A.12C-Con.D14.R1_Frac11_34\tMR.A.12C-Con.D14.R1_Frac11\r\n",
      "MR.A.12C-Con.D14.R1_Frac16_24\tMR.A.12C-Con.D14.R1_Frac16\r\n",
      "MR.F.12C-Con.D3.R1_Frac6_41\tMR.F.12C-Con.D3.R1_Frac6\r\n",
      "MR.F.12C-Con.D3.R1_Frac8_42\tMR.F.12C-Con.D3.R1_Frac8\r\n",
      "MR.F.12C-Con.D3.R1_Frac10_35\tMR.F.12C-Con.D3.R1_Frac10\r\n",
      "MR.A.13C-Xyl.D6.R1_Frac10_44\tMR.A.13C-Xyl.D6.R1_Frac10\r\n",
      "MR.A.13C-Cel.D30.R3_Frac14_43\tMR.A.13C-Cel.D30.R3_Frac14\r\n",
      "MR.F.12C-Con.D3.R1_Frac12_33\tMR.F.12C-Con.D3.R1_Frac12\r\n",
      "MR.A.12C-Con.D1.R1_Frac27_45\tMR.A.12C-Con.D1.R1_Frac27\r\n",
      "MR.A.12C-Con.D14.R1_MC_37\tMR.A.12C-Con.D14.R1_MC\r\n",
      "MR.M.13C-Xyl.D1.R1_Frac7_40\tMR.M.13C-Xyl.D1.R1_Frac7\r\n",
      "MR.A.12C-Con.D1.R1_Frac6_46\tMR.A.12C-Con.D1.R1_Frac6\r\n",
      "MR.F.13C-Ami.D6.R2_Frac20_48\tMR.F.13C-Ami.D6.R2_Frac20\r\n",
      "MR.A.12C-Con.D1.R1_Frac9_39\tMR.A.12C-Con.D1.R1_Frac9\r\n",
      "MR.F.13C-Ami.D6.R2_Frac24_47\tMR.F.13C-Ami.D6.R2_Frac24\r\n",
      "MR.F.12C-Con.D3.R1_Frac27_49\tMR.F.12C-Con.D3.R1_Frac27\r\n",
      "MR.A.12C-Con.D1.R1_Frac27_54\tMR.A.12C-Con.D1.R1_Frac27\r\n",
      "MR.F.13C-Ami.D6.R2_Frac24_57\tMR.F.13C-Ami.D6.R2_Frac24\r\n",
      "MR.F.13C-Ami.D6.R2_Frac5_56\tMR.F.13C-Ami.D6.R2_Frac5\r\n",
      "MR.F.12C-Con.D3.R1_Frac16_55\tMR.F.12C-Con.D3.R1_Frac16\r\n",
      "MR.M.13C-Xyl.D1.R1_Frac10_51\tMR.M.13C-Xyl.D1.R1_Frac10\r\n",
      "MR.A.12C-Con.D1.R1_Frac4_53\tMR.A.12C-Con.D1.R1_Frac4\r\n",
      "MR.F.12C-Con.D6.R2_Frac24_61\tMR.F.12C-Con.D6.R2_Frac24\r\n",
      "MR.A.13C-Cel.D30.R3_Frac25_50\tMR.A.13C-Cel.D30.R3_Frac25\r\n",
      "MR.F.12C-Con.D3.R1_Frac12_64\tMR.F.12C-Con.D3.R1_Frac12\r\n",
      "MR.A.12C-Con.D14.R1_Frac21_52\tMR.A.12C-Con.D14.R1_Frac21\r\n",
      "MR.A.12C-Con.D14.R1_Frac7_60\tMR.A.12C-Con.D14.R1_Frac7\r\n",
      "MR.F.13C-Ami.D6.R2_Frac10_66\tMR.F.13C-Ami.D6.R2_Frac10\r\n",
      "MR.F.12C-Con.D6.R2_Frac7_68\tMR.F.12C-Con.D6.R2_Frac7\r\n",
      "MR.A.12C-Con.D14.R1_MC_27\tMR.A.12C-Con.D14.R1_MC\r\n",
      "MR.A.12C-Con.D14.R1_Frac17_67\tMR.A.12C-Con.D14.R1_Frac17\r\n",
      "MR.F.12C-Con.D6.R2_Frac25_69\tMR.F.12C-Con.D6.R2_Frac25\r\n",
      "MR.A.13C-Xyl.D6.R1_Frac10_65\tMR.A.13C-Xyl.D6.R1_Frac10\r\n",
      "MR.M.13C-Xyl.D1.R1_Frac8_59\tMR.M.13C-Xyl.D1.R1_Frac8\r\n",
      "MR.A.12C-Con.D14.R1_Frac9_58\tMR.A.12C-Con.D14.R1_Frac9\r\n",
      "MR.A.12C-Con.D1.R1_Frac14_73\tMR.A.12C-Con.D1.R1_Frac14\r\n",
      "MR.F.12C-Con.D3.R1_Frac27_63\tMR.F.12C-Con.D3.R1_Frac27\r\n",
      "MR.A.13C-Cel.D30.R3_Frac4_74\tMR.A.13C-Cel.D30.R3_Frac4\r\n",
      "MR.A.12C-Con.D1.R1_Frac11_77\tMR.A.12C-Con.D1.R1_Frac11\r\n",
      "MR.F.12C-Con.D6.R2_Frac4_75\tMR.F.12C-Con.D6.R2_Frac4\r\n",
      "MR.F.13C-Ami.D6.R2_Frac26_70\tMR.F.13C-Ami.D6.R2_Frac26\r\n",
      "MR.A.12C-Con.D1.R1_Frac23_78\tMR.A.12C-Con.D1.R1_Frac23\r\n",
      "MR.A.13C-Cel.D30.R3_Frac27_62\tMR.A.13C-Cel.D30.R3_Frac27\r\n",
      "MR.A.12C-Con.D14.R1_Frac5_80\tMR.A.12C-Con.D14.R1_Frac5\r\n",
      "MR.F.12C-Con.D3.R1_Frac10_81\tMR.F.12C-Con.D3.R1_Frac10\r\n",
      "MR.F.12C-Con.D3.R1_Frac22_76\tMR.F.12C-Con.D3.R1_Frac22\r\n",
      "MR.F.12C-Con.D3.R1_Frac22_83\tMR.F.12C-Con.D3.R1_Frac22\r\n",
      "MR.F.12C-Con.D6.R2_Frac11_82\tMR.F.12C-Con.D6.R2_Frac11\r\n",
      "MR.A.13C-Xyl.D6.R1_Frac9_88\tMR.A.13C-Xyl.D6.R1_Frac9\r\n",
      "MR.F.12C-Con.D3.R1_Frac22_85\tMR.F.12C-Con.D3.R1_Frac22\r\n",
      "MR.F.12C-Con.D6.R2_Frac4_86\tMR.F.12C-Con.D6.R2_Frac4\r\n",
      "MR.A.12C-Con.D14.R1_Frac27_91\tMR.A.12C-Con.D14.R1_Frac27\r\n",
      "MR.A.12C-Con.D1.R1_Frac14_84\tMR.A.12C-Con.D1.R1_Frac14\r\n",
      "MR.F.12C-Con.D3.R1_Frac26_79\tMR.F.12C-Con.D3.R1_Frac26\r\n",
      "MR.A.12C-Con.D1.R1_Frac21_95\tMR.A.12C-Con.D1.R1_Frac21\r\n",
      "MR.A.13C-Cel.D30.R3_Frac8_94\tMR.A.13C-Cel.D30.R3_Frac8\r\n",
      "MR.A.12C-Con.D14.R1_Frac17_92\tMR.A.12C-Con.D14.R1_Frac17\r\n",
      "MR.A.12C-Con.D14.R1_Frac24_87\tMR.A.12C-Con.D14.R1_Frac24\r\n",
      "MR.M.13C-Xyl.D1.R1_Frac15_89\tMR.M.13C-Xyl.D1.R1_Frac15\r\n",
      "MR.A.12C-Con.D14.R1_Frac15_99\tMR.A.12C-Con.D14.R1_Frac15\r\n",
      "MR.A.12C-Con.D14.R1_Frac19_93\tMR.A.12C-Con.D14.R1_Frac19\r\n",
      "MR.F.12C-Con.D3.R1_Frac22_98\tMR.F.12C-Con.D3.R1_Frac22\r\n",
      "MR.A.13C-Xyl.D6.R1_Frac9_96\tMR.A.13C-Xyl.D6.R1_Frac9\r\n",
      "MR.F.12C-Con.D3.R1_Frac26_71\tMR.F.12C-Con.D3.R1_Frac26\r\n",
      "MR.F.12C-Con.D3.R1_Frac9_100\tMR.F.12C-Con.D3.R1_Frac9\r\n",
      "MR.M.13C-Xyl.D1.R1_Frac5_101\tMR.M.13C-Xyl.D1.R1_Frac5\r\n",
      "MR.A.13C-Xyl.D6.R1_Frac3_102\tMR.A.13C-Xyl.D6.R1_Frac3\r\n",
      "MR.A.13C-Cel.D30.R3_Frac10_106\tMR.A.13C-Cel.D30.R3_Frac10\r\n",
      "MR.A.13C-Cel.D30.R3_Frac19_107\tMR.A.13C-Cel.D30.R3_Frac19\r\n",
      "MR.F.12C-Con.D6.R2_Frac3_108\tMR.F.12C-Con.D6.R2_Frac3\r\n",
      "MR.A.12C-Con.D1.R1_Frac6_111\tMR.A.12C-Con.D1.R1_Frac6\r\n",
      "MR.A.13C-Xyl.D6.R1_Frac3_90\tMR.A.13C-Xyl.D6.R1_Frac3\r\n",
      "MR.A.12C-Con.D1.R1_Frac19_109\tMR.A.12C-Con.D1.R1_Frac19\r\n",
      "MR.A.12C-Con.D14.R1_Frac24_110\tMR.A.12C-Con.D14.R1_Frac24\r\n",
      "MR.A.13C-Xyl.D6.R1_Frac6_97\tMR.A.13C-Xyl.D6.R1_Frac6\r\n",
      "MR.M.13C-Xyl.D1.R1_Frac15_103\tMR.M.13C-Xyl.D1.R1_Frac15\r\n",
      "MR.A.12C-Con.D14.R1_Frac9_104\tMR.A.12C-Con.D14.R1_Frac9\r\n",
      "MR.A.12C-Con.D14.R1_Frac9_115\tMR.A.12C-Con.D14.R1_Frac9\r\n",
      "MR.F.13C-Ami.D6.R2_Frac5_116\tMR.F.13C-Ami.D6.R2_Frac5\r\n",
      "MR.M.13C-Xyl.D1.R1_Frac5_114\tMR.M.13C-Xyl.D1.R1_Frac5\r\n",
      "MR.A.13C-Cel.D30.R3_Frac8_119\tMR.A.13C-Cel.D30.R3_Frac8\r\n",
      "MR.F.13C-Ami.D6.R2_Frac18_122\tMR.F.13C-Ami.D6.R2_Frac18\r\n",
      "MR.M.13C-Xyl.D1.R1_Frac16_118\tMR.M.13C-Xyl.D1.R1_Frac16\r\n",
      "MR.F.12C-Con.D6.R2_Frac6_123\tMR.F.12C-Con.D6.R2_Frac6\r\n",
      "MR.A.13C-Xyl.D6.R1_Frac10_121\tMR.A.13C-Xyl.D6.R1_Frac10\r\n",
      "MR.A.13C-Xyl.D6.R1_Frac7_117\tMR.A.13C-Xyl.D6.R1_Frac7\r\n",
      "MR.F.13C-Ami.D6.R2_Frac19_120\tMR.F.13C-Ami.D6.R2_Frac19\r\n",
      "MR.F.12C-Con.D3.R1_Frac17_127\tMR.F.12C-Con.D3.R1_Frac17\r\n",
      "MR.F.13C-Ami.D6.R2_Frac8_126\tMR.F.13C-Ami.D6.R2_Frac8\r\n",
      "MR.F.12C-Con.D3.R1_Frac17_128\tMR.F.12C-Con.D3.R1_Frac17\r\n",
      "MR.A.12C-Con.D14.R1_Frac6_129\tMR.A.12C-Con.D14.R1_Frac6\r\n",
      "MR.M.13C-Xyl.D1.R1_Frac23_124\tMR.M.13C-Xyl.D1.R1_Frac23\r\n",
      "MR.M.13C-Xyl.D1.R1_Frac23_105\tMR.M.13C-Xyl.D1.R1_Frac23\r\n",
      "MR.A.12C-Con.D1.R1_Frac8_131\tMR.A.12C-Con.D1.R1_Frac8\r\n",
      "MR.A.12C-Con.D14.R1_Frac13_132\tMR.A.12C-Con.D14.R1_Frac13\r\n",
      "MR.F.12C-Con.D6.R2_Frac9_135\tMR.F.12C-Con.D6.R2_Frac9\r\n",
      "MR.F.12C-Con.D3.R1_Frac18_136\tMR.F.12C-Con.D3.R1_Frac18\r\n",
      "MR.F.12C-Con.D3.R1_Frac27_125\tMR.F.12C-Con.D3.R1_Frac27\r\n",
      "MR.F.13C-Ami.D6.R2_Frac10_138\tMR.F.13C-Ami.D6.R2_Frac10\r\n",
      "MR.M.13C-Xyl.D1.R1_Frac9_140\tMR.M.13C-Xyl.D1.R1_Frac9\r\n",
      "MR.A.13C-Cel.D30.R3_Frac7_133\tMR.A.13C-Cel.D30.R3_Frac7\r\n",
      "MR.F.12C-Con.D3.R1_Frac11_137\tMR.F.12C-Con.D3.R1_Frac11\r\n",
      "MR.A.12C-Con.D14.R1_Frac24_143\tMR.A.12C-Con.D14.R1_Frac24\r\n",
      "MR.F.12C-Con.D3.R1_Frac11_113\tMR.F.12C-Con.D3.R1_Frac11\r\n",
      "MR.A.12C-Con.D14.R1_Frac10_130\tMR.A.12C-Con.D14.R1_Frac10\r\n",
      "MR.F.12C-Con.D6.R2_Frac26_146\tMR.F.12C-Con.D6.R2_Frac26\r\n",
      "MR.F.12C-Con.D3.R1_Frac8_112\tMR.F.12C-Con.D3.R1_Frac8\r\n",
      "MR.F.13C-Ami.D6.R2_Frac11_148\tMR.F.13C-Ami.D6.R2_Frac11\r\n",
      "MR.F.13C-Ami.D6.R2_Frac15_149\tMR.F.13C-Ami.D6.R2_Frac15\r\n",
      "MR.M.13C-Xyl.D1.R1_Frac15_139\tMR.M.13C-Xyl.D1.R1_Frac15\r\n",
      "MR.F.13C-Ami.D6.R2_Frac6_145\tMR.F.13C-Ami.D6.R2_Frac6\r\n",
      "MR.A.12C-Con.D1.R1_Frac25_142\tMR.A.12C-Con.D1.R1_Frac25\r\n",
      "MR.A.12C-Con.D14.R1_Frac6_152\tMR.A.12C-Con.D14.R1_Frac6\r\n",
      "MR.F.12C-Con.D6.R2_Frac14_141\tMR.F.12C-Con.D6.R2_Frac14\r\n",
      "MR.M.13C-Xyl.D1.R1_Frac10_154\tMR.M.13C-Xyl.D1.R1_Frac10\r\n",
      "MR.A.12C-Con.D1.R1_Frac26_155\tMR.A.12C-Con.D1.R1_Frac26\r\n",
      "MR.F.12C-Con.D6.R2_Frac14_153\tMR.F.12C-Con.D6.R2_Frac14\r\n",
      "MR.F.12C-Con.D3.R1_Frac18_151\tMR.F.12C-Con.D3.R1_Frac18\r\n",
      "MR.F.13C-Ami.D6.R2_Frac7_150\tMR.F.13C-Ami.D6.R2_Frac7\r\n",
      "MR.A.12C-Con.D1.R1_Frac15_160\tMR.A.12C-Con.D1.R1_Frac15\r\n",
      "MR.F.13C-Ami.D6.R2_Frac6_161\tMR.F.13C-Ami.D6.R2_Frac6\r\n",
      "MR.A.13C-Cel.D30.R3_Frac21_156\tMR.A.13C-Cel.D30.R3_Frac21\r\n",
      "MR.A.12C-Con.D14.R1_Frac15_159\tMR.A.12C-Con.D14.R1_Frac15\r\n",
      "MR.F.12C-Con.D3.R1_Frac18_164\tMR.F.12C-Con.D3.R1_Frac18\r\n",
      "MR.A.12C-Con.D14.R1_Frac25_158\tMR.A.12C-Con.D14.R1_Frac25\r\n",
      "MR.F.12C-Con.D6.R2_Frac25_147\tMR.F.12C-Con.D6.R2_Frac25\r\n",
      "MR.A.13C-Xyl.D6.R1_Frac11_134\tMR.A.13C-Xyl.D6.R1_Frac11\r\n",
      "MR.A.13C-Xyl.D6.R1_Frac8_157\tMR.A.13C-Xyl.D6.R1_Frac8\r\n",
      "MR.A.12C-Con.D1.R1_Frac6_144\tMR.A.12C-Con.D1.R1_Frac6\r\n",
      "MR.A.12C-Con.D1.R1_Frac9_170\tMR.A.12C-Con.D1.R1_Frac9\r\n",
      "MR.F.12C-Con.D3.R1_Frac18_167\tMR.F.12C-Con.D3.R1_Frac18\r\n",
      "MR.M.13C-Xyl.D1.R1_Frac9_168\tMR.M.13C-Xyl.D1.R1_Frac9\r\n",
      "MR.F.12C-Con.D6.R2_Frac22_172\tMR.F.12C-Con.D6.R2_Frac22\r\n",
      "MR.A.12C-Con.D1.R1_Frac14_165\tMR.A.12C-Con.D1.R1_Frac14\r\n",
      "MR.A.13C-Xyl.D6.R1_Frac9_171\tMR.A.13C-Xyl.D6.R1_Frac9\r\n",
      "MR.A.13C-Cel.D30.R3_Frac5_173\tMR.A.13C-Cel.D30.R3_Frac5\r\n",
      "MR.A.13C-Xyl.D6.R1_Frac9_169\tMR.A.13C-Xyl.D6.R1_Frac9\r\n",
      "MR.F.12C-Con.D3.R1_Frac16_175\tMR.F.12C-Con.D3.R1_Frac16\r\n",
      "MR.F.13C-Ami.D6.R2_Frac16_162\tMR.F.13C-Ami.D6.R2_Frac16\r\n",
      "MR.A.13C-Cel.D30.R3_Frac25_176\tMR.A.13C-Cel.D30.R3_Frac25\r\n",
      "MR.A.12C-Con.D1.R1_Frac14_72\tMR.A.12C-Con.D1.R1_Frac14\r\n",
      "MR.A.13C-Xyl.D6.R1_Frac13_179\tMR.A.13C-Xyl.D6.R1_Frac13\r\n",
      "MR.F.13C-Ami.D6.R2_Frac12_163\tMR.F.13C-Ami.D6.R2_Frac12\r\n",
      "MR.F.13C-Ami.D6.R2_Frac7_181\tMR.F.13C-Ami.D6.R2_Frac7\r\n",
      "MR.A.12C-Con.D14.R1_Frac8_178\tMR.A.12C-Con.D14.R1_Frac8\r\n",
      "MR.M.13C-Xyl.D1.R1_Frac22_183\tMR.M.13C-Xyl.D1.R1_Frac22\r\n",
      "MR.M.13C-Xyl.D1.R1_Frac17_174\tMR.M.13C-Xyl.D1.R1_Frac17\r\n",
      "MR.F.12C-Con.D6.R2_Frac22_184\tMR.F.12C-Con.D6.R2_Frac22\r\n",
      "MR.F.12C-Con.D6.R2_Frac25_177\tMR.F.12C-Con.D6.R2_Frac25\r\n",
      "MR.F.13C-Ami.D6.R2_Frac12_182\tMR.F.13C-Ami.D6.R2_Frac12\r\n",
      "MR.F.12C-Con.D3.R1_Frac26_191\tMR.F.12C-Con.D3.R1_Frac26\r\n",
      "MR.A.12C-Con.D1.R1_Frac15_186\tMR.A.12C-Con.D1.R1_Frac15\r\n",
      "MR.F.13C-Ami.D6.R2_Frac10_185\tMR.F.13C-Ami.D6.R2_Frac10\r\n",
      "MR.M.13C-Xyl.D1.R1_Frac18_194\tMR.M.13C-Xyl.D1.R1_Frac18\r\n",
      "MR.F.12C-Con.D6.R2_Frac16_195\tMR.F.12C-Con.D6.R2_Frac16\r\n",
      "MR.F.13C-Ami.D6.R2_Frac10_193\tMR.F.13C-Ami.D6.R2_Frac10\r\n",
      "MR.A.12C-Con.D14.R1_Frac23_187\tMR.A.12C-Con.D14.R1_Frac23\r\n",
      "MR.M.13C-Xyl.D1.R1_Frac22_198\tMR.M.13C-Xyl.D1.R1_Frac22\r\n",
      "MR.A.12C-Con.D14.R1_Frac23_199\tMR.A.12C-Con.D14.R1_Frac23\r\n",
      "MR.A.12C-Con.D1.R1_Frac18_190\tMR.A.12C-Con.D1.R1_Frac18\r\n",
      "MR.A.13C-Cel.D30.R3_Frac7_201\tMR.A.13C-Cel.D30.R3_Frac7\r\n",
      "MR.A.12C-Con.D14.R1_Frac11_189\tMR.A.12C-Con.D14.R1_Frac11\r\n",
      "MR.F.13C-Ami.D6.R2_Frac13_180\tMR.F.13C-Ami.D6.R2_Frac13\r\n",
      "MR.F.13C-Ami.D6.R2_Frac5_166\tMR.F.13C-Ami.D6.R2_Frac5\r\n",
      "MR.F.12C-Con.D6.R2_Frac19_203\tMR.F.12C-Con.D6.R2_Frac19\r\n",
      "MR.A.12C-Con.D1.R1_Frac5_206\tMR.A.12C-Con.D1.R1_Frac5\r\n",
      "MR.A.12C-Con.D14.R1_Frac11_205\tMR.A.12C-Con.D14.R1_Frac11\r\n",
      "MR.F.12C-Con.D3.R1_Frac10_204\tMR.F.12C-Con.D3.R1_Frac10\r\n",
      "MR.F.12C-Con.D6.R2_Frac26_202\tMR.F.12C-Con.D6.R2_Frac26\r\n",
      "MR.F.13C-Ami.D6.R2_Frac24_208\tMR.F.13C-Ami.D6.R2_Frac24\r\n"
     ]
    }
   ],
   "source": [
    "! head -n 200 group_file.txt"
   ]
  },
  {
   "cell_type": "code",
   "execution_count": 14,
   "metadata": {
    "collapsed": false
   },
   "outputs": [
    {
     "name": "stdout",
     "output_type": "stream",
     "text": [
      "2213000\t1536952\r\n",
      "2214000\t1537595\r\n",
      "2215000\t1538244\r\n",
      "2216000\t1538916\r\n",
      "2217000\t1539552\r\n",
      "2218000\t1540201\r\n",
      "2219000\t1540872\r\n",
      "2220000\t1541567\r\n",
      "2221000\t1542268\r\n",
      "2222000\t1542927\r\n",
      "2223000\t1543599\r\n",
      "2224000\t1544269\r\n",
      "2225000\t1544945\r\n",
      "2226000\t1545627\r\n",
      "2227000\t1546324\r\n",
      "2228000\t1547036\r\n",
      "2229000\t1547736\r\n",
      "2230000\t1548440\r\n",
      "2231000\t1549145\r\n",
      "2232000\t1549927\r\n",
      "2233000\t1550733\r\n",
      "2234000\t1551551\r\n",
      "2234109\t1551658\r\n",
      "\r\n",
      "Output File Names: \r\n",
      "pear_merged-fullCyc2_lib9.assembled.dmult_maxee1_noN.names\r\n",
      "pear_merged-fullCyc2_lib9.assembled.dmult_maxee1_noN.unique.fasta\r\n",
      "\r\n",
      "\r\n",
      "mothur > quit()\r\n"
     ]
    }
   ],
   "source": [
    "# unique sequences\n",
    "cmd = 'mothur \"#unique.seqs(fasta={})\"'.format(qcFile2)\n",
    "!$cmd | tail -n 30"
   ]
  },
  {
   "cell_type": "code",
   "execution_count": 15,
   "metadata": {
    "collapsed": false
   },
   "outputs": [
    {
     "name": "stdout",
     "output_type": "stream",
     "text": [
      "Number of unique sequences: 1551658\n"
     ]
    }
   ],
   "source": [
    "qcFile3 = os.path.splitext(qcFile2)[0] + '.unique.fasta'\n",
    "n_uniq = !grep -c \">\" $qcFile3\n",
    "print ('Number of unique sequences: {}'.format(n_uniq[0]))"
   ]
  },
  {
   "cell_type": "code",
   "execution_count": 16,
   "metadata": {
    "collapsed": false
   },
   "outputs": [
    {
     "name": "stdout",
     "output_type": "stream",
     "text": [
      "-rw-rw-r-- 1 sam sam 121M May 16 12:51 pear_merged-fullCyc2_lib9.assembled.dmult_maxee1_noN.names\r\n"
     ]
    }
   ],
   "source": [
    "# name file produced by unique.seqs()\n",
    "nameFile = os.path.splitext(qcFile2)[0] + '.names'\n",
    "!ls -thlc $nameFile"
   ]
  },
  {
   "cell_type": "code",
   "execution_count": 17,
   "metadata": {
    "collapsed": false
   },
   "outputs": [
    {
     "name": "stdout",
     "output_type": "stream",
     "text": [
      "silva.seed_v132.tax\n",
      "silva.seed_v132.align\n",
      "README.md\n"
     ]
    },
    {
     "name": "stderr",
     "output_type": "stream",
     "text": [
      "--2018-05-16 12:51:36--  https://www.mothur.org/w/images/7/71/Silva.seed_v132.tgz\n",
      "Resolving www.mothur.org (www.mothur.org)... 141.214.120.22\n",
      "Connecting to www.mothur.org (www.mothur.org)|141.214.120.22|:443... connected.\n",
      "HTTP request sent, awaiting response... 200 OK\n",
      "Length: 19623900 (19M) [application/x-gzip]\n",
      "Saving to: ‘Silva.seed_v132.tgz’\n",
      "\n",
      "     0K .......... .......... .......... .......... ..........  0% 1.88M 10s\n",
      "    50K .......... .......... .......... .......... ..........  0%  990K 15s\n",
      "   100K .......... .......... .......... .......... ..........  0% 1.88M 13s\n",
      "   150K .......... .......... .......... .......... ..........  1%  991K 14s\n",
      "   200K .......... .......... .......... .......... ..........  1% 1.83M 14s\n",
      "   250K .......... .......... .......... .......... ..........  1%  939K 15s\n",
      "   300K .......... .......... .......... .......... ..........  1% 1.54M 14s\n",
      "   350K .......... .......... .......... .......... ..........  2%  973K 15s\n",
      "   400K .......... .......... .......... .......... ..........  2% 1.00M 15s\n",
      "   450K .......... .......... .......... .......... ..........  2% 1.23M 15s\n",
      "   500K .......... .......... .......... .......... ..........  2% 1.31M 15s\n",
      "   550K .......... .......... .......... .......... ..........  3% 1.26M 15s\n",
      "   600K .......... .......... .......... .......... ..........  3% 1.31M 15s\n",
      "   650K .......... .......... .......... .......... ..........  3% 1.25M 15s\n",
      "   700K .......... .......... .......... .......... ..........  3% 1.32M 15s\n",
      "   750K .......... .......... .......... .......... ..........  4%  987K 15s\n",
      "   800K .......... .......... .......... .......... ..........  4% 1.25M 15s\n",
      "   850K .......... .......... .......... .......... ..........  4% 1.32M 15s\n",
      "   900K .......... .......... .......... .......... ..........  4% 1.24M 15s\n",
      "   950K .......... .......... .......... .......... ..........  5% 1.32M 14s\n",
      "  1000K .......... .......... .......... .......... ..........  5% 1.23M 14s\n",
      "  1050K .......... .......... .......... .......... ..........  5% 1.36M 14s\n",
      "  1100K .......... .......... .......... .......... ..........  6% 1.21M 14s\n",
      "  1150K .......... .......... .......... .......... ..........  6%  990K 14s\n",
      "  1200K .......... .......... .......... .......... ..........  6% 1.36M 14s\n",
      "  1250K .......... .......... .......... .......... ..........  6% 1.22M 14s\n",
      "  1300K .......... .......... .......... .......... ..........  7% 1.35M 14s\n",
      "  1350K .......... .......... .......... .......... ..........  7% 1.22M 14s\n",
      "  1400K .......... .......... .......... .......... ..........  7% 1.36M 14s\n",
      "  1450K .......... .......... .......... .......... ..........  7% 1.12M 14s\n",
      "  1500K .......... .......... .......... .......... ..........  8% 1.34M 14s\n",
      "  1550K .......... .......... .......... .......... ..........  8%  993K 14s\n",
      "  1600K .......... .......... .......... .......... ..........  8% 1.15M 14s\n",
      "  1650K .......... .......... .......... .......... ..........  8% 1.21M 14s\n",
      "  1700K .......... .......... .......... .......... ..........  9% 1.00M 14s\n",
      "  1750K .......... .......... .......... .......... ..........  9% 1.01M 14s\n",
      "  1800K .......... .......... .......... .......... ..........  9% 1.07M 14s\n",
      "  1850K .......... .......... .......... .......... ..........  9% 1.23M 14s\n",
      "  1900K .......... .......... .......... .......... .......... 10% 1.34M 14s\n",
      "  1950K .......... .......... .......... .......... .......... 10%  999K 14s\n",
      "  2000K .......... .......... .......... .......... .......... 10% 1.91M 14s\n",
      "  2050K .......... .......... .......... .......... .......... 10%  995K 14s\n",
      "  2100K .......... .......... .......... .......... .......... 11% 1.87M 14s\n",
      "  2150K .......... .......... .......... .......... .......... 11% 1.88M 14s\n",
      "  2200K .......... .......... .......... .......... .......... 11% 1.91M 13s\n",
      "  2250K .......... .......... .......... .......... .......... 12%  992K 13s\n",
      "  2300K .......... .......... .......... .......... .......... 12% 1.89M 13s\n",
      "  2350K .......... .......... .......... .......... .......... 12% 1.86M 13s\n",
      "  2400K .......... .......... .......... .......... .......... 12%  997K 13s\n",
      "  2450K .......... .......... .......... .......... .......... 13% 1.88M 13s\n",
      "  2500K .......... .......... .......... .......... .......... 13% 1.86M 13s\n",
      "  2550K .......... .......... .......... .......... .......... 13% 1.87M 13s\n",
      "  2600K .......... .......... .......... .......... .......... 13% 1.86M 13s\n",
      "  2650K .......... .......... .......... .......... .......... 14% 1.90M 13s\n",
      "  2700K .......... .......... .......... .......... .......... 14% 1000K 13s\n",
      "  2750K .......... .......... .......... .......... .......... 14% 1.87M 13s\n",
      "  2800K .......... .......... .......... .......... .......... 14% 1.87M 12s\n",
      "  2850K .......... .......... .......... .......... .......... 15%  997K 12s\n",
      "  2900K .......... .......... .......... .......... .......... 15% 1.86M 12s\n",
      "  2950K .......... .......... .......... .......... .......... 15% 1.86M 12s\n",
      "  3000K .......... .......... .......... .......... .......... 15% 1.90M 12s\n",
      "  3050K .......... .......... .......... .......... .......... 16% 1.88M 12s\n",
      "  3100K .......... .......... .......... .......... .......... 16%  986K 12s\n",
      "  3150K .......... .......... .......... .......... .......... 16% 1.91M 12s\n",
      "  3200K .......... .......... .......... .......... .......... 16%  996K 12s\n",
      "  3250K .......... .......... .......... .......... .......... 17% 1.91M 12s\n",
      "  3300K .......... .......... .......... .......... .......... 17% 1.86M 12s\n",
      "  3350K .......... .......... .......... .......... .......... 17% 1.89M 12s\n",
      "  3400K .......... .......... .......... .......... .......... 18% 1.90M 12s\n",
      "  3450K .......... .......... .......... .......... .......... 18% 1001K 12s\n",
      "  3500K .......... .......... .......... .......... .......... 18% 1.83M 12s\n",
      "  3550K .......... .......... .......... .......... .......... 18% 1.88M 11s\n",
      "  3600K .......... .......... .......... .......... .......... 19% 1.88M 11s\n",
      "  3650K .......... .......... .......... .......... .......... 19% 1.88M 11s\n",
      "  3700K .......... .......... .......... .......... .......... 19%  993K 11s\n",
      "  3750K .......... .......... .......... .......... .......... 19% 1.88M 11s\n",
      "  3800K .......... .......... .......... .......... .......... 20% 1.88M 11s\n",
      "  3850K .......... .......... .......... .......... .......... 20% 1.88M 11s\n",
      "  3900K .......... .......... .......... .......... .......... 20%  990K 11s\n",
      "  3950K .......... .......... .......... .......... .......... 20% 1.82M 11s\n",
      "  4000K .......... .......... .......... .......... .......... 21% 1.86M 11s\n",
      "  4050K .......... .......... .......... .......... .......... 21% 1.68M 11s\n",
      "  4100K .......... .......... .......... .......... .......... 21%  955K 11s\n",
      "  4150K .......... .......... .......... .......... .......... 21% 1.68M 11s\n",
      "  4200K .......... .......... .......... .......... .......... 22% 1.77M 11s\n",
      "  4250K .......... .......... .......... .......... .......... 22% 1.47M 11s\n",
      "  4300K .......... .......... .......... .......... .......... 22% 1.66M 11s\n",
      "  4350K .......... .......... .......... .......... .......... 22%  996K 11s\n",
      "  4400K .......... .......... .......... .......... .......... 23% 1.90M 11s\n",
      "  4450K .......... .......... .......... .......... .......... 23% 1.90M 11s\n",
      "  4500K .......... .......... .......... .......... .......... 23% 1.89M 11s\n",
      "  4550K .......... .......... .......... .......... .......... 24% 1.88M 10s\n",
      "  4600K .......... .......... .......... .......... .......... 24% 1.88M 10s\n",
      "  4650K .......... .......... .......... .......... .......... 24% 1.90M 10s\n",
      "  4700K .......... .......... .......... .......... .......... 24% 1.88M 10s\n",
      "  4750K .......... .......... .......... .......... .......... 25% 1.90M 10s\n",
      "  4800K .......... .......... .......... .......... .......... 25% 1.87M 10s\n",
      "  4850K .......... .......... .......... .......... .......... 25%  998K 10s\n",
      "  4900K .......... .......... .......... .......... .......... 25% 1.87M 10s\n",
      "  4950K .......... .......... .......... .......... .......... 26% 1.88M 10s\n",
      "  5000K .......... .......... .......... .......... .......... 26% 1.90M 10s\n",
      "  5050K .......... .......... .......... .......... .......... 26% 1.88M 10s\n",
      "  5100K .......... .......... .......... .......... .......... 26% 1.89M 10s\n",
      "  5150K .......... .......... .......... .......... .......... 27% 1.88M 10s\n",
      "  5200K .......... .......... .......... .......... .......... 27% 1.91M 10s\n",
      "  5250K .......... .......... .......... .......... .......... 27% 1.90M 10s\n",
      "  5300K .......... .......... .......... .......... .......... 27% 1.91M 10s\n",
      "  5350K .......... .......... .......... .......... .......... 28% 1.90M 10s\n",
      "  5400K .......... .......... .......... .......... .......... 28% 1.91M 9s\n",
      "  5450K .......... .......... .......... .......... .......... 28% 1.91M 9s\n",
      "  5500K .......... .......... .......... .......... .......... 28% 1008K 9s\n",
      "  5550K .......... .......... .......... .......... .......... 29% 25.9M 9s\n",
      "  5600K .......... .......... .......... .......... .......... 29% 1017K 9s\n",
      "  5650K .......... .......... .......... .......... .......... 29% 1.92M 9s\n",
      "  5700K .......... .......... .......... .......... .......... 30% 1.87M 9s\n",
      "  5750K .......... .......... .......... .......... .......... 30% 1.83M 9s\n",
      "  5800K .......... .......... .......... .......... .......... 30% 1.66M 9s\n",
      "  5850K .......... .......... .......... .......... .......... 30% 1.79M 9s\n",
      "  5900K .......... .......... .......... .......... .......... 31% 1.81M 9s\n",
      "  5950K .......... .......... .......... .......... .......... 31% 1.59M 9s\n",
      "  6000K .......... .......... .......... .......... .......... 31% 1.70M 9s\n",
      "  6050K .......... .......... .......... .......... .......... 31% 1.44M 9s\n",
      "  6100K .......... .......... .......... .......... .......... 32% 1.87M 9s\n",
      "  6150K .......... .......... .......... .......... .......... 32% 1.60M 9s\n",
      "  6200K .......... .......... .......... .......... .......... 32% 1.55M 9s\n",
      "  6250K .......... .......... .......... .......... .......... 32% 1.89M 9s\n",
      "  6300K .......... .......... .......... .......... .......... 33% 1.88M 9s\n",
      "  6350K .......... .......... .......... .......... .......... 33%  995K 9s\n",
      "  6400K .......... .......... .......... .......... .......... 33% 1.92M 9s\n",
      "  6450K .......... .......... .......... .......... .......... 33% 1.83M 9s\n",
      "  6500K .......... .......... .......... .......... .......... 34% 1.93M 8s\n",
      "  6550K .......... .......... .......... .......... .......... 34% 1.91M 8s\n",
      "  6600K .......... .......... .......... .......... .......... 34% 1.89M 8s\n",
      "  6650K .......... .......... .......... .......... .......... 34% 1.90M 8s\n",
      "  6700K .......... .......... .......... .......... .......... 35% 1.93M 8s\n",
      "  6750K .......... .......... .......... .......... .......... 35% 1.91M 8s\n",
      "  6800K .......... .......... .......... .......... .......... 35% 1.86M 8s\n",
      "  6850K .......... .......... .......... .......... .......... 36% 1.89M 8s\n",
      "  6900K .......... .......... .......... .......... .......... 36% 1.92M 8s\n",
      "  6950K .......... .......... .......... .......... .......... 36% 1.85M 8s\n",
      "  7000K .......... .......... .......... .......... .......... 36% 1.92M 8s\n",
      "  7050K .......... .......... .......... .......... .......... 37% 1.88M 8s\n",
      "  7100K .......... .......... .......... .......... .......... 37% 1.93M 8s\n",
      "  7150K .......... .......... .......... .......... .......... 37% 1022K 8s\n",
      "  7200K .......... .......... .......... .......... .......... 37% 1.90M 8s\n",
      "  7250K .......... .......... .......... .......... .......... 38% 1.91M 8s\n",
      "  7300K .......... .......... .......... .......... .......... 38% 1.88M 8s\n",
      "  7350K .......... .......... .......... .......... .......... 38% 1.90M 8s\n",
      "  7400K .......... .......... .......... .......... .......... 38% 1.91M 8s\n",
      "  7450K .......... .......... .......... .......... .......... 39% 1.92M 8s\n",
      "  7500K .......... .......... .......... .......... .......... 39% 1.90M 8s\n",
      "  7550K .......... .......... .......... .......... .......... 39% 1.90M 8s\n",
      "  7600K .......... .......... .......... .......... .......... 39% 1.92M 8s\n",
      "  7650K .......... .......... .......... .......... .......... 40% 1.87M 7s\n",
      "  7700K .......... .......... .......... .......... .......... 40% 1.91M 7s\n",
      "  7750K .......... .......... .......... .......... .......... 40% 1.89M 7s\n",
      "  7800K .......... .......... .......... .......... .......... 40% 1.92M 7s\n",
      "  7850K .......... .......... .......... .......... .......... 41% 1.87M 7s\n",
      "  7900K .......... .......... .......... .......... .......... 41% 1.92M 7s\n",
      "  7950K .......... .......... .......... .......... .......... 41% 1.80M 7s\n",
      "  8000K .......... .......... .......... .......... .......... 42% 1.92M 7s\n",
      "  8050K .......... .......... .......... .......... .......... 42% 1.93M 7s\n",
      "  8100K .......... .......... .......... .......... .......... 42% 1.83M 7s\n",
      "  8150K .......... .......... .......... .......... .......... 42% 1.90M 7s\n",
      "  8200K .......... .......... .......... .......... .......... 43% 1.92M 7s\n",
      "  8250K .......... .......... .......... .......... .......... 43% 1.91M 7s\n",
      "  8300K .......... .......... .......... .......... .......... 43% 1.05M 7s\n",
      "  8350K .......... .......... .......... .......... .......... 43% 1.92M 7s\n",
      "  8400K .......... .......... .......... .......... .......... 44% 1.90M 7s\n",
      "  8450K .......... .......... .......... .......... .......... 44% 1.91M 7s\n",
      "  8500K .......... .......... .......... .......... .......... 44% 1.92M 7s\n",
      "  8550K .......... .......... .......... .......... .......... 44% 1.91M 7s\n",
      "  8600K .......... .......... .......... .......... .......... 45% 1.90M 7s\n",
      "  8650K .......... .......... .......... .......... .......... 45% 1.91M 7s\n",
      "  8700K .......... .......... .......... .......... .......... 45% 1.92M 7s\n",
      "  8750K .......... .......... .......... .......... .......... 45% 1.89M 7s\n",
      "  8800K .......... .......... .......... .......... .......... 46% 1.69M 7s\n",
      "  8850K .......... .......... .......... .......... .......... 46% 1.92M 7s\n",
      "  8900K .......... .......... .......... .......... .......... 46% 1.88M 6s\n",
      "  8950K .......... .......... .......... .......... .......... 46% 1.89M 6s\n",
      "  9000K .......... .......... .......... .......... .......... 47% 1.88M 6s\n",
      "  9050K .......... .......... .......... .......... .......... 47% 1.92M 6s\n",
      "  9100K .......... .......... .......... .......... .......... 47% 1.92M 6s\n",
      "  9150K .......... .......... .......... .......... .......... 48% 1.87M 6s\n",
      "  9200K .......... .......... .......... .......... .......... 48% 1.93M 6s\n",
      "  9250K .......... .......... .......... .......... .......... 48% 1.92M 6s\n",
      "  9300K .......... .......... .......... .......... .......... 48% 1.94M 6s\n",
      "  9350K .......... .......... .......... .......... .......... 49% 1.73M 6s\n",
      "  9400K .......... .......... .......... .......... .......... 49%  997K 6s\n",
      "  9450K .......... .......... .......... .......... .......... 49% 1.87M 6s\n",
      "  9500K .......... .......... .......... .......... .......... 49% 1.91M 6s\n",
      "  9550K .......... .......... .......... .......... .......... 50% 1.93M 6s\n",
      "  9600K .......... .......... .......... .......... .......... 50% 1.87M 6s\n",
      "  9650K .......... .......... .......... .......... .......... 50%  984K 6s\n",
      "  9700K .......... .......... .......... .......... .......... 50% 1.68M 6s\n",
      "  9750K .......... .......... .......... .......... .......... 51% 1.90M 6s\n",
      "  9800K .......... .......... .......... .......... .......... 51% 1.91M 6s\n",
      "  9850K .......... .......... .......... .......... .......... 51% 1.89M 6s\n",
      "  9900K .......... .......... .......... .......... .......... 51% 1.56M 6s\n",
      "  9950K .......... .......... .......... .......... .......... 52% 1.32M 6s\n",
      " 10000K .......... .......... .......... .......... .......... 52% 1.64M 6s\n",
      " 10050K .......... .......... .......... .......... .......... 52% 1.90M 6s\n",
      " 10100K .......... .......... .......... .......... .......... 52% 1.90M 6s\n",
      " 10150K .......... .......... .......... .......... .......... 53% 1.86M 6s\n",
      " 10200K .......... .......... .......... .......... .......... 53% 1.72M 6s\n",
      " 10250K .......... .......... .......... .......... .......... 53% 1.75M 6s\n",
      " 10300K .......... .......... .......... .......... .......... 54% 1.89M 6s\n",
      " 10350K .......... .......... .......... .......... .......... 54% 1.24M 6s\n",
      " 10400K .......... .......... .......... .......... .......... 54% 1.62M 5s\n",
      " 10450K .......... .......... .......... .......... .......... 54% 1.60M 5s\n",
      " 10500K .......... .......... .......... .......... .......... 55% 1.88M 5s\n",
      " 10550K .......... .......... .......... .......... .......... 55% 1.51M 5s\n",
      " 10600K .......... .......... .......... .......... .......... 55% 1.55M 5s\n",
      " 10650K .......... .......... .......... .......... .......... 55% 1.93M 5s\n",
      " 10700K .......... .......... .......... .......... .......... 56% 1.91M 5s\n",
      " 10750K .......... .......... .......... .......... .......... 56% 1.91M 5s\n",
      " 10800K .......... .......... .......... .......... .......... 56% 1.92M 5s\n",
      " 10850K .......... .......... .......... .......... .......... 56% 1.86M 5s\n",
      " 10900K .......... .......... .......... .......... .......... 57% 1.91M 5s\n",
      " 10950K .......... .......... .......... .......... .......... 57% 1.92M 5s\n",
      " 11000K .......... .......... .......... .......... .......... 57% 1.92M 5s\n",
      " 11050K .......... .......... .......... .......... .......... 57% 1.91M 5s\n",
      " 11100K .......... .......... .......... .......... .......... 58% 1.93M 5s\n",
      " 11150K .......... .......... .......... .......... .......... 58% 1.60M 5s\n",
      " 11200K .......... .......... .......... .......... .......... 58% 1.92M 5s\n",
      " 11250K .......... .......... .......... .......... .......... 58% 1.90M 5s\n",
      " 11300K .......... .......... .......... .......... .......... 59% 1.92M 5s\n",
      " 11350K .......... .......... .......... .......... .......... 59% 1.91M 5s\n",
      " 11400K .......... .......... .......... .......... .......... 59% 1.88M 5s\n",
      " 11450K .......... .......... .......... .......... .......... 60% 1.93M 5s\n",
      " 11500K .......... .......... .......... .......... .......... 60% 1.09M 5s\n",
      " 11550K .......... .......... .......... .......... .......... 60% 1.89M 5s\n",
      " 11600K .......... .......... .......... .......... .......... 60% 1.91M 5s\n",
      " 11650K .......... .......... .......... .......... .......... 61% 1.91M 5s\n",
      " 11700K .......... .......... .......... .......... .......... 61% 1.92M 5s\n",
      " 11750K .......... .......... .......... .......... .......... 61% 1.92M 5s\n",
      " 11800K .......... .......... .......... .......... .......... 61% 1.93M 5s\n",
      " 11850K .......... .......... .......... .......... .......... 62% 1.90M 4s\n",
      " 11900K .......... .......... .......... .......... .......... 62% 1.84M 4s\n",
      " 11950K .......... .......... .......... .......... .......... 62% 1.20M 4s\n",
      " 12000K .......... .......... .......... .......... .......... 62% 1.22M 4s\n",
      " 12050K .......... .......... .......... .......... .......... 63% 1.81M 4s\n",
      " 12100K .......... .......... .......... .......... .......... 63% 1.93M 4s\n",
      " 12150K .......... .......... .......... .......... .......... 63% 1.85M 4s\n",
      " 12200K .......... .......... .......... .......... .......... 63% 1.90M 4s\n",
      " 12250K .......... .......... .......... .......... .......... 64% 1.93M 4s\n",
      " 12300K .......... .......... .......... .......... .......... 64% 1.88M 4s\n",
      " 12350K .......... .......... .......... .......... .......... 64% 1.92M 4s\n",
      " 12400K .......... .......... .......... .......... .......... 64% 1.92M 4s\n",
      " 12450K .......... .......... .......... .......... .......... 65% 1.38M 4s\n",
      " 12500K .......... .......... .......... .......... .......... 65% 1.89M 4s\n",
      " 12550K .......... .......... .......... .......... .......... 65% 1.92M 4s\n",
      " 12600K .......... .......... .......... .......... .......... 66% 1.92M 4s\n",
      " 12650K .......... .......... .......... .......... .......... 66% 1.91M 4s\n",
      " 12700K .......... .......... .......... .......... .......... 66% 1.92M 4s\n",
      " 12750K .......... .......... .......... .......... .......... 66% 1.93M 4s\n",
      " 12800K .......... .......... .......... .......... .......... 67% 1.55M 4s\n",
      " 12850K .......... .......... .......... .......... .......... 67% 1.92M 4s\n",
      " 12900K .......... .......... .......... .......... .......... 67% 1.92M 4s\n",
      " 12950K .......... .......... .......... .......... .......... 67% 1.91M 4s\n",
      " 13000K .......... .......... .......... .......... .......... 68% 1.92M 4s\n",
      " 13050K .......... .......... .......... .......... .......... 68%  417K 4s\n",
      " 13100K .......... .......... .......... .......... .......... 68% 1.93M 4s\n",
      " 13150K .......... .......... .......... .......... .......... 68% 1.87M 4s\n",
      " 13200K .......... .......... .......... .......... .......... 69% 1.89M 4s\n",
      " 13250K .......... .......... .......... .......... .......... 69% 1.81M 4s\n",
      " 13300K .......... .......... .......... .......... .......... 69% 1.68M 4s\n",
      " 13350K .......... .......... .......... .......... .......... 69% 1.56M 4s\n",
      " 13400K .......... .......... .......... .......... .......... 70% 1.46M 4s\n",
      " 13450K .......... .......... .......... .......... .......... 70% 1.59M 3s\n",
      " 13500K .......... .......... .......... .......... .......... 70% 1.38M 3s\n",
      " 13550K .......... .......... .......... .......... .......... 70% 1.57M 3s\n",
      " 13600K .......... .......... .......... .......... .......... 71% 1.38M 3s\n",
      " 13650K .......... .......... .......... .......... .......... 71% 1.26M 3s\n",
      " 13700K .......... .......... .......... .......... .......... 71%  998K 3s\n",
      " 13750K .......... .......... .......... .......... .......... 72% 1.83M 3s\n",
      " 13800K .......... .......... .......... .......... .......... 72% 1.29M 3s\n",
      " 13850K .......... .......... .......... .......... .......... 72% 1.19M 3s\n",
      " 13900K .......... .......... .......... .......... .......... 72%  873K 3s\n",
      " 13950K .......... .......... .......... .......... .......... 73% 1.72M 3s\n",
      " 14000K .......... .......... .......... .......... .......... 73% 1.13M 3s\n",
      " 14050K .......... .......... .......... .......... .......... 73% 1.64M 3s\n",
      " 14100K .......... .......... .......... .......... .......... 73% 1.37M 3s\n",
      " 14150K .......... .......... .......... .......... .......... 74% 1.79M 3s\n",
      " 14200K .......... .......... .......... .......... .......... 74% 1.27M 3s\n",
      " 14250K .......... .......... .......... .......... .......... 74% 1.90M 3s\n",
      " 14300K .......... .......... .......... .......... .......... 74% 1.42M 3s\n",
      " 14350K .......... .......... .......... .......... .......... 75%  744K 3s\n",
      " 14400K .......... .......... .......... .......... .......... 75% 1.41M 3s\n",
      " 14450K .......... .......... .......... .......... .......... 75% 1.30M 3s\n",
      " 14500K .......... .......... .......... .......... .......... 75% 1.11M 3s\n",
      " 14550K .......... .......... .......... .......... .......... 76% 1.27M 3s\n",
      " 14600K .......... .......... .......... .......... .......... 76% 1.07M 3s\n",
      " 14650K .......... .......... .......... .......... .......... 76% 1.37M 3s\n",
      " 14700K .......... .......... .......... .......... .......... 76% 1021K 3s\n",
      " 14750K .......... .......... .......... .......... .......... 77% 1.93M 3s\n",
      " 14800K .......... .......... .......... .......... .......... 77% 1.81M 3s\n",
      " 14850K .......... .......... .......... .......... .......... 77% 1.68M 3s\n",
      " 14900K .......... .......... .......... .......... .......... 78% 1.69M 3s\n",
      " 14950K .......... .......... .......... .......... .......... 78% 1.68M 3s\n",
      " 15000K .......... .......... .......... .......... .......... 78% 1.69M 3s\n",
      " 15050K .......... .......... .......... .......... .......... 78% 1.67M 3s\n",
      " 15100K .......... .......... .......... .......... .......... 79% 1.67M 3s\n",
      " 15150K .......... .......... .......... .......... .......... 79% 1.05M 2s\n",
      " 15200K .......... .......... .......... .......... .......... 79% 1.67M 2s\n",
      " 15250K .......... .......... .......... .......... .......... 79% 1.67M 2s\n",
      " 15300K .......... .......... .......... .......... .......... 80% 1.66M 2s\n",
      " 15350K .......... .......... .......... .......... .......... 80% 1.67M 2s\n",
      " 15400K .......... .......... .......... .......... .......... 80% 1.68M 2s\n",
      " 15450K .......... .......... .......... .......... .......... 80% 1.69M 2s\n",
      " 15500K .......... .......... .......... .......... .......... 81% 1.10M 2s\n",
      " 15550K .......... .......... .......... .......... .......... 81% 1.68M 2s\n",
      " 15600K .......... .......... .......... .......... .......... 81% 1.67M 2s\n",
      " 15650K .......... .......... .......... .......... .......... 81% 1.68M 2s\n",
      " 15700K .......... .......... .......... .......... .......... 82% 1.66M 2s\n",
      " 15750K .......... .......... .......... .......... .......... 82% 1.67M 2s\n",
      " 15800K .......... .......... .......... .......... .......... 82% 1.68M 2s\n",
      " 15850K .......... .......... .......... .......... .......... 82% 3.35M 2s\n",
      " 15900K .......... .......... .......... .......... .......... 83% 1.46M 2s\n",
      " 15950K .......... .......... .......... .......... .......... 83% 1.65M 2s\n",
      " 16000K .......... .......... .......... .......... .......... 83% 1.64M 2s\n",
      " 16050K .......... .......... .......... .......... .......... 84% 1.54M 2s\n",
      " 16100K .......... .......... .......... .......... .......... 84% 1.62M 2s\n",
      " 16150K .......... .......... .......... .......... .......... 84% 1.61M 2s\n",
      " 16200K .......... .......... .......... .......... .......... 84% 1.63M 2s\n",
      " 16250K .......... .......... .......... .......... .......... 85% 1.58M 2s\n",
      " 16300K .......... .......... .......... .......... .......... 85% 1.64M 2s\n",
      " 16350K .......... .......... .......... .......... .......... 85% 1.64M 2s\n",
      " 16400K .......... .......... .......... .......... .......... 85% 1.64M 2s\n",
      " 16450K .......... .......... .......... .......... .......... 86% 1.49M 2s\n",
      " 16500K .......... .......... .......... .......... .......... 86% 10.7M 2s\n",
      " 16550K .......... .......... .......... .......... .......... 86% 1.37M 2s\n",
      " 16600K .......... .......... .......... .......... .......... 86% 1.60M 2s\n",
      " 16650K .......... .......... .......... .......... .......... 87% 1.63M 2s\n",
      " 16700K .......... .......... .......... .......... .......... 87% 1.64M 2s\n",
      " 16750K .......... .......... .......... .......... .......... 87% 1.63M 1s\n",
      " 16800K .......... .......... .......... .......... .......... 87% 1.37M 1s\n",
      " 16850K .......... .......... .......... .......... .......... 88% 1.63M 1s\n",
      " 16900K .......... .......... .......... .......... .......... 88% 1.55M 1s\n",
      " 16950K .......... .......... .......... .......... .......... 88% 1.43M 1s\n",
      " 17000K .......... .......... .......... .......... .......... 88% 1.69M 1s\n",
      " 17050K .......... .......... .......... .......... .......... 89% 1.67M 1s\n",
      " 17100K .......... .......... .......... .......... .......... 89% 18.9M 1s\n",
      " 17150K .......... .......... .......... .......... .......... 89% 1.63M 1s\n",
      " 17200K .......... .......... .......... .......... .......... 90% 1.64M 1s\n",
      " 17250K .......... .......... .......... .......... .......... 90% 1.66M 1s\n",
      " 17300K .......... .......... .......... .......... .......... 90% 1.66M 1s\n",
      " 17350K .......... .......... .......... .......... .......... 90% 1.66M 1s\n",
      " 17400K .......... .......... .......... .......... .......... 91% 1.66M 1s\n",
      " 17450K .......... .......... .......... .......... .......... 91% 1.66M 1s\n",
      " 17500K .......... .......... .......... .......... .......... 91% 1.65M 1s\n",
      " 17550K .......... .......... .......... .......... .......... 91% 1.65M 1s\n",
      " 17600K .......... .......... .......... .......... .......... 92% 1.66M 1s\n",
      " 17650K .......... .......... .......... .......... .......... 92% 21.1M 1s\n",
      " 17700K .......... .......... .......... .......... .......... 92% 1.64M 1s\n",
      " 17750K .......... .......... .......... .......... .......... 92% 1.64M 1s\n",
      " 17800K .......... .......... .......... .......... .......... 93% 1.67M 1s\n",
      " 17850K .......... .......... .......... .......... .......... 93% 21.3M 1s\n",
      " 17900K .......... .......... .......... .......... .......... 93% 1.66M 1s\n",
      " 17950K .......... .......... .......... .......... .......... 93% 1.65M 1s\n",
      " 18000K .......... .......... .......... .......... .......... 94% 1.65M 1s\n",
      " 18050K .......... .......... .......... .......... .......... 94% 1.62M 1s\n",
      " 18100K .......... .......... .......... .......... .......... 94% 1.48M 1s\n",
      " 18150K .......... .......... .......... .......... .......... 94% 1.63M 1s\n",
      " 18200K .......... .......... .......... .......... .......... 95% 1.60M 1s\n",
      " 18250K .......... .......... .......... .......... .......... 95% 13.5M 1s\n",
      " 18300K .......... .......... .......... .......... .......... 95% 1.62M 1s\n",
      " 18350K .......... .......... .......... .......... .......... 96% 1.62M 0s\n",
      " 18400K .......... .......... .......... .......... .......... 96% 1.42M 0s\n",
      " 18450K .......... .......... .......... .......... .......... 96% 1.50M 0s\n",
      " 18500K .......... .......... .......... .......... .......... 96% 1.62M 0s\n",
      " 18550K .......... .......... .......... .......... .......... 97% 1.42M 0s\n",
      " 18600K .......... .......... .......... .......... .......... 97% 7.66M 0s\n",
      " 18650K .......... .......... .......... .......... .......... 97% 1.66M 0s\n",
      " 18700K .......... .......... .......... .......... .......... 97% 1.75M 0s\n",
      " 18750K .......... .......... .......... .......... .......... 98% 1.77M 0s\n",
      " 18800K .......... .......... .......... .......... .......... 98% 1.33M 0s\n",
      " 18850K .......... .......... .......... .......... .......... 98% 1.67M 0s\n",
      " 18900K .......... .......... .......... .......... .......... 98% 1.69M 0s\n",
      " 18950K .......... .......... .......... .......... .......... 99% 19.0M 0s\n",
      " 19000K .......... .......... .......... .......... .......... 99% 1.65M 0s\n",
      " 19050K .......... .......... .......... .......... .......... 99% 1.65M 0s\n",
      " 19100K .......... .......... .......... .......... .......... 99% 1.77M 0s\n",
      " 19150K .......... ...                                        100% 23.3M=12s\n",
      "\n",
      "2018-05-16 12:51:48 (1.59 MB/s) - ‘Silva.seed_v132.tgz’ saved [19623900/19623900]\n",
      "\n"
     ]
    }
   ],
   "source": [
    "%%bash \n",
    "# Remove database if already exsists\n",
    "if [ -d mothur_silva_db ]; then\n",
    "    rm -rf mothur_silva_db\n",
    "fi\n",
    "\n",
    "#if ! [ -d mothur_silva_db ]; then\n",
    "#    mkdir mothur_silva_db\n",
    "#fi\n",
    "\n",
    "mkdir mothur_silva_db\n",
    "cd mothur_silva_db\n",
    "\n",
    "# Download mothur recreatd SEED database release 132.\n",
    "wget https://www.mothur.org/w/images/7/71/Silva.seed_v132.tgz\n",
    "#wget https://www.mothur.org/w/images/a/a4/Silva.seed_v128.tgz\n",
    "tar -xvzf Silva.seed_v132.tgz\n",
    "rm Silva.seed_v132.tgz"
   ]
  },
  {
   "cell_type": "code",
   "execution_count": 18,
   "metadata": {
    "collapsed": false
   },
   "outputs": [
    {
     "name": "stdout",
     "output_type": "stream",
     "text": [
      "100\n",
      "200\n",
      "300\n",
      "400\n",
      "500\n",
      "560\n",
      "\n",
      "\n",
      "\n",
      "Length of filtered alignment: 10180\n",
      "Number of columns removed: 39820\n",
      "Length of the original alignment: 50000\n",
      "Number of sequences used to construct filter: 11180\n",
      "\n",
      "Output File Names: \n",
      "silva.filter\n",
      "silva.seed_v132.filter.fasta\n",
      "\n",
      "\n",
      "mothur > quit()\n",
      "\n",
      "Number of sequences post-filter: 11180\n"
     ]
    }
   ],
   "source": [
    "silvaFile = 'silva.seed_v132.align'\n",
    "cmd = 'mothur \"#filter.seqs(vertical=t, fasta={}, processors={})\"'.format(silvaFile, nprocs)\n",
    "!cd mothur_silva_db; $cmd | tail -n 20\n",
    "\n",
    "silvaFileFilt = os.path.splitext(silvaFile)[0] + '.filter.fasta'\n",
    "silvaFileFilt = os.path.join('mothur_silva_db', silvaFileFilt)\n",
    "ret = !grep -c \">\" $silvaFileFilt\n",
    "print ('\\nNumber of sequences post-filter: {}'.format(ret[0]))"
   ]
  },
  {
   "cell_type": "code",
   "execution_count": 19,
   "metadata": {
    "collapsed": false
   },
   "outputs": [
    {
     "name": "stdout",
     "output_type": "stream",
     "text": [
      "77100\r\n",
      "77200\r\n",
      "77300\r\n",
      "77400\r\n",
      "77500\r\n",
      "77600\r\n",
      "77700\r\n",
      "77800\r\n",
      "77900\r\n",
      "77976\r\n",
      "[WARNING]: Some of your sequences generated alignments that eliminated too many bases, a list is provided in pear_merged-fullCyc2_lib9.assembled.dmult_maxee1_noN.unique.flip.accnos. If the reverse compliment proved to be better it was reported.\r\n",
      "It took 733 secs to align 1551658 sequences.\r\n",
      "\r\n",
      "\r\n",
      "Output File Names: \r\n",
      "pear_merged-fullCyc2_lib9.assembled.dmult_maxee1_noN.unique.align\r\n",
      "pear_merged-fullCyc2_lib9.assembled.dmult_maxee1_noN.unique.align.report\r\n",
      "pear_merged-fullCyc2_lib9.assembled.dmult_maxee1_noN.unique.flip.accnos\r\n",
      "\r\n",
      "\r\n",
      "mothur > quit()\r\n",
      "\r\n",
      "\r\n",
      "<<<<<<<<<<<<<<<<<<<<<<<<<<<<<<^>>>>>>>>>>>>>>>>>>>>>>>>>>>>>\r\n",
      "<<<<<<<<<<<<<<<<<<<<<<<<<<<<<<^>>>>>>>>>>>>>>>>>>>>>>>>>>>>>\r\n",
      "<<<<<<<<<<<<<<<<<<<<<<<<<<<<<<^>>>>>>>>>>>>>>>>>>>>>>>>>>>>>\r\n",
      "Detected 1 [WARNING] messages, please review.\r\n",
      "<<<<<<<<<<<<<<<<<<<<<<<<<<<<<<^>>>>>>>>>>>>>>>>>>>>>>>>>>>>>\r\n",
      "<<<<<<<<<<<<<<<<<<<<<<<<<<<<<<^>>>>>>>>>>>>>>>>>>>>>>>>>>>>>\r\n",
      "<<<<<<<<<<<<<<<<<<<<<<<<<<<<<<^>>>>>>>>>>>>>>>>>>>>>>>>>>>>>\r\n"
     ]
    }
   ],
   "source": [
    "# aligning sequences\n",
    "qcFile3a = re.sub('-', '\\-', qcFile3)\n",
    "cmd = 'mothur \"#align.seqs(candidate={}, template={}, processors={}, flip=T)\"'.format(qcFile3a, silvaFileFilt, nprocs)\n",
    "!$cmd | tail -n 30"
   ]
  },
  {
   "cell_type": "code",
   "execution_count": 20,
   "metadata": {
    "collapsed": false
   },
   "outputs": [
    {
     "name": "stdout",
     "output_type": "stream",
     "text": [
      "-rw-rw-r-- 1 sam sam 15G May 16 13:04 pear_merged-fullCyc2_lib9.assembled.dmult_maxee1_noN.unique.align\r\n"
     ]
    }
   ],
   "source": [
    "qcFile4 = os.path.splitext(qcFile3)[0] + '.align'\n",
    "!ls -thlc $qcFile4 "
   ]
  },
  {
   "cell_type": "code",
   "execution_count": 21,
   "metadata": {
    "collapsed": false
   },
   "outputs": [
    {
     "name": "stdout",
     "output_type": "stream",
     "text": [
      "76100\r\n",
      "76200\r\n",
      "76300\r\n",
      "76400\r\n",
      "76500\r\n",
      "76600\r\n",
      "76700\r\n",
      "76800\r\n",
      "76900\r\n",
      "77000\r\n",
      "77100\r\n",
      "77200\r\n",
      "77300\r\n",
      "77400\r\n",
      "77500\r\n",
      "77595\r\n",
      "\r\n",
      "\r\n",
      "\r\n",
      "Length of filtered alignment: 1359\r\n",
      "Number of columns removed: 8821\r\n",
      "Length of the original alignment: 10180\r\n",
      "Number of sequences used to construct filter: 1551658\r\n",
      "\r\n",
      "Output File Names: \r\n",
      "pear_merged-fullCyc2_lib9.filter\r\n",
      "pear_merged-fullCyc2_lib9.assembled.dmult_maxee1_noN.unique.filter.fasta\r\n",
      "\r\n",
      "\r\n",
      "mothur > quit()\r\n"
     ]
    }
   ],
   "source": [
    "# filtering out gap positions in the alignment\n",
    "qcFile4a = re.sub('-', '\\-', qcFile4)\n",
    "cmd = 'mothur \"#filter.seqs(vertical=t, fasta={}, processors={})\"'.format(qcFile4a, nprocs)\n",
    "!$cmd | tail -n 30"
   ]
  },
  {
   "cell_type": "code",
   "execution_count": 22,
   "metadata": {
    "collapsed": false
   },
   "outputs": [
    {
     "name": "stdout",
     "output_type": "stream",
     "text": [
      "-rw-rw-r-- 1 sam sam 2.1G May 16 13:05 pear_merged-fullCyc2_lib9.assembled.dmult_maxee1_noN.unique.filter.fasta\r\n"
     ]
    }
   ],
   "source": [
    "qcFile5 = os.path.splitext(qcFile3)[0] + '.filter.fasta'\n",
    "!ls -thlc $qcFile5"
   ]
  },
  {
   "cell_type": "code",
   "execution_count": 23,
   "metadata": {
    "collapsed": false
   },
   "outputs": [
    {
     "name": "stdout",
     "output_type": "stream",
     "text": [
      "Using 20 processors.\r\n",
      "\r\n",
      "\t\tStart\tEnd\tNBases\tAmbigs\tPolymer\tNumSeqs\r\n",
      "Minimum:\t0\t0\t0\t0\t1\t1\r\n",
      "2.5%-tile:\t319\t1050\t252\t0\t4\t55853\r\n",
      "25%-tile:\t319\t1050\t253\t0\t4\t558528\r\n",
      "Median: \t319\t1050\t253\t0\t5\t1117055\r\n",
      "75%-tile:\t319\t1050\t253\t0\t6\t1675582\r\n",
      "97.5%-tile:\t319\t1050\t254\t0\t7\t2178257\r\n",
      "Maximum:\t1359\t1359\t399\t0\t47\t2234109\r\n",
      "Mean:\t320.507\t1049.86\t252.233\t0\t5.01007\r\n",
      "# of unique seqs:\t1551658\r\n",
      "total # of seqs:\t2234109\r\n",
      "\r\n",
      "Output File Names: \r\n",
      "pear_merged-fullCyc2_lib9.assembled.dmult_maxee1_noN.unique.filter.summary\r\n",
      "\r\n",
      "It took 27 secs to summarize 2234109 sequences.\r\n",
      "\r\n",
      "mothur > quit()\r\n"
     ]
    }
   ],
   "source": [
    "cmd = 'mothur \"#summary.seqs(fasta={}, processors={}, name={})\"'.format(qcFile5, nprocs, nameFile)\n",
    "!$cmd | tail -n 20"
   ]
  },
  {
   "cell_type": "markdown",
   "metadata": {},
   "source": [
    "## Removing homopolymers (> 8) and screening out sequences that don't align to an amplicon region"
   ]
  },
  {
   "cell_type": "code",
   "execution_count": 24,
   "metadata": {
    "collapsed": false
   },
   "outputs": [
    {
     "name": "stdout",
     "output_type": "stream",
     "text": [
      "Processing sequence: 75900\r\n",
      "Processing sequence: 76000\r\n",
      "Processing sequence: 76100\r\n",
      "Processing sequence: 76200\r\n",
      "Processing sequence: 76300\r\n",
      "Processing sequence: 76400\r\n",
      "Processing sequence: 76500\r\n",
      "Processing sequence: 76600\r\n",
      "Processing sequence: 76700\r\n",
      "Processing sequence: 76800\r\n",
      "Processing sequence: 76900\r\n",
      "Processing sequence: 77000\r\n",
      "Processing sequence: 77100\r\n",
      "Processing sequence: 77200\r\n",
      "Processing sequence: 77300\r\n",
      "Processing sequence: 77400\r\n",
      "Processing sequence: 77500\r\n",
      "Processing sequence: 77600\r\n",
      "Processing sequence: 77670\r\n",
      "\r\n",
      "Output File Names: \r\n",
      "pear_merged-fullCyc2_lib9.assembled.dmult_maxee1_noN.unique.filter.good.fasta\r\n",
      "pear_merged-fullCyc2_lib9.assembled.dmult_maxee1_noN.unique.filter.bad.accnos\r\n",
      "pear_merged-fullCyc2_lib9.assembled.dmult_maxee1_noN.good.names\r\n",
      "group_file.good.txt\r\n",
      "\r\n",
      "\r\n",
      "It took 27 secs to screen 1551658 sequences.\r\n",
      "\r\n",
      "mothur > quit()\r\n"
     ]
    }
   ],
   "source": [
    "cmd = \"\"\"mothur '#screen.seqs(fasta={},\\\n",
    "    processors={},\\\n",
    "    name={},\\\n",
    "    group={},\\\n",
    "    start={},\\\n",
    "    end={},\\\n",
    "    maxhomop=8)'\"\"\".format(qcFile5, nprocs, nameFile, 'group_file.txt', 319, 1050)\n",
    "!$cmd | tail -n 30"
   ]
  },
  {
   "cell_type": "code",
   "execution_count": 25,
   "metadata": {
    "collapsed": false
   },
   "outputs": [
    {
     "name": "stdout",
     "output_type": "stream",
     "text": [
      "Number of sequences post-filter: 1516853\n"
     ]
    }
   ],
   "source": [
    "qcFile6 = os.path.splitext(qcFile5)[0] + '.good.fasta'\n",
    "ret = !grep -c \">\" $qcFile6\n",
    "print ('Number of sequences post-filter: {}'.format(ret[0]))"
   ]
  },
  {
   "cell_type": "code",
   "execution_count": 26,
   "metadata": {
    "collapsed": false
   },
   "outputs": [
    {
     "name": "stdout",
     "output_type": "stream",
     "text": [
      "75500\r\n",
      "75600\r\n",
      "75700\r\n",
      "75800\r\n",
      "75900\r\n",
      "75928\r\n",
      "\r\n",
      "\r\n",
      "\r\n",
      "Length of filtered alignment: 955\r\n",
      "Number of columns removed: 404\r\n",
      "Length of the original alignment: 1359\r\n",
      "Number of sequences used to construct filter: 1516853\r\n",
      "\r\n",
      "Output File Names: \r\n",
      "pear_merged-fullCyc2_lib9.filter\r\n",
      "pear_merged-fullCyc2_lib9.assembled.dmult_maxee1_noN.unique.filter.good.filter.fasta\r\n",
      "\r\n",
      "\r\n",
      "mothur > quit()\r\n"
     ]
    }
   ],
   "source": [
    "qcFile6a = re.sub('-', '\\-', qcFile6)\n",
    "cmd = 'mothur \"#filter.seqs(fasta={}, processors={}, vertical=T)\"'.format(qcFile6a, nprocs)\n",
    "!$cmd | tail -n 20"
   ]
  },
  {
   "cell_type": "code",
   "execution_count": 27,
   "metadata": {
    "collapsed": false
   },
   "outputs": [
    {
     "name": "stdout",
     "output_type": "stream",
     "text": [
      "-rw-rw-r-- 1 sam sam 1.4G May 16 13:07 pear_merged-fullCyc2_lib9.assembled.dmult_maxee1_noN.unique.filter.good.filter.fasta\r\n"
     ]
    }
   ],
   "source": [
    "qcFile7 = os.path.splitext(qcFile6)[0] + '.filter.fasta'\n",
    "!ls -thlc $qcFile7"
   ]
  },
  {
   "cell_type": "markdown",
   "metadata": {},
   "source": [
    "## Deunique seqs"
   ]
  },
  {
   "cell_type": "code",
   "execution_count": 28,
   "metadata": {
    "collapsed": false
   },
   "outputs": [
    {
     "name": "stdout",
     "output_type": "stream",
     "text": [
      "mothur v.1.39.5\r\n",
      "Last updated: 3/20/2017\r\n",
      "\r\n",
      "by\r\n",
      "Patrick D. Schloss\r\n",
      "\r\n",
      "Department of Microbiology & Immunology\r\n",
      "University of Michigan\r\n",
      "http://www.mothur.org\r\n",
      "\r\n",
      "When using, please cite:\r\n",
      "Schloss, P.D., et al., Introducing mothur: Open-source, platform-independent, community-supported software for describing and comparing microbial communities. Appl Environ Microbiol, 2009. 75(23):7537-41.\r\n",
      "\r\n",
      "Distributed under the GNU General Public License\r\n",
      "\r\n",
      "Type 'help()' for information on the commands that are available\r\n",
      "\r\n",
      "For questions and analysis support, please visit our forum at https://www.mothur.org/forum\r\n",
      "\r\n",
      "Type 'quit()' to exit program\r\n",
      "\r\n",
      "\r\n",
      "\r\n",
      "mothur > deunique.seqs(fasta=pear_merged-fullCyc2_lib9.assembled.dmult_maxee1_noN.unique.filter.good.filter.fasta, name=pear_merged-fullCyc2_lib9.assembled.dmult_maxee1_noN.names)\r\n",
      "\r\n",
      "Output File Names: \r\n",
      "pear_merged-fullCyc2_lib9.assembled.dmult_maxee1_noN.unique.filter.good.filter.redundant.fasta\r\n",
      "\r\n",
      "\r\n",
      "mothur > quit()\r\n"
     ]
    }
   ],
   "source": [
    "cmd = 'mothur \"#deunique.seqs(fasta={}, name={})\"'.format(qcFile7, nameFile)\n",
    "!$cmd | tail -n 30"
   ]
  },
  {
   "cell_type": "markdown",
   "metadata": {},
   "source": [
    "### Final QC-ed file"
   ]
  },
  {
   "cell_type": "code",
   "execution_count": 29,
   "metadata": {
    "collapsed": true
   },
   "outputs": [],
   "source": [
    "qcFile8 = os.path.splitext(qcFile7)[0] + '.redundant.fasta'\n",
    "qcFinal = 'finalQC.fasta'\n",
    "!perl -pe 's/[-.]//g if ! /^>/' $qcFile8 > $qcFinal"
   ]
  },
  {
   "cell_type": "code",
   "execution_count": 30,
   "metadata": {
    "collapsed": false
   },
   "outputs": [
    {
     "name": "stdout",
     "output_type": "stream",
     "text": [
      "\r\n",
      "Using 20 processors.\r\n",
      "\r\n",
      "\t\tStart\tEnd\tNBases\tAmbigs\tPolymer\tNumSeqs\r\n",
      "Minimum:\t1\t213\t213\t0\t3\t1\r\n",
      "2.5%-tile:\t1\t253\t253\t0\t4\t54763\r\n",
      "25%-tile:\t1\t253\t253\t0\t4\t547623\r\n",
      "Median: \t1\t253\t253\t0\t5\t1095246\r\n",
      "75%-tile:\t1\t253\t253\t0\t6\t1642869\r\n",
      "97.5%-tile:\t1\t254\t254\t0\t7\t2135729\r\n",
      "Maximum:\t1\t399\t399\t0\t8\t2190491\r\n",
      "Mean:\t1\t252.775\t252.775\t0\t4.99381\r\n",
      "# of Seqs:\t2190491\r\n",
      "\r\n",
      "Output File Names: \r\n",
      "finalQC.summary\r\n",
      "\r\n",
      "It took 2 secs to summarize 2190491 sequences.\r\n",
      "\r\n",
      "mothur > quit()\r\n"
     ]
    }
   ],
   "source": [
    "cmd = 'mothur \"#summary.seqs(fasta={}, processors={})\"'.format(qcFinal, nprocs)\n",
    "!$cmd | tail -n 20"
   ]
  },
  {
   "cell_type": "code",
   "execution_count": 31,
   "metadata": {
    "collapsed": false
   },
   "outputs": [
    {
     "name": "stdout",
     "output_type": "stream",
     "text": [
      ">MR.A.12C-Con.D1.R1_Frac12_0\r\n",
      "TACGGAGGATGCAAGCGTTATCCGGAATGATTGGGCGTAAAGGGTCCGCAGGTGGCAGTGTAAGTCTGCTGTCAAAGAATGAGGCTTAACCTCATCAAGGCAGTGGAAACTACACAGCTAGAGTACGGTCGGGGTAGAAGGAATTCCTGGTGTAGCGGTGAAATGCGTAGAGATCAGGAAGAACACCGGTGGCGAAAGCGTTCTGCTAGACCTGTACTGACACTGAGGGACGAAAGCTAGGGGAGCGAATGGG\r\n",
      ">MR.A.12C-Con.D14.R1_Frac26_11765\r\n",
      "TACGGAGGATGCAAGCGTTATCCGGAATGATTGGGCGTAAAGGGTCCGCAGGTGGCAGTGTAAGTCTGCTGTCAAAGAATGAGGCTTAACCTCATCAAGGCAGTGGAAACTACACAGCTAGAGTACGGTCGGGGTAGAAGGAATTCCTGGTGTAGCGGTGAAATGCGTAGAGATCAGGAAGAACACCGGTGGCGAAAGCGTTCTGCTAGACCTGTACTGACACTGAGGGACGAAAGCTAGGGGAGCGAATGGG\r\n",
      ">MR.A.12C-Con.D1.R1_Frac24_11954\r\n",
      "TACGGAGGATGCAAGCGTTATCCGGAATGATTGGGCGTAAAGGGTCCGCAGGTGGCAGTGTAAGTCTGCTGTCAAAGAATGAGGCTTAACCTCATCAAGGCAGTGGAAACTACACAGCTAGAGTACGGTCGGGGTAGAAGGAATTCCTGGTGTAGCGGTGAAATGCGTAGAGATCAGGAAGAACACCGGTGGCGAAAGCGTTCTGCTAGACCTGTACTGACACTGAGGGACGAAAGCTAGGGGAGCGAATGGG\r\n"
     ]
    }
   ],
   "source": [
    "!head -n 6 $qcFinal"
   ]
  },
  {
   "cell_type": "markdown",
   "metadata": {},
   "source": [
    "## Summary of number of seqs per sample"
   ]
  },
  {
   "cell_type": "code",
   "execution_count": 32,
   "metadata": {
    "collapsed": true
   },
   "outputs": [],
   "source": [
    "re1 = re.compile('_[0-9]+$')\n",
    "\n",
    "qcFinalSum = os.path.splitext(qcFinal)[0] + '.summary'\n",
    "\n",
    "samp_count = dict()\n",
    "with open(qcFinalSum, 'r') as inFH:\n",
    "    for line in inFH:\n",
    "        if line.startswith('seqname'):\n",
    "            continue\n",
    "        line = line.rstrip().split('\\t')\n",
    "        line[0] = re.sub(re1, '', line[0])\n",
    "        try:\n",
    "            samp_count[line[0]] += 1\n",
    "        except KeyError:\n",
    "            samp_count[line[0]] = 1"
   ]
  },
  {
   "cell_type": "code",
   "execution_count": 33,
   "metadata": {
    "collapsed": false
   },
   "outputs": [
    {
     "data": {
      "text/html": [
       "<div>\n",
       "<style scoped>\n",
       "    .dataframe tbody tr th:only-of-type {\n",
       "        vertical-align: middle;\n",
       "    }\n",
       "\n",
       "    .dataframe tbody tr th {\n",
       "        vertical-align: top;\n",
       "    }\n",
       "\n",
       "    .dataframe thead th {\n",
       "        text-align: right;\n",
       "    }\n",
       "</style>\n",
       "<table border=\"1\" class=\"dataframe\">\n",
       "  <thead>\n",
       "    <tr style=\"text-align: right;\">\n",
       "      <th></th>\n",
       "      <th>Sample</th>\n",
       "      <th>seq_count</th>\n",
       "    </tr>\n",
       "  </thead>\n",
       "  <tbody>\n",
       "    <tr>\n",
       "      <th>0</th>\n",
       "      <td>MR.A.12C-Con.D1.R1_Frac12</td>\n",
       "      <td>17001</td>\n",
       "    </tr>\n",
       "    <tr>\n",
       "      <th>1</th>\n",
       "      <td>MR.A.12C-Con.D14.R1_Frac26</td>\n",
       "      <td>14640</td>\n",
       "    </tr>\n",
       "    <tr>\n",
       "      <th>2</th>\n",
       "      <td>MR.A.12C-Con.D1.R1_Frac24</td>\n",
       "      <td>7922</td>\n",
       "    </tr>\n",
       "    <tr>\n",
       "      <th>3</th>\n",
       "      <td>MR.A.13C-Xyl.D6.R1_Frac6</td>\n",
       "      <td>16757</td>\n",
       "    </tr>\n",
       "    <tr>\n",
       "      <th>4</th>\n",
       "      <td>MR.A.12C-Con.D14.R1_Frac8</td>\n",
       "      <td>19697</td>\n",
       "    </tr>\n",
       "    <tr>\n",
       "      <th>5</th>\n",
       "      <td>MR.A.12C-Con.D1.R1_Frac4</td>\n",
       "      <td>24832</td>\n",
       "    </tr>\n",
       "    <tr>\n",
       "      <th>6</th>\n",
       "      <td>MR.A.13C-Cel.D30.R3_Frac22</td>\n",
       "      <td>5034</td>\n",
       "    </tr>\n",
       "    <tr>\n",
       "      <th>7</th>\n",
       "      <td>MR.A.12C-Con.D1.R1_Frac25</td>\n",
       "      <td>9326</td>\n",
       "    </tr>\n",
       "    <tr>\n",
       "      <th>8</th>\n",
       "      <td>MR.A.12C-Con.D1.R1_Frac23</td>\n",
       "      <td>5954</td>\n",
       "    </tr>\n",
       "    <tr>\n",
       "      <th>9</th>\n",
       "      <td>MR.A.12C-Con.D14.R1_Frac22</td>\n",
       "      <td>15891</td>\n",
       "    </tr>\n",
       "    <tr>\n",
       "      <th>10</th>\n",
       "      <td>MR.A.12C-Con.D14.R1_Frac10</td>\n",
       "      <td>25336</td>\n",
       "    </tr>\n",
       "    <tr>\n",
       "      <th>11</th>\n",
       "      <td>MR.A.12C-Con.D14.R1_Frac7</td>\n",
       "      <td>16195</td>\n",
       "    </tr>\n",
       "    <tr>\n",
       "      <th>12</th>\n",
       "      <td>MR.A.12C-Con.D1.R1_Frac9</td>\n",
       "      <td>17247</td>\n",
       "    </tr>\n",
       "    <tr>\n",
       "      <th>13</th>\n",
       "      <td>MR.A.12C-Con.D1.R1_Frac22</td>\n",
       "      <td>8650</td>\n",
       "    </tr>\n",
       "    <tr>\n",
       "      <th>14</th>\n",
       "      <td>MR.A.12C-Con.D1.R1_Frac6</td>\n",
       "      <td>14645</td>\n",
       "    </tr>\n",
       "    <tr>\n",
       "      <th>15</th>\n",
       "      <td>MR.A.13C-Cel.D30.R3_Frac21</td>\n",
       "      <td>6506</td>\n",
       "    </tr>\n",
       "    <tr>\n",
       "      <th>16</th>\n",
       "      <td>MR.A.13C-Xyl.D6.R1_Frac5</td>\n",
       "      <td>21476</td>\n",
       "    </tr>\n",
       "    <tr>\n",
       "      <th>17</th>\n",
       "      <td>MR.A.12C-Con.D14.R1_Frac14</td>\n",
       "      <td>20536</td>\n",
       "    </tr>\n",
       "    <tr>\n",
       "      <th>18</th>\n",
       "      <td>MR.A.12C-Con.D14.R1_Frac6</td>\n",
       "      <td>24657</td>\n",
       "    </tr>\n",
       "    <tr>\n",
       "      <th>19</th>\n",
       "      <td>MR.A.13C-Xyl.D6.R1_Frac3</td>\n",
       "      <td>16275</td>\n",
       "    </tr>\n",
       "    <tr>\n",
       "      <th>20</th>\n",
       "      <td>MR.A.13C-Cel.D30.R3_Frac5</td>\n",
       "      <td>12330</td>\n",
       "    </tr>\n",
       "    <tr>\n",
       "      <th>21</th>\n",
       "      <td>MR.A.12C-Con.D14.R1_Frac23</td>\n",
       "      <td>10422</td>\n",
       "    </tr>\n",
       "    <tr>\n",
       "      <th>22</th>\n",
       "      <td>MR.A.12C-Con.D1.R1_Frac7</td>\n",
       "      <td>15171</td>\n",
       "    </tr>\n",
       "    <tr>\n",
       "      <th>23</th>\n",
       "      <td>MR.A.13C-Cel.D30.R3_Frac26</td>\n",
       "      <td>6094</td>\n",
       "    </tr>\n",
       "    <tr>\n",
       "      <th>24</th>\n",
       "      <td>MR.A.12C-Con.D14.R1_Frac20</td>\n",
       "      <td>10562</td>\n",
       "    </tr>\n",
       "    <tr>\n",
       "      <th>25</th>\n",
       "      <td>MR.A.13C-Cel.D30.R3_Frac27</td>\n",
       "      <td>13942</td>\n",
       "    </tr>\n",
       "    <tr>\n",
       "      <th>26</th>\n",
       "      <td>MR.A.12C-Con.D1.R1_Frac5</td>\n",
       "      <td>15584</td>\n",
       "    </tr>\n",
       "    <tr>\n",
       "      <th>27</th>\n",
       "      <td>MR.A.13C-Cel.D30.R3_Frac23</td>\n",
       "      <td>8803</td>\n",
       "    </tr>\n",
       "    <tr>\n",
       "      <th>28</th>\n",
       "      <td>MR.F.13C-Ami.D6.R2_Frac14</td>\n",
       "      <td>17974</td>\n",
       "    </tr>\n",
       "    <tr>\n",
       "      <th>29</th>\n",
       "      <td>MR.F.12C-Con.D3.R1_Frac7</td>\n",
       "      <td>18826</td>\n",
       "    </tr>\n",
       "    <tr>\n",
       "      <th>...</th>\n",
       "      <td>...</td>\n",
       "      <td>...</td>\n",
       "    </tr>\n",
       "    <tr>\n",
       "      <th>154</th>\n",
       "      <td>MR.M.13C-Xyl.D1.R1_Frac16</td>\n",
       "      <td>9745</td>\n",
       "    </tr>\n",
       "    <tr>\n",
       "      <th>155</th>\n",
       "      <td>MR.A.12C-Con.D1.R1_Frac17</td>\n",
       "      <td>11983</td>\n",
       "    </tr>\n",
       "    <tr>\n",
       "      <th>156</th>\n",
       "      <td>MR.M.13C-Xyl.D1.R1_Frac23</td>\n",
       "      <td>6364</td>\n",
       "    </tr>\n",
       "    <tr>\n",
       "      <th>157</th>\n",
       "      <td>MR.F.12C-Con.D6.R2_Frac17</td>\n",
       "      <td>5824</td>\n",
       "    </tr>\n",
       "    <tr>\n",
       "      <th>158</th>\n",
       "      <td>MR.M.13C-Xyl.D1.R1_Frac11</td>\n",
       "      <td>8339</td>\n",
       "    </tr>\n",
       "    <tr>\n",
       "      <th>159</th>\n",
       "      <td>MR.A.13C-Cel.D30.R3_Frac10</td>\n",
       "      <td>5670</td>\n",
       "    </tr>\n",
       "    <tr>\n",
       "      <th>160</th>\n",
       "      <td>MR.A.12C-Con.D14.R1_Frac13</td>\n",
       "      <td>8154</td>\n",
       "    </tr>\n",
       "    <tr>\n",
       "      <th>161</th>\n",
       "      <td>MR.M.13C-Xyl.D1.R1_Frac24</td>\n",
       "      <td>5903</td>\n",
       "    </tr>\n",
       "    <tr>\n",
       "      <th>162</th>\n",
       "      <td>MR.F.12C-Con.D6.R2_Frac15</td>\n",
       "      <td>6461</td>\n",
       "    </tr>\n",
       "    <tr>\n",
       "      <th>163</th>\n",
       "      <td>MR.A.12C-Con.D1.R1_Frac14</td>\n",
       "      <td>11702</td>\n",
       "    </tr>\n",
       "    <tr>\n",
       "      <th>164</th>\n",
       "      <td>MR.F.12C-Con.D6.R2_Frac13</td>\n",
       "      <td>7481</td>\n",
       "    </tr>\n",
       "    <tr>\n",
       "      <th>165</th>\n",
       "      <td>MR.M.13C-Xyl.D1.R1_Frac25</td>\n",
       "      <td>6128</td>\n",
       "    </tr>\n",
       "    <tr>\n",
       "      <th>166</th>\n",
       "      <td>MR.A.12C-Con.D14.R1_Frac21</td>\n",
       "      <td>6011</td>\n",
       "    </tr>\n",
       "    <tr>\n",
       "      <th>167</th>\n",
       "      <td>MR.A.12C-Con.D1.R1_Frac10</td>\n",
       "      <td>11236</td>\n",
       "    </tr>\n",
       "    <tr>\n",
       "      <th>168</th>\n",
       "      <td>MR.A.12C-Con.D1.R1_Frac26</td>\n",
       "      <td>9665</td>\n",
       "    </tr>\n",
       "    <tr>\n",
       "      <th>169</th>\n",
       "      <td>MR.F.12C-Con.D3.R1_Frac19</td>\n",
       "      <td>8805</td>\n",
       "    </tr>\n",
       "    <tr>\n",
       "      <th>170</th>\n",
       "      <td>MR.A.13C-Cel.D30.R3_Frac17</td>\n",
       "      <td>11124</td>\n",
       "    </tr>\n",
       "    <tr>\n",
       "      <th>171</th>\n",
       "      <td>MR.A.13C-Cel.D30.R3_Frac14</td>\n",
       "      <td>5636</td>\n",
       "    </tr>\n",
       "    <tr>\n",
       "      <th>172</th>\n",
       "      <td>MR.A.13C-Xyl.D6.R1_Frac10</td>\n",
       "      <td>10168</td>\n",
       "    </tr>\n",
       "    <tr>\n",
       "      <th>173</th>\n",
       "      <td>MR.F.13C-Ami.D6.R2_Frac27</td>\n",
       "      <td>6127</td>\n",
       "    </tr>\n",
       "    <tr>\n",
       "      <th>174</th>\n",
       "      <td>MR.A.12C-Con.D14.R1_NC</td>\n",
       "      <td>1227</td>\n",
       "    </tr>\n",
       "    <tr>\n",
       "      <th>175</th>\n",
       "      <td>MR.A.13C-Cel.D30.R3_Frac9</td>\n",
       "      <td>12663</td>\n",
       "    </tr>\n",
       "    <tr>\n",
       "      <th>176</th>\n",
       "      <td>MR.F.13C-Ami.D6.R2_Frac25</td>\n",
       "      <td>4792</td>\n",
       "    </tr>\n",
       "    <tr>\n",
       "      <th>177</th>\n",
       "      <td>MR.M.13C-Xyl.D1.R1_NC</td>\n",
       "      <td>626</td>\n",
       "    </tr>\n",
       "    <tr>\n",
       "      <th>178</th>\n",
       "      <td>MR.A.12C-Con.D14.R1_MC</td>\n",
       "      <td>6793</td>\n",
       "    </tr>\n",
       "    <tr>\n",
       "      <th>179</th>\n",
       "      <td>MR.F.12C-Con.D6.R2_NC</td>\n",
       "      <td>1068</td>\n",
       "    </tr>\n",
       "    <tr>\n",
       "      <th>180</th>\n",
       "      <td>MR.F.13C-Ami.D6.R2_NC</td>\n",
       "      <td>836</td>\n",
       "    </tr>\n",
       "    <tr>\n",
       "      <th>181</th>\n",
       "      <td>MR.A.13C-Cel.D30.R3_NC</td>\n",
       "      <td>219</td>\n",
       "    </tr>\n",
       "    <tr>\n",
       "      <th>182</th>\n",
       "      <td>MR.F.12C-Con.D3.R1_NC</td>\n",
       "      <td>162</td>\n",
       "    </tr>\n",
       "    <tr>\n",
       "      <th>183</th>\n",
       "      <td>MR.A.12C-Con.D1.R1_NC</td>\n",
       "      <td>280</td>\n",
       "    </tr>\n",
       "  </tbody>\n",
       "</table>\n",
       "<p>184 rows × 2 columns</p>\n",
       "</div>"
      ],
      "text/plain": [
       "                         Sample  seq_count\n",
       "0     MR.A.12C-Con.D1.R1_Frac12      17001\n",
       "1    MR.A.12C-Con.D14.R1_Frac26      14640\n",
       "2     MR.A.12C-Con.D1.R1_Frac24       7922\n",
       "3      MR.A.13C-Xyl.D6.R1_Frac6      16757\n",
       "4     MR.A.12C-Con.D14.R1_Frac8      19697\n",
       "5      MR.A.12C-Con.D1.R1_Frac4      24832\n",
       "6    MR.A.13C-Cel.D30.R3_Frac22       5034\n",
       "7     MR.A.12C-Con.D1.R1_Frac25       9326\n",
       "8     MR.A.12C-Con.D1.R1_Frac23       5954\n",
       "9    MR.A.12C-Con.D14.R1_Frac22      15891\n",
       "10   MR.A.12C-Con.D14.R1_Frac10      25336\n",
       "11    MR.A.12C-Con.D14.R1_Frac7      16195\n",
       "12     MR.A.12C-Con.D1.R1_Frac9      17247\n",
       "13    MR.A.12C-Con.D1.R1_Frac22       8650\n",
       "14     MR.A.12C-Con.D1.R1_Frac6      14645\n",
       "15   MR.A.13C-Cel.D30.R3_Frac21       6506\n",
       "16     MR.A.13C-Xyl.D6.R1_Frac5      21476\n",
       "17   MR.A.12C-Con.D14.R1_Frac14      20536\n",
       "18    MR.A.12C-Con.D14.R1_Frac6      24657\n",
       "19     MR.A.13C-Xyl.D6.R1_Frac3      16275\n",
       "20    MR.A.13C-Cel.D30.R3_Frac5      12330\n",
       "21   MR.A.12C-Con.D14.R1_Frac23      10422\n",
       "22     MR.A.12C-Con.D1.R1_Frac7      15171\n",
       "23   MR.A.13C-Cel.D30.R3_Frac26       6094\n",
       "24   MR.A.12C-Con.D14.R1_Frac20      10562\n",
       "25   MR.A.13C-Cel.D30.R3_Frac27      13942\n",
       "26     MR.A.12C-Con.D1.R1_Frac5      15584\n",
       "27   MR.A.13C-Cel.D30.R3_Frac23       8803\n",
       "28    MR.F.13C-Ami.D6.R2_Frac14      17974\n",
       "29     MR.F.12C-Con.D3.R1_Frac7      18826\n",
       "..                          ...        ...\n",
       "154   MR.M.13C-Xyl.D1.R1_Frac16       9745\n",
       "155   MR.A.12C-Con.D1.R1_Frac17      11983\n",
       "156   MR.M.13C-Xyl.D1.R1_Frac23       6364\n",
       "157   MR.F.12C-Con.D6.R2_Frac17       5824\n",
       "158   MR.M.13C-Xyl.D1.R1_Frac11       8339\n",
       "159  MR.A.13C-Cel.D30.R3_Frac10       5670\n",
       "160  MR.A.12C-Con.D14.R1_Frac13       8154\n",
       "161   MR.M.13C-Xyl.D1.R1_Frac24       5903\n",
       "162   MR.F.12C-Con.D6.R2_Frac15       6461\n",
       "163   MR.A.12C-Con.D1.R1_Frac14      11702\n",
       "164   MR.F.12C-Con.D6.R2_Frac13       7481\n",
       "165   MR.M.13C-Xyl.D1.R1_Frac25       6128\n",
       "166  MR.A.12C-Con.D14.R1_Frac21       6011\n",
       "167   MR.A.12C-Con.D1.R1_Frac10      11236\n",
       "168   MR.A.12C-Con.D1.R1_Frac26       9665\n",
       "169   MR.F.12C-Con.D3.R1_Frac19       8805\n",
       "170  MR.A.13C-Cel.D30.R3_Frac17      11124\n",
       "171  MR.A.13C-Cel.D30.R3_Frac14       5636\n",
       "172   MR.A.13C-Xyl.D6.R1_Frac10      10168\n",
       "173   MR.F.13C-Ami.D6.R2_Frac27       6127\n",
       "174      MR.A.12C-Con.D14.R1_NC       1227\n",
       "175   MR.A.13C-Cel.D30.R3_Frac9      12663\n",
       "176   MR.F.13C-Ami.D6.R2_Frac25       4792\n",
       "177       MR.M.13C-Xyl.D1.R1_NC        626\n",
       "178      MR.A.12C-Con.D14.R1_MC       6793\n",
       "179       MR.F.12C-Con.D6.R2_NC       1068\n",
       "180       MR.F.13C-Ami.D6.R2_NC        836\n",
       "181      MR.A.13C-Cel.D30.R3_NC        219\n",
       "182       MR.F.12C-Con.D3.R1_NC        162\n",
       "183       MR.A.12C-Con.D1.R1_NC        280\n",
       "\n",
       "[184 rows x 2 columns]"
      ]
     },
     "execution_count": 33,
     "metadata": {},
     "output_type": "execute_result"
    }
   ],
   "source": [
    "# converting to dataframe\n",
    "df_seq_cnt = pd.DataFrame.from_dict(samp_count, orient='index')\n",
    "df_seq_cnt.index.name = 'Sample'\n",
    "df_seq_cnt.reset_index(inplace=True)\n",
    "df_seq_cnt.columns = ['Sample', 'seq_count']\n",
    "df_seq_cnt"
   ]
  },
  {
   "cell_type": "code",
   "execution_count": 34,
   "metadata": {
    "collapsed": false
   },
   "outputs": [
    {
     "data": {
      "image/png": "[encoded data removed]"
     },
     "metadata": {},
     "output_type": "display_data"
    }
   ],
   "source": [
    "%%R -i df_seq_cnt -w 800 -h 350\n",
    "# plotting all\n",
    "\n",
    "df_seq_cnt$seq_count = as.numeric(df_seq_cnt$seq_count)\n",
    "\n",
    "\n",
    "df_seq_cnt = df_seq_cnt %>% \n",
    "    #mutate(H2O = grepl('_F0$', Sample)) %>%\n",
    "    mutate(rank = min_rank(seq_count)) %>%\n",
    "    arrange(desc(rank))\n",
    "\n",
    "df_seq_cnt$Sample = factor(df_seq_cnt$Sample, levels=df_seq_cnt$Sample)\n",
    "\n",
    "ggplot(df_seq_cnt, aes(Sample, seq_count)) +\n",
    "    geom_bar(stat='identity') +\n",
    "    theme_bw() +\n",
    "    theme(\n",
    "        text = element_text(size=16),\n",
    "        axis.text.x = element_text(angle=45, hjust=1)\n",
    "    )"
   ]
  },
  {
   "cell_type": "code",
   "execution_count": 36,
   "metadata": {
    "collapsed": false
   },
   "outputs": [
    {
     "data": {
      "text/plain": [
       "                    Sample seq_count rank\n",
       "178 MR.A.12C-Con.D14.R1_NC      1227    7\n",
       "179  MR.F.12C-Con.D6.R2_NC      1068    6\n",
       "180  MR.F.13C-Ami.D6.R2_NC       836    5\n",
       "181  MR.M.13C-Xyl.D1.R1_NC       626    4\n",
       "182  MR.A.12C-Con.D1.R1_NC       280    3\n",
       "183 MR.A.13C-Cel.D30.R3_NC       219    2\n",
       "184  MR.F.12C-Con.D3.R1_NC       162    1\n"
      ]
     },
     "metadata": {},
     "output_type": "display_data"
    }
   ],
   "source": [
    "%%R\n",
    "df_seq_cnt[df_seq_cnt$seq_count < 2000,]"
   ]
  },
  {
   "cell_type": "code",
   "execution_count": null,
   "metadata": {
    "collapsed": true
   },
   "outputs": [],
   "source": []
  },
  {
   "cell_type": "code",
   "execution_count": null,
   "metadata": {
    "collapsed": true
   },
   "outputs": [],
   "source": []
  }
 ],
 "metadata": {
  "anaconda-cloud": {},
  "hide_input": true,
  "kernelspec": {
   "display_name": "Python 3",
   "language": "python",
   "name": "python3"
  },
  "language_info": {
   "codemirror_mode": {
    "name": "ipython",
    "version": 3
   },
   "file_extension": ".py",
   "mimetype": "text/x-python",
   "name": "python",
   "nbconvert_exporter": "python",
   "pygments_lexer": "ipython3",
   "version": "3.6.4"
  },
  "notify_time": "5"
 },
 "nbformat": 4,
 "nbformat_minor": 1
}
