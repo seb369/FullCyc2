{
 "cells": [
  {
   "cell_type": "markdown",
   "metadata": {},
   "source": [
    "# Description\n",
    "\n",
    "* Quality control on MiSeq run data\n",
    "  * post-merging\n",
    "  * post-demultiplexing"
   ]
  },
  {
   "cell_type": "markdown",
   "metadata": {},
   "source": [
    "# Setting variables"
   ]
  },
  {
   "cell_type": "code",
   "execution_count": 1,
   "metadata": {
    "collapsed": true
   },
   "outputs": [],
   "source": [
    "import os\n",
    "\n",
    "baseDir = '/home/seq_data/fullCyc2/amplicon/515F-806R/final_dataset/library_QC/fullCyc2_lib7'\n",
    "workDir = os.path.join(baseDir, 'QC')\n",
    "seqFile = os.path.join(baseDir, 'pear_merged-fullCyc2_lib7.assembled.dmult.fastq')\n",
    "\n",
    "# number of processors\n",
    "nprocs = 20\n",
    "\n",
    "# max expected error\n",
    "maxee = 1"
   ]
  },
  {
   "cell_type": "markdown",
   "metadata": {},
   "source": [
    "# Init"
   ]
  },
  {
   "cell_type": "code",
   "execution_count": 2,
   "metadata": {
    "collapsed": true
   },
   "outputs": [],
   "source": [
    "import re\n",
    "import pandas as pd"
   ]
  },
  {
   "cell_type": "code",
   "execution_count": 3,
   "metadata": {
    "collapsed": false
   },
   "outputs": [],
   "source": [
    "%load_ext rpy2.ipython\n",
    "#%load_ext pushnote"
   ]
  },
  {
   "cell_type": "code",
   "execution_count": 4,
   "metadata": {
    "collapsed": false
   },
   "outputs": [
    {
     "name": "stderr",
     "output_type": "stream",
     "text": [
      "/home/sam/anaconda3/lib/python3.6/site-packages/rpy2/rinterface/__init__.py:145: RRuntimeWarning: \n",
      "Attaching package: ‘dplyr’\n",
      "\n",
      "\n",
      "  warnings.warn(x, RRuntimeWarning)\n",
      "/home/sam/anaconda3/lib/python3.6/site-packages/rpy2/rinterface/__init__.py:145: RRuntimeWarning: The following objects are masked from ‘package:stats’:\n",
      "\n",
      "    filter, lag\n",
      "\n",
      "\n",
      "  warnings.warn(x, RRuntimeWarning)\n",
      "/home/sam/anaconda3/lib/python3.6/site-packages/rpy2/rinterface/__init__.py:145: RRuntimeWarning: The following objects are masked from ‘package:base’:\n",
      "\n",
      "    intersect, setdiff, setequal, union\n",
      "\n",
      "\n",
      "  warnings.warn(x, RRuntimeWarning)\n",
      "/home/sam/anaconda3/lib/python3.6/site-packages/rpy2/rinterface/__init__.py:145: RRuntimeWarning: \n",
      "Attaching package: ‘gridExtra’\n",
      "\n",
      "\n",
      "  warnings.warn(x, RRuntimeWarning)\n",
      "/home/sam/anaconda3/lib/python3.6/site-packages/rpy2/rinterface/__init__.py:145: RRuntimeWarning: The following object is masked from ‘package:dplyr’:\n",
      "\n",
      "    combine\n",
      "\n",
      "\n",
      "  warnings.warn(x, RRuntimeWarning)\n"
     ]
    }
   ],
   "source": [
    "%%R\n",
    "library(ggplot2)\n",
    "library(dplyr)\n",
    "library(tidyr)\n",
    "library(gridExtra)"
   ]
  },
  {
   "cell_type": "code",
   "execution_count": 5,
   "metadata": {
    "collapsed": false
   },
   "outputs": [
    {
     "name": "stdout",
     "output_type": "stream",
     "text": [
      "/home/seq_data/fullCyc2/amplicon/515F-806R/final_dataset/library_QC/fullCyc2_lib7/QC\n"
     ]
    }
   ],
   "source": [
    "if not os.path.isdir(workDir):\n",
    "    os.makedirs(workDir)\n",
    "%cd $workDir"
   ]
  },
  {
   "cell_type": "code",
   "execution_count": 6,
   "metadata": {
    "collapsed": false
   },
   "outputs": [
    {
     "name": "stdout",
     "output_type": "stream",
     "text": [
      "File exists: /home/seq_data/fullCyc2/amplicon/515F-806R/final_dataset/library_QC/fullCyc2_lib7/pear_merged-fullCyc2_lib7.assembled.dmult.fastq\n"
     ]
    }
   ],
   "source": [
    "# symlinking demult seq file into CQ\n",
    "tmp = os.path.join(baseDir, seqFile)\n",
    "if not os.path.isfile(seqFile):\n",
    "    tmp2 = os.path.split(tmp)[1]\n",
    "    os.symlink(tmp, tmp2)\n",
    "else:\n",
    "    print ('File exists: {}'.format(os.path.join(workDir, seqFile)))"
   ]
  },
  {
   "cell_type": "markdown",
   "metadata": {},
   "source": [
    "# Merged read quality filtering"
   ]
  },
  {
   "cell_type": "markdown",
   "metadata": {},
   "source": [
    "## Discard sequences that exceed max expected error theshold"
   ]
  },
  {
   "cell_type": "code",
   "execution_count": 7,
   "metadata": {
    "collapsed": false
   },
   "outputs": [
    {
     "data": {
      "text/plain": [
       "'pear_merged-fullCyc2_lib7.assembled.dmult_maxee1.fasta'"
      ]
     },
     "execution_count": 7,
     "metadata": {},
     "output_type": "execute_result"
    }
   ],
   "source": [
    "qcFile = os.path.split(seqFile)[1]\n",
    "qcFile = os.path.splitext(qcFile)[0] + '_maxee{}.fasta'.format(maxee)\n",
    "qcFile"
   ]
  },
  {
   "cell_type": "code",
   "execution_count": 8,
   "metadata": {
    "collapsed": true
   },
   "outputs": [],
   "source": [
    "%%bash -s \"$seqFile\" \"$nprocs\" \"$maxee\" \"$qcFile\"\n",
    "\n",
    "mkdir /home/sam/tmp/tmpdir1\n",
    "trap \"rm -r /home/sam/tmp/tmpdir1\" 1 2 3 15\n",
    "split -d -l 2000000 $1 /home/sam/tmp/tmpdir1/Block\n",
    "\n",
    "mkdir /home/sam/tmp/tmpdir2\n",
    "trap \"rm -r /home/sam/tmp/tmpdir2\" 1 2 3 15\n",
    "ls /home/sam/tmp/tmpdir1/Block?? | parallel --gnu -j $2 -k \"usearch -fastq_filter {} -fastq_maxee $3 \\\n",
    "-fastaout /home/sam/tmp/tmpdir2/{#}.fasta >/dev/null 2>&1 && cat /home/sam/tmp/tmpdir2/{#}.fasta\" > $4\n",
    "rm -r /home/sam/tmp/tmpdir2 /home/sam/tmp/tmpdir1"
   ]
  },
  {
   "cell_type": "code",
   "execution_count": 9,
   "metadata": {
    "collapsed": false
   },
   "outputs": [
    {
     "name": "stdout",
     "output_type": "stream",
     "text": [
      "Max expected error cutoff: 1\n",
      "Number of sequence pre-filter: 2916329\n",
      "Number of sequences post-filter: 2899121\n",
      "\n",
      ">MR.M.13C-Ami.D1.R2_Frac11_0 orig_name=M01032:453:000000000-AUP9P:1:1101:15192:1903\n",
      "TACGGGGGGGGCAAGCGTTGTTCGGAATTACTGGGCGTAAAGCGCTCGTAGGCGGCCAGCTAAGTCAGATGTGAAATCCC\n",
      "CCGGCTTAACCGGGGAACTGCGTCTGATACTGGATGGCTTGAGGTTGGGAGAGGGATGCGGAATTCCAGGTGTAGCGGTG\n",
      "AAATGCGTAGATATCGCTTGGAACGCCGACGGTGAAGGCAGCTCGCTGGGGCTTCGCTGACGCTGAGACGCGAAAGCCAG\n",
      "GGGAGCAAACGGG\n",
      ">MR.F.12C-Con.D1.R1_Frac16_1 orig_name=M01032:453:000000000-AUP9P:1:1101:14534:1912\n",
      "TACAGAGGTCGCAAGCGTTGTTCGGATTTACTGGGCGTAAAGGGTGCGCAGGCGGCTCGGTAAGTCGGGTGTGAAATCCT\n",
      "GGGGCTTAACCCCGAAACTGCATTCGATACTGCCGTGCTTGAGGACTGGAGAGGAGACTGGAATTTACGGTGTAGCGGTG\n"
     ]
    }
   ],
   "source": [
    "%%bash -s \"$seqFile\" \"$nprocs\" \"$maxee\" \"$qcFile\"\n",
    "\n",
    "printf \"Max expected error cutoff: \"\n",
    "echo $3\n",
    "\n",
    "printf \"Number of sequence pre-filter: \"\n",
    "grep -c \"orig_name=\" $1\n",
    "\n",
    "printf \"Number of sequences post-filter: \"\n",
    "grep -c \">\" $4\n",
    "\n",
    "echo '' \n",
    "head -n 8 $4"
   ]
  },
  {
   "cell_type": "markdown",
   "metadata": {},
   "source": [
    "## Remove seqs with 'N' characters"
   ]
  },
  {
   "cell_type": "code",
   "execution_count": 10,
   "metadata": {
    "collapsed": false
   },
   "outputs": [
    {
     "data": {
      "text/plain": [
       "'pear_merged-fullCyc2_lib7.assembled.dmult_maxee1_noN.fasta'"
      ]
     },
     "execution_count": 10,
     "metadata": {},
     "output_type": "execute_result"
    }
   ],
   "source": [
    "qcFile2 = os.path.splitext(qcFile)[0] + '_noN.fasta'\n",
    "qcFile2"
   ]
  },
  {
   "cell_type": "code",
   "execution_count": 11,
   "metadata": {
    "collapsed": false
   },
   "outputs": [
    {
     "name": "stdout",
     "output_type": "stream",
     "text": [
      "Number of sequence pre-filter: 2899121\n",
      "Number of sequences post-filter: 2899121\n"
     ]
    }
   ],
   "source": [
    "%%bash -s \"$qcFile\" \"$qcFile2\"\n",
    "\n",
    "bioawk -c fastx '{if ($seq !~ /N/){print \">\" $name \" \" $4 \"\\n\" $seq}}' $1 > $2\n",
    "\n",
    "printf \"Number of sequence pre-filter: \"\n",
    "grep -c \">\" $1\n",
    "\n",
    "printf \"Number of sequences post-filter: \"\n",
    "grep -c \">\" $2"
   ]
  },
  {
   "cell_type": "markdown",
   "metadata": {},
   "source": [
    "## Alignment-based QC with Mothur"
   ]
  },
  {
   "cell_type": "code",
   "execution_count": 12,
   "metadata": {
    "collapsed": false
   },
   "outputs": [
    {
     "name": "stdout",
     "output_type": "stream",
     "text": [
      "MR.M.13C-Ami.D1.R2_Frac11_0\tMR.M.13C-Ami.D1.R2_Frac11\n",
      "MR.F.12C-Con.D1.R1_Frac16_1\tMR.F.12C-Con.D1.R1_Frac16\n",
      "MR.M.13C-Ami.D3.R1_Frac27_5\tMR.M.13C-Ami.D3.R1_Frac27\n",
      "MR.M.13C-Ami.D3.R1_Frac27_6\tMR.M.13C-Ami.D3.R1_Frac27\n",
      "MR.A.13C-Pal.D14.R2_Frac10_7\tMR.A.13C-Pal.D14.R2_Frac10\n",
      "MR.A.13C-Ami.D1.R1_Frac7_8\tMR.A.13C-Ami.D1.R1_Frac7\n",
      "MR.F.12C-Con.D1.R1_Frac21_9\tMR.F.12C-Con.D1.R1_Frac21\n",
      "MR.A.13C-Cel.D6.R1_Frac15_11\tMR.A.13C-Cel.D6.R1_Frac15\n",
      "MR.A.13C-Xyl.D1.R2_Frac5_13\tMR.A.13C-Xyl.D1.R2_Frac5\n",
      "MR.A.13C-Pal.D14.R2_Frac16_12\tMR.A.13C-Pal.D14.R2_Frac16\n"
     ]
    }
   ],
   "source": [
    "%%bash -s \"$qcFile2\"\n",
    "# making mothur group file\n",
    "\n",
    "perl -ne 'if(/^>/){ s/>(.+)(_\\d+) .+/$1$2\\t$1/; print;}' $1 > group_file.txt\n",
    "head group_file.txt"
   ]
  },
  {
   "cell_type": "code",
   "execution_count": 13,
   "metadata": {
    "collapsed": false
   },
   "outputs": [
    {
     "name": "stdout",
     "output_type": "stream",
     "text": [
      "MR.M.13C-Ami.D1.R2_Frac11_0\tMR.M.13C-Ami.D1.R2_Frac11\r\n",
      "MR.F.12C-Con.D1.R1_Frac16_1\tMR.F.12C-Con.D1.R1_Frac16\r\n",
      "MR.M.13C-Ami.D3.R1_Frac27_5\tMR.M.13C-Ami.D3.R1_Frac27\r\n",
      "MR.M.13C-Ami.D3.R1_Frac27_6\tMR.M.13C-Ami.D3.R1_Frac27\r\n",
      "MR.A.13C-Pal.D14.R2_Frac10_7\tMR.A.13C-Pal.D14.R2_Frac10\r\n",
      "MR.A.13C-Ami.D1.R1_Frac7_8\tMR.A.13C-Ami.D1.R1_Frac7\r\n",
      "MR.F.12C-Con.D1.R1_Frac21_9\tMR.F.12C-Con.D1.R1_Frac21\r\n",
      "MR.A.13C-Cel.D6.R1_Frac15_11\tMR.A.13C-Cel.D6.R1_Frac15\r\n",
      "MR.A.13C-Xyl.D1.R2_Frac5_13\tMR.A.13C-Xyl.D1.R2_Frac5\r\n",
      "MR.A.13C-Pal.D14.R2_Frac16_12\tMR.A.13C-Pal.D14.R2_Frac16\r\n",
      "MR.A.13C-Xyl.D1.R2_Frac22_17\tMR.A.13C-Xyl.D1.R2_Frac22\r\n",
      "MR.A.13C-Cel.D6.R1_Frac5_18\tMR.A.13C-Cel.D6.R1_Frac5\r\n",
      "MR.A.13C-Ami.D1.R1_Frac10_19\tMR.A.13C-Ami.D1.R1_Frac10\r\n",
      "MR.A.13C-Ami.D1.R1_Frac8_20\tMR.A.13C-Ami.D1.R1_Frac8\r\n",
      "MR.F.12C-Con.D1.R1_Frac16_21\tMR.F.12C-Con.D1.R1_Frac16\r\n",
      "MR.M.13C-Ami.D3.R1_Frac17_22\tMR.M.13C-Ami.D3.R1_Frac17\r\n",
      "MR.A.13C-Ami.D1.R1_Frac11_16\tMR.A.13C-Ami.D1.R1_Frac11\r\n",
      "MR.M.13C-Ami.D3.R1_Frac14_15\tMR.M.13C-Ami.D3.R1_Frac14\r\n",
      "MR.A.13C-Ami.D1.R1_Frac8_25\tMR.A.13C-Ami.D1.R1_Frac8\r\n",
      "MR.M.13C-Ami.D1.R2_Frac17_14\tMR.M.13C-Ami.D1.R2_Frac17\r\n",
      "MR.M.13C-Ami.D3.R1_Frac16_26\tMR.M.13C-Ami.D3.R1_Frac16\r\n",
      "MR.A.12C-Con.D6.R2_Frac16_24\tMR.A.12C-Con.D6.R2_Frac16\r\n",
      "MR.A.13C-Ami.D1.R1_Frac17_23\tMR.A.13C-Ami.D1.R1_Frac17\r\n",
      "MR.A.13C-Ami.D1.R1_Frac14_31\tMR.A.13C-Ami.D1.R1_Frac14\r\n",
      "MR.A.13C-Xyl.D1.R2_Frac26_32\tMR.A.13C-Xyl.D1.R2_Frac26\r\n",
      "MR.A.13C-Xyl.D1.R2_Frac5_33\tMR.A.13C-Xyl.D1.R2_Frac5\r\n",
      "MR.A.12C-Con.D6.R2_Frac10_34\tMR.A.12C-Con.D6.R2_Frac10\r\n",
      "MR.M.13C-Ami.D1.R2_Frac25_35\tMR.M.13C-Ami.D1.R2_Frac25\r\n",
      "MR.A.13C-Pal.D14.R2_Frac21_36\tMR.A.13C-Pal.D14.R2_Frac21\r\n",
      "MR.F.12C-Con.D1.R1_Frac11_29\tMR.F.12C-Con.D1.R1_Frac11\r\n",
      "MR.A.12C-Con.D6.R2_Frac12_38\tMR.A.12C-Con.D6.R2_Frac12\r\n",
      "MR.A.13C-Cel.D6.R1_Frac6_37\tMR.A.13C-Cel.D6.R1_Frac6\r\n",
      "MR.M.13C-Ami.D1.R2_Frac4_40\tMR.M.13C-Ami.D1.R2_Frac4\r\n",
      "MR.F.12C-Con.D1.R1_Frac13_39\tMR.F.12C-Con.D1.R1_Frac13\r\n",
      "MR.A.13C-Cel.D6.R1_Frac24_44\tMR.A.13C-Cel.D6.R1_Frac24\r\n",
      "MR.A.13C-Pal.D14.R2_Frac12_43\tMR.A.13C-Pal.D14.R2_Frac12\r\n",
      "MR.M.13C-Ami.D1.R2_Frac6_42\tMR.M.13C-Ami.D1.R2_Frac6\r\n",
      "MR.A.13C-Ami.D1.R1_Frac4_47\tMR.A.13C-Ami.D1.R1_Frac4\r\n",
      "MR.A.13C-Cel.D6.R1_Frac15_48\tMR.A.13C-Cel.D6.R1_Frac15\r\n",
      "MR.A.13C-Ami.D1.R1_Frac15_45\tMR.A.13C-Ami.D1.R1_Frac15\r\n",
      "MR.M.13C-Ami.D3.R1_Frac28_46\tMR.M.13C-Ami.D3.R1_Frac28\r\n",
      "MR.A.12C-Con.D6.R2_Frac9_49\tMR.A.12C-Con.D6.R2_Frac9\r\n",
      "MR.A.12C-Con.D6.R2_Frac18_50\tMR.A.12C-Con.D6.R2_Frac18\r\n",
      "MR.M.13C-Ami.D1.R2_Frac19_53\tMR.M.13C-Ami.D1.R2_Frac19\r\n",
      "MR.A.12C-Con.D6.R2_Frac26_52\tMR.A.12C-Con.D6.R2_Frac26\r\n",
      "MR.A.13C-Xyl.D1.R2_Frac5_54\tMR.A.13C-Xyl.D1.R2_Frac5\r\n",
      "MR.A.13C-Cel.D6.R1_Frac23_55\tMR.A.13C-Cel.D6.R1_Frac23\r\n",
      "MR.A.13C-Cel.D6.R1_Frac21_58\tMR.A.13C-Cel.D6.R1_Frac21\r\n",
      "MR.M.13C-Ami.D3.R1_Frac24_59\tMR.M.13C-Ami.D3.R1_Frac24\r\n",
      "MR.A.12C-Con.D6.R2_Frac7_60\tMR.A.12C-Con.D6.R2_Frac7\r\n",
      "MR.A.12C-Con.D6.R2_Frac20_61\tMR.A.12C-Con.D6.R2_Frac20\r\n",
      "MR.M.13C-Ami.D3.R1_Frac13_62\tMR.M.13C-Ami.D3.R1_Frac13\r\n",
      "MR.M.13C-Ami.D1.R2_Frac19_63\tMR.M.13C-Ami.D1.R2_Frac19\r\n",
      "MR.A.13C-Xyl.D1.R2_Frac25_64\tMR.A.13C-Xyl.D1.R2_Frac25\r\n",
      "MR.A.13C-Cel.D6.R1_Frac5_65\tMR.A.13C-Cel.D6.R1_Frac5\r\n",
      "MR.A.13C-Cel.D6.R1_Frac7_66\tMR.A.13C-Cel.D6.R1_Frac7\r\n",
      "MR.A.12C-Con.D6.R2_Frac27_67\tMR.A.12C-Con.D6.R2_Frac27\r\n",
      "MR.M.13C-Ami.D3.R1_Frac20_68\tMR.M.13C-Ami.D3.R1_Frac20\r\n",
      "MR.A.12C-Con.D6.R2_Frac18_69\tMR.A.12C-Con.D6.R2_Frac18\r\n",
      "MR.A.13C-Xyl.D1.R2_Frac16_57\tMR.A.13C-Xyl.D1.R2_Frac16\r\n",
      "MR.A.13C-Xyl.D1.R2_Frac21_51\tMR.A.13C-Xyl.D1.R2_Frac21\r\n",
      "MR.A.13C-Cel.D6.R1_Frac7_56\tMR.A.13C-Cel.D6.R1_Frac7\r\n",
      "MR.A.13C-Cel.D6.R1_Frac5_73\tMR.A.13C-Cel.D6.R1_Frac5\r\n",
      "MR.A.13C-Cel.D6.R1_Frac7_72\tMR.A.13C-Cel.D6.R1_Frac7\r\n",
      "MR.A.13C-Xyl.D1.R2_Frac16_75\tMR.A.13C-Xyl.D1.R2_Frac16\r\n",
      "MR.M.13C-Ami.D1.R2_Frac8_71\tMR.M.13C-Ami.D1.R2_Frac8\r\n",
      "MR.A.12C-Con.D6.R2_Frac8_77\tMR.A.12C-Con.D6.R2_Frac8\r\n",
      "MR.A.13C-Cel.D6.R1_Frac15_76\tMR.A.13C-Cel.D6.R1_Frac15\r\n",
      "MR.A.13C-Pal.D14.R2_Frac11_74\tMR.A.13C-Pal.D14.R2_Frac11\r\n",
      "MR.A.13C-Cel.D6.R1_Frac14_80\tMR.A.13C-Cel.D6.R1_Frac14\r\n",
      "MR.A.12C-Con.D6.R2_Frac12_81\tMR.A.12C-Con.D6.R2_Frac12\r\n",
      "MR.A.12C-Con.D6.R2_Frac9_82\tMR.A.12C-Con.D6.R2_Frac9\r\n",
      "MR.A.13C-Pal.D14.R2_Frac23_79\tMR.A.13C-Pal.D14.R2_Frac23\r\n",
      "MR.M.13C-Ami.D1.R2_Frac6_83\tMR.M.13C-Ami.D1.R2_Frac6\r\n",
      "MR.A.12C-Con.D6.R2_Frac10_70\tMR.A.12C-Con.D6.R2_Frac10\r\n",
      "MR.A.13C-Pal.D14.R2_Frac12_78\tMR.A.13C-Pal.D14.R2_Frac12\r\n",
      "MR.A.12C-Con.D6.R2_Frac11_87\tMR.A.12C-Con.D6.R2_Frac11\r\n",
      "MR.M.13C-Ami.D3.R1_Frac15_88\tMR.M.13C-Ami.D3.R1_Frac15\r\n",
      "MR.A.13C-Ami.D1.R1_Frac13_89\tMR.A.13C-Ami.D1.R1_Frac13\r\n",
      "MR.M.13C-Ami.D1.R2_Frac25_90\tMR.M.13C-Ami.D1.R2_Frac25\r\n",
      "MR.A.13C-Cel.D6.R1_Frac5_91\tMR.A.13C-Cel.D6.R1_Frac5\r\n",
      "MR.M.13C-Ami.D1.R2_Frac9_92\tMR.M.13C-Ami.D1.R2_Frac9\r\n",
      "MR.A.13C-Ami.D1.R1_Frac7_93\tMR.A.13C-Ami.D1.R1_Frac7\r\n",
      "MR.F.12C-Con.D1.R1_Frac24_94\tMR.F.12C-Con.D1.R1_Frac24\r\n",
      "MR.A.12C-Con.D6.R2_Frac20_95\tMR.A.12C-Con.D6.R2_Frac20\r\n",
      "MR.A.13C-Ami.D1.R1_Frac8_96\tMR.A.13C-Ami.D1.R1_Frac8\r\n",
      "MR.M.13C-Ami.D1.R2_Frac26_86\tMR.M.13C-Ami.D1.R2_Frac26\r\n",
      "MR.F.12C-Con.D1.R1_Frac6_84\tMR.F.12C-Con.D1.R1_Frac6\r\n",
      "MR.M.13C-Ami.D3.R1_Frac7_85\tMR.M.13C-Ami.D3.R1_Frac7\r\n",
      "MR.F.12C-Con.D1.R1_Frac9_99\tMR.F.12C-Con.D1.R1_Frac9\r\n",
      "MR.A.12C-Con.D6.R2_Frac15_98\tMR.A.12C-Con.D6.R2_Frac15\r\n",
      "MR.M.13C-Ami.D3.R1_Frac20_102\tMR.M.13C-Ami.D3.R1_Frac20\r\n",
      "MR.A.12C-Con.D6.R2_Frac11_100\tMR.A.12C-Con.D6.R2_Frac11\r\n",
      "MR.A.13C-Pal.D14.R2_Frac10_104\tMR.A.13C-Pal.D14.R2_Frac10\r\n",
      "MR.A.13C-Cel.D6.R1_Frac18_105\tMR.A.13C-Cel.D6.R1_Frac18\r\n",
      "MR.M.13C-Ami.D1.R2_Frac26_106\tMR.M.13C-Ami.D1.R2_Frac26\r\n",
      "MR.A.13C-Xyl.D1.R2_Frac20_101\tMR.A.13C-Xyl.D1.R2_Frac20\r\n",
      "MR.A.12C-Con.D6.R2_Frac20_108\tMR.A.12C-Con.D6.R2_Frac20\r\n",
      "MR.A.13C-Xyl.D1.R2_Frac19_107\tMR.A.13C-Xyl.D1.R2_Frac19\r\n",
      "MR.A.12C-Con.D6.R2_Frac16_103\tMR.A.12C-Con.D6.R2_Frac16\r\n",
      "MR.A.13C-Cel.D6.R1_Frac9_97\tMR.A.13C-Cel.D6.R1_Frac9\r\n",
      "MR.A.13C-Cel.D6.R1_Frac7_112\tMR.A.13C-Cel.D6.R1_Frac7\r\n",
      "MR.F.12C-Con.D1.R1_Frac16_113\tMR.F.12C-Con.D1.R1_Frac16\r\n",
      "MR.F.12C-Con.D1.R1_Frac17_114\tMR.F.12C-Con.D1.R1_Frac17\r\n",
      "MR.M.13C-Ami.D1.R2_Frac10_115\tMR.M.13C-Ami.D1.R2_Frac10\r\n",
      "MR.A.13C-Cel.D6.R1_Frac10_116\tMR.A.13C-Cel.D6.R1_Frac10\r\n",
      "MR.M.13C-Ami.D3.R1_Frac18_117\tMR.M.13C-Ami.D3.R1_Frac18\r\n",
      "MR.F.12C-Con.D1.R1_Frac19_118\tMR.F.12C-Con.D1.R1_Frac19\r\n",
      "MR.A.13C-Ami.D1.R1_Frac9_119\tMR.A.13C-Ami.D1.R1_Frac9\r\n",
      "MR.A.12C-Con.D6.R2_Frac4_111\tMR.A.12C-Con.D6.R2_Frac4\r\n",
      "MR.A.13C-Pal.D14.R2_Frac11_109\tMR.A.13C-Pal.D14.R2_Frac11\r\n",
      "MR.A.13C-Pal.D14.R2_Frac5_110\tMR.A.13C-Pal.D14.R2_Frac5\r\n",
      "MR.M.13C-Ami.D1.R2_Frac21_124\tMR.M.13C-Ami.D1.R2_Frac21\r\n",
      "MR.A.13C-Ami.D1.R1_Frac7_121\tMR.A.13C-Ami.D1.R1_Frac7\r\n",
      "MR.A.13C-Pal.D14.R2_Frac25_122\tMR.A.13C-Pal.D14.R2_Frac25\r\n",
      "MR.M.13C-Ami.D3.R1_Frac17_128\tMR.M.13C-Ami.D3.R1_Frac17\r\n",
      "MR.A.13C-Cel.D6.R1_Frac16_129\tMR.A.13C-Cel.D6.R1_Frac16\r\n",
      "MR.A.12C-Con.D6.R2_Frac19_130\tMR.A.12C-Con.D6.R2_Frac19\r\n",
      "MR.A.13C-Xyl.D1.R2_Frac13_131\tMR.A.13C-Xyl.D1.R2_Frac13\r\n",
      "MR.A.13C-Cel.D6.R1_Frac12_132\tMR.A.13C-Cel.D6.R1_Frac12\r\n",
      "MR.A.12C-Con.D6.R2_Frac18_133\tMR.A.12C-Con.D6.R2_Frac18\r\n",
      "MR.A.13C-Cel.D6.R1_Frac7_134\tMR.A.13C-Cel.D6.R1_Frac7\r\n",
      "MR.A.13C-Cel.D6.R1_Frac6_135\tMR.A.13C-Cel.D6.R1_Frac6\r\n",
      "MR.A.13C-Cel.D6.R1_Frac7_136\tMR.A.13C-Cel.D6.R1_Frac7\r\n",
      "MR.A.13C-Ami.D1.R1_Frac8_137\tMR.A.13C-Ami.D1.R1_Frac8\r\n",
      "MR.A.13C-Xyl.D1.R2_Frac5_125\tMR.A.13C-Xyl.D1.R2_Frac5\r\n",
      "MR.F.12C-Con.D1.R1_Frac24_126\tMR.F.12C-Con.D1.R1_Frac24\r\n",
      "MR.F.12C-Con.D1.R1_Frac12_127\tMR.F.12C-Con.D1.R1_Frac12\r\n",
      "MR.A.13C-Cel.D6.R1_Frac7_141\tMR.A.13C-Cel.D6.R1_Frac7\r\n",
      "MR.A.13C-Cel.D6.R1_Frac17_142\tMR.A.13C-Cel.D6.R1_Frac17\r\n",
      "MR.A.12C-Con.D6.R2_Frac24_140\tMR.A.12C-Con.D6.R2_Frac24\r\n",
      "MR.A.13C-Cel.D6.R1_Frac6_144\tMR.A.13C-Cel.D6.R1_Frac6\r\n",
      "MR.A.13C-Cel.D6.R1_Frac5_139\tMR.A.13C-Cel.D6.R1_Frac5\r\n",
      "MR.F.12C-Con.D1.R1_Frac4_138\tMR.F.12C-Con.D1.R1_Frac4\r\n",
      "MR.A.13C-Ami.D1.R1_Frac4_147\tMR.A.13C-Ami.D1.R1_Frac4\r\n",
      "MR.A.12C-Con.D6.R2_Frac19_148\tMR.A.12C-Con.D6.R2_Frac19\r\n",
      "MR.M.13C-Ami.D3.R1_Frac16_149\tMR.M.13C-Ami.D3.R1_Frac16\r\n",
      "MR.F.12C-Con.D1.R1_Frac9_150\tMR.F.12C-Con.D1.R1_Frac9\r\n",
      "MR.M.13C-Ami.D1.R2_Frac14_151\tMR.M.13C-Ami.D1.R2_Frac14\r\n",
      "MR.F.12C-Con.D1.R1_Frac12_152\tMR.F.12C-Con.D1.R1_Frac12\r\n",
      "MR.M.13C-Ami.D1.R2_Frac12_153\tMR.M.13C-Ami.D1.R2_Frac12\r\n",
      "MR.M.13C-Ami.D1.R2_Frac17_154\tMR.M.13C-Ami.D1.R2_Frac17\r\n",
      "MR.M.13C-Ami.D3.R1_Frac20_155\tMR.M.13C-Ami.D3.R1_Frac20\r\n",
      "MR.A.13C-Pal.D14.R2_Frac17_156\tMR.A.13C-Pal.D14.R2_Frac17\r\n",
      "MR.A.13C-Cel.D6.R1_Frac23_157\tMR.A.13C-Cel.D6.R1_Frac23\r\n",
      "MR.M.13C-Ami.D3.R1_Frac26_158\tMR.M.13C-Ami.D3.R1_Frac26\r\n",
      "MR.M.13C-Ami.D3.R1_Frac16_159\tMR.M.13C-Ami.D3.R1_Frac16\r\n",
      "MR.F.12C-Con.D1.R1_Frac11_160\tMR.F.12C-Con.D1.R1_Frac11\r\n",
      "MR.A.12C-Con.D6.R2_Frac6_161\tMR.A.12C-Con.D6.R2_Frac6\r\n",
      "MR.M.13C-Ami.D3.R1_Frac16_162\tMR.M.13C-Ami.D3.R1_Frac16\r\n",
      "MR.A.13C-Xyl.D1.R2_Frac20_163\tMR.A.13C-Xyl.D1.R2_Frac20\r\n",
      "MR.A.12C-Con.D6.R2_Frac15_164\tMR.A.12C-Con.D6.R2_Frac15\r\n",
      "MR.A.12C-Con.D6.R2_Frac13_165\tMR.A.12C-Con.D6.R2_Frac13\r\n",
      "MR.M.13C-Ami.D3.R1_Frac8_166\tMR.M.13C-Ami.D3.R1_Frac8\r\n",
      "MR.F.12C-Con.D1.R1_Frac26_167\tMR.F.12C-Con.D1.R1_Frac26\r\n",
      "MR.A.13C-Pal.D14.R2_Frac23_168\tMR.A.13C-Pal.D14.R2_Frac23\r\n",
      "MR.A.13C-Pal.D14.R2_Frac10_169\tMR.A.13C-Pal.D14.R2_Frac10\r\n",
      "MR.F.12C-Con.D1.R1_Frac10_170\tMR.F.12C-Con.D1.R1_Frac10\r\n",
      "MR.A.12C-Con.D6.R2_Frac8_171\tMR.A.12C-Con.D6.R2_Frac8\r\n",
      "MR.A.13C-Pal.D14.R2_Frac9_172\tMR.A.13C-Pal.D14.R2_Frac9\r\n",
      "MR.A.13C-Xyl.D1.R2_Frac12_143\tMR.A.13C-Xyl.D1.R2_Frac12\r\n",
      "MR.A.13C-Pal.D14.R2_Frac12_145\tMR.A.13C-Pal.D14.R2_Frac12\r\n",
      "MR.A.13C-Ami.D1.R1_Frac7_146\tMR.A.13C-Ami.D1.R1_Frac7\r\n",
      "MR.A.13C-Cel.D6.R1_Frac7_175\tMR.A.13C-Cel.D6.R1_Frac7\r\n",
      "MR.A.13C-Ami.D1.R1_Frac11_176\tMR.A.13C-Ami.D1.R1_Frac11\r\n",
      "MR.A.13C-Cel.D6.R1_Frac19_178\tMR.A.13C-Cel.D6.R1_Frac19\r\n",
      "MR.A.12C-Con.D6.R2_Frac16_173\tMR.A.12C-Con.D6.R2_Frac16\r\n",
      "MR.M.13C-Ami.D1.R2_Frac15_174\tMR.M.13C-Ami.D1.R2_Frac15\r\n",
      "MR.A.13C-Ami.D1.R1_Frac16_181\tMR.A.13C-Ami.D1.R1_Frac16\r\n",
      "MR.M.13C-Ami.D1.R2_Frac26_182\tMR.M.13C-Ami.D1.R2_Frac26\r\n",
      "MR.M.13C-Ami.D3.R1_Frac15_183\tMR.M.13C-Ami.D3.R1_Frac15\r\n",
      "MR.M.13C-Ami.D1.R2_Frac15_184\tMR.M.13C-Ami.D1.R2_Frac15\r\n",
      "MR.A.12C-Con.D6.R2_Frac18_185\tMR.A.12C-Con.D6.R2_Frac18\r\n",
      "MR.A.13C-Xyl.D1.R2_Frac12_186\tMR.A.13C-Xyl.D1.R2_Frac12\r\n",
      "MR.A.13C-Xyl.D1.R2_Frac18_187\tMR.A.13C-Xyl.D1.R2_Frac18\r\n",
      "MR.A.13C-Pal.D14.R2_Frac10_188\tMR.A.13C-Pal.D14.R2_Frac10\r\n",
      "MR.A.13C-Cel.D6.R1_Frac21_177\tMR.A.13C-Cel.D6.R1_Frac21\r\n",
      "MR.F.12C-Con.D1.R1_Frac19_189\tMR.F.12C-Con.D1.R1_Frac19\r\n",
      "MR.A.13C-Pal.D14.R2_Frac27_190\tMR.A.13C-Pal.D14.R2_Frac27\r\n",
      "MR.M.13C-Ami.D3.R1_Frac13_192\tMR.M.13C-Ami.D3.R1_Frac13\r\n",
      "MR.A.12C-Con.D6.R2_Frac3_179\tMR.A.12C-Con.D6.R2_Frac3\r\n",
      "MR.A.12C-Con.D6.R2_Frac14_180\tMR.A.12C-Con.D6.R2_Frac14\r\n",
      "MR.M.13C-Ami.D1.R2_Frac26_191\tMR.M.13C-Ami.D1.R2_Frac26\r\n",
      "MR.A.12C-Con.D6.R2_Frac18_197\tMR.A.12C-Con.D6.R2_Frac18\r\n",
      "MR.A.13C-Cel.D6.R1_Frac26_198\tMR.A.13C-Cel.D6.R1_Frac26\r\n",
      "MR.A.12C-Con.D6.R2_Frac20_194\tMR.A.12C-Con.D6.R2_Frac20\r\n",
      "MR.M.13C-Ami.D1.R2_Frac11_195\tMR.M.13C-Ami.D1.R2_Frac11\r\n",
      "MR.A.13C-Cel.D6.R1_Frac21_201\tMR.A.13C-Cel.D6.R1_Frac21\r\n",
      "MR.M.13C-Ami.D1.R2_Frac9_203\tMR.M.13C-Ami.D1.R2_Frac9\r\n",
      "MR.A.13C-Xyl.D1.R2_Frac27_204\tMR.A.13C-Xyl.D1.R2_Frac27\r\n",
      "MR.M.13C-Ami.D1.R2_Frac18_205\tMR.M.13C-Ami.D1.R2_Frac18\r\n",
      "MR.M.13C-Ami.D1.R2_Frac7_206\tMR.M.13C-Ami.D1.R2_Frac7\r\n",
      "MR.A.13C-Cel.D6.R1_Frac11_207\tMR.A.13C-Cel.D6.R1_Frac11\r\n",
      "MR.A.12C-Con.D6.R2_Frac12_202\tMR.A.12C-Con.D6.R2_Frac12\r\n",
      "MR.A.13C-Ami.D1.R1_Frac17_200\tMR.A.13C-Ami.D1.R1_Frac17\r\n",
      "MR.M.13C-Ami.D3.R1_Frac7_199\tMR.M.13C-Ami.D3.R1_Frac7\r\n",
      "MR.A.12C-Con.D6.R2_Frac18_211\tMR.A.12C-Con.D6.R2_Frac18\r\n",
      "MR.A.13C-Cel.D6.R1_Frac26_210\tMR.A.13C-Cel.D6.R1_Frac26\r\n",
      "MR.A.13C-Xyl.D1.R2_Frac18_213\tMR.A.13C-Xyl.D1.R2_Frac18\r\n",
      "MR.A.12C-Con.D6.R2_Frac3_212\tMR.A.12C-Con.D6.R2_Frac3\r\n"
     ]
    }
   ],
   "source": [
    "! head -n 200 group_file.txt"
   ]
  },
  {
   "cell_type": "code",
   "execution_count": 14,
   "metadata": {
    "collapsed": false
   },
   "outputs": [
    {
     "name": "stdout",
     "output_type": "stream",
     "text": [
      "2878000\t1710438\r\n",
      "2879000\t1710976\r\n",
      "2880000\t1711524\r\n",
      "2881000\t1712060\r\n",
      "2882000\t1712621\r\n",
      "2883000\t1713181\r\n",
      "2884000\t1713749\r\n",
      "2885000\t1714286\r\n",
      "2886000\t1714811\r\n",
      "2887000\t1715381\r\n",
      "2888000\t1715920\r\n",
      "2889000\t1716507\r\n",
      "2890000\t1717074\r\n",
      "2891000\t1717657\r\n",
      "2892000\t1718226\r\n",
      "2893000\t1718838\r\n",
      "2894000\t1719439\r\n",
      "2895000\t1720035\r\n",
      "2896000\t1720656\r\n",
      "2897000\t1721324\r\n",
      "2898000\t1722015\r\n",
      "2899000\t1722736\r\n",
      "2899121\t1722824\r\n",
      "\r\n",
      "Output File Names: \r\n",
      "pear_merged-fullCyc2_lib7.assembled.dmult_maxee1_noN.names\r\n",
      "pear_merged-fullCyc2_lib7.assembled.dmult_maxee1_noN.unique.fasta\r\n",
      "\r\n",
      "\r\n",
      "mothur > quit()\r\n"
     ]
    }
   ],
   "source": [
    "# unique sequences\n",
    "cmd = 'mothur \"#unique.seqs(fasta={})\"'.format(qcFile2)\n",
    "!$cmd | tail -n 30"
   ]
  },
  {
   "cell_type": "code",
   "execution_count": 15,
   "metadata": {
    "collapsed": false
   },
   "outputs": [
    {
     "name": "stdout",
     "output_type": "stream",
     "text": [
      "Number of unique sequences: 1722824\n"
     ]
    }
   ],
   "source": [
    "qcFile3 = os.path.splitext(qcFile2)[0] + '.unique.fasta'\n",
    "n_uniq = !grep -c \">\" $qcFile3\n",
    "print ('Number of unique sequences: {}'.format(n_uniq[0]))"
   ]
  },
  {
   "cell_type": "code",
   "execution_count": 16,
   "metadata": {
    "collapsed": false
   },
   "outputs": [
    {
     "name": "stdout",
     "output_type": "stream",
     "text": [
      "-rw-rw-r-- 1 sam sam 148M May 16 10:47 pear_merged-fullCyc2_lib7.assembled.dmult_maxee1_noN.names\r\n"
     ]
    }
   ],
   "source": [
    "# name file produced by unique.seqs()\n",
    "nameFile = os.path.splitext(qcFile2)[0] + '.names'\n",
    "!ls -thlc $nameFile"
   ]
  },
  {
   "cell_type": "code",
   "execution_count": 17,
   "metadata": {
    "collapsed": false
   },
   "outputs": [
    {
     "name": "stdout",
     "output_type": "stream",
     "text": [
      "silva.seed_v132.tax\n",
      "silva.seed_v132.align\n",
      "README.md\n"
     ]
    },
    {
     "name": "stderr",
     "output_type": "stream",
     "text": [
      "--2018-05-16 10:47:42--  https://www.mothur.org/w/images/7/71/Silva.seed_v132.tgz\n",
      "Resolving www.mothur.org (www.mothur.org)... 141.214.120.22\n",
      "Connecting to www.mothur.org (www.mothur.org)|141.214.120.22|:443... connected.\n",
      "HTTP request sent, awaiting response... 200 OK\n",
      "Length: 19623900 (19M) [application/x-gzip]\n",
      "Saving to: ‘Silva.seed_v132.tgz’\n",
      "\n",
      "     0K .......... .......... .......... .......... ..........  0% 1.88M 10s\n",
      "    50K .......... .......... .......... .......... ..........  0%  994K 15s\n",
      "   100K .......... .......... .......... .......... ..........  0% 1.90M 13s\n",
      "   150K .......... .......... .......... .......... ..........  1%  987K 14s\n",
      "   200K .......... .......... .......... .......... ..........  1% 1.89M 13s\n",
      "   250K .......... .......... .......... .......... ..........  1%  998K 14s\n",
      "   300K .......... .......... .......... .......... ..........  1%  996K 15s\n",
      "   350K .......... .......... .......... .......... ..........  2% 1.85M 14s\n",
      "   400K .......... .......... .......... .......... ..........  2% 1009K 15s\n",
      "   450K .......... .......... .......... .......... ..........  2% 1.88M 14s\n",
      "   500K .......... .......... .......... .......... ..........  2%  947K 15s\n",
      "   550K .......... .......... .......... .......... ..........  3% 1.66M 14s\n",
      "   600K .......... .......... .......... .......... ..........  3% 1.04M 15s\n",
      "   650K .......... .......... .......... .......... ..........  3% 1.70M 14s\n",
      "   700K .......... .......... .......... .......... ..........  3%  980K 14s\n",
      "   750K .......... .......... .......... .......... ..........  4% 1.91M 14s\n",
      "   800K .......... .......... .......... .......... ..........  4%  995K 14s\n",
      "   850K .......... .......... .......... .......... ..........  4% 1.04M 14s\n",
      "   900K .......... .......... .......... .......... ..........  4% 1.71M 14s\n",
      "   950K .......... .......... .......... .......... ..........  5% 1.03M 14s\n",
      "  1000K .......... .......... .......... .......... ..........  5% 1.72M 14s\n",
      "  1050K .......... .......... .......... .......... ..........  5% 1.02M 14s\n",
      "  1100K .......... .......... .......... .......... ..........  6% 1.76M 14s\n",
      "  1150K .......... .......... .......... .......... ..........  6% 1.02M 14s\n",
      "  1200K .......... .......... .......... .......... ..........  6%  989K 14s\n",
      "  1250K .......... .......... .......... .......... ..........  6% 1.77M 14s\n",
      "  1300K .......... .......... .......... .......... ..........  7% 1.02M 14s\n",
      "  1350K .......... .......... .......... .......... ..........  7% 1.77M 14s\n",
      "  1400K .......... .......... .......... .......... ..........  7% 1.01M 14s\n",
      "  1450K .......... .......... .......... .......... ..........  7% 1.79M 14s\n",
      "  1500K .......... .......... .......... .......... ..........  8% 1.00M 14s\n",
      "  1550K .......... .......... .......... .......... ..........  8%  993K 14s\n",
      "  1600K .......... .......... .......... .......... ..........  8% 1.83M 14s\n",
      "  1650K .......... .......... .......... .......... ..........  8% 1017K 14s\n",
      "  1700K .......... .......... .......... .......... ..........  9% 1.85M 14s\n",
      "  1750K .......... .......... .......... .......... ..........  9% 1010K 14s\n",
      "  1800K .......... .......... .......... .......... ..........  9% 1.87M 14s\n",
      "  1850K .......... .......... .......... .......... ..........  9% 1005K 14s\n",
      "  1900K .......... .......... .......... .......... .......... 10% 1.85M 13s\n",
      "  1950K .......... .......... .......... .......... .......... 10% 1.91M 13s\n",
      "  2000K .......... .......... .......... .......... .......... 10%  987K 13s\n",
      "  2050K .......... .......... .......... .......... .......... 10% 1.85M 13s\n",
      "  2100K .......... .......... .......... .......... .......... 11% 1.89M 13s\n",
      "  2150K .......... .......... .......... .......... .......... 11% 1002K 13s\n",
      "  2200K .......... .......... .......... .......... .......... 11% 1.85M 13s\n",
      "  2250K .......... .......... .......... .......... .......... 12% 1.87M 13s\n",
      "  2300K .......... .......... .......... .......... .......... 12% 1012K 13s\n",
      "  2350K .......... .......... .......... .......... .......... 12% 1.87M 13s\n",
      "  2400K .......... .......... .......... .......... .......... 12%  921K 13s\n",
      "  2450K .......... .......... .......... .......... .......... 13% 1.01M 13s\n",
      "  2500K .......... .......... .......... .......... .......... 13% 1.31M 13s\n",
      "  2550K .......... .......... .......... .......... .......... 13% 1.90M 13s\n",
      "  2600K .......... .......... .......... .......... .......... 13% 1.88M 13s\n",
      "  2650K .......... .......... .......... .......... .......... 14% 1.90M 12s\n",
      "  2700K .......... .......... .......... .......... .......... 14%  996K 13s\n",
      "  2750K .......... .......... .......... .......... .......... 14% 1.86M 12s\n",
      "  2800K .......... .......... .......... .......... .......... 14% 1001K 12s\n",
      "  2850K .......... .......... .......... .......... .......... 15% 1.91M 12s\n",
      "  2900K .......... .......... .......... .......... .......... 15% 1.84M 12s\n",
      "  2950K .......... .......... .......... .......... .......... 15% 1.86M 12s\n",
      "  3000K .......... .......... .......... .......... .......... 15% 1.89M 12s\n",
      "  3050K .......... .......... .......... .......... .......... 16% 1.90M 12s\n",
      "  3100K .......... .......... .......... .......... .......... 16%  995K 12s\n",
      "  3150K .......... .......... .......... .......... .......... 16% 1.92M 12s\n",
      "  3200K .......... .......... .......... .......... .......... 16%  995K 12s\n",
      "  3250K .......... .......... .......... .......... .......... 17% 1.90M 12s\n",
      "  3300K .......... .......... .......... .......... .......... 17% 1.90M 12s\n",
      "  3350K .......... .......... .......... .......... .......... 17% 1.91M 12s\n",
      "  3400K .......... .......... .......... .......... .......... 18% 1.87M 12s\n",
      "  3450K .......... .......... .......... .......... .......... 18% 1.90M 11s\n",
      "  3500K .......... .......... .......... .......... .......... 18%  995K 11s\n",
      "  3550K .......... .......... .......... .......... .......... 18% 1.92M 11s\n",
      "  3600K .......... .......... .......... .......... .......... 19% 1.87M 11s\n",
      "  3650K .......... .......... .......... .......... .......... 19% 1006K 11s\n",
      "  3700K .......... .......... .......... .......... .......... 19% 1.89M 11s\n",
      "  3750K .......... .......... .......... .......... .......... 19% 1.91M 11s\n",
      "  3800K .......... .......... .......... .......... .......... 20% 1.89M 11s\n",
      "  3850K .......... .......... .......... .......... .......... 20% 1.87M 11s\n",
      "  3900K .......... .......... .......... .......... .......... 20%  956K 11s\n",
      "  3950K .......... .......... .......... .......... .......... 20% 1.86M 11s\n",
      "  4000K .......... .......... .......... .......... .......... 21% 1.69M 11s\n",
      "  4050K .......... .......... .......... .......... .......... 21% 1.73M 11s\n",
      "  4100K .......... .......... .......... .......... .......... 21% 1022K 11s\n",
      "  4150K .......... .......... .......... .......... .......... 21% 1.69M 11s\n",
      "  4200K .......... .......... .......... .......... .......... 22% 1.70M 11s\n",
      "  4250K .......... .......... .......... .......... .......... 22% 1.53M 11s\n",
      "  4300K .......... .......... .......... .......... .......... 22% 1.80M 11s\n",
      "  4350K .......... .......... .......... .......... .......... 22%  988K 11s\n",
      "  4400K .......... .......... .......... .......... .......... 23% 1.33M 11s\n",
      "  4450K .......... .......... .......... .......... .......... 23% 1.91M 11s\n",
      "  4500K .......... .......... .......... .......... .......... 23% 1.92M 10s\n",
      "  4550K .......... .......... .......... .......... .......... 24% 1.90M 10s\n",
      "  4600K .......... .......... .......... .......... .......... 24% 1.81M 10s\n",
      "  4650K .......... .......... .......... .......... .......... 24% 1.90M 10s\n",
      "  4700K .......... .......... .......... .......... .......... 24% 1.86M 10s\n",
      "  4750K .......... .......... .......... .......... .......... 25% 1.86M 10s\n",
      "  4800K .......... .......... .......... .......... .......... 25% 1.89M 10s\n",
      "  4850K .......... .......... .......... .......... .......... 25% 1.87M 10s\n",
      "  4900K .......... .......... .......... .......... .......... 25% 1.88M 10s\n",
      "  4950K .......... .......... .......... .......... .......... 26% 1.88M 10s\n",
      "  5000K .......... .......... .......... .......... .......... 26% 1.90M 10s\n",
      "  5050K .......... .......... .......... .......... .......... 26% 1.91M 10s\n",
      "  5100K .......... .......... .......... .......... .......... 26% 1.90M 10s\n",
      "  5150K .......... .......... .......... .......... .......... 27%  991K 10s\n",
      "  5200K .......... .......... .......... .......... .......... 27% 1.87M 10s\n",
      "  5250K .......... .......... .......... .......... .......... 27% 1.90M 10s\n",
      "  5300K .......... .......... .......... .......... .......... 27% 1.91M 10s\n",
      "  5350K .......... .......... .......... .......... .......... 28% 1.91M 9s\n",
      "  5400K .......... .......... .......... .......... .......... 28% 1.85M 9s\n",
      "  5450K .......... .......... .......... .......... .......... 28% 1.90M 9s\n",
      "  5500K .......... .......... .......... .......... .......... 28% 1.89M 9s\n",
      "  5550K .......... .......... .......... .......... .......... 29% 1.87M 9s\n",
      "  5600K .......... .......... .......... .......... .......... 29% 1.89M 9s\n",
      "  5650K .......... .......... .......... .......... .......... 29% 1002K 9s\n",
      "  5700K .......... .......... .......... .......... .......... 30% 1.89M 9s\n",
      "  5750K .......... .......... .......... .......... .......... 30% 1.87M 9s\n",
      "  5800K .......... .......... .......... .......... .......... 30% 1.92M 9s\n",
      "  5850K .......... .......... .......... .......... .......... 30% 1.89M 9s\n",
      "  5900K .......... .......... .......... .......... .......... 31% 1.91M 9s\n",
      "  5950K .......... .......... .......... .......... .......... 31% 1.91M 9s\n",
      "  6000K .......... .......... .......... .......... .......... 31% 1016K 9s\n",
      "  6050K .......... .......... .......... .......... .......... 31% 1.92M 9s\n",
      "  6100K .......... .......... .......... .......... .......... 32% 1.90M 9s\n",
      "  6150K .......... .......... .......... .......... .......... 32% 1.91M 9s\n",
      "  6200K .......... .......... .......... .......... .......... 32% 1.88M 9s\n",
      "  6250K .......... .......... .......... .......... .......... 32% 1.81M 9s\n",
      "  6300K .......... .......... .......... .......... .......... 33% 1.86M 9s\n",
      "  6350K .......... .......... .......... .......... .......... 33% 1.89M 9s\n",
      "  6400K .......... .......... .......... .......... .......... 33% 1.86M 8s\n",
      "  6450K .......... .......... .......... .......... .......... 33% 1.90M 8s\n",
      "  6500K .......... .......... .......... .......... .......... 34% 1.89M 8s\n",
      "  6550K .......... .......... .......... .......... .......... 34% 1.92M 8s\n",
      "  6600K .......... .......... .......... .......... .......... 34% 1.91M 8s\n",
      "  6650K .......... .......... .......... .......... .......... 34% 1.92M 8s\n",
      "  6700K .......... .......... .......... .......... .......... 35% 1.81M 8s\n",
      "  6750K .......... .......... .......... .......... .......... 35% 1.92M 8s\n",
      "  6800K .......... .......... .......... .......... .......... 35% 1.92M 8s\n",
      "  6850K .......... .......... .......... .......... .......... 36% 1.90M 8s\n",
      "  6900K .......... .......... .......... .......... .......... 36% 1.90M 8s\n",
      "  6950K .......... .......... .......... .......... .......... 36% 1.90M 8s\n",
      "  7000K .......... .......... .......... .......... .......... 36% 1.91M 8s\n",
      "  7050K .......... .......... .......... .......... .......... 37% 1.91M 8s\n",
      "  7100K .......... .......... .......... .......... .......... 37% 1.92M 8s\n",
      "  7150K .......... .......... .......... .......... .......... 37% 1015K 8s\n",
      "  7200K .......... .......... .......... .......... .......... 37% 1.91M 8s\n",
      "  7250K .......... .......... .......... .......... .......... 38% 1.91M 8s\n",
      "  7300K .......... .......... .......... .......... .......... 38% 1.91M 8s\n",
      "  7350K .......... .......... .......... .......... .......... 38% 1.90M 8s\n",
      "  7400K .......... .......... .......... .......... .......... 38% 1.91M 8s\n",
      "  7450K .......... .......... .......... .......... .......... 39% 1.88M 8s\n",
      "  7500K .......... .......... .......... .......... .......... 39% 1.88M 8s\n",
      "  7550K .......... .......... .......... .......... .......... 39% 1.88M 7s\n",
      "  7600K .......... .......... .......... .......... .......... 39% 1.91M 7s\n",
      "  7650K .......... .......... .......... .......... .......... 40% 1.92M 7s\n",
      "  7700K .......... .......... .......... .......... .......... 40% 1.88M 7s\n",
      "  7750K .......... .......... .......... .......... .......... 40% 1.88M 7s\n",
      "  7800K .......... .......... .......... .......... .......... 40% 1.91M 7s\n",
      "  7850K .......... .......... .......... .......... .......... 41% 1.90M 7s\n",
      "  7900K .......... .......... .......... .......... .......... 41% 1.93M 7s\n",
      "  7950K .......... .......... .......... .......... .......... 41% 1.91M 7s\n",
      "  8000K .......... .......... .......... .......... .......... 42% 1017K 7s\n",
      "  8050K .......... .......... .......... .......... .......... 42% 1.93M 7s\n",
      "  8100K .......... .......... .......... .......... .......... 42% 1.89M 7s\n",
      "  8150K .......... .......... .......... .......... .......... 42% 1.88M 7s\n",
      "  8200K .......... .......... .......... .......... .......... 43% 1.90M 7s\n",
      "  8250K .......... .......... .......... .......... .......... 43% 1.91M 7s\n",
      "  8300K .......... .......... .......... .......... .......... 43% 1.84M 7s\n",
      "  8350K .......... .......... .......... .......... .......... 43% 1.92M 7s\n",
      "  8400K .......... .......... .......... .......... .......... 44% 1.90M 7s\n",
      "  8450K .......... .......... .......... .......... .......... 44% 1.90M 7s\n",
      "  8500K .......... .......... .......... .......... .......... 44% 1.92M 7s\n",
      "  8550K .......... .......... .......... .......... .......... 44% 1.90M 7s\n",
      "  8600K .......... .......... .......... .......... .......... 45% 1.91M 7s\n",
      "  8650K .......... .......... .......... .......... .......... 45% 1.91M 7s\n",
      "  8700K .......... .......... .......... .......... .......... 45% 1.85M 7s\n",
      "  8750K .......... .......... .......... .......... .......... 45% 1.92M 7s\n",
      "  8800K .......... .......... .......... .......... .......... 46% 1.91M 7s\n",
      "  8850K .......... .......... .......... .......... .......... 46% 1.90M 6s\n",
      "  8900K .......... .......... .......... .......... .......... 46% 1.91M 6s\n",
      "  8950K .......... .......... .......... .......... .......... 46% 1.91M 6s\n",
      "  9000K .......... .......... .......... .......... .......... 47% 1.90M 6s\n",
      "  9050K .......... .......... .......... .......... .......... 47% 1.91M 6s\n",
      "  9100K .......... .......... .......... .......... .......... 47% 1.91M 6s\n",
      "  9150K .......... .......... .......... .......... .......... 48% 1012K 6s\n",
      "  9200K .......... .......... .......... .......... .......... 48% 1.88M 6s\n",
      "  9250K .......... .......... .......... .......... .......... 48% 1.89M 6s\n",
      "  9300K .......... .......... .......... .......... .......... 48% 1.93M 6s\n",
      "  9350K .......... .......... .......... .......... .......... 49% 1.90M 6s\n",
      "  9400K .......... .......... .......... .......... .......... 49% 1.93M 6s\n",
      "  9450K .......... .......... .......... .......... .......... 49% 1.92M 6s\n",
      "  9500K .......... .......... .......... .......... .......... 49% 1.91M 6s\n",
      "  9550K .......... .......... .......... .......... .......... 50% 1.88M 6s\n",
      "  9600K .......... .......... .......... .......... .......... 50% 1.93M 6s\n",
      "  9650K .......... .......... .......... .......... .......... 50% 1.88M 6s\n",
      "  9700K .......... .......... .......... .......... .......... 50% 1.88M 6s\n",
      "  9750K .......... .......... .......... .......... .......... 51% 1.90M 6s\n",
      "  9800K .......... .......... .......... .......... .......... 51% 1.93M 6s\n",
      "  9850K .......... .......... .......... .......... .......... 51% 1.91M 6s\n",
      "  9900K .......... .......... .......... .......... .......... 51% 1.92M 6s\n",
      "  9950K .......... .......... .......... .......... .......... 52% 1.90M 6s\n",
      " 10000K .......... .......... .......... .......... .......... 52% 1.91M 6s\n",
      " 10050K .......... .......... .......... .......... .......... 52% 1.91M 6s\n",
      " 10100K .......... .......... .......... .......... .......... 52% 1.92M 6s\n",
      " 10150K .......... .......... .......... .......... .......... 53% 1.91M 6s\n",
      " 10200K .......... .......... .......... .......... .......... 53% 1.93M 6s\n",
      " 10250K .......... .......... .......... .......... .......... 53% 1.92M 5s\n",
      " 10300K .......... .......... .......... .......... .......... 54% 1006K 5s\n",
      " 10350K .......... .......... .......... .......... .......... 54% 1.91M 5s\n",
      " 10400K .......... .......... .......... .......... .......... 54% 1.92M 5s\n",
      " 10450K .......... .......... .......... .......... .......... 54% 1.92M 5s\n",
      " 10500K .......... .......... .......... .......... .......... 55% 1.92M 5s\n",
      " 10550K .......... .......... .......... .......... .......... 55% 1.91M 5s\n",
      " 10600K .......... .......... .......... .......... .......... 55% 1.93M 5s\n",
      " 10650K .......... .......... .......... .......... .......... 55% 1.88M 5s\n",
      " 10700K .......... .......... .......... .......... .......... 56% 1.85M 5s\n",
      " 10750K .......... .......... .......... .......... .......... 56% 1.92M 5s\n",
      " 10800K .......... .......... .......... .......... .......... 56% 1.91M 5s\n",
      " 10850K .......... .......... .......... .......... .......... 56% 1.90M 5s\n",
      " 10900K .......... .......... .......... .......... .......... 57% 1.92M 5s\n",
      " 10950K .......... .......... .......... .......... .......... 57% 1.92M 5s\n",
      " 11000K .......... .......... .......... .......... .......... 57% 1.89M 5s\n",
      " 11050K .......... .......... .......... .......... .......... 57% 1.92M 5s\n",
      " 11100K .......... .......... .......... .......... .......... 58% 1.93M 5s\n",
      " 11150K .......... .......... .......... .......... .......... 58% 1.88M 5s\n",
      " 11200K .......... .......... .......... .......... .......... 58% 1.91M 5s\n",
      " 11250K .......... .......... .......... .......... .......... 58%  398K 5s\n",
      " 11300K .......... .......... .......... .......... .......... 59% 1.90M 5s\n",
      " 11350K .......... .......... .......... .......... .......... 59% 1.92M 5s\n",
      " 11400K .......... .......... .......... .......... .......... 59% 1.89M 5s\n",
      " 11450K .......... .......... .......... .......... .......... 60% 1.91M 5s\n",
      " 11500K .......... .......... .......... .......... .......... 60% 1.89M 5s\n",
      " 11550K .......... .......... .......... .......... .......... 60% 1.93M 5s\n",
      " 11600K .......... .......... .......... .......... .......... 60% 1.89M 5s\n",
      " 11650K .......... .......... .......... .......... .......... 61% 1.92M 5s\n",
      " 11700K .......... .......... .......... .......... .......... 61% 1.88M 5s\n",
      " 11750K .......... .......... .......... .......... .......... 61% 1.91M 5s\n",
      " 11800K .......... .......... .......... .......... .......... 61% 1.88M 4s\n",
      " 11850K .......... .......... .......... .......... .......... 62% 1.85M 4s\n",
      " 11900K .......... .......... .......... .......... .......... 62% 1.90M 4s\n",
      " 11950K .......... .......... .......... .......... .......... 62% 1.06M 4s\n",
      " 12000K .......... .......... .......... .......... .......... 62% 1.92M 4s\n",
      " 12050K .......... .......... .......... .......... .......... 63% 1.92M 4s\n",
      " 12100K .......... .......... .......... .......... .......... 63% 1.91M 4s\n",
      " 12150K .......... .......... .......... .......... .......... 63% 1.92M 4s\n",
      " 12200K .......... .......... .......... .......... .......... 63%  492K 4s\n",
      " 12250K .......... .......... .......... .......... .......... 64% 1.79M 4s\n",
      " 12300K .......... .......... .......... .......... .......... 64% 1.02M 4s\n",
      " 12350K .......... .......... .......... .......... .......... 64% 15.1M 4s\n",
      " 12400K .......... .......... .......... .......... .......... 64% 1.02M 4s\n",
      " 12450K .......... .......... .......... .......... .......... 65% 1.88M 4s\n",
      " 12500K .......... .......... .......... .......... .......... 65% 1.92M 4s\n",
      " 12550K .......... .......... .......... .......... .......... 65%  486K 4s\n",
      " 12600K .......... .......... .......... .......... .......... 66% 1.90M 4s\n",
      " 12650K .......... .......... .......... .......... .......... 66% 1.93M 4s\n",
      " 12700K .......... .......... .......... .......... .......... 66% 1.91M 4s\n",
      " 12750K .......... .......... .......... .......... .......... 66% 1.91M 4s\n",
      " 12800K .......... .......... .......... .......... .......... 67% 1.90M 4s\n",
      " 12850K .......... .......... .......... .......... .......... 67% 1.93M 4s\n",
      " 12900K .......... .......... .......... .......... .......... 67% 1.90M 4s\n",
      " 12950K .......... .......... .......... .......... .......... 67% 1.90M 4s\n",
      " 13000K .......... .......... .......... .......... .......... 68% 1.86M 4s\n",
      " 13050K .......... .......... .......... .......... .......... 68% 1.94M 4s\n",
      " 13100K .......... .......... .......... .......... .......... 68% 1.02M 4s\n",
      " 13150K .......... .......... .......... .......... .......... 68% 1.92M 4s\n",
      " 13200K .......... .......... .......... .......... .......... 69% 1.88M 4s\n",
      " 13250K .......... .......... .......... .......... .......... 69% 1.91M 4s\n",
      " 13300K .......... .......... .......... .......... .......... 69% 1.92M 4s\n",
      " 13350K .......... .......... .......... .......... .......... 69% 1.93M 4s\n",
      " 13400K .......... .......... .......... .......... .......... 70% 1.93M 4s\n",
      " 13450K .......... .......... .......... .......... .......... 70% 1.94M 3s\n",
      " 13500K .......... .......... .......... .......... .......... 70% 1.93M 3s\n",
      " 13550K .......... .......... .......... .......... .......... 70% 1.88M 3s\n",
      " 13600K .......... .......... .......... .......... .......... 71% 1.88M 3s\n",
      " 13650K .......... .......... .......... .......... .......... 71% 1.94M 3s\n",
      " 13700K .......... .......... .......... .......... .......... 71% 1.92M 3s\n",
      " 13750K .......... .......... .......... .......... .......... 72% 1.89M 3s\n",
      " 13800K .......... .......... .......... .......... .......... 72% 1.91M 3s\n",
      " 13850K .......... .......... .......... .......... .......... 72% 1.87M 3s\n",
      " 13900K .......... .......... .......... .......... .......... 72% 1.91M 3s\n",
      " 13950K .......... .......... .......... .......... .......... 73% 1.93M 3s\n",
      " 14000K .......... .......... .......... .......... .......... 73% 1.94M 3s\n",
      " 14050K .......... .......... .......... .......... .......... 73% 1.95M 3s\n",
      " 14100K .......... .......... .......... .......... .......... 73% 1.92M 3s\n",
      " 14150K .......... .......... .......... .......... .......... 74% 1.93M 3s\n",
      " 14200K .......... .......... .......... .......... .......... 74% 1.92M 3s\n",
      " 14250K .......... .......... .......... .......... .......... 74% 1.91M 3s\n",
      " 14300K .......... .......... .......... .......... .......... 74% 1.89M 3s\n",
      " 14350K .......... .......... .......... .......... .......... 75% 1.93M 3s\n",
      " 14400K .......... .......... .......... .......... .......... 75% 1013K 3s\n",
      " 14450K .......... .......... .......... .......... .......... 75% 1.89M 3s\n",
      " 14500K .......... .......... .......... .......... .......... 75% 1.93M 3s\n",
      " 14550K .......... .......... .......... .......... .......... 76% 1.92M 3s\n",
      " 14600K .......... .......... .......... .......... .......... 76% 1.90M 3s\n",
      " 14650K .......... .......... .......... .......... .......... 76% 1.92M 3s\n",
      " 14700K .......... .......... .......... .......... .......... 76% 1.91M 3s\n",
      " 14750K .......... .......... .......... .......... .......... 77% 1.93M 3s\n",
      " 14800K .......... .......... .......... .......... .......... 77% 1.93M 3s\n",
      " 14850K .......... .......... .......... .......... .......... 77% 1.92M 3s\n",
      " 14900K .......... .......... .......... .......... .......... 78% 1.92M 3s\n",
      " 14950K .......... .......... .......... .......... .......... 78% 1.90M 3s\n",
      " 15000K .......... .......... .......... .......... .......... 78% 1.82M 3s\n",
      " 15050K .......... .......... .......... .......... .......... 78% 1.90M 2s\n",
      " 15100K .......... .......... .......... .......... .......... 79% 1.88M 2s\n",
      " 15150K .......... .......... .......... .......... .......... 79% 1.87M 2s\n",
      " 15200K .......... .......... .......... .......... .......... 79% 1.75M 2s\n",
      " 15250K .......... .......... .......... .......... .......... 79% 1.71M 2s\n",
      " 15300K .......... .......... .......... .......... .......... 80% 1.89M 2s\n",
      " 15350K .......... .......... .......... .......... .......... 80% 1.21M 2s\n",
      " 15400K .......... .......... .......... .......... .......... 80% 1.77M 2s\n",
      " 15450K .......... .......... .......... .......... .......... 80% 1.82M 2s\n",
      " 15500K .......... .......... .......... .......... .......... 81% 1.10M 2s\n",
      " 15550K .......... .......... .......... .......... .......... 81% 1.93M 2s\n",
      " 15600K .......... .......... .......... .......... .......... 81% 1.94M 2s\n",
      " 15650K .......... .......... .......... .......... .......... 81% 1.94M 2s\n",
      " 15700K .......... .......... .......... .......... .......... 82% 1.92M 2s\n",
      " 15750K .......... .......... .......... .......... .......... 82% 1.94M 2s\n",
      " 15800K .......... .......... .......... .......... .......... 82% 1.94M 2s\n",
      " 15850K .......... .......... .......... .......... .......... 82% 6.54M 2s\n",
      " 15900K .......... .......... .......... .......... .......... 83% 1.93M 2s\n",
      " 15950K .......... .......... .......... .......... .......... 83% 1.01M 2s\n",
      " 16000K .......... .......... .......... .......... .......... 83% 16.3M 2s\n",
      " 16050K .......... .......... .......... .......... .......... 84% 1.88M 2s\n",
      " 16100K .......... .......... .......... .......... .......... 84% 1.92M 2s\n",
      " 16150K .......... .......... .......... .......... .......... 84% 1.90M 2s\n",
      " 16200K .......... .......... .......... .......... .......... 84% 1.94M 2s\n",
      " 16250K .......... .......... .......... .......... .......... 85% 1.94M 2s\n",
      " 16300K .......... .......... .......... .......... .......... 85% 1.89M 2s\n",
      " 16350K .......... .......... .......... .......... .......... 85% 1.89M 2s\n",
      " 16400K .......... .......... .......... .......... .......... 85% 1.93M 2s\n",
      " 16450K .......... .......... .......... .......... .......... 86% 1.95M 2s\n",
      " 16500K .......... .......... .......... .......... .......... 86% 1.95M 2s\n",
      " 16550K .......... .......... .......... .......... .......... 86% 21.0M 2s\n",
      " 16600K .......... .......... .......... .......... .......... 86% 1.90M 2s\n",
      " 16650K .......... .......... .......... .......... .......... 87% 1.94M 1s\n",
      " 16700K .......... .......... .......... .......... .......... 87% 1.89M 1s\n",
      " 16750K .......... .......... .......... .......... .......... 87% 1.93M 1s\n",
      " 16800K .......... .......... .......... .......... .......... 87% 1.91M 1s\n",
      " 16850K .......... .......... .......... .......... .......... 88% 1.91M 1s\n",
      " 16900K .......... .......... .......... .......... .......... 88% 1.89M 1s\n",
      " 16950K .......... .......... .......... .......... .......... 88% 1.93M 1s\n",
      " 17000K .......... .......... .......... .......... .......... 88% 1.94M 1s\n",
      " 17050K .......... .......... .......... .......... .......... 89% 1.93M 1s\n",
      " 17100K .......... .......... .......... .......... .......... 89% 1.95M 1s\n",
      " 17150K .......... .......... .......... .......... .......... 89% 1.87M 1s\n",
      " 17200K .......... .......... .......... .......... .......... 90% 1.93M 1s\n",
      " 17250K .......... .......... .......... .......... .......... 90% 21.1M 1s\n",
      " 17300K .......... .......... .......... .......... .......... 90% 1.93M 1s\n",
      " 17350K .......... .......... .......... .......... .......... 90% 1.91M 1s\n",
      " 17400K .......... .......... .......... .......... .......... 91% 1.94M 1s\n",
      " 17450K .......... .......... .......... .......... .......... 91% 1.88M 1s\n",
      " 17500K .......... .......... .......... .......... .......... 91% 1.93M 1s\n",
      " 17550K .......... .......... .......... .......... .......... 91% 1.90M 1s\n",
      " 17600K .......... .......... .......... .......... .......... 92% 1.94M 1s\n",
      " 17650K .......... .......... .......... .......... .......... 92% 1.88M 1s\n",
      " 17700K .......... .......... .......... .......... .......... 92% 29.8M 1s\n",
      " 17750K .......... .......... .......... .......... .......... 92% 1.92M 1s\n",
      " 17800K .......... .......... .......... .......... .......... 93% 1.94M 1s\n",
      " 17850K .......... .......... .......... .......... .......... 93% 1.91M 1s\n",
      " 17900K .......... .......... .......... .......... .......... 93% 1.92M 1s\n",
      " 17950K .......... .......... .......... .......... .......... 93% 1.92M 1s\n",
      " 18000K .......... .......... .......... .......... .......... 94% 1.92M 1s\n",
      " 18050K .......... .......... .......... .......... .......... 94% 1.94M 1s\n",
      " 18100K .......... .......... .......... .......... .......... 94% 1.87M 1s\n",
      " 18150K .......... .......... .......... .......... .......... 94% 1.93M 1s\n",
      " 18200K .......... .......... .......... .......... .......... 95% 1.94M 1s\n",
      " 18250K .......... .......... .......... .......... .......... 95% 1.92M 1s\n",
      " 18300K .......... .......... .......... .......... .......... 95% 1.89M 0s\n",
      " 18350K .......... .......... .......... .......... .......... 96% 1.92M 0s\n",
      " 18400K .......... .......... .......... .......... .......... 96% 33.8M 0s\n",
      " 18450K .......... .......... .......... .......... .......... 96% 1.88M 0s\n",
      " 18500K .......... .......... .......... .......... .......... 96% 1.92M 0s\n",
      " 18550K .......... .......... .......... .......... .......... 97% 1.88M 0s\n",
      " 18600K .......... .......... .......... .......... .......... 97% 1.91M 0s\n",
      " 18650K .......... .......... .......... .......... .......... 97% 1.94M 0s\n",
      " 18700K .......... .......... .......... .......... .......... 97% 1.92M 0s\n",
      " 18750K .......... .......... .......... .......... .......... 98% 1.84M 0s\n",
      " 18800K .......... .......... .......... .......... .......... 98% 1.78M 0s\n",
      " 18850K .......... .......... .......... .......... .......... 98% 1.90M 0s\n",
      " 18900K .......... .......... .......... .......... .......... 98% 1.87M 0s\n",
      " 18950K .......... .......... .......... .......... .......... 99% 25.9M 0s\n",
      " 19000K .......... .......... .......... .......... .......... 99% 1.55M 0s\n",
      " 19050K .......... .......... .......... .......... .......... 99% 1.92M 0s\n",
      " 19100K .......... .......... .......... .......... .......... 99% 1.55M 0s\n",
      " 19150K .......... ...                                        100% 60.8M=11s\n",
      "\n",
      "2018-05-16 10:47:53 (1.68 MB/s) - ‘Silva.seed_v132.tgz’ saved [19623900/19623900]\n",
      "\n"
     ]
    }
   ],
   "source": [
    "%%bash \n",
    "# Remove database if already exsists\n",
    "if [ -d mothur_silva_db ]; then\n",
    "    rm -rf mothur_silva_db\n",
    "fi\n",
    "\n",
    "#if ! [ -d mothur_silva_db ]; then\n",
    "#    mkdir mothur_silva_db\n",
    "#fi\n",
    "\n",
    "mkdir mothur_silva_db\n",
    "cd mothur_silva_db\n",
    "\n",
    "# Download mothur recreatd SEED database release 132.\n",
    "wget https://www.mothur.org/w/images/7/71/Silva.seed_v132.tgz\n",
    "#wget https://www.mothur.org/w/images/a/a4/Silva.seed_v128.tgz\n",
    "tar -xvzf Silva.seed_v132.tgz\n",
    "rm Silva.seed_v132.tgz"
   ]
  },
  {
   "cell_type": "code",
   "execution_count": 18,
   "metadata": {
    "collapsed": false
   },
   "outputs": [
    {
     "name": "stdout",
     "output_type": "stream",
     "text": [
      "100\n",
      "200\n",
      "300\n",
      "400\n",
      "500\n",
      "560\n",
      "\n",
      "\n",
      "\n",
      "Length of filtered alignment: 10180\n",
      "Number of columns removed: 39820\n",
      "Length of the original alignment: 50000\n",
      "Number of sequences used to construct filter: 11180\n",
      "\n",
      "Output File Names: \n",
      "silva.filter\n",
      "silva.seed_v132.filter.fasta\n",
      "\n",
      "\n",
      "mothur > quit()\n",
      "\n",
      "Number of sequences post-filter: 11180\n"
     ]
    }
   ],
   "source": [
    "silvaFile = 'silva.seed_v132.align'\n",
    "cmd = 'mothur \"#filter.seqs(vertical=t, fasta={}, processors={})\"'.format(silvaFile, nprocs)\n",
    "!cd mothur_silva_db; $cmd | tail -n 20\n",
    "\n",
    "silvaFileFilt = os.path.splitext(silvaFile)[0] + '.filter.fasta'\n",
    "silvaFileFilt = os.path.join('mothur_silva_db', silvaFileFilt)\n",
    "ret = !grep -c \">\" $silvaFileFilt\n",
    "print ('\\nNumber of sequences post-filter: {}'.format(ret[0]))"
   ]
  },
  {
   "cell_type": "code",
   "execution_count": 19,
   "metadata": {
    "collapsed": false
   },
   "outputs": [
    {
     "name": "stdout",
     "output_type": "stream",
     "text": [
      "85700\r\n",
      "85800\r\n",
      "85900\r\n",
      "86000\r\n",
      "86100\r\n",
      "86200\r\n",
      "86300\r\n",
      "86400\r\n",
      "86500\r\n",
      "86554\r\n",
      "[WARNING]: Some of your sequences generated alignments that eliminated too many bases, a list is provided in pear_merged-fullCyc2_lib7.assembled.dmult_maxee1_noN.unique.flip.accnos. If the reverse compliment proved to be better it was reported.\r\n",
      "It took 641 secs to align 1722824 sequences.\r\n",
      "\r\n",
      "\r\n",
      "Output File Names: \r\n",
      "pear_merged-fullCyc2_lib7.assembled.dmult_maxee1_noN.unique.align\r\n",
      "pear_merged-fullCyc2_lib7.assembled.dmult_maxee1_noN.unique.align.report\r\n",
      "pear_merged-fullCyc2_lib7.assembled.dmult_maxee1_noN.unique.flip.accnos\r\n",
      "\r\n",
      "\r\n",
      "mothur > quit()\r\n",
      "\r\n",
      "\r\n",
      "<<<<<<<<<<<<<<<<<<<<<<<<<<<<<<^>>>>>>>>>>>>>>>>>>>>>>>>>>>>>\r\n",
      "<<<<<<<<<<<<<<<<<<<<<<<<<<<<<<^>>>>>>>>>>>>>>>>>>>>>>>>>>>>>\r\n",
      "<<<<<<<<<<<<<<<<<<<<<<<<<<<<<<^>>>>>>>>>>>>>>>>>>>>>>>>>>>>>\r\n",
      "Detected 1 [WARNING] messages, please review.\r\n",
      "<<<<<<<<<<<<<<<<<<<<<<<<<<<<<<^>>>>>>>>>>>>>>>>>>>>>>>>>>>>>\r\n",
      "<<<<<<<<<<<<<<<<<<<<<<<<<<<<<<^>>>>>>>>>>>>>>>>>>>>>>>>>>>>>\r\n",
      "<<<<<<<<<<<<<<<<<<<<<<<<<<<<<<^>>>>>>>>>>>>>>>>>>>>>>>>>>>>>\r\n"
     ]
    }
   ],
   "source": [
    "# aligning sequences\n",
    "qcFile3a = re.sub('-', '\\-', qcFile3)\n",
    "cmd = 'mothur \"#align.seqs(candidate={}, template={}, processors={}, flip=T)\"'.format(qcFile3a, silvaFileFilt, nprocs)\n",
    "!$cmd | tail -n 30"
   ]
  },
  {
   "cell_type": "code",
   "execution_count": 20,
   "metadata": {
    "collapsed": false
   },
   "outputs": [
    {
     "name": "stdout",
     "output_type": "stream",
     "text": [
      "-rw-rw-r-- 1 sam sam 17G May 16 10:58 pear_merged-fullCyc2_lib7.assembled.dmult_maxee1_noN.unique.align\r\n"
     ]
    }
   ],
   "source": [
    "qcFile4 = os.path.splitext(qcFile3)[0] + '.align'\n",
    "!ls -thlc $qcFile4 "
   ]
  },
  {
   "cell_type": "code",
   "execution_count": 21,
   "metadata": {
    "collapsed": false
   },
   "outputs": [
    {
     "name": "stdout",
     "output_type": "stream",
     "text": [
      "84700\r\n",
      "84800\r\n",
      "84900\r\n",
      "85000\r\n",
      "85100\r\n",
      "85200\r\n",
      "85300\r\n",
      "85400\r\n",
      "85500\r\n",
      "85600\r\n",
      "85700\r\n",
      "85800\r\n",
      "85900\r\n",
      "86000\r\n",
      "86100\r\n",
      "86154\r\n",
      "\r\n",
      "\r\n",
      "\r\n",
      "Length of filtered alignment: 1367\r\n",
      "Number of columns removed: 8813\r\n",
      "Length of the original alignment: 10180\r\n",
      "Number of sequences used to construct filter: 1722824\r\n",
      "\r\n",
      "Output File Names: \r\n",
      "pear_merged-fullCyc2_lib7.filter\r\n",
      "pear_merged-fullCyc2_lib7.assembled.dmult_maxee1_noN.unique.filter.fasta\r\n",
      "\r\n",
      "\r\n",
      "mothur > quit()\r\n"
     ]
    }
   ],
   "source": [
    "# filtering out gap positions in the alignment\n",
    "qcFile4a = re.sub('-', '\\-', qcFile4)\n",
    "cmd = 'mothur \"#filter.seqs(vertical=t, fasta={}, processors={})\"'.format(qcFile4a, nprocs)\n",
    "!$cmd | tail -n 30"
   ]
  },
  {
   "cell_type": "code",
   "execution_count": 22,
   "metadata": {
    "collapsed": false
   },
   "outputs": [
    {
     "name": "stdout",
     "output_type": "stream",
     "text": [
      "-rw-rw-r-- 1 sam sam 2.3G May 16 10:59 pear_merged-fullCyc2_lib7.assembled.dmult_maxee1_noN.unique.filter.fasta\r\n"
     ]
    }
   ],
   "source": [
    "qcFile5 = os.path.splitext(qcFile3)[0] + '.filter.fasta'\n",
    "!ls -thlc $qcFile5"
   ]
  },
  {
   "cell_type": "code",
   "execution_count": 23,
   "metadata": {
    "collapsed": false
   },
   "outputs": [
    {
     "name": "stdout",
     "output_type": "stream",
     "text": [
      "Using 20 processors.\r\n",
      "\r\n",
      "\t\tStart\tEnd\tNBases\tAmbigs\tPolymer\tNumSeqs\r\n",
      "Minimum:\t0\t0\t0\t0\t1\t1\r\n",
      "2.5%-tile:\t217\t952\t253\t0\t4\t72479\r\n",
      "25%-tile:\t217\t952\t253\t0\t4\t724781\r\n",
      "Median: \t217\t952\t253\t0\t5\t1449561\r\n",
      "75%-tile:\t217\t952\t253\t0\t6\t2174341\r\n",
      "97.5%-tile:\t217\t952\t254\t0\t8\t2826643\r\n",
      "Maximum:\t1367\t1367\t365\t0\t82\t2899121\r\n",
      "Mean:\t218.113\t952.128\t252.586\t0\t5.11525\r\n",
      "# of unique seqs:\t1722824\r\n",
      "total # of seqs:\t2899121\r\n",
      "\r\n",
      "Output File Names: \r\n",
      "pear_merged-fullCyc2_lib7.assembled.dmult_maxee1_noN.unique.filter.summary\r\n",
      "\r\n",
      "It took 10 secs to summarize 2899121 sequences.\r\n",
      "\r\n",
      "mothur > quit()\r\n"
     ]
    }
   ],
   "source": [
    "cmd = 'mothur \"#summary.seqs(fasta={}, processors={}, name={})\"'.format(qcFile5, nprocs, nameFile)\n",
    "!$cmd | tail -n 20"
   ]
  },
  {
   "cell_type": "markdown",
   "metadata": {},
   "source": [
    "## Removing homopolymers (> 8) and screening out sequences that don't align to an amplicon region"
   ]
  },
  {
   "cell_type": "code",
   "execution_count": 24,
   "metadata": {
    "collapsed": false
   },
   "outputs": [
    {
     "name": "stdout",
     "output_type": "stream",
     "text": [
      "Processing sequence: 84500\r\n",
      "Processing sequence: 84600\r\n",
      "Processing sequence: 84700\r\n",
      "Processing sequence: 84800\r\n",
      "Processing sequence: 84900\r\n",
      "Processing sequence: 85000\r\n",
      "Processing sequence: 85100\r\n",
      "Processing sequence: 85200\r\n",
      "Processing sequence: 85300\r\n",
      "Processing sequence: 85400\r\n",
      "Processing sequence: 85500\r\n",
      "Processing sequence: 85600\r\n",
      "Processing sequence: 85700\r\n",
      "Processing sequence: 85800\r\n",
      "Processing sequence: 85900\r\n",
      "Processing sequence: 86000\r\n",
      "Processing sequence: 86100\r\n",
      "Processing sequence: 86200\r\n",
      "Processing sequence: 86233\r\n",
      "\r\n",
      "Output File Names: \r\n",
      "pear_merged-fullCyc2_lib7.assembled.dmult_maxee1_noN.unique.filter.good.fasta\r\n",
      "pear_merged-fullCyc2_lib7.assembled.dmult_maxee1_noN.unique.filter.bad.accnos\r\n",
      "pear_merged-fullCyc2_lib7.assembled.dmult_maxee1_noN.good.names\r\n",
      "group_file.good.txt\r\n",
      "\r\n",
      "\r\n",
      "It took 19 secs to screen 1722824 sequences.\r\n",
      "\r\n",
      "mothur > quit()\r\n"
     ]
    }
   ],
   "source": [
    "cmd = \"\"\"mothur '#screen.seqs(fasta={},\\\n",
    "    processors={},\\\n",
    "    name={},\\\n",
    "    group={},\\\n",
    "    start={},\\\n",
    "    end={},\\\n",
    "    maxhomop=8)'\"\"\".format(qcFile5, nprocs, nameFile, 'group_file.txt', 217, 952)\n",
    "!$cmd | tail -n 30"
   ]
  },
  {
   "cell_type": "code",
   "execution_count": 25,
   "metadata": {
    "collapsed": false
   },
   "outputs": [
    {
     "name": "stdout",
     "output_type": "stream",
     "text": [
      "Number of sequences post-filter: 1681216\n"
     ]
    }
   ],
   "source": [
    "qcFile6 = os.path.splitext(qcFile5)[0] + '.good.fasta'\n",
    "ret = !grep -c \">\" $qcFile6\n",
    "print ('Number of sequences post-filter: {}'.format(ret[0]))"
   ]
  },
  {
   "cell_type": "code",
   "execution_count": 26,
   "metadata": {
    "collapsed": false
   },
   "outputs": [
    {
     "name": "stdout",
     "output_type": "stream",
     "text": [
      "83700\r\n",
      "83800\r\n",
      "83900\r\n",
      "84000\r\n",
      "84100\r\n",
      "84151\r\n",
      "\r\n",
      "\r\n",
      "\r\n",
      "Length of filtered alignment: 965\r\n",
      "Number of columns removed: 402\r\n",
      "Length of the original alignment: 1367\r\n",
      "Number of sequences used to construct filter: 1681216\r\n",
      "\r\n",
      "Output File Names: \r\n",
      "pear_merged-fullCyc2_lib7.filter\r\n",
      "pear_merged-fullCyc2_lib7.assembled.dmult_maxee1_noN.unique.filter.good.filter.fasta\r\n",
      "\r\n",
      "\r\n",
      "mothur > quit()\r\n"
     ]
    }
   ],
   "source": [
    "qcFile6a = re.sub('-', '\\-', qcFile6)\n",
    "cmd = 'mothur \"#filter.seqs(fasta={}, processors={}, vertical=T)\"'.format(qcFile6a, nprocs)\n",
    "!$cmd | tail -n 20"
   ]
  },
  {
   "cell_type": "code",
   "execution_count": 27,
   "metadata": {
    "collapsed": false
   },
   "outputs": [
    {
     "name": "stdout",
     "output_type": "stream",
     "text": [
      "-rw-rw-r-- 1 sam sam 1.6G May 16 11:01 pear_merged-fullCyc2_lib7.assembled.dmult_maxee1_noN.unique.filter.good.filter.fasta\r\n"
     ]
    }
   ],
   "source": [
    "qcFile7 = os.path.splitext(qcFile6)[0] + '.filter.fasta'\n",
    "!ls -thlc $qcFile7"
   ]
  },
  {
   "cell_type": "markdown",
   "metadata": {},
   "source": [
    "## Deunique seqs"
   ]
  },
  {
   "cell_type": "code",
   "execution_count": 28,
   "metadata": {
    "collapsed": false
   },
   "outputs": [
    {
     "name": "stdout",
     "output_type": "stream",
     "text": [
      "mothur v.1.39.5\r\n",
      "Last updated: 3/20/2017\r\n",
      "\r\n",
      "by\r\n",
      "Patrick D. Schloss\r\n",
      "\r\n",
      "Department of Microbiology & Immunology\r\n",
      "University of Michigan\r\n",
      "http://www.mothur.org\r\n",
      "\r\n",
      "When using, please cite:\r\n",
      "Schloss, P.D., et al., Introducing mothur: Open-source, platform-independent, community-supported software for describing and comparing microbial communities. Appl Environ Microbiol, 2009. 75(23):7537-41.\r\n",
      "\r\n",
      "Distributed under the GNU General Public License\r\n",
      "\r\n",
      "Type 'help()' for information on the commands that are available\r\n",
      "\r\n",
      "For questions and analysis support, please visit our forum at https://www.mothur.org/forum\r\n",
      "\r\n",
      "Type 'quit()' to exit program\r\n",
      "\r\n",
      "\r\n",
      "\r\n",
      "mothur > deunique.seqs(fasta=pear_merged-fullCyc2_lib7.assembled.dmult_maxee1_noN.unique.filter.good.filter.fasta, name=pear_merged-fullCyc2_lib7.assembled.dmult_maxee1_noN.names)\r\n",
      "\r\n",
      "Output File Names: \r\n",
      "pear_merged-fullCyc2_lib7.assembled.dmult_maxee1_noN.unique.filter.good.filter.redundant.fasta\r\n",
      "\r\n",
      "\r\n",
      "mothur > quit()\r\n"
     ]
    }
   ],
   "source": [
    "cmd = 'mothur \"#deunique.seqs(fasta={}, name={})\"'.format(qcFile7, nameFile)\n",
    "!$cmd | tail -n 30"
   ]
  },
  {
   "cell_type": "markdown",
   "metadata": {},
   "source": [
    "### Final QC-ed file"
   ]
  },
  {
   "cell_type": "code",
   "execution_count": 29,
   "metadata": {
    "collapsed": true
   },
   "outputs": [],
   "source": [
    "qcFile8 = os.path.splitext(qcFile7)[0] + '.redundant.fasta'\n",
    "qcFinal = 'finalQC.fasta'\n",
    "!perl -pe 's/[-.]//g if ! /^>/' $qcFile8 > $qcFinal"
   ]
  },
  {
   "cell_type": "code",
   "execution_count": 30,
   "metadata": {
    "collapsed": false
   },
   "outputs": [
    {
     "name": "stdout",
     "output_type": "stream",
     "text": [
      "\r\n",
      "Using 20 processors.\r\n",
      "\r\n",
      "\t\tStart\tEnd\tNBases\tAmbigs\tPolymer\tNumSeqs\r\n",
      "Minimum:\t1\t218\t218\t0\t3\t1\r\n",
      "2.5%-tile:\t1\t253\t253\t0\t4\t70893\r\n",
      "25%-tile:\t1\t253\t253\t0\t4\t708926\r\n",
      "Median: \t1\t253\t253\t0\t5\t1417852\r\n",
      "75%-tile:\t1\t253\t253\t0\t6\t2126778\r\n",
      "97.5%-tile:\t1\t254\t254\t0\t8\t2764811\r\n",
      "Maximum:\t1\t365\t365\t0\t8\t2835703\r\n",
      "Mean:\t1\t252.905\t252.905\t0\t5.09464\r\n",
      "# of Seqs:\t2835703\r\n",
      "\r\n",
      "Output File Names: \r\n",
      "finalQC.summary\r\n",
      "\r\n",
      "It took 2 secs to summarize 2835703 sequences.\r\n",
      "\r\n",
      "mothur > quit()\r\n"
     ]
    }
   ],
   "source": [
    "cmd = 'mothur \"#summary.seqs(fasta={}, processors={})\"'.format(qcFinal, nprocs)\n",
    "!$cmd | tail -n 20"
   ]
  },
  {
   "cell_type": "code",
   "execution_count": 31,
   "metadata": {
    "collapsed": false
   },
   "outputs": [
    {
     "name": "stdout",
     "output_type": "stream",
     "text": [
      ">MR.M.13C-Ami.D1.R2_Frac11_0\r\n",
      "TACGGGGGGGGCAAGCGTTGTTCGGAATTACTGGGCGTAAAGCGCTCGTAGGCGGCCAGCTAAGTCAGATGTGAAATCCCCCGGCTTAACCGGGGAACTGCGTCTGATACTGGATGGCTTGAGGTTGGGAGAGGGATGCGGAATTCCAGGTGTAGCGGTGAAATGCGTAGATATCGCTTGGAACGCCGACGGTGAAGGCAGCTCGCTGGGGCTTCGCTGACGCTGAGACGCGAAAGCCAGGGGAGCAAACGGG\r\n",
      ">MR.F.12C-Con.D1.R1_Frac16_1\r\n",
      "TACAGAGGTCGCAAGCGTTGTTCGGATTTACTGGGCGTAAAGGGTGCGCAGGCGGCTCGGTAAGTCGGGTGTGAAATCCTGGGGCTTAACCCCGAAACTGCATTCGATACTGCCGTGCTTGAGGACTGGAGAGGAGACTGGAATTTACGGTGTAGCGGTGAAATGCGTAGATATCGGGAAGAACACCCGTGGCGAAGGCGGCTCTCTGGGACGGTACTGACGCTGAGACGCGAAAGCGTGGGGAGTGAACAGG\r\n",
      ">MR.M.13C-Ami.D3.R1_Frac27_5\r\n",
      "TACGTAGGGACCAAGCGTTGTTCGGATTTACTGGGCGTAAAGCGCGCGTAGGCGGCGTGACAAGTCCCTTGTGAAATCTCTGGGCTTAACTCCGTACGGGCAGGTGAAACTGCTGTGCTAGAGTGCGGAAGGGGCAAGCGGAATTCCTGGTGTAGCGGTGAAATGCGTAGAGATCAGGAGGAACACCTGAGGTGAAGGCGGGTTGCTGGGCTGACACTGACGCTGATGCGCGAAAGCGGGGGGAGCAAACGGG\r\n"
     ]
    }
   ],
   "source": [
    "!head -n 6 $qcFinal"
   ]
  },
  {
   "cell_type": "markdown",
   "metadata": {},
   "source": [
    "## Summary of number of seqs per sample"
   ]
  },
  {
   "cell_type": "code",
   "execution_count": 32,
   "metadata": {
    "collapsed": true
   },
   "outputs": [],
   "source": [
    "re1 = re.compile('_[0-9]+$')\n",
    "\n",
    "qcFinalSum = os.path.splitext(qcFinal)[0] + '.summary'\n",
    "\n",
    "samp_count = dict()\n",
    "with open(qcFinalSum, 'r') as inFH:\n",
    "    for line in inFH:\n",
    "        if line.startswith('seqname'):\n",
    "            continue\n",
    "        line = line.rstrip().split('\\t')\n",
    "        line[0] = re.sub(re1, '', line[0])\n",
    "        try:\n",
    "            samp_count[line[0]] += 1\n",
    "        except KeyError:\n",
    "            samp_count[line[0]] = 1"
   ]
  },
  {
   "cell_type": "code",
   "execution_count": 33,
   "metadata": {
    "collapsed": false
   },
   "outputs": [
    {
     "data": {
      "text/html": [
       "<div>\n",
       "<style scoped>\n",
       "    .dataframe tbody tr th:only-of-type {\n",
       "        vertical-align: middle;\n",
       "    }\n",
       "\n",
       "    .dataframe tbody tr th {\n",
       "        vertical-align: top;\n",
       "    }\n",
       "\n",
       "    .dataframe thead th {\n",
       "        text-align: right;\n",
       "    }\n",
       "</style>\n",
       "<table border=\"1\" class=\"dataframe\">\n",
       "  <thead>\n",
       "    <tr style=\"text-align: right;\">\n",
       "      <th></th>\n",
       "      <th>Sample</th>\n",
       "      <th>seq_count</th>\n",
       "    </tr>\n",
       "  </thead>\n",
       "  <tbody>\n",
       "    <tr>\n",
       "      <th>0</th>\n",
       "      <td>MR.M.13C-Ami.D1.R2_Frac11</td>\n",
       "      <td>17840</td>\n",
       "    </tr>\n",
       "    <tr>\n",
       "      <th>1</th>\n",
       "      <td>MR.F.12C-Con.D1.R1_Frac16</td>\n",
       "      <td>17600</td>\n",
       "    </tr>\n",
       "    <tr>\n",
       "      <th>2</th>\n",
       "      <td>MR.M.13C-Ami.D3.R1_Frac27</td>\n",
       "      <td>14660</td>\n",
       "    </tr>\n",
       "    <tr>\n",
       "      <th>3</th>\n",
       "      <td>MR.A.13C-Pal.D14.R2_Frac10</td>\n",
       "      <td>13471</td>\n",
       "    </tr>\n",
       "    <tr>\n",
       "      <th>4</th>\n",
       "      <td>MR.F.12C-Con.D1.R1_Frac21</td>\n",
       "      <td>12979</td>\n",
       "    </tr>\n",
       "    <tr>\n",
       "      <th>5</th>\n",
       "      <td>MR.A.13C-Cel.D6.R1_Frac15</td>\n",
       "      <td>24999</td>\n",
       "    </tr>\n",
       "    <tr>\n",
       "      <th>6</th>\n",
       "      <td>MR.A.13C-Xyl.D1.R2_Frac5</td>\n",
       "      <td>9453</td>\n",
       "    </tr>\n",
       "    <tr>\n",
       "      <th>7</th>\n",
       "      <td>MR.A.13C-Pal.D14.R2_Frac16</td>\n",
       "      <td>5243</td>\n",
       "    </tr>\n",
       "    <tr>\n",
       "      <th>8</th>\n",
       "      <td>MR.A.13C-Xyl.D1.R2_Frac22</td>\n",
       "      <td>6025</td>\n",
       "    </tr>\n",
       "    <tr>\n",
       "      <th>9</th>\n",
       "      <td>MR.A.13C-Cel.D6.R1_Frac5</td>\n",
       "      <td>31465</td>\n",
       "    </tr>\n",
       "    <tr>\n",
       "      <th>10</th>\n",
       "      <td>MR.A.13C-Ami.D1.R1_Frac10</td>\n",
       "      <td>25929</td>\n",
       "    </tr>\n",
       "    <tr>\n",
       "      <th>11</th>\n",
       "      <td>MR.A.13C-Ami.D1.R1_Frac8</td>\n",
       "      <td>24879</td>\n",
       "    </tr>\n",
       "    <tr>\n",
       "      <th>12</th>\n",
       "      <td>MR.M.13C-Ami.D3.R1_Frac17</td>\n",
       "      <td>23133</td>\n",
       "    </tr>\n",
       "    <tr>\n",
       "      <th>13</th>\n",
       "      <td>MR.M.13C-Ami.D3.R1_Frac14</td>\n",
       "      <td>9317</td>\n",
       "    </tr>\n",
       "    <tr>\n",
       "      <th>14</th>\n",
       "      <td>MR.M.13C-Ami.D1.R2_Frac17</td>\n",
       "      <td>13447</td>\n",
       "    </tr>\n",
       "    <tr>\n",
       "      <th>15</th>\n",
       "      <td>MR.M.13C-Ami.D3.R1_Frac16</td>\n",
       "      <td>15916</td>\n",
       "    </tr>\n",
       "    <tr>\n",
       "      <th>16</th>\n",
       "      <td>MR.A.12C-Con.D6.R2_Frac16</td>\n",
       "      <td>35785</td>\n",
       "    </tr>\n",
       "    <tr>\n",
       "      <th>17</th>\n",
       "      <td>MR.A.13C-Ami.D1.R1_Frac14</td>\n",
       "      <td>51016</td>\n",
       "    </tr>\n",
       "    <tr>\n",
       "      <th>18</th>\n",
       "      <td>MR.A.13C-Xyl.D1.R2_Frac26</td>\n",
       "      <td>9798</td>\n",
       "    </tr>\n",
       "    <tr>\n",
       "      <th>19</th>\n",
       "      <td>MR.A.12C-Con.D6.R2_Frac10</td>\n",
       "      <td>35119</td>\n",
       "    </tr>\n",
       "    <tr>\n",
       "      <th>20</th>\n",
       "      <td>MR.M.13C-Ami.D1.R2_Frac25</td>\n",
       "      <td>14376</td>\n",
       "    </tr>\n",
       "    <tr>\n",
       "      <th>21</th>\n",
       "      <td>MR.A.13C-Pal.D14.R2_Frac21</td>\n",
       "      <td>6473</td>\n",
       "    </tr>\n",
       "    <tr>\n",
       "      <th>22</th>\n",
       "      <td>MR.F.12C-Con.D1.R1_Frac11</td>\n",
       "      <td>11637</td>\n",
       "    </tr>\n",
       "    <tr>\n",
       "      <th>23</th>\n",
       "      <td>MR.A.12C-Con.D6.R2_Frac12</td>\n",
       "      <td>42168</td>\n",
       "    </tr>\n",
       "    <tr>\n",
       "      <th>24</th>\n",
       "      <td>MR.A.13C-Cel.D6.R1_Frac6</td>\n",
       "      <td>18913</td>\n",
       "    </tr>\n",
       "    <tr>\n",
       "      <th>25</th>\n",
       "      <td>MR.M.13C-Ami.D1.R2_Frac4</td>\n",
       "      <td>10792</td>\n",
       "    </tr>\n",
       "    <tr>\n",
       "      <th>26</th>\n",
       "      <td>MR.F.12C-Con.D1.R1_Frac13</td>\n",
       "      <td>8444</td>\n",
       "    </tr>\n",
       "    <tr>\n",
       "      <th>27</th>\n",
       "      <td>MR.A.13C-Cel.D6.R1_Frac24</td>\n",
       "      <td>10337</td>\n",
       "    </tr>\n",
       "    <tr>\n",
       "      <th>28</th>\n",
       "      <td>MR.A.13C-Pal.D14.R2_Frac12</td>\n",
       "      <td>6742</td>\n",
       "    </tr>\n",
       "    <tr>\n",
       "      <th>29</th>\n",
       "      <td>MR.M.13C-Ami.D1.R2_Frac6</td>\n",
       "      <td>17499</td>\n",
       "    </tr>\n",
       "    <tr>\n",
       "      <th>...</th>\n",
       "      <td>...</td>\n",
       "      <td>...</td>\n",
       "    </tr>\n",
       "    <tr>\n",
       "      <th>162</th>\n",
       "      <td>MR.M.13C-Ami.D3.R1_Frac18</td>\n",
       "      <td>15813</td>\n",
       "    </tr>\n",
       "    <tr>\n",
       "      <th>163</th>\n",
       "      <td>MR.M.13C-Ami.D1.R2_Frac22</td>\n",
       "      <td>11933</td>\n",
       "    </tr>\n",
       "    <tr>\n",
       "      <th>164</th>\n",
       "      <td>MR.A.12C-Con.D6.R2_NC</td>\n",
       "      <td>1540</td>\n",
       "    </tr>\n",
       "    <tr>\n",
       "      <th>165</th>\n",
       "      <td>MR.M.13C-Ami.D3.R1_Frac23</td>\n",
       "      <td>14569</td>\n",
       "    </tr>\n",
       "    <tr>\n",
       "      <th>166</th>\n",
       "      <td>MR.M.13C-Ami.D3.R1_Frac21</td>\n",
       "      <td>13391</td>\n",
       "    </tr>\n",
       "    <tr>\n",
       "      <th>167</th>\n",
       "      <td>MR.M.13C-Ami.D1.R2_Frac21</td>\n",
       "      <td>8481</td>\n",
       "    </tr>\n",
       "    <tr>\n",
       "      <th>168</th>\n",
       "      <td>MR.A.13C-Ami.D1.R1_Frac18</td>\n",
       "      <td>16807</td>\n",
       "    </tr>\n",
       "    <tr>\n",
       "      <th>169</th>\n",
       "      <td>MR.F.12C-Con.D1.R1_Frac18</td>\n",
       "      <td>7274</td>\n",
       "    </tr>\n",
       "    <tr>\n",
       "      <th>170</th>\n",
       "      <td>MR.F.12C-Con.D1.R1_Frac12</td>\n",
       "      <td>9585</td>\n",
       "    </tr>\n",
       "    <tr>\n",
       "      <th>171</th>\n",
       "      <td>MR.F.12C-Con.D1.R1_Frac4</td>\n",
       "      <td>8347</td>\n",
       "    </tr>\n",
       "    <tr>\n",
       "      <th>172</th>\n",
       "      <td>MR.M.13C-Ami.D1.R2_Frac27</td>\n",
       "      <td>14351</td>\n",
       "    </tr>\n",
       "    <tr>\n",
       "      <th>173</th>\n",
       "      <td>MR.M.13C-Ami.D3.R1_Frac9</td>\n",
       "      <td>13441</td>\n",
       "    </tr>\n",
       "    <tr>\n",
       "      <th>174</th>\n",
       "      <td>MR.M.13C-Ami.D1.R2_Frac18</td>\n",
       "      <td>8669</td>\n",
       "    </tr>\n",
       "    <tr>\n",
       "      <th>175</th>\n",
       "      <td>MR.M.13C-Ami.D3.R1_Frac19</td>\n",
       "      <td>26376</td>\n",
       "    </tr>\n",
       "    <tr>\n",
       "      <th>176</th>\n",
       "      <td>MR.M.13C-Ami.D1.R2_Frac23</td>\n",
       "      <td>10794</td>\n",
       "    </tr>\n",
       "    <tr>\n",
       "      <th>177</th>\n",
       "      <td>MR.M.13C-Ami.D1.R2_Frac16</td>\n",
       "      <td>6758</td>\n",
       "    </tr>\n",
       "    <tr>\n",
       "      <th>178</th>\n",
       "      <td>MR.F.12C-Con.D1.R1_Frac8</td>\n",
       "      <td>14622</td>\n",
       "    </tr>\n",
       "    <tr>\n",
       "      <th>179</th>\n",
       "      <td>MR.M.13C-Ami.D1.R2_Frac24</td>\n",
       "      <td>10381</td>\n",
       "    </tr>\n",
       "    <tr>\n",
       "      <th>180</th>\n",
       "      <td>MR.M.13C-Ami.D3.R1_Frac22</td>\n",
       "      <td>6117</td>\n",
       "    </tr>\n",
       "    <tr>\n",
       "      <th>181</th>\n",
       "      <td>MR.F.12C-Con.D1.R1_Frac7</td>\n",
       "      <td>10327</td>\n",
       "    </tr>\n",
       "    <tr>\n",
       "      <th>182</th>\n",
       "      <td>MR.M.13C-Ami.D1.R2_Frac20</td>\n",
       "      <td>7762</td>\n",
       "    </tr>\n",
       "    <tr>\n",
       "      <th>183</th>\n",
       "      <td>MR.M.13C-Ami.D3.R1_MC</td>\n",
       "      <td>6830</td>\n",
       "    </tr>\n",
       "    <tr>\n",
       "      <th>184</th>\n",
       "      <td>MR.F.12C-Con.D1.R1_Frac22</td>\n",
       "      <td>9990</td>\n",
       "    </tr>\n",
       "    <tr>\n",
       "      <th>185</th>\n",
       "      <td>MR.F.12C-Con.D1.R1_Frac28</td>\n",
       "      <td>8327</td>\n",
       "    </tr>\n",
       "    <tr>\n",
       "      <th>186</th>\n",
       "      <td>MR.F.12C-Con.D1.R1_Frac26</td>\n",
       "      <td>5908</td>\n",
       "    </tr>\n",
       "    <tr>\n",
       "      <th>187</th>\n",
       "      <td>MR.F.12C-Con.D1.R1_Frac10</td>\n",
       "      <td>5723</td>\n",
       "    </tr>\n",
       "    <tr>\n",
       "      <th>188</th>\n",
       "      <td>MR.A.13C-Cel.D6.R1_NC</td>\n",
       "      <td>1666</td>\n",
       "    </tr>\n",
       "    <tr>\n",
       "      <th>189</th>\n",
       "      <td>MR.A.13C-Pal.D14.R2_NC</td>\n",
       "      <td>379</td>\n",
       "    </tr>\n",
       "    <tr>\n",
       "      <th>190</th>\n",
       "      <td>MR.F.12C-Con.D1.R1_NC</td>\n",
       "      <td>443</td>\n",
       "    </tr>\n",
       "    <tr>\n",
       "      <th>191</th>\n",
       "      <td>MR.M.13C-Ami.D1.R2_NC</td>\n",
       "      <td>952</td>\n",
       "    </tr>\n",
       "  </tbody>\n",
       "</table>\n",
       "<p>192 rows × 2 columns</p>\n",
       "</div>"
      ],
      "text/plain": [
       "                         Sample  seq_count\n",
       "0     MR.M.13C-Ami.D1.R2_Frac11      17840\n",
       "1     MR.F.12C-Con.D1.R1_Frac16      17600\n",
       "2     MR.M.13C-Ami.D3.R1_Frac27      14660\n",
       "3    MR.A.13C-Pal.D14.R2_Frac10      13471\n",
       "4     MR.F.12C-Con.D1.R1_Frac21      12979\n",
       "5     MR.A.13C-Cel.D6.R1_Frac15      24999\n",
       "6      MR.A.13C-Xyl.D1.R2_Frac5       9453\n",
       "7    MR.A.13C-Pal.D14.R2_Frac16       5243\n",
       "8     MR.A.13C-Xyl.D1.R2_Frac22       6025\n",
       "9      MR.A.13C-Cel.D6.R1_Frac5      31465\n",
       "10    MR.A.13C-Ami.D1.R1_Frac10      25929\n",
       "11     MR.A.13C-Ami.D1.R1_Frac8      24879\n",
       "12    MR.M.13C-Ami.D3.R1_Frac17      23133\n",
       "13    MR.M.13C-Ami.D3.R1_Frac14       9317\n",
       "14    MR.M.13C-Ami.D1.R2_Frac17      13447\n",
       "15    MR.M.13C-Ami.D3.R1_Frac16      15916\n",
       "16    MR.A.12C-Con.D6.R2_Frac16      35785\n",
       "17    MR.A.13C-Ami.D1.R1_Frac14      51016\n",
       "18    MR.A.13C-Xyl.D1.R2_Frac26       9798\n",
       "19    MR.A.12C-Con.D6.R2_Frac10      35119\n",
       "20    MR.M.13C-Ami.D1.R2_Frac25      14376\n",
       "21   MR.A.13C-Pal.D14.R2_Frac21       6473\n",
       "22    MR.F.12C-Con.D1.R1_Frac11      11637\n",
       "23    MR.A.12C-Con.D6.R2_Frac12      42168\n",
       "24     MR.A.13C-Cel.D6.R1_Frac6      18913\n",
       "25     MR.M.13C-Ami.D1.R2_Frac4      10792\n",
       "26    MR.F.12C-Con.D1.R1_Frac13       8444\n",
       "27    MR.A.13C-Cel.D6.R1_Frac24      10337\n",
       "28   MR.A.13C-Pal.D14.R2_Frac12       6742\n",
       "29     MR.M.13C-Ami.D1.R2_Frac6      17499\n",
       "..                          ...        ...\n",
       "162   MR.M.13C-Ami.D3.R1_Frac18      15813\n",
       "163   MR.M.13C-Ami.D1.R2_Frac22      11933\n",
       "164       MR.A.12C-Con.D6.R2_NC       1540\n",
       "165   MR.M.13C-Ami.D3.R1_Frac23      14569\n",
       "166   MR.M.13C-Ami.D3.R1_Frac21      13391\n",
       "167   MR.M.13C-Ami.D1.R2_Frac21       8481\n",
       "168   MR.A.13C-Ami.D1.R1_Frac18      16807\n",
       "169   MR.F.12C-Con.D1.R1_Frac18       7274\n",
       "170   MR.F.12C-Con.D1.R1_Frac12       9585\n",
       "171    MR.F.12C-Con.D1.R1_Frac4       8347\n",
       "172   MR.M.13C-Ami.D1.R2_Frac27      14351\n",
       "173    MR.M.13C-Ami.D3.R1_Frac9      13441\n",
       "174   MR.M.13C-Ami.D1.R2_Frac18       8669\n",
       "175   MR.M.13C-Ami.D3.R1_Frac19      26376\n",
       "176   MR.M.13C-Ami.D1.R2_Frac23      10794\n",
       "177   MR.M.13C-Ami.D1.R2_Frac16       6758\n",
       "178    MR.F.12C-Con.D1.R1_Frac8      14622\n",
       "179   MR.M.13C-Ami.D1.R2_Frac24      10381\n",
       "180   MR.M.13C-Ami.D3.R1_Frac22       6117\n",
       "181    MR.F.12C-Con.D1.R1_Frac7      10327\n",
       "182   MR.M.13C-Ami.D1.R2_Frac20       7762\n",
       "183       MR.M.13C-Ami.D3.R1_MC       6830\n",
       "184   MR.F.12C-Con.D1.R1_Frac22       9990\n",
       "185   MR.F.12C-Con.D1.R1_Frac28       8327\n",
       "186   MR.F.12C-Con.D1.R1_Frac26       5908\n",
       "187   MR.F.12C-Con.D1.R1_Frac10       5723\n",
       "188       MR.A.13C-Cel.D6.R1_NC       1666\n",
       "189      MR.A.13C-Pal.D14.R2_NC        379\n",
       "190       MR.F.12C-Con.D1.R1_NC        443\n",
       "191       MR.M.13C-Ami.D1.R2_NC        952\n",
       "\n",
       "[192 rows x 2 columns]"
      ]
     },
     "execution_count": 33,
     "metadata": {},
     "output_type": "execute_result"
    }
   ],
   "source": [
    "# converting to dataframe\n",
    "df_seq_cnt = pd.DataFrame.from_dict(samp_count, orient='index')\n",
    "df_seq_cnt.index.name = 'Sample'\n",
    "df_seq_cnt.reset_index(inplace=True)\n",
    "df_seq_cnt.columns = ['Sample', 'seq_count']\n",
    "df_seq_cnt"
   ]
  },
  {
   "cell_type": "code",
   "execution_count": 34,
   "metadata": {
    "collapsed": false
   },
   "outputs": [
    {
     "data": {
      "image/png": "[encoded data removed]"
     },
     "metadata": {},
     "output_type": "display_data"
    }
   ],
   "source": [
    "%%R -i df_seq_cnt -w 800 -h 350\n",
    "# plotting all\n",
    "\n",
    "df_seq_cnt$seq_count = as.numeric(df_seq_cnt$seq_count)\n",
    "\n",
    "\n",
    "df_seq_cnt = df_seq_cnt %>% \n",
    "    #mutate(H2O = grepl('_F0$', Sample)) %>%\n",
    "    mutate(rank = min_rank(seq_count)) %>%\n",
    "    arrange(desc(rank))\n",
    "\n",
    "df_seq_cnt$Sample = factor(df_seq_cnt$Sample, levels=df_seq_cnt$Sample)\n",
    "\n",
    "ggplot(df_seq_cnt, aes(Sample, seq_count)) +\n",
    "    geom_bar(stat='identity') +\n",
    "    theme_bw() +\n",
    "    theme(\n",
    "        text = element_text(size=16),\n",
    "        axis.text.x = element_text(angle=45, hjust=1)\n",
    "    )"
   ]
  },
  {
   "cell_type": "code",
   "execution_count": 36,
   "metadata": {
    "collapsed": false
   },
   "outputs": [
    {
     "data": {
      "text/plain": [
       "                        Sample seq_count rank\n",
       "181  MR.A.13C-Xyl.D1.R2_Frac25      4875   12\n",
       "182 MR.A.13C-Pal.D14.R2_Frac22      4768   11\n",
       "183 MR.A.13C-Pal.D14.R2_Frac14      4227   10\n",
       "184  MR.A.13C-Xyl.D1.R2_Frac17      3393    9\n",
       "185  MR.A.13C-Xyl.D1.R2_Frac15      3329    8\n",
       "186      MR.A.13C-Cel.D6.R1_NC      1666    7\n",
       "187      MR.A.12C-Con.D6.R2_NC      1540    6\n",
       "188      MR.M.13C-Ami.D1.R2_NC       952    5\n",
       "189      MR.A.13C-Xyl.D1.R2_NC       501    4\n",
       "190      MR.M.13C-Ami.D3.R1_NC       457    3\n",
       "191      MR.F.12C-Con.D1.R1_NC       443    2\n",
       "192     MR.A.13C-Pal.D14.R2_NC       379    1\n"
      ]
     },
     "metadata": {},
     "output_type": "display_data"
    }
   ],
   "source": [
    "%%R\n",
    "df_seq_cnt[df_seq_cnt$seq_count < 5000,]"
   ]
  },
  {
   "cell_type": "code",
   "execution_count": null,
   "metadata": {
    "collapsed": true
   },
   "outputs": [],
   "source": []
  },
  {
   "cell_type": "code",
   "execution_count": null,
   "metadata": {
    "collapsed": true
   },
   "outputs": [],
   "source": []
  }
 ],
 "metadata": {
  "anaconda-cloud": {},
  "hide_input": true,
  "kernelspec": {
   "display_name": "Python 3",
   "language": "python",
   "name": "python3"
  },
  "language_info": {
   "codemirror_mode": {
    "name": "ipython",
    "version": 3
   },
   "file_extension": ".py",
   "mimetype": "text/x-python",
   "name": "python",
   "nbconvert_exporter": "python",
   "pygments_lexer": "ipython3",
   "version": "3.6.4"
  },
  "notify_time": "5"
 },
 "nbformat": 4,
 "nbformat_minor": 1
}
