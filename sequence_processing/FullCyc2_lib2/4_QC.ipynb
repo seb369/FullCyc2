{
 "cells": [
  {
   "cell_type": "markdown",
   "metadata": {},
   "source": [
    "# Description\n",
    "\n",
    "* Quality control on MiSeq run data\n",
    "  * post-merging\n",
    "  * post-demultiplexing"
   ]
  },
  {
   "cell_type": "markdown",
   "metadata": {},
   "source": [
    "# Setting variables"
   ]
  },
  {
   "cell_type": "code",
   "execution_count": 1,
   "metadata": {
    "collapsed": true
   },
   "outputs": [],
   "source": [
    "import os\n",
    "\n",
    "baseDir = '/home/seq_data/fullCyc2/amplicon/515F-806R/final_dataset/library_QC/fullCyc2_lib2'\n",
    "workDir = os.path.join(baseDir, 'QC')\n",
    "seqFile = os.path.join(baseDir, 'pear_merged-fullCyc2_lib2.assembled.dmult.fastq')\n",
    "\n",
    "# number of processors\n",
    "nprocs = 10\n",
    "\n",
    "# max expected error\n",
    "maxee = 1"
   ]
  },
  {
   "cell_type": "markdown",
   "metadata": {},
   "source": [
    "# Init"
   ]
  },
  {
   "cell_type": "code",
   "execution_count": 2,
   "metadata": {
    "collapsed": true
   },
   "outputs": [],
   "source": [
    "import re\n",
    "import pandas as pd"
   ]
  },
  {
   "cell_type": "code",
   "execution_count": 3,
   "metadata": {
    "collapsed": false
   },
   "outputs": [],
   "source": [
    "%load_ext rpy2.ipython\n",
    "#%load_ext pushnote"
   ]
  },
  {
   "cell_type": "code",
   "execution_count": 4,
   "metadata": {
    "collapsed": false
   },
   "outputs": [
    {
     "name": "stderr",
     "output_type": "stream",
     "text": [
      "/home/sam/anaconda3/lib/python3.6/site-packages/rpy2/rinterface/__init__.py:145: RRuntimeWarning: \n",
      "Attaching package: ‘dplyr’\n",
      "\n",
      "\n",
      "  warnings.warn(x, RRuntimeWarning)\n",
      "/home/sam/anaconda3/lib/python3.6/site-packages/rpy2/rinterface/__init__.py:145: RRuntimeWarning: The following objects are masked from ‘package:stats’:\n",
      "\n",
      "    filter, lag\n",
      "\n",
      "\n",
      "  warnings.warn(x, RRuntimeWarning)\n",
      "/home/sam/anaconda3/lib/python3.6/site-packages/rpy2/rinterface/__init__.py:145: RRuntimeWarning: The following objects are masked from ‘package:base’:\n",
      "\n",
      "    intersect, setdiff, setequal, union\n",
      "\n",
      "\n",
      "  warnings.warn(x, RRuntimeWarning)\n",
      "/home/sam/anaconda3/lib/python3.6/site-packages/rpy2/rinterface/__init__.py:145: RRuntimeWarning: \n",
      "Attaching package: ‘gridExtra’\n",
      "\n",
      "\n",
      "  warnings.warn(x, RRuntimeWarning)\n",
      "/home/sam/anaconda3/lib/python3.6/site-packages/rpy2/rinterface/__init__.py:145: RRuntimeWarning: The following object is masked from ‘package:dplyr’:\n",
      "\n",
      "    combine\n",
      "\n",
      "\n",
      "  warnings.warn(x, RRuntimeWarning)\n"
     ]
    }
   ],
   "source": [
    "%%R\n",
    "library(ggplot2)\n",
    "library(dplyr)\n",
    "library(tidyr)\n",
    "library(gridExtra)"
   ]
  },
  {
   "cell_type": "code",
   "execution_count": 5,
   "metadata": {
    "collapsed": false
   },
   "outputs": [
    {
     "name": "stdout",
     "output_type": "stream",
     "text": [
      "/home/seq_data/fullCyc2/amplicon/515F-806R/final_dataset/library_QC/fullCyc2_lib2/QC\n"
     ]
    }
   ],
   "source": [
    "if not os.path.isdir(workDir):\n",
    "    os.makedirs(workDir)\n",
    "%cd $workDir"
   ]
  },
  {
   "cell_type": "code",
   "execution_count": 6,
   "metadata": {
    "collapsed": false
   },
   "outputs": [
    {
     "name": "stdout",
     "output_type": "stream",
     "text": [
      "File exists: /home/seq_data/fullCyc2/amplicon/515F-806R/final_dataset/library_QC/fullCyc2_lib2/pear_merged-fullCyc2_lib2.assembled.dmult.fastq\n"
     ]
    }
   ],
   "source": [
    "# symlinking demult seq file into CQ\n",
    "tmp = os.path.join(baseDir, seqFile)\n",
    "if not os.path.isfile(seqFile):\n",
    "    tmp2 = os.path.split(tmp)[1]\n",
    "    os.symlink(tmp, tmp2)\n",
    "else:\n",
    "    print ('File exists: {}'.format(os.path.join(workDir, seqFile)))"
   ]
  },
  {
   "cell_type": "markdown",
   "metadata": {},
   "source": [
    "# Merged read quality filtering"
   ]
  },
  {
   "cell_type": "markdown",
   "metadata": {},
   "source": [
    "## Discard sequences that exceed max expected error theshold"
   ]
  },
  {
   "cell_type": "code",
   "execution_count": 7,
   "metadata": {
    "collapsed": false
   },
   "outputs": [
    {
     "data": {
      "text/plain": [
       "'pear_merged-fullCyc2_lib2.assembled.dmult_maxee1.fasta'"
      ]
     },
     "execution_count": 7,
     "metadata": {},
     "output_type": "execute_result"
    }
   ],
   "source": [
    "qcFile = os.path.split(seqFile)[1]\n",
    "qcFile = os.path.splitext(qcFile)[0] + '_maxee{}.fasta'.format(maxee)\n",
    "qcFile"
   ]
  },
  {
   "cell_type": "code",
   "execution_count": 8,
   "metadata": {
    "collapsed": true
   },
   "outputs": [],
   "source": [
    "%%bash -s \"$seqFile\" \"$nprocs\" \"$maxee\" \"$qcFile\"\n",
    "\n",
    "mkdir /home/sam/tmp/tmpdir1\n",
    "trap \"rm -r /home/sam/tmp/tmpdir1\" 1 2 3 15\n",
    "split -d -l 2000000 $1 /home/sam/tmp/tmpdir1/Block\n",
    "\n",
    "mkdir /home/sam/tmp/tmpdir2\n",
    "trap \"rm -r /home/sam/tmp/tmpdir2\" 1 2 3 15\n",
    "ls /home/sam/tmp/tmpdir1/Block?? | parallel --gnu -j $2 -k \"usearch -fastq_filter {} -fastq_maxee $3 \\\n",
    "-fastaout /home/sam/tmp/tmpdir2/{#}.fasta >/dev/null 2>&1 && cat /home/sam/tmp/tmpdir2/{#}.fasta\" > $4\n",
    "rm -r /home/sam/tmp/tmpdir2 /home/sam/tmp/tmpdir1"
   ]
  },
  {
   "cell_type": "code",
   "execution_count": 9,
   "metadata": {
    "collapsed": false
   },
   "outputs": [
    {
     "name": "stdout",
     "output_type": "stream",
     "text": [
      "Max expected error cutoff: 1\n",
      "Number of sequence pre-filter: 4371176\n",
      "Number of sequences post-filter: 4346981\n",
      "\n",
      ">MR.M.13C-Ami.D14.R1_Frac10_bad_0 orig_name=M01032:439:000000000-ATCLE:1:1101:15859:1832\n",
      "TCCGTAGGGTGCGAGCGTTATTCGGAATTACTGGGCGTAAAGCGTGCGCAGGCGGTTTTGTAAGCCGGATGTGAAATCCC\n",
      "CGGGCTTAACCTGGGAATGGCATTCGGGACTGCAAGGCTGGAGTGCGGCAGAGGAGACTGGAATTCCTGGTGTAGCAGTG\n",
      "AAATGCGTAGATATCAGGAGGAACACCGATGGCGAAGGCAGGTCTCTGGGCTGACACTGACGCTTATGCACGAAAGCGTG\n",
      "GGGAGCAAACAGG\n",
      ">MR.M.13C-Van.D14.R1_Frac5_1 orig_name=M01032:439:000000000-ATCLE:1:1101:17364:1908\n",
      "TACGGAGGGTGCAAGCGTTATTCGGAATTACTGGGCGTAAAGCGTGCGCAGGCGGCGTTGTAAGACTGTCGTGAAATCCC\n",
      "CGGGCTTAACCTGGGAATGGCGATGGTGACTGCAAGGCTAGAGTATGGCAGAGGGGGGTAGAATTCCACGTGTAGCGGTG\n"
     ]
    }
   ],
   "source": [
    "%%bash -s \"$seqFile\" \"$nprocs\" \"$maxee\" \"$qcFile\"\n",
    "\n",
    "printf \"Max expected error cutoff: \"\n",
    "echo $3\n",
    "\n",
    "printf \"Number of sequence pre-filter: \"\n",
    "grep -c \"orig_name=\" $1\n",
    "\n",
    "printf \"Number of sequences post-filter: \"\n",
    "grep -c \">\" $4\n",
    "\n",
    "echo '' \n",
    "head -n 8 $4"
   ]
  },
  {
   "cell_type": "markdown",
   "metadata": {},
   "source": [
    "## Remove seqs with 'N' characters"
   ]
  },
  {
   "cell_type": "code",
   "execution_count": 10,
   "metadata": {
    "collapsed": false
   },
   "outputs": [
    {
     "data": {
      "text/plain": [
       "'pear_merged-fullCyc2_lib2.assembled.dmult_maxee1_noN.fasta'"
      ]
     },
     "execution_count": 10,
     "metadata": {},
     "output_type": "execute_result"
    }
   ],
   "source": [
    "qcFile2 = os.path.splitext(qcFile)[0] + '_noN.fasta'\n",
    "qcFile2"
   ]
  },
  {
   "cell_type": "code",
   "execution_count": 11,
   "metadata": {
    "collapsed": false
   },
   "outputs": [
    {
     "name": "stdout",
     "output_type": "stream",
     "text": [
      "Number of sequence pre-filter: 4346981\n",
      "Number of sequences post-filter: 4346981\n"
     ]
    }
   ],
   "source": [
    "%%bash -s \"$qcFile\" \"$qcFile2\"\n",
    "\n",
    "bioawk -c fastx '{if ($seq !~ /N/){print \">\" $name \" \" $4 \"\\n\" $seq}}' $1 > $2\n",
    "\n",
    "printf \"Number of sequence pre-filter: \"\n",
    "grep -c \">\" $1\n",
    "\n",
    "printf \"Number of sequences post-filter: \"\n",
    "grep -c \">\" $2"
   ]
  },
  {
   "cell_type": "markdown",
   "metadata": {},
   "source": [
    "## Alignment-based QC with Mothur"
   ]
  },
  {
   "cell_type": "code",
   "execution_count": 12,
   "metadata": {
    "collapsed": false
   },
   "outputs": [
    {
     "name": "stdout",
     "output_type": "stream",
     "text": [
      "MR.M.13C-Ami.D14.R1_Frac10_bad_0\tMR.M.13C-Ami.D14.R1_Frac10_bad\n",
      "MR.M.13C-Van.D14.R1_Frac5_1\tMR.M.13C-Van.D14.R1_Frac5\n",
      "MR.M.13C-Ami.D14.R1_Frac26_bad_2\tMR.M.13C-Ami.D14.R1_Frac26_bad\n",
      "MR.M.12C-Con.D1.R1_Frac8_4\tMR.M.12C-Con.D1.R1_Frac8\n",
      "MR.M.13C-Ami.D14.R1_Frac5_bad_3\tMR.M.13C-Ami.D14.R1_Frac5_bad\n",
      "MR.M.13C-Ami.D14.R1_Frac23_bad_6\tMR.M.13C-Ami.D14.R1_Frac23_bad\n",
      "MR.F.13C-Cel.D30.R3_Frac16_7\tMR.F.13C-Cel.D30.R3_Frac16\n",
      "MR.F.13C-Pal.D6.R1_Frac16_8\tMR.F.13C-Pal.D6.R1_Frac16\n",
      "MR.M.13C-Van.D14.R1_Frac20_5\tMR.M.13C-Van.D14.R1_Frac20\n",
      "MR.M.13C-Ami.D14.R1_Frac19_bad_12\tMR.M.13C-Ami.D14.R1_Frac19_bad\n"
     ]
    }
   ],
   "source": [
    "%%bash -s \"$qcFile2\"\n",
    "# making mothur group file\n",
    "\n",
    "perl -ne 'if(/^>/){ s/>(.+)(_\\d+) .+/$1$2\\t$1/; print;}' $1 > group_file.txt\n",
    "head group_file.txt"
   ]
  },
  {
   "cell_type": "code",
   "execution_count": 13,
   "metadata": {
    "collapsed": false
   },
   "outputs": [
    {
     "name": "stdout",
     "output_type": "stream",
     "text": [
      "MR.M.13C-Ami.D14.R1_Frac10_bad_0\tMR.M.13C-Ami.D14.R1_Frac10_bad\r\n",
      "MR.M.13C-Van.D14.R1_Frac5_1\tMR.M.13C-Van.D14.R1_Frac5\r\n",
      "MR.M.13C-Ami.D14.R1_Frac26_bad_2\tMR.M.13C-Ami.D14.R1_Frac26_bad\r\n",
      "MR.M.12C-Con.D1.R1_Frac8_4\tMR.M.12C-Con.D1.R1_Frac8\r\n",
      "MR.M.13C-Ami.D14.R1_Frac5_bad_3\tMR.M.13C-Ami.D14.R1_Frac5_bad\r\n",
      "MR.M.13C-Ami.D14.R1_Frac23_bad_6\tMR.M.13C-Ami.D14.R1_Frac23_bad\r\n",
      "MR.F.13C-Cel.D30.R3_Frac16_7\tMR.F.13C-Cel.D30.R3_Frac16\r\n",
      "MR.F.13C-Pal.D6.R1_Frac16_8\tMR.F.13C-Pal.D6.R1_Frac16\r\n",
      "MR.M.13C-Van.D14.R1_Frac20_5\tMR.M.13C-Van.D14.R1_Frac20\r\n",
      "MR.M.13C-Ami.D14.R1_Frac19_bad_12\tMR.M.13C-Ami.D14.R1_Frac19_bad\r\n",
      "MR.F.13C-Pal.D6.R1_Frac24_11\tMR.F.13C-Pal.D6.R1_Frac24\r\n",
      "MR.M.13C-Van.D14.R1_Frac17_14\tMR.M.13C-Van.D14.R1_Frac17\r\n",
      "MR.F.13C-Cel.D6.R2_Frac12_9\tMR.F.13C-Cel.D6.R2_Frac12\r\n",
      "MR.F.13C-Pal.D6.R1_Frac26_13\tMR.F.13C-Pal.D6.R1_Frac26\r\n",
      "MR.M.13C-Ami.D14.R1_Frac18_bad_16\tMR.M.13C-Ami.D14.R1_Frac18_bad\r\n",
      "MR.F.13C-Pal.D6.R1_Frac8_15\tMR.F.13C-Pal.D6.R1_Frac8\r\n",
      "MR.F.13C-Cel.D6.R2_Frac23_10\tMR.F.13C-Cel.D6.R2_Frac23\r\n",
      "MR.M.13C-Cel.D14.R2_Frac20_19\tMR.M.13C-Cel.D14.R2_Frac20\r\n",
      "MR.M.13C-Van.D14.R1_Frac17_18\tMR.M.13C-Van.D14.R1_Frac17\r\n",
      "MR.M.13C-Van.D14.R1_Frac26_17\tMR.M.13C-Van.D14.R1_Frac26\r\n",
      "MR.F.13C-Cel.D30.R3_Frac17_22\tMR.F.13C-Cel.D30.R3_Frac17\r\n",
      "MR.M.13C-Ami.D14.R1_Frac12_bad_24\tMR.M.13C-Ami.D14.R1_Frac12_bad\r\n",
      "MR.F.13C-Cel.D6.R2_Frac14_23\tMR.F.13C-Cel.D6.R2_Frac14\r\n",
      "MR.M.13C-Ami.D14.R1_Frac15_bad_26\tMR.M.13C-Ami.D14.R1_Frac15_bad\r\n",
      "MR.M.12C-Con.D1.R1_Frac25_25\tMR.M.12C-Con.D1.R1_Frac25\r\n",
      "MR.F.13C-Cel.D30.R3_Frac23_20\tMR.F.13C-Cel.D30.R3_Frac23\r\n",
      "MR.F.13C-Pal.D6.R1_Frac22_28\tMR.F.13C-Pal.D6.R1_Frac22\r\n",
      "MR.M.13C-Van.D14.R1_Frac9_29\tMR.M.13C-Van.D14.R1_Frac9\r\n",
      "MR.M.13C-Cel.D14.R2_Frac27_21\tMR.M.13C-Cel.D14.R2_Frac27\r\n",
      "MR.M.13C-Ami.D14.R1_Frac26_bad_32\tMR.M.13C-Ami.D14.R1_Frac26_bad\r\n",
      "MR.M.12C-Con.D1.R1_Frac25_33\tMR.M.12C-Con.D1.R1_Frac25\r\n",
      "MR.F.13C-Cel.D30.R3_Frac14_30\tMR.F.13C-Cel.D30.R3_Frac14\r\n",
      "MR.F.13C-Cel.D6.R2_Frac15_34\tMR.F.13C-Cel.D6.R2_Frac15\r\n",
      "MR.F.13C-Pal.D6.R1_Frac9_35\tMR.F.13C-Pal.D6.R1_Frac9\r\n",
      "MR.M.12C-Con.D1.R1_Frac20_36\tMR.M.12C-Con.D1.R1_Frac20\r\n",
      "MR.M.13C-Cel.D14.R2_Frac9_37\tMR.M.13C-Cel.D14.R2_Frac9\r\n",
      "MR.M.13C-Van.D14.R1_Frac13_31\tMR.M.13C-Van.D14.R1_Frac13\r\n",
      "MR.F.13C-Pal.D6.R1_Frac7_27\tMR.F.13C-Pal.D6.R1_Frac7\r\n",
      "MR.A.13C-Pal.D30.R3_Frac7_41\tMR.A.13C-Pal.D30.R3_Frac7\r\n",
      "MR.M.13C-Ami.D14.R1_Frac11_bad_42\tMR.M.13C-Ami.D14.R1_Frac11_bad\r\n",
      "MR.F.13C-Pal.D6.R1_Frac9_43\tMR.F.13C-Pal.D6.R1_Frac9\r\n",
      "MR.M.13C-Van.D14.R1_MC_40\tMR.M.13C-Van.D14.R1_MC\r\n",
      "MR.M.12C-Con.D1.R1_Frac8_39\tMR.M.12C-Con.D1.R1_Frac8\r\n",
      "MR.F.13C-Cel.D30.R3_Frac24_45\tMR.F.13C-Cel.D30.R3_Frac24\r\n",
      "MR.F.13C-Cel.D6.R2_Frac15_46\tMR.F.13C-Cel.D6.R2_Frac15\r\n",
      "MR.F.13C-Cel.D6.R2_Frac9_47\tMR.F.13C-Cel.D6.R2_Frac9\r\n",
      "MR.M.13C-Van.D14.R1_Frac13_38\tMR.M.13C-Van.D14.R1_Frac13\r\n",
      "MR.M.12C-Con.D1.R1_Frac18_49\tMR.M.12C-Con.D1.R1_Frac18\r\n",
      "MR.A.13C-Pal.D30.R3_Frac11_44\tMR.A.13C-Pal.D30.R3_Frac11\r\n",
      "MR.M.13C-Cel.D14.R2_Frac20_48\tMR.M.13C-Cel.D14.R2_Frac20\r\n",
      "MR.F.13C-Pal.D6.R1_Frac8_52\tMR.F.13C-Pal.D6.R1_Frac8\r\n",
      "MR.M.13C-Cel.D14.R2_Frac18_51\tMR.M.13C-Cel.D14.R2_Frac18\r\n",
      "MR.F.13C-Cel.D6.R2_Frac27_54\tMR.F.13C-Cel.D6.R2_Frac27\r\n",
      "MR.F.13C-Pal.D6.R1_Frac9_55\tMR.F.13C-Pal.D6.R1_Frac9\r\n",
      "MR.M.12C-Con.D1.R1_Frac13_57\tMR.M.12C-Con.D1.R1_Frac13\r\n",
      "MR.M.13C-Van.D14.R1_Frac9_53\tMR.M.13C-Van.D14.R1_Frac9\r\n",
      "MR.M.13C-Cel.D14.R2_Frac27_58\tMR.M.13C-Cel.D14.R2_Frac27\r\n",
      "MR.F.13C-Cel.D30.R3_Frac7_56\tMR.F.13C-Cel.D30.R3_Frac7\r\n",
      "MR.F.13C-Cel.D6.R2_Frac15_50\tMR.F.13C-Cel.D6.R2_Frac15\r\n",
      "MR.M.13C-Ami.D14.R1_Frac11_bad_59\tMR.M.13C-Ami.D14.R1_Frac11_bad\r\n",
      "MR.M.13C-Van.D14.R1_Frac28_60\tMR.M.13C-Van.D14.R1_Frac28\r\n",
      "MR.M.13C-Ami.D14.R1_Frac22_bad_63\tMR.M.13C-Ami.D14.R1_Frac22_bad\r\n",
      "MR.F.13C-Cel.D30.R3_Frac17_64\tMR.F.13C-Cel.D30.R3_Frac17\r\n",
      "MR.F.13C-Cel.D6.R2_Frac10_67\tMR.F.13C-Cel.D6.R2_Frac10\r\n",
      "MR.A.13C-Pal.D30.R3_Frac13_65\tMR.A.13C-Pal.D30.R3_Frac13\r\n",
      "MR.F.13C-Cel.D30.R3_Frac14_69\tMR.F.13C-Cel.D30.R3_Frac14\r\n",
      "MR.M.13C-Ami.D14.R1_Frac11_bad_66\tMR.M.13C-Ami.D14.R1_Frac11_bad\r\n",
      "MR.M.13C-Van.D14.R1_Frac19_71\tMR.M.13C-Van.D14.R1_Frac19\r\n",
      "MR.A.13C-Pal.D30.R3_Frac6_73\tMR.A.13C-Pal.D30.R3_Frac6\r\n",
      "MR.F.13C-Pal.D6.R1_Frac17_74\tMR.F.13C-Pal.D6.R1_Frac17\r\n",
      "MR.A.13C-Pal.D30.R3_Frac7_72\tMR.A.13C-Pal.D30.R3_Frac7\r\n",
      "MR.F.13C-Cel.D6.R2_Frac9_70\tMR.F.13C-Cel.D6.R2_Frac9\r\n",
      "MR.F.13C-Cel.D6.R2_Frac25_68\tMR.F.13C-Cel.D6.R2_Frac25\r\n",
      "MR.M.13C-Cel.D14.R2_Frac18_77\tMR.M.13C-Cel.D14.R2_Frac18\r\n",
      "MR.F.13C-Cel.D30.R3_Frac16_79\tMR.F.13C-Cel.D30.R3_Frac16\r\n",
      "MR.F.13C-Cel.D6.R2_Frac8_62\tMR.F.13C-Cel.D6.R2_Frac8\r\n",
      "MR.M.12C-Con.D1.R1_Frac13_80\tMR.M.12C-Con.D1.R1_Frac13\r\n",
      "MR.M.13C-Cel.D14.R2_Frac11_81\tMR.M.13C-Cel.D14.R2_Frac11\r\n",
      "MR.M.12C-Con.D1.R1_Frac15_78\tMR.M.12C-Con.D1.R1_Frac15\r\n",
      "MR.M.13C-Ami.D14.R1_Frac11_bad_83\tMR.M.13C-Ami.D14.R1_Frac11_bad\r\n",
      "MR.M.12C-Con.D1.R1_Frac7_76\tMR.M.12C-Con.D1.R1_Frac7\r\n",
      "MR.F.13C-Cel.D30.R3_Frac9_75\tMR.F.13C-Cel.D30.R3_Frac9\r\n",
      "MR.F.13C-Cel.D30.R3_Frac24_87\tMR.F.13C-Cel.D30.R3_Frac24\r\n",
      "MR.M.13C-Cel.D14.R2_Frac11_86\tMR.M.13C-Cel.D14.R2_Frac11\r\n",
      "MR.F.13C-Cel.D30.R3_Frac16_85\tMR.F.13C-Cel.D30.R3_Frac16\r\n",
      "MR.F.13C-Cel.D30.R3_Frac17_90\tMR.F.13C-Cel.D30.R3_Frac17\r\n",
      "MR.F.13C-Pal.D6.R1_Frac23_91\tMR.F.13C-Pal.D6.R1_Frac23\r\n",
      "MR.F.13C-Cel.D6.R2_Frac12_84\tMR.F.13C-Cel.D6.R2_Frac12\r\n",
      "MR.M.13C-Van.D14.R1_Frac12_92\tMR.M.13C-Van.D14.R1_Frac12\r\n",
      "MR.F.13C-Pal.D6.R1_Frac26_94\tMR.F.13C-Pal.D6.R1_Frac26\r\n",
      "MR.M.12C-Con.D1.R1_Frac23_95\tMR.M.12C-Con.D1.R1_Frac23\r\n",
      "MR.M.13C-Van.D14.R1_MC_89\tMR.M.13C-Van.D14.R1_MC\r\n",
      "MR.M.13C-Van.D14.R1_Frac10_88\tMR.M.13C-Van.D14.R1_Frac10\r\n",
      "MR.M.13C-Ami.D14.R1_Frac28_bad_98\tMR.M.13C-Ami.D14.R1_Frac28_bad\r\n",
      "MR.F.13C-Cel.D30.R3_Frac17_96\tMR.F.13C-Cel.D30.R3_Frac17\r\n",
      "MR.M.13C-Cel.D14.R2_Frac20_97\tMR.M.13C-Cel.D14.R2_Frac20\r\n",
      "MR.F.13C-Cel.D6.R2_Frac15_93\tMR.F.13C-Cel.D6.R2_Frac15\r\n",
      "MR.M.12C-Con.D1.R1_Frac14_102\tMR.M.12C-Con.D1.R1_Frac14\r\n",
      "MR.M.12C-Con.D1.R1_Frac27_82\tMR.M.12C-Con.D1.R1_Frac27\r\n",
      "MR.M.13C-Cel.D14.R2_Frac11_101\tMR.M.13C-Cel.D14.R2_Frac11\r\n",
      "MR.A.13C-Pal.D30.R3_Frac16_104\tMR.A.13C-Pal.D30.R3_Frac16\r\n",
      "MR.A.13C-Pal.D30.R3_Frac15_106\tMR.A.13C-Pal.D30.R3_Frac15\r\n",
      "MR.F.13C-Pal.D6.R1_Frac9_107\tMR.F.13C-Pal.D6.R1_Frac9\r\n",
      "MR.M.13C-Ami.D14.R1_Frac20_bad_100\tMR.M.13C-Ami.D14.R1_Frac20_bad\r\n",
      "MR.F.13C-Cel.D30.R3_Frac16_109\tMR.F.13C-Cel.D30.R3_Frac16\r\n",
      "MR.F.13C-Cel.D30.R3_Frac27_105\tMR.F.13C-Cel.D30.R3_Frac27\r\n",
      "MR.F.13C-Cel.D30.R3_Frac22_111\tMR.F.13C-Cel.D30.R3_Frac22\r\n",
      "MR.F.13C-Cel.D30.R3_Frac11_112\tMR.F.13C-Cel.D30.R3_Frac11\r\n",
      "MR.M.13C-Van.D14.R1_Frac13_113\tMR.M.13C-Van.D14.R1_Frac13\r\n",
      "MR.F.13C-Pal.D6.R1_Frac15_103\tMR.F.13C-Pal.D6.R1_Frac15\r\n",
      "MR.F.13C-Cel.D30.R3_Frac12_99\tMR.F.13C-Cel.D30.R3_Frac12\r\n",
      "MR.F.13C-Cel.D30.R3_Frac15_115\tMR.F.13C-Cel.D30.R3_Frac15\r\n",
      "MR.F.13C-Cel.D30.R3_Frac6_114\tMR.F.13C-Cel.D30.R3_Frac6\r\n",
      "MR.M.13C-Ami.D14.R1_Frac28_bad_108\tMR.M.13C-Ami.D14.R1_Frac28_bad\r\n",
      "MR.M.12C-Con.D1.R1_Frac18_118\tMR.M.12C-Con.D1.R1_Frac18\r\n",
      "MR.F.13C-Pal.D6.R1_Frac26_120\tMR.F.13C-Pal.D6.R1_Frac26\r\n",
      "MR.M.13C-Van.D14.R1_Frac17_121\tMR.M.13C-Van.D14.R1_Frac17\r\n",
      "MR.M.12C-Con.D1.R1_Frac13_116\tMR.M.12C-Con.D1.R1_Frac13\r\n",
      "MR.F.13C-Cel.D30.R3_Frac5_123\tMR.F.13C-Cel.D30.R3_Frac5\r\n",
      "MR.M.13C-Van.D14.R1_Frac25_117\tMR.M.13C-Van.D14.R1_Frac25\r\n",
      "MR.F.13C-Pal.D6.R1_Frac20_125\tMR.F.13C-Pal.D6.R1_Frac20\r\n",
      "MR.A.13C-Pal.D30.R3_Frac12_110\tMR.A.13C-Pal.D30.R3_Frac12\r\n",
      "MR.M.12C-Con.D1.R1_Frac28_127\tMR.M.12C-Con.D1.R1_Frac28\r\n",
      "MR.F.13C-Cel.D30.R3_Frac10_119\tMR.F.13C-Cel.D30.R3_Frac10\r\n",
      "MR.M.13C-Ami.D14.R1_Frac5_bad_124\tMR.M.13C-Ami.D14.R1_Frac5_bad\r\n",
      "MR.M.13C-Ami.D14.R1_Frac26_bad_129\tMR.M.13C-Ami.D14.R1_Frac26_bad\r\n",
      "MR.F.13C-Cel.D30.R3_Frac12_131\tMR.F.13C-Cel.D30.R3_Frac12\r\n",
      "MR.M.13C-Ami.D14.R1_Frac27_bad_122\tMR.M.13C-Ami.D14.R1_Frac27_bad\r\n",
      "MR.M.13C-Van.D14.R1_Frac12_132\tMR.M.13C-Van.D14.R1_Frac12\r\n",
      "MR.M.13C-Ami.D14.R1_Frac26_bad_133\tMR.M.13C-Ami.D14.R1_Frac26_bad\r\n",
      "MR.F.13C-Cel.D6.R2_Frac21_135\tMR.F.13C-Cel.D6.R2_Frac21\r\n",
      "MR.F.13C-Cel.D30.R3_Frac6_126\tMR.F.13C-Cel.D30.R3_Frac6\r\n",
      "MR.M.12C-Con.D1.R1_Frac24_128\tMR.M.12C-Con.D1.R1_Frac24\r\n",
      "MR.M.13C-Cel.D14.R2_Frac17_138\tMR.M.13C-Cel.D14.R2_Frac17\r\n",
      "MR.M.13C-Cel.D14.R2_Frac9_139\tMR.M.13C-Cel.D14.R2_Frac9\r\n",
      "MR.M.13C-Ami.D14.R1_Frac19_bad_140\tMR.M.13C-Ami.D14.R1_Frac19_bad\r\n",
      "MR.F.13C-Pal.D6.R1_Frac26_137\tMR.F.13C-Pal.D6.R1_Frac26\r\n",
      "MR.M.13C-Ami.D14.R1_Frac24_bad_136\tMR.M.13C-Ami.D14.R1_Frac24_bad\r\n",
      "MR.M.13C-Cel.D14.R2_Frac26_143\tMR.M.13C-Cel.D14.R2_Frac26\r\n",
      "MR.F.13C-Pal.D6.R1_Frac17_141\tMR.F.13C-Pal.D6.R1_Frac17\r\n",
      "MR.M.13C-Ami.D14.R1_Frac26_bad_142\tMR.M.13C-Ami.D14.R1_Frac26_bad\r\n",
      "MR.M.13C-Van.D14.R1_Frac27_145\tMR.M.13C-Van.D14.R1_Frac27\r\n",
      "MR.M.13C-Cel.D14.R2_Frac9_147\tMR.M.13C-Cel.D14.R2_Frac9\r\n",
      "MR.M.12C-Con.D1.R1_Frac12_146\tMR.M.12C-Con.D1.R1_Frac12\r\n",
      "MR.A.13C-Pal.D30.R3_Frac12_148\tMR.A.13C-Pal.D30.R3_Frac12\r\n",
      "MR.F.13C-Cel.D6.R2_Frac26_144\tMR.F.13C-Cel.D6.R2_Frac26\r\n",
      "MR.M.13C-Ami.D14.R1_Frac10_bad_134\tMR.M.13C-Ami.D14.R1_Frac10_bad\r\n",
      "MR.M.13C-Van.D14.R1_Frac21_152\tMR.M.13C-Van.D14.R1_Frac21\r\n",
      "MR.F.13C-Cel.D30.R3_Frac6_151\tMR.F.13C-Cel.D30.R3_Frac6\r\n",
      "MR.M.13C-Ami.D14.R1_Frac19_bad_153\tMR.M.13C-Ami.D14.R1_Frac19_bad\r\n",
      "MR.M.13C-Cel.D14.R2_Frac28_155\tMR.M.13C-Cel.D14.R2_Frac28\r\n",
      "MR.F.13C-Cel.D6.R2_Frac25_130\tMR.F.13C-Cel.D6.R2_Frac25\r\n",
      "MR.M.12C-Con.D1.R1_Frac8_154\tMR.M.12C-Con.D1.R1_Frac8\r\n",
      "MR.M.13C-Van.D14.R1_Frac25_156\tMR.M.13C-Van.D14.R1_Frac25\r\n",
      "MR.M.13C-Van.D14.R1_Frac25_157\tMR.M.13C-Van.D14.R1_Frac25\r\n",
      "MR.M.12C-Con.D1.R1_Frac6_158\tMR.M.12C-Con.D1.R1_Frac6\r\n",
      "MR.M.12C-Con.D1.R1_Frac27_161\tMR.M.12C-Con.D1.R1_Frac27\r\n",
      "MR.A.13C-Pal.D30.R3_Frac8_149\tMR.A.13C-Pal.D30.R3_Frac8\r\n",
      "MR.M.13C-Van.D14.R1_MC_163\tMR.M.13C-Van.D14.R1_MC\r\n",
      "MR.M.13C-Cel.D14.R2_Frac27_159\tMR.M.13C-Cel.D14.R2_Frac27\r\n",
      "MR.F.13C-Cel.D30.R3_Frac10_162\tMR.F.13C-Cel.D30.R3_Frac10\r\n",
      "MR.M.12C-Con.D1.R1_Frac19_165\tMR.M.12C-Con.D1.R1_Frac19\r\n",
      "MR.F.13C-Cel.D30.R3_Frac9_167\tMR.F.13C-Cel.D30.R3_Frac9\r\n",
      "MR.M.13C-Van.D14.R1_Frac13_168\tMR.M.13C-Van.D14.R1_Frac13\r\n",
      "MR.M.13C-Van.D14.R1_Frac19_166\tMR.M.13C-Van.D14.R1_Frac19\r\n",
      "MR.M.13C-Van.D14.R1_Frac12_170\tMR.M.13C-Van.D14.R1_Frac12\r\n",
      "MR.F.13C-Cel.D30.R3_Frac6_169\tMR.F.13C-Cel.D30.R3_Frac6\r\n",
      "MR.F.13C-Pal.D6.R1_Frac20_171\tMR.F.13C-Pal.D6.R1_Frac20\r\n",
      "MR.M.13C-Cel.D14.R2_Frac21_172\tMR.M.13C-Cel.D14.R2_Frac21\r\n",
      "MR.M.12C-Con.D1.R1_Frac20_174\tMR.M.12C-Con.D1.R1_Frac20\r\n",
      "MR.M.13C-Van.D14.R1_Frac9_150\tMR.M.13C-Van.D14.R1_Frac9\r\n",
      "MR.M.13C-Van.D14.R1_Frac11_175\tMR.M.13C-Van.D14.R1_Frac11\r\n",
      "MR.F.13C-Cel.D6.R2_Frac6_160\tMR.F.13C-Cel.D6.R2_Frac6\r\n",
      "MR.M.13C-Cel.D14.R2_Frac9_178\tMR.M.13C-Cel.D14.R2_Frac9\r\n",
      "MR.F.13C-Pal.D6.R1_Frac18_179\tMR.F.13C-Pal.D6.R1_Frac18\r\n",
      "MR.M.13C-Cel.D14.R2_Frac20_180\tMR.M.13C-Cel.D14.R2_Frac20\r\n",
      "MR.F.13C-Cel.D30.R3_Frac12_173\tMR.F.13C-Cel.D30.R3_Frac12\r\n",
      "MR.F.13C-Cel.D6.R2_Frac9_181\tMR.F.13C-Cel.D6.R2_Frac9\r\n",
      "MR.M.12C-Con.D1.R1_Frac19_182\tMR.M.12C-Con.D1.R1_Frac19\r\n",
      "MR.F.13C-Cel.D6.R2_Frac10_183\tMR.F.13C-Cel.D6.R2_Frac10\r\n",
      "MR.F.13C-Cel.D6.R2_Frac21_185\tMR.F.13C-Cel.D6.R2_Frac21\r\n",
      "MR.M.13C-Van.D14.R1_Frac10_164\tMR.M.13C-Van.D14.R1_Frac10\r\n",
      "MR.M.13C-Ami.D14.R1_Frac26_bad_177\tMR.M.13C-Ami.D14.R1_Frac26_bad\r\n",
      "MR.M.13C-Van.D14.R1_MC_187\tMR.M.13C-Van.D14.R1_MC\r\n",
      "MR.F.13C-Pal.D6.R1_Frac14_184\tMR.F.13C-Pal.D6.R1_Frac14\r\n",
      "MR.F.13C-Cel.D6.R2_Frac8_190\tMR.F.13C-Cel.D6.R2_Frac8\r\n",
      "MR.M.13C-Van.D14.R1_Frac9_189\tMR.M.13C-Van.D14.R1_Frac9\r\n",
      "MR.F.13C-Cel.D30.R3_Frac12_188\tMR.F.13C-Cel.D30.R3_Frac12\r\n",
      "MR.F.13C-Pal.D6.R1_Frac17_192\tMR.F.13C-Pal.D6.R1_Frac17\r\n",
      "MR.M.12C-Con.D1.R1_Frac18_176\tMR.M.12C-Con.D1.R1_Frac18\r\n",
      "MR.F.13C-Pal.D6.R1_Frac10_191\tMR.F.13C-Pal.D6.R1_Frac10\r\n",
      "MR.M.13C-Van.D14.R1_Frac9_195\tMR.M.13C-Van.D14.R1_Frac9\r\n",
      "MR.M.13C-Ami.D14.R1_Frac24_bad_193\tMR.M.13C-Ami.D14.R1_Frac24_bad\r\n",
      "MR.F.13C-Pal.D6.R1_Frac20_194\tMR.F.13C-Pal.D6.R1_Frac20\r\n",
      "MR.M.13C-Van.D14.R1_Frac5_199\tMR.M.13C-Van.D14.R1_Frac5\r\n",
      "MR.M.13C-Van.D14.R1_Frac12_200\tMR.M.13C-Van.D14.R1_Frac12\r\n",
      "MR.M.13C-Ami.D14.R1_Frac16_bad_201\tMR.M.13C-Ami.D14.R1_Frac16_bad\r\n",
      "MR.F.13C-Cel.D30.R3_Frac6_198\tMR.F.13C-Cel.D30.R3_Frac6\r\n",
      "MR.F.13C-Pal.D6.R1_Frac26_196\tMR.F.13C-Pal.D6.R1_Frac26\r\n",
      "MR.F.13C-Cel.D30.R3_Frac10_186\tMR.F.13C-Cel.D30.R3_Frac10\r\n"
     ]
    }
   ],
   "source": [
    "! head -n 200 group_file.txt"
   ]
  },
  {
   "cell_type": "code",
   "execution_count": 14,
   "metadata": {
    "collapsed": false
   },
   "outputs": [
    {
     "name": "stdout",
     "output_type": "stream",
     "text": [
      "4325000\t2101431\r\n",
      "4326000\t2101869\r\n",
      "4327000\t2102310\r\n",
      "4328000\t2102756\r\n",
      "4329000\t2103203\r\n",
      "4330000\t2103653\r\n",
      "4331000\t2104072\r\n",
      "4332000\t2104515\r\n",
      "4333000\t2104974\r\n",
      "4334000\t2105429\r\n",
      "4335000\t2105891\r\n",
      "4336000\t2106346\r\n",
      "4337000\t2106804\r\n",
      "4338000\t2107278\r\n",
      "4339000\t2107738\r\n",
      "4340000\t2108260\r\n",
      "4341000\t2108835\r\n",
      "4342000\t2109507\r\n",
      "4343000\t2110150\r\n",
      "4344000\t2110817\r\n",
      "4345000\t2111506\r\n",
      "4346000\t2112250\r\n",
      "4346981\t2113042\r\n",
      "\r\n",
      "Output File Names: \r\n",
      "pear_merged-fullCyc2_lib2.assembled.dmult_maxee1_noN.names\r\n",
      "pear_merged-fullCyc2_lib2.assembled.dmult_maxee1_noN.unique.fasta\r\n",
      "\r\n",
      "\r\n",
      "mothur > quit()\r\n"
     ]
    }
   ],
   "source": [
    "# unique sequences\n",
    "cmd = 'mothur \"#unique.seqs(fasta={})\"'.format(qcFile2)\n",
    "!$cmd | tail -n 30"
   ]
  },
  {
   "cell_type": "code",
   "execution_count": 15,
   "metadata": {
    "collapsed": false
   },
   "outputs": [
    {
     "name": "stdout",
     "output_type": "stream",
     "text": [
      "Number of unique sequences: 2113042\n"
     ]
    }
   ],
   "source": [
    "qcFile3 = os.path.splitext(qcFile2)[0] + '.unique.fasta'\n",
    "n_uniq = !grep -c \">\" $qcFile3\n",
    "print ('Number of unique sequences: {}'.format(n_uniq[0]))"
   ]
  },
  {
   "cell_type": "code",
   "execution_count": 16,
   "metadata": {
    "collapsed": false
   },
   "outputs": [
    {
     "name": "stdout",
     "output_type": "stream",
     "text": [
      "-rw-rw-r-- 1 sam sam 214M May 15 12:50 pear_merged-fullCyc2_lib2.assembled.dmult_maxee1_noN.names\r\n"
     ]
    }
   ],
   "source": [
    "# name file produced by unique.seqs()\n",
    "nameFile = os.path.splitext(qcFile2)[0] + '.names'\n",
    "!ls -thlc $nameFile"
   ]
  },
  {
   "cell_type": "code",
   "execution_count": 17,
   "metadata": {
    "collapsed": false
   },
   "outputs": [
    {
     "name": "stdout",
     "output_type": "stream",
     "text": [
      "silva.seed_v132.tax\n",
      "silva.seed_v132.align\n",
      "README.md\n"
     ]
    },
    {
     "name": "stderr",
     "output_type": "stream",
     "text": [
      "--2018-05-15 12:50:47--  https://www.mothur.org/w/images/7/71/Silva.seed_v132.tgz\n",
      "Resolving www.mothur.org (www.mothur.org)... 141.214.120.22\n",
      "Connecting to www.mothur.org (www.mothur.org)|141.214.120.22|:443... connected.\n",
      "HTTP request sent, awaiting response... 200 OK\n",
      "Length: 19623900 (19M) [application/x-gzip]\n",
      "Saving to: ‘Silva.seed_v132.tgz’\n",
      "\n",
      "     0K .......... .......... .......... .......... ..........  0% 1.89M 10s\n",
      "    50K .......... .......... .......... .......... ..........  0%  989K 15s\n",
      "   100K .......... .......... .......... .......... ..........  0% 1.88M 13s\n",
      "   150K .......... .......... .......... .......... ..........  1%  991K 14s\n",
      "   200K .......... .......... .......... .......... ..........  1% 1.87M 14s\n",
      "   250K .......... .......... .......... .......... ..........  1%  994K 14s\n",
      "   300K .......... .......... .......... .......... ..........  1% 1.86M 14s\n",
      "   350K .......... .......... .......... .......... ..........  2%  993K 14s\n",
      "   400K .......... .......... .......... .......... ..........  2% 1003K 15s\n",
      "   450K .......... .......... .......... .......... ..........  2% 1.88M 14s\n",
      "   500K .......... .......... .......... .......... ..........  2%  992K 15s\n",
      "   550K .......... .......... .......... .......... ..........  3% 1.88M 14s\n",
      "   600K .......... .......... .......... .......... ..........  3%  988K 14s\n",
      "   650K .......... .......... .......... .......... ..........  3% 1.91M 14s\n",
      "   700K .......... .......... .......... .......... ..........  3%  888K 15s\n",
      "   750K .......... .......... .......... .......... ..........  4% 1.91M 14s\n",
      "   800K .......... .......... .......... .......... ..........  4%  982K 14s\n",
      "   850K .......... .......... .......... .......... ..........  4% 1013K 15s\n",
      "   900K .......... .......... .......... .......... ..........  4% 1.85M 14s\n",
      "   950K .......... .......... .......... .......... ..........  5% 1011K 14s\n",
      "  1000K .......... .......... .......... .......... ..........  5% 1.82M 14s\n",
      "  1050K .......... .......... .......... .......... ..........  5% 1013K 14s\n",
      "  1100K .......... .......... .......... .......... ..........  6% 1.84M 14s\n",
      "  1150K .......... .......... .......... .......... ..........  6% 1009K 14s\n",
      "  1200K .......... .......... .......... .......... ..........  6%  982K 14s\n",
      "  1250K .......... .......... .......... .......... ..........  6% 1.87M 14s\n",
      "  1300K .......... .......... .......... .......... ..........  7%  999K 14s\n",
      "  1350K .......... .......... .......... .......... ..........  7% 1.86M 14s\n",
      "  1400K .......... .......... .......... .......... ..........  7%  996K 14s\n",
      "  1450K .......... .......... .......... .......... ..........  7% 1.86M 14s\n",
      "  1500K .......... .......... .......... .......... ..........  8% 1001K 14s\n",
      "  1550K .......... .......... .......... .......... ..........  8%  987K 14s\n",
      "  1600K .......... .......... .......... .......... ..........  8% 1.89M 14s\n",
      "  1650K .......... .......... .......... .......... ..........  8%  985K 14s\n",
      "  1700K .......... .......... .......... .......... ..........  9% 1.87M 14s\n",
      "  1750K .......... .......... .......... .......... ..........  9%  995K 14s\n",
      "  1800K .......... .......... .......... .......... ..........  9% 1.88M 14s\n",
      "  1850K .......... .......... .......... .......... ..........  9%  988K 14s\n",
      "  1900K .......... .......... .......... .......... .......... 10% 1.91M 14s\n",
      "  1950K .......... .......... .......... .......... .......... 10%  989K 14s\n",
      "  2000K .......... .......... .......... .......... .......... 10%  997K 14s\n",
      "  2050K .......... .......... .......... .......... .......... 10% 1.86M 13s\n",
      "  2100K .......... .......... .......... .......... .......... 11%  992K 14s\n",
      "  2150K .......... .......... .......... .......... .......... 11% 1.87M 13s\n",
      "  2200K .......... .......... .......... .......... .......... 11%  991K 13s\n",
      "  2250K .......... .......... .......... .......... .......... 12% 1.86M 13s\n",
      "  2300K .......... .......... .......... .......... .......... 12% 1.89M 13s\n",
      "  2350K .......... .......... .......... .......... .......... 12%  983K 13s\n",
      "  2400K .......... .......... .......... .......... .......... 12% 1.88M 13s\n",
      "  2450K .......... .......... .......... .......... .......... 13%  998K 13s\n",
      "  2500K .......... .......... .......... .......... .......... 13% 1.84M 13s\n",
      "  2550K .......... .......... .......... .......... .......... 13% 1.89M 13s\n",
      "  2600K .......... .......... .......... .......... .......... 13% 1.85M 13s\n",
      "  2650K .......... .......... .......... .......... .......... 14%  963K 13s\n",
      "  2700K .......... .......... .......... .......... .......... 14% 1.73M 13s\n",
      "  2750K .......... .......... .......... .......... .......... 14%  993K 13s\n",
      "  2800K .......... .......... .......... .......... .......... 14% 1.66M 13s\n",
      "  2850K .......... .......... .......... .......... .......... 15% 1.88M 12s\n",
      "  2900K .......... .......... .......... .......... .......... 15%  993K 13s\n",
      "  2950K .......... .......... .......... .......... .......... 15% 1.63M 12s\n",
      "  3000K .......... .......... .......... .......... .......... 15% 1.87M 12s\n",
      "  3050K .......... .......... .......... .......... .......... 16%  894K 12s\n",
      "  3100K .......... .......... .......... .......... .......... 16% 1.89M 12s\n",
      "  3150K .......... .......... .......... .......... .......... 16%  706K 12s\n",
      "  3200K .......... .......... .......... .......... .......... 16% 1.91M 12s\n",
      "  3250K .......... .......... .......... .......... .......... 17%  988K 12s\n",
      "  3300K .......... .......... .......... .......... .......... 17% 1.88M 12s\n",
      "  3350K .......... .......... .......... .......... .......... 17%  974K 12s\n",
      "  3400K .......... .......... .......... .......... .......... 18% 1.84M 12s\n",
      "  3450K .......... .......... .......... .......... .......... 18%  968K 12s\n",
      "  3500K .......... .......... .......... .......... .......... 18% 1.82M 12s\n",
      "  3550K .......... .......... .......... .......... .......... 18%  933K 12s\n",
      "  3600K .......... .......... .......... .......... .......... 19% 1.37M 12s\n",
      "  3650K .......... .......... .......... .......... .......... 19% 1.79M 12s\n",
      "  3700K .......... .......... .......... .......... .......... 19% 1.76M 12s\n",
      "  3750K .......... .......... .......... .......... .......... 19% 1.59M 12s\n",
      "  3800K .......... .......... .......... .......... .......... 20% 1.53M 12s\n",
      "  3850K .......... .......... .......... .......... .......... 20% 1.67M 12s\n",
      "  3900K .......... .......... .......... .......... .......... 20%  957K 12s\n",
      "  3950K .......... .......... .......... .......... .......... 20% 1.85M 12s\n",
      "  4000K .......... .......... .......... .......... .......... 21% 1.44M 12s\n",
      "  4050K .......... .......... .......... .......... .......... 21% 1.83M 11s\n",
      "  4100K .......... .......... .......... .......... .......... 21% 1.89M 11s\n",
      "  4150K .......... .......... .......... .......... .......... 21% 1003K 11s\n",
      "  4200K .......... .......... .......... .......... .......... 22% 1.89M 11s\n",
      "  4250K .......... .......... .......... .......... .......... 22% 1.90M 11s\n",
      "  4300K .......... .......... .......... .......... .......... 22% 1.88M 11s\n",
      "  4350K .......... .......... .......... .......... .......... 22% 1.87M 11s\n",
      "  4400K .......... .......... .......... .......... .......... 23%  997K 11s\n",
      "  4450K .......... .......... .......... .......... .......... 23% 1.86M 11s\n",
      "  4500K .......... .......... .......... .......... .......... 23% 1.92M 11s\n",
      "  4550K .......... .......... .......... .......... .......... 24% 1.90M 11s\n",
      "  4600K .......... .......... .......... .......... .......... 24% 1.85M 11s\n",
      "  4650K .......... .......... .......... .......... .......... 24% 1.89M 11s\n",
      "  4700K .......... .......... .......... .......... .......... 24% 1.90M 11s\n",
      "  4750K .......... .......... .......... .......... .......... 25% 1.90M 11s\n",
      "  4800K .......... .......... .......... .......... .......... 25% 1.87M 10s\n",
      "  4850K .......... .......... .......... .......... .......... 25% 1.90M 10s\n",
      "  4900K .......... .......... .......... .......... .......... 25% 1.89M 10s\n",
      "  4950K .......... .......... .......... .......... .......... 26% 1.87M 10s\n",
      "  5000K .......... .......... .......... .......... .......... 26% 1.89M 10s\n",
      "  5050K .......... .......... .......... .......... .......... 26%  995K 10s\n",
      "  5100K .......... .......... .......... .......... .......... 26% 1.86M 10s\n",
      "  5150K .......... .......... .......... .......... .......... 27% 1.87M 10s\n",
      "  5200K .......... .......... .......... .......... .......... 27% 1.63M 10s\n",
      "  5250K .......... .......... .......... .......... .......... 27% 1.86M 10s\n",
      "  5300K .......... .......... .......... .......... .......... 27% 1.55M 10s\n",
      "  5350K .......... .......... .......... .......... .......... 28% 1.76M 10s\n",
      "  5400K .......... .......... .......... .......... .......... 28% 1.90M 10s\n",
      "  5450K .......... .......... .......... .......... .......... 28% 1.74M 10s\n",
      "  5500K .......... .......... .......... .......... .......... 28% 1.63M 10s\n",
      "  5550K .......... .......... .......... .......... .......... 29% 1.46M 10s\n",
      "  5600K .......... .......... .......... .......... .......... 29% 1.88M 10s\n",
      "  5650K .......... .......... .......... .......... .......... 29% 1.92M 10s\n",
      "  5700K .......... .......... .......... .......... .......... 30% 1.88M 10s\n",
      "  5750K .......... .......... .......... .......... .......... 30% 1.87M 9s\n",
      "  5800K .......... .......... .......... .......... .......... 30% 1.87M 9s\n",
      "  5850K .......... .......... .......... .......... .......... 30% 1.91M 9s\n",
      "  5900K .......... .......... .......... .......... .......... 31% 1.87M 9s\n",
      "  5950K .......... .......... .......... .......... .......... 31% 1020K 9s\n",
      "  6000K .......... .......... .......... .......... .......... 31% 1.90M 9s\n",
      "  6050K .......... .......... .......... .......... .......... 31% 1.89M 9s\n",
      "  6100K .......... .......... .......... .......... .......... 32% 1.86M 9s\n",
      "  6150K .......... .......... .......... .......... .......... 32% 1.88M 9s\n",
      "  6200K .......... .......... .......... .......... .......... 32% 1.92M 9s\n",
      "  6250K .......... .......... .......... .......... .......... 32% 1.91M 9s\n",
      "  6300K .......... .......... .......... .......... .......... 33% 1019K 9s\n",
      "  6350K .......... .......... .......... .......... .......... 33% 1.88M 9s\n",
      "  6400K .......... .......... .......... .......... .......... 33% 1.91M 9s\n",
      "  6450K .......... .......... .......... .......... .......... 33% 1.89M 9s\n",
      "  6500K .......... .......... .......... .......... .......... 34% 1.87M 9s\n",
      "  6550K .......... .......... .......... .......... .......... 34% 1.90M 9s\n",
      "  6600K .......... .......... .......... .......... .......... 34% 1.92M 9s\n",
      "  6650K .......... .......... .......... .......... .......... 34% 1.89M 9s\n",
      "  6700K .......... .......... .......... .......... .......... 35% 1.87M 9s\n",
      "  6750K .......... .......... .......... .......... .......... 35% 1.01M 9s\n",
      "  6800K .......... .......... .......... .......... .......... 35% 1.87M 8s\n",
      "  6850K .......... .......... .......... .......... .......... 36% 1.89M 8s\n",
      "  6900K .......... .......... .......... .......... .......... 36% 1.90M 8s\n",
      "  6950K .......... .......... .......... .......... .......... 36% 1.92M 8s\n",
      "  7000K .......... .......... .......... .......... .......... 36% 1.89M 8s\n",
      "  7050K .......... .......... .......... .......... .......... 37% 1.83M 8s\n",
      "  7100K .......... .......... .......... .......... .......... 37% 1.89M 8s\n",
      "  7150K .......... .......... .......... .......... .......... 37% 1.77M 8s\n",
      "  7200K .......... .......... .......... .......... .......... 37% 1.86M 8s\n",
      "  7250K .......... .......... .......... .......... .......... 38% 1.90M 8s\n",
      "  7300K .......... .......... .......... .......... .......... 38% 1016K 8s\n",
      "  7350K .......... .......... .......... .......... .......... 38% 1.91M 8s\n",
      "  7400K .......... .......... .......... .......... .......... 38% 1.93M 8s\n",
      "  7450K .......... .......... .......... .......... .......... 39% 1.90M 8s\n",
      "  7500K .......... .......... .......... .......... .......... 39% 1.87M 8s\n",
      "  7550K .......... .......... .......... .......... .......... 39% 1.93M 8s\n",
      "  7600K .......... .......... .......... .......... .......... 39% 1.88M 8s\n",
      "  7650K .......... .......... .......... .......... .......... 40% 1.89M 8s\n",
      "  7700K .......... .......... .......... .......... .......... 40% 1.91M 8s\n",
      "  7750K .......... .......... .......... .......... .......... 40% 1.93M 8s\n",
      "  7800K .......... .......... .......... .......... .......... 40% 1.88M 8s\n",
      "  7850K .......... .......... .......... .......... .......... 41% 1.83M 8s\n",
      "  7900K .......... .......... .......... .......... .......... 41% 1.90M 7s\n",
      "  7950K .......... .......... .......... .......... .......... 41% 1.85M 7s\n",
      "  8000K .......... .......... .......... .......... .......... 42% 1.92M 7s\n",
      "  8050K .......... .......... .......... .......... .......... 42% 1.89M 7s\n",
      "  8100K .......... .......... .......... .......... .......... 42% 1.88M 7s\n",
      "  8150K .......... .......... .......... .......... .......... 42% 1.92M 7s\n",
      "  8200K .......... .......... .......... .......... .......... 43% 1.92M 7s\n",
      "  8250K .......... .......... .......... .......... .......... 43% 1.92M 7s\n",
      "  8300K .......... .......... .......... .......... .......... 43% 1.91M 7s\n",
      "  8350K .......... .......... .......... .......... .......... 43% 1022K 7s\n",
      "  8400K .......... .......... .......... .......... .......... 44% 1.88M 7s\n",
      "  8450K .......... .......... .......... .......... .......... 44% 1.88M 7s\n",
      "  8500K .......... .......... .......... .......... .......... 44% 1.90M 7s\n",
      "  8550K .......... .......... .......... .......... .......... 44% 1.91M 7s\n",
      "  8600K .......... .......... .......... .......... .......... 45% 1.93M 7s\n",
      "  8650K .......... .......... .......... .......... .......... 45% 1.86M 7s\n",
      "  8700K .......... .......... .......... .......... .......... 45% 1.87M 7s\n",
      "  8750K .......... .......... .......... .......... .......... 45% 1.93M 7s\n",
      "  8800K .......... .......... .......... .......... .......... 46% 1.87M 7s\n",
      "  8850K .......... .......... .......... .......... .......... 46% 1.91M 7s\n",
      "  8900K .......... .......... .......... .......... .......... 46% 1.89M 7s\n",
      "  8950K .......... .......... .......... .......... .......... 46% 1.92M 7s\n",
      "  9000K .......... .......... .......... .......... .......... 47% 1.92M 7s\n",
      "  9050K .......... .......... .......... .......... .......... 47% 1.90M 7s\n",
      "  9100K .......... .......... .......... .......... .......... 47% 1.91M 7s\n",
      "  9150K .......... .......... .......... .......... .......... 48% 1014K 6s\n",
      "  9200K .......... .......... .......... .......... .......... 48% 1.92M 6s\n",
      "  9250K .......... .......... .......... .......... .......... 48% 1.88M 6s\n",
      "  9300K .......... .......... .......... .......... .......... 48% 1.91M 6s\n",
      "  9350K .......... .......... .......... .......... .......... 49%  394K 6s\n",
      "  9400K .......... .......... .......... .......... .......... 49% 1.90M 6s\n",
      "  9450K .......... .......... .......... .......... .......... 49% 1.90M 6s\n",
      "  9500K .......... .......... .......... .......... .......... 49% 1.92M 6s\n",
      "  9550K .......... .......... .......... .......... .......... 50% 1.90M 6s\n",
      "  9600K .......... .......... .......... .......... .......... 50% 1.89M 6s\n",
      "  9650K .......... .......... .......... .......... .......... 50% 1.86M 6s\n",
      "  9700K .......... .......... .......... .......... .......... 50% 1.91M 6s\n",
      "  9750K .......... .......... .......... .......... .......... 51% 1.91M 6s\n",
      "  9800K .......... .......... .......... .......... .......... 51% 1.90M 6s\n",
      "  9850K .......... .......... .......... .......... .......... 51% 1.93M 6s\n",
      "  9900K .......... .......... .......... .......... .......... 51% 1.91M 6s\n",
      "  9950K .......... .......... .......... .......... .......... 52% 1.88M 6s\n",
      " 10000K .......... .......... .......... .......... .......... 52% 1.89M 6s\n",
      " 10050K .......... .......... .......... .......... .......... 52% 1.92M 6s\n",
      " 10100K .......... .......... .......... .......... .......... 52% 1.89M 6s\n",
      " 10150K .......... .......... .......... .......... .......... 53% 1.91M 6s\n",
      " 10200K .......... .......... .......... .......... .......... 53% 1.92M 6s\n",
      " 10250K .......... .......... .......... .......... .......... 53% 1.93M 6s\n",
      " 10300K .......... .......... .......... .......... .......... 54% 1.90M 6s\n",
      " 10350K .......... .......... .......... .......... .......... 54% 1.92M 6s\n",
      " 10400K .......... .......... .......... .......... .......... 54% 1011K 6s\n",
      " 10450K .......... .......... .......... .......... .......... 54% 1.86M 6s\n",
      " 10500K .......... .......... .......... .......... .......... 55% 1.92M 6s\n",
      " 10550K .......... .......... .......... .......... .......... 55% 1.89M 6s\n",
      " 10600K .......... .......... .......... .......... .......... 55% 1.93M 5s\n",
      " 10650K .......... .......... .......... .......... .......... 55% 1.91M 5s\n",
      " 10700K .......... .......... .......... .......... .......... 56% 1.90M 5s\n",
      " 10750K .......... .......... .......... .......... .......... 56% 1.90M 5s\n",
      " 10800K .......... .......... .......... .......... .......... 56% 1.86M 5s\n",
      " 10850K .......... .......... .......... .......... .......... 56% 1.90M 5s\n",
      " 10900K .......... .......... .......... .......... .......... 57% 1.88M 5s\n",
      " 10950K .......... .......... .......... .......... .......... 57% 1.92M 5s\n",
      " 11000K .......... .......... .......... .......... .......... 57% 1.90M 5s\n",
      " 11050K .......... .......... .......... .......... .......... 57% 1.92M 5s\n",
      " 11100K .......... .......... .......... .......... .......... 58% 1.92M 5s\n",
      " 11150K .......... .......... .......... .......... .......... 58% 1.88M 5s\n",
      " 11200K .......... .......... .......... .......... .......... 58% 1.91M 5s\n",
      " 11250K .......... .......... .......... .......... .......... 58% 1.89M 5s\n",
      " 11300K .......... .......... .......... .......... .......... 59% 1.92M 5s\n",
      " 11350K .......... .......... .......... .......... .......... 59% 1.92M 5s\n",
      " 11400K .......... .......... .......... .......... .......... 59% 1.92M 5s\n",
      " 11450K .......... .......... .......... .......... .......... 60% 1.90M 5s\n",
      " 11500K .......... .......... .......... .......... .......... 60% 1.92M 5s\n",
      " 11550K .......... .......... .......... .......... .......... 60% 1.01M 5s\n",
      " 11600K .......... .......... .......... .......... .......... 60% 1.84M 5s\n",
      " 11650K .......... .......... .......... .......... .......... 61% 1.91M 5s\n",
      " 11700K .......... .......... .......... .......... .......... 61% 1.89M 5s\n",
      " 11750K .......... .......... .......... .......... .......... 61% 1.91M 5s\n",
      " 11800K .......... .......... .......... .......... .......... 61% 1.92M 5s\n",
      " 11850K .......... .......... .......... .......... .......... 62% 1.93M 5s\n",
      " 11900K .......... .......... .......... .......... .......... 62% 1.89M 5s\n",
      " 11950K .......... .......... .......... .......... .......... 62% 1.88M 5s\n",
      " 12000K .......... .......... .......... .......... .......... 62% 1.89M 4s\n",
      " 12050K .......... .......... .......... .......... .......... 63% 1.91M 4s\n",
      " 12100K .......... .......... .......... .......... .......... 63% 1.90M 4s\n",
      " 12150K .......... .......... .......... .......... .......... 63% 1.92M 4s\n",
      " 12200K .......... .......... .......... .......... .......... 63% 1.90M 4s\n",
      " 12250K .......... .......... .......... .......... .......... 64% 1.91M 4s\n",
      " 12300K .......... .......... .......... .......... .......... 64% 1.91M 4s\n",
      " 12350K .......... .......... .......... .......... .......... 64% 1.91M 4s\n",
      " 12400K .......... .......... .......... .......... .......... 64% 1.92M 4s\n",
      " 12450K .......... .......... .......... .......... .......... 65% 1.92M 4s\n",
      " 12500K .......... .......... .......... .......... .......... 65% 1.90M 4s\n",
      " 12550K .......... .......... .......... .......... .......... 65% 1.91M 4s\n",
      " 12600K .......... .......... .......... .......... .......... 66% 1.92M 4s\n",
      " 12650K .......... .......... .......... .......... .......... 66% 1.94M 4s\n",
      " 12700K .......... .......... .......... .......... .......... 66% 1.91M 4s\n",
      " 12750K .......... .......... .......... .......... .......... 66% 1016K 4s\n",
      " 12800K .......... .......... .......... .......... .......... 67% 1.93M 4s\n",
      " 12850K .......... .......... .......... .......... .......... 67% 1.93M 4s\n",
      " 12900K .......... .......... .......... .......... .......... 67% 1.91M 4s\n",
      " 12950K .......... .......... .......... .......... .......... 67% 1.92M 4s\n",
      " 13000K .......... .......... .......... .......... .......... 68% 1.92M 4s\n",
      " 13050K .......... .......... .......... .......... .......... 68% 1.91M 4s\n",
      " 13100K .......... .......... .......... .......... .......... 68% 1.83M 4s\n",
      " 13150K .......... .......... .......... .......... .......... 68% 2.01M 4s\n",
      " 13200K .......... .......... .......... .......... .......... 69% 1.86M 4s\n",
      " 13250K .......... .......... .......... .......... .......... 69% 1.91M 4s\n",
      " 13300K .......... .......... .......... .......... .......... 69% 1.91M 4s\n",
      " 13350K .......... .......... .......... .......... .......... 69% 1.91M 4s\n",
      " 13400K .......... .......... .......... .......... .......... 70% 1.95M 4s\n",
      " 13450K .......... .......... .......... .......... .......... 70% 1.93M 4s\n",
      " 13500K .......... .......... .......... .......... .......... 70% 1.90M 3s\n",
      " 13550K .......... .......... .......... .......... .......... 70% 1.89M 3s\n",
      " 13600K .......... .......... .......... .......... .......... 71% 1.90M 3s\n",
      " 13650K .......... .......... .......... .......... .......... 71% 1.93M 3s\n",
      " 13700K .......... .......... .......... .......... .......... 71% 1.48M 3s\n",
      " 13750K .......... .......... .......... .......... .......... 72% 1.86M 3s\n",
      " 13800K .......... .......... .......... .......... .......... 72% 1.91M 3s\n",
      " 13850K .......... .......... .......... .......... .......... 72% 1.93M 3s\n",
      " 13900K .......... .......... .......... .......... .......... 72% 1.04M 3s\n",
      " 13950K .......... .......... .......... .......... .......... 73% 1.91M 3s\n",
      " 14000K .......... .......... .......... .......... .......... 73% 1.92M 3s\n",
      " 14050K .......... .......... .......... .......... .......... 73% 1.94M 3s\n",
      " 14100K .......... .......... .......... .......... .......... 73% 1.93M 3s\n",
      " 14150K .......... .......... .......... .......... .......... 74% 1.91M 3s\n",
      " 14200K .......... .......... .......... .......... .......... 74% 1.92M 3s\n",
      " 14250K .......... .......... .......... .......... .......... 74% 1.83M 3s\n",
      " 14300K .......... .......... .......... .......... .......... 74% 2.01M 3s\n",
      " 14350K .......... .......... .......... .......... .......... 75% 1.86M 3s\n",
      " 14400K .......... .......... .......... .......... .......... 75% 1.93M 3s\n",
      " 14450K .......... .......... .......... .......... .......... 75% 1.90M 3s\n",
      " 14500K .......... .......... .......... .......... .......... 75% 1.93M 3s\n",
      " 14550K .......... .......... .......... .......... .......... 76% 1.90M 3s\n",
      " 14600K .......... .......... .......... .......... .......... 76% 1.91M 3s\n",
      " 14650K .......... .......... .......... .......... .......... 76% 1.91M 3s\n",
      " 14700K .......... .......... .......... .......... .......... 76% 1.89M 3s\n",
      " 14750K .......... .......... .......... .......... .......... 77% 1.93M 3s\n",
      " 14800K .......... .......... .......... .......... .......... 77% 1.93M 3s\n",
      " 14850K .......... .......... .......... .......... .......... 77% 1.89M 3s\n",
      " 14900K .......... .......... .......... .......... .......... 78% 1.92M 3s\n",
      " 14950K .......... .......... .......... .......... .......... 78% 1.91M 3s\n",
      " 15000K .......... .......... .......... .......... .......... 78% 1.93M 3s\n",
      " 15050K .......... .......... .......... .......... .......... 78% 1019K 2s\n",
      " 15100K .......... .......... .......... .......... .......... 79% 34.4M 2s\n",
      " 15150K .......... .......... .......... .......... .......... 79% 1014K 2s\n",
      " 15200K .......... .......... .......... .......... .......... 79% 1.93M 2s\n",
      " 15250K .......... .......... .......... .......... .......... 79% 1.94M 2s\n",
      " 15300K .......... .......... .......... .......... .......... 80% 1.93M 2s\n",
      " 15350K .......... .......... .......... .......... .......... 80% 1.90M 2s\n",
      " 15400K .......... .......... .......... .......... .......... 80% 1.90M 2s\n",
      " 15450K .......... .......... .......... .......... .......... 80% 1.92M 2s\n",
      " 15500K .......... .......... .......... .......... .......... 81% 1.89M 2s\n",
      " 15550K .......... .......... .......... .......... .......... 81%  494K 2s\n",
      " 15600K .......... .......... .......... .......... .......... 81% 1.94M 2s\n",
      " 15650K .......... .......... .......... .......... .......... 81% 1.93M 2s\n",
      " 15700K .......... .......... .......... .......... .......... 82% 1.90M 2s\n",
      " 15750K .......... .......... .......... .......... .......... 82% 1.92M 2s\n",
      " 15800K .......... .......... .......... .......... .......... 82% 1.91M 2s\n",
      " 15850K .......... .......... .......... .......... .......... 82% 1.93M 2s\n",
      " 15900K .......... .......... .......... .......... .......... 83% 1.90M 2s\n",
      " 15950K .......... .......... .......... .......... .......... 83% 1.92M 2s\n",
      " 16000K .......... .......... .......... .......... .......... 83% 1.92M 2s\n",
      " 16050K .......... .......... .......... .......... .......... 84% 1.73M 2s\n",
      " 16100K .......... .......... .......... .......... .......... 84% 1.89M 2s\n",
      " 16150K .......... .......... .......... .......... .......... 84% 1.90M 2s\n",
      " 16200K .......... .......... .......... .......... .......... 84% 1.93M 2s\n",
      " 16250K .......... .......... .......... .......... .......... 85% 1.92M 2s\n",
      " 16300K .......... .......... .......... .......... .......... 85% 1.93M 2s\n",
      " 16350K .......... .......... .......... .......... .......... 85% 1.92M 2s\n",
      " 16400K .......... .......... .......... .......... .......... 85% 1.89M 2s\n",
      " 16450K .......... .......... .......... .......... .......... 86% 1.92M 2s\n",
      " 16500K .......... .......... .......... .......... .......... 86% 1.92M 2s\n",
      " 16550K .......... .......... .......... .......... .......... 86% 1.93M 2s\n",
      " 16600K .......... .......... .......... .......... .......... 86% 1.92M 2s\n",
      " 16650K .......... .......... .......... .......... .......... 87% 1.94M 1s\n",
      " 16700K .......... .......... .......... .......... .......... 87% 29.7M 1s\n",
      " 16750K .......... .......... .......... .......... .......... 87% 1011K 1s\n",
      " 16800K .......... .......... .......... .......... .......... 87% 1.92M 1s\n",
      " 16850K .......... .......... .......... .......... .......... 88% 34.6M 1s\n",
      " 16900K .......... .......... .......... .......... .......... 88% 1.91M 1s\n",
      " 16950K .......... .......... .......... .......... .......... 88% 1.93M 1s\n",
      " 17000K .......... .......... .......... .......... .......... 88% 1.89M 1s\n",
      " 17050K .......... .......... .......... .......... .......... 89% 1.90M 1s\n",
      " 17100K .......... .......... .......... .......... .......... 89% 1.89M 1s\n",
      " 17150K .......... .......... .......... .......... .......... 89% 1.93M 1s\n",
      " 17200K .......... .......... .......... .......... .......... 90% 1.93M 1s\n",
      " 17250K .......... .......... .......... .......... .......... 90% 1.94M 1s\n",
      " 17300K .......... .......... .......... .......... .......... 90% 24.8M 1s\n",
      " 17350K .......... .......... .......... .......... .......... 90% 1.92M 1s\n",
      " 17400K .......... .......... .......... .......... .......... 91% 1.92M 1s\n",
      " 17450K .......... .......... .......... .......... .......... 91% 1.91M 1s\n",
      " 17500K .......... .......... .......... .......... .......... 91% 1.93M 1s\n",
      " 17550K .......... .......... .......... .......... .......... 91% 1.92M 1s\n",
      " 17600K .......... .......... .......... .......... .......... 92% 1.90M 1s\n",
      " 17650K .......... .......... .......... .......... .......... 92% 1.88M 1s\n",
      " 17700K .......... .......... .......... .......... .......... 92% 1.93M 1s\n",
      " 17750K .......... .......... .......... .......... .......... 92% 1.94M 1s\n",
      " 17800K .......... .......... .......... .......... .......... 93% 1.91M 1s\n",
      " 17850K .......... .......... .......... .......... .......... 93% 34.6M 1s\n",
      " 17900K .......... .......... .......... .......... .......... 93% 1019K 1s\n",
      " 17950K .......... .......... .......... .......... .......... 93% 1.91M 1s\n",
      " 18000K .......... .......... .......... .......... .......... 94% 33.0M 1s\n",
      " 18050K .......... .......... .......... .......... .......... 94% 1.93M 1s\n",
      " 18100K .......... .......... .......... .......... .......... 94% 1.92M 1s\n",
      " 18150K .......... .......... .......... .......... .......... 94% 1.91M 1s\n",
      " 18200K .......... .......... .......... .......... .......... 95% 1.93M 1s\n",
      " 18250K .......... .......... .......... .......... .......... 95% 1.93M 1s\n",
      " 18300K .......... .......... .......... .......... .......... 95% 1.93M 0s\n",
      " 18350K .......... .......... .......... .......... .......... 96% 1.89M 0s\n",
      " 18400K .......... .......... .......... .......... .......... 96% 1.90M 0s\n",
      " 18450K .......... .......... .......... .......... .......... 96% 1.93M 0s\n",
      " 18500K .......... .......... .......... .......... .......... 96% 1.92M 0s\n",
      " 18550K .......... .......... .......... .......... .......... 97% 1.91M 0s\n",
      " 18600K .......... .......... .......... .......... .......... 97% 41.7M 0s\n",
      " 18650K .......... .......... .......... .......... .......... 97% 1.90M 0s\n",
      " 18700K .......... .......... .......... .......... .......... 97% 1.92M 0s\n",
      " 18750K .......... .......... .......... .......... .......... 98% 1.89M 0s\n",
      " 18800K .......... .......... .......... .......... .......... 98% 1.90M 0s\n",
      " 18850K .......... .......... .......... .......... .......... 98% 1.94M 0s\n",
      " 18900K .......... .......... .......... .......... .......... 98% 1.92M 0s\n",
      " 18950K .......... .......... .......... .......... .......... 99% 1.93M 0s\n",
      " 19000K .......... .......... .......... .......... .......... 99% 1.93M 0s\n",
      " 19050K .......... .......... .......... .......... .......... 99% 1.92M 0s\n",
      " 19100K .......... .......... .......... .......... .......... 99% 1.94M 0s\n",
      " 19150K .......... ...                                        100% 19.4M=11s\n",
      "\n",
      "2018-05-15 12:50:58 (1.66 MB/s) - ‘Silva.seed_v132.tgz’ saved [19623900/19623900]\n",
      "\n"
     ]
    }
   ],
   "source": [
    "%%bash \n",
    "# Remove database if already exsists\n",
    "if [ -d mothur_silva_db ]; then\n",
    "    rm -rf mothur_silva_db\n",
    "fi\n",
    "\n",
    "#if ! [ -d mothur_silva_db ]; then\n",
    "#    mkdir mothur_silva_db\n",
    "#fi\n",
    "\n",
    "mkdir mothur_silva_db\n",
    "cd mothur_silva_db\n",
    "\n",
    "# Download mothur recreatd SEED database release 132.\n",
    "wget https://www.mothur.org/w/images/7/71/Silva.seed_v132.tgz\n",
    "#wget https://www.mothur.org/w/images/a/a4/Silva.seed_v128.tgz\n",
    "tar -xvzf Silva.seed_v132.tgz\n",
    "rm Silva.seed_v132.tgz"
   ]
  },
  {
   "cell_type": "code",
   "execution_count": 18,
   "metadata": {
    "collapsed": false
   },
   "outputs": [
    {
     "name": "stdout",
     "output_type": "stream",
     "text": [
      "700\n",
      "800\n",
      "900\n",
      "1000\n",
      "1100\n",
      "1118\n",
      "\n",
      "\n",
      "\n",
      "Length of filtered alignment: 10180\n",
      "Number of columns removed: 39820\n",
      "Length of the original alignment: 50000\n",
      "Number of sequences used to construct filter: 11180\n",
      "\n",
      "Output File Names: \n",
      "silva.filter\n",
      "silva.seed_v132.filter.fasta\n",
      "\n",
      "\n",
      "mothur > quit()\n",
      "\n",
      "Number of sequences post-filter: 11180\n"
     ]
    }
   ],
   "source": [
    "silvaFile = 'silva.seed_v132.align'\n",
    "cmd = 'mothur \"#filter.seqs(vertical=t, fasta={}, processors={})\"'.format(silvaFile, nprocs)\n",
    "!cd mothur_silva_db; $cmd | tail -n 20\n",
    "\n",
    "silvaFileFilt = os.path.splitext(silvaFile)[0] + '.filter.fasta'\n",
    "silvaFileFilt = os.path.join('mothur_silva_db', silvaFileFilt)\n",
    "ret = !grep -c \">\" $silvaFileFilt\n",
    "print ('\\nNumber of sequences post-filter: {}'.format(ret[0]))"
   ]
  },
  {
   "cell_type": "code",
   "execution_count": 24,
   "metadata": {
    "collapsed": false
   },
   "outputs": [
    {
     "name": "stdout",
     "output_type": "stream",
     "text": [
      "211200\r\n",
      "211300\r\n",
      "211400\r\n",
      "211500\r\n",
      "211600\r\n",
      "211700\r\n",
      "211800\r\n",
      "211900\r\n",
      "212000\r\n",
      "212016\r\n",
      "[WARNING]: Some of your sequences generated alignments that eliminated too many bases, a list is provided in pear_merged-fullCyc2_lib2.assembled.dmult_maxee1_noN.unique.flip.accnos. If the reverse compliment proved to be better it was reported.\r\n",
      "It took 1194 secs to align 2113042 sequences.\r\n",
      "\r\n",
      "\r\n",
      "Output File Names: \r\n",
      "pear_merged-fullCyc2_lib2.assembled.dmult_maxee1_noN.unique.align\r\n",
      "pear_merged-fullCyc2_lib2.assembled.dmult_maxee1_noN.unique.align.report\r\n",
      "pear_merged-fullCyc2_lib2.assembled.dmult_maxee1_noN.unique.flip.accnos\r\n",
      "\r\n",
      "\r\n",
      "mothur > quit()\r\n",
      "\r\n",
      "\r\n",
      "<<<<<<<<<<<<<<<<<<<<<<<<<<<<<<^>>>>>>>>>>>>>>>>>>>>>>>>>>>>>\r\n",
      "<<<<<<<<<<<<<<<<<<<<<<<<<<<<<<^>>>>>>>>>>>>>>>>>>>>>>>>>>>>>\r\n",
      "<<<<<<<<<<<<<<<<<<<<<<<<<<<<<<^>>>>>>>>>>>>>>>>>>>>>>>>>>>>>\r\n",
      "Detected 1 [WARNING] messages, please review.\r\n",
      "<<<<<<<<<<<<<<<<<<<<<<<<<<<<<<^>>>>>>>>>>>>>>>>>>>>>>>>>>>>>\r\n",
      "<<<<<<<<<<<<<<<<<<<<<<<<<<<<<<^>>>>>>>>>>>>>>>>>>>>>>>>>>>>>\r\n",
      "<<<<<<<<<<<<<<<<<<<<<<<<<<<<<<^>>>>>>>>>>>>>>>>>>>>>>>>>>>>>\r\n"
     ]
    }
   ],
   "source": [
    "# aligning sequences\n",
    "qcFile3a = re.sub('-', '\\-', qcFile3)\n",
    "cmd = 'mothur \"#align.seqs(candidate={}, template={}, processors={}, flip=T)\"'.format(qcFile3a, silvaFileFilt, nprocs)\n",
    "!$cmd | tail -n 30"
   ]
  },
  {
   "cell_type": "code",
   "execution_count": 25,
   "metadata": {
    "collapsed": false
   },
   "outputs": [
    {
     "name": "stdout",
     "output_type": "stream",
     "text": [
      "-rw-rw-r-- 1 sam sam 21G May 15 13:15 pear_merged-fullCyc2_lib2.assembled.dmult_maxee1_noN.unique.align\r\n"
     ]
    }
   ],
   "source": [
    "qcFile4 = os.path.splitext(qcFile3)[0] + '.align'\n",
    "!ls -thlc $qcFile4 "
   ]
  },
  {
   "cell_type": "code",
   "execution_count": 26,
   "metadata": {
    "collapsed": false
   },
   "outputs": [
    {
     "name": "stdout",
     "output_type": "stream",
     "text": [
      "209900\r\n",
      "210000\r\n",
      "210100\r\n",
      "210200\r\n",
      "210300\r\n",
      "210400\r\n",
      "210500\r\n",
      "210600\r\n",
      "210700\r\n",
      "210800\r\n",
      "210900\r\n",
      "211000\r\n",
      "211100\r\n",
      "211200\r\n",
      "211300\r\n",
      "211327\r\n",
      "\r\n",
      "\r\n",
      "\r\n",
      "Length of filtered alignment: 1190\r\n",
      "Number of columns removed: 8990\r\n",
      "Length of the original alignment: 10180\r\n",
      "Number of sequences used to construct filter: 2113042\r\n",
      "\r\n",
      "Output File Names: \r\n",
      "pear_merged-fullCyc2_lib2.filter\r\n",
      "pear_merged-fullCyc2_lib2.assembled.dmult_maxee1_noN.unique.filter.fasta\r\n",
      "\r\n",
      "\r\n",
      "mothur > quit()\r\n"
     ]
    }
   ],
   "source": [
    "# filtering out gap positions in the alignment\n",
    "qcFile4a = re.sub('-', '\\-', qcFile4)\n",
    "cmd = 'mothur \"#filter.seqs(vertical=t, fasta={}, processors={})\"'.format(qcFile4a, nprocs)\n",
    "!$cmd | tail -n 30"
   ]
  },
  {
   "cell_type": "code",
   "execution_count": 27,
   "metadata": {
    "collapsed": false
   },
   "outputs": [
    {
     "name": "stdout",
     "output_type": "stream",
     "text": [
      "-rw-rw-r-- 1 sam sam 2.5G May 15 13:17 pear_merged-fullCyc2_lib2.assembled.dmult_maxee1_noN.unique.filter.fasta\r\n"
     ]
    }
   ],
   "source": [
    "qcFile5 = os.path.splitext(qcFile3)[0] + '.filter.fasta'\n",
    "!ls -thlc $qcFile5"
   ]
  },
  {
   "cell_type": "code",
   "execution_count": 28,
   "metadata": {
    "collapsed": false
   },
   "outputs": [
    {
     "name": "stdout",
     "output_type": "stream",
     "text": [
      "Using 10 processors.\r\n",
      "\r\n",
      "\t\tStart\tEnd\tNBases\tAmbigs\tPolymer\tNumSeqs\r\n",
      "Minimum:\t0\t0\t0\t0\t1\t1\r\n",
      "2.5%-tile:\t208\t944\t253\t0\t4\t108675\r\n",
      "25%-tile:\t208\t944\t253\t0\t4\t1086746\r\n",
      "Median: \t208\t944\t253\t0\t5\t2173491\r\n",
      "75%-tile:\t208\t944\t253\t0\t6\t3260236\r\n",
      "97.5%-tile:\t208\t944\t254\t0\t8\t4238307\r\n",
      "Maximum:\t1190\t1190\t352\t0\t75\t4346981\r\n",
      "Mean:\t209.681\t943.988\t252.491\t0\t4.93499\r\n",
      "# of unique seqs:\t2113042\r\n",
      "total # of seqs:\t4346981\r\n",
      "\r\n",
      "Output File Names: \r\n",
      "pear_merged-fullCyc2_lib2.assembled.dmult_maxee1_noN.unique.filter.summary\r\n",
      "\r\n",
      "It took 16 secs to summarize 4346981 sequences.\r\n",
      "\r\n",
      "mothur > quit()\r\n"
     ]
    }
   ],
   "source": [
    "cmd = 'mothur \"#summary.seqs(fasta={}, processors={}, name={})\"'.format(qcFile5, nprocs, nameFile)\n",
    "!$cmd | tail -n 20"
   ]
  },
  {
   "cell_type": "markdown",
   "metadata": {},
   "source": [
    "## Removing homopolymers (> 8) and screening out sequences that don't align to an amplicon region"
   ]
  },
  {
   "cell_type": "code",
   "execution_count": 29,
   "metadata": {
    "collapsed": false
   },
   "outputs": [
    {
     "name": "stdout",
     "output_type": "stream",
     "text": [
      "Processing sequence: 209700\r\n",
      "Processing sequence: 209800\r\n",
      "Processing sequence: 209900\r\n",
      "Processing sequence: 210000\r\n",
      "Processing sequence: 210100\r\n",
      "Processing sequence: 210200\r\n",
      "Processing sequence: 210300\r\n",
      "Processing sequence: 210400\r\n",
      "Processing sequence: 210500\r\n",
      "Processing sequence: 210600\r\n",
      "Processing sequence: 210700\r\n",
      "Processing sequence: 210800\r\n",
      "Processing sequence: 210900\r\n",
      "Processing sequence: 211000\r\n",
      "Processing sequence: 211100\r\n",
      "Processing sequence: 211200\r\n",
      "Processing sequence: 211300\r\n",
      "Processing sequence: 211400\r\n",
      "Processing sequence: 211487\r\n",
      "\r\n",
      "Output File Names: \r\n",
      "pear_merged-fullCyc2_lib2.assembled.dmult_maxee1_noN.unique.filter.good.fasta\r\n",
      "pear_merged-fullCyc2_lib2.assembled.dmult_maxee1_noN.unique.filter.bad.accnos\r\n",
      "pear_merged-fullCyc2_lib2.assembled.dmult_maxee1_noN.good.names\r\n",
      "group_file.good.txt\r\n",
      "\r\n",
      "\r\n",
      "It took 32 secs to screen 2113042 sequences.\r\n",
      "\r\n",
      "mothur > quit()\r\n"
     ]
    }
   ],
   "source": [
    "cmd = \"\"\"mothur '#screen.seqs(fasta={},\\\n",
    "    processors={},\\\n",
    "    name={},\\\n",
    "    group={},\\\n",
    "    start={},\\\n",
    "    end={},\\\n",
    "    maxhomop=8)'\"\"\".format(qcFile5, nprocs, nameFile, 'group_file.txt', 208, 944)\n",
    "!$cmd | tail -n 30"
   ]
  },
  {
   "cell_type": "code",
   "execution_count": 30,
   "metadata": {
    "collapsed": false
   },
   "outputs": [
    {
     "name": "stdout",
     "output_type": "stream",
     "text": [
      "Number of sequences post-filter: 2072681\n"
     ]
    }
   ],
   "source": [
    "qcFile6 = os.path.splitext(qcFile5)[0] + '.good.fasta'\n",
    "ret = !grep -c \">\" $qcFile6\n",
    "print ('Number of sequences post-filter: {}'.format(ret[0]))"
   ]
  },
  {
   "cell_type": "code",
   "execution_count": 31,
   "metadata": {
    "collapsed": false
   },
   "outputs": [
    {
     "name": "stdout",
     "output_type": "stream",
     "text": [
      "207000\r\n",
      "207100\r\n",
      "207200\r\n",
      "207300\r\n",
      "207400\r\n",
      "207447\r\n",
      "\r\n",
      "\r\n",
      "\r\n",
      "Length of filtered alignment: 940\r\n",
      "Number of columns removed: 250\r\n",
      "Length of the original alignment: 1190\r\n",
      "Number of sequences used to construct filter: 2072681\r\n",
      "\r\n",
      "Output File Names: \r\n",
      "pear_merged-fullCyc2_lib2.filter\r\n",
      "pear_merged-fullCyc2_lib2.assembled.dmult_maxee1_noN.unique.filter.good.filter.fasta\r\n",
      "\r\n",
      "\r\n",
      "mothur > quit()\r\n"
     ]
    }
   ],
   "source": [
    "qcFile6a = re.sub('-', '\\-', qcFile6)\n",
    "cmd = 'mothur \"#filter.seqs(fasta={}, processors={}, vertical=T)\"'.format(qcFile6a, nprocs)\n",
    "!$cmd | tail -n 20"
   ]
  },
  {
   "cell_type": "code",
   "execution_count": 32,
   "metadata": {
    "collapsed": false
   },
   "outputs": [
    {
     "name": "stdout",
     "output_type": "stream",
     "text": [
      "-rw-rw-r-- 1 sam sam 1.9G May 15 13:19 pear_merged-fullCyc2_lib2.assembled.dmult_maxee1_noN.unique.filter.good.filter.fasta\r\n"
     ]
    }
   ],
   "source": [
    "qcFile7 = os.path.splitext(qcFile6)[0] + '.filter.fasta'\n",
    "!ls -thlc $qcFile7"
   ]
  },
  {
   "cell_type": "markdown",
   "metadata": {},
   "source": [
    "## Deunique seqs"
   ]
  },
  {
   "cell_type": "code",
   "execution_count": 33,
   "metadata": {
    "collapsed": false
   },
   "outputs": [
    {
     "name": "stdout",
     "output_type": "stream",
     "text": [
      "mothur v.1.39.5\r\n",
      "Last updated: 3/20/2017\r\n",
      "\r\n",
      "by\r\n",
      "Patrick D. Schloss\r\n",
      "\r\n",
      "Department of Microbiology & Immunology\r\n",
      "University of Michigan\r\n",
      "http://www.mothur.org\r\n",
      "\r\n",
      "When using, please cite:\r\n",
      "Schloss, P.D., et al., Introducing mothur: Open-source, platform-independent, community-supported software for describing and comparing microbial communities. Appl Environ Microbiol, 2009. 75(23):7537-41.\r\n",
      "\r\n",
      "Distributed under the GNU General Public License\r\n",
      "\r\n",
      "Type 'help()' for information on the commands that are available\r\n",
      "\r\n",
      "For questions and analysis support, please visit our forum at https://www.mothur.org/forum\r\n",
      "\r\n",
      "Type 'quit()' to exit program\r\n",
      "\r\n",
      "\r\n",
      "\r\n",
      "mothur > deunique.seqs(fasta=pear_merged-fullCyc2_lib2.assembled.dmult_maxee1_noN.unique.filter.good.filter.fasta, name=pear_merged-fullCyc2_lib2.assembled.dmult_maxee1_noN.names)\r\n",
      "\r\n",
      "Output File Names: \r\n",
      "pear_merged-fullCyc2_lib2.assembled.dmult_maxee1_noN.unique.filter.good.filter.redundant.fasta\r\n",
      "\r\n",
      "\r\n",
      "mothur > quit()\r\n"
     ]
    }
   ],
   "source": [
    "cmd = 'mothur \"#deunique.seqs(fasta={}, name={})\"'.format(qcFile7, nameFile)\n",
    "!$cmd | tail -n 30"
   ]
  },
  {
   "cell_type": "markdown",
   "metadata": {},
   "source": [
    "### Final QC-ed file"
   ]
  },
  {
   "cell_type": "code",
   "execution_count": 34,
   "metadata": {
    "collapsed": true
   },
   "outputs": [],
   "source": [
    "qcFile8 = os.path.splitext(qcFile7)[0] + '.redundant.fasta'\n",
    "qcFinal = 'finalQC.fasta'\n",
    "!perl -pe 's/[-.]//g if ! /^>/' $qcFile8 > $qcFinal"
   ]
  },
  {
   "cell_type": "code",
   "execution_count": 35,
   "metadata": {
    "collapsed": false
   },
   "outputs": [
    {
     "name": "stdout",
     "output_type": "stream",
     "text": [
      "\r\n",
      "Using 10 processors.\r\n",
      "\r\n",
      "\t\tStart\tEnd\tNBases\tAmbigs\tPolymer\tNumSeqs\r\n",
      "Minimum:\t1\t202\t202\t0\t3\t1\r\n",
      "2.5%-tile:\t1\t253\t253\t0\t4\t106897\r\n",
      "25%-tile:\t1\t253\t253\t0\t4\t1068967\r\n",
      "Median: \t1\t253\t253\t0\t5\t2137933\r\n",
      "75%-tile:\t1\t253\t253\t0\t6\t3206899\r\n",
      "97.5%-tile:\t1\t254\t254\t0\t8\t4168969\r\n",
      "Maximum:\t1\t352\t352\t0\t8\t4275865\r\n",
      "Mean:\t1\t253.065\t253.065\t0\t4.9249\r\n",
      "# of Seqs:\t4275865\r\n",
      "\r\n",
      "Output File Names: \r\n",
      "finalQC.summary\r\n",
      "\r\n",
      "It took 6 secs to summarize 4275865 sequences.\r\n",
      "\r\n",
      "mothur > quit()\r\n"
     ]
    }
   ],
   "source": [
    "cmd = 'mothur \"#summary.seqs(fasta={}, processors={})\"'.format(qcFinal, nprocs)\n",
    "!$cmd | tail -n 20"
   ]
  },
  {
   "cell_type": "code",
   "execution_count": 36,
   "metadata": {
    "collapsed": false
   },
   "outputs": [
    {
     "name": "stdout",
     "output_type": "stream",
     "text": [
      ">MR.M.13C-Ami.D14.R1_Frac10_bad_0\r\n",
      "TCCGTAGGGTGCGAGCGTTATTCGGAATTACTGGGCGTAAAGCGTGCGCAGGCGGTTTTGTAAGCCGGATGTGAAATCCCCGGGCTTAACCTGGGAATGGCATTCGGGACTGCAAGGCTGGAGTGCGGCAGAGGAGACTGGAATTCCTGGTGTAGCAGTGAAATGCGTAGATATCAGGAGGAACACCGATGGCGAAGGCAGGTCTCTGGGCTGACACTGACGCTTATGCACGAAAGCGTGGGGAGCAAACAGG\r\n",
      ">MR.M.13C-Van.D14.R1_Frac5_1\r\n",
      "TACGGAGGGTGCAAGCGTTATTCGGAATTACTGGGCGTAAAGCGTGCGCAGGCGGCGTTGTAAGACTGTCGTGAAATCCCCGGGCTTAACCTGGGAATGGCGATGGTGACTGCAAGGCTAGAGTATGGCAGAGGGGGGTAGAATTCCACGTGTAGCGGTGAAATGCGTAGATATGTGGAGGAACACCGGTGGCGAAGGCAGCTCCCTGGGTCAAAACTGACGCTGAGGCACGAAGGCGTGGGGAGCAAACGGG\r\n",
      ">MR.M.13C-Ami.D14.R1_Frac26_bad_2\r\n",
      "TACAGAGGTCTCAAGCGTTGTTCGGATTCATTGGGCGTAAAGGGTGCGTAGGCGGCGCGGTAAGTCGGGTGTGAAATCTCGGGGCTTAACTCCGAAACTGCATTCGATACTGCCGTGCTTGAGGACTGGAGAGGAGACTGGAATTTACGGTGTAGCGGTGAAATGCGTAGATATCGTAAGGAAGACCAGTGGCGAAGGCGGGTCTCTGGACAGTTCCTGACGCTGAGGCACGAAGGCCAGGGGAGCAAACGGG\r\n"
     ]
    }
   ],
   "source": [
    "!head -n 6 $qcFinal"
   ]
  },
  {
   "cell_type": "markdown",
   "metadata": {},
   "source": [
    "## Summary of number of seqs per sample"
   ]
  },
  {
   "cell_type": "code",
   "execution_count": 37,
   "metadata": {
    "collapsed": true
   },
   "outputs": [],
   "source": [
    "re1 = re.compile('_[0-9]+$')\n",
    "\n",
    "qcFinalSum = os.path.splitext(qcFinal)[0] + '.summary'\n",
    "\n",
    "samp_count = dict()\n",
    "with open(qcFinalSum, 'r') as inFH:\n",
    "    for line in inFH:\n",
    "        if line.startswith('seqname'):\n",
    "            continue\n",
    "        line = line.rstrip().split('\\t')\n",
    "        line[0] = re.sub(re1, '', line[0])\n",
    "        try:\n",
    "            samp_count[line[0]] += 1\n",
    "        except KeyError:\n",
    "            samp_count[line[0]] = 1"
   ]
  },
  {
   "cell_type": "code",
   "execution_count": 38,
   "metadata": {
    "collapsed": false
   },
   "outputs": [
    {
     "data": {
      "text/html": [
       "<div>\n",
       "<style scoped>\n",
       "    .dataframe tbody tr th:only-of-type {\n",
       "        vertical-align: middle;\n",
       "    }\n",
       "\n",
       "    .dataframe tbody tr th {\n",
       "        vertical-align: top;\n",
       "    }\n",
       "\n",
       "    .dataframe thead th {\n",
       "        text-align: right;\n",
       "    }\n",
       "</style>\n",
       "<table border=\"1\" class=\"dataframe\">\n",
       "  <thead>\n",
       "    <tr style=\"text-align: right;\">\n",
       "      <th></th>\n",
       "      <th>Sample</th>\n",
       "      <th>seq_count</th>\n",
       "    </tr>\n",
       "  </thead>\n",
       "  <tbody>\n",
       "    <tr>\n",
       "      <th>0</th>\n",
       "      <td>MR.M.13C-Ami.D14.R1_Frac10_bad</td>\n",
       "      <td>44591</td>\n",
       "    </tr>\n",
       "    <tr>\n",
       "      <th>1</th>\n",
       "      <td>MR.M.13C-Van.D14.R1_Frac5</td>\n",
       "      <td>22264</td>\n",
       "    </tr>\n",
       "    <tr>\n",
       "      <th>2</th>\n",
       "      <td>MR.M.13C-Ami.D14.R1_Frac26_bad</td>\n",
       "      <td>33565</td>\n",
       "    </tr>\n",
       "    <tr>\n",
       "      <th>3</th>\n",
       "      <td>MR.F.13C-Cel.D6.R2_Frac24</td>\n",
       "      <td>16086</td>\n",
       "    </tr>\n",
       "    <tr>\n",
       "      <th>4</th>\n",
       "      <td>MR.F.13C-Cel.D30.R3_Frac24</td>\n",
       "      <td>21011</td>\n",
       "    </tr>\n",
       "    <tr>\n",
       "      <th>5</th>\n",
       "      <td>MR.F.13C-Pal.D6.R1_Frac24</td>\n",
       "      <td>26771</td>\n",
       "    </tr>\n",
       "    <tr>\n",
       "      <th>6</th>\n",
       "      <td>MR.M.13C-Ami.D14.R1_Frac23_bad</td>\n",
       "      <td>20606</td>\n",
       "    </tr>\n",
       "    <tr>\n",
       "      <th>7</th>\n",
       "      <td>MR.F.13C-Cel.D30.R3_Frac27</td>\n",
       "      <td>14551</td>\n",
       "    </tr>\n",
       "    <tr>\n",
       "      <th>8</th>\n",
       "      <td>MR.F.13C-Cel.D30.R3_Frac6</td>\n",
       "      <td>65486</td>\n",
       "    </tr>\n",
       "    <tr>\n",
       "      <th>9</th>\n",
       "      <td>MR.F.13C-Cel.D30.R3_Frac22</td>\n",
       "      <td>19518</td>\n",
       "    </tr>\n",
       "    <tr>\n",
       "      <th>10</th>\n",
       "      <td>MR.F.13C-Pal.D6.R1_Frac26</td>\n",
       "      <td>36359</td>\n",
       "    </tr>\n",
       "    <tr>\n",
       "      <th>11</th>\n",
       "      <td>MR.F.13C-Cel.D30.R3_Frac15</td>\n",
       "      <td>20476</td>\n",
       "    </tr>\n",
       "    <tr>\n",
       "      <th>12</th>\n",
       "      <td>MR.F.13C-Cel.D30.R3_Frac8</td>\n",
       "      <td>45775</td>\n",
       "    </tr>\n",
       "    <tr>\n",
       "      <th>13</th>\n",
       "      <td>MR.F.13C-Cel.D6.R2_Frac25</td>\n",
       "      <td>39059</td>\n",
       "    </tr>\n",
       "    <tr>\n",
       "      <th>14</th>\n",
       "      <td>MR.F.13C-Cel.D6.R2_Frac13</td>\n",
       "      <td>25039</td>\n",
       "    </tr>\n",
       "    <tr>\n",
       "      <th>15</th>\n",
       "      <td>MR.F.13C-Pal.D6.R1_Frac17</td>\n",
       "      <td>35013</td>\n",
       "    </tr>\n",
       "    <tr>\n",
       "      <th>16</th>\n",
       "      <td>MR.F.13C-Cel.D6.R2_Frac10</td>\n",
       "      <td>39776</td>\n",
       "    </tr>\n",
       "    <tr>\n",
       "      <th>17</th>\n",
       "      <td>MR.M.13C-Ami.D14.R1_Frac7_bad</td>\n",
       "      <td>16027</td>\n",
       "    </tr>\n",
       "    <tr>\n",
       "      <th>18</th>\n",
       "      <td>MR.M.13C-Ami.D14.R1_Frac22_bad</td>\n",
       "      <td>10536</td>\n",
       "    </tr>\n",
       "    <tr>\n",
       "      <th>19</th>\n",
       "      <td>MR.F.13C-Pal.D6.R1_Frac20</td>\n",
       "      <td>78145</td>\n",
       "    </tr>\n",
       "    <tr>\n",
       "      <th>20</th>\n",
       "      <td>MR.F.13C-Cel.D30.R3_Frac9</td>\n",
       "      <td>34126</td>\n",
       "    </tr>\n",
       "    <tr>\n",
       "      <th>21</th>\n",
       "      <td>MR.M.13C-Ami.D14.R1_Frac25_bad</td>\n",
       "      <td>29437</td>\n",
       "    </tr>\n",
       "    <tr>\n",
       "      <th>22</th>\n",
       "      <td>MR.F.13C-Pal.D6.R1_Frac6</td>\n",
       "      <td>30122</td>\n",
       "    </tr>\n",
       "    <tr>\n",
       "      <th>23</th>\n",
       "      <td>MR.F.13C-Pal.D6.R1_Frac21</td>\n",
       "      <td>16734</td>\n",
       "    </tr>\n",
       "    <tr>\n",
       "      <th>24</th>\n",
       "      <td>MR.F.13C-Pal.D6.R1_Frac25</td>\n",
       "      <td>27810</td>\n",
       "    </tr>\n",
       "    <tr>\n",
       "      <th>25</th>\n",
       "      <td>MR.M.13C-Van.D14.R1_Frac23</td>\n",
       "      <td>12688</td>\n",
       "    </tr>\n",
       "    <tr>\n",
       "      <th>26</th>\n",
       "      <td>MR.F.13C-Cel.D6.R2_Frac7</td>\n",
       "      <td>34804</td>\n",
       "    </tr>\n",
       "    <tr>\n",
       "      <th>27</th>\n",
       "      <td>MR.F.13C-Pal.D6.R1_Frac5</td>\n",
       "      <td>22138</td>\n",
       "    </tr>\n",
       "    <tr>\n",
       "      <th>28</th>\n",
       "      <td>MR.F.13C-Cel.D6.R2_Frac26</td>\n",
       "      <td>25372</td>\n",
       "    </tr>\n",
       "    <tr>\n",
       "      <th>29</th>\n",
       "      <td>MR.F.13C-Cel.D6.R2_Frac22</td>\n",
       "      <td>8845</td>\n",
       "    </tr>\n",
       "    <tr>\n",
       "      <th>...</th>\n",
       "      <td>...</td>\n",
       "      <td>...</td>\n",
       "    </tr>\n",
       "    <tr>\n",
       "      <th>151</th>\n",
       "      <td>MR.M.13C-Van.D14.R1_Frac15</td>\n",
       "      <td>37562</td>\n",
       "    </tr>\n",
       "    <tr>\n",
       "      <th>152</th>\n",
       "      <td>MR.M.13C-Cel.D14.R2_Frac28</td>\n",
       "      <td>13095</td>\n",
       "    </tr>\n",
       "    <tr>\n",
       "      <th>153</th>\n",
       "      <td>MR.M.12C-Con.D1.R1_Frac16</td>\n",
       "      <td>14122</td>\n",
       "    </tr>\n",
       "    <tr>\n",
       "      <th>154</th>\n",
       "      <td>MR.M.13C-Cel.D14.R2_Frac21</td>\n",
       "      <td>17081</td>\n",
       "    </tr>\n",
       "    <tr>\n",
       "      <th>155</th>\n",
       "      <td>MR.M.13C-Cel.D14.R2_Frac10</td>\n",
       "      <td>13363</td>\n",
       "    </tr>\n",
       "    <tr>\n",
       "      <th>156</th>\n",
       "      <td>MR.M.13C-Cel.D14.R2_Frac20</td>\n",
       "      <td>13991</td>\n",
       "    </tr>\n",
       "    <tr>\n",
       "      <th>157</th>\n",
       "      <td>MR.M.13C-Van.D14.R1_Frac16</td>\n",
       "      <td>22229</td>\n",
       "    </tr>\n",
       "    <tr>\n",
       "      <th>158</th>\n",
       "      <td>MR.M.13C-Van.D14.R1_Frac14</td>\n",
       "      <td>25094</td>\n",
       "    </tr>\n",
       "    <tr>\n",
       "      <th>159</th>\n",
       "      <td>MR.M.13C-Cel.D14.R2_Frac6</td>\n",
       "      <td>17981</td>\n",
       "    </tr>\n",
       "    <tr>\n",
       "      <th>160</th>\n",
       "      <td>MR.M.13C-Cel.D14.R2_Frac19</td>\n",
       "      <td>29710</td>\n",
       "    </tr>\n",
       "    <tr>\n",
       "      <th>161</th>\n",
       "      <td>MR.M.13C-Cel.D14.R2_Frac18</td>\n",
       "      <td>17133</td>\n",
       "    </tr>\n",
       "    <tr>\n",
       "      <th>162</th>\n",
       "      <td>MR.M.12C-Con.D1.R1_Frac20</td>\n",
       "      <td>11734</td>\n",
       "    </tr>\n",
       "    <tr>\n",
       "      <th>163</th>\n",
       "      <td>MR.M.13C-Cel.D14.R2_Frac8</td>\n",
       "      <td>11811</td>\n",
       "    </tr>\n",
       "    <tr>\n",
       "      <th>164</th>\n",
       "      <td>MR.M.13C-Van.D14.R1_Frac18</td>\n",
       "      <td>15904</td>\n",
       "    </tr>\n",
       "    <tr>\n",
       "      <th>165</th>\n",
       "      <td>MR.M.13C-Van.D14.R1_Frac6</td>\n",
       "      <td>12734</td>\n",
       "    </tr>\n",
       "    <tr>\n",
       "      <th>166</th>\n",
       "      <td>MR.M.13C-Cel.D14.R2_Frac16</td>\n",
       "      <td>14030</td>\n",
       "    </tr>\n",
       "    <tr>\n",
       "      <th>167</th>\n",
       "      <td>MR.F.13C-Cel.D30.R3_NC</td>\n",
       "      <td>299</td>\n",
       "    </tr>\n",
       "    <tr>\n",
       "      <th>168</th>\n",
       "      <td>MR.F.13C-Pal.D6.R1_NC</td>\n",
       "      <td>120</td>\n",
       "    </tr>\n",
       "    <tr>\n",
       "      <th>169</th>\n",
       "      <td>MR.A.13C-Pal.D30.R3_Frac17</td>\n",
       "      <td>15436</td>\n",
       "    </tr>\n",
       "    <tr>\n",
       "      <th>170</th>\n",
       "      <td>MR.A.13C-Pal.D30.R3_Frac14</td>\n",
       "      <td>16678</td>\n",
       "    </tr>\n",
       "    <tr>\n",
       "      <th>171</th>\n",
       "      <td>MR.A.13C-Pal.D30.R3_Frac16</td>\n",
       "      <td>27289</td>\n",
       "    </tr>\n",
       "    <tr>\n",
       "      <th>172</th>\n",
       "      <td>MR.A.13C-Pal.D30.R3_Frac15</td>\n",
       "      <td>22202</td>\n",
       "    </tr>\n",
       "    <tr>\n",
       "      <th>173</th>\n",
       "      <td>MR.A.13C-Pal.D30.R3_Frac11</td>\n",
       "      <td>31740</td>\n",
       "    </tr>\n",
       "    <tr>\n",
       "      <th>174</th>\n",
       "      <td>MR.M.13C-Ami.D14.R1_NC_bad</td>\n",
       "      <td>104</td>\n",
       "    </tr>\n",
       "    <tr>\n",
       "      <th>175</th>\n",
       "      <td>MR.A.13C-Pal.D30.R3_Frac12</td>\n",
       "      <td>35926</td>\n",
       "    </tr>\n",
       "    <tr>\n",
       "      <th>176</th>\n",
       "      <td>MR.A.13C-Pal.D30.R3_Frac13</td>\n",
       "      <td>15294</td>\n",
       "    </tr>\n",
       "    <tr>\n",
       "      <th>177</th>\n",
       "      <td>MR.M.13C-Cel.D14.R2_NC</td>\n",
       "      <td>314</td>\n",
       "    </tr>\n",
       "    <tr>\n",
       "      <th>178</th>\n",
       "      <td>MR.F.13C-Cel.D6.R2_NC</td>\n",
       "      <td>335</td>\n",
       "    </tr>\n",
       "    <tr>\n",
       "      <th>179</th>\n",
       "      <td>MR.M.13C-Van.D14.R1_NC</td>\n",
       "      <td>331</td>\n",
       "    </tr>\n",
       "    <tr>\n",
       "      <th>180</th>\n",
       "      <td>MR.M.13C-Van.D14.R1_MC</td>\n",
       "      <td>21432</td>\n",
       "    </tr>\n",
       "  </tbody>\n",
       "</table>\n",
       "<p>181 rows × 2 columns</p>\n",
       "</div>"
      ],
      "text/plain": [
       "                             Sample  seq_count\n",
       "0    MR.M.13C-Ami.D14.R1_Frac10_bad      44591\n",
       "1         MR.M.13C-Van.D14.R1_Frac5      22264\n",
       "2    MR.M.13C-Ami.D14.R1_Frac26_bad      33565\n",
       "3         MR.F.13C-Cel.D6.R2_Frac24      16086\n",
       "4        MR.F.13C-Cel.D30.R3_Frac24      21011\n",
       "5         MR.F.13C-Pal.D6.R1_Frac24      26771\n",
       "6    MR.M.13C-Ami.D14.R1_Frac23_bad      20606\n",
       "7        MR.F.13C-Cel.D30.R3_Frac27      14551\n",
       "8         MR.F.13C-Cel.D30.R3_Frac6      65486\n",
       "9        MR.F.13C-Cel.D30.R3_Frac22      19518\n",
       "10        MR.F.13C-Pal.D6.R1_Frac26      36359\n",
       "11       MR.F.13C-Cel.D30.R3_Frac15      20476\n",
       "12        MR.F.13C-Cel.D30.R3_Frac8      45775\n",
       "13        MR.F.13C-Cel.D6.R2_Frac25      39059\n",
       "14        MR.F.13C-Cel.D6.R2_Frac13      25039\n",
       "15        MR.F.13C-Pal.D6.R1_Frac17      35013\n",
       "16        MR.F.13C-Cel.D6.R2_Frac10      39776\n",
       "17    MR.M.13C-Ami.D14.R1_Frac7_bad      16027\n",
       "18   MR.M.13C-Ami.D14.R1_Frac22_bad      10536\n",
       "19        MR.F.13C-Pal.D6.R1_Frac20      78145\n",
       "20        MR.F.13C-Cel.D30.R3_Frac9      34126\n",
       "21   MR.M.13C-Ami.D14.R1_Frac25_bad      29437\n",
       "22         MR.F.13C-Pal.D6.R1_Frac6      30122\n",
       "23        MR.F.13C-Pal.D6.R1_Frac21      16734\n",
       "24        MR.F.13C-Pal.D6.R1_Frac25      27810\n",
       "25       MR.M.13C-Van.D14.R1_Frac23      12688\n",
       "26         MR.F.13C-Cel.D6.R2_Frac7      34804\n",
       "27         MR.F.13C-Pal.D6.R1_Frac5      22138\n",
       "28        MR.F.13C-Cel.D6.R2_Frac26      25372\n",
       "29        MR.F.13C-Cel.D6.R2_Frac22       8845\n",
       "..                              ...        ...\n",
       "151      MR.M.13C-Van.D14.R1_Frac15      37562\n",
       "152      MR.M.13C-Cel.D14.R2_Frac28      13095\n",
       "153       MR.M.12C-Con.D1.R1_Frac16      14122\n",
       "154      MR.M.13C-Cel.D14.R2_Frac21      17081\n",
       "155      MR.M.13C-Cel.D14.R2_Frac10      13363\n",
       "156      MR.M.13C-Cel.D14.R2_Frac20      13991\n",
       "157      MR.M.13C-Van.D14.R1_Frac16      22229\n",
       "158      MR.M.13C-Van.D14.R1_Frac14      25094\n",
       "159       MR.M.13C-Cel.D14.R2_Frac6      17981\n",
       "160      MR.M.13C-Cel.D14.R2_Frac19      29710\n",
       "161      MR.M.13C-Cel.D14.R2_Frac18      17133\n",
       "162       MR.M.12C-Con.D1.R1_Frac20      11734\n",
       "163       MR.M.13C-Cel.D14.R2_Frac8      11811\n",
       "164      MR.M.13C-Van.D14.R1_Frac18      15904\n",
       "165       MR.M.13C-Van.D14.R1_Frac6      12734\n",
       "166      MR.M.13C-Cel.D14.R2_Frac16      14030\n",
       "167          MR.F.13C-Cel.D30.R3_NC        299\n",
       "168           MR.F.13C-Pal.D6.R1_NC        120\n",
       "169      MR.A.13C-Pal.D30.R3_Frac17      15436\n",
       "170      MR.A.13C-Pal.D30.R3_Frac14      16678\n",
       "171      MR.A.13C-Pal.D30.R3_Frac16      27289\n",
       "172      MR.A.13C-Pal.D30.R3_Frac15      22202\n",
       "173      MR.A.13C-Pal.D30.R3_Frac11      31740\n",
       "174      MR.M.13C-Ami.D14.R1_NC_bad        104\n",
       "175      MR.A.13C-Pal.D30.R3_Frac12      35926\n",
       "176      MR.A.13C-Pal.D30.R3_Frac13      15294\n",
       "177          MR.M.13C-Cel.D14.R2_NC        314\n",
       "178           MR.F.13C-Cel.D6.R2_NC        335\n",
       "179          MR.M.13C-Van.D14.R1_NC        331\n",
       "180          MR.M.13C-Van.D14.R1_MC      21432\n",
       "\n",
       "[181 rows x 2 columns]"
      ]
     },
     "execution_count": 38,
     "metadata": {},
     "output_type": "execute_result"
    }
   ],
   "source": [
    "# converting to dataframe\n",
    "df_seq_cnt = pd.DataFrame.from_dict(samp_count, orient='index')\n",
    "df_seq_cnt.index.name = 'Sample'\n",
    "df_seq_cnt.reset_index(inplace=True)\n",
    "df_seq_cnt.columns = ['Sample', 'seq_count']\n",
    "df_seq_cnt"
   ]
  },
  {
   "cell_type": "code",
   "execution_count": 39,
   "metadata": {
    "collapsed": false
   },
   "outputs": [
    {
     "data": {
      "image/png": "[encoded data removed]"
     },
     "metadata": {},
     "output_type": "display_data"
    }
   ],
   "source": [
    "%%R -i df_seq_cnt -w 800 -h 350\n",
    "# plotting all\n",
    "\n",
    "df_seq_cnt$seq_count = as.numeric(df_seq_cnt$seq_count)\n",
    "\n",
    "\n",
    "df_seq_cnt = df_seq_cnt %>% \n",
    "    #mutate(H2O = grepl('_F0$', Sample)) %>%\n",
    "    mutate(rank = min_rank(seq_count)) %>%\n",
    "    arrange(desc(rank))\n",
    "\n",
    "df_seq_cnt$Sample = factor(df_seq_cnt$Sample, levels=df_seq_cnt$Sample)\n",
    "\n",
    "ggplot(df_seq_cnt, aes(Sample, seq_count)) +\n",
    "    geom_bar(stat='identity') +\n",
    "    theme_bw() +\n",
    "    theme(\n",
    "        text = element_text(size=16),\n",
    "        axis.text.x = element_text(angle=45, hjust=1)\n",
    "    )"
   ]
  },
  {
   "cell_type": "code",
   "execution_count": 40,
   "metadata": {
    "collapsed": false
   },
   "outputs": [
    {
     "data": {
      "text/plain": [
       "                        Sample seq_count rank\n",
       "168  MR.M.12C-Con.D1.R1_Frac14      9611   14\n",
       "169  MR.M.12C-Con.D1.R1_Frac24      9563   13\n",
       "170 MR.F.13C-Cel.D30.R3_Frac19      9182   12\n",
       "171  MR.F.13C-Cel.D6.R2_Frac22      8845   11\n",
       "172 MR.M.13C-Van.D14.R1_Frac24      8662   10\n",
       "173 MR.M.13C-Van.D14.R1_Frac26      8001    9\n",
       "174  MR.M.12C-Con.D1.R1_Frac22      6945    8\n",
       "175      MR.F.13C-Cel.D6.R2_NC       335    7\n",
       "176     MR.M.13C-Van.D14.R1_NC       331    6\n",
       "177     MR.M.13C-Cel.D14.R2_NC       314    5\n",
       "178     MR.F.13C-Cel.D30.R3_NC       299    4\n",
       "179      MR.M.12C-Con.D1.R1_NC       230    3\n",
       "180      MR.F.13C-Pal.D6.R1_NC       120    2\n",
       "181 MR.M.13C-Ami.D14.R1_NC_bad       104    1\n"
      ]
     },
     "metadata": {},
     "output_type": "display_data"
    }
   ],
   "source": [
    "%%R\n",
    "df_seq_cnt[df_seq_cnt$seq_count < 10000,]"
   ]
  },
  {
   "cell_type": "code",
   "execution_count": null,
   "metadata": {
    "collapsed": true
   },
   "outputs": [],
   "source": []
  }
 ],
 "metadata": {
  "anaconda-cloud": {},
  "hide_input": true,
  "kernelspec": {
   "display_name": "Python 3",
   "language": "python",
   "name": "python3"
  },
  "language_info": {
   "codemirror_mode": {
    "name": "ipython",
    "version": 3
   },
   "file_extension": ".py",
   "mimetype": "text/x-python",
   "name": "python",
   "nbconvert_exporter": "python",
   "pygments_lexer": "ipython3",
   "version": "3.6.4"
  },
  "notify_time": "5"
 },
 "nbformat": 4,
 "nbformat_minor": 1
}
