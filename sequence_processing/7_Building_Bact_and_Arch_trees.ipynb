{
 "cells": [
  {
   "cell_type": "markdown",
   "metadata": {},
   "source": [
    "# Building phylogenetic trees"
   ]
  },
  {
   "cell_type": "markdown",
   "metadata": {},
   "source": [
    "Since we are keeping the Archaea in our data this time, we need to make our trees separately for Bacteria and Archaea."
   ]
  },
  {
   "cell_type": "markdown",
   "metadata": {},
   "source": [
    "## Setting variables"
   ]
  },
  {
   "cell_type": "code",
   "execution_count": 35,
   "metadata": {
    "collapsed": false
   },
   "outputs": [],
   "source": [
    "import os\n",
    "baseDir = '/home/seq_data/fullCyc2/amplicon/515F-806R/final_dataset'\n",
    "workDir = os.path.join(baseDir, \"phylogeny\")\n",
    "OTUFileDir = os.path.join(baseDir, \"OTU_binning\")\n",
    "OTUFile = os.path.join(OTUFileDir, 'otusn.pick.fasta')\n",
    "physeqDir = os.path.join(baseDir, \"phyloseq\")\n",
    "physeqFile = os.path.join(physeqDir, \"fullcyc2physeq.RDS\")\n",
    "\n",
    "nprocs = 20"
   ]
  },
  {
   "cell_type": "markdown",
   "metadata": {},
   "source": [
    "## Initiate"
   ]
  },
  {
   "cell_type": "code",
   "execution_count": 37,
   "metadata": {
    "collapsed": false
   },
   "outputs": [],
   "source": [
    "import numpy as np\n",
    "import pandas as pd\n",
    "from cogent.app.fasttree import build_tree_from_alignment\n",
    "from cogent import DNA, LoadSeqs\n",
    "from Bio import Entrez\n",
    "Entrez.email = \"chuck.peperanney@gmail.com\"\n",
    "from IPython.display import display, Image, SVG\n"
   ]
  },
  {
   "cell_type": "code",
   "execution_count": 15,
   "metadata": {
    "collapsed": false
   },
   "outputs": [
    {
     "name": "stdout",
     "output_type": "stream",
     "text": [
      "The rpy2.ipython extension is already loaded. To reload it, use:\n",
      "  %reload_ext rpy2.ipython\n"
     ]
    }
   ],
   "source": [
    "%load_ext rpy2.ipython\n",
    "#%load_ext pushnote"
   ]
  },
  {
   "cell_type": "code",
   "execution_count": 16,
   "metadata": {
    "collapsed": false
   },
   "outputs": [],
   "source": [
    "%%R\n",
    "library(dplyr)\n",
    "library(tidyr)\n",
    "library(tibble)\n",
    "library(phyloseq)\n",
    "library(ggplot2)\n",
    "library(ape)"
   ]
  },
  {
   "cell_type": "code",
   "execution_count": 17,
   "metadata": {
    "collapsed": false
   },
   "outputs": [
    {
     "name": "stdout",
     "output_type": "stream",
     "text": [
      "/home/seq_data/fullCyc2/amplicon/515F-806R/final_dataset/phylogeny\n"
     ]
    }
   ],
   "source": [
    "if not os.path.isdir(workDir):\n",
    "    print(\"Working directory does not exist. Making it now:\")\n",
    "    os.makedirs(workDir)\n",
    "%cd $workDir"
   ]
  },
  {
   "cell_type": "markdown",
   "metadata": {
    "collapsed": false
   },
   "source": [
    "### Check your files"
   ]
  },
  {
   "cell_type": "code",
   "execution_count": 18,
   "metadata": {
    "collapsed": false
   },
   "outputs": [
    {
     "name": "stdout",
     "output_type": "stream",
     "text": [
      ">OTU.1\r\n",
      "TACGTAGGGTGCGAGCGTTAATCGGAATTACTGGGCGTAAAGCGTGCGCAGGCGGTTTGTTAAGACCGATGTGAAATCCCCGGGCTCAACCTGGGAACTGCATTGGTGACTGGCAAGCTAGAGTATGGCAGAGGGGGGTAGAATTCCACGTGTAGCAGTGAAATGCGTAGAGATGTGGAGGAATACCGATGGCGAAGGCAGCCCCCTGGGCCAATACTGACGCTCATGCACGAAAGCGTGGGGAGCAAACAGG\r\n",
      ">OTU.2\r\n",
      "TACGTAGGGTGCAAGCGTTAATCGGAATTACTGGGCGTAAAGCGTGCGCAGGCGGTTCGCTAAGACAGATGTGAAATCCCCGGGCTTAACCTGGGAACTGCATTTGTGACTGGCGGGCTAGAGTATGGCAGAGGGGGGTAGAATTCCACGTGTAGCAGTGAAATGCGTAGAGATGTGGAGGAATACCGATGGCGAAGGCAGCCCCCTGGGCCAATACTGACGCTCATGCACGAAAGCGTGGGGAGCAAACAGG\r\n",
      ">OTU.3\r\n",
      "TACAGAGGGTGCAAGCGTTAATCGGAATTACTGGGCGTAAAGCGCGCGTAGGTGGTTTGTTAAGTTGGATGTGAAAGCCCCGGGCTCAACCTGGGAACTGCATTCAAAACTGACAAGCTAGAGTATGGTAGAGGGTGGTGGAATTTCCTGTGTAGCGGTGAAATGCGTAGATATAGGAAGGAACACCAGTGGCGAAGGCGACCACCTGGACTGATACTGACACTGAGGTGCGAAAGCGTGGGGAGCAAACAGG\r\n"
     ]
    }
   ],
   "source": [
    "!head -n 6 $OTUFile"
   ]
  },
  {
   "cell_type": "code",
   "execution_count": 19,
   "metadata": {
    "collapsed": false
   },
   "outputs": [
    {
     "name": "stdout",
     "output_type": "stream",
     "text": [
      "Number of OTUs in fasta: 30810\n"
     ]
    }
   ],
   "source": [
    "!printf \"Number of OTUs in fasta: \"\n",
    "!grep -c \">\" $OTUFile"
   ]
  },
  {
   "cell_type": "code",
   "execution_count": 20,
   "metadata": {
    "collapsed": false
   },
   "outputs": [
    {
     "data": {
      "text/plain": [
       "phyloseq-class experiment-level object\n",
       "otu_table()   OTU Table:         [ 30808 taxa and 2295 samples ]\n",
       "sample_data() Sample Data:       [ 2295 samples by 38 sample variables ]\n",
       "tax_table()   Taxonomy Table:    [ 30808 taxa by 7 taxonomic ranks ]\n"
      ]
     },
     "metadata": {},
     "output_type": "display_data"
    }
   ],
   "source": [
    "%%R -i physeqFile\n",
    "physeq = readRDS(physeqFile)\n",
    "physeq"
   ]
  },
  {
   "cell_type": "markdown",
   "metadata": {},
   "source": [
    "## Bacterial tree"
   ]
  },
  {
   "cell_type": "markdown",
   "metadata": {},
   "source": [
    "### Pull out just bacterial OTUs according to the taxonomy file"
   ]
  },
  {
   "cell_type": "code",
   "execution_count": 21,
   "metadata": {
    "collapsed": false
   },
   "outputs": [],
   "source": [
    "%%R\n",
    "tax.df = data.frame(tax_table(physeq)) %>%\n",
    "    rownames_to_column(var=\"OTU\") %>%\n",
    "    filter(Domain == \"Bacteria\") %>%\n",
    "    dplyr::select(OTU, Domain)\n",
    "\n",
    "write.table(tax.df, file=\"bacterial_OTUs.txt\", quote=F, sep=\"\\t\", row.names=F, col.names=F)"
   ]
  },
  {
   "cell_type": "code",
   "execution_count": 22,
   "metadata": {
    "collapsed": false
   },
   "outputs": [
    {
     "name": "stdout",
     "output_type": "stream",
     "text": [
      "30682\r\n"
     ]
    }
   ],
   "source": [
    "!grep -c \"OTU\" bacterial_OTUs.txt"
   ]
  },
  {
   "cell_type": "code",
   "execution_count": 23,
   "metadata": {
    "collapsed": false
   },
   "outputs": [],
   "source": [
    "!filter_fasta.py -f $OTUFile -s bacterial_OTUs.txt -o fullcyc2.bact.fasta\n"
   ]
  },
  {
   "cell_type": "code",
   "execution_count": 24,
   "metadata": {
    "collapsed": false
   },
   "outputs": [
    {
     "name": "stdout",
     "output_type": "stream",
     "text": [
      "30682\r\n"
     ]
    }
   ],
   "source": [
    "!grep -c \">\" fullcyc2.bact.fasta"
   ]
  },
  {
   "cell_type": "markdown",
   "metadata": {},
   "source": [
    "### Using SSU-Align to align seqs and masking based on alignment posterior probabilities."
   ]
  },
  {
   "cell_type": "code",
   "execution_count": 25,
   "metadata": {
    "collapsed": false
   },
   "outputs": [
    {
     "name": "stdout",
     "output_type": "stream",
     "text": [
      "# ssu-prep :: prepare SSU rRNA sequences for parallel ssu-align jobs\n",
      "# SSU-ALIGN 0.1.1 (Feb 2016)\n",
      "# Copyright (C) 2016 Howard Hughes Medical Institute\n",
      "# Freely distributed under the BSD open source license.\n",
      "# - - - - - - - - - - - - - - - - - - - - - - - - - - - - - - - - - - - -\n",
      "# command: ssu-prep -x -f -b 50 --dna --rfonly fullcyc2.bact.fasta ssu_aln 20\n",
      "# date:    Tue Jul 31 12:56:16 2018\n",
      "#\n",
      "# Validating input sequence file ... done.\n",
      "#\n",
      "# Preparing 20 ssu-align jobs ...\n",
      "# Partitioning seqs with goal of equalizing total number of nucleotides per job ...\n",
      "#\n",
      "# output file name       description                                            \n",
      "# ---------------------  -------------------------------------------------------\n",
      "  ssu_aln/fullcyc2.bact.fasta.1  partition  1 FASTA sequence file (1534 seqs; 388327 nt)\n",
      "  ssu_aln/fullcyc2.bact.fasta.2  partition  2 FASTA sequence file (1534 seqs; 388357 nt)\n",
      "  ssu_aln/fullcyc2.bact.fasta.3  partition  3 FASTA sequence file (1535 seqs; 388490 nt)\n",
      "  ssu_aln/fullcyc2.bact.fasta.4  partition  4 FASTA sequence file (1534 seqs; 388336 nt)\n",
      "  ssu_aln/fullcyc2.bact.fasta.5  partition  5 FASTA sequence file (1534 seqs; 388393 nt)\n",
      "  ssu_aln/fullcyc2.bact.fasta.6  partition  6 FASTA sequence file (1534 seqs; 388293 nt)\n",
      "  ssu_aln/fullcyc2.bact.fasta.7  partition  7 FASTA sequence file (1534 seqs; 388353 nt)\n",
      "  ssu_aln/fullcyc2.bact.fasta.8  partition  8 FASTA sequence file (1534 seqs; 388352 nt)\n",
      "  ssu_aln/fullcyc2.bact.fasta.9  partition  9 FASTA sequence file (1535 seqs; 388485 nt)\n",
      "  ssu_aln/fullcyc2.bact.fasta.10  partition 10 FASTA sequence file (1534 seqs; 388362 nt)\n",
      "  ssu_aln/fullcyc2.bact.fasta.11  partition 11 FASTA sequence file (1534 seqs; 388328 nt)\n",
      "  ssu_aln/fullcyc2.bact.fasta.12  partition 12 FASTA sequence file (1534 seqs; 388242 nt)\n",
      "  ssu_aln/fullcyc2.bact.fasta.13  partition 13 FASTA sequence file (1534 seqs; 388226 nt)\n",
      "  ssu_aln/fullcyc2.bact.fasta.14  partition 14 FASTA sequence file (1534 seqs; 388275 nt)\n",
      "  ssu_aln/fullcyc2.bact.fasta.15  partition 15 FASTA sequence file (1535 seqs; 388410 nt)\n",
      "  ssu_aln/fullcyc2.bact.fasta.16  partition 16 FASTA sequence file (1534 seqs; 388189 nt)\n",
      "  ssu_aln/fullcyc2.bact.fasta.17  partition 17 FASTA sequence file (1534 seqs; 388198 nt)\n",
      "  ssu_aln/fullcyc2.bact.fasta.18  partition 18 FASTA sequence file (1534 seqs; 388276 nt)\n",
      "  ssu_aln/fullcyc2.bact.fasta.19  partition 19 FASTA sequence file (1534 seqs; 388220 nt)\n",
      "  ssu_aln/fullcyc2.bact.fasta.20  partition 20 FASTA sequence file (1533 seqs; 387932 nt)\n",
      "  ssu_aln.ssu-align.sh   shell script that will execute 20 ssu-align jobs\n",
      "#\n",
      "################################################################################\n",
      "# To execute all 20 ssu-align jobs, run the shell script with the command:\n",
      "#\t\"ssu_aln.ssu-align.sh\"\n",
      "# (it is an executable file)\n",
      "################################################################################\n",
      "#\n",
      "# The final job will merge the output from all jobs once they are all finished.\n",
      "#\n",
      "# If one or more jobs fail: rerun the failed jobs, wait for them to finish,\n",
      "# and then perform manual merge from this directory by executing:\n",
      "#\tssu-merge ssu_aln\n",
      "#\n",
      "# List of executed commands saved in:     ssu_aln/ssu_aln.ssu-prep.log.\n",
      "# Output printed to the screen saved in:  ssu_aln/ssu_aln.ssu-prep.sum.\n",
      "#\n",
      "# CPU time:  00:00:00.68  (hh:mm:ss)\n",
      "# \n"
     ]
    }
   ],
   "source": [
    "!ssu-prep -f -x -b 50 --rfonly --dna fullcyc2.bact.fasta ssu_aln $nprocs"
   ]
  },
  {
   "cell_type": "code",
   "execution_count": 26,
   "metadata": {
    "collapsed": false
   },
   "outputs": [
    {
     "name": "stdout",
     "output_type": "stream",
     "text": [
      "# Executing: ssu-align -b 50 --dna --rfonly ssu_aln/fullcyc2.bact.fasta.1 ssu_aln/ssu_aln.1 > /dev/null &\n",
      "# Executing: ssu-align -b 50 --dna --rfonly ssu_aln/fullcyc2.bact.fasta.2 ssu_aln/ssu_aln.2 > /dev/null &\n",
      "# Executing: ssu-align -b 50 --dna --rfonly ssu_aln/fullcyc2.bact.fasta.3 ssu_aln/ssu_aln.3 > /dev/null &\n",
      "# Executing: ssu-align -b 50 --dna --rfonly ssu_aln/fullcyc2.bact.fasta.4 ssu_aln/ssu_aln.4 > /dev/null &\n",
      "# Executing: ssu-align -b 50 --dna --rfonly ssu_aln/fullcyc2.bact.fasta.5 ssu_aln/ssu_aln.5 > /dev/null &\n",
      "# Executing: ssu-align -b 50 --dna --rfonly ssu_aln/fullcyc2.bact.fasta.6 ssu_aln/ssu_aln.6 > /dev/null &\n",
      "# Executing: ssu-align -b 50 --dna --rfonly ssu_aln/fullcyc2.bact.fasta.7 ssu_aln/ssu_aln.7 > /dev/null &\n",
      "# Executing: ssu-align -b 50 --dna --rfonly ssu_aln/fullcyc2.bact.fasta.8 ssu_aln/ssu_aln.8 > /dev/null &\n",
      "# Executing: ssu-align -b 50 --dna --rfonly ssu_aln/fullcyc2.bact.fasta.9 ssu_aln/ssu_aln.9 > /dev/null &\n",
      "# Executing: ssu-align -b 50 --dna --rfonly ssu_aln/fullcyc2.bact.fasta.10 ssu_aln/ssu_aln.10 > /dev/null &\n",
      "# Executing: ssu-align -b 50 --dna --rfonly ssu_aln/fullcyc2.bact.fasta.11 ssu_aln/ssu_aln.11 > /dev/null &\n",
      "# Executing: ssu-align -b 50 --dna --rfonly ssu_aln/fullcyc2.bact.fasta.12 ssu_aln/ssu_aln.12 > /dev/null &\n",
      "# Executing: ssu-align -b 50 --dna --rfonly ssu_aln/fullcyc2.bact.fasta.13 ssu_aln/ssu_aln.13 > /dev/null &\n",
      "# Executing: ssu-align -b 50 --dna --rfonly ssu_aln/fullcyc2.bact.fasta.14 ssu_aln/ssu_aln.14 > /dev/null &\n",
      "# Executing: ssu-align -b 50 --dna --rfonly ssu_aln/fullcyc2.bact.fasta.15 ssu_aln/ssu_aln.15 > /dev/null &\n",
      "# Executing: ssu-align -b 50 --dna --rfonly ssu_aln/fullcyc2.bact.fasta.16 ssu_aln/ssu_aln.16 > /dev/null &\n",
      "# Executing: ssu-align -b 50 --dna --rfonly ssu_aln/fullcyc2.bact.fasta.17 ssu_aln/ssu_aln.17 > /dev/null &\n",
      "# Executing: ssu-align -b 50 --dna --rfonly ssu_aln/fullcyc2.bact.fasta.18 ssu_aln/ssu_aln.18 > /dev/null &\n",
      "# Executing: ssu-align -b 50 --dna --rfonly ssu_aln/fullcyc2.bact.fasta.19 ssu_aln/ssu_aln.19 > /dev/null &\n",
      "# Executing: ssu-align --merge 20 -b 50 --dna --rfonly ssu_aln/fullcyc2.bact.fasta.20 ssu_aln/ssu_aln.20\n",
      "# ssu-align :: align SSU rRNA sequences\n",
      "# SSU-ALIGN 0.1.1 (Feb 2016)\n",
      "# Copyright (C) 2016 Howard Hughes Medical Institute\n",
      "# Freely distributed under the BSD open source license.\n",
      "# - - - - - - - - - - - - - - - - - - - - - - - - - - - - - - - - - - - -\n",
      "# command: ssu-align --merge 20 -b 50 --dna --rfonly ssu_aln/fullcyc2.bact.fasta.20 ssu_aln/ssu_aln.20\n",
      "# date:    Tue Jul 31 12:56:18 2018\n",
      "#\n",
      "# Validating input sequence file ... done.\n",
      "#\n",
      "# Stage 1: Determining SSU start/end positions and best-matching models...\n",
      "#\n",
      "# output file name             description                                \n",
      "# ---------------------------  -------------------------------------------\n",
      "  ssu_aln.20.tab               locations/scores of hits defined by HMM(s)\n",
      "  ssu_aln.20.bacteria.hitlist  list of sequences to align with bacteria CM\n",
      "  ssu_aln.20.bacteria.fa          1533 sequences to align with bacteria CM\n",
      "#\n",
      "# Stage 2: Aligning each sequence to its best-matching model...\n",
      "#\n",
      "# output file name             description\n",
      "# ---------------------------  ---------------------------------------\n",
      "  ssu_aln.20.bacteria.stk      bacteria alignment\n",
      "  ssu_aln.20.bacteria.cmalign  bacteria cmalign output\n",
      "  ssu_aln.20.bacteria.ifile    bacteria insert info\n",
      "  ssu_aln.20.scores            list of CM/HMM scores for each sequence\n",
      "#\n",
      "# Summary statistics:\n",
      "#\n",
      "# model or       number  fraction        average   average               \n",
      "# category      of seqs  of total         length  coverage    nucleotides\n",
      "# ------------  -------  --------  -------------  --------  -------------\n",
      "  *input*          1533    1.0000         253.05    1.0000         387932\n",
      "#\n",
      "  archaea             0    0.0000              -         -              0\n",
      "  bacteria         1533    1.0000         251.79    0.9950         386001\n",
      "  eukarya             0    0.0000              -         -              0\n",
      "#\n",
      "  *all-models*     1533    1.0000         251.79    0.9950         386001\n",
      "  *no-models*         0    0.0000              -         -              0\n",
      "#\n",
      "# Speed statistics:\n",
      "#\n",
      "# stage      num seqs  seq/sec  seq/sec/model    nucleotides    nt/sec\n",
      "# ---------  --------  -------  -------------  -------------  --------\n",
      "  search         1533   24.449          8.150         387932    6186.9\n",
      "  alignment      1533   21.993         21.993         386001    5537.6\n",
      "#\n",
      "#\n",
      "# List of executed commands saved in:     ssu_aln.20.ssu-align.log.\n",
      "# Output printed to the screen saved in:  ssu_aln.20.ssu-align.sum.\n",
      "#\n",
      "# All output files created in directory ./ssu_aln/ssu_aln.20/\n",
      "#\n",
      "# CPU time (search):     00:01:02.70  (hh:mm:ss)\n",
      "# CPU time (alignment):  00:01:09.70  (hh:mm:ss)\n",
      "# CPU time (total):      00:02:12.75  (hh:mm:ss)\n",
      "#\n",
      "################################################################################\n",
      "#\n",
      "# Alignments successfully created.\n",
      "#\n",
      "# Checking/waiting for other jobs to finish before merging...\n",
      "#\n",
      "# Job  3 (dir: ssu_aln/ssu_aln.3 ) completed successfully! 19/20 still incomplete.\n",
      "# Job  7 (dir: ssu_aln/ssu_aln.7 ) completed successfully! 18/20 still incomplete.\n",
      "# Job 10 (dir: ssu_aln/ssu_aln.10) completed successfully! 17/20 still incomplete.\n",
      "# Job 12 (dir: ssu_aln/ssu_aln.12) completed successfully! 16/20 still incomplete.\n",
      "# Job 14 (dir: ssu_aln/ssu_aln.14) completed successfully! 15/20 still incomplete.\n",
      "# Job 16 (dir: ssu_aln/ssu_aln.16) completed successfully! 14/20 still incomplete.\n",
      "# Job 17 (dir: ssu_aln/ssu_aln.17) completed successfully! 13/20 still incomplete.\n",
      "# Job 19 (dir: ssu_aln/ssu_aln.19) completed successfully! 12/20 still incomplete.\n",
      "# Job 20 (dir: ssu_aln/ssu_aln.20) completed successfully! 11/20 still incomplete.\n",
      "# Job  2 (dir: ssu_aln/ssu_aln.2 ) completed successfully! 10/20 still incomplete.\n",
      "# Job  4 (dir: ssu_aln/ssu_aln.4 ) completed successfully!  9/20 still incomplete.\n",
      "# Job  6 (dir: ssu_aln/ssu_aln.6 ) completed successfully!  8/20 still incomplete.\n",
      "# Job  9 (dir: ssu_aln/ssu_aln.9 ) completed successfully!  7/20 still incomplete.\n",
      "# Job  1 (dir: ssu_aln/ssu_aln.1 ) completed successfully!  6/20 still incomplete.\n",
      "# Job  5 (dir: ssu_aln/ssu_aln.5 ) completed successfully!  5/20 still incomplete.\n",
      "# Job  8 (dir: ssu_aln/ssu_aln.8 ) completed successfully!  4/20 still incomplete.\n",
      "# Job 11 (dir: ssu_aln/ssu_aln.11) completed successfully!  3/20 still incomplete.\n",
      "# Job 13 (dir: ssu_aln/ssu_aln.13) completed successfully!  2/20 still incomplete.\n",
      "# Job 15 (dir: ssu_aln/ssu_aln.15) completed successfully!  1/20 still incomplete.\n",
      "# Job 18 (dir: ssu_aln/ssu_aln.18) completed successfully!  0/20 still incomplete.\n",
      "#\n",
      "# All 20 jobs successfully completed.\n",
      "# About to merge their output:\n",
      "#\n",
      "# Executing:  ssu-merge ssu_aln\n",
      "#\n",
      "################################################################################\n",
      "#\n",
      "# ssu-merge :: merge SSU rRNA alignments\n",
      "# SSU-ALIGN 0.1.1 (Feb 2016)\n",
      "# Copyright (C) 2016 Howard Hughes Medical Institute\n",
      "# Freely distributed under the BSD open source license.\n",
      "# - - - - - - - - - - - - - - - - - - - - - - - - - - - - - - - - - - - -\n",
      "# command: ssu-merge ssu_aln\n",
      "# date:    Tue Jul 31 12:58:36 2018\n",
      "#\n",
      "# Merging files from 20 ssu-align runs...\n",
      "#\n",
      "#                                     # files     # seqs\n",
      "# merged file name          CM name    merged     merged\n",
      "# ------------------------  --------  -------  ---------\n",
      "  ssu_aln.tab               -              20          -\n",
      "  ssu_aln.scores            -              20          -\n",
      "  ssu_aln.ssu-align.sum     -              20          -\n",
      "  ssu_aln.ssu-align.log     -              20          -\n",
      "#\n",
      "  ssu_aln.bacteria.fa       bacteria       20      30682\n",
      "  ssu_aln.bacteria.hitlist  bacteria       20      30682\n",
      "  ssu_aln.bacteria.cmalign  bacteria       20      30682\n",
      "  ssu_aln.bacteria.ifile    bacteria       20      30682\n",
      "  ssu_aln.bacteria.stk      bacteria       20      30682\n",
      "#\n",
      "#\n",
      "# Summary statistics:\n",
      "#\n",
      "# model or       number  fraction        average   average               \n",
      "# category      of seqs  of total         length  coverage    nucleotides\n",
      "# ------------  -------  --------  -------------  --------  -------------\n",
      "  *input*         30682    1.0000         253.11    1.0000        7766044\n",
      "#\n",
      "  archaea             0    0.0000              -         -              0\n",
      "  bacteria        30682    1.0000         251.53    0.9937        7717408\n",
      "  eukarya             0    0.0000              -         -              0\n",
      "#\n",
      "  *all-models*    30682    1.0000         251.53    0.9937        7717408\n",
      "  *no-models*         0    0.0000              -         -              0\n",
      "#\n",
      "# Speed statistics:\n",
      "#\n",
      "# stage      num seqs  seq/sec  seq/sec/model    nucleotides    nt/sec\n",
      "# ---------  --------  -------  -------------  -------------  --------\n",
      "  search        30682  30682.000      10227.333        7766044  7766044.0\n",
      "  alignment     30682  30682.000      30682.000        7717408  7717408.0\n",
      "#\n",
      "# Summed ssu-align CPU time (search):     00:00:00.00  (hh:mm:ss)\n",
      "# Summed ssu-align CPU time (alignment):  00:00:00.00  (hh:mm:ss)\n",
      "# Summed ssu-align CPU time (total):      00:00:00.00  (hh:mm:ss)\n",
      "#\n",
      "# Cleaning up by removing original files that were just merged ... done.\n",
      "#\n",
      "# List of executed commands saved in:     ssu_aln.ssu-merge.log.\n",
      "# Output printed to the screen saved in:  ssu_aln.ssu-merge.sum.\n",
      "#\n",
      "# All output files created in directory ./ssu_aln/\n",
      "#\n",
      "# CPU time:  00:00:00.77  (hh:mm:ss)\n",
      "# \n"
     ]
    }
   ],
   "source": [
    "!./ssu_aln.ssu-align.sh"
   ]
  },
  {
   "cell_type": "code",
   "execution_count": 27,
   "metadata": {
    "collapsed": false
   },
   "outputs": [
    {
     "name": "stdout",
     "output_type": "stream",
     "text": [
      "# ssu-mask :: mask SSU rRNA alignments\n",
      "# SSU-ALIGN 0.1.1 (Feb 2016)\n",
      "# Copyright (C) 2016 Howard Hughes Medical Institute\n",
      "# Freely distributed under the BSD open source license.\n",
      "# - - - - - - - - - - - - - - - - - - - - - - - - - - - - - - - - - - - -\n",
      "# command: ssu-mask --afa --dna ssu_aln\n",
      "# date:    Tue Jul 31 12:58:37 2018\n",
      "#\n",
      "# Masking alignments based on posterior probabilities...\n",
      "#\n",
      "#                                                     mask    \n",
      "#                                                 ------------\n",
      "# file name                  in/out  type  #cols  incl.  excl.\n",
      "# -------------------------  ------  ----  -----  -----  -----\n",
      "  ssu_aln.bacteria.stk        input   aln   1582      -      -\n",
      "  ssu_aln.bacteria.mask      output  mask   1582    248   1334\n",
      "  ssu_aln.bacteria.mask.pdf  output   pdf   1582    248   1334\n",
      "  ssu_aln.bacteria.mask.afa  output   aln    248      -      -\n",
      "#\n",
      "# All attempts to draw structure diagrams of masks were successful.\n",
      "#\n",
      "# List of executed commands saved in:     ssu_aln.ssu-mask.log.\n",
      "# Output printed to the screen saved in:  ssu_aln.ssu-mask.sum.\n",
      "#\n",
      "# All output files created in directory ./ssu_aln/\n",
      "#\n",
      "# CPU time:  00:00:01.51  (hh:mm:ss)\n",
      "# \n"
     ]
    }
   ],
   "source": [
    "!ssu-mask --dna --afa ssu_aln"
   ]
  },
  {
   "cell_type": "markdown",
   "metadata": {},
   "source": [
    "### Using Sulfolobus as the root (acc. X90478)."
   ]
  },
  {
   "cell_type": "code",
   "execution_count": 28,
   "metadata": {
    "collapsed": false
   },
   "outputs": [],
   "source": [
    "sso_acc = \"X90478\"\n",
    "sso_fa = Entrez.efetch(db=\"nucleotide\", id=sso_acc, rettype=\"fasta\", retmode=\"text\").readlines()"
   ]
  },
  {
   "cell_type": "code",
   "execution_count": 29,
   "metadata": {
    "collapsed": false
   },
   "outputs": [],
   "source": [
    "out = open(os.path.join(workDir, 'X90478.fasta'), 'w')\n",
    "sso_fa_namestrip = sso_fa[1:]\n",
    "sso_fa_namestrip.insert(0,\">%s\\n\"%sso_acc)\n",
    "out.writelines(sso_fa_namestrip)\n",
    "out.close()"
   ]
  },
  {
   "cell_type": "code",
   "execution_count": 30,
   "metadata": {
    "collapsed": false
   },
   "outputs": [
    {
     "name": "stdout",
     "output_type": "stream",
     "text": [
      ">X90478\r\n",
      "TCCTGCCGGTCCCGACCGCTATCGGGGTGGGGCTAAGCCATGGGAGTCGTACGCTCCCGGGCAAGGGAGC\r\n",
      "GTGGCGGACGGCTGAGTAACACGTGGCTAACCTACCCTGAGGAGGGAGATAACCCCGGGAAACTGGGGAT\r\n",
      "AATCTCCCATAGGCGAGGAGTCCTGGAACGGTTCCTCGCTGAAAGGCTCATGGGCTATTCCCCGCTCATG\r\n"
     ]
    }
   ],
   "source": [
    "!head -n 4 X90478.fasta"
   ]
  },
  {
   "cell_type": "markdown",
   "metadata": {},
   "source": [
    "### Align the outgroup to the same cm (use the same mask that was established earlier)."
   ]
  },
  {
   "cell_type": "code",
   "execution_count": 31,
   "metadata": {
    "collapsed": false
   },
   "outputs": [
    {
     "name": "stdout",
     "output_type": "stream",
     "text": [
      "# ssu-align :: align SSU rRNA sequences\n",
      "# SSU-ALIGN 0.1.1 (Feb 2016)\n",
      "# Copyright (C) 2016 Howard Hughes Medical Institute\n",
      "# Freely distributed under the BSD open source license.\n",
      "# - - - - - - - - - - - - - - - - - - - - - - - - - - - - - - - - - - - -\n",
      "# command: ssu-align -f -n bacteria --dna --rfonly X90478.fasta sso_aln\n",
      "# date:    Tue Jul 31 12:58:40 2018\n",
      "#\n",
      "# Validating input sequence file ... done.\n",
      "#\n",
      "# Stage 1: Determining SSU start/end positions and best-matching models...\n",
      "#\n",
      "# output file name          description                                \n",
      "# ------------------------  -------------------------------------------\n",
      "  sso_aln.tab               locations/scores of hits defined by HMM(s)\n",
      "  sso_aln.bacteria.hitlist  list of sequences to align with bacteria CM\n",
      "  sso_aln.bacteria.fa             1 sequence  to align with bacteria CM\n",
      "#\n",
      "# Stage 2: Aligning each sequence to its best-matching model...\n",
      "#\n",
      "# output file name          description\n",
      "# ------------------------  ---------------------------------------\n",
      "  sso_aln.bacteria.stk      bacteria alignment\n",
      "  sso_aln.bacteria.cmalign  bacteria cmalign output\n",
      "  sso_aln.bacteria.ifile    bacteria insert info\n",
      "  sso_aln.scores            list of CM/HMM scores for each sequence\n",
      "#\n",
      "# Summary statistics:\n",
      "#\n",
      "# model or       number  fraction        average   average               \n",
      "# category      of seqs  of total         length  coverage    nucleotides\n",
      "# ------------  -------  --------  -------------  --------  -------------\n",
      "  *input*             1    1.0000        1436.00    1.0000           1436\n",
      "#\n",
      "  bacteria            1    1.0000        1305.00    0.9088           1305\n",
      "#\n",
      "  *all-models*        1    1.0000        1305.00    0.9088           1305\n",
      "  *no-models*         0    0.0000              -         -              0\n",
      "#\n",
      "# Speed statistics:\n",
      "#\n",
      "# stage      num seqs  seq/sec  seq/sec/model    nucleotides    nt/sec\n",
      "# ---------  --------  -------  -------------  -------------  --------\n",
      "  search            1    4.481          4.481           1436    6434.3\n",
      "  alignment         1    1.587          1.587           1305    2071.2\n",
      "#\n",
      "#\n",
      "# List of executed commands saved in:     sso_aln.ssu-align.log.\n",
      "# Output printed to the screen saved in:  sso_aln.ssu-align.sum.\n",
      "#\n",
      "# All output files created in directory ./sso_aln/\n",
      "#\n",
      "# CPU time (search):     00:00:00.22  (hh:mm:ss)\n",
      "# CPU time (alignment):  00:00:00.63  (hh:mm:ss)\n",
      "# CPU time (total):      00:00:00.93  (hh:mm:ss)\n",
      "#\n"
     ]
    }
   ],
   "source": [
    "!ssu-align -f -n bacteria --dna --rfonly X90478.fasta sso_aln"
   ]
  },
  {
   "cell_type": "code",
   "execution_count": 32,
   "metadata": {
    "collapsed": false
   },
   "outputs": [
    {
     "name": "stdout",
     "output_type": "stream",
     "text": [
      "# ssu-mask :: mask SSU rRNA alignments\n",
      "# SSU-ALIGN 0.1.1 (Feb 2016)\n",
      "# Copyright (C) 2016 Howard Hughes Medical Institute\n",
      "# Freely distributed under the BSD open source license.\n",
      "# - - - - - - - - - - - - - - - - - - - - - - - - - - - - - - - - - - - -\n",
      "# command: ssu-mask -s ssu_aln/ssu_aln.bacteria.mask --afa --dna sso_aln/\n",
      "# date:    Tue Jul 31 12:58:41 2018\n",
      "#\n",
      "# Masking alignments using pre-existing masks...\n",
      "#\n",
      "#                                                     mask    \n",
      "#                                                 ------------\n",
      "# file name                  in/out  type  #cols  incl.  excl.\n",
      "# -------------------------  ------  ----  -----  -----  -----\n",
      "  sso_aln.bacteria.stk        input   aln   1582      -      -\n",
      "  ssu_aln.bacteria.mask       input  mask   1582    248   1334\n",
      "  sso_aln.bacteria.mask.pdf  output   pdf   1582    248   1334\n",
      "  sso_aln.bacteria.mask.afa  output   aln    248      -      -\n",
      "#\n",
      "# All attempts to draw structure diagrams of masks were successful.\n",
      "#\n",
      "# List of executed commands saved in:     sso_aln.ssu-mask.log.\n",
      "# Output printed to the screen saved in:  sso_aln.ssu-mask.sum.\n",
      "#\n",
      "# All output files created in directory ./sso_aln/\n",
      "#\n",
      "# CPU time:  00:00:00.27  (hh:mm:ss)\n",
      "# \n"
     ]
    }
   ],
   "source": [
    "!ssu-mask -s ssu_aln/ssu_aln.bacteria.mask --dna --afa sso_aln/"
   ]
  },
  {
   "cell_type": "code",
   "execution_count": 33,
   "metadata": {
    "collapsed": false
   },
   "outputs": [],
   "source": [
    "!cat sso_aln/sso_aln.bacteria.mask.afa ssu_aln/ssu_aln.bacteria.mask.afa > aln_for_bact_tree.fasta"
   ]
  },
  {
   "cell_type": "code",
   "execution_count": 34,
   "metadata": {
    "collapsed": false
   },
   "outputs": [
    {
     "name": "stdout",
     "output_type": "stream",
     "text": [
      ">X90478\r\n",
      "TACCAGCCCCGCGAG---TGGTCGGGATTACTGGGCCTAAAGCGCCCGTAGCCGGCCCGA\r\n",
      "CAAGTCACTCCTTAAAGACCCCGGCTCAACCGGGGGAAGGGTGATACTGTCGGGCTAGGG\r\n",
      "GGCGGGAGAGGCCAGCGGTACTCCCGGAGTAGGGGCGAAATCCTCAGATCTCGGGAGGAC\r\n",
      "CACCAGTGGCGAAAGCGGCTGGCTAGAACGCCCGACGGTGAGGGGCGAAAGCCGGGGCAG\r\n",
      "CAAAAGGG\r\n",
      ">OTU.1\r\n",
      "TACGTAGGGTGCGAGCGTTAATCGGAATTACTGGGCGTAAAGCGTGCGCAGGCGGTTTGT\r\n",
      "TAAGACCGATGTGAAATCCCCGGGCTCAACCTGGGAACATTGGTGACTGGCAAGCTAGAG\r\n",
      "TATGGCAGAGGGGGGTAGAATTCCACGTGTAGCAGTGAAATGCGTAGAGATGTGGAGGAA\r\n",
      "TACCGATGGCGAAGGCAGCCCCCTGGGCCAACTGACGCTCATGCACGAAAGCGTGGGGAG\r\n",
      "CAAACAGG\r\n",
      ">OTU.2\r\n",
      "TACGTAGGGTGCAAGCGTTAATCGGAATTACTGGGCGTAAAGCGTGCGCAGGCGGTTCGC\r\n",
      "TAAGACAGATGTGAAATCCCCGGGCTTAACCTGGGAACATTTGTGACTGGCGGGCTAGAG\r\n",
      "TATGGCAGAGGGGGGTAGAATTCCACGTGTAGCAGTGAAATGCGTAGAGATGTGGAGGAA\r\n",
      "TACCGATGGCGAAGGCAGCCCCCTGGGCCAACTGACGCTCATGCACGAAAGCGTGGGGAG\r\n",
      "CAAACAGG\r\n",
      ">OTU.3\r\n",
      "TACAGAGGGTGCAAGCGTTAATCGGAATTACTGGGCGTAAAGCGCGCGTAGGTGGTTTGT\r\n"
     ]
    }
   ],
   "source": [
    "!head -n 20 aln_for_bact_tree.fasta"
   ]
  },
  {
   "cell_type": "markdown",
   "metadata": {},
   "source": [
    "### Inferring and rooting the tree\n",
    "\n",
    "* 1000 'bootstrap' replicates (default)"
   ]
  },
  {
   "cell_type": "code",
   "execution_count": 23,
   "metadata": {
    "collapsed": false
   },
   "outputs": [],
   "source": [
    "tree_file = 'fullcyc2.bacteria.tre'\n",
    "!make_phylogeny.py -i aln_for_bact_tree.fasta -t fasttree -o $tree_file -l tree.log"
   ]
  },
  {
   "cell_type": "code",
   "execution_count": 24,
   "metadata": {
    "collapsed": false
   },
   "outputs": [
    {
     "data": {
      "text/plain": [
       "'fullcyc2.bacteria.tre'"
      ]
     },
     "execution_count": 24,
     "metadata": {},
     "output_type": "execute_result"
    }
   ],
   "source": [
    "tree_file"
   ]
  },
  {
   "cell_type": "markdown",
   "metadata": {},
   "source": [
    "## Using cogent"
   ]
  },
  {
   "cell_type": "code",
   "execution_count": 39,
   "metadata": {
    "collapsed": false
   },
   "outputs": [],
   "source": [
    "aln = LoadSeqs(os.path.join(workDir, 'aln_for_bact_tree.fasta'), moltype=DNA)\n",
    "t_unroot = build_tree_from_alignment(aln, moltype=DNA)"
   ]
  },
  {
   "cell_type": "code",
   "execution_count": 40,
   "metadata": {
    "collapsed": true
   },
   "outputs": [],
   "source": [
    "t_rooted = t_unroot.rootedWithTip(sso_acc)"
   ]
  },
  {
   "cell_type": "code",
   "execution_count": 41,
   "metadata": {
    "collapsed": true
   },
   "outputs": [],
   "source": [
    "t_rooted.writeToFile(os.path.join(workDir, 'fullcyc2.bacteria.cogent.tree'))"
   ]
  },
  {
   "cell_type": "markdown",
   "metadata": {
    "collapsed": true
   },
   "source": [
    "## Archaeal tree"
   ]
  },
  {
   "cell_type": "markdown",
   "metadata": {},
   "source": [
    "### Pull out just Archaeal OTUs according to the taxonomy file"
   ]
  },
  {
   "cell_type": "code",
   "execution_count": 42,
   "metadata": {
    "collapsed": true
   },
   "outputs": [],
   "source": [
    "%%R\n",
    "tax.df = data.frame(tax_table(physeq)) %>%\n",
    "    rownames_to_column(var=\"OTU\") %>%\n",
    "    filter(Domain == \"Archaea\") %>%\n",
    "    dplyr::select(OTU, Domain)\n",
    "\n",
    "write.table(tax.df, file=\"archaeal_OTUs.txt\", quote=F, sep=\"\\t\", row.names=F, col.names=F)"
   ]
  },
  {
   "cell_type": "code",
   "execution_count": 43,
   "metadata": {
    "collapsed": false
   },
   "outputs": [
    {
     "name": "stdout",
     "output_type": "stream",
     "text": [
      "126\r\n"
     ]
    }
   ],
   "source": [
    "!grep -c \"OTU\" archaeal_OTUs.txt"
   ]
  },
  {
   "cell_type": "code",
   "execution_count": 44,
   "metadata": {
    "collapsed": true
   },
   "outputs": [],
   "source": [
    "!filter_fasta.py -f $OTUFile -s archaeal_OTUs.txt -o fullcyc2.arch.fasta\n"
   ]
  },
  {
   "cell_type": "code",
   "execution_count": 45,
   "metadata": {
    "collapsed": false
   },
   "outputs": [
    {
     "name": "stdout",
     "output_type": "stream",
     "text": [
      "126\r\n"
     ]
    }
   ],
   "source": [
    "!grep -c \">\" fullcyc2.arch.fasta"
   ]
  },
  {
   "cell_type": "markdown",
   "metadata": {},
   "source": [
    "### Using SSU-Align to align seqs and masking based on alignment posterior probabilities.\n"
   ]
  },
  {
   "cell_type": "code",
   "execution_count": 46,
   "metadata": {
    "collapsed": false
   },
   "outputs": [
    {
     "name": "stdout",
     "output_type": "stream",
     "text": [
      "# ssu-prep :: prepare SSU rRNA sequences for parallel ssu-align jobs\n",
      "# SSU-ALIGN 0.1.1 (Feb 2016)\n",
      "# Copyright (C) 2016 Howard Hughes Medical Institute\n",
      "# Freely distributed under the BSD open source license.\n",
      "# - - - - - - - - - - - - - - - - - - - - - - - - - - - - - - - - - - - -\n",
      "# command: ssu-prep -x -f -b 50 --dna --rfonly fullcyc2.arch.fasta ssu_aln 20\n",
      "# date:    Tue Jul 31 13:25:54 2018\n",
      "#\n",
      "# Validating input sequence file ... done.\n",
      "#\n",
      "# Preparing 20 ssu-align jobs ...\n",
      "# Partitioning seqs with goal of equalizing total number of nucleotides per job ...\n",
      "#\n",
      "# output file name       description                                       \n",
      "# ---------------------  --------------------------------------------------\n",
      "  ssu_aln/fullcyc2.arch.fasta.1  partition  1 FASTA sequence file (7 seqs; 1771 nt)\n",
      "  ssu_aln/fullcyc2.arch.fasta.2  partition  2 FASTA sequence file (7 seqs; 1771 nt)\n",
      "  ssu_aln/fullcyc2.arch.fasta.3  partition  3 FASTA sequence file (7 seqs; 1772 nt)\n",
      "  ssu_aln/fullcyc2.arch.fasta.4  partition  4 FASTA sequence file (7 seqs; 1773 nt)\n",
      "  ssu_aln/fullcyc2.arch.fasta.5  partition  5 FASTA sequence file (7 seqs; 1775 nt)\n",
      "  ssu_aln/fullcyc2.arch.fasta.6  partition  6 FASTA sequence file (7 seqs; 1775 nt)\n",
      "  ssu_aln/fullcyc2.arch.fasta.7  partition  7 FASTA sequence file (7 seqs; 1774 nt)\n",
      "  ssu_aln/fullcyc2.arch.fasta.8  partition  8 FASTA sequence file (6 seqs; 1519 nt)\n",
      "  ssu_aln/fullcyc2.arch.fasta.9  partition  9 FASTA sequence file (6 seqs; 1519 nt)\n",
      "  ssu_aln/fullcyc2.arch.fasta.10  partition 10 FASTA sequence file (6 seqs; 1522 nt)\n",
      "  ssu_aln/fullcyc2.arch.fasta.11  partition 11 FASTA sequence file (6 seqs; 1522 nt)\n",
      "  ssu_aln/fullcyc2.arch.fasta.12  partition 12 FASTA sequence file (6 seqs; 1524 nt)\n",
      "  ssu_aln/fullcyc2.arch.fasta.13  partition 13 FASTA sequence file (6 seqs; 1521 nt)\n",
      "  ssu_aln/fullcyc2.arch.fasta.14  partition 14 FASTA sequence file (6 seqs; 1521 nt)\n",
      "  ssu_aln/fullcyc2.arch.fasta.15  partition 15 FASTA sequence file (6 seqs; 1521 nt)\n",
      "  ssu_aln/fullcyc2.arch.fasta.16  partition 16 FASTA sequence file (6 seqs; 1553 nt)\n",
      "  ssu_aln/fullcyc2.arch.fasta.17  partition 17 FASTA sequence file (6 seqs; 1518 nt)\n",
      "  ssu_aln/fullcyc2.arch.fasta.18  partition 18 FASTA sequence file (6 seqs; 1518 nt)\n",
      "  ssu_aln/fullcyc2.arch.fasta.19  partition 19 FASTA sequence file (6 seqs; 1517 nt)\n",
      "  ssu_aln/fullcyc2.arch.fasta.20  partition 20 FASTA sequence file (5 seqs; 1269 nt)\n",
      "  ssu_aln.ssu-align.sh   shell script that will execute 20 ssu-align jobs\n",
      "#\n",
      "################################################################################\n",
      "# To execute all 20 ssu-align jobs, run the shell script with the command:\n",
      "#\t\"ssu_aln.ssu-align.sh\"\n",
      "# (it is an executable file)\n",
      "################################################################################\n",
      "#\n",
      "# The final job will merge the output from all jobs once they are all finished.\n",
      "#\n",
      "# If one or more jobs fail: rerun the failed jobs, wait for them to finish,\n",
      "# and then perform manual merge from this directory by executing:\n",
      "#\tssu-merge ssu_aln\n",
      "#\n",
      "# List of executed commands saved in:     ssu_aln/ssu_aln.ssu-prep.log.\n",
      "# Output printed to the screen saved in:  ssu_aln/ssu_aln.ssu-prep.sum.\n",
      "#\n",
      "# CPU time:  00:00:00.13  (hh:mm:ss)\n",
      "# \n"
     ]
    }
   ],
   "source": [
    "!ssu-prep -f -x -b 50 --rfonly --dna fullcyc2.arch.fasta ssu_aln 20 "
   ]
  },
  {
   "cell_type": "code",
   "execution_count": 47,
   "metadata": {
    "collapsed": false
   },
   "outputs": [
    {
     "name": "stdout",
     "output_type": "stream",
     "text": [
      "# Executing: ssu-align -b 50 --dna --rfonly ssu_aln/fullcyc2.arch.fasta.1 ssu_aln/ssu_aln.1 > /dev/null &\n",
      "# Executing: ssu-align -b 50 --dna --rfonly ssu_aln/fullcyc2.arch.fasta.2 ssu_aln/ssu_aln.2 > /dev/null &\n",
      "# Executing: ssu-align -b 50 --dna --rfonly ssu_aln/fullcyc2.arch.fasta.3 ssu_aln/ssu_aln.3 > /dev/null &\n",
      "# Executing: ssu-align -b 50 --dna --rfonly ssu_aln/fullcyc2.arch.fasta.4 ssu_aln/ssu_aln.4 > /dev/null &\n",
      "# Executing: ssu-align -b 50 --dna --rfonly ssu_aln/fullcyc2.arch.fasta.5 ssu_aln/ssu_aln.5 > /dev/null &\n",
      "# Executing: ssu-align -b 50 --dna --rfonly ssu_aln/fullcyc2.arch.fasta.6 ssu_aln/ssu_aln.6 > /dev/null &\n",
      "# Executing: ssu-align -b 50 --dna --rfonly ssu_aln/fullcyc2.arch.fasta.7 ssu_aln/ssu_aln.7 > /dev/null &\n",
      "# Executing: ssu-align -b 50 --dna --rfonly ssu_aln/fullcyc2.arch.fasta.8 ssu_aln/ssu_aln.8 > /dev/null &\n",
      "# Executing: ssu-align -b 50 --dna --rfonly ssu_aln/fullcyc2.arch.fasta.9 ssu_aln/ssu_aln.9 > /dev/null &\n",
      "# Executing: ssu-align -b 50 --dna --rfonly ssu_aln/fullcyc2.arch.fasta.10 ssu_aln/ssu_aln.10 > /dev/null &\n",
      "# Executing: ssu-align -b 50 --dna --rfonly ssu_aln/fullcyc2.arch.fasta.11 ssu_aln/ssu_aln.11 > /dev/null &\n",
      "# Executing: ssu-align -b 50 --dna --rfonly ssu_aln/fullcyc2.arch.fasta.12 ssu_aln/ssu_aln.12 > /dev/null &\n",
      "# Executing: ssu-align -b 50 --dna --rfonly ssu_aln/fullcyc2.arch.fasta.13 ssu_aln/ssu_aln.13 > /dev/null &\n",
      "# Executing: ssu-align -b 50 --dna --rfonly ssu_aln/fullcyc2.arch.fasta.14 ssu_aln/ssu_aln.14 > /dev/null &\n",
      "# Executing: ssu-align -b 50 --dna --rfonly ssu_aln/fullcyc2.arch.fasta.15 ssu_aln/ssu_aln.15 > /dev/null &\n",
      "# Executing: ssu-align -b 50 --dna --rfonly ssu_aln/fullcyc2.arch.fasta.16 ssu_aln/ssu_aln.16 > /dev/null &\n",
      "# Executing: ssu-align -b 50 --dna --rfonly ssu_aln/fullcyc2.arch.fasta.17 ssu_aln/ssu_aln.17 > /dev/null &\n",
      "# Executing: ssu-align -b 50 --dna --rfonly ssu_aln/fullcyc2.arch.fasta.18 ssu_aln/ssu_aln.18 > /dev/null &\n",
      "# Executing: ssu-align -b 50 --dna --rfonly ssu_aln/fullcyc2.arch.fasta.19 ssu_aln/ssu_aln.19 > /dev/null &\n",
      "# Executing: ssu-align --merge 20 -b 50 --dna --rfonly ssu_aln/fullcyc2.arch.fasta.20 ssu_aln/ssu_aln.20\n",
      "# ssu-align :: align SSU rRNA sequences\n",
      "# SSU-ALIGN 0.1.1 (Feb 2016)\n",
      "# Copyright (C) 2016 Howard Hughes Medical Institute\n",
      "# Freely distributed under the BSD open source license.\n",
      "# - - - - - - - - - - - - - - - - - - - - - - - - - - - - - - - - - - - -\n",
      "# command: ssu-align --merge 20 -b 50 --dna --rfonly ssu_aln/fullcyc2.arch.fasta.20 ssu_aln/ssu_aln.20\n",
      "# date:    Tue Jul 31 13:25:55 2018\n",
      "#\n",
      "# Validating input sequence file ... done.\n",
      "#\n",
      "# Stage 1: Determining SSU start/end positions and best-matching models...\n",
      "#\n",
      "# output file name             description                                \n",
      "# ---------------------------  -------------------------------------------\n",
      "  ssu_aln.20.tab               locations/scores of hits defined by HMM(s)\n",
      "  ssu_aln.20.archaea.hitlist   list of sequences to align with archaea CM\n",
      "  ssu_aln.20.archaea.fa              5 sequences to align with archaea CM\n",
      "#\n",
      "# Stage 2: Aligning each sequence to its best-matching model...\n",
      "#\n",
      "# output file name             description\n",
      "# ---------------------------  ---------------------------------------\n",
      "  ssu_aln.20.archaea.stk       archaea alignment\n",
      "  ssu_aln.20.archaea.cmalign   archaea cmalign output\n",
      "  ssu_aln.20.archaea.ifile     archaea insert info\n",
      "  ssu_aln.20.scores            list of CM/HMM scores for each sequence\n",
      "#\n",
      "# Summary statistics:\n",
      "#\n",
      "# model or       number  fraction        average   average               \n",
      "# category      of seqs  of total         length  coverage    nucleotides\n",
      "# ------------  -------  --------  -------------  --------  -------------\n",
      "  *input*             5    1.0000         253.80    1.0000           1269\n",
      "#\n",
      "  archaea             5    1.0000         253.00    0.9968           1265\n",
      "  bacteria            0    0.0000              -         -              0\n",
      "  eukarya             0    0.0000              -         -              0\n",
      "#\n",
      "  *all-models*        5    1.0000         253.00    0.9968           1265\n",
      "  *no-models*         0    0.0000              -         -              0\n",
      "#\n",
      "# Speed statistics:\n",
      "#\n",
      "# stage      num seqs  seq/sec  seq/sec/model    nucleotides    nt/sec\n",
      "# ---------  --------  -------  -------------  -------------  --------\n",
      "  search            5   10.987          3.662           1269    2788.5\n",
      "  alignment         5   16.049         16.049           1265    4060.4\n",
      "#\n",
      "#\n",
      "# List of executed commands saved in:     ssu_aln.20.ssu-align.log.\n",
      "# Output printed to the screen saved in:  ssu_aln.20.ssu-align.sum.\n",
      "#\n",
      "# All output files created in directory ./ssu_aln/ssu_aln.20/\n",
      "#\n",
      "# CPU time (search):     00:00:00.46  (hh:mm:ss)\n",
      "# CPU time (alignment):  00:00:00.31  (hh:mm:ss)\n",
      "# CPU time (total):      00:00:00.87  (hh:mm:ss)\n",
      "#\n",
      "################################################################################\n",
      "#\n",
      "# Alignments successfully created.\n",
      "#\n",
      "# Checking/waiting for other jobs to finish before merging...\n",
      "#\n",
      "# Job 10 (dir: ssu_aln/ssu_aln.10) completed successfully! 19/20 still incomplete.\n",
      "# Job 20 (dir: ssu_aln/ssu_aln.20) completed successfully! 18/20 still incomplete.\n",
      "# Job  1 (dir: ssu_aln/ssu_aln.1 ) completed successfully! 17/20 still incomplete.\n",
      "# Job  2 (dir: ssu_aln/ssu_aln.2 ) completed successfully! 16/20 still incomplete.\n",
      "# Job  3 (dir: ssu_aln/ssu_aln.3 ) completed successfully! 15/20 still incomplete.\n",
      "# Job  4 (dir: ssu_aln/ssu_aln.4 ) completed successfully! 14/20 still incomplete.\n",
      "# Job  5 (dir: ssu_aln/ssu_aln.5 ) completed successfully! 13/20 still incomplete.\n",
      "# Job  6 (dir: ssu_aln/ssu_aln.6 ) completed successfully! 12/20 still incomplete.\n",
      "# Job  7 (dir: ssu_aln/ssu_aln.7 ) completed successfully! 11/20 still incomplete.\n",
      "# Job  8 (dir: ssu_aln/ssu_aln.8 ) completed successfully! 10/20 still incomplete.\n",
      "# Job  9 (dir: ssu_aln/ssu_aln.9 ) completed successfully!  9/20 still incomplete.\n",
      "# Job 11 (dir: ssu_aln/ssu_aln.11) completed successfully!  8/20 still incomplete.\n",
      "# Job 12 (dir: ssu_aln/ssu_aln.12) completed successfully!  7/20 still incomplete.\n",
      "# Job 13 (dir: ssu_aln/ssu_aln.13) completed successfully!  6/20 still incomplete.\n",
      "# Job 14 (dir: ssu_aln/ssu_aln.14) completed successfully!  5/20 still incomplete.\n",
      "# Job 15 (dir: ssu_aln/ssu_aln.15) completed successfully!  4/20 still incomplete.\n",
      "# Job 16 (dir: ssu_aln/ssu_aln.16) completed successfully!  3/20 still incomplete.\n",
      "# Job 17 (dir: ssu_aln/ssu_aln.17) completed successfully!  2/20 still incomplete.\n",
      "# Job 18 (dir: ssu_aln/ssu_aln.18) completed successfully!  1/20 still incomplete.\n",
      "# Job 19 (dir: ssu_aln/ssu_aln.19) completed successfully!  0/20 still incomplete.\n",
      "#\n",
      "# All 20 jobs successfully completed.\n",
      "# About to merge their output:\n",
      "#\n",
      "# Executing:  ssu-merge ssu_aln\n",
      "#\n",
      "################################################################################\n",
      "#\n",
      "# ssu-merge :: merge SSU rRNA alignments\n",
      "# SSU-ALIGN 0.1.1 (Feb 2016)\n",
      "# Copyright (C) 2016 Howard Hughes Medical Institute\n",
      "# Freely distributed under the BSD open source license.\n",
      "# - - - - - - - - - - - - - - - - - - - - - - - - - - - - - - - - - - - -\n",
      "# command: ssu-merge ssu_aln\n",
      "# date:    Tue Jul 31 13:25:59 2018\n",
      "#\n",
      "# Merging files from 20 ssu-align runs...\n",
      "#\n",
      "#                                     # files     # seqs\n",
      "# merged file name          CM name    merged     merged\n",
      "# ------------------------  --------  -------  ---------\n",
      "  ssu_aln.tab               -              20          -\n",
      "  ssu_aln.scores            -              20          -\n",
      "  ssu_aln.ssu-align.sum     -              20          -\n",
      "  ssu_aln.ssu-align.log     -              20          -\n",
      "#\n",
      "  ssu_aln.archaea.fa        archaea        20        126\n",
      "  ssu_aln.archaea.hitlist   archaea        20        126\n",
      "  ssu_aln.archaea.cmalign   archaea        20        126\n",
      "  ssu_aln.archaea.ifile     archaea        20        126\n",
      "  ssu_aln.archaea.stk       archaea        20        126\n",
      "#\n",
      "#\n",
      "# Summary statistics:\n",
      "#\n",
      "# model or       number  fraction        average   average               \n",
      "# category      of seqs  of total         length  coverage    nucleotides\n",
      "# ------------  -------  --------  -------------  --------  -------------\n",
      "  *input*           126    1.0000         253.61    1.0000          31955\n",
      "#\n",
      "  archaea           126    1.0000         252.83    0.9969          31856\n",
      "  bacteria            0    0.0000              -         -              0\n",
      "  eukarya             0    0.0000              -         -              0\n",
      "#\n",
      "  *all-models*      126    1.0000         252.83    0.9969          31856\n",
      "  *no-models*         0    0.0000              -         -              0\n",
      "#\n",
      "# Speed statistics:\n",
      "#\n",
      "# stage      num seqs  seq/sec  seq/sec/model    nucleotides    nt/sec\n",
      "# ---------  --------  -------  -------------  -------------  --------\n",
      "  search          126  126.000         42.000          31955   31955.0\n",
      "  alignment       126  126.000        126.000          31856   31856.0\n",
      "#\n",
      "# Summed ssu-align CPU time (search):     00:00:00.00  (hh:mm:ss)\n",
      "# Summed ssu-align CPU time (alignment):  00:00:00.00  (hh:mm:ss)\n",
      "# Summed ssu-align CPU time (total):      00:00:00.00  (hh:mm:ss)\n",
      "#\n",
      "# Cleaning up by removing original files that were just merged ... done.\n",
      "#\n",
      "# List of executed commands saved in:     ssu_aln.ssu-merge.log.\n",
      "# Output printed to the screen saved in:  ssu_aln.ssu-merge.sum.\n",
      "#\n",
      "# All output files created in directory ./ssu_aln/\n",
      "#\n",
      "# CPU time:  00:00:00.07  (hh:mm:ss)\n",
      "# \n"
     ]
    }
   ],
   "source": [
    "!./ssu_aln.ssu-align.sh"
   ]
  },
  {
   "cell_type": "code",
   "execution_count": 48,
   "metadata": {
    "collapsed": false
   },
   "outputs": [
    {
     "name": "stdout",
     "output_type": "stream",
     "text": [
      "# ssu-mask :: mask SSU rRNA alignments\n",
      "# SSU-ALIGN 0.1.1 (Feb 2016)\n",
      "# Copyright (C) 2016 Howard Hughes Medical Institute\n",
      "# Freely distributed under the BSD open source license.\n",
      "# - - - - - - - - - - - - - - - - - - - - - - - - - - - - - - - - - - - -\n",
      "# command: ssu-mask --afa --dna ssu_aln\n",
      "# date:    Tue Jul 31 13:25:59 2018\n",
      "#\n",
      "# Masking alignments based on posterior probabilities...\n",
      "#\n",
      "#                                                    mask    \n",
      "#                                                ------------\n",
      "# file name                 in/out  type  #cols  incl.  excl.\n",
      "# ------------------------  ------  ----  -----  -----  -----\n",
      "  ssu_aln.archaea.stk        input   aln   1508      -      -\n",
      "  ssu_aln.archaea.mask      output  mask   1508    250   1258\n",
      "  ssu_aln.archaea.mask.pdf  output   pdf   1508    250   1258\n",
      "  ssu_aln.archaea.mask.afa  output   aln    250      -      -\n",
      "#\n",
      "# All attempts to draw structure diagrams of masks were successful.\n",
      "#\n",
      "# List of executed commands saved in:     ssu_aln.ssu-mask.log.\n",
      "# Output printed to the screen saved in:  ssu_aln.ssu-mask.sum.\n",
      "#\n",
      "# All output files created in directory ./ssu_aln/\n",
      "#\n",
      "# CPU time:  00:00:00.37  (hh:mm:ss)\n",
      "# \n"
     ]
    }
   ],
   "source": [
    "!ssu-mask --dna --afa ssu_aln"
   ]
  },
  {
   "cell_type": "markdown",
   "metadata": {},
   "source": [
    "### Using E. coli as the root (acc. J01859)"
   ]
  },
  {
   "cell_type": "code",
   "execution_count": 49,
   "metadata": {
    "collapsed": true
   },
   "outputs": [],
   "source": [
    "sso_acc = \"J01859\"\n",
    "sso_fa = Entrez.efetch(db=\"nucleotide\", id=sso_acc, rettype=\"fasta\", retmode=\"text\").readlines()"
   ]
  },
  {
   "cell_type": "code",
   "execution_count": 50,
   "metadata": {
    "collapsed": true
   },
   "outputs": [],
   "source": [
    "out = open(os.path.join(workDir, 'J01859.fasta'), 'w')\n",
    "sso_fa_namestrip = sso_fa[1:]\n",
    "sso_fa_namestrip.insert(0,\">%s\\n\"%sso_acc)\n",
    "out.writelines(sso_fa_namestrip)\n",
    "out.close()"
   ]
  },
  {
   "cell_type": "code",
   "execution_count": 51,
   "metadata": {
    "collapsed": false
   },
   "outputs": [
    {
     "name": "stdout",
     "output_type": "stream",
     "text": [
      ">J01859\r\n",
      "AAATTGAAGAGTTTGATCATGGCTCAGATTGAACGCTGGCGGCAGGCCTAACACATGCAAGTCGAACGGT\r\n",
      "AACAGGAAGAAGCTTGCTCTTTGCTGACGAGTGGCGGACGGGTGAGTAATGTCTGGGAAACTGCCTGATG\r\n",
      "GAGGGGGATAACTACTGGAAACGGTAGCTAATACCGCATAACGTCGCAAGACCAAAGAGGGGGACCTTCG\r\n"
     ]
    }
   ],
   "source": [
    "!head -n 4 J01859.fasta"
   ]
  },
  {
   "cell_type": "markdown",
   "metadata": {},
   "source": [
    "### Align the outgroup to the same cm (use the same mask that was established earlier)."
   ]
  },
  {
   "cell_type": "code",
   "execution_count": 52,
   "metadata": {
    "collapsed": false
   },
   "outputs": [
    {
     "name": "stdout",
     "output_type": "stream",
     "text": [
      "# ssu-align :: align SSU rRNA sequences\n",
      "# SSU-ALIGN 0.1.1 (Feb 2016)\n",
      "# Copyright (C) 2016 Howard Hughes Medical Institute\n",
      "# Freely distributed under the BSD open source license.\n",
      "# - - - - - - - - - - - - - - - - - - - - - - - - - - - - - - - - - - - -\n",
      "# command: ssu-align -f -n archaea --dna --rfonly J01859.fasta sso_aln\n",
      "# date:    Tue Jul 31 13:26:02 2018\n",
      "#\n",
      "# Validating input sequence file ... done.\n",
      "#\n",
      "# Stage 1: Determining SSU start/end positions and best-matching models...\n",
      "#\n",
      "# output file name         description                                \n",
      "# -----------------------  -------------------------------------------\n",
      "  sso_aln.tab              locations/scores of hits defined by HMM(s)\n",
      "  sso_aln.archaea.hitlist  list of sequences to align with archaea CM\n",
      "  sso_aln.archaea.fa             1 sequence  to align with archaea CM\n",
      "#\n",
      "# Stage 2: Aligning each sequence to its best-matching model...\n",
      "#\n",
      "# output file name         description\n",
      "# -----------------------  ---------------------------------------\n",
      "  sso_aln.archaea.stk      archaea alignment\n",
      "  sso_aln.archaea.cmalign  archaea cmalign output\n",
      "  sso_aln.archaea.ifile    archaea insert info\n",
      "  sso_aln.scores           list of CM/HMM scores for each sequence\n",
      "#\n",
      "# Summary statistics:\n",
      "#\n",
      "# model or       number  fraction        average   average               \n",
      "# category      of seqs  of total         length  coverage    nucleotides\n",
      "# ------------  -------  --------  -------------  --------  -------------\n",
      "  *input*             1    1.0000        1541.00    1.0000           1541\n",
      "#\n",
      "  archaea             1    1.0000        1486.00    0.9643           1486\n",
      "#\n",
      "  *all-models*        1    1.0000        1486.00    0.9643           1486\n",
      "  *no-models*         0    0.0000              -         -              0\n",
      "#\n",
      "# Speed statistics:\n",
      "#\n",
      "# stage      num seqs  seq/sec  seq/sec/model    nucleotides    nt/sec\n",
      "# ---------  --------  -------  -------------  -------------  --------\n",
      "  search            1    4.620          4.620           1541    7118.9\n",
      "  alignment         1    1.290          1.290           1486    1916.9\n",
      "#\n",
      "#\n",
      "# List of executed commands saved in:     sso_aln.ssu-align.log.\n",
      "# Output printed to the screen saved in:  sso_aln.ssu-align.sum.\n",
      "#\n",
      "# All output files created in directory ./sso_aln/\n",
      "#\n",
      "# CPU time (search):     00:00:00.22  (hh:mm:ss)\n",
      "# CPU time (alignment):  00:00:00.78  (hh:mm:ss)\n",
      "# CPU time (total):      00:00:01.07  (hh:mm:ss)\n",
      "#\n"
     ]
    }
   ],
   "source": [
    "!ssu-align -f -n archaea --dna --rfonly J01859.fasta sso_aln"
   ]
  },
  {
   "cell_type": "code",
   "execution_count": 53,
   "metadata": {
    "collapsed": false
   },
   "outputs": [
    {
     "name": "stdout",
     "output_type": "stream",
     "text": [
      "# ssu-mask :: mask SSU rRNA alignments\n",
      "# SSU-ALIGN 0.1.1 (Feb 2016)\n",
      "# Copyright (C) 2016 Howard Hughes Medical Institute\n",
      "# Freely distributed under the BSD open source license.\n",
      "# - - - - - - - - - - - - - - - - - - - - - - - - - - - - - - - - - - - -\n",
      "# command: ssu-mask -s ssu_aln/ssu_aln.archaea.mask --afa --dna sso_aln/\n",
      "# date:    Tue Jul 31 13:26:03 2018\n",
      "#\n",
      "# Masking alignments using pre-existing masks...\n",
      "#\n",
      "#                                                    mask    \n",
      "#                                                ------------\n",
      "# file name                 in/out  type  #cols  incl.  excl.\n",
      "# ------------------------  ------  ----  -----  -----  -----\n",
      "  sso_aln.archaea.stk        input   aln   1508      -      -\n",
      "  ssu_aln.archaea.mask       input  mask   1508    250   1258\n",
      "  sso_aln.archaea.mask.pdf  output   pdf   1508    250   1258\n",
      "  sso_aln.archaea.mask.afa  output   aln    250      -      -\n",
      "#\n",
      "# All attempts to draw structure diagrams of masks were successful.\n",
      "#\n",
      "# List of executed commands saved in:     sso_aln.ssu-mask.log.\n",
      "# Output printed to the screen saved in:  sso_aln.ssu-mask.sum.\n",
      "#\n",
      "# All output files created in directory ./sso_aln/\n",
      "#\n",
      "# CPU time:  00:00:00.36  (hh:mm:ss)\n",
      "# \n"
     ]
    }
   ],
   "source": [
    "!ssu-mask -s ssu_aln/ssu_aln.archaea.mask --dna --afa sso_aln/"
   ]
  },
  {
   "cell_type": "code",
   "execution_count": 54,
   "metadata": {
    "collapsed": true
   },
   "outputs": [],
   "source": [
    "!cat sso_aln/sso_aln.archaea.mask.afa ssu_aln/ssu_aln.archaea.mask.afa > aln_for_arch_tree.fasta"
   ]
  },
  {
   "cell_type": "code",
   "execution_count": 55,
   "metadata": {
    "collapsed": false,
    "scrolled": true
   },
   "outputs": [
    {
     "name": "stdout",
     "output_type": "stream",
     "text": [
      ">J01859\r\n",
      "TACGGAGGGTGCAAGCGTTAATCGGAATTACTGGGCGTAAAGCGCACGCAGGCGGTTTGT\r\n",
      "TAAGTCAGATGTGAAATCCCCGGGCTCAACCTGGGAACATCTGATACTGGCAAGCTTGAG\r\n",
      "TCTCGTAGAGGGGGGTAGAATTCCAGGTGTAGCGGTGAAATGCGTAGAGATCTGGAGGAA\r\n",
      "TACCGGTGGCGAAGGCGGCCCCCTGGACGAAGACTGACGCTCAGGTGCGAAAGCGTGGGG\r\n",
      "AGCAAACAGG\r\n",
      ">OTU.36\r\n",
      "TACCAGCACCCCGAGTGGTCGGGACGTTTATTGGGCCTAAAGCATCCGTAGCCGGTTCTA\r\n",
      "CAAGTCTTCCGTTAAATCCACCTGCTTAACAGATGGGCGGAAGATACTATAGAGCTAGGA\r\n",
      "GGCGGGAGAGGCAAGCGGTACTCGATGGGTAGGGGTAAAATCCGTTGATCCATTGAAGAC\r\n"
     ]
    }
   ],
   "source": [
    "!head aln_for_arch_tree.fasta"
   ]
  },
  {
   "cell_type": "markdown",
   "metadata": {},
   "source": [
    "### Inferring and rooting the tree\n",
    "\n",
    "* 1000 'bootstrap' replicates (default)"
   ]
  },
  {
   "cell_type": "code",
   "execution_count": 45,
   "metadata": {
    "collapsed": true
   },
   "outputs": [],
   "source": [
    "tree_file = 'fullcyc2.archaea.tre'\n",
    "!make_phylogeny.py -i aln_for_arch_tree.fasta -t fasttree -o $tree_file -l tree.log"
   ]
  },
  {
   "cell_type": "code",
   "execution_count": 46,
   "metadata": {
    "collapsed": false
   },
   "outputs": [
    {
     "data": {
      "text/plain": [
       "'fullcyc2.archaea.tre'"
      ]
     },
     "execution_count": 46,
     "metadata": {},
     "output_type": "execute_result"
    }
   ],
   "source": [
    "tree_file"
   ]
  },
  {
   "cell_type": "code",
   "execution_count": 52,
   "metadata": {
    "collapsed": false
   },
   "outputs": [
    {
     "data": {
      "image/png": "[encoded data removed]"
     },
     "metadata": {},
     "output_type": "display_data"
    }
   ],
   "source": [
    "%%R -w 700 -h 1000 -i tree_file\n",
    "tree = read.tree(tree_file)\n",
    "plot(tree)"
   ]
  },
  {
   "cell_type": "markdown",
   "metadata": {},
   "source": [
    "### Using Cogent"
   ]
  },
  {
   "cell_type": "code",
   "execution_count": 57,
   "metadata": {
    "collapsed": true
   },
   "outputs": [],
   "source": [
    "aln = LoadSeqs(os.path.join(workDir, 'aln_for_arch_tree.fasta'), moltype=DNA)\n",
    "t_unroot = build_tree_from_alignment(aln, moltype=DNA)"
   ]
  },
  {
   "cell_type": "code",
   "execution_count": 58,
   "metadata": {
    "collapsed": true
   },
   "outputs": [],
   "source": [
    "t_rooted = t_unroot.rootedWithTip(sso_acc)"
   ]
  },
  {
   "cell_type": "code",
   "execution_count": 59,
   "metadata": {
    "collapsed": true
   },
   "outputs": [],
   "source": [
    "t_rooted.writeToFile(os.path.join(workDir, 'fullcyc2.archaea.cogent.tree'))"
   ]
  },
  {
   "cell_type": "code",
   "execution_count": 60,
   "metadata": {
    "collapsed": false
   },
   "outputs": [
    {
     "data": {
      "image/png": "[encoded data removed]"
     },
     "metadata": {},
     "output_type": "display_data"
    }
   ],
   "source": [
    "%%R -w 700 -h 1000\n",
    "tree = read.tree(\"fullcyc2.archaea.cogent.tree\")\n",
    "plot(tree)"
   ]
  },
  {
   "cell_type": "code",
   "execution_count": null,
   "metadata": {
    "collapsed": true
   },
   "outputs": [],
   "source": []
  }
 ],
 "metadata": {
  "kernelspec": {
   "display_name": "Python 2",
   "language": "python",
   "name": "python2"
  },
  "language_info": {
   "codemirror_mode": {
    "name": "ipython",
    "version": 2
   },
   "file_extension": ".py",
   "mimetype": "text/x-python",
   "name": "python",
   "nbconvert_exporter": "python",
   "pygments_lexer": "ipython2",
   "version": "2.7.14"
  },
  "notify_time": "5"
 },
 "nbformat": 4,
 "nbformat_minor": 0
}
