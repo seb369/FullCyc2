{
 "cells": [
  {
   "cell_type": "markdown",
   "metadata": {},
   "source": [
    "# Description\n",
    "\n",
    "* Quality control on MiSeq run data\n",
    "  * post-merging\n",
    "  * post-demultiplexing"
   ]
  },
  {
   "cell_type": "markdown",
   "metadata": {},
   "source": [
    "# Setting variables"
   ]
  },
  {
   "cell_type": "code",
   "execution_count": 1,
   "metadata": {
    "collapsed": true
   },
   "outputs": [],
   "source": [
    "import os\n",
    "\n",
    "baseDir = '/home/seq_data/fullCyc2/amplicon/515F-806R/final_dataset/library_QC/fullCyc2_lib8'\n",
    "workDir = os.path.join(baseDir, 'QC')\n",
    "seqFile = os.path.join(baseDir, 'pear_merged-fullCyc2_lib8.assembled.dmult.fastq')\n",
    "\n",
    "# number of processors\n",
    "nprocs = 20\n",
    "\n",
    "# max expected error\n",
    "maxee = 1"
   ]
  },
  {
   "cell_type": "markdown",
   "metadata": {},
   "source": [
    "# Init"
   ]
  },
  {
   "cell_type": "code",
   "execution_count": 2,
   "metadata": {
    "collapsed": true
   },
   "outputs": [],
   "source": [
    "import re\n",
    "import pandas as pd"
   ]
  },
  {
   "cell_type": "code",
   "execution_count": 3,
   "metadata": {
    "collapsed": false
   },
   "outputs": [],
   "source": [
    "%load_ext rpy2.ipython\n",
    "#%load_ext pushnote"
   ]
  },
  {
   "cell_type": "code",
   "execution_count": 4,
   "metadata": {
    "collapsed": false
   },
   "outputs": [
    {
     "name": "stderr",
     "output_type": "stream",
     "text": [
      "/home/sam/anaconda3/lib/python3.6/site-packages/rpy2/rinterface/__init__.py:145: RRuntimeWarning: \n",
      "Attaching package: ‘dplyr’\n",
      "\n",
      "\n",
      "  warnings.warn(x, RRuntimeWarning)\n",
      "/home/sam/anaconda3/lib/python3.6/site-packages/rpy2/rinterface/__init__.py:145: RRuntimeWarning: The following objects are masked from ‘package:stats’:\n",
      "\n",
      "    filter, lag\n",
      "\n",
      "\n",
      "  warnings.warn(x, RRuntimeWarning)\n",
      "/home/sam/anaconda3/lib/python3.6/site-packages/rpy2/rinterface/__init__.py:145: RRuntimeWarning: The following objects are masked from ‘package:base’:\n",
      "\n",
      "    intersect, setdiff, setequal, union\n",
      "\n",
      "\n",
      "  warnings.warn(x, RRuntimeWarning)\n",
      "/home/sam/anaconda3/lib/python3.6/site-packages/rpy2/rinterface/__init__.py:145: RRuntimeWarning: \n",
      "Attaching package: ‘gridExtra’\n",
      "\n",
      "\n",
      "  warnings.warn(x, RRuntimeWarning)\n",
      "/home/sam/anaconda3/lib/python3.6/site-packages/rpy2/rinterface/__init__.py:145: RRuntimeWarning: The following object is masked from ‘package:dplyr’:\n",
      "\n",
      "    combine\n",
      "\n",
      "\n",
      "  warnings.warn(x, RRuntimeWarning)\n"
     ]
    }
   ],
   "source": [
    "%%R\n",
    "library(ggplot2)\n",
    "library(dplyr)\n",
    "library(tidyr)\n",
    "library(gridExtra)"
   ]
  },
  {
   "cell_type": "code",
   "execution_count": 5,
   "metadata": {
    "collapsed": false
   },
   "outputs": [
    {
     "name": "stdout",
     "output_type": "stream",
     "text": [
      "/home/seq_data/fullCyc2/amplicon/515F-806R/final_dataset/library_QC/fullCyc2_lib8/QC\n"
     ]
    }
   ],
   "source": [
    "if not os.path.isdir(workDir):\n",
    "    os.makedirs(workDir)\n",
    "%cd $workDir"
   ]
  },
  {
   "cell_type": "code",
   "execution_count": 6,
   "metadata": {
    "collapsed": false
   },
   "outputs": [
    {
     "name": "stdout",
     "output_type": "stream",
     "text": [
      "File exists: /home/seq_data/fullCyc2/amplicon/515F-806R/final_dataset/library_QC/fullCyc2_lib8/pear_merged-fullCyc2_lib8.assembled.dmult.fastq\n"
     ]
    }
   ],
   "source": [
    "# symlinking demult seq file into CQ\n",
    "tmp = os.path.join(baseDir, seqFile)\n",
    "if not os.path.isfile(seqFile):\n",
    "    tmp2 = os.path.split(tmp)[1]\n",
    "    os.symlink(tmp, tmp2)\n",
    "else:\n",
    "    print ('File exists: {}'.format(os.path.join(workDir, seqFile)))"
   ]
  },
  {
   "cell_type": "markdown",
   "metadata": {},
   "source": [
    "# Merged read quality filtering"
   ]
  },
  {
   "cell_type": "markdown",
   "metadata": {},
   "source": [
    "## Discard sequences that exceed max expected error theshold"
   ]
  },
  {
   "cell_type": "code",
   "execution_count": 7,
   "metadata": {
    "collapsed": false
   },
   "outputs": [
    {
     "data": {
      "text/plain": [
       "'pear_merged-fullCyc2_lib8.assembled.dmult_maxee1.fasta'"
      ]
     },
     "execution_count": 7,
     "metadata": {},
     "output_type": "execute_result"
    }
   ],
   "source": [
    "qcFile = os.path.split(seqFile)[1]\n",
    "qcFile = os.path.splitext(qcFile)[0] + '_maxee{}.fasta'.format(maxee)\n",
    "qcFile"
   ]
  },
  {
   "cell_type": "code",
   "execution_count": 8,
   "metadata": {
    "collapsed": true
   },
   "outputs": [],
   "source": [
    "%%bash -s \"$seqFile\" \"$nprocs\" \"$maxee\" \"$qcFile\"\n",
    "\n",
    "mkdir /home/sam/tmp/tmpdir1\n",
    "trap \"rm -r /home/sam/tmp/tmpdir1\" 1 2 3 15\n",
    "split -d -l 2000000 $1 /home/sam/tmp/tmpdir1/Block\n",
    "\n",
    "mkdir /home/sam/tmp/tmpdir2\n",
    "trap \"rm -r /home/sam/tmp/tmpdir2\" 1 2 3 15\n",
    "ls /home/sam/tmp/tmpdir1/Block?? | parallel --gnu -j $2 -k \"usearch -fastq_filter {} -fastq_maxee $3 \\\n",
    "-fastaout /home/sam/tmp/tmpdir2/{#}.fasta >/dev/null 2>&1 && cat /home/sam/tmp/tmpdir2/{#}.fasta\" > $4\n",
    "rm -r /home/sam/tmp/tmpdir2 /home/sam/tmp/tmpdir1"
   ]
  },
  {
   "cell_type": "code",
   "execution_count": 9,
   "metadata": {
    "collapsed": false
   },
   "outputs": [
    {
     "name": "stdout",
     "output_type": "stream",
     "text": [
      "Max expected error cutoff: 1\n",
      "Number of sequence pre-filter: 2073226\n",
      "Number of sequences post-filter: 2039940\n",
      "\n",
      ">MR.A.13C-Van.D6.R2_Frac17_2 orig_name=M01032:461:000000000-AW6F4:1:1101:15771:1853\n",
      "TACGTAGGGTGCGAGCGTTAATCGGAATTACTGGGCGTAAAGCGTGCGCAGGCGGTTTGTTAAGACCGATGTGAAATCCC\n",
      "CGGGCTCAACCTGGGAACTGCATTGGTGACTGGCAAGCTAGAGTATGGCAGAGGGGGGTAGAATTCCACGTGTAGCAGTG\n",
      "AAATGCGTAGAGATGTGGAGGAATACCGATGGCGAAGGCAGCCCCCTGGGCCAATACTGACGCTCAGGCACGAAAGCGTG\n",
      "GGGAGCAAACAGG\n",
      ">MR.A.13C-Van.D6.R2_Frac4_3 orig_name=M01032:461:000000000-AW6F4:1:1101:13463:1872\n",
      "TACGTAGGGTGCGAGCGTTAATCGGAATTACTGGGCGTAAAGCGCGCGCAGGCGGTTTGGTAAGACAGATGTGAAATCCC\n",
      "CGGGCTTAACCTGGGAACTGCATTTGTGACTGGCGGGCTAGAGTATGGCAGAGGGGGGTAGAATTCCACGTGTAGCAGGG\n"
     ]
    }
   ],
   "source": [
    "%%bash -s \"$seqFile\" \"$nprocs\" \"$maxee\" \"$qcFile\"\n",
    "\n",
    "printf \"Max expected error cutoff: \"\n",
    "echo $3\n",
    "\n",
    "printf \"Number of sequence pre-filter: \"\n",
    "grep -c \"orig_name=\" $1\n",
    "\n",
    "printf \"Number of sequences post-filter: \"\n",
    "grep -c \">\" $4\n",
    "\n",
    "echo '' \n",
    "head -n 8 $4"
   ]
  },
  {
   "cell_type": "markdown",
   "metadata": {},
   "source": [
    "## Remove seqs with 'N' characters"
   ]
  },
  {
   "cell_type": "code",
   "execution_count": 10,
   "metadata": {
    "collapsed": false
   },
   "outputs": [
    {
     "data": {
      "text/plain": [
       "'pear_merged-fullCyc2_lib8.assembled.dmult_maxee1_noN.fasta'"
      ]
     },
     "execution_count": 10,
     "metadata": {},
     "output_type": "execute_result"
    }
   ],
   "source": [
    "qcFile2 = os.path.splitext(qcFile)[0] + '_noN.fasta'\n",
    "qcFile2"
   ]
  },
  {
   "cell_type": "code",
   "execution_count": 11,
   "metadata": {
    "collapsed": false
   },
   "outputs": [
    {
     "name": "stdout",
     "output_type": "stream",
     "text": [
      "Number of sequence pre-filter: 2039940\n",
      "Number of sequences post-filter: 2039940\n"
     ]
    }
   ],
   "source": [
    "%%bash -s \"$qcFile\" \"$qcFile2\"\n",
    "\n",
    "bioawk -c fastx '{if ($seq !~ /N/){print \">\" $name \" \" $4 \"\\n\" $seq}}' $1 > $2\n",
    "\n",
    "printf \"Number of sequence pre-filter: \"\n",
    "grep -c \">\" $1\n",
    "\n",
    "printf \"Number of sequences post-filter: \"\n",
    "grep -c \">\" $2"
   ]
  },
  {
   "cell_type": "markdown",
   "metadata": {},
   "source": [
    "## Alignment-based QC with Mothur"
   ]
  },
  {
   "cell_type": "code",
   "execution_count": 12,
   "metadata": {
    "collapsed": false
   },
   "outputs": [
    {
     "name": "stdout",
     "output_type": "stream",
     "text": [
      "MR.A.13C-Van.D6.R2_Frac17_2\tMR.A.13C-Van.D6.R2_Frac17\n",
      "MR.A.13C-Van.D6.R2_Frac4_3\tMR.A.13C-Van.D6.R2_Frac4\n",
      "MR.F.13C-Van.D30.R2_Frac9_4\tMR.F.13C-Van.D30.R2_Frac9\n",
      "MR.A.13C-Ami.D1.R1_Frac28_5\tMR.A.13C-Ami.D1.R1_Frac28\n",
      "MR.A.13C-Van.D6.R2_Frac21_6\tMR.A.13C-Van.D6.R2_Frac21\n",
      "MR.A.13C-Ami.D1.R1_Frac19_7\tMR.A.13C-Ami.D1.R1_Frac19\n",
      "MR.A.13C-Van.D6.R2_Frac14_8\tMR.A.13C-Van.D6.R2_Frac14\n",
      "MR.M.12C-Con.D3.R1_Frac6_9\tMR.M.12C-Con.D3.R1_Frac6\n",
      "MR.F.13C-Van.D30.R2_Frac24_10\tMR.F.13C-Van.D30.R2_Frac24\n",
      "MR.A.13C-Van.D6.R2_Frac7_11\tMR.A.13C-Van.D6.R2_Frac7\n"
     ]
    }
   ],
   "source": [
    "%%bash -s \"$qcFile2\"\n",
    "# making mothur group file\n",
    "\n",
    "perl -ne 'if(/^>/){ s/>(.+)(_\\d+) .+/$1$2\\t$1/; print;}' $1 > group_file.txt\n",
    "head group_file.txt"
   ]
  },
  {
   "cell_type": "code",
   "execution_count": 13,
   "metadata": {
    "collapsed": false
   },
   "outputs": [
    {
     "name": "stdout",
     "output_type": "stream",
     "text": [
      "MR.A.13C-Van.D6.R2_Frac17_2\tMR.A.13C-Van.D6.R2_Frac17\r\n",
      "MR.A.13C-Van.D6.R2_Frac4_3\tMR.A.13C-Van.D6.R2_Frac4\r\n",
      "MR.F.13C-Van.D30.R2_Frac9_4\tMR.F.13C-Van.D30.R2_Frac9\r\n",
      "MR.A.13C-Ami.D1.R1_Frac28_5\tMR.A.13C-Ami.D1.R1_Frac28\r\n",
      "MR.A.13C-Van.D6.R2_Frac21_6\tMR.A.13C-Van.D6.R2_Frac21\r\n",
      "MR.A.13C-Ami.D1.R1_Frac19_7\tMR.A.13C-Ami.D1.R1_Frac19\r\n",
      "MR.A.13C-Van.D6.R2_Frac14_8\tMR.A.13C-Van.D6.R2_Frac14\r\n",
      "MR.M.12C-Con.D3.R1_Frac6_9\tMR.M.12C-Con.D3.R1_Frac6\r\n",
      "MR.F.13C-Van.D30.R2_Frac24_10\tMR.F.13C-Van.D30.R2_Frac24\r\n",
      "MR.A.13C-Van.D6.R2_Frac7_11\tMR.A.13C-Van.D6.R2_Frac7\r\n",
      "MR.M.12C-Con.D3.R1_Frac7_12\tMR.M.12C-Con.D3.R1_Frac7\r\n",
      "MR.F.13C-Van.D30.R2_Frac26_13\tMR.F.13C-Van.D30.R2_Frac26\r\n",
      "MR.A.13C-Van.D6.R2_Frac14_14\tMR.A.13C-Van.D6.R2_Frac14\r\n",
      "MR.F.13C-Van.D30.R2_Frac10_15\tMR.F.13C-Van.D30.R2_Frac10\r\n",
      "MR.A.12C-Con.D3.R1_Frac23_16\tMR.A.12C-Con.D3.R1_Frac23\r\n",
      "MR.A.13C-Van.D6.R2_Frac7_17\tMR.A.13C-Van.D6.R2_Frac7\r\n",
      "MR.F.13C-Van.D30.R2_Frac26_18\tMR.F.13C-Van.D30.R2_Frac26\r\n",
      "MR.F.13C-Van.D30.R2_Frac26_19\tMR.F.13C-Van.D30.R2_Frac26\r\n",
      "MR.F.13C-Van.D30.R2_Frac25_20\tMR.F.13C-Van.D30.R2_Frac25\r\n",
      "MR.F.13C-Van.D30.R2_Frac10_21\tMR.F.13C-Van.D30.R2_Frac10\r\n",
      "MR.A.13C-Pal.D6.R1_Frac7_22\tMR.A.13C-Pal.D6.R1_Frac7\r\n",
      "MR.A.13C-Van.D6.R2_Frac25_23\tMR.A.13C-Van.D6.R2_Frac25\r\n",
      "MR.A.13C-Van.D6.R2_Frac17_24\tMR.A.13C-Van.D6.R2_Frac17\r\n",
      "MR.F.13C-Van.D30.R2_Frac14_25\tMR.F.13C-Van.D30.R2_Frac14\r\n",
      "MR.F.13C-Van.D30.R2_Frac25_26\tMR.F.13C-Van.D30.R2_Frac25\r\n",
      "MR.M.13C-Xyl.D14.R1_Frac17_27\tMR.M.13C-Xyl.D14.R1_Frac17\r\n",
      "MR.F.13C-Van.D30.R2_Frac12_28\tMR.F.13C-Van.D30.R2_Frac12\r\n",
      "MR.M.12C-Con.D3.R1_Frac22_29\tMR.M.12C-Con.D3.R1_Frac22\r\n",
      "MR.A.13C-Van.D6.R2_Frac22_30\tMR.A.13C-Van.D6.R2_Frac22\r\n",
      "MR.A.13C-Van.D6.R2_Frac25_31\tMR.A.13C-Van.D6.R2_Frac25\r\n",
      "MR.M.12C-Con.D3.R1_Frac22_32\tMR.M.12C-Con.D3.R1_Frac22\r\n",
      "MR.F.13C-Van.D30.R2_Frac22_33\tMR.F.13C-Van.D30.R2_Frac22\r\n",
      "MR.F.12C-Con.D30.R3_Frac23_34\tMR.F.12C-Con.D30.R3_Frac23\r\n",
      "MR.F.13C-Van.D30.R2_Frac7_35\tMR.F.13C-Van.D30.R2_Frac7\r\n",
      "MR.A.13C-Van.D6.R2_Frac13_36\tMR.A.13C-Van.D6.R2_Frac13\r\n",
      "MR.A.12C-Con.D3.R1_Frac12_37\tMR.A.12C-Con.D3.R1_Frac12\r\n",
      "MR.A.13C-Van.D6.R2_NC_38\tMR.A.13C-Van.D6.R2_NC\r\n",
      "MR.A.13C-Van.D6.R2_Frac7_39\tMR.A.13C-Van.D6.R2_Frac7\r\n",
      "MR.A.13C-Pal.D6.R1_Frac11_40\tMR.A.13C-Pal.D6.R1_Frac11\r\n",
      "MR.F.13C-Van.D30.R2_Frac27_41\tMR.F.13C-Van.D30.R2_Frac27\r\n",
      "MR.A.13C-Van.D6.R2_Frac4_42\tMR.A.13C-Van.D6.R2_Frac4\r\n",
      "MR.A.13C-Van.D6.R2_Frac21_43\tMR.A.13C-Van.D6.R2_Frac21\r\n",
      "MR.A.13C-Van.D6.R2_Frac11_44\tMR.A.13C-Van.D6.R2_Frac11\r\n",
      "MR.A.13C-Van.D6.R2_Frac21_45\tMR.A.13C-Van.D6.R2_Frac21\r\n",
      "MR.A.13C-Van.D6.R2_Frac11_46\tMR.A.13C-Van.D6.R2_Frac11\r\n",
      "MR.A.13C-Van.D6.R2_Frac4_47\tMR.A.13C-Van.D6.R2_Frac4\r\n",
      "MR.A.13C-Van.D6.R2_Frac13_48\tMR.A.13C-Van.D6.R2_Frac13\r\n",
      "MR.A.13C-Van.D6.R2_Frac9_49\tMR.A.13C-Van.D6.R2_Frac9\r\n",
      "MR.A.13C-Van.D6.R2_Frac12_50\tMR.A.13C-Van.D6.R2_Frac12\r\n",
      "MR.A.13C-Van.D6.R2_Frac10_51\tMR.A.13C-Van.D6.R2_Frac10\r\n",
      "MR.M.13C-Xyl.D14.R1_Frac24_52\tMR.M.13C-Xyl.D14.R1_Frac24\r\n",
      "MR.A.13C-Van.D6.R2_NC_53\tMR.A.13C-Van.D6.R2_NC\r\n",
      "MR.A.12C-Con.D3.R1_Frac28_54\tMR.A.12C-Con.D3.R1_Frac28\r\n",
      "MR.M.12C-Con.D3.R1_Frac27_55\tMR.M.12C-Con.D3.R1_Frac27\r\n",
      "MR.A.13C-Van.D6.R2_Frac22_56\tMR.A.13C-Van.D6.R2_Frac22\r\n",
      "MR.F.13C-Van.D30.R2_Frac21_57\tMR.F.13C-Van.D30.R2_Frac21\r\n",
      "MR.F.13C-Van.D30.R2_Frac26_58\tMR.F.13C-Van.D30.R2_Frac26\r\n",
      "MR.M.12C-Con.D3.R1_Frac6_59\tMR.M.12C-Con.D3.R1_Frac6\r\n",
      "MR.A.13C-Van.D6.R2_Frac18_60\tMR.A.13C-Van.D6.R2_Frac18\r\n",
      "MR.M.12C-Con.D3.R1_Frac20_61\tMR.M.12C-Con.D3.R1_Frac20\r\n",
      "MR.A.13C-Pal.D6.R1_Frac10_62\tMR.A.13C-Pal.D6.R1_Frac10\r\n",
      "MR.A.13C-Van.D6.R2_Frac5_63\tMR.A.13C-Van.D6.R2_Frac5\r\n",
      "MR.A.13C-Pal.D6.R1_Frac23_64\tMR.A.13C-Pal.D6.R1_Frac23\r\n",
      "MR.A.13C-Ami.D1.R1_Frac26_65\tMR.A.13C-Ami.D1.R1_Frac26\r\n",
      "MR.A.13C-Van.D6.R2_Frac12_66\tMR.A.13C-Van.D6.R2_Frac12\r\n",
      "MR.A.13C-Van.D6.R2_Frac5_67\tMR.A.13C-Van.D6.R2_Frac5\r\n",
      "MR.A.13C-Pal.D6.R1_Frac15_68\tMR.A.13C-Pal.D6.R1_Frac15\r\n",
      "MR.A.13C-Van.D6.R2_Frac12_69\tMR.A.13C-Van.D6.R2_Frac12\r\n",
      "MR.F.13C-Van.D30.R2_Frac25_70\tMR.F.13C-Van.D30.R2_Frac25\r\n",
      "MR.M.13C-Xyl.D14.R1_Frac25_71\tMR.M.13C-Xyl.D14.R1_Frac25\r\n",
      "MR.A.13C-Van.D6.R2_Frac5_72\tMR.A.13C-Van.D6.R2_Frac5\r\n",
      "MR.A.13C-Ami.D1.R1_Frac19_73\tMR.A.13C-Ami.D1.R1_Frac19\r\n",
      "MR.F.13C-Van.D30.R2_Frac18_74\tMR.F.13C-Van.D30.R2_Frac18\r\n",
      "MR.F.13C-Van.D30.R2_Frac20_75\tMR.F.13C-Van.D30.R2_Frac20\r\n",
      "MR.A.13C-Van.D6.R2_Frac9_76\tMR.A.13C-Van.D6.R2_Frac9\r\n",
      "MR.M.12C-Con.D3.R1_Frac21_77\tMR.M.12C-Con.D3.R1_Frac21\r\n",
      "MR.F.12C-Con.D30.R3_Frac27_78\tMR.F.12C-Con.D30.R3_Frac27\r\n",
      "MR.A.13C-Ami.D1.R1_Frac24_79\tMR.A.13C-Ami.D1.R1_Frac24\r\n",
      "MR.A.13C-Pal.D6.R1_MC_80\tMR.A.13C-Pal.D6.R1_MC\r\n",
      "MR.A.13C-Pal.D6.R1_Frac5_81\tMR.A.13C-Pal.D6.R1_Frac5\r\n",
      "MR.M.12C-Con.D3.R1_Frac19_83\tMR.M.12C-Con.D3.R1_Frac19\r\n",
      "MR.A.12C-Con.D3.R1_Frac14_84\tMR.A.12C-Con.D3.R1_Frac14\r\n",
      "MR.A.13C-Van.D6.R2_Frac9_85\tMR.A.13C-Van.D6.R2_Frac9\r\n",
      "MR.M.12C-Con.D3.R1_Frac27_86\tMR.M.12C-Con.D3.R1_Frac27\r\n",
      "MR.A.12C-Con.D3.R1_Frac12_87\tMR.A.12C-Con.D3.R1_Frac12\r\n",
      "MR.A.13C-Van.D6.R2_Frac22_88\tMR.A.13C-Van.D6.R2_Frac22\r\n",
      "MR.A.13C-Van.D6.R2_Frac13_89\tMR.A.13C-Van.D6.R2_Frac13\r\n",
      "MR.F.13C-Van.D30.R2_Frac6_90\tMR.F.13C-Van.D30.R2_Frac6\r\n",
      "MR.F.13C-Van.D30.R2_Frac9_91\tMR.F.13C-Van.D30.R2_Frac9\r\n",
      "MR.M.13C-Xyl.D14.R1_Frac12_92\tMR.M.13C-Xyl.D14.R1_Frac12\r\n",
      "MR.M.12C-Con.D3.R1_Frac5_93\tMR.M.12C-Con.D3.R1_Frac5\r\n",
      "MR.F.13C-Van.D30.R2_Frac28_94\tMR.F.13C-Van.D30.R2_Frac28\r\n",
      "MR.F.12C-Con.D30.R3_Frac12_95\tMR.F.12C-Con.D30.R3_Frac12\r\n",
      "MR.A.13C-Ami.D1.R1_Frac25_96\tMR.A.13C-Ami.D1.R1_Frac25\r\n",
      "MR.F.12C-Con.D30.R3_Frac24_97\tMR.F.12C-Con.D30.R3_Frac24\r\n",
      "MR.F.13C-Van.D30.R2_Frac14_98\tMR.F.13C-Van.D30.R2_Frac14\r\n",
      "MR.F.13C-Van.D30.R2_Frac18_99\tMR.F.13C-Van.D30.R2_Frac18\r\n",
      "MR.A.12C-Con.D3.R1_Frac14_101\tMR.A.12C-Con.D3.R1_Frac14\r\n",
      "MR.A.13C-Ami.D1.R1_Frac23_102\tMR.A.13C-Ami.D1.R1_Frac23\r\n",
      "MR.A.13C-Van.D6.R2_Frac13_103\tMR.A.13C-Van.D6.R2_Frac13\r\n",
      "MR.M.12C-Con.D3.R1_Frac13_104\tMR.M.12C-Con.D3.R1_Frac13\r\n",
      "MR.M.12C-Con.D3.R1_Frac7_105\tMR.M.12C-Con.D3.R1_Frac7\r\n",
      "MR.F.13C-Van.D30.R2_Frac24_106\tMR.F.13C-Van.D30.R2_Frac24\r\n",
      "MR.A.12C-Con.D3.R1_Frac13_107\tMR.A.12C-Con.D3.R1_Frac13\r\n",
      "MR.A.13C-Van.D6.R2_Frac13_108\tMR.A.13C-Van.D6.R2_Frac13\r\n",
      "MR.F.12C-Con.D30.R3_Frac8_109\tMR.F.12C-Con.D30.R3_Frac8\r\n",
      "MR.F.12C-Con.D30.R3_Frac23_110\tMR.F.12C-Con.D30.R3_Frac23\r\n",
      "MR.M.13C-Xyl.D14.R1_Frac23_111\tMR.M.13C-Xyl.D14.R1_Frac23\r\n",
      "MR.M.12C-Con.D3.R1_Frac13_112\tMR.M.12C-Con.D3.R1_Frac13\r\n",
      "MR.A.13C-Pal.D6.R1_Frac10_113\tMR.A.13C-Pal.D6.R1_Frac10\r\n",
      "MR.M.12C-Con.D3.R1_Frac18_114\tMR.M.12C-Con.D3.R1_Frac18\r\n",
      "MR.M.12C-Con.D3.R1_Frac13_115\tMR.M.12C-Con.D3.R1_Frac13\r\n",
      "MR.M.13C-Xyl.D14.R1_Frac7_116\tMR.M.13C-Xyl.D14.R1_Frac7\r\n",
      "MR.A.12C-Con.D3.R1_Frac7_117\tMR.A.12C-Con.D3.R1_Frac7\r\n",
      "MR.A.13C-Van.D6.R2_Frac8_118\tMR.A.13C-Van.D6.R2_Frac8\r\n",
      "MR.M.12C-Con.D3.R1_Frac24_119\tMR.M.12C-Con.D3.R1_Frac24\r\n",
      "MR.A.12C-Con.D3.R1_Frac24_120\tMR.A.12C-Con.D3.R1_Frac24\r\n",
      "MR.A.13C-Pal.D6.R1_Frac10_121\tMR.A.13C-Pal.D6.R1_Frac10\r\n",
      "MR.A.13C-Van.D6.R2_Frac6_122\tMR.A.13C-Van.D6.R2_Frac6\r\n",
      "MR.A.13C-Ami.D1.R1_Frac19_123\tMR.A.13C-Ami.D1.R1_Frac19\r\n",
      "MR.A.13C-Van.D6.R2_Frac11_124\tMR.A.13C-Van.D6.R2_Frac11\r\n",
      "MR.M.12C-Con.D3.R1_NC_125\tMR.M.12C-Con.D3.R1_NC\r\n",
      "MR.M.13C-Xyl.D14.R1_Frac6_126\tMR.M.13C-Xyl.D14.R1_Frac6\r\n",
      "MR.A.13C-Van.D6.R2_Frac13_127\tMR.A.13C-Van.D6.R2_Frac13\r\n",
      "MR.F.13C-Van.D30.R2_Frac7_128\tMR.F.13C-Van.D30.R2_Frac7\r\n",
      "MR.A.12C-Con.D3.R1_Frac10_129\tMR.A.12C-Con.D3.R1_Frac10\r\n",
      "MR.F.12C-Con.D30.R3_Frac15_130\tMR.F.12C-Con.D30.R3_Frac15\r\n",
      "MR.M.13C-Xyl.D14.R1_Frac19_131\tMR.M.13C-Xyl.D14.R1_Frac19\r\n",
      "MR.M.13C-Xyl.D14.R1_Frac14_132\tMR.M.13C-Xyl.D14.R1_Frac14\r\n",
      "MR.M.12C-Con.D3.R1_Frac13_133\tMR.M.12C-Con.D3.R1_Frac13\r\n",
      "MR.M.12C-Con.D3.R1_Frac24_134\tMR.M.12C-Con.D3.R1_Frac24\r\n",
      "MR.M.13C-Xyl.D14.R1_Frac17_135\tMR.M.13C-Xyl.D14.R1_Frac17\r\n",
      "MR.A.13C-Pal.D6.R1_Frac25_136\tMR.A.13C-Pal.D6.R1_Frac25\r\n",
      "MR.A.12C-Con.D3.R1_Frac19_137\tMR.A.12C-Con.D3.R1_Frac19\r\n",
      "MR.M.12C-Con.D3.R1_NC_138\tMR.M.12C-Con.D3.R1_NC\r\n",
      "MR.F.12C-Con.D30.R3_Frac6_139\tMR.F.12C-Con.D30.R3_Frac6\r\n",
      "MR.F.13C-Van.D30.R2_Frac11_140\tMR.F.13C-Van.D30.R2_Frac11\r\n",
      "MR.A.12C-Con.D3.R1_Frac27_141\tMR.A.12C-Con.D3.R1_Frac27\r\n",
      "MR.F.13C-Van.D30.R2_Frac6_142\tMR.F.13C-Van.D30.R2_Frac6\r\n",
      "MR.A.13C-Ami.D1.R1_Frac19_143\tMR.A.13C-Ami.D1.R1_Frac19\r\n",
      "MR.F.13C-Van.D30.R2_Frac6_144\tMR.F.13C-Van.D30.R2_Frac6\r\n",
      "MR.F.12C-Con.D30.R3_Frac4_145\tMR.F.12C-Con.D30.R3_Frac4\r\n",
      "MR.M.13C-Xyl.D14.R1_Frac5_146\tMR.M.13C-Xyl.D14.R1_Frac5\r\n",
      "MR.F.13C-Van.D30.R2_Frac19_147\tMR.F.13C-Van.D30.R2_Frac19\r\n",
      "MR.F.12C-Con.D30.R3_Frac9_148\tMR.F.12C-Con.D30.R3_Frac9\r\n",
      "MR.F.13C-Van.D30.R2_Frac20_149\tMR.F.13C-Van.D30.R2_Frac20\r\n",
      "MR.F.13C-Van.D30.R2_Frac10_150\tMR.F.13C-Van.D30.R2_Frac10\r\n",
      "MR.A.13C-Ami.D1.R1_Frac19_151\tMR.A.13C-Ami.D1.R1_Frac19\r\n",
      "MR.A.13C-Van.D6.R2_Frac4_152\tMR.A.13C-Van.D6.R2_Frac4\r\n",
      "MR.A.13C-Ami.D1.R1_Frac28_153\tMR.A.13C-Ami.D1.R1_Frac28\r\n",
      "MR.M.12C-Con.D3.R1_Frac24_154\tMR.M.12C-Con.D3.R1_Frac24\r\n",
      "MR.M.12C-Con.D3.R1_Frac18_155\tMR.M.12C-Con.D3.R1_Frac18\r\n",
      "MR.A.13C-Ami.D1.R1_Frac27_156\tMR.A.13C-Ami.D1.R1_Frac27\r\n",
      "MR.F.12C-Con.D30.R3_Frac13_157\tMR.F.12C-Con.D30.R3_Frac13\r\n",
      "MR.F.13C-Van.D30.R2_Frac7_158\tMR.F.13C-Van.D30.R2_Frac7\r\n",
      "MR.M.13C-Xyl.D14.R1_Frac23_159\tMR.M.13C-Xyl.D14.R1_Frac23\r\n",
      "MR.F.13C-Van.D30.R2_Frac14_160\tMR.F.13C-Van.D30.R2_Frac14\r\n",
      "MR.A.13C-Ami.D1.R1_Frac19_161\tMR.A.13C-Ami.D1.R1_Frac19\r\n",
      "MR.A.13C-Pal.D6.R1_Frac12_162\tMR.A.13C-Pal.D6.R1_Frac12\r\n",
      "MR.M.13C-Xyl.D14.R1_Frac5_163\tMR.M.13C-Xyl.D14.R1_Frac5\r\n",
      "MR.A.13C-Van.D6.R2_Frac26_164\tMR.A.13C-Van.D6.R2_Frac26\r\n",
      "MR.M.12C-Con.D3.R1_Frac10_165\tMR.M.12C-Con.D3.R1_Frac10\r\n",
      "MR.M.12C-Con.D3.R1_Frac14_166\tMR.M.12C-Con.D3.R1_Frac14\r\n",
      "MR.F.13C-Van.D30.R2_Frac8_167\tMR.F.13C-Van.D30.R2_Frac8\r\n",
      "MR.A.13C-Pal.D6.R1_Frac27_168\tMR.A.13C-Pal.D6.R1_Frac27\r\n",
      "MR.A.13C-Ami.D1.R1_Frac22_169\tMR.A.13C-Ami.D1.R1_Frac22\r\n",
      "MR.A.13C-Van.D6.R2_Frac4_170\tMR.A.13C-Van.D6.R2_Frac4\r\n",
      "MR.A.13C-Van.D6.R2_Frac17_171\tMR.A.13C-Van.D6.R2_Frac17\r\n",
      "MR.F.13C-Van.D30.R2_Frac20_172\tMR.F.13C-Van.D30.R2_Frac20\r\n",
      "MR.A.13C-Van.D6.R2_Frac6_173\tMR.A.13C-Van.D6.R2_Frac6\r\n",
      "MR.A.12C-Con.D3.R1_Frac10_174\tMR.A.12C-Con.D3.R1_Frac10\r\n",
      "MR.A.13C-Van.D6.R2_Frac4_175\tMR.A.13C-Van.D6.R2_Frac4\r\n",
      "MR.F.13C-Van.D30.R2_Frac19_176\tMR.F.13C-Van.D30.R2_Frac19\r\n",
      "MR.M.12C-Con.D3.R1_Frac17_177\tMR.M.12C-Con.D3.R1_Frac17\r\n",
      "MR.M.12C-Con.D3.R1_Frac23_178\tMR.M.12C-Con.D3.R1_Frac23\r\n",
      "MR.A.12C-Con.D3.R1_Frac20_179\tMR.A.12C-Con.D3.R1_Frac20\r\n",
      "MR.M.12C-Con.D3.R1_Frac24_180\tMR.M.12C-Con.D3.R1_Frac24\r\n",
      "MR.M.12C-Con.D3.R1_Frac6_182\tMR.M.12C-Con.D3.R1_Frac6\r\n",
      "MR.M.13C-Xyl.D14.R1_Frac23_183\tMR.M.13C-Xyl.D14.R1_Frac23\r\n",
      "MR.F.13C-Van.D30.R2_Frac28_184\tMR.F.13C-Van.D30.R2_Frac28\r\n",
      "MR.F.13C-Van.D30.R2_Frac6_185\tMR.F.13C-Van.D30.R2_Frac6\r\n",
      "MR.M.12C-Con.D3.R1_Frac5_186\tMR.M.12C-Con.D3.R1_Frac5\r\n",
      "MR.M.12C-Con.D3.R1_Frac11_187\tMR.M.12C-Con.D3.R1_Frac11\r\n",
      "MR.M.12C-Con.D3.R1_Frac6_189\tMR.M.12C-Con.D3.R1_Frac6\r\n",
      "MR.A.13C-Van.D6.R2_Frac22_190\tMR.A.13C-Van.D6.R2_Frac22\r\n",
      "MR.F.13C-Van.D30.R2_Frac9_191\tMR.F.13C-Van.D30.R2_Frac9\r\n",
      "MR.A.13C-Van.D6.R2_Frac7_192\tMR.A.13C-Van.D6.R2_Frac7\r\n",
      "MR.F.12C-Con.D30.R3_Frac15_193\tMR.F.12C-Con.D30.R3_Frac15\r\n",
      "MR.A.13C-Van.D6.R2_Frac22_194\tMR.A.13C-Van.D6.R2_Frac22\r\n",
      "MR.F.13C-Van.D30.R2_Frac17_195\tMR.F.13C-Van.D30.R2_Frac17\r\n",
      "MR.A.12C-Con.D3.R1_Frac6_196\tMR.A.12C-Con.D3.R1_Frac6\r\n",
      "MR.F.13C-Van.D30.R2_Frac16_197\tMR.F.13C-Van.D30.R2_Frac16\r\n",
      "MR.F.13C-Van.D30.R2_Frac24_198\tMR.F.13C-Van.D30.R2_Frac24\r\n",
      "MR.A.13C-Van.D6.R2_Frac6_199\tMR.A.13C-Van.D6.R2_Frac6\r\n",
      "MR.A.12C-Con.D3.R1_Frac22_200\tMR.A.12C-Con.D3.R1_Frac22\r\n",
      "MR.F.13C-Van.D30.R2_Frac16_201\tMR.F.13C-Van.D30.R2_Frac16\r\n",
      "MR.M.12C-Con.D3.R1_Frac15_202\tMR.M.12C-Con.D3.R1_Frac15\r\n",
      "MR.M.12C-Con.D3.R1_Frac27_203\tMR.M.12C-Con.D3.R1_Frac27\r\n",
      "MR.F.13C-Van.D30.R2_Frac5_205\tMR.F.13C-Van.D30.R2_Frac5\r\n",
      "MR.F.13C-Van.D30.R2_Frac20_206\tMR.F.13C-Van.D30.R2_Frac20\r\n"
     ]
    }
   ],
   "source": [
    "! head -n 200 group_file.txt"
   ]
  },
  {
   "cell_type": "code",
   "execution_count": 14,
   "metadata": {
    "collapsed": false
   },
   "outputs": [
    {
     "name": "stdout",
     "output_type": "stream",
     "text": [
      "2018000\t1427747\r\n",
      "2019000\t1428381\r\n",
      "2020000\t1428991\r\n",
      "2021000\t1429630\r\n",
      "2022000\t1430264\r\n",
      "2023000\t1430937\r\n",
      "2024000\t1431565\r\n",
      "2025000\t1432199\r\n",
      "2026000\t1432820\r\n",
      "2027000\t1433450\r\n",
      "2028000\t1434121\r\n",
      "2029000\t1434771\r\n",
      "2030000\t1435434\r\n",
      "2031000\t1436079\r\n",
      "2032000\t1436732\r\n",
      "2033000\t1437388\r\n",
      "2034000\t1438058\r\n",
      "2035000\t1438733\r\n",
      "2036000\t1439417\r\n",
      "2037000\t1440126\r\n",
      "2038000\t1440908\r\n",
      "2039000\t1441673\r\n",
      "2039940\t1442457\r\n",
      "\r\n",
      "Output File Names: \r\n",
      "pear_merged-fullCyc2_lib8.assembled.dmult_maxee1_noN.names\r\n",
      "pear_merged-fullCyc2_lib8.assembled.dmult_maxee1_noN.unique.fasta\r\n",
      "\r\n",
      "\r\n",
      "mothur > quit()\r\n"
     ]
    }
   ],
   "source": [
    "# unique sequences\n",
    "cmd = 'mothur \"#unique.seqs(fasta={})\"'.format(qcFile2)\n",
    "!$cmd | tail -n 30"
   ]
  },
  {
   "cell_type": "code",
   "execution_count": 15,
   "metadata": {
    "collapsed": false
   },
   "outputs": [
    {
     "name": "stdout",
     "output_type": "stream",
     "text": [
      "Number of unique sequences: 1442457\n"
     ]
    }
   ],
   "source": [
    "qcFile3 = os.path.splitext(qcFile2)[0] + '.unique.fasta'\n",
    "n_uniq = !grep -c \">\" $qcFile3\n",
    "print ('Number of unique sequences: {}'.format(n_uniq[0]))"
   ]
  },
  {
   "cell_type": "code",
   "execution_count": 16,
   "metadata": {
    "collapsed": false
   },
   "outputs": [
    {
     "name": "stdout",
     "output_type": "stream",
     "text": [
      "-rw-rw-r-- 1 sam sam 112M May 16 11:00 pear_merged-fullCyc2_lib8.assembled.dmult_maxee1_noN.names\r\n"
     ]
    }
   ],
   "source": [
    "# name file produced by unique.seqs()\n",
    "nameFile = os.path.splitext(qcFile2)[0] + '.names'\n",
    "!ls -thlc $nameFile"
   ]
  },
  {
   "cell_type": "code",
   "execution_count": 17,
   "metadata": {
    "collapsed": false
   },
   "outputs": [
    {
     "name": "stdout",
     "output_type": "stream",
     "text": [
      "silva.seed_v132.tax\n",
      "silva.seed_v132.align\n",
      "README.md\n"
     ]
    },
    {
     "name": "stderr",
     "output_type": "stream",
     "text": [
      "--2018-05-16 11:00:45--  https://www.mothur.org/w/images/7/71/Silva.seed_v132.tgz\n",
      "Resolving www.mothur.org (www.mothur.org)... 141.214.120.22\n",
      "Connecting to www.mothur.org (www.mothur.org)|141.214.120.22|:443... connected.\n",
      "HTTP request sent, awaiting response... 200 OK\n",
      "Length: 19623900 (19M) [application/x-gzip]\n",
      "Saving to: ‘Silva.seed_v132.tgz’\n",
      "\n",
      "     0K .......... .......... .......... .......... ..........  0% 1.89M 10s\n",
      "    50K .......... .......... .......... .......... ..........  0%  998K 14s\n",
      "   100K .......... .......... .......... .......... ..........  0% 1.87M 13s\n",
      "   150K .......... .......... .......... .......... ..........  1%  986K 14s\n",
      "   200K .......... .......... .......... .......... ..........  1% 1.88M 14s\n",
      "   250K .......... .......... .......... .......... ..........  1%  990K 14s\n",
      "   300K .......... .......... .......... .......... ..........  1% 1.84M 14s\n",
      "   350K .......... .......... .......... .......... ..........  2%  993K 14s\n",
      "   400K .......... .......... .......... .......... ..........  2% 1004K 15s\n",
      "   450K .......... .......... .......... .......... ..........  2% 1.87M 14s\n",
      "   500K .......... .......... .......... .......... ..........  2%  991K 15s\n",
      "   550K .......... .......... .......... .......... ..........  3% 1.85M 14s\n",
      "   600K .......... .......... .......... .......... ..........  3% 1008K 14s\n",
      "   650K .......... .......... .......... .......... ..........  3% 1.88M 14s\n",
      "   700K .......... .......... .......... .......... ..........  3% 1001K 14s\n",
      "   750K .......... .......... .......... .......... ..........  4%  989K 15s\n",
      "   800K .......... .......... .......... .......... ..........  4% 1.88M 14s\n",
      "   850K .......... .......... .......... .......... ..........  4%  987K 14s\n",
      "   900K .......... .......... .......... .......... ..........  4% 1.88M 14s\n",
      "   950K .......... .......... .......... .......... ..........  5%  988K 14s\n",
      "  1000K .......... .......... .......... .......... ..........  5% 1.85M 14s\n",
      "  1050K .......... .......... .......... .......... ..........  5% 1013K 14s\n",
      "  1100K .......... .......... .......... .......... ..........  6% 1.85M 14s\n",
      "  1150K .......... .......... .......... .......... ..........  6% 1002K 14s\n",
      "  1200K .......... .......... .......... .......... ..........  6% 1000K 14s\n",
      "  1250K .......... .......... .......... .......... ..........  6% 1.85M 14s\n",
      "  1300K .......... .......... .......... .......... ..........  7%  995K 14s\n",
      "  1350K .......... .......... .......... .......... ..........  7% 1.88M 14s\n",
      "  1400K .......... .......... .......... .......... ..........  7%  993K 14s\n",
      "  1450K .......... .......... .......... .......... ..........  7% 1.88M 14s\n",
      "  1500K .......... .......... .......... .......... ..........  8% 1000K 14s\n",
      "  1550K .......... .......... .......... .......... ..........  8%  991K 14s\n",
      "  1600K .......... .......... .......... .......... ..........  8% 1.87M 14s\n",
      "  1650K .......... .......... .......... .......... ..........  8%  992K 14s\n",
      "  1700K .......... .......... .......... .......... ..........  9% 1.83M 14s\n",
      "  1750K .......... .......... .......... .......... ..........  9% 1008K 14s\n",
      "  1800K .......... .......... .......... .......... ..........  9% 1.85M 14s\n",
      "  1850K .......... .......... .......... .......... ..........  9% 1003K 14s\n",
      "  1900K .......... .......... .......... .......... .......... 10%  993K 14s\n",
      "  1950K .......... .......... .......... .......... .......... 10% 1.91M 14s\n",
      "  2000K .......... .......... .......... .......... .......... 10%  998K 14s\n",
      "  2050K .......... .......... .......... .......... .......... 10% 1.86M 13s\n",
      "  2100K .......... .......... .......... .......... .......... 11% 1006K 13s\n",
      "  2150K .......... .......... .......... .......... .......... 11% 1.90M 13s\n",
      "  2200K .......... .......... .......... .......... .......... 11%  489K 14s\n",
      "  2250K .......... .......... .......... .......... .......... 12%  992K 14s\n",
      "  2300K .......... .......... .......... .......... .......... 12% 1.88M 14s\n",
      "  2350K .......... .......... .......... .......... .......... 12%  983K 14s\n",
      "  2400K .......... .......... .......... .......... .......... 12% 1.85M 14s\n",
      "  2450K .......... .......... .......... .......... .......... 13%  995K 14s\n",
      "  2500K .......... .......... .......... .......... .......... 13% 1.88M 13s\n",
      "  2550K .......... .......... .......... .......... .......... 13%  994K 13s\n",
      "  2600K .......... .......... .......... .......... .......... 13% 1.90M 13s\n",
      "  2650K .......... .......... .......... .......... .......... 14% 1.89M 13s\n",
      "  2700K .......... .......... .......... .......... .......... 14% 1.91M 13s\n",
      "  2750K .......... .......... .......... .......... .......... 14%  987K 13s\n",
      "  2800K .......... .......... .......... .......... .......... 14% 1.88M 13s\n",
      "  2850K .......... .......... .......... .......... .......... 15% 1.89M 13s\n",
      "  2900K .......... .......... .......... .......... .......... 15% 1.89M 13s\n",
      "  2950K .......... .......... .......... .......... .......... 15%  989K 13s\n",
      "  3000K .......... .......... .......... .......... .......... 15% 1.90M 13s\n",
      "  3050K .......... .......... .......... .......... .......... 16% 1.87M 13s\n",
      "  3100K .......... .......... .......... .......... .......... 16% 1.90M 12s\n",
      "  3150K .......... .......... .......... .......... .......... 16%  980K 12s\n",
      "  3200K .......... .......... .......... .......... .......... 16% 1.86M 12s\n",
      "  3250K .......... .......... .......... .......... .......... 17% 1.87M 12s\n",
      "  3300K .......... .......... .......... .......... .......... 17%  988K 12s\n",
      "  3350K .......... .......... .......... .......... .......... 17% 1.84M 12s\n",
      "  3400K .......... .......... .......... .......... .......... 18% 1.89M 12s\n",
      "  3450K .......... .......... .......... .......... .......... 18% 1.86M 12s\n",
      "  3500K .......... .......... .......... .......... .......... 18% 1.91M 12s\n",
      "  3550K .......... .......... .......... .......... .......... 18%  979K 12s\n",
      "  3600K .......... .......... .......... .......... .......... 19% 1.86M 12s\n",
      "  3650K .......... .......... .......... .......... .......... 19% 1.90M 12s\n",
      "  3700K .......... .......... .......... .......... .......... 19% 1.90M 12s\n",
      "  3750K .......... .......... .......... .......... .......... 19% 1.87M 12s\n",
      "  3800K .......... .......... .......... .......... .......... 20%  999K 12s\n",
      "  3850K .......... .......... .......... .......... .......... 20% 1.89M 11s\n",
      "  3900K .......... .......... .......... .......... .......... 20% 1.88M 11s\n",
      "  3950K .......... .......... .......... .......... .......... 20% 1000K 11s\n",
      "  4000K .......... .......... .......... .......... .......... 21% 1.92M 11s\n",
      "  4050K .......... .......... .......... .......... .......... 21% 1.88M 11s\n",
      "  4100K .......... .......... .......... .......... .......... 21% 1.89M 11s\n",
      "  4150K .......... .......... .......... .......... .......... 21% 1.87M 11s\n",
      "  4200K .......... .......... .......... .......... .......... 22% 1002K 11s\n",
      "  4250K .......... .......... .......... .......... .......... 22% 1.89M 11s\n",
      "  4300K .......... .......... .......... .......... .......... 22% 1.91M 11s\n",
      "  4350K .......... .......... .......... .......... .......... 22%  396K 11s\n",
      "  4400K .......... .......... .......... .......... .......... 23% 1.90M 11s\n",
      "  4450K .......... .......... .......... .......... .......... 23% 1.87M 11s\n",
      "  4500K .......... .......... .......... .......... .......... 23% 1.90M 11s\n",
      "  4550K .......... .......... .......... .......... .......... 24%  991K 11s\n",
      "  4600K .......... .......... .......... .......... .......... 24% 1.90M 11s\n",
      "  4650K .......... .......... .......... .......... .......... 24% 1.91M 11s\n",
      "  4700K .......... .......... .......... .......... .......... 24% 1.89M 11s\n",
      "  4750K .......... .......... .......... .......... .......... 25%  991K 11s\n",
      "  4800K .......... .......... .......... .......... .......... 25% 1.91M 11s\n",
      "  4850K .......... .......... .......... .......... .......... 25% 1.88M 11s\n",
      "  4900K .......... .......... .......... .......... .......... 25% 1.89M 11s\n",
      "  4950K .......... .......... .......... .......... .......... 26% 1.87M 10s\n",
      "  5000K .......... .......... .......... .......... .......... 26%  999K 10s\n",
      "  5050K .......... .......... .......... .......... .......... 26% 1.89M 10s\n",
      "  5100K .......... .......... .......... .......... .......... 26% 1.91M 10s\n",
      "  5150K .......... .......... .......... .......... .......... 27% 1.85M 10s\n",
      "  5200K .......... .......... .......... .......... .......... 27% 1.89M 10s\n",
      "  5250K .......... .......... .......... .......... .......... 27% 1.91M 10s\n",
      "  5300K .......... .......... .......... .......... .......... 27% 1.86M 10s\n",
      "  5350K .......... .......... .......... .......... .......... 28% 1001K 10s\n",
      "  5400K .......... .......... .......... .......... .......... 28% 1.91M 10s\n",
      "  5450K .......... .......... .......... .......... .......... 28% 1.87M 10s\n",
      "  5500K .......... .......... .......... .......... .......... 28% 1.91M 10s\n",
      "  5550K .......... .......... .......... .......... .......... 29% 1.87M 10s\n",
      "  5600K .......... .......... .......... .......... .......... 29% 1.89M 10s\n",
      "  5650K .......... .......... .......... .......... .......... 29% 1.91M 10s\n",
      "  5700K .......... .......... .......... .......... .......... 30% 1.90M 10s\n",
      "  5750K .......... .......... .......... .......... .......... 30% 1.88M 10s\n",
      "  5800K .......... .......... .......... .......... .......... 30% 1.91M 10s\n",
      "  5850K .......... .......... .......... .......... .......... 30% 1.90M 9s\n",
      "  5900K .......... .......... .......... .......... .......... 31% 1.91M 9s\n",
      "  5950K .......... .......... .......... .......... .......... 31% 1019K 9s\n",
      "  6000K .......... .......... .......... .......... .......... 31% 1.89M 9s\n",
      "  6050K .......... .......... .......... .......... .......... 31% 1.90M 9s\n",
      "  6100K .......... .......... .......... .......... .......... 32% 1.90M 9s\n",
      "  6150K .......... .......... .......... .......... .......... 32% 1.91M 9s\n",
      "  6200K .......... .......... .......... .......... .......... 32% 1.92M 9s\n",
      "  6250K .......... .......... .......... .......... .......... 32% 1.91M 9s\n",
      "  6300K .......... .......... .......... .......... .......... 33% 1.91M 9s\n",
      "  6350K .......... .......... .......... .......... .......... 33% 1.74M 9s\n",
      "  6400K .......... .......... .......... .......... .......... 33% 1.90M 9s\n",
      "  6450K .......... .......... .......... .......... .......... 33% 1.91M 9s\n",
      "  6500K .......... .......... .......... .......... .......... 34% 1.90M 9s\n",
      "  6550K .......... .......... .......... .......... .......... 34% 1.92M 9s\n",
      "  6600K .......... .......... .......... .......... .......... 34% 1.91M 9s\n",
      "  6650K .......... .......... .......... .......... .......... 34% 1.73M 9s\n",
      "  6700K .......... .......... .......... .......... .......... 35% 1.68M 9s\n",
      "  6750K .......... .......... .......... .......... .......... 35% 1.88M 9s\n",
      "  6800K .......... .......... .......... .......... .......... 35% 1.84M 9s\n",
      "  6850K .......... .......... .......... .......... .......... 36% 1.88M 8s\n",
      "  6900K .......... .......... .......... .......... .......... 36% 1.69M 8s\n",
      "  6950K .......... .......... .......... .......... .......... 36% 1.35M 8s\n",
      "  7000K .......... .......... .......... .......... .......... 36% 1.88M 8s\n",
      "  7050K .......... .......... .......... .......... .......... 37% 1.92M 8s\n",
      "  7100K .......... .......... .......... .......... .......... 37%  998K 8s\n",
      "  7150K .......... .......... .......... .......... .......... 37% 1.87M 8s\n",
      "  7200K .......... .......... .......... .......... .......... 37% 1.90M 8s\n",
      "  7250K .......... .......... .......... .......... .......... 38% 1.89M 8s\n",
      "  7300K .......... .......... .......... .......... .......... 38% 1.93M 8s\n",
      "  7350K .......... .......... .......... .......... .......... 38% 1.88M 8s\n",
      "  7400K .......... .......... .......... .......... .......... 38% 1.84M 8s\n",
      "  7450K .......... .......... .......... .......... .......... 39% 1.91M 8s\n",
      "  7500K .......... .......... .......... .......... .......... 39% 1.90M 8s\n",
      "  7550K .......... .......... .......... .......... .......... 39% 1.88M 8s\n",
      "  7600K .......... .......... .......... .......... .......... 39% 1.91M 8s\n",
      "  7650K .......... .......... .......... .......... .......... 40% 1.91M 8s\n",
      "  7700K .......... .......... .......... .......... .......... 40% 1.94M 8s\n",
      "  7750K .......... .......... .......... .......... .......... 40% 1.89M 8s\n",
      "  7800K .......... .......... .......... .......... .......... 40% 1.89M 8s\n",
      "  7850K .......... .......... .......... .......... .......... 41% 1.91M 8s\n",
      "  7900K .......... .......... .......... .......... .......... 41% 1.91M 8s\n",
      "  7950K .......... .......... .......... .......... .......... 41% 1.86M 7s\n",
      "  8000K .......... .......... .......... .......... .......... 42% 1.91M 7s\n",
      "  8050K .......... .......... .......... .......... .......... 42% 1.89M 7s\n",
      "  8100K .......... .......... .......... .......... .......... 42% 1.88M 7s\n",
      "  8150K .......... .......... .......... .......... .......... 42% 1.90M 7s\n",
      "  8200K .......... .......... .......... .......... .......... 43% 1.90M 7s\n",
      "  8250K .......... .......... .......... .......... .......... 43% 1.91M 7s\n",
      "  8300K .......... .......... .......... .......... .......... 43% 1.90M 7s\n",
      "  8350K .......... .......... .......... .......... .......... 43% 1002K 7s\n",
      "  8400K .......... .......... .......... .......... .......... 44% 1.89M 7s\n",
      "  8450K .......... .......... .......... .......... .......... 44% 1.89M 7s\n",
      "  8500K .......... .......... .......... .......... .......... 44% 1.86M 7s\n",
      "  8550K .......... .......... .......... .......... .......... 44% 1.88M 7s\n",
      "  8600K .......... .......... .......... .......... .......... 45% 1.90M 7s\n",
      "  8650K .......... .......... .......... .......... .......... 45% 1.90M 7s\n",
      "  8700K .......... .......... .......... .......... .......... 45% 1.92M 7s\n",
      "  8750K .......... .......... .......... .......... .......... 45% 1.83M 7s\n",
      "  8800K .......... .......... .......... .......... .......... 46% 1.92M 7s\n",
      "  8850K .......... .......... .......... .......... .......... 46% 1.91M 7s\n",
      "  8900K .......... .......... .......... .......... .......... 46% 1.89M 7s\n",
      "  8950K .......... .......... .......... .......... .......... 46% 1.90M 7s\n",
      "  9000K .......... .......... .......... .......... .......... 47% 1.91M 7s\n",
      "  9050K .......... .......... .......... .......... .......... 47% 1.90M 7s\n",
      "  9100K .......... .......... .......... .......... .......... 47% 1.92M 7s\n",
      "  9150K .......... .......... .......... .......... .......... 48% 1.85M 7s\n",
      "  9200K .......... .......... .......... .......... .......... 48% 1.93M 6s\n",
      "  9250K .......... .......... .......... .......... .......... 48% 1.88M 6s\n",
      "  9300K .......... .......... .......... .......... .......... 48% 1.89M 6s\n",
      "  9350K .......... .......... .......... .......... .......... 49% 1.89M 6s\n",
      "  9400K .......... .......... .......... .......... .......... 49% 1.91M 6s\n",
      "  9450K .......... .......... .......... .......... .......... 49% 1.91M 6s\n",
      "  9500K .......... .......... .......... .......... .......... 49% 1.92M 6s\n",
      "  9550K .......... .......... .......... .......... .......... 50%  999K 6s\n",
      "  9600K .......... .......... .......... .......... .......... 50% 1.91M 6s\n",
      "  9650K .......... .......... .......... .......... .......... 50% 1.92M 6s\n",
      "  9700K .......... .......... .......... .......... .......... 50% 1.90M 6s\n",
      "  9750K .......... .......... .......... .......... .......... 51% 1.90M 6s\n",
      "  9800K .......... .......... .......... .......... .......... 51% 1.91M 6s\n",
      "  9850K .......... .......... .......... .......... .......... 51% 1.91M 6s\n",
      "  9900K .......... .......... .......... .......... .......... 51% 1.92M 6s\n",
      "  9950K .......... .......... .......... .......... .......... 52% 1.84M 6s\n",
      " 10000K .......... .......... .......... .......... .......... 52% 1.92M 6s\n",
      " 10050K .......... .......... .......... .......... .......... 52% 1.91M 6s\n",
      " 10100K .......... .......... .......... .......... .......... 52% 1.88M 6s\n",
      " 10150K .......... .......... .......... .......... .......... 53% 1.91M 6s\n",
      " 10200K .......... .......... .......... .......... .......... 53% 1.91M 6s\n",
      " 10250K .......... .......... .......... .......... .......... 53% 1.91M 6s\n",
      " 10300K .......... .......... .......... .......... .......... 54% 1.94M 6s\n",
      " 10350K .......... .......... .......... .......... .......... 54% 1.87M 6s\n",
      " 10400K .......... .......... .......... .......... .......... 54% 1.94M 6s\n",
      " 10450K .......... .......... .......... .......... .......... 54% 1.92M 6s\n",
      " 10500K .......... .......... .......... .......... .......... 55% 1.80M 5s\n",
      " 10550K .......... .......... .......... .......... .......... 55% 1.91M 5s\n",
      " 10600K .......... .......... .......... .......... .......... 55% 1.93M 5s\n",
      " 10650K .......... .......... .......... .......... .......... 55% 1.91M 5s\n",
      " 10700K .......... .......... .......... .......... .......... 56% 1.92M 5s\n",
      " 10750K .......... .......... .......... .......... .......... 56% 1.00M 5s\n",
      " 10800K .......... .......... .......... .......... .......... 56% 1.92M 5s\n",
      " 10850K .......... .......... .......... .......... .......... 56% 1.91M 5s\n",
      " 10900K .......... .......... .......... .......... .......... 57% 1.90M 5s\n",
      " 10950K .......... .......... .......... .......... .......... 57% 1.90M 5s\n",
      " 11000K .......... .......... .......... .......... .......... 57% 1.91M 5s\n",
      " 11050K .......... .......... .......... .......... .......... 57% 1.92M 5s\n",
      " 11100K .......... .......... .......... .......... .......... 58% 1.92M 5s\n",
      " 11150K .......... .......... .......... .......... .......... 58% 1.88M 5s\n",
      " 11200K .......... .......... .......... .......... .......... 58% 1.88M 5s\n",
      " 11250K .......... .......... .......... .......... .......... 58% 1.94M 5s\n",
      " 11300K .......... .......... .......... .......... .......... 59% 1.88M 5s\n",
      " 11350K .......... .......... .......... .......... .......... 59% 1.92M 5s\n",
      " 11400K .......... .......... .......... .......... .......... 59% 1.89M 5s\n",
      " 11450K .......... .......... .......... .......... .......... 60% 1.91M 5s\n",
      " 11500K .......... .......... .......... .......... .......... 60% 1.92M 5s\n",
      " 11550K .......... .......... .......... .......... .......... 60% 1.90M 5s\n",
      " 11600K .......... .......... .......... .......... .......... 60% 1.91M 5s\n",
      " 11650K .......... .......... .......... .......... .......... 61% 1.89M 5s\n",
      " 11700K .......... .......... .......... .......... .......... 61% 1.92M 5s\n",
      " 11750K .......... .......... .......... .......... .......... 61% 1.91M 5s\n",
      " 11800K .......... .......... .......... .......... .......... 61% 1.91M 5s\n",
      " 11850K .......... .......... .......... .......... .......... 62% 1.92M 5s\n",
      " 11900K .......... .......... .......... .......... .......... 62% 1.91M 5s\n",
      " 11950K .......... .......... .......... .......... .......... 62% 1012K 4s\n",
      " 12000K .......... .......... .......... .......... .......... 62% 1.91M 4s\n",
      " 12050K .......... .......... .......... .......... .......... 63% 1.92M 4s\n",
      " 12100K .......... .......... .......... .......... .......... 63% 1.92M 4s\n",
      " 12150K .......... .......... .......... .......... .......... 63% 1.91M 4s\n",
      " 12200K .......... .......... .......... .......... .......... 63% 1.94M 4s\n",
      " 12250K .......... .......... .......... .......... .......... 64% 1.92M 4s\n",
      " 12300K .......... .......... .......... .......... .......... 64% 1.91M 4s\n",
      " 12350K .......... .......... .......... .......... .......... 64% 1.85M 4s\n",
      " 12400K .......... .......... .......... .......... .......... 64% 1.92M 4s\n",
      " 12450K .......... .......... .......... .......... .......... 65% 1.92M 4s\n",
      " 12500K .......... .......... .......... .......... .......... 65% 1.94M 4s\n",
      " 12550K .......... .......... .......... .......... .......... 65% 1.91M 4s\n",
      " 12600K .......... .......... .......... .......... .......... 66% 1.93M 4s\n",
      " 12650K .......... .......... .......... .......... .......... 66% 1.91M 4s\n",
      " 12700K .......... .......... .......... .......... .......... 66% 1.94M 4s\n",
      " 12750K .......... .......... .......... .......... .......... 66% 1.90M 4s\n",
      " 12800K .......... .......... .......... .......... .......... 67% 1.93M 4s\n",
      " 12850K .......... .......... .......... .......... .......... 67% 1.88M 4s\n",
      " 12900K .......... .......... .......... .......... .......... 67% 1.91M 4s\n",
      " 12950K .......... .......... .......... .......... .......... 67% 1.91M 4s\n",
      " 13000K .......... .......... .......... .......... .......... 68% 1.92M 4s\n",
      " 13050K .......... .......... .......... .......... .......... 68% 1.92M 4s\n",
      " 13100K .......... .......... .......... .......... .......... 68% 1.88M 4s\n",
      " 13150K .......... .......... .......... .......... .......... 68% 1.92M 4s\n",
      " 13200K .......... .......... .......... .......... .......... 69% 1020K 4s\n",
      " 13250K .......... .......... .......... .......... .......... 69% 1.92M 4s\n",
      " 13300K .......... .......... .......... .......... .......... 69% 1.90M 4s\n",
      " 13350K .......... .......... .......... .......... .......... 69% 1.92M 4s\n",
      " 13400K .......... .......... .......... .......... .......... 70% 1.88M 4s\n",
      " 13450K .......... .......... .......... .......... .......... 70% 1.91M 3s\n",
      " 13500K .......... .......... .......... .......... .......... 70% 1.91M 3s\n",
      " 13550K .......... .......... .......... .......... .......... 70% 1.90M 3s\n",
      " 13600K .......... .......... .......... .......... .......... 71% 1.91M 3s\n",
      " 13650K .......... .......... .......... .......... .......... 71% 1.85M 3s\n",
      " 13700K .......... .......... .......... .......... .......... 71% 1.91M 3s\n",
      " 13750K .......... .......... .......... .......... .......... 72% 1.93M 3s\n",
      " 13800K .......... .......... .......... .......... .......... 72%  488K 3s\n",
      " 13850K .......... .......... .......... .......... .......... 72% 1.93M 3s\n",
      " 13900K .......... .......... .......... .......... .......... 72% 1.90M 3s\n",
      " 13950K .......... .......... .......... .......... .......... 73% 1007K 3s\n",
      " 14000K .......... .......... .......... .......... .......... 73% 1.93M 3s\n",
      " 14050K .......... .......... .......... .......... .......... 73% 1.92M 3s\n",
      " 14100K .......... .......... .......... .......... .......... 73% 1.89M 3s\n",
      " 14150K .......... .......... .......... .......... .......... 74% 1.92M 3s\n",
      " 14200K .......... .......... .......... .......... .......... 74% 1.91M 3s\n",
      " 14250K .......... .......... .......... .......... .......... 74% 1.92M 3s\n",
      " 14300K .......... .......... .......... .......... .......... 74% 1.93M 3s\n",
      " 14350K .......... .......... .......... .......... .......... 75% 1.90M 3s\n",
      " 14400K .......... .......... .......... .......... .......... 75% 1.85M 3s\n",
      " 14450K .......... .......... .......... .......... .......... 75% 1.93M 3s\n",
      " 14500K .......... .......... .......... .......... .......... 75% 1.85M 3s\n",
      " 14550K .......... .......... .......... .......... .......... 76% 1.91M 3s\n",
      " 14600K .......... .......... .......... .......... .......... 76% 1.86M 3s\n",
      " 14650K .......... .......... .......... .......... .......... 76% 1.94M 3s\n",
      " 14700K .......... .......... .......... .......... .......... 76% 1.88M 3s\n",
      " 14750K .......... .......... .......... .......... .......... 77% 1.93M 3s\n",
      " 14800K .......... .......... .......... .......... .......... 77% 1.88M 3s\n",
      " 14850K .......... .......... .......... .......... .......... 77% 1.91M 3s\n",
      " 14900K .......... .......... .......... .......... .......... 78% 1.84M 3s\n",
      " 14950K .......... .......... .......... .......... .......... 78% 1.91M 3s\n",
      " 15000K .......... .......... .......... .......... .......... 78% 1.94M 3s\n",
      " 15050K .......... .......... .......... .......... .......... 78% 1.92M 2s\n",
      " 15100K .......... .......... .......... .......... .......... 79% 1.05M 2s\n",
      " 15150K .......... .......... .......... .......... .......... 79% 1.93M 2s\n",
      " 15200K .......... .......... .......... .......... .......... 79% 1.88M 2s\n",
      " 15250K .......... .......... .......... .......... .......... 79% 1.91M 2s\n",
      " 15300K .......... .......... .......... .......... .......... 80% 1.91M 2s\n",
      " 15350K .......... .......... .......... .......... .......... 80% 1.81M 2s\n",
      " 15400K .......... .......... .......... .......... .......... 80% 1.94M 2s\n",
      " 15450K .......... .......... .......... .......... .......... 80% 1.92M 2s\n",
      " 15500K .......... .......... .......... .......... .......... 81% 1.88M 2s\n",
      " 15550K .......... .......... .......... .......... .......... 81% 1.94M 2s\n",
      " 15600K .......... .......... .......... .......... .......... 81% 1.92M 2s\n",
      " 15650K .......... .......... .......... .......... .......... 81% 1.90M 2s\n",
      " 15700K .......... .......... .......... .......... .......... 82% 1.91M 2s\n",
      " 15750K .......... .......... .......... .......... .......... 82% 1.90M 2s\n",
      " 15800K .......... .......... .......... .......... .......... 82% 1.95M 2s\n",
      " 15850K .......... .......... .......... .......... .......... 82% 1.92M 2s\n",
      " 15900K .......... .......... .......... .......... .......... 83% 1.93M 2s\n",
      " 15950K .......... .......... .......... .......... .......... 83% 1.89M 2s\n",
      " 16000K .......... .......... .......... .......... .......... 83% 1.93M 2s\n",
      " 16050K .......... .......... .......... .......... .......... 84% 1.92M 2s\n",
      " 16100K .......... .......... .......... .......... .......... 84% 1.91M 2s\n",
      " 16150K .......... .......... .......... .......... .......... 84% 1.92M 2s\n",
      " 16200K .......... .......... .......... .......... .......... 84% 1.94M 2s\n",
      " 16250K .......... .......... .......... .......... .......... 85% 21.1M 2s\n",
      " 16300K .......... .......... .......... .......... .......... 85% 1.96M 2s\n",
      " 16350K .......... .......... .......... .......... .......... 85% 1019K 2s\n",
      " 16400K .......... .......... .......... .......... .......... 85% 1.92M 2s\n",
      " 16450K .......... .......... .......... .......... .......... 86% 1.86M 2s\n",
      " 16500K .......... .......... .......... .......... .......... 86% 27.5M 2s\n",
      " 16550K .......... .......... .......... .......... .......... 86% 1.90M 2s\n",
      " 16600K .......... .......... .......... .......... .......... 86% 1.94M 2s\n",
      " 16650K .......... .......... .......... .......... .......... 87% 1.87M 1s\n",
      " 16700K .......... .......... .......... .......... .......... 87% 1.94M 1s\n",
      " 16750K .......... .......... .......... .......... .......... 87% 1.01M 1s\n",
      " 16800K .......... .......... .......... .......... .......... 87% 17.5M 1s\n",
      " 16850K .......... .......... .......... .......... .......... 88% 1.90M 1s\n",
      " 16900K .......... .......... .......... .......... .......... 88% 1.95M 1s\n",
      " 16950K .......... .......... .......... .......... .......... 88% 1.91M 1s\n",
      " 17000K .......... .......... .......... .......... .......... 88% 1.91M 1s\n",
      " 17050K .......... .......... .......... .......... .......... 89% 1.93M 1s\n",
      " 17100K .......... .......... .......... .......... .......... 89% 1.92M 1s\n",
      " 17150K .......... .......... .......... .......... .......... 89% 1.90M 1s\n",
      " 17200K .......... .......... .......... .......... .......... 90% 1.94M 1s\n",
      " 17250K .......... .......... .......... .......... .......... 90% 1.90M 1s\n",
      " 17300K .......... .......... .......... .......... .......... 90% 1.93M 1s\n",
      " 17350K .......... .......... .......... .......... .......... 90% 1.94M 1s\n",
      " 17400K .......... .......... .......... .......... .......... 91% 1.93M 1s\n",
      " 17450K .......... .......... .......... .......... .......... 91% 1.94M 1s\n",
      " 17500K .......... .......... .......... .......... .......... 91% 1.87M 1s\n",
      " 17550K .......... .......... .......... .......... .......... 91% 1.93M 1s\n",
      " 17600K .......... .......... .......... .......... .......... 92% 1.93M 1s\n",
      " 17650K .......... .......... .......... .......... .......... 92% 1.92M 1s\n",
      " 17700K .......... .......... .......... .......... .......... 92% 1.92M 1s\n",
      " 17750K .......... .......... .......... .......... .......... 92% 30.6M 1s\n",
      " 17800K .......... .......... .......... .......... .......... 93% 1.91M 1s\n",
      " 17850K .......... .......... .......... .......... .......... 93% 1.93M 1s\n",
      " 17900K .......... .......... .......... .......... .......... 93% 1013K 1s\n",
      " 17950K .......... .......... .......... .......... .......... 93% 1.92M 1s\n",
      " 18000K .......... .......... .......... .......... .......... 94% 24.0M 1s\n",
      " 18050K .......... .......... .......... .......... .......... 94% 1.94M 1s\n",
      " 18100K .......... .......... .......... .......... .......... 94% 1.88M 1s\n",
      " 18150K .......... .......... .......... .......... .......... 94% 1.91M 1s\n",
      " 18200K .......... .......... .......... .......... .......... 95% 1.90M 1s\n",
      " 18250K .......... .......... .......... .......... .......... 95% 1.92M 1s\n",
      " 18300K .......... .......... .......... .......... .......... 95% 1.90M 0s\n",
      " 18350K .......... .......... .......... .......... .......... 96% 1.93M 0s\n",
      " 18400K .......... .......... .......... .......... .......... 96% 1.90M 0s\n",
      " 18450K .......... .......... .......... .......... .......... 96% 1.95M 0s\n",
      " 18500K .......... .......... .......... .......... .......... 96% 21.8M 0s\n",
      " 18550K .......... .......... .......... .......... .......... 97% 1.85M 0s\n",
      " 18600K .......... .......... .......... .......... .......... 97% 1.89M 0s\n",
      " 18650K .......... .......... .......... .......... .......... 97% 1.92M 0s\n",
      " 18700K .......... .......... .......... .......... .......... 97% 1.87M 0s\n",
      " 18750K .......... .......... .......... .......... .......... 98% 1.94M 0s\n",
      " 18800K .......... .......... .......... .......... .......... 98% 1.90M 0s\n",
      " 18850K .......... .......... .......... .......... .......... 98% 1.95M 0s\n",
      " 18900K .......... .......... .......... .......... .......... 98% 14.1M 0s\n",
      " 18950K .......... .......... .......... .......... .......... 99% 2.06M 0s\n",
      " 19000K .......... .......... .......... .......... .......... 99% 1.92M 0s\n",
      " 19050K .......... .......... .......... .......... .......... 99% 1.91M 0s\n",
      " 19100K .......... .......... .......... .......... .......... 99% 22.7M 0s\n",
      " 19150K .......... ...                                        100%  615K=11s\n",
      "\n",
      "2018-05-16 11:00:56 (1.67 MB/s) - ‘Silva.seed_v132.tgz’ saved [19623900/19623900]\n",
      "\n"
     ]
    }
   ],
   "source": [
    "%%bash \n",
    "# Remove database if already exsists\n",
    "if [ -d mothur_silva_db ]; then\n",
    "    rm -rf mothur_silva_db\n",
    "fi\n",
    "\n",
    "#if ! [ -d mothur_silva_db ]; then\n",
    "#    mkdir mothur_silva_db\n",
    "#fi\n",
    "\n",
    "mkdir mothur_silva_db\n",
    "cd mothur_silva_db\n",
    "\n",
    "# Download mothur recreatd SEED database release 132.\n",
    "wget https://www.mothur.org/w/images/7/71/Silva.seed_v132.tgz\n",
    "#wget https://www.mothur.org/w/images/a/a4/Silva.seed_v128.tgz\n",
    "tar -xvzf Silva.seed_v132.tgz\n",
    "rm Silva.seed_v132.tgz"
   ]
  },
  {
   "cell_type": "code",
   "execution_count": 18,
   "metadata": {
    "collapsed": false
   },
   "outputs": [
    {
     "name": "stdout",
     "output_type": "stream",
     "text": [
      "100\n",
      "200\n",
      "300\n",
      "400\n",
      "500\n",
      "560\n",
      "\n",
      "\n",
      "\n",
      "Length of filtered alignment: 10180\n",
      "Number of columns removed: 39820\n",
      "Length of the original alignment: 50000\n",
      "Number of sequences used to construct filter: 11180\n",
      "\n",
      "Output File Names: \n",
      "silva.filter\n",
      "silva.seed_v132.filter.fasta\n",
      "\n",
      "\n",
      "mothur > quit()\n",
      "\n",
      "Number of sequences post-filter: 11180\n"
     ]
    }
   ],
   "source": [
    "silvaFile = 'silva.seed_v132.align'\n",
    "cmd = 'mothur \"#filter.seqs(vertical=t, fasta={}, processors={})\"'.format(silvaFile, nprocs)\n",
    "!cd mothur_silva_db; $cmd | tail -n 20\n",
    "\n",
    "silvaFileFilt = os.path.splitext(silvaFile)[0] + '.filter.fasta'\n",
    "silvaFileFilt = os.path.join('mothur_silva_db', silvaFileFilt)\n",
    "ret = !grep -c \">\" $silvaFileFilt\n",
    "print ('\\nNumber of sequences post-filter: {}'.format(ret[0]))"
   ]
  },
  {
   "cell_type": "code",
   "execution_count": 19,
   "metadata": {
    "collapsed": false
   },
   "outputs": [
    {
     "name": "stdout",
     "output_type": "stream",
     "text": [
      "71600\r\n",
      "71700\r\n",
      "71800\r\n",
      "71900\r\n",
      "72000\r\n",
      "72100\r\n",
      "72200\r\n",
      "72300\r\n",
      "72400\r\n",
      "72482\r\n",
      "[WARNING]: Some of your sequences generated alignments that eliminated too many bases, a list is provided in pear_merged-fullCyc2_lib8.assembled.dmult_maxee1_noN.unique.flip.accnos. If the reverse compliment proved to be better it was reported.\r\n",
      "It took 574 secs to align 1442457 sequences.\r\n",
      "\r\n",
      "\r\n",
      "Output File Names: \r\n",
      "pear_merged-fullCyc2_lib8.assembled.dmult_maxee1_noN.unique.align\r\n",
      "pear_merged-fullCyc2_lib8.assembled.dmult_maxee1_noN.unique.align.report\r\n",
      "pear_merged-fullCyc2_lib8.assembled.dmult_maxee1_noN.unique.flip.accnos\r\n",
      "\r\n",
      "\r\n",
      "mothur > quit()\r\n",
      "\r\n",
      "\r\n",
      "<<<<<<<<<<<<<<<<<<<<<<<<<<<<<<^>>>>>>>>>>>>>>>>>>>>>>>>>>>>>\r\n",
      "<<<<<<<<<<<<<<<<<<<<<<<<<<<<<<^>>>>>>>>>>>>>>>>>>>>>>>>>>>>>\r\n",
      "<<<<<<<<<<<<<<<<<<<<<<<<<<<<<<^>>>>>>>>>>>>>>>>>>>>>>>>>>>>>\r\n",
      "Detected 1 [WARNING] messages, please review.\r\n",
      "<<<<<<<<<<<<<<<<<<<<<<<<<<<<<<^>>>>>>>>>>>>>>>>>>>>>>>>>>>>>\r\n",
      "<<<<<<<<<<<<<<<<<<<<<<<<<<<<<<^>>>>>>>>>>>>>>>>>>>>>>>>>>>>>\r\n",
      "<<<<<<<<<<<<<<<<<<<<<<<<<<<<<<^>>>>>>>>>>>>>>>>>>>>>>>>>>>>>\r\n"
     ]
    }
   ],
   "source": [
    "# aligning sequences\n",
    "qcFile3a = re.sub('-', '\\-', qcFile3)\n",
    "cmd = 'mothur \"#align.seqs(candidate={}, template={}, processors={}, flip=T)\"'.format(qcFile3a, silvaFileFilt, nprocs)\n",
    "!$cmd | tail -n 30"
   ]
  },
  {
   "cell_type": "code",
   "execution_count": 20,
   "metadata": {
    "collapsed": false
   },
   "outputs": [
    {
     "name": "stdout",
     "output_type": "stream",
     "text": [
      "-rw-rw-r-- 1 sam sam 14G May 16 11:19 pear_merged-fullCyc2_lib8.assembled.dmult_maxee1_noN.unique.align\r\n"
     ]
    }
   ],
   "source": [
    "qcFile4 = os.path.splitext(qcFile3)[0] + '.align'\n",
    "!ls -thlc $qcFile4 "
   ]
  },
  {
   "cell_type": "code",
   "execution_count": 21,
   "metadata": {
    "collapsed": false
   },
   "outputs": [
    {
     "name": "stdout",
     "output_type": "stream",
     "text": [
      "70700\r\n",
      "70800\r\n",
      "70900\r\n",
      "71000\r\n",
      "71100\r\n",
      "71200\r\n",
      "71300\r\n",
      "71400\r\n",
      "71500\r\n",
      "71600\r\n",
      "71700\r\n",
      "71800\r\n",
      "71900\r\n",
      "72000\r\n",
      "72100\r\n",
      "72134\r\n",
      "\r\n",
      "\r\n",
      "\r\n",
      "Length of filtered alignment: 1433\r\n",
      "Number of columns removed: 8747\r\n",
      "Length of the original alignment: 10180\r\n",
      "Number of sequences used to construct filter: 1442457\r\n",
      "\r\n",
      "Output File Names: \r\n",
      "pear_merged-fullCyc2_lib8.filter\r\n",
      "pear_merged-fullCyc2_lib8.assembled.dmult_maxee1_noN.unique.filter.fasta\r\n",
      "\r\n",
      "\r\n",
      "mothur > quit()\r\n"
     ]
    }
   ],
   "source": [
    "# filtering out gap positions in the alignment\n",
    "qcFile4a = re.sub('-', '\\-', qcFile4)\n",
    "cmd = 'mothur \"#filter.seqs(vertical=t, fasta={}, processors={})\"'.format(qcFile4a, nprocs)\n",
    "!$cmd | tail -n 30"
   ]
  },
  {
   "cell_type": "code",
   "execution_count": 22,
   "metadata": {
    "collapsed": false
   },
   "outputs": [
    {
     "name": "stdout",
     "output_type": "stream",
     "text": [
      "-rw-rw-r-- 1 sam sam 2.0G May 16 11:20 pear_merged-fullCyc2_lib8.assembled.dmult_maxee1_noN.unique.filter.fasta\r\n"
     ]
    }
   ],
   "source": [
    "qcFile5 = os.path.splitext(qcFile3)[0] + '.filter.fasta'\n",
    "!ls -thlc $qcFile5"
   ]
  },
  {
   "cell_type": "code",
   "execution_count": 23,
   "metadata": {
    "collapsed": false
   },
   "outputs": [
    {
     "name": "stdout",
     "output_type": "stream",
     "text": [
      "Using 20 processors.\r\n",
      "\r\n",
      "\t\tStart\tEnd\tNBases\tAmbigs\tPolymer\tNumSeqs\r\n",
      "Minimum:\t0\t0\t0\t0\t1\t1\r\n",
      "2.5%-tile:\t380\t1113\t252\t0\t4\t50999\r\n",
      "25%-tile:\t380\t1113\t253\t0\t4\t509986\r\n",
      "Median: \t380\t1113\t253\t0\t5\t1019971\r\n",
      "75%-tile:\t380\t1113\t253\t0\t6\t1529956\r\n",
      "97.5%-tile:\t380\t1113\t254\t0\t8\t1988942\r\n",
      "Maximum:\t1433\t1433\t370\t0\t68\t2039940\r\n",
      "Mean:\t381.891\t1112.6\t252.062\t0\t5.1396\r\n",
      "# of unique seqs:\t1442457\r\n",
      "total # of seqs:\t2039940\r\n",
      "\r\n",
      "Output File Names: \r\n",
      "pear_merged-fullCyc2_lib8.assembled.dmult_maxee1_noN.unique.filter.summary\r\n",
      "\r\n",
      "It took 8 secs to summarize 2039940 sequences.\r\n",
      "\r\n",
      "mothur > quit()\r\n"
     ]
    }
   ],
   "source": [
    "cmd = 'mothur \"#summary.seqs(fasta={}, processors={}, name={})\"'.format(qcFile5, nprocs, nameFile)\n",
    "!$cmd | tail -n 20"
   ]
  },
  {
   "cell_type": "markdown",
   "metadata": {},
   "source": [
    "## Removing homopolymers (> 8) and screening out sequences that don't align to an amplicon region"
   ]
  },
  {
   "cell_type": "code",
   "execution_count": 30,
   "metadata": {
    "collapsed": false
   },
   "outputs": [
    {
     "name": "stdout",
     "output_type": "stream",
     "text": [
      "Processing sequence: 70300\r\n",
      "Processing sequence: 70400\r\n",
      "Processing sequence: 70500\r\n",
      "Processing sequence: 70600\r\n",
      "Processing sequence: 70700\r\n",
      "Processing sequence: 70800\r\n",
      "Processing sequence: 70900\r\n",
      "Processing sequence: 71000\r\n",
      "Processing sequence: 71100\r\n",
      "Processing sequence: 71200\r\n",
      "Processing sequence: 71300\r\n",
      "Processing sequence: 71400\r\n",
      "Processing sequence: 71500\r\n",
      "Processing sequence: 71600\r\n",
      "Processing sequence: 71700\r\n",
      "Processing sequence: 71800\r\n",
      "Processing sequence: 71900\r\n",
      "Processing sequence: 72000\r\n",
      "Processing sequence: 72100\r\n",
      "\r\n",
      "Output File Names: \r\n",
      "pear_merged-fullCyc2_lib8.assembled.dmult_maxee1_noN.unique.filter.good.fasta\r\n",
      "pear_merged-fullCyc2_lib8.assembled.dmult_maxee1_noN.unique.filter.bad.accnos\r\n",
      "pear_merged-fullCyc2_lib8.assembled.dmult_maxee1_noN.good.names\r\n",
      "group_file.good.txt\r\n",
      "\r\n",
      "\r\n",
      "It took 14 secs to screen 1442457 sequences.\r\n",
      "\r\n",
      "mothur > quit()\r\n"
     ]
    }
   ],
   "source": [
    "cmd = \"\"\"mothur '#screen.seqs(fasta={},\\\n",
    "    processors={},\\\n",
    "    name={},\\\n",
    "    group={},\\\n",
    "    start={},\\\n",
    "    end={},\\\n",
    "    maxhomop=8)'\"\"\".format(qcFile5, nprocs, nameFile, 'group_file.txt', 380, 1113)\n",
    "!$cmd | tail -n 30"
   ]
  },
  {
   "cell_type": "code",
   "execution_count": 31,
   "metadata": {
    "collapsed": false
   },
   "outputs": [
    {
     "name": "stdout",
     "output_type": "stream",
     "text": [
      "Number of sequences post-filter: 1405795\n"
     ]
    }
   ],
   "source": [
    "qcFile6 = os.path.splitext(qcFile5)[0] + '.good.fasta'\n",
    "ret = !grep -c \">\" $qcFile6\n",
    "print ('Number of sequences post-filter: {}'.format(ret[0]))"
   ]
  },
  {
   "cell_type": "code",
   "execution_count": 32,
   "metadata": {
    "collapsed": false
   },
   "outputs": [
    {
     "name": "stdout",
     "output_type": "stream",
     "text": [
      "70200\r\n",
      "70262\r\n",
      "0\r\n",
      "70200\r\n",
      "70300\r\n",
      "70365\r\n",
      "\r\n",
      "\r\n",
      "\r\n",
      "Length of filtered alignment: 939\r\n",
      "Number of columns removed: 494\r\n",
      "Length of the original alignment: 1433\r\n",
      "Number of sequences used to construct filter: 1405795\r\n",
      "\r\n",
      "Output File Names: \r\n",
      "pear_merged-fullCyc2_lib8.filter\r\n",
      "pear_merged-fullCyc2_lib8.assembled.dmult_maxee1_noN.unique.filter.good.filter.fasta\r\n",
      "\r\n",
      "\r\n",
      "mothur > quit()\r\n"
     ]
    }
   ],
   "source": [
    "qcFile6a = re.sub('-', '\\-', qcFile6)\n",
    "cmd = 'mothur \"#filter.seqs(fasta={}, processors={}, vertical=T)\"'.format(qcFile6a, nprocs)\n",
    "!$cmd | tail -n 20"
   ]
  },
  {
   "cell_type": "code",
   "execution_count": 33,
   "metadata": {
    "collapsed": false
   },
   "outputs": [
    {
     "name": "stdout",
     "output_type": "stream",
     "text": [
      "-rw-rw-r-- 1 sam sam 1.3G May 16 11:21 pear_merged-fullCyc2_lib8.assembled.dmult_maxee1_noN.unique.filter.good.filter.fasta\r\n"
     ]
    }
   ],
   "source": [
    "qcFile7 = os.path.splitext(qcFile6)[0] + '.filter.fasta'\n",
    "!ls -thlc $qcFile7"
   ]
  },
  {
   "cell_type": "markdown",
   "metadata": {},
   "source": [
    "## Deunique seqs"
   ]
  },
  {
   "cell_type": "code",
   "execution_count": 34,
   "metadata": {
    "collapsed": false
   },
   "outputs": [
    {
     "name": "stdout",
     "output_type": "stream",
     "text": [
      "mothur v.1.39.5\r\n",
      "Last updated: 3/20/2017\r\n",
      "\r\n",
      "by\r\n",
      "Patrick D. Schloss\r\n",
      "\r\n",
      "Department of Microbiology & Immunology\r\n",
      "University of Michigan\r\n",
      "http://www.mothur.org\r\n",
      "\r\n",
      "When using, please cite:\r\n",
      "Schloss, P.D., et al., Introducing mothur: Open-source, platform-independent, community-supported software for describing and comparing microbial communities. Appl Environ Microbiol, 2009. 75(23):7537-41.\r\n",
      "\r\n",
      "Distributed under the GNU General Public License\r\n",
      "\r\n",
      "Type 'help()' for information on the commands that are available\r\n",
      "\r\n",
      "For questions and analysis support, please visit our forum at https://www.mothur.org/forum\r\n",
      "\r\n",
      "Type 'quit()' to exit program\r\n",
      "\r\n",
      "\r\n",
      "\r\n",
      "mothur > deunique.seqs(fasta=pear_merged-fullCyc2_lib8.assembled.dmult_maxee1_noN.unique.filter.good.filter.fasta, name=pear_merged-fullCyc2_lib8.assembled.dmult_maxee1_noN.names)\r\n",
      "\r\n",
      "Output File Names: \r\n",
      "pear_merged-fullCyc2_lib8.assembled.dmult_maxee1_noN.unique.filter.good.filter.redundant.fasta\r\n",
      "\r\n",
      "\r\n",
      "mothur > quit()\r\n"
     ]
    }
   ],
   "source": [
    "cmd = 'mothur \"#deunique.seqs(fasta={}, name={})\"'.format(qcFile7, nameFile)\n",
    "!$cmd | tail -n 30"
   ]
  },
  {
   "cell_type": "markdown",
   "metadata": {},
   "source": [
    "### Final QC-ed file"
   ]
  },
  {
   "cell_type": "code",
   "execution_count": 35,
   "metadata": {
    "collapsed": true
   },
   "outputs": [],
   "source": [
    "qcFile8 = os.path.splitext(qcFile7)[0] + '.redundant.fasta'\n",
    "qcFinal = 'finalQC.fasta'\n",
    "!perl -pe 's/[-.]//g if ! /^>/' $qcFile8 > $qcFinal"
   ]
  },
  {
   "cell_type": "code",
   "execution_count": 36,
   "metadata": {
    "collapsed": false
   },
   "outputs": [
    {
     "name": "stdout",
     "output_type": "stream",
     "text": [
      "\r\n",
      "Using 20 processors.\r\n",
      "\r\n",
      "\t\tStart\tEnd\tNBases\tAmbigs\tPolymer\tNumSeqs\r\n",
      "Minimum:\t1\t213\t213\t0\t3\t1\r\n",
      "2.5%-tile:\t1\t253\t253\t0\t4\t49854\r\n",
      "25%-tile:\t1\t253\t253\t0\t4\t498538\r\n",
      "Median: \t1\t253\t253\t0\t5\t997075\r\n",
      "75%-tile:\t1\t253\t253\t0\t6\t1495612\r\n",
      "97.5%-tile:\t1\t254\t254\t0\t7\t1944295\r\n",
      "Maximum:\t1\t370\t370\t0\t8\t1994148\r\n",
      "Mean:\t1\t252.827\t252.827\t0\t5.12258\r\n",
      "# of Seqs:\t1994148\r\n",
      "\r\n",
      "Output File Names: \r\n",
      "finalQC.summary\r\n",
      "\r\n",
      "It took 2 secs to summarize 1994148 sequences.\r\n",
      "\r\n",
      "mothur > quit()\r\n"
     ]
    }
   ],
   "source": [
    "cmd = 'mothur \"#summary.seqs(fasta={}, processors={})\"'.format(qcFinal, nprocs)\n",
    "!$cmd | tail -n 20"
   ]
  },
  {
   "cell_type": "code",
   "execution_count": 37,
   "metadata": {
    "collapsed": false
   },
   "outputs": [
    {
     "name": "stdout",
     "output_type": "stream",
     "text": [
      ">MR.A.13C-Van.D6.R2_Frac17_2\r\n",
      "TACGTAGGGTGCGAGCGTTAATCGGAATTACTGGGCGTAAAGCGTGCGCAGGCGGTTTGTTAAGACCGATGTGAAATCCCCGGGCTCAACCTGGGAACTGCATTGGTGACTGGCAAGCTAGAGTATGGCAGAGGGGGGTAGAATTCCACGTGTAGCAGTGAAATGCGTAGAGATGTGGAGGAATACCGATGGCGAAGGCAGCCCCCTGGGCCAATACTGACGCTCAGGCACGAAAGCGTGGGGAGCAAACAGG\r\n",
      ">MR.A.13C-Van.D6.R2_Frac7_4859\r\n",
      "TACGTAGGGTGCGAGCGTTAATCGGAATTACTGGGCGTAAAGCGTGCGCAGGCGGTTTGTTAAGACCGATGTGAAATCCCCGGGCTCAACCTGGGAACTGCATTGGTGACTGGCAAGCTAGAGTATGGCAGAGGGGGGTAGAATTCCACGTGTAGCAGTGAAATGCGTAGAGATGTGGAGGAATACCGATGGCGAAGGCAGCCCCCTGGGCCAATACTGACGCTCAGGCACGAAAGCGTGGGGAGCAAACAGG\r\n",
      ">MR.A.13C-Van.D6.R2_Frac13_8918\r\n",
      "TACGTAGGGTGCGAGCGTTAATCGGAATTACTGGGCGTAAAGCGTGCGCAGGCGGTTTGTTAAGACCGATGTGAAATCCCCGGGCTCAACCTGGGAACTGCATTGGTGACTGGCAAGCTAGAGTATGGCAGAGGGGGGTAGAATTCCACGTGTAGCAGTGAAATGCGTAGAGATGTGGAGGAATACCGATGGCGAAGGCAGCCCCCTGGGCCAATACTGACGCTCAGGCACGAAAGCGTGGGGAGCAAACAGG\r\n"
     ]
    }
   ],
   "source": [
    "!head -n 6 $qcFinal"
   ]
  },
  {
   "cell_type": "markdown",
   "metadata": {},
   "source": [
    "## Summary of number of seqs per sample"
   ]
  },
  {
   "cell_type": "code",
   "execution_count": 38,
   "metadata": {
    "collapsed": true
   },
   "outputs": [],
   "source": [
    "re1 = re.compile('_[0-9]+$')\n",
    "\n",
    "qcFinalSum = os.path.splitext(qcFinal)[0] + '.summary'\n",
    "\n",
    "samp_count = dict()\n",
    "with open(qcFinalSum, 'r') as inFH:\n",
    "    for line in inFH:\n",
    "        if line.startswith('seqname'):\n",
    "            continue\n",
    "        line = line.rstrip().split('\\t')\n",
    "        line[0] = re.sub(re1, '', line[0])\n",
    "        try:\n",
    "            samp_count[line[0]] += 1\n",
    "        except KeyError:\n",
    "            samp_count[line[0]] = 1"
   ]
  },
  {
   "cell_type": "code",
   "execution_count": 39,
   "metadata": {
    "collapsed": false
   },
   "outputs": [
    {
     "data": {
      "text/html": [
       "<div>\n",
       "<style scoped>\n",
       "    .dataframe tbody tr th:only-of-type {\n",
       "        vertical-align: middle;\n",
       "    }\n",
       "\n",
       "    .dataframe tbody tr th {\n",
       "        vertical-align: top;\n",
       "    }\n",
       "\n",
       "    .dataframe thead th {\n",
       "        text-align: right;\n",
       "    }\n",
       "</style>\n",
       "<table border=\"1\" class=\"dataframe\">\n",
       "  <thead>\n",
       "    <tr style=\"text-align: right;\">\n",
       "      <th></th>\n",
       "      <th>Sample</th>\n",
       "      <th>seq_count</th>\n",
       "    </tr>\n",
       "  </thead>\n",
       "  <tbody>\n",
       "    <tr>\n",
       "      <th>0</th>\n",
       "      <td>MR.A.13C-Van.D6.R2_Frac17</td>\n",
       "      <td>9858</td>\n",
       "    </tr>\n",
       "    <tr>\n",
       "      <th>1</th>\n",
       "      <td>MR.A.13C-Van.D6.R2_Frac7</td>\n",
       "      <td>19209</td>\n",
       "    </tr>\n",
       "    <tr>\n",
       "      <th>2</th>\n",
       "      <td>MR.A.13C-Van.D6.R2_Frac13</td>\n",
       "      <td>40887</td>\n",
       "    </tr>\n",
       "    <tr>\n",
       "      <th>3</th>\n",
       "      <td>MR.A.13C-Van.D6.R2_Frac10</td>\n",
       "      <td>18819</td>\n",
       "    </tr>\n",
       "    <tr>\n",
       "      <th>4</th>\n",
       "      <td>MR.A.13C-Pal.D6.R1_Frac15</td>\n",
       "      <td>5229</td>\n",
       "    </tr>\n",
       "    <tr>\n",
       "      <th>5</th>\n",
       "      <td>MR.A.12C-Con.D3.R1_Frac25</td>\n",
       "      <td>6478</td>\n",
       "    </tr>\n",
       "    <tr>\n",
       "      <th>6</th>\n",
       "      <td>MR.A.13C-Van.D6.R2_Frac18</td>\n",
       "      <td>10699</td>\n",
       "    </tr>\n",
       "    <tr>\n",
       "      <th>7</th>\n",
       "      <td>MR.A.13C-Van.D6.R2_Frac27</td>\n",
       "      <td>13271</td>\n",
       "    </tr>\n",
       "    <tr>\n",
       "      <th>8</th>\n",
       "      <td>MR.A.13C-Van.D6.R2_Frac11</td>\n",
       "      <td>33693</td>\n",
       "    </tr>\n",
       "    <tr>\n",
       "      <th>9</th>\n",
       "      <td>MR.A.13C-Van.D6.R2_Frac6</td>\n",
       "      <td>23270</td>\n",
       "    </tr>\n",
       "    <tr>\n",
       "      <th>10</th>\n",
       "      <td>MR.A.13C-Van.D6.R2_Frac8</td>\n",
       "      <td>13201</td>\n",
       "    </tr>\n",
       "    <tr>\n",
       "      <th>11</th>\n",
       "      <td>MR.A.12C-Con.D3.R1_Frac19</td>\n",
       "      <td>4808</td>\n",
       "    </tr>\n",
       "    <tr>\n",
       "      <th>12</th>\n",
       "      <td>MR.A.13C-Van.D6.R2_Frac5</td>\n",
       "      <td>37295</td>\n",
       "    </tr>\n",
       "    <tr>\n",
       "      <th>13</th>\n",
       "      <td>MR.A.13C-Pal.D6.R1_Frac28</td>\n",
       "      <td>6141</td>\n",
       "    </tr>\n",
       "    <tr>\n",
       "      <th>14</th>\n",
       "      <td>MR.A.13C-Pal.D6.R1_Frac23</td>\n",
       "      <td>5076</td>\n",
       "    </tr>\n",
       "    <tr>\n",
       "      <th>15</th>\n",
       "      <td>MR.A.13C-Van.D6.R2_Frac12</td>\n",
       "      <td>36621</td>\n",
       "    </tr>\n",
       "    <tr>\n",
       "      <th>16</th>\n",
       "      <td>MR.A.13C-Van.D6.R2_Frac15</td>\n",
       "      <td>11732</td>\n",
       "    </tr>\n",
       "    <tr>\n",
       "      <th>17</th>\n",
       "      <td>MR.A.13C-Van.D6.R2_Frac4</td>\n",
       "      <td>23344</td>\n",
       "    </tr>\n",
       "    <tr>\n",
       "      <th>18</th>\n",
       "      <td>MR.A.13C-Pal.D6.R1_Frac21</td>\n",
       "      <td>2399</td>\n",
       "    </tr>\n",
       "    <tr>\n",
       "      <th>19</th>\n",
       "      <td>MR.A.13C-Van.D6.R2_Frac9</td>\n",
       "      <td>28936</td>\n",
       "    </tr>\n",
       "    <tr>\n",
       "      <th>20</th>\n",
       "      <td>MR.A.12C-Con.D3.R1_Frac28</td>\n",
       "      <td>5115</td>\n",
       "    </tr>\n",
       "    <tr>\n",
       "      <th>21</th>\n",
       "      <td>MR.A.13C-Pal.D6.R1_Frac8</td>\n",
       "      <td>5317</td>\n",
       "    </tr>\n",
       "    <tr>\n",
       "      <th>22</th>\n",
       "      <td>MR.A.13C-Van.D6.R2_Frac14</td>\n",
       "      <td>18848</td>\n",
       "    </tr>\n",
       "    <tr>\n",
       "      <th>23</th>\n",
       "      <td>MR.A.13C-Van.D6.R2_Frac16</td>\n",
       "      <td>9201</td>\n",
       "    </tr>\n",
       "    <tr>\n",
       "      <th>24</th>\n",
       "      <td>MR.A.12C-Con.D3.R1_Frac13</td>\n",
       "      <td>5120</td>\n",
       "    </tr>\n",
       "    <tr>\n",
       "      <th>25</th>\n",
       "      <td>MR.A.12C-Con.D3.R1_Frac5</td>\n",
       "      <td>5136</td>\n",
       "    </tr>\n",
       "    <tr>\n",
       "      <th>26</th>\n",
       "      <td>MR.A.13C-Van.D6.R2_Frac21</td>\n",
       "      <td>15985</td>\n",
       "    </tr>\n",
       "    <tr>\n",
       "      <th>27</th>\n",
       "      <td>MR.A.13C-Pal.D6.R1_Frac20</td>\n",
       "      <td>5489</td>\n",
       "    </tr>\n",
       "    <tr>\n",
       "      <th>28</th>\n",
       "      <td>MR.A.13C-Van.D6.R2_Frac24</td>\n",
       "      <td>10083</td>\n",
       "    </tr>\n",
       "    <tr>\n",
       "      <th>29</th>\n",
       "      <td>MR.A.13C-Pal.D6.R1_Frac12</td>\n",
       "      <td>6181</td>\n",
       "    </tr>\n",
       "    <tr>\n",
       "      <th>...</th>\n",
       "      <td>...</td>\n",
       "      <td>...</td>\n",
       "    </tr>\n",
       "    <tr>\n",
       "      <th>158</th>\n",
       "      <td>MR.M.13C-Xyl.D14.R1_Frac21</td>\n",
       "      <td>2960</td>\n",
       "    </tr>\n",
       "    <tr>\n",
       "      <th>159</th>\n",
       "      <td>MR.M.13C-Xyl.D14.R1_Frac27</td>\n",
       "      <td>3476</td>\n",
       "    </tr>\n",
       "    <tr>\n",
       "      <th>160</th>\n",
       "      <td>MR.M.13C-Xyl.D14.R1_Frac6</td>\n",
       "      <td>4377</td>\n",
       "    </tr>\n",
       "    <tr>\n",
       "      <th>161</th>\n",
       "      <td>MR.M.13C-Xyl.D14.R1_Frac22</td>\n",
       "      <td>5145</td>\n",
       "    </tr>\n",
       "    <tr>\n",
       "      <th>162</th>\n",
       "      <td>MR.F.12C-Con.D30.R3_Frac27</td>\n",
       "      <td>2533</td>\n",
       "    </tr>\n",
       "    <tr>\n",
       "      <th>163</th>\n",
       "      <td>MR.A.13C-Pal.D6.R1_MC</td>\n",
       "      <td>8063</td>\n",
       "    </tr>\n",
       "    <tr>\n",
       "      <th>164</th>\n",
       "      <td>MR.F.12C-Con.D30.R3_Frac12</td>\n",
       "      <td>5136</td>\n",
       "    </tr>\n",
       "    <tr>\n",
       "      <th>165</th>\n",
       "      <td>MR.M.13C-Xyl.D14.R1_Frac23</td>\n",
       "      <td>2540</td>\n",
       "    </tr>\n",
       "    <tr>\n",
       "      <th>166</th>\n",
       "      <td>MR.F.12C-Con.D30.R3_Frac15</td>\n",
       "      <td>6514</td>\n",
       "    </tr>\n",
       "    <tr>\n",
       "      <th>167</th>\n",
       "      <td>MR.M.13C-Xyl.D14.R1_Frac12</td>\n",
       "      <td>3341</td>\n",
       "    </tr>\n",
       "    <tr>\n",
       "      <th>168</th>\n",
       "      <td>MR.M.13C-Xyl.D14.R1_Frac20</td>\n",
       "      <td>3127</td>\n",
       "    </tr>\n",
       "    <tr>\n",
       "      <th>169</th>\n",
       "      <td>MR.M.13C-Xyl.D14.R1_Frac15</td>\n",
       "      <td>3845</td>\n",
       "    </tr>\n",
       "    <tr>\n",
       "      <th>170</th>\n",
       "      <td>MR.M.13C-Xyl.D14.R1_Frac4</td>\n",
       "      <td>2980</td>\n",
       "    </tr>\n",
       "    <tr>\n",
       "      <th>171</th>\n",
       "      <td>MR.F.12C-Con.D30.R3_Frac9</td>\n",
       "      <td>2667</td>\n",
       "    </tr>\n",
       "    <tr>\n",
       "      <th>172</th>\n",
       "      <td>MR.F.12C-Con.D30.R3_Frac10</td>\n",
       "      <td>3130</td>\n",
       "    </tr>\n",
       "    <tr>\n",
       "      <th>173</th>\n",
       "      <td>MR.F.12C-Con.D30.R3_Frac26</td>\n",
       "      <td>1974</td>\n",
       "    </tr>\n",
       "    <tr>\n",
       "      <th>174</th>\n",
       "      <td>MR.F.12C-Con.D30.R3_Frac14</td>\n",
       "      <td>4643</td>\n",
       "    </tr>\n",
       "    <tr>\n",
       "      <th>175</th>\n",
       "      <td>MR.F.12C-Con.D30.R3_Frac11</td>\n",
       "      <td>2687</td>\n",
       "    </tr>\n",
       "    <tr>\n",
       "      <th>176</th>\n",
       "      <td>MR.F.12C-Con.D30.R3_Frac25</td>\n",
       "      <td>1565</td>\n",
       "    </tr>\n",
       "    <tr>\n",
       "      <th>177</th>\n",
       "      <td>MR.F.12C-Con.D30.R3_Frac13</td>\n",
       "      <td>2228</td>\n",
       "    </tr>\n",
       "    <tr>\n",
       "      <th>178</th>\n",
       "      <td>MR.M.13C-Xyl.D14.R1_NC</td>\n",
       "      <td>352</td>\n",
       "    </tr>\n",
       "    <tr>\n",
       "      <th>179</th>\n",
       "      <td>MR.F.12C-Con.D30.R3_Frac20</td>\n",
       "      <td>4638</td>\n",
       "    </tr>\n",
       "    <tr>\n",
       "      <th>180</th>\n",
       "      <td>MR.F.12C-Con.D30.R3_Frac18</td>\n",
       "      <td>2452</td>\n",
       "    </tr>\n",
       "    <tr>\n",
       "      <th>181</th>\n",
       "      <td>MR.F.12C-Con.D30.R3_Frac19</td>\n",
       "      <td>1963</td>\n",
       "    </tr>\n",
       "    <tr>\n",
       "      <th>182</th>\n",
       "      <td>MR.F.12C-Con.D30.R3_NC</td>\n",
       "      <td>266</td>\n",
       "    </tr>\n",
       "    <tr>\n",
       "      <th>183</th>\n",
       "      <td>MR.F.12C-Con.D30.R3_Frac17</td>\n",
       "      <td>2408</td>\n",
       "    </tr>\n",
       "    <tr>\n",
       "      <th>184</th>\n",
       "      <td>MR.F.13C-Van.D30.R2_NC</td>\n",
       "      <td>836</td>\n",
       "    </tr>\n",
       "    <tr>\n",
       "      <th>185</th>\n",
       "      <td>MR.F.12C-Con.D30.R3_Frac21</td>\n",
       "      <td>2273</td>\n",
       "    </tr>\n",
       "    <tr>\n",
       "      <th>186</th>\n",
       "      <td>MR.A.13C-Pal.D6.R1_NC</td>\n",
       "      <td>91</td>\n",
       "    </tr>\n",
       "    <tr>\n",
       "      <th>187</th>\n",
       "      <td>MR.A.12C-Con.D3.R1_NC</td>\n",
       "      <td>154</td>\n",
       "    </tr>\n",
       "  </tbody>\n",
       "</table>\n",
       "<p>188 rows × 2 columns</p>\n",
       "</div>"
      ],
      "text/plain": [
       "                         Sample  seq_count\n",
       "0     MR.A.13C-Van.D6.R2_Frac17       9858\n",
       "1      MR.A.13C-Van.D6.R2_Frac7      19209\n",
       "2     MR.A.13C-Van.D6.R2_Frac13      40887\n",
       "3     MR.A.13C-Van.D6.R2_Frac10      18819\n",
       "4     MR.A.13C-Pal.D6.R1_Frac15       5229\n",
       "5     MR.A.12C-Con.D3.R1_Frac25       6478\n",
       "6     MR.A.13C-Van.D6.R2_Frac18      10699\n",
       "7     MR.A.13C-Van.D6.R2_Frac27      13271\n",
       "8     MR.A.13C-Van.D6.R2_Frac11      33693\n",
       "9      MR.A.13C-Van.D6.R2_Frac6      23270\n",
       "10     MR.A.13C-Van.D6.R2_Frac8      13201\n",
       "11    MR.A.12C-Con.D3.R1_Frac19       4808\n",
       "12     MR.A.13C-Van.D6.R2_Frac5      37295\n",
       "13    MR.A.13C-Pal.D6.R1_Frac28       6141\n",
       "14    MR.A.13C-Pal.D6.R1_Frac23       5076\n",
       "15    MR.A.13C-Van.D6.R2_Frac12      36621\n",
       "16    MR.A.13C-Van.D6.R2_Frac15      11732\n",
       "17     MR.A.13C-Van.D6.R2_Frac4      23344\n",
       "18    MR.A.13C-Pal.D6.R1_Frac21       2399\n",
       "19     MR.A.13C-Van.D6.R2_Frac9      28936\n",
       "20    MR.A.12C-Con.D3.R1_Frac28       5115\n",
       "21     MR.A.13C-Pal.D6.R1_Frac8       5317\n",
       "22    MR.A.13C-Van.D6.R2_Frac14      18848\n",
       "23    MR.A.13C-Van.D6.R2_Frac16       9201\n",
       "24    MR.A.12C-Con.D3.R1_Frac13       5120\n",
       "25     MR.A.12C-Con.D3.R1_Frac5       5136\n",
       "26    MR.A.13C-Van.D6.R2_Frac21      15985\n",
       "27    MR.A.13C-Pal.D6.R1_Frac20       5489\n",
       "28    MR.A.13C-Van.D6.R2_Frac24      10083\n",
       "29    MR.A.13C-Pal.D6.R1_Frac12       6181\n",
       "..                          ...        ...\n",
       "158  MR.M.13C-Xyl.D14.R1_Frac21       2960\n",
       "159  MR.M.13C-Xyl.D14.R1_Frac27       3476\n",
       "160   MR.M.13C-Xyl.D14.R1_Frac6       4377\n",
       "161  MR.M.13C-Xyl.D14.R1_Frac22       5145\n",
       "162  MR.F.12C-Con.D30.R3_Frac27       2533\n",
       "163       MR.A.13C-Pal.D6.R1_MC       8063\n",
       "164  MR.F.12C-Con.D30.R3_Frac12       5136\n",
       "165  MR.M.13C-Xyl.D14.R1_Frac23       2540\n",
       "166  MR.F.12C-Con.D30.R3_Frac15       6514\n",
       "167  MR.M.13C-Xyl.D14.R1_Frac12       3341\n",
       "168  MR.M.13C-Xyl.D14.R1_Frac20       3127\n",
       "169  MR.M.13C-Xyl.D14.R1_Frac15       3845\n",
       "170   MR.M.13C-Xyl.D14.R1_Frac4       2980\n",
       "171   MR.F.12C-Con.D30.R3_Frac9       2667\n",
       "172  MR.F.12C-Con.D30.R3_Frac10       3130\n",
       "173  MR.F.12C-Con.D30.R3_Frac26       1974\n",
       "174  MR.F.12C-Con.D30.R3_Frac14       4643\n",
       "175  MR.F.12C-Con.D30.R3_Frac11       2687\n",
       "176  MR.F.12C-Con.D30.R3_Frac25       1565\n",
       "177  MR.F.12C-Con.D30.R3_Frac13       2228\n",
       "178      MR.M.13C-Xyl.D14.R1_NC        352\n",
       "179  MR.F.12C-Con.D30.R3_Frac20       4638\n",
       "180  MR.F.12C-Con.D30.R3_Frac18       2452\n",
       "181  MR.F.12C-Con.D30.R3_Frac19       1963\n",
       "182      MR.F.12C-Con.D30.R3_NC        266\n",
       "183  MR.F.12C-Con.D30.R3_Frac17       2408\n",
       "184      MR.F.13C-Van.D30.R2_NC        836\n",
       "185  MR.F.12C-Con.D30.R3_Frac21       2273\n",
       "186       MR.A.13C-Pal.D6.R1_NC         91\n",
       "187       MR.A.12C-Con.D3.R1_NC        154\n",
       "\n",
       "[188 rows x 2 columns]"
      ]
     },
     "execution_count": 39,
     "metadata": {},
     "output_type": "execute_result"
    }
   ],
   "source": [
    "# converting to dataframe\n",
    "df_seq_cnt = pd.DataFrame.from_dict(samp_count, orient='index')\n",
    "df_seq_cnt.index.name = 'Sample'\n",
    "df_seq_cnt.reset_index(inplace=True)\n",
    "df_seq_cnt.columns = ['Sample', 'seq_count']\n",
    "df_seq_cnt"
   ]
  },
  {
   "cell_type": "code",
   "execution_count": 40,
   "metadata": {
    "collapsed": false
   },
   "outputs": [
    {
     "data": {
      "image/png": "[encoded data removed]"
     },
     "metadata": {},
     "output_type": "display_data"
    }
   ],
   "source": [
    "%%R -i df_seq_cnt -w 800 -h 350\n",
    "# plotting all\n",
    "\n",
    "df_seq_cnt$seq_count = as.numeric(df_seq_cnt$seq_count)\n",
    "\n",
    "\n",
    "df_seq_cnt = df_seq_cnt %>% \n",
    "    #mutate(H2O = grepl('_F0$', Sample)) %>%\n",
    "    mutate(rank = min_rank(seq_count)) %>%\n",
    "    arrange(desc(rank))\n",
    "\n",
    "df_seq_cnt$Sample = factor(df_seq_cnt$Sample, levels=df_seq_cnt$Sample)\n",
    "\n",
    "ggplot(df_seq_cnt, aes(Sample, seq_count)) +\n",
    "    geom_bar(stat='identity') +\n",
    "    theme_bw() +\n",
    "    theme(\n",
    "        text = element_text(size=16),\n",
    "        axis.text.x = element_text(angle=45, hjust=1)\n",
    "    )"
   ]
  },
  {
   "cell_type": "code",
   "execution_count": 42,
   "metadata": {
    "collapsed": false
   },
   "outputs": [
    {
     "data": {
      "text/plain": [
       "                        Sample seq_count rank\n",
       "179 MR.F.12C-Con.D30.R3_Frac26      1974   10\n",
       "180 MR.F.12C-Con.D30.R3_Frac19      1963    9\n",
       "181      MR.A.13C-Van.D6.R2_NC      1628    8\n",
       "182 MR.F.12C-Con.D30.R3_Frac25      1565    7\n",
       "183     MR.F.13C-Van.D30.R2_NC       836    6\n",
       "184      MR.A.13C-Ami.D1.R1_NC       480    5\n",
       "185     MR.M.13C-Xyl.D14.R1_NC       352    4\n",
       "186     MR.F.12C-Con.D30.R3_NC       266    3\n",
       "187      MR.A.12C-Con.D3.R1_NC       154    2\n",
       "188      MR.A.13C-Pal.D6.R1_NC        91    1\n"
      ]
     },
     "metadata": {},
     "output_type": "display_data"
    }
   ],
   "source": [
    "%%R\n",
    "df_seq_cnt[df_seq_cnt$seq_count < 2000,]"
   ]
  },
  {
   "cell_type": "code",
   "execution_count": null,
   "metadata": {
    "collapsed": true
   },
   "outputs": [],
   "source": []
  },
  {
   "cell_type": "code",
   "execution_count": null,
   "metadata": {
    "collapsed": true
   },
   "outputs": [],
   "source": []
  }
 ],
 "metadata": {
  "anaconda-cloud": {},
  "hide_input": true,
  "kernelspec": {
   "display_name": "Python 3",
   "language": "python",
   "name": "python3"
  },
  "language_info": {
   "codemirror_mode": {
    "name": "ipython",
    "version": 3
   },
   "file_extension": ".py",
   "mimetype": "text/x-python",
   "name": "python",
   "nbconvert_exporter": "python",
   "pygments_lexer": "ipython3",
   "version": "3.6.4"
  },
  "notify_time": "5"
 },
 "nbformat": 4,
 "nbformat_minor": 1
}
