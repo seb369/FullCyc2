{
 "cells": [
  {
   "cell_type": "markdown",
   "metadata": {},
   "source": [
    "# Description\n",
    "\n",
    "* Quality control on MiSeq run data\n",
    "  * post-merging\n",
    "  * post-demultiplexing"
   ]
  },
  {
   "cell_type": "markdown",
   "metadata": {},
   "source": [
    "# Setting variables"
   ]
  },
  {
   "cell_type": "code",
   "execution_count": 1,
   "metadata": {
    "collapsed": true
   },
   "outputs": [],
   "source": [
    "import os\n",
    "\n",
    "baseDir = '/home/seq_data/fullCyc2/amplicon/515F-806R/final_dataset/library_QC/fullCyc2_lib14'\n",
    "workDir = os.path.join(baseDir, 'QC')\n",
    "seqFile = os.path.join(baseDir, 'pear_merged-fullCyc2_lib14.assembled.dmult.fastq')\n",
    "\n",
    "# number of processors\n",
    "nprocs = 20\n",
    "\n",
    "# max expected error\n",
    "maxee = 1"
   ]
  },
  {
   "cell_type": "markdown",
   "metadata": {},
   "source": [
    "# Init"
   ]
  },
  {
   "cell_type": "code",
   "execution_count": 2,
   "metadata": {
    "collapsed": true
   },
   "outputs": [],
   "source": [
    "import re\n",
    "import pandas as pd"
   ]
  },
  {
   "cell_type": "code",
   "execution_count": 3,
   "metadata": {
    "collapsed": false
   },
   "outputs": [],
   "source": [
    "%load_ext rpy2.ipython\n",
    "#%load_ext pushnote"
   ]
  },
  {
   "cell_type": "code",
   "execution_count": 4,
   "metadata": {
    "collapsed": false
   },
   "outputs": [
    {
     "name": "stderr",
     "output_type": "stream",
     "text": [
      "/home/sam/anaconda3/lib/python3.6/site-packages/rpy2/rinterface/__init__.py:145: RRuntimeWarning: \n",
      "Attaching package: ‘dplyr’\n",
      "\n",
      "\n",
      "  warnings.warn(x, RRuntimeWarning)\n",
      "/home/sam/anaconda3/lib/python3.6/site-packages/rpy2/rinterface/__init__.py:145: RRuntimeWarning: The following objects are masked from ‘package:stats’:\n",
      "\n",
      "    filter, lag\n",
      "\n",
      "\n",
      "  warnings.warn(x, RRuntimeWarning)\n",
      "/home/sam/anaconda3/lib/python3.6/site-packages/rpy2/rinterface/__init__.py:145: RRuntimeWarning: The following objects are masked from ‘package:base’:\n",
      "\n",
      "    intersect, setdiff, setequal, union\n",
      "\n",
      "\n",
      "  warnings.warn(x, RRuntimeWarning)\n",
      "/home/sam/anaconda3/lib/python3.6/site-packages/rpy2/rinterface/__init__.py:145: RRuntimeWarning: \n",
      "Attaching package: ‘gridExtra’\n",
      "\n",
      "\n",
      "  warnings.warn(x, RRuntimeWarning)\n",
      "/home/sam/anaconda3/lib/python3.6/site-packages/rpy2/rinterface/__init__.py:145: RRuntimeWarning: The following object is masked from ‘package:dplyr’:\n",
      "\n",
      "    combine\n",
      "\n",
      "\n",
      "  warnings.warn(x, RRuntimeWarning)\n"
     ]
    }
   ],
   "source": [
    "%%R\n",
    "library(ggplot2)\n",
    "library(dplyr)\n",
    "library(tidyr)\n",
    "library(gridExtra)"
   ]
  },
  {
   "cell_type": "code",
   "execution_count": 5,
   "metadata": {
    "collapsed": false
   },
   "outputs": [
    {
     "name": "stdout",
     "output_type": "stream",
     "text": [
      "/home/seq_data/fullCyc2/amplicon/515F-806R/final_dataset/library_QC/fullCyc2_lib14/QC\n"
     ]
    }
   ],
   "source": [
    "if not os.path.isdir(workDir):\n",
    "    os.makedirs(workDir)\n",
    "%cd $workDir"
   ]
  },
  {
   "cell_type": "code",
   "execution_count": 6,
   "metadata": {
    "collapsed": false
   },
   "outputs": [
    {
     "name": "stdout",
     "output_type": "stream",
     "text": [
      "File exists: /home/seq_data/fullCyc2/amplicon/515F-806R/final_dataset/library_QC/fullCyc2_lib14/pear_merged-fullCyc2_lib14.assembled.dmult.fastq\n"
     ]
    }
   ],
   "source": [
    "# symlinking demult seq file into CQ\n",
    "tmp = os.path.join(baseDir, seqFile)\n",
    "if not os.path.isfile(seqFile):\n",
    "    tmp2 = os.path.split(tmp)[1]\n",
    "    os.symlink(tmp, tmp2)\n",
    "else:\n",
    "    print ('File exists: {}'.format(os.path.join(workDir, seqFile)))"
   ]
  },
  {
   "cell_type": "markdown",
   "metadata": {},
   "source": [
    "# Merged read quality filtering"
   ]
  },
  {
   "cell_type": "markdown",
   "metadata": {},
   "source": [
    "## Discard sequences that exceed max expected error theshold"
   ]
  },
  {
   "cell_type": "code",
   "execution_count": 7,
   "metadata": {
    "collapsed": false
   },
   "outputs": [
    {
     "data": {
      "text/plain": [
       "'pear_merged-fullCyc2_lib14.assembled.dmult_maxee1.fasta'"
      ]
     },
     "execution_count": 7,
     "metadata": {},
     "output_type": "execute_result"
    }
   ],
   "source": [
    "qcFile = os.path.split(seqFile)[1]\n",
    "qcFile = os.path.splitext(qcFile)[0] + '_maxee{}.fasta'.format(maxee)\n",
    "qcFile"
   ]
  },
  {
   "cell_type": "code",
   "execution_count": 8,
   "metadata": {
    "collapsed": true
   },
   "outputs": [],
   "source": [
    "%%bash -s \"$seqFile\" \"$nprocs\" \"$maxee\" \"$qcFile\"\n",
    "\n",
    "mkdir /home/sam/tmp/tmpdir1\n",
    "trap \"rm -r /home/sam/tmp/tmpdir1\" 1 2 3 15\n",
    "split -d -l 2000000 $1 /home/sam/tmp/tmpdir1/Block\n",
    "\n",
    "mkdir /home/sam/tmp/tmpdir2\n",
    "trap \"rm -r /home/sam/tmp/tmpdir2\" 1 2 3 15\n",
    "ls /home/sam/tmp/tmpdir1/Block?? | parallel --gnu -j $2 -k \"usearch -fastq_filter {} -fastq_maxee $3 \\\n",
    "-fastaout /home/sam/tmp/tmpdir2/{#}.fasta >/dev/null 2>&1 && cat /home/sam/tmp/tmpdir2/{#}.fasta\" > $4\n",
    "rm -r /home/sam/tmp/tmpdir2 /home/sam/tmp/tmpdir1"
   ]
  },
  {
   "cell_type": "code",
   "execution_count": 9,
   "metadata": {
    "collapsed": false
   },
   "outputs": [
    {
     "name": "stdout",
     "output_type": "stream",
     "text": [
      "Max expected error cutoff: 1\n",
      "Number of sequence pre-filter: 14800225\n",
      "Number of sequences post-filter: 14756127\n",
      "\n",
      ">CC.M.151027.H2O-Con.D14_1 orig_name=M01032:505:000000000-B45R5:1:1101:15732:1332\n",
      "TACGTAGGGGACAAGCGTTGTCCGGATTTATTGGGCGTAAAGAGCGCGTAGGCGTACAGACAGGTCAGCTGTGAAAACTC\n",
      "GAGGCTCAACCTCGAGACGTCGGTTGAAACCGTCTGGCTAGAGTCCGGAAGAGGAGAGTGGAATTCCCGGTGTAGCGGTG\n",
      "AAATGCGTAGATATTGGGAGGAACACCGGTGGCGAAGGCGGCCCCCTGGACCGGTACTGACGCTGATGCGCGAAAGCGTG\n",
      "GGGAGCAAACGGG\n",
      ">MR.A.151027.12C-Van.D04_2 orig_name=M01032:505:000000000-B45R5:1:1101:15967:1333\n",
      "TACGAGGGGGGCAAGCGTTGTTCGGAATTATTGGGCGTAAAGGGCGCGTAGGCGGTGCGGTAAGTCACCTGTGAAACCTC\n",
      "TAGGCTTAACCTAGAGCGTGCAGGCGAAACTGCCGTGCTTGAGGGTGGGAGAGGTGCGTGGAATTCCCGGTGTAGCGGTG\n"
     ]
    }
   ],
   "source": [
    "%%bash -s \"$seqFile\" \"$nprocs\" \"$maxee\" \"$qcFile\"\n",
    "\n",
    "printf \"Max expected error cutoff: \"\n",
    "echo $3\n",
    "\n",
    "printf \"Number of sequence pre-filter: \"\n",
    "grep -c \"orig_name=\" $1\n",
    "\n",
    "printf \"Number of sequences post-filter: \"\n",
    "grep -c \">\" $4\n",
    "\n",
    "echo '' \n",
    "head -n 8 $4"
   ]
  },
  {
   "cell_type": "markdown",
   "metadata": {},
   "source": [
    "## Remove seqs with 'N' characters"
   ]
  },
  {
   "cell_type": "code",
   "execution_count": 10,
   "metadata": {
    "collapsed": false
   },
   "outputs": [
    {
     "data": {
      "text/plain": [
       "'pear_merged-fullCyc2_lib14.assembled.dmult_maxee1_noN.fasta'"
      ]
     },
     "execution_count": 10,
     "metadata": {},
     "output_type": "execute_result"
    }
   ],
   "source": [
    "qcFile2 = os.path.splitext(qcFile)[0] + '_noN.fasta'\n",
    "qcFile2"
   ]
  },
  {
   "cell_type": "code",
   "execution_count": 11,
   "metadata": {
    "collapsed": false
   },
   "outputs": [
    {
     "name": "stdout",
     "output_type": "stream",
     "text": [
      "Number of sequence pre-filter: 14756127\n",
      "Number of sequences post-filter: 14756127\n"
     ]
    }
   ],
   "source": [
    "%%bash -s \"$qcFile\" \"$qcFile2\"\n",
    "\n",
    "bioawk -c fastx '{if ($seq !~ /N/){print \">\" $name \" \" $4 \"\\n\" $seq}}' $1 > $2\n",
    "\n",
    "printf \"Number of sequence pre-filter: \"\n",
    "grep -c \">\" $1\n",
    "\n",
    "printf \"Number of sequences post-filter: \"\n",
    "grep -c \">\" $2"
   ]
  },
  {
   "cell_type": "markdown",
   "metadata": {},
   "source": [
    "## Alignment-based QC with Mothur"
   ]
  },
  {
   "cell_type": "code",
   "execution_count": 12,
   "metadata": {
    "collapsed": false
   },
   "outputs": [
    {
     "name": "stdout",
     "output_type": "stream",
     "text": [
      "CC.M.151027.H2O-Con.D14_1\tCC.M.151027.H2O-Con.D14\n",
      "MR.A.151027.12C-Van.D04_2\tMR.A.151027.12C-Van.D04\n",
      "CC.M.151027.12C-Van.D04_3\tCC.M.151027.12C-Van.D04\n",
      "BH.A.151026.12C-Xyl.D02_4\tBH.A.151026.12C-Xyl.D02\n",
      "CC.F.151027.12C-Ami.D02_5\tCC.F.151027.12C-Ami.D02\n",
      "MR.F.151027.H2O-Con.D28_0\tMR.F.151027.H2O-Con.D28\n",
      "EL.M.151026.H2O-Con.D14_6\tEL.M.151026.H2O-Con.D14\n",
      "SS.M.151026.12C-Cel.D28_7\tSS.M.151026.12C-Cel.D28\n",
      "EL.M.151026.H2O-Con.D02_8\tEL.M.151026.H2O-Con.D02\n",
      "EL.M.151026.H2O-Con.D02_9\tEL.M.151026.H2O-Con.D02\n"
     ]
    }
   ],
   "source": [
    "%%bash -s \"$qcFile2\"\n",
    "# making mothur group file\n",
    "\n",
    "perl -ne 'if(/^>/){ s/>(.+)(_\\d+) .+/$1$2\\t$1/; print;}' $1 > group_file.txt\n",
    "head group_file.txt"
   ]
  },
  {
   "cell_type": "code",
   "execution_count": 13,
   "metadata": {
    "collapsed": false
   },
   "outputs": [
    {
     "name": "stdout",
     "output_type": "stream",
     "text": [
      "CC.M.151027.H2O-Con.D14_1\tCC.M.151027.H2O-Con.D14\r\n",
      "MR.A.151027.12C-Van.D04_2\tMR.A.151027.12C-Van.D04\r\n",
      "CC.M.151027.12C-Van.D04_3\tCC.M.151027.12C-Van.D04\r\n",
      "BH.A.151026.12C-Xyl.D02_4\tBH.A.151026.12C-Xyl.D02\r\n",
      "CC.F.151027.12C-Ami.D02_5\tCC.F.151027.12C-Ami.D02\r\n",
      "MR.F.151027.H2O-Con.D28_0\tMR.F.151027.H2O-Con.D28\r\n",
      "EL.M.151026.H2O-Con.D14_6\tEL.M.151026.H2O-Con.D14\r\n",
      "SS.M.151026.12C-Cel.D28_7\tSS.M.151026.12C-Cel.D28\r\n",
      "EL.M.151026.H2O-Con.D02_8\tEL.M.151026.H2O-Con.D02\r\n",
      "EL.M.151026.H2O-Con.D02_9\tEL.M.151026.H2O-Con.D02\r\n",
      "SS.F.151026.H2O-Con.D02_10\tSS.F.151026.H2O-Con.D02\r\n",
      "CC.F.151027.H2O-Con.D14_11\tCC.F.151027.H2O-Con.D14\r\n",
      "MR.A.151027.12C-Van.D04_12\tMR.A.151027.12C-Van.D04\r\n",
      "MR.A.13C-Xyl.D6.R1_Frac17_13\tMR.A.13C-Xyl.D6.R1_Frac17\r\n",
      "BH.F.151026.12C-Xyl.D02_14\tBH.F.151026.12C-Xyl.D02\r\n",
      "CF.M.151027.12C-Ami.D04_15\tCF.M.151027.12C-Ami.D04\r\n",
      "CF.A.151027.H2O-Con.D14_16\tCF.A.151027.H2O-Con.D14\r\n",
      "MF.A.151026.12C-Cel.D14_17\tMF.A.151026.12C-Cel.D14\r\n",
      "MF.F.151026.12C-Xyl.D02_18\tMF.F.151026.12C-Xyl.D02\r\n",
      "CC.F.151027.H2O-Con.D14_19\tCC.F.151027.H2O-Con.D14\r\n",
      "EL.F.151026.12C-Cel.D14_20\tEL.F.151026.12C-Cel.D14\r\n",
      "SS.M.151026.12C-Van.D02_21\tSS.M.151026.12C-Van.D02\r\n",
      "MR.A.13C-Xyl.D6.R1_Frac26_22\tMR.A.13C-Xyl.D6.R1_Frac26\r\n",
      "MR.M.151027.12C-Xyl.D04_23\tMR.M.151027.12C-Xyl.D04\r\n",
      "CC.F.151027.H2O-Con.D14_24\tCC.F.151027.H2O-Con.D14\r\n",
      "MR.M.13C-Pal.D6.R1_Frac6_25\tMR.M.13C-Pal.D6.R1_Frac6\r\n",
      "MR.M.13C-Pal.D6.R1_Frac5_26\tMR.M.13C-Pal.D6.R1_Frac5\r\n",
      "MF.F.151026.12C-Cel.D14_27\tMF.F.151026.12C-Cel.D14\r\n",
      "CC.A.151027.H2O-Con.D04_28\tCC.A.151027.H2O-Con.D04\r\n",
      "CC.M.151027.12C-Van.D04_29\tCC.M.151027.12C-Van.D04\r\n",
      "PP.F.151026.12C-Pal.D28_30\tPP.F.151026.12C-Pal.D28\r\n",
      "CF.M.151027.12C-Ami.D04_31\tCF.M.151027.12C-Ami.D04\r\n",
      "CF.A.151027.H2O-Con.D02_32\tCF.A.151027.H2O-Con.D02\r\n",
      "Enr_1_mock_community_33\tEnr_1_mock_community\r\n",
      "MR.A.13C-Xyl.D6.R1_Frac18_34\tMR.A.13C-Xyl.D6.R1_Frac18\r\n",
      "SS.F.151026.H2O-Con.D02_35\tSS.F.151026.H2O-Con.D02\r\n",
      "MP.M.151026.12C-Van.D02_36\tMP.M.151026.12C-Van.D02\r\n",
      "EL.M.151026.H2O-Con.D14_37\tEL.M.151026.H2O-Con.D14\r\n",
      "BH.F.151026.H2O-Con.D04_38\tBH.F.151026.H2O-Con.D04\r\n",
      "BH.M.151026.H2O-Con.D14_39\tBH.M.151026.H2O-Con.D14\r\n",
      "MF.A.151026.12C-Cel.D14_40\tMF.A.151026.12C-Cel.D14\r\n",
      "MR.A.13C-Xyl.D6.R1_Frac23_41\tMR.A.13C-Xyl.D6.R1_Frac23\r\n",
      "MR.A.151027.12C-Xyl.D04_42\tMR.A.151027.12C-Xyl.D04\r\n",
      "PP.A.151026.12C-Xyl.D02_43\tPP.A.151026.12C-Xyl.D02\r\n",
      "EL.M.151026.H2O-Con.D04_44\tEL.M.151026.H2O-Con.D04\r\n",
      "PP.F.151026.12C-Pal.D28_45\tPP.F.151026.12C-Pal.D28\r\n",
      "SS.F.151026.H2O-Con.D02_46\tSS.F.151026.H2O-Con.D02\r\n",
      "MR.M.13C-Pal.D6.R1_Frac6_47\tMR.M.13C-Pal.D6.R1_Frac6\r\n",
      "BH.M.151026.H2O-Con.D02_48\tBH.M.151026.H2O-Con.D02\r\n",
      "CF.A.151027.12C-Van.D04_49\tCF.A.151027.12C-Van.D04\r\n",
      "CC.F.151027.H2O-Con.D14_50\tCC.F.151027.H2O-Con.D14\r\n",
      "BH.F.151026.H2O-Con.D04_51\tBH.F.151026.H2O-Con.D04\r\n",
      "MR.M.151027.12C-Cel.D14_52\tMR.M.151027.12C-Cel.D14\r\n",
      "CF.F.151027.H2O-Con.D02_53\tCF.F.151027.H2O-Con.D02\r\n",
      "PP.A.151026.12C-Xyl.D02_54\tPP.A.151026.12C-Xyl.D02\r\n",
      "MR.A.13C-Xyl.D6.R1_Frac24_55\tMR.A.13C-Xyl.D6.R1_Frac24\r\n",
      "MF.A.151026.12C-Pal.D14_56\tMF.A.151026.12C-Pal.D14\r\n",
      "MR.M.13C-Pal.D6.R1_Frac24_57\tMR.M.13C-Pal.D6.R1_Frac24\r\n",
      "SS.M.151026.H2O-Con.D04_58\tSS.M.151026.H2O-Con.D04\r\n",
      "EL.A.151026.12C-Ami.D02_59\tEL.A.151026.12C-Ami.D02\r\n",
      "MR.A.13C-Xyl.D6.R1_NC_60\tMR.A.13C-Xyl.D6.R1_NC\r\n",
      "CF.F.151027.H2O-Con.D04_61\tCF.F.151027.H2O-Con.D04\r\n",
      "MR.A.13C-Xyl.D6.R1_Frac18_62\tMR.A.13C-Xyl.D6.R1_Frac18\r\n",
      "MF.A.151026.12C-Ami.D04_63\tMF.A.151026.12C-Ami.D04\r\n",
      "MR.A.13C-Xyl.D6.R1_Frac24_64\tMR.A.13C-Xyl.D6.R1_Frac24\r\n",
      "MF.A.151026.12C-Pal.D28_65\tMF.A.151026.12C-Pal.D28\r\n",
      "MF.A.151026.12C-Cel.D14_66\tMF.A.151026.12C-Cel.D14\r\n",
      "MP.M.151026.12C-Van.D02_67\tMP.M.151026.12C-Van.D02\r\n",
      "CC.F.151027.12C-Van.D02_68\tCC.F.151027.12C-Van.D02\r\n",
      "MR.A.151027.12C-Xyl.D04_69\tMR.A.151027.12C-Xyl.D04\r\n",
      "MP.M.151026.12C-Pal.D14_70\tMP.M.151026.12C-Pal.D14\r\n",
      "BH.A.151026.12C-Cel.D28_71\tBH.A.151026.12C-Cel.D28\r\n",
      "CF.F.151027.12C-Ami.D04_72\tCF.F.151027.12C-Ami.D04\r\n",
      "BH.F.151026.H2O-Con.D04_73\tBH.F.151026.H2O-Con.D04\r\n",
      "MR.M.13C-Pal.D6.R1_Frac24_74\tMR.M.13C-Pal.D6.R1_Frac24\r\n",
      "MF.A.151026.12C-Van.D02_75\tMF.A.151026.12C-Van.D02\r\n",
      "PP.A.151026.12C-Xyl.D02_76\tPP.A.151026.12C-Xyl.D02\r\n",
      "PP.F.151026.12C-Pal.D28_77\tPP.F.151026.12C-Pal.D28\r\n",
      "MR.A.13C-Xyl.D6.R1_Frac15_78\tMR.A.13C-Xyl.D6.R1_Frac15\r\n",
      "PP.M.151026.H2O-Con.D28_79\tPP.M.151026.H2O-Con.D28\r\n",
      "PP.A.151026.H2O-Con.D02_80\tPP.A.151026.H2O-Con.D02\r\n",
      "EL.M.151026.H2O-Con.D02_81\tEL.M.151026.H2O-Con.D02\r\n",
      "MR.M.13C-Pal.D6.R1_Frac6_82\tMR.M.13C-Pal.D6.R1_Frac6\r\n",
      "SS.M.151026.H2O-Con.D04_83\tSS.M.151026.H2O-Con.D04\r\n",
      "BH.A.151026.12C-Ami.D02_84\tBH.A.151026.12C-Ami.D02\r\n",
      "BH.M.151026.H2O-Con.D02_85\tBH.M.151026.H2O-Con.D02\r\n",
      "MR.M.151027.12C-Ami.D04_86\tMR.M.151027.12C-Ami.D04\r\n",
      "BH.F.151026.H2O-Con.D04_87\tBH.F.151026.H2O-Con.D04\r\n",
      "MF.A.151026.12C-Cel.D14_88\tMF.A.151026.12C-Cel.D14\r\n",
      "MR.A.151027.12C-Van.D04_89\tMR.A.151027.12C-Van.D04\r\n",
      "MR.M.13C-Pal.D6.R1_Frac27_90\tMR.M.13C-Pal.D6.R1_Frac27\r\n",
      "MR.M.13C-Pal.D6.R1_Frac19_91\tMR.M.13C-Pal.D6.R1_Frac19\r\n",
      "PP.F.151026.12C-Pal.D28_92\tPP.F.151026.12C-Pal.D28\r\n",
      "CF.F.151027.H2O-Con.D02_93\tCF.F.151027.H2O-Con.D02\r\n",
      "MR.A.151027.12C-Van.D04_94\tMR.A.151027.12C-Van.D04\r\n",
      "PP.A.151026.12C-Xyl.D02_95\tPP.A.151026.12C-Xyl.D02\r\n",
      "BH.F.151026.12C-Xyl.D02_96\tBH.F.151026.12C-Xyl.D02\r\n",
      "MR.A.151027.12C-Ami.D02_97\tMR.A.151027.12C-Ami.D02\r\n",
      "SS.M.151026.12C-Xyl.D02_98\tSS.M.151026.12C-Xyl.D02\r\n",
      "MR.M.13C-Pal.D6.R1_Frac21_99\tMR.M.13C-Pal.D6.R1_Frac21\r\n",
      "PP.A.151026.12C-Cel.D14_100\tPP.A.151026.12C-Cel.D14\r\n",
      "MR.A.13C-Xyl.D6.R1_Frac24_101\tMR.A.13C-Xyl.D6.R1_Frac24\r\n",
      "MR.A.13C-Xyl.D6.R1_Frac19_102\tMR.A.13C-Xyl.D6.R1_Frac19\r\n",
      "MR.A.13C-Xyl.D6.R1_Frac15_103\tMR.A.13C-Xyl.D6.R1_Frac15\r\n",
      "MW.F.151027.12C-Xyl.D04_104\tMW.F.151027.12C-Xyl.D04\r\n",
      "Enr_1_mock_community_105\tEnr_1_mock_community\r\n",
      "MR.A.151027.12C-Ami.D04_106\tMR.A.151027.12C-Ami.D04\r\n",
      "CC.F.151027.12C-Van.D02_107\tCC.F.151027.12C-Van.D02\r\n",
      "EL.A.151026.12C-Ami.D02_108\tEL.A.151026.12C-Ami.D02\r\n",
      "CF.F.151027.12C-Ami.D04_109\tCF.F.151027.12C-Ami.D04\r\n",
      "MR.A.13C-Xyl.D6.R1_Frac15_110\tMR.A.13C-Xyl.D6.R1_Frac15\r\n",
      "CF.M.151027.12C-Van.D02_111\tCF.M.151027.12C-Van.D02\r\n",
      "SS.M.151026.H2O-Con.D04_112\tSS.M.151026.H2O-Con.D04\r\n",
      "CC.A.151027.12C-Xyl.D04_113\tCC.A.151027.12C-Xyl.D04\r\n",
      "BH.A.151026.H2O-Con.D02_114\tBH.A.151026.H2O-Con.D02\r\n",
      "BH.F.151026.12C-Xyl.D02_115\tBH.F.151026.12C-Xyl.D02\r\n",
      "PP.F.151026.12C-Pal.D14_116\tPP.F.151026.12C-Pal.D14\r\n",
      "SS.M.151026.12C-Xyl.D02_117\tSS.M.151026.12C-Xyl.D02\r\n",
      "MF.A.151026.12C-Ami.D04_118\tMF.A.151026.12C-Ami.D04\r\n",
      "MF.A.151026.12C-Van.D02_119\tMF.A.151026.12C-Van.D02\r\n",
      "SS.A.151026.H2O-Con.D28_120\tSS.A.151026.H2O-Con.D28\r\n",
      "MR.M.151027.12C-Ami.D04_121\tMR.M.151027.12C-Ami.D04\r\n",
      "PP.M.151026.H2O-Con.D28_122\tPP.M.151026.H2O-Con.D28\r\n",
      "MR.M.13C-Pal.D6.R1_Frac12_123\tMR.M.13C-Pal.D6.R1_Frac12\r\n",
      "SS.M.151026.12C-Cel.D14_124\tSS.M.151026.12C-Cel.D14\r\n",
      "SS.M.151026.12C-Van.D02_125\tSS.M.151026.12C-Van.D02\r\n",
      "MW.M.151027.12C-Van.D02_126\tMW.M.151027.12C-Van.D02\r\n",
      "CC.F.151027.H2O-Con.D04_127\tCC.F.151027.H2O-Con.D04\r\n",
      "CF.M.151027.12C-Xyl.D04_128\tCF.M.151027.12C-Xyl.D04\r\n",
      "MR.M.13C-Pal.D6.R1_Frac23_129\tMR.M.13C-Pal.D6.R1_Frac23\r\n",
      "SS.A.151026.12C-Xyl.D04_130\tSS.A.151026.12C-Xyl.D04\r\n",
      "SS.M.151026.12C-Xyl.D02_131\tSS.M.151026.12C-Xyl.D02\r\n",
      "CC.M.151027.H2O-Con.D02_132\tCC.M.151027.H2O-Con.D02\r\n",
      "MW.M.151027.12C-Van.D02_133\tMW.M.151027.12C-Van.D02\r\n",
      "PP.F.151026.12C-Pal.D28_134\tPP.F.151026.12C-Pal.D28\r\n",
      "MF.M.151026.H2O-Con.D14_135\tMF.M.151026.H2O-Con.D14\r\n",
      "MW.F.151027.12C-Xyl.D04_136\tMW.F.151027.12C-Xyl.D04\r\n",
      "MR.A.151027.12C-Van.D04_137\tMR.A.151027.12C-Van.D04\r\n",
      "PP.F.151026.12C-Pal.D28_138\tPP.F.151026.12C-Pal.D28\r\n",
      "BH.F.151026.12C-Xyl.D02_139\tBH.F.151026.12C-Xyl.D02\r\n",
      "MR.M.13C-Pal.D6.R1_Frac21_140\tMR.M.13C-Pal.D6.R1_Frac21\r\n",
      "MR.A.151027.12C-Ami.D04_141\tMR.A.151027.12C-Ami.D04\r\n",
      "MR.M.13C-Pal.D6.R1_Frac17_142\tMR.M.13C-Pal.D6.R1_Frac17\r\n",
      "SS.M.151026.12C-Xyl.D02_143\tSS.M.151026.12C-Xyl.D02\r\n",
      "EL.A.151026.12C-Ami.D02_144\tEL.A.151026.12C-Ami.D02\r\n",
      "CF.A.151027.12C-Cel.D14_145\tCF.A.151027.12C-Cel.D14\r\n",
      "MR.A.13C-Xyl.D6.R1_Frac17_146\tMR.A.13C-Xyl.D6.R1_Frac17\r\n",
      "MF.A.151026.12C-Pal.D28_147\tMF.A.151026.12C-Pal.D28\r\n",
      "SS.A.151026.H2O-Con.D28_148\tSS.A.151026.H2O-Con.D28\r\n",
      "CC.A.151027.12C-Xyl.D04_149\tCC.A.151027.12C-Xyl.D04\r\n",
      "CC.F.151027.12C-Ami.D02_150\tCC.F.151027.12C-Ami.D02\r\n",
      "CC.A.151027.12C-Cel.D28_151\tCC.A.151027.12C-Cel.D28\r\n",
      "MR.A.13C-Xyl.D6.R1_Frac16_152\tMR.A.13C-Xyl.D6.R1_Frac16\r\n",
      "CC.F.151027.12C-Van.D04_153\tCC.F.151027.12C-Van.D04\r\n",
      "SS.A.151026.12C-Xyl.D04_154\tSS.A.151026.12C-Xyl.D04\r\n",
      "SS.A.151026.12C-Cel.D14_155\tSS.A.151026.12C-Cel.D14\r\n",
      "EL.M.151026.H2O-Con.D14_156\tEL.M.151026.H2O-Con.D14\r\n",
      "PP.F.151026.H2O-Con.D02_157\tPP.F.151026.H2O-Con.D02\r\n",
      "MR.A.13C-Xyl.D6.R1_Frac23_158\tMR.A.13C-Xyl.D6.R1_Frac23\r\n",
      "MR.M.151027.12C-Van.D04_159\tMR.M.151027.12C-Van.D04\r\n",
      "PP.M.151026.H2O-Con.D28_160\tPP.M.151026.H2O-Con.D28\r\n",
      "BH.F.151026.H2O-Con.D04_161\tBH.F.151026.H2O-Con.D04\r\n",
      "MW.F.151027.12C-Cel.D28_162\tMW.F.151027.12C-Cel.D28\r\n",
      "BH.F.151026.H2O-Con.D04_163\tBH.F.151026.H2O-Con.D04\r\n",
      "SS.F.151026.H2O-Con.D02_164\tSS.F.151026.H2O-Con.D02\r\n",
      "PP.A.151026.H2O-Con.D02_165\tPP.A.151026.H2O-Con.D02\r\n",
      "CC.A.151027.H2O-Con.D14_166\tCC.A.151027.H2O-Con.D14\r\n",
      "MR.A.151027.12C-Van.D04_167\tMR.A.151027.12C-Van.D04\r\n",
      "MR.A.13C-Xyl.D6.R1_Frac22_168\tMR.A.13C-Xyl.D6.R1_Frac22\r\n",
      "MR.A.151027.12C-Van.D02_169\tMR.A.151027.12C-Van.D02\r\n",
      "MR.M.13C-Pal.D6.R1_Frac5_170\tMR.M.13C-Pal.D6.R1_Frac5\r\n",
      "SS.A.151026.12C-Ami.D02_171\tSS.A.151026.12C-Ami.D02\r\n",
      "CC.A.151027.12C-Cel.D14_172\tCC.A.151027.12C-Cel.D14\r\n",
      "MW.F.151027.H2O-Con.D28_173\tMW.F.151027.H2O-Con.D28\r\n",
      "BH.A.151026.12C-Cel.D14_174\tBH.A.151026.12C-Cel.D14\r\n",
      "MR.A.13C-Xyl.D6.R1_Frac16_175\tMR.A.13C-Xyl.D6.R1_Frac16\r\n",
      "SS.A.151026.12C-Xyl.D04_176\tSS.A.151026.12C-Xyl.D04\r\n",
      "MR.M.13C-Pal.D6.R1_Frac8_177\tMR.M.13C-Pal.D6.R1_Frac8\r\n",
      "MF.A.151026.12C-Cel.D14_178\tMF.A.151026.12C-Cel.D14\r\n",
      "CF.M.151027.12C-Van.D02_179\tCF.M.151027.12C-Van.D02\r\n",
      "BH.M.151026.H2O-Con.D02_180\tBH.M.151026.H2O-Con.D02\r\n",
      "MF.M.151026.H2O-Con.D14_181\tMF.M.151026.H2O-Con.D14\r\n",
      "MF.A.151026.12C-Cel.D14_182\tMF.A.151026.12C-Cel.D14\r\n",
      "CF.A.151027.12C-Cel.D14_183\tCF.A.151027.12C-Cel.D14\r\n",
      "CC.F.151027.H2O-Con.D04_184\tCC.F.151027.H2O-Con.D04\r\n",
      "CC.F.151027.12C-Ami.D02_185\tCC.F.151027.12C-Ami.D02\r\n",
      "MF.F.151026.H2O-Con.D02_186\tMF.F.151026.H2O-Con.D02\r\n",
      "BH.F.151026.12C-Xyl.D02_187\tBH.F.151026.12C-Xyl.D02\r\n",
      "CC.M.151027.12C-Pal.D28_188\tCC.M.151027.12C-Pal.D28\r\n",
      "CF.A.151027.12C-Cel.D14_189\tCF.A.151027.12C-Cel.D14\r\n",
      "CF.A.151027.H2O-Con.D02_190\tCF.A.151027.H2O-Con.D02\r\n",
      "MP.M.151026.H2O-Con.D14_191\tMP.M.151026.H2O-Con.D14\r\n",
      "CC.F.151027.H2O-Con.D04_192\tCC.F.151027.H2O-Con.D04\r\n",
      "MR.M.13C-Pal.D6.R1_Frac6_193\tMR.M.13C-Pal.D6.R1_Frac6\r\n",
      "SS.M.151026.12C-Xyl.D02_194\tSS.M.151026.12C-Xyl.D02\r\n",
      "MR.M.151027.12C-Van.D04_195\tMR.M.151027.12C-Van.D04\r\n",
      "MR.A.13C-Xyl.D6.R1_Frac17_196\tMR.A.13C-Xyl.D6.R1_Frac17\r\n",
      "BH.F.151026.H2O-Con.D04_197\tBH.F.151026.H2O-Con.D04\r\n",
      "MF.A.151026.12C-Cel.D14_198\tMF.A.151026.12C-Cel.D14\r\n",
      "CC.F.151027.12C-Van.D04_199\tCC.F.151027.12C-Van.D04\r\n"
     ]
    }
   ],
   "source": [
    "! head -n 200 group_file.txt"
   ]
  },
  {
   "cell_type": "code",
   "execution_count": 14,
   "metadata": {
    "collapsed": false
   },
   "outputs": [
    {
     "name": "stdout",
     "output_type": "stream",
     "text": [
      "14735000\t6268961\r\n",
      "14736000\t6269335\r\n",
      "14737000\t6269740\r\n",
      "14738000\t6270147\r\n",
      "14739000\t6270559\r\n",
      "14740000\t6270967\r\n",
      "14741000\t6271350\r\n",
      "14742000\t6271759\r\n",
      "14743000\t6272165\r\n",
      "14744000\t6272563\r\n",
      "14745000\t6272994\r\n",
      "14746000\t6273407\r\n",
      "14747000\t6273799\r\n",
      "14748000\t6274207\r\n",
      "14749000\t6274613\r\n",
      "14750000\t6275028\r\n",
      "14751000\t6275442\r\n",
      "14752000\t6275837\r\n",
      "14753000\t6276278\r\n",
      "14754000\t6276690\r\n",
      "14755000\t6277122\r\n",
      "14756000\t6277546\r\n",
      "14756127\t6277607\r\n",
      "\r\n",
      "Output File Names: \r\n",
      "pear_merged-fullCyc2_lib14.assembled.dmult_maxee1_noN.names\r\n",
      "pear_merged-fullCyc2_lib14.assembled.dmult_maxee1_noN.unique.fasta\r\n",
      "\r\n",
      "\r\n",
      "mothur > quit()\r\n"
     ]
    }
   ],
   "source": [
    "# unique sequences\n",
    "cmd = 'mothur \"#unique.seqs(fasta={})\"'.format(qcFile2)\n",
    "!$cmd | tail -n 30"
   ]
  },
  {
   "cell_type": "code",
   "execution_count": 15,
   "metadata": {
    "collapsed": false
   },
   "outputs": [
    {
     "name": "stdout",
     "output_type": "stream",
     "text": [
      "Number of unique sequences: 6277607\n"
     ]
    }
   ],
   "source": [
    "qcFile3 = os.path.splitext(qcFile2)[0] + '.unique.fasta'\n",
    "n_uniq = !grep -c \">\" $qcFile3\n",
    "print ('Number of unique sequences: {}'.format(n_uniq[0]))"
   ]
  },
  {
   "cell_type": "code",
   "execution_count": 16,
   "metadata": {
    "collapsed": false
   },
   "outputs": [
    {
     "name": "stdout",
     "output_type": "stream",
     "text": [
      "-rw-rw-r-- 1 sam sam 654M May 16 16:32 pear_merged-fullCyc2_lib14.assembled.dmult_maxee1_noN.names\r\n"
     ]
    }
   ],
   "source": [
    "# name file produced by unique.seqs()\n",
    "nameFile = os.path.splitext(qcFile2)[0] + '.names'\n",
    "!ls -thlc $nameFile"
   ]
  },
  {
   "cell_type": "code",
   "execution_count": 17,
   "metadata": {
    "collapsed": false
   },
   "outputs": [
    {
     "name": "stdout",
     "output_type": "stream",
     "text": [
      "silva.seed_v132.tax\n",
      "silva.seed_v132.align\n",
      "README.md\n"
     ]
    },
    {
     "name": "stderr",
     "output_type": "stream",
     "text": [
      "--2018-05-16 16:32:24--  https://www.mothur.org/w/images/7/71/Silva.seed_v132.tgz\n",
      "Resolving www.mothur.org (www.mothur.org)... 141.214.120.22\n",
      "Connecting to www.mothur.org (www.mothur.org)|141.214.120.22|:443... connected.\n",
      "HTTP request sent, awaiting response... 200 OK\n",
      "Length: 19623900 (19M) [application/x-gzip]\n",
      "Saving to: ‘Silva.seed_v132.tgz’\n",
      "\n",
      "     0K .......... .......... .......... .......... ..........  0% 1.88M 10s\n",
      "    50K .......... .......... .......... .......... ..........  0%  996K 15s\n",
      "   100K .......... .......... .......... .......... ..........  0% 1.88M 13s\n",
      "   150K .......... .......... .......... .......... ..........  1%  989K 14s\n",
      "   200K .......... .......... .......... .......... ..........  1% 1.89M 14s\n",
      "   250K .......... .......... .......... .......... ..........  1%  990K 14s\n",
      "   300K .......... .......... .......... .......... ..........  1% 1.87M 14s\n",
      "   350K .......... .......... .......... .......... ..........  2%  993K 14s\n",
      "   400K .......... .......... .......... .......... ..........  2% 1003K 15s\n",
      "   450K .......... .......... .......... .......... ..........  2% 1.86M 14s\n",
      "   500K .......... .......... .......... .......... ..........  2% 1006K 15s\n",
      "   550K .......... .......... .......... .......... ..........  3% 1.85M 14s\n",
      "   600K .......... .......... .......... .......... ..........  3% 1008K 14s\n",
      "   650K .......... .......... .......... .......... ..........  3% 1.86M 14s\n",
      "   700K .......... .......... .......... .......... ..........  3%  997K 14s\n",
      "   750K .......... .......... .......... .......... ..........  4% 1.91M 14s\n",
      "   800K .......... .......... .......... .......... ..........  4%  990K 14s\n",
      "   850K .......... .......... .......... .......... ..........  4%  960K 14s\n",
      "   900K .......... .......... .......... .......... ..........  4% 1.78M 14s\n",
      "   950K .......... .......... .......... .......... ..........  5%  974K 14s\n",
      "  1000K .......... .......... .......... .......... ..........  5% 1.78M 14s\n",
      "  1050K .......... .......... .......... .......... ..........  5%  988K 14s\n",
      "  1100K .......... .......... .......... .......... ..........  6% 1.26M 14s\n",
      "  1150K .......... .......... .......... .......... ..........  6%  941K 14s\n",
      "  1200K .......... .......... .......... .......... ..........  6%  829K 15s\n",
      "  1250K .......... .......... .......... .......... ..........  6% 1.56M 14s\n",
      "  1300K .......... .......... .......... .......... ..........  7% 1.08M 14s\n",
      "  1350K .......... .......... .......... .......... ..........  7% 1.58M 14s\n",
      "  1400K .......... .......... .......... .......... ..........  7% 1.08M 14s\n",
      "  1450K .......... .......... .......... .......... ..........  7% 1.59M 14s\n",
      "  1500K .......... .......... .......... .......... ..........  8% 1.07M 14s\n",
      "  1550K .......... .......... .......... .......... ..........  8%  393K 15s\n",
      "  1600K .......... .......... .......... .......... ..........  8%  999K 15s\n",
      "  1650K .......... .......... .......... .......... ..........  8% 1.77M 15s\n",
      "  1700K .......... .......... .......... .......... ..........  9% 1.00M 15s\n",
      "  1750K .......... .......... .......... .......... ..........  9% 1.79M 15s\n",
      "  1800K .......... .......... .......... .......... ..........  9%  812K 15s\n",
      "  1850K .......... .......... .......... .......... ..........  9% 1.02M 15s\n",
      "  1900K .......... .......... .......... .......... .......... 10%  892K 15s\n",
      "  1950K .......... .......... .......... .......... .......... 10% 1.19M 15s\n",
      "  2000K .......... .......... .......... .......... .......... 10%  863K 15s\n",
      "  2050K .......... .......... .......... .......... .......... 10% 1.38M 15s\n",
      "  2100K .......... .......... .......... .......... .......... 11% 1.87M 15s\n",
      "  2150K .......... .......... .......... .......... .......... 11% 1.87M 15s\n",
      "  2200K .......... .......... .......... .......... .......... 11% 1.91M 14s\n",
      "  2250K .......... .......... .......... .......... .......... 12% 1.87M 14s\n",
      "  2300K .......... .......... .......... .......... .......... 12% 1.89M 14s\n",
      "  2350K .......... .......... .......... .......... .......... 12%  986K 14s\n",
      "  2400K .......... .......... .......... .......... .......... 12% 1.87M 14s\n",
      "  2450K .......... .......... .......... .......... .......... 13% 1.88M 14s\n",
      "  2500K .......... .......... .......... .......... .......... 13% 1.87M 14s\n",
      "  2550K .......... .......... .......... .......... .......... 13% 1.89M 13s\n",
      "  2600K .......... .......... .......... .......... .......... 13%  861K 14s\n",
      "  2650K .......... .......... .......... .......... .......... 14% 1.90M 13s\n",
      "  2700K .......... .......... .......... .......... .......... 14% 1.68M 13s\n",
      "  2750K .......... .......... .......... .......... .......... 14% 1.73M 13s\n",
      "  2800K .......... .......... .......... .......... .......... 14%  819K 13s\n",
      "  2850K .......... .......... .......... .......... .......... 15% 1.58M 13s\n",
      "  2900K .......... .......... .......... .......... .......... 15% 1.63M 13s\n",
      "  2950K .......... .......... .......... .......... .......... 15%  843K 13s\n",
      "  3000K .......... .......... .......... .......... .......... 15% 1.83M 13s\n",
      "  3050K .......... .......... .......... .......... .......... 16% 1.85M 13s\n",
      "  3100K .......... .......... .......... .......... .......... 16%  979K 13s\n",
      "  3150K .......... .......... .......... .......... .......... 16% 1.85M 13s\n",
      "  3200K .......... .......... .......... .......... .......... 16% 1.75M 13s\n",
      "  3250K .......... .......... .......... .......... .......... 17%  972K 13s\n",
      "  3300K .......... .......... .......... .......... .......... 17% 1.85M 13s\n",
      "  3350K .......... .......... .......... .......... .......... 17% 1.89M 13s\n",
      "  3400K .......... .......... .......... .......... .......... 18% 1.87M 12s\n",
      "  3450K .......... .......... .......... .......... .......... 18% 1.89M 12s\n",
      "  3500K .......... .......... .......... .......... .......... 18% 1.88M 12s\n",
      "  3550K .......... .......... .......... .......... .......... 18% 1.90M 12s\n",
      "  3600K .......... .......... .......... .......... .......... 19%  985K 12s\n",
      "  3650K .......... .......... .......... .......... .......... 19% 1.91M 12s\n",
      "  3700K .......... .......... .......... .......... .......... 19% 1.91M 12s\n",
      "  3750K .......... .......... .......... .......... .......... 19% 1.83M 12s\n",
      "  3800K .......... .......... .......... .......... .......... 20% 1.85M 12s\n",
      "  3850K .......... .......... .......... .......... .......... 20% 1.89M 12s\n",
      "  3900K .......... .......... .......... .......... .......... 20% 1.85M 12s\n",
      "  3950K .......... .......... .......... .......... .......... 20% 1.88M 12s\n",
      "  4000K .......... .......... .......... .......... .......... 21% 1.88M 11s\n",
      "  4050K .......... .......... .......... .......... .......... 21% 1.90M 11s\n",
      "  4100K .......... .......... .......... .......... .......... 21% 1.89M 11s\n",
      "  4150K .......... .......... .......... .......... .......... 21% 1.84M 11s\n",
      "  4200K .......... .......... .......... .......... .......... 22% 1.90M 11s\n",
      "  4250K .......... .......... .......... .......... .......... 22% 1.85M 11s\n",
      "  4300K .......... .......... .......... .......... .......... 22%  994K 11s\n",
      "  4350K .......... .......... .......... .......... .......... 22% 1.90M 11s\n",
      "  4400K .......... .......... .......... .......... .......... 23% 1.88M 11s\n",
      "  4450K .......... .......... .......... .......... .......... 23% 1.89M 11s\n",
      "  4500K .......... .......... .......... .......... .......... 23% 1.88M 11s\n",
      "  4550K .......... .......... .......... .......... .......... 24% 1.87M 11s\n",
      "  4600K .......... .......... .......... .......... .......... 24% 1.87M 11s\n",
      "  4650K .......... .......... .......... .......... .......... 24% 1.89M 11s\n",
      "  4700K .......... .......... .......... .......... .......... 24% 1003K 11s\n",
      "  4750K .......... .......... .......... .......... .......... 25% 1.83M 10s\n",
      "  4800K .......... .......... .......... .......... .......... 25% 1.90M 10s\n",
      "  4850K .......... .......... .......... .......... .......... 25% 1.87M 10s\n",
      "  4900K .......... .......... .......... .......... .......... 25% 1.90M 10s\n",
      "  4950K .......... .......... .......... .......... .......... 26% 1.87M 10s\n",
      "  5000K .......... .......... .......... .......... .......... 26% 1.88M 10s\n",
      "  5050K .......... .......... .......... .......... .......... 26% 1.86M 10s\n",
      "  5100K .......... .......... .......... .......... .......... 26% 1.90M 10s\n",
      "  5150K .......... .......... .......... .......... .......... 27% 1.84M 10s\n",
      "  5200K .......... .......... .......... .......... .......... 27%  998K 10s\n",
      "  5250K .......... .......... .......... .......... .......... 27% 1.91M 10s\n",
      "  5300K .......... .......... .......... .......... .......... 27% 1.89M 10s\n",
      "  5350K .......... .......... .......... .......... .......... 28% 1.92M 10s\n",
      "  5400K .......... .......... .......... .......... .......... 28% 1.91M 10s\n",
      "  5450K .......... .......... .......... .......... .......... 28% 1.83M 10s\n",
      "  5500K .......... .......... .......... .......... .......... 28% 1.85M 10s\n",
      "  5550K .......... .......... .......... .......... .......... 29% 1.92M 10s\n",
      "  5600K .......... .......... .......... .......... .......... 29% 1.86M 9s\n",
      "  5650K .......... .......... .......... .......... .......... 29% 1.91M 9s\n",
      "  5700K .......... .......... .......... .......... .......... 30% 1.90M 9s\n",
      "  5750K .......... .......... .......... .......... .......... 30% 1.89M 9s\n",
      "  5800K .......... .......... .......... .......... .......... 30% 1.92M 9s\n",
      "  5850K .......... .......... .......... .......... .......... 30% 1.92M 9s\n",
      "  5900K .......... .......... .......... .......... .......... 31% 1.92M 9s\n",
      "  5950K .......... .......... .......... .......... .......... 31% 1.00M 9s\n",
      "  6000K .......... .......... .......... .......... .......... 31% 1.90M 9s\n",
      "  6050K .......... .......... .......... .......... .......... 31% 1.91M 9s\n",
      "  6100K .......... .......... .......... .......... .......... 32% 1.91M 9s\n",
      "  6150K .......... .......... .......... .......... .......... 32% 1.90M 9s\n",
      "  6200K .......... .......... .......... .......... .......... 32% 1.92M 9s\n",
      "  6250K .......... .......... .......... .......... .......... 32% 1.92M 9s\n",
      "  6300K .......... .......... .......... .......... .......... 33% 1.91M 9s\n",
      "  6350K .......... .......... .......... .......... .......... 33% 1.76M 9s\n",
      "  6400K .......... .......... .......... .......... .......... 33% 1.90M 9s\n",
      "  6450K .......... .......... .......... .......... .......... 33% 1.89M 9s\n",
      "  6500K .......... .......... .......... .......... .......... 34% 1.91M 9s\n",
      "  6550K .......... .......... .......... .......... .......... 34% 1.90M 9s\n",
      "  6600K .......... .......... .......... .......... .......... 34% 1.89M 8s\n",
      "  6650K .......... .......... .......... .......... .......... 34% 1.90M 8s\n",
      "  6700K .......... .......... .......... .......... .......... 35% 1.88M 8s\n",
      "  6750K .......... .......... .......... .......... .......... 35% 1.87M 8s\n",
      "  6800K .......... .......... .......... .......... .......... 35% 1.90M 8s\n",
      "  6850K .......... .......... .......... .......... .......... 36% 1.91M 8s\n",
      "  6900K .......... .......... .......... .......... .......... 36% 1.90M 8s\n",
      "  6950K .......... .......... .......... .......... .......... 36% 1.88M 8s\n",
      "  7000K .......... .......... .......... .......... .......... 36% 1.92M 8s\n",
      "  7050K .......... .......... .......... .......... .......... 37% 1.90M 8s\n",
      "  7100K .......... .......... .......... .......... .......... 37% 1.92M 8s\n",
      "  7150K .......... .......... .......... .......... .......... 37% 1.92M 8s\n",
      "  7200K .......... .......... .......... .......... .......... 37% 1014K 8s\n",
      "  7250K .......... .......... .......... .......... .......... 38% 1.91M 8s\n",
      "  7300K .......... .......... .......... .......... .......... 38% 1.90M 8s\n",
      "  7350K .......... .......... .......... .......... .......... 38% 1.86M 8s\n",
      "  7400K .......... .......... .......... .......... .......... 38% 1.91M 8s\n",
      "  7450K .......... .......... .......... .......... .......... 39% 1.89M 8s\n",
      "  7500K .......... .......... .......... .......... .......... 39% 1.88M 8s\n",
      "  7550K .......... .......... .......... .......... .......... 39% 1.89M 8s\n",
      "  7600K .......... .......... .......... .......... .......... 39% 1.88M 8s\n",
      "  7650K .......... .......... .......... .......... .......... 40% 1.89M 8s\n",
      "  7700K .......... .......... .......... .......... .......... 40% 1.92M 8s\n",
      "  7750K .......... .......... .......... .......... .......... 40% 1.90M 7s\n",
      "  7800K .......... .......... .......... .......... .......... 40% 1.90M 7s\n",
      "  7850K .......... .......... .......... .......... .......... 41% 1.92M 7s\n",
      "  7900K .......... .......... .......... .......... .......... 41% 1.86M 7s\n",
      "  7950K .......... .......... .......... .......... .......... 41% 1.92M 7s\n",
      "  8000K .......... .......... .......... .......... .......... 42% 1.92M 7s\n",
      "  8050K .......... .......... .......... .......... .......... 42% 1.89M 7s\n",
      "  8100K .......... .......... .......... .......... .......... 42% 1.92M 7s\n",
      "  8150K .......... .......... .......... .......... .......... 42% 1.88M 7s\n",
      "  8200K .......... .......... .......... .......... .......... 43% 1.90M 7s\n",
      "  8250K .......... .......... .......... .......... .......... 43% 1.92M 7s\n",
      "  8300K .......... .......... .......... .......... .......... 43% 1.91M 7s\n",
      "  8350K .......... .......... .......... .......... .......... 43% 1.00M 7s\n",
      "  8400K .......... .......... .......... .......... .......... 44% 1.89M 7s\n",
      "  8450K .......... .......... .......... .......... .......... 44% 1.90M 7s\n",
      "  8500K .......... .......... .......... .......... .......... 44% 1.91M 7s\n",
      "  8550K .......... .......... .......... .......... .......... 44% 1.91M 7s\n",
      "  8600K .......... .......... .......... .......... .......... 45% 1.91M 7s\n",
      "  8650K .......... .......... .......... .......... .......... 45% 1.89M 7s\n",
      "  8700K .......... .......... .......... .......... .......... 45% 1.93M 7s\n",
      "  8750K .......... .......... .......... .......... .......... 45% 1.89M 7s\n",
      "  8800K .......... .......... .......... .......... .......... 46% 1.93M 7s\n",
      "  8850K .......... .......... .......... .......... .......... 46% 1.88M 7s\n",
      "  8900K .......... .......... .......... .......... .......... 46% 1.91M 7s\n",
      "  8950K .......... .......... .......... .......... .......... 46% 1.89M 7s\n",
      "  9000K .......... .......... .......... .......... .......... 47% 1.92M 6s\n",
      "  9050K .......... .......... .......... .......... .......... 47% 1.92M 6s\n",
      "  9100K .......... .......... .......... .......... .......... 47% 1.92M 6s\n",
      "  9150K .......... .......... .......... .......... .......... 48% 1.88M 6s\n",
      "  9200K .......... .......... .......... .......... .......... 48% 1.89M 6s\n",
      "  9250K .......... .......... .......... .......... .......... 48% 1.92M 6s\n",
      "  9300K .......... .......... .......... .......... .......... 48% 1.91M 6s\n",
      "  9350K .......... .......... .......... .......... .......... 49% 1.89M 6s\n",
      "  9400K .......... .......... .......... .......... .......... 49% 1.89M 6s\n",
      "  9450K .......... .......... .......... .......... .......... 49% 1.91M 6s\n",
      "  9500K .......... .......... .......... .......... .......... 49% 1002K 6s\n",
      "  9550K .......... .......... .......... .......... .......... 50% 29.7M 6s\n",
      "  9600K .......... .......... .......... .......... .......... 50% 1010K 6s\n",
      "  9650K .......... .......... .......... .......... .......... 50% 1.91M 6s\n",
      "  9700K .......... .......... .......... .......... .......... 50% 1.90M 6s\n",
      "  9750K .......... .......... .......... .......... .......... 51% 1.90M 6s\n",
      "  9800K .......... .......... .......... .......... .......... 51% 1.91M 6s\n",
      "  9850K .......... .......... .......... .......... .......... 51% 1.92M 6s\n",
      "  9900K .......... .......... .......... .......... .......... 51% 1.84M 6s\n",
      "  9950K .......... .......... .......... .......... .......... 52% 1.91M 6s\n",
      " 10000K .......... .......... .......... .......... .......... 52% 1.91M 6s\n",
      " 10050K .......... .......... .......... .......... .......... 52% 1.90M 6s\n",
      " 10100K .......... .......... .......... .......... .......... 52% 1.91M 6s\n",
      " 10150K .......... .......... .......... .......... .......... 53% 1.89M 6s\n",
      " 10200K .......... .......... .......... .......... .......... 53% 1.91M 6s\n",
      " 10250K .......... .......... .......... .......... .......... 53% 1.92M 6s\n",
      " 10300K .......... .......... .......... .......... .......... 54% 1.92M 6s\n",
      " 10350K .......... .......... .......... .......... .......... 54% 1.88M 5s\n",
      " 10400K .......... .......... .......... .......... .......... 54% 1.89M 5s\n",
      " 10450K .......... .......... .......... .......... .......... 54% 1.92M 5s\n",
      " 10500K .......... .......... .......... .......... .......... 55% 1.91M 5s\n",
      " 10550K .......... .......... .......... .......... .......... 55% 1.92M 5s\n",
      " 10600K .......... .......... .......... .......... .......... 55% 1.92M 5s\n",
      " 10650K .......... .......... .......... .......... .......... 55% 1.91M 5s\n",
      " 10700K .......... .......... .......... .......... .......... 56% 1.89M 5s\n",
      " 10750K .......... .......... .......... .......... .......... 56% 1.00M 5s\n",
      " 10800K .......... .......... .......... .......... .......... 56% 1.92M 5s\n",
      " 10850K .......... .......... .......... .......... .......... 56% 1.92M 5s\n",
      " 10900K .......... .......... .......... .......... .......... 57% 1.90M 5s\n",
      " 10950K .......... .......... .......... .......... .......... 57% 1.88M 5s\n",
      " 11000K .......... .......... .......... .......... .......... 57% 1.91M 5s\n",
      " 11050K .......... .......... .......... .......... .......... 57% 1.91M 5s\n",
      " 11100K .......... .......... .......... .......... .......... 58% 1.91M 5s\n",
      " 11150K .......... .......... .......... .......... .......... 58% 1.92M 5s\n",
      " 11200K .......... .......... .......... .......... .......... 58% 1.85M 5s\n",
      " 11250K .......... .......... .......... .......... .......... 58% 1.92M 5s\n",
      " 11300K .......... .......... .......... .......... .......... 59% 1.93M 5s\n",
      " 11350K .......... .......... .......... .......... .......... 59% 1.93M 5s\n",
      " 11400K .......... .......... .......... .......... .......... 59% 1.92M 5s\n",
      " 11450K .......... .......... .......... .......... .......... 60% 1.92M 5s\n",
      " 11500K .......... .......... .......... .......... .......... 60% 1.78M 5s\n",
      " 11550K .......... .......... .......... .......... .......... 60% 1.92M 5s\n",
      " 11600K .......... .......... .......... .......... .......... 60% 1.92M 5s\n",
      " 11650K .......... .......... .......... .......... .......... 61% 1.93M 5s\n",
      " 11700K .......... .......... .......... .......... .......... 61% 1.76M 5s\n",
      " 11750K .......... .......... .......... .......... .......... 61% 1.71M 5s\n",
      " 11800K .......... .......... .......... .......... .......... 61% 1.77M 4s\n",
      " 11850K .......... .......... .......... .......... .......... 62% 1.74M 4s\n",
      " 11900K .......... .......... .......... .......... .......... 62% 1.76M 4s\n",
      " 11950K .......... .......... .......... .......... .......... 62%  765K 4s\n",
      " 12000K .......... .......... .......... .......... .......... 62% 1.88M 4s\n",
      " 12050K .......... .......... .......... .......... .......... 63% 1.90M 4s\n",
      " 12100K .......... .......... .......... .......... .......... 63% 1.64M 4s\n",
      " 12150K .......... .......... .......... .......... .......... 63% 1.71M 4s\n",
      " 12200K .......... .......... .......... .......... .......... 63% 1.79M 4s\n",
      " 12250K .......... .......... .......... .......... .......... 64% 1.63M 4s\n",
      " 12300K .......... .......... .......... .......... .......... 64% 1.67M 4s\n",
      " 12350K .......... .......... .......... .......... .......... 64% 1.90M 4s\n",
      " 12400K .......... .......... .......... .......... .......... 64% 1.23M 4s\n",
      " 12450K .......... .......... .......... .......... .......... 65% 1.49M 4s\n",
      " 12500K .......... .......... .......... .......... .......... 65% 1.90M 4s\n",
      " 12550K .......... .......... .......... .......... .......... 65% 1.91M 4s\n",
      " 12600K .......... .......... .......... .......... .......... 66% 1.92M 4s\n",
      " 12650K .......... .......... .......... .......... .......... 66% 1.92M 4s\n",
      " 12700K .......... .......... .......... .......... .......... 66% 1.93M 4s\n",
      " 12750K .......... .......... .......... .......... .......... 66% 1.92M 4s\n",
      " 12800K .......... .......... .......... .......... .......... 67% 1.44M 4s\n",
      " 12850K .......... .......... .......... .......... .......... 67% 1.92M 4s\n",
      " 12900K .......... .......... .......... .......... .......... 67% 1.90M 4s\n",
      " 12950K .......... .......... .......... .......... .......... 67% 1.92M 4s\n",
      " 13000K .......... .......... .......... .......... .......... 68% 1.93M 4s\n",
      " 13050K .......... .......... .......... .......... .......... 68% 1.93M 4s\n",
      " 13100K .......... .......... .......... .......... .......... 68% 1.92M 4s\n",
      " 13150K .......... .......... .......... .......... .......... 68% 1.93M 4s\n",
      " 13200K .......... .......... .......... .......... .......... 69% 1.51M 4s\n",
      " 13250K .......... .......... .......... .......... .......... 69% 1.93M 4s\n",
      " 13300K .......... .......... .......... .......... .......... 69% 1.93M 4s\n",
      " 13350K .......... .......... .......... .......... .......... 69% 1.91M 4s\n",
      " 13400K .......... .......... .......... .......... .......... 70% 1.94M 3s\n",
      " 13450K .......... .......... .......... .......... .......... 70% 1.93M 3s\n",
      " 13500K .......... .......... .......... .......... .......... 70% 1.40M 3s\n",
      " 13550K .......... .......... .......... .......... .......... 70% 1.93M 3s\n",
      " 13600K .......... .......... .......... .......... .......... 71% 1.92M 3s\n",
      " 13650K .......... .......... .......... .......... .......... 71% 1.91M 3s\n",
      " 13700K .......... .......... .......... .......... .......... 71% 1.94M 3s\n",
      " 13750K .......... .......... .......... .......... .......... 72% 1.91M 3s\n",
      " 13800K .......... .......... .......... .......... .......... 72% 1.93M 3s\n",
      " 13850K .......... .......... .......... .......... .......... 72% 1.94M 3s\n",
      " 13900K .......... .......... .......... .......... .......... 72% 1.93M 3s\n",
      " 13950K .......... .......... .......... .......... .......... 73% 1.41M 3s\n",
      " 14000K .......... .......... .......... .......... .......... 73% 1.94M 3s\n",
      " 14050K .......... .......... .......... .......... .......... 73% 1.91M 3s\n",
      " 14100K .......... .......... .......... .......... .......... 73% 1.94M 3s\n",
      " 14150K .......... .......... .......... .......... .......... 74% 1.91M 3s\n",
      " 14200K .......... .......... .......... .......... .......... 74% 1.93M 3s\n",
      " 14250K .......... .......... .......... .......... .......... 74% 1.91M 3s\n",
      " 14300K .......... .......... .......... .......... .......... 74% 1.94M 3s\n",
      " 14350K .......... .......... .......... .......... .......... 75% 1.55M 3s\n",
      " 14400K .......... .......... .......... .......... .......... 75% 1.93M 3s\n",
      " 14450K .......... .......... .......... .......... .......... 75% 1.91M 3s\n",
      " 14500K .......... .......... .......... .......... .......... 75% 1.90M 3s\n",
      " 14550K .......... .......... .......... .......... .......... 76% 1.81M 3s\n",
      " 14600K .......... .......... .......... .......... .......... 76% 1.76M 3s\n",
      " 14650K .......... .......... .......... .......... .......... 76% 1.88M 3s\n",
      " 14700K .......... .......... .......... .......... .......... 76% 1.87M 3s\n",
      " 14750K .......... .......... .......... .......... .......... 77% 1.40M 3s\n",
      " 14800K .......... .......... .......... .......... .......... 77% 1.88M 3s\n",
      " 14850K .......... .......... .......... .......... .......... 77% 1.88M 3s\n",
      " 14900K .......... .......... .......... .......... .......... 78% 1.93M 3s\n",
      " 14950K .......... .......... .......... .......... .......... 78% 1.93M 3s\n",
      " 15000K .......... .......... .......... .......... .......... 78% 1.94M 2s\n",
      " 15050K .......... .......... .......... .......... .......... 78% 1.93M 2s\n",
      " 15100K .......... .......... .......... .......... .......... 79% 1.90M 2s\n",
      " 15150K .......... .......... .......... .......... .......... 79% 1.09M 2s\n",
      " 15200K .......... .......... .......... .......... .......... 79% 1.93M 2s\n",
      " 15250K .......... .......... .......... .......... .......... 79% 1.93M 2s\n",
      " 15300K .......... .......... .......... .......... .......... 80% 1.92M 2s\n",
      " 15350K .......... .......... .......... .......... .......... 80% 1.73M 2s\n",
      " 15400K .......... .......... .......... .......... .......... 80% 1.93M 2s\n",
      " 15450K .......... .......... .......... .......... .......... 80% 1.91M 2s\n",
      " 15500K .......... .......... .......... .......... .......... 81% 1.93M 2s\n",
      " 15550K .......... .......... .......... .......... .......... 81% 1.91M 2s\n",
      " 15600K .......... .......... .......... .......... .......... 81% 1.48M 2s\n",
      " 15650K .......... .......... .......... .......... .......... 81% 1.92M 2s\n",
      " 15700K .......... .......... .......... .......... .......... 82% 1.92M 2s\n",
      " 15750K .......... .......... .......... .......... .......... 82% 1.93M 2s\n",
      " 15800K .......... .......... .......... .......... .......... 82% 1.94M 2s\n",
      " 15850K .......... .......... .......... .......... .......... 82% 1.93M 2s\n",
      " 15900K .......... .......... .......... .......... .......... 83% 1.94M 2s\n",
      " 15950K .......... .......... .......... .......... .......... 83% 1.89M 2s\n",
      " 16000K .......... .......... .......... .......... .......... 83% 1.92M 2s\n",
      " 16050K .......... .......... .......... .......... .......... 84% 1.92M 2s\n",
      " 16100K .......... .......... .......... .......... .......... 84% 1.93M 2s\n",
      " 16150K .......... .......... .......... .......... .......... 84% 1.94M 2s\n",
      " 16200K .......... .......... .......... .......... .......... 84% 1.93M 2s\n",
      " 16250K .......... .......... .......... .......... .......... 85% 1.92M 2s\n",
      " 16300K .......... .......... .......... .......... .......... 85% 1.94M 2s\n",
      " 16350K .......... .......... .......... .......... .......... 85% 1.91M 2s\n",
      " 16400K .......... .......... .......... .......... .......... 85% 1.93M 2s\n",
      " 16450K .......... .......... .......... .......... .......... 86% 1.94M 2s\n",
      " 16500K .......... .......... .......... .......... .......... 86% 1.93M 2s\n",
      " 16550K .......... .......... .......... .......... .......... 86% 1.93M 2s\n",
      " 16600K .......... .......... .......... .......... .......... 86% 1.94M 1s\n",
      " 16650K .......... .......... .......... .......... .......... 87% 1.94M 1s\n",
      " 16700K .......... .......... .......... .......... .......... 87% 1.94M 1s\n",
      " 16750K .......... .......... .......... .......... .......... 87% 1.92M 1s\n",
      " 16800K .......... .......... .......... .......... .......... 87% 1.91M 1s\n",
      " 16850K .......... .......... .......... .......... .......... 88% 1.93M 1s\n",
      " 16900K .......... .......... .......... .......... .......... 88% 1.94M 1s\n",
      " 16950K .......... .......... .......... .......... .......... 88% 1.92M 1s\n",
      " 17000K .......... .......... .......... .......... .......... 88% 1.93M 1s\n",
      " 17050K .......... .......... .......... .......... .......... 89% 1.90M 1s\n",
      " 17100K .......... .......... .......... .......... .......... 89% 1.15M 1s\n",
      " 17150K .......... .......... .......... .......... .......... 89% 1.92M 1s\n",
      " 17200K .......... .......... .......... .......... .......... 90% 1.92M 1s\n",
      " 17250K .......... .......... .......... .......... .......... 90% 6.04M 1s\n",
      " 17300K .......... .......... .......... .......... .......... 90% 1.93M 1s\n",
      " 17350K .......... .......... .......... .......... .......... 90% 1.91M 1s\n",
      " 17400K .......... .......... .......... .......... .......... 91% 1.90M 1s\n",
      " 17450K .......... .......... .......... .......... .......... 91% 1.94M 1s\n",
      " 17500K .......... .......... .......... .......... .......... 91% 1.93M 1s\n",
      " 17550K .......... .......... .......... .......... .......... 91% 1.14M 1s\n",
      " 17600K .......... .......... .......... .......... .......... 92% 1.92M 1s\n",
      " 17650K .......... .......... .......... .......... .......... 92% 1.91M 1s\n",
      " 17700K .......... .......... .......... .......... .......... 92% 1.94M 1s\n",
      " 17750K .......... .......... .......... .......... .......... 92% 30.6M 1s\n",
      " 17800K .......... .......... .......... .......... .......... 93% 1.90M 1s\n",
      " 17850K .......... .......... .......... .......... .......... 93% 1.91M 1s\n",
      " 17900K .......... .......... .......... .......... .......... 93% 1.92M 1s\n",
      " 17950K .......... .......... .......... .......... .......... 93% 1.93M 1s\n",
      " 18000K .......... .......... .......... .......... .......... 94% 1.93M 1s\n",
      " 18050K .......... .......... .......... .......... .......... 94% 30.5M 1s\n",
      " 18100K .......... .......... .......... .......... .......... 94% 1.91M 1s\n",
      " 18150K .......... .......... .......... .......... .......... 94% 1.96M 1s\n",
      " 18200K .......... .......... .......... .......... .......... 95% 1.92M 1s\n",
      " 18250K .......... .......... .......... .......... .......... 95% 1.93M 1s\n",
      " 18300K .......... .......... .......... .......... .......... 95% 1.94M 0s\n",
      " 18350K .......... .......... .......... .......... .......... 96% 1.92M 0s\n",
      " 18400K .......... .......... .......... .......... .......... 96% 1.94M 0s\n",
      " 18450K .......... .......... .......... .......... .......... 96% 1.94M 0s\n",
      " 18500K .......... .......... .......... .......... .......... 96% 20.6M 0s\n",
      " 18550K .......... .......... .......... .......... .......... 97% 1.94M 0s\n",
      " 18600K .......... .......... .......... .......... .......... 97% 1.94M 0s\n",
      " 18650K .......... .......... .......... .......... .......... 97% 1.95M 0s\n",
      " 18700K .......... .......... .......... .......... .......... 97% 1.91M 0s\n",
      " 18750K .......... .......... .......... .......... .......... 98% 1.93M 0s\n",
      " 18800K .......... .......... .......... .......... .......... 98% 1.90M 0s\n",
      " 18850K .......... .......... .......... .......... .......... 98% 1.93M 0s\n",
      " 18900K .......... .......... .......... .......... .......... 98% 1.93M 0s\n",
      " 18950K .......... .......... .......... .......... .......... 99% 1.94M 0s\n",
      " 19000K .......... .......... .......... .......... .......... 99% 1.94M 0s\n",
      " 19050K .......... .......... .......... .......... .......... 99% 1.90M 0s\n",
      " 19100K .......... .......... .......... .......... .......... 99% 42.6M 0s\n",
      " 19150K .......... ...                                        100%  581K=11s\n",
      "\n",
      "2018-05-16 16:32:36 (1.69 MB/s) - ‘Silva.seed_v132.tgz’ saved [19623900/19623900]\n",
      "\n"
     ]
    }
   ],
   "source": [
    "%%bash \n",
    "# Remove database if already exsists\n",
    "if [ -d mothur_silva_db ]; then\n",
    "    rm -rf mothur_silva_db\n",
    "fi\n",
    "\n",
    "#if ! [ -d mothur_silva_db ]; then\n",
    "#    mkdir mothur_silva_db\n",
    "#fi\n",
    "\n",
    "mkdir mothur_silva_db\n",
    "cd mothur_silva_db\n",
    "\n",
    "# Download mothur recreatd SEED database release 132.\n",
    "wget https://www.mothur.org/w/images/7/71/Silva.seed_v132.tgz\n",
    "#wget https://www.mothur.org/w/images/a/a4/Silva.seed_v128.tgz\n",
    "tar -xvzf Silva.seed_v132.tgz\n",
    "rm Silva.seed_v132.tgz"
   ]
  },
  {
   "cell_type": "code",
   "execution_count": null,
   "metadata": {
    "collapsed": false
   },
   "outputs": [
    {
     "name": "stdout",
     "output_type": "stream",
     "text": [
      "100\n",
      "200\n",
      "300\n",
      "400\n",
      "500\n",
      "560\n",
      "\n",
      "\n",
      "\n",
      "Length of filtered alignment: 10180\n",
      "Number of columns removed: 39820\n",
      "Length of the original alignment: 50000\n",
      "Number of sequences used to construct filter: 11180\n",
      "\n",
      "Output File Names: \n",
      "silva.filter\n",
      "silva.seed_v132.filter.fasta\n",
      "\n",
      "\n",
      "mothur > quit()\n",
      "\n",
      "Number of sequences post-filter: 11180\n"
     ]
    }
   ],
   "source": [
    "silvaFile = 'silva.seed_v132.align'\n",
    "cmd = 'mothur \"#filter.seqs(vertical=t, fasta={}, processors={})\"'.format(silvaFile, nprocs)\n",
    "!cd mothur_silva_db; $cmd | tail -n 20\n",
    "\n",
    "silvaFileFilt = os.path.splitext(silvaFile)[0] + '.filter.fasta'\n",
    "silvaFileFilt = os.path.join('mothur_silva_db', silvaFileFilt)\n",
    "ret = !grep -c \">\" $silvaFileFilt\n",
    "print ('\\nNumber of sequences post-filter: {}'.format(ret[0]))"
   ]
  },
  {
   "cell_type": "code",
   "execution_count": null,
   "metadata": {
    "collapsed": false
   },
   "outputs": [],
   "source": [
    "# aligning sequences\n",
    "qcFile3a = re.sub('-', '\\-', qcFile3)\n",
    "cmd = 'mothur \"#align.seqs(candidate={}, template={}, processors={}, flip=T)\"'.format(qcFile3a, silvaFileFilt, nprocs)\n",
    "!$cmd | tail -n 30"
   ]
  },
  {
   "cell_type": "code",
   "execution_count": null,
   "metadata": {
    "collapsed": false
   },
   "outputs": [],
   "source": [
    "qcFile4 = os.path.splitext(qcFile3)[0] + '.align'\n",
    "!ls -thlc $qcFile4 "
   ]
  },
  {
   "cell_type": "code",
   "execution_count": null,
   "metadata": {
    "collapsed": false
   },
   "outputs": [],
   "source": [
    "# filtering out gap positions in the alignment\n",
    "qcFile4a = re.sub('-', '\\-', qcFile4)\n",
    "cmd = 'mothur \"#filter.seqs(vertical=t, fasta={}, processors={})\"'.format(qcFile4a, nprocs)\n",
    "!$cmd | tail -n 30"
   ]
  },
  {
   "cell_type": "code",
   "execution_count": null,
   "metadata": {
    "collapsed": false
   },
   "outputs": [],
   "source": [
    "qcFile5 = os.path.splitext(qcFile3)[0] + '.filter.fasta'\n",
    "!ls -thlc $qcFile5"
   ]
  },
  {
   "cell_type": "code",
   "execution_count": 26,
   "metadata": {
    "collapsed": false
   },
   "outputs": [
    {
     "name": "stdout",
     "output_type": "stream",
     "text": [
      "Using 20 processors.\r\n",
      "\r\n",
      "\t\tStart\tEnd\tNBases\tAmbigs\tPolymer\tNumSeqs\r\n",
      "Minimum:\t0\t0\t0\t0\t1\t1\r\n",
      "2.5%-tile:\t465\t1471\t253\t0\t4\t368904\r\n",
      "25%-tile:\t465\t1471\t253\t0\t4\t3689032\r\n",
      "Median: \t465\t1471\t253\t0\t5\t7378064\r\n",
      "75%-tile:\t465\t1471\t253\t0\t5\t11067096\r\n",
      "97.5%-tile:\t465\t1471\t254\t0\t8\t14387224\r\n",
      "Maximum:\t2054\t2054\t412\t0\t43\t14756127\r\n",
      "Mean:\t466.193\t1471.24\t252.791\t0\t4.86608\r\n",
      "# of unique seqs:\t6277607\r\n",
      "total # of seqs:\t14756127\r\n",
      "\r\n",
      "Output File Names: \r\n",
      "pear_merged-fullCyc2_lib14.assembled.dmult_maxee1_noN.unique.filter.summary\r\n",
      "\r\n",
      "It took 46 secs to summarize 14756127 sequences.\r\n",
      "\r\n",
      "mothur > quit()\r\n"
     ]
    }
   ],
   "source": [
    "cmd = 'mothur \"#summary.seqs(fasta={}, processors={}, name={})\"'.format(qcFile5, nprocs, nameFile)\n",
    "!$cmd | tail -n 20"
   ]
  },
  {
   "cell_type": "code",
   "execution_count": 25,
   "metadata": {
    "collapsed": false
   },
   "outputs": [
    {
     "name": "stdout",
     "output_type": "stream",
     "text": [
      "^C\r\n"
     ]
    }
   ],
   "source": [
    "cmd = 'mothur \"#summary.seqs(fasta={}, processors={}, name={})\"'.format(qcFile5, nprocs, nameFile)\n",
    "!$cmd | cat > mothursummary.txt"
   ]
  },
  {
   "cell_type": "markdown",
   "metadata": {},
   "source": [
    "## Removing homopolymers (> 8) and screening out sequences that don't align to an amplicon region"
   ]
  },
  {
   "cell_type": "code",
   "execution_count": 27,
   "metadata": {
    "collapsed": false
   },
   "outputs": [
    {
     "name": "stdout",
     "output_type": "stream",
     "text": [
      "Processing sequence: 312300\r\n",
      "Processing sequence: 312400\r\n",
      "Processing sequence: 312500\r\n",
      "Processing sequence: 312600\r\n",
      "Processing sequence: 312700\r\n",
      "Processing sequence: 312800\r\n",
      "Processing sequence: 312900\r\n",
      "Processing sequence: 313000\r\n",
      "Processing sequence: 313100\r\n",
      "Processing sequence: 313200\r\n",
      "Processing sequence: 313300\r\n",
      "Processing sequence: 313400\r\n",
      "Processing sequence: 313500\r\n",
      "Processing sequence: 313600\r\n",
      "Processing sequence: 313700\r\n",
      "Processing sequence: 313800\r\n",
      "Processing sequence: 313900\r\n",
      "Processing sequence: 314000\r\n",
      "Processing sequence: 314095\r\n",
      "\r\n",
      "Output File Names: \r\n",
      "pear_merged-fullCyc2_lib14.assembled.dmult_maxee1_noN.unique.filter.good.fasta\r\n",
      "pear_merged-fullCyc2_lib14.assembled.dmult_maxee1_noN.unique.filter.bad.accnos\r\n",
      "pear_merged-fullCyc2_lib14.assembled.dmult_maxee1_noN.good.names\r\n",
      "group_file.good.txt\r\n",
      "\r\n",
      "\r\n",
      "It took 116 secs to screen 6277607 sequences.\r\n",
      "\r\n",
      "mothur > quit()\r\n"
     ]
    }
   ],
   "source": [
    "cmd = \"\"\"mothur '#screen.seqs(fasta={},\\\n",
    "    processors={},\\\n",
    "    name={},\\\n",
    "    group={},\\\n",
    "    start={},\\\n",
    "    end={},\\\n",
    "    maxhomop=8)'\"\"\".format(qcFile5, nprocs, nameFile, 'group_file.txt', 465, 1471)\n",
    "!$cmd | tail -n 30"
   ]
  },
  {
   "cell_type": "code",
   "execution_count": 28,
   "metadata": {
    "collapsed": false
   },
   "outputs": [
    {
     "name": "stdout",
     "output_type": "stream",
     "text": [
      "Number of sequences post-filter: 6161203\n"
     ]
    }
   ],
   "source": [
    "qcFile6 = os.path.splitext(qcFile5)[0] + '.good.fasta'\n",
    "ret = !grep -c \">\" $qcFile6\n",
    "print ('Number of sequences post-filter: {}'.format(ret[0]))"
   ]
  },
  {
   "cell_type": "code",
   "execution_count": null,
   "metadata": {
    "collapsed": false
   },
   "outputs": [
    {
     "name": "stdout",
     "output_type": "stream",
     "text": [
      "307800\r\n",
      "307900\r\n",
      "308000\r\n",
      "308100\r\n",
      "308200\r\n",
      "308271\r\n",
      "\r\n",
      "\r\n",
      "\r\n",
      "Length of filtered alignment: 1262\r\n",
      "Number of columns removed: 792\r\n",
      "Length of the original alignment: 2054\r\n",
      "Number of sequences used to construct filter: 6161203\r\n",
      "\r\n",
      "Output File Names: \r\n",
      "pear_merged-fullCyc2_lib14.filter\r\n",
      "pear_merged-fullCyc2_lib14.assembled.dmult_maxee1_noN.unique.filter.good.filter.fasta\r\n",
      "\r\n",
      "\r\n",
      "mothur > quit()\r\n"
     ]
    }
   ],
   "source": [
    "qcFile6a = re.sub('-', '\\-', qcFile6)\n",
    "cmd = 'mothur \"#filter.seqs(fasta={}, processors={}, vertical=T)\"'.format(qcFile6a, nprocs)\n",
    "!$cmd | tail -n 20"
   ]
  },
  {
   "cell_type": "code",
   "execution_count": null,
   "metadata": {
    "collapsed": false
   },
   "outputs": [],
   "source": [
    "qcFile7 = os.path.splitext(qcFile6)[0] + '.filter.fasta'\n",
    "!ls -thlc $qcFile7"
   ]
  },
  {
   "cell_type": "markdown",
   "metadata": {},
   "source": [
    "## Deunique seqs"
   ]
  },
  {
   "cell_type": "code",
   "execution_count": null,
   "metadata": {
    "collapsed": false
   },
   "outputs": [],
   "source": [
    "cmd = 'mothur \"#deunique.seqs(fasta={}, name={})\"'.format(qcFile7, nameFile)\n",
    "!$cmd | tail -n 30"
   ]
  },
  {
   "cell_type": "markdown",
   "metadata": {},
   "source": [
    "### Final QC-ed file"
   ]
  },
  {
   "cell_type": "code",
   "execution_count": null,
   "metadata": {
    "collapsed": true
   },
   "outputs": [],
   "source": [
    "qcFile8 = os.path.splitext(qcFile7)[0] + '.redundant.fasta'\n",
    "qcFinal = 'finalQC.fasta'\n",
    "!perl -pe 's/[-.]//g if ! /^>/' $qcFile8 > $qcFinal"
   ]
  },
  {
   "cell_type": "code",
   "execution_count": 43,
   "metadata": {
    "collapsed": false
   },
   "outputs": [
    {
     "name": "stdout",
     "output_type": "stream",
     "text": [
      "\r\n",
      "Using 20 processors.\r\n",
      "\r\n",
      "\t\tStart\tEnd\tNBases\tAmbigs\tPolymer\tNumSeqs\r\n",
      "Minimum:\t1\t204\t204\t0\t3\t1\r\n",
      "2.5%-tile:\t1\t253\t253\t0\t4\t362585\r\n",
      "25%-tile:\t1\t253\t253\t0\t4\t3625841\r\n",
      "Median: \t1\t253\t253\t0\t5\t7251681\r\n",
      "75%-tile:\t1\t253\t253\t0\t5\t10877521\r\n",
      "97.5%-tile:\t1\t254\t254\t0\t8\t14140777\r\n",
      "Maximum:\t1\t412\t412\t0\t8\t14503360\r\n",
      "Mean:\t1\t253.038\t253.038\t0\t4.85272\r\n",
      "# of Seqs:\t14503360\r\n",
      "\r\n",
      "Output File Names: \r\n",
      "finalQC.summary\r\n",
      "\r\n",
      "It took 14 secs to summarize 14503360 sequences.\r\n",
      "\r\n",
      "mothur > quit()\r\n"
     ]
    }
   ],
   "source": [
    "cmd = 'mothur \"#summary.seqs(fasta={}, processors={})\"'.format(qcFinal, nprocs)\n",
    "!$cmd | tail -n 20"
   ]
  },
  {
   "cell_type": "code",
   "execution_count": 41,
   "metadata": {
    "collapsed": false
   },
   "outputs": [
    {
     "name": "stdout",
     "output_type": "stream",
     "text": [
      ">CC.M.151027.H2O-Con.D14_1\r\n",
      "TACGTAGGGGACAAGCGTTGTCCGGATTTATTGGGCGTAAAGAGCGCGTAGGCGTACAGACAGGTCAGCTGTGAAAACTCGAGGCTCAACCTCGAGACGTCGGTTGAAACCGTCTGGCTAGAGTCCGGAAGAGGAGAGTGGAATTCCCGGTGTAGCGGTGAAATGCGTAGATATTGGGAGGAACACCGGTGGCGAAGGCGGCCCCCTGGACCGGTACTGACGCTGATGCGCGAAAGCGTGGGGAGCAAACGGG\r\n",
      ">MR.A.151027.12C-Van.D04_2\r\n",
      "TACGAGGGGGGCAAGCGTTGTTCGGAATTATTGGGCGTAAAGGGCGCGTAGGCGGTGCGGTAAGTCACCTGTGAAACCTCTAGGCTTAACCTAGAGCGTGCAGGCGAAACTGCCGTGCTTGAGGGTGGGAGAGGTGCGTGGAATTCCCGGTGTAGCGGTGAAATGCGTAGATATCGGGAGGAACACCAGTGGCGAAGGCGATGATCTGGGGCTAACCTGACACTGAGGAGCGAAAGCTAGGGGAGCAAACGGG\r\n",
      ">CC.M.151027.12C-Van.D04_3\r\n",
      "TACGTAGGGTGCAAGCGTTGTCCGGAATTATTGGGCGTAAAGAGCTCGTAGGCGGCTTGTCGCGTCGGCTGTGAAAACCTGGGGCTCAACCCCGGGCCTGCAGCCGATACGGGCAAGCTAGAATTCGGTAGGGGAGACTGGAATTCCTGGTGTAGCGGTGAAATGCGCAGATATCAGGAGGAACACCGGTGGCGAAGGCGGGTCTCTGAGCCGAAATTGACGCTGAGGAGCGAAAGCGTGGGGAGCAAACAGG\r\n"
     ]
    }
   ],
   "source": [
    "!head -n 6 $qcFinal"
   ]
  },
  {
   "cell_type": "markdown",
   "metadata": {},
   "source": [
    "## Summary of number of seqs per sample"
   ]
  },
  {
   "cell_type": "code",
   "execution_count": null,
   "metadata": {
    "collapsed": true
   },
   "outputs": [],
   "source": [
    "re1 = re.compile('_[0-9]+$')\n",
    "\n",
    "qcFinalSum = os.path.splitext(qcFinal)[0] + '.summary'\n",
    "\n",
    "samp_count = dict()\n",
    "with open(qcFinalSum, 'r') as inFH:\n",
    "    for line in inFH:\n",
    "        if line.startswith('seqname'):\n",
    "            continue\n",
    "        line = line.rstrip().split('\\t')\n",
    "        line[0] = re.sub(re1, '', line[0])\n",
    "        try:\n",
    "            samp_count[line[0]] += 1\n",
    "        except KeyError:\n",
    "            samp_count[line[0]] = 1"
   ]
  },
  {
   "cell_type": "code",
   "execution_count": null,
   "metadata": {
    "collapsed": false
   },
   "outputs": [],
   "source": [
    "# converting to dataframe\n",
    "df_seq_cnt = pd.DataFrame.from_dict(samp_count, orient='index')\n",
    "df_seq_cnt.index.name = 'Sample'\n",
    "df_seq_cnt.reset_index(inplace=True)\n",
    "df_seq_cnt.columns = ['Sample', 'seq_count']\n",
    "df_seq_cnt"
   ]
  },
  {
   "cell_type": "code",
   "execution_count": 40,
   "metadata": {
    "collapsed": false
   },
   "outputs": [
    {
     "data": {
      "image/png": "[encoded data removed]"
     },
     "metadata": {},
     "output_type": "display_data"
    }
   ],
   "source": [
    "%%R -i df_seq_cnt -w 800 -h 350\n",
    "# plotting all\n",
    "\n",
    "df_seq_cnt$seq_count = as.numeric(df_seq_cnt$seq_count)\n",
    "\n",
    "\n",
    "df_seq_cnt = df_seq_cnt %>% \n",
    "    #mutate(H2O = grepl('_F0$', Sample)) %>%\n",
    "    mutate(rank = min_rank(seq_count)) %>%\n",
    "    arrange(desc(rank))\n",
    "\n",
    "df_seq_cnt$Sample = factor(df_seq_cnt$Sample, levels=df_seq_cnt$Sample)\n",
    "\n",
    "ggplot(df_seq_cnt, aes(Sample, seq_count)) +\n",
    "    geom_bar(stat='identity') +\n",
    "    theme_bw() +\n",
    "    theme(\n",
    "        text = element_text(size=16),\n",
    "        axis.text.x = element_text(angle=45, hjust=1)\n",
    "    )"
   ]
  },
  {
   "cell_type": "code",
   "execution_count": 42,
   "metadata": {
    "collapsed": false
   },
   "outputs": [
    {
     "data": {
      "text/plain": [
       "                    Sample seq_count rank\n",
       "183  MR.M.13C-Pal.D6.R1_NC     11898    3\n",
       "184 Enr_1_negative_control      4275    2\n",
       "185  MR.A.13C-Xyl.D6.R1_NC      2055    1\n"
      ]
     },
     "metadata": {},
     "output_type": "display_data"
    }
   ],
   "source": [
    "%%R\n",
    "df_seq_cnt[df_seq_cnt$seq_count < 20000,]"
   ]
  },
  {
   "cell_type": "code",
   "execution_count": null,
   "metadata": {
    "collapsed": true
   },
   "outputs": [],
   "source": []
  },
  {
   "cell_type": "code",
   "execution_count": null,
   "metadata": {
    "collapsed": true
   },
   "outputs": [],
   "source": []
  }
 ],
 "metadata": {
  "anaconda-cloud": {},
  "hide_input": true,
  "kernelspec": {
   "display_name": "Python 3",
   "language": "python",
   "name": "python3"
  },
  "language_info": {
   "codemirror_mode": {
    "name": "ipython",
    "version": 3
   },
   "file_extension": ".py",
   "mimetype": "text/x-python",
   "name": "python",
   "nbconvert_exporter": "python",
   "pygments_lexer": "ipython3",
   "version": "3.6.4"
  },
  "notify_time": "5"
 },
 "nbformat": 4,
 "nbformat_minor": 1
}
