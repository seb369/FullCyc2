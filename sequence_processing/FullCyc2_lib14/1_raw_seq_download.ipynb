{
 "cells": [
  {
   "cell_type": "markdown",
   "metadata": {},
   "source": [
    "# Description\n",
    "  \n",
    "Cornell RunID: ????\n",
    "\n",
    "Sequences run with Soil Health Project and downloaded by Roli Wilhelm. Found in backup/raw_reads/soil.health.SHS.RW.CD.2018/. Our data is in Run3"
   ]
  },
  {
   "cell_type": "code",
   "execution_count": 5,
   "metadata": {
    "collapsed": true
   },
   "outputs": [],
   "source": [
    "seqDir = '/home/backup_files/raw_reads/soil.health.SHS.RW.CD.2018/'"
   ]
  },
  {
   "cell_type": "code",
   "execution_count": 6,
   "metadata": {
    "collapsed": true
   },
   "outputs": [],
   "source": [
    "import os"
   ]
  },
  {
   "cell_type": "code",
   "execution_count": 7,
   "metadata": {
    "collapsed": false
   },
   "outputs": [
    {
     "name": "stdout",
     "output_type": "stream",
     "text": [
      "/home/backup_files/raw_reads/soil.health.SHS.RW.CD.2018\n"
     ]
    }
   ],
   "source": [
    "if not os.path.isdir(seqDir):\n",
    "    print \"Path Does NOT exist!!\"\n",
    "%cd $seqDir"
   ]
  },
  {
   "cell_type": "code",
   "execution_count": 4,
   "metadata": {
    "collapsed": false
   },
   "outputs": [
    {
     "name": "stdout",
     "output_type": "stream",
     "text": [
      "--2017-05-26 10:43:01--  http://cbsuapps.tc.cornell.edu/Sequencing/showseqfile.aspx?mode=http&cntrl=103031364&refid=251155\n",
      "Resolving cbsuapps.tc.cornell.edu (cbsuapps.tc.cornell.edu)... 128.84.3.245\n",
      "Connecting to cbsuapps.tc.cornell.edu (cbsuapps.tc.cornell.edu)|128.84.3.245|:80... connected.\n",
      "HTTP request sent, awaiting response... 200 OK\n",
      "Length: 3363323907 (3.1G) [application/octet-stream]\n",
      "Saving to: ‘read1.fq.gz’\n",
      "\n",
      "read1.fq.gz         100%[===================>]   3.13G  38.8MB/s    in 83s     \n",
      "\n",
      "2017-05-26 10:44:26 (38.5 MB/s) - ‘read1.fq.gz’ saved [3363323907/3363323907]\n",
      "\n"
     ]
    }
   ],
   "source": [
    "# read1 (forward)\n",
    "!cd $seqDir; \\\n",
    "    wget -O read1.fq.gz \\\n",
    "    \"http://cbsuapps.tc.cornell.edu/Sequencing/showseqfile.aspx?mode=http&cntrl=103031364&refid=251155\""
   ]
  },
  {
   "cell_type": "code",
   "execution_count": 5,
   "metadata": {
    "collapsed": false
   },
   "outputs": [
    {
     "name": "stdout",
     "output_type": "stream",
     "text": [
      "--2017-05-26 10:44:26--  http://cbsuapps.tc.cornell.edu/Sequencing/showseqfile.aspx?mode=http&cntrl=2108916516&refid=251156\n",
      "Resolving cbsuapps.tc.cornell.edu (cbsuapps.tc.cornell.edu)... 128.84.3.245\n",
      "Connecting to cbsuapps.tc.cornell.edu (cbsuapps.tc.cornell.edu)|128.84.3.245|:80... connected.\n",
      "HTTP request sent, awaiting response... 200 OK\n",
      "Length: 3835841056 (3.6G) [application/octet-stream]\n",
      "Saving to: ‘read2.fq.gz’\n",
      "\n",
      "read2.fq.gz         100%[===================>]   3.57G  43.3MB/s    in 92s     \n",
      "\n",
      "2017-05-26 10:45:58 (39.7 MB/s) - ‘read2.fq.gz’ saved [3835841056/3835841056]\n",
      "\n"
     ]
    }
   ],
   "source": [
    "# read2 (re)\n",
    "!cd $seqDir; \\\n",
    "    wget -O read2.fq.gz \\\n",
    "    \"http://cbsuapps.tc.cornell.edu/Sequencing/showseqfile.aspx?mode=http&cntrl=2108916516&refid=251156\""
   ]
  },
  {
   "cell_type": "code",
   "execution_count": 6,
   "metadata": {
    "collapsed": false
   },
   "outputs": [
    {
     "name": "stdout",
     "output_type": "stream",
     "text": [
      "--2017-05-26 10:45:59--  http://cbsuapps.tc.cornell.edu/Sequencing/showseqfile.aspx?mode=http&cntrl=612054478&refid=251157\n",
      "Resolving cbsuapps.tc.cornell.edu (cbsuapps.tc.cornell.edu)... 128.84.3.245\n",
      "Connecting to cbsuapps.tc.cornell.edu (cbsuapps.tc.cornell.edu)|128.84.3.245|:80... connected.\n",
      "HTTP request sent, awaiting response... 200 OK\n",
      "Length: 284761706 (272M) [application/octet-stream]\n",
      "Saving to: ‘index_read1.fq.gz’\n",
      "\n",
      "index_read1.fq.gz   100%[===================>] 271.57M  39.9MB/s    in 6.2s    \n",
      "\n",
      "2017-05-26 10:46:05 (43.5 MB/s) - ‘index_read1.fq.gz’ saved [284761706/284761706]\n",
      "\n"
     ]
    }
   ],
   "source": [
    "# index read1\n",
    "!cd $seqDir; \\\n",
    "    wget -O index_read1.fq.gz \\\n",
    "    \"http://cbsuapps.tc.cornell.edu/Sequencing/showseqfile.aspx?mode=http&cntrl=612054478&refid=251157\""
   ]
  },
  {
   "cell_type": "code",
   "execution_count": 7,
   "metadata": {
    "collapsed": false
   },
   "outputs": [
    {
     "name": "stdout",
     "output_type": "stream",
     "text": [
      "--2017-05-26 10:46:06--  http://cbsuapps.tc.cornell.edu/Sequencing/showseqfile.aspx?mode=http&cntrl=894034628&refid=251158\n",
      "Resolving cbsuapps.tc.cornell.edu (cbsuapps.tc.cornell.edu)... 128.84.3.245\n",
      "Connecting to cbsuapps.tc.cornell.edu (cbsuapps.tc.cornell.edu)|128.84.3.245|:80... connected.\n",
      "HTTP request sent, awaiting response... 200 OK\n",
      "Length: 265721575 (253M) [application/octet-stream]\n",
      "Saving to: ‘index_read2.fq.gz’\n",
      "\n",
      "index_read2.fq.gz   100%[===================>] 253.41M  36.4MB/s    in 6.7s    \n",
      "\n",
      "2017-05-26 10:46:13 (38.0 MB/s) - ‘index_read2.fq.gz’ saved [265721575/265721575]\n",
      "\n"
     ]
    }
   ],
   "source": [
    "# index read2\n",
    "!cd $seqDir; \\\n",
    "    wget -O index_read2.fq.gz \\\n",
    "    \"http://cbsuapps.tc.cornell.edu/Sequencing/showseqfile.aspx?mode=http&cntrl=894034628&refid=251158\""
   ]
  },
  {
   "cell_type": "code",
   "execution_count": 8,
   "metadata": {
    "collapsed": false
   },
   "outputs": [
    {
     "name": "stdout",
     "output_type": "stream",
     "text": [
      "-rw-r--r-- 1 root raw_reads 283M May 10 14:57 run3.index2.fq.gz\r\n",
      "-rw-r--r-- 1 root raw_reads 303M May 10 14:57 run3.index1.fq.gz\r\n",
      "-rw-r--r-- 1 root raw_reads 3.9G May 10 14:57 run3.read2.fq.gz\r\n",
      "-rw-r--r-- 1 root raw_reads 3.4G May 10 14:56 run3.read1.fq.gz\r\n",
      "-rw-r--r-- 1 root raw_reads 4.0G May 10 14:22 run2.read2.fq.gz\r\n",
      "-rw-r--r-- 1 root raw_reads 3.6G May 10 14:22 run2.read1.fq.gz\r\n",
      "-rw-r--r-- 1 root raw_reads 302M May 10 14:22 run2.index2.fq.gz\r\n",
      "-rw-r--r-- 1 root raw_reads 320M May 10 14:22 run2.index1.fq.gz\r\n",
      "-rw-r--r-- 1 root raw_reads 5.1G May  7 19:50 run1.read2.fq.gz\r\n",
      "-rw-r--r-- 1 root raw_reads 4.7G May  7 19:50 run1.read1.fq.gz\r\n",
      "-rw-r--r-- 1 root raw_reads 398M May  7 19:50 run1.index2.fq.gz\r\n",
      "-rw-r--r-- 1 root raw_reads 420M May  7 19:50 run1.index1.fq.gz\r\n"
     ]
    }
   ],
   "source": [
    "!cd $seqDir; ls -thlc *fq.gz"
   ]
  },
  {
   "cell_type": "code",
   "execution_count": null,
   "metadata": {
    "collapsed": true
   },
   "outputs": [],
   "source": []
  }
 ],
 "metadata": {
  "anaconda-cloud": {},
  "hide_input": true,
  "kernelspec": {
   "display_name": "Python 2",
   "language": "python",
   "name": "python2"
  },
  "language_info": {
   "codemirror_mode": {
    "name": "ipython",
    "version": 2
   },
   "file_extension": ".py",
   "mimetype": "text/x-python",
   "name": "python",
   "nbconvert_exporter": "python",
   "pygments_lexer": "ipython2",
   "version": "2.7.14"
  }
 },
 "nbformat": 4,
 "nbformat_minor": 0
}
