{
 "cells": [
  {
   "cell_type": "markdown",
   "metadata": {},
   "source": [
    "# Description\n",
    "\n",
    "* Quality control on MiSeq run data\n",
    "  * post-merging\n",
    "  * post-demultiplexing"
   ]
  },
  {
   "cell_type": "markdown",
   "metadata": {},
   "source": [
    "# Setting variables"
   ]
  },
  {
   "cell_type": "code",
   "execution_count": 1,
   "metadata": {
    "collapsed": true
   },
   "outputs": [],
   "source": [
    "import os\n",
    "\n",
    "baseDir = '/home/seq_data/fullCyc2/amplicon/515F-806R/final_dataset/library_QC/AS_Pool1_redo'\n",
    "workDir = os.path.join(baseDir, 'QC')\n",
    "seqFile = os.path.join(baseDir, 'pear_merged-AS_Pool1_redo.assembled.dmult.fastq')\n",
    "\n",
    "# number of processors\n",
    "nprocs = 20\n",
    "\n",
    "# max expected error\n",
    "maxee = 1"
   ]
  },
  {
   "cell_type": "markdown",
   "metadata": {},
   "source": [
    "# Init"
   ]
  },
  {
   "cell_type": "code",
   "execution_count": 2,
   "metadata": {
    "collapsed": true
   },
   "outputs": [],
   "source": [
    "import re\n",
    "import pandas as pd"
   ]
  },
  {
   "cell_type": "code",
   "execution_count": 3,
   "metadata": {
    "collapsed": false
   },
   "outputs": [],
   "source": [
    "%load_ext rpy2.ipython\n",
    "#%load_ext pushnote"
   ]
  },
  {
   "cell_type": "code",
   "execution_count": 4,
   "metadata": {
    "collapsed": false
   },
   "outputs": [
    {
     "name": "stderr",
     "output_type": "stream",
     "text": [
      "/home/sam/anaconda3/lib/python3.6/site-packages/rpy2/rinterface/__init__.py:145: RRuntimeWarning: Need help getting started? Try the cookbook for R:\n",
      "http://www.cookbook-r.com/Graphs/\n",
      "\n",
      "  warnings.warn(x, RRuntimeWarning)\n",
      "/home/sam/anaconda3/lib/python3.6/site-packages/rpy2/rinterface/__init__.py:145: RRuntimeWarning: \n",
      "Attaching package: ‘dplyr’\n",
      "\n",
      "\n",
      "  warnings.warn(x, RRuntimeWarning)\n",
      "/home/sam/anaconda3/lib/python3.6/site-packages/rpy2/rinterface/__init__.py:145: RRuntimeWarning: The following objects are masked from ‘package:stats’:\n",
      "\n",
      "    filter, lag\n",
      "\n",
      "\n",
      "  warnings.warn(x, RRuntimeWarning)\n",
      "/home/sam/anaconda3/lib/python3.6/site-packages/rpy2/rinterface/__init__.py:145: RRuntimeWarning: The following objects are masked from ‘package:base’:\n",
      "\n",
      "    intersect, setdiff, setequal, union\n",
      "\n",
      "\n",
      "  warnings.warn(x, RRuntimeWarning)\n",
      "/home/sam/anaconda3/lib/python3.6/site-packages/rpy2/rinterface/__init__.py:145: RRuntimeWarning: \n",
      "Attaching package: ‘gridExtra’\n",
      "\n",
      "\n",
      "  warnings.warn(x, RRuntimeWarning)\n",
      "/home/sam/anaconda3/lib/python3.6/site-packages/rpy2/rinterface/__init__.py:145: RRuntimeWarning: The following object is masked from ‘package:dplyr’:\n",
      "\n",
      "    combine\n",
      "\n",
      "\n",
      "  warnings.warn(x, RRuntimeWarning)\n"
     ]
    }
   ],
   "source": [
    "%%R\n",
    "library(ggplot2)\n",
    "library(dplyr)\n",
    "library(tidyr)\n",
    "library(gridExtra)"
   ]
  },
  {
   "cell_type": "code",
   "execution_count": 5,
   "metadata": {
    "collapsed": false
   },
   "outputs": [
    {
     "name": "stdout",
     "output_type": "stream",
     "text": [
      "/home/seq_data/fullCyc2/amplicon/515F-806R/final_dataset/library_QC/AS_Pool1_redo/QC\n"
     ]
    }
   ],
   "source": [
    "if not os.path.isdir(workDir):\n",
    "    os.makedirs(workDir)\n",
    "%cd $workDir"
   ]
  },
  {
   "cell_type": "code",
   "execution_count": 6,
   "metadata": {
    "collapsed": false
   },
   "outputs": [
    {
     "name": "stdout",
     "output_type": "stream",
     "text": [
      "File exists: /home/seq_data/fullCyc2/amplicon/515F-806R/final_dataset/library_QC/AS_Pool1_redo/pear_merged-AS_Pool1_redo.assembled.dmult.fastq\n"
     ]
    }
   ],
   "source": [
    "# symlinking demult seq file into CQ\n",
    "tmp = os.path.join(baseDir, seqFile)\n",
    "if not os.path.isfile(seqFile):\n",
    "    tmp2 = os.path.split(tmp)[1]\n",
    "    os.symlink(tmp, tmp2)\n",
    "else:\n",
    "    print ('File exists: {}'.format(os.path.join(workDir, seqFile)))"
   ]
  },
  {
   "cell_type": "markdown",
   "metadata": {},
   "source": [
    "# Merged read quality filtering"
   ]
  },
  {
   "cell_type": "markdown",
   "metadata": {},
   "source": [
    "## Discard sequences that exceed max expected error theshold"
   ]
  },
  {
   "cell_type": "code",
   "execution_count": 7,
   "metadata": {
    "collapsed": false
   },
   "outputs": [
    {
     "data": {
      "text/plain": [
       "'pear_merged-AS_Pool1_redo.assembled.dmult_maxee1.fasta'"
      ]
     },
     "execution_count": 7,
     "metadata": {},
     "output_type": "execute_result"
    }
   ],
   "source": [
    "qcFile = os.path.split(seqFile)[1]\n",
    "qcFile = os.path.splitext(qcFile)[0] + '_maxee{}.fasta'.format(maxee)\n",
    "qcFile"
   ]
  },
  {
   "cell_type": "code",
   "execution_count": 8,
   "metadata": {
    "collapsed": true
   },
   "outputs": [],
   "source": [
    "%%bash -s \"$seqFile\" \"$nprocs\" \"$maxee\" \"$qcFile\"\n",
    "\n",
    "mkdir /home/sam/tmp/tmpdir1\n",
    "trap \"rm -r /home/sam/tmp/tmpdir1\" 1 2 3 15\n",
    "split -d -l 2000000 $1 /home/sam/tmp/tmpdir1/Block\n",
    "\n",
    "mkdir /home/sam/tmp/tmpdir2\n",
    "trap \"rm -r /home/sam/tmp/tmpdir2\" 1 2 3 15\n",
    "ls /home/sam/tmp/tmpdir1/Block?? | parallel --gnu -j $2 -k \"usearch -fastq_filter {} -fastq_maxee $3 \\\n",
    "-fastaout /home/sam/tmp/tmpdir2/{#}.fasta >/dev/null 2>&1 && cat /home/sam/tmp/tmpdir2/{#}.fasta\" > $4\n",
    "rm -r /home/sam/tmp/tmpdir2 /home/sam/tmp/tmpdir1"
   ]
  },
  {
   "cell_type": "code",
   "execution_count": 9,
   "metadata": {
    "collapsed": false
   },
   "outputs": [
    {
     "name": "stdout",
     "output_type": "stream",
     "text": [
      "Max expected error cutoff: 1\n",
      "Number of sequence pre-filter: 591404\n",
      "Number of sequences post-filter: 582820\n",
      "\n",
      ">MR.A.13C-Van.D30.R3_Frac26_2 orig_name=M01032:425:000000000-AR9KF:1:1101:14544:1928\n",
      "TCCGGAGGGTGCAAGCGTTAATCGGAATTACTGGGCGTAAAGCGCGCGTAGGCGGTTTGGTAAGTTATCTGTGAAATCCC\n",
      "TGGGCTCAACCTGGGCAGGTCAGTTAATACTGCTGTACTCGAGTATGGGAGAGGGTAGTGGAATTTCCGGTGTAGCGGTG\n",
      "AAATGCGTAGAGATCGGAAGGACCACCAGTGGCGAAGGCGGCTACCTGGCCTAAGACGGACGCTGAGGCCCGACAGCGTG\n",
      "GGGAGCAAACCGG\n",
      ">MR.A.13C-Van.D30.R3_Frac7_3 orig_name=M01032:425:000000000-AR9KF:1:1101:13760:1955\n",
      "TACGAAGGGGGCTAGCGTTGCTCGGAAGCACTGGGCGTAAAGCGCGCGTAGGCGGCGTTGTAAGTCGGGGGTGAAAGCCT\n",
      "GTGGCTCAACCACAGAATGGCCTTCGATACTGGGACGCTTGAGTATGGTAGAGGTTGGTGGAACTGCGAGTGTAGAGGTG\n"
     ]
    }
   ],
   "source": [
    "%%bash -s \"$seqFile\" \"$nprocs\" \"$maxee\" \"$qcFile\"\n",
    "\n",
    "printf \"Max expected error cutoff: \"\n",
    "echo $3\n",
    "\n",
    "printf \"Number of sequence pre-filter: \"\n",
    "grep -c \"orig_name=\" $1\n",
    "\n",
    "printf \"Number of sequences post-filter: \"\n",
    "grep -c \">\" $4\n",
    "\n",
    "echo '' \n",
    "head -n 8 $4"
   ]
  },
  {
   "cell_type": "markdown",
   "metadata": {},
   "source": [
    "## Remove seqs with 'N' characters"
   ]
  },
  {
   "cell_type": "code",
   "execution_count": 10,
   "metadata": {
    "collapsed": false
   },
   "outputs": [
    {
     "data": {
      "text/plain": [
       "'pear_merged-AS_Pool1_redo.assembled.dmult_maxee1_noN.fasta'"
      ]
     },
     "execution_count": 10,
     "metadata": {},
     "output_type": "execute_result"
    }
   ],
   "source": [
    "qcFile2 = os.path.splitext(qcFile)[0] + '_noN.fasta'\n",
    "qcFile2"
   ]
  },
  {
   "cell_type": "code",
   "execution_count": 11,
   "metadata": {
    "collapsed": false
   },
   "outputs": [
    {
     "name": "stdout",
     "output_type": "stream",
     "text": [
      "Number of sequence pre-filter: 582820\n",
      "Number of sequences post-filter: 582820\n"
     ]
    }
   ],
   "source": [
    "%%bash -s \"$qcFile\" \"$qcFile2\"\n",
    "\n",
    "bioawk -c fastx '{if ($seq !~ /N/){print \">\" $name \" \" $4 \"\\n\" $seq}}' $1 > $2\n",
    "\n",
    "printf \"Number of sequence pre-filter: \"\n",
    "grep -c \">\" $1\n",
    "\n",
    "printf \"Number of sequences post-filter: \"\n",
    "grep -c \">\" $2"
   ]
  },
  {
   "cell_type": "markdown",
   "metadata": {},
   "source": [
    "## Alignment-based QC with Mothur"
   ]
  },
  {
   "cell_type": "code",
   "execution_count": 12,
   "metadata": {
    "collapsed": false
   },
   "outputs": [
    {
     "name": "stdout",
     "output_type": "stream",
     "text": [
      "MR.A.13C-Van.D30.R3_Frac26_2\tMR.A.13C-Van.D30.R3_Frac26\n",
      "MR.A.13C-Van.D30.R3_Frac7_3\tMR.A.13C-Van.D30.R3_Frac7\n",
      "MR.A.13C-Van.D30.R3_Frac20_4\tMR.A.13C-Van.D30.R3_Frac20\n",
      "MR.A.13C-Van.D30.R3_Frac7_5\tMR.A.13C-Van.D30.R3_Frac7\n",
      "MR.A.13C-Van.D30.R3_Frac27_6\tMR.A.13C-Van.D30.R3_Frac27\n",
      "MR.A.13C-Van.D30.R3_Frac13_7\tMR.A.13C-Van.D30.R3_Frac13\n",
      "MR.A.13C-Van.D30.R3_Frac7_10\tMR.A.13C-Van.D30.R3_Frac7\n",
      "MR.A.13C-Van.D30.R3_Frac10_12\tMR.A.13C-Van.D30.R3_Frac10\n",
      "MR.A.13C-Van.D30.R3_Frac7_13\tMR.A.13C-Van.D30.R3_Frac7\n",
      "MR.A.13C-Van.D30.R3_Frac11_15\tMR.A.13C-Van.D30.R3_Frac11\n"
     ]
    }
   ],
   "source": [
    "%%bash -s \"$qcFile2\"\n",
    "# making mothur group file\n",
    "\n",
    "perl -ne 'if(/^>/){ s/>(.+)(_\\d+) .+/$1$2\\t$1/; print;}' $1 > group_file.txt\n",
    "head group_file.txt"
   ]
  },
  {
   "cell_type": "code",
   "execution_count": 13,
   "metadata": {
    "collapsed": false
   },
   "outputs": [
    {
     "name": "stdout",
     "output_type": "stream",
     "text": [
      "MR.A.13C-Van.D30.R3_Frac26_2\tMR.A.13C-Van.D30.R3_Frac26\r\n",
      "MR.A.13C-Van.D30.R3_Frac7_3\tMR.A.13C-Van.D30.R3_Frac7\r\n",
      "MR.A.13C-Van.D30.R3_Frac20_4\tMR.A.13C-Van.D30.R3_Frac20\r\n",
      "MR.A.13C-Van.D30.R3_Frac7_5\tMR.A.13C-Van.D30.R3_Frac7\r\n",
      "MR.A.13C-Van.D30.R3_Frac27_6\tMR.A.13C-Van.D30.R3_Frac27\r\n",
      "MR.A.13C-Van.D30.R3_Frac13_7\tMR.A.13C-Van.D30.R3_Frac13\r\n",
      "MR.A.13C-Van.D30.R3_Frac7_10\tMR.A.13C-Van.D30.R3_Frac7\r\n",
      "MR.A.13C-Van.D30.R3_Frac10_12\tMR.A.13C-Van.D30.R3_Frac10\r\n",
      "MR.A.13C-Van.D30.R3_Frac7_13\tMR.A.13C-Van.D30.R3_Frac7\r\n",
      "MR.A.13C-Van.D30.R3_Frac11_15\tMR.A.13C-Van.D30.R3_Frac11\r\n",
      "MR.A.13C-Van.D30.R3_Frac19_11\tMR.A.13C-Van.D30.R3_Frac19\r\n",
      "MR.A.13C-Van.D30.R3_Frac27_16\tMR.A.13C-Van.D30.R3_Frac27\r\n",
      "MR.A.13C-Van.D30.R3_Frac13_17\tMR.A.13C-Van.D30.R3_Frac13\r\n",
      "MR.A.13C-Van.D30.R3_Frac7_14\tMR.A.13C-Van.D30.R3_Frac7\r\n",
      "MR.A.13C-Van.D30.R3_Frac22_20\tMR.A.13C-Van.D30.R3_Frac22\r\n",
      "MR.A.13C-Van.D30.R3_Frac27_18\tMR.A.13C-Van.D30.R3_Frac27\r\n",
      "MR.A.13C-Van.D30.R3_Frac28_23\tMR.A.13C-Van.D30.R3_Frac28\r\n",
      "MR.A.13C-Van.D30.R3_Frac7_22\tMR.A.13C-Van.D30.R3_Frac7\r\n",
      "MR.A.13C-Van.D30.R3_Frac13_21\tMR.A.13C-Van.D30.R3_Frac13\r\n",
      "MR.A.13C-Van.D30.R3_Frac11_26\tMR.A.13C-Van.D30.R3_Frac11\r\n",
      "MR.A.13C-Van.D30.R3_Frac9_29\tMR.A.13C-Van.D30.R3_Frac9\r\n",
      "MR.A.13C-Van.D30.R3_Frac12_32\tMR.A.13C-Van.D30.R3_Frac12\r\n",
      "MR.A.13C-Van.D30.R3_Frac20_27\tMR.A.13C-Van.D30.R3_Frac20\r\n",
      "MR.A.13C-Van.D30.R3_Frac13_31\tMR.A.13C-Van.D30.R3_Frac13\r\n",
      "MR.A.13C-Van.D30.R3_Frac11_35\tMR.A.13C-Van.D30.R3_Frac11\r\n",
      "MR.A.13C-Van.D30.R3_Frac9_36\tMR.A.13C-Van.D30.R3_Frac9\r\n",
      "MR.A.13C-Van.D30.R3_Frac22_38\tMR.A.13C-Van.D30.R3_Frac22\r\n",
      "MR.A.13C-Van.D30.R3_Frac7_33\tMR.A.13C-Van.D30.R3_Frac7\r\n",
      "MR.A.13C-Van.D30.R3_Frac13_25\tMR.A.13C-Van.D30.R3_Frac13\r\n",
      "MR.A.13C-Van.D30.R3_Frac13_40\tMR.A.13C-Van.D30.R3_Frac13\r\n",
      "MR.A.13C-Van.D30.R3_Frac12_42\tMR.A.13C-Van.D30.R3_Frac12\r\n",
      "MR.A.13C-Van.D30.R3_Frac12_43\tMR.A.13C-Van.D30.R3_Frac12\r\n",
      "MR.A.13C-Van.D30.R3_Frac27_24\tMR.A.13C-Van.D30.R3_Frac27\r\n",
      "MR.A.13C-Van.D30.R3_Frac22_37\tMR.A.13C-Van.D30.R3_Frac22\r\n",
      "MR.A.13C-Van.D30.R3_Frac7_30\tMR.A.13C-Van.D30.R3_Frac7\r\n",
      "MR.A.13C-Van.D30.R3_Frac12_46\tMR.A.13C-Van.D30.R3_Frac12\r\n",
      "MR.A.13C-Van.D30.R3_Frac8_45\tMR.A.13C-Van.D30.R3_Frac8\r\n",
      "MR.A.13C-Van.D30.R3_Frac20_48\tMR.A.13C-Van.D30.R3_Frac20\r\n",
      "MR.A.13C-Van.D30.R3_Frac18_41\tMR.A.13C-Van.D30.R3_Frac18\r\n",
      "MR.A.13C-Van.D30.R3_Frac9_50\tMR.A.13C-Van.D30.R3_Frac9\r\n",
      "MR.A.13C-Van.D30.R3_Frac10_44\tMR.A.13C-Van.D30.R3_Frac10\r\n",
      "MR.A.13C-Van.D30.R3_Frac7_53\tMR.A.13C-Van.D30.R3_Frac7\r\n",
      "MR.A.13C-Van.D30.R3_Frac6_39\tMR.A.13C-Van.D30.R3_Frac6\r\n",
      "MR.A.13C-Van.D30.R3_Frac19_52\tMR.A.13C-Van.D30.R3_Frac19\r\n",
      "MR.A.13C-Van.D30.R3_Frac28_56\tMR.A.13C-Van.D30.R3_Frac28\r\n",
      "MR.A.13C-Van.D30.R3_Frac28_55\tMR.A.13C-Van.D30.R3_Frac28\r\n",
      "MR.A.13C-Van.D30.R3_Frac7_59\tMR.A.13C-Van.D30.R3_Frac7\r\n",
      "MR.A.13C-Van.D30.R3_Frac13_49\tMR.A.13C-Van.D30.R3_Frac13\r\n",
      "MR.A.13C-Van.D30.R3_Frac6_61\tMR.A.13C-Van.D30.R3_Frac6\r\n",
      "MR.A.13C-Van.D30.R3_Frac19_47\tMR.A.13C-Van.D30.R3_Frac19\r\n",
      "MR.A.13C-Van.D30.R3_Frac27_28\tMR.A.13C-Van.D30.R3_Frac27\r\n",
      "MR.A.13C-Van.D30.R3_Frac13_19\tMR.A.13C-Van.D30.R3_Frac13\r\n",
      "MR.A.13C-Van.D30.R3_NC_old_63\tMR.A.13C-Van.D30.R3_NC_old\r\n",
      "MR.A.13C-Van.D30.R3_Frac10_62\tMR.A.13C-Van.D30.R3_Frac10\r\n",
      "MR.A.13C-Van.D30.R3_Frac12_67\tMR.A.13C-Van.D30.R3_Frac12\r\n",
      "MR.A.13C-Van.D30.R3_Frac7_65\tMR.A.13C-Van.D30.R3_Frac7\r\n",
      "MR.A.13C-Van.D30.R3_Frac13_58\tMR.A.13C-Van.D30.R3_Frac13\r\n",
      "MR.A.13C-Van.D30.R3_Frac27_69\tMR.A.13C-Van.D30.R3_Frac27\r\n",
      "MR.A.13C-Van.D30.R3_Frac7_34\tMR.A.13C-Van.D30.R3_Frac7\r\n",
      "MR.A.13C-Van.D30.R3_Frac11_71\tMR.A.13C-Van.D30.R3_Frac11\r\n",
      "MR.A.13C-Van.D30.R3_Frac18_72\tMR.A.13C-Van.D30.R3_Frac18\r\n",
      "MR.A.13C-Van.D30.R3_Frac13_68\tMR.A.13C-Van.D30.R3_Frac13\r\n",
      "MR.A.13C-Van.D30.R3_Frac9_75\tMR.A.13C-Van.D30.R3_Frac9\r\n",
      "MR.A.13C-Van.D30.R3_Frac6_73\tMR.A.13C-Van.D30.R3_Frac6\r\n",
      "MR.A.13C-Van.D30.R3_Frac11_77\tMR.A.13C-Van.D30.R3_Frac11\r\n",
      "MR.A.13C-Van.D30.R3_Frac28_76\tMR.A.13C-Van.D30.R3_Frac28\r\n",
      "MR.A.13C-Van.D30.R3_Frac6_74\tMR.A.13C-Van.D30.R3_Frac6\r\n",
      "MR.A.13C-Van.D30.R3_Frac6_66\tMR.A.13C-Van.D30.R3_Frac6\r\n",
      "MR.A.13C-Van.D30.R3_Frac12_70\tMR.A.13C-Van.D30.R3_Frac12\r\n",
      "MR.A.13C-Van.D30.R3_Frac11_81\tMR.A.13C-Van.D30.R3_Frac11\r\n",
      "MR.A.13C-Van.D30.R3_Frac26_64\tMR.A.13C-Van.D30.R3_Frac26\r\n",
      "MR.A.13C-Van.D30.R3_Frac28_85\tMR.A.13C-Van.D30.R3_Frac28\r\n",
      "MR.A.13C-Van.D30.R3_Frac11_80\tMR.A.13C-Van.D30.R3_Frac11\r\n",
      "MR.A.13C-Van.D30.R3_Frac7_78\tMR.A.13C-Van.D30.R3_Frac7\r\n",
      "MR.A.13C-Van.D30.R3_Frac19_87\tMR.A.13C-Van.D30.R3_Frac19\r\n",
      "MR.A.13C-Van.D30.R3_Frac18_82\tMR.A.13C-Van.D30.R3_Frac18\r\n",
      "MR.A.13C-Van.D30.R3_Frac22_90\tMR.A.13C-Van.D30.R3_Frac22\r\n",
      "MR.A.13C-Van.D30.R3_Frac10_91\tMR.A.13C-Van.D30.R3_Frac10\r\n",
      "MR.A.13C-Van.D30.R3_Frac10_92\tMR.A.13C-Van.D30.R3_Frac10\r\n",
      "MR.A.13C-Van.D30.R3_Frac26_60\tMR.A.13C-Van.D30.R3_Frac26\r\n",
      "MR.A.13C-Van.D30.R3_Frac9_54\tMR.A.13C-Van.D30.R3_Frac9\r\n",
      "MR.A.13C-Van.D30.R3_Frac22_89\tMR.A.13C-Van.D30.R3_Frac22\r\n",
      "MR.A.13C-Van.D30.R3_Frac20_96\tMR.A.13C-Van.D30.R3_Frac20\r\n",
      "MR.A.13C-Van.D30.R3_Frac11_98\tMR.A.13C-Van.D30.R3_Frac11\r\n",
      "MR.A.13C-Van.D30.R3_Frac20_99\tMR.A.13C-Van.D30.R3_Frac20\r\n",
      "MR.A.13C-Van.D30.R3_Frac10_101\tMR.A.13C-Van.D30.R3_Frac10\r\n",
      "MR.A.13C-Van.D30.R3_Frac12_103\tMR.A.13C-Van.D30.R3_Frac12\r\n",
      "MR.A.13C-Van.D30.R3_Frac27_102\tMR.A.13C-Van.D30.R3_Frac27\r\n",
      "MR.A.13C-Van.D30.R3_Frac9_105\tMR.A.13C-Van.D30.R3_Frac9\r\n",
      "MR.A.13C-Van.D30.R3_Frac10_97\tMR.A.13C-Van.D30.R3_Frac10\r\n",
      "MR.A.13C-Van.D30.R3_Frac7_86\tMR.A.13C-Van.D30.R3_Frac7\r\n",
      "MR.A.13C-Van.D30.R3_Frac28_104\tMR.A.13C-Van.D30.R3_Frac28\r\n",
      "MR.A.13C-Van.D30.R3_Frac7_57\tMR.A.13C-Van.D30.R3_Frac7\r\n",
      "MR.A.13C-Van.D30.R3_Frac13_107\tMR.A.13C-Van.D30.R3_Frac13\r\n",
      "MR.A.13C-Van.D30.R3_Frac21_108\tMR.A.13C-Van.D30.R3_Frac21\r\n",
      "MR.A.13C-Van.D30.R3_Frac17_112\tMR.A.13C-Van.D30.R3_Frac17\r\n",
      "MR.A.13C-Van.D30.R3_Frac17_83\tMR.A.13C-Van.D30.R3_Frac17\r\n",
      "MR.A.13C-Van.D30.R3_Frac13_114\tMR.A.13C-Van.D30.R3_Frac13\r\n",
      "MR.A.13C-Van.D30.R3_Frac17_106\tMR.A.13C-Van.D30.R3_Frac17\r\n",
      "MR.A.13C-Van.D30.R3_Frac20_110\tMR.A.13C-Van.D30.R3_Frac20\r\n",
      "MR.A.13C-Van.D30.R3_Frac24_93\tMR.A.13C-Van.D30.R3_Frac24\r\n",
      "MR.A.13C-Van.D30.R3_Frac23_109\tMR.A.13C-Van.D30.R3_Frac23\r\n",
      "MR.A.13C-Van.D30.R3_Frac20_116\tMR.A.13C-Van.D30.R3_Frac20\r\n",
      "MR.A.13C-Van.D30.R3_Frac17_115\tMR.A.13C-Van.D30.R3_Frac17\r\n",
      "MR.A.13C-Van.D30.R3_Frac18_84\tMR.A.13C-Van.D30.R3_Frac18\r\n",
      "MR.A.13C-Van.D30.R3_Frac7_121\tMR.A.13C-Van.D30.R3_Frac7\r\n",
      "MR.A.13C-Van.D30.R3_Frac10_120\tMR.A.13C-Van.D30.R3_Frac10\r\n",
      "MR.A.13C-Van.D30.R3_Frac7_124\tMR.A.13C-Van.D30.R3_Frac7\r\n",
      "MR.A.13C-Van.D30.R3_Frac19_118\tMR.A.13C-Van.D30.R3_Frac19\r\n",
      "MR.A.13C-Van.D30.R3_Frac6_126\tMR.A.13C-Van.D30.R3_Frac6\r\n",
      "MR.A.13C-Van.D30.R3_Frac21_117\tMR.A.13C-Van.D30.R3_Frac21\r\n",
      "MR.A.13C-Van.D30.R3_Frac18_127\tMR.A.13C-Van.D30.R3_Frac18\r\n",
      "MR.A.13C-Van.D30.R3_Frac7_128\tMR.A.13C-Van.D30.R3_Frac7\r\n",
      "MR.A.13C-Van.D30.R3_Frac6_100\tMR.A.13C-Van.D30.R3_Frac6\r\n",
      "MR.A.13C-Van.D30.R3_Frac10_131\tMR.A.13C-Van.D30.R3_Frac10\r\n",
      "MR.A.13C-Van.D30.R3_Frac7_132\tMR.A.13C-Van.D30.R3_Frac7\r\n",
      "MR.A.13C-Van.D30.R3_Frac13_133\tMR.A.13C-Van.D30.R3_Frac13\r\n",
      "MR.A.13C-Van.D30.R3_Frac7_129\tMR.A.13C-Van.D30.R3_Frac7\r\n",
      "MR.A.13C-Van.D30.R3_Frac8_135\tMR.A.13C-Van.D30.R3_Frac8\r\n",
      "MR.A.13C-Van.D30.R3_Frac7_136\tMR.A.13C-Van.D30.R3_Frac7\r\n",
      "MR.A.13C-Van.D30.R3_Frac6_130\tMR.A.13C-Van.D30.R3_Frac6\r\n",
      "MR.A.13C-Van.D30.R3_Frac7_122\tMR.A.13C-Van.D30.R3_Frac7\r\n",
      "MR.A.13C-Van.D30.R3_Frac10_141\tMR.A.13C-Van.D30.R3_Frac10\r\n",
      "MR.A.13C-Van.D30.R3_Frac10_139\tMR.A.13C-Van.D30.R3_Frac10\r\n",
      "MR.A.13C-Van.D30.R3_Frac8_142\tMR.A.13C-Van.D30.R3_Frac8\r\n",
      "MR.A.13C-Van.D30.R3_Frac7_144\tMR.A.13C-Van.D30.R3_Frac7\r\n",
      "MR.A.13C-Van.D30.R3_Frac28_138\tMR.A.13C-Van.D30.R3_Frac28\r\n",
      "MR.A.13C-Van.D30.R3_Frac6_146\tMR.A.13C-Van.D30.R3_Frac6\r\n",
      "MR.A.13C-Van.D30.R3_Frac7_125\tMR.A.13C-Van.D30.R3_Frac7\r\n",
      "MR.A.13C-Van.D30.R3_Frac10_148\tMR.A.13C-Van.D30.R3_Frac10\r\n",
      "MR.A.13C-Van.D30.R3_Frac28_145\tMR.A.13C-Van.D30.R3_Frac28\r\n",
      "MR.A.13C-Van.D30.R3_Frac10_150\tMR.A.13C-Van.D30.R3_Frac10\r\n",
      "MR.A.13C-Van.D30.R3_Frac22_140\tMR.A.13C-Van.D30.R3_Frac22\r\n",
      "MR.A.13C-Van.D30.R3_Frac26_152\tMR.A.13C-Van.D30.R3_Frac26\r\n",
      "MR.A.13C-Van.D30.R3_Frac11_151\tMR.A.13C-Van.D30.R3_Frac11\r\n",
      "MR.A.13C-Van.D30.R3_Frac8_154\tMR.A.13C-Van.D30.R3_Frac8\r\n",
      "MR.A.13C-Van.D30.R3_Frac6_149\tMR.A.13C-Van.D30.R3_Frac6\r\n",
      "MR.A.13C-Van.D30.R3_Frac18_143\tMR.A.13C-Van.D30.R3_Frac18\r\n",
      "MR.A.13C-Van.D30.R3_Frac26_156\tMR.A.13C-Van.D30.R3_Frac26\r\n",
      "MR.A.13C-Van.D30.R3_Frac17_119\tMR.A.13C-Van.D30.R3_Frac17\r\n",
      "MR.A.13C-Van.D30.R3_Frac22_159\tMR.A.13C-Van.D30.R3_Frac22\r\n",
      "MR.A.13C-Van.D30.R3_Frac27_158\tMR.A.13C-Van.D30.R3_Frac27\r\n",
      "MR.A.13C-Van.D30.R3_Frac24_161\tMR.A.13C-Van.D30.R3_Frac24\r\n",
      "MR.A.13C-Van.D30.R3_Frac8_157\tMR.A.13C-Van.D30.R3_Frac8\r\n",
      "MR.A.13C-Van.D30.R3_Frac13_163\tMR.A.13C-Van.D30.R3_Frac13\r\n",
      "MR.A.13C-Van.D30.R3_Frac22_147\tMR.A.13C-Van.D30.R3_Frac22\r\n",
      "MR.A.13C-Van.D30.R3_Frac27_165\tMR.A.13C-Van.D30.R3_Frac27\r\n",
      "MR.A.13C-Van.D30.R3_Frac7_166\tMR.A.13C-Van.D30.R3_Frac7\r\n",
      "MR.A.13C-Van.D30.R3_Frac12_167\tMR.A.13C-Van.D30.R3_Frac12\r\n",
      "MR.A.13C-Van.D30.R3_Frac21_164\tMR.A.13C-Van.D30.R3_Frac21\r\n",
      "MR.A.13C-Van.D30.R3_Frac28_168\tMR.A.13C-Van.D30.R3_Frac28\r\n",
      "MR.A.13C-Van.D30.R3_Frac7_169\tMR.A.13C-Van.D30.R3_Frac7\r\n",
      "MR.A.13C-Van.D30.R3_Frac27_162\tMR.A.13C-Van.D30.R3_Frac27\r\n",
      "MR.A.13C-Van.D30.R3_Frac10_172\tMR.A.13C-Van.D30.R3_Frac10\r\n",
      "MR.A.13C-Van.D30.R3_Frac9_153\tMR.A.13C-Van.D30.R3_Frac9\r\n",
      "MR.A.13C-Van.D30.R3_Frac26_174\tMR.A.13C-Van.D30.R3_Frac26\r\n",
      "MR.A.13C-Van.D30.R3_Frac7_170\tMR.A.13C-Van.D30.R3_Frac7\r\n",
      "MR.A.13C-Van.D30.R3_Frac15_bad_176\tMR.A.13C-Van.D30.R3_Frac15_bad\r\n",
      "MR.A.13C-Van.D30.R3_Frac26_113\tMR.A.13C-Van.D30.R3_Frac26\r\n",
      "MR.A.13C-Van.D30.R3_Frac28_178\tMR.A.13C-Van.D30.R3_Frac28\r\n",
      "MR.A.13C-Van.D30.R3_Frac13_171\tMR.A.13C-Van.D30.R3_Frac13\r\n",
      "MR.A.13C-Van.D30.R3_Frac25_180\tMR.A.13C-Van.D30.R3_Frac25\r\n",
      "MR.A.13C-Van.D30.R3_Frac6_175\tMR.A.13C-Van.D30.R3_Frac6\r\n",
      "MR.A.13C-Van.D30.R3_Frac18_182\tMR.A.13C-Van.D30.R3_Frac18\r\n",
      "MR.A.13C-Van.D30.R3_Frac7_177\tMR.A.13C-Van.D30.R3_Frac7\r\n",
      "MR.A.13C-Van.D30.R3_Frac8_184\tMR.A.13C-Van.D30.R3_Frac8\r\n",
      "MR.A.13C-Van.D30.R3_Frac12_155\tMR.A.13C-Van.D30.R3_Frac12\r\n",
      "MR.A.13C-Van.D30.R3_Frac8_187\tMR.A.13C-Van.D30.R3_Frac8\r\n",
      "MR.A.13C-Van.D30.R3_Frac8_160\tMR.A.13C-Van.D30.R3_Frac8\r\n",
      "MR.A.13C-Van.D30.R3_Frac6_189\tMR.A.13C-Van.D30.R3_Frac6\r\n",
      "MR.A.13C-Van.D30.R3_Frac17_111\tMR.A.13C-Van.D30.R3_Frac17\r\n",
      "MR.A.13C-Van.D30.R3_Frac23_192\tMR.A.13C-Van.D30.R3_Frac23\r\n",
      "MR.A.13C-Van.D30.R3_Frac7_188\tMR.A.13C-Van.D30.R3_Frac7\r\n",
      "MR.A.13C-Van.D30.R3_Frac19_194\tMR.A.13C-Van.D30.R3_Frac19\r\n",
      "MR.A.13C-Van.D30.R3_Frac7_190\tMR.A.13C-Van.D30.R3_Frac7\r\n",
      "MR.A.13C-Van.D30.R3_Frac20_196\tMR.A.13C-Van.D30.R3_Frac20\r\n",
      "MR.A.13C-Van.D30.R3_Frac6_185\tMR.A.13C-Van.D30.R3_Frac6\r\n",
      "MR.A.13C-Van.D30.R3_Frac6_173\tMR.A.13C-Van.D30.R3_Frac6\r\n",
      "MR.A.13C-Van.D30.R3_Frac22_199\tMR.A.13C-Van.D30.R3_Frac22\r\n",
      "MR.A.13C-Van.D30.R3_Frac12_198\tMR.A.13C-Van.D30.R3_Frac12\r\n",
      "MR.A.13C-Van.D30.R3_Frac23_193\tMR.A.13C-Van.D30.R3_Frac23\r\n",
      "MR.A.13C-Van.D30.R3_Frac22_202\tMR.A.13C-Van.D30.R3_Frac22\r\n",
      "MR.A.13C-Van.D30.R3_Frac23_201\tMR.A.13C-Van.D30.R3_Frac23\r\n",
      "MR.A.13C-Van.D30.R3_Frac6_197\tMR.A.13C-Van.D30.R3_Frac6\r\n",
      "MR.A.13C-Van.D30.R3_Frac20_204\tMR.A.13C-Van.D30.R3_Frac20\r\n",
      "MR.A.13C-Van.D30.R3_Frac26_200\tMR.A.13C-Van.D30.R3_Frac26\r\n",
      "MR.A.13C-Van.D30.R3_Frac10_207\tMR.A.13C-Van.D30.R3_Frac10\r\n",
      "MR.A.13C-Van.D30.R3_Frac13_205\tMR.A.13C-Van.D30.R3_Frac13\r\n",
      "MR.A.13C-Van.D30.R3_Frac9_191\tMR.A.13C-Van.D30.R3_Frac9\r\n",
      "MR.A.13C-Van.D30.R3_Frac13_209\tMR.A.13C-Van.D30.R3_Frac13\r\n",
      "MR.A.13C-Van.D30.R3_Frac11_206\tMR.A.13C-Van.D30.R3_Frac11\r\n",
      "MR.A.13C-Van.D30.R3_Frac13_212\tMR.A.13C-Van.D30.R3_Frac13\r\n",
      "MR.A.13C-Van.D30.R3_Frac23_203\tMR.A.13C-Van.D30.R3_Frac23\r\n",
      "MR.A.13C-Van.D30.R3_Frac11_214\tMR.A.13C-Van.D30.R3_Frac11\r\n",
      "MR.A.13C-Van.D30.R3_Frac20_211\tMR.A.13C-Van.D30.R3_Frac20\r\n",
      "MR.A.13C-Van.D30.R3_Frac13_216\tMR.A.13C-Van.D30.R3_Frac13\r\n",
      "MR.A.13C-Van.D30.R3_Frac17_195\tMR.A.13C-Van.D30.R3_Frac17\r\n",
      "MR.A.13C-Van.D30.R3_Frac13_218\tMR.A.13C-Van.D30.R3_Frac13\r\n",
      "MR.A.13C-Van.D30.R3_Frac7_123\tMR.A.13C-Van.D30.R3_Frac7\r\n",
      "MR.A.13C-Van.D30.R3_Frac7_220\tMR.A.13C-Van.D30.R3_Frac7\r\n"
     ]
    }
   ],
   "source": [
    "! head -n 200 group_file.txt"
   ]
  },
  {
   "cell_type": "code",
   "execution_count": 14,
   "metadata": {
    "collapsed": false
   },
   "outputs": [
    {
     "name": "stdout",
     "output_type": "stream",
     "text": [
      "561000\t349250\r\n",
      "562000\t349762\r\n",
      "563000\t350238\r\n",
      "564000\t350736\r\n",
      "565000\t351199\r\n",
      "566000\t351663\r\n",
      "567000\t352111\r\n",
      "568000\t352560\r\n",
      "569000\t352989\r\n",
      "570000\t353466\r\n",
      "571000\t353980\r\n",
      "572000\t354423\r\n",
      "573000\t354910\r\n",
      "574000\t355390\r\n",
      "575000\t355879\r\n",
      "576000\t356387\r\n",
      "577000\t356851\r\n",
      "578000\t357338\r\n",
      "579000\t357824\r\n",
      "580000\t358359\r\n",
      "581000\t358831\r\n",
      "582000\t359354\r\n",
      "582820\t359836\r\n",
      "\r\n",
      "Output File Names: \r\n",
      "pear_merged-AS_Pool1_redo.assembled.dmult_maxee1_noN.names\r\n",
      "pear_merged-AS_Pool1_redo.assembled.dmult_maxee1_noN.unique.fasta\r\n",
      "\r\n",
      "\r\n",
      "mothur > quit()\r\n"
     ]
    }
   ],
   "source": [
    "# unique sequences\n",
    "cmd = 'mothur \"#unique.seqs(fasta={})\"'.format(qcFile2)\n",
    "!$cmd | tail -n 30"
   ]
  },
  {
   "cell_type": "code",
   "execution_count": 15,
   "metadata": {
    "collapsed": false
   },
   "outputs": [
    {
     "name": "stdout",
     "output_type": "stream",
     "text": [
      "Number of unique sequences: 359836\n"
     ]
    }
   ],
   "source": [
    "qcFile3 = os.path.splitext(qcFile2)[0] + '.unique.fasta'\n",
    "n_uniq = !grep -c \">\" $qcFile3\n",
    "print ('Number of unique sequences: {}'.format(n_uniq[0]))"
   ]
  },
  {
   "cell_type": "code",
   "execution_count": 16,
   "metadata": {
    "collapsed": false
   },
   "outputs": [
    {
     "name": "stdout",
     "output_type": "stream",
     "text": [
      "-rw-rw-r-- 1 sam sam 31M May 14 19:11 pear_merged-AS_Pool1_redo.assembled.dmult_maxee1_noN.names\r\n"
     ]
    }
   ],
   "source": [
    "# name file produced by unique.seqs()\n",
    "nameFile = os.path.splitext(qcFile2)[0] + '.names'\n",
    "!ls -thlc $nameFile"
   ]
  },
  {
   "cell_type": "code",
   "execution_count": 17,
   "metadata": {
    "collapsed": false
   },
   "outputs": [
    {
     "name": "stdout",
     "output_type": "stream",
     "text": [
      "silva.seed_v132.tax\n",
      "silva.seed_v132.align\n",
      "README.md\n"
     ]
    },
    {
     "name": "stderr",
     "output_type": "stream",
     "text": [
      "--2018-05-14 19:11:13--  https://www.mothur.org/w/images/7/71/Silva.seed_v132.tgz\n",
      "Resolving www.mothur.org (www.mothur.org)... 141.214.120.22\n",
      "Connecting to www.mothur.org (www.mothur.org)|141.214.120.22|:443... connected.\n",
      "HTTP request sent, awaiting response... 200 OK\n",
      "Length: 19623900 (19M) [application/x-gzip]\n",
      "Saving to: ‘Silva.seed_v132.tgz’\n",
      "\n",
      "     0K .......... .......... .......... .......... ..........  0% 1.90M 10s\n",
      "    50K .......... .......... .......... .......... ..........  0% 1003K 14s\n",
      "   100K .......... .......... .......... .......... ..........  0% 1.88M 13s\n",
      "   150K .......... .......... .......... .......... ..........  1% 1002K 14s\n",
      "   200K .......... .......... .......... .......... ..........  1% 1.88M 13s\n",
      "   250K .......... .......... .......... .......... ..........  1%  997K 14s\n",
      "   300K .......... .......... .......... .......... ..........  1% 1.87M 14s\n",
      "   350K .......... .......... .......... .......... ..........  2%  995K 14s\n",
      "   400K .......... .......... .......... .......... ..........  2% 1011K 15s\n",
      "   450K .......... .......... .......... .......... ..........  2% 1.86M 14s\n",
      "   500K .......... .......... .......... .......... ..........  2% 1009K 15s\n",
      "   550K .......... .......... .......... .......... ..........  3% 1.85M 14s\n",
      "   600K .......... .......... .......... .......... ..........  3% 1011K 14s\n",
      "   650K .......... .......... .......... .......... ..........  3% 1.86M 14s\n",
      "   700K .......... .......... .......... .......... ..........  3%  999K 14s\n",
      "   750K .......... .......... .......... .......... ..........  4% 1.92M 14s\n",
      "   800K .......... .......... .......... .......... ..........  4%  996K 14s\n",
      "   850K .......... .......... .......... .......... ..........  4%  996K 14s\n",
      "   900K .......... .......... .......... .......... ..........  4% 1.88M 14s\n",
      "   950K .......... .......... .......... .......... ..........  5% 1001K 14s\n",
      "  1000K .......... .......... .......... .......... ..........  5% 1.89M 14s\n",
      "  1050K .......... .......... .......... .......... ..........  5% 1002K 14s\n",
      "  1100K .......... .......... .......... .......... ..........  6% 1.87M 14s\n",
      "  1150K .......... .......... .......... .......... ..........  6% 1005K 14s\n",
      "  1200K .......... .......... .......... .......... ..........  6%  995K 14s\n",
      "  1250K .......... .......... .......... .......... ..........  6% 1.87M 14s\n",
      "  1300K .......... .......... .......... .......... ..........  7% 1013K 14s\n",
      "  1350K .......... .......... .......... .......... ..........  7% 1.86M 14s\n",
      "  1400K .......... .......... .......... .......... ..........  7% 1009K 14s\n",
      "  1450K .......... .......... .......... .......... ..........  7% 1.85M 14s\n",
      "  1500K .......... .......... .......... .......... ..........  8% 1012K 14s\n",
      "  1550K .......... .......... .......... .......... ..........  8%  997K 14s\n",
      "  1600K .......... .......... .......... .......... ..........  8% 1.71M 14s\n",
      "  1650K .......... .......... .......... .......... ..........  8% 1.04M 14s\n",
      "  1700K .......... .......... .......... .......... ..........  9% 1.71M 14s\n",
      "  1750K .......... .......... .......... .......... ..........  9% 1.03M 14s\n",
      "  1800K .......... .......... .......... .......... ..........  9% 1.73M 13s\n",
      "  1850K .......... .......... .......... .......... ..........  9% 1.04M 14s\n",
      "  1900K .......... .......... .......... .......... .......... 10% 1.70M 13s\n",
      "  1950K .......... .......... .......... .......... .......... 10%  998K 13s\n",
      "  2000K .......... .......... .......... .......... .......... 10% 1.03M 13s\n",
      "  2050K .......... .......... .......... .......... .......... 10% 1.72M 13s\n",
      "  2100K .......... .......... .......... .......... .......... 11% 1.02M 13s\n",
      "  2150K .......... .......... .......... .......... .......... 11% 1.91M 13s\n",
      "  2200K .......... .......... .......... .......... .......... 11%  995K 13s\n",
      "  2250K .......... .......... .......... .......... .......... 12% 1.91M 13s\n",
      "  2300K .......... .......... .......... .......... .......... 12% 1.88M 13s\n",
      "  2350K .......... .......... .......... .......... .......... 12%  994K 13s\n",
      "  2400K .......... .......... .......... .......... .......... 12% 1.90M 13s\n",
      "  2450K .......... .......... .......... .......... .......... 13%  998K 13s\n",
      "  2500K .......... .......... .......... .......... .......... 13% 1.79M 13s\n",
      "  2550K .......... .......... .......... .......... .......... 13% 1.88M 13s\n",
      "  2600K .......... .......... .......... .......... .......... 13% 1.76M 13s\n",
      "  2650K .......... .......... .......... .......... .......... 14% 1.02M 13s\n",
      "  2700K .......... .......... .......... .......... .......... 14% 1.89M 13s\n",
      "  2750K .......... .......... .......... .......... .......... 14%  999K 13s\n",
      "  2800K .......... .......... .......... .......... .......... 14% 1.87M 12s\n",
      "  2850K .......... .......... .......... .......... .......... 15% 1.90M 12s\n",
      "  2900K .......... .......... .......... .......... .......... 15% 1.90M 12s\n",
      "  2950K .......... .......... .......... .......... .......... 15%  994K 12s\n",
      "  3000K .......... .......... .......... .......... .......... 15% 1.91M 12s\n",
      "  3050K .......... .......... .......... .......... .......... 16%  994K 12s\n",
      "  3100K .......... .......... .......... .......... .......... 16% 1.90M 12s\n",
      "  3150K .......... .......... .......... .......... .......... 16% 1.89M 12s\n",
      "  3200K .......... .......... .......... .......... .......... 16%  993K 12s\n",
      "  3250K .......... .......... .......... .......... .......... 17% 1.90M 12s\n",
      "  3300K .......... .......... .......... .......... .......... 17% 1.90M 12s\n",
      "  3350K .......... .......... .......... .......... .......... 17%  997K 12s\n",
      "  3400K .......... .......... .......... .......... .......... 18% 1.89M 12s\n",
      "  3450K .......... .......... .......... .......... .......... 18% 1.91M 12s\n",
      "  3500K .......... .......... .......... .......... .......... 18% 1.88M 12s\n",
      "  3550K .......... .......... .......... .......... .......... 18%  999K 12s\n",
      "  3600K .......... .......... .......... .......... .......... 19% 1003K 12s\n",
      "  3650K .......... .......... .......... .......... .......... 19% 1.91M 12s\n",
      "  3700K .......... .......... .......... .......... .......... 19% 1.88M 11s\n",
      "  3750K .......... .......... .......... .......... .......... 19% 1.92M 11s\n",
      "  3800K .......... .......... .......... .......... .......... 20% 1.80M 11s\n",
      "  3850K .......... .......... .......... .......... .......... 20% 1.78M 11s\n",
      "  3900K .......... .......... .......... .......... .......... 20% 1.88M 11s\n",
      "  3950K .......... .......... .......... .......... .......... 20%  999K 11s\n",
      "  4000K .......... .......... .......... .......... .......... 21% 1.89M 11s\n",
      "  4050K .......... .......... .......... .......... .......... 21% 1.90M 11s\n",
      "  4100K .......... .......... .......... .......... .......... 21% 1.87M 11s\n",
      "  4150K .......... .......... .......... .......... .......... 21% 1.88M 11s\n",
      "  4200K .......... .......... .......... .......... .......... 22% 1.90M 11s\n",
      "  4250K .......... .......... .......... .......... .......... 22% 1.91M 11s\n",
      "  4300K .......... .......... .......... .......... .......... 22% 1.90M 11s\n",
      "  4350K .......... .......... .......... .......... .......... 22% 1.85M 11s\n",
      "  4400K .......... .......... .......... .......... .......... 23% 1008K 11s\n",
      "  4450K .......... .......... .......... .......... .......... 23% 1.92M 11s\n",
      "  4500K .......... .......... .......... .......... .......... 23% 1.89M 10s\n",
      "  4550K .......... .......... .......... .......... .......... 24% 1.91M 10s\n",
      "  4600K .......... .......... .......... .......... .......... 24% 1.90M 10s\n",
      "  4650K .......... .......... .......... .......... .......... 24% 1.88M 10s\n",
      "  4700K .......... .......... .......... .......... .......... 24% 1.87M 10s\n",
      "  4750K .......... .......... .......... .......... .......... 25% 1.92M 10s\n",
      "  4800K .......... .......... .......... .......... .......... 25% 1.78M 10s\n",
      "  4850K .......... .......... .......... .......... .......... 25% 1.92M 10s\n",
      "  4900K .......... .......... .......... .......... .......... 25% 1.91M 10s\n",
      "  4950K .......... .......... .......... .......... .......... 26% 1.92M 10s\n",
      "  5000K .......... .......... .......... .......... .......... 26% 1.91M 10s\n",
      "  5050K .......... .......... .......... .......... .......... 26% 1.90M 10s\n",
      "  5100K .......... .......... .......... .......... .......... 26% 1.01M 10s\n",
      "  5150K .......... .......... .......... .......... .......... 27% 17.2M 10s\n",
      "  5200K .......... .......... .......... .......... .......... 27% 1000K 10s\n",
      "  5250K .......... .......... .......... .......... .......... 27% 1.91M 10s\n",
      "  5300K .......... .......... .......... .......... .......... 27% 1.91M 10s\n",
      "  5350K .......... .......... .......... .......... .......... 28% 1.91M 9s\n",
      "  5400K .......... .......... .......... .......... .......... 28% 1.89M 9s\n",
      "  5450K .......... .......... .......... .......... .......... 28% 1.91M 9s\n",
      "  5500K .......... .......... .......... .......... .......... 28% 1.91M 9s\n",
      "  5550K .......... .......... .......... .......... .......... 29% 1.70M 9s\n",
      "  5600K .......... .......... .......... .......... .......... 29% 1.04M 9s\n",
      "  5650K .......... .......... .......... .......... .......... 29% 1.91M 9s\n",
      "  5700K .......... .......... .......... .......... .......... 30% 1.90M 9s\n",
      "  5750K .......... .......... .......... .......... .......... 30% 1.91M 9s\n",
      "  5800K .......... .......... .......... .......... .......... 30% 1.92M 9s\n",
      "  5850K .......... .......... .......... .......... .......... 30% 1.90M 9s\n",
      "  5900K .......... .......... .......... .......... .......... 31% 1.91M 9s\n",
      "  5950K .......... .......... .......... .......... .......... 31% 1006K 9s\n",
      "  6000K .......... .......... .......... .......... .......... 31% 1.93M 9s\n",
      "  6050K .......... .......... .......... .......... .......... 31% 1.93M 9s\n",
      "  6100K .......... .......... .......... .......... .......... 32% 1.91M 9s\n",
      "  6150K .......... .......... .......... .......... .......... 32% 1.90M 9s\n",
      "  6200K .......... .......... .......... .......... .......... 32% 1.93M 9s\n",
      "  6250K .......... .......... .......... .......... .......... 32% 1.93M 9s\n",
      "  6300K .......... .......... .......... .......... .......... 33% 1.69M 9s\n",
      "  6350K .......... .......... .......... .......... .......... 33% 1.68M 9s\n",
      "  6400K .......... .......... .......... .......... .......... 33% 1.93M 8s\n",
      "  6450K .......... .......... .......... .......... .......... 33% 1.90M 8s\n",
      "  6500K .......... .......... .......... .......... .......... 34% 1.88M 8s\n",
      "  6550K .......... .......... .......... .......... .......... 34% 1.93M 8s\n",
      "  6600K .......... .......... .......... .......... .......... 34% 1.92M 8s\n",
      "  6650K .......... .......... .......... .......... .......... 34% 1.92M 8s\n",
      "  6700K .......... .......... .......... .......... .......... 35% 1.93M 8s\n",
      "  6750K .......... .......... .......... .......... .......... 35% 1.04M 8s\n",
      "  6800K .......... .......... .......... .......... .......... 35% 1.91M 8s\n",
      "  6850K .......... .......... .......... .......... .......... 36% 1.90M 8s\n",
      "  6900K .......... .......... .......... .......... .......... 36% 1.89M 8s\n",
      "  6950K .......... .......... .......... .......... .......... 36% 1.78M 8s\n",
      "  7000K .......... .......... .......... .......... .......... 36% 1.91M 8s\n",
      "  7050K .......... .......... .......... .......... .......... 37% 1.92M 8s\n",
      "  7100K .......... .......... .......... .......... .......... 37% 1.88M 8s\n",
      "  7150K .......... .......... .......... .......... .......... 37% 1.97M 8s\n",
      "  7200K .......... .......... .......... .......... .......... 37% 1.87M 8s\n",
      "  7250K .......... .......... .......... .......... .......... 38% 1.90M 8s\n",
      "  7300K .......... .......... .......... .......... .......... 38% 1.93M 8s\n",
      "  7350K .......... .......... .......... .......... .......... 38% 1.91M 8s\n",
      "  7400K .......... .......... .......... .......... .......... 38% 1.90M 8s\n",
      "  7450K .......... .......... .......... .......... .......... 39% 1.91M 8s\n",
      "  7500K .......... .......... .......... .......... .......... 39% 1.87M 8s\n",
      "  7550K .......... .......... .......... .......... .......... 39% 1.78M 7s\n",
      "  7600K .......... .......... .......... .......... .......... 39% 1.90M 7s\n",
      "  7650K .......... .......... .......... .......... .......... 40% 1.90M 7s\n",
      "  7700K .......... .......... .......... .......... .......... 40% 1.87M 7s\n",
      "  7750K .......... .......... .......... .......... .......... 40% 1.01M 7s\n",
      "  7800K .......... .......... .......... .......... .......... 40% 1.79M 7s\n",
      "  7850K .......... .......... .......... .......... .......... 41% 1.82M 7s\n",
      "  7900K .......... .......... .......... .......... .......... 41% 1.83M 7s\n",
      "  7950K .......... .......... .......... .......... .......... 41% 1.79M 7s\n",
      "  8000K .......... .......... .......... .......... .......... 42% 1.81M 7s\n",
      "  8050K .......... .......... .......... .......... .......... 42% 1.46M 7s\n",
      "  8100K .......... .......... .......... .......... .......... 42% 1.51M 7s\n",
      "  8150K .......... .......... .......... .......... .......... 42% 1.91M 7s\n",
      "  8200K .......... .......... .......... .......... .......... 43% 1.90M 7s\n",
      "  8250K .......... .......... .......... .......... .......... 43% 1.90M 7s\n",
      "  8300K .......... .......... .......... .......... .......... 43% 1.91M 7s\n",
      "  8350K .......... .......... .......... .......... .......... 43% 1.89M 7s\n",
      "  8400K .......... .......... .......... .......... .......... 44% 1.90M 7s\n",
      "  8450K .......... .......... .......... .......... .......... 44% 1.79M 7s\n",
      "  8500K .......... .......... .......... .......... .......... 44% 1.91M 7s\n",
      "  8550K .......... .......... .......... .......... .......... 44% 1.90M 7s\n",
      "  8600K .......... .......... .......... .......... .......... 45% 1.89M 7s\n",
      "  8650K .......... .......... .......... .......... .......... 45% 1.88M 7s\n",
      "  8700K .......... .......... .......... .......... .......... 45% 1001K 7s\n",
      "  8750K .......... .......... .......... .......... .......... 45% 1.90M 7s\n",
      "  8800K .......... .......... .......... .......... .......... 46% 1.89M 7s\n",
      "  8850K .......... .......... .......... .......... .......... 46% 1.92M 7s\n",
      "  8900K .......... .......... .......... .......... .......... 46% 1.88M 6s\n",
      "  8950K .......... .......... .......... .......... .......... 46% 1.91M 6s\n",
      "  9000K .......... .......... .......... .......... .......... 47% 1.93M 6s\n",
      "  9050K .......... .......... .......... .......... .......... 47% 1.90M 6s\n",
      "  9100K .......... .......... .......... .......... .......... 47% 1.90M 6s\n",
      "  9150K .......... .......... .......... .......... .......... 48% 1.93M 6s\n",
      "  9200K .......... .......... .......... .......... .......... 48% 1.86M 6s\n",
      "  9250K .......... .......... .......... .......... .......... 48% 1.92M 6s\n",
      "  9300K .......... .......... .......... .......... .......... 48% 1.90M 6s\n",
      "  9350K .......... .......... .......... .......... .......... 49% 1.92M 6s\n",
      "  9400K .......... .......... .......... .......... .......... 49% 1.92M 6s\n",
      "  9450K .......... .......... .......... .......... .......... 49% 1.91M 6s\n",
      "  9500K .......... .......... .......... .......... .......... 49% 1.77M 6s\n",
      "  9550K .......... .......... .......... .......... .......... 50% 1.84M 6s\n",
      "  9600K .......... .......... .......... .......... .......... 50% 1.68M 6s\n",
      "  9650K .......... .......... .......... .......... .......... 50% 1.77M 6s\n",
      "  9700K .......... .......... .......... .......... .......... 50% 1.71M 6s\n",
      "  9750K .......... .......... .......... .......... .......... 51% 1.87M 6s\n",
      "  9800K .......... .......... .......... .......... .......... 51% 1.74M 6s\n",
      "  9850K .......... .......... .......... .......... .......... 51% 1.50M 6s\n",
      "  9900K .......... .......... .......... .......... .......... 51% 1.26M 6s\n",
      "  9950K .......... .......... .......... .......... .......... 52% 1.92M 6s\n",
      " 10000K .......... .......... .......... .......... .......... 52% 1.94M 6s\n",
      " 10050K .......... .......... .......... .......... .......... 52% 1.93M 6s\n",
      " 10100K .......... .......... .......... .......... .......... 52% 1.92M 6s\n",
      " 10150K .......... .......... .......... .......... .......... 53% 1.93M 6s\n",
      " 10200K .......... .......... .......... .......... .......... 53% 1.89M 6s\n",
      " 10250K .......... .......... .......... .......... .......... 53% 1.92M 6s\n",
      " 10300K .......... .......... .......... .......... .......... 54% 1.73M 5s\n",
      " 10350K .......... .......... .......... .......... .......... 54% 1.93M 5s\n",
      " 10400K .......... .......... .......... .......... .......... 54% 1.94M 5s\n",
      " 10450K .......... .......... .......... .......... .......... 54% 1.91M 5s\n",
      " 10500K .......... .......... .......... .......... .......... 55% 1.93M 5s\n",
      " 10550K .......... .......... .......... .......... .......... 55% 1.94M 5s\n",
      " 10600K .......... .......... .......... .......... .......... 55% 1.92M 5s\n",
      " 10650K .......... .......... .......... .......... .......... 55% 1.91M 5s\n",
      " 10700K .......... .......... .......... .......... .......... 56% 1.93M 5s\n",
      " 10750K .......... .......... .......... .......... .......... 56% 1.92M 5s\n",
      " 10800K .......... .......... .......... .......... .......... 56% 1.13M 5s\n",
      " 10850K .......... .......... .......... .......... .......... 56% 1.92M 5s\n",
      " 10900K .......... .......... .......... .......... .......... 57% 1.79M 5s\n",
      " 10950K .......... .......... .......... .......... .......... 57% 1.75M 5s\n",
      " 11000K .......... .......... .......... .......... .......... 57% 1.86M 5s\n",
      " 11050K .......... .......... .......... .......... .......... 57% 1.85M 5s\n",
      " 11100K .......... .......... .......... .......... .......... 58% 1.88M 5s\n",
      " 11150K .......... .......... .......... .......... .......... 58% 1.24M 5s\n",
      " 11200K .......... .......... .......... .......... .......... 58% 1.90M 5s\n",
      " 11250K .......... .......... .......... .......... .......... 58% 1.92M 5s\n",
      " 11300K .......... .......... .......... .......... .......... 59% 1.92M 5s\n",
      " 11350K .......... .......... .......... .......... .......... 59% 1.92M 5s\n",
      " 11400K .......... .......... .......... .......... .......... 59% 1.79M 5s\n",
      " 11450K .......... .......... .......... .......... .......... 60% 1.91M 5s\n",
      " 11500K .......... .......... .......... .......... .......... 60% 1.55M 5s\n",
      " 11550K .......... .......... .......... .......... .......... 60% 1.86M 5s\n",
      " 11600K .......... .......... .......... .......... .......... 60% 1.79M 5s\n",
      " 11650K .......... .......... .......... .......... .......... 61% 1.83M 5s\n",
      " 11700K .......... .......... .......... .......... .......... 61% 1.93M 5s\n",
      " 11750K .......... .......... .......... .......... .......... 61% 1.38M 5s\n",
      " 11800K .......... .......... .......... .......... .......... 61% 1.92M 4s\n",
      " 11850K .......... .......... .......... .......... .......... 62% 1.78M 4s\n",
      " 11900K .......... .......... .......... .......... .......... 62% 1.44M 4s\n",
      " 11950K .......... .......... .......... .......... .......... 62% 1.92M 4s\n",
      " 12000K .......... .......... .......... .......... .......... 62% 1.65M 4s\n",
      " 12050K .......... .......... .......... .......... .......... 63% 1.93M 4s\n",
      " 12100K .......... .......... .......... .......... .......... 63% 1.91M 4s\n",
      " 12150K .......... .......... .......... .......... .......... 63% 1.94M 4s\n",
      " 12200K .......... .......... .......... .......... .......... 63% 1.91M 4s\n",
      " 12250K .......... .......... .......... .......... .......... 64% 1.92M 4s\n",
      " 12300K .......... .......... .......... .......... .......... 64% 1.92M 4s\n",
      " 12350K .......... .......... .......... .......... .......... 64% 1.92M 4s\n",
      " 12400K .......... .......... .......... .......... .......... 64% 1.90M 4s\n",
      " 12450K .......... .......... .......... .......... .......... 65% 1.94M 4s\n",
      " 12500K .......... .......... .......... .......... .......... 65% 1.93M 4s\n",
      " 12550K .......... .......... .......... .......... .......... 65% 1.91M 4s\n",
      " 12600K .......... .......... .......... .......... .......... 66% 1.92M 4s\n",
      " 12650K .......... .......... .......... .......... .......... 66% 1.93M 4s\n",
      " 12700K .......... .......... .......... .......... .......... 66% 1.92M 4s\n",
      " 12750K .......... .......... .......... .......... .......... 66% 1.10M 4s\n",
      " 12800K .......... .......... .......... .......... .......... 67% 1.93M 4s\n",
      " 12850K .......... .......... .......... .......... .......... 67% 1.93M 4s\n",
      " 12900K .......... .......... .......... .......... .......... 67% 1.92M 4s\n",
      " 12950K .......... .......... .......... .......... .......... 67% 1.92M 4s\n",
      " 13000K .......... .......... .......... .......... .......... 68% 1.93M 4s\n",
      " 13050K .......... .......... .......... .......... .......... 68% 1.93M 4s\n",
      " 13100K .......... .......... .......... .......... .......... 68% 1.59M 4s\n",
      " 13150K .......... .......... .......... .......... .......... 68% 1.93M 4s\n",
      " 13200K .......... .......... .......... .......... .......... 69% 1.93M 4s\n",
      " 13250K .......... .......... .......... .......... .......... 69% 1.92M 4s\n",
      " 13300K .......... .......... .......... .......... .......... 69% 1.93M 4s\n",
      " 13350K .......... .......... .......... .......... .......... 69% 1.92M 3s\n",
      " 13400K .......... .......... .......... .......... .......... 70% 1.93M 3s\n",
      " 13450K .......... .......... .......... .......... .......... 70% 1.92M 3s\n",
      " 13500K .......... .......... .......... .......... .......... 70% 1.91M 3s\n",
      " 13550K .......... .......... .......... .......... .......... 70% 1.94M 3s\n",
      " 13600K .......... .......... .......... .......... .......... 71% 1.91M 3s\n",
      " 13650K .......... .......... .......... .......... .......... 71% 1.93M 3s\n",
      " 13700K .......... .......... .......... .......... .......... 71% 1.93M 3s\n",
      " 13750K .......... .......... .......... .......... .......... 72% 1.91M 3s\n",
      " 13800K .......... .......... .......... .......... .......... 72% 1.92M 3s\n",
      " 13850K .......... .......... .......... .......... .......... 72% 1.92M 3s\n",
      " 13900K .......... .......... .......... .......... .......... 72% 1.93M 3s\n",
      " 13950K .......... .......... .......... .......... .......... 73% 1.09M 3s\n",
      " 14000K .......... .......... .......... .......... .......... 73% 1.94M 3s\n",
      " 14050K .......... .......... .......... .......... .......... 73% 1.94M 3s\n",
      " 14100K .......... .......... .......... .......... .......... 73% 1.94M 3s\n",
      " 14150K .......... .......... .......... .......... .......... 74% 1.92M 3s\n",
      " 14200K .......... .......... .......... .......... .......... 74% 1.94M 3s\n",
      " 14250K .......... .......... .......... .......... .......... 74% 1.94M 3s\n",
      " 14300K .......... .......... .......... .......... .......... 74% 1.93M 3s\n",
      " 14350K .......... .......... .......... .......... .......... 75% 1.56M 3s\n",
      " 14400K .......... .......... .......... .......... .......... 75% 1.93M 3s\n",
      " 14450K .......... .......... .......... .......... .......... 75% 1.93M 3s\n",
      " 14500K .......... .......... .......... .......... .......... 75% 1.91M 3s\n",
      " 14550K .......... .......... .......... .......... .......... 76% 1.93M 3s\n",
      " 14600K .......... .......... .......... .......... .......... 76% 1.93M 3s\n",
      " 14650K .......... .......... .......... .......... .......... 76% 1.96M 3s\n",
      " 14700K .......... .......... .......... .......... .......... 76% 1.88M 3s\n",
      " 14750K .......... .......... .......... .......... .......... 77% 1.93M 3s\n",
      " 14800K .......... .......... .......... .......... .......... 77% 1.93M 3s\n",
      " 14850K .......... .......... .......... .......... .......... 77% 1.92M 3s\n",
      " 14900K .......... .......... .......... .......... .......... 78% 1.93M 3s\n",
      " 14950K .......... .......... .......... .......... .......... 78% 1.93M 2s\n",
      " 15000K .......... .......... .......... .......... .......... 78% 1.92M 2s\n",
      " 15050K .......... .......... .......... .......... .......... 78% 1.90M 2s\n",
      " 15100K .......... .......... .......... .......... .......... 79% 1.94M 2s\n",
      " 15150K .......... .......... .......... .......... .......... 79% 1.94M 2s\n",
      " 15200K .......... .......... .......... .......... .......... 79% 1.16M 2s\n",
      " 15250K .......... .......... .......... .......... .......... 79% 1.95M 2s\n",
      " 15300K .......... .......... .......... .......... .......... 80% 1.93M 2s\n",
      " 15350K .......... .......... .......... .......... .......... 80% 1.94M 2s\n",
      " 15400K .......... .......... .......... .......... .......... 80% 1.94M 2s\n",
      " 15450K .......... .......... .......... .......... .......... 80% 1.93M 2s\n",
      " 15500K .......... .......... .......... .......... .......... 81% 1.96M 2s\n",
      " 15550K .......... .......... .......... .......... .......... 81% 1.50M 2s\n",
      " 15600K .......... .......... .......... .......... .......... 81% 1.94M 2s\n",
      " 15650K .......... .......... .......... .......... .......... 81% 1.90M 2s\n",
      " 15700K .......... .......... .......... .......... .......... 82% 1.91M 2s\n",
      " 15750K .......... .......... .......... .......... .......... 82% 1.89M 2s\n",
      " 15800K .......... .......... .......... .......... .......... 82% 1.95M 2s\n",
      " 15850K .......... .......... .......... .......... .......... 82% 1.89M 2s\n",
      " 15900K .......... .......... .......... .......... .......... 83% 1.92M 2s\n",
      " 15950K .......... .......... .......... .......... .......... 83% 1.89M 2s\n",
      " 16000K .......... .......... .......... .......... .......... 83%  497K 2s\n",
      " 16050K .......... .......... .......... .......... .......... 84% 1.90M 2s\n",
      " 16100K .......... .......... .......... .......... .......... 84% 1.94M 2s\n",
      " 16150K .......... .......... .......... .......... .......... 84% 1.94M 2s\n",
      " 16200K .......... .......... .......... .......... .......... 84% 1.93M 2s\n",
      " 16250K .......... .......... .......... .......... .......... 85% 1.93M 2s\n",
      " 16300K .......... .......... .......... .......... .......... 85% 1.93M 2s\n",
      " 16350K .......... .......... .......... .......... .......... 85% 1.94M 2s\n",
      " 16400K .......... .......... .......... .......... .......... 85% 1.92M 2s\n",
      " 16450K .......... .......... .......... .......... .......... 86% 1.90M 2s\n",
      " 16500K .......... .......... .......... .......... .......... 86% 1.93M 2s\n",
      " 16550K .......... .......... .......... .......... .......... 86% 1.96M 2s\n",
      " 16600K .......... .......... .......... .......... .......... 86% 1.93M 1s\n",
      " 16650K .......... .......... .......... .......... .......... 87% 1.94M 1s\n",
      " 16700K .......... .......... .......... .......... .......... 87% 1.88M 1s\n",
      " 16750K .......... .......... .......... .......... .......... 87% 1.93M 1s\n",
      " 16800K .......... .......... .......... .......... .......... 87% 1.95M 1s\n",
      " 16850K .......... .......... .......... .......... .......... 88% 1.94M 1s\n",
      " 16900K .......... .......... .......... .......... .......... 88% 26.6M 1s\n",
      " 16950K .......... .......... .......... .......... .......... 88% 1.92M 1s\n",
      " 17000K .......... .......... .......... .......... .......... 88% 1.93M 1s\n",
      " 17050K .......... .......... .......... .......... .......... 89% 1.93M 1s\n",
      " 17100K .......... .......... .......... .......... .......... 89% 1.94M 1s\n",
      " 17150K .......... .......... .......... .......... .......... 89% 1.94M 1s\n",
      " 17200K .......... .......... .......... .......... .......... 90% 1.91M 1s\n",
      " 17250K .......... .......... .......... .......... .......... 90% 1.93M 1s\n",
      " 17300K .......... .......... .......... .......... .......... 90% 1.93M 1s\n",
      " 17350K .......... .......... .......... .......... .......... 90% 1.94M 1s\n",
      " 17400K .......... .......... .......... .......... .......... 91% 1.94M 1s\n",
      " 17450K .......... .......... .......... .......... .......... 91% 1.92M 1s\n",
      " 17500K .......... .......... .......... .......... .......... 91% 14.9M 1s\n",
      " 17550K .......... .......... .......... .......... .......... 91% 1.88M 1s\n",
      " 17600K .......... .......... .......... .......... .......... 92% 1.89M 1s\n",
      " 17650K .......... .......... .......... .......... .......... 92% 1.94M 1s\n",
      " 17700K .......... .......... .......... .......... .......... 92% 1.92M 1s\n",
      " 17750K .......... .......... .......... .......... .......... 92% 1.95M 1s\n",
      " 17800K .......... .......... .......... .......... .......... 93% 1.93M 1s\n",
      " 17850K .......... .......... .......... .......... .......... 93% 1.89M 1s\n",
      " 17900K .......... .......... .......... .......... .......... 93% 1.93M 1s\n",
      " 17950K .......... .......... .......... .......... .......... 93% 1.94M 1s\n",
      " 18000K .......... .......... .......... .......... .......... 94% 1.94M 1s\n",
      " 18050K .......... .......... .......... .......... .......... 94% 25.2M 1s\n",
      " 18100K .......... .......... .......... .......... .......... 94% 1.92M 1s\n",
      " 18150K .......... .......... .......... .......... .......... 94% 1.93M 1s\n",
      " 18200K .......... .......... .......... .......... .......... 95% 1.91M 1s\n",
      " 18250K .......... .......... .......... .......... .......... 95% 1.94M 1s\n",
      " 18300K .......... .......... .......... .......... .......... 95% 1.90M 0s\n",
      " 18350K .......... .......... .......... .......... .......... 96% 1.95M 0s\n",
      " 18400K .......... .......... .......... .......... .......... 96% 1.91M 0s\n",
      " 18450K .......... .......... .......... .......... .......... 96% 1.92M 0s\n",
      " 18500K .......... .......... .......... .......... .......... 96% 1.89M 0s\n",
      " 18550K .......... .......... .......... .......... .......... 97% 1.79M 0s\n",
      " 18600K .......... .......... .......... .......... .......... 97% 1.82M 0s\n",
      " 18650K .......... .......... .......... .......... .......... 97% 23.3M 0s\n",
      " 18700K .......... .......... .......... .......... .......... 97%  890K 0s\n",
      " 18750K .......... .......... .......... .......... .......... 98% 1.65M 0s\n",
      " 18800K .......... .......... .......... .......... .......... 98% 27.4M 0s\n",
      " 18850K .......... .......... .......... .......... .......... 98% 1.69M 0s\n",
      " 18900K .......... .......... .......... .......... .......... 98% 1.95M 0s\n",
      " 18950K .......... .......... .......... .......... .......... 99% 1.93M 0s\n",
      " 19000K .......... .......... .......... .......... .......... 99% 32.4M 0s\n",
      " 19050K .......... .......... .......... .......... .......... 99% 1.93M 0s\n",
      " 19100K .......... .......... .......... .......... .......... 99% 1.95M 0s\n",
      " 19150K .......... ...                                        100% 59.2M=11s\n",
      "\n",
      "2018-05-14 19:11:24 (1.70 MB/s) - ‘Silva.seed_v132.tgz’ saved [19623900/19623900]\n",
      "\n"
     ]
    }
   ],
   "source": [
    "%%bash \n",
    "# Remove database if already exsists\n",
    "if [ -d mothur_silva_db ]; then\n",
    "    rm -rf mothur_silva_db\n",
    "fi\n",
    "\n",
    "#if ! [ -d mothur_silva_db ]; then\n",
    "#    mkdir mothur_silva_db\n",
    "#fi\n",
    "\n",
    "mkdir mothur_silva_db\n",
    "cd mothur_silva_db\n",
    "\n",
    "# Download mothur recreatd SEED database release 132.\n",
    "wget https://www.mothur.org/w/images/7/71/Silva.seed_v132.tgz\n",
    "#wget https://www.mothur.org/w/images/a/a4/Silva.seed_v128.tgz\n",
    "tar -xvzf Silva.seed_v132.tgz\n",
    "rm Silva.seed_v132.tgz"
   ]
  },
  {
   "cell_type": "code",
   "execution_count": 18,
   "metadata": {
    "collapsed": false
   },
   "outputs": [
    {
     "name": "stdout",
     "output_type": "stream",
     "text": [
      "100\n",
      "200\n",
      "300\n",
      "400\n",
      "500\n",
      "560\n",
      "\n",
      "\n",
      "\n",
      "Length of filtered alignment: 10180\n",
      "Number of columns removed: 39820\n",
      "Length of the original alignment: 50000\n",
      "Number of sequences used to construct filter: 11180\n",
      "\n",
      "Output File Names: \n",
      "silva.filter\n",
      "silva.seed_v132.filter.fasta\n",
      "\n",
      "\n",
      "mothur > quit()\n",
      "\n",
      "Number of sequences post-filter: 11180\n"
     ]
    }
   ],
   "source": [
    "silvaFile = 'silva.seed_v132.align'\n",
    "cmd = 'mothur \"#filter.seqs(vertical=t, fasta={}, processors={})\"'.format(silvaFile, nprocs)\n",
    "!cd mothur_silva_db; $cmd | tail -n 20\n",
    "\n",
    "silvaFileFilt = os.path.splitext(silvaFile)[0] + '.filter.fasta'\n",
    "silvaFileFilt = os.path.join('mothur_silva_db', silvaFileFilt)\n",
    "ret = !grep -c \">\" $silvaFileFilt\n",
    "print ('\\nNumber of sequences post-filter: {}'.format(ret[0]))"
   ]
  },
  {
   "cell_type": "code",
   "execution_count": 19,
   "metadata": {
    "collapsed": false
   },
   "outputs": [
    {
     "name": "stdout",
     "output_type": "stream",
     "text": [
      "14200\r\n",
      "14300\r\n",
      "14400\r\n",
      "14500\r\n",
      "14600\r\n",
      "14700\r\n",
      "14800\r\n",
      "14900\r\n",
      "15000\r\n",
      "15062\r\n",
      "[WARNING]: Some of your sequences generated alignments that eliminated too many bases, a list is provided in pear_merged-AS_Pool1_redo.assembled.dmult_maxee1_noN.unique.flip.accnos. If the reverse compliment proved to be better it was reported.\r\n",
      "It took 132 secs to align 359836 sequences.\r\n",
      "\r\n",
      "\r\n",
      "Output File Names: \r\n",
      "pear_merged-AS_Pool1_redo.assembled.dmult_maxee1_noN.unique.align\r\n",
      "pear_merged-AS_Pool1_redo.assembled.dmult_maxee1_noN.unique.align.report\r\n",
      "pear_merged-AS_Pool1_redo.assembled.dmult_maxee1_noN.unique.flip.accnos\r\n",
      "\r\n",
      "\r\n",
      "mothur > quit()\r\n",
      "\r\n",
      "\r\n",
      "<<<<<<<<<<<<<<<<<<<<<<<<<<<<<<^>>>>>>>>>>>>>>>>>>>>>>>>>>>>>\r\n",
      "<<<<<<<<<<<<<<<<<<<<<<<<<<<<<<^>>>>>>>>>>>>>>>>>>>>>>>>>>>>>\r\n",
      "<<<<<<<<<<<<<<<<<<<<<<<<<<<<<<^>>>>>>>>>>>>>>>>>>>>>>>>>>>>>\r\n",
      "Detected 1 [WARNING] messages, please review.\r\n",
      "<<<<<<<<<<<<<<<<<<<<<<<<<<<<<<^>>>>>>>>>>>>>>>>>>>>>>>>>>>>>\r\n",
      "<<<<<<<<<<<<<<<<<<<<<<<<<<<<<<^>>>>>>>>>>>>>>>>>>>>>>>>>>>>>\r\n",
      "<<<<<<<<<<<<<<<<<<<<<<<<<<<<<<^>>>>>>>>>>>>>>>>>>>>>>>>>>>>>\r\n"
     ]
    }
   ],
   "source": [
    "# aligning sequences\n",
    "qcFile3a = re.sub('-', '\\-', qcFile3)\n",
    "cmd = 'mothur \"#align.seqs(candidate={}, template={}, processors=24, flip=T)\"'.format(qcFile3a, silvaFileFilt)\n",
    "!$cmd | tail -n 30"
   ]
  },
  {
   "cell_type": "code",
   "execution_count": 20,
   "metadata": {
    "collapsed": false
   },
   "outputs": [
    {
     "name": "stdout",
     "output_type": "stream",
     "text": [
      "-rw-rw-r-- 1 sam sam 3.5G May 14 19:13 pear_merged-AS_Pool1_redo.assembled.dmult_maxee1_noN.unique.align\r\n"
     ]
    }
   ],
   "source": [
    "qcFile4 = os.path.splitext(qcFile3)[0] + '.align'\n",
    "!ls -thlc $qcFile4 "
   ]
  },
  {
   "cell_type": "code",
   "execution_count": 21,
   "metadata": {
    "collapsed": false
   },
   "outputs": [
    {
     "name": "stdout",
     "output_type": "stream",
     "text": [
      "16500\r\n",
      "16600\r\n",
      "16700\r\n",
      "16800\r\n",
      "16900\r\n",
      "17000\r\n",
      "17100\r\n",
      "17200\r\n",
      "17300\r\n",
      "17400\r\n",
      "17500\r\n",
      "17600\r\n",
      "17700\r\n",
      "17800\r\n",
      "17900\r\n",
      "17995\r\n",
      "\r\n",
      "\r\n",
      "\r\n",
      "Length of filtered alignment: 993\r\n",
      "Number of columns removed: 9187\r\n",
      "Length of the original alignment: 10180\r\n",
      "Number of sequences used to construct filter: 359836\r\n",
      "\r\n",
      "Output File Names: \r\n",
      "pear_merged-AS_Pool1_redo.filter\r\n",
      "pear_merged-AS_Pool1_redo.assembled.dmult_maxee1_noN.unique.filter.fasta\r\n",
      "\r\n",
      "\r\n",
      "mothur > quit()\r\n"
     ]
    }
   ],
   "source": [
    "# filtering out gap positions in the alignment\n",
    "qcFile4a = re.sub('-', '\\-', qcFile4)\n",
    "cmd = 'mothur \"#filter.seqs(vertical=t, fasta={}, processors={})\"'.format(qcFile4a, nprocs)\n",
    "!$cmd | tail -n 30"
   ]
  },
  {
   "cell_type": "code",
   "execution_count": 22,
   "metadata": {
    "collapsed": false
   },
   "outputs": [
    {
     "name": "stdout",
     "output_type": "stream",
     "text": [
      "-rw-rw-r-- 1 sam sam 353M May 14 19:14 pear_merged-AS_Pool1_redo.assembled.dmult_maxee1_noN.unique.filter.fasta\r\n"
     ]
    }
   ],
   "source": [
    "qcFile5 = os.path.splitext(qcFile3)[0] + '.filter.fasta'\n",
    "!ls -thlc $qcFile5"
   ]
  },
  {
   "cell_type": "code",
   "execution_count": 23,
   "metadata": {
    "collapsed": false
   },
   "outputs": [
    {
     "name": "stdout",
     "output_type": "stream",
     "text": [
      "Using 20 processors.\r\n",
      "\r\n",
      "\t\tStart\tEnd\tNBases\tAmbigs\tPolymer\tNumSeqs\r\n",
      "Minimum:\t0\t0\t0\t0\t1\t1\r\n",
      "2.5%-tile:\t93\t770\t221\t0\t4\t14571\r\n",
      "25%-tile:\t93\t770\t253\t0\t4\t145706\r\n",
      "Median: \t93\t770\t253\t0\t5\t291411\r\n",
      "75%-tile:\t93\t770\t253\t0\t6\t437116\r\n",
      "97.5%-tile:\t93\t770\t254\t0\t7\t568250\r\n",
      "Maximum:\t993\t993\t337\t0\t52\t582820\r\n",
      "Mean:\t93.5792\t769.912\t251.985\t0\t5.06985\r\n",
      "# of unique seqs:\t359836\r\n",
      "total # of seqs:\t582820\r\n",
      "\r\n",
      "Output File Names: \r\n",
      "pear_merged-AS_Pool1_redo.assembled.dmult_maxee1_noN.unique.filter.summary\r\n",
      "\r\n",
      "It took 2 secs to summarize 582820 sequences.\r\n",
      "\r\n",
      "mothur > quit()\r\n"
     ]
    }
   ],
   "source": [
    "cmd = 'mothur \"#summary.seqs(fasta={}, processors={}, name={})\"'.format(qcFile5, nprocs, nameFile)\n",
    "!$cmd | tail -n 20"
   ]
  },
  {
   "cell_type": "markdown",
   "metadata": {},
   "source": [
    "## Removing homopolymers (> 8) and screening out sequences that don't align to an amplicon region"
   ]
  },
  {
   "cell_type": "code",
   "execution_count": 24,
   "metadata": {
    "collapsed": false
   },
   "outputs": [
    {
     "name": "stdout",
     "output_type": "stream",
     "text": [
      "Processing sequence: 16300\r\n",
      "Processing sequence: 16400\r\n",
      "Processing sequence: 16500\r\n",
      "Processing sequence: 16600\r\n",
      "Processing sequence: 16700\r\n",
      "Processing sequence: 16800\r\n",
      "Processing sequence: 16900\r\n",
      "Processing sequence: 17000\r\n",
      "Processing sequence: 17100\r\n",
      "Processing sequence: 17200\r\n",
      "Processing sequence: 17300\r\n",
      "Processing sequence: 17400\r\n",
      "Processing sequence: 17500\r\n",
      "Processing sequence: 17600\r\n",
      "Processing sequence: 17700\r\n",
      "Processing sequence: 17800\r\n",
      "Processing sequence: 17900\r\n",
      "Processing sequence: 18000\r\n",
      "Processing sequence: 18015\r\n",
      "\r\n",
      "Output File Names: \r\n",
      "pear_merged-AS_Pool1_redo.assembled.dmult_maxee1_noN.unique.filter.good.fasta\r\n",
      "pear_merged-AS_Pool1_redo.assembled.dmult_maxee1_noN.unique.filter.bad.accnos\r\n",
      "pear_merged-AS_Pool1_redo.assembled.dmult_maxee1_noN.good.names\r\n",
      "group_file.good.txt\r\n",
      "\r\n",
      "\r\n",
      "It took 4 secs to screen 359836 sequences.\r\n",
      "\r\n",
      "mothur > quit()\r\n"
     ]
    }
   ],
   "source": [
    "cmd = \"\"\"mothur '#screen.seqs(fasta={},\\\n",
    "    processors={},\\\n",
    "    name={},\\\n",
    "    group={},\\\n",
    "    start={},\\\n",
    "    end={},\\\n",
    "    maxhomop=8)'\"\"\".format(qcFile5, nprocs, nameFile, 'group_file.txt', 93, 770)\n",
    "!$cmd | tail -n 30"
   ]
  },
  {
   "cell_type": "code",
   "execution_count": 25,
   "metadata": {
    "collapsed": false
   },
   "outputs": [
    {
     "name": "stdout",
     "output_type": "stream",
     "text": [
      "Number of sequences post-filter: 350104\n"
     ]
    }
   ],
   "source": [
    "qcFile6 = os.path.splitext(qcFile5)[0] + '.good.fasta'\n",
    "ret = !grep -c \">\" $qcFile6\n",
    "print ('Number of sequences post-filter: {}'.format(ret[0]))"
   ]
  },
  {
   "cell_type": "code",
   "execution_count": 26,
   "metadata": {
    "collapsed": false
   },
   "outputs": [
    {
     "name": "stdout",
     "output_type": "stream",
     "text": [
      "17100\r\n",
      "17200\r\n",
      "17300\r\n",
      "17400\r\n",
      "17500\r\n",
      "17528\r\n",
      "\r\n",
      "\r\n",
      "\r\n",
      "Length of filtered alignment: 726\r\n",
      "Number of columns removed: 267\r\n",
      "Length of the original alignment: 993\r\n",
      "Number of sequences used to construct filter: 350104\r\n",
      "\r\n",
      "Output File Names: \r\n",
      "pear_merged-AS_Pool1_redo.filter\r\n",
      "pear_merged-AS_Pool1_redo.assembled.dmult_maxee1_noN.unique.filter.good.filter.fasta\r\n",
      "\r\n",
      "\r\n",
      "mothur > quit()\r\n"
     ]
    }
   ],
   "source": [
    "qcFile6a = re.sub('-', '\\-', qcFile6)\n",
    "cmd = 'mothur \"#filter.seqs(fasta={}, processors={}, vertical=T)\"'.format(qcFile6a, nprocs)\n",
    "!$cmd | tail -n 20"
   ]
  },
  {
   "cell_type": "code",
   "execution_count": 27,
   "metadata": {
    "collapsed": false
   },
   "outputs": [
    {
     "name": "stdout",
     "output_type": "stream",
     "text": [
      "-rw-rw-r-- 1 sam sam 255M May 14 19:16 pear_merged-AS_Pool1_redo.assembled.dmult_maxee1_noN.unique.filter.good.filter.fasta\r\n"
     ]
    }
   ],
   "source": [
    "qcFile7 = os.path.splitext(qcFile6)[0] + '.filter.fasta'\n",
    "!ls -thlc $qcFile7"
   ]
  },
  {
   "cell_type": "markdown",
   "metadata": {},
   "source": [
    "## Deunique seqs"
   ]
  },
  {
   "cell_type": "code",
   "execution_count": 28,
   "metadata": {
    "collapsed": false
   },
   "outputs": [
    {
     "name": "stdout",
     "output_type": "stream",
     "text": [
      "mothur v.1.39.5\r\n",
      "Last updated: 3/20/2017\r\n",
      "\r\n",
      "by\r\n",
      "Patrick D. Schloss\r\n",
      "\r\n",
      "Department of Microbiology & Immunology\r\n",
      "University of Michigan\r\n",
      "http://www.mothur.org\r\n",
      "\r\n",
      "When using, please cite:\r\n",
      "Schloss, P.D., et al., Introducing mothur: Open-source, platform-independent, community-supported software for describing and comparing microbial communities. Appl Environ Microbiol, 2009. 75(23):7537-41.\r\n",
      "\r\n",
      "Distributed under the GNU General Public License\r\n",
      "\r\n",
      "Type 'help()' for information on the commands that are available\r\n",
      "\r\n",
      "For questions and analysis support, please visit our forum at https://www.mothur.org/forum\r\n",
      "\r\n",
      "Type 'quit()' to exit program\r\n",
      "\r\n",
      "\r\n",
      "\r\n",
      "mothur > deunique.seqs(fasta=pear_merged-AS_Pool1_redo.assembled.dmult_maxee1_noN.unique.filter.good.filter.fasta, name=pear_merged-AS_Pool1_redo.assembled.dmult_maxee1_noN.names)\r\n",
      "\r\n",
      "Output File Names: \r\n",
      "pear_merged-AS_Pool1_redo.assembled.dmult_maxee1_noN.unique.filter.good.filter.redundant.fasta\r\n",
      "\r\n",
      "\r\n",
      "mothur > quit()\r\n"
     ]
    }
   ],
   "source": [
    "cmd = 'mothur \"#deunique.seqs(fasta={}, name={})\"'.format(qcFile7, nameFile)\n",
    "!$cmd | tail -n 30"
   ]
  },
  {
   "cell_type": "markdown",
   "metadata": {},
   "source": [
    "### Final QC-ed file"
   ]
  },
  {
   "cell_type": "code",
   "execution_count": 29,
   "metadata": {
    "collapsed": true
   },
   "outputs": [],
   "source": [
    "qcFile8 = os.path.splitext(qcFile7)[0] + '.redundant.fasta'\n",
    "qcFinal = 'finalQC.fasta'\n",
    "!perl -pe 's/[-.]//g if ! /^>/' $qcFile8 > $qcFinal"
   ]
  },
  {
   "cell_type": "code",
   "execution_count": 30,
   "metadata": {
    "collapsed": false
   },
   "outputs": [
    {
     "name": "stdout",
     "output_type": "stream",
     "text": [
      "\r\n",
      "Using 20 processors.\r\n",
      "\r\n",
      "\t\tStart\tEnd\tNBases\tAmbigs\tPolymer\tNumSeqs\r\n",
      "Minimum:\t1\t218\t218\t0\t3\t1\r\n",
      "2.5%-tile:\t1\t223\t223\t0\t4\t14245\r\n",
      "25%-tile:\t1\t253\t253\t0\t4\t142447\r\n",
      "Median: \t1\t253\t253\t0\t5\t284894\r\n",
      "75%-tile:\t1\t253\t253\t0\t6\t427341\r\n",
      "97.5%-tile:\t1\t254\t254\t0\t7\t555543\r\n",
      "Maximum:\t1\t337\t337\t0\t8\t569787\r\n",
      "Mean:\t1\t252.195\t252.195\t0\t5.0468\r\n",
      "# of Seqs:\t569787\r\n",
      "\r\n",
      "Output File Names: \r\n",
      "finalQC.summary\r\n",
      "\r\n",
      "It took 0 secs to summarize 569787 sequences.\r\n",
      "\r\n",
      "mothur > quit()\r\n"
     ]
    }
   ],
   "source": [
    "cmd = 'mothur \"#summary.seqs(fasta={}, processors={})\"'.format(qcFinal, nprocs)\n",
    "!$cmd | tail -n 20"
   ]
  },
  {
   "cell_type": "code",
   "execution_count": 31,
   "metadata": {
    "collapsed": false
   },
   "outputs": [
    {
     "name": "stdout",
     "output_type": "stream",
     "text": [
      ">MR.A.13C-Van.D30.R3_Frac26_2\r\n",
      "TCCGGAGGGTGCAAGCGTTAATCGGAATTACTGGGCGTAAAGCGCGCGTAGGCGGTTTGGTAAGTTATCTGTGAAATCCCTGGGCTCAACCTGGGCAGGTCAGTTAATACTGCTGTACTCGAGTATGGGAGAGGGTAGTGGAATTTCCGGTGTAGCGGTGAAATGCGTAGAGATCGGAAGGACCACCAGTGGCGAAGGCGGCTACCTGGCCTAAGACGGACGCTGAGGCCCGACAGCGTGGGGAGCAAACCGG\r\n",
      ">MR.A.13C-Van.D30.R3_Frac7_3\r\n",
      "TACGAAGGGGGCTAGCGTTGCTCGGAAGCACTGGGCGTAAAGCGCGCGTAGGCGGCGTTGTAAGTCGGGGGTGAAAGCCTGTGGCTCAACCACAGAATGGCCTTCGATACTGGGACGCTTGAGTATGGTAGAGGTTGGTGGAACTGCGAGTGTAGAGGTGAAATTCGTAGATATTCGCAAGAACACCGGTGGCGAAGGCGGCCAACTGGACCATTACTGACGCTGAGGCGCGAAAGCGTGGGGAGCAAACAGG\r\n",
      ">MR.A.13C-Van.D30.R3_Frac20_4\r\n",
      "TCCGAAGGGTGCGAGCGTTAATCGGAATTACTGGGCGTAAAGCGCGCGCAGGCGGCTTGTTAAGTCCGATGTGAAATCCCCGGGCTCAACCTGGGAACTGCATTGGCTACTGGCAAGCTAGAGTATGGCAGAGGGGGGTGGAATTCCACGTGTAGCGGTGAAATGCGTAGAGATGTGGAGGAATACCGGTGGCGAAGGCGGCCCCCTGGGCCGATACTGACGCGGAGGCGCGAAAGCGTGGGGAGCAAACCGG\r\n"
     ]
    }
   ],
   "source": [
    "!head -n 6 $qcFinal"
   ]
  },
  {
   "cell_type": "markdown",
   "metadata": {},
   "source": [
    "## Summary of number of seqs per sample"
   ]
  },
  {
   "cell_type": "code",
   "execution_count": 32,
   "metadata": {
    "collapsed": true
   },
   "outputs": [],
   "source": [
    "re1 = re.compile('_[0-9]+$')\n",
    "\n",
    "qcFinalSum = os.path.splitext(qcFinal)[0] + '.summary'\n",
    "\n",
    "samp_count = dict()\n",
    "with open(qcFinalSum, 'r') as inFH:\n",
    "    for line in inFH:\n",
    "        if line.startswith('seqname'):\n",
    "            continue\n",
    "        line = line.rstrip().split('\\t')\n",
    "        line[0] = re.sub(re1, '', line[0])\n",
    "        try:\n",
    "            samp_count[line[0]] += 1\n",
    "        except KeyError:\n",
    "            samp_count[line[0]] = 1"
   ]
  },
  {
   "cell_type": "code",
   "execution_count": 33,
   "metadata": {
    "collapsed": false
   },
   "outputs": [
    {
     "data": {
      "text/html": [
       "<div>\n",
       "<style scoped>\n",
       "    .dataframe tbody tr th:only-of-type {\n",
       "        vertical-align: middle;\n",
       "    }\n",
       "\n",
       "    .dataframe tbody tr th {\n",
       "        vertical-align: top;\n",
       "    }\n",
       "\n",
       "    .dataframe thead th {\n",
       "        text-align: right;\n",
       "    }\n",
       "</style>\n",
       "<table border=\"1\" class=\"dataframe\">\n",
       "  <thead>\n",
       "    <tr style=\"text-align: right;\">\n",
       "      <th></th>\n",
       "      <th>Sample</th>\n",
       "      <th>seq_count</th>\n",
       "    </tr>\n",
       "  </thead>\n",
       "  <tbody>\n",
       "    <tr>\n",
       "      <th>0</th>\n",
       "      <td>MR.A.13C-Van.D30.R3_Frac26</td>\n",
       "      <td>29552</td>\n",
       "    </tr>\n",
       "    <tr>\n",
       "      <th>1</th>\n",
       "      <td>MR.A.13C-Van.D30.R3_Frac7</td>\n",
       "      <td>51367</td>\n",
       "    </tr>\n",
       "    <tr>\n",
       "      <th>2</th>\n",
       "      <td>MR.A.13C-Van.D30.R3_Frac20</td>\n",
       "      <td>26476</td>\n",
       "    </tr>\n",
       "    <tr>\n",
       "      <th>3</th>\n",
       "      <td>MR.A.13C-Van.D30.R3_Frac27</td>\n",
       "      <td>21101</td>\n",
       "    </tr>\n",
       "    <tr>\n",
       "      <th>4</th>\n",
       "      <td>MR.A.13C-Van.D30.R3_Frac13</td>\n",
       "      <td>45066</td>\n",
       "    </tr>\n",
       "    <tr>\n",
       "      <th>5</th>\n",
       "      <td>MR.A.13C-Van.D30.R3_Frac11</td>\n",
       "      <td>33211</td>\n",
       "    </tr>\n",
       "    <tr>\n",
       "      <th>6</th>\n",
       "      <td>MR.A.13C-Van.D30.R3_Frac12</td>\n",
       "      <td>24025</td>\n",
       "    </tr>\n",
       "    <tr>\n",
       "      <th>7</th>\n",
       "      <td>MR.A.13C-Van.D30.R3_Frac6</td>\n",
       "      <td>61418</td>\n",
       "    </tr>\n",
       "    <tr>\n",
       "      <th>8</th>\n",
       "      <td>MR.A.13C-Van.D30.R3_Frac17</td>\n",
       "      <td>15644</td>\n",
       "    </tr>\n",
       "    <tr>\n",
       "      <th>9</th>\n",
       "      <td>MR.A.13C-Van.D30.R3_Frac10</td>\n",
       "      <td>33039</td>\n",
       "    </tr>\n",
       "    <tr>\n",
       "      <th>10</th>\n",
       "      <td>MR.A.13C-Van.D30.R3_Frac9</td>\n",
       "      <td>40390</td>\n",
       "    </tr>\n",
       "    <tr>\n",
       "      <th>11</th>\n",
       "      <td>MR.A.13C-Van.D30.R3_Frac22</td>\n",
       "      <td>15918</td>\n",
       "    </tr>\n",
       "    <tr>\n",
       "      <th>12</th>\n",
       "      <td>MR.A.13C-Van.D30.R3_Frac23</td>\n",
       "      <td>16933</td>\n",
       "    </tr>\n",
       "    <tr>\n",
       "      <th>13</th>\n",
       "      <td>MR.A.13C-Van.D30.R3_Frac15_bad</td>\n",
       "      <td>47</td>\n",
       "    </tr>\n",
       "    <tr>\n",
       "      <th>14</th>\n",
       "      <td>MR.A.13C-Van.D30.R3_Frac8</td>\n",
       "      <td>31536</td>\n",
       "    </tr>\n",
       "    <tr>\n",
       "      <th>15</th>\n",
       "      <td>MR.A.13C-Van.D30.R3_Frac24</td>\n",
       "      <td>16592</td>\n",
       "    </tr>\n",
       "    <tr>\n",
       "      <th>16</th>\n",
       "      <td>MR.A.13C-Van.D30.R3_Frac19</td>\n",
       "      <td>18988</td>\n",
       "    </tr>\n",
       "    <tr>\n",
       "      <th>17</th>\n",
       "      <td>MR.A.13C-Van.D30.R3_Frac28</td>\n",
       "      <td>33207</td>\n",
       "    </tr>\n",
       "    <tr>\n",
       "      <th>18</th>\n",
       "      <td>MR.A.13C-Van.D30.R3_Frac18</td>\n",
       "      <td>21544</td>\n",
       "    </tr>\n",
       "    <tr>\n",
       "      <th>19</th>\n",
       "      <td>MR.A.13C-Van.D30.R3_Frac21</td>\n",
       "      <td>16330</td>\n",
       "    </tr>\n",
       "    <tr>\n",
       "      <th>20</th>\n",
       "      <td>MR.A.13C-Van.D30.R3_Frac25</td>\n",
       "      <td>15801</td>\n",
       "    </tr>\n",
       "    <tr>\n",
       "      <th>21</th>\n",
       "      <td>MR.A.13C-Van.D30.R3_NC_old</td>\n",
       "      <td>1525</td>\n",
       "    </tr>\n",
       "    <tr>\n",
       "      <th>22</th>\n",
       "      <td>MR.A.13C-Van.D30.R3_Frac16_bad</td>\n",
       "      <td>36</td>\n",
       "    </tr>\n",
       "    <tr>\n",
       "      <th>23</th>\n",
       "      <td>MR.A.13C-Van.D30.R3_Frac14_bad</td>\n",
       "      <td>41</td>\n",
       "    </tr>\n",
       "  </tbody>\n",
       "</table>\n",
       "</div>"
      ],
      "text/plain": [
       "                            Sample  seq_count\n",
       "0       MR.A.13C-Van.D30.R3_Frac26      29552\n",
       "1        MR.A.13C-Van.D30.R3_Frac7      51367\n",
       "2       MR.A.13C-Van.D30.R3_Frac20      26476\n",
       "3       MR.A.13C-Van.D30.R3_Frac27      21101\n",
       "4       MR.A.13C-Van.D30.R3_Frac13      45066\n",
       "5       MR.A.13C-Van.D30.R3_Frac11      33211\n",
       "6       MR.A.13C-Van.D30.R3_Frac12      24025\n",
       "7        MR.A.13C-Van.D30.R3_Frac6      61418\n",
       "8       MR.A.13C-Van.D30.R3_Frac17      15644\n",
       "9       MR.A.13C-Van.D30.R3_Frac10      33039\n",
       "10       MR.A.13C-Van.D30.R3_Frac9      40390\n",
       "11      MR.A.13C-Van.D30.R3_Frac22      15918\n",
       "12      MR.A.13C-Van.D30.R3_Frac23      16933\n",
       "13  MR.A.13C-Van.D30.R3_Frac15_bad         47\n",
       "14       MR.A.13C-Van.D30.R3_Frac8      31536\n",
       "15      MR.A.13C-Van.D30.R3_Frac24      16592\n",
       "16      MR.A.13C-Van.D30.R3_Frac19      18988\n",
       "17      MR.A.13C-Van.D30.R3_Frac28      33207\n",
       "18      MR.A.13C-Van.D30.R3_Frac18      21544\n",
       "19      MR.A.13C-Van.D30.R3_Frac21      16330\n",
       "20      MR.A.13C-Van.D30.R3_Frac25      15801\n",
       "21      MR.A.13C-Van.D30.R3_NC_old       1525\n",
       "22  MR.A.13C-Van.D30.R3_Frac16_bad         36\n",
       "23  MR.A.13C-Van.D30.R3_Frac14_bad         41"
      ]
     },
     "execution_count": 33,
     "metadata": {},
     "output_type": "execute_result"
    }
   ],
   "source": [
    "# converting to dataframe\n",
    "df_seq_cnt = pd.DataFrame.from_dict(samp_count, orient='index')\n",
    "df_seq_cnt.index.name = 'Sample'\n",
    "df_seq_cnt.reset_index(inplace=True)\n",
    "df_seq_cnt.columns = ['Sample', 'seq_count']\n",
    "df_seq_cnt"
   ]
  },
  {
   "cell_type": "code",
   "execution_count": 34,
   "metadata": {
    "collapsed": false
   },
   "outputs": [
    {
     "data": {
      "image/png": "[encoded data removed]"
     },
     "metadata": {},
     "output_type": "display_data"
    }
   ],
   "source": [
    "%%R -i df_seq_cnt -w 800 -h 350\n",
    "# plotting all\n",
    "\n",
    "df_seq_cnt$seq_count = as.numeric(df_seq_cnt$seq_count)\n",
    "\n",
    "\n",
    "df_seq_cnt = df_seq_cnt %>% \n",
    "    #mutate(H2O = grepl('_F0$', Sample)) %>%\n",
    "    mutate(rank = min_rank(seq_count)) %>%\n",
    "    arrange(desc(rank))\n",
    "\n",
    "df_seq_cnt$Sample = factor(df_seq_cnt$Sample, levels=df_seq_cnt$Sample)\n",
    "\n",
    "ggplot(df_seq_cnt, aes(Sample, seq_count)) +\n",
    "    geom_bar(stat='identity') +\n",
    "    theme_bw() +\n",
    "    theme(\n",
    "        text = element_text(size=16),\n",
    "        axis.text.x = element_text(angle=45, hjust=1)\n",
    "    )"
   ]
  },
  {
   "cell_type": "code",
   "execution_count": 36,
   "metadata": {
    "collapsed": false
   },
   "outputs": [
    {
     "data": {
      "text/plain": [
       "                           Sample seq_count rank\n",
       "21     MR.A.13C-Van.D30.R3_NC_old      1525    4\n",
       "22 MR.A.13C-Van.D30.R3_Frac15_bad        47    3\n",
       "23 MR.A.13C-Van.D30.R3_Frac14_bad        41    2\n",
       "24 MR.A.13C-Van.D30.R3_Frac16_bad        36    1\n"
      ]
     },
     "metadata": {},
     "output_type": "display_data"
    }
   ],
   "source": [
    "%%R\n",
    "df_seq_cnt[df_seq_cnt$seq_count < 10000,]"
   ]
  },
  {
   "cell_type": "code",
   "execution_count": null,
   "metadata": {
    "collapsed": true
   },
   "outputs": [],
   "source": []
  }
 ],
 "metadata": {
  "anaconda-cloud": {},
  "hide_input": true,
  "kernelspec": {
   "display_name": "Python 3",
   "language": "python",
   "name": "python3"
  },
  "language_info": {
   "codemirror_mode": {
    "name": "ipython",
    "version": 3
   },
   "file_extension": ".py",
   "mimetype": "text/x-python",
   "name": "python",
   "nbconvert_exporter": "python",
   "pygments_lexer": "ipython3",
   "version": "3.6.4"
  },
  "notify_time": "5"
 },
 "nbformat": 4,
 "nbformat_minor": 1
}
