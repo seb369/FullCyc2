{
 "cells": [
  {
   "cell_type": "markdown",
   "metadata": {},
   "source": [
    "# Description\n",
    "\n",
    "* Quality control on MiSeq run data\n",
    "  * post-merging\n",
    "  * post-demultiplexing"
   ]
  },
  {
   "cell_type": "markdown",
   "metadata": {},
   "source": [
    "# Setting variables"
   ]
  },
  {
   "cell_type": "code",
   "execution_count": 1,
   "metadata": {
    "collapsed": true
   },
   "outputs": [],
   "source": [
    "import os\n",
    "\n",
    "baseDir = '/home/seq_data/fullCyc2/amplicon/515F-806R/final_dataset/library_QC/fullCyc2_lib4'\n",
    "workDir = os.path.join(baseDir, 'QC')\n",
    "seqFile = os.path.join(baseDir, 'pear_merged-fullCyc2_lib4.assembled.dmult.fastq')\n",
    "\n",
    "# number of processors\n",
    "nprocs = 10\n",
    "\n",
    "# max expected error\n",
    "maxee = 1"
   ]
  },
  {
   "cell_type": "markdown",
   "metadata": {},
   "source": [
    "# Init"
   ]
  },
  {
   "cell_type": "code",
   "execution_count": 2,
   "metadata": {
    "collapsed": true
   },
   "outputs": [],
   "source": [
    "import re\n",
    "import pandas as pd"
   ]
  },
  {
   "cell_type": "code",
   "execution_count": 3,
   "metadata": {
    "collapsed": false
   },
   "outputs": [],
   "source": [
    "%load_ext rpy2.ipython\n",
    "#%load_ext pushnote"
   ]
  },
  {
   "cell_type": "code",
   "execution_count": 4,
   "metadata": {
    "collapsed": false
   },
   "outputs": [
    {
     "name": "stderr",
     "output_type": "stream",
     "text": [
      "/home/sam/anaconda3/lib/python3.6/site-packages/rpy2/rinterface/__init__.py:145: RRuntimeWarning: \n",
      "Attaching package: ‘dplyr’\n",
      "\n",
      "\n",
      "  warnings.warn(x, RRuntimeWarning)\n",
      "/home/sam/anaconda3/lib/python3.6/site-packages/rpy2/rinterface/__init__.py:145: RRuntimeWarning: The following objects are masked from ‘package:stats’:\n",
      "\n",
      "    filter, lag\n",
      "\n",
      "\n",
      "  warnings.warn(x, RRuntimeWarning)\n",
      "/home/sam/anaconda3/lib/python3.6/site-packages/rpy2/rinterface/__init__.py:145: RRuntimeWarning: The following objects are masked from ‘package:base’:\n",
      "\n",
      "    intersect, setdiff, setequal, union\n",
      "\n",
      "\n",
      "  warnings.warn(x, RRuntimeWarning)\n",
      "/home/sam/anaconda3/lib/python3.6/site-packages/rpy2/rinterface/__init__.py:145: RRuntimeWarning: \n",
      "Attaching package: ‘gridExtra’\n",
      "\n",
      "\n",
      "  warnings.warn(x, RRuntimeWarning)\n",
      "/home/sam/anaconda3/lib/python3.6/site-packages/rpy2/rinterface/__init__.py:145: RRuntimeWarning: The following object is masked from ‘package:dplyr’:\n",
      "\n",
      "    combine\n",
      "\n",
      "\n",
      "  warnings.warn(x, RRuntimeWarning)\n"
     ]
    }
   ],
   "source": [
    "%%R\n",
    "library(ggplot2)\n",
    "library(dplyr)\n",
    "library(tidyr)\n",
    "library(gridExtra)"
   ]
  },
  {
   "cell_type": "code",
   "execution_count": 5,
   "metadata": {
    "collapsed": false
   },
   "outputs": [
    {
     "name": "stdout",
     "output_type": "stream",
     "text": [
      "/home/seq_data/fullCyc2/amplicon/515F-806R/final_dataset/library_QC/fullCyc2_lib4/QC\n"
     ]
    }
   ],
   "source": [
    "if not os.path.isdir(workDir):\n",
    "    os.makedirs(workDir)\n",
    "%cd $workDir"
   ]
  },
  {
   "cell_type": "code",
   "execution_count": 6,
   "metadata": {
    "collapsed": false
   },
   "outputs": [
    {
     "name": "stdout",
     "output_type": "stream",
     "text": [
      "File exists: /home/seq_data/fullCyc2/amplicon/515F-806R/final_dataset/library_QC/fullCyc2_lib4/pear_merged-fullCyc2_lib4.assembled.dmult.fastq\n"
     ]
    }
   ],
   "source": [
    "# symlinking demult seq file into CQ\n",
    "tmp = os.path.join(baseDir, seqFile)\n",
    "if not os.path.isfile(seqFile):\n",
    "    tmp2 = os.path.split(tmp)[1]\n",
    "    os.symlink(tmp, tmp2)\n",
    "else:\n",
    "    print ('File exists: {}'.format(os.path.join(workDir, seqFile)))"
   ]
  },
  {
   "cell_type": "markdown",
   "metadata": {},
   "source": [
    "# Merged read quality filtering"
   ]
  },
  {
   "cell_type": "markdown",
   "metadata": {},
   "source": [
    "## Discard sequences that exceed max expected error theshold"
   ]
  },
  {
   "cell_type": "code",
   "execution_count": 7,
   "metadata": {
    "collapsed": false
   },
   "outputs": [
    {
     "data": {
      "text/plain": [
       "'pear_merged-fullCyc2_lib4.assembled.dmult_maxee1.fasta'"
      ]
     },
     "execution_count": 7,
     "metadata": {},
     "output_type": "execute_result"
    }
   ],
   "source": [
    "qcFile = os.path.split(seqFile)[1]\n",
    "qcFile = os.path.splitext(qcFile)[0] + '_maxee{}.fasta'.format(maxee)\n",
    "qcFile"
   ]
  },
  {
   "cell_type": "code",
   "execution_count": 8,
   "metadata": {
    "collapsed": true
   },
   "outputs": [],
   "source": [
    "%%bash -s \"$seqFile\" \"$nprocs\" \"$maxee\" \"$qcFile\"\n",
    "\n",
    "mkdir /home/sam/tmp/tmpdir1\n",
    "trap \"rm -r /home/sam/tmp/tmpdir1\" 1 2 3 15\n",
    "split -d -l 2000000 $1 /home/sam/tmp/tmpdir1/Block\n",
    "\n",
    "mkdir /home/sam/tmp/tmpdir2\n",
    "trap \"rm -r /home/sam/tmp/tmpdir2\" 1 2 3 15\n",
    "ls /home/sam/tmp/tmpdir1/Block?? | parallel --gnu -j $2 -k \"usearch -fastq_filter {} -fastq_maxee $3 \\\n",
    "-fastaout /home/sam/tmp/tmpdir2/{#}.fasta >/dev/null 2>&1 && cat /home/sam/tmp/tmpdir2/{#}.fasta\" > $4\n",
    "rm -r /home/sam/tmp/tmpdir2 /home/sam/tmp/tmpdir1"
   ]
  },
  {
   "cell_type": "code",
   "execution_count": 9,
   "metadata": {
    "collapsed": false
   },
   "outputs": [
    {
     "name": "stdout",
     "output_type": "stream",
     "text": [
      "Max expected error cutoff: 1\n",
      "Number of sequence pre-filter: 5249241\n",
      "Number of sequences post-filter: 5234000\n",
      "\n",
      ">MR.M.13C-Xyl.D6.R1_Frac19_0 orig_name=M01032:446:000000000-AW1G6:1:1101:15700:1735\n",
      "TACGTAGGGGTCTAGCGTTGTTCGGAATCACTGGGCGTAAAGCGCTCGTAGGCGGTTTCGTAAGTCAGGGGTGAAATCCC\n",
      "GGGGCTCAACCTCGGAACTGCCTTTGATACTGCCGGTCTTGAGTCCGATAGAGGTGGGTGGAATTCCTAGTGTAGAGGTG\n",
      "AAATTCGTAGATATTAGGAAGAACACCGGTGGCGAAGGCGGCCCACTGGAACGGTACTGACGCTGAGGTGCGAAAGCGTG\n",
      "GGGAGCAAACAGG\n",
      ">MR.A.13C-Ami.D3.R1_Frac6_1 orig_name=M01032:446:000000000-AW1G6:1:1101:15156:1741\n",
      "TACGTAGGGTGCGAGCGTTATTCGGAATTACTGGGCGTAAAGCGCGCGCAGGCGGTTCGGTAAGTCAGATGTGAAATCCC\n",
      "CGGGCTTAACCTGGGAACTGCATTTGTGACTGGCGGGCTAGAGTATGGCAGAGGGGGGTAGAATTCCACGTGTAGCAGTG\n"
     ]
    }
   ],
   "source": [
    "%%bash -s \"$seqFile\" \"$nprocs\" \"$maxee\" \"$qcFile\"\n",
    "\n",
    "printf \"Max expected error cutoff: \"\n",
    "echo $3\n",
    "\n",
    "printf \"Number of sequence pre-filter: \"\n",
    "grep -c \"orig_name=\" $1\n",
    "\n",
    "printf \"Number of sequences post-filter: \"\n",
    "grep -c \">\" $4\n",
    "\n",
    "echo '' \n",
    "head -n 8 $4"
   ]
  },
  {
   "cell_type": "markdown",
   "metadata": {},
   "source": [
    "## Remove seqs with 'N' characters"
   ]
  },
  {
   "cell_type": "code",
   "execution_count": 10,
   "metadata": {
    "collapsed": false
   },
   "outputs": [
    {
     "data": {
      "text/plain": [
       "'pear_merged-fullCyc2_lib4.assembled.dmult_maxee1_noN.fasta'"
      ]
     },
     "execution_count": 10,
     "metadata": {},
     "output_type": "execute_result"
    }
   ],
   "source": [
    "qcFile2 = os.path.splitext(qcFile)[0] + '_noN.fasta'\n",
    "qcFile2"
   ]
  },
  {
   "cell_type": "code",
   "execution_count": 11,
   "metadata": {
    "collapsed": false
   },
   "outputs": [
    {
     "name": "stdout",
     "output_type": "stream",
     "text": [
      "Number of sequence pre-filter: 5234000\n",
      "Number of sequences post-filter: 5234000\n"
     ]
    }
   ],
   "source": [
    "%%bash -s \"$qcFile\" \"$qcFile2\"\n",
    "\n",
    "bioawk -c fastx '{if ($seq !~ /N/){print \">\" $name \" \" $4 \"\\n\" $seq}}' $1 > $2\n",
    "\n",
    "printf \"Number of sequence pre-filter: \"\n",
    "grep -c \">\" $1\n",
    "\n",
    "printf \"Number of sequences post-filter: \"\n",
    "grep -c \">\" $2"
   ]
  },
  {
   "cell_type": "markdown",
   "metadata": {},
   "source": [
    "## Alignment-based QC with Mothur"
   ]
  },
  {
   "cell_type": "code",
   "execution_count": 12,
   "metadata": {
    "collapsed": false
   },
   "outputs": [
    {
     "name": "stdout",
     "output_type": "stream",
     "text": [
      "MR.M.13C-Xyl.D6.R1_Frac19_0\tMR.M.13C-Xyl.D6.R1_Frac19\n",
      "MR.A.13C-Ami.D3.R1_Frac6_1\tMR.A.13C-Ami.D3.R1_Frac6\n",
      "MR.F.13C-Cel.D14.R2_Frac28_3\tMR.F.13C-Cel.D14.R2_Frac28\n",
      "MR.M.13C-Xyl.D6.R1_Frac13_4\tMR.M.13C-Xyl.D6.R1_Frac13\n",
      "MR.A.13C-Ami.D3.R1_Frac24_5\tMR.A.13C-Ami.D3.R1_Frac24\n",
      "MR.A.13C-Ami.D3.R1_Frac9_6\tMR.A.13C-Ami.D3.R1_Frac9\n",
      "MR.A.13C-Ami.D3.R1_Frac9_7\tMR.A.13C-Ami.D3.R1_Frac9\n",
      "MR.F.12C-Con.D14.R1_Frac27_9\tMR.F.12C-Con.D14.R1_Frac27\n",
      "MR.M.13C-Xyl.D6.R1_Frac9_8\tMR.M.13C-Xyl.D6.R1_Frac9\n",
      "MR.M.13C-Xyl.D6.R1_Frac16_10\tMR.M.13C-Xyl.D6.R1_Frac16\n"
     ]
    }
   ],
   "source": [
    "%%bash -s \"$qcFile2\"\n",
    "# making mothur group file\n",
    "\n",
    "perl -ne 'if(/^>/){ s/>(.+)(_\\d+) .+/$1$2\\t$1/; print;}' $1 > group_file.txt\n",
    "head group_file.txt"
   ]
  },
  {
   "cell_type": "code",
   "execution_count": 13,
   "metadata": {
    "collapsed": false
   },
   "outputs": [
    {
     "name": "stdout",
     "output_type": "stream",
     "text": [
      "MR.M.13C-Xyl.D6.R1_Frac19_0\tMR.M.13C-Xyl.D6.R1_Frac19\r\n",
      "MR.A.13C-Ami.D3.R1_Frac6_1\tMR.A.13C-Ami.D3.R1_Frac6\r\n",
      "MR.F.13C-Cel.D14.R2_Frac28_3\tMR.F.13C-Cel.D14.R2_Frac28\r\n",
      "MR.M.13C-Xyl.D6.R1_Frac13_4\tMR.M.13C-Xyl.D6.R1_Frac13\r\n",
      "MR.A.13C-Ami.D3.R1_Frac24_5\tMR.A.13C-Ami.D3.R1_Frac24\r\n",
      "MR.A.13C-Ami.D3.R1_Frac9_6\tMR.A.13C-Ami.D3.R1_Frac9\r\n",
      "MR.A.13C-Ami.D3.R1_Frac9_7\tMR.A.13C-Ami.D3.R1_Frac9\r\n",
      "MR.F.12C-Con.D14.R1_Frac27_9\tMR.F.12C-Con.D14.R1_Frac27\r\n",
      "MR.M.13C-Xyl.D6.R1_Frac9_8\tMR.M.13C-Xyl.D6.R1_Frac9\r\n",
      "MR.M.13C-Xyl.D6.R1_Frac16_10\tMR.M.13C-Xyl.D6.R1_Frac16\r\n",
      "MR.F.12C-Con.D14.R1_Frac27_11\tMR.F.12C-Con.D14.R1_Frac27\r\n",
      "MR.A.13C-Ami.D3.R1_Frac9_12\tMR.A.13C-Ami.D3.R1_Frac9\r\n",
      "MR.F.12C-Con.D14.R1_Frac27_14\tMR.F.12C-Con.D14.R1_Frac27\r\n",
      "MR.M.13C-Van.D30.R1_Frac18_13\tMR.M.13C-Van.D30.R1_Frac18\r\n",
      "MR.M.13C-Van.D30.R1_Frac17_16\tMR.M.13C-Van.D30.R1_Frac17\r\n",
      "MR.M.13C-Van.D30.R1_Frac14_17\tMR.M.13C-Van.D30.R1_Frac14\r\n",
      "MR.F.13C-Xyl.D14.R3_Frac8_18\tMR.F.13C-Xyl.D14.R3_Frac8\r\n",
      "MR.F.13C-Pal.D30.R2_Frac10_19\tMR.F.13C-Pal.D30.R2_Frac10\r\n",
      "MR.M.13C-Van.D30.R1_Frac9_20\tMR.M.13C-Van.D30.R1_Frac9\r\n",
      "MR.M.13C-Van.D30.R1_Frac8_21\tMR.M.13C-Van.D30.R1_Frac8\r\n",
      "MR.M.13C-Xyl.D6.R1_Frac8_22\tMR.M.13C-Xyl.D6.R1_Frac8\r\n",
      "MR.A.13C-Ami.D14.R1_Frac22_23\tMR.A.13C-Ami.D14.R1_Frac22\r\n",
      "MR.F.13C-Xyl.D14.R3_Frac27_24\tMR.F.13C-Xyl.D14.R3_Frac27\r\n",
      "MR.M.13C-Van.D30.R1_Frac14_25\tMR.M.13C-Van.D30.R1_Frac14\r\n",
      "MR.A.13C-Ami.D3.R1_Frac11_26\tMR.A.13C-Ami.D3.R1_Frac11\r\n",
      "MR.F.13C-Xyl.D14.R3_Frac27_27\tMR.F.13C-Xyl.D14.R3_Frac27\r\n",
      "MR.A.13C-Ami.D3.R1_Frac10_28\tMR.A.13C-Ami.D3.R1_Frac10\r\n",
      "MR.F.13C-Cel.D14.R2_Frac20_29\tMR.F.13C-Cel.D14.R2_Frac20\r\n",
      "MR.F.12C-Con.D14.R1_Frac25_30\tMR.F.12C-Con.D14.R1_Frac25\r\n",
      "MR.F.13C-Xyl.D14.R3_Frac11_31\tMR.F.13C-Xyl.D14.R3_Frac11\r\n",
      "MR.M.13C-Van.D30.R1_Frac22_32\tMR.M.13C-Van.D30.R1_Frac22\r\n",
      "MR.M.13C-Van.D30.R1_Frac26_33\tMR.M.13C-Van.D30.R1_Frac26\r\n",
      "MR.M.13C-Xyl.D6.R1_Frac9_34\tMR.M.13C-Xyl.D6.R1_Frac9\r\n",
      "MR.A.13C-Ami.D3.R1_Frac13_35\tMR.A.13C-Ami.D3.R1_Frac13\r\n",
      "MR.F.13C-Xyl.D14.R3_Frac10_15\tMR.F.13C-Xyl.D14.R3_Frac10\r\n",
      "MR.A.13C-Ami.D14.R1_Frac9_37\tMR.A.13C-Ami.D14.R1_Frac9\r\n",
      "MR.A.13C-Ami.D3.R1_Frac13_38\tMR.A.13C-Ami.D3.R1_Frac13\r\n",
      "MR.M.13C-Van.D30.R1_Frac12_40\tMR.M.13C-Van.D30.R1_Frac12\r\n",
      "MR.M.13C-Xyl.D6.R1_Frac16_41\tMR.M.13C-Xyl.D6.R1_Frac16\r\n",
      "MR.A.13C-Ami.D14.R1_NC_42\tMR.A.13C-Ami.D14.R1_NC\r\n",
      "MR.A.13C-Ami.D3.R1_Frac24_43\tMR.A.13C-Ami.D3.R1_Frac24\r\n",
      "MR.F.12C-Con.D14.R1_Frac25_44\tMR.F.12C-Con.D14.R1_Frac25\r\n",
      "MR.A.13C-Ami.D3.R1_Frac13_45\tMR.A.13C-Ami.D3.R1_Frac13\r\n",
      "MR.A.13C-Ami.D3.R1_Frac19_46\tMR.A.13C-Ami.D3.R1_Frac19\r\n",
      "MR.F.13C-Cel.D14.R2_Frac27_47\tMR.F.13C-Cel.D14.R2_Frac27\r\n",
      "MR.A.13C-Ami.D3.R1_Frac6_48\tMR.A.13C-Ami.D3.R1_Frac6\r\n",
      "MR.F.13C-Xyl.D14.R3_Frac10_49\tMR.F.13C-Xyl.D14.R3_Frac10\r\n",
      "MR.M.13C-Xyl.D6.R1_Frac12_50\tMR.M.13C-Xyl.D6.R1_Frac12\r\n",
      "MR.F.12C-Con.D14.R1_Frac25_51\tMR.F.12C-Con.D14.R1_Frac25\r\n",
      "MR.M.13C-Xyl.D6.R1_Frac27_52\tMR.M.13C-Xyl.D6.R1_Frac27\r\n",
      "MR.F.13C-Xyl.D14.R3_Frac8_53\tMR.F.13C-Xyl.D14.R3_Frac8\r\n",
      "MR.F.13C-Pal.D30.R2_Frac21_54\tMR.F.13C-Pal.D30.R2_Frac21\r\n",
      "MR.F.12C-Con.D14.R1_Frac22_55\tMR.F.12C-Con.D14.R1_Frac22\r\n",
      "MR.A.13C-Ami.D14.R1_Frac18_56\tMR.A.13C-Ami.D14.R1_Frac18\r\n",
      "MR.F.13C-Pal.D30.R2_Frac7_57\tMR.F.13C-Pal.D30.R2_Frac7\r\n",
      "MR.A.13C-Ami.D3.R1_Frac23_58\tMR.A.13C-Ami.D3.R1_Frac23\r\n",
      "MR.A.13C-Ami.D14.R1_Frac8_59\tMR.A.13C-Ami.D14.R1_Frac8\r\n",
      "MR.A.13C-Ami.D14.R1_Frac11_60\tMR.A.13C-Ami.D14.R1_Frac11\r\n",
      "MR.A.13C-Ami.D3.R1_Frac16_61\tMR.A.13C-Ami.D3.R1_Frac16\r\n",
      "MR.F.13C-Pal.D30.R2_Frac25_62\tMR.F.13C-Pal.D30.R2_Frac25\r\n",
      "MR.M.13C-Van.D30.R1_Frac27_63\tMR.M.13C-Van.D30.R1_Frac27\r\n",
      "MR.A.13C-Ami.D3.R1_Frac20_64\tMR.A.13C-Ami.D3.R1_Frac20\r\n",
      "MR.F.13C-Xyl.D14.R3_Frac7_65\tMR.F.13C-Xyl.D14.R3_Frac7\r\n",
      "MR.M.13C-Van.D30.R1_Frac28_66\tMR.M.13C-Van.D30.R1_Frac28\r\n",
      "MR.A.13C-Ami.D14.R1_Frac23_67\tMR.A.13C-Ami.D14.R1_Frac23\r\n",
      "MR.F.13C-Xyl.D14.R3_Frac14_68\tMR.F.13C-Xyl.D14.R3_Frac14\r\n",
      "MR.F.13C-Pal.D30.R2_Frac24_69\tMR.F.13C-Pal.D30.R2_Frac24\r\n",
      "MR.M.13C-Xyl.D6.R1_Frac27_70\tMR.M.13C-Xyl.D6.R1_Frac27\r\n",
      "MR.A.13C-Ami.D3.R1_Frac23_71\tMR.A.13C-Ami.D3.R1_Frac23\r\n",
      "MR.A.13C-Ami.D3.R1_Frac16_72\tMR.A.13C-Ami.D3.R1_Frac16\r\n",
      "MR.F.12C-Con.D14.R1_Frac27_73\tMR.F.12C-Con.D14.R1_Frac27\r\n",
      "MR.F.13C-Cel.D14.R2_Frac18_74\tMR.F.13C-Cel.D14.R2_Frac18\r\n",
      "MR.M.13C-Xyl.D6.R1_Frac18_75\tMR.M.13C-Xyl.D6.R1_Frac18\r\n",
      "MR.M.13C-Van.D30.R1_Frac6_76\tMR.M.13C-Van.D30.R1_Frac6\r\n",
      "MR.F.13C-Xyl.D14.R3_Frac6_77\tMR.F.13C-Xyl.D14.R3_Frac6\r\n",
      "MR.F.13C-Cel.D14.R2_Frac22_78\tMR.F.13C-Cel.D14.R2_Frac22\r\n",
      "MR.M.13C-Xyl.D6.R1_Frac23_79\tMR.M.13C-Xyl.D6.R1_Frac23\r\n",
      "MR.F.12C-Con.D14.R1_Frac23_80\tMR.F.12C-Con.D14.R1_Frac23\r\n",
      "MR.A.13C-Ami.D3.R1_Frac4_81\tMR.A.13C-Ami.D3.R1_Frac4\r\n",
      "MR.M.13C-Xyl.D6.R1_Frac6_82\tMR.M.13C-Xyl.D6.R1_Frac6\r\n",
      "MR.A.13C-Ami.D14.R1_Frac11_83\tMR.A.13C-Ami.D14.R1_Frac11\r\n",
      "MR.M.13C-Van.D30.R1_Frac17_84\tMR.M.13C-Van.D30.R1_Frac17\r\n",
      "MR.F.13C-Pal.D30.R2_Frac23_85\tMR.F.13C-Pal.D30.R2_Frac23\r\n",
      "MR.M.13C-Xyl.D6.R1_Frac12_86\tMR.M.13C-Xyl.D6.R1_Frac12\r\n",
      "MR.M.13C-Xyl.D6.R1_Frac6_87\tMR.M.13C-Xyl.D6.R1_Frac6\r\n",
      "MR.F.13C-Cel.D14.R2_Frac27_88\tMR.F.13C-Cel.D14.R2_Frac27\r\n",
      "MR.A.13C-Ami.D3.R1_Frac7_89\tMR.A.13C-Ami.D3.R1_Frac7\r\n",
      "MR.M.13C-Van.D30.R1_Frac24_90\tMR.M.13C-Van.D30.R1_Frac24\r\n",
      "MR.M.13C-Xyl.D6.R1_Frac19_91\tMR.M.13C-Xyl.D6.R1_Frac19\r\n",
      "MR.F.13C-Pal.D30.R2_Frac13_39\tMR.F.13C-Pal.D30.R2_Frac13\r\n",
      "MR.M.13C-Van.D30.R1_Frac17_93\tMR.M.13C-Van.D30.R1_Frac17\r\n",
      "MR.M.13C-Xyl.D6.R1_Frac25_92\tMR.M.13C-Xyl.D6.R1_Frac25\r\n",
      "MR.F.13C-Pal.D30.R2_Frac23_95\tMR.F.13C-Pal.D30.R2_Frac23\r\n",
      "MR.A.13C-Ami.D3.R1_Frac14_96\tMR.A.13C-Ami.D3.R1_Frac14\r\n",
      "MR.M.13C-Xyl.D6.R1_Frac17_97\tMR.M.13C-Xyl.D6.R1_Frac17\r\n",
      "MR.F.13C-Xyl.D14.R3_Frac14_98\tMR.F.13C-Xyl.D14.R3_Frac14\r\n",
      "MR.F.13C-Pal.D30.R2_Frac28_99\tMR.F.13C-Pal.D30.R2_Frac28\r\n",
      "MR.F.13C-Xyl.D14.R3_Frac20_100\tMR.F.13C-Xyl.D14.R3_Frac20\r\n",
      "MR.F.12C-Con.D14.R1_Frac19_101\tMR.F.12C-Con.D14.R1_Frac19\r\n",
      "MR.F.13C-Xyl.D14.R3_Frac17_102\tMR.F.13C-Xyl.D14.R3_Frac17\r\n",
      "MR.F.13C-Xyl.D14.R3_Frac5_103\tMR.F.13C-Xyl.D14.R3_Frac5\r\n",
      "MR.M.13C-Van.D30.R1_Frac24_104\tMR.M.13C-Van.D30.R1_Frac24\r\n",
      "MR.M.13C-Xyl.D6.R1_Frac19_105\tMR.M.13C-Xyl.D6.R1_Frac19\r\n",
      "MR.F.13C-Pal.D30.R2_Frac11_106\tMR.F.13C-Pal.D30.R2_Frac11\r\n",
      "MR.A.13C-Ami.D3.R1_Frac14_107\tMR.A.13C-Ami.D3.R1_Frac14\r\n",
      "MR.A.13C-Ami.D3.R1_Frac21_94\tMR.A.13C-Ami.D3.R1_Frac21\r\n",
      "MR.A.13C-Ami.D3.R1_Frac9_109\tMR.A.13C-Ami.D3.R1_Frac9\r\n",
      "MR.F.13C-Cel.D14.R2_Frac26_108\tMR.F.13C-Cel.D14.R2_Frac26\r\n",
      "MR.F.13C-Cel.D14.R2_Frac26_111\tMR.F.13C-Cel.D14.R2_Frac26\r\n",
      "MR.M.13C-Van.D30.R1_Frac11_112\tMR.M.13C-Van.D30.R1_Frac11\r\n",
      "MR.M.13C-Xyl.D6.R1_Frac14_110\tMR.M.13C-Xyl.D6.R1_Frac14\r\n",
      "MR.M.13C-Van.D30.R1_Frac28_113\tMR.M.13C-Van.D30.R1_Frac28\r\n",
      "MR.A.13C-Ami.D3.R1_Frac7_114\tMR.A.13C-Ami.D3.R1_Frac7\r\n",
      "MR.F.13C-Xyl.D14.R3_Frac4_116\tMR.F.13C-Xyl.D14.R3_Frac4\r\n",
      "MR.A.13C-Ami.D3.R1_Frac14_117\tMR.A.13C-Ami.D3.R1_Frac14\r\n",
      "MR.A.13C-Ami.D14.R1_Frac27_118\tMR.A.13C-Ami.D14.R1_Frac27\r\n",
      "MR.A.13C-Ami.D3.R1_Frac24_119\tMR.A.13C-Ami.D3.R1_Frac24\r\n",
      "MR.M.13C-Xyl.D6.R1_Frac16_120\tMR.M.13C-Xyl.D6.R1_Frac16\r\n",
      "MR.M.13C-Xyl.D6.R1_Frac13_121\tMR.M.13C-Xyl.D6.R1_Frac13\r\n",
      "MR.F.13C-Pal.D30.R2_Frac15_122\tMR.F.13C-Pal.D30.R2_Frac15\r\n",
      "MR.A.13C-Ami.D3.R1_Frac14_123\tMR.A.13C-Ami.D3.R1_Frac14\r\n",
      "MR.M.13C-Van.D30.R1_Frac26_124\tMR.M.13C-Van.D30.R1_Frac26\r\n",
      "MR.M.13C-Van.D30.R1_Frac9_125\tMR.M.13C-Van.D30.R1_Frac9\r\n",
      "MR.A.13C-Ami.D3.R1_Frac8_126\tMR.A.13C-Ami.D3.R1_Frac8\r\n",
      "MR.A.13C-Ami.D3.R1_Frac7_127\tMR.A.13C-Ami.D3.R1_Frac7\r\n",
      "MR.F.12C-Con.D14.R1_Frac27_128\tMR.F.12C-Con.D14.R1_Frac27\r\n",
      "MR.F.13C-Cel.D14.R2_Frac26_129\tMR.F.13C-Cel.D14.R2_Frac26\r\n",
      "MR.A.13C-Ami.D3.R1_Frac17_130\tMR.A.13C-Ami.D3.R1_Frac17\r\n",
      "MR.M.13C-Xyl.D6.R1_Frac11_115\tMR.M.13C-Xyl.D6.R1_Frac11\r\n",
      "MR.M.13C-Van.D30.R1_Frac23_132\tMR.M.13C-Van.D30.R1_Frac23\r\n",
      "MR.M.13C-Van.D30.R1_Frac10_131\tMR.M.13C-Van.D30.R1_Frac10\r\n",
      "MR.A.13C-Ami.D14.R1_Frac17_134\tMR.A.13C-Ami.D14.R1_Frac17\r\n",
      "MR.A.13C-Ami.D3.R1_Frac12_135\tMR.A.13C-Ami.D3.R1_Frac12\r\n",
      "MR.F.13C-Xyl.D14.R3_Frac10_136\tMR.F.13C-Xyl.D14.R3_Frac10\r\n",
      "MR.F.13C-Xyl.D14.R3_Frac13_137\tMR.F.13C-Xyl.D14.R3_Frac13\r\n",
      "MR.A.13C-Ami.D3.R1_Frac12_138\tMR.A.13C-Ami.D3.R1_Frac12\r\n",
      "MR.A.13C-Ami.D3.R1_Frac6_139\tMR.A.13C-Ami.D3.R1_Frac6\r\n",
      "MR.M.13C-Xyl.D6.R1_Frac5_140\tMR.M.13C-Xyl.D6.R1_Frac5\r\n",
      "MR.M.13C-Van.D30.R1_Frac23_141\tMR.M.13C-Van.D30.R1_Frac23\r\n",
      "MR.A.13C-Ami.D14.R1_Frac9_142\tMR.A.13C-Ami.D14.R1_Frac9\r\n",
      "MR.M.13C-Xyl.D6.R1_Frac27_143\tMR.M.13C-Xyl.D6.R1_Frac27\r\n",
      "MR.M.13C-Van.D30.R1_Frac13_133\tMR.M.13C-Van.D30.R1_Frac13\r\n",
      "MR.A.13C-Ami.D3.R1_Frac5_144\tMR.A.13C-Ami.D3.R1_Frac5\r\n",
      "MR.A.13C-Ami.D3.R1_Frac22_145\tMR.A.13C-Ami.D3.R1_Frac22\r\n",
      "MR.A.13C-Ami.D14.R1_Frac25_147\tMR.A.13C-Ami.D14.R1_Frac25\r\n",
      "MR.F.13C-Pal.D30.R2_Frac21_148\tMR.F.13C-Pal.D30.R2_Frac21\r\n",
      "MR.M.13C-Van.D30.R1_Frac28_149\tMR.M.13C-Van.D30.R1_Frac28\r\n",
      "MR.M.13C-Van.D30.R1_Frac6_150\tMR.M.13C-Van.D30.R1_Frac6\r\n",
      "MR.M.13C-Van.D30.R1_Frac5_151\tMR.M.13C-Van.D30.R1_Frac5\r\n",
      "MR.F.13C-Pal.D30.R2_Frac6_152\tMR.F.13C-Pal.D30.R2_Frac6\r\n",
      "MR.M.13C-Van.D30.R1_Frac16_153\tMR.M.13C-Van.D30.R1_Frac16\r\n",
      "MR.M.13C-Xyl.D6.R1_Frac10_154\tMR.M.13C-Xyl.D6.R1_Frac10\r\n",
      "MR.M.13C-Van.D30.R1_Frac10_155\tMR.M.13C-Van.D30.R1_Frac10\r\n",
      "MR.A.13C-Ami.D14.R1_Frac17_146\tMR.A.13C-Ami.D14.R1_Frac17\r\n",
      "MR.M.13C-Van.D30.R1_Frac26_156\tMR.M.13C-Van.D30.R1_Frac26\r\n",
      "MR.M.13C-Xyl.D6.R1_Frac5_157\tMR.M.13C-Xyl.D6.R1_Frac5\r\n",
      "MR.M.13C-Van.D30.R1_Frac10_158\tMR.M.13C-Van.D30.R1_Frac10\r\n",
      "MR.A.13C-Ami.D14.R1_Frac17_160\tMR.A.13C-Ami.D14.R1_Frac17\r\n",
      "MR.M.13C-Xyl.D6.R1_Frac14_159\tMR.M.13C-Xyl.D6.R1_Frac14\r\n",
      "MR.M.13C-Xyl.D6.R1_Frac5_162\tMR.M.13C-Xyl.D6.R1_Frac5\r\n",
      "MR.M.13C-Xyl.D6.R1_Frac5_163\tMR.M.13C-Xyl.D6.R1_Frac5\r\n",
      "MR.F.13C-Xyl.D14.R3_Frac6_164\tMR.F.13C-Xyl.D14.R3_Frac6\r\n",
      "MR.A.13C-Ami.D3.R1_Frac23_161\tMR.A.13C-Ami.D3.R1_Frac23\r\n",
      "MR.A.13C-Ami.D3.R1_Frac27_165\tMR.A.13C-Ami.D3.R1_Frac27\r\n",
      "MR.F.13C-Cel.D14.R2_Frac19_166\tMR.F.13C-Cel.D14.R2_Frac19\r\n",
      "MR.F.12C-Con.D14.R1_Frac27_168\tMR.F.12C-Con.D14.R1_Frac27\r\n",
      "MR.M.13C-Xyl.D6.R1_Frac13_169\tMR.M.13C-Xyl.D6.R1_Frac13\r\n",
      "MR.A.13C-Ami.D3.R1_Frac13_170\tMR.A.13C-Ami.D3.R1_Frac13\r\n",
      "MR.F.12C-Con.D14.R1_Frac27_171\tMR.F.12C-Con.D14.R1_Frac27\r\n",
      "MR.M.13C-Van.D30.R1_Frac12_172\tMR.M.13C-Van.D30.R1_Frac12\r\n",
      "MR.A.13C-Ami.D3.R1_Frac15_173\tMR.A.13C-Ami.D3.R1_Frac15\r\n",
      "MR.F.13C-Xyl.D14.R3_Frac5_174\tMR.F.13C-Xyl.D14.R3_Frac5\r\n",
      "MR.F.13C-Xyl.D14.R3_Frac27_167\tMR.F.13C-Xyl.D14.R3_Frac27\r\n",
      "MR.F.12C-Con.D14.R1_Frac19_175\tMR.F.12C-Con.D14.R1_Frac19\r\n",
      "MR.A.13C-Ami.D3.R1_Frac24_176\tMR.A.13C-Ami.D3.R1_Frac24\r\n",
      "MR.F.12C-Con.D14.R1_Frac21_178\tMR.F.12C-Con.D14.R1_Frac21\r\n",
      "MR.M.13C-Van.D30.R1_Frac20_179\tMR.M.13C-Van.D30.R1_Frac20\r\n",
      "MR.A.13C-Ami.D3.R1_Frac5_180\tMR.A.13C-Ami.D3.R1_Frac5\r\n",
      "MR.F.13C-Pal.D30.R2_Frac10_181\tMR.F.13C-Pal.D30.R2_Frac10\r\n",
      "MR.F.13C-Xyl.D14.R3_Frac9_182\tMR.F.13C-Xyl.D14.R3_Frac9\r\n",
      "MR.F.13C-Cel.D14.R2_Frac22_183\tMR.F.13C-Cel.D14.R2_Frac22\r\n",
      "MR.A.13C-Ami.D3.R1_Frac10_184\tMR.A.13C-Ami.D3.R1_Frac10\r\n",
      "MR.F.13C-Xyl.D14.R3_Frac8_177\tMR.F.13C-Xyl.D14.R3_Frac8\r\n",
      "MR.F.13C-Pal.D30.R2_Frac4_186\tMR.F.13C-Pal.D30.R2_Frac4\r\n",
      "MR.M.13C-Van.D30.R1_Frac26_185\tMR.M.13C-Van.D30.R1_Frac26\r\n",
      "MR.M.13C-Van.D30.R1_Frac20_188\tMR.M.13C-Van.D30.R1_Frac20\r\n",
      "MR.F.13C-Cel.D14.R2_Frac22_189\tMR.F.13C-Cel.D14.R2_Frac22\r\n",
      "MR.F.13C-Cel.D14.R2_Frac22_190\tMR.F.13C-Cel.D14.R2_Frac22\r\n",
      "MR.M.13C-Xyl.D6.R1_Frac24_191\tMR.M.13C-Xyl.D6.R1_Frac24\r\n",
      "MR.A.13C-Ami.D14.R1_Frac14_187\tMR.A.13C-Ami.D14.R1_Frac14\r\n",
      "MR.M.13C-Xyl.D6.R1_Frac24_192\tMR.M.13C-Xyl.D6.R1_Frac24\r\n",
      "MR.A.13C-Ami.D14.R1_Frac22_193\tMR.A.13C-Ami.D14.R1_Frac22\r\n",
      "MR.A.13C-Ami.D14.R1_Frac26_195\tMR.A.13C-Ami.D14.R1_Frac26\r\n",
      "MR.A.13C-Ami.D14.R1_Frac23_196\tMR.A.13C-Ami.D14.R1_Frac23\r\n",
      "MR.A.13C-Ami.D3.R1_Frac17_197\tMR.A.13C-Ami.D3.R1_Frac17\r\n",
      "MR.A.13C-Ami.D14.R1_Frac6_198\tMR.A.13C-Ami.D14.R1_Frac6\r\n",
      "MR.F.13C-Xyl.D14.R3_Frac15_199\tMR.F.13C-Xyl.D14.R3_Frac15\r\n",
      "MR.F.13C-Pal.D30.R2_Frac26_200\tMR.F.13C-Pal.D30.R2_Frac26\r\n",
      "MR.M.13C-Xyl.D6.R1_Frac24_201\tMR.M.13C-Xyl.D6.R1_Frac24\r\n",
      "MR.M.13C-Van.D30.R1_Frac17_202\tMR.M.13C-Van.D30.R1_Frac17\r\n"
     ]
    }
   ],
   "source": [
    "! head -n 200 group_file.txt"
   ]
  },
  {
   "cell_type": "code",
   "execution_count": 14,
   "metadata": {
    "collapsed": false
   },
   "outputs": [
    {
     "name": "stdout",
     "output_type": "stream",
     "text": [
      "5212000\t2138699\r\n",
      "5213000\t2139046\r\n",
      "5214000\t2139396\r\n",
      "5215000\t2139776\r\n",
      "5216000\t2140128\r\n",
      "5217000\t2140463\r\n",
      "5218000\t2140780\r\n",
      "5219000\t2141092\r\n",
      "5220000\t2141440\r\n",
      "5221000\t2141778\r\n",
      "5222000\t2142144\r\n",
      "5223000\t2142503\r\n",
      "5224000\t2142865\r\n",
      "5225000\t2143222\r\n",
      "5226000\t2143589\r\n",
      "5227000\t2143999\r\n",
      "5228000\t2144400\r\n",
      "5229000\t2144796\r\n",
      "5230000\t2145256\r\n",
      "5231000\t2145688\r\n",
      "5232000\t2146128\r\n",
      "5233000\t2146571\r\n",
      "5234000\t2147007\r\n",
      "\r\n",
      "Output File Names: \r\n",
      "pear_merged-fullCyc2_lib4.assembled.dmult_maxee1_noN.names\r\n",
      "pear_merged-fullCyc2_lib4.assembled.dmult_maxee1_noN.unique.fasta\r\n",
      "\r\n",
      "\r\n",
      "mothur > quit()\r\n"
     ]
    }
   ],
   "source": [
    "# unique sequences\n",
    "cmd = 'mothur \"#unique.seqs(fasta={})\"'.format(qcFile2)\n",
    "!$cmd | tail -n 30"
   ]
  },
  {
   "cell_type": "code",
   "execution_count": 15,
   "metadata": {
    "collapsed": false
   },
   "outputs": [
    {
     "name": "stdout",
     "output_type": "stream",
     "text": [
      "Number of unique sequences: 2147007\n"
     ]
    }
   ],
   "source": [
    "qcFile3 = os.path.splitext(qcFile2)[0] + '.unique.fasta'\n",
    "n_uniq = !grep -c \">\" $qcFile3\n",
    "print ('Number of unique sequences: {}'.format(n_uniq[0]))"
   ]
  },
  {
   "cell_type": "code",
   "execution_count": 16,
   "metadata": {
    "collapsed": false
   },
   "outputs": [
    {
     "name": "stdout",
     "output_type": "stream",
     "text": [
      "-rw-rw-r-- 1 sam sam 241M May 15 20:04 pear_merged-fullCyc2_lib4.assembled.dmult_maxee1_noN.names\r\n"
     ]
    }
   ],
   "source": [
    "# name file produced by unique.seqs()\n",
    "nameFile = os.path.splitext(qcFile2)[0] + '.names'\n",
    "!ls -thlc $nameFile"
   ]
  },
  {
   "cell_type": "code",
   "execution_count": 17,
   "metadata": {
    "collapsed": false
   },
   "outputs": [
    {
     "name": "stdout",
     "output_type": "stream",
     "text": [
      "silva.seed_v132.tax\n",
      "silva.seed_v132.align\n",
      "README.md\n"
     ]
    },
    {
     "name": "stderr",
     "output_type": "stream",
     "text": [
      "--2018-05-15 20:04:18--  https://www.mothur.org/w/images/7/71/Silva.seed_v132.tgz\n",
      "Resolving www.mothur.org (www.mothur.org)... 141.214.120.22\n",
      "Connecting to www.mothur.org (www.mothur.org)|141.214.120.22|:443... connected.\n",
      "HTTP request sent, awaiting response... 200 OK\n",
      "Length: 19623900 (19M) [application/x-gzip]\n",
      "Saving to: ‘Silva.seed_v132.tgz’\n",
      "\n",
      "     0K .......... .......... .......... .......... ..........  0%  190M 0s\n",
      "    50K .......... .......... .......... .......... ..........  0% 1.16M 8s\n",
      "   100K .......... .......... .......... .......... ..........  0% 1.70M 9s\n",
      "   150K .......... .......... .......... .......... ..........  1%  993K 11s\n",
      "   200K .......... .......... .......... .......... ..........  1% 1.86M 11s\n",
      "   250K .......... .......... .......... .......... ..........  1% 1002K 12s\n",
      "   300K .......... .......... .......... .......... ..........  1% 1.90M 12s\n",
      "   350K .......... .......... .......... .......... ..........  2%  986K 13s\n",
      "   400K .......... .......... .......... .......... ..........  2%  996K 13s\n",
      "   450K .......... .......... .......... .......... ..........  2% 1.89M 13s\n",
      "   500K .......... .......... .......... .......... ..........  2%  992K 14s\n",
      "   550K .......... .......... .......... .......... ..........  3% 1.89M 13s\n",
      "   600K .......... .......... .......... .......... ..........  3%  988K 14s\n",
      "   650K .......... .......... .......... .......... ..........  3% 1.87M 13s\n",
      "   700K .......... .......... .......... .......... ..........  3% 1004K 14s\n",
      "   750K .......... .......... .......... .......... ..........  4%  992K 14s\n",
      "   800K .......... .......... .......... .......... ..........  4% 1.84M 14s\n",
      "   850K .......... .......... .......... .......... ..........  4% 1014K 14s\n",
      "   900K .......... .......... .......... .......... ..........  4% 1.85M 14s\n",
      "   950K .......... .......... .......... .......... ..........  5%  999K 14s\n",
      "  1000K .......... .......... .......... .......... ..........  5% 1.88M 13s\n",
      "  1050K .......... .......... .......... .......... ..........  5% 1008K 14s\n",
      "  1100K .......... .......... .......... .......... ..........  6% 1.88M 13s\n",
      "  1150K .......... .......... .......... .......... ..........  6%  991K 14s\n",
      "  1200K .......... .......... .......... .......... ..........  6% 1004K 14s\n",
      "  1250K .......... .......... .......... .......... ..........  6% 1.89M 14s\n",
      "  1300K .......... .......... .......... .......... ..........  7%  986K 14s\n",
      "  1350K .......... .......... .......... .......... ..........  7% 1.91M 13s\n",
      "  1400K .......... .......... .......... .......... ..........  7% 1002K 14s\n",
      "  1450K .......... .......... .......... .......... ..........  7% 1.88M 13s\n",
      "  1500K .......... .......... .......... .......... ..........  8% 1001K 13s\n",
      "  1550K .......... .......... .......... .......... ..........  8%  995K 14s\n",
      "  1600K .......... .......... .......... .......... ..........  8% 1.81M 13s\n",
      "  1650K .......... .......... .......... .......... ..........  8%  998K 13s\n",
      "  1700K .......... .......... .......... .......... ..........  9% 1.88M 13s\n",
      "  1750K .......... .......... .......... .......... ..........  9%  994K 13s\n",
      "  1800K .......... .......... .......... .......... ..........  9% 1.89M 13s\n",
      "  1850K .......... .......... .......... .......... ..........  9%  399K 14s\n",
      "  1900K .......... .......... .......... .......... .......... 10%  995K 14s\n",
      "  1950K .......... .......... .......... .......... .......... 10% 1.88M 14s\n",
      "  2000K .......... .......... .......... .......... .......... 10%  998K 14s\n",
      "  2050K .......... .......... .......... .......... .......... 10% 1.87M 14s\n",
      "  2100K .......... .......... .......... .......... .......... 11% 1.90M 14s\n",
      "  2150K .......... .......... .......... .......... .......... 11%  996K 14s\n",
      "  2200K .......... .......... .......... .......... .......... 11% 1.90M 13s\n",
      "  2250K .......... .......... .......... .......... .......... 12% 1002K 14s\n",
      "  2300K .......... .......... .......... .......... .......... 12% 1.89M 13s\n",
      "  2350K .......... .......... .......... .......... .......... 12% 1.89M 13s\n",
      "  2400K .......... .......... .......... .......... .......... 12%  993K 13s\n",
      "  2450K .......... .......... .......... .......... .......... 13%  981K 13s\n",
      "  2500K .......... .......... .......... .......... .......... 13% 1.87M 13s\n",
      "  2550K .......... .......... .......... .......... .......... 13% 1.91M 13s\n",
      "  2600K .......... .......... .......... .......... .......... 13% 1.73M 13s\n",
      "  2650K .......... .......... .......... .......... .......... 14%  997K 13s\n",
      "  2700K .......... .......... .......... .......... .......... 14% 1.91M 13s\n",
      "  2750K .......... .......... .......... .......... .......... 14%  997K 13s\n",
      "  2800K .......... .......... .......... .......... .......... 14%  996K 13s\n",
      "  2850K .......... .......... .......... .......... .......... 15% 1.90M 13s\n",
      "  2900K .......... .......... .......... .......... .......... 15% 1000K 13s\n",
      "  2950K .......... .......... .......... .......... .......... 15% 1.89M 13s\n",
      "  3000K .......... .......... .......... .......... .......... 15% 1003K 13s\n",
      "  3050K .......... .......... .......... .......... .......... 16% 1.88M 13s\n",
      "  3100K .......... .......... .......... .......... .......... 16% 1001K 13s\n",
      "  3150K .......... .......... .......... .......... .......... 16%  995K 13s\n",
      "  3200K .......... .......... .......... .......... .......... 16% 1.89M 13s\n",
      "  3250K .......... .......... .......... .......... .......... 17%  991K 13s\n",
      "  3300K .......... .......... .......... .......... .......... 17% 1.89M 12s\n",
      "  3350K .......... .......... .......... .......... .......... 17% 1001K 12s\n",
      "  3400K .......... .......... .......... .......... .......... 18% 1.91M 12s\n",
      "  3450K .......... .......... .......... .......... .......... 18%  996K 12s\n",
      "  3500K .......... .......... .......... .......... .......... 18% 1.88M 12s\n",
      "  3550K .......... .......... .......... .......... .......... 18% 1.90M 12s\n",
      "  3600K .......... .......... .......... .......... .......... 19% 1.88M 12s\n",
      "  3650K .......... .......... .......... .......... .......... 19% 1.88M 12s\n",
      "  3700K .......... .......... .......... .......... .......... 19% 1006K 12s\n",
      "  3750K .......... .......... .......... .......... .......... 19% 1.89M 12s\n",
      "  3800K .......... .......... .......... .......... .......... 20% 1.90M 12s\n",
      "  3850K .......... .......... .......... .......... .......... 20% 1.91M 12s\n",
      "  3900K .......... .......... .......... .......... .......... 20%  980K 12s\n",
      "  3950K .......... .......... .......... .......... .......... 20% 1.88M 12s\n",
      "  4000K .......... .......... .......... .......... .......... 21% 1.87M 12s\n",
      "  4050K .......... .......... .......... .......... .......... 21% 1.88M 11s\n",
      "  4100K .......... .......... .......... .......... .......... 21% 1.91M 11s\n",
      "  4150K .......... .......... .......... .......... .......... 21% 1.87M 11s\n",
      "  4200K .......... .......... .......... .......... .......... 22% 1015K 11s\n",
      "  4250K .......... .......... .......... .......... .......... 22% 1.90M 11s\n",
      "  4300K .......... .......... .......... .......... .......... 22% 1.83M 11s\n",
      "  4350K .......... .......... .......... .......... .......... 22% 1.91M 11s\n",
      "  4400K .......... .......... .......... .......... .......... 23% 1.86M 11s\n",
      "  4450K .......... .......... .......... .......... .......... 23% 1.87M 11s\n",
      "  4500K .......... .......... .......... .......... .......... 23% 1.89M 11s\n",
      "  4550K .......... .......... .......... .......... .......... 24%  998K 11s\n",
      "  4600K .......... .......... .......... .......... .......... 24% 1.87M 11s\n",
      "  4650K .......... .......... .......... .......... .......... 24% 1.87M 11s\n",
      "  4700K .......... .......... .......... .......... .......... 24% 1.92M 11s\n",
      "  4750K .......... .......... .......... .......... .......... 25% 1.82M 11s\n",
      "  4800K .......... .......... .......... .......... .......... 25% 1003K 11s\n",
      "  4850K .......... .......... .......... .......... .......... 25% 1.88M 10s\n",
      "  4900K .......... .......... .......... .......... .......... 25% 1.85M 10s\n",
      "  4950K .......... .......... .......... .......... .......... 26% 1.89M 10s\n",
      "  5000K .......... .......... .......... .......... .......... 26% 1.90M 10s\n",
      "  5050K .......... .......... .......... .......... .......... 26% 1.90M 10s\n",
      "  5100K .......... .......... .......... .......... .......... 26% 1.91M 10s\n",
      "  5150K .......... .......... .......... .......... .......... 27% 1.88M 10s\n",
      "  5200K .......... .......... .......... .......... .......... 27% 1.91M 10s\n",
      "  5250K .......... .......... .......... .......... .......... 27% 1.88M 10s\n",
      "  5300K .......... .......... .......... .......... .......... 27% 1.90M 10s\n",
      "  5350K .......... .......... .......... .......... .......... 28% 1.89M 10s\n",
      "  5400K .......... .......... .......... .......... .......... 28% 1.90M 10s\n",
      "  5450K .......... .......... .......... .......... .......... 28% 1.90M 10s\n",
      "  5500K .......... .......... .......... .......... .......... 28% 1.88M 10s\n",
      "  5550K .......... .......... .......... .......... .......... 29% 1.92M 10s\n",
      "  5600K .......... .......... .......... .......... .......... 29%  817K 10s\n",
      "  5650K .......... .......... .......... .......... .......... 29% 1.91M 10s\n",
      "  5700K .......... .......... .......... .......... .......... 30% 1.88M 10s\n",
      "  5750K .......... .......... .......... .......... .......... 30% 1.91M 9s\n",
      "  5800K .......... .......... .......... .......... .......... 30% 1.90M 9s\n",
      "  5850K .......... .......... .......... .......... .......... 30% 1.87M 9s\n",
      "  5900K .......... .......... .......... .......... .......... 31% 1.90M 9s\n",
      "  5950K .......... .......... .......... .......... .......... 31% 1.86M 9s\n",
      "  6000K .......... .......... .......... .......... .......... 31% 1.90M 9s\n",
      "  6050K .......... .......... .......... .......... .......... 31% 1.90M 9s\n",
      "  6100K .......... .......... .......... .......... .......... 32% 1.88M 9s\n",
      "  6150K .......... .......... .......... .......... .......... 32% 1.90M 9s\n",
      "  6200K .......... .......... .......... .......... .......... 32% 1.90M 9s\n",
      "  6250K .......... .......... .......... .......... .......... 32% 1.92M 9s\n",
      "  6300K .......... .......... .......... .......... .......... 33% 1006K 9s\n",
      "  6350K .......... .......... .......... .......... .......... 33% 1.88M 9s\n",
      "  6400K .......... .......... .......... .......... .......... 33% 1.90M 9s\n",
      "  6450K .......... .......... .......... .......... .......... 33% 1.91M 9s\n",
      "  6500K .......... .......... .......... .......... .......... 34% 1.92M 9s\n",
      "  6550K .......... .......... .......... .......... .......... 34% 1.89M 9s\n",
      "  6600K .......... .......... .......... .......... .......... 34% 1.87M 9s\n",
      "  6650K .......... .......... .......... .......... .......... 34% 1.87M 9s\n",
      "  6700K .......... .......... .......... .......... .......... 35% 1.78M 8s\n",
      "  6750K .......... .......... .......... .......... .......... 35% 1.89M 8s\n",
      "  6800K .......... .......... .......... .......... .......... 35% 1.85M 8s\n",
      "  6850K .......... .......... .......... .......... .......... 36% 1.84M 8s\n",
      "  6900K .......... .......... .......... .......... .......... 36% 1.82M 8s\n",
      "  6950K .......... .......... .......... .......... .......... 36% 1.82M 8s\n",
      "  7000K .......... .......... .......... .......... .......... 36% 1.81M 8s\n",
      "  7050K .......... .......... .......... .......... .......... 37% 1.92M 8s\n",
      "  7100K .......... .......... .......... .......... .......... 37% 1.92M 8s\n",
      "  7150K .......... .......... .......... .......... .......... 37% 1.73M 8s\n",
      "  7200K .......... .......... .......... .......... .......... 37% 1.92M 8s\n",
      "  7250K .......... .......... .......... .......... .......... 38% 1.90M 8s\n",
      "  7300K .......... .......... .......... .......... .......... 38% 1.93M 8s\n",
      "  7350K .......... .......... .......... .......... .......... 38% 1.91M 8s\n",
      "  7400K .......... .......... .......... .......... .......... 38% 1.92M 8s\n",
      "  7450K .......... .......... .......... .......... .......... 39% 1.93M 8s\n",
      "  7500K .......... .......... .......... .......... .......... 39% 1.03M 8s\n",
      "  7550K .......... .......... .......... .......... .......... 39% 12.5M 8s\n",
      "  7600K .......... .......... .......... .......... .......... 39% 1011K 8s\n",
      "  7650K .......... .......... .......... .......... .......... 40% 1.91M 8s\n",
      "  7700K .......... .......... .......... .......... .......... 40% 1.68M 8s\n",
      "  7750K .......... .......... .......... .......... .......... 40% 1.79M 8s\n",
      "  7800K .......... .......... .......... .......... .......... 40% 1.91M 8s\n",
      "  7850K .......... .......... .......... .......... .......... 41% 1.88M 7s\n",
      "  7900K .......... .......... .......... .......... .......... 41% 1.83M 7s\n",
      "  7950K .......... .......... .......... .......... .......... 41% 1.68M 7s\n",
      "  8000K .......... .......... .......... .......... .......... 42% 1.57M 7s\n",
      "  8050K .......... .......... .......... .......... .......... 42% 1.41M 7s\n",
      "  8100K .......... .......... .......... .......... .......... 42% 1.90M 7s\n",
      "  8150K .......... .......... .......... .......... .......... 42% 1.92M 7s\n",
      "  8200K .......... .......... .......... .......... .......... 43% 1.89M 7s\n",
      "  8250K .......... .......... .......... .......... .......... 43% 1.72M 7s\n",
      "  8300K .......... .......... .......... .......... .......... 43% 1.86M 7s\n",
      "  8350K .......... .......... .......... .......... .......... 43% 1.83M 7s\n",
      "  8400K .......... .......... .......... .......... .......... 44% 1.49M 7s\n",
      "  8450K .......... .......... .......... .......... .......... 44% 1.77M 7s\n",
      "  8500K .......... .......... .......... .......... .......... 44% 1.83M 7s\n",
      "  8550K .......... .......... .......... .......... .......... 44%  414K 7s\n",
      "  8600K .......... .......... .......... .......... .......... 45% 1.84M 7s\n",
      "  8650K .......... .......... .......... .......... .......... 45% 1.88M 7s\n",
      "  8700K .......... .......... .......... .......... .......... 45% 1.91M 7s\n",
      "  8750K .......... .......... .......... .......... .......... 45%  987K 7s\n",
      "  8800K .......... .......... .......... .......... .......... 46% 1.83M 7s\n",
      "  8850K .......... .......... .......... .......... .......... 46% 1.59M 7s\n",
      "  8900K .......... .......... .......... .......... .......... 46% 1.66M 7s\n",
      "  8950K .......... .......... .......... .......... .......... 46% 1.89M 7s\n",
      "  9000K .......... .......... .......... .......... .......... 47% 1.82M 7s\n",
      "  9050K .......... .......... .......... .......... .......... 47% 1.68M 7s\n",
      "  9100K .......... .......... .......... .......... .......... 47% 1.80M 7s\n",
      "  9150K .......... .......... .......... .......... .......... 48% 1.70M 7s\n",
      "  9200K .......... .......... .......... .......... .......... 48% 1.91M 7s\n",
      "  9250K .......... .......... .......... .......... .......... 48% 1.90M 7s\n",
      "  9300K .......... .......... .......... .......... .......... 48% 1.90M 6s\n",
      "  9350K .......... .......... .......... .......... .......... 49% 1.90M 6s\n",
      "  9400K .......... .......... .......... .......... .......... 49% 1.90M 6s\n",
      "  9450K .......... .......... .......... .......... .......... 49% 1.91M 6s\n",
      "  9500K .......... .......... .......... .......... .......... 49% 1.89M 6s\n",
      "  9550K .......... .......... .......... .......... .......... 50% 1.91M 6s\n",
      "  9600K .......... .......... .......... .......... .......... 50% 1.88M 6s\n",
      "  9650K .......... .......... .......... .......... .......... 50% 1.91M 6s\n",
      "  9700K .......... .......... .......... .......... .......... 50% 1.89M 6s\n",
      "  9750K .......... .......... .......... .......... .......... 51% 1.91M 6s\n",
      "  9800K .......... .......... .......... .......... .......... 51% 1.89M 6s\n",
      "  9850K .......... .......... .......... .......... .......... 51% 1.91M 6s\n",
      "  9900K .......... .......... .......... .......... .......... 51% 1.86M 6s\n",
      "  9950K .......... .......... .......... .......... .......... 52% 1.92M 6s\n",
      " 10000K .......... .......... .......... .......... .......... 52%  993K 6s\n",
      " 10050K .......... .......... .......... .......... .......... 52% 1.91M 6s\n",
      " 10100K .......... .......... .......... .......... .......... 52% 1.93M 6s\n",
      " 10150K .......... .......... .......... .......... .......... 53% 1.91M 6s\n",
      " 10200K .......... .......... .......... .......... .......... 53% 1.92M 6s\n",
      " 10250K .......... .......... .......... .......... .......... 53% 1.88M 6s\n",
      " 10300K .......... .......... .......... .......... .......... 54% 1.92M 6s\n",
      " 10350K .......... .......... .......... .......... .......... 54% 1.89M 6s\n",
      " 10400K .......... .......... .......... .......... .......... 54% 1.92M 6s\n",
      " 10450K .......... .......... .......... .......... .......... 54% 1.91M 6s\n",
      " 10500K .......... .......... .......... .......... .......... 55% 1.90M 6s\n",
      " 10550K .......... .......... .......... .......... .......... 55% 1.92M 6s\n",
      " 10600K .......... .......... .......... .......... .......... 55% 1.92M 5s\n",
      " 10650K .......... .......... .......... .......... .......... 55% 1.92M 5s\n",
      " 10700K .......... .......... .......... .......... .......... 56% 1.91M 5s\n",
      " 10750K .......... .......... .......... .......... .......... 56% 1.92M 5s\n",
      " 10800K .......... .......... .......... .......... .......... 56% 1.92M 5s\n",
      " 10850K .......... .......... .......... .......... .......... 56% 1.90M 5s\n",
      " 10900K .......... .......... .......... .......... .......... 57% 1.90M 5s\n",
      " 10950K .......... .......... .......... .......... .......... 57% 1.90M 5s\n",
      " 11000K .......... .......... .......... .......... .......... 57% 1.92M 5s\n",
      " 11050K .......... .......... .......... .......... .......... 57% 1.91M 5s\n",
      " 11100K .......... .......... .......... .......... .......... 58% 1.90M 5s\n",
      " 11150K .......... .......... .......... .......... .......... 58% 1.92M 5s\n",
      " 11200K .......... .......... .......... .......... .......... 58% 1.02M 5s\n",
      " 11250K .......... .......... .......... .......... .......... 58% 1.93M 5s\n",
      " 11300K .......... .......... .......... .......... .......... 59%  492K 5s\n",
      " 11350K .......... .......... .......... .......... .......... 59% 1.90M 5s\n",
      " 11400K .......... .......... .......... .......... .......... 59% 1.92M 5s\n",
      " 11450K .......... .......... .......... .......... .......... 60% 1.89M 5s\n",
      " 11500K .......... .......... .......... .......... .......... 60% 1.90M 5s\n",
      " 11550K .......... .......... .......... .......... .......... 60% 1020K 5s\n",
      " 11600K .......... .......... .......... .......... .......... 60% 1.92M 5s\n",
      " 11650K .......... .......... .......... .......... .......... 61% 1.92M 5s\n",
      " 11700K .......... .......... .......... .......... .......... 61% 1.93M 5s\n",
      " 11750K .......... .......... .......... .......... .......... 61% 1.92M 5s\n",
      " 11800K .......... .......... .......... .......... .......... 61% 1.92M 5s\n",
      " 11850K .......... .......... .......... .......... .......... 62% 1.92M 5s\n",
      " 11900K .......... .......... .......... .......... .......... 62% 1.92M 5s\n",
      " 11950K .......... .......... .......... .......... .......... 62% 1.93M 5s\n",
      " 12000K .......... .......... .......... .......... .......... 62% 1.89M 5s\n",
      " 12050K .......... .......... .......... .......... .......... 63% 1.91M 5s\n",
      " 12100K .......... .......... .......... .......... .......... 63% 1.92M 4s\n",
      " 12150K .......... .......... .......... .......... .......... 63% 1.90M 4s\n",
      " 12200K .......... .......... .......... .......... .......... 63% 1.92M 4s\n",
      " 12250K .......... .......... .......... .......... .......... 64% 1.89M 4s\n",
      " 12300K .......... .......... .......... .......... .......... 64% 1.90M 4s\n",
      " 12350K .......... .......... .......... .......... .......... 64% 1.90M 4s\n",
      " 12400K .......... .......... .......... .......... .......... 64%  400K 4s\n",
      " 12450K .......... .......... .......... .......... .......... 65% 1.91M 4s\n",
      " 12500K .......... .......... .......... .......... .......... 65% 1.92M 4s\n",
      " 12550K .......... .......... .......... .......... .......... 65% 1.91M 4s\n",
      " 12600K .......... .......... .......... .......... .......... 66% 1.91M 4s\n",
      " 12650K .......... .......... .......... .......... .......... 66% 1.93M 4s\n",
      " 12700K .......... .......... .......... .......... .......... 66% 1017K 4s\n",
      " 12750K .......... .......... .......... .......... .......... 66% 1.92M 4s\n",
      " 12800K .......... .......... .......... .......... .......... 67% 1.92M 4s\n",
      " 12850K .......... .......... .......... .......... .......... 67% 1.89M 4s\n",
      " 12900K .......... .......... .......... .......... .......... 67% 1.91M 4s\n",
      " 12950K .......... .......... .......... .......... .......... 67% 1.93M 4s\n",
      " 13000K .......... .......... .......... .......... .......... 68% 1.93M 4s\n",
      " 13050K .......... .......... .......... .......... .......... 68% 1.92M 4s\n",
      " 13100K .......... .......... .......... .......... .......... 68% 1.93M 4s\n",
      " 13150K .......... .......... .......... .......... .......... 68% 1.86M 4s\n",
      " 13200K .......... .......... .......... .......... .......... 69% 1.92M 4s\n",
      " 13250K .......... .......... .......... .......... .......... 69% 1.93M 4s\n",
      " 13300K .......... .......... .......... .......... .......... 69% 1.92M 4s\n",
      " 13350K .......... .......... .......... .......... .......... 69% 1.93M 4s\n",
      " 13400K .......... .......... .......... .......... .......... 70% 1.95M 4s\n",
      " 13450K .......... .......... .......... .......... .......... 70% 1.94M 4s\n",
      " 13500K .......... .......... .......... .......... .......... 70% 1.95M 4s\n",
      " 13550K .......... .......... .......... .......... .......... 70% 1.83M 4s\n",
      " 13600K .......... .......... .......... .......... .......... 71% 1.93M 3s\n",
      " 13650K .......... .......... .......... .......... .......... 71% 1.95M 3s\n",
      " 13700K .......... .......... .......... .......... .......... 71% 1.95M 3s\n",
      " 13750K .......... .......... .......... .......... .......... 72% 1.93M 3s\n",
      " 13800K .......... .......... .......... .......... .......... 72% 1.92M 3s\n",
      " 13850K .......... .......... .......... .......... .......... 72% 1.92M 3s\n",
      " 13900K .......... .......... .......... .......... .......... 72% 1.93M 3s\n",
      " 13950K .......... .......... .......... .......... .......... 73% 1.93M 3s\n",
      " 14000K .......... .......... .......... .......... .......... 73% 1020K 3s\n",
      " 14050K .......... .......... .......... .......... .......... 73% 1.93M 3s\n",
      " 14100K .......... .......... .......... .......... .......... 73% 1.89M 3s\n",
      " 14150K .......... .......... .......... .......... .......... 74% 1.93M 3s\n",
      " 14200K .......... .......... .......... .......... .......... 74% 1.92M 3s\n",
      " 14250K .......... .......... .......... .......... .......... 74% 1.92M 3s\n",
      " 14300K .......... .......... .......... .......... .......... 74% 1.91M 3s\n",
      " 14350K .......... .......... .......... .......... .......... 75% 1.90M 3s\n",
      " 14400K .......... .......... .......... .......... .......... 75% 1.93M 3s\n",
      " 14450K .......... .......... .......... .......... .......... 75% 1.91M 3s\n",
      " 14500K .......... .......... .......... .......... .......... 75% 1.90M 3s\n",
      " 14550K .......... .......... .......... .......... .......... 76% 1.93M 3s\n",
      " 14600K .......... .......... .......... .......... .......... 76% 1.92M 3s\n",
      " 14650K .......... .......... .......... .......... .......... 76% 1.93M 3s\n",
      " 14700K .......... .......... .......... .......... .......... 76% 1.92M 3s\n",
      " 14750K .......... .......... .......... .......... .......... 77% 1.94M 3s\n",
      " 14800K .......... .......... .......... .......... .......... 77% 1.91M 3s\n",
      " 14850K .......... .......... .......... .......... .......... 77% 1.92M 3s\n",
      " 14900K .......... .......... .......... .......... .......... 78% 1.92M 3s\n",
      " 14950K .......... .......... .......... .......... .......... 78% 1.94M 3s\n",
      " 15000K .......... .......... .......... .......... .......... 78% 1.93M 3s\n",
      " 15050K .......... .......... .......... .......... .......... 78% 1.95M 3s\n",
      " 15100K .......... .......... .......... .......... .......... 79% 1012K 3s\n",
      " 15150K .......... .......... .......... .......... .......... 79% 1.94M 2s\n",
      " 15200K .......... .......... .......... .......... .......... 79% 1.90M 2s\n",
      " 15250K .......... .......... .......... .......... .......... 79% 1.92M 2s\n",
      " 15300K .......... .......... .......... .......... .......... 80% 1.92M 2s\n",
      " 15350K .......... .......... .......... .......... .......... 80% 1.94M 2s\n",
      " 15400K .......... .......... .......... .......... .......... 80% 1.93M 2s\n",
      " 15450K .......... .......... .......... .......... .......... 80% 1.93M 2s\n",
      " 15500K .......... .......... .......... .......... .......... 81% 1.94M 2s\n",
      " 15550K .......... .......... .......... .......... .......... 81% 1.89M 2s\n",
      " 15600K .......... .......... .......... .......... .......... 81% 1.93M 2s\n",
      " 15650K .......... .......... .......... .......... .......... 81% 1.93M 2s\n",
      " 15700K .......... .......... .......... .......... .......... 82% 1.94M 2s\n",
      " 15750K .......... .......... .......... .......... .......... 82% 1.92M 2s\n",
      " 15800K .......... .......... .......... .......... .......... 82% 1.94M 2s\n",
      " 15850K .......... .......... .......... .......... .......... 82% 1.94M 2s\n",
      " 15900K .......... .......... .......... .......... .......... 83% 1.91M 2s\n",
      " 15950K .......... .......... .......... .......... .......... 83% 1.94M 2s\n",
      " 16000K .......... .......... .......... .......... .......... 83% 1.90M 2s\n",
      " 16050K .......... .......... .......... .......... .......... 84% 1.91M 2s\n",
      " 16100K .......... .......... .......... .......... .......... 84% 1.92M 2s\n",
      " 16150K .......... .......... .......... .......... .......... 84% 1.93M 2s\n",
      " 16200K .......... .......... .......... .......... .......... 84% 1.93M 2s\n",
      " 16250K .......... .......... .......... .......... .......... 85% 1.93M 2s\n",
      " 16300K .......... .......... .......... .......... .......... 85% 1.93M 2s\n",
      " 16350K .......... .......... .......... .......... .......... 85% 1.90M 2s\n",
      " 16400K .......... .......... .......... .......... .......... 85% 1.92M 2s\n",
      " 16450K .......... .......... .......... .......... .......... 86% 1.92M 2s\n",
      " 16500K .......... .......... .......... .......... .......... 86% 1.93M 2s\n",
      " 16550K .......... .......... .......... .......... .......... 86% 1.93M 2s\n",
      " 16600K .......... .......... .......... .......... .......... 86% 1.93M 2s\n",
      " 16650K .......... .......... .......... .......... .......... 87% 1.92M 2s\n",
      " 16700K .......... .......... .......... .......... .......... 87% 1.93M 1s\n",
      " 16750K .......... .......... .......... .......... .......... 87% 1.93M 1s\n",
      " 16800K .......... .......... .......... .......... .......... 87% 1.93M 1s\n",
      " 16850K .......... .......... .......... .......... .......... 88% 1.89M 1s\n",
      " 16900K .......... .......... .......... .......... .......... 88% 1.94M 1s\n",
      " 16950K .......... .......... .......... .......... .......... 88% 1.93M 1s\n",
      " 17000K .......... .......... .......... .......... .......... 88% 1.94M 1s\n",
      " 17050K .......... .......... .......... .......... .......... 89% 1.92M 1s\n",
      " 17100K .......... .......... .......... .......... .......... 89% 1.93M 1s\n",
      " 17150K .......... .......... .......... .......... .......... 89% 1.86M 1s\n",
      " 17200K .......... .......... .......... .......... .......... 90% 1.95M 1s\n",
      " 17250K .......... .......... .......... .......... .......... 90% 31.4M 1s\n",
      " 17300K .......... .......... .......... .......... .......... 90% 1.91M 1s\n",
      " 17350K .......... .......... .......... .......... .......... 90% 1.92M 1s\n",
      " 17400K .......... .......... .......... .......... .......... 91% 1.92M 1s\n",
      " 17450K .......... .......... .......... .......... .......... 91% 1.92M 1s\n",
      " 17500K .......... .......... .......... .......... .......... 91% 1.94M 1s\n",
      " 17550K .......... .......... .......... .......... .......... 91% 1.90M 1s\n",
      " 17600K .......... .......... .......... .......... .......... 92% 1.91M 1s\n",
      " 17650K .......... .......... .......... .......... .......... 92% 1.93M 1s\n",
      " 17700K .......... .......... .......... .......... .......... 92% 1.93M 1s\n",
      " 17750K .......... .......... .......... .......... .......... 92% 1.90M 1s\n",
      " 17800K .......... .......... .......... .......... .......... 93% 1.94M 1s\n",
      " 17850K .......... .......... .......... .......... .......... 93% 1.95M 1s\n",
      " 17900K .......... .......... .......... .......... .......... 93% 1.92M 1s\n",
      " 17950K .......... .......... .......... .......... .......... 93% 1.93M 1s\n",
      " 18000K .......... .......... .......... .......... .......... 94% 1.91M 1s\n",
      " 18050K .......... .......... .......... .......... .......... 94% 1.93M 1s\n",
      " 18100K .......... .......... .......... .......... .......... 94% 1.93M 1s\n",
      " 18150K .......... .......... .......... .......... .......... 94% 1.91M 1s\n",
      " 18200K .......... .......... .......... .......... .......... 95% 1.95M 1s\n",
      " 18250K .......... .......... .......... .......... .......... 95% 1.90M 1s\n",
      " 18300K .......... .......... .......... .......... .......... 95% 1.95M 0s\n",
      " 18350K .......... .......... .......... .......... .......... 96% 1.93M 0s\n",
      " 18400K .......... .......... .......... .......... .......... 96% 1.91M 0s\n",
      " 18450K .......... .......... .......... .......... .......... 96% 1.91M 0s\n",
      " 18500K .......... .......... .......... .......... .......... 96% 1.92M 0s\n",
      " 18550K .......... .......... .......... .......... .......... 97% 1.93M 0s\n",
      " 18600K .......... .......... .......... .......... .......... 97% 1.93M 0s\n",
      " 18650K .......... .......... .......... .......... .......... 97% 1.91M 0s\n",
      " 18700K .......... .......... .......... .......... .......... 97% 1.93M 0s\n",
      " 18750K .......... .......... .......... .......... .......... 98% 1.92M 0s\n",
      " 18800K .......... .......... .......... .......... .......... 98% 1.96M 0s\n",
      " 18850K .......... .......... .......... .......... .......... 98% 27.5M 0s\n",
      " 18900K .......... .......... .......... .......... .......... 98% 1.85M 0s\n",
      " 18950K .......... .......... .......... .......... .......... 99% 2.06M 0s\n",
      " 19000K .......... .......... .......... .......... .......... 99% 1.94M 0s\n",
      " 19050K .......... .......... .......... .......... .......... 99% 15.9M 0s\n",
      " 19100K .......... .......... .......... .......... .......... 99% 1.93M 0s\n",
      " 19150K .......... ...                                        100% 63.1M=11s\n",
      "\n",
      "2018-05-15 20:04:30 (1.64 MB/s) - ‘Silva.seed_v132.tgz’ saved [19623900/19623900]\n",
      "\n"
     ]
    }
   ],
   "source": [
    "%%bash \n",
    "# Remove database if already exsists\n",
    "if [ -d mothur_silva_db ]; then\n",
    "    rm -rf mothur_silva_db\n",
    "fi\n",
    "\n",
    "#if ! [ -d mothur_silva_db ]; then\n",
    "#    mkdir mothur_silva_db\n",
    "#fi\n",
    "\n",
    "mkdir mothur_silva_db\n",
    "cd mothur_silva_db\n",
    "\n",
    "# Download mothur recreatd SEED database release 132.\n",
    "wget https://www.mothur.org/w/images/7/71/Silva.seed_v132.tgz\n",
    "#wget https://www.mothur.org/w/images/a/a4/Silva.seed_v128.tgz\n",
    "tar -xvzf Silva.seed_v132.tgz\n",
    "rm Silva.seed_v132.tgz"
   ]
  },
  {
   "cell_type": "code",
   "execution_count": 18,
   "metadata": {
    "collapsed": false
   },
   "outputs": [
    {
     "name": "stdout",
     "output_type": "stream",
     "text": [
      "700\n",
      "800\n",
      "900\n",
      "1000\n",
      "1100\n",
      "1118\n",
      "\n",
      "\n",
      "\n",
      "Length of filtered alignment: 10180\n",
      "Number of columns removed: 39820\n",
      "Length of the original alignment: 50000\n",
      "Number of sequences used to construct filter: 11180\n",
      "\n",
      "Output File Names: \n",
      "silva.filter\n",
      "silva.seed_v132.filter.fasta\n",
      "\n",
      "\n",
      "mothur > quit()\n",
      "\n",
      "Number of sequences post-filter: 11180\n"
     ]
    }
   ],
   "source": [
    "silvaFile = 'silva.seed_v132.align'\n",
    "cmd = 'mothur \"#filter.seqs(vertical=t, fasta={}, processors={})\"'.format(silvaFile, nprocs)\n",
    "!cd mothur_silva_db; $cmd | tail -n 20\n",
    "\n",
    "silvaFileFilt = os.path.splitext(silvaFile)[0] + '.filter.fasta'\n",
    "silvaFileFilt = os.path.join('mothur_silva_db', silvaFileFilt)\n",
    "ret = !grep -c \">\" $silvaFileFilt\n",
    "print ('\\nNumber of sequences post-filter: {}'.format(ret[0]))"
   ]
  },
  {
   "cell_type": "code",
   "execution_count": 19,
   "metadata": {
    "collapsed": false
   },
   "outputs": [
    {
     "name": "stdout",
     "output_type": "stream",
     "text": [
      "214600\r\n",
      "214700\r\n",
      "214800\r\n",
      "214900\r\n",
      "215000\r\n",
      "215100\r\n",
      "215200\r\n",
      "215300\r\n",
      "215400\r\n",
      "215433\r\n",
      "[WARNING]: Some of your sequences generated alignments that eliminated too many bases, a list is provided in pear_merged-fullCyc2_lib4.assembled.dmult_maxee1_noN.unique.flip.accnos. If the reverse compliment proved to be better it was reported.\r\n",
      "It took 1276 secs to align 2147007 sequences.\r\n",
      "\r\n",
      "\r\n",
      "Output File Names: \r\n",
      "pear_merged-fullCyc2_lib4.assembled.dmult_maxee1_noN.unique.align\r\n",
      "pear_merged-fullCyc2_lib4.assembled.dmult_maxee1_noN.unique.align.report\r\n",
      "pear_merged-fullCyc2_lib4.assembled.dmult_maxee1_noN.unique.flip.accnos\r\n",
      "\r\n",
      "\r\n",
      "mothur > quit()\r\n",
      "\r\n",
      "\r\n",
      "<<<<<<<<<<<<<<<<<<<<<<<<<<<<<<^>>>>>>>>>>>>>>>>>>>>>>>>>>>>>\r\n",
      "<<<<<<<<<<<<<<<<<<<<<<<<<<<<<<^>>>>>>>>>>>>>>>>>>>>>>>>>>>>>\r\n",
      "<<<<<<<<<<<<<<<<<<<<<<<<<<<<<<^>>>>>>>>>>>>>>>>>>>>>>>>>>>>>\r\n",
      "Detected 1 [WARNING] messages, please review.\r\n",
      "<<<<<<<<<<<<<<<<<<<<<<<<<<<<<<^>>>>>>>>>>>>>>>>>>>>>>>>>>>>>\r\n",
      "<<<<<<<<<<<<<<<<<<<<<<<<<<<<<<^>>>>>>>>>>>>>>>>>>>>>>>>>>>>>\r\n",
      "<<<<<<<<<<<<<<<<<<<<<<<<<<<<<<^>>>>>>>>>>>>>>>>>>>>>>>>>>>>>\r\n"
     ]
    }
   ],
   "source": [
    "# aligning sequences\n",
    "qcFile3a = re.sub('-', '\\-', qcFile3)\n",
    "cmd = 'mothur \"#align.seqs(candidate={}, template={}, processors={}, flip=T)\"'.format(qcFile3a, silvaFileFilt, nprocs)\n",
    "!$cmd | tail -n 30"
   ]
  },
  {
   "cell_type": "code",
   "execution_count": 20,
   "metadata": {
    "collapsed": false
   },
   "outputs": [
    {
     "name": "stdout",
     "output_type": "stream",
     "text": [
      "-rw-rw-r-- 1 sam sam 21G May 15 20:26 pear_merged-fullCyc2_lib4.assembled.dmult_maxee1_noN.unique.align\r\n"
     ]
    }
   ],
   "source": [
    "qcFile4 = os.path.splitext(qcFile3)[0] + '.align'\n",
    "!ls -thlc $qcFile4 "
   ]
  },
  {
   "cell_type": "code",
   "execution_count": 21,
   "metadata": {
    "collapsed": false
   },
   "outputs": [
    {
     "name": "stdout",
     "output_type": "stream",
     "text": [
      "213300\r\n",
      "213400\r\n",
      "213500\r\n",
      "213600\r\n",
      "213700\r\n",
      "213800\r\n",
      "213900\r\n",
      "214000\r\n",
      "214100\r\n",
      "214200\r\n",
      "214300\r\n",
      "214400\r\n",
      "214500\r\n",
      "214600\r\n",
      "214700\r\n",
      "214723\r\n",
      "\r\n",
      "\r\n",
      "\r\n",
      "Length of filtered alignment: 1572\r\n",
      "Number of columns removed: 8608\r\n",
      "Length of the original alignment: 10180\r\n",
      "Number of sequences used to construct filter: 2147007\r\n",
      "\r\n",
      "Output File Names: \r\n",
      "pear_merged-fullCyc2_lib4.filter\r\n",
      "pear_merged-fullCyc2_lib4.assembled.dmult_maxee1_noN.unique.filter.fasta\r\n",
      "\r\n",
      "\r\n",
      "mothur > quit()\r\n"
     ]
    }
   ],
   "source": [
    "# filtering out gap positions in the alignment\n",
    "qcFile4a = re.sub('-', '\\-', qcFile4)\n",
    "cmd = 'mothur \"#filter.seqs(vertical=t, fasta={}, processors={})\"'.format(qcFile4a, nprocs)\n",
    "!$cmd | tail -n 30"
   ]
  },
  {
   "cell_type": "code",
   "execution_count": 22,
   "metadata": {
    "collapsed": false
   },
   "outputs": [
    {
     "name": "stdout",
     "output_type": "stream",
     "text": [
      "-rw-rw-r-- 1 sam sam 3.3G May 15 20:28 pear_merged-fullCyc2_lib4.assembled.dmult_maxee1_noN.unique.filter.fasta\r\n"
     ]
    }
   ],
   "source": [
    "qcFile5 = os.path.splitext(qcFile3)[0] + '.filter.fasta'\n",
    "!ls -thlc $qcFile5"
   ]
  },
  {
   "cell_type": "code",
   "execution_count": 23,
   "metadata": {
    "collapsed": false
   },
   "outputs": [
    {
     "name": "stdout",
     "output_type": "stream",
     "text": [
      "Using 10 processors.\r\n",
      "\r\n",
      "\t\tStart\tEnd\tNBases\tAmbigs\tPolymer\tNumSeqs\r\n",
      "Minimum:\t0\t0\t0\t0\t1\t1\r\n",
      "2.5%-tile:\t450\t1198\t253\t0\t4\t130851\r\n",
      "25%-tile:\t450\t1198\t253\t0\t4\t1308501\r\n",
      "Median: \t450\t1198\t253\t0\t5\t2617001\r\n",
      "75%-tile:\t450\t1198\t253\t0\t6\t3925501\r\n",
      "97.5%-tile:\t450\t1198\t254\t0\t8\t5103151\r\n",
      "Maximum:\t1572\t1572\t399\t0\t234\t5234000\r\n",
      "Mean:\t451.45\t1197.96\t252.423\t0\t5.08109\r\n",
      "# of unique seqs:\t2147007\r\n",
      "total # of seqs:\t5234000\r\n",
      "\r\n",
      "Output File Names: \r\n",
      "pear_merged-fullCyc2_lib4.assembled.dmult_maxee1_noN.unique.filter.summary\r\n",
      "\r\n",
      "It took 25 secs to summarize 5234000 sequences.\r\n",
      "\r\n",
      "mothur > quit()\r\n"
     ]
    }
   ],
   "source": [
    "cmd = 'mothur \"#summary.seqs(fasta={}, processors={}, name={})\"'.format(qcFile5, nprocs, nameFile)\n",
    "!$cmd | tail -n 20"
   ]
  },
  {
   "cell_type": "markdown",
   "metadata": {},
   "source": [
    "## Removing homopolymers (> 8) and screening out sequences that don't align to an amplicon region"
   ]
  },
  {
   "cell_type": "code",
   "execution_count": 27,
   "metadata": {
    "collapsed": false
   },
   "outputs": [
    {
     "name": "stdout",
     "output_type": "stream",
     "text": [
      "Processing sequence: 213100\r\n",
      "Processing sequence: 213200\r\n",
      "Processing sequence: 213300\r\n",
      "Processing sequence: 213400\r\n",
      "Processing sequence: 213500\r\n",
      "Processing sequence: 213600\r\n",
      "Processing sequence: 213700\r\n",
      "Processing sequence: 213800\r\n",
      "Processing sequence: 213900\r\n",
      "Processing sequence: 214000\r\n",
      "Processing sequence: 214100\r\n",
      "Processing sequence: 214200\r\n",
      "Processing sequence: 214300\r\n",
      "Processing sequence: 214400\r\n",
      "Processing sequence: 214500\r\n",
      "Processing sequence: 214600\r\n",
      "Processing sequence: 214700\r\n",
      "Processing sequence: 214800\r\n",
      "Processing sequence: 214841\r\n",
      "\r\n",
      "Output File Names: \r\n",
      "pear_merged-fullCyc2_lib4.assembled.dmult_maxee1_noN.unique.filter.good.fasta\r\n",
      "pear_merged-fullCyc2_lib4.assembled.dmult_maxee1_noN.unique.filter.bad.accnos\r\n",
      "pear_merged-fullCyc2_lib4.assembled.dmult_maxee1_noN.good.names\r\n",
      "group_file.good.txt\r\n",
      "\r\n",
      "\r\n",
      "It took 35 secs to screen 2147007 sequences.\r\n",
      "\r\n",
      "mothur > quit()\r\n"
     ]
    }
   ],
   "source": [
    "cmd = \"\"\"mothur '#screen.seqs(fasta={},\\\n",
    "    processors={},\\\n",
    "    name={},\\\n",
    "    group={},\\\n",
    "    start={},\\\n",
    "    end={},\\\n",
    "    maxhomop=8)'\"\"\".format(qcFile5, nprocs, nameFile, 'group_file.txt', 450, 1198)\n",
    "!$cmd | tail -n 30"
   ]
  },
  {
   "cell_type": "code",
   "execution_count": 28,
   "metadata": {
    "collapsed": false
   },
   "outputs": [
    {
     "name": "stdout",
     "output_type": "stream",
     "text": [
      "Number of sequences post-filter: 2108919\n"
     ]
    }
   ],
   "source": [
    "qcFile6 = os.path.splitext(qcFile5)[0] + '.good.fasta'\n",
    "ret = !grep -c \">\" $qcFile6\n",
    "print ('Number of sequences post-filter: {}'.format(ret[0]))"
   ]
  },
  {
   "cell_type": "code",
   "execution_count": 29,
   "metadata": {
    "collapsed": false
   },
   "outputs": [
    {
     "name": "stdout",
     "output_type": "stream",
     "text": [
      "210600\r\n",
      "210700\r\n",
      "210800\r\n",
      "210900\r\n",
      "211000\r\n",
      "211030\r\n",
      "\r\n",
      "\r\n",
      "\r\n",
      "Length of filtered alignment: 1039\r\n",
      "Number of columns removed: 533\r\n",
      "Length of the original alignment: 1572\r\n",
      "Number of sequences used to construct filter: 2108919\r\n",
      "\r\n",
      "Output File Names: \r\n",
      "pear_merged-fullCyc2_lib4.filter\r\n",
      "pear_merged-fullCyc2_lib4.assembled.dmult_maxee1_noN.unique.filter.good.filter.fasta\r\n",
      "\r\n",
      "\r\n",
      "mothur > quit()\r\n"
     ]
    }
   ],
   "source": [
    "qcFile6a = re.sub('-', '\\-', qcFile6)\n",
    "cmd = 'mothur \"#filter.seqs(fasta={}, processors={}, vertical=T)\"'.format(qcFile6a, nprocs)\n",
    "!$cmd | tail -n 20"
   ]
  },
  {
   "cell_type": "code",
   "execution_count": 30,
   "metadata": {
    "collapsed": false
   },
   "outputs": [
    {
     "name": "stdout",
     "output_type": "stream",
     "text": [
      "-rw-rw-r-- 1 sam sam 2.2G May 15 20:36 pear_merged-fullCyc2_lib4.assembled.dmult_maxee1_noN.unique.filter.good.filter.fasta\r\n"
     ]
    }
   ],
   "source": [
    "qcFile7 = os.path.splitext(qcFile6)[0] + '.filter.fasta'\n",
    "!ls -thlc $qcFile7"
   ]
  },
  {
   "cell_type": "markdown",
   "metadata": {},
   "source": [
    "## Deunique seqs"
   ]
  },
  {
   "cell_type": "code",
   "execution_count": 31,
   "metadata": {
    "collapsed": false
   },
   "outputs": [
    {
     "name": "stdout",
     "output_type": "stream",
     "text": [
      "mothur v.1.39.5\r\n",
      "Last updated: 3/20/2017\r\n",
      "\r\n",
      "by\r\n",
      "Patrick D. Schloss\r\n",
      "\r\n",
      "Department of Microbiology & Immunology\r\n",
      "University of Michigan\r\n",
      "http://www.mothur.org\r\n",
      "\r\n",
      "When using, please cite:\r\n",
      "Schloss, P.D., et al., Introducing mothur: Open-source, platform-independent, community-supported software for describing and comparing microbial communities. Appl Environ Microbiol, 2009. 75(23):7537-41.\r\n",
      "\r\n",
      "Distributed under the GNU General Public License\r\n",
      "\r\n",
      "Type 'help()' for information on the commands that are available\r\n",
      "\r\n",
      "For questions and analysis support, please visit our forum at https://www.mothur.org/forum\r\n",
      "\r\n",
      "Type 'quit()' to exit program\r\n",
      "\r\n",
      "\r\n",
      "\r\n",
      "mothur > deunique.seqs(fasta=pear_merged-fullCyc2_lib4.assembled.dmult_maxee1_noN.unique.filter.good.filter.fasta, name=pear_merged-fullCyc2_lib4.assembled.dmult_maxee1_noN.names)\r\n",
      "\r\n",
      "Output File Names: \r\n",
      "pear_merged-fullCyc2_lib4.assembled.dmult_maxee1_noN.unique.filter.good.filter.redundant.fasta\r\n",
      "\r\n",
      "\r\n",
      "mothur > quit()\r\n"
     ]
    }
   ],
   "source": [
    "cmd = 'mothur \"#deunique.seqs(fasta={}, name={})\"'.format(qcFile7, nameFile)\n",
    "!$cmd | tail -n 30"
   ]
  },
  {
   "cell_type": "markdown",
   "metadata": {},
   "source": [
    "### Final QC-ed file"
   ]
  },
  {
   "cell_type": "code",
   "execution_count": 32,
   "metadata": {
    "collapsed": true
   },
   "outputs": [],
   "source": [
    "qcFile8 = os.path.splitext(qcFile7)[0] + '.redundant.fasta'\n",
    "qcFinal = 'finalQC.fasta'\n",
    "!perl -pe 's/[-.]//g if ! /^>/' $qcFile8 > $qcFinal"
   ]
  },
  {
   "cell_type": "code",
   "execution_count": 33,
   "metadata": {
    "collapsed": false
   },
   "outputs": [
    {
     "name": "stdout",
     "output_type": "stream",
     "text": [
      "\r\n",
      "Using 10 processors.\r\n",
      "\r\n",
      "\t\tStart\tEnd\tNBases\tAmbigs\tPolymer\tNumSeqs\r\n",
      "Minimum:\t1\t202\t202\t0\t3\t1\r\n",
      "2.5%-tile:\t1\t253\t253\t0\t4\t128939\r\n",
      "25%-tile:\t1\t253\t253\t0\t4\t1289387\r\n",
      "Median: \t1\t253\t253\t0\t5\t2578773\r\n",
      "75%-tile:\t1\t253\t253\t0\t6\t3868159\r\n",
      "97.5%-tile:\t1\t254\t254\t0\t8\t5028607\r\n",
      "Maximum:\t1\t399\t399\t0\t8\t5157545\r\n",
      "Mean:\t1\t252.922\t252.922\t0\t5.07454\r\n",
      "# of Seqs:\t5157545\r\n",
      "\r\n",
      "Output File Names: \r\n",
      "finalQC.summary\r\n",
      "\r\n",
      "It took 6 secs to summarize 5157545 sequences.\r\n",
      "\r\n",
      "mothur > quit()\r\n"
     ]
    }
   ],
   "source": [
    "cmd = 'mothur \"#summary.seqs(fasta={}, processors={})\"'.format(qcFinal, nprocs)\n",
    "!$cmd | tail -n 20"
   ]
  },
  {
   "cell_type": "code",
   "execution_count": 34,
   "metadata": {
    "collapsed": false
   },
   "outputs": [
    {
     "name": "stdout",
     "output_type": "stream",
     "text": [
      ">MR.M.13C-Xyl.D6.R1_Frac19_0\r\n",
      "TACGTAGGGGTCTAGCGTTGTTCGGAATCACTGGGCGTAAAGCGCTCGTAGGCGGTTTCGTAAGTCAGGGGTGAAATCCCGGGGCTCAACCTCGGAACTGCCTTTGATACTGCCGGTCTTGAGTCCGATAGAGGTGGGTGGAATTCCTAGTGTAGAGGTGAAATTCGTAGATATTAGGAAGAACACCGGTGGCGAAGGCGGCCCACTGGAACGGTACTGACGCTGAGGTGCGAAAGCGTGGGGAGCAAACAGG\r\n",
      ">MR.A.13C-Ami.D3.R1_Frac6_1\r\n",
      "TACGTAGGGTGCGAGCGTTATTCGGAATTACTGGGCGTAAAGCGCGCGCAGGCGGTTCGGTAAGTCAGATGTGAAATCCCCGGGCTTAACCTGGGAACTGCATTTGTGACTGGCGGGCTAGAGTATGGCAGAGGGGGGTAGAATTCCACGTGTAGCAGTGAAATGCGTAGAGATGTGGAGGAATACCGATGGCGAAGGCAGCCCCCTGGGCCAATACTGACGCTGATGCACGAAAGCGTGGGGAGCAAACCGG\r\n",
      ">MR.F.13C-Cel.D14.R2_Frac28_3\r\n",
      "TACGTAGGGTGCAAGCGTTAATCGGAATTACTGGGCGTAAAGCGTGCGCAGGCGGTGATGTAAGACCGATGTGAAATCCCCGGGCTCAACCTGGGAACTGCATTGGTGACTGCATTGCTTGAGTATGGCAGAGGGGGGTAGAATTCCACGTGTAGCAGTGAAATGCGTAGAGATGTGGAGGAATACCGATGGCGAAGGCAGCCCCCTGGGCCAATACTGACGCTCATGCACGAAAGCGTGGGGAGCAAACAGG\r\n"
     ]
    }
   ],
   "source": [
    "!head -n 6 $qcFinal"
   ]
  },
  {
   "cell_type": "markdown",
   "metadata": {},
   "source": [
    "## Summary of number of seqs per sample"
   ]
  },
  {
   "cell_type": "code",
   "execution_count": 35,
   "metadata": {
    "collapsed": true
   },
   "outputs": [],
   "source": [
    "re1 = re.compile('_[0-9]+$')\n",
    "\n",
    "qcFinalSum = os.path.splitext(qcFinal)[0] + '.summary'\n",
    "\n",
    "samp_count = dict()\n",
    "with open(qcFinalSum, 'r') as inFH:\n",
    "    for line in inFH:\n",
    "        if line.startswith('seqname'):\n",
    "            continue\n",
    "        line = line.rstrip().split('\\t')\n",
    "        line[0] = re.sub(re1, '', line[0])\n",
    "        try:\n",
    "            samp_count[line[0]] += 1\n",
    "        except KeyError:\n",
    "            samp_count[line[0]] = 1"
   ]
  },
  {
   "cell_type": "code",
   "execution_count": 36,
   "metadata": {
    "collapsed": false
   },
   "outputs": [
    {
     "data": {
      "text/html": [
       "<div>\n",
       "<style scoped>\n",
       "    .dataframe tbody tr th:only-of-type {\n",
       "        vertical-align: middle;\n",
       "    }\n",
       "\n",
       "    .dataframe tbody tr th {\n",
       "        vertical-align: top;\n",
       "    }\n",
       "\n",
       "    .dataframe thead th {\n",
       "        text-align: right;\n",
       "    }\n",
       "</style>\n",
       "<table border=\"1\" class=\"dataframe\">\n",
       "  <thead>\n",
       "    <tr style=\"text-align: right;\">\n",
       "      <th></th>\n",
       "      <th>Sample</th>\n",
       "      <th>seq_count</th>\n",
       "    </tr>\n",
       "  </thead>\n",
       "  <tbody>\n",
       "    <tr>\n",
       "      <th>0</th>\n",
       "      <td>MR.M.13C-Xyl.D6.R1_Frac19</td>\n",
       "      <td>29315</td>\n",
       "    </tr>\n",
       "    <tr>\n",
       "      <th>1</th>\n",
       "      <td>MR.A.13C-Ami.D3.R1_Frac6</td>\n",
       "      <td>78634</td>\n",
       "    </tr>\n",
       "    <tr>\n",
       "      <th>2</th>\n",
       "      <td>MR.F.13C-Cel.D14.R2_Frac28</td>\n",
       "      <td>36723</td>\n",
       "    </tr>\n",
       "    <tr>\n",
       "      <th>3</th>\n",
       "      <td>MR.F.13C-Cel.D14.R2_Frac23</td>\n",
       "      <td>26141</td>\n",
       "    </tr>\n",
       "    <tr>\n",
       "      <th>4</th>\n",
       "      <td>MR.F.13C-Xyl.D14.R3_Frac8</td>\n",
       "      <td>27362</td>\n",
       "    </tr>\n",
       "    <tr>\n",
       "      <th>5</th>\n",
       "      <td>MR.F.13C-Xyl.D14.R3_Frac16</td>\n",
       "      <td>18413</td>\n",
       "    </tr>\n",
       "    <tr>\n",
       "      <th>6</th>\n",
       "      <td>MR.F.13C-Xyl.D14.R3_Frac22</td>\n",
       "      <td>17506</td>\n",
       "    </tr>\n",
       "    <tr>\n",
       "      <th>7</th>\n",
       "      <td>MR.F.13C-Xyl.D14.R3_Frac12</td>\n",
       "      <td>62853</td>\n",
       "    </tr>\n",
       "    <tr>\n",
       "      <th>8</th>\n",
       "      <td>MR.F.12C-Con.D14.R1_Frac19</td>\n",
       "      <td>69025</td>\n",
       "    </tr>\n",
       "    <tr>\n",
       "      <th>9</th>\n",
       "      <td>MR.F.13C-Pal.D30.R2_Frac8</td>\n",
       "      <td>9095</td>\n",
       "    </tr>\n",
       "    <tr>\n",
       "      <th>10</th>\n",
       "      <td>MR.F.12C-Con.D14.R1_Frac27</td>\n",
       "      <td>63569</td>\n",
       "    </tr>\n",
       "    <tr>\n",
       "      <th>11</th>\n",
       "      <td>MR.F.13C-Cel.D14.R2_Frac22</td>\n",
       "      <td>20810</td>\n",
       "    </tr>\n",
       "    <tr>\n",
       "      <th>12</th>\n",
       "      <td>MR.F.13C-Cel.D14.R2_Frac19</td>\n",
       "      <td>33911</td>\n",
       "    </tr>\n",
       "    <tr>\n",
       "      <th>13</th>\n",
       "      <td>MR.F.13C-Cel.D14.R2_Frac20</td>\n",
       "      <td>28209</td>\n",
       "    </tr>\n",
       "    <tr>\n",
       "      <th>14</th>\n",
       "      <td>MR.F.13C-Pal.D30.R2_Frac22</td>\n",
       "      <td>14689</td>\n",
       "    </tr>\n",
       "    <tr>\n",
       "      <th>15</th>\n",
       "      <td>MR.A.13C-Ami.D14.R1_Frac21</td>\n",
       "      <td>15178</td>\n",
       "    </tr>\n",
       "    <tr>\n",
       "      <th>16</th>\n",
       "      <td>MR.F.12C-Con.D14.R1_Frac26</td>\n",
       "      <td>61757</td>\n",
       "    </tr>\n",
       "    <tr>\n",
       "      <th>17</th>\n",
       "      <td>MR.M.13C-Xyl.D6.R1_Frac13</td>\n",
       "      <td>40945</td>\n",
       "    </tr>\n",
       "    <tr>\n",
       "      <th>18</th>\n",
       "      <td>MR.A.13C-Ami.D3.R1_Frac24</td>\n",
       "      <td>44809</td>\n",
       "    </tr>\n",
       "    <tr>\n",
       "      <th>19</th>\n",
       "      <td>MR.A.13C-Ami.D3.R1_Frac9</td>\n",
       "      <td>50776</td>\n",
       "    </tr>\n",
       "    <tr>\n",
       "      <th>20</th>\n",
       "      <td>MR.M.13C-Xyl.D6.R1_Frac9</td>\n",
       "      <td>46898</td>\n",
       "    </tr>\n",
       "    <tr>\n",
       "      <th>21</th>\n",
       "      <td>MR.M.13C-Xyl.D6.R1_Frac16</td>\n",
       "      <td>53864</td>\n",
       "    </tr>\n",
       "    <tr>\n",
       "      <th>22</th>\n",
       "      <td>MR.F.13C-Xyl.D14.R3_Frac24</td>\n",
       "      <td>24879</td>\n",
       "    </tr>\n",
       "    <tr>\n",
       "      <th>23</th>\n",
       "      <td>MR.M.13C-Van.D30.R1_Frac18</td>\n",
       "      <td>68342</td>\n",
       "    </tr>\n",
       "    <tr>\n",
       "      <th>24</th>\n",
       "      <td>MR.M.13C-Van.D30.R1_Frac17</td>\n",
       "      <td>38332</td>\n",
       "    </tr>\n",
       "    <tr>\n",
       "      <th>25</th>\n",
       "      <td>MR.M.13C-Van.D30.R1_Frac14</td>\n",
       "      <td>29165</td>\n",
       "    </tr>\n",
       "    <tr>\n",
       "      <th>26</th>\n",
       "      <td>MR.F.13C-Pal.D30.R2_Frac10</td>\n",
       "      <td>14723</td>\n",
       "    </tr>\n",
       "    <tr>\n",
       "      <th>27</th>\n",
       "      <td>MR.M.13C-Van.D30.R1_Frac9</td>\n",
       "      <td>53068</td>\n",
       "    </tr>\n",
       "    <tr>\n",
       "      <th>28</th>\n",
       "      <td>MR.M.13C-Van.D30.R1_Frac8</td>\n",
       "      <td>38584</td>\n",
       "    </tr>\n",
       "    <tr>\n",
       "      <th>29</th>\n",
       "      <td>MR.M.13C-Van.D30.R1_Frac7</td>\n",
       "      <td>42586</td>\n",
       "    </tr>\n",
       "    <tr>\n",
       "      <th>...</th>\n",
       "      <td>...</td>\n",
       "      <td>...</td>\n",
       "    </tr>\n",
       "    <tr>\n",
       "      <th>146</th>\n",
       "      <td>MR.M.13C-Van.D30.R1_Frac26</td>\n",
       "      <td>71068</td>\n",
       "    </tr>\n",
       "    <tr>\n",
       "      <th>147</th>\n",
       "      <td>MR.M.13C-Xyl.D6.R1_Frac12</td>\n",
       "      <td>25698</td>\n",
       "    </tr>\n",
       "    <tr>\n",
       "      <th>148</th>\n",
       "      <td>MR.M.13C-Xyl.D6.R1_Frac27</td>\n",
       "      <td>26385</td>\n",
       "    </tr>\n",
       "    <tr>\n",
       "      <th>149</th>\n",
       "      <td>MR.M.13C-Xyl.D6.R1_Frac11</td>\n",
       "      <td>41708</td>\n",
       "    </tr>\n",
       "    <tr>\n",
       "      <th>150</th>\n",
       "      <td>MR.M.13C-Xyl.D6.R1_Frac7</td>\n",
       "      <td>37622</td>\n",
       "    </tr>\n",
       "    <tr>\n",
       "      <th>151</th>\n",
       "      <td>MR.M.13C-Xyl.D6.R1_Frac14</td>\n",
       "      <td>23017</td>\n",
       "    </tr>\n",
       "    <tr>\n",
       "      <th>152</th>\n",
       "      <td>MR.M.13C-Van.D30.R1_Frac24</td>\n",
       "      <td>31941</td>\n",
       "    </tr>\n",
       "    <tr>\n",
       "      <th>153</th>\n",
       "      <td>MR.M.13C-Xyl.D6.R1_Frac23</td>\n",
       "      <td>21639</td>\n",
       "    </tr>\n",
       "    <tr>\n",
       "      <th>154</th>\n",
       "      <td>MR.M.13C-Van.D30.R1_Frac25</td>\n",
       "      <td>39826</td>\n",
       "    </tr>\n",
       "    <tr>\n",
       "      <th>155</th>\n",
       "      <td>MR.M.13C-Van.D30.R1_Frac27</td>\n",
       "      <td>42559</td>\n",
       "    </tr>\n",
       "    <tr>\n",
       "      <th>156</th>\n",
       "      <td>MR.M.13C-Xyl.D6.R1_Frac26</td>\n",
       "      <td>21342</td>\n",
       "    </tr>\n",
       "    <tr>\n",
       "      <th>157</th>\n",
       "      <td>MR.M.13C-Xyl.D6.R1_Frac18</td>\n",
       "      <td>23665</td>\n",
       "    </tr>\n",
       "    <tr>\n",
       "      <th>158</th>\n",
       "      <td>MR.M.13C-Van.D30.R1_NC</td>\n",
       "      <td>1666</td>\n",
       "    </tr>\n",
       "    <tr>\n",
       "      <th>159</th>\n",
       "      <td>MR.M.13C-Van.D30.R1_Frac16</td>\n",
       "      <td>26322</td>\n",
       "    </tr>\n",
       "    <tr>\n",
       "      <th>160</th>\n",
       "      <td>MR.F.13C-Pal.D30.R2_Frac20</td>\n",
       "      <td>10495</td>\n",
       "    </tr>\n",
       "    <tr>\n",
       "      <th>161</th>\n",
       "      <td>MR.M.13C-Van.D30.R1_Frac13</td>\n",
       "      <td>35685</td>\n",
       "    </tr>\n",
       "    <tr>\n",
       "      <th>162</th>\n",
       "      <td>MR.M.13C-Xyl.D6.R1_Frac17</td>\n",
       "      <td>38028</td>\n",
       "    </tr>\n",
       "    <tr>\n",
       "      <th>163</th>\n",
       "      <td>MR.M.13C-Van.D30.R1_Frac11</td>\n",
       "      <td>53392</td>\n",
       "    </tr>\n",
       "    <tr>\n",
       "      <th>164</th>\n",
       "      <td>MR.M.13C-Van.D30.R1_Frac10</td>\n",
       "      <td>69553</td>\n",
       "    </tr>\n",
       "    <tr>\n",
       "      <th>165</th>\n",
       "      <td>MR.M.13C-Van.D30.R1_Frac15</td>\n",
       "      <td>27983</td>\n",
       "    </tr>\n",
       "    <tr>\n",
       "      <th>166</th>\n",
       "      <td>MR.M.13C-Van.D30.R1_Frac5</td>\n",
       "      <td>46762</td>\n",
       "    </tr>\n",
       "    <tr>\n",
       "      <th>167</th>\n",
       "      <td>MR.M.13C-Van.D30.R1_Frac21</td>\n",
       "      <td>29666</td>\n",
       "    </tr>\n",
       "    <tr>\n",
       "      <th>168</th>\n",
       "      <td>MR.M.13C-Xyl.D6.R1_Frac6</td>\n",
       "      <td>29142</td>\n",
       "    </tr>\n",
       "    <tr>\n",
       "      <th>169</th>\n",
       "      <td>MR.M.13C-Xyl.D6.R1_Frac22</td>\n",
       "      <td>12244</td>\n",
       "    </tr>\n",
       "    <tr>\n",
       "      <th>170</th>\n",
       "      <td>MR.F.13C-Xyl.D14.R3_Frac20</td>\n",
       "      <td>15298</td>\n",
       "    </tr>\n",
       "    <tr>\n",
       "      <th>171</th>\n",
       "      <td>MR.M.13C-Xyl.D6.R1_Frac20</td>\n",
       "      <td>16217</td>\n",
       "    </tr>\n",
       "    <tr>\n",
       "      <th>172</th>\n",
       "      <td>MR.F.13C-Cel.D14.R2_NC</td>\n",
       "      <td>1097</td>\n",
       "    </tr>\n",
       "    <tr>\n",
       "      <th>173</th>\n",
       "      <td>MR.A.13C-Ami.D3.R1_NC</td>\n",
       "      <td>1514</td>\n",
       "    </tr>\n",
       "    <tr>\n",
       "      <th>174</th>\n",
       "      <td>MR.F.13C-Xyl.D14.R3_NC</td>\n",
       "      <td>144</td>\n",
       "    </tr>\n",
       "    <tr>\n",
       "      <th>175</th>\n",
       "      <td>MR.F.13C-Pal.D30.R2_NC</td>\n",
       "      <td>225</td>\n",
       "    </tr>\n",
       "  </tbody>\n",
       "</table>\n",
       "<p>176 rows × 2 columns</p>\n",
       "</div>"
      ],
      "text/plain": [
       "                         Sample  seq_count\n",
       "0     MR.M.13C-Xyl.D6.R1_Frac19      29315\n",
       "1      MR.A.13C-Ami.D3.R1_Frac6      78634\n",
       "2    MR.F.13C-Cel.D14.R2_Frac28      36723\n",
       "3    MR.F.13C-Cel.D14.R2_Frac23      26141\n",
       "4     MR.F.13C-Xyl.D14.R3_Frac8      27362\n",
       "5    MR.F.13C-Xyl.D14.R3_Frac16      18413\n",
       "6    MR.F.13C-Xyl.D14.R3_Frac22      17506\n",
       "7    MR.F.13C-Xyl.D14.R3_Frac12      62853\n",
       "8    MR.F.12C-Con.D14.R1_Frac19      69025\n",
       "9     MR.F.13C-Pal.D30.R2_Frac8       9095\n",
       "10   MR.F.12C-Con.D14.R1_Frac27      63569\n",
       "11   MR.F.13C-Cel.D14.R2_Frac22      20810\n",
       "12   MR.F.13C-Cel.D14.R2_Frac19      33911\n",
       "13   MR.F.13C-Cel.D14.R2_Frac20      28209\n",
       "14   MR.F.13C-Pal.D30.R2_Frac22      14689\n",
       "15   MR.A.13C-Ami.D14.R1_Frac21      15178\n",
       "16   MR.F.12C-Con.D14.R1_Frac26      61757\n",
       "17    MR.M.13C-Xyl.D6.R1_Frac13      40945\n",
       "18    MR.A.13C-Ami.D3.R1_Frac24      44809\n",
       "19     MR.A.13C-Ami.D3.R1_Frac9      50776\n",
       "20     MR.M.13C-Xyl.D6.R1_Frac9      46898\n",
       "21    MR.M.13C-Xyl.D6.R1_Frac16      53864\n",
       "22   MR.F.13C-Xyl.D14.R3_Frac24      24879\n",
       "23   MR.M.13C-Van.D30.R1_Frac18      68342\n",
       "24   MR.M.13C-Van.D30.R1_Frac17      38332\n",
       "25   MR.M.13C-Van.D30.R1_Frac14      29165\n",
       "26   MR.F.13C-Pal.D30.R2_Frac10      14723\n",
       "27    MR.M.13C-Van.D30.R1_Frac9      53068\n",
       "28    MR.M.13C-Van.D30.R1_Frac8      38584\n",
       "29    MR.M.13C-Van.D30.R1_Frac7      42586\n",
       "..                          ...        ...\n",
       "146  MR.M.13C-Van.D30.R1_Frac26      71068\n",
       "147   MR.M.13C-Xyl.D6.R1_Frac12      25698\n",
       "148   MR.M.13C-Xyl.D6.R1_Frac27      26385\n",
       "149   MR.M.13C-Xyl.D6.R1_Frac11      41708\n",
       "150    MR.M.13C-Xyl.D6.R1_Frac7      37622\n",
       "151   MR.M.13C-Xyl.D6.R1_Frac14      23017\n",
       "152  MR.M.13C-Van.D30.R1_Frac24      31941\n",
       "153   MR.M.13C-Xyl.D6.R1_Frac23      21639\n",
       "154  MR.M.13C-Van.D30.R1_Frac25      39826\n",
       "155  MR.M.13C-Van.D30.R1_Frac27      42559\n",
       "156   MR.M.13C-Xyl.D6.R1_Frac26      21342\n",
       "157   MR.M.13C-Xyl.D6.R1_Frac18      23665\n",
       "158      MR.M.13C-Van.D30.R1_NC       1666\n",
       "159  MR.M.13C-Van.D30.R1_Frac16      26322\n",
       "160  MR.F.13C-Pal.D30.R2_Frac20      10495\n",
       "161  MR.M.13C-Van.D30.R1_Frac13      35685\n",
       "162   MR.M.13C-Xyl.D6.R1_Frac17      38028\n",
       "163  MR.M.13C-Van.D30.R1_Frac11      53392\n",
       "164  MR.M.13C-Van.D30.R1_Frac10      69553\n",
       "165  MR.M.13C-Van.D30.R1_Frac15      27983\n",
       "166   MR.M.13C-Van.D30.R1_Frac5      46762\n",
       "167  MR.M.13C-Van.D30.R1_Frac21      29666\n",
       "168    MR.M.13C-Xyl.D6.R1_Frac6      29142\n",
       "169   MR.M.13C-Xyl.D6.R1_Frac22      12244\n",
       "170  MR.F.13C-Xyl.D14.R3_Frac20      15298\n",
       "171   MR.M.13C-Xyl.D6.R1_Frac20      16217\n",
       "172      MR.F.13C-Cel.D14.R2_NC       1097\n",
       "173       MR.A.13C-Ami.D3.R1_NC       1514\n",
       "174      MR.F.13C-Xyl.D14.R3_NC        144\n",
       "175      MR.F.13C-Pal.D30.R2_NC        225\n",
       "\n",
       "[176 rows x 2 columns]"
      ]
     },
     "execution_count": 36,
     "metadata": {},
     "output_type": "execute_result"
    }
   ],
   "source": [
    "# converting to dataframe\n",
    "df_seq_cnt = pd.DataFrame.from_dict(samp_count, orient='index')\n",
    "df_seq_cnt.index.name = 'Sample'\n",
    "df_seq_cnt.reset_index(inplace=True)\n",
    "df_seq_cnt.columns = ['Sample', 'seq_count']\n",
    "df_seq_cnt"
   ]
  },
  {
   "cell_type": "code",
   "execution_count": 37,
   "metadata": {
    "collapsed": false
   },
   "outputs": [
    {
     "data": {
      "image/png": "[encoded data removed]"
     },
     "metadata": {},
     "output_type": "display_data"
    }
   ],
   "source": [
    "%%R -i df_seq_cnt -w 800 -h 350\n",
    "# plotting all\n",
    "\n",
    "df_seq_cnt$seq_count = as.numeric(df_seq_cnt$seq_count)\n",
    "\n",
    "\n",
    "df_seq_cnt = df_seq_cnt %>% \n",
    "    #mutate(H2O = grepl('_F0$', Sample)) %>%\n",
    "    mutate(rank = min_rank(seq_count)) %>%\n",
    "    arrange(desc(rank))\n",
    "\n",
    "df_seq_cnt$Sample = factor(df_seq_cnt$Sample, levels=df_seq_cnt$Sample)\n",
    "\n",
    "ggplot(df_seq_cnt, aes(Sample, seq_count)) +\n",
    "    geom_bar(stat='identity') +\n",
    "    theme_bw() +\n",
    "    theme(\n",
    "        text = element_text(size=16),\n",
    "        axis.text.x = element_text(angle=45, hjust=1)\n",
    "    )"
   ]
  },
  {
   "cell_type": "code",
   "execution_count": 39,
   "metadata": {
    "collapsed": false
   },
   "outputs": [
    {
     "data": {
      "text/plain": [
       "                        Sample seq_count rank\n",
       "156 MR.F.13C-Pal.D30.R2_Frac12      9899   21\n",
       "157  MR.F.13C-Pal.D30.R2_Frac9      9692   20\n",
       "158 MR.A.13C-Ami.D14.R1_Frac18      9595   19\n",
       "159 MR.F.13C-Pal.D30.R2_Frac19      9448   18\n",
       "160  MR.F.13C-Pal.D30.R2_Frac7      9114   17\n",
       "161 MR.A.13C-Ami.D14.R1_Frac26      9108   16\n",
       "162  MR.F.13C-Pal.D30.R2_Frac8      9095   15\n",
       "163 MR.A.13C-Ami.D14.R1_Frac10      8906   14\n",
       "164 MR.A.13C-Ami.D14.R1_Frac23      8560   13\n",
       "165 MR.F.13C-Pal.D30.R2_Frac25      8227   12\n",
       "166 MR.F.13C-Pal.D30.R2_Frac11      7182   11\n",
       "167 MR.F.13C-Pal.D30.R2_Frac24      7152   10\n",
       "168 MR.F.13C-Pal.D30.R2_Frac23      6665    9\n",
       "169     MR.F.12C-Con.D14.R1_NC      3206    8\n",
       "170     MR.M.13C-Van.D30.R1_NC      1666    7\n",
       "171      MR.A.13C-Ami.D3.R1_NC      1514    6\n",
       "172     MR.F.13C-Cel.D14.R2_NC      1097    5\n",
       "173      MR.M.13C-Xyl.D6.R1_NC       549    4\n",
       "174     MR.A.13C-Ami.D14.R1_NC       445    3\n",
       "175     MR.F.13C-Pal.D30.R2_NC       225    2\n",
       "176     MR.F.13C-Xyl.D14.R3_NC       144    1\n"
      ]
     },
     "metadata": {},
     "output_type": "display_data"
    }
   ],
   "source": [
    "%%R\n",
    "df_seq_cnt[df_seq_cnt$seq_count < 10000,]"
   ]
  },
  {
   "cell_type": "code",
   "execution_count": null,
   "metadata": {
    "collapsed": true
   },
   "outputs": [],
   "source": []
  },
  {
   "cell_type": "code",
   "execution_count": null,
   "metadata": {
    "collapsed": true
   },
   "outputs": [],
   "source": []
  }
 ],
 "metadata": {
  "anaconda-cloud": {},
  "hide_input": true,
  "kernelspec": {
   "display_name": "Python 3",
   "language": "python",
   "name": "python3"
  },
  "language_info": {
   "codemirror_mode": {
    "name": "ipython",
    "version": 3
   },
   "file_extension": ".py",
   "mimetype": "text/x-python",
   "name": "python",
   "nbconvert_exporter": "python",
   "pygments_lexer": "ipython3",
   "version": "3.6.4"
  },
  "notify_time": "5"
 },
 "nbformat": 4,
 "nbformat_minor": 1
}
