{
 "cells": [
  {
   "cell_type": "markdown",
   "metadata": {},
   "source": [
    "# Description\n",
    "\n",
    "* Quality control on MiSeq run data\n",
    "  * post-merging\n",
    "  * post-demultiplexing"
   ]
  },
  {
   "cell_type": "markdown",
   "metadata": {},
   "source": [
    "# Setting variables"
   ]
  },
  {
   "cell_type": "code",
   "execution_count": 10,
   "metadata": {
    "collapsed": true
   },
   "outputs": [],
   "source": [
    "import os\n",
    "\n",
    "baseDir = '/home/seq_data/fullCyc2/amplicon/515F-806R/final_dataset/library_QC/fullCyc2_lib5'\n",
    "workDir = os.path.join(baseDir, 'QC')\n",
    "seqFile = os.path.join(baseDir, 'pear_merged-fullCyc2_lib5.assembled.dmult.fastq')\n",
    "\n",
    "# number of processors\n",
    "nprocs = 20\n",
    "\n",
    "# max expected error\n",
    "maxee = 1"
   ]
  },
  {
   "cell_type": "markdown",
   "metadata": {},
   "source": [
    "# Init"
   ]
  },
  {
   "cell_type": "code",
   "execution_count": 2,
   "metadata": {
    "collapsed": true
   },
   "outputs": [],
   "source": [
    "import re\n",
    "import pandas as pd"
   ]
  },
  {
   "cell_type": "code",
   "execution_count": 3,
   "metadata": {
    "collapsed": false
   },
   "outputs": [],
   "source": [
    "%load_ext rpy2.ipython\n",
    "#%load_ext pushnote"
   ]
  },
  {
   "cell_type": "code",
   "execution_count": 4,
   "metadata": {
    "collapsed": false
   },
   "outputs": [
    {
     "name": "stderr",
     "output_type": "stream",
     "text": [
      "/home/sam/anaconda3/lib/python3.6/site-packages/rpy2/rinterface/__init__.py:145: RRuntimeWarning: \n",
      "Attaching package: ‘dplyr’\n",
      "\n",
      "\n",
      "  warnings.warn(x, RRuntimeWarning)\n",
      "/home/sam/anaconda3/lib/python3.6/site-packages/rpy2/rinterface/__init__.py:145: RRuntimeWarning: The following objects are masked from ‘package:stats’:\n",
      "\n",
      "    filter, lag\n",
      "\n",
      "\n",
      "  warnings.warn(x, RRuntimeWarning)\n",
      "/home/sam/anaconda3/lib/python3.6/site-packages/rpy2/rinterface/__init__.py:145: RRuntimeWarning: The following objects are masked from ‘package:base’:\n",
      "\n",
      "    intersect, setdiff, setequal, union\n",
      "\n",
      "\n",
      "  warnings.warn(x, RRuntimeWarning)\n",
      "/home/sam/anaconda3/lib/python3.6/site-packages/rpy2/rinterface/__init__.py:145: RRuntimeWarning: \n",
      "Attaching package: ‘gridExtra’\n",
      "\n",
      "\n",
      "  warnings.warn(x, RRuntimeWarning)\n",
      "/home/sam/anaconda3/lib/python3.6/site-packages/rpy2/rinterface/__init__.py:145: RRuntimeWarning: The following object is masked from ‘package:dplyr’:\n",
      "\n",
      "    combine\n",
      "\n",
      "\n",
      "  warnings.warn(x, RRuntimeWarning)\n"
     ]
    }
   ],
   "source": [
    "%%R\n",
    "library(ggplot2)\n",
    "library(dplyr)\n",
    "library(tidyr)\n",
    "library(gridExtra)"
   ]
  },
  {
   "cell_type": "code",
   "execution_count": 5,
   "metadata": {
    "collapsed": false
   },
   "outputs": [
    {
     "name": "stdout",
     "output_type": "stream",
     "text": [
      "/home/seq_data/fullCyc2/amplicon/515F-806R/final_dataset/library_QC/fullCyc2_lib5/QC\n"
     ]
    }
   ],
   "source": [
    "if not os.path.isdir(workDir):\n",
    "    os.makedirs(workDir)\n",
    "%cd $workDir"
   ]
  },
  {
   "cell_type": "code",
   "execution_count": 6,
   "metadata": {
    "collapsed": false
   },
   "outputs": [
    {
     "name": "stdout",
     "output_type": "stream",
     "text": [
      "File exists: /home/seq_data/fullCyc2/amplicon/515F-806R/final_dataset/library_QC/fullCyc2_lib5/pear_merged-fullCyc2_lib5.assembled.dmult.fastq\n"
     ]
    }
   ],
   "source": [
    "# symlinking demult seq file into CQ\n",
    "tmp = os.path.join(baseDir, seqFile)\n",
    "if not os.path.isfile(seqFile):\n",
    "    tmp2 = os.path.split(tmp)[1]\n",
    "    os.symlink(tmp, tmp2)\n",
    "else:\n",
    "    print ('File exists: {}'.format(os.path.join(workDir, seqFile)))"
   ]
  },
  {
   "cell_type": "markdown",
   "metadata": {},
   "source": [
    "# Merged read quality filtering"
   ]
  },
  {
   "cell_type": "markdown",
   "metadata": {},
   "source": [
    "## Discard sequences that exceed max expected error theshold"
   ]
  },
  {
   "cell_type": "code",
   "execution_count": 7,
   "metadata": {
    "collapsed": false
   },
   "outputs": [
    {
     "data": {
      "text/plain": [
       "'pear_merged-fullCyc2_lib5.assembled.dmult_maxee1.fasta'"
      ]
     },
     "execution_count": 7,
     "metadata": {},
     "output_type": "execute_result"
    }
   ],
   "source": [
    "qcFile = os.path.split(seqFile)[1]\n",
    "qcFile = os.path.splitext(qcFile)[0] + '_maxee{}.fasta'.format(maxee)\n",
    "qcFile"
   ]
  },
  {
   "cell_type": "code",
   "execution_count": 8,
   "metadata": {
    "collapsed": true
   },
   "outputs": [],
   "source": [
    "%%bash -s \"$seqFile\" \"$nprocs\" \"$maxee\" \"$qcFile\"\n",
    "\n",
    "mkdir /home/sam/tmp/tmpdir1\n",
    "trap \"rm -r /home/sam/tmp/tmpdir1\" 1 2 3 15\n",
    "split -d -l 2000000 $1 /home/sam/tmp/tmpdir1/Block\n",
    "\n",
    "mkdir /home/sam/tmp/tmpdir2\n",
    "trap \"rm -r /home/sam/tmp/tmpdir2\" 1 2 3 15\n",
    "ls /home/sam/tmp/tmpdir1/Block?? | parallel --gnu -j $2 -k \"usearch -fastq_filter {} -fastq_maxee $3 \\\n",
    "-fastaout /home/sam/tmp/tmpdir2/{#}.fasta >/dev/null 2>&1 && cat /home/sam/tmp/tmpdir2/{#}.fasta\" > $4\n",
    "rm -r /home/sam/tmp/tmpdir2 /home/sam/tmp/tmpdir1"
   ]
  },
  {
   "cell_type": "code",
   "execution_count": 9,
   "metadata": {
    "collapsed": false
   },
   "outputs": [
    {
     "name": "stdout",
     "output_type": "stream",
     "text": [
      "Max expected error cutoff: 1\n",
      "Number of sequence pre-filter: 2733024\n",
      "Number of sequences post-filter: 2696114\n",
      "\n",
      ">MR.F.13C-Pal.D14.R1_Frac5_0 orig_name=M02465:324:000000000-AWPVM:1:1101:16781:1371\n",
      "TACGAAGGGGGCTAGCGTTGTTCGGAATTACTGGGCGTAAAGCGCGCGCAGGCGGTCTTCCAAGTCAGTGGTGAAAGCCC\n",
      "GGAGCTCAACTCCGGAACTGCCATTGAAACTGTTAGACTTGAGGACGAGAGAGGTGAGTGGAATTCCCAGTGTAGAGGTG\n",
      "AAATTCGTAGATATTGGGAAGAACACCGGTGGCGAAGGCGGCTCACTGGCTCGTATCTGACGCTCAGGCGCGACAGCGTG\n",
      "GGGATCAAACAGG\n",
      ">MR.F.13C-Van.D6.R1_Frac10_2 orig_name=M02465:324:000000000-AWPVM:1:1101:15077:1372\n",
      "TACGAAGGGGGCTAGCGTTGTTCGGAATCACTGGGCGTAAAGGGTGCGTAGGCGGGTCTTTAAGTCAGGGGTGAAATCCT\n",
      "GGAGCTCAACTCCGGAACTGCCTTTGATACTGAGGATCTTGAGTTCGGGAGAGGTGAGTGGAACTGCGAGTGTAGAGGTG\n"
     ]
    }
   ],
   "source": [
    "%%bash -s \"$seqFile\" \"$nprocs\" \"$maxee\" \"$qcFile\"\n",
    "\n",
    "printf \"Max expected error cutoff: \"\n",
    "echo $3\n",
    "\n",
    "printf \"Number of sequence pre-filter: \"\n",
    "grep -c \"orig_name=\" $1\n",
    "\n",
    "printf \"Number of sequences post-filter: \"\n",
    "grep -c \">\" $4\n",
    "\n",
    "echo '' \n",
    "head -n 8 $4"
   ]
  },
  {
   "cell_type": "markdown",
   "metadata": {},
   "source": [
    "## Remove seqs with 'N' characters"
   ]
  },
  {
   "cell_type": "code",
   "execution_count": 11,
   "metadata": {
    "collapsed": false
   },
   "outputs": [
    {
     "data": {
      "text/plain": [
       "'pear_merged-fullCyc2_lib5.assembled.dmult_maxee1_noN.fasta'"
      ]
     },
     "execution_count": 11,
     "metadata": {},
     "output_type": "execute_result"
    }
   ],
   "source": [
    "qcFile2 = os.path.splitext(qcFile)[0] + '_noN.fasta'\n",
    "qcFile2"
   ]
  },
  {
   "cell_type": "code",
   "execution_count": 12,
   "metadata": {
    "collapsed": false
   },
   "outputs": [
    {
     "name": "stdout",
     "output_type": "stream",
     "text": [
      "Number of sequence pre-filter: 2696114\n",
      "Number of sequences post-filter: 2696114\n"
     ]
    }
   ],
   "source": [
    "%%bash -s \"$qcFile\" \"$qcFile2\"\n",
    "\n",
    "bioawk -c fastx '{if ($seq !~ /N/){print \">\" $name \" \" $4 \"\\n\" $seq}}' $1 > $2\n",
    "\n",
    "printf \"Number of sequence pre-filter: \"\n",
    "grep -c \">\" $1\n",
    "\n",
    "printf \"Number of sequences post-filter: \"\n",
    "grep -c \">\" $2"
   ]
  },
  {
   "cell_type": "markdown",
   "metadata": {},
   "source": [
    "## Alignment-based QC with Mothur"
   ]
  },
  {
   "cell_type": "code",
   "execution_count": 13,
   "metadata": {
    "collapsed": false
   },
   "outputs": [
    {
     "name": "stdout",
     "output_type": "stream",
     "text": [
      "MR.F.13C-Pal.D14.R1_Frac5_0\tMR.F.13C-Pal.D14.R1_Frac5\n",
      "MR.F.13C-Van.D6.R1_Frac10_2\tMR.F.13C-Van.D6.R1_Frac10\n",
      "MR.M.12C-Con.D30.R1_Frac4_1\tMR.M.12C-Con.D30.R1_Frac4\n",
      "MR.F.13C-Van.D6.R1_Frac27_4\tMR.F.13C-Van.D6.R1_Frac27\n",
      "MR.F.13C-Van.D6.R1_Frac13_5\tMR.F.13C-Van.D6.R1_Frac13\n",
      "MR.F.13C-Van.D6.R1_Frac8_7\tMR.F.13C-Van.D6.R1_Frac8\n",
      "MR.F.13C-Van.D6.R1_Frac24_8\tMR.F.13C-Van.D6.R1_Frac24\n",
      "MR.M.12C-Con.D14.R1_Frac23_6\tMR.M.12C-Con.D14.R1_Frac23\n",
      "MR.F.13C-Pal.D14.R1_Frac8_9\tMR.F.13C-Pal.D14.R1_Frac8\n",
      "MR.M.13C-Cel.D6.R1_Frac25_12\tMR.M.13C-Cel.D6.R1_Frac25\n"
     ]
    }
   ],
   "source": [
    "%%bash -s \"$qcFile2\"\n",
    "# making mothur group file\n",
    "\n",
    "perl -ne 'if(/^>/){ s/>(.+)(_\\d+) .+/$1$2\\t$1/; print;}' $1 > group_file.txt\n",
    "head group_file.txt"
   ]
  },
  {
   "cell_type": "code",
   "execution_count": 14,
   "metadata": {
    "collapsed": false
   },
   "outputs": [
    {
     "name": "stdout",
     "output_type": "stream",
     "text": [
      "MR.F.13C-Pal.D14.R1_Frac5_0\tMR.F.13C-Pal.D14.R1_Frac5\r\n",
      "MR.F.13C-Van.D6.R1_Frac10_2\tMR.F.13C-Van.D6.R1_Frac10\r\n",
      "MR.M.12C-Con.D30.R1_Frac4_1\tMR.M.12C-Con.D30.R1_Frac4\r\n",
      "MR.F.13C-Van.D6.R1_Frac27_4\tMR.F.13C-Van.D6.R1_Frac27\r\n",
      "MR.F.13C-Van.D6.R1_Frac13_5\tMR.F.13C-Van.D6.R1_Frac13\r\n",
      "MR.F.13C-Van.D6.R1_Frac8_7\tMR.F.13C-Van.D6.R1_Frac8\r\n",
      "MR.F.13C-Van.D6.R1_Frac24_8\tMR.F.13C-Van.D6.R1_Frac24\r\n",
      "MR.M.12C-Con.D14.R1_Frac23_6\tMR.M.12C-Con.D14.R1_Frac23\r\n",
      "MR.F.13C-Pal.D14.R1_Frac8_9\tMR.F.13C-Pal.D14.R1_Frac8\r\n",
      "MR.M.13C-Cel.D6.R1_Frac25_12\tMR.M.13C-Cel.D6.R1_Frac25\r\n",
      "MR.M.13C-Van.D6.R1_Frac27_10\tMR.M.13C-Van.D6.R1_Frac27\r\n",
      "MR.F.13C-Pal.D14.R1_Frac5_11\tMR.F.13C-Pal.D14.R1_Frac5\r\n",
      "MR.F.13C-Pal.D14.R1_Frac14_15\tMR.F.13C-Pal.D14.R1_Frac14\r\n",
      "MR.M.12C-Con.D14.R1_Frac7_14\tMR.M.12C-Con.D14.R1_Frac7\r\n",
      "MR.F.13C-Van.D6.R1_Frac28_16\tMR.F.13C-Van.D6.R1_Frac28\r\n",
      "MR.F.13C-Pal.D14.R1_Frac5_13\tMR.F.13C-Pal.D14.R1_Frac5\r\n",
      "MR.F.13C-Van.D6.R1_Frac20_18\tMR.F.13C-Van.D6.R1_Frac20\r\n",
      "MR.F.13C-Van.D6.R1_Frac16_17\tMR.F.13C-Van.D6.R1_Frac16\r\n",
      "MR.A.13C-Xyl.D14.R3_Frac14_22\tMR.A.13C-Xyl.D14.R3_Frac14\r\n",
      "MR.M.13C-Van.D6.R1_Frac19_19\tMR.M.13C-Van.D6.R1_Frac19\r\n",
      "MR.M.13C-Cel.D30.R3_Frac14_20\tMR.M.13C-Cel.D30.R3_Frac14\r\n",
      "MR.M.12C-Con.D14.R1_Frac18_24\tMR.M.12C-Con.D14.R1_Frac18\r\n",
      "MR.M.13C-Cel.D6.R1_Frac17_25\tMR.M.13C-Cel.D6.R1_Frac17\r\n",
      "MR.M.12C-Con.D14.R1_Frac22_28\tMR.M.12C-Con.D14.R1_Frac22\r\n",
      "MR.M.13C-Cel.D6.R1_Frac19_29\tMR.M.13C-Cel.D6.R1_Frac19\r\n",
      "MR.M.13C-Cel.D30.R3_Frac22_30\tMR.M.13C-Cel.D30.R3_Frac22\r\n",
      "MR.F.13C-Van.D6.R1_Frac7_31\tMR.F.13C-Van.D6.R1_Frac7\r\n",
      "MR.F.13C-Van.D6.R1_Frac14_32\tMR.F.13C-Van.D6.R1_Frac14\r\n",
      "MR.F.13C-Van.D6.R1_Frac21_33\tMR.F.13C-Van.D6.R1_Frac21\r\n",
      "MR.M.13C-Van.D6.R1_Frac6_34\tMR.M.13C-Van.D6.R1_Frac6\r\n",
      "MR.M.13C-Cel.D30.R3_Frac22_35\tMR.M.13C-Cel.D30.R3_Frac22\r\n",
      "MR.F.13C-Pal.D14.R1_Frac4_36\tMR.F.13C-Pal.D14.R1_Frac4\r\n",
      "MR.F.13C-Pal.D14.R1_Frac4_37\tMR.F.13C-Pal.D14.R1_Frac4\r\n",
      "MR.F.13C-Pal.D14.R1_Frac13_38\tMR.F.13C-Pal.D14.R1_Frac13\r\n",
      "MR.M.12C-Con.D30.R1_Frac20_39\tMR.M.12C-Con.D30.R1_Frac20\r\n",
      "MR.M.13C-Cel.D6.R1_Frac8_40\tMR.M.13C-Cel.D6.R1_Frac8\r\n",
      "MR.M.13C-Cel.D30.R3_Frac26_41\tMR.M.13C-Cel.D30.R3_Frac26\r\n",
      "MR.M.13C-Cel.D30.R3_Frac17_42\tMR.M.13C-Cel.D30.R3_Frac17\r\n",
      "MR.F.13C-Pal.D14.R1_Frac12_43\tMR.F.13C-Pal.D14.R1_Frac12\r\n",
      "MR.M.13C-Van.D6.R1_Frac22_44\tMR.M.13C-Van.D6.R1_Frac22\r\n",
      "MR.F.13C-Van.D6.R1_Frac20_21\tMR.F.13C-Van.D6.R1_Frac20\r\n",
      "MR.M.13C-Van.D6.R1_Frac22_23\tMR.M.13C-Van.D6.R1_Frac22\r\n",
      "MR.F.13C-Pal.D14.R1_Frac12_47\tMR.F.13C-Pal.D14.R1_Frac12\r\n",
      "MR.M.13C-Cel.D6.R1_Frac3_48\tMR.M.13C-Cel.D6.R1_Frac3\r\n",
      "MR.F.13C-Van.D6.R1_Frac13_49\tMR.F.13C-Van.D6.R1_Frac13\r\n",
      "MR.A.13C-Xyl.D14.R3_Frac10_50\tMR.A.13C-Xyl.D14.R3_Frac10\r\n",
      "MR.F.13C-Van.D6.R1_Frac14_51\tMR.F.13C-Van.D6.R1_Frac14\r\n",
      "MR.M.12C-Con.D30.R1_Frac4_52\tMR.M.12C-Con.D30.R1_Frac4\r\n",
      "MR.F.13C-Pal.D14.R1_Frac7_53\tMR.F.13C-Pal.D14.R1_Frac7\r\n",
      "MR.M.13C-Van.D6.R1_Frac6_54\tMR.M.13C-Van.D6.R1_Frac6\r\n",
      "MR.M.12C-Con.D14.R1_Frac7_55\tMR.M.12C-Con.D14.R1_Frac7\r\n",
      "MR.M.13C-Van.D6.R1_Frac8_56\tMR.M.13C-Van.D6.R1_Frac8\r\n",
      "MR.M.12C-Con.D30.R1_Frac15_57\tMR.M.12C-Con.D30.R1_Frac15\r\n",
      "MR.M.12C-Con.D14.R1_Frac7_58\tMR.M.12C-Con.D14.R1_Frac7\r\n",
      "MR.F.13C-Van.D6.R1_Frac12_59\tMR.F.13C-Van.D6.R1_Frac12\r\n",
      "MR.F.13C-Van.D6.R1_Frac5_60\tMR.F.13C-Van.D6.R1_Frac5\r\n",
      "MR.M.12C-Con.D14.R1_Frac15_61\tMR.M.12C-Con.D14.R1_Frac15\r\n",
      "MR.M.13C-Cel.D6.R1_Frac16_62\tMR.M.13C-Cel.D6.R1_Frac16\r\n",
      "MR.F.13C-Van.D6.R1_Frac22_63\tMR.F.13C-Van.D6.R1_Frac22\r\n",
      "MR.M.12C-Con.D30.R1_Frac17_64\tMR.M.12C-Con.D30.R1_Frac17\r\n",
      "MR.F.13C-Pal.D14.R1_Frac15_65\tMR.F.13C-Pal.D14.R1_Frac15\r\n",
      "MR.F.13C-Pal.D14.R1_Frac7_66\tMR.F.13C-Pal.D14.R1_Frac7\r\n",
      "MR.F.13C-Van.D6.R1_Frac28_67\tMR.F.13C-Van.D6.R1_Frac28\r\n",
      "MR.M.12C-Con.D14.R1_Frac6_68\tMR.M.12C-Con.D14.R1_Frac6\r\n",
      "MR.M.12C-Con.D30.R1_Frac5_69\tMR.M.12C-Con.D30.R1_Frac5\r\n",
      "MR.F.13C-Pal.D14.R1_Frac4_70\tMR.F.13C-Pal.D14.R1_Frac4\r\n",
      "MR.F.13C-Van.D6.R1_Frac9_71\tMR.F.13C-Van.D6.R1_Frac9\r\n",
      "MR.M.13C-Cel.D30.R3_Frac25_72\tMR.M.13C-Cel.D30.R3_Frac25\r\n",
      "MR.A.13C-Xyl.D14.R3_Frac10_73\tMR.A.13C-Xyl.D14.R3_Frac10\r\n",
      "MR.F.13C-Pal.D14.R1_Frac10_45\tMR.F.13C-Pal.D14.R1_Frac10\r\n",
      "MR.F.13C-Pal.D14.R1_Frac17_46\tMR.F.13C-Pal.D14.R1_Frac17\r\n",
      "MR.M.13C-Cel.D6.R1_Frac25_76\tMR.M.13C-Cel.D6.R1_Frac25\r\n",
      "MR.F.13C-Van.D6.R1_Frac24_77\tMR.F.13C-Van.D6.R1_Frac24\r\n",
      "MR.F.13C-Van.D6.R1_Frac21_78\tMR.F.13C-Van.D6.R1_Frac21\r\n",
      "MR.F.13C-Van.D6.R1_Frac17_79\tMR.F.13C-Van.D6.R1_Frac17\r\n",
      "MR.F.13C-Pal.D14.R1_Frac19_80\tMR.F.13C-Pal.D14.R1_Frac19\r\n",
      "MR.F.13C-Pal.D14.R1_Frac15_81\tMR.F.13C-Pal.D14.R1_Frac15\r\n",
      "MR.A.13C-Xyl.D14.R3_Frac21_74\tMR.A.13C-Xyl.D14.R3_Frac21\r\n",
      "MR.F.13C-Pal.D14.R1_Frac10_75\tMR.F.13C-Pal.D14.R1_Frac10\r\n",
      "MR.M.13C-Cel.D30.R3_Frac24_27\tMR.M.13C-Cel.D30.R3_Frac24\r\n",
      "MR.F.13C-Pal.D14.R1_Frac14_84\tMR.F.13C-Pal.D14.R1_Frac14\r\n",
      "MR.M.12C-Con.D14.R1_Frac22_83\tMR.M.12C-Con.D14.R1_Frac22\r\n",
      "MR.F.13C-Pal.D14.R1_Frac6_89\tMR.F.13C-Pal.D14.R1_Frac6\r\n",
      "MR.F.13C-Van.D6.R1_Frac21_90\tMR.F.13C-Van.D6.R1_Frac21\r\n",
      "MR.F.13C-Pal.D14.R1_Frac12_91\tMR.F.13C-Pal.D14.R1_Frac12\r\n",
      "MR.F.13C-Van.D6.R1_Frac9_92\tMR.F.13C-Van.D6.R1_Frac9\r\n",
      "MR.M.13C-Van.D6.R1_Frac11_93\tMR.M.13C-Van.D6.R1_Frac11\r\n",
      "MR.F.13C-Pal.D14.R1_Frac10_94\tMR.F.13C-Pal.D14.R1_Frac10\r\n",
      "MR.M.12C-Con.D14.R1_Frac9_95\tMR.M.12C-Con.D14.R1_Frac9\r\n",
      "MR.F.13C-Pal.D14.R1_Frac19_96\tMR.F.13C-Pal.D14.R1_Frac19\r\n",
      "MR.M.13C-Cel.D6.R1_Frac25_97\tMR.M.13C-Cel.D6.R1_Frac25\r\n",
      "MR.A.13C-Xyl.D14.R3_Frac10_98\tMR.A.13C-Xyl.D14.R3_Frac10\r\n",
      "MR.F.13C-Pal.D14.R1_Frac6_99\tMR.F.13C-Pal.D14.R1_Frac6\r\n",
      "MR.M.13C-Cel.D6.R1_Frac9_100\tMR.M.13C-Cel.D6.R1_Frac9\r\n",
      "MR.F.13C-Pal.D14.R1_Frac12_101\tMR.F.13C-Pal.D14.R1_Frac12\r\n",
      "MR.F.13C-Van.D6.R1_Frac11_102\tMR.F.13C-Van.D6.R1_Frac11\r\n",
      "MR.M.12C-Con.D14.R1_Frac22_103\tMR.M.12C-Con.D14.R1_Frac22\r\n",
      "MR.M.12C-Con.D30.R1_Frac20_104\tMR.M.12C-Con.D30.R1_Frac20\r\n",
      "MR.M.13C-Van.D6.R1_Frac11_105\tMR.M.13C-Van.D6.R1_Frac11\r\n",
      "MR.M.12C-Con.D30.R1_Frac13_106\tMR.M.12C-Con.D30.R1_Frac13\r\n",
      "MR.M.13C-Cel.D6.R1_Frac12_107\tMR.M.13C-Cel.D6.R1_Frac12\r\n",
      "MR.M.12C-Con.D30.R1_Frac21_108\tMR.M.12C-Con.D30.R1_Frac21\r\n",
      "MR.M.12C-Con.D30.R1_Frac8_109\tMR.M.12C-Con.D30.R1_Frac8\r\n",
      "MR.F.13C-Pal.D14.R1_Frac17_110\tMR.F.13C-Pal.D14.R1_Frac17\r\n",
      "MR.F.13C-Pal.D14.R1_Frac17_111\tMR.F.13C-Pal.D14.R1_Frac17\r\n",
      "MR.F.13C-Pal.D14.R1_Frac16_26\tMR.F.13C-Pal.D14.R1_Frac16\r\n",
      "MR.M.13C-Cel.D6.R1_Frac13_88\tMR.M.13C-Cel.D6.R1_Frac13\r\n",
      "MR.M.13C-Cel.D6.R1_Frac17_113\tMR.M.13C-Cel.D6.R1_Frac17\r\n",
      "MR.F.13C-Van.D6.R1_Frac28_112\tMR.F.13C-Van.D6.R1_Frac28\r\n",
      "MR.A.13C-Xyl.D14.R3_Frac8_116\tMR.A.13C-Xyl.D14.R3_Frac8\r\n",
      "MR.M.12C-Con.D30.R1_Frac26_117\tMR.M.12C-Con.D30.R1_Frac26\r\n",
      "MR.F.13C-Pal.D14.R1_Frac6_118\tMR.F.13C-Pal.D14.R1_Frac6\r\n",
      "MR.M.13C-Van.D6.R1_Frac6_114\tMR.M.13C-Van.D6.R1_Frac6\r\n",
      "MR.F.13C-Van.D6.R1_Frac28_87\tMR.F.13C-Van.D6.R1_Frac28\r\n",
      "MR.M.13C-Cel.D6.R1_Frac24_86\tMR.M.13C-Cel.D6.R1_Frac24\r\n",
      "MR.A.13C-Xyl.D14.R3_Frac10_122\tMR.A.13C-Xyl.D14.R3_Frac10\r\n",
      "MR.F.13C-Van.D6.R1_Frac10_120\tMR.F.13C-Van.D6.R1_Frac10\r\n",
      "MR.A.13C-Xyl.D14.R3_Frac21_119\tMR.A.13C-Xyl.D14.R3_Frac21\r\n",
      "MR.M.13C-Van.D6.R1_Frac26_125\tMR.M.13C-Van.D6.R1_Frac26\r\n",
      "MR.F.13C-Pal.D14.R1_Frac17_126\tMR.F.13C-Pal.D14.R1_Frac17\r\n",
      "MR.M.13C-Cel.D30.R3_Frac15_127\tMR.M.13C-Cel.D30.R3_Frac15\r\n",
      "MR.A.13C-Xyl.D14.R3_Frac11_128\tMR.A.13C-Xyl.D14.R3_Frac11\r\n",
      "MR.F.13C-Pal.D14.R1_Frac14_129\tMR.F.13C-Pal.D14.R1_Frac14\r\n",
      "MR.M.12C-Con.D14.R1_Frac28_130\tMR.M.12C-Con.D14.R1_Frac28\r\n",
      "MR.F.13C-Pal.D14.R1_Frac7_131\tMR.F.13C-Pal.D14.R1_Frac7\r\n",
      "MR.F.13C-Pal.D14.R1_Frac13_132\tMR.F.13C-Pal.D14.R1_Frac13\r\n",
      "MR.M.12C-Con.D14.R1_Frac23_133\tMR.M.12C-Con.D14.R1_Frac23\r\n",
      "MR.F.13C-Pal.D14.R1_Frac11_134\tMR.F.13C-Pal.D14.R1_Frac11\r\n",
      "MR.M.12C-Con.D30.R1_Frac12_115\tMR.M.12C-Con.D30.R1_Frac12\r\n",
      "MR.F.13C-Van.D6.R1_Frac28_121\tMR.F.13C-Van.D6.R1_Frac28\r\n",
      "MR.M.13C-Cel.D6.R1_Frac4_137\tMR.M.13C-Cel.D6.R1_Frac4\r\n",
      "MR.F.13C-Pal.D14.R1_Frac16_136\tMR.F.13C-Pal.D14.R1_Frac16\r\n",
      "MR.F.13C-Pal.D14.R1_Frac19_135\tMR.F.13C-Pal.D14.R1_Frac19\r\n",
      "MR.A.13C-Xyl.D14.R3_Frac6_141\tMR.A.13C-Xyl.D14.R3_Frac6\r\n",
      "MR.F.13C-Pal.D14.R1_Frac14_142\tMR.F.13C-Pal.D14.R1_Frac14\r\n",
      "MR.F.13C-Pal.D14.R1_Frac15_143\tMR.F.13C-Pal.D14.R1_Frac15\r\n",
      "MR.M.12C-Con.D30.R1_Frac21_144\tMR.M.12C-Con.D30.R1_Frac21\r\n",
      "MR.F.13C-Pal.D14.R1_Frac7_145\tMR.F.13C-Pal.D14.R1_Frac7\r\n",
      "MR.M.13C-Cel.D30.R3_Frac26_146\tMR.M.13C-Cel.D30.R3_Frac26\r\n",
      "MR.F.13C-Pal.D14.R1_Frac17_147\tMR.F.13C-Pal.D14.R1_Frac17\r\n",
      "MR.F.13C-Pal.D14.R1_Frac7_148\tMR.F.13C-Pal.D14.R1_Frac7\r\n",
      "MR.F.13C-Pal.D14.R1_Frac11_149\tMR.F.13C-Pal.D14.R1_Frac11\r\n",
      "MR.M.13C-Cel.D30.R3_Frac6_150\tMR.M.13C-Cel.D30.R3_Frac6\r\n",
      "MR.F.13C-Pal.D14.R1_Frac17_151\tMR.F.13C-Pal.D14.R1_Frac17\r\n",
      "MR.M.12C-Con.D14.R1_Frac20_152\tMR.M.12C-Con.D14.R1_Frac20\r\n",
      "MR.F.13C-Pal.D14.R1_Frac15_153\tMR.F.13C-Pal.D14.R1_Frac15\r\n",
      "MR.F.13C-Van.D6.R1_Frac13_154\tMR.F.13C-Van.D6.R1_Frac13\r\n",
      "MR.M.13C-Cel.D6.R1_Frac5_155\tMR.M.13C-Cel.D6.R1_Frac5\r\n",
      "MR.M.12C-Con.D30.R1_Frac15_156\tMR.M.12C-Con.D30.R1_Frac15\r\n",
      "MR.F.13C-Pal.D14.R1_Frac10_157\tMR.F.13C-Pal.D14.R1_Frac10\r\n",
      "MR.M.13C-Van.D6.R1_Frac14_158\tMR.M.13C-Van.D6.R1_Frac14\r\n",
      "MR.M.12C-Con.D14.R1_Frac12_159\tMR.M.12C-Con.D14.R1_Frac12\r\n",
      "MR.F.13C-Pal.D14.R1_Frac14_160\tMR.F.13C-Pal.D14.R1_Frac14\r\n",
      "MR.M.12C-Con.D30.R1_Frac21_161\tMR.M.12C-Con.D30.R1_Frac21\r\n",
      "MR.A.13C-Xyl.D14.R3_Frac7_162\tMR.A.13C-Xyl.D14.R3_Frac7\r\n",
      "MR.M.13C-Cel.D6.R1_Frac27_163\tMR.M.13C-Cel.D6.R1_Frac27\r\n",
      "MR.M.12C-Con.D30.R1_Frac10_164\tMR.M.12C-Con.D30.R1_Frac10\r\n",
      "MR.A.13C-Xyl.D14.R3_Frac18_165\tMR.A.13C-Xyl.D14.R3_Frac18\r\n",
      "MR.F.13C-Van.D6.R1_Frac12_166\tMR.F.13C-Van.D6.R1_Frac12\r\n",
      "MR.M.13C-Cel.D30.R3_Frac17_167\tMR.M.13C-Cel.D30.R3_Frac17\r\n",
      "MR.F.13C-Van.D6.R1_Frac13_168\tMR.F.13C-Van.D6.R1_Frac13\r\n",
      "MR.M.13C-Van.D6.R1_Frac23_169\tMR.M.13C-Van.D6.R1_Frac23\r\n",
      "MR.M.12C-Con.D30.R1_Frac5_170\tMR.M.12C-Con.D30.R1_Frac5\r\n",
      "MR.M.12C-Con.D14.R1_Frac27_171\tMR.M.12C-Con.D14.R1_Frac27\r\n",
      "MR.M.13C-Cel.D30.R3_Frac20_139\tMR.M.13C-Cel.D30.R3_Frac20\r\n",
      "MR.M.13C-Van.D6.R1_Frac11_140\tMR.M.13C-Van.D6.R1_Frac11\r\n",
      "MR.F.13C-Van.D6.R1_Frac23_138\tMR.F.13C-Van.D6.R1_Frac23\r\n",
      "MR.F.13C-Pal.D14.R1_Frac19_124\tMR.F.13C-Pal.D14.R1_Frac19\r\n",
      "MR.M.13C-Cel.D6.R1_Frac18_176\tMR.M.13C-Cel.D6.R1_Frac18\r\n",
      "MR.M.12C-Con.D30.R1_Frac5_177\tMR.M.12C-Con.D30.R1_Frac5\r\n",
      "MR.M.12C-Con.D14.R1_Frac28_178\tMR.M.12C-Con.D14.R1_Frac28\r\n",
      "MR.M.12C-Con.D30.R1_Frac12_179\tMR.M.12C-Con.D30.R1_Frac12\r\n",
      "MR.M.13C-Cel.D30.R3_Frac14_180\tMR.M.13C-Cel.D30.R3_Frac14\r\n",
      "MR.M.13C-Cel.D6.R1_Frac13_181\tMR.M.13C-Cel.D6.R1_Frac13\r\n",
      "MR.F.13C-Van.D6.R1_Frac13_182\tMR.F.13C-Van.D6.R1_Frac13\r\n",
      "MR.M.13C-Cel.D30.R3_Frac20_183\tMR.M.13C-Cel.D30.R3_Frac20\r\n",
      "MR.A.13C-Xyl.D14.R3_MC_184\tMR.A.13C-Xyl.D14.R3_MC\r\n",
      "MR.F.13C-Pal.D14.R1_Frac13_185\tMR.F.13C-Pal.D14.R1_Frac13\r\n",
      "MR.M.12C-Con.D14.R1_Frac8_186\tMR.M.12C-Con.D14.R1_Frac8\r\n",
      "MR.M.13C-Cel.D30.R3_Frac9_187\tMR.M.13C-Cel.D30.R3_Frac9\r\n",
      "MR.M.12C-Con.D30.R1_Frac18_188\tMR.M.12C-Con.D30.R1_Frac18\r\n",
      "MR.M.12C-Con.D30.R1_Frac21_189\tMR.M.12C-Con.D30.R1_Frac21\r\n",
      "MR.F.13C-Pal.D14.R1_Frac16_190\tMR.F.13C-Pal.D14.R1_Frac16\r\n",
      "MR.F.13C-Pal.D14.R1_Frac16_191\tMR.F.13C-Pal.D14.R1_Frac16\r\n",
      "MR.F.13C-Van.D6.R1_Frac27_192\tMR.F.13C-Van.D6.R1_Frac27\r\n",
      "MR.M.12C-Con.D30.R1_Frac8_193\tMR.M.12C-Con.D30.R1_Frac8\r\n",
      "MR.M.13C-Cel.D30.R3_Frac28_194\tMR.M.13C-Cel.D30.R3_Frac28\r\n",
      "MR.F.13C-Pal.D14.R1_Frac17_195\tMR.F.13C-Pal.D14.R1_Frac17\r\n",
      "MR.F.13C-Pal.D14.R1_Frac6_196\tMR.F.13C-Pal.D14.R1_Frac6\r\n",
      "MR.M.13C-Van.D6.R1_Frac12_197\tMR.M.13C-Van.D6.R1_Frac12\r\n",
      "MR.M.13C-Cel.D6.R1_Frac27_198\tMR.M.13C-Cel.D6.R1_Frac27\r\n",
      "MR.F.13C-Van.D6.R1_Frac12_199\tMR.F.13C-Van.D6.R1_Frac12\r\n",
      "MR.M.13C-Van.D6.R1_Frac7_200\tMR.M.13C-Van.D6.R1_Frac7\r\n",
      "MR.F.13C-Pal.D14.R1_Frac13_201\tMR.F.13C-Pal.D14.R1_Frac13\r\n",
      "MR.M.13C-Van.D6.R1_Frac9_202\tMR.M.13C-Van.D6.R1_Frac9\r\n",
      "MR.F.13C-Pal.D14.R1_Frac5_203\tMR.F.13C-Pal.D14.R1_Frac5\r\n",
      "MR.M.13C-Van.D6.R1_Frac11_204\tMR.M.13C-Van.D6.R1_Frac11\r\n",
      "MR.F.13C-Van.D6.R1_Frac12_205\tMR.F.13C-Van.D6.R1_Frac12\r\n",
      "MR.F.13C-Pal.D14.R1_Frac14_206\tMR.F.13C-Pal.D14.R1_Frac14\r\n",
      "MR.F.13C-Pal.D14.R1_Frac10_207\tMR.F.13C-Pal.D14.R1_Frac10\r\n"
     ]
    }
   ],
   "source": [
    "! head -n 200 group_file.txt"
   ]
  },
  {
   "cell_type": "code",
   "execution_count": 15,
   "metadata": {
    "collapsed": false
   },
   "outputs": [
    {
     "name": "stdout",
     "output_type": "stream",
     "text": [
      "2675000\t1636570\r\n",
      "2676000\t1637147\r\n",
      "2677000\t1637693\r\n",
      "2678000\t1638260\r\n",
      "2679000\t1638818\r\n",
      "2680000\t1639371\r\n",
      "2681000\t1639922\r\n",
      "2682000\t1640509\r\n",
      "2683000\t1641070\r\n",
      "2684000\t1641633\r\n",
      "2685000\t1642232\r\n",
      "2686000\t1642772\r\n",
      "2687000\t1643402\r\n",
      "2688000\t1644002\r\n",
      "2689000\t1644626\r\n",
      "2690000\t1645212\r\n",
      "2691000\t1645820\r\n",
      "2692000\t1646475\r\n",
      "2693000\t1647183\r\n",
      "2694000\t1647831\r\n",
      "2695000\t1648524\r\n",
      "2696000\t1649239\r\n",
      "2696114\t1649329\r\n",
      "\r\n",
      "Output File Names: \r\n",
      "pear_merged-fullCyc2_lib5.assembled.dmult_maxee1_noN.names\r\n",
      "pear_merged-fullCyc2_lib5.assembled.dmult_maxee1_noN.unique.fasta\r\n",
      "\r\n",
      "\r\n",
      "mothur > quit()\r\n"
     ]
    }
   ],
   "source": [
    "# unique sequences\n",
    "cmd = 'mothur \"#unique.seqs(fasta={})\"'.format(qcFile2)\n",
    "!$cmd | tail -n 30"
   ]
  },
  {
   "cell_type": "code",
   "execution_count": 16,
   "metadata": {
    "collapsed": false
   },
   "outputs": [
    {
     "name": "stdout",
     "output_type": "stream",
     "text": [
      "Number of unique sequences: 1649329\n"
     ]
    }
   ],
   "source": [
    "qcFile3 = os.path.splitext(qcFile2)[0] + '.unique.fasta'\n",
    "n_uniq = !grep -c \">\" $qcFile3\n",
    "print ('Number of unique sequences: {}'.format(n_uniq[0]))"
   ]
  },
  {
   "cell_type": "code",
   "execution_count": 17,
   "metadata": {
    "collapsed": false
   },
   "outputs": [
    {
     "name": "stdout",
     "output_type": "stream",
     "text": [
      "-rw-rw-r-- 1 sam sam 141M May 16 08:30 pear_merged-fullCyc2_lib5.assembled.dmult_maxee1_noN.names\r\n"
     ]
    }
   ],
   "source": [
    "# name file produced by unique.seqs()\n",
    "nameFile = os.path.splitext(qcFile2)[0] + '.names'\n",
    "!ls -thlc $nameFile"
   ]
  },
  {
   "cell_type": "code",
   "execution_count": 18,
   "metadata": {
    "collapsed": false
   },
   "outputs": [
    {
     "name": "stdout",
     "output_type": "stream",
     "text": [
      "silva.seed_v132.tax\n",
      "silva.seed_v132.align\n",
      "README.md\n"
     ]
    },
    {
     "name": "stderr",
     "output_type": "stream",
     "text": [
      "--2018-05-16 08:30:50--  https://www.mothur.org/w/images/7/71/Silva.seed_v132.tgz\n",
      "Resolving www.mothur.org (www.mothur.org)... 141.214.120.22\n",
      "Connecting to www.mothur.org (www.mothur.org)|141.214.120.22|:443... connected.\n",
      "HTTP request sent, awaiting response... 200 OK\n",
      "Length: 19623900 (19M) [application/x-gzip]\n",
      "Saving to: ‘Silva.seed_v132.tgz’\n",
      "\n",
      "     0K .......... .......... .......... .......... ..........  0% 1.87M 10s\n",
      "    50K .......... .......... .......... .......... ..........  0%  996K 15s\n",
      "   100K .......... .......... .......... .......... ..........  0% 1.49M 14s\n",
      "   150K .......... .......... .......... .......... ..........  1% 1.00M 15s\n",
      "   200K .......... .......... .......... .......... ..........  1% 1.48M 14s\n",
      "   250K .......... .......... .......... .......... ..........  1% 1.04M 15s\n",
      "   300K .......... .......... .......... .......... ..........  1% 1.53M 15s\n",
      "   350K .......... .......... .......... .......... ..........  2%  870K 15s\n",
      "   400K .......... .......... .......... .......... ..........  2% 1.00M 16s\n",
      "   450K .......... .......... .......... .......... ..........  2% 1.49M 15s\n",
      "   500K .......... .......... .......... .......... ..........  2% 1.12M 15s\n",
      "   550K .......... .......... .......... .......... ..........  3% 1.50M 15s\n",
      "   600K .......... .......... .......... .......... ..........  3% 1.12M 15s\n",
      "   650K .......... .......... .......... .......... ..........  3% 1.52M 15s\n",
      "   700K .......... .......... .......... .......... ..........  3% 1.12M 15s\n",
      "   750K .......... .......... .......... .......... ..........  4%  987K 15s\n",
      "   800K .......... .......... .......... .......... ..........  4% 1.54M 15s\n",
      "   850K .......... .......... .......... .......... ..........  4% 1.10M 15s\n",
      "   900K .......... .......... .......... .......... ..........  4% 1.52M 15s\n",
      "   950K .......... .......... .......... .......... ..........  5% 1.11M 15s\n",
      "  1000K .......... .......... .......... .......... ..........  5% 1.53M 14s\n",
      "  1050K .......... .......... .......... .......... ..........  5% 1.11M 14s\n",
      "  1100K .......... .......... .......... .......... ..........  6%  993K 15s\n",
      "  1150K .......... .......... .......... .......... ..........  6% 1.91M 14s\n",
      "  1200K .......... .......... .......... .......... ..........  6%  991K 14s\n",
      "  1250K .......... .......... .......... .......... ..........  6% 1.55M 14s\n",
      "  1300K .......... .......... .......... .......... ..........  7% 1.10M 14s\n",
      "  1350K .......... .......... .......... .......... ..........  7% 1.54M 14s\n",
      "  1400K .......... .......... .......... .......... ..........  7% 1.10M 14s\n",
      "  1450K .......... .......... .......... .......... ..........  7% 1.55M 14s\n",
      "  1500K .......... .......... .......... .......... ..........  8% 1.11M 14s\n",
      "  1550K .......... .......... .......... .......... ..........  8% 1.53M 14s\n",
      "  1600K .......... .......... .......... .......... ..........  8%  993K 14s\n",
      "  1650K .......... .......... .......... .......... ..........  8% 1.11M 14s\n",
      "  1700K .......... .......... .......... .......... ..........  9% 1.53M 14s\n",
      "  1750K .......... .......... .......... .......... ..........  9% 1.10M 14s\n",
      "  1800K .......... .......... .......... .......... ..........  9%  395K 15s\n",
      "  1850K .......... .......... .......... .......... ..........  9% 1.89M 14s\n",
      "  1900K .......... .......... .......... .......... .......... 10%  994K 14s\n",
      "  1950K .......... .......... .......... .......... .......... 10% 1.89M 14s\n",
      "  2000K .......... .......... .......... .......... .......... 10%  982K 14s\n",
      "  2050K .......... .......... .......... .......... .......... 10%  995K 14s\n",
      "  2100K .......... .......... .......... .......... .......... 11% 1.87M 14s\n",
      "  2150K .......... .......... .......... .......... .......... 11% 1.89M 14s\n",
      "  2200K .......... .......... .......... .......... .......... 11% 1.88M 14s\n",
      "  2250K .......... .......... .......... .......... .......... 12% 1.88M 14s\n",
      "  2300K .......... .......... .......... .......... .......... 12%  988K 14s\n",
      "  2350K .......... .......... .......... .......... .......... 12%  993K 14s\n",
      "  2400K .......... .......... .......... .......... .......... 12% 1.89M 14s\n",
      "  2450K .......... .......... .......... .......... .......... 13%  994K 14s\n",
      "  2500K .......... .......... .......... .......... .......... 13% 1.84M 14s\n",
      "  2550K .......... .......... .......... .......... .......... 13% 1.89M 13s\n",
      "  2600K .......... .......... .......... .......... .......... 13%  999K 13s\n",
      "  2650K .......... .......... .......... .......... .......... 14% 1.90M 13s\n",
      "  2700K .......... .......... .......... .......... .......... 14% 1000K 13s\n",
      "  2750K .......... .......... .......... .......... .......... 14% 1.86M 13s\n",
      "  2800K .......... .......... .......... .......... .......... 14% 1.89M 13s\n",
      "  2850K .......... .......... .......... .......... .......... 15% 1.90M 13s\n",
      "  2900K .......... .......... .......... .......... .......... 15%  988K 13s\n",
      "  2950K .......... .......... .......... .......... .......... 15% 1.91M 13s\n",
      "  3000K .......... .......... .......... .......... .......... 15%  997K 13s\n",
      "  3050K .......... .......... .......... .......... .......... 16% 1.90M 13s\n",
      "  3100K .......... .......... .......... .......... .......... 16% 1002K 13s\n",
      "  3150K .......... .......... .......... .......... .......... 16% 1.90M 13s\n",
      "  3200K .......... .......... .......... .......... .......... 16%  986K 13s\n",
      "  3250K .......... .......... .......... .......... .......... 17% 1.89M 13s\n",
      "  3300K .......... .......... .......... .......... .......... 17% 1002K 13s\n",
      "  3350K .......... .......... .......... .......... .......... 17% 1.86M 12s\n",
      "  3400K .......... .......... .......... .......... .......... 18% 1.87M 12s\n",
      "  3450K .......... .......... .......... .......... .......... 18% 1004K 12s\n",
      "  3500K .......... .......... .......... .......... .......... 18% 1.89M 12s\n",
      "  3550K .......... .......... .......... .......... .......... 18%  994K 12s\n",
      "  3600K .......... .......... .......... .......... .......... 19% 1.90M 12s\n",
      "  3650K .......... .......... .......... .......... .......... 19% 1.91M 12s\n",
      "  3700K .......... .......... .......... .......... .......... 19% 1.90M 12s\n",
      "  3750K .......... .......... .......... .......... .......... 19% 1.90M 12s\n",
      "  3800K .......... .......... .......... .......... .......... 20% 1.89M 12s\n",
      "  3850K .......... .......... .......... .......... .......... 20% 1.90M 12s\n",
      "  3900K .......... .......... .......... .......... .......... 20% 1.88M 12s\n",
      "  3950K .......... .......... .......... .......... .......... 20% 1023K 12s\n",
      "  4000K .......... .......... .......... .......... .......... 21% 1.78M 12s\n",
      "  4050K .......... .......... .......... .......... .......... 21% 1.84M 11s\n",
      "  4100K .......... .......... .......... .......... .......... 21% 1.88M 11s\n",
      "  4150K .......... .......... .......... .......... .......... 21% 1.87M 11s\n",
      "  4200K .......... .......... .......... .......... .......... 22% 1.91M 11s\n",
      "  4250K .......... .......... .......... .......... .......... 22% 1.92M 11s\n",
      "  4300K .......... .......... .......... .......... .......... 22% 1.91M 11s\n",
      "  4350K .......... .......... .......... .......... .......... 22% 1006K 11s\n",
      "  4400K .......... .......... .......... .......... .......... 23% 1.91M 11s\n",
      "  4450K .......... .......... .......... .......... .......... 23% 1.87M 11s\n",
      "  4500K .......... .......... .......... .......... .......... 23% 1.88M 11s\n",
      "  4550K .......... .......... .......... .......... .......... 24% 1.90M 11s\n",
      "  4600K .......... .......... .......... .......... .......... 24% 1.91M 11s\n",
      "  4650K .......... .......... .......... .......... .......... 24% 1.90M 11s\n",
      "  4700K .......... .......... .......... .......... .......... 24% 1.91M 11s\n",
      "  4750K .......... .......... .......... .......... .......... 25% 1.89M 10s\n",
      "  4800K .......... .......... .......... .......... .......... 25% 1004K 10s\n",
      "  4850K .......... .......... .......... .......... .......... 25% 1.90M 10s\n",
      "  4900K .......... .......... .......... .......... .......... 25% 1.88M 10s\n",
      "  4950K .......... .......... .......... .......... .......... 26% 1.90M 10s\n",
      "  5000K .......... .......... .......... .......... .......... 26% 1.91M 10s\n",
      "  5050K .......... .......... .......... .......... .......... 26% 1.89M 10s\n",
      "  5100K .......... .......... .......... .......... .......... 26% 1.88M 10s\n",
      "  5150K .......... .......... .......... .......... .......... 27% 1.90M 10s\n",
      "  5200K .......... .......... .......... .......... .......... 27% 1.90M 10s\n",
      "  5250K .......... .......... .......... .......... .......... 27% 1.90M 10s\n",
      "  5300K .......... .......... .......... .......... .......... 27% 1.91M 10s\n",
      "  5350K .......... .......... .......... .......... .......... 28% 1.88M 10s\n",
      "  5400K .......... .......... .......... .......... .......... 28% 1.89M 10s\n",
      "  5450K .......... .......... .......... .......... .......... 28% 1.90M 10s\n",
      "  5500K .......... .......... .......... .......... .......... 28% 1.90M 10s\n",
      "  5550K .......... .......... .......... .......... .......... 29% 1024K 10s\n",
      "  5600K .......... .......... .......... .......... .......... 29% 1.79M 10s\n",
      "  5650K .......... .......... .......... .......... .......... 29% 1.91M 9s\n",
      "  5700K .......... .......... .......... .......... .......... 30% 1.90M 9s\n",
      "  5750K .......... .......... .......... .......... .......... 30% 1.87M 9s\n",
      "  5800K .......... .......... .......... .......... .......... 30% 1.91M 9s\n",
      "  5850K .......... .......... .......... .......... .......... 30% 1.91M 9s\n",
      "  5900K .......... .......... .......... .......... .......... 31% 1.90M 9s\n",
      "  5950K .......... .......... .......... .......... .......... 31% 1.87M 9s\n",
      "  6000K .......... .......... .......... .......... .......... 31% 1.91M 9s\n",
      "  6050K .......... .......... .......... .......... .......... 31% 1.87M 9s\n",
      "  6100K .......... .......... .......... .......... .......... 32% 1.92M 9s\n",
      "  6150K .......... .......... .......... .......... .......... 32% 1.00M 9s\n",
      "  6200K .......... .......... .......... .......... .......... 32% 1.91M 9s\n",
      "  6250K .......... .......... .......... .......... .......... 32% 1.90M 9s\n",
      "  6300K .......... .......... .......... .......... .......... 33% 1.90M 9s\n",
      "  6350K .......... .......... .......... .......... .......... 33% 1.91M 9s\n",
      "  6400K .......... .......... .......... .......... .......... 33% 1.90M 9s\n",
      "  6450K .......... .......... .......... .......... .......... 33% 1.91M 9s\n",
      "  6500K .......... .......... .......... .......... .......... 34% 1.91M 9s\n",
      "  6550K .......... .......... .......... .......... .......... 34% 1.90M 9s\n",
      "  6600K .......... .......... .......... .......... .......... 34% 1.91M 9s\n",
      "  6650K .......... .......... .......... .......... .......... 34% 1.90M 8s\n",
      "  6700K .......... .......... .......... .......... .......... 35% 1.92M 8s\n",
      "  6750K .......... .......... .......... .......... .......... 35% 1.74M 8s\n",
      "  6800K .......... .......... .......... .......... .......... 35% 1.92M 8s\n",
      "  6850K .......... .......... .......... .......... .......... 36% 1.92M 8s\n",
      "  6900K .......... .......... .......... .......... .......... 36% 1.92M 8s\n",
      "  6950K .......... .......... .......... .......... .......... 36% 1.90M 8s\n",
      "  7000K .......... .......... .......... .......... .......... 36% 1.86M 8s\n",
      "  7050K .......... .......... .......... .......... .......... 37% 1.91M 8s\n",
      "  7100K .......... .......... .......... .......... .......... 37% 1.93M 8s\n",
      "  7150K .......... .......... .......... .......... .......... 37% 1.00M 8s\n",
      "  7200K .......... .......... .......... .......... .......... 37% 1.91M 8s\n",
      "  7250K .......... .......... .......... .......... .......... 38% 1.90M 8s\n",
      "  7300K .......... .......... .......... .......... .......... 38% 1.93M 8s\n",
      "  7350K .......... .......... .......... .......... .......... 38% 1.90M 8s\n",
      "  7400K .......... .......... .......... .......... .......... 38% 1.90M 8s\n",
      "  7450K .......... .......... .......... .......... .......... 39% 1.91M 8s\n",
      "  7500K .......... .......... .......... .......... .......... 39% 1.90M 8s\n",
      "  7550K .......... .......... .......... .......... .......... 39% 1.86M 8s\n",
      "  7600K .......... .......... .......... .......... .......... 39% 1.90M 8s\n",
      "  7650K .......... .......... .......... .......... .......... 40% 1.90M 8s\n",
      "  7700K .......... .......... .......... .......... .......... 40% 1.91M 8s\n",
      "  7750K .......... .......... .......... .......... .......... 40% 1.87M 7s\n",
      "  7800K .......... .......... .......... .......... .......... 40% 1.91M 7s\n",
      "  7850K .......... .......... .......... .......... .......... 41% 1.89M 7s\n",
      "  7900K .......... .......... .......... .......... .......... 41% 1.90M 7s\n",
      "  7950K .......... .......... .......... .......... .......... 41% 1.88M 7s\n",
      "  8000K .......... .......... .......... .......... .......... 42% 1.92M 7s\n",
      "  8050K .......... .......... .......... .......... .......... 42% 1.89M 7s\n",
      "  8100K .......... .......... .......... .......... .......... 42% 1.90M 7s\n",
      "  8150K .......... .......... .......... .......... .......... 42% 1.91M 7s\n",
      "  8200K .......... .......... .......... .......... .......... 43% 1.92M 7s\n",
      "  8250K .......... .......... .......... .......... .......... 43% 1.91M 7s\n",
      "  8300K .......... .......... .......... .......... .......... 43% 1.93M 7s\n",
      "  8350K .......... .......... .......... .......... .......... 43% 1.89M 7s\n",
      "  8400K .......... .......... .......... .......... .......... 44% 1.01M 7s\n",
      "  8450K .......... .......... .......... .......... .......... 44% 1.92M 7s\n",
      "  8500K .......... .......... .......... .......... .......... 44% 1.87M 7s\n",
      "  8550K .......... .......... .......... .......... .......... 44% 1.81M 7s\n",
      "  8600K .......... .......... .......... .......... .......... 45% 1.75M 7s\n",
      "  8650K .......... .......... .......... .......... .......... 45% 1.90M 7s\n",
      "  8700K .......... .......... .......... .......... .......... 45% 1.79M 7s\n",
      "  8750K .......... .......... .......... .......... .......... 45% 1.80M 7s\n",
      "  8800K .......... .......... .......... .......... .......... 46% 1.79M 7s\n",
      "  8850K .......... .......... .......... .......... .......... 46% 1.78M 7s\n",
      "  8900K .......... .......... .......... .......... .......... 46% 1.91M 7s\n",
      "  8950K .......... .......... .......... .......... .......... 46% 1.91M 7s\n",
      "  9000K .......... .......... .......... .......... .......... 47% 1.90M 7s\n",
      "  9050K .......... .......... .......... .......... .......... 47% 1.95M 6s\n",
      "  9100K .......... .......... .......... .......... .......... 47% 1.87M 6s\n",
      "  9150K .......... .......... .......... .......... .......... 48% 1.90M 6s\n",
      "  9200K .......... .......... .......... .......... .......... 48% 1.87M 6s\n",
      "  9250K .......... .......... .......... .......... .......... 48% 1.90M 6s\n",
      "  9300K .......... .......... .......... .......... .......... 48% 1.89M 6s\n",
      "  9350K .......... .......... .......... .......... .......... 49% 1.91M 6s\n",
      "  9400K .......... .......... .......... .......... .......... 49% 1.92M 6s\n",
      "  9450K .......... .......... .......... .......... .......... 49% 1.91M 6s\n",
      "  9500K .......... .......... .......... .......... .......... 49% 1.92M 6s\n",
      "  9550K .......... .......... .......... .......... .......... 50% 1.89M 6s\n",
      "  9600K .......... .......... .......... .......... .......... 50% 1005K 6s\n",
      "  9650K .......... .......... .......... .......... .......... 50% 1.90M 6s\n",
      "  9700K .......... .......... .......... .......... .......... 50% 1.90M 6s\n",
      "  9750K .......... .......... .......... .......... .......... 51% 1.87M 6s\n",
      "  9800K .......... .......... .......... .......... .......... 51% 1.90M 6s\n",
      "  9850K .......... .......... .......... .......... .......... 51% 1.91M 6s\n",
      "  9900K .......... .......... .......... .......... .......... 51% 1.91M 6s\n",
      "  9950K .......... .......... .......... .......... .......... 52% 1.88M 6s\n",
      " 10000K .......... .......... .......... .......... .......... 52% 1.87M 6s\n",
      " 10050K .......... .......... .......... .......... .......... 52% 1.89M 6s\n",
      " 10100K .......... .......... .......... .......... .......... 52% 1.86M 6s\n",
      " 10150K .......... .......... .......... .......... .......... 53% 1.91M 6s\n",
      " 10200K .......... .......... .......... .......... .......... 53% 1.92M 6s\n",
      " 10250K .......... .......... .......... .......... .......... 53% 1.91M 6s\n",
      " 10300K .......... .......... .......... .......... .......... 54% 1.92M 6s\n",
      " 10350K .......... .......... .......... .......... .......... 54% 1.91M 6s\n",
      " 10400K .......... .......... .......... .......... .......... 54% 1.90M 5s\n",
      " 10450K .......... .......... .......... .......... .......... 54% 1.89M 5s\n",
      " 10500K .......... .......... .......... .......... .......... 55% 1.92M 5s\n",
      " 10550K .......... .......... .......... .......... .......... 55% 1.92M 5s\n",
      " 10600K .......... .......... .......... .......... .......... 55% 1.92M 5s\n",
      " 10650K .......... .......... .......... .......... .......... 55% 1.90M 5s\n",
      " 10700K .......... .......... .......... .......... .......... 56% 1.93M 5s\n",
      " 10750K .......... .......... .......... .......... .......... 56% 1.00M 5s\n",
      " 10800K .......... .......... .......... .......... .......... 56% 1.92M 5s\n",
      " 10850K .......... .......... .......... .......... .......... 56% 1.91M 5s\n",
      " 10900K .......... .......... .......... .......... .......... 57% 1.89M 5s\n",
      " 10950K .......... .......... .......... .......... .......... 57% 1.92M 5s\n",
      " 11000K .......... .......... .......... .......... .......... 57% 1.92M 5s\n",
      " 11050K .......... .......... .......... .......... .......... 57% 1.93M 5s\n",
      " 11100K .......... .......... .......... .......... .......... 58% 1.91M 5s\n",
      " 11150K .......... .......... .......... .......... .......... 58% 1.92M 5s\n",
      " 11200K .......... .......... .......... .......... .......... 58% 1.80M 5s\n",
      " 11250K .......... .......... .......... .......... .......... 58% 1.91M 5s\n",
      " 11300K .......... .......... .......... .......... .......... 59%  398K 5s\n",
      " 11350K .......... .......... .......... .......... .......... 59% 1.90M 5s\n",
      " 11400K .......... .......... .......... .......... .......... 59% 1.92M 5s\n",
      " 11450K .......... .......... .......... .......... .......... 60% 1.91M 5s\n",
      " 11500K .......... .......... .......... .......... .......... 60%  491K 5s\n",
      " 11550K .......... .......... .......... .......... .......... 60% 1.01M 5s\n",
      " 11600K .......... .......... .......... .......... .......... 60% 1.84M 5s\n",
      " 11650K .......... .......... .......... .......... .......... 61% 1.90M 5s\n",
      " 11700K .......... .......... .......... .......... .......... 61% 1.91M 5s\n",
      " 11750K .......... .......... .......... .......... .......... 61% 1.91M 5s\n",
      " 11800K .......... .......... .......... .......... .......... 61% 1.91M 5s\n",
      " 11850K .......... .......... .......... .......... .......... 62% 1.90M 5s\n",
      " 11900K .......... .......... .......... .......... .......... 62% 1.90M 5s\n",
      " 11950K .......... .......... .......... .......... .......... 62% 1.85M 5s\n",
      " 12000K .......... .......... .......... .......... .......... 62% 1.92M 4s\n",
      " 12050K .......... .......... .......... .......... .......... 63% 1.87M 4s\n",
      " 12100K .......... .......... .......... .......... .......... 63% 1.91M 4s\n",
      " 12150K .......... .......... .......... .......... .......... 63% 1.93M 4s\n",
      " 12200K .......... .......... .......... .......... .......... 63% 1.93M 4s\n",
      " 12250K .......... .......... .......... .......... .......... 64% 1.91M 4s\n",
      " 12300K .......... .......... .......... .......... .......... 64% 1.92M 4s\n",
      " 12350K .......... .......... .......... .......... .......... 64% 1.89M 4s\n",
      " 12400K .......... .......... .......... .......... .......... 64% 1.91M 4s\n",
      " 12450K .......... .......... .......... .......... .......... 65% 1.91M 4s\n",
      " 12500K .......... .......... .......... .......... .......... 65% 1.93M 4s\n",
      " 12550K .......... .......... .......... .......... .......... 65% 1.91M 4s\n",
      " 12600K .......... .......... .......... .......... .......... 66% 1.93M 4s\n",
      " 12650K .......... .......... .......... .......... .......... 66% 1.93M 4s\n",
      " 12700K .......... .......... .......... .......... .......... 66% 1018K 4s\n",
      " 12750K .......... .......... .......... .......... .......... 66% 1.91M 4s\n",
      " 12800K .......... .......... .......... .......... .......... 67% 1.93M 4s\n",
      " 12850K .......... .......... .......... .......... .......... 67% 1.93M 4s\n",
      " 12900K .......... .......... .......... .......... .......... 67% 1.92M 4s\n",
      " 12950K .......... .......... .......... .......... .......... 67% 1.93M 4s\n",
      " 13000K .......... .......... .......... .......... .......... 68% 1.92M 4s\n",
      " 13050K .......... .......... .......... .......... .......... 68% 1.92M 4s\n",
      " 13100K .......... .......... .......... .......... .......... 68% 1.92M 4s\n",
      " 13150K .......... .......... .......... .......... .......... 68% 1.85M 4s\n",
      " 13200K .......... .......... .......... .......... .......... 69% 1.91M 4s\n",
      " 13250K .......... .......... .......... .......... .......... 69% 1.91M 4s\n",
      " 13300K .......... .......... .......... .......... .......... 69% 1.92M 4s\n",
      " 13350K .......... .......... .......... .......... .......... 69% 1.93M 4s\n",
      " 13400K .......... .......... .......... .......... .......... 70% 1.92M 4s\n",
      " 13450K .......... .......... .......... .......... .......... 70% 1.94M 4s\n",
      " 13500K .......... .......... .......... .......... .......... 70% 1.91M 3s\n",
      " 13550K .......... .......... .......... .......... .......... 70% 1.92M 3s\n",
      " 13600K .......... .......... .......... .......... .......... 71% 1.92M 3s\n",
      " 13650K .......... .......... .......... .......... .......... 71% 1.92M 3s\n",
      " 13700K .......... .......... .......... .......... .......... 71% 1.89M 3s\n",
      " 13750K .......... .......... .......... .......... .......... 72% 1.85M 3s\n",
      " 13800K .......... .......... .......... .......... .......... 72% 1.90M 3s\n",
      " 13850K .......... .......... .......... .......... .......... 72% 1.89M 3s\n",
      " 13900K .......... .......... .......... .......... .......... 72% 1.88M 3s\n",
      " 13950K .......... .......... .......... .......... .......... 73% 1.01M 3s\n",
      " 14000K .......... .......... .......... .......... .......... 73% 1.90M 3s\n",
      " 14050K .......... .......... .......... .......... .......... 73% 1.90M 3s\n",
      " 14100K .......... .......... .......... .......... .......... 73% 1.89M 3s\n",
      " 14150K .......... .......... .......... .......... .......... 74% 1.94M 3s\n",
      " 14200K .......... .......... .......... .......... .......... 74% 1.93M 3s\n",
      " 14250K .......... .......... .......... .......... .......... 74% 1.92M 3s\n",
      " 14300K .......... .......... .......... .......... .......... 74% 1.92M 3s\n",
      " 14350K .......... .......... .......... .......... .......... 75% 1.92M 3s\n",
      " 14400K .......... .......... .......... .......... .......... 75% 1.88M 3s\n",
      " 14450K .......... .......... .......... .......... .......... 75% 1.90M 3s\n",
      " 14500K .......... .......... .......... .......... .......... 75% 1.94M 3s\n",
      " 14550K .......... .......... .......... .......... .......... 76% 1.92M 3s\n",
      " 14600K .......... .......... .......... .......... .......... 76% 1.93M 3s\n",
      " 14650K .......... .......... .......... .......... .......... 76% 1.92M 3s\n",
      " 14700K .......... .......... .......... .......... .......... 76% 1.91M 3s\n",
      " 14750K .......... .......... .......... .......... .......... 77% 1.93M 3s\n",
      " 14800K .......... .......... .......... .......... .......... 77% 1.89M 3s\n",
      " 14850K .......... .......... .......... .......... .......... 77% 1.91M 3s\n",
      " 14900K .......... .......... .......... .......... .......... 78% 1.89M 3s\n",
      " 14950K .......... .......... .......... .......... .......... 78% 1.93M 3s\n",
      " 15000K .......... .......... .......... .......... .......... 78% 1.93M 3s\n",
      " 15050K .......... .......... .......... .......... .......... 78% 1.93M 2s\n",
      " 15100K .......... .......... .......... .......... .......... 79% 1.92M 2s\n",
      " 15150K .......... .......... .......... .......... .......... 79% 1.94M 2s\n",
      " 15200K .......... .......... .......... .......... .......... 79% 1011K 2s\n",
      " 15250K .......... .......... .......... .......... .......... 79% 1.91M 2s\n",
      " 15300K .......... .......... .......... .......... .......... 80% 1.94M 2s\n",
      " 15350K .......... .......... .......... .......... .......... 80% 1.91M 2s\n",
      " 15400K .......... .......... .......... .......... .......... 80% 1.92M 2s\n",
      " 15450K .......... .......... .......... .......... .......... 80% 1.92M 2s\n",
      " 15500K .......... .......... .......... .......... .......... 81% 1.93M 2s\n",
      " 15550K .......... .......... .......... .......... .......... 81% 1.90M 2s\n",
      " 15600K .......... .......... .......... .......... .......... 81% 25.6M 2s\n",
      " 15650K .......... .......... .......... .......... .......... 81% 1.90M 2s\n",
      " 15700K .......... .......... .......... .......... .......... 82% 1.92M 2s\n",
      " 15750K .......... .......... .......... .......... .......... 82% 1.91M 2s\n",
      " 15800K .......... .......... .......... .......... .......... 82% 1.93M 2s\n",
      " 15850K .......... .......... .......... .......... .......... 82% 26.1M 2s\n",
      " 15900K .......... .......... .......... .......... .......... 83% 1.93M 2s\n",
      " 15950K .......... .......... .......... .......... .......... 83% 1.88M 2s\n",
      " 16000K .......... .......... .......... .......... .......... 83% 1.92M 2s\n",
      " 16050K .......... .......... .......... .......... .......... 84% 1.88M 2s\n",
      " 16100K .......... .......... .......... .......... .......... 84% 1.93M 2s\n",
      " 16150K .......... .......... .......... .......... .......... 84% 1.93M 2s\n",
      " 16200K .......... .......... .......... .......... .......... 84% 1.94M 2s\n",
      " 16250K .......... .......... .......... .......... .......... 85% 1.94M 2s\n",
      " 16300K .......... .......... .......... .......... .......... 85% 24.1M 2s\n",
      " 16350K .......... .......... .......... .......... .......... 85% 1.01M 2s\n",
      " 16400K .......... .......... .......... .......... .......... 85% 1.87M 2s\n",
      " 16450K .......... .......... .......... .......... .......... 86% 21.1M 2s\n",
      " 16500K .......... .......... .......... .......... .......... 86% 1.90M 2s\n",
      " 16550K .......... .......... .......... .......... .......... 86% 1.93M 2s\n",
      " 16600K .......... .......... .......... .......... .......... 86% 1.95M 2s\n",
      " 16650K .......... .......... .......... .......... .......... 87% 1.93M 1s\n",
      " 16700K .......... .......... .......... .......... .......... 87% 23.2M 1s\n",
      " 16750K .......... .......... .......... .......... .......... 87% 1.92M 1s\n",
      " 16800K .......... .......... .......... .......... .......... 87% 1.90M 1s\n",
      " 16850K .......... .......... .......... .......... .......... 88% 1.90M 1s\n",
      " 16900K .......... .......... .......... .......... .......... 88% 1.93M 1s\n",
      " 16950K .......... .......... .......... .......... .......... 88% 1.91M 1s\n",
      " 17000K .......... .......... .......... .......... .......... 88% 1.94M 1s\n",
      " 17050K .......... .......... .......... .......... .......... 89% 27.6M 1s\n",
      " 17100K .......... .......... .......... .......... .......... 89% 1.91M 1s\n",
      " 17150K .......... .......... .......... .......... .......... 89% 1.91M 1s\n",
      " 17200K .......... .......... .......... .......... .......... 90% 1.88M 1s\n",
      " 17250K .......... .......... .......... .......... .......... 90% 1.99M 1s\n",
      " 17300K .......... .......... .......... .......... .......... 90% 1.90M 1s\n",
      " 17350K .......... .......... .......... .......... .......... 90% 1.93M 1s\n",
      " 17400K .......... .......... .......... .......... .......... 91% 1.95M 1s\n",
      " 17450K .......... .......... .......... .......... .......... 91% 22.5M 1s\n",
      " 17500K .......... .......... .......... .......... .......... 91% 1.93M 1s\n",
      " 17550K .......... .......... .......... .......... .......... 91% 1.87M 1s\n",
      " 17600K .......... .......... .......... .......... .......... 92% 1.94M 1s\n",
      " 17650K .......... .......... .......... .......... .......... 92% 1.93M 1s\n",
      " 17700K .......... .......... .......... .......... .......... 92% 1.93M 1s\n",
      " 17750K .......... .......... .......... .......... .......... 92% 1.94M 1s\n",
      " 17800K .......... .......... .......... .......... .......... 93% 26.2M 1s\n",
      " 17850K .......... .......... .......... .......... .......... 93% 1.92M 1s\n",
      " 17900K .......... .......... .......... .......... .......... 93% 1.92M 1s\n",
      " 17950K .......... .......... .......... .......... .......... 93% 1.93M 1s\n",
      " 18000K .......... .......... .......... .......... .......... 94% 1.91M 1s\n",
      " 18050K .......... .......... .......... .......... .......... 94% 1.92M 1s\n",
      " 18100K .......... .......... .......... .......... .......... 94% 1.87M 1s\n",
      " 18150K .......... .......... .......... .......... .......... 94% 1.95M 1s\n",
      " 18200K .......... .......... .......... .......... .......... 95% 1.90M 1s\n",
      " 18250K .......... .......... .......... .......... .......... 95% 31.9M 1s\n",
      " 18300K .......... .......... .......... .......... .......... 95% 1.91M 0s\n",
      " 18350K .......... .......... .......... .......... .......... 96% 1.91M 0s\n",
      " 18400K .......... .......... .......... .......... .......... 96% 1.91M 0s\n",
      " 18450K .......... .......... .......... .......... .......... 96% 1.91M 0s\n",
      " 18500K .......... .......... .......... .......... .......... 96% 1.93M 0s\n",
      " 18550K .......... .......... .......... .......... .......... 97% 1.95M 0s\n",
      " 18600K .......... .......... .......... .......... .......... 97% 1.97M 0s\n",
      " 18650K .......... .......... .......... .......... .......... 97% 25.7M 0s\n",
      " 18700K .......... .......... .......... .......... .......... 97% 1.92M 0s\n",
      " 18750K .......... .......... .......... .......... .......... 98% 1.92M 0s\n",
      " 18800K .......... .......... .......... .......... .......... 98% 1.93M 0s\n",
      " 18850K .......... .......... .......... .......... .......... 98% 1.92M 0s\n",
      " 18900K .......... .......... .......... .......... .......... 98% 1.92M 0s\n",
      " 18950K .......... .......... .......... .......... .......... 99% 1.94M 0s\n",
      " 19000K .......... .......... .......... .......... .......... 99% 30.2M 0s\n",
      " 19050K .......... .......... .......... .......... .......... 99% 1.95M 0s\n",
      " 19100K .......... .......... .......... .......... .......... 99% 1.92M 0s\n",
      " 19150K .......... ...                                        100% 31.8M=11s\n",
      "\n",
      "2018-05-16 08:31:02 (1.69 MB/s) - ‘Silva.seed_v132.tgz’ saved [19623900/19623900]\n",
      "\n"
     ]
    }
   ],
   "source": [
    "%%bash \n",
    "# Remove database if already exsists\n",
    "if [ -d mothur_silva_db ]; then\n",
    "    rm -rf mothur_silva_db\n",
    "fi\n",
    "\n",
    "#if ! [ -d mothur_silva_db ]; then\n",
    "#    mkdir mothur_silva_db\n",
    "#fi\n",
    "\n",
    "mkdir mothur_silva_db\n",
    "cd mothur_silva_db\n",
    "\n",
    "# Download mothur recreatd SEED database release 132.\n",
    "wget https://www.mothur.org/w/images/7/71/Silva.seed_v132.tgz\n",
    "#wget https://www.mothur.org/w/images/a/a4/Silva.seed_v128.tgz\n",
    "tar -xvzf Silva.seed_v132.tgz\n",
    "rm Silva.seed_v132.tgz"
   ]
  },
  {
   "cell_type": "code",
   "execution_count": 19,
   "metadata": {
    "collapsed": false
   },
   "outputs": [
    {
     "name": "stdout",
     "output_type": "stream",
     "text": [
      "100\n",
      "200\n",
      "300\n",
      "400\n",
      "500\n",
      "560\n",
      "\n",
      "\n",
      "\n",
      "Length of filtered alignment: 10180\n",
      "Number of columns removed: 39820\n",
      "Length of the original alignment: 50000\n",
      "Number of sequences used to construct filter: 11180\n",
      "\n",
      "Output File Names: \n",
      "silva.filter\n",
      "silva.seed_v132.filter.fasta\n",
      "\n",
      "\n",
      "mothur > quit()\n",
      "\n",
      "Number of sequences post-filter: 11180\n"
     ]
    }
   ],
   "source": [
    "silvaFile = 'silva.seed_v132.align'\n",
    "cmd = 'mothur \"#filter.seqs(vertical=t, fasta={}, processors={})\"'.format(silvaFile, nprocs)\n",
    "!cd mothur_silva_db; $cmd | tail -n 20\n",
    "\n",
    "silvaFileFilt = os.path.splitext(silvaFile)[0] + '.filter.fasta'\n",
    "silvaFileFilt = os.path.join('mothur_silva_db', silvaFileFilt)\n",
    "ret = !grep -c \">\" $silvaFileFilt\n",
    "print ('\\nNumber of sequences post-filter: {}'.format(ret[0]))"
   ]
  },
  {
   "cell_type": "code",
   "execution_count": 20,
   "metadata": {
    "collapsed": false
   },
   "outputs": [
    {
     "name": "stdout",
     "output_type": "stream",
     "text": [
      "82000\r\n",
      "82100\r\n",
      "82200\r\n",
      "82300\r\n",
      "82400\r\n",
      "82500\r\n",
      "82600\r\n",
      "82700\r\n",
      "82800\r\n",
      "82871\r\n",
      "[WARNING]: Some of your sequences generated alignments that eliminated too many bases, a list is provided in pear_merged-fullCyc2_lib5.assembled.dmult_maxee1_noN.unique.flip.accnos. If the reverse compliment proved to be better it was reported.\r\n",
      "It took 638 secs to align 1649329 sequences.\r\n",
      "\r\n",
      "\r\n",
      "Output File Names: \r\n",
      "pear_merged-fullCyc2_lib5.assembled.dmult_maxee1_noN.unique.align\r\n",
      "pear_merged-fullCyc2_lib5.assembled.dmult_maxee1_noN.unique.align.report\r\n",
      "pear_merged-fullCyc2_lib5.assembled.dmult_maxee1_noN.unique.flip.accnos\r\n",
      "\r\n",
      "\r\n",
      "mothur > quit()\r\n",
      "\r\n",
      "\r\n",
      "<<<<<<<<<<<<<<<<<<<<<<<<<<<<<<^>>>>>>>>>>>>>>>>>>>>>>>>>>>>>\r\n",
      "<<<<<<<<<<<<<<<<<<<<<<<<<<<<<<^>>>>>>>>>>>>>>>>>>>>>>>>>>>>>\r\n",
      "<<<<<<<<<<<<<<<<<<<<<<<<<<<<<<^>>>>>>>>>>>>>>>>>>>>>>>>>>>>>\r\n",
      "Detected 1 [WARNING] messages, please review.\r\n",
      "<<<<<<<<<<<<<<<<<<<<<<<<<<<<<<^>>>>>>>>>>>>>>>>>>>>>>>>>>>>>\r\n",
      "<<<<<<<<<<<<<<<<<<<<<<<<<<<<<<^>>>>>>>>>>>>>>>>>>>>>>>>>>>>>\r\n",
      "<<<<<<<<<<<<<<<<<<<<<<<<<<<<<<^>>>>>>>>>>>>>>>>>>>>>>>>>>>>>\r\n"
     ]
    }
   ],
   "source": [
    "# aligning sequences\n",
    "qcFile3a = re.sub('-', '\\-', qcFile3)\n",
    "cmd = 'mothur \"#align.seqs(candidate={}, template={}, processors={}, flip=T)\"'.format(qcFile3a, silvaFileFilt, nprocs)\n",
    "!$cmd | tail -n 30"
   ]
  },
  {
   "cell_type": "code",
   "execution_count": 21,
   "metadata": {
    "collapsed": false
   },
   "outputs": [
    {
     "name": "stdout",
     "output_type": "stream",
     "text": [
      "-rw-rw-r-- 1 sam sam 16G May 16 08:41 pear_merged-fullCyc2_lib5.assembled.dmult_maxee1_noN.unique.align\r\n"
     ]
    }
   ],
   "source": [
    "qcFile4 = os.path.splitext(qcFile3)[0] + '.align'\n",
    "!ls -thlc $qcFile4 "
   ]
  },
  {
   "cell_type": "code",
   "execution_count": 22,
   "metadata": {
    "collapsed": false
   },
   "outputs": [
    {
     "name": "stdout",
     "output_type": "stream",
     "text": [
      "81000\r\n",
      "81100\r\n",
      "81200\r\n",
      "81300\r\n",
      "81400\r\n",
      "81500\r\n",
      "81600\r\n",
      "81700\r\n",
      "81800\r\n",
      "81900\r\n",
      "82000\r\n",
      "82100\r\n",
      "82200\r\n",
      "82300\r\n",
      "82400\r\n",
      "82480\r\n",
      "\r\n",
      "\r\n",
      "\r\n",
      "Length of filtered alignment: 1347\r\n",
      "Number of columns removed: 8833\r\n",
      "Length of the original alignment: 10180\r\n",
      "Number of sequences used to construct filter: 1649329\r\n",
      "\r\n",
      "Output File Names: \r\n",
      "pear_merged-fullCyc2_lib5.filter\r\n",
      "pear_merged-fullCyc2_lib5.assembled.dmult_maxee1_noN.unique.filter.fasta\r\n",
      "\r\n",
      "\r\n",
      "mothur > quit()\r\n"
     ]
    }
   ],
   "source": [
    "# filtering out gap positions in the alignment\n",
    "qcFile4a = re.sub('-', '\\-', qcFile4)\n",
    "cmd = 'mothur \"#filter.seqs(vertical=t, fasta={}, processors={})\"'.format(qcFile4a, nprocs)\n",
    "!$cmd | tail -n 30"
   ]
  },
  {
   "cell_type": "code",
   "execution_count": 23,
   "metadata": {
    "collapsed": false
   },
   "outputs": [
    {
     "name": "stdout",
     "output_type": "stream",
     "text": [
      "-rw-rw-r-- 1 sam sam 2.2G May 16 08:43 pear_merged-fullCyc2_lib5.assembled.dmult_maxee1_noN.unique.filter.fasta\r\n"
     ]
    }
   ],
   "source": [
    "qcFile5 = os.path.splitext(qcFile3)[0] + '.filter.fasta'\n",
    "!ls -thlc $qcFile5"
   ]
  },
  {
   "cell_type": "code",
   "execution_count": 24,
   "metadata": {
    "collapsed": false
   },
   "outputs": [
    {
     "name": "stdout",
     "output_type": "stream",
     "text": [
      "Using 20 processors.\r\n",
      "\r\n",
      "\t\tStart\tEnd\tNBases\tAmbigs\tPolymer\tNumSeqs\r\n",
      "Minimum:\t0\t0\t0\t0\t1\t1\r\n",
      "2.5%-tile:\t221\t959\t253\t0\t4\t67403\r\n",
      "25%-tile:\t221\t959\t253\t0\t4\t674029\r\n",
      "Median: \t221\t959\t253\t0\t5\t1348058\r\n",
      "75%-tile:\t221\t959\t253\t0\t6\t2022086\r\n",
      "97.5%-tile:\t221\t959\t254\t0\t8\t2628712\r\n",
      "Maximum:\t1347\t1347\t366\t0\t55\t2696114\r\n",
      "Mean:\t222.415\t958.778\t252.526\t0\t4.92467\r\n",
      "# of unique seqs:\t1649329\r\n",
      "total # of seqs:\t2696114\r\n",
      "\r\n",
      "Output File Names: \r\n",
      "pear_merged-fullCyc2_lib5.assembled.dmult_maxee1_noN.unique.filter.summary\r\n",
      "\r\n",
      "It took 9 secs to summarize 2696114 sequences.\r\n",
      "\r\n",
      "mothur > quit()\r\n"
     ]
    }
   ],
   "source": [
    "cmd = 'mothur \"#summary.seqs(fasta={}, processors={}, name={})\"'.format(qcFile5, nprocs, nameFile)\n",
    "!$cmd | tail -n 20"
   ]
  },
  {
   "cell_type": "markdown",
   "metadata": {},
   "source": [
    "## Removing homopolymers (> 8) and screening out sequences that don't align to an amplicon region"
   ]
  },
  {
   "cell_type": "code",
   "execution_count": 25,
   "metadata": {
    "collapsed": false
   },
   "outputs": [
    {
     "name": "stdout",
     "output_type": "stream",
     "text": [
      "Processing sequence: 80800\r\n",
      "Processing sequence: 80900\r\n",
      "Processing sequence: 81000\r\n",
      "Processing sequence: 81100\r\n",
      "Processing sequence: 81200\r\n",
      "Processing sequence: 81300\r\n",
      "Processing sequence: 81400\r\n",
      "Processing sequence: 81500\r\n",
      "Processing sequence: 81600\r\n",
      "Processing sequence: 81700\r\n",
      "Processing sequence: 81800\r\n",
      "Processing sequence: 81900\r\n",
      "Processing sequence: 82000\r\n",
      "Processing sequence: 82100\r\n",
      "Processing sequence: 82200\r\n",
      "Processing sequence: 82300\r\n",
      "Processing sequence: 82400\r\n",
      "Processing sequence: 82500\r\n",
      "Processing sequence: 82560\r\n",
      "\r\n",
      "Output File Names: \r\n",
      "pear_merged-fullCyc2_lib5.assembled.dmult_maxee1_noN.unique.filter.good.fasta\r\n",
      "pear_merged-fullCyc2_lib5.assembled.dmult_maxee1_noN.unique.filter.bad.accnos\r\n",
      "pear_merged-fullCyc2_lib5.assembled.dmult_maxee1_noN.good.names\r\n",
      "group_file.good.txt\r\n",
      "\r\n",
      "\r\n",
      "It took 17 secs to screen 1649329 sequences.\r\n",
      "\r\n",
      "mothur > quit()\r\n"
     ]
    }
   ],
   "source": [
    "cmd = \"\"\"mothur '#screen.seqs(fasta={},\\\n",
    "    processors={},\\\n",
    "    name={},\\\n",
    "    group={},\\\n",
    "    start={},\\\n",
    "    end={},\\\n",
    "    maxhomop=8)'\"\"\".format(qcFile5, nprocs, nameFile, 'group_file.txt', 221, 959)\n",
    "!$cmd | tail -n 30"
   ]
  },
  {
   "cell_type": "code",
   "execution_count": 26,
   "metadata": {
    "collapsed": false
   },
   "outputs": [
    {
     "name": "stdout",
     "output_type": "stream",
     "text": [
      "Number of sequences post-filter: 1615353\n"
     ]
    }
   ],
   "source": [
    "qcFile6 = os.path.splitext(qcFile5)[0] + '.good.fasta'\n",
    "ret = !grep -c \">\" $qcFile6\n",
    "print ('Number of sequences post-filter: {}'.format(ret[0]))"
   ]
  },
  {
   "cell_type": "code",
   "execution_count": 27,
   "metadata": {
    "collapsed": false
   },
   "outputs": [
    {
     "name": "stdout",
     "output_type": "stream",
     "text": [
      "80400\r\n",
      "80500\r\n",
      "80600\r\n",
      "80700\r\n",
      "80800\r\n",
      "80860\r\n",
      "\r\n",
      "\r\n",
      "\r\n",
      "Length of filtered alignment: 934\r\n",
      "Number of columns removed: 413\r\n",
      "Length of the original alignment: 1347\r\n",
      "Number of sequences used to construct filter: 1615353\r\n",
      "\r\n",
      "Output File Names: \r\n",
      "pear_merged-fullCyc2_lib5.filter\r\n",
      "pear_merged-fullCyc2_lib5.assembled.dmult_maxee1_noN.unique.filter.good.filter.fasta\r\n",
      "\r\n",
      "\r\n",
      "mothur > quit()\r\n"
     ]
    }
   ],
   "source": [
    "qcFile6a = re.sub('-', '\\-', qcFile6)\n",
    "cmd = 'mothur \"#filter.seqs(fasta={}, processors={}, vertical=T)\"'.format(qcFile6a, nprocs)\n",
    "!$cmd | tail -n 20"
   ]
  },
  {
   "cell_type": "code",
   "execution_count": 28,
   "metadata": {
    "collapsed": false
   },
   "outputs": [
    {
     "name": "stdout",
     "output_type": "stream",
     "text": [
      "-rw-rw-r-- 1 sam sam 1.5G May 16 08:44 pear_merged-fullCyc2_lib5.assembled.dmult_maxee1_noN.unique.filter.good.filter.fasta\r\n"
     ]
    }
   ],
   "source": [
    "qcFile7 = os.path.splitext(qcFile6)[0] + '.filter.fasta'\n",
    "!ls -thlc $qcFile7"
   ]
  },
  {
   "cell_type": "markdown",
   "metadata": {},
   "source": [
    "## Deunique seqs"
   ]
  },
  {
   "cell_type": "code",
   "execution_count": 29,
   "metadata": {
    "collapsed": false
   },
   "outputs": [
    {
     "name": "stdout",
     "output_type": "stream",
     "text": [
      "mothur v.1.39.5\r\n",
      "Last updated: 3/20/2017\r\n",
      "\r\n",
      "by\r\n",
      "Patrick D. Schloss\r\n",
      "\r\n",
      "Department of Microbiology & Immunology\r\n",
      "University of Michigan\r\n",
      "http://www.mothur.org\r\n",
      "\r\n",
      "When using, please cite:\r\n",
      "Schloss, P.D., et al., Introducing mothur: Open-source, platform-independent, community-supported software for describing and comparing microbial communities. Appl Environ Microbiol, 2009. 75(23):7537-41.\r\n",
      "\r\n",
      "Distributed under the GNU General Public License\r\n",
      "\r\n",
      "Type 'help()' for information on the commands that are available\r\n",
      "\r\n",
      "For questions and analysis support, please visit our forum at https://www.mothur.org/forum\r\n",
      "\r\n",
      "Type 'quit()' to exit program\r\n",
      "\r\n",
      "\r\n",
      "\r\n",
      "mothur > deunique.seqs(fasta=pear_merged-fullCyc2_lib5.assembled.dmult_maxee1_noN.unique.filter.good.filter.fasta, name=pear_merged-fullCyc2_lib5.assembled.dmult_maxee1_noN.names)\r\n",
      "\r\n",
      "Output File Names: \r\n",
      "pear_merged-fullCyc2_lib5.assembled.dmult_maxee1_noN.unique.filter.good.filter.redundant.fasta\r\n",
      "\r\n",
      "\r\n",
      "mothur > quit()\r\n"
     ]
    }
   ],
   "source": [
    "cmd = 'mothur \"#deunique.seqs(fasta={}, name={})\"'.format(qcFile7, nameFile)\n",
    "!$cmd | tail -n 30"
   ]
  },
  {
   "cell_type": "markdown",
   "metadata": {},
   "source": [
    "### Final QC-ed file"
   ]
  },
  {
   "cell_type": "code",
   "execution_count": 30,
   "metadata": {
    "collapsed": true
   },
   "outputs": [],
   "source": [
    "qcFile8 = os.path.splitext(qcFile7)[0] + '.redundant.fasta'\n",
    "qcFinal = 'finalQC.fasta'\n",
    "!perl -pe 's/[-.]//g if ! /^>/' $qcFile8 > $qcFinal"
   ]
  },
  {
   "cell_type": "code",
   "execution_count": 31,
   "metadata": {
    "collapsed": false
   },
   "outputs": [
    {
     "name": "stdout",
     "output_type": "stream",
     "text": [
      "\r\n",
      "Using 20 processors.\r\n",
      "\r\n",
      "\t\tStart\tEnd\tNBases\tAmbigs\tPolymer\tNumSeqs\r\n",
      "Minimum:\t1\t213\t213\t0\t3\t1\r\n",
      "2.5%-tile:\t1\t253\t253\t0\t4\t66191\r\n",
      "25%-tile:\t1\t253\t253\t0\t4\t661909\r\n",
      "Median: \t1\t253\t253\t0\t5\t1323818\r\n",
      "75%-tile:\t1\t253\t253\t0\t6\t1985727\r\n",
      "97.5%-tile:\t1\t254\t254\t0\t8\t2581445\r\n",
      "Maximum:\t1\t366\t366\t0\t8\t2647635\r\n",
      "Mean:\t1\t253.077\t253.077\t0\t4.91249\r\n",
      "# of Seqs:\t2647635\r\n",
      "\r\n",
      "Output File Names: \r\n",
      "finalQC.summary\r\n",
      "\r\n",
      "It took 2 secs to summarize 2647635 sequences.\r\n",
      "\r\n",
      "mothur > quit()\r\n"
     ]
    }
   ],
   "source": [
    "cmd = 'mothur \"#summary.seqs(fasta={}, processors={})\"'.format(qcFinal, nprocs)\n",
    "!$cmd | tail -n 20"
   ]
  },
  {
   "cell_type": "code",
   "execution_count": 32,
   "metadata": {
    "collapsed": false
   },
   "outputs": [
    {
     "name": "stdout",
     "output_type": "stream",
     "text": [
      ">MR.F.13C-Pal.D14.R1_Frac5_0\r\n",
      "TACGAAGGGGGCTAGCGTTGTTCGGAATTACTGGGCGTAAAGCGCGCGCAGGCGGTCTTCCAAGTCAGTGGTGAAAGCCCGGAGCTCAACTCCGGAACTGCCATTGAAACTGTTAGACTTGAGGACGAGAGAGGTGAGTGGAATTCCCAGTGTAGAGGTGAAATTCGTAGATATTGGGAAGAACACCGGTGGCGAAGGCGGCTCACTGGCTCGTATCTGACGCTCAGGCGCGACAGCGTGGGGATCAAACAGG\r\n",
      ">MR.F.13C-Van.D6.R1_Frac10_24154\r\n",
      "TACGAAGGGGGCTAGCGTTGTTCGGAATTACTGGGCGTAAAGCGCGCGCAGGCGGTCTTCCAAGTCAGTGGTGAAAGCCCGGAGCTCAACTCCGGAACTGCCATTGAAACTGTTAGACTTGAGGACGAGAGAGGTGAGTGGAATTCCCAGTGTAGAGGTGAAATTCGTAGATATTGGGAAGAACACCGGTGGCGAAGGCGGCTCACTGGCTCGTATCTGACGCTCAGGCGCGACAGCGTGGGGATCAAACAGG\r\n",
      ">MR.F.13C-Van.D6.R1_Frac5_153329\r\n",
      "TACGAAGGGGGCTAGCGTTGTTCGGAATTACTGGGCGTAAAGCGCGCGCAGGCGGTCTTCCAAGTCAGTGGTGAAAGCCCGGAGCTCAACTCCGGAACTGCCATTGAAACTGTTAGACTTGAGGACGAGAGAGGTGAGTGGAATTCCCAGTGTAGAGGTGAAATTCGTAGATATTGGGAAGAACACCGGTGGCGAAGGCGGCTCACTGGCTCGTATCTGACGCTCAGGCGCGACAGCGTGGGGATCAAACAGG\r\n"
     ]
    }
   ],
   "source": [
    "!head -n 6 $qcFinal"
   ]
  },
  {
   "cell_type": "markdown",
   "metadata": {},
   "source": [
    "## Summary of number of seqs per sample"
   ]
  },
  {
   "cell_type": "code",
   "execution_count": 33,
   "metadata": {
    "collapsed": true
   },
   "outputs": [],
   "source": [
    "re1 = re.compile('_[0-9]+$')\n",
    "\n",
    "qcFinalSum = os.path.splitext(qcFinal)[0] + '.summary'\n",
    "\n",
    "samp_count = dict()\n",
    "with open(qcFinalSum, 'r') as inFH:\n",
    "    for line in inFH:\n",
    "        if line.startswith('seqname'):\n",
    "            continue\n",
    "        line = line.rstrip().split('\\t')\n",
    "        line[0] = re.sub(re1, '', line[0])\n",
    "        try:\n",
    "            samp_count[line[0]] += 1\n",
    "        except KeyError:\n",
    "            samp_count[line[0]] = 1"
   ]
  },
  {
   "cell_type": "code",
   "execution_count": 34,
   "metadata": {
    "collapsed": false
   },
   "outputs": [
    {
     "data": {
      "text/html": [
       "<div>\n",
       "<style scoped>\n",
       "    .dataframe tbody tr th:only-of-type {\n",
       "        vertical-align: middle;\n",
       "    }\n",
       "\n",
       "    .dataframe tbody tr th {\n",
       "        vertical-align: top;\n",
       "    }\n",
       "\n",
       "    .dataframe thead th {\n",
       "        text-align: right;\n",
       "    }\n",
       "</style>\n",
       "<table border=\"1\" class=\"dataframe\">\n",
       "  <thead>\n",
       "    <tr style=\"text-align: right;\">\n",
       "      <th></th>\n",
       "      <th>Sample</th>\n",
       "      <th>seq_count</th>\n",
       "    </tr>\n",
       "  </thead>\n",
       "  <tbody>\n",
       "    <tr>\n",
       "      <th>0</th>\n",
       "      <td>MR.F.13C-Pal.D14.R1_Frac5</td>\n",
       "      <td>39730</td>\n",
       "    </tr>\n",
       "    <tr>\n",
       "      <th>1</th>\n",
       "      <td>MR.F.13C-Van.D6.R1_Frac10</td>\n",
       "      <td>18671</td>\n",
       "    </tr>\n",
       "    <tr>\n",
       "      <th>2</th>\n",
       "      <td>MR.F.13C-Van.D6.R1_Frac5</td>\n",
       "      <td>19562</td>\n",
       "    </tr>\n",
       "    <tr>\n",
       "      <th>3</th>\n",
       "      <td>MR.F.13C-Pal.D14.R1_Frac4</td>\n",
       "      <td>38577</td>\n",
       "    </tr>\n",
       "    <tr>\n",
       "      <th>4</th>\n",
       "      <td>MR.M.13C-Cel.D6.R1_Frac7</td>\n",
       "      <td>9119</td>\n",
       "    </tr>\n",
       "    <tr>\n",
       "      <th>5</th>\n",
       "      <td>MR.M.13C-Cel.D6.R1_Frac22</td>\n",
       "      <td>5580</td>\n",
       "    </tr>\n",
       "    <tr>\n",
       "      <th>6</th>\n",
       "      <td>MR.F.13C-Pal.D14.R1_Frac17</td>\n",
       "      <td>45643</td>\n",
       "    </tr>\n",
       "    <tr>\n",
       "      <th>7</th>\n",
       "      <td>MR.F.13C-Pal.D14.R1_Frac12</td>\n",
       "      <td>28531</td>\n",
       "    </tr>\n",
       "    <tr>\n",
       "      <th>8</th>\n",
       "      <td>MR.F.13C-Pal.D14.R1_Frac11</td>\n",
       "      <td>59241</td>\n",
       "    </tr>\n",
       "    <tr>\n",
       "      <th>9</th>\n",
       "      <td>MR.M.13C-Cel.D6.R1_Frac9</td>\n",
       "      <td>17188</td>\n",
       "    </tr>\n",
       "    <tr>\n",
       "      <th>10</th>\n",
       "      <td>MR.M.12C-Con.D30.R1_Frac4</td>\n",
       "      <td>16870</td>\n",
       "    </tr>\n",
       "    <tr>\n",
       "      <th>11</th>\n",
       "      <td>MR.F.13C-Van.D6.R1_Frac27</td>\n",
       "      <td>19367</td>\n",
       "    </tr>\n",
       "    <tr>\n",
       "      <th>12</th>\n",
       "      <td>MR.F.13C-Pal.D14.R1_Frac14</td>\n",
       "      <td>50482</td>\n",
       "    </tr>\n",
       "    <tr>\n",
       "      <th>13</th>\n",
       "      <td>MR.F.13C-Pal.D14.R1_Frac16</td>\n",
       "      <td>37996</td>\n",
       "    </tr>\n",
       "    <tr>\n",
       "      <th>14</th>\n",
       "      <td>MR.F.13C-Pal.D14.R1_Frac6</td>\n",
       "      <td>80965</td>\n",
       "    </tr>\n",
       "    <tr>\n",
       "      <th>15</th>\n",
       "      <td>MR.F.13C-Pal.D14.R1_Frac8</td>\n",
       "      <td>34427</td>\n",
       "    </tr>\n",
       "    <tr>\n",
       "      <th>16</th>\n",
       "      <td>MR.F.13C-Van.D6.R1_Frac12</td>\n",
       "      <td>19398</td>\n",
       "    </tr>\n",
       "    <tr>\n",
       "      <th>17</th>\n",
       "      <td>MR.F.13C-Van.D6.R1_Frac21</td>\n",
       "      <td>21008</td>\n",
       "    </tr>\n",
       "    <tr>\n",
       "      <th>18</th>\n",
       "      <td>MR.F.13C-Van.D6.R1_Frac9</td>\n",
       "      <td>26110</td>\n",
       "    </tr>\n",
       "    <tr>\n",
       "      <th>19</th>\n",
       "      <td>MR.A.13C-Xyl.D14.R3_Frac25</td>\n",
       "      <td>6592</td>\n",
       "    </tr>\n",
       "    <tr>\n",
       "      <th>20</th>\n",
       "      <td>MR.F.13C-Van.D6.R1_Frac6</td>\n",
       "      <td>17303</td>\n",
       "    </tr>\n",
       "    <tr>\n",
       "      <th>21</th>\n",
       "      <td>MR.F.13C-Van.D6.R1_Frac15</td>\n",
       "      <td>15282</td>\n",
       "    </tr>\n",
       "    <tr>\n",
       "      <th>22</th>\n",
       "      <td>MR.F.13C-Pal.D14.R1_Frac13</td>\n",
       "      <td>34585</td>\n",
       "    </tr>\n",
       "    <tr>\n",
       "      <th>23</th>\n",
       "      <td>MR.A.13C-Xyl.D14.R3_Frac24</td>\n",
       "      <td>6486</td>\n",
       "    </tr>\n",
       "    <tr>\n",
       "      <th>24</th>\n",
       "      <td>MR.F.13C-Van.D6.R1_Frac14</td>\n",
       "      <td>22922</td>\n",
       "    </tr>\n",
       "    <tr>\n",
       "      <th>25</th>\n",
       "      <td>MR.F.13C-Pal.D14.R1_Frac19</td>\n",
       "      <td>41628</td>\n",
       "    </tr>\n",
       "    <tr>\n",
       "      <th>26</th>\n",
       "      <td>MR.F.13C-Van.D6.R1_Frac17</td>\n",
       "      <td>24868</td>\n",
       "    </tr>\n",
       "    <tr>\n",
       "      <th>27</th>\n",
       "      <td>MR.F.13C-Van.D6.R1_Frac11</td>\n",
       "      <td>23268</td>\n",
       "    </tr>\n",
       "    <tr>\n",
       "      <th>28</th>\n",
       "      <td>MR.F.13C-Van.D6.R1_Frac16</td>\n",
       "      <td>15487</td>\n",
       "    </tr>\n",
       "    <tr>\n",
       "      <th>29</th>\n",
       "      <td>MR.F.13C-Van.D6.R1_Frac13</td>\n",
       "      <td>23725</td>\n",
       "    </tr>\n",
       "    <tr>\n",
       "      <th>...</th>\n",
       "      <td>...</td>\n",
       "      <td>...</td>\n",
       "    </tr>\n",
       "    <tr>\n",
       "      <th>162</th>\n",
       "      <td>MR.M.12C-Con.D14.R1_Frac12</td>\n",
       "      <td>15505</td>\n",
       "    </tr>\n",
       "    <tr>\n",
       "      <th>163</th>\n",
       "      <td>MR.M.13C-Cel.D6.R1_Frac18</td>\n",
       "      <td>8381</td>\n",
       "    </tr>\n",
       "    <tr>\n",
       "      <th>164</th>\n",
       "      <td>MR.M.13C-Cel.D6.R1_Frac5</td>\n",
       "      <td>8281</td>\n",
       "    </tr>\n",
       "    <tr>\n",
       "      <th>165</th>\n",
       "      <td>MR.M.12C-Con.D14.R1_Frac17</td>\n",
       "      <td>6362</td>\n",
       "    </tr>\n",
       "    <tr>\n",
       "      <th>166</th>\n",
       "      <td>MR.M.13C-Cel.D30.R3_Frac11</td>\n",
       "      <td>4304</td>\n",
       "    </tr>\n",
       "    <tr>\n",
       "      <th>167</th>\n",
       "      <td>MR.M.12C-Con.D30.R1_Frac27</td>\n",
       "      <td>10262</td>\n",
       "    </tr>\n",
       "    <tr>\n",
       "      <th>168</th>\n",
       "      <td>MR.M.13C-Van.D6.R1_Frac9</td>\n",
       "      <td>7019</td>\n",
       "    </tr>\n",
       "    <tr>\n",
       "      <th>169</th>\n",
       "      <td>MR.M.12C-Con.D14.R1_Frac20</td>\n",
       "      <td>8136</td>\n",
       "    </tr>\n",
       "    <tr>\n",
       "      <th>170</th>\n",
       "      <td>MR.M.12C-Con.D30.R1_Frac17</td>\n",
       "      <td>9585</td>\n",
       "    </tr>\n",
       "    <tr>\n",
       "      <th>171</th>\n",
       "      <td>MR.M.13C-Van.D6.R1_Frac10</td>\n",
       "      <td>7255</td>\n",
       "    </tr>\n",
       "    <tr>\n",
       "      <th>172</th>\n",
       "      <td>MR.M.13C-Van.D6.R1_Frac21</td>\n",
       "      <td>8142</td>\n",
       "    </tr>\n",
       "    <tr>\n",
       "      <th>173</th>\n",
       "      <td>MR.M.13C-Cel.D6.R1_Frac14</td>\n",
       "      <td>7533</td>\n",
       "    </tr>\n",
       "    <tr>\n",
       "      <th>174</th>\n",
       "      <td>MR.M.13C-Cel.D30.R3_Frac8</td>\n",
       "      <td>7181</td>\n",
       "    </tr>\n",
       "    <tr>\n",
       "      <th>175</th>\n",
       "      <td>MR.M.12C-Con.D30.R1_Frac15</td>\n",
       "      <td>7342</td>\n",
       "    </tr>\n",
       "    <tr>\n",
       "      <th>176</th>\n",
       "      <td>MR.M.12C-Con.D14.R1_Frac9</td>\n",
       "      <td>7855</td>\n",
       "    </tr>\n",
       "    <tr>\n",
       "      <th>177</th>\n",
       "      <td>MR.M.12C-Con.D14.R1_Frac19</td>\n",
       "      <td>3853</td>\n",
       "    </tr>\n",
       "    <tr>\n",
       "      <th>178</th>\n",
       "      <td>MR.M.13C-Cel.D30.R3_Frac19</td>\n",
       "      <td>4314</td>\n",
       "    </tr>\n",
       "    <tr>\n",
       "      <th>179</th>\n",
       "      <td>MR.M.12C-Con.D14.R1_Frac11</td>\n",
       "      <td>3847</td>\n",
       "    </tr>\n",
       "    <tr>\n",
       "      <th>180</th>\n",
       "      <td>MR.M.13C-Cel.D30.R3_Frac25</td>\n",
       "      <td>8120</td>\n",
       "    </tr>\n",
       "    <tr>\n",
       "      <th>181</th>\n",
       "      <td>MR.M.13C-Cel.D30.R3_Frac27</td>\n",
       "      <td>5872</td>\n",
       "    </tr>\n",
       "    <tr>\n",
       "      <th>182</th>\n",
       "      <td>MR.M.12C-Con.D14.R1_Frac27</td>\n",
       "      <td>3988</td>\n",
       "    </tr>\n",
       "    <tr>\n",
       "      <th>183</th>\n",
       "      <td>MR.M.12C-Con.D30.R1_Frac22</td>\n",
       "      <td>3258</td>\n",
       "    </tr>\n",
       "    <tr>\n",
       "      <th>184</th>\n",
       "      <td>MR.A.13C-Xyl.D14.R3_MC</td>\n",
       "      <td>7016</td>\n",
       "    </tr>\n",
       "    <tr>\n",
       "      <th>185</th>\n",
       "      <td>MR.M.13C-Cel.D30.R3_NC</td>\n",
       "      <td>580</td>\n",
       "    </tr>\n",
       "    <tr>\n",
       "      <th>186</th>\n",
       "      <td>MR.M.13C-Van.D6.R1_NC</td>\n",
       "      <td>159</td>\n",
       "    </tr>\n",
       "    <tr>\n",
       "      <th>187</th>\n",
       "      <td>MR.F.13C-Van.D6.R1_NC</td>\n",
       "      <td>375</td>\n",
       "    </tr>\n",
       "    <tr>\n",
       "      <th>188</th>\n",
       "      <td>MR.M.12C-Con.D30.R1_NC</td>\n",
       "      <td>540</td>\n",
       "    </tr>\n",
       "    <tr>\n",
       "      <th>189</th>\n",
       "      <td>MR.M.13C-Cel.D6.R1_NC</td>\n",
       "      <td>73</td>\n",
       "    </tr>\n",
       "    <tr>\n",
       "      <th>190</th>\n",
       "      <td>MR.M.12C-Con.D14.R1_NC</td>\n",
       "      <td>695</td>\n",
       "    </tr>\n",
       "    <tr>\n",
       "      <th>191</th>\n",
       "      <td>MR.A.13C-Xyl.D14.R3_NC</td>\n",
       "      <td>122</td>\n",
       "    </tr>\n",
       "  </tbody>\n",
       "</table>\n",
       "<p>192 rows × 2 columns</p>\n",
       "</div>"
      ],
      "text/plain": [
       "                         Sample  seq_count\n",
       "0     MR.F.13C-Pal.D14.R1_Frac5      39730\n",
       "1     MR.F.13C-Van.D6.R1_Frac10      18671\n",
       "2      MR.F.13C-Van.D6.R1_Frac5      19562\n",
       "3     MR.F.13C-Pal.D14.R1_Frac4      38577\n",
       "4      MR.M.13C-Cel.D6.R1_Frac7       9119\n",
       "5     MR.M.13C-Cel.D6.R1_Frac22       5580\n",
       "6    MR.F.13C-Pal.D14.R1_Frac17      45643\n",
       "7    MR.F.13C-Pal.D14.R1_Frac12      28531\n",
       "8    MR.F.13C-Pal.D14.R1_Frac11      59241\n",
       "9      MR.M.13C-Cel.D6.R1_Frac9      17188\n",
       "10    MR.M.12C-Con.D30.R1_Frac4      16870\n",
       "11    MR.F.13C-Van.D6.R1_Frac27      19367\n",
       "12   MR.F.13C-Pal.D14.R1_Frac14      50482\n",
       "13   MR.F.13C-Pal.D14.R1_Frac16      37996\n",
       "14    MR.F.13C-Pal.D14.R1_Frac6      80965\n",
       "15    MR.F.13C-Pal.D14.R1_Frac8      34427\n",
       "16    MR.F.13C-Van.D6.R1_Frac12      19398\n",
       "17    MR.F.13C-Van.D6.R1_Frac21      21008\n",
       "18     MR.F.13C-Van.D6.R1_Frac9      26110\n",
       "19   MR.A.13C-Xyl.D14.R3_Frac25       6592\n",
       "20     MR.F.13C-Van.D6.R1_Frac6      17303\n",
       "21    MR.F.13C-Van.D6.R1_Frac15      15282\n",
       "22   MR.F.13C-Pal.D14.R1_Frac13      34585\n",
       "23   MR.A.13C-Xyl.D14.R3_Frac24       6486\n",
       "24    MR.F.13C-Van.D6.R1_Frac14      22922\n",
       "25   MR.F.13C-Pal.D14.R1_Frac19      41628\n",
       "26    MR.F.13C-Van.D6.R1_Frac17      24868\n",
       "27    MR.F.13C-Van.D6.R1_Frac11      23268\n",
       "28    MR.F.13C-Van.D6.R1_Frac16      15487\n",
       "29    MR.F.13C-Van.D6.R1_Frac13      23725\n",
       "..                          ...        ...\n",
       "162  MR.M.12C-Con.D14.R1_Frac12      15505\n",
       "163   MR.M.13C-Cel.D6.R1_Frac18       8381\n",
       "164    MR.M.13C-Cel.D6.R1_Frac5       8281\n",
       "165  MR.M.12C-Con.D14.R1_Frac17       6362\n",
       "166  MR.M.13C-Cel.D30.R3_Frac11       4304\n",
       "167  MR.M.12C-Con.D30.R1_Frac27      10262\n",
       "168    MR.M.13C-Van.D6.R1_Frac9       7019\n",
       "169  MR.M.12C-Con.D14.R1_Frac20       8136\n",
       "170  MR.M.12C-Con.D30.R1_Frac17       9585\n",
       "171   MR.M.13C-Van.D6.R1_Frac10       7255\n",
       "172   MR.M.13C-Van.D6.R1_Frac21       8142\n",
       "173   MR.M.13C-Cel.D6.R1_Frac14       7533\n",
       "174   MR.M.13C-Cel.D30.R3_Frac8       7181\n",
       "175  MR.M.12C-Con.D30.R1_Frac15       7342\n",
       "176   MR.M.12C-Con.D14.R1_Frac9       7855\n",
       "177  MR.M.12C-Con.D14.R1_Frac19       3853\n",
       "178  MR.M.13C-Cel.D30.R3_Frac19       4314\n",
       "179  MR.M.12C-Con.D14.R1_Frac11       3847\n",
       "180  MR.M.13C-Cel.D30.R3_Frac25       8120\n",
       "181  MR.M.13C-Cel.D30.R3_Frac27       5872\n",
       "182  MR.M.12C-Con.D14.R1_Frac27       3988\n",
       "183  MR.M.12C-Con.D30.R1_Frac22       3258\n",
       "184      MR.A.13C-Xyl.D14.R3_MC       7016\n",
       "185      MR.M.13C-Cel.D30.R3_NC        580\n",
       "186       MR.M.13C-Van.D6.R1_NC        159\n",
       "187       MR.F.13C-Van.D6.R1_NC        375\n",
       "188      MR.M.12C-Con.D30.R1_NC        540\n",
       "189       MR.M.13C-Cel.D6.R1_NC         73\n",
       "190      MR.M.12C-Con.D14.R1_NC        695\n",
       "191      MR.A.13C-Xyl.D14.R3_NC        122\n",
       "\n",
       "[192 rows x 2 columns]"
      ]
     },
     "execution_count": 34,
     "metadata": {},
     "output_type": "execute_result"
    }
   ],
   "source": [
    "# converting to dataframe\n",
    "df_seq_cnt = pd.DataFrame.from_dict(samp_count, orient='index')\n",
    "df_seq_cnt.index.name = 'Sample'\n",
    "df_seq_cnt.reset_index(inplace=True)\n",
    "df_seq_cnt.columns = ['Sample', 'seq_count']\n",
    "df_seq_cnt"
   ]
  },
  {
   "cell_type": "code",
   "execution_count": 35,
   "metadata": {
    "collapsed": false
   },
   "outputs": [
    {
     "data": {
      "image/png": "[encoded data removed]"
     },
     "metadata": {},
     "output_type": "display_data"
    }
   ],
   "source": [
    "%%R -i df_seq_cnt -w 800 -h 350\n",
    "# plotting all\n",
    "\n",
    "df_seq_cnt$seq_count = as.numeric(df_seq_cnt$seq_count)\n",
    "\n",
    "\n",
    "df_seq_cnt = df_seq_cnt %>% \n",
    "    #mutate(H2O = grepl('_F0$', Sample)) %>%\n",
    "    mutate(rank = min_rank(seq_count)) %>%\n",
    "    arrange(desc(rank))\n",
    "\n",
    "df_seq_cnt$Sample = factor(df_seq_cnt$Sample, levels=df_seq_cnt$Sample)\n",
    "\n",
    "ggplot(df_seq_cnt, aes(Sample, seq_count)) +\n",
    "    geom_bar(stat='identity') +\n",
    "    theme_bw() +\n",
    "    theme(\n",
    "        text = element_text(size=16),\n",
    "        axis.text.x = element_text(angle=45, hjust=1)\n",
    "    )"
   ]
  },
  {
   "cell_type": "code",
   "execution_count": 37,
   "metadata": {
    "collapsed": false
   },
   "outputs": [
    {
     "data": {
      "text/plain": [
       "                        Sample seq_count rank\n",
       "176 MR.M.13C-Cel.D30.R3_Frac19      4314   17\n",
       "177 MR.M.13C-Cel.D30.R3_Frac11      4304   16\n",
       "178 MR.M.12C-Con.D30.R1_Frac26      4247   15\n",
       "179 MR.M.12C-Con.D30.R1_Frac23      4024   14\n",
       "180 MR.M.12C-Con.D14.R1_Frac27      3988   13\n",
       "181 MR.M.12C-Con.D14.R1_Frac19      3853   12\n",
       "182 MR.M.12C-Con.D14.R1_Frac11      3847   11\n",
       "183 MR.M.12C-Con.D30.R1_Frac22      3258   10\n",
       "184 MR.A.13C-Xyl.D14.R3_Frac22      3246    9\n",
       "185  MR.F.13C-Van.D6.R1_Frac18      2897    8\n",
       "186     MR.M.12C-Con.D14.R1_NC       695    7\n",
       "187     MR.M.13C-Cel.D30.R3_NC       580    6\n",
       "188     MR.M.12C-Con.D30.R1_NC       540    5\n",
       "189      MR.F.13C-Van.D6.R1_NC       375    4\n",
       "190      MR.M.13C-Van.D6.R1_NC       159    3\n",
       "191     MR.A.13C-Xyl.D14.R3_NC       122    2\n",
       "192      MR.M.13C-Cel.D6.R1_NC        73    1\n"
      ]
     },
     "metadata": {},
     "output_type": "display_data"
    }
   ],
   "source": [
    "%%R\n",
    "df_seq_cnt[df_seq_cnt$seq_count < 5000,]"
   ]
  },
  {
   "cell_type": "code",
   "execution_count": null,
   "metadata": {
    "collapsed": true
   },
   "outputs": [],
   "source": []
  },
  {
   "cell_type": "code",
   "execution_count": null,
   "metadata": {
    "collapsed": true
   },
   "outputs": [],
   "source": []
  }
 ],
 "metadata": {
  "anaconda-cloud": {},
  "hide_input": true,
  "kernelspec": {
   "display_name": "Python 3",
   "language": "python",
   "name": "python3"
  },
  "language_info": {
   "codemirror_mode": {
    "name": "ipython",
    "version": 3
   },
   "file_extension": ".py",
   "mimetype": "text/x-python",
   "name": "python",
   "nbconvert_exporter": "python",
   "pygments_lexer": "ipython3",
   "version": "3.6.4"
  },
  "notify_time": "5"
 },
 "nbformat": 4,
 "nbformat_minor": 1
}
