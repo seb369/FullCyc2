{
 "cells": [
  {
   "cell_type": "markdown",
   "metadata": {},
   "source": [
    "# Description\n",
    "\n",
    "* Merging raw reads with PEAR"
   ]
  },
  {
   "cell_type": "markdown",
   "metadata": {},
   "source": [
    "## Setting variables"
   ]
  },
  {
   "cell_type": "code",
   "execution_count": 1,
   "metadata": {
    "collapsed": true
   },
   "outputs": [],
   "source": [
    "seqdir = '/home/backup_files/raw_reads/fullcyc2.Barnett.2018/fullCyc2_lib5/run2'\n",
    "workdir = '/home/seq_data/fullCyc2/amplicon/515F-806R/final_dataset/library_QC/fullCyc2_lib5'\n",
    "\n",
    "library = 'fullCyc2_lib5'\n",
    "\n",
    "readFile1 = 'read1.fq.gz'\n",
    "readFile2 = 'read2.fq.gz'"
   ]
  },
  {
   "cell_type": "markdown",
   "metadata": {},
   "source": [
    "# Init"
   ]
  },
  {
   "cell_type": "code",
   "execution_count": 2,
   "metadata": {
    "collapsed": false
   },
   "outputs": [],
   "source": [
    "import screed\n",
    "from glob import glob\n",
    "import matplotlib.pyplot as plt\n",
    "import numpy as np\n",
    "from mpld3 import enable_notebook\n",
    "import screed\n",
    "import pandas as pd\n",
    "import os"
   ]
  },
  {
   "cell_type": "code",
   "execution_count": 3,
   "metadata": {
    "collapsed": false
   },
   "outputs": [],
   "source": [
    "%matplotlib inline  \n",
    "%load_ext rpy2.ipython"
   ]
  },
  {
   "cell_type": "code",
   "execution_count": 4,
   "metadata": {
    "collapsed": false
   },
   "outputs": [
    {
     "name": "stderr",
     "output_type": "stream",
     "text": [
      "/home/sam/anaconda3/lib/python3.6/site-packages/rpy2/rinterface/__init__.py:145: RRuntimeWarning: \n",
      "Attaching package: ‘dplyr’\n",
      "\n",
      "\n",
      "  warnings.warn(x, RRuntimeWarning)\n",
      "/home/sam/anaconda3/lib/python3.6/site-packages/rpy2/rinterface/__init__.py:145: RRuntimeWarning: The following objects are masked from ‘package:stats’:\n",
      "\n",
      "    filter, lag\n",
      "\n",
      "\n",
      "  warnings.warn(x, RRuntimeWarning)\n",
      "/home/sam/anaconda3/lib/python3.6/site-packages/rpy2/rinterface/__init__.py:145: RRuntimeWarning: The following objects are masked from ‘package:base’:\n",
      "\n",
      "    intersect, setdiff, setequal, union\n",
      "\n",
      "\n",
      "  warnings.warn(x, RRuntimeWarning)\n"
     ]
    }
   ],
   "source": [
    "%%R\n",
    "library(ggplot2)\n",
    "library(dplyr)"
   ]
  },
  {
   "cell_type": "markdown",
   "metadata": {},
   "source": [
    "### Check that your sequence files and directories do exist and are named as above"
   ]
  },
  {
   "cell_type": "code",
   "execution_count": 5,
   "metadata": {
    "collapsed": false
   },
   "outputs": [
    {
     "name": "stdout",
     "output_type": "stream",
     "text": [
      "/home/backup_files/raw_reads/fullcyc2.Barnett.2018/fullCyc2_lib5/run2\n"
     ]
    }
   ],
   "source": [
    "if not os.path.isdir(seqdir):\n",
    "    print ('Sequence directory Path Does NOT exist!!')\n",
    "else:\n",
    "    %cd $seqdir"
   ]
  },
  {
   "cell_type": "code",
   "execution_count": 6,
   "metadata": {
    "collapsed": false
   },
   "outputs": [
    {
     "name": "stdout",
     "output_type": "stream",
     "text": [
      "-rw-rw-r-- 1 sam raw_reads 1.2G May 14 10:37 read2.fq.gz\r\n",
      "-rw-rw-r-- 1 sam raw_reads 978M May 14 10:37 read1.fq.gz\r\n",
      "-rw-rw-r-- 1 sam raw_reads  68M May 14 10:37 index_read2.fq.gz\r\n",
      "-rw-rw-r-- 1 sam raw_reads  71M May 14 10:37 index_read1.fq.gz\r\n"
     ]
    }
   ],
   "source": [
    "!cd $seqdir; ls -thlc *fq.gz"
   ]
  },
  {
   "cell_type": "code",
   "execution_count": 7,
   "metadata": {
    "collapsed": false
   },
   "outputs": [
    {
     "name": "stdout",
     "output_type": "stream",
     "text": [
      "/home/seq_data/fullCyc2/amplicon/515F-806R/final_dataset/library_QC/fullCyc2_lib5\n"
     ]
    }
   ],
   "source": [
    "if not os.path.isdir(workdir):\n",
    "    os.makedirs(workdir)\n",
    "%cd $workdir"
   ]
  },
  {
   "cell_type": "markdown",
   "metadata": {},
   "source": [
    "## Uncompress the fastq files"
   ]
  },
  {
   "cell_type": "code",
   "execution_count": 8,
   "metadata": {
    "collapsed": false
   },
   "outputs": [],
   "source": [
    "output1 = os.path.join(workdir, \"forward.fastq\")\n",
    "readFile1 = os.path.join(seqdir, readFile1)\n",
    "\n",
    "!cd $workdir; \\\n",
    "    pigz -k -d -p 20 -c $readFile1 > $output1"
   ]
  },
  {
   "cell_type": "code",
   "execution_count": 9,
   "metadata": {
    "collapsed": true
   },
   "outputs": [],
   "source": [
    "output2 = os.path.join(workdir, \"reverse.fastq\")\n",
    "readFile2 = os.path.join(seqdir, readFile2)\n",
    "\n",
    "!cd $workdir; \\\n",
    "    pigz -k -d -p 20 -c $readFile2 > $output2"
   ]
  },
  {
   "cell_type": "markdown",
   "metadata": {},
   "source": [
    "# Merging\n"
   ]
  },
  {
   "cell_type": "code",
   "execution_count": 10,
   "metadata": {
    "collapsed": false
   },
   "outputs": [
    {
     "name": "stdout",
     "output_type": "stream",
     "text": [
      " ____  _____    _    ____ \n",
      "|  _ \\| ____|  / \\  |  _ \\\n",
      "| |_) |  _|   / _ \\ | |_) |\n",
      "|  __/| |___ / ___ \\|  _ <\n",
      "|_|   |_____/_/   \\_\\_| \\_\\\n",
      "\n",
      "PEAR v0.9.10 [May 30, 2016]\n",
      "\n",
      "Citation - PEAR: a fast and accurate Illumina Paired-End reAd mergeR\n",
      "Zhang et al (2014) Bioinformatics 30(5): 614-620 | doi:10.1093/bioinformatics/btt593\n",
      "\n",
      "Forward reads file.................: forward.fastq\n",
      "Reverse reads file.................: reverse.fastq\n",
      "PHRED..............................: 33\n",
      "Using empirical frequencies........: YES\n",
      "Statistical method.................: OES\n",
      "Maximum assembly length............: 600\n",
      "Minimum assembly length............: 50\n",
      "p-value............................: 0.010000\n",
      "Quality score threshold (trimming).: 0\n",
      "Minimum read size after trimming...: 1\n",
      "Maximal ratio of uncalled bases....: 1.000000\n",
      "Minimum overlap....................: 10\n",
      "Scoring method.....................: Scaled score\n",
      "Threads............................: 20\n",
      "\n",
      "Allocating memory..................: 200,000,000 bytes\n",
      "Computing empirical frequencies....: DONE\n",
      "  A: 0.227650\n",
      "  C: 0.270716\n",
      "  G: 0.272345\n",
      "  T: 0.229289\n",
      "  3222 uncalled bases\n",
      "Assemblying reads: 100%\n",
      "\n",
      "Assembled reads ...................: 4,974,829 / 5,049,634 (98.519%)\n",
      "Discarded reads ...................: 0 / 5,049,634 (0.000%)\n",
      "Not assembled reads ...............: 74,805 / 5,049,634 (1.481%)\n",
      "Assembled reads file...............: pear_merged-fullCyc2_lib5.assembled.fastq\n",
      "Discarded reads file...............: pear_merged-fullCyc2_lib5.discarded.fastq\n",
      "Unassembled forward reads file.....: pear_merged-fullCyc2_lib5.unassembled.forward.fastq\n",
      "Unassembled reverse reads file.....: pear_merged-fullCyc2_lib5.unassembled.reverse.fastq\n"
     ]
    }
   ],
   "source": [
    "!cd $workdir; \\\n",
    "    pear -m 600 -j 20 \\\n",
    "    -f forward.fastq \\\n",
    "    -r reverse.fastq \\\n",
    "    -o pear_merged-$library"
   ]
  },
  {
   "cell_type": "markdown",
   "metadata": {},
   "source": [
    "# Making a screed db of merged reads"
   ]
  },
  {
   "cell_type": "code",
   "execution_count": 11,
   "metadata": {
    "collapsed": false
   },
   "outputs": [
    {
     "data": {
      "text/plain": [
       "<ScreedDB, 'pear_merged-fullCyc2_lib5.assembled.fastq_screed'>"
      ]
     },
     "execution_count": 11,
     "metadata": {},
     "output_type": "execute_result"
    }
   ],
   "source": [
    "pear_merged_file = 'pear_merged-' + library + '.assembled.fastq'\n",
    "\n",
    "os.chdir(workdir)\n",
    "screed.read_fastq_sequences(pear_merged_file)"
   ]
  },
  {
   "cell_type": "code",
   "execution_count": 12,
   "metadata": {
    "collapsed": true
   },
   "outputs": [],
   "source": [
    "pear_merged_file += '_screed'\n",
    "fqdb = screed.ScreedDB(pear_merged_file)"
   ]
  },
  {
   "cell_type": "code",
   "execution_count": 13,
   "metadata": {
    "collapsed": false
   },
   "outputs": [
    {
     "data": {
      "text/plain": [
       "'pear_merged-fullCyc2_lib5.assembled.fastq_screed'"
      ]
     },
     "execution_count": 13,
     "metadata": {},
     "output_type": "execute_result"
    }
   ],
   "source": [
    "pear_merged_file"
   ]
  },
  {
   "cell_type": "code",
   "execution_count": 14,
   "metadata": {
    "collapsed": true
   },
   "outputs": [],
   "source": [
    "lengths = []\n",
    "for read in fqdb.itervalues():\n",
    "    lengths.append((len(read[\"sequence\"])))"
   ]
  },
  {
   "cell_type": "code",
   "execution_count": 15,
   "metadata": {
    "collapsed": false
   },
   "outputs": [
    {
     "data": {
      "image/png": "[encoded data removed]",
      "text/plain": [
       "<Figure size 720x432 with 1 Axes>"
      ]
     },
     "metadata": {},
     "output_type": "display_data"
    }
   ],
   "source": [
    "fig = plt.figure()\n",
    "ax = fig.add_subplot(111)\n",
    "h = ax.hist(np.array(lengths), bins=50)\n",
    "xl = ax.set_xlabel(\"Sequence Length, nt\")\n",
    "yl = ax.set_ylabel(\"Count\")\n",
    "fig.set_size_inches((10,6))"
   ]
  },
  {
   "cell_type": "code",
   "execution_count": 16,
   "metadata": {
    "collapsed": false
   },
   "outputs": [
    {
     "name": "stdout",
     "output_type": "stream",
     "text": [
      "Number of reads: 4974829\n"
     ]
    }
   ],
   "source": [
    "print ('Number of reads: {}'.format(len(lengths)))"
   ]
  },
  {
   "cell_type": "markdown",
   "metadata": {},
   "source": [
    "## Quality stats on merged reads\n"
   ]
  },
  {
   "cell_type": "code",
   "execution_count": 17,
   "metadata": {
    "collapsed": false
   },
   "outputs": [],
   "source": [
    "def qualStats(sourceDir, fileName):\n",
    "    outFile = fileName + '_qualStats'\n",
    "    !cd $sourceDir; \\\n",
    "        fastx_quality_stats -i $fileName -o $outFile -Q 33\n",
    "    return outFile\n",
    "    \n",
    "qualStatsRes = qualStats(workdir, 'pear_merged-' + library + '.assembled.fastq')"
   ]
  },
  {
   "cell_type": "code",
   "execution_count": 18,
   "metadata": {
    "collapsed": false
   },
   "outputs": [],
   "source": [
    "%%R -i workdir -i qualStatsRes\n",
    "\n",
    "setwd(workdir)\n",
    "\n",
    "# reading in qual-stats files    \n",
    "tbl.r12 = read.delim(qualStatsRes, sep='\\t')\n",
    "rownames(tbl.r12) = 1:nrow(tbl.r12)"
   ]
  },
  {
   "cell_type": "code",
   "execution_count": 19,
   "metadata": {
    "collapsed": false
   },
   "outputs": [
    {
     "name": "stderr",
     "output_type": "stream",
     "text": [
      "/home/sam/anaconda3/lib/python3.6/site-packages/rpy2/rinterface/__init__.py:145: RRuntimeWarning: `geom_smooth()` using method = 'loess'\n",
      "\n",
      "  warnings.warn(x, RRuntimeWarning)\n"
     ]
    },
    {
     "data": {
      "image/png": "[encoded data removed]"
     },
     "metadata": {},
     "output_type": "display_data"
    }
   ],
   "source": [
    "%%R -w 800 -h 300\n",
    "# smooth curve on median qual values\n",
    "ggplot(tbl.r12, aes(x=column, y=med, ymin=Q1, ymax=Q3)) +\n",
    "    geom_smooth(se=FALSE, method='auto') +\n",
    "    geom_linerange(alpha=0.3) +\n",
    "    labs(x='position', y='median quality score') +\n",
    "    theme_bw() +\n",
    "    theme( \n",
    "        text = element_text(size=16) \n",
    "        )"
   ]
  },
  {
   "cell_type": "markdown",
   "metadata": {
    "collapsed": true
   },
   "source": [
    "## Clean up\n",
    "Remove temporary files made during this process. These are really big files that you no longer need. If you are worried about having to re-do something then you can skip this step and clean up manually at the very end."
   ]
  },
  {
   "cell_type": "code",
   "execution_count": null,
   "metadata": {
    "collapsed": true
   },
   "outputs": [],
   "source": []
  }
 ],
 "metadata": {
  "anaconda-cloud": {},
  "hide_input": true,
  "kernelspec": {
   "display_name": "Python 3",
   "language": "python",
   "name": "python3"
  },
  "language_info": {
   "codemirror_mode": {
    "name": "ipython",
    "version": 3
   },
   "file_extension": ".py",
   "mimetype": "text/x-python",
   "name": "python",
   "nbconvert_exporter": "python",
   "pygments_lexer": "ipython3",
   "version": "3.6.4"
  }
 },
 "nbformat": 4,
 "nbformat_minor": 0
}
