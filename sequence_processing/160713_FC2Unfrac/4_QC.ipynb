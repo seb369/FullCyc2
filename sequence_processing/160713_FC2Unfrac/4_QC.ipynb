{
 "cells": [
  {
   "cell_type": "markdown",
   "metadata": {},
   "source": [
    "# Description\n",
    "\n",
    "* Quality control on MiSeq run data\n",
    "  * post-merging\n",
    "  * post-demultiplexing"
   ]
  },
  {
   "cell_type": "markdown",
   "metadata": {},
   "source": [
    "# Setting variables"
   ]
  },
  {
   "cell_type": "code",
   "execution_count": 1,
   "metadata": {
    "collapsed": true
   },
   "outputs": [],
   "source": [
    "import os\n",
    "\n",
    "baseDir = '/home/seq_data/fullCyc2/amplicon/515F-806R/final_dataset/library_QC/160713_FC2Unfrac'\n",
    "workDir = os.path.join(baseDir, 'QC')\n",
    "seqFile = os.path.join(baseDir, 'pear_merged-160713_FC2Unfrac.assembled.dmult.fastq')\n",
    "\n",
    "# number of processors\n",
    "nprocs = 20\n",
    "\n",
    "# max expected error\n",
    "maxee = 1"
   ]
  },
  {
   "cell_type": "markdown",
   "metadata": {},
   "source": [
    "# Init"
   ]
  },
  {
   "cell_type": "code",
   "execution_count": 2,
   "metadata": {
    "collapsed": true
   },
   "outputs": [],
   "source": [
    "import re\n",
    "import pandas as pd"
   ]
  },
  {
   "cell_type": "code",
   "execution_count": 3,
   "metadata": {
    "collapsed": false
   },
   "outputs": [],
   "source": [
    "%load_ext rpy2.ipython\n",
    "#%load_ext pushnote"
   ]
  },
  {
   "cell_type": "code",
   "execution_count": 4,
   "metadata": {
    "collapsed": false
   },
   "outputs": [
    {
     "name": "stderr",
     "output_type": "stream",
     "text": [
      "/home/sam/anaconda3/lib/python3.6/site-packages/rpy2/rinterface/__init__.py:145: RRuntimeWarning: \n",
      "Attaching package: ‘dplyr’\n",
      "\n",
      "\n",
      "  warnings.warn(x, RRuntimeWarning)\n",
      "/home/sam/anaconda3/lib/python3.6/site-packages/rpy2/rinterface/__init__.py:145: RRuntimeWarning: The following objects are masked from ‘package:stats’:\n",
      "\n",
      "    filter, lag\n",
      "\n",
      "\n",
      "  warnings.warn(x, RRuntimeWarning)\n",
      "/home/sam/anaconda3/lib/python3.6/site-packages/rpy2/rinterface/__init__.py:145: RRuntimeWarning: The following objects are masked from ‘package:base’:\n",
      "\n",
      "    intersect, setdiff, setequal, union\n",
      "\n",
      "\n",
      "  warnings.warn(x, RRuntimeWarning)\n",
      "/home/sam/anaconda3/lib/python3.6/site-packages/rpy2/rinterface/__init__.py:145: RRuntimeWarning: \n",
      "Attaching package: ‘gridExtra’\n",
      "\n",
      "\n",
      "  warnings.warn(x, RRuntimeWarning)\n",
      "/home/sam/anaconda3/lib/python3.6/site-packages/rpy2/rinterface/__init__.py:145: RRuntimeWarning: The following object is masked from ‘package:dplyr’:\n",
      "\n",
      "    combine\n",
      "\n",
      "\n",
      "  warnings.warn(x, RRuntimeWarning)\n"
     ]
    }
   ],
   "source": [
    "%%R\n",
    "library(ggplot2)\n",
    "library(dplyr)\n",
    "library(tidyr)\n",
    "library(gridExtra)"
   ]
  },
  {
   "cell_type": "code",
   "execution_count": 5,
   "metadata": {
    "collapsed": false
   },
   "outputs": [
    {
     "name": "stdout",
     "output_type": "stream",
     "text": [
      "/home/seq_data/fullCyc2/amplicon/515F-806R/final_dataset/library_QC/160713_FC2Unfrac/QC\n"
     ]
    }
   ],
   "source": [
    "if not os.path.isdir(workDir):\n",
    "    os.makedirs(workDir)\n",
    "%cd $workDir"
   ]
  },
  {
   "cell_type": "code",
   "execution_count": 6,
   "metadata": {
    "collapsed": false
   },
   "outputs": [
    {
     "name": "stdout",
     "output_type": "stream",
     "text": [
      "File exists: /home/seq_data/fullCyc2/amplicon/515F-806R/final_dataset/library_QC/160713_FC2Unfrac/pear_merged-160713_FC2Unfrac.assembled.dmult.fastq\n"
     ]
    }
   ],
   "source": [
    "# symlinking demult seq file into CQ\n",
    "tmp = os.path.join(baseDir, seqFile)\n",
    "if not os.path.isfile(seqFile):\n",
    "    tmp2 = os.path.split(tmp)[1]\n",
    "    os.symlink(tmp, tmp2)\n",
    "else:\n",
    "    print ('File exists: {}'.format(os.path.join(workDir, seqFile)))"
   ]
  },
  {
   "cell_type": "markdown",
   "metadata": {},
   "source": [
    "# Merged read quality filtering"
   ]
  },
  {
   "cell_type": "markdown",
   "metadata": {},
   "source": [
    "## Discard sequences that exceed max expected error theshold"
   ]
  },
  {
   "cell_type": "code",
   "execution_count": 7,
   "metadata": {
    "collapsed": false
   },
   "outputs": [
    {
     "data": {
      "text/plain": [
       "'pear_merged-160713_FC2Unfrac.assembled.dmult_maxee1.fasta'"
      ]
     },
     "execution_count": 7,
     "metadata": {},
     "output_type": "execute_result"
    }
   ],
   "source": [
    "qcFile = os.path.split(seqFile)[1]\n",
    "qcFile = os.path.splitext(qcFile)[0] + '_maxee{}.fasta'.format(maxee)\n",
    "qcFile"
   ]
  },
  {
   "cell_type": "code",
   "execution_count": 8,
   "metadata": {
    "collapsed": true
   },
   "outputs": [],
   "source": [
    "%%bash -s \"$seqFile\" \"$nprocs\" \"$maxee\" \"$qcFile\"\n",
    "\n",
    "mkdir /home/sam/tmp/tmpdir1\n",
    "trap \"rm -r /home/sam/tmp/tmpdir1\" 1 2 3 15\n",
    "split -d -l 2000000 $1 /home/sam/tmp/tmpdir1/Block\n",
    "\n",
    "mkdir /home/sam/tmp/tmpdir2\n",
    "trap \"rm -r /home/sam/tmp/tmpdir2\" 1 2 3 15\n",
    "ls /home/sam/tmp/tmpdir1/Block?? | parallel --gnu -j $2 -k \"usearch -fastq_filter {} -fastq_maxee $3 \\\n",
    "-fastaout /home/sam/tmp/tmpdir2/{#}.fasta >/dev/null 2>&1 && cat /home/sam/tmp/tmpdir2/{#}.fasta\" > $4\n",
    "rm -r /home/sam/tmp/tmpdir2 /home/sam/tmp/tmpdir1"
   ]
  },
  {
   "cell_type": "code",
   "execution_count": 9,
   "metadata": {
    "collapsed": false
   },
   "outputs": [
    {
     "name": "stdout",
     "output_type": "stream",
     "text": [
      "Max expected error cutoff: 1\n",
      "Number of sequence pre-filter: 4780891\n",
      "Number of sequences post-filter: 4739947\n",
      "\n",
      ">MR.A.13C-Ami.D6.R1_0 orig_name=M02465:296:000000000-ARUK4:1:1101:17204:1417\n",
      "TACGTAGGGTGCAAGCGTTAATCGGAATTACTGGGCGTAAAGCGTGCGCAGGCGGTTTGTTAAGACCGATTTGAAATCCC\n",
      "CGGGCTCAACCTGGGAACTGCATTGGTGACTGGCAAGCTAGAGTATGGCAGAGGGGGGTAGAAATCCACGTGTAGCAGTG\n",
      "AAATGCGTAGAGATGTGGAGGAATACCGATGGCGAAGGCAGCCCCCTGGGCCAATACTGACGCTCATGCACGAGAGCGTG\n",
      "GGGAGCAAACAGG\n",
      ">MR.F.13C-Pal.D14.R1_1 orig_name=M02465:296:000000000-ARUK4:1:1101:14339:1418\n",
      "CACGCAGGGCGCAAGCGTTGTCCGGAATTATTGGGCGTAAAGAGCTCGTAGGCGGACTGTCACGTCTGCTGTGAAAAGCT\n",
      "GGGGCTTAACCCTGGCCTTGCAGTGGATACGGGCAGACTAGAGGTAGGTAGGGGAGAATGGAATTCCCGGTGTAGCGGTG\n"
     ]
    }
   ],
   "source": [
    "%%bash -s \"$seqFile\" \"$nprocs\" \"$maxee\" \"$qcFile\"\n",
    "\n",
    "printf \"Max expected error cutoff: \"\n",
    "echo $3\n",
    "\n",
    "printf \"Number of sequence pre-filter: \"\n",
    "grep -c \"orig_name=\" $1\n",
    "\n",
    "printf \"Number of sequences post-filter: \"\n",
    "grep -c \">\" $4\n",
    "\n",
    "echo '' \n",
    "head -n 8 $4"
   ]
  },
  {
   "cell_type": "markdown",
   "metadata": {},
   "source": [
    "## Remove seqs with 'N' characters"
   ]
  },
  {
   "cell_type": "code",
   "execution_count": 10,
   "metadata": {
    "collapsed": false
   },
   "outputs": [
    {
     "data": {
      "text/plain": [
       "'pear_merged-160713_FC2Unfrac.assembled.dmult_maxee1_noN.fasta'"
      ]
     },
     "execution_count": 10,
     "metadata": {},
     "output_type": "execute_result"
    }
   ],
   "source": [
    "qcFile2 = os.path.splitext(qcFile)[0] + '_noN.fasta'\n",
    "qcFile2"
   ]
  },
  {
   "cell_type": "code",
   "execution_count": 11,
   "metadata": {
    "collapsed": false
   },
   "outputs": [
    {
     "name": "stdout",
     "output_type": "stream",
     "text": [
      "Number of sequence pre-filter: 4739947\n",
      "Number of sequences post-filter: 4739946\n"
     ]
    }
   ],
   "source": [
    "%%bash -s \"$qcFile\" \"$qcFile2\"\n",
    "\n",
    "bioawk -c fastx '{if ($seq !~ /N/){print \">\" $name \" \" $4 \"\\n\" $seq}}' $1 > $2\n",
    "\n",
    "printf \"Number of sequence pre-filter: \"\n",
    "grep -c \">\" $1\n",
    "\n",
    "printf \"Number of sequences post-filter: \"\n",
    "grep -c \">\" $2"
   ]
  },
  {
   "cell_type": "markdown",
   "metadata": {},
   "source": [
    "## Alignment-based QC with Mothur"
   ]
  },
  {
   "cell_type": "code",
   "execution_count": 12,
   "metadata": {
    "collapsed": false
   },
   "outputs": [
    {
     "name": "stdout",
     "output_type": "stream",
     "text": [
      "MR.A.13C-Ami.D6.R1_0\tMR.A.13C-Ami.D6.R1\n",
      "MR.F.13C-Pal.D14.R1_1\tMR.F.13C-Pal.D14.R1\n",
      "MR.M.H2O-Con.D30.R2_3\tMR.M.H2O-Con.D30.R2\n",
      "MR.F.13C-Xyl.D3.R2_2\tMR.F.13C-Xyl.D3.R2\n",
      "MR.M.13C-Xyl.D3.R1_Frac18_4\tMR.M.13C-Xyl.D3.R1_Frac18\n",
      "MR.M.13C-Ami.D3.R1_5\tMR.M.13C-Ami.D3.R1\n",
      "MR.M.13C-Xyl.D6.R2_6\tMR.M.13C-Xyl.D6.R2\n",
      "MR.A.12C-Con.D3.R2_7\tMR.A.12C-Con.D3.R2\n",
      "MR.A.13C-Xyl.D3.R1_9\tMR.A.13C-Xyl.D3.R1\n",
      "MR.A.13C-Xyl.D3.R1_8\tMR.A.13C-Xyl.D3.R1\n"
     ]
    }
   ],
   "source": [
    "%%bash -s \"$qcFile2\"\n",
    "# making mothur group file\n",
    "\n",
    "perl -ne 'if(/^>/){ s/>(.+)(_\\d+) .+/$1$2\\t$1/; print;}' $1 > group_file.txt\n",
    "head group_file.txt"
   ]
  },
  {
   "cell_type": "code",
   "execution_count": 13,
   "metadata": {
    "collapsed": false
   },
   "outputs": [
    {
     "name": "stdout",
     "output_type": "stream",
     "text": [
      "MR.A.13C-Ami.D6.R1_0\tMR.A.13C-Ami.D6.R1\r\n",
      "MR.F.13C-Pal.D14.R1_1\tMR.F.13C-Pal.D14.R1\r\n",
      "MR.M.H2O-Con.D30.R2_3\tMR.M.H2O-Con.D30.R2\r\n",
      "MR.F.13C-Xyl.D3.R2_2\tMR.F.13C-Xyl.D3.R2\r\n",
      "MR.M.13C-Xyl.D3.R1_Frac18_4\tMR.M.13C-Xyl.D3.R1_Frac18\r\n",
      "MR.M.13C-Ami.D3.R1_5\tMR.M.13C-Ami.D3.R1\r\n",
      "MR.M.13C-Xyl.D6.R2_6\tMR.M.13C-Xyl.D6.R2\r\n",
      "MR.A.12C-Con.D3.R2_7\tMR.A.12C-Con.D3.R2\r\n",
      "MR.A.13C-Xyl.D3.R1_9\tMR.A.13C-Xyl.D3.R1\r\n",
      "MR.A.13C-Xyl.D3.R1_8\tMR.A.13C-Xyl.D3.R1\r\n",
      "MR.M.12C-Con.D1.R1_13\tMR.M.12C-Con.D1.R1\r\n",
      "MR.M.12C-Con.D30.R3_11\tMR.M.12C-Con.D30.R3\r\n",
      "MR.M.13C-Xyl.D3.R1_Frac20_12\tMR.M.13C-Xyl.D3.R1_Frac20\r\n",
      "MR.F.12C-Con.D6.R1_10\tMR.F.12C-Con.D6.R1\r\n",
      "MR.M.13C-Xyl.D3.R1_Frac20_15\tMR.M.13C-Xyl.D3.R1_Frac20\r\n",
      "MR.M.12C-Con.D1.R1_14\tMR.M.12C-Con.D1.R1\r\n",
      "MR.A.13C-Ami.D3.R1_18\tMR.A.13C-Ami.D3.R1\r\n",
      "MR.F.H2O-Con.D30.R3_19\tMR.F.H2O-Con.D30.R3\r\n",
      "MR.F.13C-Xyl.D14.R2_21\tMR.F.13C-Xyl.D14.R2\r\n",
      "MR.M.H2O-Con.D30.R2_20\tMR.M.H2O-Con.D30.R2\r\n",
      "MR.A.13C-Xyl.D3.R2_23\tMR.A.13C-Xyl.D3.R2\r\n",
      "MR.F.13C-Van.D6.R1_26\tMR.F.13C-Van.D6.R1\r\n",
      "MR.A.12C-Con.D0.R2_25\tMR.A.12C-Con.D0.R2\r\n",
      "MR.M.13C-Ami.D6.R2_16\tMR.M.13C-Ami.D6.R2\r\n",
      "MR.A.13C-Ami.D14.R2_22\tMR.A.13C-Ami.D14.R2\r\n",
      "MR.F.13C-Xyl.D14.R1_30\tMR.F.13C-Xyl.D14.R1\r\n",
      "MR.F.13C-Cel.D30.R3_28\tMR.F.13C-Cel.D30.R3\r\n",
      "MR.F.12C-Con.D14.R2_27\tMR.F.12C-Con.D14.R2\r\n",
      "MR.F.12C-Con.D6.R1_31\tMR.F.12C-Con.D6.R1\r\n",
      "MR.A.13C-Pal.D14.R2_17\tMR.A.13C-Pal.D14.R2\r\n",
      "MR.A.13C-Ami.D6.R1_37\tMR.A.13C-Ami.D6.R1\r\n",
      "MR.A.13C-Cel.D6.R1_29\tMR.A.13C-Cel.D6.R1\r\n",
      "MR.M.13C-Ami.D1.R2_35\tMR.M.13C-Ami.D1.R2\r\n",
      "MR.M.13C-Ami.D3.R2_36\tMR.M.13C-Ami.D3.R2\r\n",
      "MR.A.13C-Pal.D14.R1_41\tMR.A.13C-Pal.D14.R1\r\n",
      "MR.F.13C-Van.D30.R2_39\tMR.F.13C-Van.D30.R2\r\n",
      "MR.F.13C-Ami.D6.R2_38\tMR.F.13C-Ami.D6.R2\r\n",
      "MR.F.12C-Con.D6.R2_44\tMR.F.12C-Con.D6.R2\r\n",
      "MR.A.13C-Cel.D14.R1_24\tMR.A.13C-Cel.D14.R1\r\n",
      "MR.M.13C-Van.D30.R1_34\tMR.M.13C-Van.D30.R1\r\n",
      "MR.A.13C-Xyl.D3.R2_45\tMR.A.13C-Xyl.D3.R2\r\n",
      "MR.A.13C-Pal.D30.R2_46\tMR.A.13C-Pal.D30.R2\r\n",
      "MR.F.13C-Van.D30.R3_49\tMR.F.13C-Van.D30.R3\r\n",
      "MR.M.13C-Ami.D1.R2_43\tMR.M.13C-Ami.D1.R2\r\n",
      "MR.A.12C-Con.D0.R1_51\tMR.A.12C-Con.D0.R1\r\n",
      "MR.M.13C-Xyl.D1.R1_50\tMR.M.13C-Xyl.D1.R1\r\n",
      "MR.A.12C-Con.D1.R1_40\tMR.A.12C-Con.D1.R1\r\n",
      "MR.M.13C-Van.D30.R1_54\tMR.M.13C-Van.D30.R1\r\n",
      "MR.M.12C-Con.D1.R1_52\tMR.M.12C-Con.D1.R1\r\n",
      "MR.A.13C-Xyl.D3.R1_56\tMR.A.13C-Xyl.D3.R1\r\n",
      "MR.F.13C-Cel.D14.R1_53\tMR.F.13C-Cel.D14.R1\r\n",
      "MR.M.13C-Pal.D30.R1_58\tMR.M.13C-Pal.D30.R1\r\n",
      "MR.A.13C-Xyl.D1.R1_48\tMR.A.13C-Xyl.D1.R1\r\n",
      "MR.A.12C-Con.D6.R2_47\tMR.A.12C-Con.D6.R2\r\n",
      "MR.F.13C-Ami.D6.R2_59\tMR.F.13C-Ami.D6.R2\r\n",
      "MR.M.13C-Ami.D3.R2_55\tMR.M.13C-Ami.D3.R2\r\n",
      "MR.F.13C-Xyl.D3.R2_62\tMR.F.13C-Xyl.D3.R2\r\n",
      "MR.F.13C-Van.D6.R1_63\tMR.F.13C-Van.D6.R1\r\n",
      "MR.F.13C-Ami.D14.R1_61\tMR.F.13C-Ami.D14.R1\r\n",
      "MR.F.13C-Van.D30.R3_64\tMR.F.13C-Van.D30.R3\r\n",
      "MR.F.13C-Ami.D14.R1_67\tMR.F.13C-Ami.D14.R1\r\n",
      "MR.M.13C-Xyl.D14.R1_57\tMR.M.13C-Xyl.D14.R1\r\n",
      "MR.M.13C-Cel.D30.R3_60\tMR.M.13C-Cel.D30.R3\r\n",
      "MR.F.13C-Van.D6.R1_42\tMR.F.13C-Van.D6.R1\r\n",
      "MR.M.12C-Con.D6.R1_70\tMR.M.12C-Con.D6.R1\r\n",
      "MR.A.13C-Cel.D30.R3_69\tMR.A.13C-Cel.D30.R3\r\n",
      "MR.M.12C-Con.D30.R1_66\tMR.M.12C-Con.D30.R1\r\n",
      "MR.M.12C-Con.D3.R2_71\tMR.M.12C-Con.D3.R2\r\n",
      "MR.M.12C-Con.D6.R1_75\tMR.M.12C-Con.D6.R1\r\n",
      "MR.A.13C-Van.D6.R1_76\tMR.A.13C-Van.D6.R1\r\n",
      "MR.F.13C-Cel.D6.R2_74\tMR.F.13C-Cel.D6.R2\r\n",
      "MR.A.13C-Xyl.D1.R1_72\tMR.A.13C-Xyl.D1.R1\r\n",
      "MR.A.13C-Xyl.D1.R1_65\tMR.A.13C-Xyl.D1.R1\r\n",
      "MR.M.12C-Con.D1.R1_77\tMR.M.12C-Con.D1.R1\r\n",
      "MR.M.13C-Pal.D14.R1_33\tMR.M.13C-Pal.D14.R1\r\n",
      "MR.M.12C-Con.D6.R1_78\tMR.M.12C-Con.D6.R1\r\n",
      "MR.M.13C-Cel.D30.R2_81\tMR.M.13C-Cel.D30.R2\r\n",
      "MR.M.13C-Xyl.D3.R2_84\tMR.M.13C-Xyl.D3.R2\r\n",
      "MR.M.13C-Ami.D3.R2_80\tMR.M.13C-Ami.D3.R2\r\n",
      "MR.F.13C-Xyl.D14.R3_73\tMR.F.13C-Xyl.D14.R3\r\n",
      "MR.A.13C-Ami.D1.R1_86\tMR.A.13C-Ami.D1.R1\r\n",
      "MR.M.12C-Con.D3.R2_88\tMR.M.12C-Con.D3.R2\r\n",
      "MR.A.13C-Van.D30.R1_68\tMR.A.13C-Van.D30.R1\r\n",
      "MR.F.12C-Con.D6.R2_82\tMR.F.12C-Con.D6.R2\r\n",
      "MR.F.13C-Van.D6.R1_79\tMR.F.13C-Van.D6.R1\r\n",
      "MR.A.13C-Ami.D6.R1_91\tMR.A.13C-Ami.D6.R1\r\n",
      "MR.F.H2O-Con.D30.R2_89\tMR.F.H2O-Con.D30.R2\r\n",
      "MR.F.13C-Cel.D30.R3_85\tMR.F.13C-Cel.D30.R3\r\n",
      "MR.F.13C-Ami.D6.R2_92\tMR.F.13C-Ami.D6.R2\r\n",
      "MR.F.13C-Pal.D6.R2_96\tMR.F.13C-Pal.D6.R2\r\n",
      "MR.A.13C-Ami.D6.R2_97\tMR.A.13C-Ami.D6.R2\r\n",
      "MR.F.12C-Con.D3.R1_93\tMR.F.12C-Con.D3.R1\r\n",
      "MR.M.13C-Xyl.D3.R1_Frac18_94\tMR.M.13C-Xyl.D3.R1_Frac18\r\n",
      "MR.F.13C-Van.D30.R3_95\tMR.F.13C-Van.D30.R3\r\n",
      "MR.M.13C-Cel.D30.R3_99\tMR.M.13C-Cel.D30.R3\r\n",
      "MR.F.13C-Pal.D30.R3_83\tMR.F.13C-Pal.D30.R3\r\n",
      "MR.F.13C-Van.D30.R3_32\tMR.F.13C-Van.D30.R3\r\n",
      "MR.A.12C-Con.D3.R2_101\tMR.A.12C-Con.D3.R2\r\n",
      "MR.A.13C-Xyl.D1.R1_103\tMR.A.13C-Xyl.D1.R1\r\n",
      "MR.M.12C-Con.D30.R1_102\tMR.M.12C-Con.D30.R1\r\n",
      "MR.A.H2O-Con.D30.R1_98\tMR.A.H2O-Con.D30.R1\r\n",
      "MR.F.12C-Con.D6.R2_100\tMR.F.12C-Con.D6.R2\r\n",
      "MR.A.13C-Xyl.D14.R3_107\tMR.A.13C-Xyl.D14.R3\r\n",
      "MR.A.13C-Pal.D30.R3_108\tMR.A.13C-Pal.D30.R3\r\n",
      "MR.M.12C-Con.D1.R1_106\tMR.M.12C-Con.D1.R1\r\n",
      "MR.M.13C-Cel.D30.R2_110\tMR.M.13C-Cel.D30.R2\r\n",
      "MR.A.13C-Ami.D1.R1_112\tMR.A.13C-Ami.D1.R1\r\n",
      "MR.M.13C-Ami.D1.R1_109\tMR.M.13C-Ami.D1.R1\r\n",
      "MR.M.13C-Xyl.D3.R1_Frac18_111\tMR.M.13C-Xyl.D3.R1_Frac18\r\n",
      "MR.F.13C-Xyl.D14.R3_113\tMR.F.13C-Xyl.D14.R3\r\n",
      "MR.M.12C-Con.D0.R1_115\tMR.M.12C-Con.D0.R1\r\n",
      "MR.A.12C-Con.D14.R1_117\tMR.A.12C-Con.D14.R1\r\n",
      "MR.M.13C-Van.D30.R1_119\tMR.M.13C-Van.D30.R1\r\n",
      "MR.A.H2O-Con.D30.R1_120\tMR.A.H2O-Con.D30.R1\r\n",
      "MR.M.13C-Xyl.D3.R2_121\tMR.M.13C-Xyl.D3.R2\r\n",
      "MR.M.13C-Xyl.D1.R2_116\tMR.M.13C-Xyl.D1.R2\r\n",
      "MR.M.13C-Xyl.D3.R1_Frac20_122\tMR.M.13C-Xyl.D3.R1_Frac20\r\n",
      "MR.A.13C-Cel.D6.R1_123\tMR.A.13C-Cel.D6.R1\r\n",
      "MR.A.13C-Xyl.D14.R3_125\tMR.A.13C-Xyl.D14.R3\r\n",
      "MR.F.12C-Con.D14.R1_114\tMR.F.12C-Con.D14.R1\r\n",
      "MR.F.13C-Ami.D1.R2_118\tMR.F.13C-Ami.D1.R2\r\n",
      "MR.F.13C-Van.D30.R1_127\tMR.F.13C-Van.D30.R1\r\n",
      "MR.M.H2O-Con.D30.R2_128\tMR.M.H2O-Con.D30.R2\r\n",
      "MR.A.13C-Xyl.D3.R2_130\tMR.A.13C-Xyl.D3.R2\r\n",
      "MR.M.12C-Con.D0.R1_126\tMR.M.12C-Con.D0.R1\r\n",
      "MR.M.13C-Pal.D14.R2_124\tMR.M.13C-Pal.D14.R2\r\n",
      "MR.M.13C-Pal.D6.R2_131\tMR.M.13C-Pal.D6.R2\r\n",
      "MR.F.12C-Con.D6.R2_133\tMR.F.12C-Con.D6.R2\r\n",
      "MR.A.13C-Xyl.D3.R1_134\tMR.A.13C-Xyl.D3.R1\r\n",
      "MR.M.13C-Xyl.D3.R2_135\tMR.M.13C-Xyl.D3.R2\r\n",
      "MR.A.H2O-Con.D30.R1_138\tMR.A.H2O-Con.D30.R1\r\n",
      "MR.A.13C-Cel.D6.R1_136\tMR.A.13C-Cel.D6.R1\r\n",
      "MR.A.13C-Xyl.D1.R1_87\tMR.A.13C-Xyl.D1.R1\r\n",
      "MR.A.13C-Ami.D14.R2_129\tMR.A.13C-Ami.D14.R2\r\n",
      "MR.A.13C-Cel.D30.R3_141\tMR.A.13C-Cel.D30.R3\r\n",
      "MR.M.13C-Ami.D6.R2_139\tMR.M.13C-Ami.D6.R2\r\n",
      "MR.M.13C-Pal.D14.R2_144\tMR.M.13C-Pal.D14.R2\r\n",
      "MR.M.13C-Xyl.D1.R2_142\tMR.M.13C-Xyl.D1.R2\r\n",
      "MR.F.13C-Van.D30.R2_140\tMR.F.13C-Van.D30.R2\r\n",
      "MR.M.13C-Van.D14.R2_137\tMR.M.13C-Van.D14.R2\r\n",
      "MR.F.13C-Van.D30.R2_148\tMR.F.13C-Van.D30.R2\r\n",
      "MR.F.H2O-Con.D30.R2_132\tMR.F.H2O-Con.D30.R2\r\n",
      "MR.M.13C-Xyl.D3.R1_Frac20_143\tMR.M.13C-Xyl.D3.R1_Frac20\r\n",
      "MR.A.13C-Xyl.D3.R2_146\tMR.A.13C-Xyl.D3.R2\r\n",
      "MR.A.H2O-Con.D30.R2_151\tMR.A.H2O-Con.D30.R2\r\n",
      "MR.M.12C-Con.D0.R1_145\tMR.M.12C-Con.D0.R1\r\n",
      "MR.M.12C-Con.D30.R2_154\tMR.M.12C-Con.D30.R2\r\n",
      "MR.A.13C-Van.D6.R2_90\tMR.A.13C-Van.D6.R2\r\n",
      "MR.F.12C-Con.D3.R2_147\tMR.F.12C-Con.D3.R2\r\n",
      "MR.F.13C-Pal.D14.R2_157\tMR.F.13C-Pal.D14.R2\r\n",
      "MR.A.13C-Ami.D6.R2_158\tMR.A.13C-Ami.D6.R2\r\n",
      "MR.M.13C-Van.D6.R1_153\tMR.M.13C-Van.D6.R1\r\n",
      "MR.M.13C-Cel.D30.R1_155\tMR.M.13C-Cel.D30.R1\r\n",
      "MR.A.13C-Cel.D14.R2_104\tMR.A.13C-Cel.D14.R2\r\n",
      "MR.F.13C-Ami.D3.R2_105\tMR.F.13C-Ami.D3.R2\r\n",
      "MR.F.13C-Van.D6.R1_163\tMR.F.13C-Van.D6.R1\r\n",
      "MR.F.13C-Cel.D14.R1_164\tMR.F.13C-Cel.D14.R1\r\n",
      "MR.A.12C-Con.D30.R3_162\tMR.A.12C-Con.D30.R3\r\n",
      "MR.F.13C-Van.D6.R1_150\tMR.F.13C-Van.D6.R1\r\n",
      "MR.F.13C-Ami.D1.R2_149\tMR.F.13C-Ami.D1.R2\r\n",
      "MR.F.13C-Xyl.D6.R2_168\tMR.F.13C-Xyl.D6.R2\r\n",
      "MR.A.13C-Cel.D6.R2_167\tMR.A.13C-Cel.D6.R2\r\n",
      "MR.M.13C-Van.D14.R1_166\tMR.M.13C-Van.D14.R1\r\n",
      "MR.M.H2O-Con.D30.R1_170\tMR.M.H2O-Con.D30.R1\r\n",
      "MR.M.13C-Pal.D14.R2_156\tMR.M.13C-Pal.D14.R2\r\n",
      "MR.M.13C-Xyl.D3.R1_152\tMR.M.13C-Xyl.D3.R1\r\n",
      "MR.M.H2O-Con.D30.R1_169\tMR.M.H2O-Con.D30.R1\r\n",
      "MR.A.13C-Pal.D14.R1_161\tMR.A.13C-Pal.D14.R1\r\n",
      "MR.M.13C-Xyl.D1.R1_174\tMR.M.13C-Xyl.D1.R1\r\n",
      "MR.M.13C-Pal.D30.R1_171\tMR.M.13C-Pal.D30.R1\r\n",
      "MR.M.13C-Ami.D1.R1_176\tMR.M.13C-Ami.D1.R1\r\n",
      "MR.F.12C-Con.D0.R2_159\tMR.F.12C-Con.D0.R2\r\n",
      "MR.A.13C-Ami.D6.R1_177\tMR.A.13C-Ami.D6.R1\r\n",
      "MR.F.13C-Ami.D6.R2_180\tMR.F.13C-Ami.D6.R2\r\n",
      "MR.F.13C-Pal.D14.R2_178\tMR.F.13C-Pal.D14.R2\r\n",
      "MR.A.12C-Con.D0.R1_179\tMR.A.12C-Con.D0.R1\r\n",
      "MR.F.13C-Ami.D6.R1_182\tMR.F.13C-Ami.D6.R1\r\n",
      "MR.M.12C-Con.D30.R3_184\tMR.M.12C-Con.D30.R3\r\n",
      "MR.A.12C-Con.D30.R1_185\tMR.A.12C-Con.D30.R1\r\n",
      "MR.A.12C-Con.D0.R2_186\tMR.A.12C-Con.D0.R2\r\n",
      "MR.F.12C-Con.D6.R1_165\tMR.F.12C-Con.D6.R1\r\n",
      "MR.A.13C-Ami.D14.R2_187\tMR.A.13C-Ami.D14.R2\r\n",
      "MR.F.13C-Pal.D14.R1_183\tMR.F.13C-Pal.D14.R1\r\n",
      "MR.M.13C-Van.D6.R1_173\tMR.M.13C-Van.D6.R1\r\n",
      "MR.A.H2O-Con.D30.R1_192\tMR.A.H2O-Con.D30.R1\r\n",
      "MR.F.12C-Con.D1.R1_189\tMR.F.12C-Con.D1.R1\r\n",
      "MR.M.13C-Van.D14.R1_191\tMR.M.13C-Van.D14.R1\r\n",
      "MR.A.13C-Ami.D3.R2_181\tMR.A.13C-Ami.D3.R2\r\n",
      "MR.M.13C-Cel.D30.R1_193\tMR.M.13C-Cel.D30.R1\r\n",
      "MR.A.13C-Xyl.D3.R1_175\tMR.A.13C-Xyl.D3.R1\r\n",
      "MR.A.13C-Ami.D1.R2_198\tMR.A.13C-Ami.D1.R2\r\n",
      "MR.M.13C-Van.D6.R2_196\tMR.M.13C-Van.D6.R2\r\n",
      "MR.M.H2O-Con.D30.R3_197\tMR.M.H2O-Con.D30.R3\r\n",
      "MR.M.13C-Xyl.D3.R1_Frac20_160\tMR.M.13C-Xyl.D3.R1_Frac20\r\n",
      "MR.A.13C-Pal.D14.R2_199\tMR.A.13C-Pal.D14.R2\r\n",
      "MR.M.13C-Xyl.D3.R2_200\tMR.M.13C-Xyl.D3.R2\r\n",
      "MR.M.13C-Pal.D14.R2_194\tMR.M.13C-Pal.D14.R2\r\n",
      "MR.M.13C-Ami.D3.R2_201\tMR.M.13C-Ami.D3.R2\r\n",
      "MR.M.13C-Van.D30.R2_190\tMR.M.13C-Van.D30.R2\r\n",
      "MR.A.12C-Con.D30.R2_195\tMR.A.12C-Con.D30.R2\r\n"
     ]
    }
   ],
   "source": [
    "! head -n 200 group_file.txt"
   ]
  },
  {
   "cell_type": "code",
   "execution_count": 14,
   "metadata": {
    "collapsed": false
   },
   "outputs": [
    {
     "name": "stdout",
     "output_type": "stream",
     "text": [
      "4718000\t3001630\r\n",
      "4719000\t3002177\r\n",
      "4720000\t3002775\r\n",
      "4721000\t3003346\r\n",
      "4722000\t3003907\r\n",
      "4723000\t3004491\r\n",
      "4724000\t3005129\r\n",
      "4725000\t3005715\r\n",
      "4726000\t3006294\r\n",
      "4727000\t3006887\r\n",
      "4728000\t3007490\r\n",
      "4729000\t3008101\r\n",
      "4730000\t3008691\r\n",
      "4731000\t3009315\r\n",
      "4732000\t3009935\r\n",
      "4733000\t3010596\r\n",
      "4734000\t3011234\r\n",
      "4735000\t3011975\r\n",
      "4736000\t3012663\r\n",
      "4737000\t3013313\r\n",
      "4738000\t3014026\r\n",
      "4739000\t3014725\r\n",
      "4739946\t3015452\r\n",
      "\r\n",
      "Output File Names: \r\n",
      "pear_merged-160713_FC2Unfrac.assembled.dmult_maxee1_noN.names\r\n",
      "pear_merged-160713_FC2Unfrac.assembled.dmult_maxee1_noN.unique.fasta\r\n",
      "\r\n",
      "\r\n",
      "mothur > quit()\r\n"
     ]
    }
   ],
   "source": [
    "# unique sequences\n",
    "cmd = 'mothur \"#unique.seqs(fasta={})\"'.format(qcFile2)\n",
    "!$cmd | tail -n 30"
   ]
  },
  {
   "cell_type": "code",
   "execution_count": 15,
   "metadata": {
    "collapsed": false
   },
   "outputs": [
    {
     "name": "stdout",
     "output_type": "stream",
     "text": [
      "Number of unique sequences: 3015452\n"
     ]
    }
   ],
   "source": [
    "qcFile3 = os.path.splitext(qcFile2)[0] + '.unique.fasta'\n",
    "n_uniq = !grep -c \">\" $qcFile3\n",
    "print ('Number of unique sequences: {}'.format(n_uniq[0]))"
   ]
  },
  {
   "cell_type": "code",
   "execution_count": 16,
   "metadata": {
    "collapsed": false
   },
   "outputs": [
    {
     "name": "stdout",
     "output_type": "stream",
     "text": [
      "-rw-rw-r-- 1 sam sam 203M May 14 17:39 pear_merged-160713_FC2Unfrac.assembled.dmult_maxee1_noN.names\r\n"
     ]
    }
   ],
   "source": [
    "# name file produced by unique.seqs()\n",
    "nameFile = os.path.splitext(qcFile2)[0] + '.names'\n",
    "!ls -thlc $nameFile"
   ]
  },
  {
   "cell_type": "code",
   "execution_count": 17,
   "metadata": {
    "collapsed": false
   },
   "outputs": [
    {
     "name": "stdout",
     "output_type": "stream",
     "text": [
      "silva.seed_v132.tax\n",
      "silva.seed_v132.align\n",
      "README.md\n"
     ]
    },
    {
     "name": "stderr",
     "output_type": "stream",
     "text": [
      "--2018-05-14 17:39:54--  https://www.mothur.org/w/images/7/71/Silva.seed_v132.tgz\n",
      "Resolving www.mothur.org (www.mothur.org)... 141.214.120.22\n",
      "Connecting to www.mothur.org (www.mothur.org)|141.214.120.22|:443... connected.\n",
      "HTTP request sent, awaiting response... 200 OK\n",
      "Length: 19623900 (19M) [application/x-gzip]\n",
      "Saving to: ‘Silva.seed_v132.tgz’\n",
      "\n",
      "     0K .......... .......... .......... .......... ..........  0% 1.62M 12s\n",
      "    50K .......... .......... .......... .......... ..........  0%  883K 17s\n",
      "   100K .......... .......... .......... .......... ..........  0% 1.81M 14s\n",
      "   150K .......... .......... .......... .......... ..........  1%  904K 16s\n",
      "   200K .......... .......... .......... .......... ..........  1% 1.90M 15s\n",
      "   250K .......... .......... .......... .......... ..........  1%  995K 15s\n",
      "   300K .......... .......... .......... .......... ..........  1% 1.89M 15s\n",
      "   350K .......... .......... .......... .......... ..........  2%  948K 15s\n",
      "   400K .......... .......... .......... .......... ..........  2%  938K 16s\n",
      "   450K .......... .......... .......... .......... ..........  2% 1.59M 15s\n",
      "   500K .......... .......... .......... .......... ..........  2%  911K 16s\n",
      "   550K .......... .......... .......... .......... ..........  3% 1.52M 15s\n",
      "   600K .......... .......... .......... .......... ..........  3%  932K 16s\n",
      "   650K .......... .......... .......... .......... ..........  3% 1.88M 15s\n",
      "   700K .......... .......... .......... .......... ..........  3% 1002K 15s\n",
      "   750K .......... .......... .......... .......... ..........  4%  994K 15s\n",
      "   800K .......... .......... .......... .......... ..........  4% 1.88M 15s\n",
      "   850K .......... .......... .......... .......... ..........  4% 1006K 15s\n",
      "   900K .......... .......... .......... .......... ..........  4% 1.87M 15s\n",
      "   950K .......... .......... .......... .......... ..........  5% 1002K 15s\n",
      "  1000K .......... .......... .......... .......... ..........  5% 1.89M 15s\n",
      "  1050K .......... .......... .......... .......... ..........  5%  998K 15s\n",
      "  1100K .......... .......... .......... .......... ..........  6% 1.88M 15s\n",
      "  1150K .......... .......... .......... .......... ..........  6%  994K 15s\n",
      "  1200K .......... .......... .......... .......... ..........  6% 1000K 15s\n",
      "  1250K .......... .......... .......... .......... ..........  6% 1.89M 14s\n",
      "  1300K .......... .......... .......... .......... ..........  7%  998K 15s\n",
      "  1350K .......... .......... .......... .......... ..........  7% 1.89M 14s\n",
      "  1400K .......... .......... .......... .......... ..........  7%  997K 14s\n",
      "  1450K .......... .......... .......... .......... ..........  7% 1.88M 14s\n",
      "  1500K .......... .......... .......... .......... ..........  8% 1002K 14s\n",
      "  1550K .......... .......... .......... .......... ..........  8% 1.87M 14s\n",
      "  1600K .......... .......... .......... .......... ..........  8%  990K 14s\n",
      "  1650K .......... .......... .......... .......... ..........  8% 1014K 14s\n",
      "  1700K .......... .......... .......... .......... ..........  9% 1.82M 14s\n",
      "  1750K .......... .......... .......... .......... ..........  9% 1002K 14s\n",
      "  1800K .......... .......... .......... .......... ..........  9% 1.87M 14s\n",
      "  1850K .......... .......... .......... .......... ..........  9% 1009K 14s\n",
      "  1900K .......... .......... .......... .......... .......... 10% 1.89M 14s\n",
      "  1950K .......... .......... .......... .......... .......... 10%  995K 14s\n",
      "  2000K .......... .......... .......... .......... .......... 10%  998K 14s\n",
      "  2050K .......... .......... .......... .......... .......... 10% 1.89M 14s\n",
      "  2100K .......... .......... .......... .......... .......... 11% 1.89M 14s\n",
      "  2150K .......... .......... .......... .......... .......... 11% 1.89M 13s\n",
      "  2200K .......... .......... .......... .......... .......... 11%  994K 13s\n",
      "  2250K .......... .......... .......... .......... .......... 12% 1.89M 13s\n",
      "  2300K .......... .......... .......... .......... .......... 12% 1.86M 13s\n",
      "  2350K .......... .......... .......... .......... .......... 12% 1.90M 13s\n",
      "  2400K .......... .......... .......... .......... .......... 12%  987K 13s\n",
      "  2450K .......... .......... .......... .......... .......... 13% 1.89M 13s\n",
      "  2500K .......... .......... .......... .......... .......... 13% 1.89M 13s\n",
      "  2550K .......... .......... .......... .......... .......... 13% 1.90M 13s\n",
      "  2600K .......... .......... .......... .......... .......... 13%  998K 13s\n",
      "  2650K .......... .......... .......... .......... .......... 14% 1.90M 13s\n",
      "  2700K .......... .......... .......... .......... .......... 14%  990K 13s\n",
      "  2750K .......... .......... .......... .......... .......... 14% 1.89M 13s\n",
      "  2800K .......... .......... .......... .......... .......... 14% 1004K 13s\n",
      "  2850K .......... .......... .......... .......... .......... 15% 1.89M 12s\n",
      "  2900K .......... .......... .......... .......... .......... 15% 1.90M 12s\n",
      "  2950K .......... .......... .......... .......... .......... 15%  994K 12s\n",
      "  3000K .......... .......... .......... .......... .......... 15% 1.88M 12s\n",
      "  3050K .......... .......... .......... .......... .......... 16% 1.90M 12s\n",
      "  3100K .......... .......... .......... .......... .......... 16% 1.88M 12s\n",
      "  3150K .......... .......... .......... .......... .......... 16%  986K 12s\n",
      "  3200K .......... .......... .......... .......... .......... 16% 1.89M 12s\n",
      "  3250K .......... .......... .......... .......... .......... 17% 1.89M 12s\n",
      "  3300K .......... .......... .......... .......... .......... 17% 1.90M 12s\n",
      "  3350K .......... .......... .......... .......... .......... 17%  989K 12s\n",
      "  3400K .......... .......... .......... .......... .......... 18% 1.88M 12s\n",
      "  3450K .......... .......... .......... .......... .......... 18% 1.89M 12s\n",
      "  3500K .......... .......... .......... .......... .......... 18% 1.87M 12s\n",
      "  3550K .......... .......... .......... .......... .......... 18% 1.88M 11s\n",
      "  3600K .......... .......... .......... .......... .......... 19% 1004K 12s\n",
      "  3650K .......... .......... .......... .......... .......... 19% 1.89M 11s\n",
      "  3700K .......... .......... .......... .......... .......... 19% 1.91M 11s\n",
      "  3750K .......... .......... .......... .......... .......... 19% 1.89M 11s\n",
      "  3800K .......... .......... .......... .......... .......... 20% 1001K 11s\n",
      "  3850K .......... .......... .......... .......... .......... 20% 1.90M 11s\n",
      "  3900K .......... .......... .......... .......... .......... 20% 1.90M 11s\n",
      "  3950K .......... .......... .......... .......... .......... 20% 1.88M 11s\n",
      "  4000K .......... .......... .......... .......... .......... 21% 1004K 11s\n",
      "  4050K .......... .......... .......... .......... .......... 21% 1.90M 11s\n",
      "  4100K .......... .......... .......... .......... .......... 21% 1.91M 11s\n",
      "  4150K .......... .......... .......... .......... .......... 21% 1.88M 11s\n",
      "  4200K .......... .......... .......... .......... .......... 22% 1.89M 11s\n",
      "  4250K .......... .......... .......... .......... .......... 22% 1003K 11s\n",
      "  4300K .......... .......... .......... .......... .......... 22% 1.90M 11s\n",
      "  4350K .......... .......... .......... .......... .......... 22%  995K 11s\n",
      "  4400K .......... .......... .......... .......... .......... 23% 1.90M 11s\n",
      "  4450K .......... .......... .......... .......... .......... 23% 1.87M 11s\n",
      "  4500K .......... .......... .......... .......... .......... 23% 1.92M 10s\n",
      "  4550K .......... .......... .......... .......... .......... 24% 1.90M 10s\n",
      "  4600K .......... .......... .......... .......... .......... 24% 1002K 10s\n",
      "  4650K .......... .......... .......... .......... .......... 24% 1.89M 10s\n",
      "  4700K .......... .......... .......... .......... .......... 24% 1.91M 10s\n",
      "  4750K .......... .......... .......... .......... .......... 25%  993K 10s\n",
      "  4800K .......... .......... .......... .......... .......... 25% 1.90M 10s\n",
      "  4850K .......... .......... .......... .......... .......... 25% 1.89M 10s\n",
      "  4900K .......... .......... .......... .......... .......... 25% 1.91M 10s\n",
      "  4950K .......... .......... .......... .......... .......... 26% 1.89M 10s\n",
      "  5000K .......... .......... .......... .......... .......... 26% 1000K 10s\n",
      "  5050K .......... .......... .......... .......... .......... 26% 1.89M 10s\n",
      "  5100K .......... .......... .......... .......... .......... 26% 1.92M 10s\n",
      "  5150K .......... .......... .......... .......... .......... 27% 1.88M 10s\n",
      "  5200K .......... .......... .......... .......... .......... 27% 1.92M 10s\n",
      "  5250K .......... .......... .......... .......... .......... 27% 1.88M 10s\n",
      "  5300K .......... .......... .......... .......... .......... 27% 1.91M 10s\n",
      "  5350K .......... .......... .......... .......... .......... 28% 1.89M 10s\n",
      "  5400K .......... .......... .......... .......... .......... 28% 1.91M 10s\n",
      "  5450K .......... .......... .......... .......... .......... 28% 1.90M 10s\n",
      "  5500K .......... .......... .......... .......... .......... 28% 1.92M 9s\n",
      "  5550K .......... .......... .......... .......... .......... 29% 1014K 9s\n",
      "  5600K .......... .......... .......... .......... .......... 29% 1.92M 9s\n",
      "  5650K .......... .......... .......... .......... .......... 29% 1.91M 9s\n",
      "  5700K .......... .......... .......... .......... .......... 30% 1.91M 9s\n",
      "  5750K .......... .......... .......... .......... .......... 30% 1.90M 9s\n",
      "  5800K .......... .......... .......... .......... .......... 30% 1.91M 9s\n",
      "  5850K .......... .......... .......... .......... .......... 30% 1.91M 9s\n",
      "  5900K .......... .......... .......... .......... .......... 31% 1.92M 9s\n",
      "  5950K .......... .......... .......... .......... .......... 31%  999K 9s\n",
      "  6000K .......... .......... .......... .......... .......... 31% 1.91M 9s\n",
      "  6050K .......... .......... .......... .......... .......... 31% 1.91M 9s\n",
      "  6100K .......... .......... .......... .......... .......... 32% 1.92M 9s\n",
      "  6150K .......... .......... .......... .......... .......... 32% 1.90M 9s\n",
      "  6200K .......... .......... .......... .......... .......... 32% 1.92M 9s\n",
      "  6250K .......... .......... .......... .......... .......... 32% 1.91M 9s\n",
      "  6300K .......... .......... .......... .......... .......... 33% 1.91M 9s\n",
      "  6350K .......... .......... .......... .......... .......... 33%  488K 9s\n",
      "  6400K .......... .......... .......... .......... .......... 33% 1.90M 9s\n",
      "  6450K .......... .......... .......... .......... .......... 33% 1.90M 9s\n",
      "  6500K .......... .......... .......... .......... .......... 34% 1.89M 9s\n",
      "  6550K .......... .......... .......... .......... .......... 34% 1.89M 9s\n",
      "  6600K .......... .......... .......... .......... .......... 34% 1.93M 9s\n",
      "  6650K .......... .......... .......... .......... .......... 34% 1.92M 8s\n",
      "  6700K .......... .......... .......... .......... .......... 35% 1.00M 8s\n",
      "  6750K .......... .......... .......... .......... .......... 35% 1.92M 8s\n",
      "  6800K .......... .......... .......... .......... .......... 35% 1.92M 8s\n",
      "  6850K .......... .......... .......... .......... .......... 36% 1.92M 8s\n",
      "  6900K .......... .......... .......... .......... .......... 36% 1.92M 8s\n",
      "  6950K .......... .......... .......... .......... .......... 36%  578K 8s\n",
      "  7000K .......... .......... .......... .......... .......... 36%  246M 8s\n",
      "  7050K .......... .......... .......... .......... .......... 37% 1.87M 8s\n",
      "  7100K .......... .......... .......... .......... .......... 37% 1.90M 8s\n",
      "  7150K .......... .......... .......... .......... .......... 37% 1.87M 8s\n",
      "  7200K .......... .......... .......... .......... .......... 37% 1010K 8s\n",
      "  7250K .......... .......... .......... .......... .......... 38% 1.92M 8s\n",
      "  7300K .......... .......... .......... .......... .......... 38% 1.92M 8s\n",
      "  7350K .......... .......... .......... .......... .......... 38% 1.92M 8s\n",
      "  7400K .......... .......... .......... .......... .......... 38% 1.83M 8s\n",
      "  7450K .......... .......... .......... .......... .......... 39% 1.92M 8s\n",
      "  7500K .......... .......... .......... .......... .......... 39% 1.88M 8s\n",
      "  7550K .......... .......... .......... .......... .......... 39% 1.91M 8s\n",
      "  7600K .......... .......... .......... .......... .......... 39% 1.90M 8s\n",
      "  7650K .......... .......... .......... .......... .......... 40% 1.92M 8s\n",
      "  7700K .......... .......... .......... .......... .......... 40% 1.92M 8s\n",
      "  7750K .......... .......... .......... .......... .......... 40% 1.89M 8s\n",
      "  7800K .......... .......... .......... .......... .......... 40% 1.93M 8s\n",
      "  7850K .......... .......... .......... .......... .......... 41% 1.90M 8s\n",
      "  7900K .......... .......... .......... .......... .......... 41% 1.86M 7s\n",
      "  7950K .......... .......... .......... .......... .......... 41% 1.60M 7s\n",
      "  8000K .......... .......... .......... .......... .......... 42% 1.86M 7s\n",
      "  8050K .......... .......... .......... .......... .......... 42% 1.81M 7s\n",
      "  8100K .......... .......... .......... .......... .......... 42% 1.73M 7s\n",
      "  8150K .......... .......... .......... .......... .......... 42% 1.46M 7s\n",
      "  8200K .......... .......... .......... .......... .......... 43% 1.72M 7s\n",
      "  8250K .......... .......... .......... .......... .......... 43% 1.52M 7s\n",
      "  8300K .......... .......... .......... .......... .......... 43% 1.35M 7s\n",
      "  8350K .......... .......... .......... .......... .......... 43% 1.23M 7s\n",
      "  8400K .......... .......... .......... .......... .......... 44% 1.68M 7s\n",
      "  8450K .......... .......... .......... .......... .......... 44% 1.53M 7s\n",
      "  8500K .......... .......... .......... .......... .......... 44% 1.91M 7s\n",
      "  8550K .......... .......... .......... .......... .......... 44% 1.91M 7s\n",
      "  8600K .......... .......... .......... .......... .......... 45% 1.92M 7s\n",
      "  8650K .......... .......... .......... .......... .......... 45% 1.91M 7s\n",
      "  8700K .......... .......... .......... .......... .......... 45% 1.90M 7s\n",
      "  8750K .......... .......... .......... .......... .......... 45% 1.90M 7s\n",
      "  8800K .......... .......... .......... .......... .......... 46% 1.92M 7s\n",
      "  8850K .......... .......... .......... .......... .......... 46% 1.91M 7s\n",
      "  8900K .......... .......... .......... .......... .......... 46% 1.89M 7s\n",
      "  8950K .......... .......... .......... .......... .......... 46% 1.92M 7s\n",
      "  9000K .......... .......... .......... .......... .......... 47% 1.60M 7s\n",
      "  9050K .......... .......... .......... .......... .......... 47% 1.87M 7s\n",
      "  9100K .......... .......... .......... .......... .......... 47% 1.88M 7s\n",
      "  9150K .......... .......... .......... .......... .......... 48% 1.74M 7s\n",
      "  9200K .......... .......... .......... .......... .......... 48% 1.63M 6s\n",
      "  9250K .......... .......... .......... .......... .......... 48% 1.91M 6s\n",
      "  9300K .......... .......... .......... .......... .......... 48% 1.84M 6s\n",
      "  9350K .......... .......... .......... .......... .......... 49% 1.86M 6s\n",
      "  9400K .......... .......... .......... .......... .......... 49% 1.47M 6s\n",
      "  9450K .......... .......... .......... .......... .......... 49% 1.54M 6s\n",
      "  9500K .......... .......... .......... .......... .......... 49%  888K 6s\n",
      "  9550K .......... .......... .......... .......... .......... 50% 35.8M 6s\n",
      "  9600K .......... .......... .......... .......... .......... 50%  996K 6s\n",
      "  9650K .......... .......... .......... .......... .......... 50% 1.71M 6s\n",
      "  9700K .......... .......... .......... .......... .......... 50% 1.89M 6s\n",
      "  9750K .......... .......... .......... .......... .......... 51% 1.90M 6s\n",
      "  9800K .......... .......... .......... .......... .......... 51% 1.43M 6s\n",
      "  9850K .......... .......... .......... .......... .......... 51% 1.90M 6s\n",
      "  9900K .......... .......... .......... .......... .......... 51% 1.93M 6s\n",
      "  9950K .......... .......... .......... .......... .......... 52% 1.73M 6s\n",
      " 10000K .......... .......... .......... .......... .......... 52% 1.91M 6s\n",
      " 10050K .......... .......... .......... .......... .......... 52% 1.93M 6s\n",
      " 10100K .......... .......... .......... .......... .......... 52% 1.90M 6s\n",
      " 10150K .......... .......... .......... .......... .......... 53% 1.90M 6s\n",
      " 10200K .......... .......... .......... .......... .......... 53% 1.93M 6s\n",
      " 10250K .......... .......... .......... .......... .......... 53% 1.89M 6s\n",
      " 10300K .......... .......... .......... .......... .......... 54% 1.90M 6s\n",
      " 10350K .......... .......... .......... .......... .......... 54% 1.91M 6s\n",
      " 10400K .......... .......... .......... .......... .......... 54% 1.92M 6s\n",
      " 10450K .......... .......... .......... .......... .......... 54% 1.91M 6s\n",
      " 10500K .......... .......... .......... .......... .......... 55% 1.92M 6s\n",
      " 10550K .......... .......... .......... .......... .......... 55% 1.92M 5s\n",
      " 10600K .......... .......... .......... .......... .......... 55% 1.88M 5s\n",
      " 10650K .......... .......... .......... .......... .......... 55% 1.04M 5s\n",
      " 10700K .......... .......... .......... .......... .......... 56% 1.89M 5s\n",
      " 10750K .......... .......... .......... .......... .......... 56% 1.31M 5s\n",
      " 10800K .......... .......... .......... .......... .......... 56% 1.50M 5s\n",
      " 10850K .......... .......... .......... .......... .......... 56% 1.91M 5s\n",
      " 10900K .......... .......... .......... .......... .......... 57% 1.92M 5s\n",
      " 10950K .......... .......... .......... .......... .......... 57% 1.89M 5s\n",
      " 11000K .......... .......... .......... .......... .......... 57% 1.91M 5s\n",
      " 11050K .......... .......... .......... .......... .......... 57% 1.91M 5s\n",
      " 11100K .......... .......... .......... .......... .......... 58% 1.92M 5s\n",
      " 11150K .......... .......... .......... .......... .......... 58% 1.84M 5s\n",
      " 11200K .......... .......... .......... .......... .......... 58% 1.93M 5s\n",
      " 11250K .......... .......... .......... .......... .......... 58% 1.92M 5s\n",
      " 11300K .......... .......... .......... .......... .......... 59% 1.91M 5s\n",
      " 11350K .......... .......... .......... .......... .......... 59% 1.91M 5s\n",
      " 11400K .......... .......... .......... .......... .......... 59% 1.91M 5s\n",
      " 11450K .......... .......... .......... .......... .......... 60% 1.90M 5s\n",
      " 11500K .......... .......... .......... .......... .......... 60% 1.88M 5s\n",
      " 11550K .......... .......... .......... .......... .......... 60% 1.91M 5s\n",
      " 11600K .......... .......... .......... .......... .......... 60% 1.69M 5s\n",
      " 11650K .......... .......... .......... .......... .......... 61% 1.77M 5s\n",
      " 11700K .......... .......... .......... .......... .......... 61% 1.67M 5s\n",
      " 11750K .......... .......... .......... .......... .......... 61% 1.76M 5s\n",
      " 11800K .......... .......... .......... .......... .......... 61% 1.91M 5s\n",
      " 11850K .......... .......... .......... .......... .......... 62% 1.59M 5s\n",
      " 11900K .......... .......... .......... .......... .......... 62% 1.15M 5s\n",
      " 11950K .......... .......... .......... .......... .......... 62% 1.58M 5s\n",
      " 12000K .......... .......... .......... .......... .......... 62% 1.56M 4s\n",
      " 12050K .......... .......... .......... .......... .......... 63% 1.92M 4s\n",
      " 12100K .......... .......... .......... .......... .......... 63% 1.90M 4s\n",
      " 12150K .......... .......... .......... .......... .......... 63% 1.91M 4s\n",
      " 12200K .......... .......... .......... .......... .......... 63% 1.88M 4s\n",
      " 12250K .......... .......... .......... .......... .......... 64% 1.88M 4s\n",
      " 12300K .......... .......... .......... .......... .......... 64% 1.92M 4s\n",
      " 12350K .......... .......... .......... .......... .......... 64% 1.91M 4s\n",
      " 12400K .......... .......... .......... .......... .......... 64% 1.93M 4s\n",
      " 12450K .......... .......... .......... .......... .......... 65% 1.93M 4s\n",
      " 12500K .......... .......... .......... .......... .......... 65% 1.92M 4s\n",
      " 12550K .......... .......... .......... .......... .......... 65% 1.92M 4s\n",
      " 12600K .......... .......... .......... .......... .......... 66% 1.92M 4s\n",
      " 12650K .......... .......... .......... .......... .......... 66% 1.91M 4s\n",
      " 12700K .......... .......... .......... .......... .......... 66% 1.90M 4s\n",
      " 12750K .......... .......... .......... .......... .......... 66% 1.64M 4s\n",
      " 12800K .......... .......... .......... .......... .......... 67% 1.93M 4s\n",
      " 12850K .......... .......... .......... .......... .......... 67% 1.91M 4s\n",
      " 12900K .......... .......... .......... .......... .......... 67% 1.93M 4s\n",
      " 12950K .......... .......... .......... .......... .......... 67% 1.93M 4s\n",
      " 13000K .......... .......... .......... .......... .......... 68% 1.92M 4s\n",
      " 13050K .......... .......... .......... .......... .......... 68% 1.93M 4s\n",
      " 13100K .......... .......... .......... .......... .......... 68% 1.07M 4s\n",
      " 13150K .......... .......... .......... .......... .......... 68% 1.91M 4s\n",
      " 13200K .......... .......... .......... .......... .......... 69% 1.92M 4s\n",
      " 13250K .......... .......... .......... .......... .......... 69% 1.92M 4s\n",
      " 13300K .......... .......... .......... .......... .......... 69% 1.93M 4s\n",
      " 13350K .......... .......... .......... .......... .......... 69% 1.92M 4s\n",
      " 13400K .......... .......... .......... .......... .......... 70% 1.94M 4s\n",
      " 13450K .......... .......... .......... .......... .......... 70% 1.92M 4s\n",
      " 13500K .......... .......... .......... .......... .......... 70% 1.92M 3s\n",
      " 13550K .......... .......... .......... .......... .......... 70% 1.92M 3s\n",
      " 13600K .......... .......... .......... .......... .......... 71% 1.89M 3s\n",
      " 13650K .......... .......... .......... .......... .......... 71% 1.94M 3s\n",
      " 13700K .......... .......... .......... .......... .......... 71% 1.72M 3s\n",
      " 13750K .......... .......... .......... .......... .......... 72% 1.88M 3s\n",
      " 13800K .......... .......... .......... .......... .......... 72% 1.83M 3s\n",
      " 13850K .......... .......... .......... .......... .......... 72% 1.78M 3s\n",
      " 13900K .......... .......... .......... .......... .......... 72% 1.89M 3s\n",
      " 13950K .......... .......... .......... .......... .......... 73% 1.90M 3s\n",
      " 14000K .......... .......... .......... .......... .......... 73% 1.84M 3s\n",
      " 14050K .......... .......... .......... .......... .......... 73% 1.80M 3s\n",
      " 14100K .......... .......... .......... .......... .......... 73% 1.73M 3s\n",
      " 14150K .......... .......... .......... .......... .......... 74% 1.93M 3s\n",
      " 14200K .......... .......... .......... .......... .......... 74% 1.94M 3s\n",
      " 14250K .......... .......... .......... .......... .......... 74% 1.93M 3s\n",
      " 14300K .......... .......... .......... .......... .......... 74% 1.94M 3s\n",
      " 14350K .......... .......... .......... .......... .......... 75% 1015K 3s\n",
      " 14400K .......... .......... .......... .......... .......... 75% 1.88M 3s\n",
      " 14450K .......... .......... .......... .......... .......... 75% 1.92M 3s\n",
      " 14500K .......... .......... .......... .......... .......... 75% 1.91M 3s\n",
      " 14550K .......... .......... .......... .......... .......... 76% 1.93M 3s\n",
      " 14600K .......... .......... .......... .......... .......... 76% 1.93M 3s\n",
      " 14650K .......... .......... .......... .......... .......... 76% 1.94M 3s\n",
      " 14700K .......... .......... .......... .......... .......... 76% 1.90M 3s\n",
      " 14750K .......... .......... .......... .......... .......... 77% 1.95M 3s\n",
      " 14800K .......... .......... .......... .......... .......... 77% 1.92M 3s\n",
      " 14850K .......... .......... .......... .......... .......... 77% 1.91M 3s\n",
      " 14900K .......... .......... .......... .......... .......... 78% 1.94M 3s\n",
      " 14950K .......... .......... .......... .......... .......... 78% 1.90M 3s\n",
      " 15000K .......... .......... .......... .......... .......... 78% 1.93M 3s\n",
      " 15050K .......... .......... .......... .......... .......... 78% 1.92M 2s\n",
      " 15100K .......... .......... .......... .......... .......... 79% 1.92M 2s\n",
      " 15150K .......... .......... .......... .......... .......... 79% 1.91M 2s\n",
      " 15200K .......... .......... .......... .......... .......... 79% 1.91M 2s\n",
      " 15250K .......... .......... .......... .......... .......... 79% 1.93M 2s\n",
      " 15300K .......... .......... .......... .......... .......... 80% 1.91M 2s\n",
      " 15350K .......... .......... .......... .......... .......... 80% 1.93M 2s\n",
      " 15400K .......... .......... .......... .......... .......... 80% 1.93M 2s\n",
      " 15450K .......... .......... .......... .......... .......... 80% 1.90M 2s\n",
      " 15500K .......... .......... .......... .......... .......... 81% 1.92M 2s\n",
      " 15550K .......... .......... .......... .......... .......... 81% 1021K 2s\n",
      " 15600K .......... .......... .......... .......... .......... 81% 1.93M 2s\n",
      " 15650K .......... .......... .......... .......... .......... 81% 1.93M 2s\n",
      " 15700K .......... .......... .......... .......... .......... 82% 1.94M 2s\n",
      " 15750K .......... .......... .......... .......... .......... 82% 1.93M 2s\n",
      " 15800K .......... .......... .......... .......... .......... 82% 1.94M 2s\n",
      " 15850K .......... .......... .......... .......... .......... 82% 22.8M 2s\n",
      " 15900K .......... .......... .......... .......... .......... 83% 1.92M 2s\n",
      " 15950K .......... .......... .......... .......... .......... 83% 1.93M 2s\n",
      " 16000K .......... .......... .......... .......... .......... 83% 1.92M 2s\n",
      " 16050K .......... .......... .......... .......... .......... 84% 1.93M 2s\n",
      " 16100K .......... .......... .......... .......... .......... 84% 1.93M 2s\n",
      " 16150K .......... .......... .......... .......... .......... 84% 1.91M 2s\n",
      " 16200K .......... .......... .......... .......... .......... 84% 1.93M 2s\n",
      " 16250K .......... .......... .......... .......... .......... 85% 1.93M 2s\n",
      " 16300K .......... .......... .......... .......... .......... 85% 1019K 2s\n",
      " 16350K .......... .......... .......... .......... .......... 85% 1.93M 2s\n",
      " 16400K .......... .......... .......... .......... .......... 85% 1.94M 2s\n",
      " 16450K .......... .......... .......... .......... .......... 86% 1.93M 2s\n",
      " 16500K .......... .......... .......... .......... .......... 86% 1.93M 2s\n",
      " 16550K .......... .......... .......... .......... .......... 86% 1.94M 2s\n",
      " 16600K .......... .......... .......... .......... .......... 86% 1.93M 2s\n",
      " 16650K .......... .......... .......... .......... .......... 87% 1.93M 1s\n",
      " 16700K .......... .......... .......... .......... .......... 87% 1.95M 1s\n",
      " 16750K .......... .......... .......... .......... .......... 87% 28.5M 1s\n",
      " 16800K .......... .......... .......... .......... .......... 87% 1.91M 1s\n",
      " 16850K .......... .......... .......... .......... .......... 88% 1.92M 1s\n",
      " 16900K .......... .......... .......... .......... .......... 88% 1.91M 1s\n",
      " 16950K .......... .......... .......... .......... .......... 88% 1.93M 1s\n",
      " 17000K .......... .......... .......... .......... .......... 88% 1.94M 1s\n",
      " 17050K .......... .......... .......... .......... .......... 89% 1.95M 1s\n",
      " 17100K .......... .......... .......... .......... .......... 89% 25.9M 1s\n",
      " 17150K .......... .......... .......... .......... .......... 89% 1018K 1s\n",
      " 17200K .......... .......... .......... .......... .......... 90% 1.93M 1s\n",
      " 17250K .......... .......... .......... .......... .......... 90% 31.6M 1s\n",
      " 17300K .......... .......... .......... .......... .......... 90% 1.92M 1s\n",
      " 17350K .......... .......... .......... .......... .......... 90% 1.92M 1s\n",
      " 17400K .......... .......... .......... .......... .......... 91% 1.93M 1s\n",
      " 17450K .......... .......... .......... .......... .......... 91% 1.94M 1s\n",
      " 17500K .......... .......... .......... .......... .......... 91% 1.90M 1s\n",
      " 17550K .......... .......... .......... .......... .......... 91% 1.93M 1s\n",
      " 17600K .......... .......... .......... .......... .......... 92% 1.93M 1s\n",
      " 17650K .......... .......... .......... .......... .......... 92% 1.92M 1s\n",
      " 17700K .......... .......... .......... .......... .......... 92% 1.94M 1s\n",
      " 17750K .......... .......... .......... .......... .......... 92% 1.93M 1s\n",
      " 17800K .......... .......... .......... .......... .......... 93% 36.7M 1s\n",
      " 17850K .......... .......... .......... .......... .......... 93% 1.88M 1s\n",
      " 17900K .......... .......... .......... .......... .......... 93% 1.91M 1s\n",
      " 17950K .......... .......... .......... .......... .......... 93% 1.90M 1s\n",
      " 18000K .......... .......... .......... .......... .......... 94% 1.95M 1s\n",
      " 18050K .......... .......... .......... .......... .......... 94% 1.91M 1s\n",
      " 18100K .......... .......... .......... .......... .......... 94% 1.96M 1s\n",
      " 18150K .......... .......... .......... .......... .......... 94% 1.93M 1s\n",
      " 18200K .......... .......... .......... .......... .......... 95% 1.94M 1s\n",
      " 18250K .......... .......... .......... .......... .......... 95% 23.5M 1s\n",
      " 18300K .......... .......... .......... .......... .......... 95% 1.91M 0s\n",
      " 18350K .......... .......... .......... .......... .......... 96% 1.91M 0s\n",
      " 18400K .......... .......... .......... .......... .......... 96% 1.93M 0s\n",
      " 18450K .......... .......... .......... .......... .......... 96% 1.92M 0s\n",
      " 18500K .......... .......... .......... .......... .......... 96% 1.93M 0s\n",
      " 18550K .......... .......... .......... .......... .......... 97% 1.94M 0s\n",
      " 18600K .......... .......... .......... .......... .......... 97% 1.94M 0s\n",
      " 18650K .......... .......... .......... .......... .......... 97% 21.1M 0s\n",
      " 18700K .......... .......... .......... .......... .......... 97% 1.92M 0s\n",
      " 18750K .......... .......... .......... .......... .......... 98% 1.95M 0s\n",
      " 18800K .......... .......... .......... .......... .......... 98% 1.91M 0s\n",
      " 18850K .......... .......... .......... .......... .......... 98% 1.94M 0s\n",
      " 18900K .......... .......... .......... .......... .......... 98% 1.91M 0s\n",
      " 18950K .......... .......... .......... .......... .......... 99% 37.3M 0s\n",
      " 19000K .......... .......... .......... .......... .......... 99% 1.94M 0s\n",
      " 19050K .......... .......... .......... .......... .......... 99% 1.94M 0s\n",
      " 19100K .......... .......... .......... .......... .......... 99% 1.94M 0s\n",
      " 19150K .......... ...                                        100% 62.1M=11s\n",
      "\n",
      "2018-05-14 17:40:05 (1.68 MB/s) - ‘Silva.seed_v132.tgz’ saved [19623900/19623900]\n",
      "\n"
     ]
    }
   ],
   "source": [
    "%%bash \n",
    "# Remove database if already exsists\n",
    "if [ -d mothur_silva_db ]; then\n",
    "    rm -rf mothur_silva_db\n",
    "fi\n",
    "\n",
    "#if ! [ -d mothur_silva_db ]; then\n",
    "#    mkdir mothur_silva_db\n",
    "#fi\n",
    "\n",
    "mkdir mothur_silva_db\n",
    "cd mothur_silva_db\n",
    "\n",
    "# Download mothur recreatd SEED database release 132.\n",
    "wget https://www.mothur.org/w/images/7/71/Silva.seed_v132.tgz\n",
    "#wget https://www.mothur.org/w/images/a/a4/Silva.seed_v128.tgz\n",
    "tar -xvzf Silva.seed_v132.tgz\n",
    "rm Silva.seed_v132.tgz"
   ]
  },
  {
   "cell_type": "code",
   "execution_count": 18,
   "metadata": {
    "collapsed": false
   },
   "outputs": [
    {
     "name": "stdout",
     "output_type": "stream",
     "text": [
      "100\n",
      "200\n",
      "300\n",
      "400\n",
      "500\n",
      "560\n",
      "\n",
      "\n",
      "\n",
      "Length of filtered alignment: 10180\n",
      "Number of columns removed: 39820\n",
      "Length of the original alignment: 50000\n",
      "Number of sequences used to construct filter: 11180\n",
      "\n",
      "Output File Names: \n",
      "silva.filter\n",
      "silva.seed_v132.filter.fasta\n",
      "\n",
      "\n",
      "mothur > quit()\n",
      "\n",
      "Number of sequences post-filter: 11180\n"
     ]
    }
   ],
   "source": [
    "silvaFile = 'silva.seed_v132.align'\n",
    "cmd = 'mothur \"#filter.seqs(vertical=t, fasta={}, processors={})\"'.format(silvaFile, nprocs)\n",
    "!cd mothur_silva_db; $cmd | tail -n 20\n",
    "\n",
    "silvaFileFilt = os.path.splitext(silvaFile)[0] + '.filter.fasta'\n",
    "silvaFileFilt = os.path.join('mothur_silva_db', silvaFileFilt)\n",
    "ret = !grep -c \">\" $silvaFileFilt\n",
    "print ('\\nNumber of sequences post-filter: {}'.format(ret[0]))"
   ]
  },
  {
   "cell_type": "code",
   "execution_count": 19,
   "metadata": {
    "collapsed": false
   },
   "outputs": [
    {
     "name": "stdout",
     "output_type": "stream",
     "text": [
      "125400\r\n",
      "125500\r\n",
      "125600\r\n",
      "125700\r\n",
      "125800\r\n",
      "125900\r\n",
      "126000\r\n",
      "126100\r\n",
      "126200\r\n",
      "126229\r\n",
      "[WARNING]: Some of your sequences generated alignments that eliminated too many bases, a list is provided in pear_merged-160713_FC2Unfrac.assembled.dmult_maxee1_noN.unique.flip.accnos. If the reverse compliment proved to be better it was reported.\r\n",
      "It took 1055 secs to align 3015452 sequences.\r\n",
      "\r\n",
      "\r\n",
      "Output File Names: \r\n",
      "pear_merged-160713_FC2Unfrac.assembled.dmult_maxee1_noN.unique.align\r\n",
      "pear_merged-160713_FC2Unfrac.assembled.dmult_maxee1_noN.unique.align.report\r\n",
      "pear_merged-160713_FC2Unfrac.assembled.dmult_maxee1_noN.unique.flip.accnos\r\n",
      "\r\n",
      "\r\n",
      "mothur > quit()\r\n",
      "\r\n",
      "\r\n",
      "<<<<<<<<<<<<<<<<<<<<<<<<<<<<<<^>>>>>>>>>>>>>>>>>>>>>>>>>>>>>\r\n",
      "<<<<<<<<<<<<<<<<<<<<<<<<<<<<<<^>>>>>>>>>>>>>>>>>>>>>>>>>>>>>\r\n",
      "<<<<<<<<<<<<<<<<<<<<<<<<<<<<<<^>>>>>>>>>>>>>>>>>>>>>>>>>>>>>\r\n",
      "Detected 1 [WARNING] messages, please review.\r\n",
      "<<<<<<<<<<<<<<<<<<<<<<<<<<<<<<^>>>>>>>>>>>>>>>>>>>>>>>>>>>>>\r\n",
      "<<<<<<<<<<<<<<<<<<<<<<<<<<<<<<^>>>>>>>>>>>>>>>>>>>>>>>>>>>>>\r\n",
      "<<<<<<<<<<<<<<<<<<<<<<<<<<<<<<^>>>>>>>>>>>>>>>>>>>>>>>>>>>>>\r\n"
     ]
    }
   ],
   "source": [
    "# aligning sequences\n",
    "qcFile3a = re.sub('-', '\\-', qcFile3)\n",
    "cmd = 'mothur \"#align.seqs(candidate={}, template={}, processors=24, flip=T)\"'.format(qcFile3a, silvaFileFilt)\n",
    "!$cmd | tail -n 30"
   ]
  },
  {
   "cell_type": "code",
   "execution_count": 20,
   "metadata": {
    "collapsed": false
   },
   "outputs": [
    {
     "name": "stdout",
     "output_type": "stream",
     "text": [
      "-rw-rw-r-- 1 sam sam 29G May 14 17:57 pear_merged-160713_FC2Unfrac.assembled.dmult_maxee1_noN.unique.align\r\n"
     ]
    }
   ],
   "source": [
    "qcFile4 = os.path.splitext(qcFile3)[0] + '.align'\n",
    "!ls -thlc $qcFile4 "
   ]
  },
  {
   "cell_type": "code",
   "execution_count": 21,
   "metadata": {
    "collapsed": false
   },
   "outputs": [
    {
     "name": "stdout",
     "output_type": "stream",
     "text": [
      "149300\r\n",
      "149400\r\n",
      "149500\r\n",
      "149600\r\n",
      "149700\r\n",
      "149800\r\n",
      "149900\r\n",
      "150000\r\n",
      "150100\r\n",
      "150200\r\n",
      "150300\r\n",
      "150400\r\n",
      "150500\r\n",
      "150600\r\n",
      "150700\r\n",
      "150793\r\n",
      "\r\n",
      "\r\n",
      "\r\n",
      "Length of filtered alignment: 1187\r\n",
      "Number of columns removed: 8993\r\n",
      "Length of the original alignment: 10180\r\n",
      "Number of sequences used to construct filter: 3015452\r\n",
      "\r\n",
      "Output File Names: \r\n",
      "pear_merged-160713_FC2Unfrac.filter\r\n",
      "pear_merged-160713_FC2Unfrac.assembled.dmult_maxee1_noN.unique.filter.fasta\r\n",
      "\r\n",
      "\r\n",
      "mothur > quit()\r\n"
     ]
    }
   ],
   "source": [
    "# filtering out gap positions in the alignment\n",
    "qcFile4a = re.sub('-', '\\-', qcFile4)\n",
    "cmd = 'mothur \"#filter.seqs(vertical=t, fasta={}, processors={})\"'.format(qcFile4a, nprocs)\n",
    "!$cmd | tail -n 30"
   ]
  },
  {
   "cell_type": "code",
   "execution_count": 22,
   "metadata": {
    "collapsed": false
   },
   "outputs": [
    {
     "name": "stdout",
     "output_type": "stream",
     "text": [
      "-rw-rw-r-- 1 sam sam 3.5G May 14 17:59 pear_merged-160713_FC2Unfrac.assembled.dmult_maxee1_noN.unique.filter.fasta\r\n"
     ]
    }
   ],
   "source": [
    "qcFile5 = os.path.splitext(qcFile3)[0] + '.filter.fasta'\n",
    "!ls -thlc $qcFile5"
   ]
  },
  {
   "cell_type": "code",
   "execution_count": 23,
   "metadata": {
    "collapsed": false
   },
   "outputs": [
    {
     "name": "stdout",
     "output_type": "stream",
     "text": [
      "Using 20 processors.\r\n",
      "\r\n",
      "\t\tStart\tEnd\tNBases\tAmbigs\tPolymer\tNumSeqs\r\n",
      "Minimum:\t0\t0\t0\t0\t1\t1\r\n",
      "2.5%-tile:\t178\t919\t253\t0\t4\t118499\r\n",
      "25%-tile:\t178\t919\t253\t0\t4\t1184987\r\n",
      "Median: \t178\t919\t253\t0\t5\t2369974\r\n",
      "75%-tile:\t178\t919\t253\t0\t5\t3554960\r\n",
      "97.5%-tile:\t178\t919\t254\t0\t7\t4621448\r\n",
      "Maximum:\t1187\t1187\t341\t0\t79\t4739946\r\n",
      "Mean:\t178.31\t918.963\t252.983\t0\t4.85735\r\n",
      "# of unique seqs:\t3015452\r\n",
      "total # of seqs:\t4739946\r\n",
      "\r\n",
      "Output File Names: \r\n",
      "pear_merged-160713_FC2Unfrac.assembled.dmult_maxee1_noN.unique.filter.summary\r\n",
      "\r\n",
      "It took 15 secs to summarize 4739946 sequences.\r\n",
      "\r\n",
      "mothur > quit()\r\n"
     ]
    }
   ],
   "source": [
    "cmd = 'mothur \"#summary.seqs(fasta={}, processors={}, name={})\"'.format(qcFile5, nprocs, nameFile)\n",
    "!$cmd | tail -n 20"
   ]
  },
  {
   "cell_type": "markdown",
   "metadata": {},
   "source": [
    "## Removing homopolymers (> 8) and screening out sequences that don't align to an amplicon region"
   ]
  },
  {
   "cell_type": "code",
   "execution_count": 24,
   "metadata": {
    "collapsed": false
   },
   "outputs": [
    {
     "name": "stdout",
     "output_type": "stream",
     "text": [
      "Processing sequence: 150863\r\n",
      "g sequence: 149300\r\n",
      "Processing sequence: 149400\r\n",
      "Processing sequence: 149500\r\n",
      "Processing sequence: 149600\r\n",
      "Processing sequence: 149700\r\n",
      "Processing sequence: 149800\r\n",
      "Processing sequence: 149900\r\n",
      "Processing sequence: 150000\r\n",
      "Processing sequence: 150100\r\n",
      "Processing sequence: 150200\r\n",
      "Processing sequence: 150300\r\n",
      "Processing sequence: 150400\r\n",
      "Processing sequence: 150500\r\n",
      "Processing sequence: 150600\r\n",
      "Processing sequence: 150700\r\n",
      "Processing sequence: 150800\r\n",
      "Processing sequence: 150900\r\n",
      "Processing sequence: 150936\r\n",
      "\r\n",
      "Output File Names: \r\n",
      "pear_merged-160713_FC2Unfrac.assembled.dmult_maxee1_noN.unique.filter.good.fasta\r\n",
      "pear_merged-160713_FC2Unfrac.assembled.dmult_maxee1_noN.unique.filter.bad.accnos\r\n",
      "pear_merged-160713_FC2Unfrac.assembled.dmult_maxee1_noN.good.names\r\n",
      "group_file.good.txt\r\n",
      "\r\n",
      "\r\n",
      "It took 28 secs to screen 3015452 sequences.\r\n",
      "\r\n",
      "mothur > quit()\r\n"
     ]
    }
   ],
   "source": [
    "cmd = \"\"\"mothur '#screen.seqs(fasta={},\\\n",
    "    processors={},\\\n",
    "    name={},\\\n",
    "    group={},\\\n",
    "    start={},\\\n",
    "    end={},\\\n",
    "    maxhomop=8)'\"\"\".format(qcFile5, nprocs, nameFile, 'group_file.txt', 178, 919)\n",
    "!$cmd | tail -n 30"
   ]
  },
  {
   "cell_type": "code",
   "execution_count": 25,
   "metadata": {
    "collapsed": false
   },
   "outputs": [
    {
     "name": "stdout",
     "output_type": "stream",
     "text": [
      "Number of sequences post-filter: 2957746\n"
     ]
    }
   ],
   "source": [
    "qcFile6 = os.path.splitext(qcFile5)[0] + '.good.fasta'\n",
    "ret = !grep -c \">\" $qcFile6\n",
    "print ('Number of sequences post-filter: {}'.format(ret[0]))"
   ]
  },
  {
   "cell_type": "code",
   "execution_count": 26,
   "metadata": {
    "collapsed": false
   },
   "outputs": [
    {
     "name": "stdout",
     "output_type": "stream",
     "text": [
      "147600\r\n",
      "147700\r\n",
      "147800\r\n",
      "147900\r\n",
      "148000\r\n",
      "148048\r\n",
      "\r\n",
      "\r\n",
      "\r\n",
      "Length of filtered alignment: 903\r\n",
      "Number of columns removed: 284\r\n",
      "Length of the original alignment: 1187\r\n",
      "Number of sequences used to construct filter: 2957746\r\n",
      "\r\n",
      "Output File Names: \r\n",
      "pear_merged-160713_FC2Unfrac.filter\r\n",
      "pear_merged-160713_FC2Unfrac.assembled.dmult_maxee1_noN.unique.filter.good.filter.fasta\r\n",
      "\r\n",
      "\r\n",
      "mothur > quit()\r\n"
     ]
    }
   ],
   "source": [
    "qcFile6a = re.sub('-', '\\-', qcFile6)\n",
    "cmd = 'mothur \"#filter.seqs(fasta={}, processors={}, vertical=T)\"'.format(qcFile6a, nprocs)\n",
    "!$cmd | tail -n 20"
   ]
  },
  {
   "cell_type": "code",
   "execution_count": 27,
   "metadata": {
    "collapsed": false
   },
   "outputs": [
    {
     "name": "stdout",
     "output_type": "stream",
     "text": [
      "-rw-rw-r-- 1 sam sam 2.6G May 14 18:00 pear_merged-160713_FC2Unfrac.assembled.dmult_maxee1_noN.unique.filter.good.filter.fasta\r\n"
     ]
    }
   ],
   "source": [
    "qcFile7 = os.path.splitext(qcFile6)[0] + '.filter.fasta'\n",
    "!ls -thlc $qcFile7"
   ]
  },
  {
   "cell_type": "markdown",
   "metadata": {},
   "source": [
    "## Deunique seqs"
   ]
  },
  {
   "cell_type": "code",
   "execution_count": 28,
   "metadata": {
    "collapsed": false
   },
   "outputs": [
    {
     "name": "stdout",
     "output_type": "stream",
     "text": [
      "mothur v.1.39.5\r\n",
      "Last updated: 3/20/2017\r\n",
      "\r\n",
      "by\r\n",
      "Patrick D. Schloss\r\n",
      "\r\n",
      "Department of Microbiology & Immunology\r\n",
      "University of Michigan\r\n",
      "http://www.mothur.org\r\n",
      "\r\n",
      "When using, please cite:\r\n",
      "Schloss, P.D., et al., Introducing mothur: Open-source, platform-independent, community-supported software for describing and comparing microbial communities. Appl Environ Microbiol, 2009. 75(23):7537-41.\r\n",
      "\r\n",
      "Distributed under the GNU General Public License\r\n",
      "\r\n",
      "Type 'help()' for information on the commands that are available\r\n",
      "\r\n",
      "For questions and analysis support, please visit our forum at https://www.mothur.org/forum\r\n",
      "\r\n",
      "Type 'quit()' to exit program\r\n",
      "\r\n",
      "\r\n",
      "\r\n",
      "mothur > deunique.seqs(fasta=pear_merged-160713_FC2Unfrac.assembled.dmult_maxee1_noN.unique.filter.good.filter.fasta, name=pear_merged-160713_FC2Unfrac.assembled.dmult_maxee1_noN.names)\r\n",
      "\r\n",
      "Output File Names: \r\n",
      "pear_merged-160713_FC2Unfrac.assembled.dmult_maxee1_noN.unique.filter.good.filter.redundant.fasta\r\n",
      "\r\n",
      "\r\n",
      "mothur > quit()\r\n"
     ]
    }
   ],
   "source": [
    "cmd = 'mothur \"#deunique.seqs(fasta={}, name={})\"'.format(qcFile7, nameFile)\n",
    "!$cmd | tail -n 30"
   ]
  },
  {
   "cell_type": "markdown",
   "metadata": {},
   "source": [
    "### Final QC-ed file"
   ]
  },
  {
   "cell_type": "code",
   "execution_count": 29,
   "metadata": {
    "collapsed": true
   },
   "outputs": [],
   "source": [
    "qcFile8 = os.path.splitext(qcFile7)[0] + '.redundant.fasta'\n",
    "qcFinal = 'finalQC.fasta'\n",
    "!perl -pe 's/[-.]//g if ! /^>/' $qcFile8 > $qcFinal"
   ]
  },
  {
   "cell_type": "code",
   "execution_count": 30,
   "metadata": {
    "collapsed": false
   },
   "outputs": [
    {
     "name": "stdout",
     "output_type": "stream",
     "text": [
      "\r\n",
      "Using 20 processors.\r\n",
      "\r\n",
      "\t\tStart\tEnd\tNBases\tAmbigs\tPolymer\tNumSeqs\r\n",
      "Minimum:\t1\t213\t213\t0\t3\t1\r\n",
      "2.5%-tile:\t1\t253\t253\t0\t4\t116461\r\n",
      "25%-tile:\t1\t253\t253\t0\t4\t1164607\r\n",
      "Median: \t1\t253\t253\t0\t5\t2329213\r\n",
      "75%-tile:\t1\t253\t253\t0\t5\t3493819\r\n",
      "97.5%-tile:\t1\t254\t254\t0\t7\t4541965\r\n",
      "Maximum:\t1\t341\t341\t0\t8\t4658425\r\n",
      "Mean:\t1\t253.089\t253.089\t0\t4.83847\r\n",
      "# of Seqs:\t4658425\r\n",
      "\r\n",
      "Output File Names: \r\n",
      "finalQC.summary\r\n",
      "\r\n",
      "It took 5 secs to summarize 4658425 sequences.\r\n",
      "\r\n",
      "mothur > quit()\r\n"
     ]
    }
   ],
   "source": [
    "cmd = 'mothur \"#summary.seqs(fasta={}, processors={})\"'.format(qcFinal, nprocs)\n",
    "!$cmd | tail -n 20"
   ]
  },
  {
   "cell_type": "code",
   "execution_count": 31,
   "metadata": {
    "collapsed": false
   },
   "outputs": [
    {
     "name": "stdout",
     "output_type": "stream",
     "text": [
      ">MR.A.13C-Ami.D6.R1_0\r\n",
      "TACGTAGGGTGCAAGCGTTAATCGGAATTACTGGGCGTAAAGCGTGCGCAGGCGGTTTGTTAAGACCGATTTGAAATCCCCGGGCTCAACCTGGGAACTGCATTGGTGACTGGCAAGCTAGAGTATGGCAGAGGGGGGTAGAAATCCACGTGTAGCAGTGAAATGCGTAGAGATGTGGAGGAATACCGATGGCGAAGGCAGCCCCCTGGGCCAATACTGACGCTCATGCACGAGAGCGTGGGGAGCAAACAGG\r\n",
      ">MR.F.13C-Pal.D14.R1_1\r\n",
      "CACGCAGGGCGCAAGCGTTGTCCGGAATTATTGGGCGTAAAGAGCTCGTAGGCGGACTGTCACGTCTGCTGTGAAAAGCTGGGGCTTAACCCTGGCCTTGCAGTGGATACGGGCAGACTAGAGGTAGGTAGGGGAGAATGGAATTCCCGGTGTAGCGGTGAAATGCGCAGATATCGGGAGGAACACCGGTGGCGAAGGCGGTTCTCTGGGCCTTACCTGACGCTGAGGAGCGAAAGCGTGGGGAGCGAACAGG\r\n",
      ">MR.F.13C-Ami.D14.R1_575877\r\n",
      "CACGCAGGGCGCAAGCGTTGTCCGGAATTATTGGGCGTAAAGAGCTCGTAGGCGGACTGTCACGTCTGCTGTGAAAAGCTGGGGCTTAACCCTGGCCTTGCAGTGGATACGGGCAGACTAGAGGTAGGTAGGGGAGAATGGAATTCCCGGTGTAGCGGTGAAATGCGCAGATATCGGGAGGAACACCGGTGGCGAAGGCGGTTCTCTGGGCCTTACCTGACGCTGAGGAGCGAAAGCGTGGGGAGCGAACAGG\r\n"
     ]
    }
   ],
   "source": [
    "!head -n 6 $qcFinal"
   ]
  },
  {
   "cell_type": "markdown",
   "metadata": {},
   "source": [
    "## Summary of number of seqs per sample"
   ]
  },
  {
   "cell_type": "code",
   "execution_count": 32,
   "metadata": {
    "collapsed": true
   },
   "outputs": [],
   "source": [
    "re1 = re.compile('_[0-9]+$')\n",
    "\n",
    "qcFinalSum = os.path.splitext(qcFinal)[0] + '.summary'\n",
    "\n",
    "samp_count = dict()\n",
    "with open(qcFinalSum, 'r') as inFH:\n",
    "    for line in inFH:\n",
    "        if line.startswith('seqname'):\n",
    "            continue\n",
    "        line = line.rstrip().split('\\t')\n",
    "        line[0] = re.sub(re1, '', line[0])\n",
    "        try:\n",
    "            samp_count[line[0]] += 1\n",
    "        except KeyError:\n",
    "            samp_count[line[0]] = 1"
   ]
  },
  {
   "cell_type": "code",
   "execution_count": 33,
   "metadata": {
    "collapsed": false
   },
   "outputs": [
    {
     "data": {
      "text/html": [
       "<div>\n",
       "<style scoped>\n",
       "    .dataframe tbody tr th:only-of-type {\n",
       "        vertical-align: middle;\n",
       "    }\n",
       "\n",
       "    .dataframe tbody tr th {\n",
       "        vertical-align: top;\n",
       "    }\n",
       "\n",
       "    .dataframe thead th {\n",
       "        text-align: right;\n",
       "    }\n",
       "</style>\n",
       "<table border=\"1\" class=\"dataframe\">\n",
       "  <thead>\n",
       "    <tr style=\"text-align: right;\">\n",
       "      <th></th>\n",
       "      <th>Sample</th>\n",
       "      <th>seq_count</th>\n",
       "    </tr>\n",
       "  </thead>\n",
       "  <tbody>\n",
       "    <tr>\n",
       "      <th>0</th>\n",
       "      <td>MR.A.13C-Ami.D6.R1</td>\n",
       "      <td>98852</td>\n",
       "    </tr>\n",
       "    <tr>\n",
       "      <th>1</th>\n",
       "      <td>MR.F.13C-Pal.D14.R1</td>\n",
       "      <td>17892</td>\n",
       "    </tr>\n",
       "    <tr>\n",
       "      <th>2</th>\n",
       "      <td>MR.F.13C-Ami.D14.R1</td>\n",
       "      <td>44065</td>\n",
       "    </tr>\n",
       "    <tr>\n",
       "      <th>3</th>\n",
       "      <td>MR.F.13C-Xyl.D6.R1</td>\n",
       "      <td>14366</td>\n",
       "    </tr>\n",
       "    <tr>\n",
       "      <th>4</th>\n",
       "      <td>MR.A.13C-Cel.D6.R1</td>\n",
       "      <td>57832</td>\n",
       "    </tr>\n",
       "    <tr>\n",
       "      <th>5</th>\n",
       "      <td>MR.F.13C-Xyl.D14.R2</td>\n",
       "      <td>37035</td>\n",
       "    </tr>\n",
       "    <tr>\n",
       "      <th>6</th>\n",
       "      <td>MR.F.12C-Con.D6.R2</td>\n",
       "      <td>108518</td>\n",
       "    </tr>\n",
       "    <tr>\n",
       "      <th>7</th>\n",
       "      <td>MR.F.13C-Pal.D30.R3</td>\n",
       "      <td>15042</td>\n",
       "    </tr>\n",
       "    <tr>\n",
       "      <th>8</th>\n",
       "      <td>MR.M.H2O-Con.D30.R2</td>\n",
       "      <td>33272</td>\n",
       "    </tr>\n",
       "    <tr>\n",
       "      <th>9</th>\n",
       "      <td>MR.M.13C-Pal.D6.R2</td>\n",
       "      <td>28496</td>\n",
       "    </tr>\n",
       "    <tr>\n",
       "      <th>10</th>\n",
       "      <td>MR.M.12C-Con.D1.R1</td>\n",
       "      <td>58992</td>\n",
       "    </tr>\n",
       "    <tr>\n",
       "      <th>11</th>\n",
       "      <td>MR.M.13C-Ami.D3.R2</td>\n",
       "      <td>96166</td>\n",
       "    </tr>\n",
       "    <tr>\n",
       "      <th>12</th>\n",
       "      <td>MR.M.13C-Cel.D14.R2</td>\n",
       "      <td>12164</td>\n",
       "    </tr>\n",
       "    <tr>\n",
       "      <th>13</th>\n",
       "      <td>MR.M.13C-Xyl.D3.R1_Frac18</td>\n",
       "      <td>83020</td>\n",
       "    </tr>\n",
       "    <tr>\n",
       "      <th>14</th>\n",
       "      <td>MR.M.12C-Con.D30.R3</td>\n",
       "      <td>88900</td>\n",
       "    </tr>\n",
       "    <tr>\n",
       "      <th>15</th>\n",
       "      <td>MR.M.12C-Con.D6.R1</td>\n",
       "      <td>101993</td>\n",
       "    </tr>\n",
       "    <tr>\n",
       "      <th>16</th>\n",
       "      <td>MR.M.13C-Cel.D6.R2</td>\n",
       "      <td>12047</td>\n",
       "    </tr>\n",
       "    <tr>\n",
       "      <th>17</th>\n",
       "      <td>MR.A.12C-Con.D3.R2</td>\n",
       "      <td>28918</td>\n",
       "    </tr>\n",
       "    <tr>\n",
       "      <th>18</th>\n",
       "      <td>MR.F.12C-Con.D0.R2</td>\n",
       "      <td>30785</td>\n",
       "    </tr>\n",
       "    <tr>\n",
       "      <th>19</th>\n",
       "      <td>MR.M.12C-Con.D30.R1</td>\n",
       "      <td>31966</td>\n",
       "    </tr>\n",
       "    <tr>\n",
       "      <th>20</th>\n",
       "      <td>MR.M.12C-Con.D14.R2</td>\n",
       "      <td>28042</td>\n",
       "    </tr>\n",
       "    <tr>\n",
       "      <th>21</th>\n",
       "      <td>MR.M.13C-Pal.D30.R1</td>\n",
       "      <td>19722</td>\n",
       "    </tr>\n",
       "    <tr>\n",
       "      <th>22</th>\n",
       "      <td>MR.M.12C-Con.D30.R2</td>\n",
       "      <td>9832</td>\n",
       "    </tr>\n",
       "    <tr>\n",
       "      <th>23</th>\n",
       "      <td>MR.M.12C-Con.D3.R2</td>\n",
       "      <td>80558</td>\n",
       "    </tr>\n",
       "    <tr>\n",
       "      <th>24</th>\n",
       "      <td>MR.M.13C-Pal.D14.R2</td>\n",
       "      <td>28769</td>\n",
       "    </tr>\n",
       "    <tr>\n",
       "      <th>25</th>\n",
       "      <td>MR.M.13C-Cel.D14.R1</td>\n",
       "      <td>57309</td>\n",
       "    </tr>\n",
       "    <tr>\n",
       "      <th>26</th>\n",
       "      <td>MR.M.13C-Xyl.D6.R1</td>\n",
       "      <td>25998</td>\n",
       "    </tr>\n",
       "    <tr>\n",
       "      <th>27</th>\n",
       "      <td>MR.M.13C-Van.D30.R2</td>\n",
       "      <td>15794</td>\n",
       "    </tr>\n",
       "    <tr>\n",
       "      <th>28</th>\n",
       "      <td>MR.M.13C-Van.D30.R1</td>\n",
       "      <td>84251</td>\n",
       "    </tr>\n",
       "    <tr>\n",
       "      <th>29</th>\n",
       "      <td>MR.M.13C-Xyl.D1.R1</td>\n",
       "      <td>17274</td>\n",
       "    </tr>\n",
       "    <tr>\n",
       "      <th>...</th>\n",
       "      <td>...</td>\n",
       "      <td>...</td>\n",
       "    </tr>\n",
       "    <tr>\n",
       "      <th>141</th>\n",
       "      <td>MR.F.12C-Con.D3.R1</td>\n",
       "      <td>24576</td>\n",
       "    </tr>\n",
       "    <tr>\n",
       "      <th>142</th>\n",
       "      <td>MR.F.H2O-Con.D30.R1</td>\n",
       "      <td>9554</td>\n",
       "    </tr>\n",
       "    <tr>\n",
       "      <th>143</th>\n",
       "      <td>MR.F.13C-Pal.D30.R1</td>\n",
       "      <td>27063</td>\n",
       "    </tr>\n",
       "    <tr>\n",
       "      <th>144</th>\n",
       "      <td>MR.F.13C-Cel.D30.R3</td>\n",
       "      <td>21873</td>\n",
       "    </tr>\n",
       "    <tr>\n",
       "      <th>145</th>\n",
       "      <td>MR.F.13C-Xyl.D14.R3</td>\n",
       "      <td>22560</td>\n",
       "    </tr>\n",
       "    <tr>\n",
       "      <th>146</th>\n",
       "      <td>MR.F.12C-Con.D1.R1</td>\n",
       "      <td>29452</td>\n",
       "    </tr>\n",
       "    <tr>\n",
       "      <th>147</th>\n",
       "      <td>MR.F.13C-Xyl.D14.R1</td>\n",
       "      <td>19175</td>\n",
       "    </tr>\n",
       "    <tr>\n",
       "      <th>148</th>\n",
       "      <td>MR.F.13C-Xyl.D3.R1</td>\n",
       "      <td>9299</td>\n",
       "    </tr>\n",
       "    <tr>\n",
       "      <th>149</th>\n",
       "      <td>MR.F.13C-Pal.D14.R2</td>\n",
       "      <td>14785</td>\n",
       "    </tr>\n",
       "    <tr>\n",
       "      <th>150</th>\n",
       "      <td>MR.F.13C-Ami.D14.R3</td>\n",
       "      <td>16973</td>\n",
       "    </tr>\n",
       "    <tr>\n",
       "      <th>151</th>\n",
       "      <td>MR.F.13C-Ami.D1.R1</td>\n",
       "      <td>10338</td>\n",
       "    </tr>\n",
       "    <tr>\n",
       "      <th>152</th>\n",
       "      <td>MR.F.13C-Ami.D6.R1</td>\n",
       "      <td>12362</td>\n",
       "    </tr>\n",
       "    <tr>\n",
       "      <th>153</th>\n",
       "      <td>MR.F.12C-Con.D1.R2</td>\n",
       "      <td>19030</td>\n",
       "    </tr>\n",
       "    <tr>\n",
       "      <th>154</th>\n",
       "      <td>MR.F.13C-Van.D6.R2</td>\n",
       "      <td>14100</td>\n",
       "    </tr>\n",
       "    <tr>\n",
       "      <th>155</th>\n",
       "      <td>MR.F.13C-Cel.D30.R2</td>\n",
       "      <td>18758</td>\n",
       "    </tr>\n",
       "    <tr>\n",
       "      <th>156</th>\n",
       "      <td>MR.F.13C-Cel.D14.R2</td>\n",
       "      <td>11997</td>\n",
       "    </tr>\n",
       "    <tr>\n",
       "      <th>157</th>\n",
       "      <td>MR.F.13C-Pal.D30.R2</td>\n",
       "      <td>13180</td>\n",
       "    </tr>\n",
       "    <tr>\n",
       "      <th>158</th>\n",
       "      <td>MR.F.H2O-Con.D30.R2</td>\n",
       "      <td>34837</td>\n",
       "    </tr>\n",
       "    <tr>\n",
       "      <th>159</th>\n",
       "      <td>MR.F.13C-Xyl.D1.R2</td>\n",
       "      <td>27304</td>\n",
       "    </tr>\n",
       "    <tr>\n",
       "      <th>160</th>\n",
       "      <td>MR.F.13C-Van.D30.R1</td>\n",
       "      <td>14885</td>\n",
       "    </tr>\n",
       "    <tr>\n",
       "      <th>161</th>\n",
       "      <td>MR.F.12C-Con.D30.R2</td>\n",
       "      <td>19987</td>\n",
       "    </tr>\n",
       "    <tr>\n",
       "      <th>162</th>\n",
       "      <td>MR.F.12C-Con.D0.R1</td>\n",
       "      <td>16093</td>\n",
       "    </tr>\n",
       "    <tr>\n",
       "      <th>163</th>\n",
       "      <td>MR.M.12C-Con.D0.R2</td>\n",
       "      <td>18973</td>\n",
       "    </tr>\n",
       "    <tr>\n",
       "      <th>164</th>\n",
       "      <td>MR.F.13C-Ami.D3.R1</td>\n",
       "      <td>5597</td>\n",
       "    </tr>\n",
       "    <tr>\n",
       "      <th>165</th>\n",
       "      <td>MR.F.13C-Xyl.D6.R2</td>\n",
       "      <td>12266</td>\n",
       "    </tr>\n",
       "    <tr>\n",
       "      <th>166</th>\n",
       "      <td>MR.F.13C-Pal.D6.R1</td>\n",
       "      <td>9054</td>\n",
       "    </tr>\n",
       "    <tr>\n",
       "      <th>167</th>\n",
       "      <td>MR.F.12C-Con.D14.R1</td>\n",
       "      <td>17184</td>\n",
       "    </tr>\n",
       "    <tr>\n",
       "      <th>168</th>\n",
       "      <td>MR.F.13C-Ami.D3.R2_Frac27</td>\n",
       "      <td>16601</td>\n",
       "    </tr>\n",
       "    <tr>\n",
       "      <th>169</th>\n",
       "      <td>Unfrac_NC</td>\n",
       "      <td>456</td>\n",
       "    </tr>\n",
       "    <tr>\n",
       "      <th>170</th>\n",
       "      <td>Unfrac_MC</td>\n",
       "      <td>40928</td>\n",
       "    </tr>\n",
       "  </tbody>\n",
       "</table>\n",
       "<p>171 rows × 2 columns</p>\n",
       "</div>"
      ],
      "text/plain": [
       "                        Sample  seq_count\n",
       "0           MR.A.13C-Ami.D6.R1      98852\n",
       "1          MR.F.13C-Pal.D14.R1      17892\n",
       "2          MR.F.13C-Ami.D14.R1      44065\n",
       "3           MR.F.13C-Xyl.D6.R1      14366\n",
       "4           MR.A.13C-Cel.D6.R1      57832\n",
       "5          MR.F.13C-Xyl.D14.R2      37035\n",
       "6           MR.F.12C-Con.D6.R2     108518\n",
       "7          MR.F.13C-Pal.D30.R3      15042\n",
       "8          MR.M.H2O-Con.D30.R2      33272\n",
       "9           MR.M.13C-Pal.D6.R2      28496\n",
       "10          MR.M.12C-Con.D1.R1      58992\n",
       "11          MR.M.13C-Ami.D3.R2      96166\n",
       "12         MR.M.13C-Cel.D14.R2      12164\n",
       "13   MR.M.13C-Xyl.D3.R1_Frac18      83020\n",
       "14         MR.M.12C-Con.D30.R3      88900\n",
       "15          MR.M.12C-Con.D6.R1     101993\n",
       "16          MR.M.13C-Cel.D6.R2      12047\n",
       "17          MR.A.12C-Con.D3.R2      28918\n",
       "18          MR.F.12C-Con.D0.R2      30785\n",
       "19         MR.M.12C-Con.D30.R1      31966\n",
       "20         MR.M.12C-Con.D14.R2      28042\n",
       "21         MR.M.13C-Pal.D30.R1      19722\n",
       "22         MR.M.12C-Con.D30.R2       9832\n",
       "23          MR.M.12C-Con.D3.R2      80558\n",
       "24         MR.M.13C-Pal.D14.R2      28769\n",
       "25         MR.M.13C-Cel.D14.R1      57309\n",
       "26          MR.M.13C-Xyl.D6.R1      25998\n",
       "27         MR.M.13C-Van.D30.R2      15794\n",
       "28         MR.M.13C-Van.D30.R1      84251\n",
       "29          MR.M.13C-Xyl.D1.R1      17274\n",
       "..                         ...        ...\n",
       "141         MR.F.12C-Con.D3.R1      24576\n",
       "142        MR.F.H2O-Con.D30.R1       9554\n",
       "143        MR.F.13C-Pal.D30.R1      27063\n",
       "144        MR.F.13C-Cel.D30.R3      21873\n",
       "145        MR.F.13C-Xyl.D14.R3      22560\n",
       "146         MR.F.12C-Con.D1.R1      29452\n",
       "147        MR.F.13C-Xyl.D14.R1      19175\n",
       "148         MR.F.13C-Xyl.D3.R1       9299\n",
       "149        MR.F.13C-Pal.D14.R2      14785\n",
       "150        MR.F.13C-Ami.D14.R3      16973\n",
       "151         MR.F.13C-Ami.D1.R1      10338\n",
       "152         MR.F.13C-Ami.D6.R1      12362\n",
       "153         MR.F.12C-Con.D1.R2      19030\n",
       "154         MR.F.13C-Van.D6.R2      14100\n",
       "155        MR.F.13C-Cel.D30.R2      18758\n",
       "156        MR.F.13C-Cel.D14.R2      11997\n",
       "157        MR.F.13C-Pal.D30.R2      13180\n",
       "158        MR.F.H2O-Con.D30.R2      34837\n",
       "159         MR.F.13C-Xyl.D1.R2      27304\n",
       "160        MR.F.13C-Van.D30.R1      14885\n",
       "161        MR.F.12C-Con.D30.R2      19987\n",
       "162         MR.F.12C-Con.D0.R1      16093\n",
       "163         MR.M.12C-Con.D0.R2      18973\n",
       "164         MR.F.13C-Ami.D3.R1       5597\n",
       "165         MR.F.13C-Xyl.D6.R2      12266\n",
       "166         MR.F.13C-Pal.D6.R1       9054\n",
       "167        MR.F.12C-Con.D14.R1      17184\n",
       "168  MR.F.13C-Ami.D3.R2_Frac27      16601\n",
       "169                  Unfrac_NC        456\n",
       "170                  Unfrac_MC      40928\n",
       "\n",
       "[171 rows x 2 columns]"
      ]
     },
     "execution_count": 33,
     "metadata": {},
     "output_type": "execute_result"
    }
   ],
   "source": [
    "# converting to dataframe\n",
    "df_seq_cnt = pd.DataFrame.from_dict(samp_count, orient='index')\n",
    "df_seq_cnt.index.name = 'Sample'\n",
    "df_seq_cnt.reset_index(inplace=True)\n",
    "df_seq_cnt.columns = ['Sample', 'seq_count']\n",
    "df_seq_cnt"
   ]
  },
  {
   "cell_type": "code",
   "execution_count": 34,
   "metadata": {
    "collapsed": false
   },
   "outputs": [
    {
     "data": {
      "image/png": "[encoded data removed]"
     },
     "metadata": {},
     "output_type": "display_data"
    }
   ],
   "source": [
    "%%R -i df_seq_cnt -w 800 -h 350\n",
    "# plotting all\n",
    "\n",
    "df_seq_cnt$seq_count = as.numeric(df_seq_cnt$seq_count)\n",
    "\n",
    "\n",
    "df_seq_cnt = df_seq_cnt %>% \n",
    "    #mutate(H2O = grepl('_F0$', Sample)) %>%\n",
    "    mutate(rank = min_rank(seq_count)) %>%\n",
    "    arrange(desc(rank))\n",
    "\n",
    "df_seq_cnt$Sample = factor(df_seq_cnt$Sample, levels=df_seq_cnt$Sample)\n",
    "\n",
    "ggplot(df_seq_cnt, aes(Sample, seq_count)) +\n",
    "    geom_bar(stat='identity') +\n",
    "    theme_bw() +\n",
    "    theme(\n",
    "        text = element_text(size=16),\n",
    "        axis.text.x = element_text(angle=45, hjust=1)\n",
    "    )"
   ]
  },
  {
   "cell_type": "code",
   "execution_count": 36,
   "metadata": {
    "collapsed": false
   },
   "outputs": [
    {
     "data": {
      "text/plain": [
       "                  Sample seq_count rank\n",
       "161  MR.M.12C-Con.D30.R2      9832   11\n",
       "162  MR.F.H2O-Con.D30.R1      9554   10\n",
       "163  MR.M.13C-Xyl.D14.R3      9410    9\n",
       "164   MR.F.13C-Xyl.D3.R1      9299    8\n",
       "165   MR.F.13C-Pal.D6.R1      9054    7\n",
       "166  MR.M.13C-Xyl.D14.R1      8659    6\n",
       "167  MR.A.13C-Cel.D30.R2      8627    5\n",
       "168  MR.M.13C-Ami.D14.R2      6733    4\n",
       "169   MR.F.13C-Ami.D3.R1      5597    3\n",
       "170 Unfrac_water_control      1759    2\n",
       "171            Unfrac_NC       456    1\n"
      ]
     },
     "metadata": {},
     "output_type": "display_data"
    }
   ],
   "source": [
    "%%R\n",
    "df_seq_cnt[df_seq_cnt$seq_count < 10000,]"
   ]
  },
  {
   "cell_type": "code",
   "execution_count": null,
   "metadata": {
    "collapsed": true
   },
   "outputs": [],
   "source": []
  }
 ],
 "metadata": {
  "anaconda-cloud": {},
  "hide_input": true,
  "kernelspec": {
   "display_name": "Python 3",
   "language": "python",
   "name": "python3"
  },
  "language_info": {
   "codemirror_mode": {
    "name": "ipython",
    "version": 3
   },
   "file_extension": ".py",
   "mimetype": "text/x-python",
   "name": "python",
   "nbconvert_exporter": "python",
   "pygments_lexer": "ipython3",
   "version": "3.6.4"
  },
  "notify_time": "5"
 },
 "nbformat": 4,
 "nbformat_minor": 1
}
