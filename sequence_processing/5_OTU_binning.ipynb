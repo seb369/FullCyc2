{
 "cells": [
  {
   "cell_type": "markdown",
   "metadata": {},
   "source": [
    "# Description\n",
    "\n",
    "This notebook generates OTUs at 97% and assigns taxonomy. Note that OTUs are generated from the whole dataset.\n",
    "\n",
    "* Creating OTUs with usearch \n",
    "* Taxonomy assignment with QIIME using SILVA database version 132.\n",
    "* Filtering out Chloroplasts and Mitochondria with Mothur."
   ]
  },
  {
   "cell_type": "markdown",
   "metadata": {},
   "source": [
    "# Setting variables"
   ]
  },
  {
   "cell_type": "code",
   "execution_count": 1,
   "metadata": {
    "collapsed": true
   },
   "outputs": [],
   "source": [
    "import os\n",
    "\n",
    "workDir = '/home/seq_data/fullCyc2/amplicon/515F-806R/final_dataset/OTU_binning'\n",
    "qcDirs = ['/home/seq_data/fullCyc2/amplicon/515F-806R/final_dataset/library_QC/160506_FC2Grad_1',\n",
    "          '/home/seq_data/fullCyc2/amplicon/515F-806R/final_dataset/library_QC/160713_FC2Unfrac',\n",
    "          '/home/seq_data/fullCyc2/amplicon/515F-806R/final_dataset/library_QC/AS_Pool1_redo',\n",
    "          '/home/seq_data/fullCyc2/amplicon/515F-806R/final_dataset/library_QC/Chantal_Pool9',\n",
    "          '/home/seq_data/fullCyc2/amplicon/515F-806R/final_dataset/library_QC/final_Enr_soilHealthLib',\n",
    "          '/home/seq_data/fullCyc2/amplicon/515F-806R/final_dataset/library_QC/fullCyc2_lib14',\n",
    "          '/home/seq_data/fullCyc2/amplicon/515F-806R/final_dataset/library_QC/fullCyc2_lib15',\n",
    "          '/home/seq_data/fullCyc2/amplicon/515F-806R/final_dataset/library_QC/fullCyc2_lib16',\n",
    "          '/home/seq_data/fullCyc2/amplicon/515F-806R/final_dataset/library_QC/fullCyc2_lib2',\n",
    "          '/home/seq_data/fullCyc2/amplicon/515F-806R/final_dataset/library_QC/fullCyc2_lib3',\n",
    "          '/home/seq_data/fullCyc2/amplicon/515F-806R/final_dataset/library_QC/fullCyc2_lib4',\n",
    "          '/home/seq_data/fullCyc2/amplicon/515F-806R/final_dataset/library_QC/fullCyc2_lib5',\n",
    "          '/home/seq_data/fullCyc2/amplicon/515F-806R/final_dataset/library_QC/fullCyc2_lib6',\n",
    "          '/home/seq_data/fullCyc2/amplicon/515F-806R/final_dataset/library_QC/fullCyc2_lib7',\n",
    "          '/home/seq_data/fullCyc2/amplicon/515F-806R/final_dataset/library_QC/fullCyc2_lib8',\n",
    "          '/home/seq_data/fullCyc2/amplicon/515F-806R/final_dataset/library_QC/fullCyc2_lib9',\n",
    "          '/home/seq_data/fullCyc2/amplicon/515F-806R/final_dataset/library_QC/Spencer_unfrac_redo']\n",
    "          \n",
    "dbDir = '/home/sam/databases/SILVA_132_QIIME_release'\n",
    "dbSeqs = os.path.join(dbDir, 'rep_set/rep_set_16S_only/97/silva_132_97_16S.fna')\n",
    "dbTax = os.path.join(dbDir, 'taxonomy/16S_only/97/consensus_taxonomy_7_levels.txt')\n",
    "\n",
    "nprocs = 20"
   ]
  },
  {
   "cell_type": "markdown",
   "metadata": {},
   "source": [
    "# Init"
   ]
  },
  {
   "cell_type": "code",
   "execution_count": 2,
   "metadata": {},
   "outputs": [],
   "source": [
    "import os\n",
    "import sys\n",
    "import glob\n",
    "import pandas as pd\n",
    "#from cogent.parse.fasta import MinimalFastaParser as parse\n",
    "from Bio import SeqIO\n",
    "%load_ext rpy2.ipython\n"
   ]
  },
  {
   "cell_type": "code",
   "execution_count": 3,
   "metadata": {},
   "outputs": [
    {
     "name": "stderr",
     "output_type": "stream",
     "text": [
      "/home/sam/anaconda3/lib/python3.6/site-packages/rpy2/rinterface/__init__.py:145: RRuntimeWarning: \n",
      "Attaching package: ‘dplyr’\n",
      "\n",
      "\n",
      "  warnings.warn(x, RRuntimeWarning)\n",
      "/home/sam/anaconda3/lib/python3.6/site-packages/rpy2/rinterface/__init__.py:145: RRuntimeWarning: The following objects are masked from ‘package:stats’:\n",
      "\n",
      "    filter, lag\n",
      "\n",
      "\n",
      "  warnings.warn(x, RRuntimeWarning)\n",
      "/home/sam/anaconda3/lib/python3.6/site-packages/rpy2/rinterface/__init__.py:145: RRuntimeWarning: The following objects are masked from ‘package:base’:\n",
      "\n",
      "    intersect, setdiff, setequal, union\n",
      "\n",
      "\n",
      "  warnings.warn(x, RRuntimeWarning)\n",
      "/home/sam/anaconda3/lib/python3.6/site-packages/rpy2/rinterface/__init__.py:145: RRuntimeWarning: \n",
      "Attaching package: ‘gridExtra’\n",
      "\n",
      "\n",
      "  warnings.warn(x, RRuntimeWarning)\n",
      "/home/sam/anaconda3/lib/python3.6/site-packages/rpy2/rinterface/__init__.py:145: RRuntimeWarning: The following object is masked from ‘package:dplyr’:\n",
      "\n",
      "    combine\n",
      "\n",
      "\n",
      "  warnings.warn(x, RRuntimeWarning)\n"
     ]
    }
   ],
   "source": [
    "%%R\n",
    "library(ggplot2)\n",
    "library(dplyr)\n",
    "library(tidyr)\n",
    "library(gridExtra)"
   ]
  },
  {
   "cell_type": "code",
   "execution_count": 4,
   "metadata": {},
   "outputs": [
    {
     "name": "stdout",
     "output_type": "stream",
     "text": [
      "/home/seq_data/fullCyc2/amplicon/515F-806R/final_dataset/OTU_binning\n"
     ]
    }
   ],
   "source": [
    "if not os.path.isdir(workDir):\n",
    "    os.makedirs(workDir)\n",
    "%cd $workDir"
   ]
  },
  {
   "cell_type": "markdown",
   "metadata": {},
   "source": [
    "### Combinding final QC files from each library"
   ]
  },
  {
   "cell_type": "code",
   "execution_count": 15,
   "metadata": {},
   "outputs": [
    {
     "name": "stdout",
     "output_type": "stream",
     "text": [
      "Found file: /home/seq_data/fullCyc2/amplicon/515F-806R/final_dataset/library_QC/160506_FC2Grad_1/QC/finalQC.fasta\n",
      "  File size: 466.076111 Mb\n",
      "  Number of sequences: 1610005\n",
      "Found file: /home/seq_data/fullCyc2/amplicon/515F-806R/final_dataset/library_QC/160713_FC2Unfrac/QC/finalQC.fasta\n",
      "  File size: 1315.935248 Mb\n",
      "  Number of sequences: 4658425\n",
      "Found file: /home/seq_data/fullCyc2/amplicon/515F-806R/final_dataset/library_QC/AS_Pool1_redo/QC/finalQC.fasta\n",
      "  File size: 163.918342 Mb\n",
      "  Number of sequences: 569787\n",
      "Found file: /home/seq_data/fullCyc2/amplicon/515F-806R/final_dataset/library_QC/Chantal_Pool9/QC/finalQC.fasta\n",
      "  File size: 248.705146 Mb\n",
      "  Number of sequences: 907755\n",
      "Found file: /home/seq_data/fullCyc2/amplicon/515F-806R/final_dataset/library_QC/final_Enr_soilHealthLib/QC/finalQC.fasta\n",
      "  File size: 127.227247 Mb\n",
      "  Number of sequences: 444962\n",
      "Found file: /home/seq_data/fullCyc2/amplicon/515F-806R/final_dataset/library_QC/fullCyc2_lib14/QC/finalQC.fasta\n",
      "  File size: 4171.885164 Mb\n",
      "  Number of sequences: 14503360\n",
      "Found file: /home/seq_data/fullCyc2/amplicon/515F-806R/final_dataset/library_QC/fullCyc2_lib15/QC/finalQC.fasta\n",
      "  File size: 3551.093849 Mb\n",
      "  Number of sequences: 12364658\n",
      "Found file: /home/seq_data/fullCyc2/amplicon/515F-806R/final_dataset/library_QC/fullCyc2_lib16/QC/finalQC.fasta\n",
      "  File size: 2223.495226 Mb\n",
      "  Number of sequences: 7723553\n",
      "Found file: /home/seq_data/fullCyc2/amplicon/515F-806R/final_dataset/library_QC/fullCyc2_lib2/QC/finalQC.fasta\n",
      "  File size: 1239.034603 Mb\n",
      "  Number of sequences: 4275865\n",
      "Found file: /home/seq_data/fullCyc2/amplicon/515F-806R/final_dataset/library_QC/fullCyc2_lib3/QC/finalQC.fasta\n",
      "  File size: 1450.410578 Mb\n",
      "  Number of sequences: 5017640\n",
      "Found file: /home/seq_data/fullCyc2/amplicon/515F-806R/final_dataset/library_QC/fullCyc2_lib4/QC/finalQC.fasta\n",
      "  File size: 1490.985855 Mb\n",
      "  Number of sequences: 5157545\n",
      "Found file: /home/seq_data/fullCyc2/amplicon/515F-806R/final_dataset/library_QC/fullCyc2_lib5/QC/finalQC.fasta\n",
      "  File size: 765.18187 Mb\n",
      "  Number of sequences: 2647635\n",
      "Found file: /home/seq_data/fullCyc2/amplicon/515F-806R/final_dataset/library_QC/fullCyc2_lib6/QC/finalQC.fasta\n",
      "  File size: 1436.376287 Mb\n",
      "  Number of sequences: 4970404\n",
      "Found file: /home/seq_data/fullCyc2/amplicon/515F-806R/final_dataset/library_QC/fullCyc2_lib7/QC/finalQC.fasta\n",
      "  File size: 817.584235 Mb\n",
      "  Number of sequences: 2835703\n",
      "Found file: /home/seq_data/fullCyc2/amplicon/515F-806R/final_dataset/library_QC/fullCyc2_lib8/QC/finalQC.fasta\n",
      "  File size: 575.043655 Mb\n",
      "  Number of sequences: 1994148\n",
      "Found file: /home/seq_data/fullCyc2/amplicon/515F-806R/final_dataset/library_QC/fullCyc2_lib9/QC/finalQC.fasta\n",
      "  File size: 631.338247 Mb\n",
      "  Number of sequences: 2190491\n",
      "Found file: /home/seq_data/fullCyc2/amplicon/515F-806R/final_dataset/library_QC/Spencer_unfrac_redo/QC/finalQC.fasta\n",
      "  File size: 5.733446 Mb\n",
      "  Number of sequences: 19938\n"
     ]
    }
   ],
   "source": [
    "qcFiles = [os.path.join(x, 'QC', 'finalQC.fasta') for x in qcDirs]\n",
    "# check to make sure files exist\n",
    "for F in qcFiles:\n",
    "    if not os.path.isfile(F):\n",
    "        print ('Cannot find: {}'.format(F))\n",
    "    else:\n",
    "        print ('Found file: {}'.format(F))\n",
    "        file_size = os.path.getsize(F) / 1000000\n",
    "        print ('  File size: {} Mb'.format(file_size))\n",
    "        nseq = !grep -c '>' $F\n",
    "        print ('  Number of sequences: {}'.format(nseq[0]))"
   ]
  },
  {
   "cell_type": "code",
   "execution_count": 18,
   "metadata": {},
   "outputs": [
    {
     "name": "stdout",
     "output_type": "stream",
     "text": [
      "File size: 20680.025109 Mb\n",
      "Number of sequences: 71891874\n"
     ]
    }
   ],
   "source": [
    "# cat command\n",
    "qcFinal = os.path.join(workDir, 'finalQC.fasta')\n",
    "cmd = ' '.join(['cat'] + qcFiles + ['> {}'.format(qcFinal)])\n",
    "!$cmd\n",
    " \n",
    "# file stats\n",
    "file_size = os.path.getsize(qcFinal) / 1000000\n",
    "print ('File size: {} Mb'.format(file_size))\n",
    "nseq = !grep -c '>' $qcFinal\n",
    "print ('Number of sequences: {}'.format(nseq[0]))"
   ]
  },
  {
   "cell_type": "markdown",
   "metadata": {},
   "source": [
    "# Just unique sequences"
   ]
  },
  {
   "cell_type": "code",
   "execution_count": 19,
   "metadata": {},
   "outputs": [
    {
     "name": "stdout",
     "output_type": "stream",
     "text": [
      "71870000\t31208219\r\n",
      "71871000\t31209145\r\n",
      "71872000\t31210026\r\n",
      "71873000\t31210394\r\n",
      "71874000\t31210917\r\n",
      "71875000\t31211460\r\n",
      "71876000\t31212062\r\n",
      "71877000\t31212691\r\n",
      "71878000\t31213346\r\n",
      "71879000\t31214000\r\n",
      "71880000\t31214658\r\n",
      "71881000\t31215309\r\n",
      "71882000\t31215941\r\n",
      "71883000\t31216574\r\n",
      "71884000\t31217265\r\n",
      "71885000\t31217952\r\n",
      "71886000\t31218686\r\n",
      "71887000\t31219445\r\n",
      "71888000\t31220174\r\n",
      "71889000\t31220849\r\n",
      "71890000\t31221589\r\n",
      "71891000\t31222281\r\n",
      "71891874\t31222885\r\n",
      "\r\n",
      "Output File Names: \r\n",
      "/home/seq_data/fullCyc2/amplicon/515F-806R/final_dataset/OTU_binning/finalQC.names\r\n",
      "/home/seq_data/fullCyc2/amplicon/515F-806R/final_dataset/OTU_binning/finalQC.unique.fasta\r\n",
      "\r\n",
      "\r\n",
      "mothur > quit()\r\n"
     ]
    }
   ],
   "source": [
    "cmd =  'mothur \"#unique.seqs(fasta={})\"'.format(qcFinal)\n",
    "!$cmd | tail -n 30"
   ]
  },
  {
   "cell_type": "code",
   "execution_count": 20,
   "metadata": {},
   "outputs": [
    {
     "name": "stdout",
     "output_type": "stream",
     "text": [
      "Number of unique sequences: 31222885\n"
     ]
    }
   ],
   "source": [
    "qcFinalUniq = os.path.splitext(qcFinal)[0] + '.unique.fasta'\n",
    "\n",
    "ret = !grep -c \">\" $qcFinalUniq\n",
    "print ('Number of unique sequences: {}'.format(ret[0]))"
   ]
  },
  {
   "cell_type": "markdown",
   "metadata": {},
   "source": [
    "# Formatting seq names for usearch"
   ]
  },
  {
   "cell_type": "code",
   "execution_count": 21,
   "metadata": {
    "collapsed": true
   },
   "outputs": [],
   "source": [
    "qcFinalName = os.path.splitext(qcFinal)[0] + '.names'\n",
    "\n",
    "counts = {}\n",
    "with open(qcFinalName) as iFH:\n",
    "    for line in iFH:\n",
    "        seedID, seqIDs = line.split(\"\\t\")\n",
    "        count = len(seqIDs.split(\",\"))\n",
    "        counts[seedID] = count "
   ]
  },
  {
   "cell_type": "code",
   "execution_count": 22,
   "metadata": {},
   "outputs": [
    {
     "name": "stderr",
     "output_type": "stream",
     "text": [
      "/home/sam/anaconda3/lib/python3.6/site-packages/Bio/Seq.py:345: BiopythonDeprecationWarning: This method is obsolete; please use str(my_seq) instead of my_seq.tostring().\n",
      "  BiopythonDeprecationWarning)\n"
     ]
    }
   ],
   "source": [
    "qcFinalUs = os.path.splitext(qcFinalUniq)[0] + '.usearch_names.fasta'\n",
    "\n",
    "with open(qcFinalUs, 'w') as oFH:\n",
    "    for entry in SeqIO.parse(open(qcFinalUniq),'fasta'):\n",
    "        n, s = entry.id, entry.seq.tostring()\n",
    "        if counts[n] > 1:\n",
    "            oFH.write(\">%s;size=%s;\\n%s\\n\"%(n,counts[n],s))\n",
    "        else:\n",
    "            continue"
   ]
  },
  {
   "cell_type": "code",
   "execution_count": 23,
   "metadata": {},
   "outputs": [
    {
     "name": "stdout",
     "output_type": "stream",
     "text": [
      ">MR.F.13C-Ami.D3.R2_Frac10_14;size=326928;\r\n",
      "TACGTAGGGTGCAAGCGTTAATCGGAATTACTGGGCGTAAAGCGTGCGCAGGCGGTCCGCTAAGACAGATGTGAAATCCCCGGGCTTAACCTGGGAACTGCATTTGTGACTGGCGGGCTAGAGTATGGCAGAGGGGGGTAGAATTCCACGTGTAGCAGTGAAATGCGTAGAGATGTGGAGGAATACCGATGGCGAAGGCAGCCCCCTGGGCCAATACTGACGCTCATGCACGAAAGCGTGGGGAGCAAACAGG\r\n",
      ">MR.F.13C-Ami.D3.R2_Frac28_21;size=15444;\r\n",
      "TACGGAGGGTGCAAGCGTTATCCGGATTCACTGGGTTTAAAGGGTGCGTAGGCGGGTTGGTAAGTCCGTGGTGAAATCTCCAAGCTTAACTTGGAAACTGCCGTGGATACTATCAATCTTGAATATCGTGGAGGTGAGCGGAATATGTCATGTAGCGGTGAAATGCTTAGATATGACATAGAACACCCATTGCGAAGGCAGCTCGCTACACGGTTATTGACGCTGAGGCACGAAAGCGTGGGGATCAAACAGG\r\n",
      ">MR.F.13C-Ami.D1.R1_Frac15_28;size=2240;\r\n",
      "TACGTAGGGTGCAAGCGTTAATCGGAATTACTGGGCGTAAAGCGTGCGCAGGCGGTTTGCTAAGACAGATGTGAAATCCCCGGGCTTAACCTGGGAACTGCATTTGTGACTGGCGGGCTAGAGTATGGCAGAGGGGGGTAGAATTCCACGTGTAGCAGTGAAATGCGTAGAGATGTGGAGGAATACCGATGGCGAAGGCAGCCCCCTGGGCCAATACTGACGCTCATGCACGAAAGCGTGGGGAGCAAACAGG\r\n"
     ]
    }
   ],
   "source": [
    "#!cd $workDir; \\\n",
    "!head -n 6 $qcFinalUs"
   ]
  },
  {
   "cell_type": "markdown",
   "metadata": {},
   "source": [
    "# Usearch pipeline"
   ]
  },
  {
   "cell_type": "code",
   "execution_count": 24,
   "metadata": {},
   "outputs": [
    {
     "name": "stdout",
     "output_type": "stream",
     "text": [
      "usearch v9.2.64_i86linux32, 4.0Gb RAM (132Gb total), 40 cores\n",
      "(C) Copyright 2013-16 Robert C. Edgar, all rights reserved.\n",
      "http://drive5.com/usearch\n",
      "\n",
      "License: seb369@cornell.edu\n",
      "\n",
      "00:09 1.3Gb   100.0% Reading /home/seq_data/fullCyc2/amplicon/515F-806R/final_dataset/OTU_binning/finalQC.unique.usearch_names.fasta\n",
      "00:09 1.2Gb  Getting sizes                                                                                                          \n",
      "00:10 1.3Gb  Sorting 3853318 sequences\n",
      "00:22 1.3Gb   100.0% Writing output\n"
     ]
    }
   ],
   "source": [
    "qcFinalUsSort = os.path.splitext(qcFinalUs)[0] + '_sorted.fasta'\n",
    "cmd = 'usearch -sortbysize {} -fastaout {} -minsize 2'.format(qcFinalUs, qcFinalUsSort)\n",
    "!$cmd "
   ]
  },
  {
   "cell_type": "code",
   "execution_count": null,
   "metadata": {},
   "outputs": [
    {
     "name": "stdout",
     "output_type": "stream",
     "text": [
      ">MR.A.13C-Ami.D6.R1_678;size=634457;\n",
      "TACGTAGGGTGCGAGCGTTAATCGGAATTACTGGGCGTAAAGCGTGCGCAGGCGGTTTGTTAAGACCGATGTGAAATCCC\n",
      "CGGGCTCAACCTGGGAACTGCATTGGTGACTGGCAAGCTAGAGTATGGCAGAGGGGGGTAGAATTCCACGTGTAGCAGTG\n",
      "AAATGCGTAGAGATGTGGAGGAATACCGATGGCGAAGGCAGCCCCCTGGGCCAATACTGACGCTCATGCACGAAAGCGTG\n",
      "GGGAGCAAACAGG\n",
      ">MR.F.13C-Ami.D3.R2_Frac19_1092930;size=344432;\n",
      "TACGTAGGGTGCAAGCGTTAATCGGAATTACTGGGCGTAAAGCGTGCGCAGGCGGTTTGTTAAGACCGATGTGAAATCCC\n",
      "CGGGCTCAACCTGGGAACTGCATTGGTGACTGGCAAGCTAGAGTATGGCAGAGGGGGGTAGAATTCCACGTGTAGCAGTG\n",
      "AAATGCGTAGAGATGTGGAGGAATACCGATGGCGAAGGCAGCCCCCTGGGCCAATACTGACGCTCATGCACGAAAGCGTG\n",
      "GGGAGCAAACAGG\n",
      "\n",
      ">MF.A.151026.12C-Van.D02_14731676;size=2;\n",
      "TACGTAGGGTGCGAGCGTTAATCGGAATTACTGGGCGTAAAGTGTGCGCAGGTGGCCGCGCAAGTCGAGTGTGAAATCCC\n",
      "CGAGCTTAACTTGGGAATTGCGCTCGAAACTACGTGGATCGAGTGTGGCAGAGGAAGGTGGAATTCCACGTGTAGCGGTG\n",
      "AAATGCGTAGAGATGTGGAGGAACACCGATGGCGAAGGCAGCCTTCTGGGCCAACACTGACGCTCATGCACGAAAGCGTG\n",
      "GGGAGCAAACAGG\n",
      ">BH.F.151026.12C-Ami.D02_14731666;size=2;\n",
      "TACGTAGGGTGCAAGCGTTAATCGGAATTACTGGGCGTAAAGCGTGCGTAGGCGGTTATTTAAGTCTGTTGTGAAATCCC\n",
      "CGGGCTCAACCTGGGAATGGCAATGGATACTGGATAGCTAGAGTGTGATAGAGGATGGTGGAATTCCCGGTGTAGCGGTG\n",
      "AAATGCGTAGATATCTGCAGGAACACCCGTGGCGAAAGCGGCGCGCTGGACCACTACTGACGCTGAGGAACGAAAGCTAG\n",
      "GGGAGCAAACAGG\n"
     ]
    }
   ],
   "source": [
    "!head $qcFinalUsSort\n",
    "!echo \n",
    "!tail $qcFinalUsSort"
   ]
  },
  {
   "cell_type": "code",
   "execution_count": null,
   "metadata": {},
   "outputs": [
    {
     "name": "stdout",
     "output_type": "stream",
     "text": [
      "usearch v9.2.64_i86linux32, 4.0Gb RAM (132Gb total), 40 cores\n",
      "(C) Copyright 2013-16 Robert C. Edgar, all rights reserved.\n",
      "http://drive5.com/usearch\n",
      "\n",
      "License: seb369@cornell.edu\n",
      "\n",
      "04:15:34 1.6Gb    75.3% 30693 OTUs, 400928 chimerasimerasas\r"
     ]
    }
   ],
   "source": [
    "otuFile = 'otus.fasta'\n",
    "cmd = 'usearch -cluster_otus {} -otus {}'.format(qcFinalUsSort, otuFile)\n",
    "!$cmd "
   ]
  },
  {
   "cell_type": "code",
   "execution_count": null,
   "metadata": {
    "collapsed": true
   },
   "outputs": [],
   "source": [
    "otuFileRn = os.path.splitext(otuFile)[0] + 'n.fasta'"
   ]
  },
  {
   "cell_type": "code",
   "execution_count": null,
   "metadata": {
    "collapsed": true
   },
   "outputs": [],
   "source": [
    "%%bash -s \"$otuFile\" \"$otuFileRn\"\n",
    "\n",
    " bioawk -c fastx '{print \">\" \"OTU\" \".\" NR \"\\n\" $seq}' $1 > $2"
   ]
  },
  {
   "cell_type": "code",
   "execution_count": 53,
   "metadata": {},
   "outputs": [
    {
     "name": "stdout",
     "output_type": "stream",
     "text": [
      ">OTU.1\r\n",
      "TACGTAGGGTGCGAGCGTTAATCGGAATTACTGGGCGTAAAGCGTGCGCAGGCGGTTTGTTAAGACCGATGTGAAATCCCCGGGCTCAACCTGGGAACTGCATTGGTGACTGGCAAGCTAGAGTATGGCAGAGGGGGGTAGAATTCCACGTGTAGCAGTGAAATGCGTAGAGATGTGGAGGAATACCGATGGCGAAGGCAGCCCCCTGGGCCAATACTGACGCTCATGCACGAAAGCGTGGGGAGCAAACAGG\r\n",
      ">OTU.2\r\n",
      "TACGTAGGGTGCAAGCGTTAATCGGAATTACTGGGCGTAAAGCGTGCGCAGGCGGTTCGCTAAGACAGATGTGAAATCCCCGGGCTTAACCTGGGAACTGCATTTGTGACTGGCGGGCTAGAGTATGGCAGAGGGGGGTAGAATTCCACGTGTAGCAGTGAAATGCGTAGAGATGTGGAGGAATACCGATGGCGAAGGCAGCCCCCTGGGCCAATACTGACGCTCATGCACGAAAGCGTGGGGAGCAAACAGG\r\n"
     ]
    }
   ],
   "source": [
    "!head -n 4 $otuFileRn"
   ]
  },
  {
   "cell_type": "markdown",
   "metadata": {},
   "source": [
    "STOP"
   ]
  },
  {
   "cell_type": "markdown",
   "metadata": {},
   "source": [
    "### Assigning taxonomy"
   ]
  },
  {
   "cell_type": "code",
   "execution_count": null,
   "metadata": {
    "collapsed": true
   },
   "outputs": [],
   "source": [
    "otuFileTax = os.path.splitext(otuFileRn)[0] + '_tax'\n",
    "!assign_taxonomy.py -r $dbSeqs -t $dbTax -i $otuFileRn -o $otuFileTax"
   ]
  },
  {
   "cell_type": "markdown",
   "metadata": {},
   "source": [
    "### Removing Chloroplast, Eukaryal and mitochodria sequences"
   ]
  },
  {
   "cell_type": "code",
   "execution_count": null,
   "metadata": {
    "collapsed": true
   },
   "outputs": [],
   "source": [
    "otuTax = os.path.join(otuFileTax, 'otusn_tax_assignments.txt')\n",
    "\n",
    "to_rm = 'Chloroplast|Eukaryota|Unassigned|Mitochondria'\n",
    "to_rm_file = 'to_remove_tax.accnos'\n",
    "\n",
    "awk_cmd = '{print \\$1}'\n",
    "cmd = 'egrep \"{}\" {} | awk \"{}\" > {}'.format(to_rm, otuTax, awk_cmd, to_rm_file)\n",
    "!$cmd"
   ]
  },
  {
   "cell_type": "code",
   "execution_count": null,
   "metadata": {},
   "outputs": [],
   "source": [
    "ret = !wc -l $to_rm_file\n",
    "print ('Number of lines: {}'.format(ret[0]))\n",
    "!head $to_rm_file"
   ]
  },
  {
   "cell_type": "code",
   "execution_count": null,
   "metadata": {},
   "outputs": [],
   "source": [
    "cmd = 'mothur \"#remove.seqs(fasta={}, accnos={})\"'.format(otuFileRn, to_rm_file)\n",
    "!$cmd | tail -n 30"
   ]
  },
  {
   "cell_type": "code",
   "execution_count": 56,
   "metadata": {},
   "outputs": [
    {
     "name": "stdout",
     "output_type": "stream",
     "text": [
      "Pre-filter: number of sequences: 35906\n",
      "Post-filter: number of sequences: 30810\n"
     ]
    }
   ],
   "source": [
    "otuFilePick = os.path.splitext(otuFileRn)[0] + '.pick.fasta'\n",
    "\n",
    "ret = !grep -c \">\" $otuFileRn\n",
    "print ('Pre-filter: number of sequences: {}'.format(ret[0]))\n",
    "\n",
    "ret = !grep -c \">\" $otuFilePick\n",
    "print ('Post-filter: number of sequences: {}'.format(ret[0]))"
   ]
  },
  {
   "cell_type": "markdown",
   "metadata": {},
   "source": [
    "# Mapping reads"
   ]
  },
  {
   "cell_type": "code",
   "execution_count": null,
   "metadata": {
    "collapsed": true
   },
   "outputs": [],
   "source": [
    "cmd_perl = 's/^>(.+)(_[^_]+)\\n\\$/>\\$1\\$2\\_\\$.;barcodelabel=\\$1\\n/' \n",
    "\n",
    "seqFile = os.path.splitext(qcFinal)[0] + '_usearchfmt.fasta'\n",
    "\n",
    "cmd = 'perl -pe \"{}\" {} > {}'.format(cmd_perl, qcFinal, seqFile)\n",
    "!$cmd"
   ]
  },
  {
   "cell_type": "code",
   "execution_count": null,
   "metadata": {},
   "outputs": [],
   "source": [
    "!head -n 6 $seqFile"
   ]
  },
  {
   "cell_type": "code",
   "execution_count": 57,
   "metadata": {},
   "outputs": [
    {
     "name": "stdout",
     "output_type": "stream",
     "text": [
      "23G\t/home/seq_data/fullCyc2/amplicon/515F-806R/final_dataset/OTU_binning/finalQC_usearchfmt.fasta\r\n"
     ]
    }
   ],
   "source": [
    "#see how many Gb this file is.\n",
    "!du -h $seqFile"
   ]
  },
  {
   "cell_type": "code",
   "execution_count": null,
   "metadata": {},
   "outputs": [],
   "source": [
    "#spliting file because it is too big\n",
    "!pyfasta split -n 10 $seqFile\n"
   ]
  },
  {
   "cell_type": "code",
   "execution_count": 60,
   "metadata": {},
   "outputs": [
    {
     "data": {
      "text/plain": [
       "['/home/seq_data/fullCyc2/amplicon/515F-806R/final_dataset/OTU_binning/finalQC_usearchfmt.06.fasta',\n",
       " '/home/seq_data/fullCyc2/amplicon/515F-806R/final_dataset/OTU_binning/finalQC_usearchfmt.09.fasta',\n",
       " '/home/seq_data/fullCyc2/amplicon/515F-806R/final_dataset/OTU_binning/finalQC_usearchfmt.08.fasta',\n",
       " '/home/seq_data/fullCyc2/amplicon/515F-806R/final_dataset/OTU_binning/finalQC_usearchfmt.03.fasta',\n",
       " '/home/seq_data/fullCyc2/amplicon/515F-806R/final_dataset/OTU_binning/finalQC_usearchfmt.02.fasta',\n",
       " '/home/seq_data/fullCyc2/amplicon/515F-806R/final_dataset/OTU_binning/finalQC_usearchfmt.01.fasta',\n",
       " '/home/seq_data/fullCyc2/amplicon/515F-806R/final_dataset/OTU_binning/finalQC_usearchfmt.04.fasta',\n",
       " '/home/seq_data/fullCyc2/amplicon/515F-806R/final_dataset/OTU_binning/finalQC_usearchfmt.05.fasta',\n",
       " '/home/seq_data/fullCyc2/amplicon/515F-806R/final_dataset/OTU_binning/finalQC_usearchfmt.00.fasta',\n",
       " '/home/seq_data/fullCyc2/amplicon/515F-806R/final_dataset/OTU_binning/finalQC_usearchfmt.07.fasta']"
      ]
     },
     "execution_count": 60,
     "metadata": {},
     "output_type": "execute_result"
    }
   ],
   "source": [
    "g = os.path.join(workDir, 'finalQC_usearchfmt.*.fasta')\n",
    "fileList = glob.glob(g)\n",
    "fileList "
   ]
  },
  {
   "cell_type": "code",
   "execution_count": 61,
   "metadata": {},
   "outputs": [
    {
     "name": "stdout",
     "output_type": "stream",
     "text": [
      "usearch v9.2.64_i86linux32, 4.0Gb RAM (132Gb total), 40 cores\r\n",
      "(C) Copyright 2013-16 Robert C. Edgar, all rights reserved.\r\n",
      "http://drive5.com/usearch\r\n",
      "\r\n",
      "License: seb369@cornell.edu\r\n",
      "\r\n"
     ]
    },
    {
     "name": "stderr",
     "output_type": "stream",
     "text": [
      "Processing /home/seq_data/fullCyc2/amplicon/515F-806R/final_dataset/OTU_binning/finalQC_usearchfmt.06.fasta\n"
     ]
    },
    {
     "name": "stdout",
     "output_type": "stream",
     "text": [
      "00:00 49Mb    100.0% Reading otusn.pick.fasta\n",
      "00:00 15Mb    100.0% Masking (fastnucleo)    \n",
      "00:00 16Mb    100.0% Word stats          \n",
      "00:00 16Mb    100.0% Alloc rows\n",
      "00:01 45Mb    100.0% Build index\n",
      "01:21 286Mb   100.0% Searching finalQC_usearchfmt.06.fasta, 72.9% matched  80.0% Searching finalQC_usearchfmt.06.fasta, 73.3% matched\n",
      "usearch v9.2.64_i86linux32, 4.0Gb RAM (132Gb total), 40 cores\n",
      "(C) Copyright 2013-16 Robert C. Edgar, all rights reserved.\n",
      "http://drive5.com/usearch\n",
      "\n",
      "License: seb369@cornell.edu\n",
      "\n",
      "00:00 37Mb      0.1% Reading otusn.pick.fasta\r"
     ]
    },
    {
     "name": "stderr",
     "output_type": "stream",
     "text": [
      "Processing /home/seq_data/fullCyc2/amplicon/515F-806R/final_dataset/OTU_binning/finalQC_usearchfmt.09.fasta\n"
     ]
    },
    {
     "name": "stdout",
     "output_type": "stream",
     "text": [
      "00:00 49Mb    100.0% Reading otusn.pick.fasta\n",
      "00:00 15Mb    100.0% Masking (fastnucleo)    \n",
      "00:00 16Mb    100.0% Word stats          \n",
      "00:00 16Mb    100.0% Alloc rows\n",
      "00:00 45Mb    100.0% Build index\n",
      "01:20 285Mb   100.0% Searching finalQC_usearchfmt.09.fasta, 72.9% matched\n"
     ]
    },
    {
     "name": "stderr",
     "output_type": "stream",
     "text": [
      "Processing /home/seq_data/fullCyc2/amplicon/515F-806R/final_dataset/OTU_binning/finalQC_usearchfmt.08.fasta\n"
     ]
    },
    {
     "name": "stdout",
     "output_type": "stream",
     "text": [
      "usearch v9.2.64_i86linux32, 4.0Gb RAM (132Gb total), 40 cores\n",
      "(C) Copyright 2013-16 Robert C. Edgar, all rights reserved.\n",
      "http://drive5.com/usearch\n",
      "\n",
      "License: seb369@cornell.edu\n",
      "\n",
      "00:00 49Mb    100.0% Reading otusn.pick.fasta\n",
      "00:01 15Mb    100.0% Masking (fastnucleo)    \n",
      "00:01 16Mb    100.0% Word stats          \n",
      "00:01 16Mb    100.0% Alloc rows\n",
      "00:01 45Mb    100.0% Build index\n",
      "01:20 286Mb   100.0% Searching finalQC_usearchfmt.08.fasta, 72.9% matched\n",
      "usearch v9.2.64_i86linux32, 4.0Gb RAM (132Gb total), 40 cores\n",
      "(C) Copyright 2013-16 Robert C. Edgar, all rights reserved.\n",
      "http://drive5.com/usearch\n",
      "\n",
      "License: seb369@cornell.edu\n",
      "\n",
      "00:00 37Mb      0.1% Reading otusn.pick.fasta\r"
     ]
    },
    {
     "name": "stderr",
     "output_type": "stream",
     "text": [
      "Processing /home/seq_data/fullCyc2/amplicon/515F-806R/final_dataset/OTU_binning/finalQC_usearchfmt.03.fasta\n"
     ]
    },
    {
     "name": "stdout",
     "output_type": "stream",
     "text": [
      "00:00 49Mb    100.0% Reading otusn.pick.fasta\n",
      "00:00 15Mb    100.0% Masking (fastnucleo)    \n",
      "00:00 16Mb    100.0% Word stats          \n",
      "00:00 16Mb    100.0% Alloc rows\n",
      "00:00 45Mb    100.0% Build index\n",
      "01:19 285Mb   100.0% Searching finalQC_usearchfmt.03.fasta, 72.9% matchedSearching finalQC_usearchfmt.03.fasta, 52.4% matched\n",
      "usearch v9.2.64_i86linux32, 4.0Gb RAM (132Gb total), 40 cores\n",
      "(C) Copyright 2013-16 Robert C. Edgar, all rights reserved.\n",
      "http://drive5.com/usearch\n",
      "\n",
      "License: seb369@cornell.edu\n",
      "\n",
      "00:00 37Mb      0.1% Reading otusn.pick.fasta\r"
     ]
    },
    {
     "name": "stderr",
     "output_type": "stream",
     "text": [
      "Processing /home/seq_data/fullCyc2/amplicon/515F-806R/final_dataset/OTU_binning/finalQC_usearchfmt.02.fasta\n"
     ]
    },
    {
     "name": "stdout",
     "output_type": "stream",
     "text": [
      "00:00 49Mb    100.0% Reading otusn.pick.fasta\n",
      "00:00 15Mb    100.0% Masking (fastnucleo)    \n",
      "00:00 16Mb    100.0% Word stats          \n",
      "00:00 16Mb    100.0% Alloc rows\n",
      "00:01 45Mb    100.0% Build index\n",
      "01:20 286Mb   100.0% Searching finalQC_usearchfmt.02.fasta, 72.9% matcheding finalQC_usearchfmt.02.fasta, 73.3% matched\n"
     ]
    },
    {
     "name": "stderr",
     "output_type": "stream",
     "text": [
      "Processing /home/seq_data/fullCyc2/amplicon/515F-806R/final_dataset/OTU_binning/finalQC_usearchfmt.01.fasta\n"
     ]
    },
    {
     "name": "stdout",
     "output_type": "stream",
     "text": [
      "usearch v9.2.64_i86linux32, 4.0Gb RAM (132Gb total), 40 cores\n",
      "(C) Copyright 2013-16 Robert C. Edgar, all rights reserved.\n",
      "http://drive5.com/usearch\n",
      "\n",
      "License: seb369@cornell.edu\n",
      "\n",
      "00:00 49Mb    100.0% Reading otusn.pick.fasta\n",
      "00:00 15Mb    100.0% Masking (fastnucleo)    \n",
      "00:00 16Mb    100.0% Word stats          \n",
      "00:00 16Mb    100.0% Alloc rows\n",
      "00:01 45Mb    100.0% Build index\n",
      "01:21 286Mb   100.0% Searching finalQC_usearchfmt.01.fasta, 72.9% matched Searching finalQC_usearchfmt.01.fasta, 73.4% matched\n"
     ]
    },
    {
     "name": "stderr",
     "output_type": "stream",
     "text": [
      "Processing /home/seq_data/fullCyc2/amplicon/515F-806R/final_dataset/OTU_binning/finalQC_usearchfmt.04.fasta\n"
     ]
    },
    {
     "name": "stdout",
     "output_type": "stream",
     "text": [
      "usearch v9.2.64_i86linux32, 4.0Gb RAM (132Gb total), 40 cores\n",
      "(C) Copyright 2013-16 Robert C. Edgar, all rights reserved.\n",
      "http://drive5.com/usearch\n",
      "\n",
      "License: seb369@cornell.edu\n",
      "\n",
      "00:00 49Mb    100.0% Reading otusn.pick.fasta\n",
      "00:01 15Mb    100.0% Masking (fastnucleo)    \n",
      "00:01 16Mb    100.0% Word stats          \n",
      "00:01 16Mb    100.0% Alloc rows\n",
      "00:01 45Mb    100.0% Build index\n",
      "01:25 286Mb   100.0% Searching finalQC_usearchfmt.04.fasta, 72.9% matched\n"
     ]
    },
    {
     "name": "stderr",
     "output_type": "stream",
     "text": [
      "Processing /home/seq_data/fullCyc2/amplicon/515F-806R/final_dataset/OTU_binning/finalQC_usearchfmt.05.fasta\n"
     ]
    },
    {
     "name": "stdout",
     "output_type": "stream",
     "text": [
      "usearch v9.2.64_i86linux32, 4.0Gb RAM (132Gb total), 40 cores\n",
      "(C) Copyright 2013-16 Robert C. Edgar, all rights reserved.\n",
      "http://drive5.com/usearch\n",
      "\n",
      "License: seb369@cornell.edu\n",
      "\n",
      "00:00 49Mb    100.0% Reading otusn.pick.fasta\n",
      "00:01 15Mb    100.0% Masking (fastnucleo)    \n",
      "00:01 16Mb    100.0% Word stats          \n",
      "00:01 16Mb    100.0% Alloc rows\n",
      "00:01 45Mb    100.0% Build index\n",
      "01:27 286Mb   100.0% Searching finalQC_usearchfmt.05.fasta, 72.9% matched\n"
     ]
    },
    {
     "name": "stderr",
     "output_type": "stream",
     "text": [
      "Processing /home/seq_data/fullCyc2/amplicon/515F-806R/final_dataset/OTU_binning/finalQC_usearchfmt.00.fasta\n"
     ]
    },
    {
     "name": "stdout",
     "output_type": "stream",
     "text": [
      "usearch v9.2.64_i86linux32, 4.0Gb RAM (132Gb total), 40 cores\n",
      "(C) Copyright 2013-16 Robert C. Edgar, all rights reserved.\n",
      "http://drive5.com/usearch\n",
      "\n",
      "License: seb369@cornell.edu\n",
      "\n",
      "00:00 49Mb    100.0% Reading otusn.pick.fasta\n",
      "00:00 15Mb    100.0% Masking (fastnucleo)    \n",
      "00:01 16Mb    100.0% Word stats          \n",
      "00:01 16Mb    100.0% Alloc rows\n",
      "00:01 45Mb    100.0% Build index\n",
      "01:26 285Mb   100.0% Searching finalQC_usearchfmt.00.fasta, 72.9% matched 56.8% Searching finalQC_usearchfmt.00.fasta, 73.0% matched\n"
     ]
    },
    {
     "name": "stderr",
     "output_type": "stream",
     "text": [
      "Processing /home/seq_data/fullCyc2/amplicon/515F-806R/final_dataset/OTU_binning/finalQC_usearchfmt.07.fasta\n"
     ]
    },
    {
     "name": "stdout",
     "output_type": "stream",
     "text": [
      "usearch v9.2.64_i86linux32, 4.0Gb RAM (132Gb total), 40 cores\n",
      "(C) Copyright 2013-16 Robert C. Edgar, all rights reserved.\n",
      "http://drive5.com/usearch\n",
      "\n",
      "License: seb369@cornell.edu\n",
      "\n",
      "00:00 49Mb    100.0% Reading otusn.pick.fasta\n",
      "00:00 15Mb    100.0% Masking (fastnucleo)    \n",
      "00:00 16Mb    100.0% Word stats          \n",
      "00:00 16Mb    100.0% Alloc rows\n",
      "00:01 45Mb    100.0% Build index\n",
      "01:33 285Mb   100.0% Searching finalQC_usearchfmt.07.fasta, 72.9% matched\n"
     ]
    }
   ],
   "source": [
    "# running usearch on each split file\n",
    "for f in fileList:\n",
    "    sys.stderr.write('Processing {}\\n'.format(f))\n",
    "\n",
    "    ff,_ = os.path.splitext(f)\n",
    "    _,i = os.path.splitext(ff)\n",
    "    uc = 'readmap{}.uc'.format(i.lstrip('.')) \n",
    "\n",
    "    !usearch \\\n",
    "        -usearch_global $f \\\n",
    "        -db $otuFilePick \\\n",
    "        -strand plus -id 0.97 \\\n",
    "        -uc $uc \\\n",
    "        -threads $nprocs"
   ]
  },
  {
   "cell_type": "code",
   "execution_count": 74,
   "metadata": {},
   "outputs": [],
   "source": [
    "ucFile = os.path.join(workDir, 'readmap.uc')\n",
    "g = os.path.join(workDir, 'readmap0*.uc')\n",
    "fileList = glob.glob(g)\n",
    "\n",
    "filestring = ' '.join(fileList)\n",
    "\n",
    "!cat $filestring > $ucFile"
   ]
  },
  {
   "cell_type": "code",
   "execution_count": 75,
   "metadata": {},
   "outputs": [
    {
     "name": "stdout",
     "output_type": "stream",
     "text": [
      "/home/seq_data/fullCyc2/amplicon/515F-806R/final_dataset/OTU_binning/readmap.uc 100.0%   \n"
     ]
    }
   ],
   "source": [
    "otu_table_file = 'otu_table.txt'\n",
    "cmd = 'python2 /opt/edgar_python_scripts/uc2otutab.py {} > {}'.format(ucFile, otu_table_file)\n",
    "!$cmd "
   ]
  },
  {
   "cell_type": "code",
   "execution_count": 76,
   "metadata": {},
   "outputs": [],
   "source": [
    "# make sure no existing biome file\n",
    "otu_biom_file = 'otu_table.biom'\n",
    "if os.path.isfile(otu_biom_file):\n",
    "    os.unlink(otu_biom_file)\n",
    "    \n",
    "cmd = 'biom convert -i {} -o {} --table-type \"OTU table\" --to-json'.format(otu_table_file, otu_biom_file)\n",
    "!$cmd"
   ]
  },
  {
   "cell_type": "code",
   "execution_count": 77,
   "metadata": {},
   "outputs": [],
   "source": [
    "# make sure no existing biome file\n",
    "otu_sum_file = 'otu_table_summary.txt'\n",
    "if os.path.isfile(otu_sum_file):\n",
    "    os.unlink(otu_sum_file)\n",
    "    \n",
    "cmd = 'biom summarize-table -i {} -o {}'.format(otu_biom_file, otu_sum_file)\n",
    "!$cmd"
   ]
  },
  {
   "cell_type": "code",
   "execution_count": 5,
   "metadata": {
    "scrolled": true
   },
   "outputs": [
    {
     "name": "stdout",
     "output_type": "stream",
     "text": [
      "Num samples: 2295\r\n",
      "Num observations: 30808\r\n",
      "Total count: 52388415\r\n",
      "Table density (fraction of non-zero values): 0.059\r\n",
      "\r\n",
      "Counts/sample summary:\r\n",
      " Min: 10.0\r\n",
      " Max: 195083.0\r\n",
      " Median: 14865.000\r\n",
      " Mean: 22827.196\r\n",
      " Std. dev.: 24743.048\r\n",
      " Sample Metadata Categories: None provided\r\n",
      " Observation Metadata Categories: None provided\r\n",
      "\r\n",
      "Counts/sample detail:\r\n",
      "MR.M.13C-Xyl.D3.R1_Frac18_bad: 10.0\r\n",
      "MR.A.13C-Van.D30.R3_Frac16_bad: 11.0\r\n",
      "MR.A.13C-Van.D30.R3_Frac15_bad: 13.0\r\n",
      "MR.A.13C-Van.D30.R3_Frac14_bad: 15.0\r\n",
      "MR.F.13C-Van.D14.R2_Frac9: 21.0\r\n"
     ]
    }
   ],
   "source": [
    "otu_sum_file = 'otu_table_summary.txt'\n",
    "!head -n 20 $otu_sum_file "
   ]
  },
  {
   "cell_type": "markdown",
   "metadata": {},
   "source": [
    "## Adding taxonomy"
   ]
  },
  {
   "cell_type": "code",
   "execution_count": 7,
   "metadata": {
    "collapsed": true
   },
   "outputs": [],
   "source": [
    "# make sure no existing biome file\n",
    "otu_biom_file = 'otu_table.biom'\n",
    "otu_biom_tax_file = 'otu_table_wtax.biom'\n",
    "otuTax = os.path.join(workDir, 'otusn_tax')\n",
    "otuTax = os.path.join(otuTax, 'otusn_tax_assignments.txt')\n",
    "\n",
    "if os.path.isfile(otu_biom_tax_file):\n",
    "    os.unlink(otu_biom_tax_file)\n",
    "    \n",
    "# bio add-metadata\n",
    "cmd = \"\"\"biom add-metadata -i {} -o {} \\\n",
    "    --observation-metadata-fp {} \\\n",
    "    --sc-separated taxonomy \\\n",
    "    --float-fields consensus \\\n",
    "    --int-fields numhits \\\n",
    "    --observation-header OTUID,taxonomy,consensus,numhits\"\"\"\n",
    "cmd = cmd.format(otu_biom_file, otu_biom_tax_file, otuTax)\n",
    "!$cmd"
   ]
  },
  {
   "cell_type": "code",
   "execution_count": 80,
   "metadata": {},
   "outputs": [
    {
     "name": "stdout",
     "output_type": "stream",
     "text": [
      "-rw-rw-r-- 1 sam sam 30M May 18 10:00 otu_table_wtax.biom\r\n"
     ]
    }
   ],
   "source": [
    "!ls -thlc $otu_biom_tax_file"
   ]
  },
  {
   "cell_type": "markdown",
   "metadata": {
    "collapsed": true
   },
   "source": [
    "# Final files"
   ]
  },
  {
   "cell_type": "code",
   "execution_count": 81,
   "metadata": {},
   "outputs": [
    {
     "name": "stdout",
     "output_type": "stream",
     "text": [
      "30808\r\n"
     ]
    }
   ],
   "source": [
    "!tail -n +2 $otu_table_file | wc -l | perl -pe 's/ .+//'"
   ]
  },
  {
   "cell_type": "code",
   "execution_count": 82,
   "metadata": {},
   "outputs": [
    {
     "name": "stdout",
     "output_type": "stream",
     "text": [
      "OTU table: otu_table.txt\n",
      "OTU pick file: otusn.pick.fasta\n",
      "uclust formatted file: /home/seq_data/fullCyc2/amplicon/515F-806R/final_dataset/OTU_binning/finalQC_usearchfmt.fasta\n"
     ]
    }
   ],
   "source": [
    "print ('OTU table: {}'.format(otu_table_file))\n",
    "print ('OTU pick file: {}'.format(otuFilePick))\n",
    "print ('uclust formatted file: {}'.format(seqFile))"
   ]
  },
  {
   "cell_type": "code",
   "execution_count": 83,
   "metadata": {},
   "outputs": [
    {
     "name": "stdout",
     "output_type": "stream",
     "text": [
      "30808\n",
      "30810\n",
      "71891874\n"
     ]
    }
   ],
   "source": [
    "# Number of OTUs\n",
    "!tail -n +2 $otu_table_file | wc -l | perl -pe 's/ .+//'\n",
    "!grep -c \">\" $otuFilePick\n",
    "!grep -c \">\" $seqFile"
   ]
  },
  {
   "cell_type": "code",
   "execution_count": 84,
   "metadata": {},
   "outputs": [
    {
     "name": "stdout",
     "output_type": "stream",
     "text": [
      "Total number of samples: 2295\n"
     ]
    }
   ],
   "source": [
    "# total number of samples\n",
    "sys.stdout.write('Total number of samples: ')\n",
    "!head -n 1 $otu_table_file | perl -pe 's/[^\\t]+\\t//; s/\\t/\\n/g' | wc -l"
   ]
  },
  {
   "cell_type": "code",
   "execution_count": null,
   "metadata": {
    "collapsed": true
   },
   "outputs": [],
   "source": []
  }
 ],
 "metadata": {
  "anaconda-cloud": {},
  "hide_input": true,
  "kernelspec": {
   "display_name": "Python 3",
   "language": "python",
   "name": "python3"
  },
  "language_info": {
   "codemirror_mode": {
    "name": "ipython",
    "version": 3
   },
   "file_extension": ".py",
   "mimetype": "text/x-python",
   "name": "python",
   "nbconvert_exporter": "python",
   "pygments_lexer": "ipython3",
   "version": "3.6.10"
  },
  "notify_time": "5"
 },
 "nbformat": 4,
 "nbformat_minor": 1
}
