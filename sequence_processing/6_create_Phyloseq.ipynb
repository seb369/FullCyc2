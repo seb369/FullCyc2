{
 "cells": [
  {
   "cell_type": "markdown",
   "metadata": {},
   "source": [
    "# Goal\n",
    "\n",
    "* Create a phyloseq R object for downstream analyses"
   ]
  },
  {
   "cell_type": "markdown",
   "metadata": {},
   "source": [
    "# Setting variables"
   ]
  },
  {
   "cell_type": "code",
   "execution_count": 7,
   "metadata": {
    "collapsed": false
   },
   "outputs": [],
   "source": [
    "import os\n",
    "baseDir = '/home/seq_data/fullCyc2/amplicon/515F-806R/final_dataset'\n",
    "OTUDir = '/home/seq_data/fullCyc2/amplicon/515F-806R/final_dataset/OTU_binning'\n",
    "biomFile = os.path.join(OTUDir, 'otu_table.biom')\n",
    "\n",
    "metadataFile = os.path.join(baseDir, 'FullCyc2_master_metadata.txt')\n",
    "\n",
    "taxonomyDir = os.path.join(OTUDir, 'otusn_tax')\n",
    "taxonomyFile = os.path.join(taxonomyDir, 'otusn_tax_assignments.txt')\n",
    "\n",
    "workDir = os.path.join(baseDir, 'phyloseq')\n",
    "outphyseq = 'fullcyc2physeq.RDS'"
   ]
  },
  {
   "cell_type": "markdown",
   "metadata": {},
   "source": [
    "# Init"
   ]
  },
  {
   "cell_type": "code",
   "execution_count": 2,
   "metadata": {
    "collapsed": true
   },
   "outputs": [],
   "source": [
    "import json\n",
    "import pandas as pd\n"
   ]
  },
  {
   "cell_type": "code",
   "execution_count": 3,
   "metadata": {
    "collapsed": false
   },
   "outputs": [],
   "source": [
    "%load_ext rpy2.ipython\n",
    "#%load_ext pushnote"
   ]
  },
  {
   "cell_type": "code",
   "execution_count": 4,
   "metadata": {
    "collapsed": false
   },
   "outputs": [
    {
     "name": "stderr",
     "output_type": "stream",
     "text": [
      "/home/sam/anaconda3/lib/python3.6/site-packages/rpy2/rinterface/__init__.py:145: RRuntimeWarning: \n",
      "Attaching package: ‘dplyr’\n",
      "\n",
      "\n",
      "  warnings.warn(x, RRuntimeWarning)\n",
      "/home/sam/anaconda3/lib/python3.6/site-packages/rpy2/rinterface/__init__.py:145: RRuntimeWarning: The following objects are masked from ‘package:stats’:\n",
      "\n",
      "    filter, lag\n",
      "\n",
      "\n",
      "  warnings.warn(x, RRuntimeWarning)\n",
      "/home/sam/anaconda3/lib/python3.6/site-packages/rpy2/rinterface/__init__.py:145: RRuntimeWarning: The following objects are masked from ‘package:base’:\n",
      "\n",
      "    intersect, setdiff, setequal, union\n",
      "\n",
      "\n",
      "  warnings.warn(x, RRuntimeWarning)\n"
     ]
    }
   ],
   "source": [
    "%%R\n",
    "library(ggplot2)\n",
    "library(dplyr)\n",
    "library(tidyr)\n",
    "library(phyloseq)"
   ]
  },
  {
   "cell_type": "code",
   "execution_count": 5,
   "metadata": {
    "collapsed": false
   },
   "outputs": [
    {
     "name": "stdout",
     "output_type": "stream",
     "text": [
      "/home/seq_data/fullCyc2/amplicon/515F-806R/final_dataset/phyloseq\n"
     ]
    }
   ],
   "source": [
    "if not os.path.isdir(workDir):\n",
    "    print(\"Working directory does not exist. Making it now:\")\n",
    "    os.makedirs(workDir)\n",
    "%cd $workDir"
   ]
  },
  {
   "cell_type": "markdown",
   "metadata": {},
   "source": [
    "# Loading files"
   ]
  },
  {
   "cell_type": "code",
   "execution_count": 8,
   "metadata": {
    "collapsed": false
   },
   "outputs": [
    {
     "data": {
      "text/plain": [
       "phyloseq-class experiment-level object\n",
       "otu_table()   OTU Table:         [ 30808 taxa and 2295 samples ]\n",
       "sample_data() Sample Data:       [ 2295 samples by 38 sample variables ]\n",
       "Sample Data:        [6 samples by 38 sample variables]:\n",
       "                                             X.Sample primer_number   exp_type\n",
       "EL.A.151026                               EL.A.151026           129       bulk\n",
       "CC.M.151027.12C-Van.D02       CC.M.151027.12C-Van.D02           129 Enrichment\n",
       "MF.M.151026.12C-Ami.D02       MF.M.151026.12C-Ami.D02           129 Enrichment\n",
       "MR.M.13C-Xyl.D3.R1_Frac21   MR.M.13C-Xyl.D3.R1_Frac21           129        SIP\n",
       "MR.F.13C-Cel.D30.R3_Frac11 MR.F.13C-Cel.D30.R3_Frac11           129        SIP\n",
       "MR.M.13C-Ami.D6.R1_Frac26   MR.M.13C-Ami.D6.R1_Frac26           129        SIP\n",
       "                           extraction_plate_ID       library_ID\n",
       "EL.A.151026                           14012016    Chantal_Pool9\n",
       "CC.M.151027.12C-Van.D02            Enr2_160509   fullCyc2_lib14\n",
       "MF.M.151026.12C-Ami.D02            Enr5_170113   fullCyc2_lib15\n",
       "MR.M.13C-Xyl.D3.R1_Frac21                      160506_FC2Grad_1\n",
       "MR.F.13C-Cel.D30.R3_Frac11                        fullCyc2_lib2\n",
       "MR.M.13C-Ami.D6.R1_Frac26                         fullCyc2_lib3\n",
       "                                   pool_plate_ID pool_plate_well\n",
       "EL.A.151026                                                     \n",
       "CC.M.151027.12C-Van.D02    fullCyc2_lib14_pool_2              A5\n",
       "MF.M.151026.12C-Ami.D02    fullCyc2_lib15_pool_2              A5\n",
       "MR.M.13C-Xyl.D3.R1_Frac21    Andrew_Pool_Plate_1              G5\n",
       "MR.F.13C-Cel.D30.R3_Frac11  FullCyc2_lib2_Pool_2              A5\n",
       "MR.M.13C-Ami.D6.R1_Frac26    fullCyc2_lib3_Pool2              A5\n",
       "                                           soil_ID substrate day\n",
       "EL.A.151026                            EL.A.151026            NA\n",
       "CC.M.151027.12C-Van.D02    CC.M.151027.12C-Van.D02   12C-Van   2\n",
       "MF.M.151026.12C-Ami.D02    MF.M.151026.12C-Ami.D02   12C-Ami   2\n",
       "MR.M.13C-Xyl.D3.R1_Frac21       MR.M.13C-Xyl.D3.R1   13C-Xyl   3\n",
       "MR.F.13C-Cel.D30.R3_Frac11     MR.F.13C-Cel.D30.R3   13C-Cel  30\n",
       "MR.M.13C-Ami.D6.R1_Frac26       MR.M.13C-Ami.D6.R1   13C-Ami   6\n",
       "                           microcosm_replicate fraction Buoyant_density\n",
       "EL.A.151026                                 NA       NA              NA\n",
       "CC.M.151027.12C-Van.D02                     NA       NA              NA\n",
       "MF.M.151026.12C-Ami.D02                     NA       NA              NA\n",
       "MR.M.13C-Xyl.D3.R1_Frac21                    1       21        1.702362\n",
       "MR.F.13C-Cel.D30.R3_Frac11                   3       11        1.741701\n",
       "MR.M.13C-Ami.D6.R1_Frac26                    1       26        1.681599\n",
       "                           sample_type                    location treatment\n",
       "EL.A.151026                    unknown Edwards_Lake_Cliff_Preserve      EL.A\n",
       "CC.M.151027.12C-Van.D02        unknown                Carter_Creek      CC.M\n",
       "MF.M.151026.12C-Ami.D02        unknown               Musgrave_Farm      MF.M\n",
       "MR.M.13C-Xyl.D3.R1_Frac21      unknown                  Monkey_Run      MR.M\n",
       "MR.F.13C-Cel.D30.R3_Frac11     unknown                  Monkey_Run      MR.F\n",
       "MR.M.13C-Ami.D6.R1_Frac26      unknown                  Monkey_Run      MR.M\n",
       "                             ecosystem sampling_date latitude longitude\n",
       "EL.A.151026                agriculture      10/26/15  42.5173  76.49904\n",
       "CC.M.151027.12C-Van.D02         meadow                     NA        NA\n",
       "MF.M.151026.12C-Ami.D02         meadow                     NA        NA\n",
       "MR.M.13C-Xyl.D3.R1_Frac21       meadow                     NA        NA\n",
       "MR.F.13C-Cel.D30.R3_Frac11      forest                     NA        NA\n",
       "MR.M.13C-Ami.D6.R1_Frac26       meadow                     NA        NA\n",
       "                           moisture in_situ_soil_temp crop soil_class soil_type\n",
       "EL.A.151026                    15.5            12.325  hay    Alfisol   Conesus\n",
       "CC.M.151027.12C-Van.D02          NA                NA                          \n",
       "MF.M.151026.12C-Ami.D02          NA                NA                          \n",
       "MR.M.13C-Xyl.D3.R1_Frac21        NA                NA                          \n",
       "MR.F.13C-Cel.D30.R3_Frac11       NA                NA                          \n",
       "MR.M.13C-Ami.D6.R1_Frac26        NA                NA                          \n",
       "                             pH organic_content_perc gravimetric_moisture__perc\n",
       "EL.A.151026                6.21           0.04934728                       20.6\n",
       "CC.M.151027.12C-Van.D02      NA                   NA                         NA\n",
       "MF.M.151026.12C-Ami.D02      NA                   NA                         NA\n",
       "MR.M.13C-Xyl.D3.R1_Frac21    NA                   NA                         NA\n",
       "MR.F.13C-Cel.D30.R3_Frac11   NA                   NA                         NA\n",
       "MR.M.13C-Ami.D6.R1_Frac26    NA                   NA                         NA\n",
       "                           water_holding_capacity__g.g percent_N percent_C\n",
       "EL.A.151026                                      0.778   0.20905    2.0399\n",
       "CC.M.151027.12C-Van.D02                             NA        NA        NA\n",
       "MF.M.151026.12C-Ami.D02                             NA        NA        NA\n",
       "MR.M.13C-Xyl.D3.R1_Frac21                           NA        NA        NA\n",
       "MR.F.13C-Cel.D30.R3_Frac11                          NA        NA        NA\n",
       "MR.M.13C-Ami.D6.R1_Frac26                           NA        NA        NA\n",
       "                           sand__perc silt__perc clay__perc DNA_conc__ng_ul\n",
       "EL.A.151026                        40       26.7       33.3          19.965\n",
       "CC.M.151027.12C-Van.D02            NA         NA         NA           34.44\n",
       "MF.M.151026.12C-Ami.D02            NA         NA         NA          27.183\n",
       "MR.M.13C-Xyl.D3.R1_Frac21          NA         NA         NA           8.626\n",
       "MR.F.13C-Cel.D30.R3_Frac11         NA         NA         NA          -0.028\n",
       "MR.M.13C-Ami.D6.R1_Frac26          NA         NA         NA           1.372\n",
       "                           notes fwd_barcode rev_barcode\n",
       "EL.A.151026                         CTACTATA    CGTACTCA\n",
       "CC.M.151027.12C-Van.D02             CTACTATA    CGTACTCA\n",
       "MF.M.151026.12C-Ami.D02             CTACTATA    CGTACTCA\n",
       "MR.M.13C-Xyl.D3.R1_Frac21           CTACTATA    CGTACTCA\n",
       "MR.F.13C-Cel.D30.R3_Frac11          CTACTATA    CGTACTCA\n",
       "MR.M.13C-Ami.D6.R1_Frac26           CTACTATA    CGTACTCA\n"
      ]
     },
     "metadata": {},
     "output_type": "display_data"
    }
   ],
   "source": [
    "%%R -i biomFile -i metadataFile\n",
    "\n",
    "## biom file\n",
    "physeq = import_biom(biomFile)\n",
    "\n",
    "## loading sample metadata\n",
    "#read.table(metadataFile)\n",
    "sample.data = import_qiime_sample_data(metadataFile)\n",
    "physeq = merge_phyloseq(physeq,sample.data)\n",
    "physeq.m = physeq %>% sample_data\n",
    "\n",
    "print(physeq)\n",
    "head(sample.data)"
   ]
  },
  {
   "cell_type": "code",
   "execution_count": 9,
   "metadata": {
    "collapsed": false
   },
   "outputs": [
    {
     "data": {
      "text/plain": [
       "phyloseq-class experiment-level object\n",
       "otu_table()   OTU Table:         [ 30808 taxa and 2295 samples ]\n",
       "sample_data() Sample Data:       [ 2295 samples by 38 sample variables ]\n",
       "tax_table()   Taxonomy Table:    [ 30808 taxa by 7 taxonomic ranks ]\n"
      ]
     },
     "metadata": {},
     "output_type": "display_data"
    }
   ],
   "source": [
    "%%R -i taxonomyFile\n",
    "# Add taxonomy\n",
    "tax.df = read.csv(taxonomyFile, sep=\"\\t\", header=F) %>%\n",
    "    select(V1, V2) %>%\n",
    "    rename(OTU = V1) %>%\n",
    "    mutate(V2 = gsub(\"D_.__\", \"\", V2)) %>%\n",
    "    separate(V2, into=c(\"Domain\", \"Phylum\", \"Class\", \"Order\", \"Family\", \"Genus\", \"Species\"), sep=\";\")\n",
    "rownames(tax.df) = tax.df$OTU\n",
    "tax.df$OTU = NULL\n",
    "tax.df = tax_table(as.matrix(tax.df))\n",
    "tax_table(physeq) = tax.df\n",
    "physeq"
   ]
  },
  {
   "cell_type": "code",
   "execution_count": 56,
   "metadata": {
    "collapsed": true
   },
   "outputs": [],
   "source": [
    "%%R -i workDir -i outphyseq\n",
    "outFile = file.path(workDir, outphyseq)\n",
    "saveRDS(physeq, outFile)"
   ]
  },
  {
   "cell_type": "code",
   "execution_count": null,
   "metadata": {
    "collapsed": true
   },
   "outputs": [],
   "source": []
  }
 ],
 "metadata": {
  "anaconda-cloud": {},
  "hide_input": true,
  "kernelspec": {
   "display_name": "Python 2",
   "language": "python",
   "name": "python2"
  },
  "language_info": {
   "codemirror_mode": {
    "name": "ipython",
    "version": 2
   },
   "file_extension": ".py",
   "mimetype": "text/x-python",
   "name": "python",
   "nbconvert_exporter": "python",
   "pygments_lexer": "ipython2",
   "version": "2.7.14"
  }
 },
 "nbformat": 4,
 "nbformat_minor": 1
}
