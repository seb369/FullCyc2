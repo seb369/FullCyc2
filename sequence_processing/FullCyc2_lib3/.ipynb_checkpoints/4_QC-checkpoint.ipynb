{
 "cells": [
  {
   "cell_type": "markdown",
   "metadata": {},
   "source": [
    "# Description\n",
    "\n",
    "* Quality control on MiSeq run data\n",
    "  * post-merging\n",
    "  * post-demultiplexing"
   ]
  },
  {
   "cell_type": "markdown",
   "metadata": {},
   "source": [
    "# Setting variables"
   ]
  },
  {
   "cell_type": "code",
   "execution_count": 1,
   "metadata": {
    "collapsed": true
   },
   "outputs": [],
   "source": [
    "import os\n",
    "\n",
    "baseDir = '/home/seq_data/fullCyc2/amplicon/515F-806R/final_dataset/library_QC/fullCyc2_lib3'\n",
    "workDir = os.path.join(baseDir, 'QC')\n",
    "seqFile = os.path.join(baseDir, 'pear_merged-fullCyc2_lib3.assembled.dmult.fastq')\n",
    "\n",
    "# number of processors\n",
    "nprocs = 10\n",
    "\n",
    "# max expected error\n",
    "maxee = 1"
   ]
  },
  {
   "cell_type": "markdown",
   "metadata": {},
   "source": [
    "# Init"
   ]
  },
  {
   "cell_type": "code",
   "execution_count": 2,
   "metadata": {
    "collapsed": true
   },
   "outputs": [],
   "source": [
    "import re\n",
    "import pandas as pd"
   ]
  },
  {
   "cell_type": "code",
   "execution_count": 3,
   "metadata": {
    "collapsed": false
   },
   "outputs": [],
   "source": [
    "%load_ext rpy2.ipython\n",
    "#%load_ext pushnote"
   ]
  },
  {
   "cell_type": "code",
   "execution_count": 4,
   "metadata": {
    "collapsed": false
   },
   "outputs": [
    {
     "name": "stderr",
     "output_type": "stream",
     "text": [
      "/home/sam/anaconda3/lib/python3.6/site-packages/rpy2/rinterface/__init__.py:145: RRuntimeWarning: \n",
      "Attaching package: ‘dplyr’\n",
      "\n",
      "\n",
      "  warnings.warn(x, RRuntimeWarning)\n",
      "/home/sam/anaconda3/lib/python3.6/site-packages/rpy2/rinterface/__init__.py:145: RRuntimeWarning: The following objects are masked from ‘package:stats’:\n",
      "\n",
      "    filter, lag\n",
      "\n",
      "\n",
      "  warnings.warn(x, RRuntimeWarning)\n",
      "/home/sam/anaconda3/lib/python3.6/site-packages/rpy2/rinterface/__init__.py:145: RRuntimeWarning: The following objects are masked from ‘package:base’:\n",
      "\n",
      "    intersect, setdiff, setequal, union\n",
      "\n",
      "\n",
      "  warnings.warn(x, RRuntimeWarning)\n",
      "/home/sam/anaconda3/lib/python3.6/site-packages/rpy2/rinterface/__init__.py:145: RRuntimeWarning: \n",
      "Attaching package: ‘gridExtra’\n",
      "\n",
      "\n",
      "  warnings.warn(x, RRuntimeWarning)\n",
      "/home/sam/anaconda3/lib/python3.6/site-packages/rpy2/rinterface/__init__.py:145: RRuntimeWarning: The following object is masked from ‘package:dplyr’:\n",
      "\n",
      "    combine\n",
      "\n",
      "\n",
      "  warnings.warn(x, RRuntimeWarning)\n"
     ]
    }
   ],
   "source": [
    "%%R\n",
    "library(ggplot2)\n",
    "library(dplyr)\n",
    "library(tidyr)\n",
    "library(gridExtra)"
   ]
  },
  {
   "cell_type": "code",
   "execution_count": 5,
   "metadata": {
    "collapsed": false
   },
   "outputs": [
    {
     "name": "stdout",
     "output_type": "stream",
     "text": [
      "/home/seq_data/fullCyc2/amplicon/515F-806R/final_dataset/library_QC/fullCyc2_lib3/QC\n"
     ]
    }
   ],
   "source": [
    "if not os.path.isdir(workDir):\n",
    "    os.makedirs(workDir)\n",
    "%cd $workDir"
   ]
  },
  {
   "cell_type": "code",
   "execution_count": 6,
   "metadata": {
    "collapsed": false
   },
   "outputs": [
    {
     "name": "stdout",
     "output_type": "stream",
     "text": [
      "File exists: /home/seq_data/fullCyc2/amplicon/515F-806R/final_dataset/library_QC/fullCyc2_lib3/pear_merged-fullCyc2_lib3.assembled.dmult.fastq\n"
     ]
    }
   ],
   "source": [
    "# symlinking demult seq file into CQ\n",
    "tmp = os.path.join(baseDir, seqFile)\n",
    "if not os.path.isfile(seqFile):\n",
    "    tmp2 = os.path.split(tmp)[1]\n",
    "    os.symlink(tmp, tmp2)\n",
    "else:\n",
    "    print ('File exists: {}'.format(os.path.join(workDir, seqFile)))"
   ]
  },
  {
   "cell_type": "markdown",
   "metadata": {},
   "source": [
    "# Merged read quality filtering"
   ]
  },
  {
   "cell_type": "markdown",
   "metadata": {},
   "source": [
    "## Discard sequences that exceed max expected error theshold"
   ]
  },
  {
   "cell_type": "code",
   "execution_count": 7,
   "metadata": {
    "collapsed": false
   },
   "outputs": [
    {
     "data": {
      "text/plain": [
       "'pear_merged-fullCyc2_lib3.assembled.dmult_maxee1.fasta'"
      ]
     },
     "execution_count": 7,
     "metadata": {},
     "output_type": "execute_result"
    }
   ],
   "source": [
    "qcFile = os.path.split(seqFile)[1]\n",
    "qcFile = os.path.splitext(qcFile)[0] + '_maxee{}.fasta'.format(maxee)\n",
    "qcFile"
   ]
  },
  {
   "cell_type": "code",
   "execution_count": 8,
   "metadata": {
    "collapsed": true
   },
   "outputs": [],
   "source": [
    "%%bash -s \"$seqFile\" \"$nprocs\" \"$maxee\" \"$qcFile\"\n",
    "\n",
    "mkdir /home/sam/tmp/tmpdir1\n",
    "trap \"rm -r /home/sam/tmp/tmpdir1\" 1 2 3 15\n",
    "split -d -l 2000000 $1 /home/sam/tmp/tmpdir1/Block\n",
    "\n",
    "mkdir /home/sam/tmp/tmpdir2\n",
    "trap \"rm -r /home/sam/tmp/tmpdir2\" 1 2 3 15\n",
    "ls /home/sam/tmp/tmpdir1/Block?? | parallel --gnu -j $2 -k \"usearch -fastq_filter {} -fastq_maxee $3 \\\n",
    "-fastaout /home/sam/tmp/tmpdir2/{#}.fasta >/dev/null 2>&1 && cat /home/sam/tmp/tmpdir2/{#}.fasta\" > $4\n",
    "rm -r /home/sam/tmp/tmpdir2 /home/sam/tmp/tmpdir1"
   ]
  },
  {
   "cell_type": "code",
   "execution_count": 9,
   "metadata": {
    "collapsed": false
   },
   "outputs": [
    {
     "name": "stdout",
     "output_type": "stream",
     "text": [
      "Max expected error cutoff: 1\n",
      "Number of sequence pre-filter: 5176899\n",
      "Number of sequences post-filter: 5122226\n",
      "\n",
      ">MR.M.13C-Ami.D6.R1_Frac17_0 orig_name=M01032:435:000000000-ATCM8:1:1101:17785:1816\n",
      "TACGGAGGGGGCTAGCGTTGTTCGGAATTACTGGGCGTAAAGCGCGCGGAGGCGGCGTTGCAAGTTAGAGGGGAAAGCCC\n",
      "GGGGCTTAACTCCGGAACTGCCTTTAAAACTGCATCGCTAGAGTTCGGGAGAGGAGAGTGGAATTCCCGGTGTAGAGGTG\n",
      "AAATTCGGAGATATTGGGAAGAACACCGGGGGCGAAGGCGGCGCACTGGACCGAAACTGACGCTGAGGCGCGAAAGCGAG\n",
      "GGGAGCAAACAGG\n",
      ">MR.A.12C-Con.D30.R3_Frac18_2 orig_name=M01032:435:000000000-ATCM8:1:1101:18010:1845\n",
      "TACGGAGGGGGCTAGCGTTGTTCGGAATTACTGGGCGTAAAGCGCACGTAGGCGGCTTTGTAAGTTAGAGGGGAAAGCCT\n",
      "GGCGCTCAACCCCGGTACTGCCTTTAAGACTGCCTCGCTTGAATCATGGAGAGGCGGGTGGAATTCCGGGTGTAGAGGTG\n"
     ]
    }
   ],
   "source": [
    "%%bash -s \"$seqFile\" \"$nprocs\" \"$maxee\" \"$qcFile\"\n",
    "\n",
    "printf \"Max expected error cutoff: \"\n",
    "echo $3\n",
    "\n",
    "printf \"Number of sequence pre-filter: \"\n",
    "grep -c \"orig_name=\" $1\n",
    "\n",
    "printf \"Number of sequences post-filter: \"\n",
    "grep -c \">\" $4\n",
    "\n",
    "echo '' \n",
    "head -n 8 $4"
   ]
  },
  {
   "cell_type": "markdown",
   "metadata": {},
   "source": [
    "## Remove seqs with 'N' characters"
   ]
  },
  {
   "cell_type": "code",
   "execution_count": 10,
   "metadata": {
    "collapsed": false
   },
   "outputs": [
    {
     "data": {
      "text/plain": [
       "'pear_merged-fullCyc2_lib3.assembled.dmult_maxee1_noN.fasta'"
      ]
     },
     "execution_count": 10,
     "metadata": {},
     "output_type": "execute_result"
    }
   ],
   "source": [
    "qcFile2 = os.path.splitext(qcFile)[0] + '_noN.fasta'\n",
    "qcFile2"
   ]
  },
  {
   "cell_type": "code",
   "execution_count": 11,
   "metadata": {
    "collapsed": false
   },
   "outputs": [
    {
     "name": "stdout",
     "output_type": "stream",
     "text": [
      "Number of sequence pre-filter: 5122226\n",
      "Number of sequences post-filter: 5122226\n"
     ]
    }
   ],
   "source": [
    "%%bash -s \"$qcFile\" \"$qcFile2\"\n",
    "\n",
    "bioawk -c fastx '{if ($seq !~ /N/){print \">\" $name \" \" $4 \"\\n\" $seq}}' $1 > $2\n",
    "\n",
    "printf \"Number of sequence pre-filter: \"\n",
    "grep -c \">\" $1\n",
    "\n",
    "printf \"Number of sequences post-filter: \"\n",
    "grep -c \">\" $2"
   ]
  },
  {
   "cell_type": "markdown",
   "metadata": {},
   "source": [
    "## Alignment-based QC with Mothur"
   ]
  },
  {
   "cell_type": "code",
   "execution_count": 12,
   "metadata": {
    "collapsed": false
   },
   "outputs": [
    {
     "name": "stdout",
     "output_type": "stream",
     "text": [
      "MR.M.13C-Ami.D6.R1_Frac17_0\tMR.M.13C-Ami.D6.R1_Frac17\n",
      "MR.A.12C-Con.D30.R3_Frac18_2\tMR.A.12C-Con.D30.R3_Frac18\n",
      "MR.F.13C-Xyl.D6.R1_Frac28_7\tMR.F.13C-Xyl.D6.R1_Frac28\n",
      "MR.M.13C-Ami.D6.R1_Frac10_8\tMR.M.13C-Ami.D6.R1_Frac10\n",
      "MR.F.13C-Xyl.D6.R1_Frac20_10\tMR.F.13C-Xyl.D6.R1_Frac20\n",
      "MR.A.12C-Con.D30.R3_Frac5_9\tMR.A.12C-Con.D30.R3_Frac5\n",
      "MR.F.13C-Cel.D14.R2_Frac15_12\tMR.F.13C-Cel.D14.R2_Frac15\n",
      "MR.M.12C-Con.D6.R2_Frac18_14\tMR.M.12C-Con.D6.R2_Frac18\n",
      "MR.F.13C-Xyl.D6.R1_Frac18_16\tMR.F.13C-Xyl.D6.R1_Frac18\n",
      "MR.M.13C-Ami.D6.R1_Frac23_19\tMR.M.13C-Ami.D6.R1_Frac23\n"
     ]
    }
   ],
   "source": [
    "%%bash -s \"$qcFile2\"\n",
    "# making mothur group file\n",
    "\n",
    "perl -ne 'if(/^>/){ s/>(.+)(_\\d+) .+/$1$2\\t$1/; print;}' $1 > group_file.txt\n",
    "head group_file.txt"
   ]
  },
  {
   "cell_type": "code",
   "execution_count": 13,
   "metadata": {
    "collapsed": false
   },
   "outputs": [
    {
     "name": "stdout",
     "output_type": "stream",
     "text": [
      "MR.M.13C-Ami.D6.R1_Frac17_0\tMR.M.13C-Ami.D6.R1_Frac17\r\n",
      "MR.A.12C-Con.D30.R3_Frac18_2\tMR.A.12C-Con.D30.R3_Frac18\r\n",
      "MR.F.13C-Xyl.D6.R1_Frac28_7\tMR.F.13C-Xyl.D6.R1_Frac28\r\n",
      "MR.M.13C-Ami.D6.R1_Frac10_8\tMR.M.13C-Ami.D6.R1_Frac10\r\n",
      "MR.F.13C-Xyl.D6.R1_Frac20_10\tMR.F.13C-Xyl.D6.R1_Frac20\r\n",
      "MR.A.12C-Con.D30.R3_Frac5_9\tMR.A.12C-Con.D30.R3_Frac5\r\n",
      "MR.F.13C-Cel.D14.R2_Frac15_12\tMR.F.13C-Cel.D14.R2_Frac15\r\n",
      "MR.M.12C-Con.D6.R2_Frac18_14\tMR.M.12C-Con.D6.R2_Frac18\r\n",
      "MR.F.13C-Xyl.D6.R1_Frac18_16\tMR.F.13C-Xyl.D6.R1_Frac18\r\n",
      "MR.M.13C-Ami.D6.R1_Frac23_19\tMR.M.13C-Ami.D6.R1_Frac23\r\n",
      "MR.F.13C-Xyl.D3.R1_Frac22_21\tMR.F.13C-Xyl.D3.R1_Frac22\r\n",
      "MR.F.13C-Xyl.D6.R1_Frac17_22\tMR.F.13C-Xyl.D6.R1_Frac17\r\n",
      "MR.M.13C-Ami.D6.R1_Frac16_23\tMR.M.13C-Ami.D6.R1_Frac16\r\n",
      "MR.F.13C-Xyl.D3.R1_Frac7_24\tMR.F.13C-Xyl.D3.R1_Frac7\r\n",
      "MR.F.12C-Con.D14.R1_Frac18_25\tMR.F.12C-Con.D14.R1_Frac18\r\n",
      "MR.M.12C-Con.D6.R2_Frac23_30\tMR.M.12C-Con.D6.R2_Frac23\r\n",
      "MR.M.12C-Con.D6.R2_Frac8_27\tMR.M.12C-Con.D6.R2_Frac8\r\n",
      "MR.F.13C-Xyl.D6.R1_Frac9_26\tMR.F.13C-Xyl.D6.R1_Frac9\r\n",
      "MR.M.13C-Ami.D6.R1_Frac21_35\tMR.M.13C-Ami.D6.R1_Frac21\r\n",
      "MR.F.13C-Xyl.D6.R1_Frac11_36\tMR.F.13C-Xyl.D6.R1_Frac11\r\n",
      "MR.F.13C-Xyl.D3.R1_Frac18_34\tMR.F.13C-Xyl.D3.R1_Frac18\r\n",
      "MR.A.12C-Con.D30.R3_Frac9_32\tMR.A.12C-Con.D30.R3_Frac9\r\n",
      "MR.A.12C-Con.D30.R3_Frac18_39\tMR.A.12C-Con.D30.R3_Frac18\r\n",
      "MR.A.12C-Con.D30.R3_Frac12_31\tMR.A.12C-Con.D30.R3_Frac12\r\n",
      "MR.M.12C-Con.D6.R2_Frac20_43\tMR.M.12C-Con.D6.R2_Frac20\r\n",
      "MR.F.13C-Xyl.D3.R1_Frac22_37\tMR.F.13C-Xyl.D3.R1_Frac22\r\n",
      "MR.F.13C-Xyl.D3.R1_Frac17_45\tMR.F.13C-Xyl.D3.R1_Frac17\r\n",
      "MR.A.13C-Cel.D14.R1_Frac11_46\tMR.A.13C-Cel.D14.R1_Frac11\r\n",
      "MR.M.13C-Ami.D6.R1_Frac17_47\tMR.M.13C-Ami.D6.R1_Frac17\r\n",
      "MR.M.13C-Ami.D6.R1_Frac19_48\tMR.M.13C-Ami.D6.R1_Frac19\r\n",
      "MR.A.13C-Cel.D14.R1_Frac26_44\tMR.A.13C-Cel.D14.R1_Frac26\r\n",
      "MR.F.13C-Cel.D14.R2_Frac15_41\tMR.F.13C-Cel.D14.R2_Frac15\r\n",
      "MR.A.13C-Cel.D14.R1_Frac18_51\tMR.A.13C-Cel.D14.R1_Frac18\r\n",
      "MR.A.12C-Con.D30.R3_Frac6_40\tMR.A.12C-Con.D30.R3_Frac6\r\n",
      "MR.M.12C-Con.D6.R2_Frac17_50\tMR.M.12C-Con.D6.R2_Frac17\r\n",
      "MR.A.12C-Con.D30.R3_Frac24_42\tMR.A.12C-Con.D30.R3_Frac24\r\n",
      "MR.F.13C-Xyl.D3.R1_Frac16_56\tMR.F.13C-Xyl.D3.R1_Frac16\r\n",
      "MR.M.12C-Con.D6.R2_Frac7_49\tMR.M.12C-Con.D6.R2_Frac7\r\n",
      "MR.A.13C-Cel.D14.R1_Frac9_59\tMR.A.13C-Cel.D14.R1_Frac9\r\n",
      "MR.F.13C-Cel.D14.R2_Frac16_57\tMR.F.13C-Cel.D14.R2_Frac16\r\n",
      "MR.F.12C-Con.D14.R1_Frac13_58\tMR.F.12C-Con.D14.R1_Frac13\r\n",
      "MR.A.13C-Pal.D30.R3_Frac18_55\tMR.A.13C-Pal.D30.R3_Frac18\r\n",
      "MR.F.13C-Xyl.D6.R1_Frac19_62\tMR.F.13C-Xyl.D6.R1_Frac19\r\n",
      "MR.M.12C-Con.D6.R2_Frac21_61\tMR.M.12C-Con.D6.R2_Frac21\r\n",
      "MR.M.13C-Ami.D6.R1_Frac11_60\tMR.M.13C-Ami.D6.R1_Frac11\r\n",
      "MR.F.13C-Xyl.D6.R1_Frac12_66\tMR.F.13C-Xyl.D6.R1_Frac12\r\n",
      "MR.A.13C-Cel.D14.R1_Frac12_67\tMR.A.13C-Cel.D14.R1_Frac12\r\n",
      "MR.F.13C-Cel.D14.R2_Frac17_64\tMR.F.13C-Cel.D14.R2_Frac17\r\n",
      "MR.A.12C-Con.D30.R3_Frac18_29\tMR.A.12C-Con.D30.R3_Frac18\r\n",
      "MR.A.13C-Cel.D14.R1_Frac25_53\tMR.A.13C-Cel.D14.R1_Frac25\r\n",
      "MR.M.13C-Ami.D6.R1_Frac8_65\tMR.M.13C-Ami.D6.R1_Frac8\r\n",
      "MR.F.13C-Xyl.D6.R1_Frac6_54\tMR.F.13C-Xyl.D6.R1_Frac6\r\n",
      "MR.M.13C-Ami.D6.R1_Frac15_63\tMR.M.13C-Ami.D6.R1_Frac15\r\n",
      "MR.A.12C-Con.D30.R3_Frac20_75\tMR.A.12C-Con.D30.R3_Frac20\r\n",
      "MR.M.12C-Con.D6.R2_Frac17_70\tMR.M.12C-Con.D6.R2_Frac17\r\n",
      "MR.M.12C-Con.D6.R2_Frac9_69\tMR.M.12C-Con.D6.R2_Frac9\r\n",
      "MR.A.13C-Cel.D14.R1_Frac9_78\tMR.A.13C-Cel.D14.R1_Frac9\r\n",
      "MR.A.12C-Con.D30.R3_Frac5_79\tMR.A.12C-Con.D30.R3_Frac5\r\n",
      "MR.M.13C-Ami.D6.R1_Frac15_80\tMR.M.13C-Ami.D6.R1_Frac15\r\n",
      "MR.F.13C-Xyl.D6.R1_Frac23_81\tMR.F.13C-Xyl.D6.R1_Frac23\r\n",
      "MR.A.12C-Con.D30.R3_Frac9_82\tMR.A.12C-Con.D30.R3_Frac9\r\n",
      "MR.F.13C-Cel.D14.R2_Frac17_83\tMR.F.13C-Cel.D14.R2_Frac17\r\n",
      "MR.F.13C-Xyl.D3.R1_Frac13_84\tMR.F.13C-Xyl.D3.R1_Frac13\r\n",
      "MR.M.13C-Ami.D6.R1_Frac14_85\tMR.M.13C-Ami.D6.R1_Frac14\r\n",
      "MR.F.12C-Con.D14.R1_Frac12_74\tMR.F.12C-Con.D14.R1_Frac12\r\n",
      "MR.A.13C-Cel.D14.R1_Frac26_77\tMR.A.13C-Cel.D14.R1_Frac26\r\n",
      "MR.F.13C-Xyl.D6.R1_Frac13_88\tMR.F.13C-Xyl.D6.R1_Frac13\r\n",
      "MR.F.13C-Xyl.D6.R1_Frac21_72\tMR.F.13C-Xyl.D6.R1_Frac21\r\n",
      "MR.F.13C-Xyl.D3.R1_Frac15_90\tMR.F.13C-Xyl.D3.R1_Frac15\r\n",
      "MR.F.12C-Con.D14.R1_Frac18_86\tMR.F.12C-Con.D14.R1_Frac18\r\n",
      "MR.F.13C-Xyl.D3.R1_Frac27_87\tMR.F.13C-Xyl.D3.R1_Frac27\r\n",
      "MR.M.13C-Ami.D6.R1_Frac17_93\tMR.M.13C-Ami.D6.R1_Frac17\r\n",
      "MR.M.13C-Ami.D6.R1_Frac6_94\tMR.M.13C-Ami.D6.R1_Frac6\r\n",
      "MR.M.13C-Ami.D6.R1_Frac21_95\tMR.M.13C-Ami.D6.R1_Frac21\r\n",
      "MR.M.13C-Ami.D6.R1_Frac11_96\tMR.M.13C-Ami.D6.R1_Frac11\r\n",
      "MR.A.12C-Con.D30.R3_Frac18_97\tMR.A.12C-Con.D30.R3_Frac18\r\n",
      "MR.A.13C-Cel.D14.R1_Frac24_98\tMR.A.13C-Cel.D14.R1_Frac24\r\n",
      "MR.M.13C-Ami.D6.R1_Frac25_99\tMR.M.13C-Ami.D6.R1_Frac25\r\n",
      "MR.M.13C-Ami.D6.R1_Frac9_100\tMR.M.13C-Ami.D6.R1_Frac9\r\n",
      "MR.M.12C-Con.D6.R2_Frac18_76\tMR.M.12C-Con.D6.R2_Frac18\r\n",
      "MR.A.13C-Pal.D30.R3_Frac18_101\tMR.A.13C-Pal.D30.R3_Frac18\r\n",
      "MR.F.13C-Xyl.D6.R1_Frac26_92\tMR.F.13C-Xyl.D6.R1_Frac26\r\n",
      "MR.F.13C-Cel.D14.R2_Frac6_89\tMR.F.13C-Cel.D14.R2_Frac6\r\n",
      "MR.M.13C-Ami.D6.R1_Frac18_103\tMR.M.13C-Ami.D6.R1_Frac18\r\n",
      "MR.A.13C-Cel.D14.R1_Frac6_73\tMR.A.13C-Cel.D14.R1_Frac6\r\n",
      "MR.M.13C-Ami.D6.R1_Frac11_91\tMR.M.13C-Ami.D6.R1_Frac11\r\n",
      "MR.A.12C-Con.D30.R3_Frac20_104\tMR.A.12C-Con.D30.R3_Frac20\r\n",
      "MR.F.13C-Xyl.D6.R1_Frac25_102\tMR.F.13C-Xyl.D6.R1_Frac25\r\n",
      "MR.M.13C-Ami.D6.R1_Frac17_107\tMR.M.13C-Ami.D6.R1_Frac17\r\n",
      "MR.M.13C-Ami.D6.R1_Frac25_106\tMR.M.13C-Ami.D6.R1_Frac25\r\n",
      "MR.F.13C-Xyl.D3.R1_Frac7_108\tMR.F.13C-Xyl.D3.R1_Frac7\r\n",
      "MR.F.13C-Xyl.D6.R1_Frac26_109\tMR.F.13C-Xyl.D6.R1_Frac26\r\n",
      "MR.A.12C-Con.D30.R3_Frac18_114\tMR.A.12C-Con.D30.R3_Frac18\r\n",
      "MR.F.13C-Xyl.D6.R1_Frac28_115\tMR.F.13C-Xyl.D6.R1_Frac28\r\n",
      "MR.F.12C-Con.D14.R1_Frac17_105\tMR.F.12C-Con.D14.R1_Frac17\r\n",
      "MR.F.13C-Xyl.D6.R1_Frac22_111\tMR.F.13C-Xyl.D6.R1_Frac22\r\n",
      "MR.A.13C-Cel.D14.R1_Frac9_110\tMR.A.13C-Cel.D14.R1_Frac9\r\n",
      "MR.M.13C-Ami.D6.R1_Frac23_113\tMR.M.13C-Ami.D6.R1_Frac23\r\n",
      "MR.F.13C-Xyl.D3.R1_Frac11_118\tMR.F.13C-Xyl.D3.R1_Frac11\r\n",
      "MR.M.13C-Ami.D6.R1_Frac11_112\tMR.M.13C-Ami.D6.R1_Frac11\r\n",
      "MR.M.13C-Ami.D6.R1_Frac21_123\tMR.M.13C-Ami.D6.R1_Frac21\r\n",
      "MR.M.12C-Con.D6.R2_Frac17_124\tMR.M.12C-Con.D6.R2_Frac17\r\n",
      "MR.F.13C-Xyl.D6.R1_Frac8_120\tMR.F.13C-Xyl.D6.R1_Frac8\r\n",
      "MR.M.13C-Ami.D6.R1_Frac25_125\tMR.M.13C-Ami.D6.R1_Frac25\r\n",
      "MR.F.13C-Cel.D14.R2_Frac13_117\tMR.F.13C-Cel.D14.R2_Frac13\r\n",
      "MR.M.12C-Con.D6.R2_Frac21_116\tMR.M.12C-Con.D6.R2_Frac21\r\n",
      "MR.A.13C-Cel.D14.R1_Frac16_128\tMR.A.13C-Cel.D14.R1_Frac16\r\n",
      "MR.F.13C-Xyl.D3.R1_Frac13_127\tMR.F.13C-Xyl.D3.R1_Frac13\r\n",
      "MR.A.12C-Con.D30.R3_Frac23_126\tMR.A.12C-Con.D30.R3_Frac23\r\n",
      "MR.F.13C-Xyl.D6.R1_Frac28_130\tMR.F.13C-Xyl.D6.R1_Frac28\r\n",
      "MR.A.13C-Pal.D30.R3_Frac19_134\tMR.A.13C-Pal.D30.R3_Frac19\r\n",
      "MR.A.12C-Con.D30.R3_Frac25_122\tMR.A.12C-Con.D30.R3_Frac25\r\n",
      "MR.F.12C-Con.D14.R1_Frac13_136\tMR.F.12C-Con.D14.R1_Frac13\r\n",
      "MR.M.13C-Ami.D6.R1_Frac27_137\tMR.M.13C-Ami.D6.R1_Frac27\r\n",
      "MR.A.12C-Con.D30.R3_Frac24_131\tMR.A.12C-Con.D30.R3_Frac24\r\n",
      "MR.M.12C-Con.D6.R2_Frac9_135\tMR.M.12C-Con.D6.R2_Frac9\r\n",
      "MR.A.13C-Cel.D14.R1_Frac15_129\tMR.A.13C-Cel.D14.R1_Frac15\r\n",
      "MR.F.13C-Xyl.D3.R1_Frac8_132\tMR.F.13C-Xyl.D3.R1_Frac8\r\n",
      "MR.F.12C-Con.D14.R1_Frac18_133\tMR.F.12C-Con.D14.R1_Frac18\r\n",
      "MR.F.13C-Xyl.D3.R1_Frac16_143\tMR.F.13C-Xyl.D3.R1_Frac16\r\n",
      "MR.A.13C-Cel.D14.R1_Frac15_139\tMR.A.13C-Cel.D14.R1_Frac15\r\n",
      "MR.F.13C-Xyl.D3.R1_Frac13_142\tMR.F.13C-Xyl.D3.R1_Frac13\r\n",
      "MR.F.13C-Xyl.D6.R1_Frac8_138\tMR.F.13C-Xyl.D6.R1_Frac8\r\n",
      "MR.F.13C-Xyl.D3.R1_Frac27_147\tMR.F.13C-Xyl.D3.R1_Frac27\r\n",
      "MR.F.13C-Xyl.D3.R1_Frac11_146\tMR.F.13C-Xyl.D3.R1_Frac11\r\n",
      "MR.M.13C-Ami.D6.R1_Frac27_145\tMR.M.13C-Ami.D6.R1_Frac27\r\n",
      "MR.M.13C-Ami.D6.R1_Frac20_144\tMR.M.13C-Ami.D6.R1_Frac20\r\n",
      "MR.F.13C-Xyl.D3.R1_Frac13_151\tMR.F.13C-Xyl.D3.R1_Frac13\r\n",
      "MR.M.13C-Ami.D6.R1_Frac15_152\tMR.M.13C-Ami.D6.R1_Frac15\r\n",
      "MR.A.13C-Pal.D30.R3_Frac21_71\tMR.A.13C-Pal.D30.R3_Frac21\r\n",
      "MR.A.12C-Con.D30.R3_Frac14_149\tMR.A.12C-Con.D30.R3_Frac14\r\n",
      "MR.A.13C-Cel.D14.R1_Frac18_148\tMR.A.13C-Cel.D14.R1_Frac18\r\n",
      "MR.M.13C-Ami.D6.R1_Frac12_156\tMR.M.13C-Ami.D6.R1_Frac12\r\n",
      "MR.M.12C-Con.D6.R2_Frac12_154\tMR.M.12C-Con.D6.R2_Frac12\r\n",
      "MR.M.13C-Ami.D6.R1_Frac9_153\tMR.M.13C-Ami.D6.R1_Frac9\r\n",
      "MR.F.13C-Xyl.D3.R1_Frac26_160\tMR.F.13C-Xyl.D3.R1_Frac26\r\n",
      "MR.M.12C-Con.D6.R2_Frac13_161\tMR.M.12C-Con.D6.R2_Frac13\r\n",
      "MR.M.12C-Con.D6.R2_Frac19_162\tMR.M.12C-Con.D6.R2_Frac19\r\n",
      "MR.A.13C-Pal.D30.R3_Frac21_163\tMR.A.13C-Pal.D30.R3_Frac21\r\n",
      "MR.A.12C-Con.D30.R3_Frac8_164\tMR.A.12C-Con.D30.R3_Frac8\r\n",
      "MR.A.13C-Cel.D14.R1_Frac7_165\tMR.A.13C-Cel.D14.R1_Frac7\r\n",
      "MR.M.13C-Ami.D6.R1_Frac28_166\tMR.M.13C-Ami.D6.R1_Frac28\r\n",
      "MR.F.13C-Xyl.D6.R1_Frac25_159\tMR.F.13C-Xyl.D6.R1_Frac25\r\n",
      "MR.F.13C-Xyl.D3.R1_Frac21_158\tMR.F.13C-Xyl.D3.R1_Frac21\r\n",
      "MR.M.13C-Ami.D6.R1_Frac8_155\tMR.M.13C-Ami.D6.R1_Frac8\r\n",
      "MR.A.13C-Cel.D14.R1_Frac25_141\tMR.A.13C-Cel.D14.R1_Frac25\r\n",
      "MR.F.13C-Xyl.D6.R1_Frac8_171\tMR.F.13C-Xyl.D6.R1_Frac8\r\n",
      "MR.M.13C-Ami.D6.R1_Frac7_167\tMR.M.13C-Ami.D6.R1_Frac7\r\n",
      "MR.A.13C-Cel.D14.R1_Frac16_168\tMR.A.13C-Cel.D14.R1_Frac16\r\n",
      "MR.A.13C-Pal.D30.R3_Frac27_174\tMR.A.13C-Pal.D30.R3_Frac27\r\n",
      "MR.A.12C-Con.D30.R3_Frac9_175\tMR.A.12C-Con.D30.R3_Frac9\r\n",
      "MR.M.12C-Con.D6.R2_Frac10_170\tMR.M.12C-Con.D6.R2_Frac10\r\n",
      "MR.A.12C-Con.D30.R3_Frac9_150\tMR.A.12C-Con.D30.R3_Frac9\r\n",
      "MR.F.13C-Cel.D14.R2_Frac17_157\tMR.F.13C-Cel.D14.R2_Frac17\r\n",
      "MR.F.13C-Xyl.D6.R1_Frac6_177\tMR.F.13C-Xyl.D6.R1_Frac6\r\n",
      "MR.F.12C-Con.D14.R1_Frac6_176\tMR.F.12C-Con.D14.R1_Frac6\r\n",
      "MR.A.13C-Cel.D14.R1_Frac8_181\tMR.A.13C-Cel.D14.R1_Frac8\r\n",
      "MR.M.12C-Con.D6.R2_Frac21_182\tMR.M.12C-Con.D6.R2_Frac21\r\n",
      "MR.M.13C-Ami.D6.R1_Frac6_183\tMR.M.13C-Ami.D6.R1_Frac6\r\n",
      "MR.M.13C-Ami.D6.R1_Frac13_184\tMR.M.13C-Ami.D6.R1_Frac13\r\n",
      "MR.F.12C-Con.D14.R1_Frac13_185\tMR.F.12C-Con.D14.R1_Frac13\r\n",
      "MR.M.12C-Con.D6.R2_Frac22_178\tMR.M.12C-Con.D6.R2_Frac22\r\n",
      "MR.F.13C-Xyl.D3.R1_Frac24_172\tMR.F.13C-Xyl.D3.R1_Frac24\r\n",
      "MR.F.13C-Xyl.D6.R1_Frac25_179\tMR.F.13C-Xyl.D6.R1_Frac25\r\n",
      "MR.M.13C-Ami.D6.R1_Frac19_169\tMR.M.13C-Ami.D6.R1_Frac19\r\n",
      "MR.F.13C-Cel.D14.R2_Frac17_188\tMR.F.13C-Cel.D14.R2_Frac17\r\n",
      "MR.F.13C-Xyl.D3.R1_Frac24_187\tMR.F.13C-Xyl.D3.R1_Frac24\r\n",
      "MR.F.13C-Xyl.D6.R1_Frac11_193\tMR.F.13C-Xyl.D6.R1_Frac11\r\n",
      "MR.F.12C-Con.D14.R1_Frac17_189\tMR.F.12C-Con.D14.R1_Frac17\r\n",
      "MR.F.13C-Xyl.D6.R1_Frac23_191\tMR.F.13C-Xyl.D6.R1_Frac23\r\n",
      "MR.M.12C-Con.D6.R2_Frac17_195\tMR.M.12C-Con.D6.R2_Frac17\r\n",
      "MR.A.13C-Cel.D14.R1_Frac11_190\tMR.A.13C-Cel.D14.R1_Frac11\r\n",
      "MR.M.13C-Ami.D6.R1_Frac12_180\tMR.M.13C-Ami.D6.R1_Frac12\r\n",
      "MR.M.13C-Ami.D6.R1_Frac12_200\tMR.M.13C-Ami.D6.R1_Frac12\r\n",
      "MR.F.12C-Con.D14.R1_Frac17_196\tMR.F.12C-Con.D14.R1_Frac17\r\n",
      "MR.F.12C-Con.D14.R1_Frac15_199\tMR.F.12C-Con.D14.R1_Frac15\r\n",
      "MR.M.13C-Ami.D6.R1_Frac8_198\tMR.M.13C-Ami.D6.R1_Frac8\r\n",
      "MR.M.12C-Con.D6.R2_Frac18_203\tMR.M.12C-Con.D6.R2_Frac18\r\n",
      "MR.A.12C-Con.D30.R3_Frac13_192\tMR.A.12C-Con.D30.R3_Frac13\r\n",
      "MR.A.12C-Con.D30.R3_Frac19_197\tMR.A.12C-Con.D30.R3_Frac19\r\n",
      "MR.A.12C-Con.D30.R3_Frac19_207\tMR.A.12C-Con.D30.R3_Frac19\r\n",
      "MR.F.13C-Xyl.D3.R1_Frac17_204\tMR.F.13C-Xyl.D3.R1_Frac17\r\n",
      "MR.A.12C-Con.D30.R3_Frac12_205\tMR.A.12C-Con.D30.R3_Frac12\r\n",
      "MR.A.12C-Con.D30.R3_Frac9_210\tMR.A.12C-Con.D30.R3_Frac9\r\n",
      "MR.M.13C-Ami.D6.R1_Frac16_206\tMR.M.13C-Ami.D6.R1_Frac16\r\n",
      "MR.M.13C-Ami.D6.R1_Frac19_202\tMR.M.13C-Ami.D6.R1_Frac19\r\n",
      "MR.F.12C-Con.D14.R1_Frac8_213\tMR.F.12C-Con.D14.R1_Frac8\r\n",
      "MR.A.12C-Con.D30.R3_Frac16_211\tMR.A.12C-Con.D30.R3_Frac16\r\n",
      "MR.M.13C-Ami.D6.R1_Frac12_208\tMR.M.13C-Ami.D6.R1_Frac12\r\n",
      "MR.M.13C-Ami.D6.R1_Frac16_216\tMR.M.13C-Ami.D6.R1_Frac16\r\n",
      "MR.F.13C-Cel.D14.R2_Frac17_212\tMR.F.13C-Cel.D14.R2_Frac17\r\n",
      "MR.A.12C-Con.D30.R3_Frac25_218\tMR.A.12C-Con.D30.R3_Frac25\r\n",
      "MR.A.12C-Con.D30.R3_Frac16_219\tMR.A.12C-Con.D30.R3_Frac16\r\n",
      "MR.A.13C-Pal.D30.R3_Frac26_220\tMR.A.13C-Pal.D30.R3_Frac26\r\n",
      "MR.F.13C-Xyl.D3.R1_Frac8_215\tMR.F.13C-Xyl.D3.R1_Frac8\r\n",
      "MR.F.13C-Xyl.D3.R1_Frac26_173\tMR.F.13C-Xyl.D3.R1_Frac26\r\n",
      "MR.F.13C-Xyl.D3.R1_Frac18_201\tMR.F.13C-Xyl.D3.R1_Frac18\r\n",
      "MR.A.12C-Con.D30.R3_Frac15_214\tMR.A.12C-Con.D30.R3_Frac15\r\n",
      "MR.F.13C-Xyl.D3.R1_Frac17_224\tMR.F.13C-Xyl.D3.R1_Frac17\r\n",
      "MR.M.13C-Ami.D6.R1_Frac17_226\tMR.M.13C-Ami.D6.R1_Frac17\r\n"
     ]
    }
   ],
   "source": [
    "! head -n 200 group_file.txt"
   ]
  },
  {
   "cell_type": "code",
   "execution_count": 14,
   "metadata": {
    "collapsed": false
   },
   "outputs": [
    {
     "name": "stdout",
     "output_type": "stream",
     "text": [
      "5101000\t3009833\r\n",
      "5102000\t3010253\r\n",
      "5103000\t3010690\r\n",
      "5104000\t3011121\r\n",
      "5105000\t3011569\r\n",
      "5106000\t3012022\r\n",
      "5107000\t3012512\r\n",
      "5108000\t3012993\r\n",
      "5109000\t3013452\r\n",
      "5110000\t3013922\r\n",
      "5111000\t3014403\r\n",
      "5112000\t3014924\r\n",
      "5113000\t3015398\r\n",
      "5114000\t3015905\r\n",
      "5115000\t3016427\r\n",
      "5116000\t3016952\r\n",
      "5117000\t3017537\r\n",
      "5118000\t3018079\r\n",
      "5119000\t3018625\r\n",
      "5120000\t3019152\r\n",
      "5121000\t3019687\r\n",
      "5122000\t3020284\r\n",
      "5122226\t3020406\r\n",
      "\r\n",
      "Output File Names: \r\n",
      "pear_merged-fullCyc2_lib3.assembled.dmult_maxee1_noN.names\r\n",
      "pear_merged-fullCyc2_lib3.assembled.dmult_maxee1_noN.unique.fasta\r\n",
      "\r\n",
      "\r\n",
      "mothur > quit()\r\n"
     ]
    }
   ],
   "source": [
    "# unique sequences\n",
    "cmd = 'mothur \"#unique.seqs(fasta={})\"'.format(qcFile2)\n",
    "!$cmd | tail -n 30"
   ]
  },
  {
   "cell_type": "code",
   "execution_count": 15,
   "metadata": {
    "collapsed": false
   },
   "outputs": [
    {
     "name": "stdout",
     "output_type": "stream",
     "text": [
      "Number of unique sequences: 3020406\n"
     ]
    }
   ],
   "source": [
    "qcFile3 = os.path.splitext(qcFile2)[0] + '.unique.fasta'\n",
    "n_uniq = !grep -c \">\" $qcFile3\n",
    "print ('Number of unique sequences: {}'.format(n_uniq[0]))"
   ]
  },
  {
   "cell_type": "code",
   "execution_count": 16,
   "metadata": {
    "collapsed": false
   },
   "outputs": [
    {
     "name": "stdout",
     "output_type": "stream",
     "text": [
      "-rw-rw-r-- 1 sam sam 264M May 15 14:34 pear_merged-fullCyc2_lib3.assembled.dmult_maxee1_noN.names\r\n"
     ]
    }
   ],
   "source": [
    "# name file produced by unique.seqs()\n",
    "nameFile = os.path.splitext(qcFile2)[0] + '.names'\n",
    "!ls -thlc $nameFile"
   ]
  },
  {
   "cell_type": "code",
   "execution_count": 17,
   "metadata": {
    "collapsed": false
   },
   "outputs": [
    {
     "name": "stdout",
     "output_type": "stream",
     "text": [
      "silva.seed_v132.tax\n",
      "silva.seed_v132.align\n",
      "README.md\n"
     ]
    },
    {
     "name": "stderr",
     "output_type": "stream",
     "text": [
      "--2018-05-15 14:34:45--  https://www.mothur.org/w/images/7/71/Silva.seed_v132.tgz\n",
      "Resolving www.mothur.org (www.mothur.org)... 141.214.120.22\n",
      "Connecting to www.mothur.org (www.mothur.org)|141.214.120.22|:443... connected.\n",
      "HTTP request sent, awaiting response... 200 OK\n",
      "Length: 19623900 (19M) [application/x-gzip]\n",
      "Saving to: ‘Silva.seed_v132.tgz’\n",
      "\n",
      "     0K .......... .......... .......... .......... ..........  0% 1.89M 10s\n",
      "    50K .......... .......... .......... .......... ..........  0%  997K 14s\n",
      "   100K .......... .......... .......... .......... ..........  0% 1.86M 13s\n",
      "   150K .......... .......... .......... .......... ..........  1%  997K 14s\n",
      "   200K .......... .......... .......... .......... ..........  1% 1.87M 13s\n",
      "   250K .......... .......... .......... .......... ..........  1% 1000K 14s\n",
      "   300K .......... .......... .......... .......... ..........  1%  990K 15s\n",
      "   350K .......... .......... .......... .......... ..........  2% 1.90M 14s\n",
      "   400K .......... .......... .......... .......... ..........  2%  991K 15s\n",
      "   450K .......... .......... .......... .......... ..........  2% 1.87M 14s\n",
      "   500K .......... .......... .......... .......... ..........  2%  996K 15s\n",
      "   550K .......... .......... .......... .......... ..........  3% 1.89M 14s\n",
      "   600K .......... .......... .......... .......... ..........  3%  995K 14s\n",
      "   650K .......... .......... .......... .......... ..........  3% 1.88M 14s\n",
      "   700K .......... .......... .......... .......... ..........  3%  993K 14s\n",
      "   750K .......... .......... .......... .......... ..........  4% 1010K 15s\n",
      "   800K .......... .......... .......... .......... ..........  4% 1.83M 14s\n",
      "   850K .......... .......... .......... .......... ..........  4%  993K 14s\n",
      "   900K .......... .......... .......... .......... ..........  4% 1.85M 14s\n",
      "   950K .......... .......... .......... .......... ..........  5%  991K 14s\n",
      "  1000K .......... .......... .......... .......... ..........  5% 1.89M 14s\n",
      "  1050K .......... .......... .......... .......... ..........  5%  991K 14s\n",
      "  1100K .......... .......... .......... .......... ..........  6% 1.83M 14s\n",
      "  1150K .......... .......... .......... .......... ..........  6%  993K 14s\n",
      "  1200K .......... .......... .......... .......... ..........  6%  999K 14s\n",
      "  1250K .......... .......... .......... .......... ..........  6% 1.87M 14s\n",
      "  1300K .......... .......... .......... .......... ..........  7%  992K 14s\n",
      "  1350K .......... .......... .......... .......... ..........  7% 1.85M 14s\n",
      "  1400K .......... .......... .......... .......... ..........  7% 1005K 14s\n",
      "  1450K .......... .......... .......... .......... ..........  7% 1.87M 14s\n",
      "  1500K .......... .......... .......... .......... ..........  8%  998K 14s\n",
      "  1550K .......... .......... .......... .......... ..........  8% 1.87M 14s\n",
      "  1600K .......... .......... .......... .......... ..........  8%  986K 14s\n",
      "  1650K .......... .......... .......... .......... ..........  8% 1000K 14s\n",
      "  1700K .......... .......... .......... .......... ..........  9% 1.84M 14s\n",
      "  1750K .......... .......... .......... .......... ..........  9% 1005K 14s\n",
      "  1800K .......... .......... .......... .......... ..........  9% 1.84M 14s\n",
      "  1850K .......... .......... .......... .......... ..........  9%  990K 14s\n",
      "  1900K .......... .......... .......... .......... .......... 10% 1.88M 13s\n",
      "  1950K .......... .......... .......... .......... .......... 10% 1004K 14s\n",
      "  2000K .......... .......... .......... .......... .......... 10%  997K 14s\n",
      "  2050K .......... .......... .......... .......... .......... 10% 1.87M 13s\n",
      "  2100K .......... .......... .......... .......... .......... 11%  994K 13s\n",
      "  2150K .......... .......... .......... .......... .......... 11% 1.89M 13s\n",
      "  2200K .......... .......... .......... .......... .......... 11%  996K 13s\n",
      "  2250K .......... .......... .......... .......... .......... 12% 1.85M 13s\n",
      "  2300K .......... .......... .......... .......... .......... 12% 1003K 13s\n",
      "  2350K .......... .......... .......... .......... .......... 12% 1.88M 13s\n",
      "  2400K .......... .......... .......... .......... .......... 12%  995K 13s\n",
      "  2450K .......... .......... .......... .......... .......... 13% 1.88M 13s\n",
      "  2500K .......... .......... .......... .......... .......... 13% 1.87M 13s\n",
      "  2550K .......... .......... .......... .......... .......... 13% 1.85M 13s\n",
      "  2600K .......... .......... .......... .......... .......... 13% 1.92M 13s\n",
      "  2650K .......... .......... .......... .......... .......... 14% 1.88M 13s\n",
      "  2700K .......... .......... .......... .......... .......... 14% 1.88M 12s\n",
      "  2750K .......... .......... .......... .......... .......... 14%  997K 12s\n",
      "  2800K .......... .......... .......... .......... .......... 14% 1.89M 12s\n",
      "  2850K .......... .......... .......... .......... .......... 15%  987K 12s\n",
      "  2900K .......... .......... .......... .......... .......... 15% 1.87M 12s\n",
      "  2950K .......... .......... .......... .......... .......... 15% 1.88M 12s\n",
      "  3000K .......... .......... .......... .......... .......... 15% 1.92M 12s\n",
      "  3050K .......... .......... .......... .......... .......... 16%  988K 12s\n",
      "  3100K .......... .......... .......... .......... .......... 16% 1.91M 12s\n",
      "  3150K .......... .......... .......... .......... .......... 16%  986K 12s\n",
      "  3200K .......... .......... .......... .......... .......... 16% 1.89M 12s\n",
      "  3250K .......... .......... .......... .......... .......... 17% 1.89M 12s\n",
      "  3300K .......... .......... .......... .......... .......... 17% 1.88M 12s\n",
      "  3350K .......... .......... .......... .......... .......... 17%  990K 12s\n",
      "  3400K .......... .......... .......... .......... .......... 18% 1.88M 12s\n",
      "  3450K .......... .......... .......... .......... .......... 18% 1.88M 12s\n",
      "  3500K .......... .......... .......... .......... .......... 18%  998K 12s\n",
      "  3550K .......... .......... .......... .......... .......... 18% 1.90M 12s\n",
      "  3600K .......... .......... .......... .......... .......... 19% 1.89M 11s\n",
      "  3650K .......... .......... .......... .......... .......... 19% 1.89M 11s\n",
      "  3700K .......... .......... .......... .......... .......... 19%  996K 11s\n",
      "  3750K .......... .......... .......... .......... .......... 19% 1.90M 11s\n",
      "  3800K .......... .......... .......... .......... .......... 20% 1.88M 11s\n",
      "  3850K .......... .......... .......... .......... .......... 20% 1.91M 11s\n",
      "  3900K .......... .......... .......... .......... .......... 20%  985K 11s\n",
      "  3950K .......... .......... .......... .......... .......... 20% 1.87M 11s\n",
      "  4000K .......... .......... .......... .......... .......... 21% 1.86M 11s\n",
      "  4050K .......... .......... .......... .......... .......... 21% 1.18M 11s\n",
      "  4100K .......... .......... .......... .......... .......... 21%  841K 11s\n",
      "  4150K .......... .......... .......... .......... .......... 21% 1.91M 11s\n",
      "  4200K .......... .......... .......... .......... .......... 22% 1.89M 11s\n",
      "  4250K .......... .......... .......... .......... .......... 22% 1.88M 11s\n",
      "  4300K .......... .......... .......... .......... .......... 22% 1000K 11s\n",
      "  4350K .......... .......... .......... .......... .......... 22% 1.89M 11s\n",
      "  4400K .......... .......... .......... .......... .......... 23% 1.83M 11s\n",
      "  4450K .......... .......... .......... .......... .......... 23% 1.92M 11s\n",
      "  4500K .......... .......... .......... .......... .......... 23% 1008K 11s\n",
      "  4550K .......... .......... .......... .......... .......... 24% 1.86M 11s\n",
      "  4600K .......... .......... .......... .......... .......... 24% 1.90M 10s\n",
      "  4650K .......... .......... .......... .......... .......... 24% 1.86M 10s\n",
      "  4700K .......... .......... .......... .......... .......... 24% 1.87M 10s\n",
      "  4750K .......... .......... .......... .......... .......... 25% 1.90M 10s\n",
      "  4800K .......... .......... .......... .......... .......... 25% 1.86M 10s\n",
      "  4850K .......... .......... .......... .......... .......... 25% 1.89M 10s\n",
      "  4900K .......... .......... .......... .......... .......... 25% 1.89M 10s\n",
      "  4950K .......... .......... .......... .......... .......... 26% 1.89M 10s\n",
      "  5000K .......... .......... .......... .......... .......... 26% 1.90M 10s\n",
      "  5050K .......... .......... .......... .......... .......... 26% 1.90M 10s\n",
      "  5100K .......... .......... .......... .......... .......... 26% 1.87M 10s\n",
      "  5150K .......... .......... .......... .......... .......... 27% 1023K 10s\n",
      "  5200K .......... .......... .......... .......... .......... 27% 1.82M 10s\n",
      "  5250K .......... .......... .......... .......... .......... 27% 1.87M 10s\n",
      "  5300K .......... .......... .......... .......... .......... 27% 1.86M 10s\n",
      "  5350K .......... .......... .......... .......... .......... 28% 1.86M 10s\n",
      "  5400K .......... .......... .......... .......... .......... 28% 1.92M 10s\n",
      "  5450K .......... .......... .......... .......... .......... 28% 1.87M 10s\n",
      "  5500K .......... .......... .......... .......... .......... 28% 1.91M 9s\n",
      "  5550K .......... .......... .......... .......... .......... 29% 1.90M 9s\n",
      "  5600K .......... .......... .......... .......... .......... 29% 1.86M 9s\n",
      "  5650K .......... .......... .......... .......... .......... 29% 1.92M 9s\n",
      "  5700K .......... .......... .......... .......... .......... 30% 1.87M 9s\n",
      "  5750K .......... .......... .......... .......... .......... 30% 1.90M 9s\n",
      "  5800K .......... .......... .......... .......... .......... 30% 1.91M 9s\n",
      "  5850K .......... .......... .......... .......... .......... 30% 1.92M 9s\n",
      "  5900K .......... .......... .......... .......... .......... 31% 1.89M 9s\n",
      "  5950K .......... .......... .......... .......... .......... 31%  999K 9s\n",
      "  6000K .......... .......... .......... .......... .......... 31% 1.91M 9s\n",
      "  6050K .......... .......... .......... .......... .......... 31% 1.91M 9s\n",
      "  6100K .......... .......... .......... .......... .......... 32% 1.89M 9s\n",
      "  6150K .......... .......... .......... .......... .......... 32% 1.85M 9s\n",
      "  6200K .......... .......... .......... .......... .......... 32% 1.91M 9s\n",
      "  6250K .......... .......... .......... .......... .......... 32% 1.87M 9s\n",
      "  6300K .......... .......... .......... .......... .......... 33%  494K 9s\n",
      "  6350K .......... .......... .......... .......... .......... 33% 1.88M 9s\n",
      "  6400K .......... .......... .......... .......... .......... 33% 1.90M 9s\n",
      "  6450K .......... .......... .......... .......... .......... 33% 1.88M 9s\n",
      "  6500K .......... .......... .......... .......... .......... 34% 1.50M 9s\n",
      "  6550K .......... .......... .......... .......... .......... 34% 1.90M 9s\n",
      "  6600K .......... .......... .......... .......... .......... 34% 1.88M 9s\n",
      "  6650K .......... .......... .......... .......... .......... 34% 1.92M 8s\n",
      "  6700K .......... .......... .......... .......... .......... 35% 1009K 8s\n",
      "  6750K .......... .......... .......... .......... .......... 35% 1.90M 8s\n",
      "  6800K .......... .......... .......... .......... .......... 35% 1.86M 8s\n",
      "  6850K .......... .......... .......... .......... .......... 36% 1.92M 8s\n",
      "  6900K .......... .......... .......... .......... .......... 36% 1.91M 8s\n",
      "  6950K .......... .......... .......... .......... .......... 36% 1.90M 8s\n",
      "  7000K .......... .......... .......... .......... .......... 36% 1.92M 8s\n",
      "  7050K .......... .......... .......... .......... .......... 37% 1.88M 8s\n",
      "  7100K .......... .......... .......... .......... .......... 37% 1.91M 8s\n",
      "  7150K .......... .......... .......... .......... .......... 37% 1.88M 8s\n",
      "  7200K .......... .......... .......... .......... .......... 37% 1.92M 8s\n",
      "  7250K .......... .......... .......... .......... .......... 38% 1.88M 8s\n",
      "  7300K .......... .......... .......... .......... .......... 38% 1.92M 8s\n",
      "  7350K .......... .......... .......... .......... .......... 38% 1.91M 8s\n",
      "  7400K .......... .......... .......... .......... .......... 38% 1.90M 8s\n",
      "  7450K .......... .......... .......... .......... .......... 39% 1.89M 8s\n",
      "  7500K .......... .......... .......... .......... .......... 39% 1.91M 8s\n",
      "  7550K .......... .......... .......... .......... .......... 39% 1.85M 8s\n",
      "  7600K .......... .......... .......... .......... .......... 39% 1.91M 8s\n",
      "  7650K .......... .......... .......... .......... .......... 40% 1.92M 8s\n",
      "  7700K .......... .......... .......... .......... .......... 40% 1.90M 8s\n",
      "  7750K .......... .......... .......... .......... .......... 40% 1.91M 7s\n",
      "  7800K .......... .......... .......... .......... .......... 40% 1.91M 7s\n",
      "  7850K .......... .......... .......... .......... .......... 41% 1.92M 7s\n",
      "  7900K .......... .......... .......... .......... .......... 41% 1.91M 7s\n",
      "  7950K .......... .......... .......... .......... .......... 41% 1.93M 7s\n",
      "  8000K .......... .......... .......... .......... .......... 42% 1001K 7s\n",
      "  8050K .......... .......... .......... .......... .......... 42% 1.89M 7s\n",
      "  8100K .......... .......... .......... .......... .......... 42% 1.90M 7s\n",
      "  8150K .......... .......... .......... .......... .......... 42% 1.90M 7s\n",
      "  8200K .......... .......... .......... .......... .......... 43% 1.91M 7s\n",
      "  8250K .......... .......... .......... .......... .......... 43% 1.92M 7s\n",
      "  8300K .......... .......... .......... .......... .......... 43% 1.90M 7s\n",
      "  8350K .......... .......... .......... .......... .......... 43% 1.92M 7s\n",
      "  8400K .......... .......... .......... .......... .......... 44% 1.89M 7s\n",
      "  8450K .......... .......... .......... .......... .......... 44% 1.90M 7s\n",
      "  8500K .......... .......... .......... .......... .......... 44% 1.89M 7s\n",
      "  8550K .......... .......... .......... .......... .......... 44% 1.90M 7s\n",
      "  8600K .......... .......... .......... .......... .......... 45% 1.87M 7s\n",
      "  8650K .......... .......... .......... .......... .......... 45% 1.93M 7s\n",
      "  8700K .......... .......... .......... .......... .......... 45% 1.86M 7s\n",
      "  8750K .......... .......... .......... .......... .......... 45% 1.92M 7s\n",
      "  8800K .......... .......... .......... .......... .......... 46% 1.90M 7s\n",
      "  8850K .......... .......... .......... .......... .......... 46% 1.90M 7s\n",
      "  8900K .......... .......... .......... .......... .......... 46% 1.93M 7s\n",
      "  8950K .......... .......... .......... .......... .......... 46% 1.89M 7s\n",
      "  9000K .......... .......... .......... .......... .......... 47% 1.92M 6s\n",
      "  9050K .......... .......... .......... .......... .......... 47% 1.92M 6s\n",
      "  9100K .......... .......... .......... .......... .......... 47% 1.91M 6s\n",
      "  9150K .......... .......... .......... .......... .......... 48% 1.02M 6s\n",
      "  9200K .......... .......... .......... .......... .......... 48% 1.91M 6s\n",
      "  9250K .......... .......... .......... .......... .......... 48% 1.90M 6s\n",
      "  9300K .......... .......... .......... .......... .......... 48% 1.93M 6s\n",
      "  9350K .......... .......... .......... .......... .......... 49% 1.91M 6s\n",
      "  9400K .......... .......... .......... .......... .......... 49% 1.91M 6s\n",
      "  9450K .......... .......... .......... .......... .......... 49% 1.91M 6s\n",
      "  9500K .......... .......... .......... .......... .......... 49% 1.93M 6s\n",
      "  9550K .......... .......... .......... .......... .......... 50% 1.76M 6s\n",
      "  9600K .......... .......... .......... .......... .......... 50% 1.91M 6s\n",
      "  9650K .......... .......... .......... .......... .......... 50% 1.92M 6s\n",
      "  9700K .......... .......... .......... .......... .......... 50% 1.90M 6s\n",
      "  9750K .......... .......... .......... .......... .......... 51% 1.92M 6s\n",
      "  9800K .......... .......... .......... .......... .......... 51% 1.90M 6s\n",
      "  9850K .......... .......... .......... .......... .......... 51%  493K 6s\n",
      "  9900K .......... .......... .......... .......... .......... 51% 1.91M 6s\n",
      "  9950K .......... .......... .......... .......... .......... 52% 1.91M 6s\n",
      " 10000K .......... .......... .......... .......... .......... 52% 1.87M 6s\n",
      " 10050K .......... .......... .......... .......... .......... 52% 1.87M 6s\n",
      " 10100K .......... .......... .......... .......... .......... 52% 1.92M 6s\n",
      " 10150K .......... .......... .......... .......... .......... 53% 1.89M 6s\n",
      " 10200K .......... .......... .......... .......... .......... 53% 1.89M 6s\n",
      " 10250K .......... .......... .......... .......... .......... 53% 1.93M 6s\n",
      " 10300K .......... .......... .......... .......... .......... 54% 1.91M 6s\n",
      " 10350K .......... .......... .......... .......... .......... 54% 1012K 6s\n",
      " 10400K .......... .......... .......... .......... .......... 54% 1.92M 6s\n",
      " 10450K .......... .......... .......... .......... .......... 54% 1.92M 6s\n",
      " 10500K .......... .......... .......... .......... .......... 55% 1.93M 5s\n",
      " 10550K .......... .......... .......... .......... .......... 55% 1.89M 5s\n",
      " 10600K .......... .......... .......... .......... .......... 55% 1.92M 5s\n",
      " 10650K .......... .......... .......... .......... .......... 55% 1.87M 5s\n",
      " 10700K .......... .......... .......... .......... .......... 56% 1.92M 5s\n",
      " 10750K .......... .......... .......... .......... .......... 56% 1.92M 5s\n",
      " 10800K .......... .......... .......... .......... .......... 56% 1.90M 5s\n",
      " 10850K .......... .......... .......... .......... .......... 56% 1.90M 5s\n",
      " 10900K .......... .......... .......... .......... .......... 57% 1.89M 5s\n",
      " 10950K .......... .......... .......... .......... .......... 57% 1.92M 5s\n",
      " 11000K .......... .......... .......... .......... .......... 57% 1.91M 5s\n",
      " 11050K .......... .......... .......... .......... .......... 57% 1.93M 5s\n",
      " 11100K .......... .......... .......... .......... .......... 58% 1.86M 5s\n",
      " 11150K .......... .......... .......... .......... .......... 58% 1.91M 5s\n",
      " 11200K .......... .......... .......... .......... .......... 58% 1.92M 5s\n",
      " 11250K .......... .......... .......... .......... .......... 58% 1.93M 5s\n",
      " 11300K .......... .......... .......... .......... .......... 59% 1.92M 5s\n",
      " 11350K .......... .......... .......... .......... .......... 59% 1.93M 5s\n",
      " 11400K .......... .......... .......... .......... .......... 59% 1.92M 5s\n",
      " 11450K .......... .......... .......... .......... .......... 60% 1.92M 5s\n",
      " 11500K .......... .......... .......... .......... .......... 60% 1011K 5s\n",
      " 11550K .......... .......... .......... .......... .......... 60% 41.0M 5s\n",
      " 11600K .......... .......... .......... .......... .......... 60%  995K 5s\n",
      " 11650K .......... .......... .......... .......... .......... 61% 1.91M 5s\n",
      " 11700K .......... .......... .......... .......... .......... 61% 1.91M 5s\n",
      " 11750K .......... .......... .......... .......... .......... 61% 1.92M 5s\n",
      " 11800K .......... .......... .......... .......... .......... 61% 1.89M 5s\n",
      " 11850K .......... .......... .......... .......... .......... 62% 1.92M 5s\n",
      " 11900K .......... .......... .......... .......... .......... 62% 1.92M 4s\n",
      " 11950K .......... .......... .......... .......... .......... 62% 1.91M 4s\n",
      " 12000K .......... .......... .......... .......... .......... 62% 1.82M 4s\n",
      " 12050K .......... .......... .......... .......... .......... 63% 1.91M 4s\n",
      " 12100K .......... .......... .......... .......... .......... 63% 1.93M 4s\n",
      " 12150K .......... .......... .......... .......... .......... 63% 1.64M 4s\n",
      " 12200K .......... .......... .......... .......... .......... 63% 1.89M 4s\n",
      " 12250K .......... .......... .......... .......... .......... 64% 1.80M 4s\n",
      " 12300K .......... .......... .......... .......... .......... 64% 1.91M 4s\n",
      " 12350K .......... .......... .......... .......... .......... 64% 1.86M 4s\n",
      " 12400K .......... .......... .......... .......... .......... 64% 1.71M 4s\n",
      " 12450K .......... .......... .......... .......... .......... 65% 1.37M 4s\n",
      " 12500K .......... .......... .......... .......... .......... 65% 1.82M 4s\n",
      " 12550K .......... .......... .......... .......... .......... 65% 1.70M 4s\n",
      " 12600K .......... .......... .......... .......... .......... 66% 1.92M 4s\n",
      " 12650K .......... .......... .......... .......... .......... 66%  898K 4s\n",
      " 12700K .......... .......... .......... .......... .......... 66% 18.7M 4s\n",
      " 12750K .......... .......... .......... .......... .......... 66% 1.02M 4s\n",
      " 12800K .......... .......... .......... .......... .......... 67% 1.86M 4s\n",
      " 12850K .......... .......... .......... .......... .......... 67% 1.92M 4s\n",
      " 12900K .......... .......... .......... .......... .......... 67% 1.91M 4s\n",
      " 12950K .......... .......... .......... .......... .......... 67% 1.91M 4s\n",
      " 13000K .......... .......... .......... .......... .......... 68% 1.93M 4s\n",
      " 13050K .......... .......... .......... .......... .......... 68% 1.89M 4s\n",
      " 13100K .......... .......... .......... .......... .......... 68% 1.90M 4s\n",
      " 13150K .......... .......... .......... .......... .......... 68% 1.88M 4s\n",
      " 13200K .......... .......... .......... .......... .......... 69% 1.93M 4s\n",
      " 13250K .......... .......... .......... .......... .......... 69% 1.90M 4s\n",
      " 13300K .......... .......... .......... .......... .......... 69% 1.92M 4s\n",
      " 13350K .......... .......... .......... .......... .......... 69% 1.92M 4s\n",
      " 13400K .......... .......... .......... .......... .......... 70% 1.93M 4s\n",
      " 13450K .......... .......... .......... .......... .......... 70% 1.92M 3s\n",
      " 13500K .......... .......... .......... .......... .......... 70% 1.92M 3s\n",
      " 13550K .......... .......... .......... .......... .......... 70% 1.91M 3s\n",
      " 13600K .......... .......... .......... .......... .......... 71% 1.89M 3s\n",
      " 13650K .......... .......... .......... .......... .......... 71% 1.92M 3s\n",
      " 13700K .......... .......... .......... .......... .......... 71% 1.89M 3s\n",
      " 13750K .......... .......... .......... .......... .......... 72% 1.93M 3s\n",
      " 13800K .......... .......... .......... .......... .......... 72% 1.90M 3s\n",
      " 13850K .......... .......... .......... .......... .......... 72% 1.93M 3s\n",
      " 13900K .......... .......... .......... .......... .......... 72% 1.93M 3s\n",
      " 13950K .......... .......... .......... .......... .......... 73% 1.02M 3s\n",
      " 14000K .......... .......... .......... .......... .......... 73% 1.94M 3s\n",
      " 14050K .......... .......... .......... .......... .......... 73% 1.93M 3s\n",
      " 14100K .......... .......... .......... .......... .......... 73% 1.92M 3s\n",
      " 14150K .......... .......... .......... .......... .......... 74% 1.91M 3s\n",
      " 14200K .......... .......... .......... .......... .......... 74% 1.91M 3s\n",
      " 14250K .......... .......... .......... .......... .......... 74% 1.93M 3s\n",
      " 14300K .......... .......... .......... .......... .......... 74% 1.81M 3s\n",
      " 14350K .......... .......... .......... .......... .......... 75% 1.93M 3s\n",
      " 14400K .......... .......... .......... .......... .......... 75% 1.92M 3s\n",
      " 14450K .......... .......... .......... .......... .......... 75% 1.91M 3s\n",
      " 14500K .......... .......... .......... .......... .......... 75% 1.93M 3s\n",
      " 14550K .......... .......... .......... .......... .......... 76% 1.94M 3s\n",
      " 14600K .......... .......... .......... .......... .......... 76% 1.94M 3s\n",
      " 14650K .......... .......... .......... .......... .......... 76% 1.93M 3s\n",
      " 14700K .......... .......... .......... .......... .......... 76% 1.93M 3s\n",
      " 14750K .......... .......... .......... .......... .......... 77% 1.92M 3s\n",
      " 14800K .......... .......... .......... .......... .......... 77% 1.89M 3s\n",
      " 14850K .......... .......... .......... .......... .......... 77% 1.94M 3s\n",
      " 14900K .......... .......... .......... .......... .......... 78% 1.91M 3s\n",
      " 14950K .......... .......... .......... .......... .......... 78% 1.92M 3s\n",
      " 15000K .......... .......... .......... .......... .......... 78% 1.88M 2s\n",
      " 15050K .......... .......... .......... .......... .......... 78% 1.01M 2s\n",
      " 15100K .......... .......... .......... .......... .......... 79% 1.92M 2s\n",
      " 15150K .......... .......... .......... .......... .......... 79% 1.92M 2s\n",
      " 15200K .......... .......... .......... .......... .......... 79% 1.92M 2s\n",
      " 15250K .......... .......... .......... .......... .......... 79% 1.92M 2s\n",
      " 15300K .......... .......... .......... .......... .......... 80% 1.90M 2s\n",
      " 15350K .......... .......... .......... .......... .......... 80% 1.93M 2s\n",
      " 15400K .......... .......... .......... .......... .......... 80% 1.90M 2s\n",
      " 15450K .......... .......... .......... .......... .......... 80% 1.90M 2s\n",
      " 15500K .......... .......... .......... .......... .......... 81% 1.90M 2s\n",
      " 15550K .......... .......... .......... .......... .......... 81% 1.93M 2s\n",
      " 15600K .......... .......... .......... .......... .......... 81% 1.89M 2s\n",
      " 15650K .......... .......... .......... .......... .......... 81% 1.80M 2s\n",
      " 15700K .......... .......... .......... .......... .......... 82% 1.89M 2s\n",
      " 15750K .......... .......... .......... .......... .......... 82% 1.91M 2s\n",
      " 15800K .......... .......... .......... .......... .......... 82% 1.92M 2s\n",
      " 15850K .......... .......... .......... .......... .......... 82% 1.91M 2s\n",
      " 15900K .......... .......... .......... .......... .......... 83% 1.90M 2s\n",
      " 15950K .......... .......... .......... .......... .......... 83% 1.91M 2s\n",
      " 16000K .......... .......... .......... .......... .......... 83% 1.94M 2s\n",
      " 16050K .......... .......... .......... .......... .......... 84% 1.91M 2s\n",
      " 16100K .......... .......... .......... .......... .......... 84% 20.9M 2s\n",
      " 16150K .......... .......... .......... .......... .......... 84% 1.91M 2s\n",
      " 16200K .......... .......... .......... .......... .......... 84% 1.88M 2s\n",
      " 16250K .......... .......... .......... .......... .......... 85% 1.94M 2s\n",
      " 16300K .......... .......... .......... .......... .......... 85% 1.93M 2s\n",
      " 16350K .......... .......... .......... .......... .......... 85% 1.93M 2s\n",
      " 16400K .......... .......... .......... .......... .......... 85% 1.88M 2s\n",
      " 16450K .......... .......... .......... .......... .......... 86% 1.93M 2s\n",
      " 16500K .......... .......... .......... .......... .......... 86% 1.90M 2s\n",
      " 16550K .......... .......... .......... .......... .......... 86% 1.92M 2s\n",
      " 16600K .......... .......... .......... .......... .......... 86% 1.95M 1s\n",
      " 16650K .......... .......... .......... .......... .......... 87% 23.3M 1s\n",
      " 16700K .......... .......... .......... .......... .......... 87% 1.94M 1s\n",
      " 16750K .......... .......... .......... .......... .......... 87% 1005K 1s\n",
      " 16800K .......... .......... .......... .......... .......... 87% 1.94M 1s\n",
      " 16850K .......... .......... .......... .......... .......... 88% 1.93M 1s\n",
      " 16900K .......... .......... .......... .......... .......... 88% 26.9M 1s\n",
      " 16950K .......... .......... .......... .......... .......... 88% 1.89M 1s\n",
      " 17000K .......... .......... .......... .......... .......... 88% 1.92M 1s\n",
      " 17050K .......... .......... .......... .......... .......... 89% 1.91M 1s\n",
      " 17100K .......... .......... .......... .......... .......... 89% 1.91M 1s\n",
      " 17150K .......... .......... .......... .......... .......... 89% 1.95M 1s\n",
      " 17200K .......... .......... .......... .......... .......... 90% 1.92M 1s\n",
      " 17250K .......... .......... .......... .......... .......... 90% 31.5M 1s\n",
      " 17300K .......... .......... .......... .......... .......... 90% 1.85M 1s\n",
      " 17350K .......... .......... .......... .......... .......... 90% 1.90M 1s\n",
      " 17400K .......... .......... .......... .......... .......... 91% 1.93M 1s\n",
      " 17450K .......... .......... .......... .......... .......... 91% 1.90M 1s\n",
      " 17500K .......... .......... .......... .......... .......... 91% 1.84M 1s\n",
      " 17550K .......... .......... .......... .......... .......... 91% 1.78M 1s\n",
      " 17600K .......... .......... .......... .......... .......... 92% 1.81M 1s\n",
      " 17650K .......... .......... .......... .......... .......... 92% 1.92M 1s\n",
      " 17700K .......... .......... .......... .......... .......... 92% 1.95M 1s\n",
      " 17750K .......... .......... .......... .......... .......... 92% 1.93M 1s\n",
      " 17800K .......... .......... .......... .......... .......... 93% 17.2M 1s\n",
      " 17850K .......... .......... .......... .......... .......... 93% 1.94M 1s\n",
      " 17900K .......... .......... .......... .......... .......... 93% 1.95M 1s\n",
      " 17950K .......... .......... .......... .......... .......... 93% 1.93M 1s\n",
      " 18000K .......... .......... .......... .......... .......... 94% 1.95M 1s\n",
      " 18050K .......... .......... .......... .......... .......... 94% 19.1M 1s\n",
      " 18100K .......... .......... .......... .......... .......... 94% 1.93M 1s\n",
      " 18150K .......... .......... .......... .......... .......... 94% 1.91M 1s\n",
      " 18200K .......... .......... .......... .......... .......... 95% 1.93M 1s\n",
      " 18250K .......... .......... .......... .......... .......... 95% 1.92M 1s\n",
      " 18300K .......... .......... .......... .......... .......... 95% 25.7M 0s\n",
      " 18350K .......... .......... .......... .......... .......... 96% 1.93M 0s\n",
      " 18400K .......... .......... .......... .......... .......... 96% 1.89M 0s\n",
      " 18450K .......... .......... .......... .......... .......... 96% 1.91M 0s\n",
      " 18500K .......... .......... .......... .......... .......... 96% 1.92M 0s\n",
      " 18550K .......... .......... .......... .......... .......... 97% 1.93M 0s\n",
      " 18600K .......... .......... .......... .......... .......... 97% 1.89M 0s\n",
      " 18650K .......... .......... .......... .......... .......... 97% 32.0M 0s\n",
      " 18700K .......... .......... .......... .......... .......... 97% 1.92M 0s\n",
      " 18750K .......... .......... .......... .......... .......... 98% 1.91M 0s\n",
      " 18800K .......... .......... .......... .......... .......... 98% 1.92M 0s\n",
      " 18850K .......... .......... .......... .......... .......... 98% 1.94M 0s\n",
      " 18900K .......... .......... .......... .......... .......... 98% 1.92M 0s\n",
      " 18950K .......... .......... .......... .......... .......... 99% 1.93M 0s\n",
      " 19000K .......... .......... .......... .......... .......... 99% 28.5M 0s\n",
      " 19050K .......... .......... .......... .......... .......... 99% 1.93M 0s\n",
      " 19100K .......... .......... .......... .......... .......... 99% 1.96M 0s\n",
      " 19150K .......... ...                                        100% 40.1M=11s\n",
      "\n",
      "2018-05-15 14:34:56 (1.70 MB/s) - ‘Silva.seed_v132.tgz’ saved [19623900/19623900]\n",
      "\n"
     ]
    }
   ],
   "source": [
    "%%bash \n",
    "# Remove database if already exsists\n",
    "if [ -d mothur_silva_db ]; then\n",
    "    rm -rf mothur_silva_db\n",
    "fi\n",
    "\n",
    "#if ! [ -d mothur_silva_db ]; then\n",
    "#    mkdir mothur_silva_db\n",
    "#fi\n",
    "\n",
    "mkdir mothur_silva_db\n",
    "cd mothur_silva_db\n",
    "\n",
    "# Download mothur recreatd SEED database release 132.\n",
    "wget https://www.mothur.org/w/images/7/71/Silva.seed_v132.tgz\n",
    "#wget https://www.mothur.org/w/images/a/a4/Silva.seed_v128.tgz\n",
    "tar -xvzf Silva.seed_v132.tgz\n",
    "rm Silva.seed_v132.tgz"
   ]
  },
  {
   "cell_type": "code",
   "execution_count": 18,
   "metadata": {
    "collapsed": false
   },
   "outputs": [
    {
     "name": "stdout",
     "output_type": "stream",
     "text": [
      "700\n",
      "800\n",
      "900\n",
      "1000\n",
      "1100\n",
      "1118\n",
      "\n",
      "\n",
      "\n",
      "Length of filtered alignment: 10180\n",
      "Number of columns removed: 39820\n",
      "Length of the original alignment: 50000\n",
      "Number of sequences used to construct filter: 11180\n",
      "\n",
      "Output File Names: \n",
      "silva.filter\n",
      "silva.seed_v132.filter.fasta\n",
      "\n",
      "\n",
      "mothur > quit()\n",
      "\n",
      "Number of sequences post-filter: 11180\n"
     ]
    }
   ],
   "source": [
    "silvaFile = 'silva.seed_v132.align'\n",
    "cmd = 'mothur \"#filter.seqs(vertical=t, fasta={}, processors={})\"'.format(silvaFile, nprocs)\n",
    "!cd mothur_silva_db; $cmd | tail -n 20\n",
    "\n",
    "silvaFileFilt = os.path.splitext(silvaFile)[0] + '.filter.fasta'\n",
    "silvaFileFilt = os.path.join('mothur_silva_db', silvaFileFilt)\n",
    "ret = !grep -c \">\" $silvaFileFilt\n",
    "print ('\\nNumber of sequences post-filter: {}'.format(ret[0]))"
   ]
  },
  {
   "cell_type": "code",
   "execution_count": 19,
   "metadata": {
    "collapsed": false
   },
   "outputs": [
    {
     "name": "stdout",
     "output_type": "stream",
     "text": [
      "302100\r\n",
      "302200\r\n",
      "302300\r\n",
      "302400\r\n",
      "302500\r\n",
      "302600\r\n",
      "302700\r\n",
      "302800\r\n",
      "302900\r\n",
      "302992\r\n",
      "[WARNING]: Some of your sequences generated alignments that eliminated too many bases, a list is provided in pear_merged-fullCyc2_lib3.assembled.dmult_maxee1_noN.unique.flip.accnos. If the reverse compliment proved to be better it was reported.\r\n",
      "It took 1981 secs to align 3020406 sequences.\r\n",
      "\r\n",
      "\r\n",
      "Output File Names: \r\n",
      "pear_merged-fullCyc2_lib3.assembled.dmult_maxee1_noN.unique.align\r\n",
      "pear_merged-fullCyc2_lib3.assembled.dmult_maxee1_noN.unique.align.report\r\n",
      "pear_merged-fullCyc2_lib3.assembled.dmult_maxee1_noN.unique.flip.accnos\r\n",
      "\r\n",
      "\r\n",
      "mothur > quit()\r\n",
      "\r\n",
      "\r\n",
      "<<<<<<<<<<<<<<<<<<<<<<<<<<<<<<^>>>>>>>>>>>>>>>>>>>>>>>>>>>>>\r\n",
      "<<<<<<<<<<<<<<<<<<<<<<<<<<<<<<^>>>>>>>>>>>>>>>>>>>>>>>>>>>>>\r\n",
      "<<<<<<<<<<<<<<<<<<<<<<<<<<<<<<^>>>>>>>>>>>>>>>>>>>>>>>>>>>>>\r\n",
      "Detected 1 [WARNING] messages, please review.\r\n",
      "<<<<<<<<<<<<<<<<<<<<<<<<<<<<<<^>>>>>>>>>>>>>>>>>>>>>>>>>>>>>\r\n",
      "<<<<<<<<<<<<<<<<<<<<<<<<<<<<<<^>>>>>>>>>>>>>>>>>>>>>>>>>>>>>\r\n",
      "<<<<<<<<<<<<<<<<<<<<<<<<<<<<<<^>>>>>>>>>>>>>>>>>>>>>>>>>>>>>\r\n"
     ]
    }
   ],
   "source": [
    "# aligning sequences\n",
    "qcFile3a = re.sub('-', '\\-', qcFile3)\n",
    "cmd = 'mothur \"#align.seqs(candidate={}, template={}, processors={}, flip=T)\"'.format(qcFile3a, silvaFileFilt, nprocs)\n",
    "!$cmd | tail -n 30"
   ]
  },
  {
   "cell_type": "code",
   "execution_count": 20,
   "metadata": {
    "collapsed": false
   },
   "outputs": [
    {
     "name": "stdout",
     "output_type": "stream",
     "text": [
      "-rw-rw-r-- 1 sam sam 29G May 15 15:08 pear_merged-fullCyc2_lib3.assembled.dmult_maxee1_noN.unique.align\r\n"
     ]
    }
   ],
   "source": [
    "qcFile4 = os.path.splitext(qcFile3)[0] + '.align'\n",
    "!ls -thlc $qcFile4 "
   ]
  },
  {
   "cell_type": "code",
   "execution_count": 21,
   "metadata": {
    "collapsed": false
   },
   "outputs": [
    {
     "name": "stdout",
     "output_type": "stream",
     "text": [
      "300600\r\n",
      "300700\r\n",
      "300800\r\n",
      "300900\r\n",
      "301000\r\n",
      "301100\r\n",
      "301200\r\n",
      "301300\r\n",
      "301400\r\n",
      "301500\r\n",
      "301600\r\n",
      "301700\r\n",
      "301800\r\n",
      "301900\r\n",
      "302000\r\n",
      "302072\r\n",
      "\r\n",
      "\r\n",
      "\r\n",
      "Length of filtered alignment: 1401\r\n",
      "Number of columns removed: 8779\r\n",
      "Length of the original alignment: 10180\r\n",
      "Number of sequences used to construct filter: 3020406\r\n",
      "\r\n",
      "Output File Names: \r\n",
      "pear_merged-fullCyc2_lib3.filter\r\n",
      "pear_merged-fullCyc2_lib3.assembled.dmult_maxee1_noN.unique.filter.fasta\r\n",
      "\r\n",
      "\r\n",
      "mothur > quit()\r\n"
     ]
    }
   ],
   "source": [
    "# filtering out gap positions in the alignment\n",
    "qcFile4a = re.sub('-', '\\-', qcFile4)\n",
    "cmd = 'mothur \"#filter.seqs(vertical=t, fasta={}, processors={})\"'.format(qcFile4a, nprocs)\n",
    "!$cmd | tail -n 30"
   ]
  },
  {
   "cell_type": "code",
   "execution_count": 22,
   "metadata": {
    "collapsed": false
   },
   "outputs": [
    {
     "name": "stdout",
     "output_type": "stream",
     "text": [
      "-rw-rw-r-- 1 sam sam 4.1G May 15 15:10 pear_merged-fullCyc2_lib3.assembled.dmult_maxee1_noN.unique.filter.fasta\r\n"
     ]
    }
   ],
   "source": [
    "qcFile5 = os.path.splitext(qcFile3)[0] + '.filter.fasta'\n",
    "!ls -thlc $qcFile5"
   ]
  },
  {
   "cell_type": "code",
   "execution_count": 23,
   "metadata": {
    "collapsed": false
   },
   "outputs": [
    {
     "name": "stdout",
     "output_type": "stream",
     "text": [
      "Using 10 processors.\r\n",
      "\r\n",
      "\t\tStart\tEnd\tNBases\tAmbigs\tPolymer\tNumSeqs\r\n",
      "Minimum:\t0\t0\t0\t0\t1\t1\r\n",
      "2.5%-tile:\t228\t1085\t253\t0\t4\t128056\r\n",
      "25%-tile:\t228\t1085\t253\t0\t4\t1280557\r\n",
      "Median: \t228\t1085\t253\t0\t5\t2561114\r\n",
      "75%-tile:\t228\t1085\t253\t0\t6\t3841670\r\n",
      "97.5%-tile:\t228\t1085\t254\t0\t8\t4994171\r\n",
      "Maximum:\t1401\t1401\t361\t0\t135\t5122226\r\n",
      "Mean:\t229.29\t1084.99\t252.687\t0\t5.09312\r\n",
      "# of unique seqs:\t3020406\r\n",
      "total # of seqs:\t5122226\r\n",
      "\r\n",
      "Output File Names: \r\n",
      "pear_merged-fullCyc2_lib3.assembled.dmult_maxee1_noN.unique.filter.summary\r\n",
      "\r\n",
      "It took 25 secs to summarize 5122226 sequences.\r\n",
      "\r\n",
      "mothur > quit()\r\n"
     ]
    }
   ],
   "source": [
    "cmd = 'mothur \"#summary.seqs(fasta={}, processors={}, name={})\"'.format(qcFile5, nprocs, nameFile)\n",
    "!$cmd | tail -n 20"
   ]
  },
  {
   "cell_type": "markdown",
   "metadata": {},
   "source": [
    "## Removing homopolymers (> 8) and screening out sequences that don't align to an amplicon region"
   ]
  },
  {
   "cell_type": "code",
   "execution_count": 24,
   "metadata": {
    "collapsed": false
   },
   "outputs": [
    {
     "name": "stdout",
     "output_type": "stream",
     "text": [
      "Processing sequence: 300500\r\n",
      "Processing sequence: 300600\r\n",
      "Processing sequence: 300700\r\n",
      "Processing sequence: 300800\r\n",
      "Processing sequence: 300900\r\n",
      "Processing sequence: 301000\r\n",
      "Processing sequence: 301100\r\n",
      "Processing sequence: 301200\r\n",
      "Processing sequence: 301300\r\n",
      "Processing sequence: 301400\r\n",
      "Processing sequence: 301500\r\n",
      "Processing sequence: 301600\r\n",
      "Processing sequence: 301700\r\n",
      "Processing sequence: 301800\r\n",
      "Processing sequence: 301900\r\n",
      "Processing sequence: 302000\r\n",
      "Processing sequence: 302100\r\n",
      "Processing sequence: 302200\r\n",
      "Processing sequence: 302258\r\n",
      "\r\n",
      "Output File Names: \r\n",
      "pear_merged-fullCyc2_lib3.assembled.dmult_maxee1_noN.unique.filter.good.fasta\r\n",
      "pear_merged-fullCyc2_lib3.assembled.dmult_maxee1_noN.unique.filter.bad.accnos\r\n",
      "pear_merged-fullCyc2_lib3.assembled.dmult_maxee1_noN.good.names\r\n",
      "group_file.good.txt\r\n",
      "\r\n",
      "\r\n",
      "It took 48 secs to screen 3020406 sequences.\r\n",
      "\r\n",
      "mothur > quit()\r\n"
     ]
    }
   ],
   "source": [
    "cmd = \"\"\"mothur '#screen.seqs(fasta={},\\\n",
    "    processors={},\\\n",
    "    name={},\\\n",
    "    group={},\\\n",
    "    start={},\\\n",
    "    end={},\\\n",
    "    maxhomop=8)'\"\"\".format(qcFile5, nprocs, nameFile, 'group_file.txt', 228, 1085)\n",
    "!$cmd | tail -n 30"
   ]
  },
  {
   "cell_type": "code",
   "execution_count": 25,
   "metadata": {
    "collapsed": false
   },
   "outputs": [
    {
     "name": "stdout",
     "output_type": "stream",
     "text": [
      "Number of sequences post-filter: 2950125\n"
     ]
    }
   ],
   "source": [
    "qcFile6 = os.path.splitext(qcFile5)[0] + '.good.fasta'\n",
    "ret = !grep -c \">\" $qcFile6\n",
    "print ('Number of sequences post-filter: {}'.format(ret[0]))"
   ]
  },
  {
   "cell_type": "code",
   "execution_count": 26,
   "metadata": {
    "collapsed": false
   },
   "outputs": [
    {
     "name": "stdout",
     "output_type": "stream",
     "text": [
      "294800\r\n",
      "294900\r\n",
      "295000\r\n",
      "295100\r\n",
      "295200\r\n",
      "295225\r\n",
      "\r\n",
      "\r\n",
      "\r\n",
      "Length of filtered alignment: 951\r\n",
      "Number of columns removed: 450\r\n",
      "Length of the original alignment: 1401\r\n",
      "Number of sequences used to construct filter: 2950125\r\n",
      "\r\n",
      "Output File Names: \r\n",
      "pear_merged-fullCyc2_lib3.filter\r\n",
      "pear_merged-fullCyc2_lib3.assembled.dmult_maxee1_noN.unique.filter.good.filter.fasta\r\n",
      "\r\n",
      "\r\n",
      "mothur > quit()\r\n"
     ]
    }
   ],
   "source": [
    "qcFile6a = re.sub('-', '\\-', qcFile6)\n",
    "cmd = 'mothur \"#filter.seqs(fasta={}, processors={}, vertical=T)\"'.format(qcFile6a, nprocs)\n",
    "!$cmd | tail -n 20"
   ]
  },
  {
   "cell_type": "code",
   "execution_count": 27,
   "metadata": {
    "collapsed": false
   },
   "outputs": [
    {
     "name": "stdout",
     "output_type": "stream",
     "text": [
      "-rw-rw-r-- 1 sam sam 2.8G May 15 15:13 pear_merged-fullCyc2_lib3.assembled.dmult_maxee1_noN.unique.filter.good.filter.fasta\r\n"
     ]
    }
   ],
   "source": [
    "qcFile7 = os.path.splitext(qcFile6)[0] + '.filter.fasta'\n",
    "!ls -thlc $qcFile7"
   ]
  },
  {
   "cell_type": "markdown",
   "metadata": {},
   "source": [
    "## Deunique seqs"
   ]
  },
  {
   "cell_type": "code",
   "execution_count": 28,
   "metadata": {
    "collapsed": false
   },
   "outputs": [
    {
     "name": "stdout",
     "output_type": "stream",
     "text": [
      "mothur v.1.39.5\r\n",
      "Last updated: 3/20/2017\r\n",
      "\r\n",
      "by\r\n",
      "Patrick D. Schloss\r\n",
      "\r\n",
      "Department of Microbiology & Immunology\r\n",
      "University of Michigan\r\n",
      "http://www.mothur.org\r\n",
      "\r\n",
      "When using, please cite:\r\n",
      "Schloss, P.D., et al., Introducing mothur: Open-source, platform-independent, community-supported software for describing and comparing microbial communities. Appl Environ Microbiol, 2009. 75(23):7537-41.\r\n",
      "\r\n",
      "Distributed under the GNU General Public License\r\n",
      "\r\n",
      "Type 'help()' for information on the commands that are available\r\n",
      "\r\n",
      "For questions and analysis support, please visit our forum at https://www.mothur.org/forum\r\n",
      "\r\n",
      "Type 'quit()' to exit program\r\n",
      "\r\n",
      "\r\n",
      "\r\n",
      "mothur > deunique.seqs(fasta=pear_merged-fullCyc2_lib3.assembled.dmult_maxee1_noN.unique.filter.good.filter.fasta, name=pear_merged-fullCyc2_lib3.assembled.dmult_maxee1_noN.names)\r\n",
      "\r\n",
      "Output File Names: \r\n",
      "pear_merged-fullCyc2_lib3.assembled.dmult_maxee1_noN.unique.filter.good.filter.redundant.fasta\r\n",
      "\r\n",
      "\r\n",
      "mothur > quit()\r\n"
     ]
    }
   ],
   "source": [
    "cmd = 'mothur \"#deunique.seqs(fasta={}, name={})\"'.format(qcFile7, nameFile)\n",
    "!$cmd | tail -n 30"
   ]
  },
  {
   "cell_type": "markdown",
   "metadata": {},
   "source": [
    "### Final QC-ed file"
   ]
  },
  {
   "cell_type": "code",
   "execution_count": 29,
   "metadata": {
    "collapsed": true
   },
   "outputs": [],
   "source": [
    "qcFile8 = os.path.splitext(qcFile7)[0] + '.redundant.fasta'\n",
    "qcFinal = 'finalQC.fasta'\n",
    "!perl -pe 's/[-.]//g if ! /^>/' $qcFile8 > $qcFinal"
   ]
  },
  {
   "cell_type": "code",
   "execution_count": 30,
   "metadata": {
    "collapsed": false
   },
   "outputs": [
    {
     "name": "stdout",
     "output_type": "stream",
     "text": [
      "\r\n",
      "Using 10 processors.\r\n",
      "\r\n",
      "\t\tStart\tEnd\tNBases\tAmbigs\tPolymer\tNumSeqs\r\n",
      "Minimum:\t1\t218\t218\t0\t3\t1\r\n",
      "2.5%-tile:\t1\t253\t253\t0\t4\t125442\r\n",
      "25%-tile:\t1\t253\t253\t0\t4\t1254411\r\n",
      "Median: \t1\t253\t253\t0\t5\t2508821\r\n",
      "75%-tile:\t1\t253\t253\t0\t6\t3763231\r\n",
      "97.5%-tile:\t1\t254\t254\t0\t8\t4892200\r\n",
      "Maximum:\t1\t340\t340\t0\t8\t5017640\r\n",
      "Mean:\t1\t253.057\t253.057\t0\t5.07327\r\n",
      "# of Seqs:\t5017640\r\n",
      "\r\n",
      "Output File Names: \r\n",
      "finalQC.summary\r\n",
      "\r\n",
      "It took 7 secs to summarize 5017640 sequences.\r\n",
      "\r\n",
      "mothur > quit()\r\n"
     ]
    }
   ],
   "source": [
    "cmd = 'mothur \"#summary.seqs(fasta={}, processors={})\"'.format(qcFinal, nprocs)\n",
    "!$cmd | tail -n 20"
   ]
  },
  {
   "cell_type": "code",
   "execution_count": 31,
   "metadata": {
    "collapsed": false
   },
   "outputs": [
    {
     "name": "stdout",
     "output_type": "stream",
     "text": [
      ">MR.M.13C-Ami.D6.R1_Frac17_0\r\n",
      "TACGGAGGGGGCTAGCGTTGTTCGGAATTACTGGGCGTAAAGCGCGCGGAGGCGGCGTTGCAAGTTAGAGGGGAAAGCCCGGGGCTTAACTCCGGAACTGCCTTTAAAACTGCATCGCTAGAGTTCGGGAGAGGAGAGTGGAATTCCCGGTGTAGAGGTGAAATTCGGAGATATTGGGAAGAACACCGGGGGCGAAGGCGGCGCACTGGACCGAAACTGACGCTGAGGCGCGAAAGCGAGGGGAGCAAACAGG\r\n",
      ">MR.A.12C-Con.D30.R3_Frac18_2\r\n",
      "TACGGAGGGGGCTAGCGTTGTTCGGAATTACTGGGCGTAAAGCGCACGTAGGCGGCTTTGTAAGTTAGAGGGGAAAGCCTGGCGCTCAACCCCGGTACTGCCTTTAAGACTGCCTCGCTTGAATCATGGAGAGGCGGGTGGAATTCCGGGTGTAGAGGTGAAAGTCGTAGATATTCGGAAGAACACCAGGGGCGAAGGCGGCTCACGGGACCGATGTTGACGCTGAGGTGCGAAAGCGAGGGGAGCAAACAGG\r\n",
      ">MR.F.13C-Xyl.D6.R1_Frac28_7\r\n",
      "TACGTAGGGGGCAAGCGTTGTCCGGATTTATTGGGCGTAAAGAGCGCGTAGGCGGTTTGGTACGTCCGATGGGAAAACCCCAGGCTCAACCGCGGGACGTCAATGGAAACCATCTGGCTAGAGTCCGGAAGAGGAGAGTGGAATTCCTGGTGTAGCGGTGAAATGCGCAGAGATCAGGAAGAACACCCGTGGCGAAGGCGGCTCGCTGGTACGGTACTGACGCTGAGGCGCGAAAGCGAGGGGAGCGAACAGG\r\n"
     ]
    }
   ],
   "source": [
    "!head -n 6 $qcFinal"
   ]
  },
  {
   "cell_type": "markdown",
   "metadata": {},
   "source": [
    "## Summary of number of seqs per sample"
   ]
  },
  {
   "cell_type": "code",
   "execution_count": 32,
   "metadata": {
    "collapsed": true
   },
   "outputs": [],
   "source": [
    "re1 = re.compile('_[0-9]+$')\n",
    "\n",
    "qcFinalSum = os.path.splitext(qcFinal)[0] + '.summary'\n",
    "\n",
    "samp_count = dict()\n",
    "with open(qcFinalSum, 'r') as inFH:\n",
    "    for line in inFH:\n",
    "        if line.startswith('seqname'):\n",
    "            continue\n",
    "        line = line.rstrip().split('\\t')\n",
    "        line[0] = re.sub(re1, '', line[0])\n",
    "        try:\n",
    "            samp_count[line[0]] += 1\n",
    "        except KeyError:\n",
    "            samp_count[line[0]] = 1"
   ]
  },
  {
   "cell_type": "code",
   "execution_count": 33,
   "metadata": {
    "collapsed": false
   },
   "outputs": [
    {
     "data": {
      "text/html": [
       "<div>\n",
       "<style scoped>\n",
       "    .dataframe tbody tr th:only-of-type {\n",
       "        vertical-align: middle;\n",
       "    }\n",
       "\n",
       "    .dataframe tbody tr th {\n",
       "        vertical-align: top;\n",
       "    }\n",
       "\n",
       "    .dataframe thead th {\n",
       "        text-align: right;\n",
       "    }\n",
       "</style>\n",
       "<table border=\"1\" class=\"dataframe\">\n",
       "  <thead>\n",
       "    <tr style=\"text-align: right;\">\n",
       "      <th></th>\n",
       "      <th>Sample</th>\n",
       "      <th>seq_count</th>\n",
       "    </tr>\n",
       "  </thead>\n",
       "  <tbody>\n",
       "    <tr>\n",
       "      <th>0</th>\n",
       "      <td>MR.M.13C-Ami.D6.R1_Frac17</td>\n",
       "      <td>56344</td>\n",
       "    </tr>\n",
       "    <tr>\n",
       "      <th>1</th>\n",
       "      <td>MR.A.12C-Con.D30.R3_Frac18</td>\n",
       "      <td>16211</td>\n",
       "    </tr>\n",
       "    <tr>\n",
       "      <th>2</th>\n",
       "      <td>MR.F.13C-Xyl.D6.R1_Frac28</td>\n",
       "      <td>34524</td>\n",
       "    </tr>\n",
       "    <tr>\n",
       "      <th>3</th>\n",
       "      <td>MR.M.13C-Ami.D6.R1_Frac10</td>\n",
       "      <td>27677</td>\n",
       "    </tr>\n",
       "    <tr>\n",
       "      <th>4</th>\n",
       "      <td>MR.F.13C-Xyl.D6.R1_Frac20</td>\n",
       "      <td>23794</td>\n",
       "    </tr>\n",
       "    <tr>\n",
       "      <th>5</th>\n",
       "      <td>MR.A.12C-Con.D30.R3_Frac5</td>\n",
       "      <td>27847</td>\n",
       "    </tr>\n",
       "    <tr>\n",
       "      <th>6</th>\n",
       "      <td>MR.F.13C-Cel.D14.R2_Frac15</td>\n",
       "      <td>25767</td>\n",
       "    </tr>\n",
       "    <tr>\n",
       "      <th>7</th>\n",
       "      <td>MR.M.12C-Con.D6.R2_Frac18</td>\n",
       "      <td>62316</td>\n",
       "    </tr>\n",
       "    <tr>\n",
       "      <th>8</th>\n",
       "      <td>MR.F.13C-Xyl.D6.R1_Frac18</td>\n",
       "      <td>18752</td>\n",
       "    </tr>\n",
       "    <tr>\n",
       "      <th>9</th>\n",
       "      <td>MR.M.13C-Ami.D6.R1_Frac23</td>\n",
       "      <td>26486</td>\n",
       "    </tr>\n",
       "    <tr>\n",
       "      <th>10</th>\n",
       "      <td>MR.F.13C-Xyl.D3.R1_Frac22</td>\n",
       "      <td>13931</td>\n",
       "    </tr>\n",
       "    <tr>\n",
       "      <th>11</th>\n",
       "      <td>MR.F.13C-Xyl.D6.R1_Frac17</td>\n",
       "      <td>25417</td>\n",
       "    </tr>\n",
       "    <tr>\n",
       "      <th>12</th>\n",
       "      <td>MR.M.13C-Ami.D6.R1_Frac16</td>\n",
       "      <td>47140</td>\n",
       "    </tr>\n",
       "    <tr>\n",
       "      <th>13</th>\n",
       "      <td>MR.F.13C-Xyl.D3.R1_Frac7</td>\n",
       "      <td>39190</td>\n",
       "    </tr>\n",
       "    <tr>\n",
       "      <th>14</th>\n",
       "      <td>MR.F.12C-Con.D14.R1_Frac18</td>\n",
       "      <td>93078</td>\n",
       "    </tr>\n",
       "    <tr>\n",
       "      <th>15</th>\n",
       "      <td>MR.M.12C-Con.D6.R2_Frac23</td>\n",
       "      <td>15788</td>\n",
       "    </tr>\n",
       "    <tr>\n",
       "      <th>16</th>\n",
       "      <td>MR.M.12C-Con.D6.R2_Frac8</td>\n",
       "      <td>36658</td>\n",
       "    </tr>\n",
       "    <tr>\n",
       "      <th>17</th>\n",
       "      <td>MR.F.13C-Xyl.D6.R1_Frac9</td>\n",
       "      <td>24880</td>\n",
       "    </tr>\n",
       "    <tr>\n",
       "      <th>18</th>\n",
       "      <td>MR.M.13C-Ami.D6.R1_Frac21</td>\n",
       "      <td>19476</td>\n",
       "    </tr>\n",
       "    <tr>\n",
       "      <th>19</th>\n",
       "      <td>MR.F.13C-Xyl.D6.R1_Frac11</td>\n",
       "      <td>24727</td>\n",
       "    </tr>\n",
       "    <tr>\n",
       "      <th>20</th>\n",
       "      <td>MR.F.13C-Xyl.D3.R1_Frac18</td>\n",
       "      <td>32149</td>\n",
       "    </tr>\n",
       "    <tr>\n",
       "      <th>21</th>\n",
       "      <td>MR.A.12C-Con.D30.R3_Frac9</td>\n",
       "      <td>51811</td>\n",
       "    </tr>\n",
       "    <tr>\n",
       "      <th>22</th>\n",
       "      <td>MR.A.12C-Con.D30.R3_Frac12</td>\n",
       "      <td>19903</td>\n",
       "    </tr>\n",
       "    <tr>\n",
       "      <th>23</th>\n",
       "      <td>MR.M.12C-Con.D6.R2_Frac20</td>\n",
       "      <td>17307</td>\n",
       "    </tr>\n",
       "    <tr>\n",
       "      <th>24</th>\n",
       "      <td>MR.F.13C-Xyl.D3.R1_Frac17</td>\n",
       "      <td>53042</td>\n",
       "    </tr>\n",
       "    <tr>\n",
       "      <th>25</th>\n",
       "      <td>MR.A.13C-Cel.D14.R1_Frac11</td>\n",
       "      <td>19232</td>\n",
       "    </tr>\n",
       "    <tr>\n",
       "      <th>26</th>\n",
       "      <td>MR.M.13C-Ami.D6.R1_Frac19</td>\n",
       "      <td>38949</td>\n",
       "    </tr>\n",
       "    <tr>\n",
       "      <th>27</th>\n",
       "      <td>MR.A.13C-Cel.D14.R1_Frac26</td>\n",
       "      <td>15911</td>\n",
       "    </tr>\n",
       "    <tr>\n",
       "      <th>28</th>\n",
       "      <td>MR.A.13C-Cel.D14.R1_Frac18</td>\n",
       "      <td>24176</td>\n",
       "    </tr>\n",
       "    <tr>\n",
       "      <th>29</th>\n",
       "      <td>MR.A.12C-Con.D30.R3_Frac6</td>\n",
       "      <td>27736</td>\n",
       "    </tr>\n",
       "    <tr>\n",
       "      <th>...</th>\n",
       "      <td>...</td>\n",
       "      <td>...</td>\n",
       "    </tr>\n",
       "    <tr>\n",
       "      <th>151</th>\n",
       "      <td>MR.M.12C-Con.D6.R2_Frac15</td>\n",
       "      <td>15791</td>\n",
       "    </tr>\n",
       "    <tr>\n",
       "      <th>152</th>\n",
       "      <td>MR.M.12C-Con.D6.R2_NC</td>\n",
       "      <td>665</td>\n",
       "    </tr>\n",
       "    <tr>\n",
       "      <th>153</th>\n",
       "      <td>MR.A.12C-Con.D30.R3_Frac28</td>\n",
       "      <td>13894</td>\n",
       "    </tr>\n",
       "    <tr>\n",
       "      <th>154</th>\n",
       "      <td>MR.A.13C-Pal.D30.R3_Frac24</td>\n",
       "      <td>42538</td>\n",
       "    </tr>\n",
       "    <tr>\n",
       "      <th>155</th>\n",
       "      <td>MR.A.13C-Pal.D30.R3_Frac28</td>\n",
       "      <td>32003</td>\n",
       "    </tr>\n",
       "    <tr>\n",
       "      <th>156</th>\n",
       "      <td>MR.A.12C-Con.D30.R3_Frac21</td>\n",
       "      <td>25946</td>\n",
       "    </tr>\n",
       "    <tr>\n",
       "      <th>157</th>\n",
       "      <td>MR.A.13C-Pal.D30.R3_Frac20</td>\n",
       "      <td>26714</td>\n",
       "    </tr>\n",
       "    <tr>\n",
       "      <th>158</th>\n",
       "      <td>MR.A.13C-Cel.D14.R1_Frac23</td>\n",
       "      <td>24963</td>\n",
       "    </tr>\n",
       "    <tr>\n",
       "      <th>159</th>\n",
       "      <td>MR.M.13C-Ami.D6.R1_Frac24</td>\n",
       "      <td>14723</td>\n",
       "    </tr>\n",
       "    <tr>\n",
       "      <th>160</th>\n",
       "      <td>MR.A.13C-Cel.D14.R1_Frac21</td>\n",
       "      <td>16562</td>\n",
       "    </tr>\n",
       "    <tr>\n",
       "      <th>161</th>\n",
       "      <td>MR.A.12C-Con.D30.R3_Frac7</td>\n",
       "      <td>32110</td>\n",
       "    </tr>\n",
       "    <tr>\n",
       "      <th>162</th>\n",
       "      <td>MR.M.12C-Con.D6.R2_Frac24</td>\n",
       "      <td>23522</td>\n",
       "    </tr>\n",
       "    <tr>\n",
       "      <th>163</th>\n",
       "      <td>MR.A.12C-Con.D30.R3_Frac22</td>\n",
       "      <td>24899</td>\n",
       "    </tr>\n",
       "    <tr>\n",
       "      <th>164</th>\n",
       "      <td>MR.A.13C-Pal.D30.R3_NC</td>\n",
       "      <td>1011</td>\n",
       "    </tr>\n",
       "    <tr>\n",
       "      <th>165</th>\n",
       "      <td>MR.A.13C-Pal.D30.R3_Frac23</td>\n",
       "      <td>20328</td>\n",
       "    </tr>\n",
       "    <tr>\n",
       "      <th>166</th>\n",
       "      <td>MR.A.12C-Con.D30.R3_Frac26</td>\n",
       "      <td>12777</td>\n",
       "    </tr>\n",
       "    <tr>\n",
       "      <th>167</th>\n",
       "      <td>MR.A.13C-Pal.D30.R3_Frac19</td>\n",
       "      <td>20221</td>\n",
       "    </tr>\n",
       "    <tr>\n",
       "      <th>168</th>\n",
       "      <td>MR.M.12C-Con.D6.R2_Frac11</td>\n",
       "      <td>17253</td>\n",
       "    </tr>\n",
       "    <tr>\n",
       "      <th>169</th>\n",
       "      <td>MR.M.12C-Con.D6.R2_Frac25</td>\n",
       "      <td>22117</td>\n",
       "    </tr>\n",
       "    <tr>\n",
       "      <th>170</th>\n",
       "      <td>MR.M.12C-Con.D6.R2_Frac16</td>\n",
       "      <td>27997</td>\n",
       "    </tr>\n",
       "    <tr>\n",
       "      <th>171</th>\n",
       "      <td>MR.A.13C-Cel.D14.R1_Frac19</td>\n",
       "      <td>20798</td>\n",
       "    </tr>\n",
       "    <tr>\n",
       "      <th>172</th>\n",
       "      <td>MR.A.13C-Cel.D14.R1_Frac27</td>\n",
       "      <td>12373</td>\n",
       "    </tr>\n",
       "    <tr>\n",
       "      <th>173</th>\n",
       "      <td>MR.M.12C-Con.D6.R2_Frac27</td>\n",
       "      <td>27395</td>\n",
       "    </tr>\n",
       "    <tr>\n",
       "      <th>174</th>\n",
       "      <td>MR.M.13C-Ami.D6.R1_NC</td>\n",
       "      <td>1131</td>\n",
       "    </tr>\n",
       "    <tr>\n",
       "      <th>175</th>\n",
       "      <td>MR.M.13C-Ami.D6.R1_Frac22</td>\n",
       "      <td>14024</td>\n",
       "    </tr>\n",
       "    <tr>\n",
       "      <th>176</th>\n",
       "      <td>MR.A.12C-Con.D30.R3_MC</td>\n",
       "      <td>15298</td>\n",
       "    </tr>\n",
       "    <tr>\n",
       "      <th>177</th>\n",
       "      <td>MR.A.13C-Cel.D14.R1_NC</td>\n",
       "      <td>593</td>\n",
       "    </tr>\n",
       "    <tr>\n",
       "      <th>178</th>\n",
       "      <td>MR.F.13C-Xyl.D6.R1_NC</td>\n",
       "      <td>1044</td>\n",
       "    </tr>\n",
       "    <tr>\n",
       "      <th>179</th>\n",
       "      <td>MR.F.13C-Xyl.D3.R1_NC</td>\n",
       "      <td>627</td>\n",
       "    </tr>\n",
       "    <tr>\n",
       "      <th>180</th>\n",
       "      <td>MR.A.12C-Con.D30.R3_NC</td>\n",
       "      <td>818</td>\n",
       "    </tr>\n",
       "  </tbody>\n",
       "</table>\n",
       "<p>181 rows × 2 columns</p>\n",
       "</div>"
      ],
      "text/plain": [
       "                         Sample  seq_count\n",
       "0     MR.M.13C-Ami.D6.R1_Frac17      56344\n",
       "1    MR.A.12C-Con.D30.R3_Frac18      16211\n",
       "2     MR.F.13C-Xyl.D6.R1_Frac28      34524\n",
       "3     MR.M.13C-Ami.D6.R1_Frac10      27677\n",
       "4     MR.F.13C-Xyl.D6.R1_Frac20      23794\n",
       "5     MR.A.12C-Con.D30.R3_Frac5      27847\n",
       "6    MR.F.13C-Cel.D14.R2_Frac15      25767\n",
       "7     MR.M.12C-Con.D6.R2_Frac18      62316\n",
       "8     MR.F.13C-Xyl.D6.R1_Frac18      18752\n",
       "9     MR.M.13C-Ami.D6.R1_Frac23      26486\n",
       "10    MR.F.13C-Xyl.D3.R1_Frac22      13931\n",
       "11    MR.F.13C-Xyl.D6.R1_Frac17      25417\n",
       "12    MR.M.13C-Ami.D6.R1_Frac16      47140\n",
       "13     MR.F.13C-Xyl.D3.R1_Frac7      39190\n",
       "14   MR.F.12C-Con.D14.R1_Frac18      93078\n",
       "15    MR.M.12C-Con.D6.R2_Frac23      15788\n",
       "16     MR.M.12C-Con.D6.R2_Frac8      36658\n",
       "17     MR.F.13C-Xyl.D6.R1_Frac9      24880\n",
       "18    MR.M.13C-Ami.D6.R1_Frac21      19476\n",
       "19    MR.F.13C-Xyl.D6.R1_Frac11      24727\n",
       "20    MR.F.13C-Xyl.D3.R1_Frac18      32149\n",
       "21    MR.A.12C-Con.D30.R3_Frac9      51811\n",
       "22   MR.A.12C-Con.D30.R3_Frac12      19903\n",
       "23    MR.M.12C-Con.D6.R2_Frac20      17307\n",
       "24    MR.F.13C-Xyl.D3.R1_Frac17      53042\n",
       "25   MR.A.13C-Cel.D14.R1_Frac11      19232\n",
       "26    MR.M.13C-Ami.D6.R1_Frac19      38949\n",
       "27   MR.A.13C-Cel.D14.R1_Frac26      15911\n",
       "28   MR.A.13C-Cel.D14.R1_Frac18      24176\n",
       "29    MR.A.12C-Con.D30.R3_Frac6      27736\n",
       "..                          ...        ...\n",
       "151   MR.M.12C-Con.D6.R2_Frac15      15791\n",
       "152       MR.M.12C-Con.D6.R2_NC        665\n",
       "153  MR.A.12C-Con.D30.R3_Frac28      13894\n",
       "154  MR.A.13C-Pal.D30.R3_Frac24      42538\n",
       "155  MR.A.13C-Pal.D30.R3_Frac28      32003\n",
       "156  MR.A.12C-Con.D30.R3_Frac21      25946\n",
       "157  MR.A.13C-Pal.D30.R3_Frac20      26714\n",
       "158  MR.A.13C-Cel.D14.R1_Frac23      24963\n",
       "159   MR.M.13C-Ami.D6.R1_Frac24      14723\n",
       "160  MR.A.13C-Cel.D14.R1_Frac21      16562\n",
       "161   MR.A.12C-Con.D30.R3_Frac7      32110\n",
       "162   MR.M.12C-Con.D6.R2_Frac24      23522\n",
       "163  MR.A.12C-Con.D30.R3_Frac22      24899\n",
       "164      MR.A.13C-Pal.D30.R3_NC       1011\n",
       "165  MR.A.13C-Pal.D30.R3_Frac23      20328\n",
       "166  MR.A.12C-Con.D30.R3_Frac26      12777\n",
       "167  MR.A.13C-Pal.D30.R3_Frac19      20221\n",
       "168   MR.M.12C-Con.D6.R2_Frac11      17253\n",
       "169   MR.M.12C-Con.D6.R2_Frac25      22117\n",
       "170   MR.M.12C-Con.D6.R2_Frac16      27997\n",
       "171  MR.A.13C-Cel.D14.R1_Frac19      20798\n",
       "172  MR.A.13C-Cel.D14.R1_Frac27      12373\n",
       "173   MR.M.12C-Con.D6.R2_Frac27      27395\n",
       "174       MR.M.13C-Ami.D6.R1_NC       1131\n",
       "175   MR.M.13C-Ami.D6.R1_Frac22      14024\n",
       "176      MR.A.12C-Con.D30.R3_MC      15298\n",
       "177      MR.A.13C-Cel.D14.R1_NC        593\n",
       "178       MR.F.13C-Xyl.D6.R1_NC       1044\n",
       "179       MR.F.13C-Xyl.D3.R1_NC        627\n",
       "180      MR.A.12C-Con.D30.R3_NC        818\n",
       "\n",
       "[181 rows x 2 columns]"
      ]
     },
     "execution_count": 33,
     "metadata": {},
     "output_type": "execute_result"
    }
   ],
   "source": [
    "# converting to dataframe\n",
    "df_seq_cnt = pd.DataFrame.from_dict(samp_count, orient='index')\n",
    "df_seq_cnt.index.name = 'Sample'\n",
    "df_seq_cnt.reset_index(inplace=True)\n",
    "df_seq_cnt.columns = ['Sample', 'seq_count']\n",
    "df_seq_cnt"
   ]
  },
  {
   "cell_type": "code",
   "execution_count": 34,
   "metadata": {
    "collapsed": false
   },
   "outputs": [
    {
     "data": {
      "image/png": "[encoded data removed]"
     },
     "metadata": {},
     "output_type": "display_data"
    }
   ],
   "source": [
    "%%R -i df_seq_cnt -w 800 -h 350\n",
    "# plotting all\n",
    "\n",
    "df_seq_cnt$seq_count = as.numeric(df_seq_cnt$seq_count)\n",
    "\n",
    "\n",
    "df_seq_cnt = df_seq_cnt %>% \n",
    "    #mutate(H2O = grepl('_F0$', Sample)) %>%\n",
    "    mutate(rank = min_rank(seq_count)) %>%\n",
    "    arrange(desc(rank))\n",
    "\n",
    "df_seq_cnt$Sample = factor(df_seq_cnt$Sample, levels=df_seq_cnt$Sample)\n",
    "\n",
    "ggplot(df_seq_cnt, aes(Sample, seq_count)) +\n",
    "    geom_bar(stat='identity') +\n",
    "    theme_bw() +\n",
    "    theme(\n",
    "        text = element_text(size=16),\n",
    "        axis.text.x = element_text(angle=45, hjust=1)\n",
    "    )"
   ]
  },
  {
   "cell_type": "code",
   "execution_count": 35,
   "metadata": {
    "collapsed": false
   },
   "outputs": [
    {
     "data": {
      "text/plain": [
       "                       Sample seq_count rank\n",
       "174 MR.F.13C-Xyl.D3.R1_Frac10      5170    8\n",
       "175     MR.M.13C-Ami.D6.R1_NC      1131    7\n",
       "176     MR.F.13C-Xyl.D6.R1_NC      1044    6\n",
       "177    MR.A.13C-Pal.D30.R3_NC      1011    5\n",
       "178    MR.A.12C-Con.D30.R3_NC       818    4\n",
       "179     MR.M.12C-Con.D6.R2_NC       665    3\n",
       "180     MR.F.13C-Xyl.D3.R1_NC       627    2\n",
       "181    MR.A.13C-Cel.D14.R1_NC       593    1\n"
      ]
     },
     "metadata": {},
     "output_type": "display_data"
    }
   ],
   "source": [
    "%%R\n",
    "df_seq_cnt[df_seq_cnt$seq_count < 10000,]"
   ]
  },
  {
   "cell_type": "code",
   "execution_count": null,
   "metadata": {
    "collapsed": true
   },
   "outputs": [],
   "source": []
  },
  {
   "cell_type": "code",
   "execution_count": null,
   "metadata": {
    "collapsed": true
   },
   "outputs": [],
   "source": []
  }
 ],
 "metadata": {
  "anaconda-cloud": {},
  "hide_input": true,
  "kernelspec": {
   "display_name": "Python 3",
   "language": "python",
   "name": "python3"
  },
  "language_info": {
   "codemirror_mode": {
    "name": "ipython",
    "version": 3
   },
   "file_extension": ".py",
   "mimetype": "text/x-python",
   "name": "python",
   "nbconvert_exporter": "python",
   "pygments_lexer": "ipython3",
   "version": "3.6.4"
  },
  "notify_time": "5"
 },
 "nbformat": 4,
 "nbformat_minor": 1
}
