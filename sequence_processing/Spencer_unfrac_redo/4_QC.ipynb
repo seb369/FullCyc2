{
 "cells": [
  {
   "cell_type": "markdown",
   "metadata": {},
   "source": [
    "# Description\n",
    "\n",
    "* Quality control on MiSeq run data\n",
    "  * post-merging\n",
    "  * post-demultiplexing"
   ]
  },
  {
   "cell_type": "markdown",
   "metadata": {},
   "source": [
    "# Setting variables"
   ]
  },
  {
   "cell_type": "code",
   "execution_count": 1,
   "metadata": {
    "collapsed": true
   },
   "outputs": [],
   "source": [
    "import os\n",
    "\n",
    "baseDir = '/home/seq_data/fullCyc2/amplicon/515F-806R/final_dataset/library_QC/Spencer_unfrac_redo'\n",
    "workDir = os.path.join(baseDir, 'QC')\n",
    "seqFile = os.path.join(baseDir, 'pear_merged-Spencer_unfrac_redo.assembled.dmult.fastq')\n",
    "\n",
    "# number of processors\n",
    "nprocs = 20\n",
    "\n",
    "# max expected error\n",
    "maxee = 1"
   ]
  },
  {
   "cell_type": "markdown",
   "metadata": {},
   "source": [
    "# Init"
   ]
  },
  {
   "cell_type": "code",
   "execution_count": 2,
   "metadata": {
    "collapsed": true
   },
   "outputs": [],
   "source": [
    "import re\n",
    "import pandas as pd"
   ]
  },
  {
   "cell_type": "code",
   "execution_count": 3,
   "metadata": {
    "collapsed": false
   },
   "outputs": [],
   "source": [
    "%load_ext rpy2.ipython\n",
    "#%load_ext pushnote"
   ]
  },
  {
   "cell_type": "code",
   "execution_count": 4,
   "metadata": {
    "collapsed": false
   },
   "outputs": [
    {
     "name": "stderr",
     "output_type": "stream",
     "text": [
      "/home/sam/anaconda3/lib/python3.6/site-packages/rpy2/rinterface/__init__.py:145: RRuntimeWarning: \n",
      "Attaching package: ‘dplyr’\n",
      "\n",
      "\n",
      "  warnings.warn(x, RRuntimeWarning)\n",
      "/home/sam/anaconda3/lib/python3.6/site-packages/rpy2/rinterface/__init__.py:145: RRuntimeWarning: The following objects are masked from ‘package:stats’:\n",
      "\n",
      "    filter, lag\n",
      "\n",
      "\n",
      "  warnings.warn(x, RRuntimeWarning)\n",
      "/home/sam/anaconda3/lib/python3.6/site-packages/rpy2/rinterface/__init__.py:145: RRuntimeWarning: The following objects are masked from ‘package:base’:\n",
      "\n",
      "    intersect, setdiff, setequal, union\n",
      "\n",
      "\n",
      "  warnings.warn(x, RRuntimeWarning)\n",
      "/home/sam/anaconda3/lib/python3.6/site-packages/rpy2/rinterface/__init__.py:145: RRuntimeWarning: \n",
      "Attaching package: ‘gridExtra’\n",
      "\n",
      "\n",
      "  warnings.warn(x, RRuntimeWarning)\n",
      "/home/sam/anaconda3/lib/python3.6/site-packages/rpy2/rinterface/__init__.py:145: RRuntimeWarning: The following object is masked from ‘package:dplyr’:\n",
      "\n",
      "    combine\n",
      "\n",
      "\n",
      "  warnings.warn(x, RRuntimeWarning)\n"
     ]
    }
   ],
   "source": [
    "%%R\n",
    "library(ggplot2)\n",
    "library(dplyr)\n",
    "library(tidyr)\n",
    "library(gridExtra)"
   ]
  },
  {
   "cell_type": "code",
   "execution_count": 5,
   "metadata": {
    "collapsed": false
   },
   "outputs": [
    {
     "name": "stdout",
     "output_type": "stream",
     "text": [
      "/home/seq_data/fullCyc2/amplicon/515F-806R/final_dataset/library_QC/Spencer_unfrac_redo/QC\n"
     ]
    }
   ],
   "source": [
    "if not os.path.isdir(workDir):\n",
    "    os.makedirs(workDir)\n",
    "%cd $workDir"
   ]
  },
  {
   "cell_type": "code",
   "execution_count": 6,
   "metadata": {
    "collapsed": false
   },
   "outputs": [
    {
     "name": "stdout",
     "output_type": "stream",
     "text": [
      "File exists: /home/seq_data/fullCyc2/amplicon/515F-806R/final_dataset/library_QC/Spencer_unfrac_redo/pear_merged-Spencer_unfrac_redo.assembled.dmult.fastq\n"
     ]
    }
   ],
   "source": [
    "# symlinking demult seq file into CQ\n",
    "tmp = os.path.join(baseDir, seqFile)\n",
    "if not os.path.isfile(seqFile):\n",
    "    tmp2 = os.path.split(tmp)[1]\n",
    "    os.symlink(tmp, tmp2)\n",
    "else:\n",
    "    print ('File exists: {}'.format(os.path.join(workDir, seqFile)))"
   ]
  },
  {
   "cell_type": "markdown",
   "metadata": {},
   "source": [
    "# Merged read quality filtering"
   ]
  },
  {
   "cell_type": "markdown",
   "metadata": {},
   "source": [
    "## Discard sequences that exceed max expected error theshold"
   ]
  },
  {
   "cell_type": "code",
   "execution_count": 7,
   "metadata": {
    "collapsed": false
   },
   "outputs": [
    {
     "data": {
      "text/plain": [
       "'pear_merged-Spencer_unfrac_redo.assembled.dmult_maxee1.fasta'"
      ]
     },
     "execution_count": 7,
     "metadata": {},
     "output_type": "execute_result"
    }
   ],
   "source": [
    "qcFile = os.path.split(seqFile)[1]\n",
    "qcFile = os.path.splitext(qcFile)[0] + '_maxee{}.fasta'.format(maxee)\n",
    "qcFile"
   ]
  },
  {
   "cell_type": "code",
   "execution_count": 8,
   "metadata": {
    "collapsed": true
   },
   "outputs": [],
   "source": [
    "%%bash -s \"$seqFile\" \"$nprocs\" \"$maxee\" \"$qcFile\"\n",
    "\n",
    "mkdir /home/sam/tmp/tmpdir1\n",
    "trap \"rm -r /home/sam/tmp/tmpdir1\" 1 2 3 15\n",
    "split -d -l 2000000 $1 /home/sam/tmp/tmpdir1/Block\n",
    "\n",
    "mkdir /home/sam/tmp/tmpdir2\n",
    "trap \"rm -r /home/sam/tmp/tmpdir2\" 1 2 3 15\n",
    "ls /home/sam/tmp/tmpdir1/Block?? | parallel --gnu -j $2 -k \"usearch -fastq_filter {} -fastq_maxee $3 \\\n",
    "-fastaout /home/sam/tmp/tmpdir2/{#}.fasta >/dev/null 2>&1 && cat /home/sam/tmp/tmpdir2/{#}.fasta\" > $4\n",
    "rm -r /home/sam/tmp/tmpdir2 /home/sam/tmp/tmpdir1"
   ]
  },
  {
   "cell_type": "code",
   "execution_count": 9,
   "metadata": {
    "collapsed": false
   },
   "outputs": [
    {
     "name": "stdout",
     "output_type": "stream",
     "text": [
      "Max expected error cutoff: 1\n",
      "Number of sequence pre-filter: 20404\n",
      "Number of sequences post-filter: 20183\n",
      "\n",
      ">MR.M.12C-Con.D0.R2_primer2_0 orig_name=M02465:332:000000000-AWPTR:1:1101:15296:1341\n",
      "TACGTAGGGTGCAAGCGTTGTCCGGAATTATTGGGCGTAAAGAGCTTGTAGGCGGTTTGTCGAGTCTGCTGTGAAATTTC\n",
      "GGGGCTCAACCCCGAACTTGCAGTGGGTACGGGCAGACTAGAGTGTGGTAGGGGAGACTGGAATTCCTGGTGTAGCGGTG\n",
      "AAATGCGCAGATATCAGGAGGAACACCGATGGCGAAGGCAGGTCTCTGGGCCATAACTGACGCTGAGAAGCGAAAGCATG\n",
      "GGGAGCGAACAGG\n",
      ">MR.F.12C-Con.D0.R2_primer2_1 orig_name=M02465:332:000000000-AWPTR:1:1101:15100:1547\n",
      "GACGAAGGGGGCGAGCGTTGTTCGGATTTACTGGGCGTAAAGGGCGCGTAGGCGGTGCGGTAAGAGTGTTGTGAAATCCT\n",
      "CGGGCTCAACTCGAGGCCTGCAACGCTGACTGGCGTGCTGGAGTGTGGGAGAGGTGCGTGGAATTCCCGGTGTAGCGGTG\n"
     ]
    }
   ],
   "source": [
    "%%bash -s \"$seqFile\" \"$nprocs\" \"$maxee\" \"$qcFile\"\n",
    "\n",
    "printf \"Max expected error cutoff: \"\n",
    "echo $3\n",
    "\n",
    "printf \"Number of sequence pre-filter: \"\n",
    "grep -c \"orig_name=\" $1\n",
    "\n",
    "printf \"Number of sequences post-filter: \"\n",
    "grep -c \">\" $4\n",
    "\n",
    "echo '' \n",
    "head -n 8 $4"
   ]
  },
  {
   "cell_type": "markdown",
   "metadata": {},
   "source": [
    "## Remove seqs with 'N' characters"
   ]
  },
  {
   "cell_type": "code",
   "execution_count": 10,
   "metadata": {
    "collapsed": false
   },
   "outputs": [
    {
     "data": {
      "text/plain": [
       "'pear_merged-Spencer_unfrac_redo.assembled.dmult_maxee1_noN.fasta'"
      ]
     },
     "execution_count": 10,
     "metadata": {},
     "output_type": "execute_result"
    }
   ],
   "source": [
    "qcFile2 = os.path.splitext(qcFile)[0] + '_noN.fasta'\n",
    "qcFile2"
   ]
  },
  {
   "cell_type": "code",
   "execution_count": 11,
   "metadata": {
    "collapsed": false
   },
   "outputs": [
    {
     "name": "stdout",
     "output_type": "stream",
     "text": [
      "Number of sequence pre-filter: 20183\n",
      "Number of sequences post-filter: 20183\n"
     ]
    }
   ],
   "source": [
    "%%bash -s \"$qcFile\" \"$qcFile2\"\n",
    "\n",
    "bioawk -c fastx '{if ($seq !~ /N/){print \">\" $name \" \" $4 \"\\n\" $seq}}' $1 > $2\n",
    "\n",
    "printf \"Number of sequence pre-filter: \"\n",
    "grep -c \">\" $1\n",
    "\n",
    "printf \"Number of sequences post-filter: \"\n",
    "grep -c \">\" $2"
   ]
  },
  {
   "cell_type": "markdown",
   "metadata": {},
   "source": [
    "## Alignment-based QC with Mothur"
   ]
  },
  {
   "cell_type": "code",
   "execution_count": 12,
   "metadata": {
    "collapsed": false
   },
   "outputs": [
    {
     "name": "stdout",
     "output_type": "stream",
     "text": [
      "MR.M.12C-Con.D0.R2_primer2_0\tMR.M.12C-Con.D0.R2_primer2\n",
      "MR.F.12C-Con.D0.R2_primer2_1\tMR.F.12C-Con.D0.R2_primer2\n",
      "MR.F.12C-Con.D0.R2_primer2_3\tMR.F.12C-Con.D0.R2_primer2\n",
      "MR.F.12C-Con.D0.R2_primer2_2\tMR.F.12C-Con.D0.R2_primer2\n",
      "MR.F.12C-Con.D0.R2_primer2_4\tMR.F.12C-Con.D0.R2_primer2\n",
      "MR.F.12C-Con.D0.R2_primer2_5\tMR.F.12C-Con.D0.R2_primer2\n",
      "MR.M.12C-Con.D0.R2_primer2_6\tMR.M.12C-Con.D0.R2_primer2\n",
      "MR.F.12C-Con.D0.R2_primer2_7\tMR.F.12C-Con.D0.R2_primer2\n",
      "MR.F.12C-Con.D0.R2_primer2_9\tMR.F.12C-Con.D0.R2_primer2\n",
      "MR.F.12C-Con.D0.R2_primer2_8\tMR.F.12C-Con.D0.R2_primer2\n"
     ]
    }
   ],
   "source": [
    "%%bash -s \"$qcFile2\"\n",
    "# making mothur group file\n",
    "\n",
    "perl -ne 'if(/^>/){ s/>(.+)(_\\d+) .+/$1$2\\t$1/; print;}' $1 > group_file.txt\n",
    "head group_file.txt"
   ]
  },
  {
   "cell_type": "code",
   "execution_count": 13,
   "metadata": {
    "collapsed": false
   },
   "outputs": [
    {
     "name": "stdout",
     "output_type": "stream",
     "text": [
      "MR.M.12C-Con.D0.R2_primer2_0\tMR.M.12C-Con.D0.R2_primer2\r\n",
      "MR.F.12C-Con.D0.R2_primer2_1\tMR.F.12C-Con.D0.R2_primer2\r\n",
      "MR.F.12C-Con.D0.R2_primer2_3\tMR.F.12C-Con.D0.R2_primer2\r\n",
      "MR.F.12C-Con.D0.R2_primer2_2\tMR.F.12C-Con.D0.R2_primer2\r\n",
      "MR.F.12C-Con.D0.R2_primer2_4\tMR.F.12C-Con.D0.R2_primer2\r\n",
      "MR.F.12C-Con.D0.R2_primer2_5\tMR.F.12C-Con.D0.R2_primer2\r\n",
      "MR.M.12C-Con.D0.R2_primer2_6\tMR.M.12C-Con.D0.R2_primer2\r\n",
      "MR.F.12C-Con.D0.R2_primer2_7\tMR.F.12C-Con.D0.R2_primer2\r\n",
      "MR.F.12C-Con.D0.R2_primer2_9\tMR.F.12C-Con.D0.R2_primer2\r\n",
      "MR.F.12C-Con.D0.R2_primer2_8\tMR.F.12C-Con.D0.R2_primer2\r\n",
      "MR.F.12C-Con.D0.R2_primer2_11\tMR.F.12C-Con.D0.R2_primer2\r\n",
      "MR.F.12C-Con.D0.R2_primer2_13\tMR.F.12C-Con.D0.R2_primer2\r\n",
      "MR.F.12C-Con.D0.R2_primer2_10\tMR.F.12C-Con.D0.R2_primer2\r\n",
      "MR.F.12C-Con.D0.R2_primer2_12\tMR.F.12C-Con.D0.R2_primer2\r\n",
      "MR.F.12C-Con.D0.R2_primer2_16\tMR.F.12C-Con.D0.R2_primer2\r\n",
      "MR.M.12C-Con.D0.R2_primer2_15\tMR.M.12C-Con.D0.R2_primer2\r\n",
      "MR.F.12C-Con.D0.R2_primer2_14\tMR.F.12C-Con.D0.R2_primer2\r\n",
      "MR.F.12C-Con.D0.R2_primer2_20\tMR.F.12C-Con.D0.R2_primer2\r\n",
      "MR.M.12C-Con.D0.R2_primer2_18\tMR.M.12C-Con.D0.R2_primer2\r\n",
      "MR.F.12C-Con.D0.R2_primer2_19\tMR.F.12C-Con.D0.R2_primer2\r\n",
      "MR.F.12C-Con.D0.R2_primer2_23\tMR.F.12C-Con.D0.R2_primer2\r\n",
      "MR.F.12C-Con.D0.R2_primer2_26\tMR.F.12C-Con.D0.R2_primer2\r\n",
      "MR.F.12C-Con.D0.R2_primer2_27\tMR.F.12C-Con.D0.R2_primer2\r\n",
      "MR.F.12C-Con.D0.R2_primer2_28\tMR.F.12C-Con.D0.R2_primer2\r\n",
      "MR.M.12C-Con.D0.R2_primer2_31\tMR.M.12C-Con.D0.R2_primer2\r\n",
      "MR.F.12C-Con.D0.R2_primer2_30\tMR.F.12C-Con.D0.R2_primer2\r\n",
      "MR.F.12C-Con.D0.R2_primer2_21\tMR.F.12C-Con.D0.R2_primer2\r\n",
      "MR.F.12C-Con.D0.R2_primer2_24\tMR.F.12C-Con.D0.R2_primer2\r\n",
      "MR.M.12C-Con.D0.R2_primer2_33\tMR.M.12C-Con.D0.R2_primer2\r\n",
      "MR.F.12C-Con.D0.R2_primer2_17\tMR.F.12C-Con.D0.R2_primer2\r\n",
      "MR.F.12C-Con.D0.R2_primer2_25\tMR.F.12C-Con.D0.R2_primer2\r\n",
      "MR.F.12C-Con.D0.R2_primer2_22\tMR.F.12C-Con.D0.R2_primer2\r\n",
      "MR.M.12C-Con.D0.R2_primer2_34\tMR.M.12C-Con.D0.R2_primer2\r\n",
      "MR.F.12C-Con.D0.R2_primer2_36\tMR.F.12C-Con.D0.R2_primer2\r\n",
      "MR.F.12C-Con.D0.R2_primer2_37\tMR.F.12C-Con.D0.R2_primer2\r\n",
      "MR.F.12C-Con.D0.R2_primer2_43\tMR.F.12C-Con.D0.R2_primer2\r\n",
      "MR.M.12C-Con.D0.R2_primer2_38\tMR.M.12C-Con.D0.R2_primer2\r\n",
      "MR.F.12C-Con.D0.R2_primer2_29\tMR.F.12C-Con.D0.R2_primer2\r\n",
      "MR.M.12C-Con.D0.R2_primer2_46\tMR.M.12C-Con.D0.R2_primer2\r\n",
      "MR.F.12C-Con.D0.R2_primer2_47\tMR.F.12C-Con.D0.R2_primer2\r\n",
      "MR.M.12C-Con.D0.R2_primer2_40\tMR.M.12C-Con.D0.R2_primer2\r\n",
      "MR.F.12C-Con.D0.R2_primer2_41\tMR.F.12C-Con.D0.R2_primer2\r\n",
      "MR.F.12C-Con.D0.R2_primer2_49\tMR.F.12C-Con.D0.R2_primer2\r\n",
      "MR.F.12C-Con.D0.R2_primer2_39\tMR.F.12C-Con.D0.R2_primer2\r\n",
      "MR.M.12C-Con.D0.R2_primer2_42\tMR.M.12C-Con.D0.R2_primer2\r\n",
      "MR.M.12C-Con.D0.R2_primer2_35\tMR.M.12C-Con.D0.R2_primer2\r\n",
      "MR.M.12C-Con.D0.R2_primer2_45\tMR.M.12C-Con.D0.R2_primer2\r\n",
      "MR.F.12C-Con.D0.R2_primer2_52\tMR.F.12C-Con.D0.R2_primer2\r\n",
      "MR.F.12C-Con.D0.R2_primer2_55\tMR.F.12C-Con.D0.R2_primer2\r\n",
      "MR.F.12C-Con.D0.R2_primer2_48\tMR.F.12C-Con.D0.R2_primer2\r\n",
      "MR.M.12C-Con.D0.R2_primer2_57\tMR.M.12C-Con.D0.R2_primer2\r\n",
      "MR.M.12C-Con.D0.R2_primer2_44\tMR.M.12C-Con.D0.R2_primer2\r\n",
      "MR.M.12C-Con.D0.R2_primer2_56\tMR.M.12C-Con.D0.R2_primer2\r\n",
      "MR.M.12C-Con.D0.R2_primer2_61\tMR.M.12C-Con.D0.R2_primer2\r\n",
      "MR.F.12C-Con.D0.R2_primer2_54\tMR.F.12C-Con.D0.R2_primer2\r\n",
      "MR.F.12C-Con.D0.R2_primer2_62\tMR.F.12C-Con.D0.R2_primer2\r\n",
      "MR.F.12C-Con.D0.R2_primer2_53\tMR.F.12C-Con.D0.R2_primer2\r\n",
      "MR.M.12C-Con.D0.R2_primer2_51\tMR.M.12C-Con.D0.R2_primer2\r\n",
      "MR.M.12C-Con.D0.R2_primer2_50\tMR.M.12C-Con.D0.R2_primer2\r\n",
      "MR.F.12C-Con.D0.R2_primer2_59\tMR.F.12C-Con.D0.R2_primer2\r\n",
      "MR.M.12C-Con.D0.R2_primer2_58\tMR.M.12C-Con.D0.R2_primer2\r\n",
      "MR.F.12C-Con.D0.R2_primer2_60\tMR.F.12C-Con.D0.R2_primer2\r\n",
      "MR.F.12C-Con.D0.R2_primer2_65\tMR.F.12C-Con.D0.R2_primer2\r\n",
      "MR.F.12C-Con.D0.R2_primer2_69\tMR.F.12C-Con.D0.R2_primer2\r\n",
      "MR.F.12C-Con.D0.R2_primer2_72\tMR.F.12C-Con.D0.R2_primer2\r\n",
      "MR.F.12C-Con.D0.R2_primer2_64\tMR.F.12C-Con.D0.R2_primer2\r\n",
      "MR.M.12C-Con.D0.R2_primer2_66\tMR.M.12C-Con.D0.R2_primer2\r\n",
      "MR.M.12C-Con.D0.R2_primer2_74\tMR.M.12C-Con.D0.R2_primer2\r\n",
      "MR.F.12C-Con.D0.R2_primer2_71\tMR.F.12C-Con.D0.R2_primer2\r\n",
      "MR.F.12C-Con.D0.R2_primer2_70\tMR.F.12C-Con.D0.R2_primer2\r\n",
      "MR.M.12C-Con.D0.R2_primer2_78\tMR.M.12C-Con.D0.R2_primer2\r\n",
      "MR.M.12C-Con.D0.R2_primer2_77\tMR.M.12C-Con.D0.R2_primer2\r\n",
      "MR.F.12C-Con.D0.R2_primer2_79\tMR.F.12C-Con.D0.R2_primer2\r\n",
      "MR.F.12C-Con.D0.R2_primer2_73\tMR.F.12C-Con.D0.R2_primer2\r\n",
      "MR.F.12C-Con.D0.R2_primer2_68\tMR.F.12C-Con.D0.R2_primer2\r\n",
      "MR.F.12C-Con.D0.R2_primer2_63\tMR.F.12C-Con.D0.R2_primer2\r\n",
      "MR.F.12C-Con.D0.R2_primer2_82\tMR.F.12C-Con.D0.R2_primer2\r\n",
      "MR.F.12C-Con.D0.R2_primer2_81\tMR.F.12C-Con.D0.R2_primer2\r\n",
      "MR.F.12C-Con.D0.R2_primer2_76\tMR.F.12C-Con.D0.R2_primer2\r\n",
      "MR.M.12C-Con.D0.R2_primer2_86\tMR.M.12C-Con.D0.R2_primer2\r\n",
      "MR.M.12C-Con.D0.R2_primer2_80\tMR.M.12C-Con.D0.R2_primer2\r\n",
      "MR.F.12C-Con.D0.R2_primer2_67\tMR.F.12C-Con.D0.R2_primer2\r\n",
      "MR.M.12C-Con.D0.R2_primer2_89\tMR.M.12C-Con.D0.R2_primer2\r\n",
      "MR.M.12C-Con.D0.R2_primer2_85\tMR.M.12C-Con.D0.R2_primer2\r\n",
      "MR.F.12C-Con.D0.R2_primer2_90\tMR.F.12C-Con.D0.R2_primer2\r\n",
      "MR.M.12C-Con.D0.R2_primer2_87\tMR.M.12C-Con.D0.R2_primer2\r\n",
      "MR.M.12C-Con.D0.R2_primer2_75\tMR.M.12C-Con.D0.R2_primer2\r\n",
      "MR.F.12C-Con.D0.R2_primer2_92\tMR.F.12C-Con.D0.R2_primer2\r\n",
      "MR.F.12C-Con.D0.R2_primer2_32\tMR.F.12C-Con.D0.R2_primer2\r\n",
      "MR.F.12C-Con.D0.R2_primer2_97\tMR.F.12C-Con.D0.R2_primer2\r\n",
      "MR.F.12C-Con.D0.R2_primer2_91\tMR.F.12C-Con.D0.R2_primer2\r\n",
      "MR.F.12C-Con.D0.R2_primer2_84\tMR.F.12C-Con.D0.R2_primer2\r\n",
      "MR.M.12C-Con.D0.R2_primer2_100\tMR.M.12C-Con.D0.R2_primer2\r\n",
      "MR.M.12C-Con.D0.R2_primer2_101\tMR.M.12C-Con.D0.R2_primer2\r\n",
      "MR.M.12C-Con.D0.R2_primer2_102\tMR.M.12C-Con.D0.R2_primer2\r\n",
      "MR.F.12C-Con.D0.R2_primer2_93\tMR.F.12C-Con.D0.R2_primer2\r\n",
      "MR.M.12C-Con.D0.R2_primer2_98\tMR.M.12C-Con.D0.R2_primer2\r\n",
      "MR.M.12C-Con.D0.R2_primer2_99\tMR.M.12C-Con.D0.R2_primer2\r\n",
      "MR.F.12C-Con.D0.R2_primer2_88\tMR.F.12C-Con.D0.R2_primer2\r\n",
      "MR.M.12C-Con.D0.R2_primer2_96\tMR.M.12C-Con.D0.R2_primer2\r\n",
      "MR.F.12C-Con.D0.R2_primer2_106\tMR.F.12C-Con.D0.R2_primer2\r\n",
      "MR.F.12C-Con.D0.R2_primer2_94\tMR.F.12C-Con.D0.R2_primer2\r\n",
      "MR.F.12C-Con.D0.R2_primer2_104\tMR.F.12C-Con.D0.R2_primer2\r\n",
      "MR.F.12C-Con.D0.R2_primer2_107\tMR.F.12C-Con.D0.R2_primer2\r\n",
      "MR.F.12C-Con.D0.R2_primer2_105\tMR.F.12C-Con.D0.R2_primer2\r\n",
      "MR.F.12C-Con.D0.R2_primer2_110\tMR.F.12C-Con.D0.R2_primer2\r\n",
      "MR.F.12C-Con.D0.R2_primer2_114\tMR.F.12C-Con.D0.R2_primer2\r\n",
      "MR.F.12C-Con.D0.R2_primer2_109\tMR.F.12C-Con.D0.R2_primer2\r\n",
      "MR.F.12C-Con.D0.R2_primer2_83\tMR.F.12C-Con.D0.R2_primer2\r\n",
      "MR.M.12C-Con.D0.R2_primer2_111\tMR.M.12C-Con.D0.R2_primer2\r\n",
      "MR.F.12C-Con.D0.R2_primer2_118\tMR.F.12C-Con.D0.R2_primer2\r\n",
      "MR.F.12C-Con.D0.R2_primer2_95\tMR.F.12C-Con.D0.R2_primer2\r\n",
      "MR.M.12C-Con.D0.R2_primer2_117\tMR.M.12C-Con.D0.R2_primer2\r\n",
      "MR.F.12C-Con.D0.R2_primer2_108\tMR.F.12C-Con.D0.R2_primer2\r\n",
      "MR.F.12C-Con.D0.R2_primer2_119\tMR.F.12C-Con.D0.R2_primer2\r\n",
      "MR.F.12C-Con.D0.R2_primer2_121\tMR.F.12C-Con.D0.R2_primer2\r\n",
      "MR.F.12C-Con.D0.R2_primer2_124\tMR.F.12C-Con.D0.R2_primer2\r\n",
      "MR.F.12C-Con.D0.R2_primer2_125\tMR.F.12C-Con.D0.R2_primer2\r\n",
      "MR.M.12C-Con.D0.R2_primer2_122\tMR.M.12C-Con.D0.R2_primer2\r\n",
      "MR.F.12C-Con.D0.R2_primer2_120\tMR.F.12C-Con.D0.R2_primer2\r\n",
      "MR.M.12C-Con.D0.R2_primer2_115\tMR.M.12C-Con.D0.R2_primer2\r\n",
      "MR.M.12C-Con.D0.R2_primer2_128\tMR.M.12C-Con.D0.R2_primer2\r\n",
      "MR.M.12C-Con.D0.R2_primer2_126\tMR.M.12C-Con.D0.R2_primer2\r\n",
      "MR.F.12C-Con.D0.R2_primer2_113\tMR.F.12C-Con.D0.R2_primer2\r\n",
      "MR.F.12C-Con.D0.R2_primer2_127\tMR.F.12C-Con.D0.R2_primer2\r\n",
      "MR.M.12C-Con.D0.R2_primer2_132\tMR.M.12C-Con.D0.R2_primer2\r\n",
      "MR.M.12C-Con.D0.R2_primer2_133\tMR.M.12C-Con.D0.R2_primer2\r\n",
      "MR.F.12C-Con.D0.R2_primer2_130\tMR.F.12C-Con.D0.R2_primer2\r\n",
      "MR.M.12C-Con.D0.R2_primer2_129\tMR.M.12C-Con.D0.R2_primer2\r\n",
      "MR.F.12C-Con.D0.R2_primer2_116\tMR.F.12C-Con.D0.R2_primer2\r\n",
      "MR.F.12C-Con.D0.R2_primer2_138\tMR.F.12C-Con.D0.R2_primer2\r\n",
      "MR.M.12C-Con.D0.R2_primer2_103\tMR.M.12C-Con.D0.R2_primer2\r\n",
      "MR.F.12C-Con.D0.R2_primer2_112\tMR.F.12C-Con.D0.R2_primer2\r\n",
      "MR.F.12C-Con.D0.R2_primer2_137\tMR.F.12C-Con.D0.R2_primer2\r\n",
      "MR.F.12C-Con.D0.R2_primer2_123\tMR.F.12C-Con.D0.R2_primer2\r\n",
      "MR.F.12C-Con.D0.R2_primer2_136\tMR.F.12C-Con.D0.R2_primer2\r\n",
      "MR.M.12C-Con.D0.R2_primer2_135\tMR.M.12C-Con.D0.R2_primer2\r\n",
      "MR.F.12C-Con.D0.R2_primer2_145\tMR.F.12C-Con.D0.R2_primer2\r\n",
      "MR.M.12C-Con.D0.R2_primer2_139\tMR.M.12C-Con.D0.R2_primer2\r\n",
      "MR.M.12C-Con.D0.R2_primer2_134\tMR.M.12C-Con.D0.R2_primer2\r\n",
      "MR.F.12C-Con.D0.R2_primer2_147\tMR.F.12C-Con.D0.R2_primer2\r\n",
      "MR.F.12C-Con.D0.R2_primer2_143\tMR.F.12C-Con.D0.R2_primer2\r\n",
      "MR.F.12C-Con.D0.R2_primer2_151\tMR.F.12C-Con.D0.R2_primer2\r\n",
      "MR.F.12C-Con.D0.R2_primer2_142\tMR.F.12C-Con.D0.R2_primer2\r\n",
      "MR.F.12C-Con.D0.R2_primer2_141\tMR.F.12C-Con.D0.R2_primer2\r\n",
      "MR.F.12C-Con.D0.R2_primer2_150\tMR.F.12C-Con.D0.R2_primer2\r\n",
      "MR.F.12C-Con.D0.R2_primer2_146\tMR.F.12C-Con.D0.R2_primer2\r\n",
      "MR.M.12C-Con.D0.R2_primer2_131\tMR.M.12C-Con.D0.R2_primer2\r\n",
      "MR.F.12C-Con.D0.R2_primer2_148\tMR.F.12C-Con.D0.R2_primer2\r\n",
      "MR.F.12C-Con.D0.R2_primer2_144\tMR.F.12C-Con.D0.R2_primer2\r\n",
      "MR.M.12C-Con.D0.R2_primer2_152\tMR.M.12C-Con.D0.R2_primer2\r\n",
      "MR.F.12C-Con.D0.R2_primer2_157\tMR.F.12C-Con.D0.R2_primer2\r\n",
      "MR.F.12C-Con.D0.R2_primer2_156\tMR.F.12C-Con.D0.R2_primer2\r\n",
      "MR.M.12C-Con.D0.R2_primer2_160\tMR.M.12C-Con.D0.R2_primer2\r\n",
      "MR.F.12C-Con.D0.R2_primer2_158\tMR.F.12C-Con.D0.R2_primer2\r\n",
      "MR.F.12C-Con.D0.R2_primer2_149\tMR.F.12C-Con.D0.R2_primer2\r\n",
      "MR.F.12C-Con.D0.R2_primer2_163\tMR.F.12C-Con.D0.R2_primer2\r\n",
      "MR.M.12C-Con.D0.R2_primer2_153\tMR.M.12C-Con.D0.R2_primer2\r\n",
      "MR.F.12C-Con.D0.R2_primer2_166\tMR.F.12C-Con.D0.R2_primer2\r\n",
      "MR.M.12C-Con.D0.R2_primer2_167\tMR.M.12C-Con.D0.R2_primer2\r\n",
      "MR.F.12C-Con.D0.R2_primer2_165\tMR.F.12C-Con.D0.R2_primer2\r\n",
      "MR.F.12C-Con.D0.R2_primer2_159\tMR.F.12C-Con.D0.R2_primer2\r\n",
      "MR.M.12C-Con.D0.R2_primer2_168\tMR.M.12C-Con.D0.R2_primer2\r\n",
      "MR.M.12C-Con.D0.R2_primer2_169\tMR.M.12C-Con.D0.R2_primer2\r\n",
      "MR.M.12C-Con.D0.R2_primer2_162\tMR.M.12C-Con.D0.R2_primer2\r\n",
      "MR.F.12C-Con.D0.R2_primer2_173\tMR.F.12C-Con.D0.R2_primer2\r\n",
      "MR.F.12C-Con.D0.R2_primer2_154\tMR.F.12C-Con.D0.R2_primer2\r\n",
      "MR.F.12C-Con.D0.R2_primer2_171\tMR.F.12C-Con.D0.R2_primer2\r\n",
      "MR.M.12C-Con.D0.R2_primer2_170\tMR.M.12C-Con.D0.R2_primer2\r\n",
      "MR.M.12C-Con.D0.R2_primer2_176\tMR.M.12C-Con.D0.R2_primer2\r\n",
      "MR.F.12C-Con.D0.R2_primer2_175\tMR.F.12C-Con.D0.R2_primer2\r\n",
      "MR.F.12C-Con.D0.R2_primer2_180\tMR.F.12C-Con.D0.R2_primer2\r\n",
      "MR.M.12C-Con.D0.R2_primer2_174\tMR.M.12C-Con.D0.R2_primer2\r\n",
      "MR.F.12C-Con.D0.R2_primer2_182\tMR.F.12C-Con.D0.R2_primer2\r\n",
      "MR.F.12C-Con.D0.R2_primer2_155\tMR.F.12C-Con.D0.R2_primer2\r\n",
      "MR.F.12C-Con.D0.R2_primer2_177\tMR.F.12C-Con.D0.R2_primer2\r\n",
      "MR.M.12C-Con.D0.R2_primer2_185\tMR.M.12C-Con.D0.R2_primer2\r\n",
      "MR.F.12C-Con.D0.R2_primer2_181\tMR.F.12C-Con.D0.R2_primer2\r\n",
      "MR.M.12C-Con.D0.R2_primer2_184\tMR.M.12C-Con.D0.R2_primer2\r\n",
      "MR.M.12C-Con.D0.R2_primer2_161\tMR.M.12C-Con.D0.R2_primer2\r\n",
      "MR.F.12C-Con.D0.R2_primer2_188\tMR.F.12C-Con.D0.R2_primer2\r\n",
      "MR.M.12C-Con.D0.R2_primer2_183\tMR.M.12C-Con.D0.R2_primer2\r\n",
      "MR.M.12C-Con.D0.R2_primer2_179\tMR.M.12C-Con.D0.R2_primer2\r\n",
      "MR.F.12C-Con.D0.R2_primer2_189\tMR.F.12C-Con.D0.R2_primer2\r\n",
      "MR.F.12C-Con.D0.R2_primer2_178\tMR.F.12C-Con.D0.R2_primer2\r\n",
      "MR.F.12C-Con.D0.R2_primer2_187\tMR.F.12C-Con.D0.R2_primer2\r\n",
      "MR.F.12C-Con.D0.R2_primer2_190\tMR.F.12C-Con.D0.R2_primer2\r\n",
      "MR.F.12C-Con.D0.R2_primer2_194\tMR.F.12C-Con.D0.R2_primer2\r\n",
      "MR.M.12C-Con.D0.R2_primer2_186\tMR.M.12C-Con.D0.R2_primer2\r\n",
      "MR.F.12C-Con.D0.R2_primer2_196\tMR.F.12C-Con.D0.R2_primer2\r\n",
      "MR.M.12C-Con.D0.R2_primer2_199\tMR.M.12C-Con.D0.R2_primer2\r\n",
      "MR.M.12C-Con.D0.R2_primer2_200\tMR.M.12C-Con.D0.R2_primer2\r\n",
      "MR.F.12C-Con.D0.R2_primer2_201\tMR.F.12C-Con.D0.R2_primer2\r\n",
      "MR.F.12C-Con.D0.R2_primer2_202\tMR.F.12C-Con.D0.R2_primer2\r\n",
      "MR.F.12C-Con.D0.R2_primer2_193\tMR.F.12C-Con.D0.R2_primer2\r\n",
      "MR.F.12C-Con.D0.R2_primer2_191\tMR.F.12C-Con.D0.R2_primer2\r\n",
      "MR.F.12C-Con.D0.R2_primer2_197\tMR.F.12C-Con.D0.R2_primer2\r\n",
      "MR.F.12C-Con.D0.R2_primer2_205\tMR.F.12C-Con.D0.R2_primer2\r\n",
      "MR.F.12C-Con.D0.R2_primer2_203\tMR.F.12C-Con.D0.R2_primer2\r\n",
      "MR.M.12C-Con.D0.R2_primer2_207\tMR.M.12C-Con.D0.R2_primer2\r\n"
     ]
    }
   ],
   "source": [
    "! head -n 200 group_file.txt"
   ]
  },
  {
   "cell_type": "code",
   "execution_count": 14,
   "metadata": {
    "collapsed": false
   },
   "outputs": [
    {
     "name": "stdout",
     "output_type": "stream",
     "text": [
      "\r\n",
      "mothur > unique.seqs(fasta=pear_merged-Spencer_unfrac_redo.assembled.dmult_maxee1_noN.fasta)\r\n",
      "1000\t957\r\n",
      "2000\t1898\r\n",
      "3000\t2840\r\n",
      "4000\t3750\r\n",
      "5000\t4657\r\n",
      "6000\t5563\r\n",
      "7000\t6442\r\n",
      "8000\t7339\r\n",
      "9000\t8216\r\n",
      "10000\t9086\r\n",
      "11000\t9948\r\n",
      "12000\t10833\r\n",
      "13000\t11711\r\n",
      "14000\t12593\r\n",
      "15000\t13479\r\n",
      "16000\t14353\r\n",
      "17000\t15207\r\n",
      "18000\t16099\r\n",
      "19000\t16944\r\n",
      "20000\t17794\r\n",
      "20183\t17949\r\n",
      "\r\n",
      "Output File Names: \r\n",
      "pear_merged-Spencer_unfrac_redo.assembled.dmult_maxee1_noN.names\r\n",
      "pear_merged-Spencer_unfrac_redo.assembled.dmult_maxee1_noN.unique.fasta\r\n",
      "\r\n",
      "\r\n",
      "mothur > quit()\r\n"
     ]
    }
   ],
   "source": [
    "# unique sequences\n",
    "cmd = 'mothur \"#unique.seqs(fasta={})\"'.format(qcFile2)\n",
    "!$cmd | tail -n 30"
   ]
  },
  {
   "cell_type": "code",
   "execution_count": 15,
   "metadata": {
    "collapsed": false
   },
   "outputs": [
    {
     "name": "stdout",
     "output_type": "stream",
     "text": [
      "Number of unique sequences: 17949\n"
     ]
    }
   ],
   "source": [
    "qcFile3 = os.path.splitext(qcFile2)[0] + '.unique.fasta'\n",
    "n_uniq = !grep -c \">\" $qcFile3\n",
    "print ('Number of unique sequences: {}'.format(n_uniq[0]))"
   ]
  },
  {
   "cell_type": "code",
   "execution_count": 16,
   "metadata": {
    "collapsed": false
   },
   "outputs": [
    {
     "name": "stdout",
     "output_type": "stream",
     "text": [
      "-rw-rw-r-- 1 sam sam 1.2M May 17 13:14 pear_merged-Spencer_unfrac_redo.assembled.dmult_maxee1_noN.names\r\n"
     ]
    }
   ],
   "source": [
    "# name file produced by unique.seqs()\n",
    "nameFile = os.path.splitext(qcFile2)[0] + '.names'\n",
    "!ls -thlc $nameFile"
   ]
  },
  {
   "cell_type": "code",
   "execution_count": 17,
   "metadata": {
    "collapsed": false
   },
   "outputs": [
    {
     "name": "stdout",
     "output_type": "stream",
     "text": [
      "silva.seed_v132.tax\n",
      "silva.seed_v132.align\n",
      "README.md\n"
     ]
    },
    {
     "name": "stderr",
     "output_type": "stream",
     "text": [
      "--2018-05-17 13:14:53--  https://www.mothur.org/w/images/7/71/Silva.seed_v132.tgz\n",
      "Resolving www.mothur.org (www.mothur.org)... 141.214.120.22\n",
      "Connecting to www.mothur.org (www.mothur.org)|141.214.120.22|:443... connected.\n",
      "HTTP request sent, awaiting response... 200 OK\n",
      "Length: 19623900 (19M) [application/x-gzip]\n",
      "Saving to: ‘Silva.seed_v132.tgz’\n",
      "\n",
      "     0K .......... .......... .......... .......... ..........  0% 1002K 19s\n",
      "    50K .......... .......... .......... .......... ..........  0% 1.88M 14s\n",
      "   100K .......... .......... .......... .......... ..........  0%  996K 16s\n",
      "   150K .......... .......... .......... .......... ..........  1% 1.88M 14s\n",
      "   200K .......... .......... .......... .......... ..........  1%  994K 15s\n",
      "   250K .......... .......... .......... .......... ..........  1% 1.89M 14s\n",
      "   300K .......... .......... .......... .......... ..........  1%  396K 19s\n",
      "   350K .......... .......... .......... .......... ..........  2%  991K 19s\n",
      "   400K .......... .......... .......... .......... ..........  2%  999K 19s\n",
      "   450K .......... .......... .......... .......... ..........  2% 1.86M 18s\n",
      "   500K .......... .......... .......... .......... ..........  2% 1005K 18s\n",
      "   550K .......... .......... .......... .......... ..........  3% 1.85M 17s\n",
      "   600K .......... .......... .......... .......... ..........  3% 1007K 17s\n",
      "   650K .......... .......... .......... .......... ..........  3% 1.86M 17s\n",
      "   700K .......... .......... .......... .......... ..........  3%  994K 17s\n",
      "   750K .......... .......... .......... .......... ..........  4% 1.91M 16s\n",
      "   800K .......... .......... .......... .......... ..........  4%  992K 16s\n",
      "   850K .......... .......... .......... .......... ..........  4%  994K 16s\n",
      "   900K .......... .......... .......... .......... ..........  4% 1.89M 16s\n",
      "   950K .......... .......... .......... .......... ..........  5%  989K 16s\n",
      "  1000K .......... .......... .......... .......... ..........  5% 1.88M 16s\n",
      "  1050K .......... .......... .......... .......... ..........  5%  992K 16s\n",
      "  1100K .......... .......... .......... .......... ..........  6%  988K 16s\n",
      "  1150K .......... .......... .......... .......... ..........  6% 1.90M 16s\n",
      "  1200K .......... .......... .......... .......... ..........  6%  991K 16s\n",
      "  1250K .......... .......... .......... .......... ..........  6% 1.86M 15s\n",
      "  1300K .......... .......... .......... .......... ..........  7% 1002K 15s\n",
      "  1350K .......... .......... .......... .......... ..........  7% 1.88M 15s\n",
      "  1400K .......... .......... .......... .......... ..........  7%  995K 15s\n",
      "  1450K .......... .......... .......... .......... ..........  7% 1.87M 15s\n",
      "  1500K .......... .......... .......... .......... ..........  8%  998K 15s\n",
      "  1550K .......... .......... .......... .......... ..........  8%  991K 15s\n",
      "  1600K .......... .......... .......... .......... ..........  8% 1.89M 15s\n",
      "  1650K .......... .......... .......... .......... ..........  8%  990K 15s\n",
      "  1700K .......... .......... .......... .......... ..........  9% 1.87M 15s\n",
      "  1750K .......... .......... .......... .......... ..........  9%  999K 15s\n",
      "  1800K .......... .......... .......... .......... ..........  9% 1.88M 14s\n",
      "  1850K .......... .......... .......... .......... ..........  9%  998K 15s\n",
      "  1900K .......... .......... .......... .......... .......... 10% 1.89M 14s\n",
      "  1950K .......... .......... .......... .......... .......... 10%  993K 14s\n",
      "  2000K .......... .......... .......... .......... .......... 10%  992K 14s\n",
      "  2050K .......... .......... .......... .......... .......... 10% 1.90M 14s\n",
      "  2100K .......... .......... .......... .......... .......... 11%  986K 14s\n",
      "  2150K .......... .......... .......... .......... .......... 11% 1.89M 14s\n",
      "  2200K .......... .......... .......... .......... .......... 11%  993K 14s\n",
      "  2250K .......... .......... .......... .......... .......... 12% 1.89M 14s\n",
      "  2300K .......... .......... .......... .......... .......... 12% 1.87M 14s\n",
      "  2350K .......... .......... .......... .......... .......... 12%  984K 14s\n",
      "  2400K .......... .......... .......... .......... .......... 12% 1.88M 14s\n",
      "  2450K .......... .......... .......... .......... .......... 13%  994K 14s\n",
      "  2500K .......... .......... .......... .......... .......... 13% 1.88M 14s\n",
      "  2550K .......... .......... .......... .......... .......... 13% 1.87M 13s\n",
      "  2600K .......... .......... .......... .......... .......... 13% 1.87M 13s\n",
      "  2650K .......... .......... .......... .......... .......... 14%  993K 13s\n",
      "  2700K .......... .......... .......... .......... .......... 14% 1.88M 13s\n",
      "  2750K .......... .......... .......... .......... .......... 14%  988K 13s\n",
      "  2800K .......... .......... .......... .......... .......... 14% 1.86M 13s\n",
      "  2850K .......... .......... .......... .......... .......... 15% 1.90M 13s\n",
      "  2900K .......... .......... .......... .......... .......... 15% 1.90M 13s\n",
      "  2950K .......... .......... .......... .......... .......... 15%  990K 13s\n",
      "  3000K .......... .......... .......... .......... .......... 15% 1.90M 13s\n",
      "  3050K .......... .......... .......... .......... .......... 16%  999K 13s\n",
      "  3100K .......... .......... .......... .......... .......... 16% 1.87M 13s\n",
      "  3150K .......... .......... .......... .......... .......... 16% 1.90M 13s\n",
      "  3200K .......... .......... .......... .......... .......... 16%  794K 13s\n",
      "  3250K .......... .......... .......... .......... .......... 17% 1.90M 13s\n",
      "  3300K .......... .......... .......... .......... .......... 17% 1.88M 12s\n",
      "  3350K .......... .......... .......... .......... .......... 17%  992K 12s\n",
      "  3400K .......... .......... .......... .......... .......... 18% 1.87M 12s\n",
      "  3450K .......... .......... .......... .......... .......... 18%  995K 12s\n",
      "  3500K .......... .......... .......... .......... .......... 18% 1.88M 12s\n",
      "  3550K .......... .......... .......... .......... .......... 18% 1.89M 12s\n",
      "  3600K .......... .......... .......... .......... .......... 19% 1.87M 12s\n",
      "  3650K .......... .......... .......... .......... .......... 19% 1.88M 12s\n",
      "  3700K .......... .......... .......... .......... .......... 19% 1.86M 12s\n",
      "  3750K .......... .......... .......... .......... .......... 19% 1.86M 12s\n",
      "  3800K .......... .......... .......... .......... .......... 20%  994K 12s\n",
      "  3850K .......... .......... .......... .......... .......... 20% 1.90M 12s\n",
      "  3900K .......... .......... .......... .......... .......... 20% 1.89M 12s\n",
      "  3950K .......... .......... .......... .......... .......... 20% 1.90M 12s\n",
      "  4000K .......... .......... .......... .......... .......... 21% 1.87M 11s\n",
      "  4050K .......... .......... .......... .......... .......... 21%  997K 11s\n",
      "  4100K .......... .......... .......... .......... .......... 21% 1.88M 11s\n",
      "  4150K .......... .......... .......... .......... .......... 21% 1.90M 11s\n",
      "  4200K .......... .......... .......... .......... .......... 22% 1.88M 11s\n",
      "  4250K .......... .......... .......... .......... .......... 22% 1.88M 11s\n",
      "  4300K .......... .......... .......... .......... .......... 22% 1.89M 11s\n",
      "  4350K .......... .......... .......... .......... .......... 22% 1.81M 11s\n",
      "  4400K .......... .......... .......... .......... .......... 23% 1.90M 11s\n",
      "  4450K .......... .......... .......... .......... .......... 23% 1.88M 11s\n",
      "  4500K .......... .......... .......... .......... .......... 23% 1.88M 11s\n",
      "  4550K .......... .......... .......... .......... .......... 24% 1003K 11s\n",
      "  4600K .......... .......... .......... .......... .......... 24% 1.66M 11s\n",
      "  4650K .......... .......... .......... .......... .......... 24% 1.89M 11s\n",
      "  4700K .......... .......... .......... .......... .......... 24% 1.48M 11s\n",
      "  4750K .......... .......... .......... .......... .......... 25%  939K 11s\n",
      "  4800K .......... .......... .......... .......... .......... 25% 1.85M 11s\n",
      "  4850K .......... .......... .......... .......... .......... 25% 1.82M 10s\n",
      "  4900K .......... .......... .......... .......... .......... 25% 1.84M 10s\n",
      "  4950K .......... .......... .......... .......... .......... 26% 1.90M 10s\n",
      "  5000K .......... .......... .......... .......... .......... 26% 1.69M 10s\n",
      "  5050K .......... .......... .......... .......... .......... 26% 1.29M 10s\n",
      "  5100K .......... .......... .......... .......... .......... 26% 1.01M 10s\n",
      "  5150K .......... .......... .......... .......... .......... 27% 1.78M 10s\n",
      "  5200K .......... .......... .......... .......... .......... 27% 1.84M 10s\n",
      "  5250K .......... .......... .......... .......... .......... 27% 1.82M 10s\n",
      "  5300K .......... .......... .......... .......... .......... 27% 1.91M 10s\n",
      "  5350K .......... .......... .......... .......... .......... 28% 1.90M 10s\n",
      "  5400K .......... .......... .......... .......... .......... 28% 1.92M 10s\n",
      "  5450K .......... .......... .......... .......... .......... 28% 1.89M 10s\n",
      "  5500K .......... .......... .......... .......... .......... 28% 1.91M 10s\n",
      "  5550K .......... .......... .......... .......... .......... 29%  990K 10s\n",
      "  5600K .......... .......... .......... .......... .......... 29% 1.87M 10s\n",
      "  5650K .......... .......... .......... .......... .......... 29% 1.87M 10s\n",
      "  5700K .......... .......... .......... .......... .......... 30% 1.90M 10s\n",
      "  5750K .......... .......... .......... .......... .......... 30% 1.89M 10s\n",
      "  5800K .......... .......... .......... .......... .......... 30% 1.88M 9s\n",
      "  5850K .......... .......... .......... .......... .......... 30% 1.90M 9s\n",
      "  5900K .......... .......... .......... .......... .......... 31% 1.88M 9s\n",
      "  5950K .......... .......... .......... .......... .......... 31%  999K 9s\n",
      "  6000K .......... .......... .......... .......... .......... 31% 1.91M 9s\n",
      "  6050K .......... .......... .......... .......... .......... 31% 1.90M 9s\n",
      "  6100K .......... .......... .......... .......... .......... 32% 1.87M 9s\n",
      "  6150K .......... .......... .......... .......... .......... 32% 1.92M 9s\n",
      "  6200K .......... .......... .......... .......... .......... 32% 1.92M 9s\n",
      "  6250K .......... .......... .......... .......... .......... 32% 1.89M 9s\n",
      "  6300K .......... .......... .......... .......... .......... 33% 1.90M 9s\n",
      "  6350K .......... .......... .......... .......... .......... 33% 1.89M 9s\n",
      "  6400K .......... .......... .......... .......... .......... 33% 1.90M 9s\n",
      "  6450K .......... .......... .......... .......... .......... 33% 1.86M 9s\n",
      "  6500K .......... .......... .......... .......... .......... 34% 1.89M 9s\n",
      "  6550K .......... .......... .......... .......... .......... 34% 1.86M 9s\n",
      "  6600K .......... .......... .......... .......... .......... 34% 1.90M 9s\n",
      "  6650K .......... .......... .......... .......... .......... 34% 1.90M 9s\n",
      "  6700K .......... .......... .......... .......... .......... 35%  995K 9s\n",
      "  6750K .......... .......... .......... .......... .......... 35% 1.91M 9s\n",
      "  6800K .......... .......... .......... .......... .......... 35% 1.91M 8s\n",
      "  6850K .......... .......... .......... .......... .......... 36% 1.91M 8s\n",
      "  6900K .......... .......... .......... .......... .......... 36% 1.91M 8s\n",
      "  6950K .......... .......... .......... .......... .......... 36% 1.89M 8s\n",
      "  7000K .......... .......... .......... .......... .......... 36% 1.91M 8s\n",
      "  7050K .......... .......... .......... .......... .......... 37% 1.92M 8s\n",
      "  7100K .......... .......... .......... .......... .......... 37% 1.85M 8s\n",
      "  7150K .......... .......... .......... .......... .......... 37% 1.91M 8s\n",
      "  7200K .......... .......... .......... .......... .......... 37% 1.92M 8s\n",
      "  7250K .......... .......... .......... .......... .......... 38% 1.88M 8s\n",
      "  7300K .......... .......... .......... .......... .......... 38% 1.88M 8s\n",
      "  7350K .......... .......... .......... .......... .......... 38% 1.86M 8s\n",
      "  7400K .......... .......... .......... .......... .......... 38% 1.90M 8s\n",
      "  7450K .......... .......... .......... .......... .......... 39% 1.86M 8s\n",
      "  7500K .......... .......... .......... .......... .......... 39% 1.90M 8s\n",
      "  7550K .......... .......... .......... .......... .......... 39% 1.88M 8s\n",
      "  7600K .......... .......... .......... .......... .......... 39% 1.88M 8s\n",
      "  7650K .......... .......... .......... .......... .......... 40% 1.91M 8s\n",
      "  7700K .......... .......... .......... .......... .......... 40% 1.90M 8s\n",
      "  7750K .......... .......... .......... .......... .......... 40% 1.91M 8s\n",
      "  7800K .......... .......... .......... .......... .......... 40% 1.91M 8s\n",
      "  7850K .......... .......... .......... .......... .......... 41% 1.91M 7s\n",
      "  7900K .......... .......... .......... .......... .......... 41% 1.91M 7s\n",
      "  7950K .......... .......... .......... .......... .......... 41% 1.91M 7s\n",
      "  8000K .......... .......... .......... .......... .......... 42% 1015K 7s\n",
      "  8050K .......... .......... .......... .......... .......... 42% 1.91M 7s\n",
      "  8100K .......... .......... .......... .......... .......... 42% 1.89M 7s\n",
      "  8150K .......... .......... .......... .......... .......... 42% 1.93M 7s\n",
      "  8200K .......... .......... .......... .......... .......... 43% 1.90M 7s\n",
      "  8250K .......... .......... .......... .......... .......... 43% 1.88M 7s\n",
      "  8300K .......... .......... .......... .......... .......... 43% 1.91M 7s\n",
      "  8350K .......... .......... .......... .......... .......... 43% 1.88M 7s\n",
      "  8400K .......... .......... .......... .......... .......... 44% 1.89M 7s\n",
      "  8450K .......... .......... .......... .......... .......... 44% 1.89M 7s\n",
      "  8500K .......... .......... .......... .......... .......... 44% 1.91M 7s\n",
      "  8550K .......... .......... .......... .......... .......... 44% 1.90M 7s\n",
      "  8600K .......... .......... .......... .......... .......... 45% 1.91M 7s\n",
      "  8650K .......... .......... .......... .......... .......... 45% 1.91M 7s\n",
      "  8700K .......... .......... .......... .......... .......... 45% 1.86M 7s\n",
      "  8750K .......... .......... .......... .......... .......... 45% 1.91M 7s\n",
      "  8800K .......... .......... .......... .......... .......... 46% 1.91M 7s\n",
      "  8850K .......... .......... .......... .......... .......... 46% 1.91M 7s\n",
      "  8900K .......... .......... .......... .......... .......... 46% 1.91M 7s\n",
      "  8950K .......... .......... .......... .......... .......... 46% 1.91M 7s\n",
      "  9000K .......... .......... .......... .......... .......... 47% 1.91M 7s\n",
      "  9050K .......... .......... .......... .......... .......... 47% 1.91M 7s\n",
      "  9100K .......... .......... .......... .......... .......... 47% 1.89M 6s\n",
      "  9150K .......... .......... .......... .......... .......... 48%  994K 6s\n",
      "  9200K .......... .......... .......... .......... .......... 48% 1.91M 6s\n",
      "  9250K .......... .......... .......... .......... .......... 48% 1.89M 6s\n",
      "  9300K .......... .......... .......... .......... .......... 48% 1.91M 6s\n",
      "  9350K .......... .......... .......... .......... .......... 49% 1.91M 6s\n",
      "  9400K .......... .......... .......... .......... .......... 49% 1.91M 6s\n",
      "  9450K .......... .......... .......... .......... .......... 49% 1.90M 6s\n",
      "  9500K .......... .......... .......... .......... .......... 49% 1.91M 6s\n",
      "  9550K .......... .......... .......... .......... .......... 50% 1.88M 6s\n",
      "  9600K .......... .......... .......... .......... .......... 50% 1.93M 6s\n",
      "  9650K .......... .......... .......... .......... .......... 50% 1.91M 6s\n",
      "  9700K .......... .......... .......... .......... .......... 50% 1.88M 6s\n",
      "  9750K .......... .......... .......... .......... .......... 51% 1.93M 6s\n",
      "  9800K .......... .......... .......... .......... .......... 51% 1.91M 6s\n",
      "  9850K .......... .......... .......... .......... .......... 51% 1.91M 6s\n",
      "  9900K .......... .......... .......... .......... .......... 51% 1.89M 6s\n",
      "  9950K .......... .......... .......... .......... .......... 52% 1.87M 6s\n",
      " 10000K .......... .......... .......... .......... .......... 52% 1.87M 6s\n",
      " 10050K .......... .......... .......... .......... .......... 52% 1.92M 6s\n",
      " 10100K .......... .......... .......... .......... .......... 52% 1.89M 6s\n",
      " 10150K .......... .......... .......... .......... .......... 53% 1.87M 6s\n",
      " 10200K .......... .......... .......... .......... .......... 53% 1.87M 6s\n",
      " 10250K .......... .......... .......... .......... .......... 53% 1.89M 6s\n",
      " 10300K .......... .......... .......... .......... .......... 54% 1.91M 6s\n",
      " 10350K .......... .......... .......... .......... .......... 54% 1.93M 6s\n",
      " 10400K .......... .......... .......... .......... .......... 54% 1022K 6s\n",
      " 10450K .......... .......... .......... .......... .......... 54% 1.91M 5s\n",
      " 10500K .......... .......... .......... .......... .......... 55% 1.90M 5s\n",
      " 10550K .......... .......... .......... .......... .......... 55% 1.91M 5s\n",
      " 10600K .......... .......... .......... .......... .......... 55% 1.93M 5s\n",
      " 10650K .......... .......... .......... .......... .......... 55% 1.92M 5s\n",
      " 10700K .......... .......... .......... .......... .......... 56% 1.85M 5s\n",
      " 10750K .......... .......... .......... .......... .......... 56% 1.91M 5s\n",
      " 10800K .......... .......... .......... .......... .......... 56% 1.91M 5s\n",
      " 10850K .......... .......... .......... .......... .......... 56% 1.90M 5s\n",
      " 10900K .......... .......... .......... .......... .......... 57% 1.93M 5s\n",
      " 10950K .......... .......... .......... .......... .......... 57% 1.91M 5s\n",
      " 11000K .......... .......... .......... .......... .......... 57% 1.92M 5s\n",
      " 11050K .......... .......... .......... .......... .......... 57% 1.94M 5s\n",
      " 11100K .......... .......... .......... .......... .......... 58% 1.91M 5s\n",
      " 11150K .......... .......... .......... .......... .......... 58% 1.86M 5s\n",
      " 11200K .......... .......... .......... .......... .......... 58% 1.92M 5s\n",
      " 11250K .......... .......... .......... .......... .......... 58% 1.90M 5s\n",
      " 11300K .......... .......... .......... .......... .......... 59% 1.92M 5s\n",
      " 11350K .......... .......... .......... .......... .......... 59% 1.92M 5s\n",
      " 11400K .......... .......... .......... .......... .......... 59% 1.91M 5s\n",
      " 11450K .......... .......... .......... .......... .......... 60% 1.90M 5s\n",
      " 11500K .......... .......... .......... .......... .......... 60% 1.94M 5s\n",
      " 11550K .......... .......... .......... .......... .......... 60% 1014K 5s\n",
      " 11600K .......... .......... .......... .......... .......... 60% 1.93M 5s\n",
      " 11650K .......... .......... .......... .......... .......... 61% 1.92M 5s\n",
      " 11700K .......... .......... .......... .......... .......... 61% 1.90M 5s\n",
      " 11750K .......... .......... .......... .......... .......... 61% 1.92M 5s\n",
      " 11800K .......... .......... .......... .......... .......... 61% 1.92M 5s\n",
      " 11850K .......... .......... .......... .......... .......... 62% 1.92M 5s\n",
      " 11900K .......... .......... .......... .......... .......... 62% 1.87M 4s\n",
      " 11950K .......... .......... .......... .......... .......... 62% 1.72M 4s\n",
      " 12000K .......... .......... .......... .......... .......... 62% 1.68M 4s\n",
      " 12050K .......... .......... .......... .......... .......... 63% 1.92M 4s\n",
      " 12100K .......... .......... .......... .......... .......... 63% 1.82M 4s\n",
      " 12150K .......... .......... .......... .......... .......... 63% 1.64M 4s\n",
      " 12200K .......... .......... .......... .......... .......... 63% 1.81M 4s\n",
      " 12250K .......... .......... .......... .......... .......... 64% 1.90M 4s\n",
      " 12300K .......... .......... .......... .......... .......... 64% 1.81M 4s\n",
      " 12350K .......... .......... .......... .......... .......... 64% 1.88M 4s\n",
      " 12400K .......... .......... .......... .......... .......... 64% 1.89M 4s\n",
      " 12450K .......... .......... .......... .......... .......... 65% 1.93M 4s\n",
      " 12500K .......... .......... .......... .......... .......... 65% 1.92M 4s\n",
      " 12550K .......... .......... .......... .......... .......... 65% 1.91M 4s\n",
      " 12600K .......... .......... .......... .......... .......... 66% 1.92M 4s\n",
      " 12650K .......... .......... .......... .......... .......... 66% 1.91M 4s\n",
      " 12700K .......... .......... .......... .......... .......... 66% 1.92M 4s\n",
      " 12750K .......... .......... .......... .......... .......... 66% 1.92M 4s\n",
      " 12800K .......... .......... .......... .......... .......... 67% 1018K 4s\n",
      " 12850K .......... .......... .......... .......... .......... 67% 1.92M 4s\n",
      " 12900K .......... .......... .......... .......... .......... 67% 1.93M 4s\n",
      " 12950K .......... .......... .......... .......... .......... 67% 1.90M 4s\n",
      " 13000K .......... .......... .......... .......... .......... 68% 1.92M 4s\n",
      " 13050K .......... .......... .......... .......... .......... 68% 1.92M 4s\n",
      " 13100K .......... .......... .......... .......... .......... 68% 1.92M 4s\n",
      " 13150K .......... .......... .......... .......... .......... 68% 1.88M 4s\n",
      " 13200K .......... .......... .......... .......... .......... 69% 1.93M 4s\n",
      " 13250K .......... .......... .......... .......... .......... 69% 1.90M 4s\n",
      " 13300K .......... .......... .......... .......... .......... 69% 1.92M 4s\n",
      " 13350K .......... .......... .......... .......... .......... 69% 1.90M 4s\n",
      " 13400K .......... .......... .......... .......... .......... 70% 1.93M 3s\n",
      " 13450K .......... .......... .......... .......... .......... 70% 1.89M 3s\n",
      " 13500K .......... .......... .......... .......... .......... 70% 1.91M 3s\n",
      " 13550K .......... .......... .......... .......... .......... 70% 1.90M 3s\n",
      " 13600K .......... .......... .......... .......... .......... 71% 1.93M 3s\n",
      " 13650K .......... .......... .......... .......... .......... 71% 1.90M 3s\n",
      " 13700K .......... .......... .......... .......... .......... 71% 1.91M 3s\n",
      " 13750K .......... .......... .......... .......... .......... 72% 1.90M 3s\n",
      " 13800K .......... .......... .......... .......... .......... 72% 1.94M 3s\n",
      " 13850K .......... .......... .......... .......... .......... 72% 1.92M 3s\n",
      " 13900K .......... .......... .......... .......... .......... 72% 1.00M 3s\n",
      " 13950K .......... .......... .......... .......... .......... 73% 1.93M 3s\n",
      " 14000K .......... .......... .......... .......... .......... 73% 1.92M 3s\n",
      " 14050K .......... .......... .......... .......... .......... 73% 1.90M 3s\n",
      " 14100K .......... .......... .......... .......... .......... 73% 1.93M 3s\n",
      " 14150K .......... .......... .......... .......... .......... 74% 1.93M 3s\n",
      " 14200K .......... .......... .......... .......... .......... 74% 1.92M 3s\n",
      " 14250K .......... .......... .......... .......... .......... 74% 1.92M 3s\n",
      " 14300K .......... .......... .......... .......... .......... 74% 1.93M 3s\n",
      " 14350K .......... .......... .......... .......... .......... 75% 1.90M 3s\n",
      " 14400K .......... .......... .......... .......... .......... 75% 1.90M 3s\n",
      " 14450K .......... .......... .......... .......... .......... 75% 1.92M 3s\n",
      " 14500K .......... .......... .......... .......... .......... 75% 1.92M 3s\n",
      " 14550K .......... .......... .......... .......... .......... 76% 1.90M 3s\n",
      " 14600K .......... .......... .......... .......... .......... 76% 1.92M 3s\n",
      " 14650K .......... .......... .......... .......... .......... 76% 1.94M 3s\n",
      " 14700K .......... .......... .......... .......... .......... 76% 1.92M 3s\n",
      " 14750K .......... .......... .......... .......... .......... 77% 1.89M 3s\n",
      " 14800K .......... .......... .......... .......... .......... 77% 1.92M 3s\n",
      " 14850K .......... .......... .......... .......... .......... 77% 1.93M 3s\n",
      " 14900K .......... .......... .......... .......... .......... 78% 1.91M 3s\n",
      " 14950K .......... .......... .......... .......... .......... 78% 1.91M 3s\n",
      " 15000K .......... .......... .......... .......... .......... 78% 1.90M 2s\n",
      " 15050K .......... .......... .......... .......... .......... 78% 1.94M 2s\n",
      " 15100K .......... .......... .......... .......... .......... 79% 1009K 2s\n",
      " 15150K .......... .......... .......... .......... .......... 79% 1.91M 2s\n",
      " 15200K .......... .......... .......... .......... .......... 79% 1.92M 2s\n",
      " 15250K .......... .......... .......... .......... .......... 79% 1.90M 2s\n",
      " 15300K .......... .......... .......... .......... .......... 80% 1.87M 2s\n",
      " 15350K .......... .......... .......... .......... .......... 80% 1.92M 2s\n",
      " 15400K .......... .......... .......... .......... .......... 80% 1.86M 2s\n",
      " 15450K .......... .......... .......... .......... .......... 80% 1.89M 2s\n",
      " 15500K .......... .......... .......... .......... .......... 81% 1.90M 2s\n",
      " 15550K .......... .......... .......... .......... .......... 81% 1.90M 2s\n",
      " 15600K .......... .......... .......... .......... .......... 81% 1.61M 2s\n",
      " 15650K .......... .......... .......... .......... .......... 81% 1.90M 2s\n",
      " 15700K .......... .......... .......... .......... .......... 82% 1.73M 2s\n",
      " 15750K .......... .......... .......... .......... .......... 82% 1.51M 2s\n",
      " 15800K .......... .......... .......... .......... .......... 82% 1.93M 2s\n",
      " 15850K .......... .......... .......... .......... .......... 82% 1.94M 2s\n",
      " 15900K .......... .......... .......... .......... .......... 83% 1.93M 2s\n",
      " 15950K .......... .......... .......... .......... .......... 83% 1.87M 2s\n",
      " 16000K .......... .......... .......... .......... .......... 83% 1.93M 2s\n",
      " 16050K .......... .......... .......... .......... .......... 84% 1.91M 2s\n",
      " 16100K .......... .......... .......... .......... .......... 84% 1.93M 2s\n",
      " 16150K .......... .......... .......... .......... .......... 84% 1.94M 2s\n",
      " 16200K .......... .......... .......... .......... .......... 84% 1.94M 2s\n",
      " 16250K .......... .......... .......... .......... .......... 85% 1.93M 2s\n",
      " 16300K .......... .......... .......... .......... .......... 85% 1.93M 2s\n",
      " 16350K .......... .......... .......... .......... .......... 85% 1.92M 2s\n",
      " 16400K .......... .......... .......... .......... .......... 85% 1.90M 2s\n",
      " 16450K .......... .......... .......... .......... .......... 86% 1.94M 2s\n",
      " 16500K .......... .......... .......... .......... .......... 86% 1.93M 2s\n",
      " 16550K .......... .......... .......... .......... .......... 86% 1.91M 2s\n",
      " 16600K .......... .......... .......... .......... .......... 86% 1.94M 1s\n",
      " 16650K .......... .......... .......... .......... .......... 87% 1.92M 1s\n",
      " 16700K .......... .......... .......... .......... .......... 87% 1.94M 1s\n",
      " 16750K .......... .......... .......... .......... .......... 87% 1.91M 1s\n",
      " 16800K .......... .......... .......... .......... .......... 87% 1.91M 1s\n",
      " 16850K .......... .......... .......... .......... .......... 88% 1.92M 1s\n",
      " 16900K .......... .......... .......... .......... .......... 88% 1.91M 1s\n",
      " 16950K .......... .......... .......... .......... .......... 88% 1.93M 1s\n",
      " 17000K .......... .......... .......... .......... .......... 88% 1.92M 1s\n",
      " 17050K .......... .......... .......... .......... .......... 89% 1.76M 1s\n",
      " 17100K .......... .......... .......... .......... .......... 89% 1.90M 1s\n",
      " 17150K .......... .......... .......... .......... .......... 89%  964K 1s\n",
      " 17200K .......... .......... .......... .......... .......... 90% 1.86M 1s\n",
      " 17250K .......... .......... .......... .......... .......... 90% 1.83M 1s\n",
      " 17300K .......... .......... .......... .......... .......... 90% 1.93M 1s\n",
      " 17350K .......... .......... .......... .......... .......... 90% 1.76M 1s\n",
      " 17400K .......... .......... .......... .......... .......... 91% 1.84M 1s\n",
      " 17450K .......... .......... .......... .......... .......... 91% 6.37M 1s\n",
      " 17500K .......... .......... .......... .......... .......... 91% 1.91M 1s\n",
      " 17550K .......... .......... .......... .......... .......... 91% 1.92M 1s\n",
      " 17600K .......... .......... .......... .......... .......... 92% 1.94M 1s\n",
      " 17650K .......... .......... .......... .......... .......... 92% 1.93M 1s\n",
      " 17700K .......... .......... .......... .......... .......... 92% 24.0M 1s\n",
      " 17750K .......... .......... .......... .......... .......... 92% 1.93M 1s\n",
      " 17800K .......... .......... .......... .......... .......... 93% 1.93M 1s\n",
      " 17850K .......... .......... .......... .......... .......... 93% 1.91M 1s\n",
      " 17900K .......... .......... .......... .......... .......... 93% 1.91M 1s\n",
      " 17950K .......... .......... .......... .......... .......... 93% 1.93M 1s\n",
      " 18000K .......... .......... .......... .......... .......... 94% 1.90M 1s\n",
      " 18050K .......... .......... .......... .......... .......... 94% 1.93M 1s\n",
      " 18100K .......... .......... .......... .......... .......... 94% 31.4M 1s\n",
      " 18150K .......... .......... .......... .......... .......... 94% 1.88M 1s\n",
      " 18200K .......... .......... .......... .......... .......... 95% 1.95M 1s\n",
      " 18250K .......... .......... .......... .......... .......... 95% 1.91M 1s\n",
      " 18300K .......... .......... .......... .......... .......... 95% 1.93M 0s\n",
      " 18350K .......... .......... .......... .......... .......... 96% 1.90M 0s\n",
      " 18400K .......... .......... .......... .......... .......... 96% 1.93M 0s\n",
      " 18450K .......... .......... .......... .......... .......... 96% 1.94M 0s\n",
      " 18500K .......... .......... .......... .......... .......... 96% 26.7M 0s\n",
      " 18550K .......... .......... .......... .......... .......... 97% 1.95M 0s\n",
      " 18600K .......... .......... .......... .......... .......... 97% 1.94M 0s\n",
      " 18650K .......... .......... .......... .......... .......... 97% 1.90M 0s\n",
      " 18700K .......... .......... .......... .......... .......... 97% 1.96M 0s\n",
      " 18750K .......... .......... .......... .......... .......... 98% 1.92M 0s\n",
      " 18800K .......... .......... .......... .......... .......... 98% 22.8M 0s\n",
      " 18850K .......... .......... .......... .......... .......... 98% 1.95M 0s\n",
      " 18900K .......... .......... .......... .......... .......... 98% 1.91M 0s\n",
      " 18950K .......... .......... .......... .......... .......... 99% 1.91M 0s\n",
      " 19000K .......... .......... .......... .......... .......... 99% 1.93M 0s\n",
      " 19050K .......... .......... .......... .......... .......... 99% 30.9M 0s\n",
      " 19100K .......... .......... .......... .......... .......... 99% 1.90M 0s\n",
      " 19150K .......... ...                                        100% 57.1M=11s\n",
      "\n",
      "2018-05-17 13:15:04 (1.69 MB/s) - ‘Silva.seed_v132.tgz’ saved [19623900/19623900]\n",
      "\n"
     ]
    }
   ],
   "source": [
    "%%bash \n",
    "# Remove database if already exsists\n",
    "if [ -d mothur_silva_db ]; then\n",
    "    rm -rf mothur_silva_db\n",
    "fi\n",
    "\n",
    "#if ! [ -d mothur_silva_db ]; then\n",
    "#    mkdir mothur_silva_db\n",
    "#fi\n",
    "\n",
    "mkdir mothur_silva_db\n",
    "cd mothur_silva_db\n",
    "\n",
    "# Download mothur recreatd SEED database release 132.\n",
    "wget https://www.mothur.org/w/images/7/71/Silva.seed_v132.tgz\n",
    "#wget https://www.mothur.org/w/images/a/a4/Silva.seed_v128.tgz\n",
    "tar -xvzf Silva.seed_v132.tgz\n",
    "rm Silva.seed_v132.tgz"
   ]
  },
  {
   "cell_type": "code",
   "execution_count": 18,
   "metadata": {
    "collapsed": false
   },
   "outputs": [
    {
     "name": "stdout",
     "output_type": "stream",
     "text": [
      "100\n",
      "200\n",
      "300\n",
      "400\n",
      "500\n",
      "560\n",
      "\n",
      "\n",
      "\n",
      "Length of filtered alignment: 10180\n",
      "Number of columns removed: 39820\n",
      "Length of the original alignment: 50000\n",
      "Number of sequences used to construct filter: 11180\n",
      "\n",
      "Output File Names: \n",
      "silva.filter\n",
      "silva.seed_v132.filter.fasta\n",
      "\n",
      "\n",
      "mothur > quit()\n",
      "\n",
      "Number of sequences post-filter: 11180\n"
     ]
    }
   ],
   "source": [
    "silvaFile = 'silva.seed_v132.align'\n",
    "cmd = 'mothur \"#filter.seqs(vertical=t, fasta={}, processors={})\"'.format(silvaFile, nprocs)\n",
    "!cd mothur_silva_db; $cmd | tail -n 20\n",
    "\n",
    "silvaFileFilt = os.path.splitext(silvaFile)[0] + '.filter.fasta'\n",
    "silvaFileFilt = os.path.join('mothur_silva_db', silvaFileFilt)\n",
    "ret = !grep -c \">\" $silvaFileFilt\n",
    "print ('\\nNumber of sequences post-filter: {}'.format(ret[0]))"
   ]
  },
  {
   "cell_type": "code",
   "execution_count": 19,
   "metadata": {
    "collapsed": false
   },
   "outputs": [
    {
     "name": "stdout",
     "output_type": "stream",
     "text": [
      "100\r\n",
      "200\r\n",
      "300\r\n",
      "400\r\n",
      "500\r\n",
      "600\r\n",
      "700\r\n",
      "800\r\n",
      "900\r\n",
      "902\r\n",
      "[WARNING]: Some of your sequences generated alignments that eliminated too many bases, a list is provided in pear_merged-Spencer_unfrac_redo.assembled.dmult_maxee1_noN.unique.flip.accnos. If the reverse compliment proved to be better it was reported.\r\n",
      "It took 9 secs to align 17949 sequences.\r\n",
      "\r\n",
      "\r\n",
      "Output File Names: \r\n",
      "pear_merged-Spencer_unfrac_redo.assembled.dmult_maxee1_noN.unique.align\r\n",
      "pear_merged-Spencer_unfrac_redo.assembled.dmult_maxee1_noN.unique.align.report\r\n",
      "pear_merged-Spencer_unfrac_redo.assembled.dmult_maxee1_noN.unique.flip.accnos\r\n",
      "\r\n",
      "\r\n",
      "mothur > quit()\r\n",
      "\r\n",
      "\r\n",
      "<<<<<<<<<<<<<<<<<<<<<<<<<<<<<<^>>>>>>>>>>>>>>>>>>>>>>>>>>>>>\r\n",
      "<<<<<<<<<<<<<<<<<<<<<<<<<<<<<<^>>>>>>>>>>>>>>>>>>>>>>>>>>>>>\r\n",
      "<<<<<<<<<<<<<<<<<<<<<<<<<<<<<<^>>>>>>>>>>>>>>>>>>>>>>>>>>>>>\r\n",
      "Detected 1 [WARNING] messages, please review.\r\n",
      "<<<<<<<<<<<<<<<<<<<<<<<<<<<<<<^>>>>>>>>>>>>>>>>>>>>>>>>>>>>>\r\n",
      "<<<<<<<<<<<<<<<<<<<<<<<<<<<<<<^>>>>>>>>>>>>>>>>>>>>>>>>>>>>>\r\n",
      "<<<<<<<<<<<<<<<<<<<<<<<<<<<<<<^>>>>>>>>>>>>>>>>>>>>>>>>>>>>>\r\n"
     ]
    }
   ],
   "source": [
    "# aligning sequences\n",
    "qcFile3a = re.sub('-', '\\-', qcFile3)\n",
    "cmd = 'mothur \"#align.seqs(candidate={}, template={}, processors={}, flip=T)\"'.format(qcFile3a, silvaFileFilt, nprocs)\n",
    "!$cmd | tail -n 30"
   ]
  },
  {
   "cell_type": "code",
   "execution_count": 20,
   "metadata": {
    "collapsed": false
   },
   "outputs": [
    {
     "name": "stdout",
     "output_type": "stream",
     "text": [
      "-rw-rw-r-- 1 sam sam 175M May 17 13:15 pear_merged-Spencer_unfrac_redo.assembled.dmult_maxee1_noN.unique.align\r\n"
     ]
    }
   ],
   "source": [
    "qcFile4 = os.path.splitext(qcFile3)[0] + '.align'\n",
    "!ls -thlc $qcFile4 "
   ]
  },
  {
   "cell_type": "code",
   "execution_count": 21,
   "metadata": {
    "collapsed": false
   },
   "outputs": [
    {
     "name": "stdout",
     "output_type": "stream",
     "text": [
      "300\r\n",
      "400\r\n",
      "500\r\n",
      "600\r\n",
      "700\r\n",
      "800\r\n",
      "897\r\n",
      "100\r\n",
      "200\r\n",
      "300\r\n",
      "400\r\n",
      "500\r\n",
      "600\r\n",
      "700\r\n",
      "800\r\n",
      "898\r\n",
      "\r\n",
      "\r\n",
      "\r\n",
      "Length of filtered alignment: 578\r\n",
      "Number of columns removed: 9602\r\n",
      "Length of the original alignment: 10180\r\n",
      "Number of sequences used to construct filter: 17949\r\n",
      "\r\n",
      "Output File Names: \r\n",
      "pear_merged-Spencer_unfrac_redo.filter\r\n",
      "pear_merged-Spencer_unfrac_redo.assembled.dmult_maxee1_noN.unique.filter.fasta\r\n",
      "\r\n",
      "\r\n",
      "mothur > quit()\r\n"
     ]
    }
   ],
   "source": [
    "# filtering out gap positions in the alignment\n",
    "qcFile4a = re.sub('-', '\\-', qcFile4)\n",
    "cmd = 'mothur \"#filter.seqs(vertical=t, fasta={}, processors={})\"'.format(qcFile4a, nprocs)\n",
    "!$cmd | tail -n 30"
   ]
  },
  {
   "cell_type": "code",
   "execution_count": 22,
   "metadata": {
    "collapsed": false
   },
   "outputs": [
    {
     "name": "stdout",
     "output_type": "stream",
     "text": [
      "-rw-rw-r-- 1 sam sam 11M May 17 13:15 pear_merged-Spencer_unfrac_redo.assembled.dmult_maxee1_noN.unique.filter.fasta\r\n"
     ]
    }
   ],
   "source": [
    "qcFile5 = os.path.splitext(qcFile3)[0] + '.filter.fasta'\n",
    "!ls -thlc $qcFile5"
   ]
  },
  {
   "cell_type": "code",
   "execution_count": 23,
   "metadata": {
    "collapsed": false
   },
   "outputs": [
    {
     "name": "stdout",
     "output_type": "stream",
     "text": [
      "Using 20 processors.\r\n",
      "\r\n",
      "\t\tStart\tEnd\tNBases\tAmbigs\tPolymer\tNumSeqs\r\n",
      "Minimum:\t1\t10\t2\t0\t1\t1\r\n",
      "2.5%-tile:\t20\t484\t253\t0\t4\t505\r\n",
      "25%-tile:\t20\t484\t253\t0\t4\t5046\r\n",
      "Median: \t20\t484\t253\t0\t5\t10092\r\n",
      "75%-tile:\t20\t484\t253\t0\t5\t15138\r\n",
      "97.5%-tile:\t20\t484\t254\t0\t7\t19679\r\n",
      "Maximum:\t577\t578\t325\t0\t10\t20183\r\n",
      "Mean:\t20.1914\t483.982\t252.992\t0\t4.7645\r\n",
      "# of unique seqs:\t17949\r\n",
      "total # of seqs:\t20183\r\n",
      "\r\n",
      "Output File Names: \r\n",
      "pear_merged-Spencer_unfrac_redo.assembled.dmult_maxee1_noN.unique.filter.summary\r\n",
      "\r\n",
      "It took 0 secs to summarize 20183 sequences.\r\n",
      "\r\n",
      "mothur > quit()\r\n"
     ]
    }
   ],
   "source": [
    "cmd = 'mothur \"#summary.seqs(fasta={}, processors={}, name={})\"'.format(qcFile5, nprocs, nameFile)\n",
    "!$cmd | tail -n 20"
   ]
  },
  {
   "cell_type": "markdown",
   "metadata": {},
   "source": [
    "## Removing homopolymers (> 8) and screening out sequences that don't align to an amplicon region"
   ]
  },
  {
   "cell_type": "code",
   "execution_count": 24,
   "metadata": {
    "collapsed": false
   },
   "outputs": [
    {
     "name": "stdout",
     "output_type": "stream",
     "text": [
      "Processing sequence: 300\r\n",
      "Processing sequence: 400\r\n",
      "Processing sequence: 500\r\n",
      "Processing sequence: 600\r\n",
      "Processing sequence: 700\r\n",
      "Processing sequence: 800\r\n",
      "Processing sequence: 898\r\n",
      "\r\n",
      "mothur > screen.seqs(fasta=pear_merged-Spencer_unfrac_redo.assembled.dmult_maxee1_noN.unique.filter.fasta,    processors=20,    name=pear_merged-Spencer_unfrac_redo.assembled.dmult_maxee1_noN.names,    group=group_file.txt,    start=20,    end=484,    maxhomop=8)\r\n",
      "\r\n",
      "Using 20 processors.\r\n",
      "Processing sequence: 100\r\n",
      "Processing sequence: 200\r\n",
      "Processing sequence: 300\r\n",
      "Processing sequence: 400\r\n",
      "Processing sequence: 500\r\n",
      "Processing sequence: 600\r\n",
      "Processing sequence: 700\r\n",
      "Processing sequence: 800\r\n",
      "\r\n",
      "Output File Names: \r\n",
      "pear_merged-Spencer_unfrac_redo.assembled.dmult_maxee1_noN.unique.filter.good.fasta\r\n",
      "pear_merged-Spencer_unfrac_redo.assembled.dmult_maxee1_noN.unique.filter.bad.accnos\r\n",
      "pear_merged-Spencer_unfrac_redo.assembled.dmult_maxee1_noN.good.names\r\n",
      "group_file.good.txt\r\n",
      "\r\n",
      "\r\n",
      "It took 0 secs to screen 17949 sequences.\r\n",
      "\r\n",
      "mothur > quit()\r\n"
     ]
    }
   ],
   "source": [
    "cmd = \"\"\"mothur '#screen.seqs(fasta={},\\\n",
    "    processors={},\\\n",
    "    name={},\\\n",
    "    group={},\\\n",
    "    start={},\\\n",
    "    end={},\\\n",
    "    maxhomop=8)'\"\"\".format(qcFile5, nprocs, nameFile, 'group_file.txt', 20, 484)\n",
    "!$cmd | tail -n 30"
   ]
  },
  {
   "cell_type": "code",
   "execution_count": 25,
   "metadata": {
    "collapsed": false
   },
   "outputs": [
    {
     "name": "stdout",
     "output_type": "stream",
     "text": [
      "Number of sequences post-filter: 17716\n"
     ]
    }
   ],
   "source": [
    "qcFile6 = os.path.splitext(qcFile5)[0] + '.good.fasta'\n",
    "ret = !grep -c \">\" $qcFile6\n",
    "print ('Number of sequences post-filter: {}'.format(ret[0]))"
   ]
  },
  {
   "cell_type": "code",
   "execution_count": 26,
   "metadata": {
    "collapsed": false
   },
   "outputs": [
    {
     "name": "stdout",
     "output_type": "stream",
     "text": [
      "400\r\n",
      "500\r\n",
      "600\r\n",
      "700\r\n",
      "800\r\n",
      "889\r\n",
      "\r\n",
      "\r\n",
      "\r\n",
      "Length of filtered alignment: 539\r\n",
      "Number of columns removed: 39\r\n",
      "Length of the original alignment: 578\r\n",
      "Number of sequences used to construct filter: 17716\r\n",
      "\r\n",
      "Output File Names: \r\n",
      "pear_merged-Spencer_unfrac_redo.filter\r\n",
      "pear_merged-Spencer_unfrac_redo.assembled.dmult_maxee1_noN.unique.filter.good.filter.fasta\r\n",
      "\r\n",
      "\r\n",
      "mothur > quit()\r\n"
     ]
    }
   ],
   "source": [
    "qcFile6a = re.sub('-', '\\-', qcFile6)\n",
    "cmd = 'mothur \"#filter.seqs(fasta={}, processors={}, vertical=T)\"'.format(qcFile6a, nprocs)\n",
    "!$cmd | tail -n 20"
   ]
  },
  {
   "cell_type": "code",
   "execution_count": 27,
   "metadata": {
    "collapsed": false
   },
   "outputs": [
    {
     "name": "stdout",
     "output_type": "stream",
     "text": [
      "-rw-rw-r-- 1 sam sam 9.7M May 17 13:15 pear_merged-Spencer_unfrac_redo.assembled.dmult_maxee1_noN.unique.filter.good.filter.fasta\r\n"
     ]
    }
   ],
   "source": [
    "qcFile7 = os.path.splitext(qcFile6)[0] + '.filter.fasta'\n",
    "!ls -thlc $qcFile7"
   ]
  },
  {
   "cell_type": "markdown",
   "metadata": {},
   "source": [
    "## Deunique seqs"
   ]
  },
  {
   "cell_type": "code",
   "execution_count": 28,
   "metadata": {
    "collapsed": false
   },
   "outputs": [
    {
     "name": "stdout",
     "output_type": "stream",
     "text": [
      "mothur v.1.39.5\r\n",
      "Last updated: 3/20/2017\r\n",
      "\r\n",
      "by\r\n",
      "Patrick D. Schloss\r\n",
      "\r\n",
      "Department of Microbiology & Immunology\r\n",
      "University of Michigan\r\n",
      "http://www.mothur.org\r\n",
      "\r\n",
      "When using, please cite:\r\n",
      "Schloss, P.D., et al., Introducing mothur: Open-source, platform-independent, community-supported software for describing and comparing microbial communities. Appl Environ Microbiol, 2009. 75(23):7537-41.\r\n",
      "\r\n",
      "Distributed under the GNU General Public License\r\n",
      "\r\n",
      "Type 'help()' for information on the commands that are available\r\n",
      "\r\n",
      "For questions and analysis support, please visit our forum at https://www.mothur.org/forum\r\n",
      "\r\n",
      "Type 'quit()' to exit program\r\n",
      "\r\n",
      "\r\n",
      "\r\n",
      "mothur > deunique.seqs(fasta=pear_merged-Spencer_unfrac_redo.assembled.dmult_maxee1_noN.unique.filter.good.filter.fasta, name=pear_merged-Spencer_unfrac_redo.assembled.dmult_maxee1_noN.names)\r\n",
      "\r\n",
      "Output File Names: \r\n",
      "pear_merged-Spencer_unfrac_redo.assembled.dmult_maxee1_noN.unique.filter.good.filter.redundant.fasta\r\n",
      "\r\n",
      "\r\n",
      "mothur > quit()\r\n"
     ]
    }
   ],
   "source": [
    "cmd = 'mothur \"#deunique.seqs(fasta={}, name={})\"'.format(qcFile7, nameFile)\n",
    "!$cmd | tail -n 30"
   ]
  },
  {
   "cell_type": "markdown",
   "metadata": {},
   "source": [
    "### Final QC-ed file"
   ]
  },
  {
   "cell_type": "code",
   "execution_count": 29,
   "metadata": {
    "collapsed": true
   },
   "outputs": [],
   "source": [
    "qcFile8 = os.path.splitext(qcFile7)[0] + '.redundant.fasta'\n",
    "qcFinal = 'finalQC.fasta'\n",
    "!perl -pe 's/[-.]//g if ! /^>/' $qcFile8 > $qcFinal"
   ]
  },
  {
   "cell_type": "code",
   "execution_count": 30,
   "metadata": {
    "collapsed": false
   },
   "outputs": [
    {
     "name": "stdout",
     "output_type": "stream",
     "text": [
      "\r\n",
      "Using 20 processors.\r\n",
      "\r\n",
      "\t\tStart\tEnd\tNBases\tAmbigs\tPolymer\tNumSeqs\r\n",
      "Minimum:\t1\t222\t222\t0\t3\t1\r\n",
      "2.5%-tile:\t1\t253\t253\t0\t4\t499\r\n",
      "25%-tile:\t1\t253\t253\t0\t4\t4985\r\n",
      "Median: \t1\t253\t253\t0\t5\t9970\r\n",
      "75%-tile:\t1\t253\t253\t0\t5\t14954\r\n",
      "97.5%-tile:\t1\t254\t254\t0\t7\t19440\r\n",
      "Maximum:\t1\t325\t325\t0\t8\t19938\r\n",
      "Mean:\t1\t253.107\t253.107\t0\t4.75273\r\n",
      "# of Seqs:\t19938\r\n",
      "\r\n",
      "Output File Names: \r\n",
      "finalQC.summary\r\n",
      "\r\n",
      "It took 0 secs to summarize 19938 sequences.\r\n",
      "\r\n",
      "mothur > quit()\r\n"
     ]
    }
   ],
   "source": [
    "cmd = 'mothur \"#summary.seqs(fasta={}, processors={})\"'.format(qcFinal, nprocs)\n",
    "!$cmd | tail -n 20"
   ]
  },
  {
   "cell_type": "code",
   "execution_count": 31,
   "metadata": {
    "collapsed": false
   },
   "outputs": [
    {
     "name": "stdout",
     "output_type": "stream",
     "text": [
      ">MR.M.12C-Con.D0.R2_primer2_0\r\n",
      "TACGTAGGGTGCAAGCGTTGTCCGGAATTATTGGGCGTAAAGAGCTTGTAGGCGGTTTGTCGAGTCTGCTGTGAAATTTCGGGGCTCAACCCCGAACTTGCAGTGGGTACGGGCAGACTAGAGTGTGGTAGGGGAGACTGGAATTCCTGGTGTAGCGGTGAAATGCGCAGATATCAGGAGGAACACCGATGGCGAAGGCAGGTCTCTGGGCCATAACTGACGCTGAGAAGCGAAAGCATGGGGAGCGAACAGG\r\n",
      ">MR.F.12C-Con.D0.R2_primer2_1\r\n",
      "GACGAAGGGGGCGAGCGTTGTTCGGATTTACTGGGCGTAAAGGGCGCGTAGGCGGTGCGGTAAGAGTGTTGTGAAATCCTCGGGCTCAACTCGAGGCCTGCAACGCTGACTGGCGTGCTGGAGTGTGGGAGAGGTGCGTGGAATTCCCGGTGTAGCGGTGAAATGCGTAGATATTCGCAAGAACACCAGTGGCGAAGGCGGCTCACTGGCCCGGAACTGACGCTGAGACGCGAAAGCGTGGGGAGCAACCAGG\r\n",
      ">MR.F.12C-Con.D0.R2_primer2_3\r\n",
      "TACGAAGGGGGCTAGCGTTGCTCGGAATCACTGGGTGTAAAGGGTTCGTAGGCGGTGTGGCAAGTCGGGAGTGAAATCTCTGGGCTCAACCCAGAGACTGCTTCCGAAACTGCTGTGCTTGAGTGTGAGAGAGGCTCGTGGAATTGCAGGTGTAGCGGTGAAATGCGTAGATATGTGCAGGAACACCCGTGGCGAAAGCGGCGAGCTGGATCACTACTGACGCTGAGGAACGAAAGCTAGGGGAGCAAACAGG\r\n"
     ]
    }
   ],
   "source": [
    "!head -n 6 $qcFinal"
   ]
  },
  {
   "cell_type": "markdown",
   "metadata": {},
   "source": [
    "## Summary of number of seqs per sample"
   ]
  },
  {
   "cell_type": "code",
   "execution_count": 32,
   "metadata": {
    "collapsed": true
   },
   "outputs": [],
   "source": [
    "re1 = re.compile('_[0-9]+$')\n",
    "\n",
    "qcFinalSum = os.path.splitext(qcFinal)[0] + '.summary'\n",
    "\n",
    "samp_count = dict()\n",
    "with open(qcFinalSum, 'r') as inFH:\n",
    "    for line in inFH:\n",
    "        if line.startswith('seqname'):\n",
    "            continue\n",
    "        line = line.rstrip().split('\\t')\n",
    "        line[0] = re.sub(re1, '', line[0])\n",
    "        try:\n",
    "            samp_count[line[0]] += 1\n",
    "        except KeyError:\n",
    "            samp_count[line[0]] = 1"
   ]
  },
  {
   "cell_type": "code",
   "execution_count": 33,
   "metadata": {
    "collapsed": false
   },
   "outputs": [
    {
     "data": {
      "text/html": [
       "<div>\n",
       "<style scoped>\n",
       "    .dataframe tbody tr th:only-of-type {\n",
       "        vertical-align: middle;\n",
       "    }\n",
       "\n",
       "    .dataframe tbody tr th {\n",
       "        vertical-align: top;\n",
       "    }\n",
       "\n",
       "    .dataframe thead th {\n",
       "        text-align: right;\n",
       "    }\n",
       "</style>\n",
       "<table border=\"1\" class=\"dataframe\">\n",
       "  <thead>\n",
       "    <tr style=\"text-align: right;\">\n",
       "      <th></th>\n",
       "      <th>Sample</th>\n",
       "      <th>seq_count</th>\n",
       "    </tr>\n",
       "  </thead>\n",
       "  <tbody>\n",
       "    <tr>\n",
       "      <th>0</th>\n",
       "      <td>MR.M.12C-Con.D0.R2_primer2</td>\n",
       "      <td>6611</td>\n",
       "    </tr>\n",
       "    <tr>\n",
       "      <th>1</th>\n",
       "      <td>MR.F.12C-Con.D0.R2_primer2</td>\n",
       "      <td>13327</td>\n",
       "    </tr>\n",
       "  </tbody>\n",
       "</table>\n",
       "</div>"
      ],
      "text/plain": [
       "                       Sample  seq_count\n",
       "0  MR.M.12C-Con.D0.R2_primer2       6611\n",
       "1  MR.F.12C-Con.D0.R2_primer2      13327"
      ]
     },
     "execution_count": 33,
     "metadata": {},
     "output_type": "execute_result"
    }
   ],
   "source": [
    "# converting to dataframe\n",
    "df_seq_cnt = pd.DataFrame.from_dict(samp_count, orient='index')\n",
    "df_seq_cnt.index.name = 'Sample'\n",
    "df_seq_cnt.reset_index(inplace=True)\n",
    "df_seq_cnt.columns = ['Sample', 'seq_count']\n",
    "df_seq_cnt"
   ]
  },
  {
   "cell_type": "code",
   "execution_count": 34,
   "metadata": {
    "collapsed": false
   },
   "outputs": [
    {
     "data": {
      "image/png": "[encoded data removed]"
     },
     "metadata": {},
     "output_type": "display_data"
    }
   ],
   "source": [
    "%%R -i df_seq_cnt -w 800 -h 350\n",
    "# plotting all\n",
    "\n",
    "df_seq_cnt$seq_count = as.numeric(df_seq_cnt$seq_count)\n",
    "\n",
    "\n",
    "df_seq_cnt = df_seq_cnt %>% \n",
    "    #mutate(H2O = grepl('_F0$', Sample)) %>%\n",
    "    mutate(rank = min_rank(seq_count)) %>%\n",
    "    arrange(desc(rank))\n",
    "\n",
    "df_seq_cnt$Sample = factor(df_seq_cnt$Sample, levels=df_seq_cnt$Sample)\n",
    "\n",
    "ggplot(df_seq_cnt, aes(Sample, seq_count)) +\n",
    "    geom_bar(stat='identity') +\n",
    "    theme_bw() +\n",
    "    theme(\n",
    "        text = element_text(size=16),\n",
    "        axis.text.x = element_text(angle=45, hjust=1)\n",
    "    )"
   ]
  },
  {
   "cell_type": "code",
   "execution_count": 35,
   "metadata": {
    "collapsed": false
   },
   "outputs": [
    {
     "data": {
      "text/plain": [
       "                      Sample seq_count rank\n",
       "1 MR.F.12C-Con.D0.R2_primer2     13327    2\n",
       "2 MR.M.12C-Con.D0.R2_primer2      6611    1\n"
      ]
     },
     "metadata": {},
     "output_type": "display_data"
    }
   ],
   "source": [
    "%%R\n",
    "df_seq_cnt[df_seq_cnt$seq_count < 40000,]"
   ]
  },
  {
   "cell_type": "code",
   "execution_count": null,
   "metadata": {
    "collapsed": true
   },
   "outputs": [],
   "source": []
  },
  {
   "cell_type": "code",
   "execution_count": null,
   "metadata": {
    "collapsed": true
   },
   "outputs": [],
   "source": []
  }
 ],
 "metadata": {
  "anaconda-cloud": {},
  "hide_input": true,
  "kernelspec": {
   "display_name": "Python 3",
   "language": "python",
   "name": "python3"
  },
  "language_info": {
   "codemirror_mode": {
    "name": "ipython",
    "version": 3
   },
   "file_extension": ".py",
   "mimetype": "text/x-python",
   "name": "python",
   "nbconvert_exporter": "python",
   "pygments_lexer": "ipython3",
   "version": "3.6.4"
  },
  "notify_time": "5"
 },
 "nbformat": 4,
 "nbformat_minor": 1
}
