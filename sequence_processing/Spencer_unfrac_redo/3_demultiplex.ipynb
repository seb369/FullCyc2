{
 "cells": [
  {
   "cell_type": "markdown",
   "metadata": {},
   "source": [
    "# Description:\n",
    "\n",
    "* Demultiplexing libraries from MiSeq run"
   ]
  },
  {
   "cell_type": "markdown",
   "metadata": {},
   "source": [
    "## Setting variables (user input)"
   ]
  },
  {
   "cell_type": "code",
   "execution_count": 9,
   "metadata": {
    "collapsed": false
   },
   "outputs": [],
   "source": [
    "import os\n",
    "\n",
    "seqdir = '/home/backup_files/raw_reads/fullcyc2.Barnett.2018/Spencer_unfrac_redo'\n",
    "workdir = '/home/seq_data/fullCyc2/amplicon/515F-806R/final_dataset/library_QC/Spencer_unfrac_redo'\n",
    "\n",
    "# metadata file location(s)\n",
    "metadata = '/home/seq_data/fullCyc2/amplicon/515F-806R/final_dataset/FullCyc2_master_metadata.txt'\n",
    "\n",
    "# Library\n",
    "library = 'Spencer_unfrac_redo'\n",
    "\n",
    "# Index and paired files\n",
    "index_read1_file = 'index1.fq.gz'\n",
    "index_read2_file = 'index2.fq.gz'\n",
    "read12_screed = 'pear_merged-Spencer_unfrac_redo.assembled.fastq_screed'\n"
   ]
  },
  {
   "cell_type": "markdown",
   "metadata": {},
   "source": [
    "## Init"
   ]
  },
  {
   "cell_type": "code",
   "execution_count": 2,
   "metadata": {
    "collapsed": false
   },
   "outputs": [],
   "source": [
    "import os\n",
    "import json\n",
    "import screed\n",
    "import pandas as pd\n",
    "from collections import Counter\n",
    "import pandas as pd\n",
    "import matplotlib.pyplot as plt\n",
    "import numpy as np\n",
    "import re\n",
    "import scipy.stats as stats\n",
    "import screed\n",
    "from glob import glob"
   ]
  },
  {
   "cell_type": "code",
   "execution_count": 3,
   "metadata": {
    "collapsed": false
   },
   "outputs": [
    {
     "name": "stdout",
     "output_type": "stream",
     "text": [
      "/home/seq_data/fullCyc2/amplicon/515F-806R/final_dataset/library_QC/Spencer_unfrac_redo\n"
     ]
    }
   ],
   "source": [
    "%cd $workdir"
   ]
  },
  {
   "cell_type": "code",
   "execution_count": 4,
   "metadata": {
    "collapsed": false
   },
   "outputs": [],
   "source": [
    "%load_ext rpy2.ipython\n",
    "#%load_ext pushnote "
   ]
  },
  {
   "cell_type": "code",
   "execution_count": 5,
   "metadata": {
    "collapsed": false
   },
   "outputs": [
    {
     "name": "stderr",
     "output_type": "stream",
     "text": [
      "/home/sam/anaconda3/lib/python3.6/site-packages/rpy2/rinterface/__init__.py:145: RRuntimeWarning: \n",
      "Attaching package: ‘dplyr’\n",
      "\n",
      "\n",
      "  warnings.warn(x, RRuntimeWarning)\n",
      "/home/sam/anaconda3/lib/python3.6/site-packages/rpy2/rinterface/__init__.py:145: RRuntimeWarning: The following objects are masked from ‘package:stats’:\n",
      "\n",
      "    filter, lag\n",
      "\n",
      "\n",
      "  warnings.warn(x, RRuntimeWarning)\n",
      "/home/sam/anaconda3/lib/python3.6/site-packages/rpy2/rinterface/__init__.py:145: RRuntimeWarning: The following objects are masked from ‘package:base’:\n",
      "\n",
      "    intersect, setdiff, setequal, union\n",
      "\n",
      "\n",
      "  warnings.warn(x, RRuntimeWarning)\n"
     ]
    }
   ],
   "source": [
    "%%R\n",
    "library(ggplot2)\n",
    "library(dplyr)\n",
    "library(tidyr)"
   ]
  },
  {
   "cell_type": "markdown",
   "metadata": {},
   "source": [
    "## Loading metadata tables"
   ]
  },
  {
   "cell_type": "code",
   "execution_count": 6,
   "metadata": {
    "collapsed": false
   },
   "outputs": [
    {
     "data": {
      "text/html": [
       "<div>\n",
       "<style scoped>\n",
       "    .dataframe tbody tr th:only-of-type {\n",
       "        vertical-align: middle;\n",
       "    }\n",
       "\n",
       "    .dataframe tbody tr th {\n",
       "        vertical-align: top;\n",
       "    }\n",
       "\n",
       "    .dataframe thead th {\n",
       "        text-align: right;\n",
       "    }\n",
       "</style>\n",
       "<table border=\"1\" class=\"dataframe\">\n",
       "  <thead>\n",
       "    <tr style=\"text-align: right;\">\n",
       "      <th></th>\n",
       "      <th>#Sample</th>\n",
       "      <th>primer_number</th>\n",
       "      <th>exp_type</th>\n",
       "      <th>extraction_plate_ID</th>\n",
       "      <th>library_ID</th>\n",
       "      <th>pool_plate_ID</th>\n",
       "      <th>pool_plate_well</th>\n",
       "      <th>soil_ID</th>\n",
       "      <th>substrate</th>\n",
       "      <th>day</th>\n",
       "      <th>...</th>\n",
       "      <th>water_holding_capacity__g.g</th>\n",
       "      <th>percent_N</th>\n",
       "      <th>percent_C</th>\n",
       "      <th>sand__perc</th>\n",
       "      <th>silt__perc</th>\n",
       "      <th>clay__perc</th>\n",
       "      <th>DNA_conc__ng_ul</th>\n",
       "      <th>notes</th>\n",
       "      <th>fwd_barcode</th>\n",
       "      <th>rev_barcode</th>\n",
       "    </tr>\n",
       "  </thead>\n",
       "  <tbody>\n",
       "    <tr>\n",
       "      <th>0</th>\n",
       "      <td>EL.A.151026</td>\n",
       "      <td>129</td>\n",
       "      <td>bulk</td>\n",
       "      <td>14012016</td>\n",
       "      <td>Chantal_Pool9</td>\n",
       "      <td>NaN</td>\n",
       "      <td>NaN</td>\n",
       "      <td>EL.A.151026</td>\n",
       "      <td>NaN</td>\n",
       "      <td>NaN</td>\n",
       "      <td>...</td>\n",
       "      <td>0.778</td>\n",
       "      <td>0.20905</td>\n",
       "      <td>2.0399</td>\n",
       "      <td>40.0</td>\n",
       "      <td>26.7</td>\n",
       "      <td>33.3</td>\n",
       "      <td>19.965</td>\n",
       "      <td>NaN</td>\n",
       "      <td>CTACTATA</td>\n",
       "      <td>CGTACTCA</td>\n",
       "    </tr>\n",
       "    <tr>\n",
       "      <th>1</th>\n",
       "      <td>CC.M.151027.12C-Van.D02</td>\n",
       "      <td>129</td>\n",
       "      <td>Enrichment</td>\n",
       "      <td>Enr2_160509</td>\n",
       "      <td>fullCyc2_lib14</td>\n",
       "      <td>fullCyc2_lib14_pool_2</td>\n",
       "      <td>A5</td>\n",
       "      <td>CC.M.151027.12C-Van.D02</td>\n",
       "      <td>12C-Van</td>\n",
       "      <td>2.0</td>\n",
       "      <td>...</td>\n",
       "      <td>NaN</td>\n",
       "      <td>NaN</td>\n",
       "      <td>NaN</td>\n",
       "      <td>NaN</td>\n",
       "      <td>NaN</td>\n",
       "      <td>NaN</td>\n",
       "      <td>34.44</td>\n",
       "      <td>NaN</td>\n",
       "      <td>CTACTATA</td>\n",
       "      <td>CGTACTCA</td>\n",
       "    </tr>\n",
       "    <tr>\n",
       "      <th>2</th>\n",
       "      <td>MF.M.151026.12C-Ami.D02</td>\n",
       "      <td>129</td>\n",
       "      <td>Enrichment</td>\n",
       "      <td>Enr5_170113</td>\n",
       "      <td>fullCyc2_lib15</td>\n",
       "      <td>fullCyc2_lib15_pool_2</td>\n",
       "      <td>A5</td>\n",
       "      <td>MF.M.151026.12C-Ami.D02</td>\n",
       "      <td>12C-Ami</td>\n",
       "      <td>2.0</td>\n",
       "      <td>...</td>\n",
       "      <td>NaN</td>\n",
       "      <td>NaN</td>\n",
       "      <td>NaN</td>\n",
       "      <td>NaN</td>\n",
       "      <td>NaN</td>\n",
       "      <td>NaN</td>\n",
       "      <td>27.183</td>\n",
       "      <td>NaN</td>\n",
       "      <td>CTACTATA</td>\n",
       "      <td>CGTACTCA</td>\n",
       "    </tr>\n",
       "  </tbody>\n",
       "</table>\n",
       "<p>3 rows × 38 columns</p>\n",
       "</div>"
      ],
      "text/plain": [
       "                   #Sample  primer_number    exp_type extraction_plate_ID  \\\n",
       "0              EL.A.151026            129        bulk            14012016   \n",
       "1  CC.M.151027.12C-Van.D02            129  Enrichment         Enr2_160509   \n",
       "2  MF.M.151026.12C-Ami.D02            129  Enrichment         Enr5_170113   \n",
       "\n",
       "       library_ID          pool_plate_ID pool_plate_well  \\\n",
       "0   Chantal_Pool9                    NaN             NaN   \n",
       "1  fullCyc2_lib14  fullCyc2_lib14_pool_2              A5   \n",
       "2  fullCyc2_lib15  fullCyc2_lib15_pool_2              A5   \n",
       "\n",
       "                   soil_ID substrate  day     ...       \\\n",
       "0              EL.A.151026       NaN  NaN     ...        \n",
       "1  CC.M.151027.12C-Van.D02   12C-Van  2.0     ...        \n",
       "2  MF.M.151026.12C-Ami.D02   12C-Ami  2.0     ...        \n",
       "\n",
       "   water_holding_capacity__g.g  percent_N  percent_C sand__perc silt__perc  \\\n",
       "0                        0.778    0.20905     2.0399       40.0       26.7   \n",
       "1                          NaN        NaN        NaN        NaN        NaN   \n",
       "2                          NaN        NaN        NaN        NaN        NaN   \n",
       "\n",
       "  clay__perc DNA_conc__ng_ul notes  fwd_barcode  rev_barcode  \n",
       "0       33.3          19.965   NaN     CTACTATA     CGTACTCA  \n",
       "1        NaN           34.44   NaN     CTACTATA     CGTACTCA  \n",
       "2        NaN          27.183   NaN     CTACTATA     CGTACTCA  \n",
       "\n",
       "[3 rows x 38 columns]"
      ]
     },
     "execution_count": 6,
     "metadata": {},
     "output_type": "execute_result"
    }
   ],
   "source": [
    "# loading metadata sheet\n",
    "df_meta = pd.read_csv(os.path.join(seqdir, metadata), delimiter=\"\\t\")\n",
    "df_meta.head(n=3)"
   ]
  },
  {
   "cell_type": "code",
   "execution_count": 7,
   "metadata": {
    "collapsed": false
   },
   "outputs": [
    {
     "data": {
      "text/html": [
       "<div>\n",
       "<style scoped>\n",
       "    .dataframe tbody tr th:only-of-type {\n",
       "        vertical-align: middle;\n",
       "    }\n",
       "\n",
       "    .dataframe tbody tr th {\n",
       "        vertical-align: top;\n",
       "    }\n",
       "\n",
       "    .dataframe thead th {\n",
       "        text-align: right;\n",
       "    }\n",
       "</style>\n",
       "<table border=\"1\" class=\"dataframe\">\n",
       "  <thead>\n",
       "    <tr style=\"text-align: right;\">\n",
       "      <th></th>\n",
       "      <th>#Sample</th>\n",
       "      <th>primer_number</th>\n",
       "      <th>exp_type</th>\n",
       "      <th>extraction_plate_ID</th>\n",
       "      <th>library_ID</th>\n",
       "      <th>pool_plate_ID</th>\n",
       "      <th>pool_plate_well</th>\n",
       "      <th>soil_ID</th>\n",
       "      <th>substrate</th>\n",
       "      <th>day</th>\n",
       "      <th>...</th>\n",
       "      <th>water_holding_capacity__g.g</th>\n",
       "      <th>percent_N</th>\n",
       "      <th>percent_C</th>\n",
       "      <th>sand__perc</th>\n",
       "      <th>silt__perc</th>\n",
       "      <th>clay__perc</th>\n",
       "      <th>DNA_conc__ng_ul</th>\n",
       "      <th>notes</th>\n",
       "      <th>fwd_barcode</th>\n",
       "      <th>rev_barcode</th>\n",
       "    </tr>\n",
       "  </thead>\n",
       "  <tbody>\n",
       "    <tr>\n",
       "      <th>1365</th>\n",
       "      <td>MR.M.12C-Con.D0.R2_primer2</td>\n",
       "      <td>122</td>\n",
       "      <td>Unfractionated</td>\n",
       "      <td>Spencer_plate</td>\n",
       "      <td>Spencer_unfrac_redo</td>\n",
       "      <td>Spencer_unfrac_redo</td>\n",
       "      <td>B4</td>\n",
       "      <td>MR.M.12C-Con.D0.R2</td>\n",
       "      <td>12C-Con</td>\n",
       "      <td>0.0</td>\n",
       "      <td>...</td>\n",
       "      <td>NaN</td>\n",
       "      <td>NaN</td>\n",
       "      <td>NaN</td>\n",
       "      <td>NaN</td>\n",
       "      <td>NaN</td>\n",
       "      <td>NaN</td>\n",
       "      <td>TBD</td>\n",
       "      <td>resequenced_different_primer</td>\n",
       "      <td>CGTTACTA</td>\n",
       "      <td>CAGTGAGT</td>\n",
       "    </tr>\n",
       "    <tr>\n",
       "      <th>1438</th>\n",
       "      <td>MR.F.12C-Con.D0.R2_primer2</td>\n",
       "      <td>128</td>\n",
       "      <td>Unfractionated</td>\n",
       "      <td>Spencer_plate</td>\n",
       "      <td>Spencer_unfrac_redo</td>\n",
       "      <td>Spencer_unfrac_redo</td>\n",
       "      <td>H4</td>\n",
       "      <td>MR.F.12C-Con.D0.R2</td>\n",
       "      <td>12C-Con</td>\n",
       "      <td>0.0</td>\n",
       "      <td>...</td>\n",
       "      <td>NaN</td>\n",
       "      <td>NaN</td>\n",
       "      <td>NaN</td>\n",
       "      <td>NaN</td>\n",
       "      <td>NaN</td>\n",
       "      <td>NaN</td>\n",
       "      <td>TBD</td>\n",
       "      <td>resequenced_different_primer</td>\n",
       "      <td>GTCAGATA</td>\n",
       "      <td>CAGTGAGT</td>\n",
       "    </tr>\n",
       "  </tbody>\n",
       "</table>\n",
       "<p>2 rows × 38 columns</p>\n",
       "</div>"
      ],
      "text/plain": [
       "                         #Sample  primer_number        exp_type  \\\n",
       "1365  MR.M.12C-Con.D0.R2_primer2            122  Unfractionated   \n",
       "1438  MR.F.12C-Con.D0.R2_primer2            128  Unfractionated   \n",
       "\n",
       "     extraction_plate_ID           library_ID        pool_plate_ID  \\\n",
       "1365       Spencer_plate  Spencer_unfrac_redo  Spencer_unfrac_redo   \n",
       "1438       Spencer_plate  Spencer_unfrac_redo  Spencer_unfrac_redo   \n",
       "\n",
       "     pool_plate_well             soil_ID substrate  day     ...       \\\n",
       "1365              B4  MR.M.12C-Con.D0.R2   12C-Con  0.0     ...        \n",
       "1438              H4  MR.F.12C-Con.D0.R2   12C-Con  0.0     ...        \n",
       "\n",
       "      water_holding_capacity__g.g  percent_N  percent_C sand__perc silt__perc  \\\n",
       "1365                          NaN        NaN        NaN        NaN        NaN   \n",
       "1438                          NaN        NaN        NaN        NaN        NaN   \n",
       "\n",
       "     clay__perc DNA_conc__ng_ul                         notes  fwd_barcode  \\\n",
       "1365        NaN             TBD  resequenced_different_primer     CGTTACTA   \n",
       "1438        NaN             TBD  resequenced_different_primer     GTCAGATA   \n",
       "\n",
       "      rev_barcode  \n",
       "1365     CAGTGAGT  \n",
       "1438     CAGTGAGT  \n",
       "\n",
       "[2 rows x 38 columns]"
      ]
     },
     "execution_count": 7,
     "metadata": {},
     "output_type": "execute_result"
    }
   ],
   "source": [
    "# filter only metadata from this library\n",
    "df_meta = pd.DataFrame(df_meta[df_meta.library_ID==library])\n",
    "df_meta"
   ]
  },
  {
   "cell_type": "markdown",
   "metadata": {},
   "source": [
    "# Uncompress index files and create screed db"
   ]
  },
  {
   "cell_type": "code",
   "execution_count": 10,
   "metadata": {
    "collapsed": false
   },
   "outputs": [],
   "source": [
    "def uncomp(fileName, directory):\n",
    "    output = fileName.replace(\".gz\", \"\")\n",
    "    fileName = os.path.join(directory, fileName)\n",
    "    !cd $workdir; \\\n",
    "        pigz -k -d -p 20 -c -f $fileName > $output\n",
    "    return os.path.splitext(output)[0]\n",
    "    \n",
    "index_read1_file = uncomp(index_read1_file, seqdir)\n",
    "index_read2_file = uncomp(index_read2_file, seqdir)"
   ]
  },
  {
   "cell_type": "code",
   "execution_count": 11,
   "metadata": {
    "collapsed": false
   },
   "outputs": [],
   "source": [
    "os.chdir(workdir)\n",
    "screed.read_fastq_sequences(index_read1_file+\".fq\")\n",
    "screed.read_fastq_sequences(index_read2_file+\".fq\")\n",
    "\n",
    "index_read1_screed = index_read1_file + '.fq_screed'\n",
    "index_read2_screed = index_read2_file + '.fq_screed'"
   ]
  },
  {
   "cell_type": "markdown",
   "metadata": {},
   "source": [
    "# Demultiplex"
   ]
  },
  {
   "cell_type": "code",
   "execution_count": 12,
   "metadata": {
    "collapsed": true
   },
   "outputs": [],
   "source": [
    "# rev-comp functions\n",
    "def complement(seq): \n",
    "    idx = {'A': 'T', 'C': 'G', 'G': 'C', 'T': 'A', 'N':'N'} \n",
    "    idx.update( {x.lower():y.lower() for x,y in idx.items()} )\n",
    "    return ''.join(idx[x] for x in list(seq))\n",
    "\n",
    "def revComp(seq):\n",
    "    seq = seq[::-1]\n",
    "    return complement(seq)    "
   ]
  },
  {
   "cell_type": "code",
   "execution_count": 13,
   "metadata": {
    "collapsed": false
   },
   "outputs": [],
   "source": [
    "# loading/editing metadata\n",
    "\n",
    "df_meta.columns = ['Sample'] + list((df_meta.columns)[1:])\n",
    "\n",
    "df_meta['Barcode_FR'] = [(revComp(y) + x).lower() for x,y \\\n",
    "                         in zip(df_meta.fwd_barcode,df_meta.rev_barcode)]\n",
    "\n",
    "\n",
    "## format of barcode=>sample dict: [revBarcode=read1 + fwdBarcode=read2] : sampleID\n",
    "map_d = {x:y for x,y in zip(df_meta.Barcode_FR, df_meta.Sample)}"
   ]
  },
  {
   "cell_type": "code",
   "execution_count": 15,
   "metadata": {
    "collapsed": false
   },
   "outputs": [
    {
     "data": {
      "text/plain": [
       "[('actcactgcgttacta', 'MR.M.12C-Con.D0.R2_primer2'),\n",
       " ('actcactggtcagata', 'MR.F.12C-Con.D0.R2_primer2')]"
      ]
     },
     "execution_count": 15,
     "metadata": {},
     "output_type": "execute_result"
    }
   ],
   "source": [
    "# resulting dict of sample => barcode_FR \n",
    "n_print = 2\n",
    "\n",
    "[(list(map_d.keys())[i], map_d[list(map_d.keys())[i]]) for i in range(n_print)]"
   ]
  },
  {
   "cell_type": "code",
   "execution_count": 16,
   "metadata": {
    "collapsed": false
   },
   "outputs": [],
   "source": [
    "# loading screed databases \n",
    "ir1db = screed.ScreedDB(index_read1_screed)\n",
    "ir2db = screed.ScreedDB(index_read2_screed)\n",
    "amp_db = screed.ScreedDB(read12_screed)"
   ]
  },
  {
   "cell_type": "code",
   "execution_count": 17,
   "metadata": {
    "collapsed": false,
    "scrolled": false
   },
   "outputs": [
    {
     "name": "stdout",
     "output_type": "stream",
     "text": [
      "Unable to assign 5795043 reads to samples\n"
     ]
    }
   ],
   "source": [
    "# demultiplexing: naming reads by sample\n",
    "\n",
    "outFile = re.sub('fastq_screed', 'dmult.fastq', read12_screed)\n",
    "\n",
    "counter = 0\n",
    "unassigned = 0\n",
    "cnt = Counter()\n",
    "outFile = os.path.join(workdir, os.path.split(outFile)[1])\n",
    "c = 0\n",
    "with open(outFile, \"w\") as out:\n",
    "    for rec in amp_db.itervalues():\n",
    "        index_concat = ir1db[rec[\"name\"]][\"sequence\"] + ir2db[rec[\"name\"]][\"sequence\"]\n",
    "        \n",
    "        try:\n",
    "            new_name = map_d[index_concat.lower()] + \"_\" + str(counter) #case sensitive\n",
    "        except KeyError:\n",
    "            unassigned += 1\n",
    "            continue\n",
    "        counter += 1\n",
    "        cnt[map_d[index_concat.lower()]] += 1 #case sensitive\n",
    "        s, q = rec[\"sequence\"], rec[\"quality\"]\n",
    "        out.write(\"@%s orig_name=%s\\n%s\\n+\\n%s\\n\"%(new_name,rec[\"name\"],s,q))\n",
    "        \n",
    "        \n",
    "print (\"Unable to assign %s reads to samples\"%unassigned)"
   ]
  },
  {
   "cell_type": "code",
   "execution_count": 18,
   "metadata": {
    "collapsed": false
   },
   "outputs": [
    {
     "name": "stdout",
     "output_type": "stream",
     "text": [
      "Number of sequences: 20404.0\n"
     ]
    }
   ],
   "source": [
    "# number of sequences\n",
    "n_lines = !wc -l $outFile\n",
    "n_lines = int(re.sub(' .+', '', n_lines[0]))\n",
    "print('Number of sequences: {}'.format(n_lines/4))"
   ]
  },
  {
   "cell_type": "markdown",
   "metadata": {},
   "source": [
    "# Stats on sequences"
   ]
  },
  {
   "cell_type": "markdown",
   "metadata": {},
   "source": [
    "## Number of sequences per sample"
   ]
  },
  {
   "cell_type": "code",
   "execution_count": 19,
   "metadata": {
    "collapsed": false
   },
   "outputs": [],
   "source": [
    "# counting sequences for each sample\n",
    "re_seqName = re.compile(r'_\\d+ orig_name.+')\n",
    "\n",
    "seq_cnt = dict()\n",
    "with open(outFile, 'r') as fn:\n",
    "    for line in fn.readlines():\n",
    "        if re.search(re_seqName, line):\n",
    "            sampleName = re.sub(re_seqName, '', line).rstrip().lstrip('@')\n",
    "            try:\n",
    "                seq_cnt[sampleName] += 1\n",
    "            except KeyError:\n",
    "                seq_cnt[sampleName] = 1 "
   ]
  },
  {
   "cell_type": "code",
   "execution_count": 20,
   "metadata": {
    "collapsed": false
   },
   "outputs": [
    {
     "data": {
      "text/html": [
       "<div>\n",
       "<style scoped>\n",
       "    .dataframe tbody tr th:only-of-type {\n",
       "        vertical-align: middle;\n",
       "    }\n",
       "\n",
       "    .dataframe tbody tr th {\n",
       "        vertical-align: top;\n",
       "    }\n",
       "\n",
       "    .dataframe thead th {\n",
       "        text-align: right;\n",
       "    }\n",
       "</style>\n",
       "<table border=\"1\" class=\"dataframe\">\n",
       "  <thead>\n",
       "    <tr style=\"text-align: right;\">\n",
       "      <th></th>\n",
       "      <th>Sample</th>\n",
       "      <th>seq_count</th>\n",
       "    </tr>\n",
       "  </thead>\n",
       "  <tbody>\n",
       "    <tr>\n",
       "      <th>0</th>\n",
       "      <td>MR.M.12C-Con.D0.R2_primer2</td>\n",
       "      <td>6833</td>\n",
       "    </tr>\n",
       "    <tr>\n",
       "      <th>1</th>\n",
       "      <td>MR.F.12C-Con.D0.R2_primer2</td>\n",
       "      <td>13571</td>\n",
       "    </tr>\n",
       "  </tbody>\n",
       "</table>\n",
       "</div>"
      ],
      "text/plain": [
       "                       Sample  seq_count\n",
       "0  MR.M.12C-Con.D0.R2_primer2       6833\n",
       "1  MR.F.12C-Con.D0.R2_primer2      13571"
      ]
     },
     "execution_count": 20,
     "metadata": {},
     "output_type": "execute_result"
    }
   ],
   "source": [
    "# converting to dataframe\n",
    "df_seq_cnt = pd.DataFrame.from_dict(seq_cnt, orient='index')\n",
    "df_seq_cnt.index.name = 'Sample'\n",
    "df_seq_cnt.reset_index(inplace=True)\n",
    "df_seq_cnt.columns = ['Sample', 'seq_count']\n",
    "df_seq_cnt"
   ]
  },
  {
   "cell_type": "code",
   "execution_count": 21,
   "metadata": {
    "collapsed": false
   },
   "outputs": [
    {
     "data": {
      "image/png": "[encoded data removed]"
     },
     "metadata": {},
     "output_type": "display_data"
    }
   ],
   "source": [
    "%%R -i df_seq_cnt -w 900 -h 350\n",
    "\n",
    "df_seq_cnt$Sample = reorder(df_seq_cnt$Sample, desc(df_seq_cnt$seq_count))\n",
    "\n",
    "ggplot(df_seq_cnt, aes(Sample, seq_count)) +\n",
    "    geom_bar(stat='identity') +\n",
    "    theme_bw() +\n",
    "    theme( \n",
    "        text = element_text(size=16),\n",
    "        axis.text.x = element_text(angle=45, hjust=1)\n",
    "    )"
   ]
  },
  {
   "cell_type": "code",
   "execution_count": 22,
   "metadata": {
    "collapsed": false
   },
   "outputs": [
    {
     "data": {
      "text/plain": [
       "                      Sample seq_count\n",
       "0 MR.M.12C-Con.D0.R2_primer2      6833\n",
       "1 MR.F.12C-Con.D0.R2_primer2     13571\n"
      ]
     },
     "metadata": {},
     "output_type": "display_data"
    }
   ],
   "source": [
    "%%R\n",
    "df_seq_cnt[df_seq_cnt$seq_count < 50000,]"
   ]
  },
  {
   "cell_type": "markdown",
   "metadata": {
    "collapsed": true
   },
   "source": [
    "### Are the number of samples returned the same as expected?"
   ]
  },
  {
   "cell_type": "code",
   "execution_count": 23,
   "metadata": {
    "collapsed": false
   },
   "outputs": [
    {
     "name": "stdout",
     "output_type": "stream",
     "text": [
      "You got 2 samples\n",
      "You should have 2 samples\n"
     ]
    }
   ],
   "source": [
    "print (\"You got \" + str(len(df_seq_cnt)) + \" samples\")\n",
    "print (\"You should have \" + str(len(df_meta)) + \" samples\")\n"
   ]
  },
  {
   "cell_type": "code",
   "execution_count": null,
   "metadata": {
    "collapsed": true
   },
   "outputs": [],
   "source": []
  }
 ],
 "metadata": {
  "anaconda-cloud": {},
  "hide_input": true,
  "kernelspec": {
   "display_name": "Python 3",
   "language": "python",
   "name": "python3"
  },
  "language_info": {
   "codemirror_mode": {
    "name": "ipython",
    "version": 3
   },
   "file_extension": ".py",
   "mimetype": "text/x-python",
   "name": "python",
   "nbconvert_exporter": "python",
   "pygments_lexer": "ipython3",
   "version": "3.6.4"
  },
  "notify_time": "5"
 },
 "nbformat": 4,
 "nbformat_minor": 0
}
