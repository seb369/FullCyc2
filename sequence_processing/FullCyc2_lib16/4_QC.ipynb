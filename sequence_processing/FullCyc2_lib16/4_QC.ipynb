{
 "cells": [
  {
   "cell_type": "markdown",
   "metadata": {},
   "source": [
    "# Description\n",
    "\n",
    "* Quality control on MiSeq run data\n",
    "  * post-merging\n",
    "  * post-demultiplexing"
   ]
  },
  {
   "cell_type": "markdown",
   "metadata": {},
   "source": [
    "# Setting variables"
   ]
  },
  {
   "cell_type": "code",
   "execution_count": 1,
   "metadata": {
    "collapsed": true
   },
   "outputs": [],
   "source": [
    "import os\n",
    "\n",
    "baseDir = '/home/seq_data/fullCyc2/amplicon/515F-806R/final_dataset/library_QC/fullCyc2_lib16'\n",
    "workDir = os.path.join(baseDir, 'QC')\n",
    "seqFile = os.path.join(baseDir, 'pear_merged-fullCyc2_lib16.assembled.dmult.fastq')\n",
    "\n",
    "# number of processors\n",
    "nprocs = 20\n",
    "\n",
    "# max expected error\n",
    "maxee = 1"
   ]
  },
  {
   "cell_type": "markdown",
   "metadata": {},
   "source": [
    "# Init"
   ]
  },
  {
   "cell_type": "code",
   "execution_count": 2,
   "metadata": {
    "collapsed": true
   },
   "outputs": [],
   "source": [
    "import re\n",
    "import pandas as pd"
   ]
  },
  {
   "cell_type": "code",
   "execution_count": 3,
   "metadata": {
    "collapsed": false
   },
   "outputs": [],
   "source": [
    "%load_ext rpy2.ipython\n",
    "#%load_ext pushnote"
   ]
  },
  {
   "cell_type": "code",
   "execution_count": 4,
   "metadata": {
    "collapsed": false
   },
   "outputs": [
    {
     "name": "stderr",
     "output_type": "stream",
     "text": [
      "/home/sam/anaconda3/lib/python3.6/site-packages/rpy2/rinterface/__init__.py:145: RRuntimeWarning: \n",
      "Attaching package: ‘dplyr’\n",
      "\n",
      "\n",
      "  warnings.warn(x, RRuntimeWarning)\n",
      "/home/sam/anaconda3/lib/python3.6/site-packages/rpy2/rinterface/__init__.py:145: RRuntimeWarning: The following objects are masked from ‘package:stats’:\n",
      "\n",
      "    filter, lag\n",
      "\n",
      "\n",
      "  warnings.warn(x, RRuntimeWarning)\n",
      "/home/sam/anaconda3/lib/python3.6/site-packages/rpy2/rinterface/__init__.py:145: RRuntimeWarning: The following objects are masked from ‘package:base’:\n",
      "\n",
      "    intersect, setdiff, setequal, union\n",
      "\n",
      "\n",
      "  warnings.warn(x, RRuntimeWarning)\n",
      "/home/sam/anaconda3/lib/python3.6/site-packages/rpy2/rinterface/__init__.py:145: RRuntimeWarning: \n",
      "Attaching package: ‘gridExtra’\n",
      "\n",
      "\n",
      "  warnings.warn(x, RRuntimeWarning)\n",
      "/home/sam/anaconda3/lib/python3.6/site-packages/rpy2/rinterface/__init__.py:145: RRuntimeWarning: The following object is masked from ‘package:dplyr’:\n",
      "\n",
      "    combine\n",
      "\n",
      "\n",
      "  warnings.warn(x, RRuntimeWarning)\n"
     ]
    }
   ],
   "source": [
    "%%R\n",
    "library(ggplot2)\n",
    "library(dplyr)\n",
    "library(tidyr)\n",
    "library(gridExtra)"
   ]
  },
  {
   "cell_type": "code",
   "execution_count": 5,
   "metadata": {
    "collapsed": false
   },
   "outputs": [
    {
     "name": "stdout",
     "output_type": "stream",
     "text": [
      "/home/seq_data/fullCyc2/amplicon/515F-806R/final_dataset/library_QC/fullCyc2_lib16/QC\n"
     ]
    }
   ],
   "source": [
    "if not os.path.isdir(workDir):\n",
    "    os.makedirs(workDir)\n",
    "%cd $workDir"
   ]
  },
  {
   "cell_type": "code",
   "execution_count": 6,
   "metadata": {
    "collapsed": false
   },
   "outputs": [
    {
     "name": "stdout",
     "output_type": "stream",
     "text": [
      "File exists: /home/seq_data/fullCyc2/amplicon/515F-806R/final_dataset/library_QC/fullCyc2_lib16/pear_merged-fullCyc2_lib16.assembled.dmult.fastq\n"
     ]
    }
   ],
   "source": [
    "# symlinking demult seq file into CQ\n",
    "tmp = os.path.join(baseDir, seqFile)\n",
    "if not os.path.isfile(seqFile):\n",
    "    tmp2 = os.path.split(tmp)[1]\n",
    "    os.symlink(tmp, tmp2)\n",
    "else:\n",
    "    print ('File exists: {}'.format(os.path.join(workDir, seqFile)))"
   ]
  },
  {
   "cell_type": "markdown",
   "metadata": {},
   "source": [
    "# Merged read quality filtering"
   ]
  },
  {
   "cell_type": "markdown",
   "metadata": {},
   "source": [
    "## Discard sequences that exceed max expected error theshold"
   ]
  },
  {
   "cell_type": "code",
   "execution_count": 7,
   "metadata": {
    "collapsed": false
   },
   "outputs": [
    {
     "data": {
      "text/plain": [
       "'pear_merged-fullCyc2_lib16.assembled.dmult_maxee1.fasta'"
      ]
     },
     "execution_count": 7,
     "metadata": {},
     "output_type": "execute_result"
    }
   ],
   "source": [
    "qcFile = os.path.split(seqFile)[1]\n",
    "qcFile = os.path.splitext(qcFile)[0] + '_maxee{}.fasta'.format(maxee)\n",
    "qcFile"
   ]
  },
  {
   "cell_type": "code",
   "execution_count": 8,
   "metadata": {
    "collapsed": true
   },
   "outputs": [],
   "source": [
    "%%bash -s \"$seqFile\" \"$nprocs\" \"$maxee\" \"$qcFile\"\n",
    "\n",
    "mkdir /home/sam/tmp/tmpdir1\n",
    "trap \"rm -r /home/sam/tmp/tmpdir1\" 1 2 3 15\n",
    "split -d -l 2000000 $1 /home/sam/tmp/tmpdir1/Block\n",
    "\n",
    "mkdir /home/sam/tmp/tmpdir2\n",
    "trap \"rm -r /home/sam/tmp/tmpdir2\" 1 2 3 15\n",
    "ls /home/sam/tmp/tmpdir1/Block?? | parallel --gnu -j $2 -k \"usearch -fastq_filter {} -fastq_maxee $3 \\\n",
    "-fastaout /home/sam/tmp/tmpdir2/{#}.fasta >/dev/null 2>&1 && cat /home/sam/tmp/tmpdir2/{#}.fasta\" > $4\n",
    "rm -r /home/sam/tmp/tmpdir2 /home/sam/tmp/tmpdir1"
   ]
  },
  {
   "cell_type": "code",
   "execution_count": 9,
   "metadata": {
    "collapsed": false
   },
   "outputs": [
    {
     "name": "stdout",
     "output_type": "stream",
     "text": [
      "Max expected error cutoff: 1\n",
      "Number of sequence pre-filter: 7885567\n",
      "Number of sequences post-filter: 7859660\n",
      "\n",
      ">MR.M.13C-Ami.D14.R1_Frac20_0 orig_name=M02465:380:000000000-B887N:1:1101:15622:1331\n",
      "TACAGAGGGTGCAAGCGTTAATCGGAATTACTGGGCGTAAAGCGCGCGTAGGTGGTTTGTTAAGTTGGATGTGAAAGCCC\n",
      "CGGGCTCAACCTGGGAACTGCATCCAAAACTGGCAAGCTAGAGTAGGGCAGAGGGTGGTGGAATTTCCTGTGTAGCGGTG\n",
      "AAATGCGTAGATATCGGAAGGAACATCAGTGGCGAAAGCGACTTCCTGGACCAATACTAACGCTCATGTGCGAAAGCGTG\n",
      "GGGAGCAAACAGG\n",
      ">MR.M.13C-Ami.D14.R1_Frac8_1 orig_name=M02465:380:000000000-B887N:1:1101:16072:1335\n",
      "GACGAAGGGGGCTAGCGTTGTTCGGAATTACTGGGCGTAAAGCGAGTGTAGGTGGTTGTCCAAGTTGGATGTGAAAGCCT\n",
      "TGAGCTCAACTCAAGAAATGCATTCAGGACTGGGCGGCTAGAGGACCGGAGAGGATAGTGGAATTCCCAGTGTAGTGGTG\n"
     ]
    }
   ],
   "source": [
    "%%bash -s \"$seqFile\" \"$nprocs\" \"$maxee\" \"$qcFile\"\n",
    "\n",
    "printf \"Max expected error cutoff: \"\n",
    "echo $3\n",
    "\n",
    "printf \"Number of sequence pre-filter: \"\n",
    "grep -c \"orig_name=\" $1\n",
    "\n",
    "printf \"Number of sequences post-filter: \"\n",
    "grep -c \">\" $4\n",
    "\n",
    "echo '' \n",
    "head -n 8 $4"
   ]
  },
  {
   "cell_type": "markdown",
   "metadata": {},
   "source": [
    "## Remove seqs with 'N' characters"
   ]
  },
  {
   "cell_type": "code",
   "execution_count": 10,
   "metadata": {
    "collapsed": false
   },
   "outputs": [
    {
     "data": {
      "text/plain": [
       "'pear_merged-fullCyc2_lib16.assembled.dmult_maxee1_noN.fasta'"
      ]
     },
     "execution_count": 10,
     "metadata": {},
     "output_type": "execute_result"
    }
   ],
   "source": [
    "qcFile2 = os.path.splitext(qcFile)[0] + '_noN.fasta'\n",
    "qcFile2"
   ]
  },
  {
   "cell_type": "code",
   "execution_count": 11,
   "metadata": {
    "collapsed": false
   },
   "outputs": [
    {
     "name": "stdout",
     "output_type": "stream",
     "text": [
      "Number of sequence pre-filter: 7859660\n",
      "Number of sequences post-filter: 7859660\n"
     ]
    }
   ],
   "source": [
    "%%bash -s \"$qcFile\" \"$qcFile2\"\n",
    "\n",
    "bioawk -c fastx '{if ($seq !~ /N/){print \">\" $name \" \" $4 \"\\n\" $seq}}' $1 > $2\n",
    "\n",
    "printf \"Number of sequence pre-filter: \"\n",
    "grep -c \">\" $1\n",
    "\n",
    "printf \"Number of sequences post-filter: \"\n",
    "grep -c \">\" $2"
   ]
  },
  {
   "cell_type": "markdown",
   "metadata": {},
   "source": [
    "## Alignment-based QC with Mothur"
   ]
  },
  {
   "cell_type": "code",
   "execution_count": 12,
   "metadata": {
    "collapsed": false
   },
   "outputs": [
    {
     "name": "stdout",
     "output_type": "stream",
     "text": [
      "MR.M.13C-Ami.D14.R1_Frac20_0\tMR.M.13C-Ami.D14.R1_Frac20\n",
      "MR.M.13C-Ami.D14.R1_Frac8_1\tMR.M.13C-Ami.D14.R1_Frac8\n",
      "MR.M.13C-Ami.D14.R1_Frac6_2\tMR.M.13C-Ami.D14.R1_Frac6\n",
      "CC.A.151027.H2O-Con.D02_3\tCC.A.151027.H2O-Con.D02\n",
      "BH.F.151026.12C-Xyl.D04_4\tBH.F.151026.12C-Xyl.D04\n",
      "MR.M.13C-Ami.D14.R1_Frac6_6\tMR.M.13C-Ami.D14.R1_Frac6\n",
      "MW.M.151027.12C-Ami.D02_7\tMW.M.151027.12C-Ami.D02\n",
      "MR.M.13C-Ami.D14.R1_Frac7_8\tMR.M.13C-Ami.D14.R1_Frac7\n",
      "CF.F.151027.H2O-Con.D14_9\tCF.F.151027.H2O-Con.D14\n",
      "EL.M.151026.12C-Pal.D28_10\tEL.M.151026.12C-Pal.D28\n"
     ]
    }
   ],
   "source": [
    "%%bash -s \"$qcFile2\"\n",
    "# making mothur group file\n",
    "\n",
    "perl -ne 'if(/^>/){ s/>(.+)(_\\d+) .+/$1$2\\t$1/; print;}' $1 > group_file.txt\n",
    "head group_file.txt"
   ]
  },
  {
   "cell_type": "code",
   "execution_count": 13,
   "metadata": {
    "collapsed": false
   },
   "outputs": [
    {
     "name": "stdout",
     "output_type": "stream",
     "text": [
      "MR.M.13C-Ami.D14.R1_Frac20_0\tMR.M.13C-Ami.D14.R1_Frac20\r\n",
      "MR.M.13C-Ami.D14.R1_Frac8_1\tMR.M.13C-Ami.D14.R1_Frac8\r\n",
      "MR.M.13C-Ami.D14.R1_Frac6_2\tMR.M.13C-Ami.D14.R1_Frac6\r\n",
      "CC.A.151027.H2O-Con.D02_3\tCC.A.151027.H2O-Con.D02\r\n",
      "BH.F.151026.12C-Xyl.D04_4\tBH.F.151026.12C-Xyl.D04\r\n",
      "MR.M.13C-Ami.D14.R1_Frac6_6\tMR.M.13C-Ami.D14.R1_Frac6\r\n",
      "MW.M.151027.12C-Ami.D02_7\tMW.M.151027.12C-Ami.D02\r\n",
      "MR.M.13C-Ami.D14.R1_Frac7_8\tMR.M.13C-Ami.D14.R1_Frac7\r\n",
      "CF.F.151027.H2O-Con.D14_9\tCF.F.151027.H2O-Con.D14\r\n",
      "EL.M.151026.12C-Pal.D28_10\tEL.M.151026.12C-Pal.D28\r\n",
      "MR.M.13C-Ami.D14.R1_Frac5_11\tMR.M.13C-Ami.D14.R1_Frac5\r\n",
      "CC.A.151027.H2O-Con.D02_12\tCC.A.151027.H2O-Con.D02\r\n",
      "MR.M.13C-Ami.D14.R1_Frac20_13\tMR.M.13C-Ami.D14.R1_Frac20\r\n",
      "BH.F.151026.12C-Pal.D28_14\tBH.F.151026.12C-Pal.D28\r\n",
      "MR.M.13C-Ami.D14.R1_Frac26_15\tMR.M.13C-Ami.D14.R1_Frac26\r\n",
      "MR.M.13C-Ami.D14.R1_Frac6_16\tMR.M.13C-Ami.D14.R1_Frac6\r\n",
      "MR.M.13C-Ami.D14.R1_Frac18_17\tMR.M.13C-Ami.D14.R1_Frac18\r\n",
      "PP.A.151026.H2O-Con.D28_18\tPP.A.151026.H2O-Con.D28\r\n",
      "MR.M.13C-Ami.D14.R1_Frac11_19\tMR.M.13C-Ami.D14.R1_Frac11\r\n",
      "MR.M.13C-Ami.D14.R1_Frac9_20\tMR.M.13C-Ami.D14.R1_Frac9\r\n",
      "CC.A.151027.H2O-Con.D02_21\tCC.A.151027.H2O-Con.D02\r\n",
      "MW.A.151027.12C-Xyl.D02_22\tMW.A.151027.12C-Xyl.D02\r\n",
      "EL.F.151026.H2O-Con.D02_23\tEL.F.151026.H2O-Con.D02\r\n",
      "MR.M.13C-Ami.D14.R1_Frac8_24\tMR.M.13C-Ami.D14.R1_Frac8\r\n",
      "MR.M.13C-Ami.D14.R1_Frac13_25\tMR.M.13C-Ami.D14.R1_Frac13\r\n",
      "MR.M.13C-Ami.D14.R1_Frac13_26\tMR.M.13C-Ami.D14.R1_Frac13\r\n",
      "MW.A.151027.12C-Xyl.D02_27\tMW.A.151027.12C-Xyl.D02\r\n",
      "MR.M.13C-Ami.D14.R1_Frac12_28\tMR.M.13C-Ami.D14.R1_Frac12\r\n",
      "CC.F.151027.12C-Cel.D28_29\tCC.F.151027.12C-Cel.D28\r\n",
      "CC.A.151027.H2O-Con.D02_30\tCC.A.151027.H2O-Con.D02\r\n",
      "PP.M.151026.H2O-Con.D02_31\tPP.M.151026.H2O-Con.D02\r\n",
      "MR.M.13C-Ami.D14.R1_Frac18_32\tMR.M.13C-Ami.D14.R1_Frac18\r\n",
      "PP.A.151026.12C-Van.D02_33\tPP.A.151026.12C-Van.D02\r\n",
      "PP.A.151026.H2O-Con.D28_34\tPP.A.151026.H2O-Con.D28\r\n",
      "MR.M.13C-Ami.D14.R1_Frac18_35\tMR.M.13C-Ami.D14.R1_Frac18\r\n",
      "CC.A.151027.H2O-Con.D02_36\tCC.A.151027.H2O-Con.D02\r\n",
      "MW.A.151027.12C-Xyl.D04_37\tMW.A.151027.12C-Xyl.D04\r\n",
      "MR.M.13C-Ami.D14.R1_Frac7_38\tMR.M.13C-Ami.D14.R1_Frac7\r\n",
      "MW.F.151027.12C-Pal.D14_39\tMW.F.151027.12C-Pal.D14\r\n",
      "MR.M.13C-Ami.D14.R1_Frac7_40\tMR.M.13C-Ami.D14.R1_Frac7\r\n",
      "BH.F.151026.H2O-Con.D14_41\tBH.F.151026.H2O-Con.D14\r\n",
      "CF.M.151027.12C-Cel.D14_42\tCF.M.151027.12C-Cel.D14\r\n",
      "CC.F.151027.12C-Xyl.D02_43\tCC.F.151027.12C-Xyl.D02\r\n",
      "MR.M.13C-Ami.D14.R1_Frac9_44\tMR.M.13C-Ami.D14.R1_Frac9\r\n",
      "CC.F.151027.12C-Xyl.D02_45\tCC.F.151027.12C-Xyl.D02\r\n",
      "CC.M.151027.12C-Xyl.D02_46\tCC.M.151027.12C-Xyl.D02\r\n",
      "MR.M.13C-Ami.D14.R1_Frac8_47\tMR.M.13C-Ami.D14.R1_Frac8\r\n",
      "MR.M.13C-Ami.D14.R1_Frac8_48\tMR.M.13C-Ami.D14.R1_Frac8\r\n",
      "PP.A.151026.H2O-Con.D28_49\tPP.A.151026.H2O-Con.D28\r\n",
      "MW.A.151027.12C-Xyl.D02_50\tMW.A.151027.12C-Xyl.D02\r\n",
      "MW.M.151027.H2O-Con.D02_51\tMW.M.151027.H2O-Con.D02\r\n",
      "EL.M.151026.12C-Pal.D28_52\tEL.M.151026.12C-Pal.D28\r\n",
      "CC.A.151027.12C-Pal.D14_53\tCC.A.151027.12C-Pal.D14\r\n",
      "MR.M.13C-Ami.D14.R1_Frac22_54\tMR.M.13C-Ami.D14.R1_Frac22\r\n",
      "CC.A.151027.H2O-Con.D02_55\tCC.A.151027.H2O-Con.D02\r\n",
      "CC.A.151027.12C-Pal.D14_56\tCC.A.151027.12C-Pal.D14\r\n",
      "MR.A.151027.12C-Cel.D28_57\tMR.A.151027.12C-Cel.D28\r\n",
      "EL.A.151026.12C-Pal.D14_58\tEL.A.151026.12C-Pal.D14\r\n",
      "EL.A.151026.12C-Pal.D14_59\tEL.A.151026.12C-Pal.D14\r\n",
      "MR.M.13C-Ami.D14.R1_Frac11_60\tMR.M.13C-Ami.D14.R1_Frac11\r\n",
      "MR.M.151027.H2O-Con.D14_61\tMR.M.151027.H2O-Con.D14\r\n",
      "MR.M.13C-Ami.D14.R1_Frac19_62\tMR.M.13C-Ami.D14.R1_Frac19\r\n",
      "MW.M.151027.12C-Xyl.D04_63\tMW.M.151027.12C-Xyl.D04\r\n",
      "SS.M.151026.H2O-Con.D02_64\tSS.M.151026.H2O-Con.D02\r\n",
      "SS.M.151026.H2O-Con.D02_65\tSS.M.151026.H2O-Con.D02\r\n",
      "MR.M.13C-Ami.D14.R1_Frac26_66\tMR.M.13C-Ami.D14.R1_Frac26\r\n",
      "MR.M.13C-Ami.D14.R1_Frac27_67\tMR.M.13C-Ami.D14.R1_Frac27\r\n",
      "MR.M.13C-Ami.D14.R1_Frac15_68\tMR.M.13C-Ami.D14.R1_Frac15\r\n",
      "CC.A.151027.H2O-Con.D02_69\tCC.A.151027.H2O-Con.D02\r\n",
      "MW.A.151027.H2O-Con.D14_70\tMW.A.151027.H2O-Con.D14\r\n",
      "MR.M.13C-Ami.D14.R1_Frac25_71\tMR.M.13C-Ami.D14.R1_Frac25\r\n",
      "MW.F.151027.H2O-Con.D02_72\tMW.F.151027.H2O-Con.D02\r\n",
      "MR.M.13C-Ami.D14.R1_Frac23_73\tMR.M.13C-Ami.D14.R1_Frac23\r\n",
      "MR.M.13C-Ami.D14.R1_Frac5_74\tMR.M.13C-Ami.D14.R1_Frac5\r\n",
      "PP.A.151026.12C-Ami.D02_75\tPP.A.151026.12C-Ami.D02\r\n",
      "MR.M.13C-Ami.D14.R1_Frac14_76\tMR.M.13C-Ami.D14.R1_Frac14\r\n",
      "MR.A.151027.12C-Cel.D28_77\tMR.A.151027.12C-Cel.D28\r\n",
      "MP.A.151026.12C-Pal.D14_78\tMP.A.151026.12C-Pal.D14\r\n",
      "MR.M.13C-Ami.D14.R1_Frac9_79\tMR.M.13C-Ami.D14.R1_Frac9\r\n",
      "MR.M.13C-Ami.D14.R1_Frac25_80\tMR.M.13C-Ami.D14.R1_Frac25\r\n",
      "EL.F.151026.12C-Ami.D04_81\tEL.F.151026.12C-Ami.D04\r\n",
      "MF.M.151026.12C-Cel.D14_82\tMF.M.151026.12C-Cel.D14\r\n",
      "MW.F.151027.12C-Ami.D02_83\tMW.F.151027.12C-Ami.D02\r\n",
      "CC.A.151027.H2O-Con.D02_84\tCC.A.151027.H2O-Con.D02\r\n",
      "MW.A.151027.12C-Xyl.D02_85\tMW.A.151027.12C-Xyl.D02\r\n",
      "SS.M.151026.H2O-Con.D02_86\tSS.M.151026.H2O-Con.D02\r\n",
      "MP.A.151026.H2O-Con.D14_87\tMP.A.151026.H2O-Con.D14\r\n",
      "MR.M.13C-Ami.D14.R1_Frac18_88\tMR.M.13C-Ami.D14.R1_Frac18\r\n",
      "PP.A.151026.12C-Ami.D02_89\tPP.A.151026.12C-Ami.D02\r\n",
      "MR.M.13C-Ami.D14.R1_Frac27_90\tMR.M.13C-Ami.D14.R1_Frac27\r\n",
      "MR.M.13C-Ami.D14.R1_Frac9_91\tMR.M.13C-Ami.D14.R1_Frac9\r\n",
      "CC.M.151027.12C-Xyl.D02_92\tCC.M.151027.12C-Xyl.D02\r\n",
      "CC.A.151027.H2O-Con.D02_93\tCC.A.151027.H2O-Con.D02\r\n",
      "EL.M.151026.12C-Van.D02_94\tEL.M.151026.12C-Van.D02\r\n",
      "MR.M.13C-Ami.D14.R1_Frac19_95\tMR.M.13C-Ami.D14.R1_Frac19\r\n",
      "MR.M.13C-Ami.D14.R1_Frac27_96\tMR.M.13C-Ami.D14.R1_Frac27\r\n",
      "SS.M.151026.H2O-Con.D02_97\tSS.M.151026.H2O-Con.D02\r\n",
      "MR.M.13C-Ami.D14.R1_Frac19_98\tMR.M.13C-Ami.D14.R1_Frac19\r\n",
      "MR.M.13C-Ami.D14.R1_Frac18_99\tMR.M.13C-Ami.D14.R1_Frac18\r\n",
      "MR.M.13C-Ami.D14.R1_Frac25_100\tMR.M.13C-Ami.D14.R1_Frac25\r\n",
      "MR.M.13C-Ami.D14.R1_Frac14_101\tMR.M.13C-Ami.D14.R1_Frac14\r\n",
      "MF.M.151026.12C-Cel.D14_102\tMF.M.151026.12C-Cel.D14\r\n",
      "SS.M.151026.H2O-Con.D02_103\tSS.M.151026.H2O-Con.D02\r\n",
      "MR.M.13C-Ami.D14.R1_Frac27_5\tMR.M.13C-Ami.D14.R1_Frac27\r\n",
      "SS.F.151026.H2O-Con.D28_105\tSS.F.151026.H2O-Con.D28\r\n",
      "MW.F.151027.H2O-Con.D14_106\tMW.F.151027.H2O-Con.D14\r\n",
      "MR.F.151027.12C-Xyl.D02_107\tMR.F.151027.12C-Xyl.D02\r\n",
      "EL.M.151026.12C-Van.D02_108\tEL.M.151026.12C-Van.D02\r\n",
      "SS.M.151026.H2O-Con.D02_111\tSS.M.151026.H2O-Con.D02\r\n",
      "MR.M.13C-Ami.D14.R1_Frac14_112\tMR.M.13C-Ami.D14.R1_Frac14\r\n",
      "MP.A.151026.H2O-Con.D14_113\tMP.A.151026.H2O-Con.D14\r\n",
      "MP.A.151026.H2O-Con.D14_110\tMP.A.151026.H2O-Con.D14\r\n",
      "CC.A.151027.H2O-Con.D02_109\tCC.A.151027.H2O-Con.D02\r\n",
      "MR.M.13C-Ami.D14.R1_Frac26_116\tMR.M.13C-Ami.D14.R1_Frac26\r\n",
      "EL.M.151026.12C-Van.D04_117\tEL.M.151026.12C-Van.D04\r\n",
      "EL.M.151026.12C-Van.D02_118\tEL.M.151026.12C-Van.D02\r\n",
      "MR.M.13C-Ami.D14.R1_Frac24_119\tMR.M.13C-Ami.D14.R1_Frac24\r\n",
      "EL.M.151026.12C-Van.D02_120\tEL.M.151026.12C-Van.D02\r\n",
      "MR.M.13C-Ami.D14.R1_Frac9_121\tMR.M.13C-Ami.D14.R1_Frac9\r\n",
      "MR.M.13C-Ami.D14.R1_Frac18_122\tMR.M.13C-Ami.D14.R1_Frac18\r\n",
      "MP.A.151026.H2O-Con.D14_123\tMP.A.151026.H2O-Con.D14\r\n",
      "MR.M.13C-Ami.D14.R1_Frac6_124\tMR.M.13C-Ami.D14.R1_Frac6\r\n",
      "MW.A.151027.12C-Xyl.D04_125\tMW.A.151027.12C-Xyl.D04\r\n",
      "MR.M.13C-Ami.D14.R1_Frac18_126\tMR.M.13C-Ami.D14.R1_Frac18\r\n",
      "EL.F.151026.12C-Ami.D04_127\tEL.F.151026.12C-Ami.D04\r\n",
      "MR.M.13C-Ami.D14.R1_Frac7_128\tMR.M.13C-Ami.D14.R1_Frac7\r\n",
      "MW.F.151027.H2O-Con.D14_129\tMW.F.151027.H2O-Con.D14\r\n",
      "SS.F.151026.H2O-Con.D28_130\tSS.F.151026.H2O-Con.D28\r\n",
      "MR.M.13C-Ami.D14.R1_Frac13_131\tMR.M.13C-Ami.D14.R1_Frac13\r\n",
      "EL.M.151026.12C-Pal.D28_132\tEL.M.151026.12C-Pal.D28\r\n",
      "MR.A.151027.12C-Cel.D28_133\tMR.A.151027.12C-Cel.D28\r\n",
      "MR.A.151027.12C-Xyl.D02_134\tMR.A.151027.12C-Xyl.D02\r\n",
      "MR.M.13C-Ami.D14.R1_Frac14_135\tMR.M.13C-Ami.D14.R1_Frac14\r\n",
      "PP.M.151026.H2O-Con.D04_136\tPP.M.151026.H2O-Con.D04\r\n",
      "EL.F.151026.12C-Ami.D04_137\tEL.F.151026.12C-Ami.D04\r\n",
      "EL.M.151026.12C-Van.D02_138\tEL.M.151026.12C-Van.D02\r\n",
      "EL.F.151026.12C-Ami.D04_139\tEL.F.151026.12C-Ami.D04\r\n",
      "MR.M.13C-Ami.D14.R1_Frac14_140\tMR.M.13C-Ami.D14.R1_Frac14\r\n",
      "MR.M.13C-Ami.D14.R1_Frac20_141\tMR.M.13C-Ami.D14.R1_Frac20\r\n",
      "MR.M.13C-Ami.D14.R1_Frac26_142\tMR.M.13C-Ami.D14.R1_Frac26\r\n",
      "MF.F.151026.12C-Ami.D04_143\tMF.F.151026.12C-Ami.D04\r\n",
      "MR.M.13C-Ami.D14.R1_Frac8_144\tMR.M.13C-Ami.D14.R1_Frac8\r\n",
      "MR.M.13C-Ami.D14.R1_Frac14_145\tMR.M.13C-Ami.D14.R1_Frac14\r\n",
      "EL.M.151026.12C-Van.D02_146\tEL.M.151026.12C-Van.D02\r\n",
      "MR.M.13C-Ami.D14.R1_Frac24_147\tMR.M.13C-Ami.D14.R1_Frac24\r\n",
      "EL.F.151026.12C-Ami.D04_148\tEL.F.151026.12C-Ami.D04\r\n",
      "EL.M.151026.12C-Van.D02_149\tEL.M.151026.12C-Van.D02\r\n",
      "MR.M.13C-Ami.D14.R1_Frac12_150\tMR.M.13C-Ami.D14.R1_Frac12\r\n",
      "EL.M.151026.12C-Van.D02_151\tEL.M.151026.12C-Van.D02\r\n",
      "CC.F.151027.12C-Cel.D28_152\tCC.F.151027.12C-Cel.D28\r\n",
      "MR.M.13C-Ami.D14.R1_Frac6_153\tMR.M.13C-Ami.D14.R1_Frac6\r\n",
      "MF.F.151026.12C-Ami.D04_154\tMF.F.151026.12C-Ami.D04\r\n",
      "MR.M.13C-Ami.D14.R1_NC_155\tMR.M.13C-Ami.D14.R1_NC\r\n",
      "MR.M.13C-Ami.D14.R1_Frac7_156\tMR.M.13C-Ami.D14.R1_Frac7\r\n",
      "CF.A.151027.12C-Xyl.D04_157\tCF.A.151027.12C-Xyl.D04\r\n",
      "EL.F.151026.12C-Ami.D04_158\tEL.F.151026.12C-Ami.D04\r\n",
      "CF.F.151027.H2O-Con.D14_159\tCF.F.151027.H2O-Con.D14\r\n",
      "MR.M.13C-Ami.D14.R1_Frac7_160\tMR.M.13C-Ami.D14.R1_Frac7\r\n",
      "BH.A.151026.12C-Xyl.D04_161\tBH.A.151026.12C-Xyl.D04\r\n",
      "MR.A.151027.12C-Cel.D28_162\tMR.A.151027.12C-Cel.D28\r\n",
      "MP.F.151026.12C-Ami.D04_163\tMP.F.151026.12C-Ami.D04\r\n",
      "SS.M.151026.12C-Pal.D14_164\tSS.M.151026.12C-Pal.D14\r\n",
      "PP.M.151026.H2O-Con.D04_165\tPP.M.151026.H2O-Con.D04\r\n",
      "EL.F.151026.12C-Ami.D04_166\tEL.F.151026.12C-Ami.D04\r\n",
      "PP.A.151026.H2O-Con.D28_167\tPP.A.151026.H2O-Con.D28\r\n",
      "BH.F.151026.H2O-Con.D02_168\tBH.F.151026.H2O-Con.D02\r\n",
      "MR.M.13C-Ami.D14.R1_Frac17_169\tMR.M.13C-Ami.D14.R1_Frac17\r\n",
      "MR.M.13C-Ami.D14.R1_Frac11_170\tMR.M.13C-Ami.D14.R1_Frac11\r\n",
      "MR.M.13C-Ami.D14.R1_Frac12_171\tMR.M.13C-Ami.D14.R1_Frac12\r\n",
      "MR.M.13C-Ami.D14.R1_Frac14_172\tMR.M.13C-Ami.D14.R1_Frac14\r\n",
      "MR.M.13C-Ami.D14.R1_Frac14_173\tMR.M.13C-Ami.D14.R1_Frac14\r\n",
      "PP.M.151026.H2O-Con.D02_174\tPP.M.151026.H2O-Con.D02\r\n",
      "EL.A.151026.12C-Pal.D14_175\tEL.A.151026.12C-Pal.D14\r\n",
      "MR.M.13C-Ami.D14.R1_Frac20_176\tMR.M.13C-Ami.D14.R1_Frac20\r\n",
      "BH.F.151026.H2O-Con.D02_177\tBH.F.151026.H2O-Con.D02\r\n",
      "MW.A.151027.12C-Xyl.D02_178\tMW.A.151027.12C-Xyl.D02\r\n",
      "EL.M.151026.12C-Van.D02_179\tEL.M.151026.12C-Van.D02\r\n",
      "MR.M.13C-Ami.D14.R1_Frac21_180\tMR.M.13C-Ami.D14.R1_Frac21\r\n",
      "SS.F.151026.12C-Van.D04_181\tSS.F.151026.12C-Van.D04\r\n",
      "MR.M.13C-Ami.D14.R1_NC_182\tMR.M.13C-Ami.D14.R1_NC\r\n",
      "MR.M.13C-Ami.D14.R1_NC_183\tMR.M.13C-Ami.D14.R1_NC\r\n",
      "MW.A.151027.12C-Xyl.D02_184\tMW.A.151027.12C-Xyl.D02\r\n",
      "MR.M.13C-Ami.D14.R1_Frac24_185\tMR.M.13C-Ami.D14.R1_Frac24\r\n",
      "PP.M.151026.H2O-Con.D02_186\tPP.M.151026.H2O-Con.D02\r\n",
      "BH.F.151026.H2O-Con.D02_187\tBH.F.151026.H2O-Con.D02\r\n",
      "MR.M.13C-Ami.D14.R1_Frac22_188\tMR.M.13C-Ami.D14.R1_Frac22\r\n",
      "MR.M.13C-Ami.D14.R1_Frac10_189\tMR.M.13C-Ami.D14.R1_Frac10\r\n",
      "SS.F.151026.H2O-Con.D28_190\tSS.F.151026.H2O-Con.D28\r\n",
      "CC.F.151027.12C-Cel.D28_191\tCC.F.151027.12C-Cel.D28\r\n",
      "MW.M.151027.12C-Xyl.D04_192\tMW.M.151027.12C-Xyl.D04\r\n",
      "PP.A.151026.H2O-Con.D28_193\tPP.A.151026.H2O-Con.D28\r\n",
      "MR.M.13C-Ami.D14.R1_Frac10_194\tMR.M.13C-Ami.D14.R1_Frac10\r\n",
      "CF.F.151027.H2O-Con.D14_195\tCF.F.151027.H2O-Con.D14\r\n",
      "BH.A.151026.12C-Xyl.D04_196\tBH.A.151026.12C-Xyl.D04\r\n",
      "CC.A.151027.12C-Pal.D14_197\tCC.A.151027.12C-Pal.D14\r\n",
      "CC.F.151027.12C-Cel.D28_198\tCC.F.151027.12C-Cel.D28\r\n",
      "MF.F.151026.12C-Ami.D04_199\tMF.F.151026.12C-Ami.D04\r\n",
      "BH.F.151026.H2O-Con.D14_200\tBH.F.151026.H2O-Con.D14\r\n",
      "MP.A.151026.H2O-Con.D14_201\tMP.A.151026.H2O-Con.D14\r\n",
      "MR.M.13C-Ami.D14.R1_Frac18_202\tMR.M.13C-Ami.D14.R1_Frac18\r\n"
     ]
    }
   ],
   "source": [
    "! head -n 200 group_file.txt"
   ]
  },
  {
   "cell_type": "code",
   "execution_count": 14,
   "metadata": {
    "collapsed": false
   },
   "outputs": [
    {
     "name": "stdout",
     "output_type": "stream",
     "text": [
      "7838000\t3283036\r\n",
      "7839000\t3283485\r\n",
      "7840000\t3283864\r\n",
      "7841000\t3284272\r\n",
      "7842000\t3284715\r\n",
      "7843000\t3285146\r\n",
      "7844000\t3285577\r\n",
      "7845000\t3286050\r\n",
      "7846000\t3286533\r\n",
      "7847000\t3287080\r\n",
      "7848000\t3287568\r\n",
      "7849000\t3288045\r\n",
      "7850000\t3288505\r\n",
      "7851000\t3288946\r\n",
      "7852000\t3289414\r\n",
      "7853000\t3289915\r\n",
      "7854000\t3290400\r\n",
      "7855000\t3290934\r\n",
      "7856000\t3291469\r\n",
      "7857000\t3291998\r\n",
      "7858000\t3292533\r\n",
      "7859000\t3293075\r\n",
      "7859660\t3293454\r\n",
      "\r\n",
      "Output File Names: \r\n",
      "pear_merged-fullCyc2_lib16.assembled.dmult_maxee1_noN.names\r\n",
      "pear_merged-fullCyc2_lib16.assembled.dmult_maxee1_noN.unique.fasta\r\n",
      "\r\n",
      "\r\n",
      "mothur > quit()\r\n"
     ]
    }
   ],
   "source": [
    "# unique sequences\n",
    "cmd = 'mothur \"#unique.seqs(fasta={})\"'.format(qcFile2)\n",
    "!$cmd | tail -n 30"
   ]
  },
  {
   "cell_type": "code",
   "execution_count": 15,
   "metadata": {
    "collapsed": false
   },
   "outputs": [
    {
     "name": "stdout",
     "output_type": "stream",
     "text": [
      "Number of unique sequences: 3293454\n"
     ]
    }
   ],
   "source": [
    "qcFile3 = os.path.splitext(qcFile2)[0] + '.unique.fasta'\n",
    "n_uniq = !grep -c \">\" $qcFile3\n",
    "print ('Number of unique sequences: {}'.format(n_uniq[0]))"
   ]
  },
  {
   "cell_type": "code",
   "execution_count": 16,
   "metadata": {
    "collapsed": false
   },
   "outputs": [
    {
     "name": "stdout",
     "output_type": "stream",
     "text": [
      "-rw-rw-r-- 1 sam sam 349M May 17 08:35 pear_merged-fullCyc2_lib16.assembled.dmult_maxee1_noN.names\r\n"
     ]
    }
   ],
   "source": [
    "# name file produced by unique.seqs()\n",
    "nameFile = os.path.splitext(qcFile2)[0] + '.names'\n",
    "!ls -thlc $nameFile"
   ]
  },
  {
   "cell_type": "code",
   "execution_count": 17,
   "metadata": {
    "collapsed": false
   },
   "outputs": [
    {
     "name": "stdout",
     "output_type": "stream",
     "text": [
      "silva.seed_v132.tax\n",
      "silva.seed_v132.align\n",
      "README.md\n"
     ]
    },
    {
     "name": "stderr",
     "output_type": "stream",
     "text": [
      "--2018-05-17 08:35:37--  https://www.mothur.org/w/images/7/71/Silva.seed_v132.tgz\n",
      "Resolving www.mothur.org (www.mothur.org)... 141.214.120.22\n",
      "Connecting to www.mothur.org (www.mothur.org)|141.214.120.22|:443... connected.\n",
      "HTTP request sent, awaiting response... 200 OK\n",
      "Length: 19623900 (19M) [application/x-gzip]\n",
      "Saving to: ‘Silva.seed_v132.tgz’\n",
      "\n",
      "     0K .......... .......... .......... .......... ..........  0% 1.88M 10s\n",
      "    50K .......... .......... .......... .......... ..........  0%  999K 14s\n",
      "   100K .......... .......... .......... .......... ..........  0% 1.88M 13s\n",
      "   150K .......... .......... .......... .......... ..........  1%  990K 14s\n",
      "   200K .......... .......... .......... .......... ..........  1% 1.88M 14s\n",
      "   250K .......... .......... .......... .......... ..........  1%  994K 14s\n",
      "   300K .......... .......... .......... .......... ..........  1% 1.88M 14s\n",
      "   350K .......... .......... .......... .......... ..........  2%  995K 14s\n",
      "   400K .......... .......... .......... .......... ..........  2% 1001K 15s\n",
      "   450K .......... .......... .......... .......... ..........  2% 1.87M 14s\n",
      "   500K .......... .......... .......... .......... ..........  2% 1002K 15s\n",
      "   550K .......... .......... .......... .......... ..........  3% 1.85M 14s\n",
      "   600K .......... .......... .......... .......... ..........  3% 1011K 14s\n",
      "   650K .......... .......... .......... .......... ..........  3% 1.87M 14s\n",
      "   700K .......... .......... .......... .......... ..........  3%  993K 14s\n",
      "   750K .......... .......... .......... .......... ..........  4% 1.91M 14s\n",
      "   800K .......... .......... .......... .......... ..........  4% 1000K 14s\n",
      "   850K .......... .......... .......... .......... ..........  4%  993K 14s\n",
      "   900K .......... .......... .......... .......... ..........  4% 1.89M 14s\n",
      "   950K .......... .......... .......... .......... ..........  5%  999K 14s\n",
      "  1000K .......... .......... .......... .......... ..........  5% 1.88M 14s\n",
      "  1050K .......... .......... .......... .......... ..........  5%  997K 14s\n",
      "  1100K .......... .......... .......... .......... ..........  6% 1.87M 14s\n",
      "  1150K .......... .......... .......... .......... ..........  6% 1002K 14s\n",
      "  1200K .......... .......... .......... .......... ..........  6%  993K 14s\n",
      "  1250K .......... .......... .......... .......... ..........  6% 1.87M 14s\n",
      "  1300K .......... .......... .......... .......... ..........  7% 1003K 14s\n",
      "  1350K .......... .......... .......... .......... ..........  7% 1.87M 14s\n",
      "  1400K .......... .......... .......... .......... ..........  7%  398K 15s\n",
      "  1450K .......... .......... .......... .......... ..........  7%  991K 15s\n",
      "  1500K .......... .......... .......... .......... ..........  8% 1.89M 15s\n",
      "  1550K .......... .......... .......... .......... ..........  8%  985K 15s\n",
      "  1600K .......... .......... .......... .......... ..........  8%  999K 15s\n",
      "  1650K .......... .......... .......... .......... ..........  8% 1.89M 15s\n",
      "  1700K .......... .......... .......... .......... ..........  9%  985K 15s\n",
      "  1750K .......... .......... .......... .......... ..........  9% 1.92M 14s\n",
      "  1800K .......... .......... .......... .......... ..........  9%  995K 14s\n",
      "  1850K .......... .......... .......... .......... ..........  9%  997K 14s\n",
      "  1900K .......... .......... .......... .......... .......... 10% 1.86M 14s\n",
      "  1950K .......... .......... .......... .......... .......... 10% 1005K 14s\n",
      "  2000K .......... .......... .......... .......... .......... 10% 1.86M 14s\n",
      "  2050K .......... .......... .......... .......... .......... 10% 1007K 14s\n",
      "  2100K .......... .......... .......... .......... .......... 11% 1.86M 14s\n",
      "  2150K .......... .......... .......... .......... .......... 11% 1002K 14s\n",
      "  2200K .......... .......... .......... .......... .......... 11% 1.88M 14s\n",
      "  2250K .......... .......... .......... .......... .......... 12% 1.89M 14s\n",
      "  2300K .......... .......... .......... .......... .......... 12%  993K 14s\n",
      "  2350K .......... .......... .......... .......... .......... 12% 1.91M 14s\n",
      "  2400K .......... .......... .......... .......... .......... 12%  991K 14s\n",
      "  2450K .......... .......... .......... .......... .......... 13% 1.88M 14s\n",
      "  2500K .......... .......... .......... .......... .......... 13%  991K 14s\n",
      "  2550K .......... .......... .......... .......... .......... 13% 1.90M 13s\n",
      "  2600K .......... .......... .......... .......... .......... 13%  997K 13s\n",
      "  2650K .......... .......... .......... .......... .......... 14% 1.88M 13s\n",
      "  2700K .......... .......... .......... .......... .......... 14% 1.85M 13s\n",
      "  2750K .......... .......... .......... .......... .......... 14% 1.92M 13s\n",
      "  2800K .......... .......... .......... .......... .......... 14%  987K 13s\n",
      "  2850K .......... .......... .......... .......... .......... 15% 1.88M 13s\n",
      "  2900K .......... .......... .......... .......... .......... 15%  994K 13s\n",
      "  2950K .......... .......... .......... .......... .......... 15% 1.89M 13s\n",
      "  3000K .......... .......... .......... .......... .......... 15% 1.88M 13s\n",
      "  3050K .......... .......... .......... .......... .......... 16% 1.90M 13s\n",
      "  3100K .......... .......... .......... .......... .......... 16%  995K 13s\n",
      "  3150K .......... .......... .......... .......... .......... 16% 1.88M 13s\n",
      "  3200K .......... .......... .......... .......... .......... 16% 1.89M 12s\n",
      "  3250K .......... .......... .......... .......... .......... 17% 1001K 12s\n",
      "  3300K .......... .......... .......... .......... .......... 17% 1.89M 12s\n",
      "  3350K .......... .......... .......... .......... .......... 17%  995K 12s\n",
      "  3400K .......... .......... .......... .......... .......... 18% 1.88M 12s\n",
      "  3450K .......... .......... .......... .......... .......... 18% 1.90M 12s\n",
      "  3500K .......... .......... .......... .......... .......... 18% 1.90M 12s\n",
      "  3550K .......... .......... .......... .......... .......... 18%  991K 12s\n",
      "  3600K .......... .......... .......... .......... .......... 19% 1.90M 12s\n",
      "  3650K .......... .......... .......... .......... .......... 19% 1.91M 12s\n",
      "  3700K .......... .......... .......... .......... .......... 19% 1.90M 12s\n",
      "  3750K .......... .......... .......... .......... .......... 19% 1.89M 12s\n",
      "  3800K .......... .......... .......... .......... .......... 20% 1.90M 12s\n",
      "  3850K .......... .......... .......... .......... .......... 20% 1005K 12s\n",
      "  3900K .......... .......... .......... .......... .......... 20% 1.89M 12s\n",
      "  3950K .......... .......... .......... .......... .......... 20% 1.89M 11s\n",
      "  4000K .......... .......... .......... .......... .......... 21% 1.91M 11s\n",
      "  4050K .......... .......... .......... .......... .......... 21% 1.87M 11s\n",
      "  4100K .......... .......... .......... .......... .......... 21% 1.91M 11s\n",
      "  4150K .......... .......... .......... .......... .......... 21% 1.90M 11s\n",
      "  4200K .......... .......... .......... .......... .......... 22% 1.90M 11s\n",
      "  4250K .......... .......... .......... .......... .......... 22% 1.89M 11s\n",
      "  4300K .......... .......... .......... .......... .......... 22% 1.87M 11s\n",
      "  4350K .......... .......... .......... .......... .......... 22% 1015K 11s\n",
      "  4400K .......... .......... .......... .......... .......... 23% 1.88M 11s\n",
      "  4450K .......... .......... .......... .......... .......... 23% 1.88M 11s\n",
      "  4500K .......... .......... .......... .......... .......... 23% 1008K 11s\n",
      "  4550K .......... .......... .......... .......... .......... 24% 1.89M 11s\n",
      "  4600K .......... .......... .......... .......... .......... 24% 1.91M 11s\n",
      "  4650K .......... .......... .......... .......... .......... 24% 1.89M 11s\n",
      "  4700K .......... .......... .......... .......... .......... 24% 1.92M 10s\n",
      "  4750K .......... .......... .......... .......... .......... 25%  997K 10s\n",
      "  4800K .......... .......... .......... .......... .......... 25% 1.88M 10s\n",
      "  4850K .......... .......... .......... .......... .......... 25% 1.91M 10s\n",
      "  4900K .......... .......... .......... .......... .......... 25% 1.88M 10s\n",
      "  4950K .......... .......... .......... .......... .......... 26% 1.91M 10s\n",
      "  5000K .......... .......... .......... .......... .......... 26% 1.90M 10s\n",
      "  5050K .......... .......... .......... .......... .......... 26% 1.87M 10s\n",
      "  5100K .......... .......... .......... .......... .......... 26% 1.90M 10s\n",
      "  5150K .......... .......... .......... .......... .......... 27% 1.87M 10s\n",
      "  5200K .......... .......... .......... .......... .......... 27% 1.84M 10s\n",
      "  5250K .......... .......... .......... .......... .......... 27% 1.93M 10s\n",
      "  5300K .......... .......... .......... .......... .......... 27% 1.91M 10s\n",
      "  5350K .......... .......... .......... .......... .......... 28% 1.91M 10s\n",
      "  5400K .......... .......... .......... .......... .......... 28% 1012K 10s\n",
      "  5450K .......... .......... .......... .......... .......... 28% 1.92M 10s\n",
      "  5500K .......... .......... .......... .......... .......... 28% 1.89M 10s\n",
      "  5550K .......... .......... .......... .......... .......... 29% 1.34M 10s\n",
      "  5600K .......... .......... .......... .......... .......... 29% 1.65M 10s\n",
      "  5650K .......... .......... .......... .......... .......... 29% 1.89M 9s\n",
      "  5700K .......... .......... .......... .......... .......... 30% 1.92M 9s\n",
      "  5750K .......... .......... .......... .......... .......... 30% 1.87M 9s\n",
      "  5800K .......... .......... .......... .......... .......... 30% 1010K 9s\n",
      "  5850K .......... .......... .......... .......... .......... 30% 1.92M 9s\n",
      "  5900K .......... .......... .......... .......... .......... 31% 1.87M 9s\n",
      "  5950K .......... .......... .......... .......... .......... 31% 1.89M 9s\n",
      "  6000K .......... .......... .......... .......... .......... 31% 1.90M 9s\n",
      "  6050K .......... .......... .......... .......... .......... 31% 1.92M 9s\n",
      "  6100K .......... .......... .......... .......... .......... 32% 1.90M 9s\n",
      "  6150K .......... .......... .......... .......... .......... 32% 1.87M 9s\n",
      "  6200K .......... .......... .......... .......... .......... 32% 1.92M 9s\n",
      "  6250K .......... .......... .......... .......... .......... 32% 1.90M 9s\n",
      "  6300K .......... .......... .......... .......... .......... 33% 1.91M 9s\n",
      "  6350K .......... .......... .......... .......... .......... 33%  400K 9s\n",
      "  6400K .......... .......... .......... .......... .......... 33% 1.79M 9s\n",
      "  6450K .......... .......... .......... .......... .......... 33% 1.92M 9s\n",
      "  6500K .......... .......... .......... .......... .......... 34% 1.89M 9s\n",
      "  6550K .......... .......... .......... .......... .......... 34% 1.90M 9s\n",
      "  6600K .......... .......... .......... .......... .......... 34% 1.92M 9s\n",
      "  6650K .......... .......... .......... .......... .......... 34% 1.84M 9s\n",
      "  6700K .......... .......... .......... .......... .......... 35% 1.90M 9s\n",
      "  6750K .......... .......... .......... .......... .......... 35% 1.89M 9s\n",
      "  6800K .......... .......... .......... .......... .......... 35% 1.91M 8s\n",
      "  6850K .......... .......... .......... .......... .......... 36% 1.90M 8s\n",
      "  6900K .......... .......... .......... .......... .......... 36% 1.91M 8s\n",
      "  6950K .......... .......... .......... .......... .......... 36% 1.93M 8s\n",
      "  7000K .......... .......... .......... .......... .......... 36% 1.92M 8s\n",
      "  7050K .......... .......... .......... .......... .......... 37% 1.92M 8s\n",
      "  7100K .......... .......... .......... .......... .......... 37% 1.88M 8s\n",
      "  7150K .......... .......... .......... .......... .......... 37% 1.89M 8s\n",
      "  7200K .......... .......... .......... .......... .......... 37% 1.90M 8s\n",
      "  7250K .......... .......... .......... .......... .......... 38% 1.90M 8s\n",
      "  7300K .......... .......... .......... .......... .......... 38% 1.93M 8s\n",
      "  7350K .......... .......... .......... .......... .......... 38% 1.90M 8s\n",
      "  7400K .......... .......... .......... .......... .......... 38% 1.94M 8s\n",
      "  7450K .......... .......... .......... .......... .......... 39% 1.91M 8s\n",
      "  7500K .......... .......... .......... .......... .......... 39% 1.92M 8s\n",
      "  7550K .......... .......... .......... .......... .......... 39% 1.00M 8s\n",
      "  7600K .......... .......... .......... .......... .......... 39% 1.92M 8s\n",
      "  7650K .......... .......... .......... .......... .......... 40% 1.93M 8s\n",
      "  7700K .......... .......... .......... .......... .......... 40% 1.92M 8s\n",
      "  7750K .......... .......... .......... .......... .......... 40% 1.85M 8s\n",
      "  7800K .......... .......... .......... .......... .......... 40% 1.92M 8s\n",
      "  7850K .......... .......... .......... .......... .......... 41% 1.89M 8s\n",
      "  7900K .......... .......... .......... .......... .......... 41% 1.92M 7s\n",
      "  7950K .......... .......... .......... .......... .......... 41% 1.90M 7s\n",
      "  8000K .......... .......... .......... .......... .......... 42% 1.91M 7s\n",
      "  8050K .......... .......... .......... .......... .......... 42% 1.91M 7s\n",
      "  8100K .......... .......... .......... .......... .......... 42% 1.87M 7s\n",
      "  8150K .......... .......... .......... .......... .......... 42% 1.92M 7s\n",
      "  8200K .......... .......... .......... .......... .......... 43% 1.93M 7s\n",
      "  8250K .......... .......... .......... .......... .......... 43% 1.91M 7s\n",
      "  8300K .......... .......... .......... .......... .......... 43% 1.91M 7s\n",
      "  8350K .......... .......... .......... .......... .......... 43% 1.92M 7s\n",
      "  8400K .......... .......... .......... .......... .......... 44% 1.86M 7s\n",
      "  8450K .......... .......... .......... .......... .......... 44% 1.89M 7s\n",
      "  8500K .......... .......... .......... .......... .......... 44% 1.92M 7s\n",
      "  8550K .......... .......... .......... .......... .......... 44% 1.91M 7s\n",
      "  8600K .......... .......... .......... .......... .......... 45% 1.91M 7s\n",
      "  8650K .......... .......... .......... .......... .......... 45% 1.90M 7s\n",
      "  8700K .......... .......... .......... .......... .......... 45% 1015K 7s\n",
      "  8750K .......... .......... .......... .......... .......... 45% 1.91M 7s\n",
      "  8800K .......... .......... .......... .......... .......... 46% 1.91M 7s\n",
      "  8850K .......... .......... .......... .......... .......... 46% 1.91M 7s\n",
      "  8900K .......... .......... .......... .......... .......... 46% 1.90M 7s\n",
      "  8950K .......... .......... .......... .......... .......... 46% 1.91M 7s\n",
      "  9000K .......... .......... .......... .......... .......... 47% 1.91M 7s\n",
      "  9050K .......... .......... .......... .......... .......... 47% 1.90M 7s\n",
      "  9100K .......... .......... .......... .......... .......... 47% 1.92M 7s\n",
      "  9150K .......... .......... .......... .......... .......... 48% 1.85M 6s\n",
      "  9200K .......... .......... .......... .......... .......... 48% 1.91M 6s\n",
      "  9250K .......... .......... .......... .......... .......... 48% 1.92M 6s\n",
      "  9300K .......... .......... .......... .......... .......... 48% 1.92M 6s\n",
      "  9350K .......... .......... .......... .......... .......... 49% 1.92M 6s\n",
      "  9400K .......... .......... .......... .......... .......... 49% 1.91M 6s\n",
      "  9450K .......... .......... .......... .......... .......... 49% 1.88M 6s\n",
      "  9500K .......... .......... .......... .......... .......... 49% 1.92M 6s\n",
      "  9550K .......... .......... .......... .......... .......... 50% 1.88M 6s\n",
      "  9600K .......... .......... .......... .......... .......... 50% 1.92M 6s\n",
      "  9650K .......... .......... .......... .......... .......... 50% 1.90M 6s\n",
      "  9700K .......... .......... .......... .......... .......... 50% 1.92M 6s\n",
      "  9750K .......... .......... .......... .......... .......... 51% 1.93M 6s\n",
      "  9800K .......... .......... .......... .......... .......... 51% 1.92M 6s\n",
      "  9850K .......... .......... .......... .......... .......... 51% 1.92M 6s\n",
      "  9900K .......... .......... .......... .......... .......... 51% 1.89M 6s\n",
      "  9950K .......... .......... .......... .......... .......... 52% 1.04M 6s\n",
      " 10000K .......... .......... .......... .......... .......... 52% 1.83M 6s\n",
      " 10050K .......... .......... .......... .......... .......... 52% 1.90M 6s\n",
      " 10100K .......... .......... .......... .......... .......... 52% 1.91M 6s\n",
      " 10150K .......... .......... .......... .......... .......... 53% 1.92M 6s\n",
      " 10200K .......... .......... .......... .......... .......... 53% 1.93M 6s\n",
      " 10250K .......... .......... .......... .......... .......... 53% 1.92M 6s\n",
      " 10300K .......... .......... .......... .......... .......... 54% 1.91M 6s\n",
      " 10350K .......... .......... .......... .......... .......... 54% 1.86M 6s\n",
      " 10400K .......... .......... .......... .......... .......... 54% 1.92M 6s\n",
      " 10450K .......... .......... .......... .......... .......... 54% 1.89M 5s\n",
      " 10500K .......... .......... .......... .......... .......... 55% 1.91M 5s\n",
      " 10550K .......... .......... .......... .......... .......... 55% 1.89M 5s\n",
      " 10600K .......... .......... .......... .......... .......... 55% 1.91M 5s\n",
      " 10650K .......... .......... .......... .......... .......... 55% 1.91M 5s\n",
      " 10700K .......... .......... .......... .......... .......... 56% 1.93M 5s\n",
      " 10750K .......... .......... .......... .......... .......... 56% 1.91M 5s\n",
      " 10800K .......... .......... .......... .......... .......... 56% 1.88M 5s\n",
      " 10850K .......... .......... .......... .......... .......... 56% 1.91M 5s\n",
      " 10900K .......... .......... .......... .......... .......... 57% 1.90M 5s\n",
      " 10950K .......... .......... .......... .......... .......... 57% 1.92M 5s\n",
      " 11000K .......... .......... .......... .......... .......... 57% 1.93M 5s\n",
      " 11050K .......... .......... .......... .......... .......... 57% 1.91M 5s\n",
      " 11100K .......... .......... .......... .......... .......... 58% 1.90M 5s\n",
      " 11150K .......... .......... .......... .......... .......... 58% 1010K 5s\n",
      " 11200K .......... .......... .......... .......... .......... 58% 1.91M 5s\n",
      " 11250K .......... .......... .......... .......... .......... 58% 1.91M 5s\n",
      " 11300K .......... .......... .......... .......... .......... 59% 1.92M 5s\n",
      " 11350K .......... .......... .......... .......... .......... 59% 1.92M 5s\n",
      " 11400K .......... .......... .......... .......... .......... 59% 1.90M 5s\n",
      " 11450K .......... .......... .......... .......... .......... 60% 1.91M 5s\n",
      " 11500K .......... .......... .......... .......... .......... 60% 1.89M 5s\n",
      " 11550K .......... .......... .......... .......... .......... 60% 1.92M 5s\n",
      " 11600K .......... .......... .......... .......... .......... 60% 1.93M 5s\n",
      " 11650K .......... .......... .......... .......... .......... 61% 1.92M 5s\n",
      " 11700K .......... .......... .......... .......... .......... 61% 1.92M 5s\n",
      " 11750K .......... .......... .......... .......... .......... 61% 1.90M 5s\n",
      " 11800K .......... .......... .......... .......... .......... 61% 1.91M 5s\n",
      " 11850K .......... .......... .......... .......... .......... 62% 1.92M 5s\n",
      " 11900K .......... .......... .......... .......... .......... 62% 1.92M 4s\n",
      " 11950K .......... .......... .......... .......... .......... 62%  491K 4s\n",
      " 12000K .......... .......... .......... .......... .......... 62% 1.92M 4s\n",
      " 12050K .......... .......... .......... .......... .......... 63% 1.92M 4s\n",
      " 12100K .......... .......... .......... .......... .......... 63% 1.92M 4s\n",
      " 12150K .......... .......... .......... .......... .......... 63% 1.92M 4s\n",
      " 12200K .......... .......... .......... .......... .......... 63% 1.92M 4s\n",
      " 12250K .......... .......... .......... .......... .......... 64% 1.90M 4s\n",
      " 12300K .......... .......... .......... .......... .......... 64% 1.92M 4s\n",
      " 12350K .......... .......... .......... .......... .......... 64% 1022K 4s\n",
      " 12400K .......... .......... .......... .......... .......... 64% 1.92M 4s\n",
      " 12450K .......... .......... .......... .......... .......... 65% 1.90M 4s\n",
      " 12500K .......... .......... .......... .......... .......... 65% 1.88M 4s\n",
      " 12550K .......... .......... .......... .......... .......... 65% 1.93M 4s\n",
      " 12600K .......... .......... .......... .......... .......... 66% 1.90M 4s\n",
      " 12650K .......... .......... .......... .......... .......... 66% 1.94M 4s\n",
      " 12700K .......... .......... .......... .......... .......... 66% 1.92M 4s\n",
      " 12750K .......... .......... .......... .......... .......... 66% 1.89M 4s\n",
      " 12800K .......... .......... .......... .......... .......... 67% 1.91M 4s\n",
      " 12850K .......... .......... .......... .......... .......... 67% 1.93M 4s\n",
      " 12900K .......... .......... .......... .......... .......... 67% 1.92M 4s\n",
      " 12950K .......... .......... .......... .......... .......... 67% 1.91M 4s\n",
      " 13000K .......... .......... .......... .......... .......... 68% 1.93M 4s\n",
      " 13050K .......... .......... .......... .......... .......... 68% 1.90M 4s\n",
      " 13100K .......... .......... .......... .......... .......... 68% 1.91M 4s\n",
      " 13150K .......... .......... .......... .......... .......... 68% 1.95M 4s\n",
      " 13200K .......... .......... .......... .......... .......... 69% 1.91M 4s\n",
      " 13250K .......... .......... .......... .......... .......... 69% 1.91M 4s\n",
      " 13300K .......... .......... .......... .......... .......... 69% 1.91M 4s\n",
      " 13350K .......... .......... .......... .......... .......... 69% 1.91M 4s\n",
      " 13400K .......... .......... .......... .......... .......... 70% 1.93M 4s\n",
      " 13450K .......... .......... .......... .......... .......... 70% 1.91M 3s\n",
      " 13500K .......... .......... .......... .......... .......... 70% 1.91M 3s\n",
      " 13550K .......... .......... .......... .......... .......... 70% 1.94M 3s\n",
      " 13600K .......... .......... .......... .......... .......... 71% 1015K 3s\n",
      " 13650K .......... .......... .......... .......... .......... 71% 1.93M 3s\n",
      " 13700K .......... .......... .......... .......... .......... 71% 1.91M 3s\n",
      " 13750K .......... .......... .......... .......... .......... 72% 1.94M 3s\n",
      " 13800K .......... .......... .......... .......... .......... 72% 1.92M 3s\n",
      " 13850K .......... .......... .......... .......... .......... 72% 1.92M 3s\n",
      " 13900K .......... .......... .......... .......... .......... 72% 1.88M 3s\n",
      " 13950K .......... .......... .......... .......... .......... 73% 1.93M 3s\n",
      " 14000K .......... .......... .......... .......... .......... 73% 1.94M 3s\n",
      " 14050K .......... .......... .......... .......... .......... 73% 1.91M 3s\n",
      " 14100K .......... .......... .......... .......... .......... 73% 1.96M 3s\n",
      " 14150K .......... .......... .......... .......... .......... 74% 1.88M 3s\n",
      " 14200K .......... .......... .......... .......... .......... 74% 1.88M 3s\n",
      " 14250K .......... .......... .......... .......... .......... 74% 1.93M 3s\n",
      " 14300K .......... .......... .......... .......... .......... 74% 1.93M 3s\n",
      " 14350K .......... .......... .......... .......... .......... 75% 1.91M 3s\n",
      " 14400K .......... .......... .......... .......... .......... 75% 1.93M 3s\n",
      " 14450K .......... .......... .......... .......... .......... 75% 1.91M 3s\n",
      " 14500K .......... .......... .......... .......... .......... 75% 1.92M 3s\n",
      " 14550K .......... .......... .......... .......... .......... 76% 1.93M 3s\n",
      " 14600K .......... .......... .......... .......... .......... 76% 1.93M 3s\n",
      " 14650K .......... .......... .......... .......... .......... 76% 1.91M 3s\n",
      " 14700K .......... .......... .......... .......... .......... 76% 1.93M 3s\n",
      " 14750K .......... .......... .......... .......... .......... 77% 1023K 3s\n",
      " 14800K .......... .......... .......... .......... .......... 77% 1.92M 3s\n",
      " 14850K .......... .......... .......... .......... .......... 77% 1.93M 3s\n",
      " 14900K .......... .......... .......... .......... .......... 78% 1.92M 3s\n",
      " 14950K .......... .......... .......... .......... .......... 78% 1.94M 3s\n",
      " 15000K .......... .......... .......... .......... .......... 78% 1.87M 3s\n",
      " 15050K .......... .......... .......... .......... .......... 78% 1.92M 2s\n",
      " 15100K .......... .......... .......... .......... .......... 79% 1.92M 2s\n",
      " 15150K .......... .......... .......... .......... .......... 79% 1.88M 2s\n",
      " 15200K .......... .......... .......... .......... .......... 79% 1.93M 2s\n",
      " 15250K .......... .......... .......... .......... .......... 79% 1.93M 2s\n",
      " 15300K .......... .......... .......... .......... .......... 80% 1.94M 2s\n",
      " 15350K .......... .......... .......... .......... .......... 80% 1.91M 2s\n",
      " 15400K .......... .......... .......... .......... .......... 80% 1.94M 2s\n",
      " 15450K .......... .......... .......... .......... .......... 80% 1.92M 2s\n",
      " 15500K .......... .......... .......... .......... .......... 81% 1.94M 2s\n",
      " 15550K .......... .......... .......... .......... .......... 81% 1.94M 2s\n",
      " 15600K .......... .......... .......... .......... .......... 81% 1.92M 2s\n",
      " 15650K .......... .......... .......... .......... .......... 81% 30.4M 2s\n",
      " 15700K .......... .......... .......... .......... .......... 82% 1.93M 2s\n",
      " 15750K .......... .......... .......... .......... .......... 82% 1.90M 2s\n",
      " 15800K .......... .......... .......... .......... .......... 82% 1.91M 2s\n",
      " 15850K .......... .......... .......... .......... .......... 82% 1.79M 2s\n",
      " 15900K .......... .......... .......... .......... .......... 83% 1.80M 2s\n",
      " 15950K .......... .......... .......... .......... .......... 83% 1.86M 2s\n",
      " 16000K .......... .......... .......... .......... .......... 83% 1.78M 2s\n",
      " 16050K .......... .......... .......... .......... .......... 84% 1.47M 2s\n",
      " 16100K .......... .......... .......... .......... .......... 84% 1.86M 2s\n",
      " 16150K .......... .......... .......... .......... .......... 84% 11.5M 2s\n",
      " 16200K .......... .......... .......... .......... .......... 84% 1.82M 2s\n",
      " 16250K .......... .......... .......... .......... .......... 85% 1.37M 2s\n",
      " 16300K .......... .......... .......... .......... .......... 85% 1.71M 2s\n",
      " 16350K .......... .......... .......... .......... .......... 85%  960K 2s\n",
      " 16400K .......... .......... .......... .......... .......... 85% 2.77M 2s\n",
      " 16450K .......... .......... .......... .......... .......... 86% 1.89M 2s\n",
      " 16500K .......... .......... .......... .......... .......... 86% 1.95M 2s\n",
      " 16550K .......... .......... .......... .......... .......... 86% 1.90M 2s\n",
      " 16600K .......... .......... .......... .......... .......... 86% 1.90M 2s\n",
      " 16650K .......... .......... .......... .......... .......... 87% 1.94M 1s\n",
      " 16700K .......... .......... .......... .......... .......... 87% 1.90M 1s\n",
      " 16750K .......... .......... .......... .......... .......... 87% 1.93M 1s\n",
      " 16800K .......... .......... .......... .......... .......... 87% 1.91M 1s\n",
      " 16850K .......... .......... .......... .......... .......... 88% 1.93M 1s\n",
      " 16900K .......... .......... .......... .......... .......... 88% 1.97M 1s\n",
      " 16950K .......... .......... .......... .......... .......... 88% 1.93M 1s\n",
      " 17000K .......... .......... .......... .......... .......... 88% 24.1M 1s\n",
      " 17050K .......... .......... .......... .......... .......... 89% 1.93M 1s\n",
      " 17100K .......... .......... .......... .......... .......... 89% 1.93M 1s\n",
      " 17150K .......... .......... .......... .......... .......... 89% 1.94M 1s\n",
      " 17200K .......... .......... .......... .......... .......... 90% 1.94M 1s\n",
      " 17250K .......... .......... .......... .......... .......... 90% 1.99M 1s\n",
      " 17300K .......... .......... .......... .......... .......... 90% 1.95M 1s\n",
      " 17350K .......... .......... .......... .......... .......... 90% 21.2M 1s\n",
      " 17400K .......... .......... .......... .......... .......... 91% 1.91M 1s\n",
      " 17450K .......... .......... .......... .......... .......... 91% 1.94M 1s\n",
      " 17500K .......... .......... .......... .......... .......... 91% 1.93M 1s\n",
      " 17550K .......... .......... .......... .......... .......... 91% 1.98M 1s\n",
      " 17600K .......... .......... .......... .......... .......... 92% 1.92M 1s\n",
      " 17650K .......... .......... .......... .......... .......... 92% 1.96M 1s\n",
      " 17700K .......... .......... .......... .......... .......... 92% 22.5M 1s\n",
      " 17750K .......... .......... .......... .......... .......... 92% 1.96M 1s\n",
      " 17800K .......... .......... .......... .......... .......... 93% 1.94M 1s\n",
      " 17850K .......... .......... .......... .......... .......... 93% 1.93M 1s\n",
      " 17900K .......... .......... .......... .......... .......... 93% 1.99M 1s\n",
      " 17950K .......... .......... .......... .......... .......... 93% 25.0M 1s\n",
      " 18000K .......... .......... .......... .......... .......... 94% 1.89M 1s\n",
      " 18050K .......... .......... .......... .......... .......... 94% 1.68M 1s\n",
      " 18100K .......... .......... .......... .......... .......... 94% 1.86M 1s\n",
      " 18150K .......... .......... .......... .......... .......... 94% 1.93M 1s\n",
      " 18200K .......... .......... .......... .......... .......... 95% 1.88M 1s\n",
      " 18250K .......... .......... .......... .......... .......... 95% 1.94M 1s\n",
      " 18300K .......... .......... .......... .......... .......... 95% 22.0M 0s\n",
      " 18350K .......... .......... .......... .......... .......... 96% 1.92M 0s\n",
      " 18400K .......... .......... .......... .......... .......... 96% 1.93M 0s\n",
      " 18450K .......... .......... .......... .......... .......... 96% 1.91M 0s\n",
      " 18500K .......... .......... .......... .......... .......... 96% 1.92M 0s\n",
      " 18550K .......... .......... .......... .......... .......... 97% 1.95M 0s\n",
      " 18600K .......... .......... .......... .......... .......... 97% 1.94M 0s\n",
      " 18650K .......... .......... .......... .......... .......... 97% 1.91M 0s\n",
      " 18700K .......... .......... .......... .......... .......... 97% 34.1M 0s\n",
      " 18750K .......... .......... .......... .......... .......... 98% 1.91M 0s\n",
      " 18800K .......... .......... .......... .......... .......... 98% 1.93M 0s\n",
      " 18850K .......... .......... .......... .......... .......... 98% 1.95M 0s\n",
      " 18900K .......... .......... .......... .......... .......... 98% 1.96M 0s\n",
      " 18950K .......... .......... .......... .......... .......... 99% 22.4M 0s\n",
      " 19000K .......... .......... .......... .......... .......... 99% 1.91M 0s\n",
      " 19050K .......... .......... .......... .......... .......... 99% 1.97M 0s\n",
      " 19100K .......... .......... .......... .......... .......... 99% 2.01M 0s\n",
      " 19150K .......... ...                                        100% 11.9M=11s\n",
      "\n",
      "2018-05-17 08:35:49 (1.69 MB/s) - ‘Silva.seed_v132.tgz’ saved [19623900/19623900]\n",
      "\n"
     ]
    }
   ],
   "source": [
    "%%bash \n",
    "# Remove database if already exsists\n",
    "if [ -d mothur_silva_db ]; then\n",
    "    rm -rf mothur_silva_db\n",
    "fi\n",
    "\n",
    "#if ! [ -d mothur_silva_db ]; then\n",
    "#    mkdir mothur_silva_db\n",
    "#fi\n",
    "\n",
    "mkdir mothur_silva_db\n",
    "cd mothur_silva_db\n",
    "\n",
    "# Download mothur recreatd SEED database release 132.\n",
    "wget https://www.mothur.org/w/images/7/71/Silva.seed_v132.tgz\n",
    "#wget https://www.mothur.org/w/images/a/a4/Silva.seed_v128.tgz\n",
    "tar -xvzf Silva.seed_v132.tgz\n",
    "rm Silva.seed_v132.tgz"
   ]
  },
  {
   "cell_type": "code",
   "execution_count": 18,
   "metadata": {
    "collapsed": false
   },
   "outputs": [
    {
     "name": "stdout",
     "output_type": "stream",
     "text": [
      "100\n",
      "200\n",
      "300\n",
      "400\n",
      "500\n",
      "560\n",
      "\n",
      "\n",
      "\n",
      "Length of filtered alignment: 10180\n",
      "Number of columns removed: 39820\n",
      "Length of the original alignment: 50000\n",
      "Number of sequences used to construct filter: 11180\n",
      "\n",
      "Output File Names: \n",
      "silva.filter\n",
      "silva.seed_v132.filter.fasta\n",
      "\n",
      "\n",
      "mothur > quit()\n",
      "\n",
      "Number of sequences post-filter: 11180\n"
     ]
    }
   ],
   "source": [
    "silvaFile = 'silva.seed_v132.align'\n",
    "cmd = 'mothur \"#filter.seqs(vertical=t, fasta={}, processors={})\"'.format(silvaFile, nprocs)\n",
    "!cd mothur_silva_db; $cmd | tail -n 20\n",
    "\n",
    "silvaFileFilt = os.path.splitext(silvaFile)[0] + '.filter.fasta'\n",
    "silvaFileFilt = os.path.join('mothur_silva_db', silvaFileFilt)\n",
    "ret = !grep -c \">\" $silvaFileFilt\n",
    "print ('\\nNumber of sequences post-filter: {}'.format(ret[0]))"
   ]
  },
  {
   "cell_type": "code",
   "execution_count": 19,
   "metadata": {
    "collapsed": false
   },
   "outputs": [
    {
     "name": "stdout",
     "output_type": "stream",
     "text": [
      "164500\r\n",
      "164600\r\n",
      "164700\r\n",
      "164800\r\n",
      "164900\r\n",
      "165000\r\n",
      "165100\r\n",
      "165200\r\n",
      "165300\r\n",
      "165308\r\n",
      "[WARNING]: Some of your sequences generated alignments that eliminated too many bases, a list is provided in pear_merged-fullCyc2_lib16.assembled.dmult_maxee1_noN.unique.flip.accnos. If the reverse compliment proved to be better it was reported.\r\n",
      "It took 1256 secs to align 3293454 sequences.\r\n",
      "\r\n",
      "\r\n",
      "Output File Names: \r\n",
      "pear_merged-fullCyc2_lib16.assembled.dmult_maxee1_noN.unique.align\r\n",
      "pear_merged-fullCyc2_lib16.assembled.dmult_maxee1_noN.unique.align.report\r\n",
      "pear_merged-fullCyc2_lib16.assembled.dmult_maxee1_noN.unique.flip.accnos\r\n",
      "\r\n",
      "\r\n",
      "mothur > quit()\r\n",
      "\r\n",
      "\r\n",
      "<<<<<<<<<<<<<<<<<<<<<<<<<<<<<<^>>>>>>>>>>>>>>>>>>>>>>>>>>>>>\r\n",
      "<<<<<<<<<<<<<<<<<<<<<<<<<<<<<<^>>>>>>>>>>>>>>>>>>>>>>>>>>>>>\r\n",
      "<<<<<<<<<<<<<<<<<<<<<<<<<<<<<<^>>>>>>>>>>>>>>>>>>>>>>>>>>>>>\r\n",
      "Detected 1 [WARNING] messages, please review.\r\n",
      "<<<<<<<<<<<<<<<<<<<<<<<<<<<<<<^>>>>>>>>>>>>>>>>>>>>>>>>>>>>>\r\n",
      "<<<<<<<<<<<<<<<<<<<<<<<<<<<<<<^>>>>>>>>>>>>>>>>>>>>>>>>>>>>>\r\n",
      "<<<<<<<<<<<<<<<<<<<<<<<<<<<<<<^>>>>>>>>>>>>>>>>>>>>>>>>>>>>>\r\n"
     ]
    }
   ],
   "source": [
    "# aligning sequences\n",
    "qcFile3a = re.sub('-', '\\-', qcFile3)\n",
    "cmd = 'mothur \"#align.seqs(candidate={}, template={}, processors={}, flip=T)\"'.format(qcFile3a, silvaFileFilt, nprocs)\n",
    "!$cmd | tail -n 30"
   ]
  },
  {
   "cell_type": "code",
   "execution_count": 20,
   "metadata": {
    "collapsed": false
   },
   "outputs": [
    {
     "name": "stdout",
     "output_type": "stream",
     "text": [
      "-rw-rw-r-- 1 sam sam 32G May 17 08:56 pear_merged-fullCyc2_lib16.assembled.dmult_maxee1_noN.unique.align\r\n"
     ]
    }
   ],
   "source": [
    "qcFile4 = os.path.splitext(qcFile3)[0] + '.align'\n",
    "!ls -thlc $qcFile4 "
   ]
  },
  {
   "cell_type": "code",
   "execution_count": 21,
   "metadata": {
    "collapsed": false
   },
   "outputs": [
    {
     "name": "stdout",
     "output_type": "stream",
     "text": [
      "163200\r\n",
      "163300\r\n",
      "163400\r\n",
      "163500\r\n",
      "163600\r\n",
      "163700\r\n",
      "163800\r\n",
      "163900\r\n",
      "164000\r\n",
      "164100\r\n",
      "164200\r\n",
      "164300\r\n",
      "164400\r\n",
      "164500\r\n",
      "164600\r\n",
      "164693\r\n",
      "\r\n",
      "\r\n",
      "\r\n",
      "Length of filtered alignment: 1329\r\n",
      "Number of columns removed: 8851\r\n",
      "Length of the original alignment: 10180\r\n",
      "Number of sequences used to construct filter: 3293454\r\n",
      "\r\n",
      "Output File Names: \r\n",
      "pear_merged-fullCyc2_lib16.filter\r\n",
      "pear_merged-fullCyc2_lib16.assembled.dmult_maxee1_noN.unique.filter.fasta\r\n",
      "\r\n",
      "\r\n",
      "mothur > quit()\r\n"
     ]
    }
   ],
   "source": [
    "# filtering out gap positions in the alignment\n",
    "qcFile4a = re.sub('-', '\\-', qcFile4)\n",
    "cmd = 'mothur \"#filter.seqs(vertical=t, fasta={}, processors={})\"'.format(qcFile4a, nprocs)\n",
    "!$cmd | tail -n 30"
   ]
  },
  {
   "cell_type": "code",
   "execution_count": 22,
   "metadata": {
    "collapsed": false
   },
   "outputs": [
    {
     "name": "stdout",
     "output_type": "stream",
     "text": [
      "-rw-rw-r-- 1 sam sam 4.2G May 17 08:58 pear_merged-fullCyc2_lib16.assembled.dmult_maxee1_noN.unique.filter.fasta\r\n"
     ]
    }
   ],
   "source": [
    "qcFile5 = os.path.splitext(qcFile3)[0] + '.filter.fasta'\n",
    "!ls -thlc $qcFile5"
   ]
  },
  {
   "cell_type": "code",
   "execution_count": 23,
   "metadata": {
    "collapsed": false
   },
   "outputs": [
    {
     "name": "stdout",
     "output_type": "stream",
     "text": [
      "Using 20 processors.\r\n",
      "\r\n",
      "\t\tStart\tEnd\tNBases\tAmbigs\tPolymer\tNumSeqs\r\n",
      "Minimum:\t0\t0\t0\t0\t1\t1\r\n",
      "2.5%-tile:\t182\t1040\t253\t0\t4\t196492\r\n",
      "25%-tile:\t182\t1040\t253\t0\t4\t1964916\r\n",
      "Median: \t182\t1040\t253\t0\t5\t3929831\r\n",
      "75%-tile:\t182\t1040\t253\t0\t5\t5894746\r\n",
      "97.5%-tile:\t182\t1040\t254\t0\t8\t7663169\r\n",
      "Maximum:\t1329\t1329\t339\t0\t28\t7859660\r\n",
      "Mean:\t182.767\t1039.87\t252.813\t0\t4.80246\r\n",
      "# of unique seqs:\t3293454\r\n",
      "total # of seqs:\t7859660\r\n",
      "\r\n",
      "Output File Names: \r\n",
      "pear_merged-fullCyc2_lib16.assembled.dmult_maxee1_noN.unique.filter.summary\r\n",
      "\r\n",
      "It took 21 secs to summarize 7859660 sequences.\r\n",
      "\r\n",
      "mothur > quit()\r\n"
     ]
    }
   ],
   "source": [
    "cmd = 'mothur \"#summary.seqs(fasta={}, processors={}, name={})\"'.format(qcFile5, nprocs, nameFile)\n",
    "!$cmd | tail -n 20"
   ]
  },
  {
   "cell_type": "markdown",
   "metadata": {},
   "source": [
    "## Removing homopolymers (> 8) and screening out sequences that don't align to an amplicon region"
   ]
  },
  {
   "cell_type": "code",
   "execution_count": 24,
   "metadata": {
    "collapsed": false
   },
   "outputs": [
    {
     "name": "stdout",
     "output_type": "stream",
     "text": [
      "Processing sequence: 164100\r\n",
      "Processing sequence: 164200\r\n",
      "Processing sequence: 164300\r\n",
      "Processing sequence: 164400\r\n",
      "Processing sequence: 164500\r\n",
      "Processing sequence: 164600\r\n",
      "Processing sequence: 164700\r\n",
      "Processing sequence: 164758\r\n",
      " 163900\r\n",
      "Processing sequence: 164000\r\n",
      "Processing sequence: 164100\r\n",
      "Processing sequence: 164200\r\n",
      "Processing sequence: 164300\r\n",
      "Processing sequence: 164400\r\n",
      "Processing sequence: 164500\r\n",
      "Processing sequence: 164600\r\n",
      "Processing sequence: 164700\r\n",
      "Processing sequence: 164800\r\n",
      "Processing sequence: 164823\r\n",
      "\r\n",
      "Output File Names: \r\n",
      "pear_merged-fullCyc2_lib16.assembled.dmult_maxee1_noN.unique.filter.good.fasta\r\n",
      "pear_merged-fullCyc2_lib16.assembled.dmult_maxee1_noN.unique.filter.bad.accnos\r\n",
      "pear_merged-fullCyc2_lib16.assembled.dmult_maxee1_noN.good.names\r\n",
      "group_file.good.txt\r\n",
      "\r\n",
      "\r\n",
      "It took 39 secs to screen 3293454 sequences.\r\n",
      "\r\n",
      "mothur > quit()\r\n"
     ]
    }
   ],
   "source": [
    "cmd = \"\"\"mothur '#screen.seqs(fasta={},\\\n",
    "    processors={},\\\n",
    "    name={},\\\n",
    "    group={},\\\n",
    "    start={},\\\n",
    "    end={},\\\n",
    "    maxhomop=8)'\"\"\".format(qcFile5, nprocs, nameFile, 'group_file.txt', 182, 1040)\n",
    "!$cmd | tail -n 30"
   ]
  },
  {
   "cell_type": "code",
   "execution_count": 25,
   "metadata": {
    "collapsed": false
   },
   "outputs": [
    {
     "name": "stdout",
     "output_type": "stream",
     "text": [
      "Number of sequences post-filter: 3233067\n"
     ]
    }
   ],
   "source": [
    "qcFile6 = os.path.splitext(qcFile5)[0] + '.good.fasta'\n",
    "ret = !grep -c \">\" $qcFile6\n",
    "print ('Number of sequences post-filter: {}'.format(ret[0]))"
   ]
  },
  {
   "cell_type": "code",
   "execution_count": 26,
   "metadata": {
    "collapsed": false
   },
   "outputs": [
    {
     "name": "stdout",
     "output_type": "stream",
     "text": [
      "161400\r\n",
      "161500\r\n",
      "161600\r\n",
      "161700\r\n",
      "161800\r\n",
      "161801\r\n",
      "\r\n",
      "\r\n",
      "\r\n",
      "Length of filtered alignment: 964\r\n",
      "Number of columns removed: 365\r\n",
      "Length of the original alignment: 1329\r\n",
      "Number of sequences used to construct filter: 3233067\r\n",
      "\r\n",
      "Output File Names: \r\n",
      "pear_merged-fullCyc2_lib16.filter\r\n",
      "pear_merged-fullCyc2_lib16.assembled.dmult_maxee1_noN.unique.filter.good.filter.fasta\r\n",
      "\r\n",
      "\r\n",
      "mothur > quit()\r\n"
     ]
    }
   ],
   "source": [
    "qcFile6a = re.sub('-', '\\-', qcFile6)\n",
    "cmd = 'mothur \"#filter.seqs(fasta={}, processors={}, vertical=T)\"'.format(qcFile6a, nprocs)\n",
    "!$cmd | tail -n 20"
   ]
  },
  {
   "cell_type": "code",
   "execution_count": 27,
   "metadata": {
    "collapsed": false
   },
   "outputs": [
    {
     "name": "stdout",
     "output_type": "stream",
     "text": [
      "-rw-rw-r-- 1 sam sam 3.1G May 17 09:00 pear_merged-fullCyc2_lib16.assembled.dmult_maxee1_noN.unique.filter.good.filter.fasta\r\n"
     ]
    }
   ],
   "source": [
    "qcFile7 = os.path.splitext(qcFile6)[0] + '.filter.fasta'\n",
    "!ls -thlc $qcFile7"
   ]
  },
  {
   "cell_type": "markdown",
   "metadata": {},
   "source": [
    "## Deunique seqs"
   ]
  },
  {
   "cell_type": "code",
   "execution_count": 28,
   "metadata": {
    "collapsed": false
   },
   "outputs": [
    {
     "name": "stdout",
     "output_type": "stream",
     "text": [
      "mothur v.1.39.5\r\n",
      "Last updated: 3/20/2017\r\n",
      "\r\n",
      "by\r\n",
      "Patrick D. Schloss\r\n",
      "\r\n",
      "Department of Microbiology & Immunology\r\n",
      "University of Michigan\r\n",
      "http://www.mothur.org\r\n",
      "\r\n",
      "When using, please cite:\r\n",
      "Schloss, P.D., et al., Introducing mothur: Open-source, platform-independent, community-supported software for describing and comparing microbial communities. Appl Environ Microbiol, 2009. 75(23):7537-41.\r\n",
      "\r\n",
      "Distributed under the GNU General Public License\r\n",
      "\r\n",
      "Type 'help()' for information on the commands that are available\r\n",
      "\r\n",
      "For questions and analysis support, please visit our forum at https://www.mothur.org/forum\r\n",
      "\r\n",
      "Type 'quit()' to exit program\r\n",
      "\r\n",
      "\r\n",
      "\r\n",
      "mothur > deunique.seqs(fasta=pear_merged-fullCyc2_lib16.assembled.dmult_maxee1_noN.unique.filter.good.filter.fasta, name=pear_merged-fullCyc2_lib16.assembled.dmult_maxee1_noN.names)\r\n",
      "\r\n",
      "Output File Names: \r\n",
      "pear_merged-fullCyc2_lib16.assembled.dmult_maxee1_noN.unique.filter.good.filter.redundant.fasta\r\n",
      "\r\n",
      "\r\n",
      "mothur > quit()\r\n"
     ]
    }
   ],
   "source": [
    "cmd = 'mothur \"#deunique.seqs(fasta={}, name={})\"'.format(qcFile7, nameFile)\n",
    "!$cmd | tail -n 30"
   ]
  },
  {
   "cell_type": "markdown",
   "metadata": {},
   "source": [
    "### Final QC-ed file"
   ]
  },
  {
   "cell_type": "code",
   "execution_count": 29,
   "metadata": {
    "collapsed": true
   },
   "outputs": [],
   "source": [
    "qcFile8 = os.path.splitext(qcFile7)[0] + '.redundant.fasta'\n",
    "qcFinal = 'finalQC.fasta'\n",
    "!perl -pe 's/[-.]//g if ! /^>/' $qcFile8 > $qcFinal"
   ]
  },
  {
   "cell_type": "code",
   "execution_count": 30,
   "metadata": {
    "collapsed": false
   },
   "outputs": [
    {
     "name": "stdout",
     "output_type": "stream",
     "text": [
      "\r\n",
      "Using 20 processors.\r\n",
      "\r\n",
      "\t\tStart\tEnd\tNBases\tAmbigs\tPolymer\tNumSeqs\r\n",
      "Minimum:\t1\t218\t218\t0\t3\t1\r\n",
      "2.5%-tile:\t1\t253\t253\t0\t4\t193089\r\n",
      "25%-tile:\t1\t253\t253\t0\t4\t1930889\r\n",
      "Median: \t1\t253\t253\t0\t5\t3861777\r\n",
      "75%-tile:\t1\t253\t253\t0\t5\t5792665\r\n",
      "97.5%-tile:\t1\t254\t254\t0\t8\t7530465\r\n",
      "Maximum:\t1\t339\t339\t0\t8\t7723553\r\n",
      "Mean:\t1\t253.075\t253.075\t0\t4.78676\r\n",
      "# of Seqs:\t7723553\r\n",
      "\r\n",
      "Output File Names: \r\n",
      "finalQC.summary\r\n",
      "\r\n",
      "It took 7 secs to summarize 7723553 sequences.\r\n",
      "\r\n",
      "mothur > quit()\r\n"
     ]
    }
   ],
   "source": [
    "cmd = 'mothur \"#summary.seqs(fasta={}, processors={})\"'.format(qcFinal, nprocs)\n",
    "!$cmd | tail -n 20"
   ]
  },
  {
   "cell_type": "code",
   "execution_count": 31,
   "metadata": {
    "collapsed": false
   },
   "outputs": [
    {
     "name": "stdout",
     "output_type": "stream",
     "text": [
      ">MR.M.13C-Ami.D14.R1_Frac20_0\r\n",
      "TACAGAGGGTGCAAGCGTTAATCGGAATTACTGGGCGTAAAGCGCGCGTAGGTGGTTTGTTAAGTTGGATGTGAAAGCCCCGGGCTCAACCTGGGAACTGCATCCAAAACTGGCAAGCTAGAGTAGGGCAGAGGGTGGTGGAATTTCCTGTGTAGCGGTGAAATGCGTAGATATCGGAAGGAACATCAGTGGCGAAAGCGACTTCCTGGACCAATACTAACGCTCATGTGCGAAAGCGTGGGGAGCAAACAGG\r\n",
      ">MR.M.13C-Ami.D14.R1_Frac20_13\r\n",
      "TACAGAGGGTGCAAGCGTTAATCGGAATTACTGGGCGTAAAGCGCGCGTAGGTGGTTTGTTAAGTTGGATGTGAAAGCCCCGGGCTCAACCTGGGAACTGCATCCAAAACTGGCAAGCTAGAGTAGGGCAGAGGGTGGTGGAATTTCCTGTGTAGCGGTGAAATGCGTAGATATCGGAAGGAACATCAGTGGCGAAAGCGACTTCCTGGACCAATACTAACGCTCATGTGCGAAAGCGTGGGGAGCAAACAGG\r\n",
      ">MR.M.13C-Ami.D14.R1_Frac8_1\r\n",
      "GACGAAGGGGGCTAGCGTTGTTCGGAATTACTGGGCGTAAAGCGAGTGTAGGTGGTTGTCCAAGTTGGATGTGAAAGCCTTGAGCTCAACTCAAGAAATGCATTCAGGACTGGGCGGCTAGAGGACCGGAGAGGATAGTGGAATTCCCAGTGTAGTGGTGAAATACGTAGAGATTGGGAAGAACACCAGTGGCGAAGGCGGCTATCTGGACGGTTTCTGACACTAAGACTCGAAAGCGTGGGGAGCAAACAGG\r\n"
     ]
    }
   ],
   "source": [
    "!head -n 6 $qcFinal"
   ]
  },
  {
   "cell_type": "markdown",
   "metadata": {},
   "source": [
    "## Summary of number of seqs per sample"
   ]
  },
  {
   "cell_type": "code",
   "execution_count": 32,
   "metadata": {
    "collapsed": true
   },
   "outputs": [],
   "source": [
    "re1 = re.compile('_[0-9]+$')\n",
    "\n",
    "qcFinalSum = os.path.splitext(qcFinal)[0] + '.summary'\n",
    "\n",
    "samp_count = dict()\n",
    "with open(qcFinalSum, 'r') as inFH:\n",
    "    for line in inFH:\n",
    "        if line.startswith('seqname'):\n",
    "            continue\n",
    "        line = line.rstrip().split('\\t')\n",
    "        line[0] = re.sub(re1, '', line[0])\n",
    "        try:\n",
    "            samp_count[line[0]] += 1\n",
    "        except KeyError:\n",
    "            samp_count[line[0]] = 1"
   ]
  },
  {
   "cell_type": "code",
   "execution_count": 33,
   "metadata": {
    "collapsed": false
   },
   "outputs": [
    {
     "data": {
      "text/html": [
       "<div>\n",
       "<style scoped>\n",
       "    .dataframe tbody tr th:only-of-type {\n",
       "        vertical-align: middle;\n",
       "    }\n",
       "\n",
       "    .dataframe tbody tr th {\n",
       "        vertical-align: top;\n",
       "    }\n",
       "\n",
       "    .dataframe thead th {\n",
       "        text-align: right;\n",
       "    }\n",
       "</style>\n",
       "<table border=\"1\" class=\"dataframe\">\n",
       "  <thead>\n",
       "    <tr style=\"text-align: right;\">\n",
       "      <th></th>\n",
       "      <th>Sample</th>\n",
       "      <th>seq_count</th>\n",
       "    </tr>\n",
       "  </thead>\n",
       "  <tbody>\n",
       "    <tr>\n",
       "      <th>0</th>\n",
       "      <td>MR.M.13C-Ami.D14.R1_Frac20</td>\n",
       "      <td>84434</td>\n",
       "    </tr>\n",
       "    <tr>\n",
       "      <th>1</th>\n",
       "      <td>MR.M.13C-Ami.D14.R1_Frac8</td>\n",
       "      <td>180854</td>\n",
       "    </tr>\n",
       "    <tr>\n",
       "      <th>2</th>\n",
       "      <td>MR.M.13C-Ami.D14.R1_Frac19</td>\n",
       "      <td>87866</td>\n",
       "    </tr>\n",
       "    <tr>\n",
       "      <th>3</th>\n",
       "      <td>MR.F.151027.12C-Cel.D14</td>\n",
       "      <td>33135</td>\n",
       "    </tr>\n",
       "    <tr>\n",
       "      <th>4</th>\n",
       "      <td>EL.F.151026.H2O-Con.D02</td>\n",
       "      <td>103965</td>\n",
       "    </tr>\n",
       "    <tr>\n",
       "      <th>5</th>\n",
       "      <td>MR.M.13C-Ami.D14.R1_Frac9</td>\n",
       "      <td>150898</td>\n",
       "    </tr>\n",
       "    <tr>\n",
       "      <th>6</th>\n",
       "      <td>MR.M.13C-Ami.D14.R1_Frac27</td>\n",
       "      <td>100115</td>\n",
       "    </tr>\n",
       "    <tr>\n",
       "      <th>7</th>\n",
       "      <td>MR.M.13C-Ami.D14.R1_Frac14</td>\n",
       "      <td>127301</td>\n",
       "    </tr>\n",
       "    <tr>\n",
       "      <th>8</th>\n",
       "      <td>MR.M.13C-Ami.D14.R1_Frac18</td>\n",
       "      <td>90570</td>\n",
       "    </tr>\n",
       "    <tr>\n",
       "      <th>9</th>\n",
       "      <td>PP.M.151026.H2O-Con.D02</td>\n",
       "      <td>41711</td>\n",
       "    </tr>\n",
       "    <tr>\n",
       "      <th>10</th>\n",
       "      <td>MW.F.151027.H2O-Con.D02</td>\n",
       "      <td>64944</td>\n",
       "    </tr>\n",
       "    <tr>\n",
       "      <th>11</th>\n",
       "      <td>MR.M.13C-Ami.D14.R1_Frac22</td>\n",
       "      <td>72280</td>\n",
       "    </tr>\n",
       "    <tr>\n",
       "      <th>12</th>\n",
       "      <td>MR.M.151027.H2O-Con.D14</td>\n",
       "      <td>74330</td>\n",
       "    </tr>\n",
       "    <tr>\n",
       "      <th>13</th>\n",
       "      <td>EL.F.151026.12C-Van.D02</td>\n",
       "      <td>41293</td>\n",
       "    </tr>\n",
       "    <tr>\n",
       "      <th>14</th>\n",
       "      <td>MR.M.13C-Ami.D14.R1_Frac5</td>\n",
       "      <td>191187</td>\n",
       "    </tr>\n",
       "    <tr>\n",
       "      <th>15</th>\n",
       "      <td>MF.F.151026.12C-Pal.D28</td>\n",
       "      <td>29674</td>\n",
       "    </tr>\n",
       "    <tr>\n",
       "      <th>16</th>\n",
       "      <td>EL.F.151026.12C-Ami.D04</td>\n",
       "      <td>68479</td>\n",
       "    </tr>\n",
       "    <tr>\n",
       "      <th>17</th>\n",
       "      <td>CC.A.151027.12C-Pal.D14</td>\n",
       "      <td>134191</td>\n",
       "    </tr>\n",
       "    <tr>\n",
       "      <th>18</th>\n",
       "      <td>MR.M.13C-Ami.D14.R1_Frac26</td>\n",
       "      <td>203385</td>\n",
       "    </tr>\n",
       "    <tr>\n",
       "      <th>19</th>\n",
       "      <td>MR.M.13C-Ami.D14.R1_Frac10</td>\n",
       "      <td>178767</td>\n",
       "    </tr>\n",
       "    <tr>\n",
       "      <th>20</th>\n",
       "      <td>MR.F.151027.12C-Cel.D28</td>\n",
       "      <td>62516</td>\n",
       "    </tr>\n",
       "    <tr>\n",
       "      <th>21</th>\n",
       "      <td>EL.F.151026.12C-Xyl.D04</td>\n",
       "      <td>98375</td>\n",
       "    </tr>\n",
       "    <tr>\n",
       "      <th>22</th>\n",
       "      <td>MR.M.13C-Ami.D14.R1_Frac7</td>\n",
       "      <td>165789</td>\n",
       "    </tr>\n",
       "    <tr>\n",
       "      <th>23</th>\n",
       "      <td>MR.M.13C-Ami.D14.R1_Frac25</td>\n",
       "      <td>152674</td>\n",
       "    </tr>\n",
       "    <tr>\n",
       "      <th>24</th>\n",
       "      <td>EL.M.151026.12C-Van.D02</td>\n",
       "      <td>204189</td>\n",
       "    </tr>\n",
       "    <tr>\n",
       "      <th>25</th>\n",
       "      <td>CF.F.151027.12C-Pal.D14</td>\n",
       "      <td>61181</td>\n",
       "    </tr>\n",
       "    <tr>\n",
       "      <th>26</th>\n",
       "      <td>BH.M.151026.12C-Van.D04</td>\n",
       "      <td>58031</td>\n",
       "    </tr>\n",
       "    <tr>\n",
       "      <th>27</th>\n",
       "      <td>PP.M.151026.H2O-Con.D04</td>\n",
       "      <td>74770</td>\n",
       "    </tr>\n",
       "    <tr>\n",
       "      <th>28</th>\n",
       "      <td>MR.M.13C-Ami.D14.R1_Frac11</td>\n",
       "      <td>182207</td>\n",
       "    </tr>\n",
       "    <tr>\n",
       "      <th>29</th>\n",
       "      <td>EL.M.151026.12C-Pal.D28</td>\n",
       "      <td>90638</td>\n",
       "    </tr>\n",
       "    <tr>\n",
       "      <th>...</th>\n",
       "      <td>...</td>\n",
       "      <td>...</td>\n",
       "    </tr>\n",
       "    <tr>\n",
       "      <th>77</th>\n",
       "      <td>MF.M.151026.H2O-Con.D04</td>\n",
       "      <td>34161</td>\n",
       "    </tr>\n",
       "    <tr>\n",
       "      <th>78</th>\n",
       "      <td>MP.A.151026.H2O-Con.D14</td>\n",
       "      <td>46761</td>\n",
       "    </tr>\n",
       "    <tr>\n",
       "      <th>79</th>\n",
       "      <td>SS.F.151026.12C-Van.D04</td>\n",
       "      <td>67051</td>\n",
       "    </tr>\n",
       "    <tr>\n",
       "      <th>80</th>\n",
       "      <td>CF.A.151027.12C-Xyl.D04</td>\n",
       "      <td>86518</td>\n",
       "    </tr>\n",
       "    <tr>\n",
       "      <th>81</th>\n",
       "      <td>BH.F.151026.12C-Xyl.D04</td>\n",
       "      <td>53400</td>\n",
       "    </tr>\n",
       "    <tr>\n",
       "      <th>82</th>\n",
       "      <td>MP.M.151026.12C-Cel.D28</td>\n",
       "      <td>33544</td>\n",
       "    </tr>\n",
       "    <tr>\n",
       "      <th>83</th>\n",
       "      <td>PP.A.151026.H2O-Con.D28</td>\n",
       "      <td>130864</td>\n",
       "    </tr>\n",
       "    <tr>\n",
       "      <th>84</th>\n",
       "      <td>MR.A.151027.12C-Cel.D28</td>\n",
       "      <td>89449</td>\n",
       "    </tr>\n",
       "    <tr>\n",
       "      <th>85</th>\n",
       "      <td>PP.A.151026.12C-Van.D02</td>\n",
       "      <td>60827</td>\n",
       "    </tr>\n",
       "    <tr>\n",
       "      <th>86</th>\n",
       "      <td>MW.A.151027.H2O-Con.D14</td>\n",
       "      <td>74823</td>\n",
       "    </tr>\n",
       "    <tr>\n",
       "      <th>87</th>\n",
       "      <td>PP.A.151026.12C-Ami.D02</td>\n",
       "      <td>68923</td>\n",
       "    </tr>\n",
       "    <tr>\n",
       "      <th>88</th>\n",
       "      <td>MW.F.151027.12C-Ami.D04</td>\n",
       "      <td>51142</td>\n",
       "    </tr>\n",
       "    <tr>\n",
       "      <th>89</th>\n",
       "      <td>CC.F.151027.12C-Pal.D14</td>\n",
       "      <td>58930</td>\n",
       "    </tr>\n",
       "    <tr>\n",
       "      <th>90</th>\n",
       "      <td>SS.F.151026.H2O-Con.D28</td>\n",
       "      <td>73619</td>\n",
       "    </tr>\n",
       "    <tr>\n",
       "      <th>91</th>\n",
       "      <td>MR.A.151027.12C-Xyl.D02</td>\n",
       "      <td>76657</td>\n",
       "    </tr>\n",
       "    <tr>\n",
       "      <th>92</th>\n",
       "      <td>PP.F.151026.H2O-Con.D04</td>\n",
       "      <td>22436</td>\n",
       "    </tr>\n",
       "    <tr>\n",
       "      <th>93</th>\n",
       "      <td>MW.M.151027.H2O-Con.D02</td>\n",
       "      <td>68169</td>\n",
       "    </tr>\n",
       "    <tr>\n",
       "      <th>94</th>\n",
       "      <td>MW.A.151027.12C-Xyl.D02</td>\n",
       "      <td>88471</td>\n",
       "    </tr>\n",
       "    <tr>\n",
       "      <th>95</th>\n",
       "      <td>MW.M.151027.12C-Xyl.D04</td>\n",
       "      <td>75294</td>\n",
       "    </tr>\n",
       "    <tr>\n",
       "      <th>96</th>\n",
       "      <td>BH.F.151026.H2O-Con.D02</td>\n",
       "      <td>52717</td>\n",
       "    </tr>\n",
       "    <tr>\n",
       "      <th>97</th>\n",
       "      <td>CC.F.151027.12C-Cel.D28</td>\n",
       "      <td>54744</td>\n",
       "    </tr>\n",
       "    <tr>\n",
       "      <th>98</th>\n",
       "      <td>Enr6_H2O_con</td>\n",
       "      <td>15609</td>\n",
       "    </tr>\n",
       "    <tr>\n",
       "      <th>99</th>\n",
       "      <td>Enr5_H2O_con</td>\n",
       "      <td>10327</td>\n",
       "    </tr>\n",
       "    <tr>\n",
       "      <th>100</th>\n",
       "      <td>BH.F.151026.12C-Pal.D28</td>\n",
       "      <td>50563</td>\n",
       "    </tr>\n",
       "    <tr>\n",
       "      <th>101</th>\n",
       "      <td>BH.F.151026.H2O-Con.D14</td>\n",
       "      <td>43617</td>\n",
       "    </tr>\n",
       "    <tr>\n",
       "      <th>102</th>\n",
       "      <td>CC.F.151027.12C-Xyl.D02</td>\n",
       "      <td>31445</td>\n",
       "    </tr>\n",
       "    <tr>\n",
       "      <th>103</th>\n",
       "      <td>BH.F.151026.12C-Cel.D28</td>\n",
       "      <td>47462</td>\n",
       "    </tr>\n",
       "    <tr>\n",
       "      <th>104</th>\n",
       "      <td>MR.M.13C-Ami.D14.R1_MC</td>\n",
       "      <td>41263</td>\n",
       "    </tr>\n",
       "    <tr>\n",
       "      <th>105</th>\n",
       "      <td>BH.F.151026.H2O-Con.D28</td>\n",
       "      <td>67923</td>\n",
       "    </tr>\n",
       "    <tr>\n",
       "      <th>106</th>\n",
       "      <td>MR.M.13C-Ami.D14.R1_NC</td>\n",
       "      <td>35719</td>\n",
       "    </tr>\n",
       "  </tbody>\n",
       "</table>\n",
       "<p>107 rows × 2 columns</p>\n",
       "</div>"
      ],
      "text/plain": [
       "                         Sample  seq_count\n",
       "0    MR.M.13C-Ami.D14.R1_Frac20      84434\n",
       "1     MR.M.13C-Ami.D14.R1_Frac8     180854\n",
       "2    MR.M.13C-Ami.D14.R1_Frac19      87866\n",
       "3       MR.F.151027.12C-Cel.D14      33135\n",
       "4       EL.F.151026.H2O-Con.D02     103965\n",
       "5     MR.M.13C-Ami.D14.R1_Frac9     150898\n",
       "6    MR.M.13C-Ami.D14.R1_Frac27     100115\n",
       "7    MR.M.13C-Ami.D14.R1_Frac14     127301\n",
       "8    MR.M.13C-Ami.D14.R1_Frac18      90570\n",
       "9       PP.M.151026.H2O-Con.D02      41711\n",
       "10      MW.F.151027.H2O-Con.D02      64944\n",
       "11   MR.M.13C-Ami.D14.R1_Frac22      72280\n",
       "12      MR.M.151027.H2O-Con.D14      74330\n",
       "13      EL.F.151026.12C-Van.D02      41293\n",
       "14    MR.M.13C-Ami.D14.R1_Frac5     191187\n",
       "15      MF.F.151026.12C-Pal.D28      29674\n",
       "16      EL.F.151026.12C-Ami.D04      68479\n",
       "17      CC.A.151027.12C-Pal.D14     134191\n",
       "18   MR.M.13C-Ami.D14.R1_Frac26     203385\n",
       "19   MR.M.13C-Ami.D14.R1_Frac10     178767\n",
       "20      MR.F.151027.12C-Cel.D28      62516\n",
       "21      EL.F.151026.12C-Xyl.D04      98375\n",
       "22    MR.M.13C-Ami.D14.R1_Frac7     165789\n",
       "23   MR.M.13C-Ami.D14.R1_Frac25     152674\n",
       "24      EL.M.151026.12C-Van.D02     204189\n",
       "25      CF.F.151027.12C-Pal.D14      61181\n",
       "26      BH.M.151026.12C-Van.D04      58031\n",
       "27      PP.M.151026.H2O-Con.D04      74770\n",
       "28   MR.M.13C-Ami.D14.R1_Frac11     182207\n",
       "29      EL.M.151026.12C-Pal.D28      90638\n",
       "..                          ...        ...\n",
       "77      MF.M.151026.H2O-Con.D04      34161\n",
       "78      MP.A.151026.H2O-Con.D14      46761\n",
       "79      SS.F.151026.12C-Van.D04      67051\n",
       "80      CF.A.151027.12C-Xyl.D04      86518\n",
       "81      BH.F.151026.12C-Xyl.D04      53400\n",
       "82      MP.M.151026.12C-Cel.D28      33544\n",
       "83      PP.A.151026.H2O-Con.D28     130864\n",
       "84      MR.A.151027.12C-Cel.D28      89449\n",
       "85      PP.A.151026.12C-Van.D02      60827\n",
       "86      MW.A.151027.H2O-Con.D14      74823\n",
       "87      PP.A.151026.12C-Ami.D02      68923\n",
       "88      MW.F.151027.12C-Ami.D04      51142\n",
       "89      CC.F.151027.12C-Pal.D14      58930\n",
       "90      SS.F.151026.H2O-Con.D28      73619\n",
       "91      MR.A.151027.12C-Xyl.D02      76657\n",
       "92      PP.F.151026.H2O-Con.D04      22436\n",
       "93      MW.M.151027.H2O-Con.D02      68169\n",
       "94      MW.A.151027.12C-Xyl.D02      88471\n",
       "95      MW.M.151027.12C-Xyl.D04      75294\n",
       "96      BH.F.151026.H2O-Con.D02      52717\n",
       "97      CC.F.151027.12C-Cel.D28      54744\n",
       "98                 Enr6_H2O_con      15609\n",
       "99                 Enr5_H2O_con      10327\n",
       "100     BH.F.151026.12C-Pal.D28      50563\n",
       "101     BH.F.151026.H2O-Con.D14      43617\n",
       "102     CC.F.151027.12C-Xyl.D02      31445\n",
       "103     BH.F.151026.12C-Cel.D28      47462\n",
       "104      MR.M.13C-Ami.D14.R1_MC      41263\n",
       "105     BH.F.151026.H2O-Con.D28      67923\n",
       "106      MR.M.13C-Ami.D14.R1_NC      35719\n",
       "\n",
       "[107 rows x 2 columns]"
      ]
     },
     "execution_count": 33,
     "metadata": {},
     "output_type": "execute_result"
    }
   ],
   "source": [
    "# converting to dataframe\n",
    "df_seq_cnt = pd.DataFrame.from_dict(samp_count, orient='index')\n",
    "df_seq_cnt.index.name = 'Sample'\n",
    "df_seq_cnt.reset_index(inplace=True)\n",
    "df_seq_cnt.columns = ['Sample', 'seq_count']\n",
    "df_seq_cnt"
   ]
  },
  {
   "cell_type": "code",
   "execution_count": 34,
   "metadata": {
    "collapsed": false
   },
   "outputs": [
    {
     "data": {
      "image/png": "[encoded data removed]"
     },
     "metadata": {},
     "output_type": "display_data"
    }
   ],
   "source": [
    "%%R -i df_seq_cnt -w 800 -h 350\n",
    "# plotting all\n",
    "\n",
    "df_seq_cnt$seq_count = as.numeric(df_seq_cnt$seq_count)\n",
    "\n",
    "\n",
    "df_seq_cnt = df_seq_cnt %>% \n",
    "    #mutate(H2O = grepl('_F0$', Sample)) %>%\n",
    "    mutate(rank = min_rank(seq_count)) %>%\n",
    "    arrange(desc(rank))\n",
    "\n",
    "df_seq_cnt$Sample = factor(df_seq_cnt$Sample, levels=df_seq_cnt$Sample)\n",
    "\n",
    "ggplot(df_seq_cnt, aes(Sample, seq_count)) +\n",
    "    geom_bar(stat='identity') +\n",
    "    theme_bw() +\n",
    "    theme(\n",
    "        text = element_text(size=16),\n",
    "        axis.text.x = element_text(angle=45, hjust=1)\n",
    "    )"
   ]
  },
  {
   "cell_type": "code",
   "execution_count": 36,
   "metadata": {
    "collapsed": false
   },
   "outputs": [
    {
     "data": {
      "text/plain": [
       "                        Sample seq_count rank\n",
       "83     MR.F.151027.12C-Xyl.D02     39918   25\n",
       "84     CC.M.151027.H2O-Con.D28     39214   24\n",
       "85     MP.F.151026.H2O-Con.D04     38796   23\n",
       "86     MW.F.151027.12C-Xyl.D02     38446   22\n",
       "87  MR.M.13C-Ami.D14.R1_Frac21     38275   21\n",
       "88     MW.F.151027.H2O-Con.D14     37447   20\n",
       "89      MR.M.13C-Ami.D14.R1_NC     35719   19\n",
       "90     CF.F.151027.H2O-Con.D14     34860   18\n",
       "91     SS.A.151026.12C-Van.D02     34820   17\n",
       "92     MF.M.151026.H2O-Con.D04     34161   16\n",
       "93     MP.A.151026.12C-Pal.D14     33928   15\n",
       "94     MF.M.151026.12C-Xyl.D04     33848   14\n",
       "95     MP.M.151026.12C-Cel.D28     33544   13\n",
       "96     MR.F.151027.12C-Cel.D14     33135   12\n",
       "97     CF.F.151027.12C-Cel.D28     32376   11\n",
       "98     SS.M.151026.H2O-Con.D02     31672   10\n",
       "99     CC.F.151027.12C-Xyl.D02     31445    9\n",
       "100    MF.F.151026.12C-Pal.D28     29674    8\n",
       "101    SS.A.151026.12C-Ami.D04     29566    7\n",
       "102    CF.M.151027.H2O-Con.D14     29151    6\n",
       "103    MW.F.151027.12C-Van.D02     26376    5\n",
       "104    MR.M.151027.12C-Pal.D14     23574    4\n",
       "105    PP.F.151026.H2O-Con.D04     22436    3\n",
       "106               Enr6_H2O_con     15609    2\n",
       "107               Enr5_H2O_con     10327    1\n"
      ]
     },
     "metadata": {},
     "output_type": "display_data"
    }
   ],
   "source": [
    "%%R\n",
    "df_seq_cnt[df_seq_cnt$seq_count < 40000,]"
   ]
  },
  {
   "cell_type": "code",
   "execution_count": null,
   "metadata": {
    "collapsed": true
   },
   "outputs": [],
   "source": []
  },
  {
   "cell_type": "code",
   "execution_count": null,
   "metadata": {
    "collapsed": true
   },
   "outputs": [],
   "source": []
  }
 ],
 "metadata": {
  "anaconda-cloud": {},
  "hide_input": true,
  "kernelspec": {
   "display_name": "Python 2",
   "language": "python",
   "name": "python2"
  },
  "language_info": {
   "codemirror_mode": {
    "name": "ipython",
    "version": 2
   },
   "file_extension": ".py",
   "mimetype": "text/x-python",
   "name": "python",
   "nbconvert_exporter": "python",
   "pygments_lexer": "ipython2",
   "version": "2.7.14"
  },
  "notify_time": "5"
 },
 "nbformat": 4,
 "nbformat_minor": 1
}
