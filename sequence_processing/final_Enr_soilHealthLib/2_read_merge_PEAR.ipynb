{
 "cells": [
  {
   "cell_type": "markdown",
   "metadata": {},
   "source": [
    "# Description\n",
    "\n",
    "* Merging raw reads with PEAR"
   ]
  },
  {
   "cell_type": "markdown",
   "metadata": {},
   "source": [
    "## Setting variables"
   ]
  },
  {
   "cell_type": "code",
   "execution_count": 1,
   "metadata": {
    "collapsed": true
   },
   "outputs": [],
   "source": [
    "seqdir = '/home/backup_files/raw_reads/soil.health.SHS.RW.CD.2018/'\n",
    "workdir = '/home/seq_data/fullCyc2/amplicon/515F-806R/final_dataset/library_QC/final_Enr_soilHealthLib'\n",
    "\n",
    "readFile1 = 'run3.read1.fq.gz'\n",
    "readFile2 = 'run3.read2.fq.gz'"
   ]
  },
  {
   "cell_type": "markdown",
   "metadata": {},
   "source": [
    "# Init"
   ]
  },
  {
   "cell_type": "code",
   "execution_count": 2,
   "metadata": {},
   "outputs": [],
   "source": [
    "import screed\n",
    "from glob import glob\n",
    "import matplotlib.pyplot as plt\n",
    "import numpy as np\n",
    "from mpld3 import enable_notebook\n",
    "import screed\n",
    "import pandas as pd\n",
    "import os"
   ]
  },
  {
   "cell_type": "code",
   "execution_count": 3,
   "metadata": {},
   "outputs": [],
   "source": [
    "%matplotlib inline  \n",
    "%load_ext rpy2.ipython"
   ]
  },
  {
   "cell_type": "code",
   "execution_count": 4,
   "metadata": {},
   "outputs": [
    {
     "name": "stderr",
     "output_type": "stream",
     "text": [
      "/home/sam/anaconda3/lib/python3.6/site-packages/rpy2/rinterface/__init__.py:145: RRuntimeWarning: \n",
      "Attaching package: ‘dplyr’\n",
      "\n",
      "\n",
      "  warnings.warn(x, RRuntimeWarning)\n",
      "/home/sam/anaconda3/lib/python3.6/site-packages/rpy2/rinterface/__init__.py:145: RRuntimeWarning: The following objects are masked from ‘package:stats’:\n",
      "\n",
      "    filter, lag\n",
      "\n",
      "\n",
      "  warnings.warn(x, RRuntimeWarning)\n",
      "/home/sam/anaconda3/lib/python3.6/site-packages/rpy2/rinterface/__init__.py:145: RRuntimeWarning: The following objects are masked from ‘package:base’:\n",
      "\n",
      "    intersect, setdiff, setequal, union\n",
      "\n",
      "\n",
      "  warnings.warn(x, RRuntimeWarning)\n"
     ]
    }
   ],
   "source": [
    "%%R\n",
    "library(ggplot2)\n",
    "library(dplyr)"
   ]
  },
  {
   "cell_type": "markdown",
   "metadata": {},
   "source": [
    "### Check that your sequence files and directories do exist and are named as above"
   ]
  },
  {
   "cell_type": "code",
   "execution_count": 6,
   "metadata": {},
   "outputs": [
    {
     "name": "stdout",
     "output_type": "stream",
     "text": [
      "/home/backup_files/raw_reads/soil.health.SHS.RW.CD.2018\n"
     ]
    }
   ],
   "source": [
    "if not os.path.isdir(seqdir):\n",
    "    print ('Sequence directory Path Does NOT exist!!')\n",
    "%cd $seqdir"
   ]
  },
  {
   "cell_type": "code",
   "execution_count": 7,
   "metadata": {},
   "outputs": [
    {
     "name": "stdout",
     "output_type": "stream",
     "text": [
      "-rw-r--r-- 1 root raw_reads 283M May 10 14:57 run3.index2.fq.gz\r\n",
      "-rw-r--r-- 1 root raw_reads 303M May 10 14:57 run3.index1.fq.gz\r\n",
      "-rw-r--r-- 1 root raw_reads 3.9G May 10 14:57 run3.read2.fq.gz\r\n",
      "-rw-r--r-- 1 root raw_reads 3.4G May 10 14:56 run3.read1.fq.gz\r\n",
      "-rw-r--r-- 1 root raw_reads 4.0G May 10 14:22 run2.read2.fq.gz\r\n",
      "-rw-r--r-- 1 root raw_reads 3.6G May 10 14:22 run2.read1.fq.gz\r\n",
      "-rw-r--r-- 1 root raw_reads 302M May 10 14:22 run2.index2.fq.gz\r\n",
      "-rw-r--r-- 1 root raw_reads 320M May 10 14:22 run2.index1.fq.gz\r\n",
      "-rw-r--r-- 1 root raw_reads 5.1G May  7 19:50 run1.read2.fq.gz\r\n",
      "-rw-r--r-- 1 root raw_reads 4.7G May  7 19:50 run1.read1.fq.gz\r\n",
      "-rw-r--r-- 1 root raw_reads 398M May  7 19:50 run1.index2.fq.gz\r\n",
      "-rw-r--r-- 1 root raw_reads 420M May  7 19:50 run1.index1.fq.gz\r\n"
     ]
    }
   ],
   "source": [
    "!cd $seqdir; ls -thlc *fq.gz"
   ]
  },
  {
   "cell_type": "code",
   "execution_count": 9,
   "metadata": {},
   "outputs": [
    {
     "name": "stdout",
     "output_type": "stream",
     "text": [
      "/home/seq_data/fullCyc2/amplicon/515F-806R/final_dataset/library_QC/final_Enr_soilHealthLib\n"
     ]
    }
   ],
   "source": [
    "if not os.path.isdir(workdir):\n",
    "    print ('Working directory Path Does NOT exist!!')\n",
    "%cd $workdir"
   ]
  },
  {
   "cell_type": "markdown",
   "metadata": {},
   "source": [
    "## Uncompress the fastq files"
   ]
  },
  {
   "cell_type": "code",
   "execution_count": 14,
   "metadata": {},
   "outputs": [],
   "source": [
    "output1 = os.path.join(workdir, \"forward.fastq\")\n",
    "\n",
    "!cd $workdir; \\\n",
    "    pigz -k -d -p 20 -c $seqdir$readFile1 > $output1"
   ]
  },
  {
   "cell_type": "code",
   "execution_count": 15,
   "metadata": {
    "collapsed": true
   },
   "outputs": [],
   "source": [
    "output2 = os.path.join(workdir, \"reverse.fastq\")\n",
    "\n",
    "!cd $workdir; \\\n",
    "    pigz -k -d -p 20 -c $seqdir$readFile2 > $output2"
   ]
  },
  {
   "cell_type": "markdown",
   "metadata": {},
   "source": [
    "# Merging\n"
   ]
  },
  {
   "cell_type": "code",
   "execution_count": 10,
   "metadata": {},
   "outputs": [
    {
     "name": "stdout",
     "output_type": "stream",
     "text": [
      " ____  _____    _    ____ \n",
      "|  _ \\| ____|  / \\  |  _ \\\n",
      "| |_) |  _|   / _ \\ | |_) |\n",
      "|  __/| |___ / ___ \\|  _ <\n",
      "|_|   |_____/_/   \\_\\_| \\_\\\n",
      "\n",
      "PEAR v0.9.10 [May 30, 2016]\n",
      "\n",
      "Citation - PEAR: a fast and accurate Illumina Paired-End reAd mergeR\n",
      "Zhang et al (2014) Bioinformatics 30(5): 614-620 | doi:10.1093/bioinformatics/btt593\n",
      "\n",
      "Forward reads file.................: forward.fastq\n",
      "Reverse reads file.................: reverse.fastq\n",
      "PHRED..............................: 33\n",
      "Using empirical frequencies........: YES\n",
      "Statistical method.................: OES\n",
      "Maximum assembly length............: 600\n",
      "Minimum assembly length............: 50\n",
      "p-value............................: 0.010000\n",
      "Quality score threshold (trimming).: 0\n",
      "Minimum read size after trimming...: 1\n",
      "Maximal ratio of uncalled bases....: 1.000000\n",
      "Minimum overlap....................: 10\n",
      "Scoring method.....................: Scaled score\n",
      "Threads............................: 20\n",
      "\n",
      "Allocating memory..................: 200,000,000 bytes\n",
      "Computing empirical frequencies....: DONE\n",
      "  A: 0.206641\n",
      "  C: 0.283917\n",
      "  G: 0.290747\n",
      "  T: 0.218696\n",
      "  2541671 uncalled bases\n",
      "Assemblying reads: 100%\n",
      "\n",
      "Assembled reads ...................: 18,185,216 / 18,647,641 (97.520%)\n",
      "Discarded reads ...................: 1,138 / 18,647,641 (0.006%)\n",
      "Not assembled reads ...............: 461,287 / 18,647,641 (2.474%)\n",
      "Assembled reads file...............: pear_merged-final_Enr_soilHealthLib.assembled.fastq\n",
      "Discarded reads file...............: pear_merged-final_Enr_soilHealthLib.discarded.fastq\n",
      "Unassembled forward reads file.....: pear_merged-final_Enr_soilHealthLib.unassembled.forward.fastq\n",
      "Unassembled reverse reads file.....: pear_merged-final_Enr_soilHealthLib.unassembled.reverse.fastq\n"
     ]
    }
   ],
   "source": [
    "!cd $workdir; \\\n",
    "    pear -m 600 -j 20 \\\n",
    "    -f forward.fastq \\\n",
    "    -r reverse.fastq \\\n",
    "    -o pear_merged-final_Enr_soilHealthLib"
   ]
  },
  {
   "cell_type": "markdown",
   "metadata": {},
   "source": [
    "# Making a screed db of merged reads"
   ]
  },
  {
   "cell_type": "code",
   "execution_count": 11,
   "metadata": {},
   "outputs": [
    {
     "data": {
      "text/plain": [
       "<ScreedDB, 'pear_merged-final_Enr_soilHealthLib.assembled.fastq_screed'>"
      ]
     },
     "execution_count": 11,
     "metadata": {},
     "output_type": "execute_result"
    }
   ],
   "source": [
    "pear_merged_file = !echo \"pear_merged-final_Enr_soilHealthLib.assembled.fastq\"\n",
    "pear_merged_file = pear_merged_file[0]\n",
    "\n",
    "os.chdir(workdir)\n",
    "screed.read_fastq_sequences(pear_merged_file)"
   ]
  },
  {
   "cell_type": "code",
   "execution_count": 12,
   "metadata": {
    "collapsed": true
   },
   "outputs": [],
   "source": [
    "pear_merged_file += '_screed'\n",
    "fqdb = screed.ScreedDB(pear_merged_file)"
   ]
  },
  {
   "cell_type": "code",
   "execution_count": 13,
   "metadata": {},
   "outputs": [
    {
     "data": {
      "text/plain": [
       "'pear_merged-final_Enr_soilHealthLib.assembled.fastq_screed'"
      ]
     },
     "execution_count": 13,
     "metadata": {},
     "output_type": "execute_result"
    }
   ],
   "source": [
    "pear_merged_file"
   ]
  },
  {
   "cell_type": "code",
   "execution_count": 14,
   "metadata": {
    "collapsed": true
   },
   "outputs": [],
   "source": [
    "lengths = []\n",
    "for read in fqdb.itervalues():\n",
    "    lengths.append((len(read[\"sequence\"])))"
   ]
  },
  {
   "cell_type": "code",
   "execution_count": 15,
   "metadata": {},
   "outputs": [
    {
     "data": {
      "image/png": "[encoded data removed]",
      "text/plain": [
       "<Figure size 720x432 with 1 Axes>"
      ]
     },
     "metadata": {},
     "output_type": "display_data"
    }
   ],
   "source": [
    "fig = plt.figure()\n",
    "ax = fig.add_subplot(111)\n",
    "h = ax.hist(np.array(lengths), bins=50)\n",
    "xl = ax.set_xlabel(\"Sequence Length, nt\")\n",
    "yl = ax.set_ylabel(\"Count\")\n",
    "fig.set_size_inches((10,6))"
   ]
  },
  {
   "cell_type": "code",
   "execution_count": 16,
   "metadata": {},
   "outputs": [
    {
     "name": "stdout",
     "output_type": "stream",
     "text": [
      "Number of reads: 18185216\n"
     ]
    }
   ],
   "source": [
    "print ('Number of reads: {}'.format(len(lengths)))"
   ]
  },
  {
   "cell_type": "markdown",
   "metadata": {},
   "source": [
    "## Quality stats on merged reads\n"
   ]
  },
  {
   "cell_type": "code",
   "execution_count": 17,
   "metadata": {},
   "outputs": [],
   "source": [
    "def qualStats(sourceDir, fileName):\n",
    "    outFile = fileName + '_qualStats'\n",
    "    !cd $sourceDir; \\\n",
    "        fastx_quality_stats -i $fileName -o $outFile -Q 33\n",
    "    return outFile\n",
    "    \n",
    "qualStatsRes = qualStats(workdir, 'pear_merged-final_Enr_soilHealthLib.assembled.fastq')"
   ]
  },
  {
   "cell_type": "code",
   "execution_count": 18,
   "metadata": {},
   "outputs": [],
   "source": [
    "%%R -i workdir -i qualStatsRes\n",
    "\n",
    "setwd(workdir)\n",
    "\n",
    "# reading in qual-stats files    \n",
    "tbl.r12 = read.delim(qualStatsRes, sep='\\t')\n",
    "rownames(tbl.r12) = 1:nrow(tbl.r12)"
   ]
  },
  {
   "cell_type": "code",
   "execution_count": 20,
   "metadata": {},
   "outputs": [
    {
     "data": {
      "image/png": "[encoded data removed]"
     },
     "metadata": {},
     "output_type": "display_data"
    }
   ],
   "source": [
    "%%R -w 800 -h 300\n",
    "# smooth curve on median qual values\n",
    "ggplot(tbl.r12, aes(x=column, y=med, ymin=Q1, ymax=Q3)) +\n",
    "    geom_smooth(se=FALSE, method='auto') +\n",
    "    geom_linerange(alpha=0.3) +\n",
    "    labs(x='position', y='median quality score') +\n",
    "    theme_bw() +\n",
    "    theme( \n",
    "        text = element_text(size=16) \n",
    "        )"
   ]
  },
  {
   "cell_type": "markdown",
   "metadata": {
    "collapsed": true
   },
   "source": [
    "## Clean up\n",
    "Remove temporary files made during this process. These are really big files that you no longer need. If you are worried about having to re-do something then you can skip this step and clean up manually at the very end."
   ]
  },
  {
   "cell_type": "code",
   "execution_count": null,
   "metadata": {
    "collapsed": true
   },
   "outputs": [],
   "source": []
  }
 ],
 "metadata": {
  "anaconda-cloud": {},
  "hide_input": true,
  "kernelspec": {
   "display_name": "Python 3",
   "language": "python",
   "name": "python3"
  },
  "language_info": {
   "codemirror_mode": {
    "name": "ipython",
    "version": 3
   },
   "file_extension": ".py",
   "mimetype": "text/x-python",
   "name": "python",
   "nbconvert_exporter": "python",
   "pygments_lexer": "ipython3",
   "version": "3.6.10"
  }
 },
 "nbformat": 4,
 "nbformat_minor": 1
}
