{
 "cells": [
  {
   "cell_type": "markdown",
   "metadata": {},
   "source": [
    "# Description\n",
    "\n",
    "* Quality control on MiSeq run data\n",
    "  * post-merging\n",
    "  * post-demultiplexing"
   ]
  },
  {
   "cell_type": "markdown",
   "metadata": {},
   "source": [
    "# Setting variables"
   ]
  },
  {
   "cell_type": "code",
   "execution_count": 2,
   "metadata": {
    "collapsed": true
   },
   "outputs": [],
   "source": [
    "import os\n",
    "\n",
    "baseDir = '/home/seq_data/fullCyc2/amplicon/515F-806R/final_dataset/library_QC/final_Enr_soilHealthLib'\n",
    "workDir = os.path.join(baseDir, 'QC')\n",
    "seqFile = os.path.join(baseDir, 'pear_merged-final_Enr_soilHealthLib.assembled.dmult.fastq')\n",
    "\n",
    "# number of processors\n",
    "nprocs = 20\n",
    "\n",
    "# max expected error\n",
    "maxee = 1"
   ]
  },
  {
   "cell_type": "markdown",
   "metadata": {},
   "source": [
    "# Init"
   ]
  },
  {
   "cell_type": "code",
   "execution_count": 3,
   "metadata": {
    "collapsed": true
   },
   "outputs": [],
   "source": [
    "import re\n",
    "import pandas as pd"
   ]
  },
  {
   "cell_type": "code",
   "execution_count": 4,
   "metadata": {
    "collapsed": false
   },
   "outputs": [],
   "source": [
    "%load_ext rpy2.ipython\n",
    "#%load_ext pushnote"
   ]
  },
  {
   "cell_type": "code",
   "execution_count": 5,
   "metadata": {
    "collapsed": false
   },
   "outputs": [
    {
     "name": "stderr",
     "output_type": "stream",
     "text": [
      "/home/sam/anaconda3/lib/python3.6/site-packages/rpy2/rinterface/__init__.py:145: RRuntimeWarning: \n",
      "Attaching package: ‘dplyr’\n",
      "\n",
      "\n",
      "  warnings.warn(x, RRuntimeWarning)\n",
      "/home/sam/anaconda3/lib/python3.6/site-packages/rpy2/rinterface/__init__.py:145: RRuntimeWarning: The following objects are masked from ‘package:stats’:\n",
      "\n",
      "    filter, lag\n",
      "\n",
      "\n",
      "  warnings.warn(x, RRuntimeWarning)\n",
      "/home/sam/anaconda3/lib/python3.6/site-packages/rpy2/rinterface/__init__.py:145: RRuntimeWarning: The following objects are masked from ‘package:base’:\n",
      "\n",
      "    intersect, setdiff, setequal, union\n",
      "\n",
      "\n",
      "  warnings.warn(x, RRuntimeWarning)\n",
      "/home/sam/anaconda3/lib/python3.6/site-packages/rpy2/rinterface/__init__.py:145: RRuntimeWarning: \n",
      "Attaching package: ‘gridExtra’\n",
      "\n",
      "\n",
      "  warnings.warn(x, RRuntimeWarning)\n",
      "/home/sam/anaconda3/lib/python3.6/site-packages/rpy2/rinterface/__init__.py:145: RRuntimeWarning: The following object is masked from ‘package:dplyr’:\n",
      "\n",
      "    combine\n",
      "\n",
      "\n",
      "  warnings.warn(x, RRuntimeWarning)\n"
     ]
    }
   ],
   "source": [
    "%%R\n",
    "library(ggplot2)\n",
    "library(dplyr)\n",
    "library(tidyr)\n",
    "library(gridExtra)"
   ]
  },
  {
   "cell_type": "code",
   "execution_count": 7,
   "metadata": {
    "collapsed": false
   },
   "outputs": [
    {
     "name": "stdout",
     "output_type": "stream",
     "text": [
      "/home/seq_data/fullCyc2/amplicon/515F-806R/final_dataset/library_QC/final_Enr_soilHealthLib/QC\n"
     ]
    }
   ],
   "source": [
    "if not os.path.isdir(workDir):\n",
    "    os.makedirs(workDir)\n",
    "%cd $workDir"
   ]
  },
  {
   "cell_type": "code",
   "execution_count": 8,
   "metadata": {
    "collapsed": false
   },
   "outputs": [
    {
     "name": "stdout",
     "output_type": "stream",
     "text": [
      "File exists: /home/seq_data/fullCyc2/amplicon/515F-806R/final_dataset/library_QC/final_Enr_soilHealthLib/pear_merged-final_Enr_soilHealthLib.assembled.dmult.fastq\n"
     ]
    }
   ],
   "source": [
    "# symlinking demult seq file into CQ\n",
    "tmp = os.path.join(baseDir, seqFile)\n",
    "if not os.path.isfile(seqFile):\n",
    "    tmp2 = os.path.split(tmp)[1]\n",
    "    os.symlink(tmp, tmp2)\n",
    "else:\n",
    "    print ('File exists: {}'.format(os.path.join(workDir, seqFile)))"
   ]
  },
  {
   "cell_type": "markdown",
   "metadata": {},
   "source": [
    "# Merged read quality filtering"
   ]
  },
  {
   "cell_type": "markdown",
   "metadata": {},
   "source": [
    "## Discard sequences that exceed max expected error theshold"
   ]
  },
  {
   "cell_type": "code",
   "execution_count": 9,
   "metadata": {
    "collapsed": false
   },
   "outputs": [
    {
     "data": {
      "text/plain": [
       "'pear_merged-final_Enr_soilHealthLib.assembled.dmult_maxee1.fasta'"
      ]
     },
     "execution_count": 9,
     "metadata": {},
     "output_type": "execute_result"
    }
   ],
   "source": [
    "qcFile = os.path.split(seqFile)[1]\n",
    "qcFile = os.path.splitext(qcFile)[0] + '_maxee{}.fasta'.format(maxee)\n",
    "qcFile"
   ]
  },
  {
   "cell_type": "code",
   "execution_count": 10,
   "metadata": {
    "collapsed": true
   },
   "outputs": [],
   "source": [
    "%%bash -s \"$seqFile\" \"$nprocs\" \"$maxee\" \"$qcFile\"\n",
    "\n",
    "mkdir /home/sam/tmp/tmpdir1\n",
    "trap \"rm -r /home/sam/tmp/tmpdir1\" 1 2 3 15\n",
    "split -d -l 2000000 $1 /home/sam/tmp/tmpdir1/Block\n",
    "\n",
    "mkdir /home/sam/tmp/tmpdir2\n",
    "trap \"rm -r /home/sam/tmp/tmpdir2\" 1 2 3 15\n",
    "ls /home/sam/tmp/tmpdir1/Block?? | parallel --gnu -j $2 -k \"usearch -fastq_filter {} -fastq_maxee $3 \\\n",
    "-fastaout /home/sam/tmp/tmpdir2/{#}.fasta >/dev/null 2>&1 && cat /home/sam/tmp/tmpdir2/{#}.fasta\" > $4\n",
    "rm -r /home/sam/tmp/tmpdir2 /home/sam/tmp/tmpdir1"
   ]
  },
  {
   "cell_type": "code",
   "execution_count": 11,
   "metadata": {
    "collapsed": false
   },
   "outputs": [
    {
     "name": "stdout",
     "output_type": "stream",
     "text": [
      "Max expected error cutoff: 1\n",
      "Number of sequence pre-filter: 470006\n",
      "Number of sequences post-filter: 465862\n",
      "\n",
      ">CF.A.151027.12C-Xyl.D02_0 orig_name=M05470:37:000000000-BP266:1:1102:15221:1361\n",
      "TACGGAGGGTGCAAGCGTTATCCGGATTCACTGGGTTTAAAGGGTGCGTAGGCGGGCAGGGAAGTCCGTGGTGAAATCTC\n",
      "CGAGCTTAACTCGGAAACTGCCGTGGATACTCTCTGTCTTGAATACTGTGAAGGTGAGCGGAATATGTCATGTAGCGGTG\n",
      "AAATGCTTAGATATGACATAGAACACCAATTGCGAAGGCAGCTCACTGCGCAGCGATTGACGCTGAGGCACGAAAGCGTG\n",
      "GGGATCAAACAGG\n",
      ">CF.A.151027.12C-Pal.D28_1 orig_name=M05470:37:000000000-BP266:1:1102:16712:1373\n",
      "TACGGAGGGTGCGAGCGTTGTCCAGAATCACTGGGCGTAAAGGGCGCGTAGGTGGCCTGTGGAAGTCTGCGGTGAAAGCC\n",
      "CGGCGCTCAACGCCGGGTCGGCCGTGGATACTCTCGGGCTTGAGCTTACTAGAGGCAGATGGAATTCCGGGTGTAGCGGT\n"
     ]
    }
   ],
   "source": [
    "%%bash -s \"$seqFile\" \"$nprocs\" \"$maxee\" \"$qcFile\"\n",
    "\n",
    "printf \"Max expected error cutoff: \"\n",
    "echo $3\n",
    "\n",
    "printf \"Number of sequence pre-filter: \"\n",
    "grep -c \"orig_name=\" $1\n",
    "\n",
    "printf \"Number of sequences post-filter: \"\n",
    "grep -c \">\" $4\n",
    "\n",
    "echo '' \n",
    "head -n 8 $4"
   ]
  },
  {
   "cell_type": "markdown",
   "metadata": {},
   "source": [
    "## Remove seqs with 'N' characters"
   ]
  },
  {
   "cell_type": "code",
   "execution_count": 12,
   "metadata": {
    "collapsed": false
   },
   "outputs": [
    {
     "data": {
      "text/plain": [
       "'pear_merged-final_Enr_soilHealthLib.assembled.dmult_maxee1_noN.fasta'"
      ]
     },
     "execution_count": 12,
     "metadata": {},
     "output_type": "execute_result"
    }
   ],
   "source": [
    "qcFile2 = os.path.splitext(qcFile)[0] + '_noN.fasta'\n",
    "qcFile2"
   ]
  },
  {
   "cell_type": "code",
   "execution_count": 13,
   "metadata": {
    "collapsed": false
   },
   "outputs": [
    {
     "name": "stdout",
     "output_type": "stream",
     "text": [
      "Number of sequence pre-filter: 465862\n",
      "Number of sequences post-filter: 465862\n"
     ]
    }
   ],
   "source": [
    "%%bash -s \"$qcFile\" \"$qcFile2\"\n",
    "\n",
    "bioawk -c fastx '{if ($seq !~ /N/){print \">\" $name \" \" $4 \"\\n\" $seq}}' $1 > $2\n",
    "\n",
    "printf \"Number of sequence pre-filter: \"\n",
    "grep -c \">\" $1\n",
    "\n",
    "printf \"Number of sequences post-filter: \"\n",
    "grep -c \">\" $2"
   ]
  },
  {
   "cell_type": "markdown",
   "metadata": {},
   "source": [
    "## Alignment-based QC with Mothur"
   ]
  },
  {
   "cell_type": "code",
   "execution_count": 14,
   "metadata": {
    "collapsed": false
   },
   "outputs": [
    {
     "name": "stdout",
     "output_type": "stream",
     "text": [
      "CF.A.151027.12C-Xyl.D02_0\tCF.A.151027.12C-Xyl.D02\n",
      "CF.A.151027.12C-Pal.D28_1\tCF.A.151027.12C-Pal.D28\n",
      "CF.A.151027.12C-Xyl.D02_3\tCF.A.151027.12C-Xyl.D02\n",
      "CF.A.151027.12C-Xyl.D02_2\tCF.A.151027.12C-Xyl.D02\n",
      "CF.A.151027.12C-Xyl.D02_4\tCF.A.151027.12C-Xyl.D02\n",
      "CF.A.151027.H2O-Con.D28_5\tCF.A.151027.H2O-Con.D28\n",
      "MW.A.151027.H2O-Con.D28_6\tMW.A.151027.H2O-Con.D28\n",
      "MW.A.151027.H2O-Con.D28_7\tMW.A.151027.H2O-Con.D28\n",
      "MW.A.151027.H2O-Con.D28_8\tMW.A.151027.H2O-Con.D28\n",
      "MW.A.151027.H2O-Con.D28_9\tMW.A.151027.H2O-Con.D28\n"
     ]
    }
   ],
   "source": [
    "%%bash -s \"$qcFile2\"\n",
    "# making mothur group file\n",
    "\n",
    "perl -ne 'if(/^>/){ s/>(.+)(_\\d+) .+/$1$2\\t$1/; print;}' $1 > group_file.txt\n",
    "head group_file.txt"
   ]
  },
  {
   "cell_type": "code",
   "execution_count": 15,
   "metadata": {
    "collapsed": false
   },
   "outputs": [
    {
     "name": "stdout",
     "output_type": "stream",
     "text": [
      "CF.A.151027.12C-Xyl.D02_0\tCF.A.151027.12C-Xyl.D02\r\n",
      "CF.A.151027.12C-Pal.D28_1\tCF.A.151027.12C-Pal.D28\r\n",
      "CF.A.151027.12C-Xyl.D02_3\tCF.A.151027.12C-Xyl.D02\r\n",
      "CF.A.151027.12C-Xyl.D02_2\tCF.A.151027.12C-Xyl.D02\r\n",
      "CF.A.151027.12C-Xyl.D02_4\tCF.A.151027.12C-Xyl.D02\r\n",
      "CF.A.151027.H2O-Con.D28_5\tCF.A.151027.H2O-Con.D28\r\n",
      "MW.A.151027.H2O-Con.D28_6\tMW.A.151027.H2O-Con.D28\r\n",
      "MW.A.151027.H2O-Con.D28_7\tMW.A.151027.H2O-Con.D28\r\n",
      "MW.A.151027.H2O-Con.D28_8\tMW.A.151027.H2O-Con.D28\r\n",
      "MW.A.151027.H2O-Con.D28_9\tMW.A.151027.H2O-Con.D28\r\n",
      "CF.A.151027.12C-Xyl.D02_10\tCF.A.151027.12C-Xyl.D02\r\n",
      "MF.A.151026.12C-Cel.D28_12\tMF.A.151026.12C-Cel.D28\r\n",
      "MF.A.151026.H2O-Con.D28_11\tMF.A.151026.H2O-Con.D28\r\n",
      "CF.A.151027.H2O-Con.D28_15\tCF.A.151027.H2O-Con.D28\r\n",
      "CF.A.151027.H2O-Con.D28_16\tCF.A.151027.H2O-Con.D28\r\n",
      "MF.A.151026.H2O-Con.D28_17\tMF.A.151026.H2O-Con.D28\r\n",
      "CF.A.151027.12C-Xyl.D02_13\tCF.A.151027.12C-Xyl.D02\r\n",
      "CF.A.151027.12C-Xyl.D02_19\tCF.A.151027.12C-Xyl.D02\r\n",
      "CF.A.151027.12C-Xyl.D02_21\tCF.A.151027.12C-Xyl.D02\r\n",
      "MW.A.151027.H2O-Con.D28_14\tMW.A.151027.H2O-Con.D28\r\n",
      "CF.A.151027.12C-Pal.D28_20\tCF.A.151027.12C-Pal.D28\r\n",
      "EL.A.151026.12C-Van.D04_25\tEL.A.151026.12C-Van.D04\r\n",
      "CF.A.151027.12C-Xyl.D02_22\tCF.A.151027.12C-Xyl.D02\r\n",
      "CF.A.151027.12C-Pal.D28_23\tCF.A.151027.12C-Pal.D28\r\n",
      "CF.A.151027.12C-Xyl.D02_29\tCF.A.151027.12C-Xyl.D02\r\n",
      "MW.A.151027.H2O-Con.D28_32\tMW.A.151027.H2O-Con.D28\r\n",
      "MW.A.151027.H2O-Con.D28_24\tMW.A.151027.H2O-Con.D28\r\n",
      "MW.A.151027.H2O-Con.D28_33\tMW.A.151027.H2O-Con.D28\r\n",
      "MF.A.151026.H2O-Con.D28_34\tMF.A.151026.H2O-Con.D28\r\n",
      "MF.A.151026.H2O-Con.D28_30\tMF.A.151026.H2O-Con.D28\r\n",
      "CF.A.151027.12C-Xyl.D02_37\tCF.A.151027.12C-Xyl.D02\r\n",
      "CF.A.151027.12C-Pal.D28_36\tCF.A.151027.12C-Pal.D28\r\n",
      "CF.A.151027.12C-Pal.D28_26\tCF.A.151027.12C-Pal.D28\r\n",
      "CF.A.151027.12C-Pal.D28_41\tCF.A.151027.12C-Pal.D28\r\n",
      "MW.A.151027.H2O-Con.D28_38\tMW.A.151027.H2O-Con.D28\r\n",
      "MF.A.151026.H2O-Con.D28_40\tMF.A.151026.H2O-Con.D28\r\n",
      "MW.A.151027.H2O-Con.D28_44\tMW.A.151027.H2O-Con.D28\r\n",
      "MF.A.151026.H2O-Con.D28_42\tMF.A.151026.H2O-Con.D28\r\n",
      "EL.A.151026.12C-Van.D04_28\tEL.A.151026.12C-Van.D04\r\n",
      "MF.A.151026.H2O-Con.D28_35\tMF.A.151026.H2O-Con.D28\r\n",
      "CF.A.151027.12C-Xyl.D02_47\tCF.A.151027.12C-Xyl.D02\r\n",
      "MW.A.151027.H2O-Con.D28_27\tMW.A.151027.H2O-Con.D28\r\n",
      "MW.A.151027.H2O-Con.D28_18\tMW.A.151027.H2O-Con.D28\r\n",
      "CF.A.151027.12C-Xyl.D02_46\tCF.A.151027.12C-Xyl.D02\r\n",
      "MW.A.151027.H2O-Con.D28_45\tMW.A.151027.H2O-Con.D28\r\n",
      "MW.A.151027.H2O-Con.D28_49\tMW.A.151027.H2O-Con.D28\r\n",
      "CF.A.151027.12C-Xyl.D02_52\tCF.A.151027.12C-Xyl.D02\r\n",
      "CF.A.151027.12C-Xyl.D02_50\tCF.A.151027.12C-Xyl.D02\r\n",
      "CF.A.151027.12C-Pal.D28_55\tCF.A.151027.12C-Pal.D28\r\n",
      "MW.A.151027.H2O-Con.D28_57\tMW.A.151027.H2O-Con.D28\r\n",
      "MW.A.151027.H2O-Con.D28_58\tMW.A.151027.H2O-Con.D28\r\n",
      "CF.A.151027.H2O-Con.D28_51\tCF.A.151027.H2O-Con.D28\r\n",
      "CF.A.151027.12C-Pal.D28_54\tCF.A.151027.12C-Pal.D28\r\n",
      "CF.A.151027.12C-Pal.D28_59\tCF.A.151027.12C-Pal.D28\r\n",
      "EL.A.151026.12C-Van.D04_43\tEL.A.151026.12C-Van.D04\r\n",
      "MW.A.151027.H2O-Con.D28_64\tMW.A.151027.H2O-Con.D28\r\n",
      "MW.A.151027.H2O-Con.D28_65\tMW.A.151027.H2O-Con.D28\r\n",
      "MW.A.151027.H2O-Con.D28_53\tMW.A.151027.H2O-Con.D28\r\n",
      "EL.A.151026.12C-Van.D04_67\tEL.A.151026.12C-Van.D04\r\n",
      "MW.A.151027.H2O-Con.D28_56\tMW.A.151027.H2O-Con.D28\r\n",
      "MW.A.151027.H2O-Con.D28_69\tMW.A.151027.H2O-Con.D28\r\n",
      "MF.A.151026.12C-Cel.D28_71\tMF.A.151026.12C-Cel.D28\r\n",
      "MF.A.151026.H2O-Con.D28_68\tMF.A.151026.H2O-Con.D28\r\n",
      "EL.A.151026.12C-Van.D04_61\tEL.A.151026.12C-Van.D04\r\n",
      "EL.A.151026.12C-Van.D04_70\tEL.A.151026.12C-Van.D04\r\n",
      "CF.A.151027.12C-Xyl.D02_60\tCF.A.151027.12C-Xyl.D02\r\n",
      "MF.A.151026.12C-Cel.D28_74\tMF.A.151026.12C-Cel.D28\r\n",
      "MF.A.151026.H2O-Con.D28_39\tMF.A.151026.H2O-Con.D28\r\n",
      "MF.A.151026.H2O-Con.D28_66\tMF.A.151026.H2O-Con.D28\r\n",
      "MW.A.151027.H2O-Con.D28_77\tMW.A.151027.H2O-Con.D28\r\n",
      "MF.A.151026.12C-Cel.D28_75\tMF.A.151026.12C-Cel.D28\r\n",
      "MW.A.151027.H2O-Con.D28_63\tMW.A.151027.H2O-Con.D28\r\n",
      "CF.A.151027.12C-Xyl.D02_81\tCF.A.151027.12C-Xyl.D02\r\n",
      "EL.A.151026.12C-Van.D04_82\tEL.A.151026.12C-Van.D04\r\n",
      "MF.A.151026.12C-Cel.D28_80\tMF.A.151026.12C-Cel.D28\r\n",
      "CF.A.151027.12C-Pal.D28_85\tCF.A.151027.12C-Pal.D28\r\n",
      "MW.A.151027.H2O-Con.D28_83\tMW.A.151027.H2O-Con.D28\r\n",
      "EL.A.151026.12C-Van.D04_87\tEL.A.151026.12C-Van.D04\r\n",
      "MF.A.151026.12C-Cel.D28_86\tMF.A.151026.12C-Cel.D28\r\n",
      "EL.A.151026.12C-Van.D04_31\tEL.A.151026.12C-Van.D04\r\n",
      "MF.A.151026.12C-Cel.D28_79\tMF.A.151026.12C-Cel.D28\r\n",
      "EL.A.151026.12C-Van.D04_91\tEL.A.151026.12C-Van.D04\r\n",
      "EL.A.151026.12C-Van.D04_92\tEL.A.151026.12C-Van.D04\r\n",
      "MF.A.151026.12C-Cel.D28_93\tMF.A.151026.12C-Cel.D28\r\n",
      "EL.A.151026.12C-Van.D04_90\tEL.A.151026.12C-Van.D04\r\n",
      "EL.A.151026.12C-Van.D04_89\tEL.A.151026.12C-Van.D04\r\n",
      "CF.A.151027.12C-Xyl.D02_76\tCF.A.151027.12C-Xyl.D02\r\n",
      "MF.A.151026.H2O-Con.D28_73\tMF.A.151026.H2O-Con.D28\r\n",
      "MW.A.151027.H2O-Con.D28_97\tMW.A.151027.H2O-Con.D28\r\n",
      "EL.A.151026.12C-Van.D04_96\tEL.A.151026.12C-Van.D04\r\n",
      "EL.A.151026.12C-Van.D04_99\tEL.A.151026.12C-Van.D04\r\n",
      "MF.A.151026.H2O-Con.D28_72\tMF.A.151026.H2O-Con.D28\r\n",
      "MW.A.151027.H2O-Con.D28_78\tMW.A.151027.H2O-Con.D28\r\n",
      "MF.A.151026.H2O-Con.D28_101\tMF.A.151026.H2O-Con.D28\r\n",
      "CF.A.151027.12C-Xyl.D02_95\tCF.A.151027.12C-Xyl.D02\r\n",
      "CF.A.151027.12C-Xyl.D02_94\tCF.A.151027.12C-Xyl.D02\r\n",
      "MW.A.151027.H2O-Con.D28_84\tMW.A.151027.H2O-Con.D28\r\n",
      "CF.A.151027.12C-Pal.D28_107\tCF.A.151027.12C-Pal.D28\r\n",
      "MW.A.151027.H2O-Con.D28_106\tMW.A.151027.H2O-Con.D28\r\n",
      "MW.A.151027.H2O-Con.D28_98\tMW.A.151027.H2O-Con.D28\r\n",
      "MW.A.151027.H2O-Con.D28_102\tMW.A.151027.H2O-Con.D28\r\n",
      "MF.A.151026.H2O-Con.D28_105\tMF.A.151026.H2O-Con.D28\r\n",
      "CF.A.151027.12C-Xyl.D02_111\tCF.A.151027.12C-Xyl.D02\r\n",
      "CF.A.151027.12C-Pal.D28_88\tCF.A.151027.12C-Pal.D28\r\n",
      "MF.A.151026.H2O-Con.D28_114\tMF.A.151026.H2O-Con.D28\r\n",
      "MW.A.151027.H2O-Con.D28_113\tMW.A.151027.H2O-Con.D28\r\n",
      "CF.A.151027.H2O-Con.D28_112\tCF.A.151027.H2O-Con.D28\r\n",
      "EL.A.151026.12C-Van.D04_117\tEL.A.151026.12C-Van.D04\r\n",
      "MW.A.151027.H2O-Con.D28_100\tMW.A.151027.H2O-Con.D28\r\n",
      "CF.A.151027.12C-Xyl.D02_103\tCF.A.151027.12C-Xyl.D02\r\n",
      "CF.A.151027.H2O-Con.D28_115\tCF.A.151027.H2O-Con.D28\r\n",
      "CF.A.151027.12C-Pal.D28_121\tCF.A.151027.12C-Pal.D28\r\n",
      "CF.A.151027.H2O-Con.D28_120\tCF.A.151027.H2O-Con.D28\r\n",
      "MF.A.151026.H2O-Con.D28_108\tMF.A.151026.H2O-Con.D28\r\n",
      "CF.A.151027.H2O-Con.D28_124\tCF.A.151027.H2O-Con.D28\r\n",
      "CF.A.151027.12C-Xyl.D02_122\tCF.A.151027.12C-Xyl.D02\r\n",
      "CF.A.151027.12C-Pal.D28_119\tCF.A.151027.12C-Pal.D28\r\n",
      "EL.A.151026.12C-Van.D04_126\tEL.A.151026.12C-Van.D04\r\n",
      "MF.A.151026.H2O-Con.D28_104\tMF.A.151026.H2O-Con.D28\r\n",
      "MW.A.151027.H2O-Con.D28_116\tMW.A.151027.H2O-Con.D28\r\n",
      "MW.A.151027.H2O-Con.D28_118\tMW.A.151027.H2O-Con.D28\r\n",
      "MW.A.151027.H2O-Con.D28_128\tMW.A.151027.H2O-Con.D28\r\n",
      "MW.A.151027.H2O-Con.D28_129\tMW.A.151027.H2O-Con.D28\r\n",
      "MF.A.151026.H2O-Con.D28_130\tMF.A.151026.H2O-Con.D28\r\n",
      "CF.A.151027.12C-Xyl.D02_134\tCF.A.151027.12C-Xyl.D02\r\n",
      "EL.A.151026.12C-Van.D04_123\tEL.A.151026.12C-Van.D04\r\n",
      "CF.A.151027.12C-Xyl.D02_133\tCF.A.151027.12C-Xyl.D02\r\n",
      "CF.A.151027.12C-Xyl.D02_136\tCF.A.151027.12C-Xyl.D02\r\n",
      "MF.A.151026.H2O-Con.D28_137\tMF.A.151026.H2O-Con.D28\r\n",
      "MW.A.151027.H2O-Con.D28_138\tMW.A.151027.H2O-Con.D28\r\n",
      "EL.A.151026.12C-Van.D04_132\tEL.A.151026.12C-Van.D04\r\n",
      "MW.A.151027.H2O-Con.D28_131\tMW.A.151027.H2O-Con.D28\r\n",
      "MW.A.151027.H2O-Con.D28_140\tMW.A.151027.H2O-Con.D28\r\n",
      "CF.A.151027.12C-Xyl.D02_141\tCF.A.151027.12C-Xyl.D02\r\n",
      "MW.A.151027.H2O-Con.D28_139\tMW.A.151027.H2O-Con.D28\r\n",
      "CF.A.151027.12C-Xyl.D02_110\tCF.A.151027.12C-Xyl.D02\r\n",
      "CF.A.151027.H2O-Con.D28_109\tCF.A.151027.H2O-Con.D28\r\n",
      "CF.A.151027.H2O-Con.D28_147\tCF.A.151027.H2O-Con.D28\r\n",
      "MW.A.151027.H2O-Con.D28_148\tMW.A.151027.H2O-Con.D28\r\n",
      "MF.A.151026.H2O-Con.D28_142\tMF.A.151026.H2O-Con.D28\r\n",
      "EL.A.151026.12C-Van.D04_125\tEL.A.151026.12C-Van.D04\r\n",
      "CF.A.151027.12C-Pal.D28_127\tCF.A.151027.12C-Pal.D28\r\n",
      "CF.A.151027.12C-Xyl.D02_135\tCF.A.151027.12C-Xyl.D02\r\n",
      "EL.A.151026.12C-Van.D04_153\tEL.A.151026.12C-Van.D04\r\n",
      "MW.A.151027.H2O-Con.D28_145\tMW.A.151027.H2O-Con.D28\r\n",
      "EL.A.151026.12C-Van.D04_154\tEL.A.151026.12C-Van.D04\r\n",
      "MW.A.151027.H2O-Con.D28_155\tMW.A.151027.H2O-Con.D28\r\n",
      "MW.A.151027.H2O-Con.D28_157\tMW.A.151027.H2O-Con.D28\r\n",
      "MW.A.151027.H2O-Con.D28_158\tMW.A.151027.H2O-Con.D28\r\n",
      "MW.A.151027.H2O-Con.D28_156\tMW.A.151027.H2O-Con.D28\r\n",
      "MW.A.151027.H2O-Con.D28_144\tMW.A.151027.H2O-Con.D28\r\n",
      "EL.A.151026.12C-Van.D04_150\tEL.A.151026.12C-Van.D04\r\n",
      "MW.A.151027.H2O-Con.D28_149\tMW.A.151027.H2O-Con.D28\r\n",
      "MF.A.151026.H2O-Con.D28_159\tMF.A.151026.H2O-Con.D28\r\n",
      "MF.A.151026.H2O-Con.D28_164\tMF.A.151026.H2O-Con.D28\r\n",
      "MW.A.151027.H2O-Con.D28_163\tMW.A.151027.H2O-Con.D28\r\n",
      "CF.A.151027.12C-Xyl.D02_166\tCF.A.151027.12C-Xyl.D02\r\n",
      "CF.A.151027.H2O-Con.D28_161\tCF.A.151027.H2O-Con.D28\r\n",
      "MW.A.151027.H2O-Con.D28_160\tMW.A.151027.H2O-Con.D28\r\n",
      "MW.A.151027.H2O-Con.D28_146\tMW.A.151027.H2O-Con.D28\r\n",
      "EL.A.151026.12C-Van.D04_162\tEL.A.151026.12C-Van.D04\r\n",
      "EL.A.151026.12C-Van.D04_169\tEL.A.151026.12C-Van.D04\r\n",
      "EL.A.151026.12C-Van.D04_170\tEL.A.151026.12C-Van.D04\r\n",
      "MW.A.151027.H2O-Con.D28_165\tMW.A.151027.H2O-Con.D28\r\n",
      "MW.A.151027.H2O-Con.D28_152\tMW.A.151027.H2O-Con.D28\r\n",
      "CF.A.151027.12C-Pal.D28_175\tCF.A.151027.12C-Pal.D28\r\n",
      "MF.A.151026.H2O-Con.D28_174\tMF.A.151026.H2O-Con.D28\r\n",
      "MW.A.151027.H2O-Con.D28_176\tMW.A.151027.H2O-Con.D28\r\n",
      "MW.A.151027.H2O-Con.D28_171\tMW.A.151027.H2O-Con.D28\r\n",
      "MW.A.151027.H2O-Con.D28_178\tMW.A.151027.H2O-Con.D28\r\n",
      "MW.A.151027.H2O-Con.D28_173\tMW.A.151027.H2O-Con.D28\r\n",
      "CF.A.151027.12C-Xyl.D02_143\tCF.A.151027.12C-Xyl.D02\r\n",
      "MW.A.151027.H2O-Con.D28_182\tMW.A.151027.H2O-Con.D28\r\n",
      "CF.A.151027.12C-Xyl.D02_172\tCF.A.151027.12C-Xyl.D02\r\n",
      "MF.A.151026.12C-Cel.D28_183\tMF.A.151026.12C-Cel.D28\r\n",
      "EL.A.151026.12C-Van.D04_185\tEL.A.151026.12C-Van.D04\r\n",
      "MF.A.151026.H2O-Con.D28_177\tMF.A.151026.H2O-Con.D28\r\n",
      "MF.A.151026.H2O-Con.D28_180\tMF.A.151026.H2O-Con.D28\r\n",
      "CF.A.151027.12C-Xyl.D02_181\tCF.A.151027.12C-Xyl.D02\r\n",
      "MW.A.151027.H2O-Con.D28_184\tMW.A.151027.H2O-Con.D28\r\n",
      "MF.A.151026.12C-Cel.D28_179\tMF.A.151026.12C-Cel.D28\r\n",
      "MW.A.151027.H2O-Con.D28_186\tMW.A.151027.H2O-Con.D28\r\n",
      "MW.A.151027.H2O-Con.D28_193\tMW.A.151027.H2O-Con.D28\r\n",
      "MW.A.151027.H2O-Con.D28_189\tMW.A.151027.H2O-Con.D28\r\n",
      "MW.A.151027.H2O-Con.D28_191\tMW.A.151027.H2O-Con.D28\r\n",
      "EL.A.151026.12C-Van.D04_196\tEL.A.151026.12C-Van.D04\r\n",
      "CF.A.151027.H2O-Con.D28_197\tCF.A.151027.H2O-Con.D28\r\n",
      "CF.A.151027.H2O-Con.D28_194\tCF.A.151027.H2O-Con.D28\r\n",
      "MF.A.151026.H2O-Con.D28_199\tMF.A.151026.H2O-Con.D28\r\n",
      "MW.A.151027.H2O-Con.D28_200\tMW.A.151027.H2O-Con.D28\r\n",
      "MW.A.151027.H2O-Con.D28_201\tMW.A.151027.H2O-Con.D28\r\n",
      "CF.A.151027.12C-Xyl.D02_167\tCF.A.151027.12C-Xyl.D02\r\n",
      "MF.A.151026.H2O-Con.D28_202\tMF.A.151026.H2O-Con.D28\r\n",
      "MW.A.151027.H2O-Con.D28_192\tMW.A.151027.H2O-Con.D28\r\n",
      "CF.A.151027.12C-Xyl.D02_188\tCF.A.151027.12C-Xyl.D02\r\n",
      "EL.A.151026.12C-Van.D04_204\tEL.A.151026.12C-Van.D04\r\n",
      "EL.A.151026.12C-Van.D04_168\tEL.A.151026.12C-Van.D04\r\n",
      "EL.A.151026.12C-Van.D04_207\tEL.A.151026.12C-Van.D04\r\n",
      "EL.A.151026.12C-Van.D04_190\tEL.A.151026.12C-Van.D04\r\n",
      "CF.A.151027.12C-Xyl.D02_195\tCF.A.151027.12C-Xyl.D02\r\n"
     ]
    }
   ],
   "source": [
    "! head -n 200 group_file.txt"
   ]
  },
  {
   "cell_type": "code",
   "execution_count": 16,
   "metadata": {
    "collapsed": false
   },
   "outputs": [
    {
     "name": "stdout",
     "output_type": "stream",
     "text": [
      "444000\t250422\r\n",
      "445000\t250917\r\n",
      "446000\t251407\r\n",
      "447000\t251928\r\n",
      "448000\t252430\r\n",
      "449000\t252951\r\n",
      "450000\t253473\r\n",
      "451000\t253994\r\n",
      "452000\t254495\r\n",
      "453000\t254995\r\n",
      "454000\t255496\r\n",
      "455000\t256015\r\n",
      "456000\t256533\r\n",
      "457000\t257023\r\n",
      "458000\t257547\r\n",
      "459000\t258047\r\n",
      "460000\t258579\r\n",
      "461000\t259093\r\n",
      "462000\t259622\r\n",
      "463000\t260115\r\n",
      "464000\t260595\r\n",
      "465000\t261091\r\n",
      "465862\t261541\r\n",
      "\r\n",
      "Output File Names: \r\n",
      "pear_merged-final_Enr_soilHealthLib.assembled.dmult_maxee1_noN.names\r\n",
      "pear_merged-final_Enr_soilHealthLib.assembled.dmult_maxee1_noN.unique.fasta\r\n",
      "\r\n",
      "\r\n",
      "mothur > quit()\r\n"
     ]
    }
   ],
   "source": [
    "# unique sequences\n",
    "cmd = 'mothur \"#unique.seqs(fasta={})\"'.format(qcFile2)\n",
    "!$cmd | tail -n 30"
   ]
  },
  {
   "cell_type": "code",
   "execution_count": 17,
   "metadata": {
    "collapsed": false
   },
   "outputs": [
    {
     "name": "stdout",
     "output_type": "stream",
     "text": [
      "Number of unique sequences: 261541\n"
     ]
    }
   ],
   "source": [
    "qcFile3 = os.path.splitext(qcFile2)[0] + '.unique.fasta'\n",
    "n_uniq = !grep -c \">\" $qcFile3\n",
    "print ('Number of unique sequences: {}'.format(n_uniq[0]))"
   ]
  },
  {
   "cell_type": "code",
   "execution_count": 18,
   "metadata": {
    "collapsed": false
   },
   "outputs": [
    {
     "name": "stdout",
     "output_type": "stream",
     "text": [
      "-rw-rw-r-- 1 sam sam 22M May 14 13:16 pear_merged-final_Enr_soilHealthLib.assembled.dmult_maxee1_noN.names\r\n"
     ]
    }
   ],
   "source": [
    "# name file produced by unique.seqs()\n",
    "nameFile = os.path.splitext(qcFile2)[0] + '.names'\n",
    "!ls -thlc $nameFile"
   ]
  },
  {
   "cell_type": "code",
   "execution_count": 20,
   "metadata": {
    "collapsed": false
   },
   "outputs": [
    {
     "name": "stdout",
     "output_type": "stream",
     "text": [
      "silva.seed_v132.tax\n",
      "silva.seed_v132.align\n",
      "README.md\n"
     ]
    },
    {
     "name": "stderr",
     "output_type": "stream",
     "text": [
      "--2018-05-14 13:20:27--  https://www.mothur.org/w/images/7/71/Silva.seed_v132.tgz\n",
      "Resolving www.mothur.org (www.mothur.org)... 141.214.120.22\n",
      "Connecting to www.mothur.org (www.mothur.org)|141.214.120.22|:443... connected.\n",
      "HTTP request sent, awaiting response... 200 OK\n",
      "Length: 19623900 (19M) [application/x-gzip]\n",
      "Saving to: ‘Silva.seed_v132.tgz’\n",
      "\n",
      "     0K .......... .......... .......... .......... ..........  0% 1.88M 10s\n",
      "    50K .......... .......... .......... .......... ..........  0% 1003K 14s\n",
      "   100K .......... .......... .......... .......... ..........  0% 1.88M 13s\n",
      "   150K .......... .......... .......... .......... ..........  1% 1001K 14s\n",
      "   200K .......... .......... .......... .......... ..........  1% 1.86M 13s\n",
      "   250K .......... .......... .......... .......... ..........  1% 1001K 14s\n",
      "   300K .......... .......... .......... .......... ..........  1% 1.91M 14s\n",
      "   350K .......... .......... .......... .......... ..........  2%  997K 14s\n",
      "   400K .......... .......... .......... .......... ..........  2%  995K 15s\n",
      "   450K .......... .......... .......... .......... ..........  2% 1.90M 14s\n",
      "   500K .......... .......... .......... .......... ..........  2%  994K 15s\n",
      "   550K .......... .......... .......... .......... ..........  3% 1.86M 14s\n",
      "   600K .......... .......... .......... .......... ..........  3% 1012K 14s\n",
      "   650K .......... .......... .......... .......... ..........  3% 1.86M 14s\n",
      "   700K .......... .......... .......... .......... ..........  3% 1007K 14s\n",
      "   750K .......... .......... .......... .......... ..........  4%  997K 15s\n",
      "   800K .......... .......... .......... .......... ..........  4% 1.87M 14s\n",
      "   850K .......... .......... .......... .......... ..........  4% 1008K 14s\n",
      "   900K .......... .......... .......... .......... ..........  4% 1.86M 14s\n",
      "   950K .......... .......... .......... .......... ..........  5% 1003K 14s\n",
      "  1000K .......... .......... .......... .......... ..........  5% 1.84M 14s\n",
      "  1050K .......... .......... .......... .......... ..........  5% 1018K 14s\n",
      "  1100K .......... .......... .......... .......... ..........  6%  993K 14s\n",
      "  1150K .......... .......... .......... .......... ..........  6% 1.85M 14s\n",
      "  1200K .......... .......... .......... .......... ..........  6% 1014K 14s\n",
      "  1250K .......... .......... .......... .......... ..........  6% 1.85M 14s\n",
      "  1300K .......... .......... .......... .......... ..........  7% 1011K 14s\n",
      "  1350K .......... .......... .......... .......... ..........  7% 1.85M 14s\n",
      "  1400K .......... .......... .......... .......... ..........  7% 1019K 14s\n",
      "  1450K .......... .......... .......... .......... ..........  7% 1.85M 14s\n",
      "  1500K .......... .......... .......... .......... ..........  8% 1007K 14s\n",
      "  1550K .......... .......... .......... .......... ..........  8% 1.88M 14s\n",
      "  1600K .......... .......... .......... .......... ..........  8%  997K 14s\n",
      "  1650K .......... .......... .......... .......... ..........  8% 1014K 14s\n",
      "  1700K .......... .......... .......... .......... ..........  9% 1.85M 14s\n",
      "  1750K .......... .......... .......... .......... ..........  9% 1015K 14s\n",
      "  1800K .......... .......... .......... .......... ..........  9% 1.85M 13s\n",
      "  1850K .......... .......... .......... .......... ..........  9% 1003K 14s\n",
      "  1900K .......... .......... .......... .......... .......... 10% 1.91M 13s\n",
      "  1950K .......... .......... .......... .......... .......... 10%  999K 13s\n",
      "  2000K .......... .......... .......... .......... .......... 10% 1.85M 13s\n",
      "  2050K .......... .......... .......... .......... .......... 10% 1.90M 13s\n",
      "  2100K .......... .......... .......... .......... .......... 11% 1.89M 13s\n",
      "  2150K .......... .......... .......... .......... .......... 11%  994K 13s\n",
      "  2200K .......... .......... .......... .......... .......... 11% 1.90M 13s\n",
      "  2250K .......... .......... .......... .......... .......... 12% 1.88M 13s\n",
      "  2300K .......... .......... .......... .......... .......... 12% 1.90M 13s\n",
      "  2350K .......... .......... .......... .......... .......... 12%  999K 13s\n",
      "  2400K .......... .......... .......... .......... .......... 12% 1.89M 13s\n",
      "  2450K .......... .......... .......... .......... .......... 13%  998K 13s\n",
      "  2500K .......... .......... .......... .......... .......... 13% 1.91M 13s\n",
      "  2550K .......... .......... .......... .......... .......... 13% 1.87M 12s\n",
      "  2600K .......... .......... .......... .......... .......... 13% 1.88M 12s\n",
      "  2650K .......... .......... .......... .......... .......... 14% 1.91M 12s\n",
      "  2700K .......... .......... .......... .......... .......... 14% 1.86M 12s\n",
      "  2750K .......... .......... .......... .......... .......... 14%  999K 12s\n",
      "  2800K .......... .......... .......... .......... .......... 14% 1.91M 12s\n",
      "  2850K .......... .......... .......... .......... .......... 15% 1.88M 12s\n",
      "  2900K .......... .......... .......... .......... .......... 15% 1.87M 12s\n",
      "  2950K .......... .......... .......... .......... .......... 15% 1000K 12s\n",
      "  3000K .......... .......... .......... .......... .......... 15% 1.90M 12s\n",
      "  3050K .......... .......... .......... .......... .......... 16% 1.87M 12s\n",
      "  3100K .......... .......... .......... .......... .......... 16% 1.91M 12s\n",
      "  3150K .......... .......... .......... .......... .......... 16%  991K 12s\n",
      "  3200K .......... .......... .......... .......... .......... 16% 1.88M 12s\n",
      "  3250K .......... .......... .......... .......... .......... 17% 1.91M 11s\n",
      "  3300K .......... .......... .......... .......... .......... 17% 1000K 11s\n",
      "  3350K .......... .......... .......... .......... .......... 17% 1.89M 11s\n",
      "  3400K .......... .......... .......... .......... .......... 18% 1.87M 11s\n",
      "  3450K .......... .......... .......... .......... .......... 18% 1.91M 11s\n",
      "  3500K .......... .......... .......... .......... .......... 18% 1.90M 11s\n",
      "  3550K .......... .......... .......... .......... .......... 18% 1.87M 11s\n",
      "  3600K .......... .......... .......... .......... .......... 19%  998K 11s\n",
      "  3650K .......... .......... .......... .......... .......... 19% 1.90M 11s\n",
      "  3700K .......... .......... .......... .......... .......... 19% 1.86M 11s\n",
      "  3750K .......... .......... .......... .......... .......... 19% 1.87M 11s\n",
      "  3800K .......... .......... .......... .......... .......... 20% 1.92M 11s\n",
      "  3850K .......... .......... .......... .......... .......... 20% 1.00M 11s\n",
      "  3900K .......... .......... .......... .......... .......... 20% 1.84M 11s\n",
      "  3950K .......... .......... .......... .......... .......... 20% 1.92M 11s\n",
      "  4000K .......... .......... .......... .......... .......... 21% 1.87M 11s\n",
      "  4050K .......... .......... .......... .......... .......... 21% 1006K 11s\n",
      "  4100K .......... .......... .......... .......... .......... 21% 1.87M 11s\n",
      "  4150K .......... .......... .......... .......... .......... 21% 1.90M 10s\n",
      "  4200K .......... .......... .......... .......... .......... 22% 1.88M 10s\n",
      "  4250K .......... .......... .......... .......... .......... 22% 1.88M 10s\n",
      "  4300K .......... .......... .......... .......... .......... 22% 1.89M 10s\n",
      "  4350K .......... .......... .......... .......... .......... 22% 1.88M 10s\n",
      "  4400K .......... .......... .......... .......... .......... 23% 1006K 10s\n",
      "  4450K .......... .......... .......... .......... .......... 23% 1.89M 10s\n",
      "  4500K .......... .......... .......... .......... .......... 23% 1.90M 10s\n",
      "  4550K .......... .......... .......... .......... .......... 24% 1.92M 10s\n",
      "  4600K .......... .......... .......... .......... .......... 24% 1.87M 10s\n",
      "  4650K .......... .......... .......... .......... .......... 24% 1.01M 10s\n",
      "  4700K .......... .......... .......... .......... .......... 24% 1.92M 10s\n",
      "  4750K .......... .......... .......... .......... .......... 25% 1.82M 10s\n",
      "  4800K .......... .......... .......... .......... .......... 25% 1.90M 10s\n",
      "  4850K .......... .......... .......... .......... .......... 25% 1.87M 10s\n",
      "  4900K .......... .......... .......... .......... .......... 25% 1.89M 10s\n",
      "  4950K .......... .......... .......... .......... .......... 26% 1.89M 10s\n",
      "  5000K .......... .......... .......... .......... .......... 26% 1.91M 10s\n",
      "  5050K .......... .......... .......... .......... .......... 26% 1.90M 10s\n",
      "  5100K .......... .......... .......... .......... .......... 26% 1003K 10s\n",
      "  5150K .......... .......... .......... .......... .......... 27% 1.91M 9s\n",
      "  5200K .......... .......... .......... .......... .......... 27% 1.88M 9s\n",
      "  5250K .......... .......... .......... .......... .......... 27% 1.90M 9s\n",
      "  5300K .......... .......... .......... .......... .......... 27% 1.91M 9s\n",
      "  5350K .......... .......... .......... .......... .......... 28% 1.90M 9s\n",
      "  5400K .......... .......... .......... .......... .......... 28% 1.90M 9s\n",
      "  5450K .......... .......... .......... .......... .......... 28% 1.88M 9s\n",
      "  5500K .......... .......... .......... .......... .......... 28% 1.90M 9s\n",
      "  5550K .......... .......... .......... .......... .......... 29% 1.92M 9s\n",
      "  5600K .......... .......... .......... .......... .......... 29%  395K 9s\n",
      "  5650K .......... .......... .......... .......... .......... 29% 1.91M 9s\n",
      "  5700K .......... .......... .......... .......... .......... 30% 1.90M 9s\n",
      "  5750K .......... .......... .......... .......... .......... 30% 1.89M 9s\n",
      "  5800K .......... .......... .......... .......... .......... 30% 1.91M 9s\n",
      "  5850K .......... .......... .......... .......... .......... 30% 1.92M 9s\n",
      "  5900K .......... .......... .......... .......... .......... 31% 1.92M 9s\n",
      "  5950K .......... .......... .......... .......... .......... 31% 1.88M 9s\n",
      "  6000K .......... .......... .......... .......... .......... 31% 1.89M 9s\n",
      "  6050K .......... .......... .......... .......... .......... 31% 1.90M 9s\n",
      "  6100K .......... .......... .......... .......... .......... 32% 1.90M 9s\n",
      "  6150K .......... .......... .......... .......... .......... 32% 1.92M 9s\n",
      "  6200K .......... .......... .......... .......... .......... 32% 1.91M 9s\n",
      "  6250K .......... .......... .......... .......... .......... 32% 1.92M 9s\n",
      "  6300K .......... .......... .......... .......... .......... 33% 1002K 9s\n",
      "  6350K .......... .......... .......... .......... .......... 33% 1.92M 9s\n",
      "  6400K .......... .......... .......... .......... .......... 33% 1.91M 8s\n",
      "  6450K .......... .......... .......... .......... .......... 33% 1.89M 8s\n",
      "  6500K .......... .......... .......... .......... .......... 34% 1.91M 8s\n",
      "  6550K .......... .......... .......... .......... .......... 34% 1.81M 8s\n",
      "  6600K .......... .......... .......... .......... .......... 34% 1.91M 8s\n",
      "  6650K .......... .......... .......... .......... .......... 34% 1.92M 8s\n",
      "  6700K .......... .......... .......... .......... .......... 35% 1.91M 8s\n",
      "  6750K .......... .......... .......... .......... .......... 35% 1.91M 8s\n",
      "  6800K .......... .......... .......... .......... .......... 35% 1.86M 8s\n",
      "  6850K .......... .......... .......... .......... .......... 36% 1.88M 8s\n",
      "  6900K .......... .......... .......... .......... .......... 36% 1.89M 8s\n",
      "  6950K .......... .......... .......... .......... .......... 36% 1.91M 8s\n",
      "  7000K .......... .......... .......... .......... .......... 36% 1.93M 8s\n",
      "  7050K .......... .......... .......... .......... .......... 37% 1.86M 8s\n",
      "  7100K .......... .......... .......... .......... .......... 37% 1.92M 8s\n",
      "  7150K .......... .......... .......... .......... .......... 37% 1.91M 8s\n",
      "  7200K .......... .......... .......... .......... .......... 37% 1.91M 8s\n",
      "  7250K .......... .......... .......... .......... .......... 38% 1.90M 8s\n",
      "  7300K .......... .......... .......... .......... .......... 38% 1.90M 8s\n",
      "  7350K .......... .......... .......... .......... .......... 38% 1.92M 8s\n",
      "  7400K .......... .......... .......... .......... .......... 38% 1.90M 8s\n",
      "  7450K .......... .......... .......... .......... .......... 39% 1.91M 8s\n",
      "  7500K .......... .......... .......... .......... .......... 39% 1.92M 7s\n",
      "  7550K .......... .......... .......... .......... .......... 39% 1013K 7s\n",
      "  7600K .......... .......... .......... .......... .......... 39% 1.91M 7s\n",
      "  7650K .......... .......... .......... .......... .......... 40% 1.88M 7s\n",
      "  7700K .......... .......... .......... .......... .......... 40% 1.92M 7s\n",
      "  7750K .......... .......... .......... .......... .......... 40% 1.90M 7s\n",
      "  7800K .......... .......... .......... .......... .......... 40% 1.92M 7s\n",
      "  7850K .......... .......... .......... .......... .......... 41% 1.92M 7s\n",
      "  7900K .......... .......... .......... .......... .......... 41% 1.93M 7s\n",
      "  7950K .......... .......... .......... .......... .......... 41% 1.81M 7s\n",
      "  8000K .......... .......... .......... .......... .......... 42% 1.91M 7s\n",
      "  8050K .......... .......... .......... .......... .......... 42% 1.92M 7s\n",
      "  8100K .......... .......... .......... .......... .......... 42% 1.91M 7s\n",
      "  8150K .......... .......... .......... .......... .......... 42% 1.93M 7s\n",
      "  8200K .......... .......... .......... .......... .......... 43% 1.92M 7s\n",
      "  8250K .......... .......... .......... .......... .......... 43% 1.91M 7s\n",
      "  8300K .......... .......... .......... .......... .......... 43% 1.90M 7s\n",
      "  8350K .......... .......... .......... .......... .......... 43% 1.88M 7s\n",
      "  8400K .......... .......... .......... .......... .......... 44% 1.90M 7s\n",
      "  8450K .......... .......... .......... .......... .......... 44% 1.91M 7s\n",
      "  8500K .......... .......... .......... .......... .......... 44% 1.90M 7s\n",
      "  8550K .......... .......... .......... .......... .......... 44% 1.88M 7s\n",
      "  8600K .......... .......... .......... .......... .......... 45% 1.90M 7s\n",
      "  8650K .......... .......... .......... .......... .......... 45% 1.93M 7s\n",
      "  8700K .......... .......... .......... .......... .......... 45% 1014K 7s\n",
      "  8750K .......... .......... .......... .......... .......... 45% 1.92M 7s\n",
      "  8800K .......... .......... .......... .......... .......... 46% 1.88M 7s\n",
      "  8850K .......... .......... .......... .......... .......... 46% 1.92M 6s\n",
      "  8900K .......... .......... .......... .......... .......... 46% 1.91M 6s\n",
      "  8950K .......... .......... .......... .......... .......... 46% 1.92M 6s\n",
      "  9000K .......... .......... .......... .......... .......... 47% 1.92M 6s\n",
      "  9050K .......... .......... .......... .......... .......... 47% 1.93M 6s\n",
      "  9100K .......... .......... .......... .......... .......... 47% 1.85M 6s\n",
      "  9150K .......... .......... .......... .......... .......... 48% 1.92M 6s\n",
      "  9200K .......... .......... .......... .......... .......... 48% 1.92M 6s\n",
      "  9250K .......... .......... .......... .......... .......... 48% 1.92M 6s\n",
      "  9300K .......... .......... .......... .......... .......... 48% 1.92M 6s\n",
      "  9350K .......... .......... .......... .......... .......... 49% 1.91M 6s\n",
      "  9400K .......... .......... .......... .......... .......... 49% 1.92M 6s\n",
      "  9450K .......... .......... .......... .......... .......... 49% 1.89M 6s\n",
      "  9500K .......... .......... .......... .......... .......... 49% 1.92M 6s\n",
      "  9550K .......... .......... .......... .......... .......... 50% 1.92M 6s\n",
      "  9600K .......... .......... .......... .......... .......... 50% 1.91M 6s\n",
      "  9650K .......... .......... .......... .......... .......... 50% 1.92M 6s\n",
      "  9700K .......... .......... .......... .......... .......... 50% 1.89M 6s\n",
      "  9750K .......... .......... .......... .......... .......... 51% 1.92M 6s\n",
      "  9800K .......... .......... .......... .......... .......... 51% 1.92M 6s\n",
      "  9850K .......... .......... .......... .......... .......... 51% 1.92M 6s\n",
      "  9900K .......... .......... .......... .......... .......... 51% 1.91M 6s\n",
      "  9950K .......... .......... .......... .......... .......... 52% 1.93M 6s\n",
      " 10000K .......... .......... .......... .......... .......... 52% 1008K 6s\n",
      " 10050K .......... .......... .......... .......... .......... 52% 1.92M 6s\n",
      " 10100K .......... .......... .......... .......... .......... 52% 1.92M 6s\n",
      " 10150K .......... .......... .......... .......... .......... 53% 1.92M 6s\n",
      " 10200K .......... .......... .......... .......... .......... 53% 1.92M 5s\n",
      " 10250K .......... .......... .......... .......... .......... 53% 1.86M 5s\n",
      " 10300K .......... .......... .......... .......... .......... 54% 1.94M 5s\n",
      " 10350K .......... .......... .......... .......... .......... 54% 1.91M 5s\n",
      " 10400K .......... .......... .......... .......... .......... 54% 1.92M 5s\n",
      " 10450K .......... .......... .......... .......... .......... 54% 1.94M 5s\n",
      " 10500K .......... .......... .......... .......... .......... 55% 1.92M 5s\n",
      " 10550K .......... .......... .......... .......... .......... 55% 1.91M 5s\n",
      " 10600K .......... .......... .......... .......... .......... 55% 1.90M 5s\n",
      " 10650K .......... .......... .......... .......... .......... 55% 1.93M 5s\n",
      " 10700K .......... .......... .......... .......... .......... 56% 1.91M 5s\n",
      " 10750K .......... .......... .......... .......... .......... 56% 1.92M 5s\n",
      " 10800K .......... .......... .......... .......... .......... 56% 1.92M 5s\n",
      " 10850K .......... .......... .......... .......... .......... 56% 1.91M 5s\n",
      " 10900K .......... .......... .......... .......... .......... 57% 1.91M 5s\n",
      " 10950K .......... .......... .......... .......... .......... 57% 1.93M 5s\n",
      " 11000K .......... .......... .......... .......... .......... 57% 1.88M 5s\n",
      " 11050K .......... .......... .......... .......... .......... 57% 1.90M 5s\n",
      " 11100K .......... .......... .......... .......... .......... 58% 1.91M 5s\n",
      " 11150K .......... .......... .......... .......... .......... 58% 1.01M 5s\n",
      " 11200K .......... .......... .......... .......... .......... 58% 1.28M 5s\n",
      " 11250K .......... .......... .......... .......... .......... 58% 1.92M 5s\n",
      " 11300K .......... .......... .......... .......... .......... 59% 1.91M 5s\n",
      " 11350K .......... .......... .......... .......... .......... 59% 1.92M 5s\n",
      " 11400K .......... .......... .......... .......... .......... 59% 1.91M 5s\n",
      " 11450K .......... .......... .......... .......... .......... 60% 1.93M 5s\n",
      " 11500K .......... .......... .......... .......... .......... 60% 1.92M 5s\n",
      " 11550K .......... .......... .......... .......... .......... 60% 1.92M 5s\n",
      " 11600K .......... .......... .......... .......... .......... 60% 1.93M 5s\n",
      " 11650K .......... .......... .......... .......... .......... 61% 1.91M 5s\n",
      " 11700K .......... .......... .......... .......... .......... 61% 1.93M 4s\n",
      " 11750K .......... .......... .......... .......... .......... 61% 1.91M 4s\n",
      " 11800K .......... .......... .......... .......... .......... 61% 1.92M 4s\n",
      " 11850K .......... .......... .......... .......... .......... 62% 1.93M 4s\n",
      " 11900K .......... .......... .......... .......... .......... 62% 1.90M 4s\n",
      " 11950K .......... .......... .......... .......... .......... 62%  396K 4s\n",
      " 12000K .......... .......... .......... .......... .......... 62% 1.90M 4s\n",
      " 12050K .......... .......... .......... .......... .......... 63% 1.91M 4s\n",
      " 12100K .......... .......... .......... .......... .......... 63% 1.75M 4s\n",
      " 12150K .......... .......... .......... .......... .......... 63% 1.90M 4s\n",
      " 12200K .......... .......... .......... .......... .......... 63% 1.87M 4s\n",
      " 12250K .......... .......... .......... .......... .......... 64% 1.87M 4s\n",
      " 12300K .......... .......... .......... .......... .......... 64% 1.64M 4s\n",
      " 12350K .......... .......... .......... .......... .......... 64% 1.86M 4s\n",
      " 12400K .......... .......... .......... .......... .......... 64% 1.83M 4s\n",
      " 12450K .......... .......... .......... .......... .......... 65% 1.93M 4s\n",
      " 12500K .......... .......... .......... .......... .......... 65% 1.93M 4s\n",
      " 12550K .......... .......... .......... .......... .......... 65% 1.93M 4s\n",
      " 12600K .......... .......... .......... .......... .......... 66% 1.93M 4s\n",
      " 12650K .......... .......... .......... .......... .......... 66% 1.93M 4s\n",
      " 12700K .......... .......... .......... .......... .......... 66% 1.02M 4s\n",
      " 12750K .......... .......... .......... .......... .......... 66% 1.93M 4s\n",
      " 12800K .......... .......... .......... .......... .......... 67% 1.92M 4s\n",
      " 12850K .......... .......... .......... .......... .......... 67% 1.91M 4s\n",
      " 12900K .......... .......... .......... .......... .......... 67% 1.88M 4s\n",
      " 12950K .......... .......... .......... .......... .......... 67% 1.92M 4s\n",
      " 13000K .......... .......... .......... .......... .......... 68% 1.93M 4s\n",
      " 13050K .......... .......... .......... .......... .......... 68% 1.92M 4s\n",
      " 13100K .......... .......... .......... .......... .......... 68% 1.88M 4s\n",
      " 13150K .......... .......... .......... .......... .......... 68% 1.92M 4s\n",
      " 13200K .......... .......... .......... .......... .......... 69% 1.93M 4s\n",
      " 13250K .......... .......... .......... .......... .......... 69% 1.91M 4s\n",
      " 13300K .......... .......... .......... .......... .......... 69% 1.92M 4s\n",
      " 13350K .......... .......... .......... .......... .......... 69% 1.92M 3s\n",
      " 13400K .......... .......... .......... .......... .......... 70% 1.93M 3s\n",
      " 13450K .......... .......... .......... .......... .......... 70% 1.94M 3s\n",
      " 13500K .......... .......... .......... .......... .......... 70% 1.94M 3s\n",
      " 13550K .......... .......... .......... .......... .......... 70% 1.91M 3s\n",
      " 13600K .......... .......... .......... .......... .......... 71% 1.93M 3s\n",
      " 13650K .......... .......... .......... .......... .......... 71% 1.93M 3s\n",
      " 13700K .......... .......... .......... .......... .......... 71% 1.91M 3s\n",
      " 13750K .......... .......... .......... .......... .......... 72% 1.93M 3s\n",
      " 13800K .......... .......... .......... .......... .......... 72% 1.94M 3s\n",
      " 13850K .......... .......... .......... .......... .......... 72% 1.92M 3s\n",
      " 13900K .......... .......... .......... .......... .......... 72% 1012K 3s\n",
      " 13950K .......... .......... .......... .......... .......... 73% 30.8M 3s\n",
      " 14000K .......... .......... .......... .......... .......... 73% 1.00M 3s\n",
      " 14050K .......... .......... .......... .......... .......... 73% 1.92M 3s\n",
      " 14100K .......... .......... .......... .......... .......... 73% 1.94M 3s\n",
      " 14150K .......... .......... .......... .......... .......... 74% 1.92M 3s\n",
      " 14200K .......... .......... .......... .......... .......... 74% 1.94M 3s\n",
      " 14250K .......... .......... .......... .......... .......... 74% 1.93M 3s\n",
      " 14300K .......... .......... .......... .......... .......... 74% 1.86M 3s\n",
      " 14350K .......... .......... .......... .......... .......... 75% 1.92M 3s\n",
      " 14400K .......... .......... .......... .......... .......... 75% 1.90M 3s\n",
      " 14450K .......... .......... .......... .......... .......... 75% 1.90M 3s\n",
      " 14500K .......... .......... .......... .......... .......... 75% 1.93M 3s\n",
      " 14550K .......... .......... .......... .......... .......... 76% 1.93M 3s\n",
      " 14600K .......... .......... .......... .......... .......... 76% 1.93M 3s\n",
      " 14650K .......... .......... .......... .......... .......... 76% 1.93M 3s\n",
      " 14700K .......... .......... .......... .......... .......... 76% 1.94M 3s\n",
      " 14750K .......... .......... .......... .......... .......... 77% 1.93M 3s\n",
      " 14800K .......... .......... .......... .......... .......... 77% 1.90M 3s\n",
      " 14850K .......... .......... .......... .......... .......... 77% 1.92M 3s\n",
      " 14900K .......... .......... .......... .......... .......... 78% 1.92M 3s\n",
      " 14950K .......... .......... .......... .......... .......... 78% 1.93M 2s\n",
      " 15000K .......... .......... .......... .......... .......... 78% 1.93M 2s\n",
      " 15050K .......... .......... .......... .......... .......... 78% 1.95M 2s\n",
      " 15100K .......... .......... .......... .......... .......... 79% 1.02M 2s\n",
      " 15150K .......... .......... .......... .......... .......... 79% 1.93M 2s\n",
      " 15200K .......... .......... .......... .......... .......... 79% 1.94M 2s\n",
      " 15250K .......... .......... .......... .......... .......... 79% 1.93M 2s\n",
      " 15300K .......... .......... .......... .......... .......... 80% 1.94M 2s\n",
      " 15350K .......... .......... .......... .......... .......... 80% 1.91M 2s\n",
      " 15400K .......... .......... .......... .......... .......... 80% 1.93M 2s\n",
      " 15450K .......... .......... .......... .......... .......... 80% 1.93M 2s\n",
      " 15500K .......... .......... .......... .......... .......... 81% 1.92M 2s\n",
      " 15550K .......... .......... .......... .......... .......... 81% 1.95M 2s\n",
      " 15600K .......... .......... .......... .......... .......... 81% 1.90M 2s\n",
      " 15650K .......... .......... .......... .......... .......... 81% 1.86M 2s\n",
      " 15700K .......... .......... .......... .......... .......... 82% 1.94M 2s\n",
      " 15750K .......... .......... .......... .......... .......... 82% 1.93M 2s\n",
      " 15800K .......... .......... .......... .......... .......... 82% 23.4M 2s\n",
      " 15850K .......... .......... .......... .......... .......... 82% 1.91M 2s\n",
      " 15900K .......... .......... .......... .......... .......... 83% 1.93M 2s\n",
      " 15950K .......... .......... .......... .......... .......... 83% 1.02M 2s\n",
      " 16000K .......... .......... .......... .......... .......... 83% 1.93M 2s\n",
      " 16050K .......... .......... .......... .......... .......... 84% 1.94M 2s\n",
      " 16100K .......... .......... .......... .......... .......... 84% 1.92M 2s\n",
      " 16150K .......... .......... .......... .......... .......... 84% 1.93M 2s\n",
      " 16200K .......... .......... .......... .......... .......... 84% 1.94M 2s\n",
      " 16250K .......... .......... .......... .......... .......... 85% 12.9M 2s\n",
      " 16300K .......... .......... .......... .......... .......... 85% 1.93M 2s\n",
      " 16350K .......... .......... .......... .......... .......... 85% 1.93M 2s\n",
      " 16400K .......... .......... .......... .......... .......... 85% 1.92M 2s\n",
      " 16450K .......... .......... .......... .......... .......... 86% 1.92M 2s\n",
      " 16500K .......... .......... .......... .......... .......... 86% 1.94M 2s\n",
      " 16550K .......... .......... .......... .......... .......... 86% 1.93M 2s\n",
      " 16600K .......... .......... .......... .......... .......... 86% 1.93M 1s\n",
      " 16650K .......... .......... .......... .......... .......... 87% 1.93M 1s\n",
      " 16700K .......... .......... .......... .......... .......... 87% 1.94M 1s\n",
      " 16750K .......... .......... .......... .......... .......... 87% 1.95M 1s\n",
      " 16800K .......... .......... .......... .......... .......... 87% 1.93M 1s\n",
      " 16850K .......... .......... .......... .......... .......... 88% 1.92M 1s\n",
      " 16900K .......... .......... .......... .......... .......... 88% 1.94M 1s\n",
      " 16950K .......... .......... .......... .......... .......... 88% 1.91M 1s\n",
      " 17000K .......... .......... .......... .......... .......... 88% 1.95M 1s\n",
      " 17050K .......... .......... .......... .......... .......... 89% 1.91M 1s\n",
      " 17100K .......... .......... .......... .......... .......... 89% 1.94M 1s\n",
      " 17150K .......... .......... .......... .......... .......... 89% 1.93M 1s\n",
      " 17200K .......... .......... .......... .......... .......... 90% 1.92M 1s\n",
      " 17250K .......... .......... .......... .......... .......... 90% 1.92M 1s\n",
      " 17300K .......... .......... .......... .......... .......... 90% 1.94M 1s\n",
      " 17350K .......... .......... .......... .......... .......... 90% 1.90M 1s\n",
      " 17400K .......... .......... .......... .......... .......... 91% 1.94M 1s\n",
      " 17450K .......... .......... .......... .......... .......... 91% 1.93M 1s\n",
      " 17500K .......... .......... .......... .......... .......... 91% 31.8M 1s\n",
      " 17550K .......... .......... .......... .......... .......... 91% 1.90M 1s\n",
      " 17600K .......... .......... .......... .......... .......... 92% 1.95M 1s\n",
      " 17650K .......... .......... .......... .......... .......... 92% 1.94M 1s\n",
      " 17700K .......... .......... .......... .......... .......... 92% 1.93M 1s\n",
      " 17750K .......... .......... .......... .......... .......... 92% 26.4M 1s\n",
      " 17800K .......... .......... .......... .......... .......... 93% 1.95M 1s\n",
      " 17850K .......... .......... .......... .......... .......... 93% 1.95M 1s\n",
      " 17900K .......... .......... .......... .......... .......... 93% 1019K 1s\n",
      " 17950K .......... .......... .......... .......... .......... 93% 1.94M 1s\n",
      " 18000K .......... .......... .......... .......... .......... 94% 1.95M 1s\n",
      " 18050K .......... .......... .......... .......... .......... 94% 1.91M 1s\n",
      " 18100K .......... .......... .......... .......... .......... 94% 1.93M 1s\n",
      " 18150K .......... .......... .......... .......... .......... 94% 1.92M 1s\n",
      " 18200K .......... .......... .......... .......... .......... 95% 1.93M 1s\n",
      " 18250K .......... .......... .......... .......... .......... 95% 1.94M 0s\n",
      " 18300K .......... .......... .......... .......... .......... 95% 1.91M 0s\n",
      " 18350K .......... .......... .......... .......... .......... 96% 1.94M 0s\n",
      " 18400K .......... .......... .......... .......... .......... 96% 1.63M 0s\n",
      " 18450K .......... .......... .......... .......... .......... 96% 30.3M 0s\n",
      " 18500K .......... .......... .......... .......... .......... 96% 1.82M 0s\n",
      " 18550K .......... .......... .......... .......... .......... 97% 1.87M 0s\n",
      " 18600K .......... .......... .......... .......... .......... 97% 1.76M 0s\n",
      " 18650K .......... .......... .......... .......... .......... 97% 28.9M 0s\n",
      " 18700K .......... .......... .......... .......... .......... 97% 1.94M 0s\n",
      " 18750K .......... .......... .......... .......... .......... 98% 1.59M 0s\n",
      " 18800K .......... .......... .......... .......... .......... 98% 1.92M 0s\n",
      " 18850K .......... .......... .......... .......... .......... 98% 1.93M 0s\n",
      " 18900K .......... .......... .......... .......... .......... 98% 8.30M 0s\n",
      " 18950K .......... .......... .......... .......... .......... 99% 1.74M 0s\n",
      " 19000K .......... .......... .......... .......... .......... 99% 1.57M 0s\n",
      " 19050K .......... .......... .......... .......... .......... 99% 1.93M 0s\n",
      " 19100K .......... .......... .......... .......... .......... 99% 1.97M 0s\n",
      " 19150K .......... ...                                        100% 60.8M=11s\n",
      "\n",
      "2018-05-14 13:20:38 (1.71 MB/s) - ‘Silva.seed_v132.tgz’ saved [19623900/19623900]\n",
      "\n"
     ]
    }
   ],
   "source": [
    "%%bash \n",
    "# Remove database if already exsists\n",
    "if [ -d mothur_silva_db ]; then\n",
    "    rm -rf mothur_silva_db\n",
    "fi\n",
    "\n",
    "#if ! [ -d mothur_silva_db ]; then\n",
    "#    mkdir mothur_silva_db\n",
    "#fi\n",
    "\n",
    "mkdir mothur_silva_db\n",
    "cd mothur_silva_db\n",
    "\n",
    "# Download mothur recreatd SEED database release 132.\n",
    "wget https://www.mothur.org/w/images/7/71/Silva.seed_v132.tgz\n",
    "#wget https://www.mothur.org/w/images/a/a4/Silva.seed_v128.tgz\n",
    "tar -xvzf Silva.seed_v132.tgz\n",
    "rm Silva.seed_v132.tgz"
   ]
  },
  {
   "cell_type": "code",
   "execution_count": 21,
   "metadata": {
    "collapsed": false
   },
   "outputs": [
    {
     "name": "stdout",
     "output_type": "stream",
     "text": [
      "100\n",
      "200\n",
      "300\n",
      "400\n",
      "500\n",
      "560\n",
      "\n",
      "\n",
      "\n",
      "Length of filtered alignment: 10180\n",
      "Number of columns removed: 39820\n",
      "Length of the original alignment: 50000\n",
      "Number of sequences used to construct filter: 11180\n",
      "\n",
      "Output File Names: \n",
      "silva.filter\n",
      "silva.seed_v132.filter.fasta\n",
      "\n",
      "\n",
      "mothur > quit()\n",
      "\n",
      "Number of sequences post-filter: 11180\n"
     ]
    }
   ],
   "source": [
    "silvaFile = 'silva.seed_v132.align'\n",
    "cmd = 'mothur \"#filter.seqs(vertical=t, fasta={}, processors={})\"'.format(silvaFile, nprocs)\n",
    "!cd mothur_silva_db; $cmd | tail -n 20\n",
    "\n",
    "silvaFileFilt = os.path.splitext(silvaFile)[0] + '.filter.fasta'\n",
    "silvaFileFilt = os.path.join('mothur_silva_db', silvaFileFilt)\n",
    "ret = !grep -c \">\" $silvaFileFilt\n",
    "print ('\\nNumber of sequences post-filter: {}'.format(ret[0]))"
   ]
  },
  {
   "cell_type": "code",
   "execution_count": 22,
   "metadata": {
    "collapsed": false
   },
   "outputs": [
    {
     "name": "stdout",
     "output_type": "stream",
     "text": [
      "10100\r\n",
      "10200\r\n",
      "10300\r\n",
      "10400\r\n",
      "10500\r\n",
      "10600\r\n",
      "10700\r\n",
      "10800\r\n",
      "10900\r\n",
      "10947\r\n",
      "[WARNING]: Some of your sequences generated alignments that eliminated too many bases, a list is provided in pear_merged-final_Enr_soilHealthLib.assembled.dmult_maxee1_noN.unique.flip.accnos. If the reverse compliment proved to be better it was reported.\r\n",
      "It took 98 secs to align 261541 sequences.\r\n",
      "\r\n",
      "\r\n",
      "Output File Names: \r\n",
      "pear_merged-final_Enr_soilHealthLib.assembled.dmult_maxee1_noN.unique.align\r\n",
      "pear_merged-final_Enr_soilHealthLib.assembled.dmult_maxee1_noN.unique.align.report\r\n",
      "pear_merged-final_Enr_soilHealthLib.assembled.dmult_maxee1_noN.unique.flip.accnos\r\n",
      "\r\n",
      "\r\n",
      "mothur > quit()\r\n",
      "\r\n",
      "\r\n",
      "<<<<<<<<<<<<<<<<<<<<<<<<<<<<<<^>>>>>>>>>>>>>>>>>>>>>>>>>>>>>\r\n",
      "<<<<<<<<<<<<<<<<<<<<<<<<<<<<<<^>>>>>>>>>>>>>>>>>>>>>>>>>>>>>\r\n",
      "<<<<<<<<<<<<<<<<<<<<<<<<<<<<<<^>>>>>>>>>>>>>>>>>>>>>>>>>>>>>\r\n",
      "Detected 1 [WARNING] messages, please review.\r\n",
      "<<<<<<<<<<<<<<<<<<<<<<<<<<<<<<^>>>>>>>>>>>>>>>>>>>>>>>>>>>>>\r\n",
      "<<<<<<<<<<<<<<<<<<<<<<<<<<<<<<^>>>>>>>>>>>>>>>>>>>>>>>>>>>>>\r\n",
      "<<<<<<<<<<<<<<<<<<<<<<<<<<<<<<^>>>>>>>>>>>>>>>>>>>>>>>>>>>>>\r\n"
     ]
    }
   ],
   "source": [
    "# aligning sequences\n",
    "qcFile3a = re.sub('-', '\\-', qcFile3)\n",
    "cmd = 'mothur \"#align.seqs(candidate={}, template={}, processors=24, flip=T)\"'.format(qcFile3a, silvaFileFilt)\n",
    "!$cmd | tail -n 30"
   ]
  },
  {
   "cell_type": "code",
   "execution_count": 23,
   "metadata": {
    "collapsed": false
   },
   "outputs": [
    {
     "name": "stdout",
     "output_type": "stream",
     "text": [
      "-rw-rw-r-- 1 sam sam 2.5G May 14 13:22 pear_merged-final_Enr_soilHealthLib.assembled.dmult_maxee1_noN.unique.align\r\n"
     ]
    }
   ],
   "source": [
    "qcFile4 = os.path.splitext(qcFile3)[0] + '.align'\n",
    "!ls -thlc $qcFile4 "
   ]
  },
  {
   "cell_type": "code",
   "execution_count": 24,
   "metadata": {
    "collapsed": false
   },
   "outputs": [
    {
     "name": "stdout",
     "output_type": "stream",
     "text": [
      "11600\r\n",
      "11700\r\n",
      "11800\r\n",
      "11900\r\n",
      "12000\r\n",
      "12100\r\n",
      "12200\r\n",
      "12300\r\n",
      "12400\r\n",
      "12500\r\n",
      "12600\r\n",
      "12700\r\n",
      "12800\r\n",
      "12900\r\n",
      "13000\r\n",
      "13079\r\n",
      "\r\n",
      "\r\n",
      "\r\n",
      "Length of filtered alignment: 919\r\n",
      "Number of columns removed: 9261\r\n",
      "Length of the original alignment: 10180\r\n",
      "Number of sequences used to construct filter: 261541\r\n",
      "\r\n",
      "Output File Names: \r\n",
      "pear_merged-final_Enr_soilHealthLib.filter\r\n",
      "pear_merged-final_Enr_soilHealthLib.assembled.dmult_maxee1_noN.unique.filter.fasta\r\n",
      "\r\n",
      "\r\n",
      "mothur > quit()\r\n"
     ]
    }
   ],
   "source": [
    "# filtering out gap positions in the alignment\n",
    "qcFile4a = re.sub('-', '\\-', qcFile4)\n",
    "cmd = 'mothur \"#filter.seqs(vertical=t, fasta={}, processors={})\"'.format(qcFile4a, nprocs)\n",
    "!$cmd | tail -n 30"
   ]
  },
  {
   "cell_type": "code",
   "execution_count": 25,
   "metadata": {
    "collapsed": false
   },
   "outputs": [
    {
     "name": "stdout",
     "output_type": "stream",
     "text": [
      "-rw-rw-r-- 1 sam sam 238M May 14 13:24 pear_merged-final_Enr_soilHealthLib.assembled.dmult_maxee1_noN.unique.filter.fasta\r\n"
     ]
    }
   ],
   "source": [
    "qcFile5 = os.path.splitext(qcFile3)[0] + '.filter.fasta'\n",
    "!ls -thlc $qcFile5"
   ]
  },
  {
   "cell_type": "code",
   "execution_count": 26,
   "metadata": {
    "collapsed": false
   },
   "outputs": [
    {
     "name": "stdout",
     "output_type": "stream",
     "text": [
      "Using 20 processors.\r\n",
      "\r\n",
      "\t\tStart\tEnd\tNBases\tAmbigs\tPolymer\tNumSeqs\r\n",
      "Minimum:\t1\t3\t2\t0\t1\t1\r\n",
      "2.5%-tile:\t79\t747\t252\t0\t4\t11647\r\n",
      "25%-tile:\t79\t747\t253\t0\t4\t116466\r\n",
      "Median: \t79\t747\t253\t0\t5\t232932\r\n",
      "75%-tile:\t79\t747\t253\t0\t5\t349397\r\n",
      "97.5%-tile:\t82\t747\t254\t0\t8\t454216\r\n",
      "Maximum:\t918\t919\t365\t0\t79\t465862\r\n",
      "Mean:\t79.2127\t747.072\t253.095\t0\t4.91311\r\n",
      "# of unique seqs:\t261541\r\n",
      "total # of seqs:\t465862\r\n",
      "\r\n",
      "Output File Names: \r\n",
      "pear_merged-final_Enr_soilHealthLib.assembled.dmult_maxee1_noN.unique.filter.summary\r\n",
      "\r\n",
      "It took 2 secs to summarize 465862 sequences.\r\n",
      "\r\n",
      "mothur > quit()\r\n"
     ]
    }
   ],
   "source": [
    "cmd = 'mothur \"#summary.seqs(fasta={}, processors={}, name={})\"'.format(qcFile5, nprocs, nameFile)\n",
    "!$cmd | tail -n 20"
   ]
  },
  {
   "cell_type": "markdown",
   "metadata": {},
   "source": [
    "## Removing homopolymers (> 8) and screening out sequences that don't align to an amplicon region"
   ]
  },
  {
   "cell_type": "code",
   "execution_count": 27,
   "metadata": {
    "collapsed": false
   },
   "outputs": [
    {
     "name": "stdout",
     "output_type": "stream",
     "text": [
      "Processing sequence: 11300\r\n",
      "Processing sequence: 11400\r\n",
      "Processing sequence: 11500\r\n",
      "Processing sequence: 11600\r\n",
      "Processing sequence: 11700\r\n",
      "Processing sequence: 11800\r\n",
      "Processing sequence: 11900\r\n",
      "Processing sequence: 12000\r\n",
      "Processing sequence: 12100\r\n",
      "Processing sequence: 12200\r\n",
      "Processing sequence: 12300\r\n",
      "Processing sequence: 12400\r\n",
      "Processing sequence: 12500\r\n",
      "Processing sequence: 12600\r\n",
      "Processing sequence: 12700\r\n",
      "Processing sequence: 12800\r\n",
      "Processing sequence: 12900\r\n",
      "Processing sequence: 13000\r\n",
      "Processing sequence: 13096\r\n",
      "\r\n",
      "Output File Names: \r\n",
      "pear_merged-final_Enr_soilHealthLib.assembled.dmult_maxee1_noN.unique.filter.good.fasta\r\n",
      "pear_merged-final_Enr_soilHealthLib.assembled.dmult_maxee1_noN.unique.filter.bad.accnos\r\n",
      "pear_merged-final_Enr_soilHealthLib.assembled.dmult_maxee1_noN.good.names\r\n",
      "group_file.good.txt\r\n",
      "\r\n",
      "\r\n",
      "It took 2 secs to screen 261541 sequences.\r\n",
      "\r\n",
      "mothur > quit()\r\n"
     ]
    }
   ],
   "source": [
    "cmd = \"\"\"mothur '#screen.seqs(fasta={},\\\n",
    "    processors={},\\\n",
    "    name={},\\\n",
    "    group={},\\\n",
    "    start={},\\\n",
    "    end={},\\\n",
    "    maxhomop=8)'\"\"\".format(qcFile5, nprocs, nameFile, 'group_file.txt', 79, 747)\n",
    "!$cmd | tail -n 30"
   ]
  },
  {
   "cell_type": "code",
   "execution_count": 28,
   "metadata": {
    "collapsed": false
   },
   "outputs": [
    {
     "name": "stdout",
     "output_type": "stream",
     "text": [
      "Number of sequences post-filter: 249055\n"
     ]
    }
   ],
   "source": [
    "qcFile6 = os.path.splitext(qcFile5)[0] + '.good.fasta'\n",
    "ret = !grep -c \">\" $qcFile6\n",
    "print ('Number of sequences post-filter: {}'.format(ret[0]))"
   ]
  },
  {
   "cell_type": "code",
   "execution_count": 29,
   "metadata": {
    "collapsed": false
   },
   "outputs": [
    {
     "name": "stdout",
     "output_type": "stream",
     "text": [
      "12000\r\n",
      "12100\r\n",
      "12200\r\n",
      "12300\r\n",
      "12400\r\n",
      "12471\r\n",
      "\r\n",
      "\r\n",
      "\r\n",
      "Length of filtered alignment: 787\r\n",
      "Number of columns removed: 132\r\n",
      "Length of the original alignment: 919\r\n",
      "Number of sequences used to construct filter: 249055\r\n",
      "\r\n",
      "Output File Names: \r\n",
      "pear_merged-final_Enr_soilHealthLib.filter\r\n",
      "pear_merged-final_Enr_soilHealthLib.assembled.dmult_maxee1_noN.unique.filter.good.filter.fasta\r\n",
      "\r\n",
      "\r\n",
      "mothur > quit()\r\n"
     ]
    }
   ],
   "source": [
    "qcFile6a = re.sub('-', '\\-', qcFile6)\n",
    "cmd = 'mothur \"#filter.seqs(fasta={}, processors={}, vertical=T)\"'.format(qcFile6a, nprocs)\n",
    "!$cmd | tail -n 20"
   ]
  },
  {
   "cell_type": "code",
   "execution_count": 30,
   "metadata": {
    "collapsed": false
   },
   "outputs": [
    {
     "name": "stdout",
     "output_type": "stream",
     "text": [
      "-rw-rw-r-- 1 sam sam 195M May 14 13:25 pear_merged-final_Enr_soilHealthLib.assembled.dmult_maxee1_noN.unique.filter.good.filter.fasta\r\n"
     ]
    }
   ],
   "source": [
    "qcFile7 = os.path.splitext(qcFile6)[0] + '.filter.fasta'\n",
    "!ls -thlc $qcFile7"
   ]
  },
  {
   "cell_type": "markdown",
   "metadata": {},
   "source": [
    "## Deunique seqs"
   ]
  },
  {
   "cell_type": "code",
   "execution_count": 31,
   "metadata": {
    "collapsed": false
   },
   "outputs": [
    {
     "name": "stdout",
     "output_type": "stream",
     "text": [
      "mothur v.1.39.5\r\n",
      "Last updated: 3/20/2017\r\n",
      "\r\n",
      "by\r\n",
      "Patrick D. Schloss\r\n",
      "\r\n",
      "Department of Microbiology & Immunology\r\n",
      "University of Michigan\r\n",
      "http://www.mothur.org\r\n",
      "\r\n",
      "When using, please cite:\r\n",
      "Schloss, P.D., et al., Introducing mothur: Open-source, platform-independent, community-supported software for describing and comparing microbial communities. Appl Environ Microbiol, 2009. 75(23):7537-41.\r\n",
      "\r\n",
      "Distributed under the GNU General Public License\r\n",
      "\r\n",
      "Type 'help()' for information on the commands that are available\r\n",
      "\r\n",
      "For questions and analysis support, please visit our forum at https://www.mothur.org/forum\r\n",
      "\r\n",
      "Type 'quit()' to exit program\r\n",
      "\r\n",
      "\r\n",
      "\r\n",
      "mothur > deunique.seqs(fasta=pear_merged-final_Enr_soilHealthLib.assembled.dmult_maxee1_noN.unique.filter.good.filter.fasta, name=pear_merged-final_Enr_soilHealthLib.assembled.dmult_maxee1_noN.names)\r\n",
      "\r\n",
      "Output File Names: \r\n",
      "pear_merged-final_Enr_soilHealthLib.assembled.dmult_maxee1_noN.unique.filter.good.filter.redundant.fasta\r\n",
      "\r\n",
      "\r\n",
      "mothur > quit()\r\n"
     ]
    }
   ],
   "source": [
    "cmd = 'mothur \"#deunique.seqs(fasta={}, name={})\"'.format(qcFile7, nameFile)\n",
    "!$cmd | tail -n 30"
   ]
  },
  {
   "cell_type": "markdown",
   "metadata": {},
   "source": [
    "### Final QC-ed file"
   ]
  },
  {
   "cell_type": "code",
   "execution_count": 32,
   "metadata": {
    "collapsed": true
   },
   "outputs": [],
   "source": [
    "qcFile8 = os.path.splitext(qcFile7)[0] + '.redundant.fasta'\n",
    "qcFinal = 'finalQC.fasta'\n",
    "!perl -pe 's/[-.]//g if ! /^>/' $qcFile8 > $qcFinal"
   ]
  },
  {
   "cell_type": "code",
   "execution_count": 33,
   "metadata": {
    "collapsed": false
   },
   "outputs": [
    {
     "name": "stdout",
     "output_type": "stream",
     "text": [
      "\r\n",
      "Using 20 processors.\r\n",
      "\r\n",
      "\t\tStart\tEnd\tNBases\tAmbigs\tPolymer\tNumSeqs\r\n",
      "Minimum:\t1\t220\t220\t0\t3\t1\r\n",
      "2.5%-tile:\t1\t252\t252\t0\t4\t11125\r\n",
      "25%-tile:\t1\t253\t253\t0\t4\t111241\r\n",
      "Median: \t1\t253\t253\t0\t5\t222482\r\n",
      "75%-tile:\t1\t253\t253\t0\t5\t333722\r\n",
      "97.5%-tile:\t1\t254\t254\t0\t8\t433838\r\n",
      "Maximum:\t1\t365\t365\t0\t8\t444962\r\n",
      "Mean:\t1\t253.165\t253.165\t0\t4.78149\r\n",
      "# of Seqs:\t444962\r\n",
      "\r\n",
      "Output File Names: \r\n",
      "finalQC.summary\r\n",
      "\r\n",
      "It took 1 secs to summarize 444962 sequences.\r\n",
      "\r\n",
      "mothur > quit()\r\n"
     ]
    }
   ],
   "source": [
    "cmd = 'mothur \"#summary.seqs(fasta={}, processors={})\"'.format(qcFinal, nprocs)\n",
    "!$cmd | tail -n 20"
   ]
  },
  {
   "cell_type": "code",
   "execution_count": 34,
   "metadata": {
    "collapsed": false
   },
   "outputs": [
    {
     "name": "stdout",
     "output_type": "stream",
     "text": [
      ">CF.A.151027.12C-Xyl.D02_0\r\n",
      "TACGGAGGGTGCAAGCGTTATCCGGATTCACTGGGTTTAAAGGGTGCGTAGGCGGGCAGGGAAGTCCGTGGTGAAATCTCCGAGCTTAACTCGGAAACTGCCGTGGATACTCTCTGTCTTGAATACTGTGAAGGTGAGCGGAATATGTCATGTAGCGGTGAAATGCTTAGATATGACATAGAACACCAATTGCGAAGGCAGCTCACTGCGCAGCGATTGACGCTGAGGCACGAAAGCGTGGGGATCAAACAGG\r\n",
      ">CF.A.151027.12C-Xyl.D02_1462\r\n",
      "TACGGAGGGTGCAAGCGTTATCCGGATTCACTGGGTTTAAAGGGTGCGTAGGCGGGCAGGGAAGTCCGTGGTGAAATCTCCGAGCTTAACTCGGAAACTGCCGTGGATACTCTCTGTCTTGAATACTGTGAAGGTGAGCGGAATATGTCATGTAGCGGTGAAATGCTTAGATATGACATAGAACACCAATTGCGAAGGCAGCTCACTGCGCAGCGATTGACGCTGAGGCACGAAAGCGTGGGGATCAAACAGG\r\n",
      ">CF.A.151027.12C-Xyl.D02_1476\r\n",
      "TACGGAGGGTGCAAGCGTTATCCGGATTCACTGGGTTTAAAGGGTGCGTAGGCGGGCAGGGAAGTCCGTGGTGAAATCTCCGAGCTTAACTCGGAAACTGCCGTGGATACTCTCTGTCTTGAATACTGTGAAGGTGAGCGGAATATGTCATGTAGCGGTGAAATGCTTAGATATGACATAGAACACCAATTGCGAAGGCAGCTCACTGCGCAGCGATTGACGCTGAGGCACGAAAGCGTGGGGATCAAACAGG\r\n"
     ]
    }
   ],
   "source": [
    "!head -n 6 $qcFinal"
   ]
  },
  {
   "cell_type": "markdown",
   "metadata": {},
   "source": [
    "## Summary of number of seqs per sample"
   ]
  },
  {
   "cell_type": "code",
   "execution_count": 35,
   "metadata": {
    "collapsed": true
   },
   "outputs": [],
   "source": [
    "re1 = re.compile('_[0-9]+$')\n",
    "\n",
    "qcFinalSum = os.path.splitext(qcFinal)[0] + '.summary'\n",
    "\n",
    "samp_count = dict()\n",
    "with open(qcFinalSum, 'r') as inFH:\n",
    "    for line in inFH:\n",
    "        if line.startswith('seqname'):\n",
    "            continue\n",
    "        line = line.rstrip().split('\\t')\n",
    "        line[0] = re.sub(re1, '', line[0])\n",
    "        try:\n",
    "            samp_count[line[0]] += 1\n",
    "        except KeyError:\n",
    "            samp_count[line[0]] = 1"
   ]
  },
  {
   "cell_type": "code",
   "execution_count": 36,
   "metadata": {
    "collapsed": false
   },
   "outputs": [
    {
     "data": {
      "text/html": [
       "<div>\n",
       "<style scoped>\n",
       "    .dataframe tbody tr th:only-of-type {\n",
       "        vertical-align: middle;\n",
       "    }\n",
       "\n",
       "    .dataframe tbody tr th {\n",
       "        vertical-align: top;\n",
       "    }\n",
       "\n",
       "    .dataframe thead th {\n",
       "        text-align: right;\n",
       "    }\n",
       "</style>\n",
       "<table border=\"1\" class=\"dataframe\">\n",
       "  <thead>\n",
       "    <tr style=\"text-align: right;\">\n",
       "      <th></th>\n",
       "      <th>Sample</th>\n",
       "      <th>seq_count</th>\n",
       "    </tr>\n",
       "  </thead>\n",
       "  <tbody>\n",
       "    <tr>\n",
       "      <th>0</th>\n",
       "      <td>CF.A.151027.12C-Xyl.D02</td>\n",
       "      <td>74252</td>\n",
       "    </tr>\n",
       "    <tr>\n",
       "      <th>1</th>\n",
       "      <td>CF.A.151027.12C-Pal.D28</td>\n",
       "      <td>45034</td>\n",
       "    </tr>\n",
       "    <tr>\n",
       "      <th>2</th>\n",
       "      <td>EL.A.151026.12C-Van.D04</td>\n",
       "      <td>70666</td>\n",
       "    </tr>\n",
       "    <tr>\n",
       "      <th>3</th>\n",
       "      <td>CF.A.151027.H2O-Con.D28</td>\n",
       "      <td>35530</td>\n",
       "    </tr>\n",
       "    <tr>\n",
       "      <th>4</th>\n",
       "      <td>MF.A.151026.12C-Cel.D28</td>\n",
       "      <td>40351</td>\n",
       "    </tr>\n",
       "    <tr>\n",
       "      <th>5</th>\n",
       "      <td>MW.A.151027.H2O-Con.D28</td>\n",
       "      <td>135837</td>\n",
       "    </tr>\n",
       "    <tr>\n",
       "      <th>6</th>\n",
       "      <td>MF.A.151026.H2O-Con.D28</td>\n",
       "      <td>43292</td>\n",
       "    </tr>\n",
       "  </tbody>\n",
       "</table>\n",
       "</div>"
      ],
      "text/plain": [
       "                    Sample  seq_count\n",
       "0  CF.A.151027.12C-Xyl.D02      74252\n",
       "1  CF.A.151027.12C-Pal.D28      45034\n",
       "2  EL.A.151026.12C-Van.D04      70666\n",
       "3  CF.A.151027.H2O-Con.D28      35530\n",
       "4  MF.A.151026.12C-Cel.D28      40351\n",
       "5  MW.A.151027.H2O-Con.D28     135837\n",
       "6  MF.A.151026.H2O-Con.D28      43292"
      ]
     },
     "execution_count": 36,
     "metadata": {},
     "output_type": "execute_result"
    }
   ],
   "source": [
    "# converting to dataframe\n",
    "df_seq_cnt = pd.DataFrame.from_dict(samp_count, orient='index')\n",
    "df_seq_cnt.index.name = 'Sample'\n",
    "df_seq_cnt.reset_index(inplace=True)\n",
    "df_seq_cnt.columns = ['Sample', 'seq_count']\n",
    "df_seq_cnt"
   ]
  },
  {
   "cell_type": "code",
   "execution_count": 37,
   "metadata": {
    "collapsed": false
   },
   "outputs": [
    {
     "data": {
      "image/png": "[encoded data removed]"
     },
     "metadata": {},
     "output_type": "display_data"
    }
   ],
   "source": [
    "%%R -i df_seq_cnt -w 800 -h 350\n",
    "# plotting all\n",
    "\n",
    "df_seq_cnt$seq_count = as.numeric(df_seq_cnt$seq_count)\n",
    "\n",
    "\n",
    "df_seq_cnt = df_seq_cnt %>% \n",
    "    #mutate(H2O = grepl('_F0$', Sample)) %>%\n",
    "    mutate(rank = min_rank(seq_count)) %>%\n",
    "    arrange(desc(rank))\n",
    "\n",
    "df_seq_cnt$Sample = factor(df_seq_cnt$Sample, levels=df_seq_cnt$Sample)\n",
    "\n",
    "ggplot(df_seq_cnt, aes(Sample, seq_count)) +\n",
    "    geom_bar(stat='identity') +\n",
    "    theme_bw() +\n",
    "    theme(\n",
    "        text = element_text(size=16),\n",
    "        axis.text.x = element_text(angle=45, hjust=1)\n",
    "    )"
   ]
  },
  {
   "cell_type": "code",
   "execution_count": 41,
   "metadata": {
    "collapsed": false
   },
   "outputs": [
    {
     "data": {
      "text/plain": [
       "                   Sample seq_count rank\n",
       "7 CF.A.151027.H2O-Con.D28     35530    1\n"
      ]
     },
     "metadata": {},
     "output_type": "display_data"
    }
   ],
   "source": [
    "%%R\n",
    "df_seq_cnt[df_seq_cnt$seq_count < 40000,]"
   ]
  },
  {
   "cell_type": "code",
   "execution_count": null,
   "metadata": {
    "collapsed": true
   },
   "outputs": [],
   "source": []
  }
 ],
 "metadata": {
  "anaconda-cloud": {},
  "hide_input": true,
  "kernelspec": {
   "display_name": "Python 3",
   "language": "python",
   "name": "python3"
  },
  "language_info": {
   "codemirror_mode": {
    "name": "ipython",
    "version": 3
   },
   "file_extension": ".py",
   "mimetype": "text/x-python",
   "name": "python",
   "nbconvert_exporter": "python",
   "pygments_lexer": "ipython3",
   "version": "3.6.4"
  },
  "notify_time": "5"
 },
 "nbformat": 4,
 "nbformat_minor": 1
}
