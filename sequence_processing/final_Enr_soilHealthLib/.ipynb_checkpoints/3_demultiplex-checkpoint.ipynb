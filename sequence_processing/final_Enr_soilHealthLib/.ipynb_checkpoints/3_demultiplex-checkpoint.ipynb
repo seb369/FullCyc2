{
 "cells": [
  {
   "cell_type": "markdown",
   "metadata": {},
   "source": [
    "# Description:\n",
    "\n",
    "* Demultiplexing libraries from MiSeq run"
   ]
  },
  {
   "cell_type": "markdown",
   "metadata": {},
   "source": [
    "## Setting variables (user input)"
   ]
  },
  {
   "cell_type": "code",
   "execution_count": 1,
   "metadata": {
    "collapsed": false
   },
   "outputs": [],
   "source": [
    "import os\n",
    "\n",
    "seqdir = '/home/backup_files/raw_reads/soil.health.SHS.RW.CD.2018/'\n",
    "workdir = '/home/seq_data/fullCyc2/amplicon/515F-806R/final_dataset/library_QC/final_Enr_soilHealthLib'\n",
    "\n",
    "# metadata file location(s)\n",
    "metadata = '/home/seq_data/fullCyc2/amplicon/515F-806R/final_dataset/FullCyc2_master_metadata.txt'\n",
    "\n",
    "# Library\n",
    "library = 'final_Enr_soilHealthLib'\n",
    "\n",
    "# Index and paired files\n",
    "index_read1_file = 'run3.index1.fq.gz'\n",
    "index_read2_file = 'run3.index2.fq.gz'\n",
    "read12_screed = 'pear_merged-final_Enr_soilHealthLib.assembled.fastq_screed'\n",
    "\n",
    "index_read1_screed = 'run3.index1.fq_screed'\n",
    "index_read2_screed = 'run3.index2.fq_screed'"
   ]
  },
  {
   "cell_type": "markdown",
   "metadata": {},
   "source": [
    "## Init"
   ]
  },
  {
   "cell_type": "code",
   "execution_count": 2,
   "metadata": {
    "collapsed": false
   },
   "outputs": [],
   "source": [
    "import os\n",
    "import json\n",
    "import screed\n",
    "import pandas as pd\n",
    "from collections import Counter\n",
    "import pandas as pd\n",
    "import matplotlib.pyplot as plt\n",
    "import numpy as np\n",
    "import re\n",
    "import scipy.stats as stats\n",
    "import screed\n",
    "from glob import glob"
   ]
  },
  {
   "cell_type": "code",
   "execution_count": 3,
   "metadata": {
    "collapsed": false
   },
   "outputs": [
    {
     "name": "stdout",
     "output_type": "stream",
     "text": [
      "/home/seq_data/fullCyc2/amplicon/515F-806R/final_dataset/library_QC/final_Enr_soilHealthLib\n"
     ]
    }
   ],
   "source": [
    "%cd $workdir"
   ]
  },
  {
   "cell_type": "code",
   "execution_count": 4,
   "metadata": {
    "collapsed": false
   },
   "outputs": [],
   "source": [
    "%load_ext rpy2.ipython\n",
    "#%load_ext pushnote "
   ]
  },
  {
   "cell_type": "code",
   "execution_count": 5,
   "metadata": {
    "collapsed": false
   },
   "outputs": [
    {
     "name": "stderr",
     "output_type": "stream",
     "text": [
      "/home/sam/anaconda3/lib/python3.6/site-packages/rpy2/rinterface/__init__.py:145: RRuntimeWarning: \n",
      "Attaching package: ‘dplyr’\n",
      "\n",
      "\n",
      "  warnings.warn(x, RRuntimeWarning)\n",
      "/home/sam/anaconda3/lib/python3.6/site-packages/rpy2/rinterface/__init__.py:145: RRuntimeWarning: The following objects are masked from ‘package:stats’:\n",
      "\n",
      "    filter, lag\n",
      "\n",
      "\n",
      "  warnings.warn(x, RRuntimeWarning)\n",
      "/home/sam/anaconda3/lib/python3.6/site-packages/rpy2/rinterface/__init__.py:145: RRuntimeWarning: The following objects are masked from ‘package:base’:\n",
      "\n",
      "    intersect, setdiff, setequal, union\n",
      "\n",
      "\n",
      "  warnings.warn(x, RRuntimeWarning)\n"
     ]
    }
   ],
   "source": [
    "%%R\n",
    "library(ggplot2)\n",
    "library(dplyr)\n",
    "library(tidyr)"
   ]
  },
  {
   "cell_type": "markdown",
   "metadata": {},
   "source": [
    "## Loading metadata tables"
   ]
  },
  {
   "cell_type": "code",
   "execution_count": 6,
   "metadata": {
    "collapsed": false
   },
   "outputs": [
    {
     "data": {
      "text/html": [
       "<div>\n",
       "<style scoped>\n",
       "    .dataframe tbody tr th:only-of-type {\n",
       "        vertical-align: middle;\n",
       "    }\n",
       "\n",
       "    .dataframe tbody tr th {\n",
       "        vertical-align: top;\n",
       "    }\n",
       "\n",
       "    .dataframe thead th {\n",
       "        text-align: right;\n",
       "    }\n",
       "</style>\n",
       "<table border=\"1\" class=\"dataframe\">\n",
       "  <thead>\n",
       "    <tr style=\"text-align: right;\">\n",
       "      <th></th>\n",
       "      <th>#Sample</th>\n",
       "      <th>primer_number</th>\n",
       "      <th>exp_type</th>\n",
       "      <th>extraction_plate_ID</th>\n",
       "      <th>library_ID</th>\n",
       "      <th>pool_plate_ID</th>\n",
       "      <th>pool_plate_well</th>\n",
       "      <th>soil_ID</th>\n",
       "      <th>substrate</th>\n",
       "      <th>day</th>\n",
       "      <th>...</th>\n",
       "      <th>water_holding_capacity__g.g</th>\n",
       "      <th>percent_N</th>\n",
       "      <th>percent_C</th>\n",
       "      <th>sand__perc</th>\n",
       "      <th>silt__perc</th>\n",
       "      <th>clay__perc</th>\n",
       "      <th>DNA_conc__ng_ul</th>\n",
       "      <th>notes</th>\n",
       "      <th>fwd_barcode</th>\n",
       "      <th>rev_barcode</th>\n",
       "    </tr>\n",
       "  </thead>\n",
       "  <tbody>\n",
       "    <tr>\n",
       "      <th>0</th>\n",
       "      <td>EL.A.151026</td>\n",
       "      <td>129</td>\n",
       "      <td>bulk</td>\n",
       "      <td>14012016</td>\n",
       "      <td>Chantal_Pool9</td>\n",
       "      <td>NaN</td>\n",
       "      <td>NaN</td>\n",
       "      <td>EL.A.151026</td>\n",
       "      <td>NaN</td>\n",
       "      <td>NaN</td>\n",
       "      <td>...</td>\n",
       "      <td>0.778</td>\n",
       "      <td>0.20905</td>\n",
       "      <td>2.0399</td>\n",
       "      <td>40.0</td>\n",
       "      <td>26.7</td>\n",
       "      <td>33.3</td>\n",
       "      <td>19.965</td>\n",
       "      <td>NaN</td>\n",
       "      <td>CTACTATA</td>\n",
       "      <td>CGTACTCA</td>\n",
       "    </tr>\n",
       "    <tr>\n",
       "      <th>1</th>\n",
       "      <td>CC.M.151027.12C-Van.D02</td>\n",
       "      <td>129</td>\n",
       "      <td>Enrichment</td>\n",
       "      <td>Enr2_160509</td>\n",
       "      <td>fullCyc2_lib14</td>\n",
       "      <td>fullCyc2_lib14_pool_2</td>\n",
       "      <td>A5</td>\n",
       "      <td>CC.M.151027.12C-Van.D02</td>\n",
       "      <td>12C-Van</td>\n",
       "      <td>2.0</td>\n",
       "      <td>...</td>\n",
       "      <td>NaN</td>\n",
       "      <td>NaN</td>\n",
       "      <td>NaN</td>\n",
       "      <td>NaN</td>\n",
       "      <td>NaN</td>\n",
       "      <td>NaN</td>\n",
       "      <td>34.44</td>\n",
       "      <td>NaN</td>\n",
       "      <td>CTACTATA</td>\n",
       "      <td>CGTACTCA</td>\n",
       "    </tr>\n",
       "    <tr>\n",
       "      <th>2</th>\n",
       "      <td>MF.M.151026.12C-Ami.D02</td>\n",
       "      <td>129</td>\n",
       "      <td>Enrichment</td>\n",
       "      <td>Enr5_170113</td>\n",
       "      <td>fullCyc2_lib15</td>\n",
       "      <td>fullCyc2_lib15_pool_2</td>\n",
       "      <td>A5</td>\n",
       "      <td>MF.M.151026.12C-Ami.D02</td>\n",
       "      <td>12C-Ami</td>\n",
       "      <td>2.0</td>\n",
       "      <td>...</td>\n",
       "      <td>NaN</td>\n",
       "      <td>NaN</td>\n",
       "      <td>NaN</td>\n",
       "      <td>NaN</td>\n",
       "      <td>NaN</td>\n",
       "      <td>NaN</td>\n",
       "      <td>27.183</td>\n",
       "      <td>NaN</td>\n",
       "      <td>CTACTATA</td>\n",
       "      <td>CGTACTCA</td>\n",
       "    </tr>\n",
       "  </tbody>\n",
       "</table>\n",
       "<p>3 rows × 38 columns</p>\n",
       "</div>"
      ],
      "text/plain": [
       "                   #Sample  primer_number    exp_type extraction_plate_ID  \\\n",
       "0              EL.A.151026            129        bulk            14012016   \n",
       "1  CC.M.151027.12C-Van.D02            129  Enrichment         Enr2_160509   \n",
       "2  MF.M.151026.12C-Ami.D02            129  Enrichment         Enr5_170113   \n",
       "\n",
       "       library_ID          pool_plate_ID pool_plate_well  \\\n",
       "0   Chantal_Pool9                    NaN             NaN   \n",
       "1  fullCyc2_lib14  fullCyc2_lib14_pool_2              A5   \n",
       "2  fullCyc2_lib15  fullCyc2_lib15_pool_2              A5   \n",
       "\n",
       "                   soil_ID substrate  day     ...       \\\n",
       "0              EL.A.151026       NaN  NaN     ...        \n",
       "1  CC.M.151027.12C-Van.D02   12C-Van  2.0     ...        \n",
       "2  MF.M.151026.12C-Ami.D02   12C-Ami  2.0     ...        \n",
       "\n",
       "   water_holding_capacity__g.g  percent_N  percent_C sand__perc silt__perc  \\\n",
       "0                        0.778    0.20905     2.0399       40.0       26.7   \n",
       "1                          NaN        NaN        NaN        NaN        NaN   \n",
       "2                          NaN        NaN        NaN        NaN        NaN   \n",
       "\n",
       "  clay__perc DNA_conc__ng_ul notes  fwd_barcode  rev_barcode  \n",
       "0       33.3          19.965   NaN     CTACTATA     CGTACTCA  \n",
       "1        NaN           34.44   NaN     CTACTATA     CGTACTCA  \n",
       "2        NaN          27.183   NaN     CTACTATA     CGTACTCA  \n",
       "\n",
       "[3 rows x 38 columns]"
      ]
     },
     "execution_count": 6,
     "metadata": {},
     "output_type": "execute_result"
    }
   ],
   "source": [
    "# loading metadata sheet\n",
    "df_meta = pd.read_csv(os.path.join(seqdir, metadata), delimiter=\"\\t\")\n",
    "df_meta.head(n=3)"
   ]
  },
  {
   "cell_type": "code",
   "execution_count": 7,
   "metadata": {
    "collapsed": false
   },
   "outputs": [
    {
     "data": {
      "text/html": [
       "<div>\n",
       "<style scoped>\n",
       "    .dataframe tbody tr th:only-of-type {\n",
       "        vertical-align: middle;\n",
       "    }\n",
       "\n",
       "    .dataframe tbody tr th {\n",
       "        vertical-align: top;\n",
       "    }\n",
       "\n",
       "    .dataframe thead th {\n",
       "        text-align: right;\n",
       "    }\n",
       "</style>\n",
       "<table border=\"1\" class=\"dataframe\">\n",
       "  <thead>\n",
       "    <tr style=\"text-align: right;\">\n",
       "      <th></th>\n",
       "      <th>#Sample</th>\n",
       "      <th>primer_number</th>\n",
       "      <th>exp_type</th>\n",
       "      <th>extraction_plate_ID</th>\n",
       "      <th>library_ID</th>\n",
       "      <th>pool_plate_ID</th>\n",
       "      <th>pool_plate_well</th>\n",
       "      <th>soil_ID</th>\n",
       "      <th>substrate</th>\n",
       "      <th>day</th>\n",
       "      <th>...</th>\n",
       "      <th>water_holding_capacity__g.g</th>\n",
       "      <th>percent_N</th>\n",
       "      <th>percent_C</th>\n",
       "      <th>sand__perc</th>\n",
       "      <th>silt__perc</th>\n",
       "      <th>clay__perc</th>\n",
       "      <th>DNA_conc__ng_ul</th>\n",
       "      <th>notes</th>\n",
       "      <th>fwd_barcode</th>\n",
       "      <th>rev_barcode</th>\n",
       "    </tr>\n",
       "  </thead>\n",
       "  <tbody>\n",
       "    <tr>\n",
       "      <th>780</th>\n",
       "      <td>MF.A.151026.12C-Cel.D28</td>\n",
       "      <td>74</td>\n",
       "      <td>Enrichment</td>\n",
       "      <td>SoilHealth_Plate8</td>\n",
       "      <td>final_Enr_soilHealthLib</td>\n",
       "      <td>Plate5</td>\n",
       "      <td>D4</td>\n",
       "      <td>MF.A.151026.12C-Cel.D28</td>\n",
       "      <td>12C-Cel</td>\n",
       "      <td>28.0</td>\n",
       "      <td>...</td>\n",
       "      <td>NaN</td>\n",
       "      <td>NaN</td>\n",
       "      <td>NaN</td>\n",
       "      <td>NaN</td>\n",
       "      <td>NaN</td>\n",
       "      <td>NaN</td>\n",
       "      <td>5.654875</td>\n",
       "      <td>Sequenced_May_2018</td>\n",
       "      <td>ACTATCTG</td>\n",
       "      <td>TAGCAGAC</td>\n",
       "    </tr>\n",
       "    <tr>\n",
       "      <th>794</th>\n",
       "      <td>MF.A.151026.H2O-Con.D28</td>\n",
       "      <td>75</td>\n",
       "      <td>Enrichment</td>\n",
       "      <td>SoilHealth_Plate8</td>\n",
       "      <td>final_Enr_soilHealthLib</td>\n",
       "      <td>Plate5</td>\n",
       "      <td>E4</td>\n",
       "      <td>MF.A.151026.H2O-Con.D28</td>\n",
       "      <td>H2O-Con</td>\n",
       "      <td>28.0</td>\n",
       "      <td>...</td>\n",
       "      <td>NaN</td>\n",
       "      <td>NaN</td>\n",
       "      <td>NaN</td>\n",
       "      <td>NaN</td>\n",
       "      <td>NaN</td>\n",
       "      <td>NaN</td>\n",
       "      <td>9.612422</td>\n",
       "      <td>Sequenced_May_2018</td>\n",
       "      <td>TAGCGAGT</td>\n",
       "      <td>TAGCAGAC</td>\n",
       "    </tr>\n",
       "    <tr>\n",
       "      <th>808</th>\n",
       "      <td>CF.A.151027.12C-Pal.D28</td>\n",
       "      <td>76</td>\n",
       "      <td>Enrichment</td>\n",
       "      <td>SoilHealth_Plate8</td>\n",
       "      <td>final_Enr_soilHealthLib</td>\n",
       "      <td>Plate5</td>\n",
       "      <td>F4</td>\n",
       "      <td>CF.A.151027.12C-Pal.D28</td>\n",
       "      <td>12C-Pal</td>\n",
       "      <td>28.0</td>\n",
       "      <td>...</td>\n",
       "      <td>NaN</td>\n",
       "      <td>NaN</td>\n",
       "      <td>NaN</td>\n",
       "      <td>NaN</td>\n",
       "      <td>NaN</td>\n",
       "      <td>NaN</td>\n",
       "      <td>4.019189</td>\n",
       "      <td>Sequenced_May_2018</td>\n",
       "      <td>CTGCGTGT</td>\n",
       "      <td>TAGCAGAC</td>\n",
       "    </tr>\n",
       "    <tr>\n",
       "      <th>846</th>\n",
       "      <td>CF.A.151027.12C-Xyl.D02</td>\n",
       "      <td>79</td>\n",
       "      <td>Enrichment</td>\n",
       "      <td>SoilHealth_Plate8</td>\n",
       "      <td>final_Enr_soilHealthLib</td>\n",
       "      <td>Plate5</td>\n",
       "      <td>G4</td>\n",
       "      <td>CF.A.151027.12C-Xyl.D02</td>\n",
       "      <td>12C-Xyl</td>\n",
       "      <td>2.0</td>\n",
       "      <td>...</td>\n",
       "      <td>NaN</td>\n",
       "      <td>NaN</td>\n",
       "      <td>NaN</td>\n",
       "      <td>NaN</td>\n",
       "      <td>NaN</td>\n",
       "      <td>NaN</td>\n",
       "      <td>1.392376</td>\n",
       "      <td>Sequenced_May_2018</td>\n",
       "      <td>GGATATCT</td>\n",
       "      <td>TAGCAGAC</td>\n",
       "    </tr>\n",
       "    <tr>\n",
       "      <th>924</th>\n",
       "      <td>EL.A.151026.12C-Van.D04</td>\n",
       "      <td>86</td>\n",
       "      <td>Enrichment</td>\n",
       "      <td>SoilHealth_Plate8</td>\n",
       "      <td>final_Enr_soilHealthLib</td>\n",
       "      <td>Plate5</td>\n",
       "      <td>B5</td>\n",
       "      <td>EL.A.151026.12C-Van.D04</td>\n",
       "      <td>12C-Van</td>\n",
       "      <td>4.0</td>\n",
       "      <td>...</td>\n",
       "      <td>NaN</td>\n",
       "      <td>NaN</td>\n",
       "      <td>NaN</td>\n",
       "      <td>NaN</td>\n",
       "      <td>NaN</td>\n",
       "      <td>NaN</td>\n",
       "      <td>2.041687</td>\n",
       "      <td>Sequenced_May_2018</td>\n",
       "      <td>CGTGAGTG</td>\n",
       "      <td>TCATAGAC</td>\n",
       "    </tr>\n",
       "    <tr>\n",
       "      <th>1040</th>\n",
       "      <td>MW.A.151027.H2O-Con.D28</td>\n",
       "      <td>95</td>\n",
       "      <td>Enrichment</td>\n",
       "      <td>SoilHealth_Plate8</td>\n",
       "      <td>final_Enr_soilHealthLib</td>\n",
       "      <td>Plate5</td>\n",
       "      <td>C5</td>\n",
       "      <td>MW.A.151027.H2O-Con.D28</td>\n",
       "      <td>H2O-Con</td>\n",
       "      <td>28.0</td>\n",
       "      <td>...</td>\n",
       "      <td>NaN</td>\n",
       "      <td>NaN</td>\n",
       "      <td>NaN</td>\n",
       "      <td>NaN</td>\n",
       "      <td>NaN</td>\n",
       "      <td>NaN</td>\n",
       "      <td>1.572456</td>\n",
       "      <td>Sequenced_May_2018</td>\n",
       "      <td>GGATATCT</td>\n",
       "      <td>TCGCTATA</td>\n",
       "    </tr>\n",
       "    <tr>\n",
       "      <th>1054</th>\n",
       "      <td>CF.A.151027.H2O-Con.D28</td>\n",
       "      <td>96</td>\n",
       "      <td>Enrichment</td>\n",
       "      <td>SoilHealth_Plate8</td>\n",
       "      <td>final_Enr_soilHealthLib</td>\n",
       "      <td>Plate5</td>\n",
       "      <td>D5</td>\n",
       "      <td>CF.A.151027.H2O-Con.D28</td>\n",
       "      <td>H2O-Con</td>\n",
       "      <td>28.0</td>\n",
       "      <td>...</td>\n",
       "      <td>NaN</td>\n",
       "      <td>NaN</td>\n",
       "      <td>NaN</td>\n",
       "      <td>NaN</td>\n",
       "      <td>NaN</td>\n",
       "      <td>NaN</td>\n",
       "      <td>1.479733</td>\n",
       "      <td>Sequenced_May_2018</td>\n",
       "      <td>GACACCGT</td>\n",
       "      <td>TCGCTATA</td>\n",
       "    </tr>\n",
       "  </tbody>\n",
       "</table>\n",
       "<p>7 rows × 38 columns</p>\n",
       "</div>"
      ],
      "text/plain": [
       "                      #Sample  primer_number    exp_type extraction_plate_ID  \\\n",
       "780   MF.A.151026.12C-Cel.D28             74  Enrichment   SoilHealth_Plate8   \n",
       "794   MF.A.151026.H2O-Con.D28             75  Enrichment   SoilHealth_Plate8   \n",
       "808   CF.A.151027.12C-Pal.D28             76  Enrichment   SoilHealth_Plate8   \n",
       "846   CF.A.151027.12C-Xyl.D02             79  Enrichment   SoilHealth_Plate8   \n",
       "924   EL.A.151026.12C-Van.D04             86  Enrichment   SoilHealth_Plate8   \n",
       "1040  MW.A.151027.H2O-Con.D28             95  Enrichment   SoilHealth_Plate8   \n",
       "1054  CF.A.151027.H2O-Con.D28             96  Enrichment   SoilHealth_Plate8   \n",
       "\n",
       "                   library_ID pool_plate_ID pool_plate_well  \\\n",
       "780   final_Enr_soilHealthLib        Plate5              D4   \n",
       "794   final_Enr_soilHealthLib        Plate5              E4   \n",
       "808   final_Enr_soilHealthLib        Plate5              F4   \n",
       "846   final_Enr_soilHealthLib        Plate5              G4   \n",
       "924   final_Enr_soilHealthLib        Plate5              B5   \n",
       "1040  final_Enr_soilHealthLib        Plate5              C5   \n",
       "1054  final_Enr_soilHealthLib        Plate5              D5   \n",
       "\n",
       "                      soil_ID substrate   day     ...       \\\n",
       "780   MF.A.151026.12C-Cel.D28   12C-Cel  28.0     ...        \n",
       "794   MF.A.151026.H2O-Con.D28   H2O-Con  28.0     ...        \n",
       "808   CF.A.151027.12C-Pal.D28   12C-Pal  28.0     ...        \n",
       "846   CF.A.151027.12C-Xyl.D02   12C-Xyl   2.0     ...        \n",
       "924   EL.A.151026.12C-Van.D04   12C-Van   4.0     ...        \n",
       "1040  MW.A.151027.H2O-Con.D28   H2O-Con  28.0     ...        \n",
       "1054  CF.A.151027.H2O-Con.D28   H2O-Con  28.0     ...        \n",
       "\n",
       "      water_holding_capacity__g.g  percent_N  percent_C sand__perc silt__perc  \\\n",
       "780                           NaN        NaN        NaN        NaN        NaN   \n",
       "794                           NaN        NaN        NaN        NaN        NaN   \n",
       "808                           NaN        NaN        NaN        NaN        NaN   \n",
       "846                           NaN        NaN        NaN        NaN        NaN   \n",
       "924                           NaN        NaN        NaN        NaN        NaN   \n",
       "1040                          NaN        NaN        NaN        NaN        NaN   \n",
       "1054                          NaN        NaN        NaN        NaN        NaN   \n",
       "\n",
       "     clay__perc DNA_conc__ng_ul               notes  fwd_barcode  rev_barcode  \n",
       "780         NaN        5.654875  Sequenced_May_2018     ACTATCTG     TAGCAGAC  \n",
       "794         NaN        9.612422  Sequenced_May_2018     TAGCGAGT     TAGCAGAC  \n",
       "808         NaN        4.019189  Sequenced_May_2018     CTGCGTGT     TAGCAGAC  \n",
       "846         NaN        1.392376  Sequenced_May_2018     GGATATCT     TAGCAGAC  \n",
       "924         NaN        2.041687  Sequenced_May_2018     CGTGAGTG     TCATAGAC  \n",
       "1040        NaN        1.572456  Sequenced_May_2018     GGATATCT     TCGCTATA  \n",
       "1054        NaN        1.479733  Sequenced_May_2018     GACACCGT     TCGCTATA  \n",
       "\n",
       "[7 rows x 38 columns]"
      ]
     },
     "execution_count": 7,
     "metadata": {},
     "output_type": "execute_result"
    }
   ],
   "source": [
    "# filter only metadata from this library\n",
    "df_meta = pd.DataFrame(df_meta[df_meta.library_ID==library])\n",
    "df_meta"
   ]
  },
  {
   "cell_type": "markdown",
   "metadata": {},
   "source": [
    "# Uncompress index files and create screed db"
   ]
  },
  {
   "cell_type": "code",
   "execution_count": 10,
   "metadata": {
    "collapsed": false
   },
   "outputs": [],
   "source": [
    "def uncomp(fileName, directory):\n",
    "    output = fileName.replace(\".gz\", \"\")\n",
    "    fileName = directory+fileName\n",
    "    !cd $workdir; \\\n",
    "        pigz -k -d -p 24 -c -f $fileName > $output\n",
    "    return os.path.splitext(output)[0]\n",
    "    \n",
    "index_read1_file = uncomp(index_read1_file, seqdir)\n",
    "index_read2_file = uncomp(index_read2_file, seqdir)"
   ]
  },
  {
   "cell_type": "code",
   "execution_count": 11,
   "metadata": {
    "collapsed": false
   },
   "outputs": [],
   "source": [
    "os.chdir(workdir)\n",
    "screed.read_fastq_sequences(index_read1_file+\".fq\")\n",
    "screed.read_fastq_sequences(index_read2_file+\".fq\")\n",
    "\n",
    "index_read1_screed = index_read1_file + '.fq_screed'\n",
    "index_read2_screed = index_read2_file + '.fq_screed'"
   ]
  },
  {
   "cell_type": "markdown",
   "metadata": {},
   "source": [
    "# Demultiplex"
   ]
  },
  {
   "cell_type": "code",
   "execution_count": 22,
   "metadata": {
    "collapsed": true
   },
   "outputs": [],
   "source": [
    "# rev-comp functions\n",
    "def complement(seq): \n",
    "    idx = {'A': 'T', 'C': 'G', 'G': 'C', 'T': 'A', 'N':'N'} \n",
    "    idx.update( {x.lower():y.lower() for x,y in idx.items()} )\n",
    "    return ''.join(idx[x] for x in list(seq))\n",
    "\n",
    "def revComp(seq):\n",
    "    seq = seq[::-1]\n",
    "    return complement(seq)    "
   ]
  },
  {
   "cell_type": "code",
   "execution_count": 24,
   "metadata": {
    "collapsed": false
   },
   "outputs": [],
   "source": [
    "# loading/editing metadata\n",
    "\n",
    "df_meta.columns = ['Sample'] + list((df_meta.columns)[1:])\n",
    "\n",
    "df_meta['Barcode_FR'] = [(revComp(y) + x).lower() for x,y \\\n",
    "                         in zip(df_meta.fwd_barcode,df_meta.rev_barcode)]\n",
    "\n",
    "\n",
    "## format of barcode=>sample dict: [revBarcode=read1 + fwdBarcode=read2] : sampleID\n",
    "map_d = {x:y for x,y in zip(df_meta.Barcode_FR, df_meta.Sample)}"
   ]
  },
  {
   "cell_type": "code",
   "execution_count": 30,
   "metadata": {
    "collapsed": false
   },
   "outputs": [
    {
     "data": {
      "text/plain": [
       "[('gtctgctaactatctg', 'MF.A.151026.12C-Cel.D28'),\n",
       " ('gtctgctatagcgagt', 'MF.A.151026.H2O-Con.D28'),\n",
       " ('gtctgctactgcgtgt', 'CF.A.151027.12C-Pal.D28'),\n",
       " ('gtctgctaggatatct', 'CF.A.151027.12C-Xyl.D02'),\n",
       " ('gtctatgacgtgagtg', 'EL.A.151026.12C-Van.D04'),\n",
       " ('tatagcgaggatatct', 'MW.A.151027.H2O-Con.D28'),\n",
       " ('tatagcgagacaccgt', 'CF.A.151027.H2O-Con.D28')]"
      ]
     },
     "execution_count": 30,
     "metadata": {},
     "output_type": "execute_result"
    }
   ],
   "source": [
    "# resulting dict of sample => barcode_FR \n",
    "n_print = 7\n",
    "[(list(map_d.keys())[i], map_d[list(map_d.keys())[i]]) for i in range(n_print)]"
   ]
  },
  {
   "cell_type": "code",
   "execution_count": 34,
   "metadata": {
    "collapsed": false
   },
   "outputs": [],
   "source": [
    "# loading screed databases \n",
    "ir1db = screed.ScreedDB(index_read1_screed)\n",
    "ir2db = screed.ScreedDB(index_read2_screed)\n",
    "amp_db = screed.ScreedDB(read12_screed)"
   ]
  },
  {
   "cell_type": "code",
   "execution_count": 35,
   "metadata": {
    "collapsed": false,
    "scrolled": false
   },
   "outputs": [
    {
     "name": "stdout",
     "output_type": "stream",
     "text": [
      "Unable to assign 17715210 reads to samples\n"
     ]
    }
   ],
   "source": [
    "# demultiplexing: naming reads by sample\n",
    "\n",
    "outFile = re.sub('fastq_screed', 'dmult.fastq', read12_screed)\n",
    "\n",
    "counter = 0\n",
    "unassigned = 0\n",
    "cnt = Counter()\n",
    "outFile = os.path.join(workdir, os.path.split(outFile)[1])\n",
    "c = 0\n",
    "with open(outFile, \"w\") as out:\n",
    "    for rec in amp_db.itervalues():\n",
    "        index_concat = ir1db[rec[\"name\"]][\"sequence\"] + ir2db[rec[\"name\"]][\"sequence\"]\n",
    "        \n",
    "        try:\n",
    "            new_name = map_d[index_concat.lower()] + \"_\" + str(counter) #case sensitive\n",
    "        except KeyError:\n",
    "            unassigned += 1\n",
    "            continue\n",
    "        counter += 1\n",
    "        cnt[map_d[index_concat.lower()]] += 1 #case sensitive\n",
    "        s, q = rec[\"sequence\"], rec[\"quality\"]\n",
    "        out.write(\"@%s orig_name=%s\\n%s\\n+\\n%s\\n\"%(new_name,rec[\"name\"],s,q))\n",
    "        \n",
    "        \n",
    "print (\"Unable to assign %s reads to samples\"%unassigned)"
   ]
  },
  {
   "cell_type": "code",
   "execution_count": 36,
   "metadata": {
    "collapsed": false
   },
   "outputs": [
    {
     "name": "stdout",
     "output_type": "stream",
     "text": [
      "Number of sequences: 470006.0\n"
     ]
    }
   ],
   "source": [
    "# number of sequences\n",
    "n_lines = !wc -l $outFile\n",
    "n_lines = int(re.sub(' .+', '', n_lines[0]))\n",
    "print('Number of sequences: {}'.format(n_lines/4))"
   ]
  },
  {
   "cell_type": "markdown",
   "metadata": {},
   "source": [
    "# Stats on sequences"
   ]
  },
  {
   "cell_type": "markdown",
   "metadata": {},
   "source": [
    "## Number of sequences per sample"
   ]
  },
  {
   "cell_type": "code",
   "execution_count": 37,
   "metadata": {
    "collapsed": false
   },
   "outputs": [],
   "source": [
    "# counting sequences for each sample\n",
    "re_seqName = re.compile(r'_\\d+ orig_name.+')\n",
    "\n",
    "seq_cnt = dict()\n",
    "with open(outFile, 'r') as fn:\n",
    "    for line in fn.readlines():\n",
    "        if re.search(re_seqName, line):\n",
    "            sampleName = re.sub(re_seqName, '', line).rstrip().lstrip('@')\n",
    "            try:\n",
    "                seq_cnt[sampleName] += 1\n",
    "            except KeyError:\n",
    "                seq_cnt[sampleName] = 1 "
   ]
  },
  {
   "cell_type": "code",
   "execution_count": 38,
   "metadata": {
    "collapsed": false
   },
   "outputs": [
    {
     "data": {
      "text/html": [
       "<div>\n",
       "<style scoped>\n",
       "    .dataframe tbody tr th:only-of-type {\n",
       "        vertical-align: middle;\n",
       "    }\n",
       "\n",
       "    .dataframe tbody tr th {\n",
       "        vertical-align: top;\n",
       "    }\n",
       "\n",
       "    .dataframe thead th {\n",
       "        text-align: right;\n",
       "    }\n",
       "</style>\n",
       "<table border=\"1\" class=\"dataframe\">\n",
       "  <thead>\n",
       "    <tr style=\"text-align: right;\">\n",
       "      <th></th>\n",
       "      <th>Sample</th>\n",
       "      <th>seq_count</th>\n",
       "    </tr>\n",
       "  </thead>\n",
       "  <tbody>\n",
       "    <tr>\n",
       "      <th>0</th>\n",
       "      <td>CF.A.151027.12C-Xyl.D02</td>\n",
       "      <td>77495</td>\n",
       "    </tr>\n",
       "    <tr>\n",
       "      <th>1</th>\n",
       "      <td>CF.A.151027.12C-Pal.D28</td>\n",
       "      <td>47167</td>\n",
       "    </tr>\n",
       "    <tr>\n",
       "      <th>2</th>\n",
       "      <td>CF.A.151027.H2O-Con.D28</td>\n",
       "      <td>36988</td>\n",
       "    </tr>\n",
       "    <tr>\n",
       "      <th>3</th>\n",
       "      <td>MW.A.151027.H2O-Con.D28</td>\n",
       "      <td>149146</td>\n",
       "    </tr>\n",
       "    <tr>\n",
       "      <th>4</th>\n",
       "      <td>MF.A.151026.H2O-Con.D28</td>\n",
       "      <td>44706</td>\n",
       "    </tr>\n",
       "    <tr>\n",
       "      <th>5</th>\n",
       "      <td>MF.A.151026.12C-Cel.D28</td>\n",
       "      <td>41727</td>\n",
       "    </tr>\n",
       "    <tr>\n",
       "      <th>6</th>\n",
       "      <td>EL.A.151026.12C-Van.D04</td>\n",
       "      <td>72777</td>\n",
       "    </tr>\n",
       "  </tbody>\n",
       "</table>\n",
       "</div>"
      ],
      "text/plain": [
       "                    Sample  seq_count\n",
       "0  CF.A.151027.12C-Xyl.D02      77495\n",
       "1  CF.A.151027.12C-Pal.D28      47167\n",
       "2  CF.A.151027.H2O-Con.D28      36988\n",
       "3  MW.A.151027.H2O-Con.D28     149146\n",
       "4  MF.A.151026.H2O-Con.D28      44706\n",
       "5  MF.A.151026.12C-Cel.D28      41727\n",
       "6  EL.A.151026.12C-Van.D04      72777"
      ]
     },
     "execution_count": 38,
     "metadata": {},
     "output_type": "execute_result"
    }
   ],
   "source": [
    "# converting to dataframe\n",
    "df_seq_cnt = pd.DataFrame.from_dict(seq_cnt, orient='index')\n",
    "df_seq_cnt.index.name = 'Sample'\n",
    "df_seq_cnt.reset_index(inplace=True)\n",
    "df_seq_cnt.columns = ['Sample', 'seq_count']\n",
    "df_seq_cnt"
   ]
  },
  {
   "cell_type": "code",
   "execution_count": 39,
   "metadata": {
    "collapsed": false
   },
   "outputs": [
    {
     "data": {
      "image/png": "[encoded data removed]"
     },
     "metadata": {},
     "output_type": "display_data"
    }
   ],
   "source": [
    "%%R -i df_seq_cnt -w 900 -h 350\n",
    "\n",
    "df_seq_cnt$Sample = reorder(df_seq_cnt$Sample, desc(df_seq_cnt$seq_count))\n",
    "\n",
    "ggplot(df_seq_cnt, aes(Sample, seq_count)) +\n",
    "    geom_bar(stat='identity') +\n",
    "    theme_bw() +\n",
    "    theme( \n",
    "        text = element_text(size=16),\n",
    "        axis.text.x = element_text(angle=45, hjust=1)\n",
    "    )"
   ]
  },
  {
   "cell_type": "code",
   "execution_count": 40,
   "metadata": {
    "collapsed": false
   },
   "outputs": [
    {
     "data": {
      "text/plain": [
       "[1] Sample    seq_count\n",
       "<0 rows> (or 0-length row.names)\n"
      ]
     },
     "metadata": {},
     "output_type": "display_data"
    }
   ],
   "source": [
    "%%R\n",
    "df_seq_cnt[df_seq_cnt$seq_count < 10000,]"
   ]
  },
  {
   "cell_type": "code",
   "execution_count": null,
   "metadata": {
    "collapsed": true
   },
   "outputs": [],
   "source": []
  }
 ],
 "metadata": {
  "anaconda-cloud": {},
  "hide_input": true,
  "kernelspec": {
   "display_name": "Python 3",
   "language": "python",
   "name": "python3"
  },
  "language_info": {
   "codemirror_mode": {
    "name": "ipython",
    "version": 3
   },
   "file_extension": ".py",
   "mimetype": "text/x-python",
   "name": "python",
   "nbconvert_exporter": "python",
   "pygments_lexer": "ipython3",
   "version": "3.6.4"
  },
  "notify_time": "5"
 },
 "nbformat": 4,
 "nbformat_minor": 0
}
