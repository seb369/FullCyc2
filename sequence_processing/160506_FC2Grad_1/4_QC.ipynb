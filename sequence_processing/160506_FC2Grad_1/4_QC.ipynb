{
 "cells": [
  {
   "cell_type": "markdown",
   "metadata": {},
   "source": [
    "# Description\n",
    "\n",
    "* Quality control on MiSeq run data\n",
    "  * post-merging\n",
    "  * post-demultiplexing"
   ]
  },
  {
   "cell_type": "markdown",
   "metadata": {},
   "source": [
    "# Setting variables"
   ]
  },
  {
   "cell_type": "code",
   "execution_count": 39,
   "metadata": {
    "collapsed": true
   },
   "outputs": [],
   "source": [
    "import os\n",
    "\n",
    "baseDir = '/home/seq_data/fullCyc2/amplicon/515F-806R/final_dataset/library_QC/160506_FC2Grad_1'\n",
    "workDir = os.path.join(baseDir, 'QC')\n",
    "seqFile = os.path.join(baseDir, 'pear_merged-160506_FC2Grad_1.assembled.dmult.fastq')\n",
    "\n",
    "# number of processors\n",
    "nprocs = 20\n",
    "\n",
    "# max expected error\n",
    "maxee = 1"
   ]
  },
  {
   "cell_type": "markdown",
   "metadata": {},
   "source": [
    "# Init"
   ]
  },
  {
   "cell_type": "code",
   "execution_count": 40,
   "metadata": {
    "collapsed": true
   },
   "outputs": [],
   "source": [
    "import re\n",
    "import pandas as pd"
   ]
  },
  {
   "cell_type": "code",
   "execution_count": 41,
   "metadata": {
    "collapsed": false
   },
   "outputs": [
    {
     "name": "stdout",
     "output_type": "stream",
     "text": [
      "The rpy2.ipython extension is already loaded. To reload it, use:\n",
      "  %reload_ext rpy2.ipython\n"
     ]
    }
   ],
   "source": [
    "%load_ext rpy2.ipython\n",
    "#%load_ext pushnote"
   ]
  },
  {
   "cell_type": "code",
   "execution_count": 42,
   "metadata": {
    "collapsed": false
   },
   "outputs": [],
   "source": [
    "%%R\n",
    "library(ggplot2)\n",
    "library(dplyr)\n",
    "library(tidyr)\n",
    "library(gridExtra)"
   ]
  },
  {
   "cell_type": "code",
   "execution_count": 5,
   "metadata": {
    "collapsed": false
   },
   "outputs": [
    {
     "name": "stdout",
     "output_type": "stream",
     "text": [
      "/home/seq_data/fullCyc2/amplicon/515F-806R/final_dataset/library_QC/160506_FC2Grad_1/QC\n"
     ]
    }
   ],
   "source": [
    "if not os.path.isdir(workDir):\n",
    "    os.makedirs(workDir)\n",
    "%cd $workDir"
   ]
  },
  {
   "cell_type": "code",
   "execution_count": 6,
   "metadata": {
    "collapsed": false
   },
   "outputs": [
    {
     "name": "stdout",
     "output_type": "stream",
     "text": [
      "File exists: /home/seq_data/fullCyc2/amplicon/515F-806R/final_dataset/library_QC/160506_FC2Grad_1/pear_merged-160506_FC2Grad_1.assembled.dmult.fastq\n"
     ]
    }
   ],
   "source": [
    "# symlinking demult seq file into CQ\n",
    "tmp = os.path.join(baseDir, seqFile)\n",
    "if not os.path.isfile(seqFile):\n",
    "    tmp2 = os.path.split(tmp)[1]\n",
    "    os.symlink(tmp, tmp2)\n",
    "else:\n",
    "    print ('File exists: {}'.format(os.path.join(workDir, seqFile)))"
   ]
  },
  {
   "cell_type": "markdown",
   "metadata": {},
   "source": [
    "# Merged read quality filtering"
   ]
  },
  {
   "cell_type": "markdown",
   "metadata": {},
   "source": [
    "## Discard sequences that exceed max expected error theshold"
   ]
  },
  {
   "cell_type": "code",
   "execution_count": 7,
   "metadata": {
    "collapsed": false
   },
   "outputs": [
    {
     "data": {
      "text/plain": [
       "'pear_merged-160506_FC2Grad_1.assembled.dmult_maxee1.fasta'"
      ]
     },
     "execution_count": 7,
     "metadata": {},
     "output_type": "execute_result"
    }
   ],
   "source": [
    "qcFile = os.path.split(seqFile)[1]\n",
    "qcFile = os.path.splitext(qcFile)[0] + '_maxee{}.fasta'.format(maxee)\n",
    "qcFile"
   ]
  },
  {
   "cell_type": "code",
   "execution_count": 8,
   "metadata": {
    "collapsed": true
   },
   "outputs": [],
   "source": [
    "%%bash -s \"$seqFile\" \"$nprocs\" \"$maxee\" \"$qcFile\"\n",
    "\n",
    "mkdir /home/sam/tmp/tmpdir1\n",
    "trap \"rm -r /home/sam/tmp/tmpdir1\" 1 2 3 15\n",
    "split -d -l 2000000 $1 /home/sam/tmp/tmpdir1/Block\n",
    "\n",
    "mkdir /home/sam/tmp/tmpdir2\n",
    "trap \"rm -r /home/sam/tmp/tmpdir2\" 1 2 3 15\n",
    "ls /home/sam/tmp/tmpdir1/Block?? | parallel --gnu -j $2 -k \"usearch -fastq_filter {} -fastq_maxee $3 \\\n",
    "-fastaout /home/sam/tmp/tmpdir2/{#}.fasta >/dev/null 2>&1 && cat /home/sam/tmp/tmpdir2/{#}.fasta\" > $4\n",
    "rm -r /home/sam/tmp/tmpdir2 /home/sam/tmp/tmpdir1"
   ]
  },
  {
   "cell_type": "code",
   "execution_count": 9,
   "metadata": {
    "collapsed": false
   },
   "outputs": [
    {
     "name": "stdout",
     "output_type": "stream",
     "text": [
      "Max expected error cutoff: 1\n",
      "Number of sequence pre-filter: 1657783\n",
      "Number of sequences post-filter: 1637595\n",
      "\n",
      ">MR.M.13C-Xyl.D3.R1_Frac11_0 orig_name=M01032:393:000000000-AN352:1:1101:18232:1785\n",
      "TACGTAGGTGGCTAGCGTTATCCGGATTTACTGGGCGTAAAGGGTGTGCAGGCGGTCTGCTAAGTGGTGTATGAAATCCC\n",
      "TCGGCTCAACCGGGCGAGGTAATGCCAGACTGGCAGTCTAGAGTCTGACAGAGGGTGGTGGAATTCCGGGTGTAGTGGTG\n",
      "AAATGCGTAGAGATCCGGAGGAACACCAGAGGCGAAGGCGGCCACCTGGGTCAGTACTGACGCTGAGACACGACAGCATG\n",
      "GGGAGCGAACGGG\n",
      ">MR.F.13C-Ami.D1.R1_Frac24_1 orig_name=M01032:393:000000000-AN352:1:1101:17102:1829\n",
      "TCCGTAGGGTGCAAGCGTTATTCGGATTTACTGGGCTTAAAGCGTGCGCAGGCGGTCCGCTAAGTCAGTTGTGAAATCCC\n",
      "CGGGCTTAACCTGGGAACTGCATTTGTGACTGTCAGTCTAGAGTTTGGCAGAGGGGGGTAGAATTCCACGTGTAGCAGTG\n"
     ]
    }
   ],
   "source": [
    "%%bash -s \"$seqFile\" \"$nprocs\" \"$maxee\" \"$qcFile\"\n",
    "\n",
    "printf \"Max expected error cutoff: \"\n",
    "echo $3\n",
    "\n",
    "printf \"Number of sequence pre-filter: \"\n",
    "grep -c \"orig_name=\" $1\n",
    "\n",
    "printf \"Number of sequences post-filter: \"\n",
    "grep -c \">\" $4\n",
    "\n",
    "echo '' \n",
    "head -n 8 $4"
   ]
  },
  {
   "cell_type": "markdown",
   "metadata": {},
   "source": [
    "## Remove seqs with 'N' characters"
   ]
  },
  {
   "cell_type": "code",
   "execution_count": 10,
   "metadata": {
    "collapsed": false
   },
   "outputs": [
    {
     "data": {
      "text/plain": [
       "'pear_merged-160506_FC2Grad_1.assembled.dmult_maxee1_noN.fasta'"
      ]
     },
     "execution_count": 10,
     "metadata": {},
     "output_type": "execute_result"
    }
   ],
   "source": [
    "qcFile2 = os.path.splitext(qcFile)[0] + '_noN.fasta'\n",
    "qcFile2"
   ]
  },
  {
   "cell_type": "code",
   "execution_count": 11,
   "metadata": {
    "collapsed": false
   },
   "outputs": [
    {
     "name": "stdout",
     "output_type": "stream",
     "text": [
      "Number of sequence pre-filter: 1637595\n",
      "Number of sequences post-filter: 1637595\n"
     ]
    }
   ],
   "source": [
    "%%bash -s \"$qcFile\" \"$qcFile2\"\n",
    "\n",
    "bioawk -c fastx '{if ($seq !~ /N/){print \">\" $name \" \" $4 \"\\n\" $seq}}' $1 > $2\n",
    "\n",
    "printf \"Number of sequence pre-filter: \"\n",
    "grep -c \">\" $1\n",
    "\n",
    "printf \"Number of sequences post-filter: \"\n",
    "grep -c \">\" $2"
   ]
  },
  {
   "cell_type": "markdown",
   "metadata": {},
   "source": [
    "## Alignment-based QC with Mothur"
   ]
  },
  {
   "cell_type": "code",
   "execution_count": 12,
   "metadata": {
    "collapsed": false
   },
   "outputs": [
    {
     "name": "stdout",
     "output_type": "stream",
     "text": [
      "MR.M.13C-Xyl.D3.R1_Frac11_0\tMR.M.13C-Xyl.D3.R1_Frac11\n",
      "MR.F.13C-Ami.D1.R1_Frac24_1\tMR.F.13C-Ami.D1.R1_Frac24\n",
      "MR.M.13C-Xyl.D3.R1_Frac20_bad_3\tMR.M.13C-Xyl.D3.R1_Frac20_bad\n",
      "MR.M.13C-Xyl.D3.R1_Frac10_2\tMR.M.13C-Xyl.D3.R1_Frac10\n",
      "MR.F.13C-Ami.D3.R2_Frac12_4\tMR.F.13C-Ami.D3.R2_Frac12\n",
      "MR.F.13C-Ami.D1.R1_Frac23_5\tMR.F.13C-Ami.D1.R1_Frac23\n",
      "MR.F.13C-Ami.D3.R2_Frac27_bad_7\tMR.F.13C-Ami.D3.R2_Frac27_bad\n",
      "MR.M.13C-Xyl.D3.R1_Frac20_bad_8\tMR.M.13C-Xyl.D3.R1_Frac20_bad\n",
      "MR.F.13C-Ami.D3.R2_Frac10_6\tMR.F.13C-Ami.D3.R2_Frac10\n",
      "MR.M.13C-Xyl.D3.R1_Frac20_bad_9\tMR.M.13C-Xyl.D3.R1_Frac20_bad\n"
     ]
    }
   ],
   "source": [
    "%%bash -s \"$qcFile2\"\n",
    "# making mothur group file\n",
    "\n",
    "perl -ne 'if(/^>/){ s/>(.+)(_\\d+) .+/$1$2\\t$1/; print;}' $1 > group_file.txt\n",
    "head group_file.txt"
   ]
  },
  {
   "cell_type": "code",
   "execution_count": 13,
   "metadata": {
    "collapsed": false
   },
   "outputs": [
    {
     "name": "stdout",
     "output_type": "stream",
     "text": [
      "MR.M.13C-Xyl.D3.R1_Frac11_0\tMR.M.13C-Xyl.D3.R1_Frac11\r\n",
      "MR.F.13C-Ami.D1.R1_Frac24_1\tMR.F.13C-Ami.D1.R1_Frac24\r\n",
      "MR.M.13C-Xyl.D3.R1_Frac20_bad_3\tMR.M.13C-Xyl.D3.R1_Frac20_bad\r\n",
      "MR.M.13C-Xyl.D3.R1_Frac10_2\tMR.M.13C-Xyl.D3.R1_Frac10\r\n",
      "MR.F.13C-Ami.D3.R2_Frac12_4\tMR.F.13C-Ami.D3.R2_Frac12\r\n",
      "MR.F.13C-Ami.D1.R1_Frac23_5\tMR.F.13C-Ami.D1.R1_Frac23\r\n",
      "MR.F.13C-Ami.D3.R2_Frac27_bad_7\tMR.F.13C-Ami.D3.R2_Frac27_bad\r\n",
      "MR.M.13C-Xyl.D3.R1_Frac20_bad_8\tMR.M.13C-Xyl.D3.R1_Frac20_bad\r\n",
      "MR.F.13C-Ami.D3.R2_Frac10_6\tMR.F.13C-Ami.D3.R2_Frac10\r\n",
      "MR.M.13C-Xyl.D3.R1_Frac20_bad_9\tMR.M.13C-Xyl.D3.R1_Frac20_bad\r\n",
      "MR.F.13C-Van.D14.R2_Frac7_11\tMR.F.13C-Van.D14.R2_Frac7\r\n",
      "MR.M.13C-Xyl.D3.R1_Frac25_10\tMR.M.13C-Xyl.D3.R1_Frac25\r\n",
      "MR.F.13C-Ami.D3.R2_Frac27_bad_15\tMR.F.13C-Ami.D3.R2_Frac27_bad\r\n",
      "MR.F.13C-Ami.D3.R2_Frac19_13\tMR.F.13C-Ami.D3.R2_Frac19\r\n",
      "MR.F.13C-Ami.D3.R2_Frac10_14\tMR.F.13C-Ami.D3.R2_Frac10\r\n",
      "MR.F.13C-Van.D14.R2_Frac7_16\tMR.F.13C-Van.D14.R2_Frac7\r\n",
      "MR.F.13C-Ami.D3.R2_Frac28_21\tMR.F.13C-Ami.D3.R2_Frac28\r\n",
      "MR.F.13C-Van.D14.R2_Frac7_23\tMR.F.13C-Van.D14.R2_Frac7\r\n",
      "MR.F.13C-Ami.D1.R1_Frac19_25\tMR.F.13C-Ami.D1.R1_Frac19\r\n",
      "MR.M.13C-Xyl.D3.R1_Frac20_bad_26\tMR.M.13C-Xyl.D3.R1_Frac20_bad\r\n",
      "MR.M.13C-Xyl.D3.R1_Frac20_bad_27\tMR.M.13C-Xyl.D3.R1_Frac20_bad\r\n",
      "MR.F.13C-Ami.D1.R1_Frac15_28\tMR.F.13C-Ami.D1.R1_Frac15\r\n",
      "MR.M.13C-Xyl.D3.R1_Frac20_bad_29\tMR.M.13C-Xyl.D3.R1_Frac20_bad\r\n",
      "MR.F.13C-Ami.D1.R1_Frac9_30\tMR.F.13C-Ami.D1.R1_Frac9\r\n",
      "MR.M.13C-Xyl.D3.R1_Frac20_bad_31\tMR.M.13C-Xyl.D3.R1_Frac20_bad\r\n",
      "MR.M.13C-Xyl.D3.R1_Frac20_bad_12\tMR.M.13C-Xyl.D3.R1_Frac20_bad\r\n",
      "MR.M.13C-Xyl.D3.R1_Frac20_bad_22\tMR.M.13C-Xyl.D3.R1_Frac20_bad\r\n",
      "MR.F.13C-Ami.D3.R2_Frac14_20\tMR.F.13C-Ami.D3.R2_Frac14\r\n",
      "MR.M.13C-Xyl.D3.R1_Frac12_19\tMR.M.13C-Xyl.D3.R1_Frac12\r\n",
      "MR.M.13C-Xyl.D3.R1_Frac10_36\tMR.M.13C-Xyl.D3.R1_Frac10\r\n",
      "MR.M.13C-Xyl.D3.R1_Frac20_bad_37\tMR.M.13C-Xyl.D3.R1_Frac20_bad\r\n",
      "MR.M.13C-Xyl.D3.R1_Frac20_bad_38\tMR.M.13C-Xyl.D3.R1_Frac20_bad\r\n",
      "MR.F.13C-Ami.D1.R1_Frac22_39\tMR.F.13C-Ami.D1.R1_Frac22\r\n",
      "MR.F.13C-Van.D14.R2_Frac23_40\tMR.F.13C-Van.D14.R2_Frac23\r\n",
      "MR.F.13C-Ami.D3.R2_Frac27_bad_33\tMR.F.13C-Ami.D3.R2_Frac27_bad\r\n",
      "MR.F.13C-Ami.D3.R2_Frac24_32\tMR.F.13C-Ami.D3.R2_Frac24\r\n",
      "MR.M.13C-Xyl.D3.R1_Frac20_bad_24\tMR.M.13C-Xyl.D3.R1_Frac20_bad\r\n",
      "MR.F.13C-Ami.D1.R1_Frac5_35\tMR.F.13C-Ami.D1.R1_Frac5\r\n",
      "MR.F.13C-Ami.D3.R2_Frac17_42\tMR.F.13C-Ami.D3.R2_Frac17\r\n",
      "MR.M.13C-Xyl.D3.R1_Frac6_41\tMR.M.13C-Xyl.D3.R1_Frac6\r\n",
      "MR.F.13C-Van.D14.R2_Frac23_47\tMR.F.13C-Van.D14.R2_Frac23\r\n",
      "MR.F.13C-Ami.D3.R2_Frac27_bad_48\tMR.F.13C-Ami.D3.R2_Frac27_bad\r\n",
      "MR.F.13C-Ami.D3.R2_Frac24_49\tMR.F.13C-Ami.D3.R2_Frac24\r\n",
      "MR.F.13C-Ami.D3.R2_Frac27_bad_50\tMR.F.13C-Ami.D3.R2_Frac27_bad\r\n",
      "MR.M.13C-Xyl.D3.R1_Frac10_51\tMR.M.13C-Xyl.D3.R1_Frac10\r\n",
      "MR.M.13C-Xyl.D3.R1_Frac20_bad_52\tMR.M.13C-Xyl.D3.R1_Frac20_bad\r\n",
      "MR.F.13C-Ami.D3.R2_Frac17_53\tMR.F.13C-Ami.D3.R2_Frac17\r\n",
      "MR.M.13C-Xyl.D3.R1_Frac27_54\tMR.M.13C-Xyl.D3.R1_Frac27\r\n",
      "MR.F.13C-Ami.D3.R2_Frac29_55\tMR.F.13C-Ami.D3.R2_Frac29\r\n",
      "MR.F.13C-Ami.D3.R2_Frac27_bad_56\tMR.F.13C-Ami.D3.R2_Frac27_bad\r\n",
      "MR.F.13C-Van.D14.R2_Frac17_57\tMR.F.13C-Van.D14.R2_Frac17\r\n",
      "MR.F.13C-Ami.D3.R2_Frac26_44\tMR.F.13C-Ami.D3.R2_Frac26\r\n",
      "MR.M.13C-Xyl.D3.R1_Frac20_bad_43\tMR.M.13C-Xyl.D3.R1_Frac20_bad\r\n",
      "MR.F.13C-Ami.D3.R2_Frac10_60\tMR.F.13C-Ami.D3.R2_Frac10\r\n",
      "MR.F.13C-Ami.D3.R2_Frac14_61\tMR.F.13C-Ami.D3.R2_Frac14\r\n",
      "MR.F.13C-Ami.D1.R1_Frac7_62\tMR.F.13C-Ami.D1.R1_Frac7\r\n",
      "MR.F.13C-Ami.D1.R1_Frac12_63\tMR.F.13C-Ami.D1.R1_Frac12\r\n",
      "MR.F.13C-Van.D14.R2_Frac10_64\tMR.F.13C-Van.D14.R2_Frac10\r\n",
      "MR.M.13C-Xyl.D3.R1_Frac20_bad_65\tMR.M.13C-Xyl.D3.R1_Frac20_bad\r\n",
      "MR.F.13C-Ami.D3.R2_Frac22_66\tMR.F.13C-Ami.D3.R2_Frac22\r\n",
      "MR.F.13C-Van.D14.R2_Frac26_67\tMR.F.13C-Van.D14.R2_Frac26\r\n",
      "MR.M.13C-Xyl.D3.R1_Frac20_bad_68\tMR.M.13C-Xyl.D3.R1_Frac20_bad\r\n",
      "MR.F.13C-Ami.D3.R2_Frac17_69\tMR.F.13C-Ami.D3.R2_Frac17\r\n",
      "MR.F.13C-Ami.D3.R2_Frac11_70\tMR.F.13C-Ami.D3.R2_Frac11\r\n",
      "MR.F.13C-Van.D14.R2_Frac17_71\tMR.F.13C-Van.D14.R2_Frac17\r\n",
      "MR.F.13C-Van.D14.R2_Frac13_72\tMR.F.13C-Van.D14.R2_Frac13\r\n",
      "MR.F.13C-Van.D14.R2_Frac7_73\tMR.F.13C-Van.D14.R2_Frac7\r\n",
      "MR.F.13C-Ami.D1.R1_Frac11_74\tMR.F.13C-Ami.D1.R1_Frac11\r\n",
      "MR.M.13C-Xyl.D3.R1_Frac20_bad_46\tMR.M.13C-Xyl.D3.R1_Frac20_bad\r\n",
      "MR.M.13C-Xyl.D3.R1_Frac20_bad_34\tMR.M.13C-Xyl.D3.R1_Frac20_bad\r\n",
      "MR.F.13C-Ami.D1.R1_Frac7_45\tMR.F.13C-Ami.D1.R1_Frac7\r\n",
      "MR.F.13C-Ami.D3.R2_Frac26_77\tMR.F.13C-Ami.D3.R2_Frac26\r\n",
      "MR.M.13C-Xyl.D3.R1_Frac20_bad_79\tMR.M.13C-Xyl.D3.R1_Frac20_bad\r\n",
      "MR.F.13C-Ami.D1.R1_Frac6_80\tMR.F.13C-Ami.D1.R1_Frac6\r\n",
      "MR.F.13C-Ami.D3.R2_Frac7_18\tMR.F.13C-Ami.D3.R2_Frac7\r\n",
      "MR.F.13C-Ami.D1.R1_Frac15_17\tMR.F.13C-Ami.D1.R1_Frac15\r\n",
      "MR.F.13C-Ami.D3.R2_Frac10_83\tMR.F.13C-Ami.D3.R2_Frac10\r\n",
      "MR.F.13C-Ami.D3.R2_Frac27_bad_84\tMR.F.13C-Ami.D3.R2_Frac27_bad\r\n",
      "MR.F.13C-Ami.D3.R2_Frac15_85\tMR.F.13C-Ami.D3.R2_Frac15\r\n",
      "MR.F.13C-Ami.D1.R1_Frac16_86\tMR.F.13C-Ami.D1.R1_Frac16\r\n",
      "MR.M.13C-Xyl.D3.R1_Frac20_bad_87\tMR.M.13C-Xyl.D3.R1_Frac20_bad\r\n",
      "MR.F.13C-Ami.D3.R2_Frac28_76\tMR.F.13C-Ami.D3.R2_Frac28\r\n",
      "MR.F.13C-Ami.D3.R2_Frac15_75\tMR.F.13C-Ami.D3.R2_Frac15\r\n",
      "MR.F.13C-Ami.D3.R2_Frac17_90\tMR.F.13C-Ami.D3.R2_Frac17\r\n",
      "MR.M.13C-Xyl.D3.R1_Frac20_bad_91\tMR.M.13C-Xyl.D3.R1_Frac20_bad\r\n",
      "MR.F.13C-Ami.D3.R2_Frac19_92\tMR.F.13C-Ami.D3.R2_Frac19\r\n",
      "MR.F.13C-Van.D14.R2_Frac17_88\tMR.F.13C-Van.D14.R2_Frac17\r\n",
      "MR.M.13C-Xyl.D3.R1_Frac15_89\tMR.M.13C-Xyl.D3.R1_Frac15\r\n",
      "MR.M.13C-Xyl.D3.R1_Frac28_95\tMR.M.13C-Xyl.D3.R1_Frac28\r\n",
      "MR.F.13C-Ami.D3.R2_Frac13_96\tMR.F.13C-Ami.D3.R2_Frac13\r\n",
      "MR.F.13C-Ami.D3.R2_Frac14_58\tMR.F.13C-Ami.D3.R2_Frac14\r\n",
      "MR.F.13C-Ami.D1.R1_Frac7_59\tMR.F.13C-Ami.D1.R1_Frac7\r\n",
      "MR.F.13C-Ami.D3.R2_Frac20_99\tMR.F.13C-Ami.D3.R2_Frac20\r\n",
      "MR.F.13C-Ami.D3.R2_Frac13_100\tMR.F.13C-Ami.D3.R2_Frac13\r\n",
      "MR.F.13C-Van.D14.R2_Frac17_78\tMR.F.13C-Van.D14.R2_Frac17\r\n",
      "MR.F.13C-Ami.D3.R2_Frac10_98\tMR.F.13C-Ami.D3.R2_Frac10\r\n",
      "MR.M.13C-Xyl.D3.R1_Frac20_bad_81\tMR.M.13C-Xyl.D3.R1_Frac20_bad\r\n",
      "MR.F.13C-Ami.D3.R2_Frac13_103\tMR.F.13C-Ami.D3.R2_Frac13\r\n",
      "MR.F.13C-Ami.D3.R2_Frac27_bad_97\tMR.F.13C-Ami.D3.R2_Frac27_bad\r\n",
      "MR.M.13C-Xyl.D3.R1_Frac20_bad_104\tMR.M.13C-Xyl.D3.R1_Frac20_bad\r\n",
      "MR.F.13C-Ami.D3.R2_Frac27_bad_107\tMR.F.13C-Ami.D3.R2_Frac27_bad\r\n",
      "MR.M.13C-Xyl.D3.R1_Frac20_bad_108\tMR.M.13C-Xyl.D3.R1_Frac20_bad\r\n",
      "MR.F.13C-Ami.D3.R2_Frac29_109\tMR.F.13C-Ami.D3.R2_Frac29\r\n",
      "MR.F.13C-Ami.D3.R2_Frac14_110\tMR.F.13C-Ami.D3.R2_Frac14\r\n",
      "MR.M.13C-Xyl.D3.R1_Frac21_111\tMR.M.13C-Xyl.D3.R1_Frac21\r\n",
      "MR.F.13C-Van.D14.R2_Frac13_112\tMR.F.13C-Van.D14.R2_Frac13\r\n",
      "MR.F.13C-Ami.D3.R2_Frac10_113\tMR.F.13C-Ami.D3.R2_Frac10\r\n",
      "MR.F.13C-Ami.D3.R2_Frac10_114\tMR.F.13C-Ami.D3.R2_Frac10\r\n",
      "MR.F.13C-Van.D14.R2_Frac18_115\tMR.F.13C-Van.D14.R2_Frac18\r\n",
      "MR.F.13C-Ami.D1.R1_Frac9_116\tMR.F.13C-Ami.D1.R1_Frac9\r\n",
      "MR.F.13C-Ami.D1.R1_Frac12_106\tMR.F.13C-Ami.D1.R1_Frac12\r\n",
      "MR.F.13C-Ami.D1.R1_Frac24_82\tMR.F.13C-Ami.D1.R1_Frac24\r\n",
      "MR.F.13C-Ami.D3.R2_Frac27_bad_119\tMR.F.13C-Ami.D3.R2_Frac27_bad\r\n",
      "MR.F.13C-Ami.D3.R2_Frac11_118\tMR.F.13C-Ami.D3.R2_Frac11\r\n",
      "MR.M.13C-Xyl.D3.R1_Frac28_117\tMR.M.13C-Xyl.D3.R1_Frac28\r\n",
      "MR.F.13C-Ami.D3.R2_Frac13_122\tMR.F.13C-Ami.D3.R2_Frac13\r\n",
      "MR.F.13C-Ami.D3.R2_Frac19_123\tMR.F.13C-Ami.D3.R2_Frac19\r\n",
      "MR.F.13C-Ami.D1.R1_Frac14_105\tMR.F.13C-Ami.D1.R1_Frac14\r\n",
      "MR.F.13C-Ami.D3.R2_Frac27_bad_120\tMR.F.13C-Ami.D3.R2_Frac27_bad\r\n",
      "MR.F.13C-Ami.D3.R2_Frac13_93\tMR.F.13C-Ami.D3.R2_Frac13\r\n",
      "MR.F.13C-Ami.D3.R2_Frac27_bad_94\tMR.F.13C-Ami.D3.R2_Frac27_bad\r\n",
      "MR.M.13C-Xyl.D3.R1_Frac20_bad_127\tMR.M.13C-Xyl.D3.R1_Frac20_bad\r\n",
      "MR.M.13C-Xyl.D3.R1_Frac20_bad_101\tMR.M.13C-Xyl.D3.R1_Frac20_bad\r\n",
      "MR.F.13C-Van.D14.R2_Frac18_121\tMR.F.13C-Van.D14.R2_Frac18\r\n",
      "MR.F.13C-Ami.D3.R2_Frac27_bad_130\tMR.F.13C-Ami.D3.R2_Frac27_bad\r\n",
      "MR.F.13C-Ami.D3.R2_Frac10_124\tMR.F.13C-Ami.D3.R2_Frac10\r\n",
      "MR.F.13C-Ami.D3.R2_Frac19_125\tMR.F.13C-Ami.D3.R2_Frac19\r\n",
      "MR.F.13C-Ami.D1.R1_Frac11_134\tMR.F.13C-Ami.D1.R1_Frac11\r\n",
      "MR.F.13C-Ami.D1.R1_Frac25_135\tMR.F.13C-Ami.D1.R1_Frac25\r\n",
      "MR.F.13C-Ami.D3.R2_Frac27_bad_136\tMR.F.13C-Ami.D3.R2_Frac27_bad\r\n",
      "MR.F.13C-Ami.D3.R2_Frac19_133\tMR.F.13C-Ami.D3.R2_Frac19\r\n",
      "MR.M.13C-Xyl.D3.R1_Frac6_132\tMR.M.13C-Xyl.D3.R1_Frac6\r\n",
      "MR.F.13C-Ami.D3.R2_Frac27_bad_137\tMR.F.13C-Ami.D3.R2_Frac27_bad\r\n",
      "MR.M.13C-Xyl.D3.R1_Frac21_138\tMR.M.13C-Xyl.D3.R1_Frac21\r\n",
      "MR.M.13C-Xyl.D3.R1_Frac22_141\tMR.M.13C-Xyl.D3.R1_Frac22\r\n",
      "MR.M.13C-Xyl.D3.R1_Frac19_142\tMR.M.13C-Xyl.D3.R1_Frac19\r\n",
      "MR.M.13C-Xyl.D3.R1_Frac8_129\tMR.M.13C-Xyl.D3.R1_Frac8\r\n",
      "MR.F.13C-Ami.D3.R2_Frac27_bad_128\tMR.F.13C-Ami.D3.R2_Frac27_bad\r\n",
      "MR.M.13C-Xyl.D3.R1_Frac25_140\tMR.M.13C-Xyl.D3.R1_Frac25\r\n",
      "MR.F.13C-Ami.D1.R1_Frac18_126\tMR.F.13C-Ami.D1.R1_Frac18\r\n",
      "MR.M.13C-Xyl.D3.R1_Frac20_bad_143\tMR.M.13C-Xyl.D3.R1_Frac20_bad\r\n",
      "MR.M.13C-Xyl.D3.R1_Frac20_bad_144\tMR.M.13C-Xyl.D3.R1_Frac20_bad\r\n",
      "MR.F.13C-Van.D14.R2_Frac6_149\tMR.F.13C-Van.D14.R2_Frac6\r\n",
      "MR.F.13C-Ami.D3.R2_Frac26_150\tMR.F.13C-Ami.D3.R2_Frac26\r\n",
      "MR.M.13C-Xyl.D3.R1_Frac20_bad_151\tMR.M.13C-Xyl.D3.R1_Frac20_bad\r\n",
      "MR.F.13C-Ami.D1.R1_Frac24_152\tMR.F.13C-Ami.D1.R1_Frac24\r\n",
      "MR.F.13C-Ami.D3.R2_Frac13_153\tMR.F.13C-Ami.D3.R2_Frac13\r\n",
      "MR.M.13C-Xyl.D3.R1_Frac20_bad_154\tMR.M.13C-Xyl.D3.R1_Frac20_bad\r\n",
      "MR.M.13C-Xyl.D3.R1_Frac20_bad_155\tMR.M.13C-Xyl.D3.R1_Frac20_bad\r\n",
      "MR.F.13C-Ami.D3.R2_Frac27_bad_156\tMR.F.13C-Ami.D3.R2_Frac27_bad\r\n",
      "MR.M.13C-Xyl.D3.R1_Frac22_157\tMR.M.13C-Xyl.D3.R1_Frac22\r\n",
      "MR.M.13C-Xyl.D3.R1_Frac20_bad_139\tMR.M.13C-Xyl.D3.R1_Frac20_bad\r\n",
      "MR.F.13C-Ami.D3.R2_Frac10_147\tMR.F.13C-Ami.D3.R2_Frac10\r\n",
      "MR.F.13C-Ami.D3.R2_Frac27_bad_159\tMR.F.13C-Ami.D3.R2_Frac27_bad\r\n",
      "MR.F.13C-Van.D14.R2_Frac6_158\tMR.F.13C-Van.D14.R2_Frac6\r\n",
      "MR.M.13C-Xyl.D3.R1_Frac20_bad_162\tMR.M.13C-Xyl.D3.R1_Frac20_bad\r\n",
      "MR.F.13C-Ami.D3.R2_Frac19_163\tMR.F.13C-Ami.D3.R2_Frac19\r\n",
      "MR.F.13C-Ami.D3.R2_Frac10_164\tMR.F.13C-Ami.D3.R2_Frac10\r\n",
      "MR.F.13C-Ami.D3.R2_Frac12_165\tMR.F.13C-Ami.D3.R2_Frac12\r\n",
      "MR.F.13C-Ami.D3.R2_Frac27_bad_166\tMR.F.13C-Ami.D3.R2_Frac27_bad\r\n",
      "MR.M.13C-Xyl.D3.R1_Frac20_bad_167\tMR.M.13C-Xyl.D3.R1_Frac20_bad\r\n",
      "MR.F.13C-Ami.D3.R2_Frac27_bad_168\tMR.F.13C-Ami.D3.R2_Frac27_bad\r\n",
      "MR.F.13C-Ami.D3.R2_Frac26_169\tMR.F.13C-Ami.D3.R2_Frac26\r\n",
      "MR.M.13C-Xyl.D3.R1_Frac16_161\tMR.M.13C-Xyl.D3.R1_Frac16\r\n",
      "MR.F.13C-Ami.D3.R2_Frac27_bad_160\tMR.F.13C-Ami.D3.R2_Frac27_bad\r\n",
      "MR.F.13C-Van.D14.R2_Frac17_172\tMR.F.13C-Van.D14.R2_Frac17\r\n",
      "MR.F.13C-Ami.D3.R2_Frac9_170\tMR.F.13C-Ami.D3.R2_Frac9\r\n",
      "MR.M.13C-Xyl.D3.R1_Frac20_bad_171\tMR.M.13C-Xyl.D3.R1_Frac20_bad\r\n",
      "MR.M.13C-Xyl.D3.R1_Frac21_175\tMR.M.13C-Xyl.D3.R1_Frac21\r\n",
      "MR.M.13C-Xyl.D3.R1_Frac20_bad_176\tMR.M.13C-Xyl.D3.R1_Frac20_bad\r\n",
      "MR.F.13C-Ami.D3.R2_Frac27_bad_177\tMR.F.13C-Ami.D3.R2_Frac27_bad\r\n",
      "MR.F.13C-Van.D14.R2_Frac11_178\tMR.F.13C-Van.D14.R2_Frac11\r\n",
      "MR.F.13C-Ami.D3.R2_Frac27_bad_179\tMR.F.13C-Ami.D3.R2_Frac27_bad\r\n",
      "MR.F.13C-Ami.D1.R1_Frac14_180\tMR.F.13C-Ami.D1.R1_Frac14\r\n",
      "MR.F.13C-Ami.D1.R1_Frac25_181\tMR.F.13C-Ami.D1.R1_Frac25\r\n",
      "MR.M.13C-Xyl.D3.R1_Frac20_bad_182\tMR.M.13C-Xyl.D3.R1_Frac20_bad\r\n",
      "MR.F.13C-Van.D14.R2_Frac20_183\tMR.F.13C-Van.D14.R2_Frac20\r\n",
      "MR.F.13C-Van.D14.R2_Frac18_184\tMR.F.13C-Van.D14.R2_Frac18\r\n",
      "MR.F.13C-Ami.D3.R2_Frac27_bad_185\tMR.F.13C-Ami.D3.R2_Frac27_bad\r\n",
      "MR.F.13C-Ami.D1.R1_Frac13_186\tMR.F.13C-Ami.D1.R1_Frac13\r\n",
      "MR.F.13C-Ami.D3.R2_Frac27_bad_187\tMR.F.13C-Ami.D3.R2_Frac27_bad\r\n",
      "MR.F.13C-Ami.D1.R1_Frac24_188\tMR.F.13C-Ami.D1.R1_Frac24\r\n",
      "MR.F.13C-Ami.D1.R1_Frac25_189\tMR.F.13C-Ami.D1.R1_Frac25\r\n",
      "MR.F.13C-Ami.D3.R2_Frac19_190\tMR.F.13C-Ami.D3.R2_Frac19\r\n",
      "MR.M.13C-Xyl.D3.R1_Frac16_148\tMR.M.13C-Xyl.D3.R1_Frac16\r\n",
      "MR.F.13C-Van.D14.R2_Frac15_145\tMR.F.13C-Van.D14.R2_Frac15\r\n",
      "MR.M.13C-Xyl.D3.R1_Frac20_bad_146\tMR.M.13C-Xyl.D3.R1_Frac20_bad\r\n",
      "MR.F.13C-Ami.D3.R2_Frac11_194\tMR.F.13C-Ami.D3.R2_Frac11\r\n",
      "MR.F.13C-Ami.D3.R2_Frac27_bad_131\tMR.F.13C-Ami.D3.R2_Frac27_bad\r\n",
      "MR.F.13C-Ami.D1.R1_Frac11_173\tMR.F.13C-Ami.D1.R1_Frac11\r\n",
      "MR.M.13C-Xyl.D3.R1_Frac26_192\tMR.M.13C-Xyl.D3.R1_Frac26\r\n",
      "MR.M.13C-Xyl.D3.R1_Frac20_bad_191\tMR.M.13C-Xyl.D3.R1_Frac20_bad\r\n",
      "MR.F.13C-Ami.D3.R2_Frac27_bad_200\tMR.F.13C-Ami.D3.R2_Frac27_bad\r\n",
      "MR.F.13C-Ami.D3.R2_Frac27_bad_201\tMR.F.13C-Ami.D3.R2_Frac27_bad\r\n",
      "MR.F.13C-Ami.D3.R2_Frac22_202\tMR.F.13C-Ami.D3.R2_Frac22\r\n",
      "MR.F.13C-Ami.D3.R2_Frac27_bad_203\tMR.F.13C-Ami.D3.R2_Frac27_bad\r\n",
      "MR.F.13C-Ami.D3.R2_Frac16_204\tMR.F.13C-Ami.D3.R2_Frac16\r\n",
      "MR.F.13C-Ami.D3.R2_Frac27_bad_205\tMR.F.13C-Ami.D3.R2_Frac27_bad\r\n",
      "MR.F.13C-Ami.D1.R1_Frac11_206\tMR.F.13C-Ami.D1.R1_Frac11\r\n",
      "MR.M.13C-Xyl.D3.R1_Frac20_bad_207\tMR.M.13C-Xyl.D3.R1_Frac20_bad\r\n"
     ]
    }
   ],
   "source": [
    "! head -n 200 group_file.txt"
   ]
  },
  {
   "cell_type": "code",
   "execution_count": 14,
   "metadata": {
    "collapsed": false
   },
   "outputs": [
    {
     "name": "stdout",
     "output_type": "stream",
     "text": [
      "1616000\t1164882\r\n",
      "1617000\t1165494\r\n",
      "1618000\t1166112\r\n",
      "1619000\t1166724\r\n",
      "1620000\t1167369\r\n",
      "1621000\t1168018\r\n",
      "1622000\t1168657\r\n",
      "1623000\t1169300\r\n",
      "1624000\t1169956\r\n",
      "1625000\t1170621\r\n",
      "1626000\t1171282\r\n",
      "1627000\t1171931\r\n",
      "1628000\t1172613\r\n",
      "1629000\t1173264\r\n",
      "1630000\t1173907\r\n",
      "1631000\t1174587\r\n",
      "1632000\t1175263\r\n",
      "1633000\t1175932\r\n",
      "1634000\t1176614\r\n",
      "1635000\t1177293\r\n",
      "1636000\t1178064\r\n",
      "1637000\t1178858\r\n",
      "1637595\t1179372\r\n",
      "\r\n",
      "Output File Names: \r\n",
      "pear_merged-160506_FC2Grad_1.assembled.dmult_maxee1_noN.names\r\n",
      "pear_merged-160506_FC2Grad_1.assembled.dmult_maxee1_noN.unique.fasta\r\n",
      "\r\n",
      "\r\n",
      "mothur > quit()\r\n"
     ]
    }
   ],
   "source": [
    "# unique sequences\n",
    "cmd = 'mothur \"#unique.seqs(fasta={})\"'.format(qcFile2)\n",
    "!$cmd | tail -n 30"
   ]
  },
  {
   "cell_type": "code",
   "execution_count": 15,
   "metadata": {
    "collapsed": false
   },
   "outputs": [
    {
     "name": "stdout",
     "output_type": "stream",
     "text": [
      "Number of unique sequences: 1179372\n"
     ]
    }
   ],
   "source": [
    "qcFile3 = os.path.splitext(qcFile2)[0] + '.unique.fasta'\n",
    "n_uniq = !grep -c \">\" $qcFile3\n",
    "print ('Number of unique sequences: {}'.format(n_uniq[0]))"
   ]
  },
  {
   "cell_type": "code",
   "execution_count": 16,
   "metadata": {
    "collapsed": false
   },
   "outputs": [
    {
     "name": "stdout",
     "output_type": "stream",
     "text": [
      "-rw-rw-r-- 1 sam sam 93M May 14 16:13 pear_merged-160506_FC2Grad_1.assembled.dmult_maxee1_noN.names\r\n"
     ]
    }
   ],
   "source": [
    "# name file produced by unique.seqs()\n",
    "nameFile = os.path.splitext(qcFile2)[0] + '.names'\n",
    "!ls -thlc $nameFile"
   ]
  },
  {
   "cell_type": "code",
   "execution_count": 17,
   "metadata": {
    "collapsed": false
   },
   "outputs": [
    {
     "name": "stdout",
     "output_type": "stream",
     "text": [
      "silva.seed_v132.tax\n",
      "silva.seed_v132.align\n",
      "README.md\n"
     ]
    },
    {
     "name": "stderr",
     "output_type": "stream",
     "text": [
      "--2018-05-14 16:14:22--  https://www.mothur.org/w/images/7/71/Silva.seed_v132.tgz\n",
      "Resolving www.mothur.org (www.mothur.org)... 141.214.120.22\n",
      "Connecting to www.mothur.org (www.mothur.org)|141.214.120.22|:443... connected.\n",
      "HTTP request sent, awaiting response... 200 OK\n",
      "Length: 19623900 (19M) [application/x-gzip]\n",
      "Saving to: ‘Silva.seed_v132.tgz’\n",
      "\n",
      "     0K .......... .......... .......... .......... ..........  0% 1.89M 10s\n",
      "    50K .......... .......... .......... .......... ..........  0%  992K 15s\n",
      "   100K .......... .......... .......... .......... ..........  0% 1.88M 13s\n",
      "   150K .......... .......... .......... .......... ..........  1%  997K 14s\n",
      "   200K .......... .......... .......... .......... ..........  1% 1.89M 13s\n",
      "   250K .......... .......... .......... .......... ..........  1%  996K 14s\n",
      "   300K .......... .......... .......... .......... ..........  1% 1.84M 14s\n",
      "   350K .......... .......... .......... .......... ..........  2%  995K 14s\n",
      "   400K .......... .......... .......... .......... ..........  2% 1006K 15s\n",
      "   450K .......... .......... .......... .......... ..........  2% 1.86M 14s\n",
      "   500K .......... .......... .......... .......... ..........  2% 1007K 15s\n",
      "   550K .......... .......... .......... .......... ..........  3% 1.85M 14s\n",
      "   600K .......... .......... .......... .......... ..........  3% 1008K 14s\n",
      "   650K .......... .......... .......... .......... ..........  3% 1.87M 14s\n",
      "   700K .......... .......... .......... .......... ..........  3%  994K 14s\n",
      "   750K .......... .......... .......... .......... ..........  4% 1.91M 14s\n",
      "   800K .......... .......... .......... .......... ..........  4%  992K 14s\n",
      "   850K .......... .......... .......... .......... ..........  4% 1002K 14s\n",
      "   900K .......... .......... .......... .......... ..........  4% 1.89M 14s\n",
      "   950K .......... .......... .......... .......... ..........  5%  991K 14s\n",
      "  1000K .......... .......... .......... .......... ..........  5% 1.89M 14s\n",
      "  1050K .......... .......... .......... .......... ..........  5%  996K 14s\n",
      "  1100K .......... .......... .......... .......... ..........  6%  994K 14s\n",
      "  1150K .......... .......... .......... .......... ..........  6% 1.89M 14s\n",
      "  1200K .......... .......... .......... .......... ..........  6%  993K 14s\n",
      "  1250K .......... .......... .......... .......... ..........  6% 1.83M 14s\n",
      "  1300K .......... .......... .......... .......... ..........  7% 1014K 14s\n",
      "  1350K .......... .......... .......... .......... ..........  7% 1.85M 14s\n",
      "  1400K .......... .......... .......... .......... ..........  7%  999K 14s\n",
      "  1450K .......... .......... .......... .......... ..........  7% 1.86M 14s\n",
      "  1500K .......... .......... .......... .......... ..........  8% 1007K 14s\n",
      "  1550K .......... .......... .......... .......... ..........  8%  991K 14s\n",
      "  1600K .......... .......... .......... .......... ..........  8% 1.89M 14s\n",
      "  1650K .......... .......... .......... .......... ..........  8% 1003K 14s\n",
      "  1700K .......... .......... .......... .......... ..........  9% 1.85M 14s\n",
      "  1750K .......... .......... .......... .......... ..........  9% 1010K 14s\n",
      "  1800K .......... .......... .......... .......... ..........  9% 1.86M 14s\n",
      "  1850K .......... .......... .......... .......... ..........  9% 1012K 14s\n",
      "  1900K .......... .......... .......... .......... .......... 10% 1.87M 13s\n",
      "  1950K .......... .......... .......... .......... .......... 10%  996K 13s\n",
      "  2000K .......... .......... .......... .......... .......... 10% 1006K 14s\n",
      "  2050K .......... .......... .......... .......... .......... 10% 1.86M 13s\n",
      "  2100K .......... .......... .......... .......... .......... 11% 1004K 13s\n",
      "  2150K .......... .......... .......... .......... .......... 11% 1.91M 13s\n",
      "  2200K .......... .......... .......... .......... .......... 11%  993K 13s\n",
      "  2250K .......... .......... .......... .......... .......... 12% 1.85M 13s\n",
      "  2300K .......... .......... .......... .......... .......... 12% 1.86M 13s\n",
      "  2350K .......... .......... .......... .......... .......... 12%  993K 13s\n",
      "  2400K .......... .......... .......... .......... .......... 12% 1.90M 13s\n",
      "  2450K .......... .......... .......... .......... .......... 13%  997K 13s\n",
      "  2500K .......... .......... .......... .......... .......... 13% 1.88M 13s\n",
      "  2550K .......... .......... .......... .......... .......... 13% 1.88M 13s\n",
      "  2600K .......... .......... .......... .......... .......... 13% 1.87M 13s\n",
      "  2650K .......... .......... .......... .......... .......... 14%  999K 13s\n",
      "  2700K .......... .......... .......... .......... .......... 14% 1.87M 13s\n",
      "  2750K .......... .......... .......... .......... .......... 14%  993K 13s\n",
      "  2800K .......... .......... .......... .......... .......... 14% 1.88M 12s\n",
      "  2850K .......... .......... .......... .......... .......... 15% 1.87M 12s\n",
      "  2900K .......... .......... .......... .......... .......... 15% 1.90M 12s\n",
      "  2950K .......... .......... .......... .......... .......... 15%  997K 12s\n",
      "  3000K .......... .......... .......... .......... .......... 15% 1.88M 12s\n",
      "  3050K .......... .......... .......... .......... .......... 16% 1.56M 12s\n",
      "  3100K .......... .......... .......... .......... .......... 16% 1.08M 12s\n",
      "  3150K .......... .......... .......... .......... .......... 16% 1.90M 12s\n",
      "  3200K .......... .......... .......... .......... .......... 16%  991K 12s\n",
      "  3250K .......... .......... .......... .......... .......... 17% 1.89M 12s\n",
      "  3300K .......... .......... .......... .......... .......... 17% 1.90M 12s\n",
      "  3350K .......... .......... .......... .......... .......... 17%  969K 12s\n",
      "  3400K .......... .......... .......... .......... .......... 18% 1.56M 12s\n",
      "  3450K .......... .......... .......... .......... .......... 18% 1.90M 12s\n",
      "  3500K .......... .......... .......... .......... .......... 18% 1.89M 12s\n",
      "  3550K .......... .......... .......... .......... .......... 18%  995K 12s\n",
      "  3600K .......... .......... .......... .......... .......... 19% 1.91M 12s\n",
      "  3650K .......... .......... .......... .......... .......... 19% 1.89M 11s\n",
      "  3700K .......... .......... .......... .......... .......... 19% 1.92M 11s\n",
      "  3750K .......... .......... .......... .......... .......... 19% 1.75M 11s\n",
      "  3800K .......... .......... .......... .......... .......... 20% 1.90M 11s\n",
      "  3850K .......... .......... .......... .......... .......... 20% 1004K 11s\n",
      "  3900K .......... .......... .......... .......... .......... 20% 1.59M 11s\n",
      "  3950K .......... .......... .......... .......... .......... 20% 1.92M 11s\n",
      "  4000K .......... .......... .......... .......... .......... 21% 1.55M 11s\n",
      "  4050K .......... .......... .......... .......... .......... 21% 1.63M 11s\n",
      "  4100K .......... .......... .......... .......... .......... 21% 1013K 11s\n",
      "  4150K .......... .......... .......... .......... .......... 21% 1.51M 11s\n",
      "  4200K .......... .......... .......... .......... .......... 22% 1.91M 11s\n",
      "  4250K .......... .......... .......... .......... .......... 22% 1.87M 11s\n",
      "  4300K .......... .......... .......... .......... .......... 22%  781K 11s\n",
      "  4350K .......... .......... .......... .......... .......... 22% 1.21M 11s\n",
      "  4400K .......... .......... .......... .......... .......... 23% 1.89M 11s\n",
      "  4450K .......... .......... .......... .......... .......... 23% 1.88M 11s\n",
      "  4500K .......... .......... .......... .......... .......... 23% 1.89M 11s\n",
      "  4550K .......... .......... .......... .......... .......... 24% 1.85M 11s\n",
      "  4600K .......... .......... .......... .......... .......... 24% 1001K 11s\n",
      "  4650K .......... .......... .......... .......... .......... 24% 1.88M 11s\n",
      "  4700K .......... .......... .......... .......... .......... 24% 1.86M 10s\n",
      "  4750K .......... .......... .......... .......... .......... 25% 1.90M 10s\n",
      "  4800K .......... .......... .......... .......... .......... 25% 1.86M 10s\n",
      "  4850K .......... .......... .......... .......... .......... 25%  979K 10s\n",
      "  4900K .......... .......... .......... .......... .......... 25% 1.88M 10s\n",
      "  4950K .......... .......... .......... .......... .......... 26% 1.67M 10s\n",
      "  5000K .......... .......... .......... .......... .......... 26% 1.71M 10s\n",
      "  5050K .......... .......... .......... .......... .......... 26% 1.73M 10s\n",
      "  5100K .......... .......... .......... .......... .......... 26% 1.73M 10s\n",
      "  5150K .......... .......... .......... .......... .......... 27% 1.90M 10s\n",
      "  5200K .......... .......... .......... .......... .......... 27% 1.87M 10s\n",
      "  5250K .......... .......... .......... .......... .......... 27% 1.90M 10s\n",
      "  5300K .......... .......... .......... .......... .......... 27% 1012K 10s\n",
      "  5350K .......... .......... .......... .......... .......... 28% 1.90M 10s\n",
      "  5400K .......... .......... .......... .......... .......... 28% 1.91M 10s\n",
      "  5450K .......... .......... .......... .......... .......... 28% 1.91M 10s\n",
      "  5500K .......... .......... .......... .......... .......... 28% 1.92M 10s\n",
      "  5550K .......... .......... .......... .......... .......... 29% 1.87M 10s\n",
      "  5600K .......... .......... .......... .......... .......... 29% 1.92M 9s\n",
      "  5650K .......... .......... .......... .......... .......... 29% 1.86M 9s\n",
      "  5700K .......... .......... .......... .......... .......... 30% 1.90M 9s\n",
      "  5750K .......... .......... .......... .......... .......... 30% 1.91M 9s\n",
      "  5800K .......... .......... .......... .......... .......... 30% 1.90M 9s\n",
      "  5850K .......... .......... .......... .......... .......... 30% 1.87M 9s\n",
      "  5900K .......... .......... .......... .......... .......... 31% 1.90M 9s\n",
      "  5950K .......... .......... .......... .......... .......... 31% 1.89M 9s\n",
      "  6000K .......... .......... .......... .......... .......... 31% 1.92M 9s\n",
      "  6050K .......... .......... .......... .......... .......... 31% 1.91M 9s\n",
      "  6100K .......... .......... .......... .......... .......... 32% 1.86M 9s\n",
      "  6150K .......... .......... .......... .......... .......... 32% 1.93M 9s\n",
      "  6200K .......... .......... .......... .......... .......... 32% 1.88M 9s\n",
      "  6250K .......... .......... .......... .......... .......... 32% 1.90M 9s\n",
      "  6300K .......... .......... .......... .......... .......... 33% 1.90M 9s\n",
      "  6350K .......... .......... .......... .......... .......... 33% 1.92M 9s\n",
      "  6400K .......... .......... .......... .......... .......... 33% 1010K 9s\n",
      "  6450K .......... .......... .......... .......... .......... 33% 1.91M 9s\n",
      "  6500K .......... .......... .......... .......... .......... 34% 1.91M 9s\n",
      "  6550K .......... .......... .......... .......... .......... 34% 1.91M 9s\n",
      "  6600K .......... .......... .......... .......... .......... 34% 1.92M 8s\n",
      "  6650K .......... .......... .......... .......... .......... 34% 1.91M 8s\n",
      "  6700K .......... .......... .......... .......... .......... 35% 1.80M 8s\n",
      "  6750K .......... .......... .......... .......... .......... 35% 1.91M 8s\n",
      "  6800K .......... .......... .......... .......... .......... 35% 1.92M 8s\n",
      "  6850K .......... .......... .......... .......... .......... 36% 1.92M 8s\n",
      "  6900K .......... .......... .......... .......... .......... 36% 1.91M 8s\n",
      "  6950K .......... .......... .......... .......... .......... 36% 1.90M 8s\n",
      "  7000K .......... .......... .......... .......... .......... 36% 1.91M 8s\n",
      "  7050K .......... .......... .......... .......... .......... 37% 1.91M 8s\n",
      "  7100K .......... .......... .......... .......... .......... 37% 1.92M 8s\n",
      "  7150K .......... .......... .......... .......... .......... 37% 1.81M 8s\n",
      "  7200K .......... .......... .......... .......... .......... 37% 1.92M 8s\n",
      "  7250K .......... .......... .......... .......... .......... 38% 1.90M 8s\n",
      "  7300K .......... .......... .......... .......... .......... 38% 1.92M 8s\n",
      "  7350K .......... .......... .......... .......... .......... 38% 1.91M 8s\n",
      "  7400K .......... .......... .......... .......... .......... 38% 1.91M 8s\n",
      "  7450K .......... .......... .......... .......... .......... 39% 1.90M 8s\n",
      "  7500K .......... .......... .......... .......... .......... 39% 1.91M 8s\n",
      "  7550K .......... .......... .......... .......... .......... 39%  867K 8s\n",
      "  7600K .......... .......... .......... .......... .......... 39% 1.91M 8s\n",
      "  7650K .......... .......... .......... .......... .......... 40% 1.91M 8s\n",
      "  7700K .......... .......... .......... .......... .......... 40% 1.90M 8s\n",
      "  7750K .......... .......... .......... .......... .......... 40% 1.92M 7s\n",
      "  7800K .......... .......... .......... .......... .......... 40% 1.90M 7s\n",
      "  7850K .......... .......... .......... .......... .......... 41% 1.90M 7s\n",
      "  7900K .......... .......... .......... .......... .......... 41% 1.91M 7s\n",
      "  7950K .......... .......... .......... .......... .......... 41% 1.92M 7s\n",
      "  8000K .......... .......... .......... .......... .......... 42% 1.90M 7s\n",
      "  8050K .......... .......... .......... .......... .......... 42% 1.92M 7s\n",
      "  8100K .......... .......... .......... .......... .......... 42% 1.87M 7s\n",
      "  8150K .......... .......... .......... .......... .......... 42% 1.91M 7s\n",
      "  8200K .......... .......... .......... .......... .......... 43% 1.88M 7s\n",
      "  8250K .......... .......... .......... .......... .......... 43% 1.91M 7s\n",
      "  8300K .......... .......... .......... .......... .......... 43% 1.91M 7s\n",
      "  8350K .......... .......... .......... .......... .......... 43% 1.89M 7s\n",
      "  8400K .......... .......... .......... .......... .......... 44% 1.90M 7s\n",
      "  8450K .......... .......... .......... .......... .......... 44%  398K 7s\n",
      "  8500K .......... .......... .......... .......... .......... 44% 1.92M 7s\n",
      "  8550K .......... .......... .......... .......... .......... 44% 1.91M 7s\n",
      "  8600K .......... .......... .......... .......... .......... 45% 1.91M 7s\n",
      "  8650K .......... .......... .......... .......... .......... 45% 1.87M 7s\n",
      "  8700K .......... .......... .......... .......... .......... 45% 1.90M 7s\n",
      "  8750K .......... .......... .......... .......... .......... 45% 1.88M 7s\n",
      "  8800K .......... .......... .......... .......... .......... 46% 1.93M 7s\n",
      "  8850K .......... .......... .......... .......... .......... 46% 1.91M 7s\n",
      "  8900K .......... .......... .......... .......... .......... 46% 1.90M 7s\n",
      "  8950K .......... .......... .......... .......... .......... 46% 1.88M 7s\n",
      "  9000K .......... .......... .......... .......... .......... 47% 1.89M 7s\n",
      "  9050K .......... .......... .......... .......... .......... 47% 1.91M 7s\n",
      "  9100K .......... .......... .......... .......... .......... 47% 1.93M 6s\n",
      "  9150K .......... .......... .......... .......... .......... 48% 1.89M 6s\n",
      "  9200K .......... .......... .......... .......... .......... 48% 1.88M 6s\n",
      "  9250K .......... .......... .......... .......... .......... 48% 1.90M 6s\n",
      "  9300K .......... .......... .......... .......... .......... 48% 1.87M 6s\n",
      "  9350K .......... .......... .......... .......... .......... 49% 1.92M 6s\n",
      "  9400K .......... .......... .......... .......... .......... 49% 1.91M 6s\n",
      "  9450K .......... .......... .......... .......... .......... 49% 1.92M 6s\n",
      "  9500K .......... .......... .......... .......... .......... 49% 1.90M 6s\n",
      "  9550K .......... .......... .......... .......... .......... 50% 1.02M 6s\n",
      "  9600K .......... .......... .......... .......... .......... 50% 1.92M 6s\n",
      "  9650K .......... .......... .......... .......... .......... 50% 1.91M 6s\n",
      "  9700K .......... .......... .......... .......... .......... 50% 1.91M 6s\n",
      "  9750K .......... .......... .......... .......... .......... 51% 1.90M 6s\n",
      "  9800K .......... .......... .......... .......... .......... 51% 1.92M 6s\n",
      "  9850K .......... .......... .......... .......... .......... 51% 1.91M 6s\n",
      "  9900K .......... .......... .......... .......... .......... 51% 1.92M 6s\n",
      "  9950K .......... .......... .......... .......... .......... 52% 1.92M 6s\n",
      " 10000K .......... .......... .......... .......... .......... 52% 1.80M 6s\n",
      " 10050K .......... .......... .......... .......... .......... 52% 1.92M 6s\n",
      " 10100K .......... .......... .......... .......... .......... 52% 1.90M 6s\n",
      " 10150K .......... .......... .......... .......... .......... 53% 1.91M 6s\n",
      " 10200K .......... .......... .......... .......... .......... 53% 1.89M 6s\n",
      " 10250K .......... .......... .......... .......... .......... 53% 1.93M 6s\n",
      " 10300K .......... .......... .......... .......... .......... 54% 1.85M 6s\n",
      " 10350K .......... .......... .......... .......... .......... 54%  399K 6s\n",
      " 10400K .......... .......... .......... .......... .......... 54% 1.91M 6s\n",
      " 10450K .......... .......... .......... .......... .......... 54% 1.91M 6s\n",
      " 10500K .......... .......... .......... .......... .......... 55% 1.92M 6s\n",
      " 10550K .......... .......... .......... .......... .......... 55% 1.91M 5s\n",
      " 10600K .......... .......... .......... .......... .......... 55% 1.90M 5s\n",
      " 10650K .......... .......... .......... .......... .......... 55% 1.58M 5s\n",
      " 10700K .......... .......... .......... .......... .......... 56% 1.89M 5s\n",
      " 10750K .......... .......... .......... .......... .......... 56% 1.63M 5s\n",
      " 10800K .......... .......... .......... .......... .......... 56% 1.90M 5s\n",
      " 10850K .......... .......... .......... .......... .......... 56% 1.87M 5s\n",
      " 10900K .......... .......... .......... .......... .......... 57% 1.84M 5s\n",
      " 10950K .......... .......... .......... .......... .......... 57% 1.90M 5s\n",
      " 11000K .......... .......... .......... .......... .......... 57% 1.88M 5s\n",
      " 11050K .......... .......... .......... .......... .......... 57% 1.83M 5s\n",
      " 11100K .......... .......... .......... .......... .......... 58% 1.86M 5s\n",
      " 11150K .......... .......... .......... .......... .......... 58%  985K 5s\n",
      " 11200K .......... .......... .......... .......... .......... 58% 1.47M 5s\n",
      " 11250K .......... .......... .......... .......... .......... 58% 1.90M 5s\n",
      " 11300K .......... .......... .......... .......... .......... 59% 1.93M 5s\n",
      " 11350K .......... .......... .......... .......... .......... 59% 1.74M 5s\n",
      " 11400K .......... .......... .......... .......... .......... 59% 1.93M 5s\n",
      " 11450K .......... .......... .......... .......... .......... 60% 1.82M 5s\n",
      " 11500K .......... .......... .......... .......... .......... 60% 1.83M 5s\n",
      " 11550K .......... .......... .......... .......... .......... 60% 1.38M 5s\n",
      " 11600K .......... .......... .......... .......... .......... 60% 1.70M 5s\n",
      " 11650K .......... .......... .......... .......... .......... 61% 1.68M 5s\n",
      " 11700K .......... .......... .......... .......... .......... 61% 1.77M 5s\n",
      " 11750K .......... .......... .......... .......... .......... 61% 1.64M 5s\n",
      " 11800K .......... .......... .......... .......... .......... 61% 1.92M 5s\n",
      " 11850K .......... .......... .......... .......... .......... 62% 1.51M 5s\n",
      " 11900K .......... .......... .......... .......... .......... 62% 1.87M 5s\n",
      " 11950K .......... .......... .......... .......... .......... 62% 1.90M 5s\n",
      " 12000K .......... .......... .......... .......... .......... 62% 1.90M 4s\n",
      " 12050K .......... .......... .......... .......... .......... 63% 1.90M 4s\n",
      " 12100K .......... .......... .......... .......... .......... 63% 1.92M 4s\n",
      " 12150K .......... .......... .......... .......... .......... 63% 1.93M 4s\n",
      " 12200K .......... .......... .......... .......... .......... 63% 1.92M 4s\n",
      " 12250K .......... .......... .......... .......... .......... 64% 1.87M 4s\n",
      " 12300K .......... .......... .......... .......... .......... 64% 1.03M 4s\n",
      " 12350K .......... .......... .......... .......... .......... 64% 1.92M 4s\n",
      " 12400K .......... .......... .......... .......... .......... 64% 1.91M 4s\n",
      " 12450K .......... .......... .......... .......... .......... 65% 1.93M 4s\n",
      " 12500K .......... .......... .......... .......... .......... 65% 1.93M 4s\n",
      " 12550K .......... .......... .......... .......... .......... 65% 1.92M 4s\n",
      " 12600K .......... .......... .......... .......... .......... 66% 1.92M 4s\n",
      " 12650K .......... .......... .......... .......... .......... 66% 1.93M 4s\n",
      " 12700K .......... .......... .......... .......... .......... 66% 1.93M 4s\n",
      " 12750K .......... .......... .......... .......... .......... 66% 1.81M 4s\n",
      " 12800K .......... .......... .......... .......... .......... 67% 1.93M 4s\n",
      " 12850K .......... .......... .......... .......... .......... 67% 1.92M 4s\n",
      " 12900K .......... .......... .......... .......... .......... 67% 1.93M 4s\n",
      " 12950K .......... .......... .......... .......... .......... 67% 1.93M 4s\n",
      " 13000K .......... .......... .......... .......... .......... 68% 1.93M 4s\n",
      " 13050K .......... .......... .......... .......... .......... 68% 1.93M 4s\n",
      " 13100K .......... .......... .......... .......... .......... 68% 1.92M 4s\n",
      " 13150K .......... .......... .......... .......... .......... 68% 1.78M 4s\n",
      " 13200K .......... .......... .......... .......... .......... 69% 1.93M 4s\n",
      " 13250K .......... .......... .......... .......... .......... 69% 1.93M 4s\n",
      " 13300K .......... .......... .......... .......... .......... 69% 1.93M 4s\n",
      " 13350K .......... .......... .......... .......... .......... 69% 1.92M 4s\n",
      " 13400K .......... .......... .......... .......... .......... 70% 1.91M 4s\n",
      " 13450K .......... .......... .......... .......... .......... 70% 1.94M 4s\n",
      " 13500K .......... .......... .......... .......... .......... 70% 1.02M 3s\n",
      " 13550K .......... .......... .......... .......... .......... 70% 1.91M 3s\n",
      " 13600K .......... .......... .......... .......... .......... 71% 1.93M 3s\n",
      " 13650K .......... .......... .......... .......... .......... 71% 1.92M 3s\n",
      " 13700K .......... .......... .......... .......... .......... 71% 1.92M 3s\n",
      " 13750K .......... .......... .......... .......... .......... 72% 1.93M 3s\n",
      " 13800K .......... .......... .......... .......... .......... 72% 1.92M 3s\n",
      " 13850K .......... .......... .......... .......... .......... 72% 1.93M 3s\n",
      " 13900K .......... .......... .......... .......... .......... 72% 1.92M 3s\n",
      " 13950K .......... .......... .......... .......... .......... 73% 1.92M 3s\n",
      " 14000K .......... .......... .......... .......... .......... 73% 1.86M 3s\n",
      " 14050K .......... .......... .......... .......... .......... 73% 1.93M 3s\n",
      " 14100K .......... .......... .......... .......... .......... 73% 1.93M 3s\n",
      " 14150K .......... .......... .......... .......... .......... 74% 1.92M 3s\n",
      " 14200K .......... .......... .......... .......... .......... 74% 1.94M 3s\n",
      " 14250K .......... .......... .......... .......... .......... 74% 1.93M 3s\n",
      " 14300K .......... .......... .......... .......... .......... 74% 1.89M 3s\n",
      " 14350K .......... .......... .......... .......... .......... 75% 1.92M 3s\n",
      " 14400K .......... .......... .......... .......... .......... 75% 1.93M 3s\n",
      " 14450K .......... .......... .......... .......... .......... 75% 1.95M 3s\n",
      " 14500K .......... .......... .......... .......... .......... 75% 1.89M 3s\n",
      " 14550K .......... .......... .......... .......... .......... 76% 1.87M 3s\n",
      " 14600K .......... .......... .......... .......... .......... 76% 1.91M 3s\n",
      " 14650K .......... .......... .......... .......... .......... 76% 1.94M 3s\n",
      " 14700K .......... .......... .......... .......... .......... 76% 1005K 3s\n",
      " 14750K .......... .......... .......... .......... .......... 77% 35.4M 3s\n",
      " 14800K .......... .......... .......... .......... .......... 77% 1009K 3s\n",
      " 14850K .......... .......... .......... .......... .......... 77% 1.92M 3s\n",
      " 14900K .......... .......... .......... .......... .......... 78% 1.90M 3s\n",
      " 14950K .......... .......... .......... .......... .......... 78% 1.92M 3s\n",
      " 15000K .......... .......... .......... .......... .......... 78% 1.92M 3s\n",
      " 15050K .......... .......... .......... .......... .......... 78% 1.92M 2s\n",
      " 15100K .......... .......... .......... .......... .......... 79% 1.92M 2s\n",
      " 15150K .......... .......... .......... .......... .......... 79% 1.93M 2s\n",
      " 15200K .......... .......... .......... .......... .......... 79% 1.89M 2s\n",
      " 15250K .......... .......... .......... .......... .......... 79% 1.95M 2s\n",
      " 15300K .......... .......... .......... .......... .......... 80% 1.92M 2s\n",
      " 15350K .......... .......... .......... .......... .......... 80% 1.92M 2s\n",
      " 15400K .......... .......... .......... .......... .......... 80% 1.91M 2s\n",
      " 15450K .......... .......... .......... .......... .......... 80% 1.89M 2s\n",
      " 15500K .......... .......... .......... .......... .......... 81% 1.90M 2s\n",
      " 15550K .......... .......... .......... .......... .......... 81% 1.95M 2s\n",
      " 15600K .......... .......... .......... .......... .......... 81% 1.92M 2s\n",
      " 15650K .......... .......... .......... .......... .......... 81% 1.93M 2s\n",
      " 15700K .......... .......... .......... .......... .......... 82% 1.92M 2s\n",
      " 15750K .......... .......... .......... .......... .......... 82% 1.91M 2s\n",
      " 15800K .......... .......... .......... .......... .......... 82% 1.91M 2s\n",
      " 15850K .......... .......... .......... .......... .......... 82% 1.92M 2s\n",
      " 15900K .......... .......... .......... .......... .......... 83% 1.91M 2s\n",
      " 15950K .......... .......... .......... .......... .......... 83% 1.01M 2s\n",
      " 16000K .......... .......... .......... .......... .......... 83% 1.87M 2s\n",
      " 16050K .......... .......... .......... .......... .......... 84% 18.7M 2s\n",
      " 16100K .......... .......... .......... .......... .......... 84% 1.93M 2s\n",
      " 16150K .......... .......... .......... .......... .......... 84% 1.93M 2s\n",
      " 16200K .......... .......... .......... .......... .......... 84% 1.89M 2s\n",
      " 16250K .......... .......... .......... .......... .......... 85% 1.92M 2s\n",
      " 16300K .......... .......... .......... .......... .......... 85% 1.90M 2s\n",
      " 16350K .......... .......... .......... .......... .......... 85% 1.89M 2s\n",
      " 16400K .......... .......... .......... .......... .......... 85% 1.94M 2s\n",
      " 16450K .......... .......... .......... .......... .......... 86% 1.94M 2s\n",
      " 16500K .......... .......... .......... .......... .......... 86% 1.93M 2s\n",
      " 16550K .......... .......... .......... .......... .......... 86% 26.3M 2s\n",
      " 16600K .......... .......... .......... .......... .......... 86% 1.87M 2s\n",
      " 16650K .......... .......... .......... .......... .......... 87% 1.92M 1s\n",
      " 16700K .......... .......... .......... .......... .......... 87% 1.97M 1s\n",
      " 16750K .......... .......... .......... .......... .......... 87% 1.90M 1s\n",
      " 16800K .......... .......... .......... .......... .......... 87% 1.94M 1s\n",
      " 16850K .......... .......... .......... .......... .......... 88% 16.8M 1s\n",
      " 16900K .......... .......... .......... .......... .......... 88%  401K 1s\n",
      " 16950K .......... .......... .......... .......... .......... 88% 1.93M 1s\n",
      " 17000K .......... .......... .......... .......... .......... 88% 1.93M 1s\n",
      " 17050K .......... .......... .......... .......... .......... 89% 1.94M 1s\n",
      " 17100K .......... .......... .......... .......... .......... 89% 19.2M 1s\n",
      " 17150K .......... .......... .......... .......... .......... 89% 1001K 1s\n",
      " 17200K .......... .......... .......... .......... .......... 90% 33.5M 1s\n",
      " 17250K .......... .......... .......... .......... .......... 90% 1.93M 1s\n",
      " 17300K .......... .......... .......... .......... .......... 90% 1.93M 1s\n",
      " 17350K .......... .......... .......... .......... .......... 90% 1.89M 1s\n",
      " 17400K .......... .......... .......... .......... .......... 91% 1.94M 1s\n",
      " 17450K .......... .......... .......... .......... .......... 91% 1.91M 1s\n",
      " 17500K .......... .......... .......... .......... .......... 91% 1.91M 1s\n",
      " 17550K .......... .......... .......... .......... .......... 91% 1.90M 1s\n",
      " 17600K .......... .......... .......... .......... .......... 92% 1.92M 1s\n",
      " 17650K .......... .......... .......... .......... .......... 92% 1.87M 1s\n",
      " 17700K .......... .......... .......... .......... .......... 92% 28.5M 1s\n",
      " 17750K .......... .......... .......... .......... .......... 92% 1.93M 1s\n",
      " 17800K .......... .......... .......... .......... .......... 93% 1.90M 1s\n",
      " 17850K .......... .......... .......... .......... .......... 93% 1.92M 1s\n",
      " 17900K .......... .......... .......... .......... .......... 93% 1.91M 1s\n",
      " 17950K .......... .......... .......... .......... .......... 93% 1.93M 1s\n",
      " 18000K .......... .......... .......... .......... .......... 94% 1.93M 1s\n",
      " 18050K .......... .......... .......... .......... .......... 94% 1.92M 1s\n",
      " 18100K .......... .......... .......... .......... .......... 94% 1.93M 1s\n",
      " 18150K .......... .......... .......... .......... .......... 94% 26.7M 1s\n",
      " 18200K .......... .......... .......... .......... .......... 95% 1.93M 1s\n",
      " 18250K .......... .......... .......... .......... .......... 95% 1.93M 1s\n",
      " 18300K .......... .......... .......... .......... .......... 95% 1.90M 0s\n",
      " 18350K .......... .......... .......... .......... .......... 96% 1.90M 0s\n",
      " 18400K .......... .......... .......... .......... .......... 96% 1.96M 0s\n",
      " 18450K .......... .......... .......... .......... .......... 96% 1.89M 0s\n",
      " 18500K .......... .......... .......... .......... .......... 96% 1.92M 0s\n",
      " 18550K .......... .......... .......... .......... .......... 97% 31.0M 0s\n",
      " 18600K .......... .......... .......... .......... .......... 97% 1.91M 0s\n",
      " 18650K .......... .......... .......... .......... .......... 97% 1.95M 0s\n",
      " 18700K .......... .......... .......... .......... .......... 97% 1.87M 0s\n",
      " 18750K .......... .......... .......... .......... .......... 98% 1.92M 0s\n",
      " 18800K .......... .......... .......... .......... .......... 98% 1.89M 0s\n",
      " 18850K .......... .......... .......... .......... .......... 98% 1.91M 0s\n",
      " 18900K .......... .......... .......... .......... .......... 98% 27.7M 0s\n",
      " 18950K .......... .......... .......... .......... .......... 99% 1.92M 0s\n",
      " 19000K .......... .......... .......... .......... .......... 99% 1.92M 0s\n",
      " 19050K .......... .......... .......... .......... .......... 99% 1.94M 0s\n",
      " 19100K .......... .......... .......... .......... .......... 99% 1.94M 0s\n",
      " 19150K .......... ...                                        100% 36.3M=11s\n",
      "\n",
      "2018-05-14 16:14:34 (1.67 MB/s) - ‘Silva.seed_v132.tgz’ saved [19623900/19623900]\n",
      "\n"
     ]
    }
   ],
   "source": [
    "%%bash \n",
    "# Remove database if already exsists\n",
    "if [ -d mothur_silva_db ]; then\n",
    "    rm -rf mothur_silva_db\n",
    "fi\n",
    "\n",
    "#if ! [ -d mothur_silva_db ]; then\n",
    "#    mkdir mothur_silva_db\n",
    "#fi\n",
    "\n",
    "mkdir mothur_silva_db\n",
    "cd mothur_silva_db\n",
    "\n",
    "# Download mothur recreatd SEED database release 132.\n",
    "wget https://www.mothur.org/w/images/7/71/Silva.seed_v132.tgz\n",
    "#wget https://www.mothur.org/w/images/a/a4/Silva.seed_v128.tgz\n",
    "tar -xvzf Silva.seed_v132.tgz\n",
    "rm Silva.seed_v132.tgz"
   ]
  },
  {
   "cell_type": "code",
   "execution_count": 18,
   "metadata": {
    "collapsed": false
   },
   "outputs": [
    {
     "name": "stdout",
     "output_type": "stream",
     "text": [
      "100\n",
      "200\n",
      "300\n",
      "400\n",
      "500\n",
      "560\n",
      "\n",
      "\n",
      "\n",
      "Length of filtered alignment: 10180\n",
      "Number of columns removed: 39820\n",
      "Length of the original alignment: 50000\n",
      "Number of sequences used to construct filter: 11180\n",
      "\n",
      "Output File Names: \n",
      "silva.filter\n",
      "silva.seed_v132.filter.fasta\n",
      "\n",
      "\n",
      "mothur > quit()\n",
      "\n",
      "Number of sequences post-filter: 11180\n"
     ]
    }
   ],
   "source": [
    "silvaFile = 'silva.seed_v132.align'\n",
    "cmd = 'mothur \"#filter.seqs(vertical=t, fasta={}, processors={})\"'.format(silvaFile, nprocs)\n",
    "!cd mothur_silva_db; $cmd | tail -n 20\n",
    "\n",
    "silvaFileFilt = os.path.splitext(silvaFile)[0] + '.filter.fasta'\n",
    "silvaFileFilt = os.path.join('mothur_silva_db', silvaFileFilt)\n",
    "ret = !grep -c \">\" $silvaFileFilt\n",
    "print ('\\nNumber of sequences post-filter: {}'.format(ret[0]))"
   ]
  },
  {
   "cell_type": "code",
   "execution_count": 19,
   "metadata": {
    "collapsed": false
   },
   "outputs": [
    {
     "name": "stdout",
     "output_type": "stream",
     "text": [
      "48500\r\n",
      "48600\r\n",
      "48700\r\n",
      "48800\r\n",
      "48900\r\n",
      "49000\r\n",
      "49100\r\n",
      "49200\r\n",
      "49300\r\n",
      "49372\r\n",
      "[WARNING]: Some of your sequences generated alignments that eliminated too many bases, a list is provided in pear_merged-160506_FC2Grad_1.assembled.dmult_maxee1_noN.unique.flip.accnos. If the reverse compliment proved to be better it was reported.\r\n",
      "It took 423 secs to align 1179372 sequences.\r\n",
      "\r\n",
      "\r\n",
      "Output File Names: \r\n",
      "pear_merged-160506_FC2Grad_1.assembled.dmult_maxee1_noN.unique.align\r\n",
      "pear_merged-160506_FC2Grad_1.assembled.dmult_maxee1_noN.unique.align.report\r\n",
      "pear_merged-160506_FC2Grad_1.assembled.dmult_maxee1_noN.unique.flip.accnos\r\n",
      "\r\n",
      "\r\n",
      "mothur > quit()\r\n",
      "\r\n",
      "\r\n",
      "<<<<<<<<<<<<<<<<<<<<<<<<<<<<<<^>>>>>>>>>>>>>>>>>>>>>>>>>>>>>\r\n",
      "<<<<<<<<<<<<<<<<<<<<<<<<<<<<<<^>>>>>>>>>>>>>>>>>>>>>>>>>>>>>\r\n",
      "<<<<<<<<<<<<<<<<<<<<<<<<<<<<<<^>>>>>>>>>>>>>>>>>>>>>>>>>>>>>\r\n",
      "Detected 1 [WARNING] messages, please review.\r\n",
      "<<<<<<<<<<<<<<<<<<<<<<<<<<<<<<^>>>>>>>>>>>>>>>>>>>>>>>>>>>>>\r\n",
      "<<<<<<<<<<<<<<<<<<<<<<<<<<<<<<^>>>>>>>>>>>>>>>>>>>>>>>>>>>>>\r\n",
      "<<<<<<<<<<<<<<<<<<<<<<<<<<<<<<^>>>>>>>>>>>>>>>>>>>>>>>>>>>>>\r\n"
     ]
    }
   ],
   "source": [
    "# aligning sequences\n",
    "qcFile3a = re.sub('-', '\\-', qcFile3)\n",
    "cmd = 'mothur \"#align.seqs(candidate={}, template={}, processors=24, flip=T)\"'.format(qcFile3a, silvaFileFilt)\n",
    "!$cmd | tail -n 30"
   ]
  },
  {
   "cell_type": "code",
   "execution_count": 20,
   "metadata": {
    "collapsed": false
   },
   "outputs": [
    {
     "name": "stdout",
     "output_type": "stream",
     "text": [
      "-rw-rw-r-- 1 sam sam 12G May 14 16:21 pear_merged-160506_FC2Grad_1.assembled.dmult_maxee1_noN.unique.align\r\n"
     ]
    }
   ],
   "source": [
    "qcFile4 = os.path.splitext(qcFile3)[0] + '.align'\n",
    "!ls -thlc $qcFile4 "
   ]
  },
  {
   "cell_type": "code",
   "execution_count": 21,
   "metadata": {
    "collapsed": false
   },
   "outputs": [
    {
     "name": "stdout",
     "output_type": "stream",
     "text": [
      "57500\r\n",
      "57600\r\n",
      "57700\r\n",
      "57800\r\n",
      "57900\r\n",
      "58000\r\n",
      "58100\r\n",
      "58200\r\n",
      "58300\r\n",
      "58400\r\n",
      "58500\r\n",
      "58600\r\n",
      "58700\r\n",
      "58800\r\n",
      "58900\r\n",
      "58978\r\n",
      "\r\n",
      "\r\n",
      "\r\n",
      "Length of filtered alignment: 1168\r\n",
      "Number of columns removed: 9012\r\n",
      "Length of the original alignment: 10180\r\n",
      "Number of sequences used to construct filter: 1179372\r\n",
      "\r\n",
      "Output File Names: \r\n",
      "pear_merged-160506_FC2Grad_1.filter\r\n",
      "pear_merged-160506_FC2Grad_1.assembled.dmult_maxee1_noN.unique.filter.fasta\r\n",
      "\r\n",
      "\r\n",
      "mothur > quit()\r\n"
     ]
    }
   ],
   "source": [
    "# filtering out gap positions in the alignment\n",
    "qcFile4a = re.sub('-', '\\-', qcFile4)\n",
    "cmd = 'mothur \"#filter.seqs(vertical=t, fasta={}, processors={})\"'.format(qcFile4a, nprocs)\n",
    "!$cmd | tail -n 30"
   ]
  },
  {
   "cell_type": "code",
   "execution_count": 22,
   "metadata": {
    "collapsed": false
   },
   "outputs": [
    {
     "name": "stdout",
     "output_type": "stream",
     "text": [
      "-rw-rw-r-- 1 sam sam 1.4G May 14 16:22 pear_merged-160506_FC2Grad_1.assembled.dmult_maxee1_noN.unique.filter.fasta\r\n"
     ]
    }
   ],
   "source": [
    "qcFile5 = os.path.splitext(qcFile3)[0] + '.filter.fasta'\n",
    "!ls -thlc $qcFile5"
   ]
  },
  {
   "cell_type": "code",
   "execution_count": 24,
   "metadata": {
    "collapsed": false
   },
   "outputs": [
    {
     "name": "stdout",
     "output_type": "stream",
     "text": [
      "Using 20 processors.\r\n",
      "\r\n",
      "\t\tStart\tEnd\tNBases\tAmbigs\tPolymer\tNumSeqs\r\n",
      "Minimum:\t0\t0\t0\t0\t1\t1\r\n",
      "2.5%-tile:\t205\t905\t253\t0\t4\t40940\r\n",
      "25%-tile:\t205\t905\t253\t0\t4\t409399\r\n",
      "Median: \t205\t905\t253\t0\t5\t818798\r\n",
      "75%-tile:\t205\t905\t253\t0\t6\t1228197\r\n",
      "97.5%-tile:\t205\t905\t254\t0\t8\t1596656\r\n",
      "Maximum:\t1168\t1168\t366\t0\t34\t1637595\r\n",
      "Mean:\t207.692\t905.003\t252.084\t0\t5.04501\r\n",
      "# of unique seqs:\t1179372\r\n",
      "total # of seqs:\t1637595\r\n",
      "\r\n",
      "Output File Names: \r\n",
      "pear_merged-160506_FC2Grad_1.assembled.dmult_maxee1_noN.unique.filter.summary\r\n",
      "\r\n",
      "It took 6 secs to summarize 1637595 sequences.\r\n",
      "\r\n",
      "mothur > quit()\r\n"
     ]
    }
   ],
   "source": [
    "cmd = 'mothur \"#summary.seqs(fasta={}, processors={}, name={})\"'.format(qcFile5, nprocs, nameFile)\n",
    "!$cmd | tail -n 20"
   ]
  },
  {
   "cell_type": "markdown",
   "metadata": {},
   "source": [
    "## Removing homopolymers (> 8) and screening out sequences that don't align to an amplicon region"
   ]
  },
  {
   "cell_type": "code",
   "execution_count": 25,
   "metadata": {
    "collapsed": false
   },
   "outputs": [
    {
     "name": "stdout",
     "output_type": "stream",
     "text": [
      "Processing sequence: 57300\r\n",
      "Processing sequence: 57400\r\n",
      "Processing sequence: 57500\r\n",
      "Processing sequence: 57600\r\n",
      "Processing sequence: 57700\r\n",
      "Processing sequence: 57800\r\n",
      "Processing sequence: 57900\r\n",
      "Processing sequence: 58000\r\n",
      "Processing sequence: 58100\r\n",
      "Processing sequence: 58200\r\n",
      "Processing sequence: 58300\r\n",
      "Processing sequence: 58400\r\n",
      "Processing sequence: 58500\r\n",
      "Processing sequence: 58600\r\n",
      "Processing sequence: 58700\r\n",
      "Processing sequence: 58800\r\n",
      "Processing sequence: 58900\r\n",
      "Processing sequence: 59000\r\n",
      "Processing sequence: 59041\r\n",
      "\r\n",
      "Output File Names: \r\n",
      "pear_merged-160506_FC2Grad_1.assembled.dmult_maxee1_noN.unique.filter.good.fasta\r\n",
      "pear_merged-160506_FC2Grad_1.assembled.dmult_maxee1_noN.unique.filter.bad.accnos\r\n",
      "pear_merged-160506_FC2Grad_1.assembled.dmult_maxee1_noN.good.names\r\n",
      "group_file.good.txt\r\n",
      "\r\n",
      "\r\n",
      "It took 11 secs to screen 1179372 sequences.\r\n",
      "\r\n",
      "mothur > quit()\r\n"
     ]
    }
   ],
   "source": [
    "cmd = \"\"\"mothur '#screen.seqs(fasta={},\\\n",
    "    processors={},\\\n",
    "    name={},\\\n",
    "    group={},\\\n",
    "    start={},\\\n",
    "    end={},\\\n",
    "    maxhomop=8)'\"\"\".format(qcFile5, nprocs, nameFile, 'group_file.txt', 205, 905)\n",
    "!$cmd | tail -n 30"
   ]
  },
  {
   "cell_type": "code",
   "execution_count": 26,
   "metadata": {
    "collapsed": false
   },
   "outputs": [
    {
     "name": "stdout",
     "output_type": "stream",
     "text": [
      "Number of sequences post-filter: 1157952\n"
     ]
    }
   ],
   "source": [
    "qcFile6 = os.path.splitext(qcFile5)[0] + '.good.fasta'\n",
    "ret = !grep -c \">\" $qcFile6\n",
    "print ('Number of sequences post-filter: {}'.format(ret[0]))"
   ]
  },
  {
   "cell_type": "code",
   "execution_count": 27,
   "metadata": {
    "collapsed": false
   },
   "outputs": [
    {
     "name": "stdout",
     "output_type": "stream",
     "text": [
      "57500\r\n",
      "57600\r\n",
      "57700\r\n",
      "57800\r\n",
      "57900\r\n",
      "57969\r\n",
      "\r\n",
      "\r\n",
      "\r\n",
      "Length of filtered alignment: 802\r\n",
      "Number of columns removed: 366\r\n",
      "Length of the original alignment: 1168\r\n",
      "Number of sequences used to construct filter: 1157952\r\n",
      "\r\n",
      "Output File Names: \r\n",
      "pear_merged-160506_FC2Grad_1.filter\r\n",
      "pear_merged-160506_FC2Grad_1.assembled.dmult_maxee1_noN.unique.filter.good.filter.fasta\r\n",
      "\r\n",
      "\r\n",
      "mothur > quit()\r\n"
     ]
    }
   ],
   "source": [
    "qcFile6a = re.sub('-', '\\-', qcFile6)\n",
    "cmd = 'mothur \"#filter.seqs(fasta={}, processors={}, vertical=T)\"'.format(qcFile6a, nprocs)\n",
    "!$cmd | tail -n 20"
   ]
  },
  {
   "cell_type": "code",
   "execution_count": 28,
   "metadata": {
    "collapsed": false
   },
   "outputs": [
    {
     "name": "stdout",
     "output_type": "stream",
     "text": [
      "-rw-rw-r-- 1 sam sam 926M May 14 16:23 pear_merged-160506_FC2Grad_1.assembled.dmult_maxee1_noN.unique.filter.good.filter.fasta\r\n"
     ]
    }
   ],
   "source": [
    "qcFile7 = os.path.splitext(qcFile6)[0] + '.filter.fasta'\n",
    "!ls -thlc $qcFile7"
   ]
  },
  {
   "cell_type": "markdown",
   "metadata": {},
   "source": [
    "## Deunique seqs"
   ]
  },
  {
   "cell_type": "code",
   "execution_count": 30,
   "metadata": {
    "collapsed": false
   },
   "outputs": [
    {
     "name": "stdout",
     "output_type": "stream",
     "text": [
      "mothur v.1.39.5\r\n",
      "Last updated: 3/20/2017\r\n",
      "\r\n",
      "by\r\n",
      "Patrick D. Schloss\r\n",
      "\r\n",
      "Department of Microbiology & Immunology\r\n",
      "University of Michigan\r\n",
      "http://www.mothur.org\r\n",
      "\r\n",
      "When using, please cite:\r\n",
      "Schloss, P.D., et al., Introducing mothur: Open-source, platform-independent, community-supported software for describing and comparing microbial communities. Appl Environ Microbiol, 2009. 75(23):7537-41.\r\n",
      "\r\n",
      "Distributed under the GNU General Public License\r\n",
      "\r\n",
      "Type 'help()' for information on the commands that are available\r\n",
      "\r\n",
      "For questions and analysis support, please visit our forum at https://www.mothur.org/forum\r\n",
      "\r\n",
      "Type 'quit()' to exit program\r\n",
      "\r\n",
      "\r\n",
      "\r\n",
      "mothur > deunique.seqs(fasta=pear_merged-160506_FC2Grad_1.assembled.dmult_maxee1_noN.unique.filter.good.filter.fasta, name=pear_merged-160506_FC2Grad_1.assembled.dmult_maxee1_noN.names)\r\n",
      "\r\n",
      "Output File Names: \r\n",
      "pear_merged-160506_FC2Grad_1.assembled.dmult_maxee1_noN.unique.filter.good.filter.redundant.fasta\r\n",
      "\r\n",
      "\r\n",
      "mothur > quit()\r\n"
     ]
    }
   ],
   "source": [
    "cmd = 'mothur \"#deunique.seqs(fasta={}, name={})\"'.format(qcFile7, nameFile)\n",
    "!$cmd | tail -n 30"
   ]
  },
  {
   "cell_type": "markdown",
   "metadata": {},
   "source": [
    "### Final QC-ed file"
   ]
  },
  {
   "cell_type": "code",
   "execution_count": 31,
   "metadata": {
    "collapsed": true
   },
   "outputs": [],
   "source": [
    "qcFile8 = os.path.splitext(qcFile7)[0] + '.redundant.fasta'\n",
    "qcFinal = 'finalQC.fasta'\n",
    "!perl -pe 's/[-.]//g if ! /^>/' $qcFile8 > $qcFinal"
   ]
  },
  {
   "cell_type": "code",
   "execution_count": 32,
   "metadata": {
    "collapsed": false
   },
   "outputs": [
    {
     "name": "stdout",
     "output_type": "stream",
     "text": [
      "\r\n",
      "Using 20 processors.\r\n",
      "\r\n",
      "\t\tStart\tEnd\tNBases\tAmbigs\tPolymer\tNumSeqs\r\n",
      "Minimum:\t1\t213\t213\t0\t3\t1\r\n",
      "2.5%-tile:\t1\t253\t253\t0\t4\t40251\r\n",
      "25%-tile:\t1\t253\t253\t0\t4\t402502\r\n",
      "Median: \t1\t253\t253\t0\t5\t805003\r\n",
      "75%-tile:\t1\t253\t253\t0\t6\t1207504\r\n",
      "97.5%-tile:\t1\t254\t254\t0\t8\t1569755\r\n",
      "Maximum:\t1\t366\t366\t0\t8\t1610005\r\n",
      "Mean:\t1\t253.039\t253.039\t0\t5.03909\r\n",
      "# of Seqs:\t1610005\r\n",
      "\r\n",
      "Output File Names: \r\n",
      "finalQC.summary\r\n",
      "\r\n",
      "It took 1 secs to summarize 1610005 sequences.\r\n",
      "\r\n",
      "mothur > quit()\r\n"
     ]
    }
   ],
   "source": [
    "cmd = 'mothur \"#summary.seqs(fasta={}, processors={})\"'.format(qcFinal, nprocs)\n",
    "!$cmd | tail -n 20"
   ]
  },
  {
   "cell_type": "code",
   "execution_count": 33,
   "metadata": {
    "collapsed": false
   },
   "outputs": [
    {
     "name": "stdout",
     "output_type": "stream",
     "text": [
      ">MR.M.13C-Xyl.D3.R1_Frac11_0\r\n",
      "TACGTAGGTGGCTAGCGTTATCCGGATTTACTGGGCGTAAAGGGTGTGCAGGCGGTCTGCTAAGTGGTGTATGAAATCCCTCGGCTCAACCGGGCGAGGTAATGCCAGACTGGCAGTCTAGAGTCTGACAGAGGGTGGTGGAATTCCGGGTGTAGTGGTGAAATGCGTAGAGATCCGGAGGAACACCAGAGGCGAAGGCGGCCACCTGGGTCAGTACTGACGCTGAGACACGACAGCATGGGGAGCGAACGGG\r\n",
      ">MR.F.13C-Ami.D1.R1_Frac24_1\r\n",
      "TCCGTAGGGTGCAAGCGTTATTCGGATTTACTGGGCTTAAAGCGTGCGCAGGCGGTCCGCTAAGTCAGTTGTGAAATCCCCGGGCTTAACCTGGGAACTGCATTTGTGACTGTCAGTCTAGAGTTTGGCAGAGGGGGGTAGAATTCCACGTGTAGCAGTGAAATGCGTAGAGATGTGGAGGAATACCGATGGCGAAGGCAGCTCCCTGGGCCAATATTGACGCTCATGCACGAAAGCGTGGGGAGCAAACAGG\r\n",
      ">MR.M.13C-Xyl.D3.R1_Frac20_bad_3\r\n",
      "TACGTAGGGGGCTAGCGTTGTTCGGAATCACTGGGCGTAAAGGGCGCGTAGGCGGCTGTTCAAGTCGGGGGTGAAATCCCGTGGCTCAACCACGGAATGGCCTTCGATACTGGACGGCTCGAGTCCGGAAGAGGTGAGTGGAACTGCGAGTGTAGAGGTGAAATTCGTAGATATTCGCAAGAACACCAGTGGCGAAGGCGGCTCACTGGTCCGGTTCTGACGCTGAGGCGCGAAAGCGTGGGGAGCAAACAGG\r\n"
     ]
    }
   ],
   "source": [
    "!head -n 6 $qcFinal"
   ]
  },
  {
   "cell_type": "markdown",
   "metadata": {},
   "source": [
    "## Summary of number of seqs per sample"
   ]
  },
  {
   "cell_type": "code",
   "execution_count": 34,
   "metadata": {
    "collapsed": true
   },
   "outputs": [],
   "source": [
    "re1 = re.compile('_[0-9]+$')\n",
    "\n",
    "qcFinalSum = os.path.splitext(qcFinal)[0] + '.summary'\n",
    "\n",
    "samp_count = dict()\n",
    "with open(qcFinalSum, 'r') as inFH:\n",
    "    for line in inFH:\n",
    "        if line.startswith('seqname'):\n",
    "            continue\n",
    "        line = line.rstrip().split('\\t')\n",
    "        line[0] = re.sub(re1, '', line[0])\n",
    "        try:\n",
    "            samp_count[line[0]] += 1\n",
    "        except KeyError:\n",
    "            samp_count[line[0]] = 1"
   ]
  },
  {
   "cell_type": "code",
   "execution_count": 35,
   "metadata": {
    "collapsed": false
   },
   "outputs": [
    {
     "data": {
      "text/html": [
       "<div>\n",
       "<style scoped>\n",
       "    .dataframe tbody tr th:only-of-type {\n",
       "        vertical-align: middle;\n",
       "    }\n",
       "\n",
       "    .dataframe tbody tr th {\n",
       "        vertical-align: top;\n",
       "    }\n",
       "\n",
       "    .dataframe thead th {\n",
       "        text-align: right;\n",
       "    }\n",
       "</style>\n",
       "<table border=\"1\" class=\"dataframe\">\n",
       "  <thead>\n",
       "    <tr style=\"text-align: right;\">\n",
       "      <th></th>\n",
       "      <th>Sample</th>\n",
       "      <th>seq_count</th>\n",
       "    </tr>\n",
       "  </thead>\n",
       "  <tbody>\n",
       "    <tr>\n",
       "      <th>0</th>\n",
       "      <td>MR.M.13C-Xyl.D3.R1_Frac11</td>\n",
       "      <td>9583</td>\n",
       "    </tr>\n",
       "    <tr>\n",
       "      <th>1</th>\n",
       "      <td>MR.F.13C-Ami.D1.R1_Frac24</td>\n",
       "      <td>14383</td>\n",
       "    </tr>\n",
       "    <tr>\n",
       "      <th>2</th>\n",
       "      <td>MR.M.13C-Xyl.D3.R1_Frac20_bad</td>\n",
       "      <td>226581</td>\n",
       "    </tr>\n",
       "    <tr>\n",
       "      <th>3</th>\n",
       "      <td>MR.M.13C-Xyl.D3.R1_Frac10</td>\n",
       "      <td>18266</td>\n",
       "    </tr>\n",
       "    <tr>\n",
       "      <th>4</th>\n",
       "      <td>MR.F.13C-Ami.D3.R2_Frac12</td>\n",
       "      <td>14435</td>\n",
       "    </tr>\n",
       "    <tr>\n",
       "      <th>5</th>\n",
       "      <td>MR.F.13C-Ami.D1.R1_Frac23</td>\n",
       "      <td>5317</td>\n",
       "    </tr>\n",
       "    <tr>\n",
       "      <th>6</th>\n",
       "      <td>MR.F.13C-Ami.D3.R2_Frac27_bad</td>\n",
       "      <td>212324</td>\n",
       "    </tr>\n",
       "    <tr>\n",
       "      <th>7</th>\n",
       "      <td>MR.F.13C-Ami.D3.R2_Frac10</td>\n",
       "      <td>21874</td>\n",
       "    </tr>\n",
       "    <tr>\n",
       "      <th>8</th>\n",
       "      <td>MR.F.13C-Van.D14.R2_Frac7</td>\n",
       "      <td>21042</td>\n",
       "    </tr>\n",
       "    <tr>\n",
       "      <th>9</th>\n",
       "      <td>MR.M.13C-Xyl.D3.R1_Frac25</td>\n",
       "      <td>7923</td>\n",
       "    </tr>\n",
       "    <tr>\n",
       "      <th>10</th>\n",
       "      <td>MR.F.13C-Ami.D3.R2_Frac19</td>\n",
       "      <td>45591</td>\n",
       "    </tr>\n",
       "    <tr>\n",
       "      <th>11</th>\n",
       "      <td>MR.F.13C-Ami.D3.R2_Frac14</td>\n",
       "      <td>10307</td>\n",
       "    </tr>\n",
       "    <tr>\n",
       "      <th>12</th>\n",
       "      <td>MR.F.13C-Ami.D3.R2_Frac11</td>\n",
       "      <td>23603</td>\n",
       "    </tr>\n",
       "    <tr>\n",
       "      <th>13</th>\n",
       "      <td>MR.F.13C-Ami.D3.R2_Frac13</td>\n",
       "      <td>52749</td>\n",
       "    </tr>\n",
       "    <tr>\n",
       "      <th>14</th>\n",
       "      <td>MR.F.13C-Ami.D3.R2_Frac28</td>\n",
       "      <td>27352</td>\n",
       "    </tr>\n",
       "    <tr>\n",
       "      <th>15</th>\n",
       "      <td>MR.F.13C-Ami.D1.R1_Frac14</td>\n",
       "      <td>26795</td>\n",
       "    </tr>\n",
       "    <tr>\n",
       "      <th>16</th>\n",
       "      <td>MR.F.13C-Van.D14.R2_Frac17</td>\n",
       "      <td>8353</td>\n",
       "    </tr>\n",
       "    <tr>\n",
       "      <th>17</th>\n",
       "      <td>MR.F.13C-Ami.D1.R1_Frac12</td>\n",
       "      <td>12702</td>\n",
       "    </tr>\n",
       "    <tr>\n",
       "      <th>18</th>\n",
       "      <td>MR.F.13C-Ami.D1.R1_Frac9</td>\n",
       "      <td>10273</td>\n",
       "    </tr>\n",
       "    <tr>\n",
       "      <th>19</th>\n",
       "      <td>MR.F.13C-Ami.D1.R1_Frac10</td>\n",
       "      <td>9734</td>\n",
       "    </tr>\n",
       "    <tr>\n",
       "      <th>20</th>\n",
       "      <td>MR.F.13C-Van.D14.R2_Frac18</td>\n",
       "      <td>12402</td>\n",
       "    </tr>\n",
       "    <tr>\n",
       "      <th>21</th>\n",
       "      <td>MR.F.13C-Ami.D3.R2_Frac8</td>\n",
       "      <td>25216</td>\n",
       "    </tr>\n",
       "    <tr>\n",
       "      <th>22</th>\n",
       "      <td>MR.F.13C-Van.D14.R2_Frac27</td>\n",
       "      <td>14145</td>\n",
       "    </tr>\n",
       "    <tr>\n",
       "      <th>23</th>\n",
       "      <td>MR.F.13C-Ami.D3.R2_Frac16</td>\n",
       "      <td>17501</td>\n",
       "    </tr>\n",
       "    <tr>\n",
       "      <th>24</th>\n",
       "      <td>MR.F.13C-Ami.D1.R1_Frac11</td>\n",
       "      <td>7715</td>\n",
       "    </tr>\n",
       "    <tr>\n",
       "      <th>25</th>\n",
       "      <td>MR.F.13C-Van.D14.R2_Frac15</td>\n",
       "      <td>12705</td>\n",
       "    </tr>\n",
       "    <tr>\n",
       "      <th>26</th>\n",
       "      <td>MR.F.13C-Van.D14.R2_Frac10</td>\n",
       "      <td>20967</td>\n",
       "    </tr>\n",
       "    <tr>\n",
       "      <th>27</th>\n",
       "      <td>MR.F.13C-Van.D14.R2_Frac20</td>\n",
       "      <td>8494</td>\n",
       "    </tr>\n",
       "    <tr>\n",
       "      <th>28</th>\n",
       "      <td>MR.F.13C-Ami.D3.R2_Frac18</td>\n",
       "      <td>10557</td>\n",
       "    </tr>\n",
       "    <tr>\n",
       "      <th>29</th>\n",
       "      <td>MR.F.13C-Ami.D3.R2_Frac17</td>\n",
       "      <td>28185</td>\n",
       "    </tr>\n",
       "    <tr>\n",
       "      <th>...</th>\n",
       "      <td>...</td>\n",
       "      <td>...</td>\n",
       "    </tr>\n",
       "    <tr>\n",
       "      <th>66</th>\n",
       "      <td>MR.F.13C-Van.D14.R2_Frac21</td>\n",
       "      <td>6509</td>\n",
       "    </tr>\n",
       "    <tr>\n",
       "      <th>67</th>\n",
       "      <td>MR.F.13C-Van.D14.R2_Frac16</td>\n",
       "      <td>5016</td>\n",
       "    </tr>\n",
       "    <tr>\n",
       "      <th>68</th>\n",
       "      <td>MR.M.13C-Xyl.D3.R1_Frac13</td>\n",
       "      <td>11851</td>\n",
       "    </tr>\n",
       "    <tr>\n",
       "      <th>69</th>\n",
       "      <td>MR.M.13C-Xyl.D3.R1_Frac14</td>\n",
       "      <td>6803</td>\n",
       "    </tr>\n",
       "    <tr>\n",
       "      <th>70</th>\n",
       "      <td>MR.F.13C-Ami.D3.R2_Frac21</td>\n",
       "      <td>7003</td>\n",
       "    </tr>\n",
       "    <tr>\n",
       "      <th>71</th>\n",
       "      <td>MR.F.13C-Van.D14.R2_Frac13</td>\n",
       "      <td>7504</td>\n",
       "    </tr>\n",
       "    <tr>\n",
       "      <th>72</th>\n",
       "      <td>MR.F.13C-Van.D14.R2_Frac25</td>\n",
       "      <td>8516</td>\n",
       "    </tr>\n",
       "    <tr>\n",
       "      <th>73</th>\n",
       "      <td>MR.F.13C-Ami.D1.R1_Frac20</td>\n",
       "      <td>10343</td>\n",
       "    </tr>\n",
       "    <tr>\n",
       "      <th>74</th>\n",
       "      <td>MR.M.13C-Xyl.D3.R1_Frac6</td>\n",
       "      <td>8196</td>\n",
       "    </tr>\n",
       "    <tr>\n",
       "      <th>75</th>\n",
       "      <td>MR.F.13C-Ami.D1.R1_Frac18</td>\n",
       "      <td>16888</td>\n",
       "    </tr>\n",
       "    <tr>\n",
       "      <th>76</th>\n",
       "      <td>MR.F.13C-Ami.D3.R2_Frac25</td>\n",
       "      <td>15594</td>\n",
       "    </tr>\n",
       "    <tr>\n",
       "      <th>77</th>\n",
       "      <td>MR.M.13C-Xyl.D3.R1_Frac9</td>\n",
       "      <td>5582</td>\n",
       "    </tr>\n",
       "    <tr>\n",
       "      <th>78</th>\n",
       "      <td>MR.M.13C-Xyl.D3.R1_Frac19</td>\n",
       "      <td>13834</td>\n",
       "    </tr>\n",
       "    <tr>\n",
       "      <th>79</th>\n",
       "      <td>MR.M.13C-Xyl.D3.R1_Frac24</td>\n",
       "      <td>18804</td>\n",
       "    </tr>\n",
       "    <tr>\n",
       "      <th>80</th>\n",
       "      <td>MR.F.13C-Van.D14.R2_NC</td>\n",
       "      <td>136</td>\n",
       "    </tr>\n",
       "    <tr>\n",
       "      <th>81</th>\n",
       "      <td>MR.F.13C-Ami.D1.R1_Frac21</td>\n",
       "      <td>5180</td>\n",
       "    </tr>\n",
       "    <tr>\n",
       "      <th>82</th>\n",
       "      <td>MR.M.13C-Xyl.D3.R1_Frac7</td>\n",
       "      <td>7297</td>\n",
       "    </tr>\n",
       "    <tr>\n",
       "      <th>83</th>\n",
       "      <td>MR.M.13C-Xyl.D3.R1_Frac27</td>\n",
       "      <td>14851</td>\n",
       "    </tr>\n",
       "    <tr>\n",
       "      <th>84</th>\n",
       "      <td>MR.M.13C-Xyl.D3.R1_Frac26</td>\n",
       "      <td>17219</td>\n",
       "    </tr>\n",
       "    <tr>\n",
       "      <th>85</th>\n",
       "      <td>MR.M.13C-Xyl.D3.R1_Frac21</td>\n",
       "      <td>11437</td>\n",
       "    </tr>\n",
       "    <tr>\n",
       "      <th>86</th>\n",
       "      <td>MR.M.13C-Xyl.D3.R1_Frac28</td>\n",
       "      <td>9842</td>\n",
       "    </tr>\n",
       "    <tr>\n",
       "      <th>87</th>\n",
       "      <td>MR.M.13C-Xyl.D3.R1_Frac22</td>\n",
       "      <td>7473</td>\n",
       "    </tr>\n",
       "    <tr>\n",
       "      <th>88</th>\n",
       "      <td>MR.M.13C-Xyl.D3.R1_Frac23</td>\n",
       "      <td>8177</td>\n",
       "    </tr>\n",
       "    <tr>\n",
       "      <th>89</th>\n",
       "      <td>MR.F.13C-Ami.D1.R1_NC</td>\n",
       "      <td>3036</td>\n",
       "    </tr>\n",
       "    <tr>\n",
       "      <th>90</th>\n",
       "      <td>MR.M.13C-Xyl.D3.R1_Frac17</td>\n",
       "      <td>609</td>\n",
       "    </tr>\n",
       "    <tr>\n",
       "      <th>91</th>\n",
       "      <td>MR.F.13C-Ami.D3.R2_NC</td>\n",
       "      <td>2188</td>\n",
       "    </tr>\n",
       "    <tr>\n",
       "      <th>92</th>\n",
       "      <td>MR.M.13C-Xyl.D3.R1_NC</td>\n",
       "      <td>417</td>\n",
       "    </tr>\n",
       "    <tr>\n",
       "      <th>93</th>\n",
       "      <td>MR.F.13C-Van.D14.R2_Frac9</td>\n",
       "      <td>50</td>\n",
       "    </tr>\n",
       "    <tr>\n",
       "      <th>94</th>\n",
       "      <td>MR.F.13C-Ami.D1.R1_MC</td>\n",
       "      <td>85</td>\n",
       "    </tr>\n",
       "    <tr>\n",
       "      <th>95</th>\n",
       "      <td>MR.M.13C-Xyl.D3.R1_Frac18_bad</td>\n",
       "      <td>52</td>\n",
       "    </tr>\n",
       "  </tbody>\n",
       "</table>\n",
       "<p>96 rows × 2 columns</p>\n",
       "</div>"
      ],
      "text/plain": [
       "                           Sample  seq_count\n",
       "0       MR.M.13C-Xyl.D3.R1_Frac11       9583\n",
       "1       MR.F.13C-Ami.D1.R1_Frac24      14383\n",
       "2   MR.M.13C-Xyl.D3.R1_Frac20_bad     226581\n",
       "3       MR.M.13C-Xyl.D3.R1_Frac10      18266\n",
       "4       MR.F.13C-Ami.D3.R2_Frac12      14435\n",
       "5       MR.F.13C-Ami.D1.R1_Frac23       5317\n",
       "6   MR.F.13C-Ami.D3.R2_Frac27_bad     212324\n",
       "7       MR.F.13C-Ami.D3.R2_Frac10      21874\n",
       "8       MR.F.13C-Van.D14.R2_Frac7      21042\n",
       "9       MR.M.13C-Xyl.D3.R1_Frac25       7923\n",
       "10      MR.F.13C-Ami.D3.R2_Frac19      45591\n",
       "11      MR.F.13C-Ami.D3.R2_Frac14      10307\n",
       "12      MR.F.13C-Ami.D3.R2_Frac11      23603\n",
       "13      MR.F.13C-Ami.D3.R2_Frac13      52749\n",
       "14      MR.F.13C-Ami.D3.R2_Frac28      27352\n",
       "15      MR.F.13C-Ami.D1.R1_Frac14      26795\n",
       "16     MR.F.13C-Van.D14.R2_Frac17       8353\n",
       "17      MR.F.13C-Ami.D1.R1_Frac12      12702\n",
       "18       MR.F.13C-Ami.D1.R1_Frac9      10273\n",
       "19      MR.F.13C-Ami.D1.R1_Frac10       9734\n",
       "20     MR.F.13C-Van.D14.R2_Frac18      12402\n",
       "21       MR.F.13C-Ami.D3.R2_Frac8      25216\n",
       "22     MR.F.13C-Van.D14.R2_Frac27      14145\n",
       "23      MR.F.13C-Ami.D3.R2_Frac16      17501\n",
       "24      MR.F.13C-Ami.D1.R1_Frac11       7715\n",
       "25     MR.F.13C-Van.D14.R2_Frac15      12705\n",
       "26     MR.F.13C-Van.D14.R2_Frac10      20967\n",
       "27     MR.F.13C-Van.D14.R2_Frac20       8494\n",
       "28      MR.F.13C-Ami.D3.R2_Frac18      10557\n",
       "29      MR.F.13C-Ami.D3.R2_Frac17      28185\n",
       "..                            ...        ...\n",
       "66     MR.F.13C-Van.D14.R2_Frac21       6509\n",
       "67     MR.F.13C-Van.D14.R2_Frac16       5016\n",
       "68      MR.M.13C-Xyl.D3.R1_Frac13      11851\n",
       "69      MR.M.13C-Xyl.D3.R1_Frac14       6803\n",
       "70      MR.F.13C-Ami.D3.R2_Frac21       7003\n",
       "71     MR.F.13C-Van.D14.R2_Frac13       7504\n",
       "72     MR.F.13C-Van.D14.R2_Frac25       8516\n",
       "73      MR.F.13C-Ami.D1.R1_Frac20      10343\n",
       "74       MR.M.13C-Xyl.D3.R1_Frac6       8196\n",
       "75      MR.F.13C-Ami.D1.R1_Frac18      16888\n",
       "76      MR.F.13C-Ami.D3.R2_Frac25      15594\n",
       "77       MR.M.13C-Xyl.D3.R1_Frac9       5582\n",
       "78      MR.M.13C-Xyl.D3.R1_Frac19      13834\n",
       "79      MR.M.13C-Xyl.D3.R1_Frac24      18804\n",
       "80         MR.F.13C-Van.D14.R2_NC        136\n",
       "81      MR.F.13C-Ami.D1.R1_Frac21       5180\n",
       "82       MR.M.13C-Xyl.D3.R1_Frac7       7297\n",
       "83      MR.M.13C-Xyl.D3.R1_Frac27      14851\n",
       "84      MR.M.13C-Xyl.D3.R1_Frac26      17219\n",
       "85      MR.M.13C-Xyl.D3.R1_Frac21      11437\n",
       "86      MR.M.13C-Xyl.D3.R1_Frac28       9842\n",
       "87      MR.M.13C-Xyl.D3.R1_Frac22       7473\n",
       "88      MR.M.13C-Xyl.D3.R1_Frac23       8177\n",
       "89          MR.F.13C-Ami.D1.R1_NC       3036\n",
       "90      MR.M.13C-Xyl.D3.R1_Frac17        609\n",
       "91          MR.F.13C-Ami.D3.R2_NC       2188\n",
       "92          MR.M.13C-Xyl.D3.R1_NC        417\n",
       "93      MR.F.13C-Van.D14.R2_Frac9         50\n",
       "94          MR.F.13C-Ami.D1.R1_MC         85\n",
       "95  MR.M.13C-Xyl.D3.R1_Frac18_bad         52\n",
       "\n",
       "[96 rows x 2 columns]"
      ]
     },
     "execution_count": 35,
     "metadata": {},
     "output_type": "execute_result"
    }
   ],
   "source": [
    "# converting to dataframe\n",
    "df_seq_cnt = pd.DataFrame.from_dict(samp_count, orient='index')\n",
    "df_seq_cnt.index.name = 'Sample'\n",
    "df_seq_cnt.reset_index(inplace=True)\n",
    "df_seq_cnt.columns = ['Sample', 'seq_count']\n",
    "df_seq_cnt"
   ]
  },
  {
   "cell_type": "code",
   "execution_count": 36,
   "metadata": {
    "collapsed": false
   },
   "outputs": [
    {
     "data": {
      "image/png": "[encoded data removed]"
     },
     "metadata": {},
     "output_type": "display_data"
    }
   ],
   "source": [
    "%%R -i df_seq_cnt -w 800 -h 350\n",
    "# plotting all\n",
    "\n",
    "df_seq_cnt$seq_count = as.numeric(df_seq_cnt$seq_count)\n",
    "\n",
    "\n",
    "df_seq_cnt = df_seq_cnt %>% \n",
    "    #mutate(H2O = grepl('_F0$', Sample)) %>%\n",
    "    mutate(rank = min_rank(seq_count)) %>%\n",
    "    arrange(desc(rank))\n",
    "\n",
    "df_seq_cnt$Sample = factor(df_seq_cnt$Sample, levels=df_seq_cnt$Sample)\n",
    "\n",
    "ggplot(df_seq_cnt, aes(Sample, seq_count)) +\n",
    "    geom_bar(stat='identity') +\n",
    "    theme_bw() +\n",
    "    theme(\n",
    "        text = element_text(size=16),\n",
    "        axis.text.x = element_text(angle=45, hjust=1)\n",
    "    )"
   ]
  },
  {
   "cell_type": "code",
   "execution_count": 38,
   "metadata": {
    "collapsed": false
   },
   "outputs": [
    {
     "data": {
      "text/plain": [
       "                          Sample seq_count rank\n",
       "88      MR.F.13C-Ami.D1.R1_Frac6      4470    9\n",
       "89         MR.F.13C-Ami.D1.R1_NC      3036    8\n",
       "90         MR.F.13C-Ami.D3.R2_NC      2188    7\n",
       "91     MR.M.13C-Xyl.D3.R1_Frac17       609    6\n",
       "92         MR.M.13C-Xyl.D3.R1_NC       417    5\n",
       "93        MR.F.13C-Van.D14.R2_NC       136    4\n",
       "94         MR.F.13C-Ami.D1.R1_MC        85    3\n",
       "95 MR.M.13C-Xyl.D3.R1_Frac18_bad        52    2\n",
       "96     MR.F.13C-Van.D14.R2_Frac9        50    1\n"
      ]
     },
     "metadata": {},
     "output_type": "display_data"
    }
   ],
   "source": [
    "%%R\n",
    "df_seq_cnt[df_seq_cnt$seq_count < 5000,]"
   ]
  },
  {
   "cell_type": "code",
   "execution_count": null,
   "metadata": {
    "collapsed": true
   },
   "outputs": [],
   "source": []
  }
 ],
 "metadata": {
  "anaconda-cloud": {},
  "hide_input": true,
  "kernelspec": {
   "display_name": "Python 3",
   "language": "python",
   "name": "python3"
  },
  "language_info": {
   "codemirror_mode": {
    "name": "ipython",
    "version": 3
   },
   "file_extension": ".py",
   "mimetype": "text/x-python",
   "name": "python",
   "nbconvert_exporter": "python",
   "pygments_lexer": "ipython3",
   "version": "3.6.4"
  },
  "notify_time": "5"
 },
 "nbformat": 4,
 "nbformat_minor": 1
}
