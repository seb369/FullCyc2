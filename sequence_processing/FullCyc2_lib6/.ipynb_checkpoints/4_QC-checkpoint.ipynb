{
 "cells": [
  {
   "cell_type": "markdown",
   "metadata": {},
   "source": [
    "# Description\n",
    "\n",
    "* Quality control on MiSeq run data\n",
    "  * post-merging\n",
    "  * post-demultiplexing"
   ]
  },
  {
   "cell_type": "markdown",
   "metadata": {},
   "source": [
    "# Setting variables"
   ]
  },
  {
   "cell_type": "code",
   "execution_count": 1,
   "metadata": {
    "collapsed": true
   },
   "outputs": [],
   "source": [
    "import os\n",
    "\n",
    "baseDir = '/home/seq_data/fullCyc2/amplicon/515F-806R/final_dataset/library_QC/fullCyc2_lib6'\n",
    "workDir = os.path.join(baseDir, 'QC')\n",
    "seqFile = os.path.join(baseDir, 'pear_merged-fullCyc2_lib6.assembled.dmult.fastq')\n",
    "\n",
    "# number of processors\n",
    "nprocs = 10\n",
    "\n",
    "# max expected error\n",
    "maxee = 1"
   ]
  },
  {
   "cell_type": "markdown",
   "metadata": {},
   "source": [
    "# Init"
   ]
  },
  {
   "cell_type": "code",
   "execution_count": 2,
   "metadata": {
    "collapsed": true
   },
   "outputs": [],
   "source": [
    "import re\n",
    "import pandas as pd"
   ]
  },
  {
   "cell_type": "code",
   "execution_count": 3,
   "metadata": {
    "collapsed": false
   },
   "outputs": [],
   "source": [
    "%load_ext rpy2.ipython\n",
    "#%load_ext pushnote"
   ]
  },
  {
   "cell_type": "code",
   "execution_count": 4,
   "metadata": {
    "collapsed": false
   },
   "outputs": [
    {
     "name": "stderr",
     "output_type": "stream",
     "text": [
      "/home/sam/anaconda3/lib/python3.6/site-packages/rpy2/rinterface/__init__.py:145: RRuntimeWarning: \n",
      "Attaching package: ‘dplyr’\n",
      "\n",
      "\n",
      "  warnings.warn(x, RRuntimeWarning)\n",
      "/home/sam/anaconda3/lib/python3.6/site-packages/rpy2/rinterface/__init__.py:145: RRuntimeWarning: The following objects are masked from ‘package:stats’:\n",
      "\n",
      "    filter, lag\n",
      "\n",
      "\n",
      "  warnings.warn(x, RRuntimeWarning)\n",
      "/home/sam/anaconda3/lib/python3.6/site-packages/rpy2/rinterface/__init__.py:145: RRuntimeWarning: The following objects are masked from ‘package:base’:\n",
      "\n",
      "    intersect, setdiff, setequal, union\n",
      "\n",
      "\n",
      "  warnings.warn(x, RRuntimeWarning)\n",
      "/home/sam/anaconda3/lib/python3.6/site-packages/rpy2/rinterface/__init__.py:145: RRuntimeWarning: \n",
      "Attaching package: ‘gridExtra’\n",
      "\n",
      "\n",
      "  warnings.warn(x, RRuntimeWarning)\n",
      "/home/sam/anaconda3/lib/python3.6/site-packages/rpy2/rinterface/__init__.py:145: RRuntimeWarning: The following object is masked from ‘package:dplyr’:\n",
      "\n",
      "    combine\n",
      "\n",
      "\n",
      "  warnings.warn(x, RRuntimeWarning)\n"
     ]
    }
   ],
   "source": [
    "%%R\n",
    "library(ggplot2)\n",
    "library(dplyr)\n",
    "library(tidyr)\n",
    "library(gridExtra)"
   ]
  },
  {
   "cell_type": "code",
   "execution_count": 5,
   "metadata": {
    "collapsed": false
   },
   "outputs": [
    {
     "name": "stdout",
     "output_type": "stream",
     "text": [
      "/home/seq_data/fullCyc2/amplicon/515F-806R/final_dataset/library_QC/fullCyc2_lib6/QC\n"
     ]
    }
   ],
   "source": [
    "if not os.path.isdir(workDir):\n",
    "    os.makedirs(workDir)\n",
    "%cd $workDir"
   ]
  },
  {
   "cell_type": "code",
   "execution_count": 6,
   "metadata": {
    "collapsed": false
   },
   "outputs": [
    {
     "name": "stdout",
     "output_type": "stream",
     "text": [
      "File exists: /home/seq_data/fullCyc2/amplicon/515F-806R/final_dataset/library_QC/fullCyc2_lib6/pear_merged-fullCyc2_lib6.assembled.dmult.fastq\n"
     ]
    }
   ],
   "source": [
    "# symlinking demult seq file into CQ\n",
    "tmp = os.path.join(baseDir, seqFile)\n",
    "if not os.path.isfile(seqFile):\n",
    "    tmp2 = os.path.split(tmp)[1]\n",
    "    os.symlink(tmp, tmp2)\n",
    "else:\n",
    "    print ('File exists: {}'.format(os.path.join(workDir, seqFile)))"
   ]
  },
  {
   "cell_type": "markdown",
   "metadata": {},
   "source": [
    "# Merged read quality filtering"
   ]
  },
  {
   "cell_type": "markdown",
   "metadata": {},
   "source": [
    "## Discard sequences that exceed max expected error theshold"
   ]
  },
  {
   "cell_type": "code",
   "execution_count": 7,
   "metadata": {
    "collapsed": false
   },
   "outputs": [
    {
     "data": {
      "text/plain": [
       "'pear_merged-fullCyc2_lib6.assembled.dmult_maxee1.fasta'"
      ]
     },
     "execution_count": 7,
     "metadata": {},
     "output_type": "execute_result"
    }
   ],
   "source": [
    "qcFile = os.path.split(seqFile)[1]\n",
    "qcFile = os.path.splitext(qcFile)[0] + '_maxee{}.fasta'.format(maxee)\n",
    "qcFile"
   ]
  },
  {
   "cell_type": "code",
   "execution_count": 8,
   "metadata": {
    "collapsed": true
   },
   "outputs": [],
   "source": [
    "%%bash -s \"$seqFile\" \"$nprocs\" \"$maxee\" \"$qcFile\"\n",
    "\n",
    "mkdir /home/sam/tmp/tmpdir1\n",
    "trap \"rm -r /home/sam/tmp/tmpdir1\" 1 2 3 15\n",
    "split -d -l 2000000 $1 /home/sam/tmp/tmpdir1/Block\n",
    "\n",
    "mkdir /home/sam/tmp/tmpdir2\n",
    "trap \"rm -r /home/sam/tmp/tmpdir2\" 1 2 3 15\n",
    "ls /home/sam/tmp/tmpdir1/Block?? | parallel --gnu -j $2 -k \"usearch -fastq_filter {} -fastq_maxee $3 \\\n",
    "-fastaout /home/sam/tmp/tmpdir2/{#}.fasta >/dev/null 2>&1 && cat /home/sam/tmp/tmpdir2/{#}.fasta\" > $4\n",
    "rm -r /home/sam/tmp/tmpdir2 /home/sam/tmp/tmpdir1"
   ]
  },
  {
   "cell_type": "code",
   "execution_count": 9,
   "metadata": {
    "collapsed": false
   },
   "outputs": [
    {
     "name": "stdout",
     "output_type": "stream",
     "text": [
      "Max expected error cutoff: 1\n",
      "Number of sequence pre-filter: 5071111\n",
      "Number of sequences post-filter: 5053833\n",
      "\n",
      ">MR.A.13C-Xyl.D3.R2_Frac19_0 orig_name=M02465:321:000000000-AW1R7:1:1101:15518:1333\n",
      "TACAGAGGGCTCAAGCGTTGTTCGGATTCATTGGGCGTAAAGGGTGCGTAGGCGGCGCGGTAAGTCGGGTGTGAAATCTC\n",
      "GGGGCTTAACTCCGAAACTGCATTCGATACTGCCGTGCTTGAGGACTGGAGAGGAGACTGGAATTTACGGTGTAGCGGTG\n",
      "AAATGCGTAGATATCGTAAGGAAGACCAGTGGCGAAGGCGGGTCTCTGGACAGTTCCTGACGCTGAGGCACGAAGGTCAG\n",
      "GGGAGCAAACGGG\n",
      ">MR.A.13C-Van.D30.R3_Frac14_1 orig_name=M02465:321:000000000-AW1R7:1:1101:16006:1335\n",
      "CACGAAGGGGGCAAGCGTTGTTCGGAATTACTGGGCGTAAAGGGCGCGCAGGCGGCCAATCAAGTCAGATGTGAAAGCCC\n",
      "CGGGCTCAACCTGGGAATAGCATTTGGGACTGGTTGGCTAGAGATCGGGAGAGGAGAGTGGAATTCCCAGTGTAGAGGTG\n"
     ]
    }
   ],
   "source": [
    "%%bash -s \"$seqFile\" \"$nprocs\" \"$maxee\" \"$qcFile\"\n",
    "\n",
    "printf \"Max expected error cutoff: \"\n",
    "echo $3\n",
    "\n",
    "printf \"Number of sequence pre-filter: \"\n",
    "grep -c \"orig_name=\" $1\n",
    "\n",
    "printf \"Number of sequences post-filter: \"\n",
    "grep -c \">\" $4\n",
    "\n",
    "echo '' \n",
    "head -n 8 $4"
   ]
  },
  {
   "cell_type": "markdown",
   "metadata": {},
   "source": [
    "## Remove seqs with 'N' characters"
   ]
  },
  {
   "cell_type": "code",
   "execution_count": 10,
   "metadata": {
    "collapsed": false
   },
   "outputs": [
    {
     "data": {
      "text/plain": [
       "'pear_merged-fullCyc2_lib6.assembled.dmult_maxee1_noN.fasta'"
      ]
     },
     "execution_count": 10,
     "metadata": {},
     "output_type": "execute_result"
    }
   ],
   "source": [
    "qcFile2 = os.path.splitext(qcFile)[0] + '_noN.fasta'\n",
    "qcFile2"
   ]
  },
  {
   "cell_type": "code",
   "execution_count": 11,
   "metadata": {
    "collapsed": false
   },
   "outputs": [
    {
     "name": "stdout",
     "output_type": "stream",
     "text": [
      "Number of sequence pre-filter: 5053833\n",
      "Number of sequences post-filter: 5053833\n"
     ]
    }
   ],
   "source": [
    "%%bash -s \"$qcFile\" \"$qcFile2\"\n",
    "\n",
    "bioawk -c fastx '{if ($seq !~ /N/){print \">\" $name \" \" $4 \"\\n\" $seq}}' $1 > $2\n",
    "\n",
    "printf \"Number of sequence pre-filter: \"\n",
    "grep -c \">\" $1\n",
    "\n",
    "printf \"Number of sequences post-filter: \"\n",
    "grep -c \">\" $2"
   ]
  },
  {
   "cell_type": "markdown",
   "metadata": {},
   "source": [
    "## Alignment-based QC with Mothur"
   ]
  },
  {
   "cell_type": "code",
   "execution_count": 12,
   "metadata": {
    "collapsed": false
   },
   "outputs": [
    {
     "name": "stdout",
     "output_type": "stream",
     "text": [
      "MR.A.13C-Xyl.D3.R2_Frac19_0\tMR.A.13C-Xyl.D3.R2_Frac19\n",
      "MR.A.13C-Van.D30.R3_Frac14_1\tMR.A.13C-Van.D30.R3_Frac14\n",
      "MR.A.13C-Van.D14.R2_Frac26_2\tMR.A.13C-Van.D14.R2_Frac26\n",
      "MR.F.13C-Pal.D14.R1_Frac21_3\tMR.F.13C-Pal.D14.R1_Frac21\n",
      "MR.A.13C-Ami.D6.R1_Frac10_4\tMR.A.13C-Ami.D6.R1_Frac10\n",
      "MR.F.13C-Xyl.D1.R2_Frac14_5\tMR.F.13C-Xyl.D1.R2_Frac14\n",
      "MR.A.13C-Ami.D6.R1_Frac17_8\tMR.A.13C-Ami.D6.R1_Frac17\n",
      "MR.M.13C-Pal.D14.R2_Frac6_7\tMR.M.13C-Pal.D14.R2_Frac6\n",
      "MR.A.13C-Ami.D6.R1_Frac24_12\tMR.A.13C-Ami.D6.R1_Frac24\n",
      "MR.A.13C-Ami.D6.R1_Frac10_13\tMR.A.13C-Ami.D6.R1_Frac10\n"
     ]
    }
   ],
   "source": [
    "%%bash -s \"$qcFile2\"\n",
    "# making mothur group file\n",
    "\n",
    "perl -ne 'if(/^>/){ s/>(.+)(_\\d+) .+/$1$2\\t$1/; print;}' $1 > group_file.txt\n",
    "head group_file.txt"
   ]
  },
  {
   "cell_type": "code",
   "execution_count": 13,
   "metadata": {
    "collapsed": false
   },
   "outputs": [
    {
     "name": "stdout",
     "output_type": "stream",
     "text": [
      "MR.A.13C-Xyl.D3.R2_Frac19_0\tMR.A.13C-Xyl.D3.R2_Frac19\r\n",
      "MR.A.13C-Van.D30.R3_Frac14_1\tMR.A.13C-Van.D30.R3_Frac14\r\n",
      "MR.A.13C-Van.D14.R2_Frac26_2\tMR.A.13C-Van.D14.R2_Frac26\r\n",
      "MR.F.13C-Pal.D14.R1_Frac21_3\tMR.F.13C-Pal.D14.R1_Frac21\r\n",
      "MR.A.13C-Ami.D6.R1_Frac10_4\tMR.A.13C-Ami.D6.R1_Frac10\r\n",
      "MR.F.13C-Xyl.D1.R2_Frac14_5\tMR.F.13C-Xyl.D1.R2_Frac14\r\n",
      "MR.A.13C-Ami.D6.R1_Frac17_8\tMR.A.13C-Ami.D6.R1_Frac17\r\n",
      "MR.M.13C-Pal.D14.R2_Frac6_7\tMR.M.13C-Pal.D14.R2_Frac6\r\n",
      "MR.A.13C-Ami.D6.R1_Frac24_12\tMR.A.13C-Ami.D6.R1_Frac24\r\n",
      "MR.A.13C-Ami.D6.R1_Frac10_13\tMR.A.13C-Ami.D6.R1_Frac10\r\n",
      "MR.A.13C-Ami.D6.R1_Frac5_14\tMR.A.13C-Ami.D6.R1_Frac5\r\n",
      "MR.A.13C-Ami.D6.R1_Frac7_15\tMR.A.13C-Ami.D6.R1_Frac7\r\n",
      "MR.M.13C-Pal.D14.R2_Frac8_16\tMR.M.13C-Pal.D14.R2_Frac8\r\n",
      "MR.F.13C-Pal.D14.R1_Frac24_17\tMR.F.13C-Pal.D14.R1_Frac24\r\n",
      "MR.M.13C-Pal.D14.R2_Frac27_18\tMR.M.13C-Pal.D14.R2_Frac27\r\n",
      "MR.M.13C-Pal.D30.R1_Frac27_19\tMR.M.13C-Pal.D30.R1_Frac27\r\n",
      "MR.A.13C-Ami.D6.R1_Frac12_20\tMR.A.13C-Ami.D6.R1_Frac12\r\n",
      "MR.A.13C-Ami.D6.R1_Frac27_21\tMR.A.13C-Ami.D6.R1_Frac27\r\n",
      "MR.F.13C-Pal.D14.R1_Frac20_22\tMR.F.13C-Pal.D14.R1_Frac20\r\n",
      "MR.F.13C-Ami.D14.R1_Frac6_23\tMR.F.13C-Ami.D14.R1_Frac6\r\n",
      "MR.A.13C-Xyl.D3.R2_Frac10_24\tMR.A.13C-Xyl.D3.R2_Frac10\r\n",
      "MR.A.13C-Van.D14.R2_Frac9_25\tMR.A.13C-Van.D14.R2_Frac9\r\n",
      "MR.M.13C-Pal.D30.R1_Frac15_26\tMR.M.13C-Pal.D30.R1_Frac15\r\n",
      "MR.A.13C-Van.D14.R2_Frac12_27\tMR.A.13C-Van.D14.R2_Frac12\r\n",
      "MR.M.13C-Pal.D14.R2_Frac15_28\tMR.M.13C-Pal.D14.R2_Frac15\r\n",
      "MR.M.13C-Pal.D30.R1_Frac15_29\tMR.M.13C-Pal.D30.R1_Frac15\r\n",
      "MR.M.13C-Pal.D30.R1_Frac26_30\tMR.M.13C-Pal.D30.R1_Frac26\r\n",
      "MR.A.13C-Xyl.D3.R2_Frac21_31\tMR.A.13C-Xyl.D3.R2_Frac21\r\n",
      "MR.A.13C-Ami.D6.R1_Frac19_32\tMR.A.13C-Ami.D6.R1_Frac19\r\n",
      "MR.A.13C-Ami.D6.R1_Frac12_33\tMR.A.13C-Ami.D6.R1_Frac12\r\n",
      "MR.A.13C-Van.D14.R2_Frac13_34\tMR.A.13C-Van.D14.R2_Frac13\r\n",
      "MR.A.13C-Xyl.D3.R2_Frac10_35\tMR.A.13C-Xyl.D3.R2_Frac10\r\n",
      "MR.A.13C-Ami.D6.R1_Frac24_36\tMR.A.13C-Ami.D6.R1_Frac24\r\n",
      "MR.M.13C-Pal.D14.R2_Frac14_37\tMR.M.13C-Pal.D14.R2_Frac14\r\n",
      "MR.A.13C-Van.D14.R2_Frac13_38\tMR.A.13C-Van.D14.R2_Frac13\r\n",
      "MR.F.13C-Ami.D14.R1_Frac19_39\tMR.F.13C-Ami.D14.R1_Frac19\r\n",
      "MR.A.13C-Xyl.D3.R2_Frac20_40\tMR.A.13C-Xyl.D3.R2_Frac20\r\n",
      "MR.A.13C-Ami.D6.R1_Frac17_41\tMR.A.13C-Ami.D6.R1_Frac17\r\n",
      "MR.F.13C-Ami.D14.R1_Frac19_42\tMR.F.13C-Ami.D14.R1_Frac19\r\n",
      "MR.M.13C-Pal.D14.R2_Frac23_43\tMR.M.13C-Pal.D14.R2_Frac23\r\n",
      "MR.A.13C-Xyl.D3.R2_Frac7_44\tMR.A.13C-Xyl.D3.R2_Frac7\r\n",
      "MR.F.13C-Ami.D14.R1_Frac16_45\tMR.F.13C-Ami.D14.R1_Frac16\r\n",
      "MR.A.13C-Van.D14.R2_Frac6_46\tMR.A.13C-Van.D14.R2_Frac6\r\n",
      "MR.F.13C-Pal.D14.R1_Frac21_47\tMR.F.13C-Pal.D14.R1_Frac21\r\n",
      "MR.F.13C-Xyl.D1.R2_Frac17_48\tMR.F.13C-Xyl.D1.R2_Frac17\r\n",
      "MR.A.13C-Ami.D6.R1_Frac12_49\tMR.A.13C-Ami.D6.R1_Frac12\r\n",
      "MR.M.13C-Pal.D14.R2_Frac16_50\tMR.M.13C-Pal.D14.R2_Frac16\r\n",
      "MR.M.13C-Pal.D30.R1_Frac28_51\tMR.M.13C-Pal.D30.R1_Frac28\r\n",
      "MR.A.13C-Van.D14.R2_Frac11_52\tMR.A.13C-Van.D14.R2_Frac11\r\n",
      "MR.A.13C-Ami.D6.R1_Frac4_10\tMR.A.13C-Ami.D6.R1_Frac4\r\n",
      "MR.F.13C-Pal.D14.R1_Frac22_9\tMR.F.13C-Pal.D14.R1_Frac22\r\n",
      "MR.F.13C-Ami.D14.R1_Frac20_55\tMR.F.13C-Ami.D14.R1_Frac20\r\n",
      "MR.A.13C-Ami.D6.R1_Frac17_54\tMR.A.13C-Ami.D6.R1_Frac17\r\n",
      "MR.A.13C-Van.D14.R2_Frac13_53\tMR.A.13C-Van.D14.R2_Frac13\r\n",
      "MR.A.13C-Ami.D6.R1_Frac12_58\tMR.A.13C-Ami.D6.R1_Frac12\r\n",
      "MR.M.13C-Pal.D30.R1_Frac16_59\tMR.M.13C-Pal.D30.R1_Frac16\r\n",
      "MR.M.13C-Pal.D30.R1_Frac16_60\tMR.M.13C-Pal.D30.R1_Frac16\r\n",
      "MR.F.13C-Ami.D14.R1_Frac27_61\tMR.F.13C-Ami.D14.R1_Frac27\r\n",
      "MR.F.13C-Xyl.D1.R2_Frac18_62\tMR.F.13C-Xyl.D1.R2_Frac18\r\n",
      "MR.A.13C-Van.D14.R2_Frac12_63\tMR.A.13C-Van.D14.R2_Frac12\r\n",
      "MR.A.13C-Xyl.D3.R2_Frac4_64\tMR.A.13C-Xyl.D3.R2_Frac4\r\n",
      "MR.F.13C-Xyl.D1.R2_Frac23_65\tMR.F.13C-Xyl.D1.R2_Frac23\r\n",
      "MR.F.13C-Xyl.D1.R2_Frac13_66\tMR.F.13C-Xyl.D1.R2_Frac13\r\n",
      "MR.M.13C-Pal.D14.R2_Frac15_67\tMR.M.13C-Pal.D14.R2_Frac15\r\n",
      "MR.M.13C-Pal.D14.R2_Frac16_68\tMR.M.13C-Pal.D14.R2_Frac16\r\n",
      "MR.M.13C-Pal.D30.R1_Frac10_69\tMR.M.13C-Pal.D30.R1_Frac10\r\n",
      "MR.A.13C-Xyl.D3.R2_Frac14_70\tMR.A.13C-Xyl.D3.R2_Frac14\r\n",
      "MR.F.13C-Xyl.D1.R2_Frac23_71\tMR.F.13C-Xyl.D1.R2_Frac23\r\n",
      "MR.M.13C-Pal.D30.R1_Frac28_72\tMR.M.13C-Pal.D30.R1_Frac28\r\n",
      "MR.F.13C-Pal.D14.R1_Frac21_73\tMR.F.13C-Pal.D14.R1_Frac21\r\n",
      "MR.A.13C-Van.D14.R2_Frac3_74\tMR.A.13C-Van.D14.R2_Frac3\r\n",
      "MR.A.13C-Van.D14.R2_Frac8_75\tMR.A.13C-Van.D14.R2_Frac8\r\n",
      "MR.A.13C-Ami.D6.R1_Frac7_76\tMR.A.13C-Ami.D6.R1_Frac7\r\n",
      "MR.A.13C-Van.D14.R2_Frac12_77\tMR.A.13C-Van.D14.R2_Frac12\r\n",
      "MR.A.13C-Ami.D6.R1_Frac7_78\tMR.A.13C-Ami.D6.R1_Frac7\r\n",
      "MR.A.13C-Ami.D6.R1_Frac8_79\tMR.A.13C-Ami.D6.R1_Frac8\r\n",
      "MR.M.13C-Pal.D30.R1_Frac7_80\tMR.M.13C-Pal.D30.R1_Frac7\r\n",
      "MR.F.13C-Xyl.D1.R2_Frac8_81\tMR.F.13C-Xyl.D1.R2_Frac8\r\n",
      "MR.M.13C-Pal.D14.R2_Frac17_82\tMR.M.13C-Pal.D14.R2_Frac17\r\n",
      "MR.M.13C-Pal.D30.R1_Frac8_83\tMR.M.13C-Pal.D30.R1_Frac8\r\n",
      "MR.F.13C-Pal.D14.R1_Frac21_84\tMR.F.13C-Pal.D14.R1_Frac21\r\n",
      "MR.A.13C-Van.D14.R2_Frac26_85\tMR.A.13C-Van.D14.R2_Frac26\r\n",
      "MR.A.13C-Van.D14.R2_Frac26_86\tMR.A.13C-Van.D14.R2_Frac26\r\n",
      "MR.M.13C-Pal.D30.R1_Frac20_87\tMR.M.13C-Pal.D30.R1_Frac20\r\n",
      "MR.A.13C-Xyl.D3.R2_Frac26_88\tMR.A.13C-Xyl.D3.R2_Frac26\r\n",
      "MR.F.13C-Xyl.D1.R2_Frac9_57\tMR.F.13C-Xyl.D1.R2_Frac9\r\n",
      "MR.F.13C-Ami.D14.R1_Frac12_11\tMR.F.13C-Ami.D14.R1_Frac12\r\n",
      "MR.A.13C-Xyl.D3.R2_Frac9_56\tMR.A.13C-Xyl.D3.R2_Frac9\r\n",
      "MR.M.13C-Pal.D14.R2_Frac18_89\tMR.M.13C-Pal.D14.R2_Frac18\r\n",
      "MR.M.13C-Pal.D14.R2_Frac12_94\tMR.M.13C-Pal.D14.R2_Frac12\r\n",
      "MR.A.13C-Van.D30.R3_Frac15_95\tMR.A.13C-Van.D30.R3_Frac15\r\n",
      "MR.A.13C-Ami.D6.R1_Frac27_96\tMR.A.13C-Ami.D6.R1_Frac27\r\n",
      "MR.A.13C-Xyl.D3.R2_Frac8_93\tMR.A.13C-Xyl.D3.R2_Frac8\r\n",
      "MR.A.13C-Xyl.D3.R2_Frac16_97\tMR.A.13C-Xyl.D3.R2_Frac16\r\n",
      "MR.A.13C-Ami.D6.R1_Frac21_99\tMR.A.13C-Ami.D6.R1_Frac21\r\n",
      "MR.F.13C-Xyl.D1.R2_Frac4_100\tMR.F.13C-Xyl.D1.R2_Frac4\r\n",
      "MR.A.13C-Xyl.D3.R2_Frac12_90\tMR.A.13C-Xyl.D3.R2_Frac12\r\n",
      "MR.M.13C-Pal.D30.R1_Frac6_91\tMR.M.13C-Pal.D30.R1_Frac6\r\n",
      "MR.M.13C-Pal.D30.R1_Frac7_103\tMR.M.13C-Pal.D30.R1_Frac7\r\n",
      "MR.F.13C-Ami.D14.R1_Frac11_104\tMR.F.13C-Ami.D14.R1_Frac11\r\n",
      "MR.A.13C-Xyl.D3.R2_Frac10_105\tMR.A.13C-Xyl.D3.R2_Frac10\r\n",
      "MR.F.13C-Xyl.D1.R2_Frac16_106\tMR.F.13C-Xyl.D1.R2_Frac16\r\n",
      "MR.A.13C-Xyl.D3.R2_Frac9_107\tMR.A.13C-Xyl.D3.R2_Frac9\r\n",
      "MR.F.13C-Xyl.D1.R2_Frac6_108\tMR.F.13C-Xyl.D1.R2_Frac6\r\n",
      "MR.F.13C-Xyl.D1.R2_Frac21_109\tMR.F.13C-Xyl.D1.R2_Frac21\r\n",
      "MR.F.13C-Xyl.D1.R2_Frac8_110\tMR.F.13C-Xyl.D1.R2_Frac8\r\n",
      "MR.M.13C-Pal.D14.R2_Frac8_111\tMR.M.13C-Pal.D14.R2_Frac8\r\n",
      "MR.F.13C-Xyl.D1.R2_Frac7_112\tMR.F.13C-Xyl.D1.R2_Frac7\r\n",
      "MR.A.13C-Ami.D6.R1_Frac14_113\tMR.A.13C-Ami.D6.R1_Frac14\r\n",
      "MR.M.13C-Pal.D14.R2_Frac23_114\tMR.M.13C-Pal.D14.R2_Frac23\r\n",
      "MR.M.13C-Pal.D30.R1_Frac20_115\tMR.M.13C-Pal.D30.R1_Frac20\r\n",
      "MR.F.13C-Ami.D14.R1_Frac9_116\tMR.F.13C-Ami.D14.R1_Frac9\r\n",
      "MR.F.13C-Pal.D14.R1_Frac22_117\tMR.F.13C-Pal.D14.R1_Frac22\r\n",
      "MR.M.13C-Pal.D14.R2_Frac6_118\tMR.M.13C-Pal.D14.R2_Frac6\r\n",
      "MR.F.13C-Ami.D14.R1_Frac9_119\tMR.F.13C-Ami.D14.R1_Frac9\r\n",
      "MR.A.13C-Xyl.D3.R2_Frac19_101\tMR.A.13C-Xyl.D3.R2_Frac19\r\n",
      "MR.A.13C-Van.D14.R2_Frac8_102\tMR.A.13C-Van.D14.R2_Frac8\r\n",
      "MR.A.13C-Van.D14.R2_Frac24_98\tMR.A.13C-Van.D14.R2_Frac24\r\n",
      "MR.A.13C-Van.D14.R2_Frac7_120\tMR.A.13C-Van.D14.R2_Frac7\r\n",
      "MR.A.13C-Ami.D6.R1_Frac27_121\tMR.A.13C-Ami.D6.R1_Frac27\r\n",
      "MR.F.13C-Xyl.D1.R2_Frac21_125\tMR.F.13C-Xyl.D1.R2_Frac21\r\n",
      "MR.A.13C-Van.D14.R2_Frac22_126\tMR.A.13C-Van.D14.R2_Frac22\r\n",
      "MR.F.13C-Xyl.D1.R2_Frac16_92\tMR.F.13C-Xyl.D1.R2_Frac16\r\n",
      "MR.F.13C-Xyl.D1.R2_Frac16_122\tMR.F.13C-Xyl.D1.R2_Frac16\r\n",
      "MR.F.13C-Xyl.D1.R2_Frac18_129\tMR.F.13C-Xyl.D1.R2_Frac18\r\n",
      "MR.A.13C-Xyl.D3.R2_Frac9_123\tMR.A.13C-Xyl.D3.R2_Frac9\r\n",
      "MR.F.13C-Xyl.D1.R2_Frac8_130\tMR.F.13C-Xyl.D1.R2_Frac8\r\n",
      "MR.A.13C-Ami.D6.R1_Frac4_131\tMR.A.13C-Ami.D6.R1_Frac4\r\n",
      "MR.F.13C-Xyl.D1.R2_Frac7_124\tMR.F.13C-Xyl.D1.R2_Frac7\r\n",
      "MR.F.13C-Pal.D14.R1_Frac22_133\tMR.F.13C-Pal.D14.R1_Frac22\r\n",
      "MR.F.13C-Xyl.D1.R2_Frac24_135\tMR.F.13C-Xyl.D1.R2_Frac24\r\n",
      "MR.A.13C-Van.D14.R2_Frac8_134\tMR.A.13C-Van.D14.R2_Frac8\r\n",
      "MR.A.13C-Van.D14.R2_Frac23_137\tMR.A.13C-Van.D14.R2_Frac23\r\n",
      "MR.F.13C-Ami.D14.R1_Frac4_127\tMR.F.13C-Ami.D14.R1_Frac4\r\n",
      "MR.A.13C-Xyl.D3.R2_Frac14_128\tMR.A.13C-Xyl.D3.R2_Frac14\r\n",
      "MR.F.13C-Ami.D14.R1_Frac18_132\tMR.F.13C-Ami.D14.R1_Frac18\r\n",
      "MR.A.13C-Van.D14.R2_Frac10_139\tMR.A.13C-Van.D14.R2_Frac10\r\n",
      "MR.A.13C-Xyl.D3.R2_Frac9_138\tMR.A.13C-Xyl.D3.R2_Frac9\r\n",
      "MR.F.13C-Ami.D14.R1_Frac18_143\tMR.F.13C-Ami.D14.R1_Frac18\r\n",
      "MR.F.13C-Ami.D14.R1_Frac6_142\tMR.F.13C-Ami.D14.R1_Frac6\r\n",
      "MR.M.13C-Pal.D14.R2_Frac23_136\tMR.M.13C-Pal.D14.R2_Frac23\r\n",
      "MR.F.13C-Pal.D14.R1_Frac23_144\tMR.F.13C-Pal.D14.R1_Frac23\r\n",
      "MR.F.13C-Ami.D14.R1_Frac14_146\tMR.F.13C-Ami.D14.R1_Frac14\r\n",
      "MR.F.13C-Xyl.D1.R2_Frac14_147\tMR.F.13C-Xyl.D1.R2_Frac14\r\n",
      "MR.F.13C-Ami.D14.R1_Frac13_149\tMR.F.13C-Ami.D14.R1_Frac13\r\n",
      "MR.A.13C-Van.D14.R2_Frac26_141\tMR.A.13C-Van.D14.R2_Frac26\r\n",
      "MR.A.13C-Xyl.D3.R2_Frac22_140\tMR.A.13C-Xyl.D3.R2_Frac22\r\n",
      "MR.F.13C-Ami.D14.R1_Frac4_152\tMR.F.13C-Ami.D14.R1_Frac4\r\n",
      "MR.A.13C-Xyl.D3.R2_Frac17_153\tMR.A.13C-Xyl.D3.R2_Frac17\r\n",
      "MR.M.13C-Pal.D14.R2_Frac8_154\tMR.M.13C-Pal.D14.R2_Frac8\r\n",
      "MR.F.13C-Xyl.D1.R2_Frac11_155\tMR.F.13C-Xyl.D1.R2_Frac11\r\n",
      "MR.F.13C-Xyl.D1.R2_Frac20_156\tMR.F.13C-Xyl.D1.R2_Frac20\r\n",
      "MR.F.13C-Xyl.D1.R2_Frac20_157\tMR.F.13C-Xyl.D1.R2_Frac20\r\n",
      "MR.A.13C-Van.D14.R2_Frac19_148\tMR.A.13C-Van.D14.R2_Frac19\r\n",
      "MR.M.13C-Pal.D30.R1_Frac26_150\tMR.M.13C-Pal.D30.R1_Frac26\r\n",
      "MR.F.13C-Xyl.D1.R2_Frac25_151\tMR.F.13C-Xyl.D1.R2_Frac25\r\n",
      "MR.A.13C-Van.D14.R2_Frac3_160\tMR.A.13C-Van.D14.R2_Frac3\r\n",
      "MR.M.13C-Pal.D30.R1_Frac8_161\tMR.M.13C-Pal.D30.R1_Frac8\r\n",
      "MR.A.13C-Van.D14.R2_Frac14_162\tMR.A.13C-Van.D14.R2_Frac14\r\n",
      "MR.F.13C-Pal.D14.R1_Frac20_158\tMR.F.13C-Pal.D14.R1_Frac20\r\n",
      "MR.A.13C-Ami.D6.R1_Frac8_159\tMR.A.13C-Ami.D6.R1_Frac8\r\n",
      "MR.A.13C-Van.D14.R2_Frac8_166\tMR.A.13C-Van.D14.R2_Frac8\r\n",
      "MR.A.13C-Van.D14.R2_Frac26_167\tMR.A.13C-Van.D14.R2_Frac26\r\n",
      "MR.A.13C-Xyl.D3.R2_Frac21_168\tMR.A.13C-Xyl.D3.R2_Frac21\r\n",
      "MR.A.13C-Ami.D6.R1_Frac23_169\tMR.A.13C-Ami.D6.R1_Frac23\r\n",
      "MR.F.13C-Ami.D14.R1_Frac5_170\tMR.F.13C-Ami.D14.R1_Frac5\r\n",
      "MR.A.13C-Xyl.D3.R2_Frac9_171\tMR.A.13C-Xyl.D3.R2_Frac9\r\n",
      "MR.F.13C-Pal.D14.R1_Frac27_172\tMR.F.13C-Pal.D14.R1_Frac27\r\n",
      "MR.A.13C-Ami.D6.R1_Frac27_165\tMR.A.13C-Ami.D6.R1_Frac27\r\n",
      "MR.A.13C-Van.D14.R2_Frac6_145\tMR.A.13C-Van.D14.R2_Frac6\r\n",
      "MR.A.13C-Ami.D6.R1_Frac8_173\tMR.A.13C-Ami.D6.R1_Frac8\r\n",
      "MR.A.13C-Van.D14.R2_Frac6_176\tMR.A.13C-Van.D14.R2_Frac6\r\n",
      "MR.A.13C-Xyl.D3.R2_Frac5_175\tMR.A.13C-Xyl.D3.R2_Frac5\r\n",
      "MR.M.13C-Pal.D14.R2_Frac16_163\tMR.M.13C-Pal.D14.R2_Frac16\r\n",
      "MR.M.13C-Pal.D14.R2_Frac8_178\tMR.M.13C-Pal.D14.R2_Frac8\r\n",
      "MR.A.13C-Van.D14.R2_Frac22_180\tMR.A.13C-Van.D14.R2_Frac22\r\n",
      "MR.M.13C-Pal.D30.R1_Frac26_177\tMR.M.13C-Pal.D30.R1_Frac26\r\n",
      "MR.A.13C-Ami.D6.R1_Frac16_174\tMR.A.13C-Ami.D6.R1_Frac16\r\n",
      "MR.A.13C-Ami.D6.R1_Frac12_183\tMR.A.13C-Ami.D6.R1_Frac12\r\n",
      "MR.F.13C-Ami.D14.R1_Frac15_184\tMR.F.13C-Ami.D14.R1_Frac15\r\n",
      "MR.M.13C-Pal.D30.R1_Frac20_185\tMR.M.13C-Pal.D30.R1_Frac20\r\n",
      "MR.M.13C-Pal.D14.R2_Frac7_186\tMR.M.13C-Pal.D14.R2_Frac7\r\n",
      "MR.A.13C-Ami.D6.R1_Frac13_187\tMR.A.13C-Ami.D6.R1_Frac13\r\n",
      "MR.F.13C-Xyl.D1.R2_Frac13_188\tMR.F.13C-Xyl.D1.R2_Frac13\r\n",
      "MR.A.13C-Ami.D6.R1_Frac23_189\tMR.A.13C-Ami.D6.R1_Frac23\r\n",
      "MR.A.13C-Van.D14.R2_Frac8_190\tMR.A.13C-Van.D14.R2_Frac8\r\n",
      "MR.F.13C-Pal.D14.R1_Frac24_191\tMR.F.13C-Pal.D14.R1_Frac24\r\n",
      "MR.F.13C-Pal.D14.R1_Frac27_192\tMR.F.13C-Pal.D14.R1_Frac27\r\n",
      "MR.M.13C-Pal.D14.R2_Frac7_193\tMR.M.13C-Pal.D14.R2_Frac7\r\n",
      "MR.F.13C-Ami.D14.R1_Frac5_194\tMR.F.13C-Ami.D14.R1_Frac5\r\n",
      "MR.M.13C-Pal.D14.R2_Frac14_195\tMR.M.13C-Pal.D14.R2_Frac14\r\n",
      "MR.M.13C-Pal.D14.R2_Frac14_196\tMR.M.13C-Pal.D14.R2_Frac14\r\n",
      "MR.F.13C-Xyl.D1.R2_Frac8_179\tMR.F.13C-Xyl.D1.R2_Frac8\r\n",
      "MR.A.13C-Xyl.D3.R2_Frac26_164\tMR.A.13C-Xyl.D3.R2_Frac26\r\n",
      "MR.F.13C-Ami.D14.R1_Frac13_199\tMR.F.13C-Ami.D14.R1_Frac13\r\n",
      "MR.A.13C-Ami.D6.R1_Frac21_181\tMR.A.13C-Ami.D6.R1_Frac21\r\n",
      "MR.M.13C-Pal.D30.R1_Frac24_200\tMR.M.13C-Pal.D30.R1_Frac24\r\n",
      "MR.A.13C-Xyl.D3.R2_Frac21_202\tMR.A.13C-Xyl.D3.R2_Frac21\r\n",
      "MR.M.13C-Pal.D14.R2_Frac19_203\tMR.M.13C-Pal.D14.R2_Frac19\r\n",
      "MR.F.13C-Xyl.D1.R2_Frac20_182\tMR.F.13C-Xyl.D1.R2_Frac20\r\n"
     ]
    }
   ],
   "source": [
    "! head -n 200 group_file.txt"
   ]
  },
  {
   "cell_type": "code",
   "execution_count": 14,
   "metadata": {
    "collapsed": false
   },
   "outputs": [
    {
     "name": "stdout",
     "output_type": "stream",
     "text": [
      "5032000\t2543924\r\n",
      "5033000\t2544384\r\n",
      "5034000\t2544840\r\n",
      "5035000\t2545286\r\n",
      "5036000\t2545718\r\n",
      "5037000\t2546161\r\n",
      "5038000\t2546624\r\n",
      "5039000\t2547091\r\n",
      "5040000\t2547572\r\n",
      "5041000\t2548033\r\n",
      "5042000\t2548491\r\n",
      "5043000\t2548944\r\n",
      "5044000\t2549428\r\n",
      "5045000\t2549914\r\n",
      "5046000\t2550415\r\n",
      "5047000\t2550963\r\n",
      "5048000\t2551531\r\n",
      "5049000\t2552055\r\n",
      "5050000\t2552637\r\n",
      "5051000\t2553217\r\n",
      "5052000\t2553826\r\n",
      "5053000\t2554453\r\n",
      "5053833\t2555025\r\n",
      "\r\n",
      "Output File Names: \r\n",
      "pear_merged-fullCyc2_lib6.assembled.dmult_maxee1_noN.names\r\n",
      "pear_merged-fullCyc2_lib6.assembled.dmult_maxee1_noN.unique.fasta\r\n",
      "\r\n",
      "\r\n",
      "mothur > quit()\r\n"
     ]
    }
   ],
   "source": [
    "# unique sequences\n",
    "cmd = 'mothur \"#unique.seqs(fasta={})\"'.format(qcFile2)\n",
    "!$cmd | tail -n 30"
   ]
  },
  {
   "cell_type": "code",
   "execution_count": 15,
   "metadata": {
    "collapsed": false
   },
   "outputs": [
    {
     "name": "stdout",
     "output_type": "stream",
     "text": [
      "Number of unique sequences: 2555025\n"
     ]
    }
   ],
   "source": [
    "qcFile3 = os.path.splitext(qcFile2)[0] + '.unique.fasta'\n",
    "n_uniq = !grep -c \">\" $qcFile3\n",
    "print ('Number of unique sequences: {}'.format(n_uniq[0]))"
   ]
  },
  {
   "cell_type": "code",
   "execution_count": 16,
   "metadata": {
    "collapsed": false
   },
   "outputs": [
    {
     "name": "stdout",
     "output_type": "stream",
     "text": [
      "-rw-rw-r-- 1 sam sam 248M May 16 09:19 pear_merged-fullCyc2_lib6.assembled.dmult_maxee1_noN.names\r\n"
     ]
    }
   ],
   "source": [
    "# name file produced by unique.seqs()\n",
    "nameFile = os.path.splitext(qcFile2)[0] + '.names'\n",
    "!ls -thlc $nameFile"
   ]
  },
  {
   "cell_type": "code",
   "execution_count": 17,
   "metadata": {
    "collapsed": false
   },
   "outputs": [
    {
     "name": "stdout",
     "output_type": "stream",
     "text": [
      "silva.seed_v132.tax\n",
      "silva.seed_v132.align\n",
      "README.md\n"
     ]
    },
    {
     "name": "stderr",
     "output_type": "stream",
     "text": [
      "--2018-05-16 09:19:31--  https://www.mothur.org/w/images/7/71/Silva.seed_v132.tgz\n",
      "Resolving www.mothur.org (www.mothur.org)... 141.214.120.22\n",
      "Connecting to www.mothur.org (www.mothur.org)|141.214.120.22|:443... connected.\n",
      "HTTP request sent, awaiting response... 200 OK\n",
      "Length: 19623900 (19M) [application/x-gzip]\n",
      "Saving to: ‘Silva.seed_v132.tgz’\n",
      "\n",
      "     0K .......... .......... .......... .......... ..........  0% 1.84M 10s\n",
      "    50K .......... .......... .......... .......... ..........  0%  957K 15s\n",
      "   100K .......... .......... .......... .......... ..........  0% 1.84M 13s\n",
      "   150K .......... .......... .......... .......... ..........  1%  968K 15s\n",
      "   200K .......... .......... .......... .......... ..........  1% 1.82M 14s\n",
      "   250K .......... .......... .......... .......... ..........  1%  958K 15s\n",
      "   300K .......... .......... .......... .......... ..........  1% 1.75M 14s\n",
      "   350K .......... .......... .......... .......... ..........  2%  946K 15s\n",
      "   400K .......... .......... .......... .......... ..........  2%  977K 15s\n",
      "   450K .......... .......... .......... .......... ..........  2% 1.77M 15s\n",
      "   500K .......... .......... .......... .......... ..........  2%  948K 15s\n",
      "   550K .......... .......... .......... .......... ..........  3% 1.81M 15s\n",
      "   600K .......... .......... .......... .......... ..........  3%  959K 15s\n",
      "   650K .......... .......... .......... .......... ..........  3% 1.85M 15s\n",
      "   700K .......... .......... .......... .......... ..........  3%  961K 15s\n",
      "   750K .......... .......... .......... .......... ..........  4% 1.85M 15s\n",
      "   800K .......... .......... .......... .......... ..........  4%  962K 15s\n",
      "   850K .......... .......... .......... .......... ..........  4%  951K 15s\n",
      "   900K .......... .......... .......... .......... ..........  4% 1.84M 15s\n",
      "   950K .......... .......... .......... .......... ..........  5%  965K 15s\n",
      "  1000K .......... .......... .......... .......... ..........  5% 1.86M 15s\n",
      "  1050K .......... .......... .......... .......... ..........  5%  957K 15s\n",
      "  1100K .......... .......... .......... .......... ..........  6%  393K 16s\n",
      "  1150K .......... .......... .......... .......... ..........  6% 1.78M 16s\n",
      "  1200K .......... .......... .......... .......... ..........  6%  953K 16s\n",
      "  1250K .......... .......... .......... .......... ..........  6%  984K 16s\n",
      "  1300K .......... .......... .......... .......... ..........  7% 1.83M 16s\n",
      "  1350K .......... .......... .......... .......... ..........  7%  983K 16s\n",
      "  1400K .......... .......... .......... .......... ..........  7% 1.83M 15s\n",
      "  1450K .......... .......... .......... .......... ..........  7%  987K 15s\n",
      "  1500K .......... .......... .......... .......... ..........  8% 1.84M 15s\n",
      "  1550K .......... .......... .......... .......... ..........  8%  929K 15s\n",
      "  1600K .......... .......... .......... .......... ..........  8%  958K 15s\n",
      "  1650K .......... .......... .......... .......... ..........  8% 1.87M 15s\n",
      "  1700K .......... .......... .......... .......... ..........  9%  969K 15s\n",
      "  1750K .......... .......... .......... .......... ..........  9% 1.84M 15s\n",
      "  1800K .......... .......... .......... .......... ..........  9%  989K 15s\n",
      "  1850K .......... .......... .......... .......... ..........  9% 1.84M 15s\n",
      "  1900K .......... .......... .......... .......... .......... 10%  987K 15s\n",
      "  1950K .......... .......... .......... .......... .......... 10% 1.79M 15s\n",
      "  2000K .......... .......... .......... .......... .......... 10%  983K 15s\n",
      "  2050K .......... .......... .......... .......... .......... 10% 1.87M 14s\n",
      "  2100K .......... .......... .......... .......... .......... 11% 1.79M 14s\n",
      "  2150K .......... .......... .......... .......... .......... 11% 1.81M 14s\n",
      "  2200K .......... .......... .......... .......... .......... 11% 1.87M 14s\n",
      "  2250K .......... .......... .......... .......... .......... 12% 1.83M 14s\n",
      "  2300K .......... .......... .......... .......... .......... 12%  959K 14s\n",
      "  2350K .......... .......... .......... .......... .......... 12% 1.85M 14s\n",
      "  2400K .......... .......... .......... .......... .......... 12%  972K 14s\n",
      "  2450K .......... .......... .......... .......... .......... 13% 1.85M 14s\n",
      "  2500K .......... .......... .......... .......... .......... 13% 1.79M 13s\n",
      "  2550K .......... .......... .......... .......... .......... 13% 1.87M 13s\n",
      "  2600K .......... .......... .......... .......... .......... 13% 1.84M 13s\n",
      "  2650K .......... .......... .......... .......... .......... 14%  953K 13s\n",
      "  2700K .......... .......... .......... .......... .......... 14% 1.83M 13s\n",
      "  2750K .......... .......... .......... .......... .......... 14%  393K 14s\n",
      "  2800K .......... .......... .......... .......... .......... 14% 1.83M 13s\n",
      "  2850K .......... .......... .......... .......... .......... 15%  979K 13s\n",
      "  2900K .......... .......... .......... .......... .......... 15% 1.77M 13s\n",
      "  2950K .......... .......... .......... .......... .......... 15% 1.80M 13s\n",
      "  3000K .......... .......... .......... .......... .......... 15% 1.83M 13s\n",
      "  3050K .......... .......... .......... .......... .......... 16%  940K 13s\n",
      "  3100K .......... .......... .......... .......... .......... 16% 1.72M 13s\n",
      "  3150K .......... .......... .......... .......... .......... 16% 1.85M 13s\n",
      "  3200K .......... .......... .......... .......... .......... 16%  971K 13s\n",
      "  3250K .......... .......... .......... .......... .......... 17% 1.86M 13s\n",
      "  3300K .......... .......... .......... .......... .......... 17% 1.78M 13s\n",
      "  3350K .......... .......... .......... .......... .......... 17% 1.87M 13s\n",
      "  3400K .......... .......... .......... .......... .......... 18%  868K 13s\n",
      "  3450K .......... .......... .......... .......... .......... 18% 1.67M 13s\n",
      "  3500K .......... .......... .......... .......... .......... 18% 1.32M 13s\n",
      "  3550K .......... .......... .......... .......... .......... 18% 1.89M 12s\n",
      "  3600K .......... .......... .......... .......... .......... 19% 1.44M 12s\n",
      "  3650K .......... .......... .......... .......... .......... 19% 1.85M 12s\n",
      "  3700K .......... .......... .......... .......... .......... 19% 1.08M 12s\n",
      "  3750K .......... .......... .......... .......... .......... 19% 1.85M 12s\n",
      "  3800K .......... .......... .......... .......... .......... 20% 1.74M 12s\n",
      "  3850K .......... .......... .......... .......... .......... 20% 1.25M 12s\n",
      "  3900K .......... .......... .......... .......... .......... 20%  883K 12s\n",
      "  3950K .......... .......... .......... .......... .......... 20% 1.53M 12s\n",
      "  4000K .......... .......... .......... .......... .......... 21% 1.35M 12s\n",
      "  4050K .......... .......... .......... .......... .......... 21% 1.78M 12s\n",
      "  4100K .......... .......... .......... .......... .......... 21% 1.03M 12s\n",
      "  4150K .......... .......... .......... .......... .......... 21% 1.85M 12s\n",
      "  4200K .......... .......... .......... .......... .......... 22% 1.84M 12s\n",
      "  4250K .......... .......... .......... .......... .......... 22% 1.87M 12s\n",
      "  4300K .......... .......... .......... .......... .......... 22% 1.86M 11s\n",
      "  4350K .......... .......... .......... .......... .......... 22% 1.74M 11s\n",
      "  4400K .......... .......... .......... .......... .......... 23% 1006K 11s\n",
      "  4450K .......... .......... .......... .......... .......... 23% 1.79M 11s\n",
      "  4500K .......... .......... .......... .......... .......... 23% 1.86M 11s\n",
      "  4550K .......... .......... .......... .......... .......... 24% 1.88M 11s\n",
      "  4600K .......... .......... .......... .......... .......... 24% 1.81M 11s\n",
      "  4650K .......... .......... .......... .......... .......... 24% 1.87M 11s\n",
      "  4700K .......... .......... .......... .......... .......... 24% 1.85M 11s\n",
      "  4750K .......... .......... .......... .......... .......... 25%  956K 11s\n",
      "  4800K .......... .......... .......... .......... .......... 25% 1.81M 11s\n",
      "  4850K .......... .......... .......... .......... .......... 25% 1.87M 11s\n",
      "  4900K .......... .......... .......... .......... .......... 25% 1.86M 11s\n",
      "  4950K .......... .......... .......... .......... .......... 26% 1.79M 11s\n",
      "  5000K .......... .......... .......... .......... .......... 26%  935K 11s\n",
      "  5050K .......... .......... .......... .......... .......... 26% 1.56M 11s\n",
      "  5100K .......... .......... .......... .......... .......... 26% 1.85M 11s\n",
      "  5150K .......... .......... .......... .......... .......... 27% 1.87M 10s\n",
      "  5200K .......... .......... .......... .......... .......... 27% 1.71M 10s\n",
      "  5250K .......... .......... .......... .......... .......... 27% 1.74M 10s\n",
      "  5300K .......... .......... .......... .......... .......... 27% 1.24M 10s\n",
      "  5350K .......... .......... .......... .......... .......... 28% 1.75M 10s\n",
      "  5400K .......... .......... .......... .......... .......... 28% 1.58M 10s\n",
      "  5450K .......... .......... .......... .......... .......... 28% 1.61M 10s\n",
      "  5500K .......... .......... .......... .......... .......... 28% 1.43M 10s\n",
      "  5550K .......... .......... .......... .......... .......... 29% 1.84M 10s\n",
      "  5600K .......... .......... .......... .......... .......... 29% 1.84M 10s\n",
      "  5650K .......... .......... .......... .......... .......... 29%  997K 10s\n",
      "  5700K .......... .......... .......... .......... .......... 30% 1.85M 10s\n",
      "  5750K .......... .......... .......... .......... .......... 30% 1.81M 10s\n",
      "  5800K .......... .......... .......... .......... .......... 30% 1.89M 10s\n",
      "  5850K .......... .......... .......... .......... .......... 30%  991K 10s\n",
      "  5900K .......... .......... .......... .......... .......... 31% 1.78M 10s\n",
      "  5950K .......... .......... .......... .......... .......... 31% 1.84M 10s\n",
      "  6000K .......... .......... .......... .......... .......... 31% 1.89M 10s\n",
      "  6050K .......... .......... .......... .......... .......... 31% 1.81M 10s\n",
      "  6100K .......... .......... .......... .......... .......... 32% 1.91M 10s\n",
      "  6150K .......... .......... .......... .......... .......... 32% 1.81M 9s\n",
      "  6200K .......... .......... .......... .......... .......... 32% 1.88M 9s\n",
      "  6250K .......... .......... .......... .......... .......... 32% 1.80M 9s\n",
      "  6300K .......... .......... .......... .......... .......... 33% 1.88M 9s\n",
      "  6350K .......... .......... .......... .......... .......... 33% 1.80M 9s\n",
      "  6400K .......... .......... .......... .......... .......... 33% 1.82M 9s\n",
      "  6450K .......... .......... .......... .......... .......... 33% 1.81M 9s\n",
      "  6500K .......... .......... .......... .......... .......... 34% 1.81M 9s\n",
      "  6550K .......... .......... .......... .......... .......... 34% 1.84M 9s\n",
      "  6600K .......... .......... .......... .......... .......... 34% 1.36M 9s\n",
      "  6650K .......... .......... .......... .......... .......... 34% 1.81M 9s\n",
      "  6700K .......... .......... .......... .......... .......... 35% 1.83M 9s\n",
      "  6750K .......... .......... .......... .......... .......... 35%  990K 9s\n",
      "  6800K .......... .......... .......... .......... .......... 35% 1.81M 9s\n",
      "  6850K .......... .......... .......... .......... .......... 36% 1.88M 9s\n",
      "  6900K .......... .......... .......... .......... .......... 36% 1.87M 9s\n",
      "  6950K .......... .......... .......... .......... .......... 36% 1.88M 9s\n",
      "  7000K .......... .......... .......... .......... .......... 36% 1.87M 9s\n",
      "  7050K .......... .......... .......... .......... .......... 37% 1.87M 9s\n",
      "  7100K .......... .......... .......... .......... .......... 37% 1.89M 8s\n",
      "  7150K .......... .......... .......... .......... .......... 37% 1.84M 8s\n",
      "  7200K .......... .......... .......... .......... .......... 37% 1.59M 8s\n",
      "  7250K .......... .......... .......... .......... .......... 38% 1.84M 8s\n",
      "  7300K .......... .......... .......... .......... .......... 38% 1.85M 8s\n",
      "  7350K .......... .......... .......... .......... .......... 38% 1.86M 8s\n",
      "  7400K .......... .......... .......... .......... .......... 38% 1.87M 8s\n",
      "  7450K .......... .......... .......... .......... .......... 39% 1.87M 8s\n",
      "  7500K .......... .......... .......... .......... .......... 39% 1.87M 8s\n",
      "  7550K .......... .......... .......... .......... .......... 39% 1.86M 8s\n",
      "  7600K .......... .......... .......... .......... .......... 39% 1.85M 8s\n",
      "  7650K .......... .......... .......... .......... .......... 40% 1.86M 8s\n",
      "  7700K .......... .......... .......... .......... .......... 40% 1.87M 8s\n",
      "  7750K .......... .......... .......... .......... .......... 40% 1.86M 8s\n",
      "  7800K .......... .......... .......... .......... .......... 40% 1.73M 8s\n",
      "  7850K .......... .......... .......... .......... .......... 41% 1.85M 8s\n",
      "  7900K .......... .......... .......... .......... .......... 41% 1.03M 8s\n",
      "  7950K .......... .......... .......... .......... .......... 41% 1.88M 8s\n",
      "  8000K .......... .......... .......... .......... .......... 42% 1.76M 8s\n",
      "  8050K .......... .......... .......... .......... .......... 42% 1.44M 8s\n",
      "  8100K .......... .......... .......... .......... .......... 42% 1.48M 8s\n",
      "  8150K .......... .......... .......... .......... .......... 42% 1.83M 8s\n",
      "  8200K .......... .......... .......... .......... .......... 43% 1.83M 8s\n",
      "  8250K .......... .......... .......... .......... .......... 43% 1.84M 7s\n",
      "  8300K .......... .......... .......... .......... .......... 43% 1.78M 7s\n",
      "  8350K .......... .......... .......... .......... .......... 43% 1.82M 7s\n",
      "  8400K .......... .......... .......... .......... .......... 44% 1.88M 7s\n",
      "  8450K .......... .......... .......... .......... .......... 44% 1.79M 7s\n",
      "  8500K .......... .......... .......... .......... .......... 44% 1.84M 7s\n",
      "  8550K .......... .......... .......... .......... .......... 44% 1.83M 7s\n",
      "  8600K .......... .......... .......... .......... .......... 45% 1.84M 7s\n",
      "  8650K .......... .......... .......... .......... .......... 45% 1.82M 7s\n",
      "  8700K .......... .......... .......... .......... .......... 45% 1.84M 7s\n",
      "  8750K .......... .......... .......... .......... .......... 45% 1.83M 7s\n",
      "  8800K .......... .......... .......... .......... .......... 46% 1.85M 7s\n",
      "  8850K .......... .......... .......... .......... .......... 46% 1.83M 7s\n",
      "  8900K .......... .......... .......... .......... .......... 46% 1.84M 7s\n",
      "  8950K .......... .......... .......... .......... .......... 46% 1.83M 7s\n",
      "  9000K .......... .......... .......... .......... .......... 47% 1.83M 7s\n",
      "  9050K .......... .......... .......... .......... .......... 47% 1.84M 7s\n",
      "  9100K .......... .......... .......... .......... .......... 47% 1.84M 7s\n",
      "  9150K .......... .......... .......... .......... .......... 48%  969K 7s\n",
      "  9200K .......... .......... .......... .......... .......... 48% 1.81M 7s\n",
      "  9250K .......... .......... .......... .......... .......... 48% 1.85M 7s\n",
      "  9300K .......... .......... .......... .......... .......... 48% 1.82M 7s\n",
      "  9350K .......... .......... .......... .......... .......... 49% 1.83M 7s\n",
      "  9400K .......... .......... .......... .......... .......... 49% 1.85M 7s\n",
      "  9450K .......... .......... .......... .......... .......... 49% 1.82M 6s\n",
      "  9500K .......... .......... .......... .......... .......... 49% 1.77M 6s\n",
      "  9550K .......... .......... .......... .......... .......... 50% 1.83M 6s\n",
      "  9600K .......... .......... .......... .......... .......... 50% 1.83M 6s\n",
      "  9650K .......... .......... .......... .......... .......... 50% 1.81M 6s\n",
      "  9700K .......... .......... .......... .......... .......... 50% 1.85M 6s\n",
      "  9750K .......... .......... .......... .......... .......... 51% 1.83M 6s\n",
      "  9800K .......... .......... .......... .......... .......... 51% 1.84M 6s\n",
      "  9850K .......... .......... .......... .......... .......... 51% 1.82M 6s\n",
      "  9900K .......... .......... .......... .......... .......... 51% 1.84M 6s\n",
      "  9950K .......... .......... .......... .......... .......... 52% 1.85M 6s\n",
      " 10000K .......... .......... .......... .......... .......... 52% 1.85M 6s\n",
      " 10050K .......... .......... .......... .......... .......... 52% 1.85M 6s\n",
      " 10100K .......... .......... .......... .......... .......... 52% 1.86M 6s\n",
      " 10150K .......... .......... .......... .......... .......... 53% 1.86M 6s\n",
      " 10200K .......... .......... .......... .......... .......... 53% 1.86M 6s\n",
      " 10250K .......... .......... .......... .......... .......... 53% 1.87M 6s\n",
      " 10300K .......... .......... .......... .......... .......... 54% 1.86M 6s\n",
      " 10350K .......... .......... .......... .......... .......... 54% 1.02M 6s\n",
      " 10400K .......... .......... .......... .......... .......... 54% 1.86M 6s\n",
      " 10450K .......... .......... .......... .......... .......... 54% 1.87M 6s\n",
      " 10500K .......... .......... .......... .......... .......... 55% 1.87M 6s\n",
      " 10550K .......... .......... .......... .......... .......... 55% 1.87M 6s\n",
      " 10600K .......... .......... .......... .......... .......... 55% 1.87M 6s\n",
      " 10650K .......... .......... .......... .......... .......... 55% 1.87M 6s\n",
      " 10700K .......... .......... .......... .......... .......... 56% 1.86M 6s\n",
      " 10750K .......... .......... .......... .......... .......... 56% 1.54M 5s\n",
      " 10800K .......... .......... .......... .......... .......... 56% 1.86M 5s\n",
      " 10850K .......... .......... .......... .......... .......... 56% 1.87M 5s\n",
      " 10900K .......... .......... .......... .......... .......... 57% 1.81M 5s\n",
      " 10950K .......... .......... .......... .......... .......... 57% 1.86M 5s\n",
      " 11000K .......... .......... .......... .......... .......... 57% 1.86M 5s\n",
      " 11050K .......... .......... .......... .......... .......... 57% 1.80M 5s\n",
      " 11100K .......... .......... .......... .......... .......... 58% 1.84M 5s\n",
      " 11150K .......... .......... .......... .......... .......... 58% 1.85M 5s\n",
      " 11200K .......... .......... .......... .......... .......... 58% 1.86M 5s\n",
      " 11250K .......... .......... .......... .......... .......... 58% 1.85M 5s\n",
      " 11300K .......... .......... .......... .......... .......... 59% 1.87M 5s\n",
      " 11350K .......... .......... .......... .......... .......... 59% 1.86M 5s\n",
      " 11400K .......... .......... .......... .......... .......... 59% 1.86M 5s\n",
      " 11450K .......... .......... .......... .......... .......... 60% 1.86M 5s\n",
      " 11500K .......... .......... .......... .......... .......... 60% 1.28M 5s\n",
      " 11550K .......... .......... .......... .......... .......... 60% 1.85M 5s\n",
      " 11600K .......... .......... .......... .......... .......... 60% 1.72M 5s\n",
      " 11650K .......... .......... .......... .......... .......... 61% 1.90M 5s\n",
      " 11700K .......... .......... .......... .......... .......... 61% 1.89M 5s\n",
      " 11750K .......... .......... .......... .......... .......... 61% 1.89M 5s\n",
      " 11800K .......... .......... .......... .......... .......... 61% 1.89M 5s\n",
      " 11850K .......... .......... .......... .......... .......... 62% 1.90M 5s\n",
      " 11900K .......... .......... .......... .......... .......... 62% 1.82M 5s\n",
      " 11950K .......... .......... .......... .......... .......... 62%  964K 5s\n",
      " 12000K .......... .......... .......... .......... .......... 62% 1.83M 5s\n",
      " 12050K .......... .......... .......... .......... .......... 63% 1.84M 5s\n",
      " 12100K .......... .......... .......... .......... .......... 63% 1.82M 5s\n",
      " 12150K .......... .......... .......... .......... .......... 63% 1.72M 4s\n",
      " 12200K .......... .......... .......... .......... .......... 63% 1.90M 4s\n",
      " 12250K .......... .......... .......... .......... .......... 64% 1.84M 4s\n",
      " 12300K .......... .......... .......... .......... .......... 64% 1.76M 4s\n",
      " 12350K .......... .......... .......... .......... .......... 64% 1.90M 4s\n",
      " 12400K .......... .......... .......... .......... .......... 64% 1.75M 4s\n",
      " 12450K .......... .......... .......... .......... .......... 65% 1.80M 4s\n",
      " 12500K .......... .......... .......... .......... .......... 65% 1.84M 4s\n",
      " 12550K .......... .......... .......... .......... .......... 65% 1.64M 4s\n",
      " 12600K .......... .......... .......... .......... .......... 66% 1.73M 4s\n",
      " 12650K .......... .......... .......... .......... .......... 66% 1.60M 4s\n",
      " 12700K .......... .......... .......... .......... .......... 66% 1.80M 4s\n",
      " 12750K .......... .......... .......... .......... .......... 66% 1.78M 4s\n",
      " 12800K .......... .......... .......... .......... .......... 67% 1.63M 4s\n",
      " 12850K .......... .......... .......... .......... .......... 67% 1.67M 4s\n",
      " 12900K .......... .......... .......... .......... .......... 67% 1.82M 4s\n",
      " 12950K .......... .......... .......... .......... .......... 67% 1.84M 4s\n",
      " 13000K .......... .......... .......... .......... .......... 68% 1.57M 4s\n",
      " 13050K .......... .......... .......... .......... .......... 68% 1.53M 4s\n",
      " 13100K .......... .......... .......... .......... .......... 68% 1.86M 4s\n",
      " 13150K .......... .......... .......... .......... .......... 68% 1.86M 4s\n",
      " 13200K .......... .......... .......... .......... .......... 69% 1.14M 4s\n",
      " 13250K .......... .......... .......... .......... .......... 69% 1.89M 4s\n",
      " 13300K .......... .......... .......... .......... .......... 69% 1.89M 4s\n",
      " 13350K .......... .......... .......... .......... .......... 69% 1.61M 4s\n",
      " 13400K .......... .......... .......... .......... .......... 70% 1.86M 4s\n",
      " 13450K .......... .......... .......... .......... .......... 70% 1.83M 4s\n",
      " 13500K .......... .......... .......... .......... .......... 70% 1.09M 4s\n",
      " 13550K .......... .......... .......... .......... .......... 70% 1.64M 4s\n",
      " 13600K .......... .......... .......... .......... .......... 71% 1.82M 4s\n",
      " 13650K .......... .......... .......... .......... .......... 71% 1.90M 3s\n",
      " 13700K .......... .......... .......... .......... .......... 71% 1.66M 3s\n",
      " 13750K .......... .......... .......... .......... .......... 72% 1.34M 3s\n",
      " 13800K .......... .......... .......... .......... .......... 72% 1.75M 3s\n",
      " 13850K .......... .......... .......... .......... .......... 72% 1.79M 3s\n",
      " 13900K .......... .......... .......... .......... .......... 72% 1.63M 3s\n",
      " 13950K .......... .......... .......... .......... .......... 73% 1.79M 3s\n",
      " 14000K .......... .......... .......... .......... .......... 73% 1.79M 3s\n",
      " 14050K .......... .......... .......... .......... .......... 73% 1.49M 3s\n",
      " 14100K .......... .......... .......... .......... .......... 73% 1.72M 3s\n",
      " 14150K .......... .......... .......... .......... .......... 74% 1.86M 3s\n",
      " 14200K .......... .......... .......... .......... .......... 74% 1.44M 3s\n",
      " 14250K .......... .......... .......... .......... .......... 74% 1.75M 3s\n",
      " 14300K .......... .......... .......... .......... .......... 74% 1.62M 3s\n",
      " 14350K .......... .......... .......... .......... .......... 75% 1.58M 3s\n",
      " 14400K .......... .......... .......... .......... .......... 75% 1.52M 3s\n",
      " 14450K .......... .......... .......... .......... .......... 75% 1.41M 3s\n",
      " 14500K .......... .......... .......... .......... .......... 75% 1.38M 3s\n",
      " 14550K .......... .......... .......... .......... .......... 76% 1.88M 3s\n",
      " 14600K .......... .......... .......... .......... .......... 76% 1.88M 3s\n",
      " 14650K .......... .......... .......... .......... .......... 76% 1.86M 3s\n",
      " 14700K .......... .......... .......... .......... .......... 76% 1.88M 3s\n",
      " 14750K .......... .......... .......... .......... .......... 77% 1.88M 3s\n",
      " 14800K .......... .......... .......... .......... .......... 77% 1017K 3s\n",
      " 14850K .......... .......... .......... .......... .......... 77% 1.88M 3s\n",
      " 14900K .......... .......... .......... .......... .......... 78% 1.86M 3s\n",
      " 14950K .......... .......... .......... .......... .......... 78% 1.88M 3s\n",
      " 15000K .......... .......... .......... .......... .......... 78% 1.88M 3s\n",
      " 15050K .......... .......... .......... .......... .......... 78% 1.82M 3s\n",
      " 15100K .......... .......... .......... .......... .......... 79% 1.88M 3s\n",
      " 15150K .......... .......... .......... .......... .......... 79% 1.85M 3s\n",
      " 15200K .......... .......... .......... .......... .......... 79% 1.84M 2s\n",
      " 15250K .......... .......... .......... .......... .......... 79% 1.88M 2s\n",
      " 15300K .......... .......... .......... .......... .......... 80% 1.86M 2s\n",
      " 15350K .......... .......... .......... .......... .......... 80% 1.90M 2s\n",
      " 15400K .......... .......... .......... .......... .......... 80% 1.87M 2s\n",
      " 15450K .......... .......... .......... .......... .......... 80% 1.92M 2s\n",
      " 15500K .......... .......... .......... .......... .......... 81% 1.84M 2s\n",
      " 15550K .......... .......... .......... .......... .......... 81% 1.88M 2s\n",
      " 15600K .......... .......... .......... .......... .......... 81% 1.87M 2s\n",
      " 15650K .......... .......... .......... .......... .......... 81% 1.88M 2s\n",
      " 15700K .......... .......... .......... .......... .......... 82% 1.88M 2s\n",
      " 15750K .......... .......... .......... .......... .......... 82% 1.89M 2s\n",
      " 15800K .......... .......... .......... .......... .......... 82% 1.86M 2s\n",
      " 15850K .......... .......... .......... .......... .......... 82% 1.89M 2s\n",
      " 15900K .......... .......... .......... .......... .......... 83% 1.90M 2s\n",
      " 15950K .......... .......... .......... .......... .......... 83% 1.05M 2s\n",
      " 16000K .......... .......... .......... .......... .......... 83% 1.85M 2s\n",
      " 16050K .......... .......... .......... .......... .......... 84% 1.90M 2s\n",
      " 16100K .......... .......... .......... .......... .......... 84% 1.90M 2s\n",
      " 16150K .......... .......... .......... .......... .......... 84% 6.79M 2s\n",
      " 16200K .......... .......... .......... .......... .......... 84% 1.89M 2s\n",
      " 16250K .......... .......... .......... .......... .......... 85% 1.87M 2s\n",
      " 16300K .......... .......... .......... .......... .......... 85% 1.88M 2s\n",
      " 16350K .......... .......... .......... .......... .......... 85% 1.03M 2s\n",
      " 16400K .......... .......... .......... .......... .......... 85% 9.07M 2s\n",
      " 16450K .......... .......... .......... .......... .......... 86% 1.83M 2s\n",
      " 16500K .......... .......... .......... .......... .......... 86% 1.87M 2s\n",
      " 16550K .......... .......... .......... .......... .......... 86% 1.83M 2s\n",
      " 16600K .......... .......... .......... .......... .......... 86% 1.85M 2s\n",
      " 16650K .......... .......... .......... .......... .......... 87% 1.92M 2s\n",
      " 16700K .......... .......... .......... .......... .......... 87% 1.82M 2s\n",
      " 16750K .......... .......... .......... .......... .......... 87% 1.89M 1s\n",
      " 16800K .......... .......... .......... .......... .......... 87% 1.89M 1s\n",
      " 16850K .......... .......... .......... .......... .......... 88% 1.88M 1s\n",
      " 16900K .......... .......... .......... .......... .......... 88% 1.89M 1s\n",
      " 16950K .......... .......... .......... .......... .......... 88% 1.85M 1s\n",
      " 17000K .......... .......... .......... .......... .......... 88% 1.81M 1s\n",
      " 17050K .......... .......... .......... .......... .......... 89% 16.7M 1s\n",
      " 17100K .......... .......... .......... .......... .......... 89% 1.72M 1s\n",
      " 17150K .......... .......... .......... .......... .......... 89%  914K 1s\n",
      " 17200K .......... .......... .......... .......... .......... 90% 1.71M 1s\n",
      " 17250K .......... .......... .......... .......... .......... 90% 1.82M 1s\n",
      " 17300K .......... .......... .......... .......... .......... 90% 1.81M 1s\n",
      " 17350K .......... .......... .......... .......... .......... 90% 23.1M 1s\n",
      " 17400K .......... .......... .......... .......... .......... 91% 1.80M 1s\n",
      " 17450K .......... .......... .......... .......... .......... 91% 1.87M 1s\n",
      " 17500K .......... .......... .......... .......... .......... 91% 1.82M 1s\n",
      " 17550K .......... .......... .......... .......... .......... 91% 1.92M 1s\n",
      " 17600K .......... .......... .......... .......... .......... 92% 1.90M 1s\n",
      " 17650K .......... .......... .......... .......... .......... 92% 1.90M 1s\n",
      " 17700K .......... .......... .......... .......... .......... 92% 18.7M 1s\n",
      " 17750K .......... .......... .......... .......... .......... 92% 1.89M 1s\n",
      " 17800K .......... .......... .......... .......... .......... 93% 1.88M 1s\n",
      " 17850K .......... .......... .......... .......... .......... 93% 1.90M 1s\n",
      " 17900K .......... .......... .......... .......... .......... 93% 1.89M 1s\n",
      " 17950K .......... .......... .......... .......... .......... 93% 1.83M 1s\n",
      " 18000K .......... .......... .......... .......... .......... 94% 1.88M 1s\n",
      " 18050K .......... .......... .......... .......... .......... 94% 1.93M 1s\n",
      " 18100K .......... .......... .......... .......... .......... 94% 1.85M 1s\n",
      " 18150K .......... .......... .......... .......... .......... 94% 1.88M 1s\n",
      " 18200K .......... .......... .......... .......... .......... 95% 1.85M 1s\n",
      " 18250K .......... .......... .......... .......... .......... 95% 1.89M 1s\n",
      " 18300K .......... .......... .......... .......... .......... 95% 1.94M 0s\n",
      " 18350K .......... .......... .......... .......... .......... 96% 1.86M 0s\n",
      " 18400K .......... .......... .......... .......... .......... 96% 1.85M 0s\n",
      " 18450K .......... .......... .......... .......... .......... 96% 1.88M 0s\n",
      " 18500K .......... .......... .......... .......... .......... 96% 1.86M 0s\n",
      " 18550K .......... .......... .......... .......... .......... 97% 1.94M 0s\n",
      " 18600K .......... .......... .......... .......... .......... 97% 1.91M 0s\n",
      " 18650K .......... .......... .......... .......... .......... 97% 14.9M 0s\n",
      " 18700K .......... .......... .......... .......... .......... 97% 1.87M 0s\n",
      " 18750K .......... .......... .......... .......... .......... 98% 1.88M 0s\n",
      " 18800K .......... .......... .......... .......... .......... 98% 1.85M 0s\n",
      " 18850K .......... .......... .......... .......... .......... 98% 1.92M 0s\n",
      " 18900K .......... .......... .......... .......... .......... 98% 1.87M 0s\n",
      " 18950K .......... .......... .......... .......... .......... 99% 1.89M 0s\n",
      " 19000K .......... .......... .......... .......... .......... 99% 22.2M 0s\n",
      " 19050K .......... .......... .......... .......... .......... 99% 1.84M 0s\n",
      " 19100K .......... .......... .......... .......... .......... 99% 1.87M 0s\n",
      " 19150K .......... ...                                        100% 87.8M=12s\n",
      "\n",
      "2018-05-16 09:19:43 (1.62 MB/s) - ‘Silva.seed_v132.tgz’ saved [19623900/19623900]\n",
      "\n"
     ]
    }
   ],
   "source": [
    "%%bash \n",
    "# Remove database if already exsists\n",
    "if [ -d mothur_silva_db ]; then\n",
    "    rm -rf mothur_silva_db\n",
    "fi\n",
    "\n",
    "#if ! [ -d mothur_silva_db ]; then\n",
    "#    mkdir mothur_silva_db\n",
    "#fi\n",
    "\n",
    "mkdir mothur_silva_db\n",
    "cd mothur_silva_db\n",
    "\n",
    "# Download mothur recreatd SEED database release 132.\n",
    "wget https://www.mothur.org/w/images/7/71/Silva.seed_v132.tgz\n",
    "#wget https://www.mothur.org/w/images/a/a4/Silva.seed_v128.tgz\n",
    "tar -xvzf Silva.seed_v132.tgz\n",
    "rm Silva.seed_v132.tgz"
   ]
  },
  {
   "cell_type": "code",
   "execution_count": null,
   "metadata": {
    "collapsed": false
   },
   "outputs": [
    {
     "name": "stdout",
     "output_type": "stream",
     "text": [
      "700\n",
      "800\n",
      "900\n",
      "1000\n",
      "1100\n",
      "1118\n",
      "\n",
      "\n",
      "\n",
      "Length of filtered alignment: 10180\n",
      "Number of columns removed: 39820\n",
      "Length of the original alignment: 50000\n",
      "Number of sequences used to construct filter: 11180\n",
      "\n",
      "Output File Names: \n",
      "silva.filter\n",
      "silva.seed_v132.filter.fasta\n",
      "\n",
      "\n",
      "mothur > quit()\n",
      "\n",
      "Number of sequences post-filter: 11180\n"
     ]
    }
   ],
   "source": [
    "silvaFile = 'silva.seed_v132.align'\n",
    "cmd = 'mothur \"#filter.seqs(vertical=t, fasta={}, processors={})\"'.format(silvaFile, nprocs)\n",
    "!cd mothur_silva_db; $cmd | tail -n 20\n",
    "\n",
    "silvaFileFilt = os.path.splitext(silvaFile)[0] + '.filter.fasta'\n",
    "silvaFileFilt = os.path.join('mothur_silva_db', silvaFileFilt)\n",
    "ret = !grep -c \">\" $silvaFileFilt\n",
    "print ('\\nNumber of sequences post-filter: {}'.format(ret[0]))"
   ]
  },
  {
   "cell_type": "code",
   "execution_count": null,
   "metadata": {
    "collapsed": false
   },
   "outputs": [],
   "source": [
    "# aligning sequences\n",
    "qcFile3a = re.sub('-', '\\-', qcFile3)\n",
    "cmd = 'mothur \"#align.seqs(candidate={}, template={}, processors={}, flip=T)\"'.format(qcFile3a, silvaFileFilt, nprocs)\n",
    "!$cmd | tail -n 30"
   ]
  },
  {
   "cell_type": "code",
   "execution_count": null,
   "metadata": {
    "collapsed": false
   },
   "outputs": [],
   "source": [
    "qcFile4 = os.path.splitext(qcFile3)[0] + '.align'\n",
    "!ls -thlc $qcFile4 "
   ]
  },
  {
   "cell_type": "code",
   "execution_count": null,
   "metadata": {
    "collapsed": false
   },
   "outputs": [],
   "source": [
    "# filtering out gap positions in the alignment\n",
    "qcFile4a = re.sub('-', '\\-', qcFile4)\n",
    "cmd = 'mothur \"#filter.seqs(vertical=t, fasta={}, processors={})\"'.format(qcFile4a, nprocs)\n",
    "!$cmd | tail -n 30"
   ]
  },
  {
   "cell_type": "code",
   "execution_count": null,
   "metadata": {
    "collapsed": false
   },
   "outputs": [],
   "source": [
    "qcFile5 = os.path.splitext(qcFile3)[0] + '.filter.fasta'\n",
    "!ls -thlc $qcFile5"
   ]
  },
  {
   "cell_type": "code",
   "execution_count": 24,
   "metadata": {
    "collapsed": false
   },
   "outputs": [
    {
     "name": "stdout",
     "output_type": "stream",
     "text": [
      "Using 10 processors.\r\n",
      "\r\n",
      "\t\tStart\tEnd\tNBases\tAmbigs\tPolymer\tNumSeqs\r\n",
      "Minimum:\t0\t0\t0\t0\t1\t1\r\n",
      "2.5%-tile:\t227\t979\t253\t0\t4\t126346\r\n",
      "25%-tile:\t227\t979\t253\t0\t4\t1263459\r\n",
      "Median: \t227\t979\t253\t0\t5\t2526917\r\n",
      "75%-tile:\t227\t979\t253\t0\t6\t3790375\r\n",
      "97.5%-tile:\t227\t979\t254\t0\t8\t4927488\r\n",
      "Maximum:\t1294\t1294\t367\t0\t51\t5053833\r\n",
      "Mean:\t227.944\t979.04\t252.622\t0\t5.15889\r\n",
      "# of unique seqs:\t2555025\r\n",
      "total # of seqs:\t5053833\r\n",
      "\r\n",
      "Output File Names: \r\n",
      "pear_merged-fullCyc2_lib6.assembled.dmult_maxee1_noN.unique.filter.summary\r\n",
      "\r\n",
      "It took 20 secs to summarize 5053833 sequences.\r\n",
      "\r\n",
      "mothur > quit()\r\n"
     ]
    }
   ],
   "source": [
    "cmd = 'mothur \"#summary.seqs(fasta={}, processors={}, name={})\"'.format(qcFile5, nprocs, nameFile)\n",
    "!$cmd | tail -n 20"
   ]
  },
  {
   "cell_type": "markdown",
   "metadata": {},
   "source": [
    "## Removing homopolymers (> 8) and screening out sequences that don't align to an amplicon region"
   ]
  },
  {
   "cell_type": "code",
   "execution_count": 25,
   "metadata": {
    "collapsed": false
   },
   "outputs": [
    {
     "name": "stdout",
     "output_type": "stream",
     "text": [
      "Processing sequence: 254000\r\n",
      "Processing sequence: 254100\r\n",
      "Processing sequence: 254200\r\n",
      "Processing sequence: 254300\r\n",
      "Processing sequence: 254400\r\n",
      "Processing sequence: 254500\r\n",
      "Processing sequence: 254600\r\n",
      "Processing sequence: 254700\r\n",
      "Processing sequence: 254800\r\n",
      "Processing sequence: 254900\r\n",
      "Processing sequence: 255000\r\n",
      "Processing sequence: 255100\r\n",
      "Processing sequence: 255200\r\n",
      "Processing sequence: 255300\r\n",
      "Processing sequence: 255400\r\n",
      "Processing sequence: 255500\r\n",
      "Processing sequence: 255600\r\n",
      "Processing sequence: 255700\r\n",
      "Processing sequence: 255703\r\n",
      "\r\n",
      "Output File Names: \r\n",
      "pear_merged-fullCyc2_lib6.assembled.dmult_maxee1_noN.unique.filter.good.fasta\r\n",
      "pear_merged-fullCyc2_lib6.assembled.dmult_maxee1_noN.unique.filter.bad.accnos\r\n",
      "pear_merged-fullCyc2_lib6.assembled.dmult_maxee1_noN.good.names\r\n",
      "group_file.good.txt\r\n",
      "\r\n",
      "\r\n",
      "It took 32 secs to screen 2555025 sequences.\r\n",
      "\r\n",
      "mothur > quit()\r\n"
     ]
    }
   ],
   "source": [
    "cmd = \"\"\"mothur '#screen.seqs(fasta={},\\\n",
    "    processors={},\\\n",
    "    name={},\\\n",
    "    group={},\\\n",
    "    start={},\\\n",
    "    end={},\\\n",
    "    maxhomop=8)'\"\"\".format(qcFile5, nprocs, nameFile, 'group_file.txt', 227, 979)\n",
    "!$cmd | tail -n 30"
   ]
  },
  {
   "cell_type": "code",
   "execution_count": 26,
   "metadata": {
    "collapsed": false
   },
   "outputs": [
    {
     "name": "stdout",
     "output_type": "stream",
     "text": [
      "Number of sequences post-filter: 2504789\n"
     ]
    }
   ],
   "source": [
    "qcFile6 = os.path.splitext(qcFile5)[0] + '.good.fasta'\n",
    "ret = !grep -c \">\" $qcFile6\n",
    "print ('Number of sequences post-filter: {}'.format(ret[0]))"
   ]
  },
  {
   "cell_type": "code",
   "execution_count": 27,
   "metadata": {
    "collapsed": false
   },
   "outputs": [
    {
     "name": "stdout",
     "output_type": "stream",
     "text": [
      "250200\r\n",
      "250300\r\n",
      "250400\r\n",
      "250500\r\n",
      "250600\r\n",
      "250676\r\n",
      "\r\n",
      "\r\n",
      "\r\n",
      "Length of filtered alignment: 990\r\n",
      "Number of columns removed: 304\r\n",
      "Length of the original alignment: 1294\r\n",
      "Number of sequences used to construct filter: 2504789\r\n",
      "\r\n",
      "Output File Names: \r\n",
      "pear_merged-fullCyc2_lib6.filter\r\n",
      "pear_merged-fullCyc2_lib6.assembled.dmult_maxee1_noN.unique.filter.good.filter.fasta\r\n",
      "\r\n",
      "\r\n",
      "mothur > quit()\r\n"
     ]
    }
   ],
   "source": [
    "qcFile6a = re.sub('-', '\\-', qcFile6)\n",
    "cmd = 'mothur \"#filter.seqs(fasta={}, processors={}, vertical=T)\"'.format(qcFile6a, nprocs)\n",
    "!$cmd | tail -n 20"
   ]
  },
  {
   "cell_type": "code",
   "execution_count": 28,
   "metadata": {
    "collapsed": false
   },
   "outputs": [
    {
     "name": "stdout",
     "output_type": "stream",
     "text": [
      "-rw-rw-r-- 1 sam sam 2.4G May 16 10:07 pear_merged-fullCyc2_lib6.assembled.dmult_maxee1_noN.unique.filter.good.filter.fasta\r\n"
     ]
    }
   ],
   "source": [
    "qcFile7 = os.path.splitext(qcFile6)[0] + '.filter.fasta'\n",
    "!ls -thlc $qcFile7"
   ]
  },
  {
   "cell_type": "markdown",
   "metadata": {},
   "source": [
    "## Deunique seqs"
   ]
  },
  {
   "cell_type": "code",
   "execution_count": 29,
   "metadata": {
    "collapsed": false
   },
   "outputs": [
    {
     "name": "stdout",
     "output_type": "stream",
     "text": [
      "mothur v.1.39.5\r\n",
      "Last updated: 3/20/2017\r\n",
      "\r\n",
      "by\r\n",
      "Patrick D. Schloss\r\n",
      "\r\n",
      "Department of Microbiology & Immunology\r\n",
      "University of Michigan\r\n",
      "http://www.mothur.org\r\n",
      "\r\n",
      "When using, please cite:\r\n",
      "Schloss, P.D., et al., Introducing mothur: Open-source, platform-independent, community-supported software for describing and comparing microbial communities. Appl Environ Microbiol, 2009. 75(23):7537-41.\r\n",
      "\r\n",
      "Distributed under the GNU General Public License\r\n",
      "\r\n",
      "Type 'help()' for information on the commands that are available\r\n",
      "\r\n",
      "For questions and analysis support, please visit our forum at https://www.mothur.org/forum\r\n",
      "\r\n",
      "Type 'quit()' to exit program\r\n",
      "\r\n",
      "\r\n",
      "\r\n",
      "mothur > deunique.seqs(fasta=pear_merged-fullCyc2_lib6.assembled.dmult_maxee1_noN.unique.filter.good.filter.fasta, name=pear_merged-fullCyc2_lib6.assembled.dmult_maxee1_noN.names)\r\n",
      "\r\n",
      "Output File Names: \r\n",
      "pear_merged-fullCyc2_lib6.assembled.dmult_maxee1_noN.unique.filter.good.filter.redundant.fasta\r\n",
      "\r\n",
      "\r\n",
      "mothur > quit()\r\n"
     ]
    }
   ],
   "source": [
    "cmd = 'mothur \"#deunique.seqs(fasta={}, name={})\"'.format(qcFile7, nameFile)\n",
    "!$cmd | tail -n 30"
   ]
  },
  {
   "cell_type": "markdown",
   "metadata": {},
   "source": [
    "### Final QC-ed file"
   ]
  },
  {
   "cell_type": "code",
   "execution_count": 30,
   "metadata": {
    "collapsed": true
   },
   "outputs": [],
   "source": [
    "qcFile8 = os.path.splitext(qcFile7)[0] + '.redundant.fasta'\n",
    "qcFinal = 'finalQC.fasta'\n",
    "!perl -pe 's/[-.]//g if ! /^>/' $qcFile8 > $qcFinal"
   ]
  },
  {
   "cell_type": "code",
   "execution_count": 31,
   "metadata": {
    "collapsed": false
   },
   "outputs": [
    {
     "name": "stdout",
     "output_type": "stream",
     "text": [
      "\r\n",
      "Using 10 processors.\r\n",
      "\r\n",
      "\t\tStart\tEnd\tNBases\tAmbigs\tPolymer\tNumSeqs\r\n",
      "Minimum:\t1\t218\t218\t0\t3\t1\r\n",
      "2.5%-tile:\t1\t253\t253\t0\t4\t124261\r\n",
      "25%-tile:\t1\t253\t253\t0\t4\t1242602\r\n",
      "Median: \t1\t253\t253\t0\t5\t2485203\r\n",
      "75%-tile:\t1\t253\t253\t0\t6\t3727804\r\n",
      "97.5%-tile:\t1\t254\t254\t0\t8\t4846144\r\n",
      "Maximum:\t1\t367\t367\t0\t8\t4970404\r\n",
      "Mean:\t1\t252.913\t252.913\t0\t5.14657\r\n",
      "# of Seqs:\t4970404\r\n",
      "\r\n",
      "Output File Names: \r\n",
      "finalQC.summary\r\n",
      "\r\n",
      "It took 6 secs to summarize 4970404 sequences.\r\n",
      "\r\n",
      "mothur > quit()\r\n"
     ]
    }
   ],
   "source": [
    "cmd = 'mothur \"#summary.seqs(fasta={}, processors={})\"'.format(qcFinal, nprocs)\n",
    "!$cmd | tail -n 20"
   ]
  },
  {
   "cell_type": "code",
   "execution_count": 32,
   "metadata": {
    "collapsed": false
   },
   "outputs": [
    {
     "name": "stdout",
     "output_type": "stream",
     "text": [
      ">MR.A.13C-Xyl.D3.R2_Frac19_0\r\n",
      "TACAGAGGGCTCAAGCGTTGTTCGGATTCATTGGGCGTAAAGGGTGCGTAGGCGGCGCGGTAAGTCGGGTGTGAAATCTCGGGGCTTAACTCCGAAACTGCATTCGATACTGCCGTGCTTGAGGACTGGAGAGGAGACTGGAATTTACGGTGTAGCGGTGAAATGCGTAGATATCGTAAGGAAGACCAGTGGCGAAGGCGGGTCTCTGGACAGTTCCTGACGCTGAGGCACGAAGGTCAGGGGAGCAAACGGG\r\n",
      ">MR.A.13C-Van.D14.R2_Frac18_40335\r\n",
      "TACAGAGGGCTCAAGCGTTGTTCGGATTCATTGGGCGTAAAGGGTGCGTAGGCGGCGCGGTAAGTCGGGTGTGAAATCTCGGGGCTTAACTCCGAAACTGCATTCGATACTGCCGTGCTTGAGGACTGGAGAGGAGACTGGAATTTACGGTGTAGCGGTGAAATGCGTAGATATCGTAAGGAAGACCAGTGGCGAAGGCGGGTCTCTGGACAGTTCCTGACGCTGAGGCACGAAGGTCAGGGGAGCAAACGGG\r\n",
      ">MR.A.13C-Van.D14.R2_Frac4_70171\r\n",
      "TACAGAGGGCTCAAGCGTTGTTCGGATTCATTGGGCGTAAAGGGTGCGTAGGCGGCGCGGTAAGTCGGGTGTGAAATCTCGGGGCTTAACTCCGAAACTGCATTCGATACTGCCGTGCTTGAGGACTGGAGAGGAGACTGGAATTTACGGTGTAGCGGTGAAATGCGTAGATATCGTAAGGAAGACCAGTGGCGAAGGCGGGTCTCTGGACAGTTCCTGACGCTGAGGCACGAAGGTCAGGGGAGCAAACGGG\r\n"
     ]
    }
   ],
   "source": [
    "!head -n 6 $qcFinal"
   ]
  },
  {
   "cell_type": "markdown",
   "metadata": {},
   "source": [
    "## Summary of number of seqs per sample"
   ]
  },
  {
   "cell_type": "code",
   "execution_count": 33,
   "metadata": {
    "collapsed": true
   },
   "outputs": [],
   "source": [
    "re1 = re.compile('_[0-9]+$')\n",
    "\n",
    "qcFinalSum = os.path.splitext(qcFinal)[0] + '.summary'\n",
    "\n",
    "samp_count = dict()\n",
    "with open(qcFinalSum, 'r') as inFH:\n",
    "    for line in inFH:\n",
    "        if line.startswith('seqname'):\n",
    "            continue\n",
    "        line = line.rstrip().split('\\t')\n",
    "        line[0] = re.sub(re1, '', line[0])\n",
    "        try:\n",
    "            samp_count[line[0]] += 1\n",
    "        except KeyError:\n",
    "            samp_count[line[0]] = 1"
   ]
  },
  {
   "cell_type": "code",
   "execution_count": 34,
   "metadata": {
    "collapsed": false
   },
   "outputs": [
    {
     "data": {
      "text/html": [
       "<div>\n",
       "<style scoped>\n",
       "    .dataframe tbody tr th:only-of-type {\n",
       "        vertical-align: middle;\n",
       "    }\n",
       "\n",
       "    .dataframe tbody tr th {\n",
       "        vertical-align: top;\n",
       "    }\n",
       "\n",
       "    .dataframe thead th {\n",
       "        text-align: right;\n",
       "    }\n",
       "</style>\n",
       "<table border=\"1\" class=\"dataframe\">\n",
       "  <thead>\n",
       "    <tr style=\"text-align: right;\">\n",
       "      <th></th>\n",
       "      <th>Sample</th>\n",
       "      <th>seq_count</th>\n",
       "    </tr>\n",
       "  </thead>\n",
       "  <tbody>\n",
       "    <tr>\n",
       "      <th>0</th>\n",
       "      <td>MR.A.13C-Xyl.D3.R2_Frac19</td>\n",
       "      <td>35507</td>\n",
       "    </tr>\n",
       "    <tr>\n",
       "      <th>1</th>\n",
       "      <td>MR.A.13C-Van.D14.R2_Frac18</td>\n",
       "      <td>22055</td>\n",
       "    </tr>\n",
       "    <tr>\n",
       "      <th>2</th>\n",
       "      <td>MR.A.13C-Van.D14.R2_Frac4</td>\n",
       "      <td>31830</td>\n",
       "    </tr>\n",
       "    <tr>\n",
       "      <th>3</th>\n",
       "      <td>MR.A.13C-Xyl.D3.R2_Frac7</td>\n",
       "      <td>34587</td>\n",
       "    </tr>\n",
       "    <tr>\n",
       "      <th>4</th>\n",
       "      <td>MR.F.13C-Pal.D14.R1_Frac22</td>\n",
       "      <td>36261</td>\n",
       "    </tr>\n",
       "    <tr>\n",
       "      <th>5</th>\n",
       "      <td>MR.F.13C-Xyl.D1.R2_Frac20</td>\n",
       "      <td>28290</td>\n",
       "    </tr>\n",
       "    <tr>\n",
       "      <th>6</th>\n",
       "      <td>MR.M.13C-Pal.D14.R2_Frac20</td>\n",
       "      <td>16762</td>\n",
       "    </tr>\n",
       "    <tr>\n",
       "      <th>7</th>\n",
       "      <td>MR.A.13C-Ami.D6.R1_Frac20</td>\n",
       "      <td>23479</td>\n",
       "    </tr>\n",
       "    <tr>\n",
       "      <th>8</th>\n",
       "      <td>MR.A.13C-Van.D14.R2_Frac20</td>\n",
       "      <td>23612</td>\n",
       "    </tr>\n",
       "    <tr>\n",
       "      <th>9</th>\n",
       "      <td>MR.F.13C-Ami.D14.R1_Frac5</td>\n",
       "      <td>25898</td>\n",
       "    </tr>\n",
       "    <tr>\n",
       "      <th>10</th>\n",
       "      <td>MR.A.13C-Ami.D6.R1_Frac22</td>\n",
       "      <td>21089</td>\n",
       "    </tr>\n",
       "    <tr>\n",
       "      <th>11</th>\n",
       "      <td>MR.F.13C-Pal.D14.R1_Frac23</td>\n",
       "      <td>16870</td>\n",
       "    </tr>\n",
       "    <tr>\n",
       "      <th>12</th>\n",
       "      <td>MR.F.13C-Pal.D14.R1_Frac21</td>\n",
       "      <td>47003</td>\n",
       "    </tr>\n",
       "    <tr>\n",
       "      <th>13</th>\n",
       "      <td>MR.F.13C-Ami.D14.R1_Frac6</td>\n",
       "      <td>28882</td>\n",
       "    </tr>\n",
       "    <tr>\n",
       "      <th>14</th>\n",
       "      <td>MR.F.13C-Pal.D14.R1_Frac25</td>\n",
       "      <td>30700</td>\n",
       "    </tr>\n",
       "    <tr>\n",
       "      <th>15</th>\n",
       "      <td>MR.A.13C-Van.D14.R2_Frac2</td>\n",
       "      <td>40869</td>\n",
       "    </tr>\n",
       "    <tr>\n",
       "      <th>16</th>\n",
       "      <td>MR.F.13C-Pal.D14.R1_Frac27</td>\n",
       "      <td>37601</td>\n",
       "    </tr>\n",
       "    <tr>\n",
       "      <th>17</th>\n",
       "      <td>MR.F.13C-Ami.D14.R1_Frac12</td>\n",
       "      <td>23464</td>\n",
       "    </tr>\n",
       "    <tr>\n",
       "      <th>18</th>\n",
       "      <td>MR.A.13C-Van.D14.R2_Frac25</td>\n",
       "      <td>40778</td>\n",
       "    </tr>\n",
       "    <tr>\n",
       "      <th>19</th>\n",
       "      <td>MR.M.13C-Pal.D30.R1_Frac20</td>\n",
       "      <td>21318</td>\n",
       "    </tr>\n",
       "    <tr>\n",
       "      <th>20</th>\n",
       "      <td>MR.F.13C-Xyl.D1.R2_Frac22</td>\n",
       "      <td>18717</td>\n",
       "    </tr>\n",
       "    <tr>\n",
       "      <th>21</th>\n",
       "      <td>MR.M.13C-Pal.D30.R1_Frac12</td>\n",
       "      <td>18123</td>\n",
       "    </tr>\n",
       "    <tr>\n",
       "      <th>22</th>\n",
       "      <td>MR.F.13C-Ami.D14.R1_Frac19</td>\n",
       "      <td>20073</td>\n",
       "    </tr>\n",
       "    <tr>\n",
       "      <th>23</th>\n",
       "      <td>MR.F.13C-Pal.D14.R1_Frac24</td>\n",
       "      <td>23642</td>\n",
       "    </tr>\n",
       "    <tr>\n",
       "      <th>24</th>\n",
       "      <td>MR.A.13C-Van.D14.R2_Frac26</td>\n",
       "      <td>25248</td>\n",
       "    </tr>\n",
       "    <tr>\n",
       "      <th>25</th>\n",
       "      <td>MR.F.13C-Xyl.D1.R2_Frac12</td>\n",
       "      <td>31693</td>\n",
       "    </tr>\n",
       "    <tr>\n",
       "      <th>26</th>\n",
       "      <td>MR.M.13C-Pal.D14.R2_Frac16</td>\n",
       "      <td>58052</td>\n",
       "    </tr>\n",
       "    <tr>\n",
       "      <th>27</th>\n",
       "      <td>MR.F.13C-Xyl.D1.R2_Frac26</td>\n",
       "      <td>24346</td>\n",
       "    </tr>\n",
       "    <tr>\n",
       "      <th>28</th>\n",
       "      <td>MR.A.13C-Van.D14.R2_Frac6</td>\n",
       "      <td>35926</td>\n",
       "    </tr>\n",
       "    <tr>\n",
       "      <th>29</th>\n",
       "      <td>MR.F.13C-Xyl.D1.R2_Frac27</td>\n",
       "      <td>26190</td>\n",
       "    </tr>\n",
       "    <tr>\n",
       "      <th>...</th>\n",
       "      <td>...</td>\n",
       "      <td>...</td>\n",
       "    </tr>\n",
       "    <tr>\n",
       "      <th>159</th>\n",
       "      <td>MR.M.13C-Pal.D14.R2_Frac25</td>\n",
       "      <td>22023</td>\n",
       "    </tr>\n",
       "    <tr>\n",
       "      <th>160</th>\n",
       "      <td>MR.M.13C-Pal.D14.R2_Frac7</td>\n",
       "      <td>22554</td>\n",
       "    </tr>\n",
       "    <tr>\n",
       "      <th>161</th>\n",
       "      <td>MR.M.13C-Pal.D14.R2_Frac15</td>\n",
       "      <td>28214</td>\n",
       "    </tr>\n",
       "    <tr>\n",
       "      <th>162</th>\n",
       "      <td>MR.M.13C-Pal.D14.R2_Frac21</td>\n",
       "      <td>16802</td>\n",
       "    </tr>\n",
       "    <tr>\n",
       "      <th>163</th>\n",
       "      <td>MR.M.13C-Pal.D14.R2_Frac11</td>\n",
       "      <td>4794</td>\n",
       "    </tr>\n",
       "    <tr>\n",
       "      <th>164</th>\n",
       "      <td>MR.F.13C-Ami.D14.R1_Frac26</td>\n",
       "      <td>14982</td>\n",
       "    </tr>\n",
       "    <tr>\n",
       "      <th>165</th>\n",
       "      <td>MR.F.13C-Ami.D14.R1_Frac21</td>\n",
       "      <td>16922</td>\n",
       "    </tr>\n",
       "    <tr>\n",
       "      <th>166</th>\n",
       "      <td>MR.M.13C-Pal.D30.R1_Frac13</td>\n",
       "      <td>23406</td>\n",
       "    </tr>\n",
       "    <tr>\n",
       "      <th>167</th>\n",
       "      <td>MR.M.13C-Pal.D30.R1_Frac27</td>\n",
       "      <td>28118</td>\n",
       "    </tr>\n",
       "    <tr>\n",
       "      <th>168</th>\n",
       "      <td>MR.M.13C-Pal.D14.R2_Frac17</td>\n",
       "      <td>29820</td>\n",
       "    </tr>\n",
       "    <tr>\n",
       "      <th>169</th>\n",
       "      <td>MR.M.13C-Pal.D30.R1_Frac25</td>\n",
       "      <td>14431</td>\n",
       "    </tr>\n",
       "    <tr>\n",
       "      <th>170</th>\n",
       "      <td>MR.M.13C-Pal.D30.R1_Frac24</td>\n",
       "      <td>15282</td>\n",
       "    </tr>\n",
       "    <tr>\n",
       "      <th>171</th>\n",
       "      <td>MR.M.13C-Pal.D30.R1_Frac8</td>\n",
       "      <td>21689</td>\n",
       "    </tr>\n",
       "    <tr>\n",
       "      <th>172</th>\n",
       "      <td>MR.M.13C-Pal.D14.R2_Frac19</td>\n",
       "      <td>23822</td>\n",
       "    </tr>\n",
       "    <tr>\n",
       "      <th>173</th>\n",
       "      <td>MR.M.13C-Pal.D14.R2_Frac24</td>\n",
       "      <td>26942</td>\n",
       "    </tr>\n",
       "    <tr>\n",
       "      <th>174</th>\n",
       "      <td>MR.M.13C-Pal.D30.R1_Frac23</td>\n",
       "      <td>20157</td>\n",
       "    </tr>\n",
       "    <tr>\n",
       "      <th>175</th>\n",
       "      <td>MR.M.13C-Pal.D30.R1_Frac28</td>\n",
       "      <td>25230</td>\n",
       "    </tr>\n",
       "    <tr>\n",
       "      <th>176</th>\n",
       "      <td>MR.M.13C-Pal.D14.R2_Frac23</td>\n",
       "      <td>19823</td>\n",
       "    </tr>\n",
       "    <tr>\n",
       "      <th>177</th>\n",
       "      <td>MR.M.13C-Pal.D30.R1_Frac16</td>\n",
       "      <td>23085</td>\n",
       "    </tr>\n",
       "    <tr>\n",
       "      <th>178</th>\n",
       "      <td>MR.M.13C-Pal.D14.R2_Frac5</td>\n",
       "      <td>20699</td>\n",
       "    </tr>\n",
       "    <tr>\n",
       "      <th>179</th>\n",
       "      <td>MR.A.13C-Ami.D6.R1_NC</td>\n",
       "      <td>690</td>\n",
       "    </tr>\n",
       "    <tr>\n",
       "      <th>180</th>\n",
       "      <td>MR.A.13C-Xyl.D3.R2_NC</td>\n",
       "      <td>439</td>\n",
       "    </tr>\n",
       "    <tr>\n",
       "      <th>181</th>\n",
       "      <td>MR.M.13C-Pal.D14.R2_NC</td>\n",
       "      <td>764</td>\n",
       "    </tr>\n",
       "    <tr>\n",
       "      <th>182</th>\n",
       "      <td>MR.F.13C-Pal.D14.R1_NC</td>\n",
       "      <td>1681</td>\n",
       "    </tr>\n",
       "    <tr>\n",
       "      <th>183</th>\n",
       "      <td>MR.M.13C-Pal.D14.R2_MC</td>\n",
       "      <td>22922</td>\n",
       "    </tr>\n",
       "    <tr>\n",
       "      <th>184</th>\n",
       "      <td>MR.M.13C-Pal.D30.R1_NC</td>\n",
       "      <td>2693</td>\n",
       "    </tr>\n",
       "    <tr>\n",
       "      <th>185</th>\n",
       "      <td>MR.A.13C-Van.D30.R3_NC</td>\n",
       "      <td>2124</td>\n",
       "    </tr>\n",
       "    <tr>\n",
       "      <th>186</th>\n",
       "      <td>MR.A.13C-Van.D14.R2_NC</td>\n",
       "      <td>514</td>\n",
       "    </tr>\n",
       "    <tr>\n",
       "      <th>187</th>\n",
       "      <td>MR.F.13C-Xyl.D1.R2_NC</td>\n",
       "      <td>909</td>\n",
       "    </tr>\n",
       "    <tr>\n",
       "      <th>188</th>\n",
       "      <td>MR.F.13C-Ami.D14.R1_NC</td>\n",
       "      <td>723</td>\n",
       "    </tr>\n",
       "  </tbody>\n",
       "</table>\n",
       "<p>189 rows × 2 columns</p>\n",
       "</div>"
      ],
      "text/plain": [
       "                         Sample  seq_count\n",
       "0     MR.A.13C-Xyl.D3.R2_Frac19      35507\n",
       "1    MR.A.13C-Van.D14.R2_Frac18      22055\n",
       "2     MR.A.13C-Van.D14.R2_Frac4      31830\n",
       "3      MR.A.13C-Xyl.D3.R2_Frac7      34587\n",
       "4    MR.F.13C-Pal.D14.R1_Frac22      36261\n",
       "5     MR.F.13C-Xyl.D1.R2_Frac20      28290\n",
       "6    MR.M.13C-Pal.D14.R2_Frac20      16762\n",
       "7     MR.A.13C-Ami.D6.R1_Frac20      23479\n",
       "8    MR.A.13C-Van.D14.R2_Frac20      23612\n",
       "9     MR.F.13C-Ami.D14.R1_Frac5      25898\n",
       "10    MR.A.13C-Ami.D6.R1_Frac22      21089\n",
       "11   MR.F.13C-Pal.D14.R1_Frac23      16870\n",
       "12   MR.F.13C-Pal.D14.R1_Frac21      47003\n",
       "13    MR.F.13C-Ami.D14.R1_Frac6      28882\n",
       "14   MR.F.13C-Pal.D14.R1_Frac25      30700\n",
       "15    MR.A.13C-Van.D14.R2_Frac2      40869\n",
       "16   MR.F.13C-Pal.D14.R1_Frac27      37601\n",
       "17   MR.F.13C-Ami.D14.R1_Frac12      23464\n",
       "18   MR.A.13C-Van.D14.R2_Frac25      40778\n",
       "19   MR.M.13C-Pal.D30.R1_Frac20      21318\n",
       "20    MR.F.13C-Xyl.D1.R2_Frac22      18717\n",
       "21   MR.M.13C-Pal.D30.R1_Frac12      18123\n",
       "22   MR.F.13C-Ami.D14.R1_Frac19      20073\n",
       "23   MR.F.13C-Pal.D14.R1_Frac24      23642\n",
       "24   MR.A.13C-Van.D14.R2_Frac26      25248\n",
       "25    MR.F.13C-Xyl.D1.R2_Frac12      31693\n",
       "26   MR.M.13C-Pal.D14.R2_Frac16      58052\n",
       "27    MR.F.13C-Xyl.D1.R2_Frac26      24346\n",
       "28    MR.A.13C-Van.D14.R2_Frac6      35926\n",
       "29    MR.F.13C-Xyl.D1.R2_Frac27      26190\n",
       "..                          ...        ...\n",
       "159  MR.M.13C-Pal.D14.R2_Frac25      22023\n",
       "160   MR.M.13C-Pal.D14.R2_Frac7      22554\n",
       "161  MR.M.13C-Pal.D14.R2_Frac15      28214\n",
       "162  MR.M.13C-Pal.D14.R2_Frac21      16802\n",
       "163  MR.M.13C-Pal.D14.R2_Frac11       4794\n",
       "164  MR.F.13C-Ami.D14.R1_Frac26      14982\n",
       "165  MR.F.13C-Ami.D14.R1_Frac21      16922\n",
       "166  MR.M.13C-Pal.D30.R1_Frac13      23406\n",
       "167  MR.M.13C-Pal.D30.R1_Frac27      28118\n",
       "168  MR.M.13C-Pal.D14.R2_Frac17      29820\n",
       "169  MR.M.13C-Pal.D30.R1_Frac25      14431\n",
       "170  MR.M.13C-Pal.D30.R1_Frac24      15282\n",
       "171   MR.M.13C-Pal.D30.R1_Frac8      21689\n",
       "172  MR.M.13C-Pal.D14.R2_Frac19      23822\n",
       "173  MR.M.13C-Pal.D14.R2_Frac24      26942\n",
       "174  MR.M.13C-Pal.D30.R1_Frac23      20157\n",
       "175  MR.M.13C-Pal.D30.R1_Frac28      25230\n",
       "176  MR.M.13C-Pal.D14.R2_Frac23      19823\n",
       "177  MR.M.13C-Pal.D30.R1_Frac16      23085\n",
       "178   MR.M.13C-Pal.D14.R2_Frac5      20699\n",
       "179       MR.A.13C-Ami.D6.R1_NC        690\n",
       "180       MR.A.13C-Xyl.D3.R2_NC        439\n",
       "181      MR.M.13C-Pal.D14.R2_NC        764\n",
       "182      MR.F.13C-Pal.D14.R1_NC       1681\n",
       "183      MR.M.13C-Pal.D14.R2_MC      22922\n",
       "184      MR.M.13C-Pal.D30.R1_NC       2693\n",
       "185      MR.A.13C-Van.D30.R3_NC       2124\n",
       "186      MR.A.13C-Van.D14.R2_NC        514\n",
       "187       MR.F.13C-Xyl.D1.R2_NC        909\n",
       "188      MR.F.13C-Ami.D14.R1_NC        723\n",
       "\n",
       "[189 rows x 2 columns]"
      ]
     },
     "execution_count": 34,
     "metadata": {},
     "output_type": "execute_result"
    }
   ],
   "source": [
    "# converting to dataframe\n",
    "df_seq_cnt = pd.DataFrame.from_dict(samp_count, orient='index')\n",
    "df_seq_cnt.index.name = 'Sample'\n",
    "df_seq_cnt.reset_index(inplace=True)\n",
    "df_seq_cnt.columns = ['Sample', 'seq_count']\n",
    "df_seq_cnt"
   ]
  },
  {
   "cell_type": "code",
   "execution_count": 35,
   "metadata": {
    "collapsed": false
   },
   "outputs": [
    {
     "data": {
      "image/png": "[encoded data removed]"
     },
     "metadata": {},
     "output_type": "display_data"
    }
   ],
   "source": [
    "%%R -i df_seq_cnt -w 800 -h 350\n",
    "# plotting all\n",
    "\n",
    "df_seq_cnt$seq_count = as.numeric(df_seq_cnt$seq_count)\n",
    "\n",
    "\n",
    "df_seq_cnt = df_seq_cnt %>% \n",
    "    #mutate(H2O = grepl('_F0$', Sample)) %>%\n",
    "    mutate(rank = min_rank(seq_count)) %>%\n",
    "    arrange(desc(rank))\n",
    "\n",
    "df_seq_cnt$Sample = factor(df_seq_cnt$Sample, levels=df_seq_cnt$Sample)\n",
    "\n",
    "ggplot(df_seq_cnt, aes(Sample, seq_count)) +\n",
    "    geom_bar(stat='identity') +\n",
    "    theme_bw() +\n",
    "    theme(\n",
    "        text = element_text(size=16),\n",
    "        axis.text.x = element_text(angle=45, hjust=1)\n",
    "    )"
   ]
  },
  {
   "cell_type": "code",
   "execution_count": 37,
   "metadata": {
    "collapsed": false
   },
   "outputs": [
    {
     "data": {
      "text/plain": [
       "                        Sample seq_count rank\n",
       "180 MR.M.13C-Pal.D14.R2_Frac11      4794   10\n",
       "181     MR.M.13C-Pal.D30.R1_NC      2693    9\n",
       "182     MR.A.13C-Van.D30.R3_NC      2124    8\n",
       "183     MR.F.13C-Pal.D14.R1_NC      1681    7\n",
       "184      MR.F.13C-Xyl.D1.R2_NC       909    6\n",
       "185     MR.M.13C-Pal.D14.R2_NC       764    5\n",
       "186     MR.F.13C-Ami.D14.R1_NC       723    4\n",
       "187      MR.A.13C-Ami.D6.R1_NC       690    3\n",
       "188     MR.A.13C-Van.D14.R2_NC       514    2\n",
       "189      MR.A.13C-Xyl.D3.R2_NC       439    1\n"
      ]
     },
     "metadata": {},
     "output_type": "display_data"
    }
   ],
   "source": [
    "%%R\n",
    "df_seq_cnt[df_seq_cnt$seq_count < 5000,]"
   ]
  },
  {
   "cell_type": "code",
   "execution_count": null,
   "metadata": {
    "collapsed": true
   },
   "outputs": [],
   "source": []
  },
  {
   "cell_type": "code",
   "execution_count": null,
   "metadata": {
    "collapsed": true
   },
   "outputs": [],
   "source": []
  }
 ],
 "metadata": {
  "anaconda-cloud": {},
  "hide_input": true,
  "kernelspec": {
   "display_name": "Python 3",
   "language": "python",
   "name": "python3"
  },
  "language_info": {
   "codemirror_mode": {
    "name": "ipython",
    "version": 3
   },
   "file_extension": ".py",
   "mimetype": "text/x-python",
   "name": "python",
   "nbconvert_exporter": "python",
   "pygments_lexer": "ipython3",
   "version": "3.6.4"
  },
  "notify_time": "5"
 },
 "nbformat": 4,
 "nbformat_minor": 1
}
